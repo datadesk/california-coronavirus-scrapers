{
 "cells": [
  {
   "cell_type": "markdown",
   "id": "surprised-consequence",
   "metadata": {},
   "source": [
    "# vaccine-doses-on-hand\n",
    "\n",
    "By [Sean Greene](https://www.latimes.com/people/sean-greene)\n",
    "\n",
    "Downloads the number of vaccine doses on hand from a Tableau dashboard published by the California Department of Public Health."
   ]
  },
  {
   "cell_type": "markdown",
   "id": "attached-constraint",
   "metadata": {},
   "source": [
    "## Import"
   ]
  },
  {
   "cell_type": "markdown",
   "id": "sweet-plaintiff",
   "metadata": {},
   "source": [
    "Code formatting with [black](https://pypi.org/project/nb-black/)."
   ]
  },
  {
   "cell_type": "code",
   "execution_count": 1,
   "id": "chubby-margin",
   "metadata": {},
   "outputs": [],
   "source": [
    "%load_ext lab_black"
   ]
  },
  {
   "cell_type": "markdown",
   "id": "supreme-treasure",
   "metadata": {},
   "source": [
    "Import dependencies."
   ]
  },
  {
   "cell_type": "code",
   "execution_count": 2,
   "id": "defined-merit",
   "metadata": {},
   "outputs": [],
   "source": [
    "import os\n",
    "import pytz\n",
    "from datetime import datetime"
   ]
  },
  {
   "cell_type": "code",
   "execution_count": 3,
   "id": "bottom-petroleum",
   "metadata": {},
   "outputs": [],
   "source": [
    "from tableauscraper import TableauScraper as TS"
   ]
  },
  {
   "cell_type": "markdown",
   "id": "gorgeous-bolivia",
   "metadata": {},
   "source": [
    "## Scrape"
   ]
  },
  {
   "cell_type": "markdown",
   "id": "recent-words",
   "metadata": {},
   "source": [
    "Set the URL"
   ]
  },
  {
   "cell_type": "code",
   "execution_count": 4,
   "id": "characteristic-blair",
   "metadata": {},
   "outputs": [],
   "source": [
    "host = \"https://public.tableau.com\""
   ]
  },
  {
   "cell_type": "code",
   "execution_count": 5,
   "id": "optional-cameroon",
   "metadata": {},
   "outputs": [],
   "source": [
    "path = \"/views/COVID-19VaccineProviderDashboardPublic/PublicVaccineProviderDashboard\""
   ]
  },
  {
   "cell_type": "code",
   "execution_count": 6,
   "id": "pretty-record",
   "metadata": {},
   "outputs": [],
   "source": [
    "url = f\"{host}{path}\""
   ]
  },
  {
   "cell_type": "code",
   "execution_count": 7,
   "id": "intermediate-likelihood",
   "metadata": {},
   "outputs": [],
   "source": [
    "ts = TS()\n",
    "ts.loads(url)"
   ]
  },
  {
   "cell_type": "code",
   "execution_count": 8,
   "id": "wanted-preference",
   "metadata": {},
   "outputs": [],
   "source": [
    "dashboard = ts.getWorkbook()"
   ]
  },
  {
   "cell_type": "code",
   "execution_count": 9,
   "id": "starting-agriculture",
   "metadata": {},
   "outputs": [],
   "source": [
    "target = \"Main Vaccine Data Check (6)\""
   ]
  },
  {
   "cell_type": "code",
   "execution_count": 10,
   "id": "complete-shock",
   "metadata": {},
   "outputs": [],
   "source": [
    "sheet = next(w for w in dashboard.worksheets if w.name == target)"
   ]
  },
  {
   "cell_type": "code",
   "execution_count": 11,
   "id": "postal-glenn",
   "metadata": {},
   "outputs": [],
   "source": [
    "df = sheet.data"
   ]
  },
  {
   "cell_type": "markdown",
   "id": "prospective-creek",
   "metadata": {},
   "source": [
    "## Export"
   ]
  },
  {
   "cell_type": "markdown",
   "id": "resident-bangladesh",
   "metadata": {},
   "source": [
    "Save out the data as a CSV that's datestamped to California time."
   ]
  },
  {
   "cell_type": "code",
   "execution_count": 12,
   "id": "interstate-participant",
   "metadata": {},
   "outputs": [],
   "source": [
    "tz = pytz.timezone(\"America/Los_Angeles\")"
   ]
  },
  {
   "cell_type": "code",
   "execution_count": 13,
   "id": "green-corrections",
   "metadata": {},
   "outputs": [],
   "source": [
    "today = datetime.now(tz).date()"
   ]
  },
  {
   "cell_type": "code",
   "execution_count": 14,
   "id": "quality-enemy",
   "metadata": {},
   "outputs": [],
   "source": [
    "data_dir = os.path.join(os.path.abspath(\"\"), \"data\")"
   ]
  },
  {
   "cell_type": "code",
   "execution_count": 15,
   "id": "formal-malpractice",
   "metadata": {},
   "outputs": [],
   "source": [
    "df.to_csv(os.path.join(data_dir, f\"{today}.csv\"), index=False)"
   ]
  }
 ],
 "metadata": {
  "kernelspec": {
   "display_name": "Python 3",
   "language": "python",
   "name": "python3"
  },
  "language_info": {
   "codemirror_mode": {
    "name": "ipython",
    "version": 3
   },
   "file_extension": ".py",
   "mimetype": "text/x-python",
   "name": "python",
   "nbconvert_exporter": "python",
   "pygments_lexer": "ipython3",
   "version": "3.8.2"
  }
 },
 "nbformat": 4,
 "nbformat_minor": 5
}
