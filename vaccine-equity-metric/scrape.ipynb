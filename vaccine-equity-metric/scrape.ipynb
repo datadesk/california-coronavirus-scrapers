{
 "cells": [
  {
   "cell_type": "markdown",
   "id": "engaged-security",
   "metadata": {},
   "source": [
    "# vaccine-equity-metric\n",
    "\n",
    "By [Sean Greene](https://www.latimes.com/people/sean-greene)\n",
    "\n",
    "Downloads the number of vaccine doses administered by HPI quartile from a Tableau dashboard published by the California Department of Public Health."
   ]
  },
  {
   "cell_type": "markdown",
   "id": "related-liquid",
   "metadata": {},
   "source": [
    "## Import"
   ]
  },
  {
   "cell_type": "markdown",
   "id": "composite-lighter",
   "metadata": {},
   "source": [
    "Code formatting with [black](https://pypi.org/project/nb-black/)."
   ]
  },
  {
   "cell_type": "code",
   "execution_count": 61,
   "id": "obvious-attack",
   "metadata": {},
   "outputs": [
    {
     "name": "stdout",
     "output_type": "stream",
     "text": [
      "The lab_black extension is already loaded. To reload it, use:\n",
      "  %reload_ext lab_black\n"
     ]
    }
   ],
   "source": [
    "%load_ext lab_black"
   ]
  },
  {
   "cell_type": "markdown",
   "id": "configured-secret",
   "metadata": {},
   "source": [
    "Import dependencies."
   ]
  },
  {
   "cell_type": "code",
   "execution_count": 62,
   "id": "electronic-childhood",
   "metadata": {},
   "outputs": [],
   "source": [
    "import os\n",
    "import pytz\n",
    "from datetime import datetime\n",
    "import pandas as pd"
   ]
  },
  {
   "cell_type": "code",
   "execution_count": 63,
   "id": "attached-description",
   "metadata": {},
   "outputs": [],
   "source": [
    "from tableauscraper import TableauScraper as TS"
   ]
  },
  {
   "cell_type": "markdown",
   "id": "young-senegal",
   "metadata": {},
   "source": [
    "## Scrape"
   ]
  },
  {
   "cell_type": "markdown",
   "id": "signal-idaho",
   "metadata": {},
   "source": [
    "Set the URL"
   ]
  },
  {
   "cell_type": "code",
   "execution_count": 64,
   "id": "comparable-margin",
   "metadata": {},
   "outputs": [],
   "source": [
    "host = \"https://public.tableau.com\""
   ]
  },
  {
   "cell_type": "code",
   "execution_count": 65,
   "id": "cross-auckland",
   "metadata": {},
   "outputs": [],
   "source": [
    "path = (\n",
    "    \"/views/COVID-19VaccineEquityMetricQuartileDashboard/VaccineEquityMetricDashboard\"\n",
    ")"
   ]
  },
  {
   "cell_type": "code",
   "execution_count": 66,
   "id": "frozen-ceremony",
   "metadata": {},
   "outputs": [],
   "source": [
    "url = f\"{host}{path}\""
   ]
  },
  {
   "cell_type": "code",
   "execution_count": 67,
   "id": "occasional-pierre",
   "metadata": {},
   "outputs": [],
   "source": [
    "ts = TS()\n",
    "ts.loads(url)"
   ]
  },
  {
   "cell_type": "code",
   "execution_count": 68,
   "id": "urban-mandate",
   "metadata": {},
   "outputs": [],
   "source": [
    "dashboard = ts.getWorkbook()"
   ]
  },
  {
   "cell_type": "markdown",
   "id": "numeric-surname",
   "metadata": {},
   "source": [
    "Check the parameters of the dropdown menu. It should be `Partially Vaccinated` and `Fully Vaccinated`"
   ]
  },
  {
   "cell_type": "code",
   "execution_count": 69,
   "id": "excessive-correlation",
   "metadata": {},
   "outputs": [],
   "source": [
    "parameters = dashboard.getParameters()"
   ]
  },
  {
   "cell_type": "code",
   "execution_count": 70,
   "id": "recorded-registration",
   "metadata": {},
   "outputs": [
    {
     "data": {
      "text/plain": [
       "['Partially Vaccinated', 'Fully Vaccinated']"
      ]
     },
     "execution_count": 70,
     "metadata": {},
     "output_type": "execute_result"
    }
   ],
   "source": [
    "parameters[0][\"values\"]"
   ]
  },
  {
   "cell_type": "code",
   "execution_count": 71,
   "id": "historical-quality",
   "metadata": {},
   "outputs": [],
   "source": [
    "assert len(parameters[0][\"values\"]) == 2"
   ]
  },
  {
   "cell_type": "markdown",
   "id": "addressed-rhythm",
   "metadata": {},
   "source": [
    "Store each one in a dataframe"
   ]
  },
  {
   "cell_type": "code",
   "execution_count": 72,
   "id": "handy-french",
   "metadata": {},
   "outputs": [],
   "source": [
    "partially_vaccinated_workbook = dashboard.setParameter(\n",
    "    \"Partially Vaccinated, Fully Vaccinated\", \"Partially Vaccinated\"\n",
    ")"
   ]
  },
  {
   "cell_type": "code",
   "execution_count": 73,
   "id": "pursuant-zoning",
   "metadata": {},
   "outputs": [],
   "source": [
    "for t in partially_vaccinated_workbook.worksheets:\n",
    "    partial_vax_df = t.data"
   ]
  },
  {
   "cell_type": "code",
   "execution_count": 74,
   "id": "defensive-composition",
   "metadata": {},
   "outputs": [],
   "source": [
    "partial_vax_df = partial_vax_df.rename(\n",
    "    columns={\n",
    "        \"Week Ending-alias\": \"date\",\n",
    "        \"Hpiquartile-alias\": \"hpi_quartile\",\n",
    "        \"SUM(Partially/Fully Combined)-value\": \"pct_partially_vaccinated\",\n",
    "    }\n",
    ")[[\"date\", \"hpi_quartile\", \"pct_partially_vaccinated\"]]"
   ]
  },
  {
   "cell_type": "code",
   "execution_count": 75,
   "id": "robust-tunnel",
   "metadata": {},
   "outputs": [],
   "source": [
    "fully_vaccinated_workbook = dashboard.setParameter(\n",
    "    \"Partially Vaccinated, Fully Vaccinated\", \"Fully Vaccinated\"\n",
    ")"
   ]
  },
  {
   "cell_type": "code",
   "execution_count": 76,
   "id": "retired-chester",
   "metadata": {},
   "outputs": [],
   "source": [
    "for t in fully_vaccinated_workbook.worksheets:\n",
    "    full_vax_df = t.data"
   ]
  },
  {
   "cell_type": "code",
   "execution_count": 77,
   "id": "indonesian-prison",
   "metadata": {},
   "outputs": [],
   "source": [
    "full_vax_df = full_vax_df.rename(\n",
    "    columns={\n",
    "        \"Week Ending-alias\": \"date\",\n",
    "        \"Hpiquartile-alias\": \"hpi_quartile\",\n",
    "        \"SUM(Partially/Fully Combined)-value\": \"pct_fully_vaccinated\",\n",
    "    }\n",
    ")[[\"date\", \"hpi_quartile\", \"pct_fully_vaccinated\"]]"
   ]
  },
  {
   "cell_type": "code",
   "execution_count": 78,
   "id": "handmade-commander",
   "metadata": {},
   "outputs": [],
   "source": [
    "df = pd.merge(partial_vax_df, full_vax_df, how=\"outer\", on=[\"date\", \"hpi_quartile\"])"
   ]
  },
  {
   "cell_type": "code",
   "execution_count": 79,
   "id": "closing-battle",
   "metadata": {},
   "outputs": [
    {
     "data": {
      "text/html": [
       "<div>\n",
       "<style scoped>\n",
       "    .dataframe tbody tr th:only-of-type {\n",
       "        vertical-align: middle;\n",
       "    }\n",
       "\n",
       "    .dataframe tbody tr th {\n",
       "        vertical-align: top;\n",
       "    }\n",
       "\n",
       "    .dataframe thead th {\n",
       "        text-align: right;\n",
       "    }\n",
       "</style>\n",
       "<table border=\"1\" class=\"dataframe\">\n",
       "  <thead>\n",
       "    <tr style=\"text-align: right;\">\n",
       "      <th></th>\n",
       "      <th>date</th>\n",
       "      <th>hpi_quartile</th>\n",
       "      <th>pct_partially_vaccinated</th>\n",
       "      <th>pct_fully_vaccinated</th>\n",
       "    </tr>\n",
       "  </thead>\n",
       "  <tbody>\n",
       "    <tr>\n",
       "      <th>0</th>\n",
       "      <td>1/9/21</td>\n",
       "      <td>4</td>\n",
       "      <td>0.284267</td>\n",
       "      <td>0.355122</td>\n",
       "    </tr>\n",
       "    <tr>\n",
       "      <th>1</th>\n",
       "      <td>1/16/21</td>\n",
       "      <td>4</td>\n",
       "      <td>0.315441</td>\n",
       "      <td>0.343613</td>\n",
       "    </tr>\n",
       "    <tr>\n",
       "      <th>2</th>\n",
       "      <td>1/23/21</td>\n",
       "      <td>4</td>\n",
       "      <td>0.333923</td>\n",
       "      <td>0.320282</td>\n",
       "    </tr>\n",
       "    <tr>\n",
       "      <th>3</th>\n",
       "      <td>1/30/21</td>\n",
       "      <td>4</td>\n",
       "      <td>0.316553</td>\n",
       "      <td>0.305891</td>\n",
       "    </tr>\n",
       "    <tr>\n",
       "      <th>4</th>\n",
       "      <td>2/6/21</td>\n",
       "      <td>4</td>\n",
       "      <td>0.300538</td>\n",
       "      <td>0.285707</td>\n",
       "    </tr>\n",
       "    <tr>\n",
       "      <th>5</th>\n",
       "      <td>2/13/21</td>\n",
       "      <td>4</td>\n",
       "      <td>0.306942</td>\n",
       "      <td>0.337174</td>\n",
       "    </tr>\n",
       "    <tr>\n",
       "      <th>6</th>\n",
       "      <td>2/20/21</td>\n",
       "      <td>4</td>\n",
       "      <td>0.307829</td>\n",
       "      <td>0.332031</td>\n",
       "    </tr>\n",
       "    <tr>\n",
       "      <th>7</th>\n",
       "      <td>2/27/21</td>\n",
       "      <td>4</td>\n",
       "      <td>0.290339</td>\n",
       "      <td>0.331442</td>\n",
       "    </tr>\n",
       "    <tr>\n",
       "      <th>8</th>\n",
       "      <td>3/6/21</td>\n",
       "      <td>4</td>\n",
       "      <td>0.282922</td>\n",
       "      <td>0.308599</td>\n",
       "    </tr>\n",
       "    <tr>\n",
       "      <th>9</th>\n",
       "      <td>3/13/21</td>\n",
       "      <td>4</td>\n",
       "      <td>0.262571</td>\n",
       "      <td>0.304838</td>\n",
       "    </tr>\n",
       "    <tr>\n",
       "      <th>10</th>\n",
       "      <td>3/20/21</td>\n",
       "      <td>4</td>\n",
       "      <td>0.266145</td>\n",
       "      <td>0.297347</td>\n",
       "    </tr>\n",
       "    <tr>\n",
       "      <th>11</th>\n",
       "      <td>1/9/21</td>\n",
       "      <td>3</td>\n",
       "      <td>0.267561</td>\n",
       "      <td>0.280234</td>\n",
       "    </tr>\n",
       "    <tr>\n",
       "      <th>12</th>\n",
       "      <td>1/16/21</td>\n",
       "      <td>3</td>\n",
       "      <td>0.267358</td>\n",
       "      <td>0.2903</td>\n",
       "    </tr>\n",
       "    <tr>\n",
       "      <th>13</th>\n",
       "      <td>1/23/21</td>\n",
       "      <td>3</td>\n",
       "      <td>0.27553</td>\n",
       "      <td>0.278032</td>\n",
       "    </tr>\n",
       "    <tr>\n",
       "      <th>14</th>\n",
       "      <td>1/30/21</td>\n",
       "      <td>3</td>\n",
       "      <td>0.275728</td>\n",
       "      <td>0.269016</td>\n",
       "    </tr>\n",
       "    <tr>\n",
       "      <th>15</th>\n",
       "      <td>2/6/21</td>\n",
       "      <td>3</td>\n",
       "      <td>0.282893</td>\n",
       "      <td>0.275217</td>\n",
       "    </tr>\n",
       "    <tr>\n",
       "      <th>16</th>\n",
       "      <td>2/13/21</td>\n",
       "      <td>3</td>\n",
       "      <td>0.270785</td>\n",
       "      <td>0.270818</td>\n",
       "    </tr>\n",
       "    <tr>\n",
       "      <th>17</th>\n",
       "      <td>2/20/21</td>\n",
       "      <td>3</td>\n",
       "      <td>0.266502</td>\n",
       "      <td>0.278625</td>\n",
       "    </tr>\n",
       "    <tr>\n",
       "      <th>18</th>\n",
       "      <td>2/27/21</td>\n",
       "      <td>3</td>\n",
       "      <td>0.248682</td>\n",
       "      <td>0.280439</td>\n",
       "    </tr>\n",
       "    <tr>\n",
       "      <th>19</th>\n",
       "      <td>3/6/21</td>\n",
       "      <td>3</td>\n",
       "      <td>0.25116</td>\n",
       "      <td>0.276505</td>\n",
       "    </tr>\n",
       "    <tr>\n",
       "      <th>20</th>\n",
       "      <td>3/13/21</td>\n",
       "      <td>3</td>\n",
       "      <td>0.245296</td>\n",
       "      <td>0.26948</td>\n",
       "    </tr>\n",
       "    <tr>\n",
       "      <th>21</th>\n",
       "      <td>3/20/21</td>\n",
       "      <td>3</td>\n",
       "      <td>0.242648</td>\n",
       "      <td>0.255627</td>\n",
       "    </tr>\n",
       "    <tr>\n",
       "      <th>22</th>\n",
       "      <td>1/9/21</td>\n",
       "      <td>2</td>\n",
       "      <td>0.24772</td>\n",
       "      <td>0.234433</td>\n",
       "    </tr>\n",
       "    <tr>\n",
       "      <th>23</th>\n",
       "      <td>1/16/21</td>\n",
       "      <td>2</td>\n",
       "      <td>0.234765</td>\n",
       "      <td>0.224432</td>\n",
       "    </tr>\n",
       "    <tr>\n",
       "      <th>24</th>\n",
       "      <td>1/23/21</td>\n",
       "      <td>2</td>\n",
       "      <td>0.219649</td>\n",
       "      <td>0.244855</td>\n",
       "    </tr>\n",
       "    <tr>\n",
       "      <th>25</th>\n",
       "      <td>1/30/21</td>\n",
       "      <td>2</td>\n",
       "      <td>0.237223</td>\n",
       "      <td>0.242789</td>\n",
       "    </tr>\n",
       "    <tr>\n",
       "      <th>26</th>\n",
       "      <td>2/6/21</td>\n",
       "      <td>2</td>\n",
       "      <td>0.241821</td>\n",
       "      <td>0.246512</td>\n",
       "    </tr>\n",
       "    <tr>\n",
       "      <th>27</th>\n",
       "      <td>2/13/21</td>\n",
       "      <td>2</td>\n",
       "      <td>0.237407</td>\n",
       "      <td>0.220965</td>\n",
       "    </tr>\n",
       "    <tr>\n",
       "      <th>28</th>\n",
       "      <td>2/20/21</td>\n",
       "      <td>2</td>\n",
       "      <td>0.22919</td>\n",
       "      <td>0.229731</td>\n",
       "    </tr>\n",
       "    <tr>\n",
       "      <th>29</th>\n",
       "      <td>2/27/21</td>\n",
       "      <td>2</td>\n",
       "      <td>0.221187</td>\n",
       "      <td>0.234087</td>\n",
       "    </tr>\n",
       "    <tr>\n",
       "      <th>30</th>\n",
       "      <td>3/6/21</td>\n",
       "      <td>2</td>\n",
       "      <td>0.229734</td>\n",
       "      <td>0.236781</td>\n",
       "    </tr>\n",
       "    <tr>\n",
       "      <th>31</th>\n",
       "      <td>3/13/21</td>\n",
       "      <td>2</td>\n",
       "      <td>0.23717</td>\n",
       "      <td>0.233262</td>\n",
       "    </tr>\n",
       "    <tr>\n",
       "      <th>32</th>\n",
       "      <td>3/20/21</td>\n",
       "      <td>2</td>\n",
       "      <td>0.244306</td>\n",
       "      <td>0.219657</td>\n",
       "    </tr>\n",
       "    <tr>\n",
       "      <th>33</th>\n",
       "      <td>1/9/21</td>\n",
       "      <td>1</td>\n",
       "      <td>0.200453</td>\n",
       "      <td>0.13021</td>\n",
       "    </tr>\n",
       "    <tr>\n",
       "      <th>34</th>\n",
       "      <td>1/16/21</td>\n",
       "      <td>1</td>\n",
       "      <td>0.182436</td>\n",
       "      <td>0.141655</td>\n",
       "    </tr>\n",
       "    <tr>\n",
       "      <th>35</th>\n",
       "      <td>1/23/21</td>\n",
       "      <td>1</td>\n",
       "      <td>0.170897</td>\n",
       "      <td>0.15683</td>\n",
       "    </tr>\n",
       "    <tr>\n",
       "      <th>36</th>\n",
       "      <td>1/30/21</td>\n",
       "      <td>1</td>\n",
       "      <td>0.170497</td>\n",
       "      <td>0.182304</td>\n",
       "    </tr>\n",
       "    <tr>\n",
       "      <th>37</th>\n",
       "      <td>2/6/21</td>\n",
       "      <td>1</td>\n",
       "      <td>0.174748</td>\n",
       "      <td>0.192563</td>\n",
       "    </tr>\n",
       "    <tr>\n",
       "      <th>38</th>\n",
       "      <td>2/13/21</td>\n",
       "      <td>1</td>\n",
       "      <td>0.184866</td>\n",
       "      <td>0.171043</td>\n",
       "    </tr>\n",
       "    <tr>\n",
       "      <th>39</th>\n",
       "      <td>2/20/21</td>\n",
       "      <td>1</td>\n",
       "      <td>0.196478</td>\n",
       "      <td>0.159613</td>\n",
       "    </tr>\n",
       "    <tr>\n",
       "      <th>40</th>\n",
       "      <td>2/27/21</td>\n",
       "      <td>1</td>\n",
       "      <td>0.239792</td>\n",
       "      <td>0.154032</td>\n",
       "    </tr>\n",
       "    <tr>\n",
       "      <th>41</th>\n",
       "      <td>3/6/21</td>\n",
       "      <td>1</td>\n",
       "      <td>0.236184</td>\n",
       "      <td>0.178115</td>\n",
       "    </tr>\n",
       "    <tr>\n",
       "      <th>42</th>\n",
       "      <td>3/13/21</td>\n",
       "      <td>1</td>\n",
       "      <td>0.254963</td>\n",
       "      <td>0.19242</td>\n",
       "    </tr>\n",
       "    <tr>\n",
       "      <th>43</th>\n",
       "      <td>3/20/21</td>\n",
       "      <td>1</td>\n",
       "      <td>0.2469</td>\n",
       "      <td>0.227369</td>\n",
       "    </tr>\n",
       "  </tbody>\n",
       "</table>\n",
       "</div>"
      ],
      "text/plain": [
       "       date hpi_quartile pct_partially_vaccinated pct_fully_vaccinated\n",
       "0    1/9/21            4                 0.284267             0.355122\n",
       "1   1/16/21            4                 0.315441             0.343613\n",
       "2   1/23/21            4                 0.333923             0.320282\n",
       "3   1/30/21            4                 0.316553             0.305891\n",
       "4    2/6/21            4                 0.300538             0.285707\n",
       "5   2/13/21            4                 0.306942             0.337174\n",
       "6   2/20/21            4                 0.307829             0.332031\n",
       "7   2/27/21            4                 0.290339             0.331442\n",
       "8    3/6/21            4                 0.282922             0.308599\n",
       "9   3/13/21            4                 0.262571             0.304838\n",
       "10  3/20/21            4                 0.266145             0.297347\n",
       "11   1/9/21            3                 0.267561             0.280234\n",
       "12  1/16/21            3                 0.267358               0.2903\n",
       "13  1/23/21            3                  0.27553             0.278032\n",
       "14  1/30/21            3                 0.275728             0.269016\n",
       "15   2/6/21            3                 0.282893             0.275217\n",
       "16  2/13/21            3                 0.270785             0.270818\n",
       "17  2/20/21            3                 0.266502             0.278625\n",
       "18  2/27/21            3                 0.248682             0.280439\n",
       "19   3/6/21            3                  0.25116             0.276505\n",
       "20  3/13/21            3                 0.245296              0.26948\n",
       "21  3/20/21            3                 0.242648             0.255627\n",
       "22   1/9/21            2                  0.24772             0.234433\n",
       "23  1/16/21            2                 0.234765             0.224432\n",
       "24  1/23/21            2                 0.219649             0.244855\n",
       "25  1/30/21            2                 0.237223             0.242789\n",
       "26   2/6/21            2                 0.241821             0.246512\n",
       "27  2/13/21            2                 0.237407             0.220965\n",
       "28  2/20/21            2                  0.22919             0.229731\n",
       "29  2/27/21            2                 0.221187             0.234087\n",
       "30   3/6/21            2                 0.229734             0.236781\n",
       "31  3/13/21            2                  0.23717             0.233262\n",
       "32  3/20/21            2                 0.244306             0.219657\n",
       "33   1/9/21            1                 0.200453              0.13021\n",
       "34  1/16/21            1                 0.182436             0.141655\n",
       "35  1/23/21            1                 0.170897              0.15683\n",
       "36  1/30/21            1                 0.170497             0.182304\n",
       "37   2/6/21            1                 0.174748             0.192563\n",
       "38  2/13/21            1                 0.184866             0.171043\n",
       "39  2/20/21            1                 0.196478             0.159613\n",
       "40  2/27/21            1                 0.239792             0.154032\n",
       "41   3/6/21            1                 0.236184             0.178115\n",
       "42  3/13/21            1                 0.254963              0.19242\n",
       "43  3/20/21            1                   0.2469             0.227369"
      ]
     },
     "execution_count": 79,
     "metadata": {},
     "output_type": "execute_result"
    }
   ],
   "source": [
    "df"
   ]
  },
  {
   "cell_type": "markdown",
   "id": "foreign-proceeding",
   "metadata": {},
   "source": [
    "## Export"
   ]
  },
  {
   "cell_type": "markdown",
   "id": "received-probe",
   "metadata": {},
   "source": [
    "Save out the data as a CSV that's datestamped to California time."
   ]
  },
  {
   "cell_type": "code",
   "execution_count": 80,
   "id": "soviet-webcam",
   "metadata": {},
   "outputs": [],
   "source": [
    "tz = pytz.timezone(\"America/Los_Angeles\")"
   ]
  },
  {
   "cell_type": "code",
   "execution_count": 81,
   "id": "extraordinary-madagascar",
   "metadata": {},
   "outputs": [],
   "source": [
    "today = datetime.now(tz).date()"
   ]
  },
  {
   "cell_type": "code",
   "execution_count": 82,
   "id": "defensive-provider",
   "metadata": {},
   "outputs": [],
   "source": [
    "data_dir = os.path.join(os.path.abspath(\"\"), \"data\")"
   ]
  },
  {
   "cell_type": "code",
   "execution_count": 83,
   "id": "aboriginal-generic",
   "metadata": {},
   "outputs": [],
   "source": [
    "df.to_csv(os.path.join(data_dir, f\"{today}.csv\"), index=False)"
   ]
  }
 ],
 "metadata": {
  "kernelspec": {
   "display_name": "Python 3",
   "language": "python",
   "name": "python3"
  },
  "language_info": {
   "codemirror_mode": {
    "name": "ipython",
    "version": 3
   },
   "file_extension": ".py",
   "mimetype": "text/x-python",
   "name": "python",
   "nbconvert_exporter": "python",
   "pygments_lexer": "ipython3",
   "version": "3.8.2"
  }
 },
 "nbformat": 4,
 "nbformat_minor": 5
}
