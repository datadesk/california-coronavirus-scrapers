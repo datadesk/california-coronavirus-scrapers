{
 "cells": [
  {
   "cell_type": "markdown",
   "metadata": {},
   "source": [
    "## Configuration\n",
    "_Initial steps to get the notebook ready to play nice with our repository. Do not delete this section._"
   ]
  },
  {
   "cell_type": "markdown",
   "metadata": {},
   "source": [
    "Code formatting with [black](https://pypi.org/project/nb-black/)."
   ]
  },
  {
   "cell_type": "code",
   "execution_count": 1,
   "metadata": {
    "execution": {
     "iopub.execute_input": "2021-12-21T08:23:10.993630Z",
     "iopub.status.busy": "2021-12-21T08:23:10.993195Z",
     "iopub.status.idle": "2021-12-21T08:23:11.115975Z",
     "shell.execute_reply": "2021-12-21T08:23:11.115440Z"
    }
   },
   "outputs": [],
   "source": [
    "%load_ext lab_black"
   ]
  },
  {
   "cell_type": "code",
   "execution_count": 2,
   "metadata": {
    "execution": {
     "iopub.execute_input": "2021-12-21T08:23:11.119999Z",
     "iopub.status.busy": "2021-12-21T08:23:11.119531Z",
     "iopub.status.idle": "2021-12-21T08:23:11.127689Z",
     "shell.execute_reply": "2021-12-21T08:23:11.127285Z"
    }
   },
   "outputs": [],
   "source": [
    "import os\n",
    "import pytz\n",
    "import glob\n",
    "import pathlib\n",
    "\n",
    "this_dir = pathlib.Path(os.path.abspath(\"\"))\n",
    "data_dir = this_dir / \"data\""
   ]
  },
  {
   "cell_type": "code",
   "execution_count": 3,
   "metadata": {
    "execution": {
     "iopub.execute_input": "2021-12-21T08:23:11.131314Z",
     "iopub.status.busy": "2021-12-21T08:23:11.130822Z",
     "iopub.status.idle": "2021-12-21T08:23:11.424132Z",
     "shell.execute_reply": "2021-12-21T08:23:11.423614Z"
    }
   },
   "outputs": [],
   "source": [
    "import requests\n",
    "import pandas as pd\n",
    "from datetime import datetime"
   ]
  },
  {
   "cell_type": "markdown",
   "metadata": {},
   "source": [
    "## Download"
   ]
  },
  {
   "cell_type": "markdown",
   "metadata": {},
   "source": [
    "Retrieve the page"
   ]
  },
  {
   "cell_type": "code",
   "execution_count": 4,
   "metadata": {
    "execution": {
     "iopub.execute_input": "2021-12-21T08:23:11.429619Z",
     "iopub.status.busy": "2021-12-21T08:23:11.428578Z",
     "iopub.status.idle": "2021-12-21T08:23:11.432452Z",
     "shell.execute_reply": "2021-12-21T08:23:11.431750Z"
    }
   },
   "outputs": [],
   "source": [
    "url = \"https://services2.arcgis.com/RETsakmE0SJfZXCd/arcgis/rest/services/Covid19_Cases_New_Workflow/FeatureServer/0/query?f=json&cacheHint=true&groupByFieldsForStatistics=ReportingArea&orderByFields=ReportingArea%20ASC&outFields=*&outStatistics=%5B%7B%22onStatisticField%22%3A%22ReportingArea%22%2C%22outStatisticFieldName%22%3A%22count_result%22%2C%22statisticType%22%3A%22count%22%7D%5D&resultType=standard&returnGeometry=false&spatialRel=esriSpatialRelIntersects&where=1%3D1\""
   ]
  },
  {
   "cell_type": "code",
   "execution_count": 5,
   "metadata": {
    "execution": {
     "iopub.execute_input": "2021-12-21T08:23:11.439873Z",
     "iopub.status.busy": "2021-12-21T08:23:11.435550Z",
     "iopub.status.idle": "2021-12-21T08:23:11.617060Z",
     "shell.execute_reply": "2021-12-21T08:23:11.617479Z"
    }
   },
   "outputs": [],
   "source": [
    "r = requests.get(url)"
   ]
  },
  {
   "cell_type": "code",
   "execution_count": 6,
   "metadata": {
    "execution": {
     "iopub.execute_input": "2021-12-21T08:23:11.622096Z",
     "iopub.status.busy": "2021-12-21T08:23:11.621339Z",
     "iopub.status.idle": "2021-12-21T08:23:11.624005Z",
     "shell.execute_reply": "2021-12-21T08:23:11.624352Z"
    }
   },
   "outputs": [],
   "source": [
    "data = r.json()"
   ]
  },
  {
   "cell_type": "code",
   "execution_count": 7,
   "metadata": {
    "execution": {
     "iopub.execute_input": "2021-12-21T08:23:11.634313Z",
     "iopub.status.busy": "2021-12-21T08:23:11.633864Z",
     "iopub.status.idle": "2021-12-21T08:23:11.638208Z",
     "shell.execute_reply": "2021-12-21T08:23:11.638578Z"
    }
   },
   "outputs": [
    {
     "data": {
      "text/plain": [
       "{'objectIdFieldName': 'OBJECTID',\n",
       " 'uniqueIdField': {'name': 'OBJECTID', 'isSystemMaintained': True},\n",
       " 'globalIdFieldName': '',\n",
       " 'geometryType': 'esriGeometryPoint',\n",
       " 'spatialReference': {'wkid': 4326, 'latestWkid': 4326},\n",
       " 'fields': [{'name': 'count_result',\n",
       "   'type': 'esriFieldTypeDouble',\n",
       "   'alias': 'count_result',\n",
       "   'sqlType': 'sqlTypeFloat',\n",
       "   'domain': None,\n",
       "   'defaultValue': None},\n",
       "  {'name': 'ReportingArea',\n",
       "   'type': 'esriFieldTypeString',\n",
       "   'alias': 'ReportingArea',\n",
       "   'sqlType': 'sqlTypeOther',\n",
       "   'length': 255,\n",
       "   'domain': None,\n",
       "   'defaultValue': None}],\n",
       " 'features': [{'attributes': {'count_result': 0, 'ReportingArea': None}},\n",
       "  {'attributes': {'count_result': 3286, 'ReportingArea': 'Davis'}},\n",
       "  {'attributes': {'count_result': 2448, 'ReportingArea': 'Unincorporated'}},\n",
       "  {'attributes': {'count_result': 133, 'ReportingArea': 'Unknown'}},\n",
       "  {'attributes': {'count_result': 6355, 'ReportingArea': 'West Sacramento'}},\n",
       "  {'attributes': {'count_result': 774, 'ReportingArea': 'Winters'}},\n",
       "  {'attributes': {'count_result': 7886, 'ReportingArea': 'Woodland'}}]}"
      ]
     },
     "execution_count": 7,
     "metadata": {},
     "output_type": "execute_result"
    }
   ],
   "source": [
    "data"
   ]
  },
  {
   "cell_type": "markdown",
   "metadata": {},
   "source": [
    "## Parse"
   ]
  },
  {
   "cell_type": "code",
   "execution_count": 8,
   "metadata": {
    "execution": {
     "iopub.execute_input": "2021-12-21T08:23:11.643478Z",
     "iopub.status.busy": "2021-12-21T08:23:11.642475Z",
     "iopub.status.idle": "2021-12-21T08:23:11.644001Z",
     "shell.execute_reply": "2021-12-21T08:23:11.644366Z"
    }
   },
   "outputs": [],
   "source": [
    "dict_list = []"
   ]
  },
  {
   "cell_type": "code",
   "execution_count": 9,
   "metadata": {
    "execution": {
     "iopub.execute_input": "2021-12-21T08:23:11.652958Z",
     "iopub.status.busy": "2021-12-21T08:23:11.650799Z",
     "iopub.status.idle": "2021-12-21T08:23:11.654798Z",
     "shell.execute_reply": "2021-12-21T08:23:11.654420Z"
    }
   },
   "outputs": [],
   "source": [
    "for item in data[\"features\"]:\n",
    "    d = dict(\n",
    "        county=\"Yolo\",\n",
    "        area=item[\"attributes\"][\"ReportingArea\"],\n",
    "        confirmed_cases=item[\"attributes\"][\"count_result\"],\n",
    "    )\n",
    "    dict_list.append(d)"
   ]
  },
  {
   "cell_type": "code",
   "execution_count": 10,
   "metadata": {
    "execution": {
     "iopub.execute_input": "2021-12-21T08:23:11.659076Z",
     "iopub.status.busy": "2021-12-21T08:23:11.658630Z",
     "iopub.status.idle": "2021-12-21T08:23:11.661672Z",
     "shell.execute_reply": "2021-12-21T08:23:11.661297Z"
    }
   },
   "outputs": [],
   "source": [
    "df = pd.DataFrame(dict_list)"
   ]
  },
  {
   "cell_type": "markdown",
   "metadata": {},
   "source": [
    "Get timestamp"
   ]
  },
  {
   "cell_type": "code",
   "execution_count": 11,
   "metadata": {
    "execution": {
     "iopub.execute_input": "2021-12-21T08:23:11.667166Z",
     "iopub.status.busy": "2021-12-21T08:23:11.664459Z",
     "iopub.status.idle": "2021-12-21T08:23:11.799148Z",
     "shell.execute_reply": "2021-12-21T08:23:11.798639Z"
    }
   },
   "outputs": [],
   "source": [
    "date_url = \"https://services2.arcgis.com/RETsakmE0SJfZXCd/arcgis/rest/services/Covid19_Cases_New_Workflow/FeatureServer/0?f=json\"\n",
    "date_r = requests.get(date_url)\n",
    "date_data = date_r.json()"
   ]
  },
  {
   "cell_type": "code",
   "execution_count": 12,
   "metadata": {
    "execution": {
     "iopub.execute_input": "2021-12-21T08:23:11.805039Z",
     "iopub.status.busy": "2021-12-21T08:23:11.803774Z",
     "iopub.status.idle": "2021-12-21T08:23:11.806713Z",
     "shell.execute_reply": "2021-12-21T08:23:11.807061Z"
    }
   },
   "outputs": [],
   "source": [
    "timestamp = date_data[\"editingInfo\"][\"lastEditDate\"]"
   ]
  },
  {
   "cell_type": "code",
   "execution_count": 13,
   "metadata": {
    "execution": {
     "iopub.execute_input": "2021-12-21T08:23:11.811048Z",
     "iopub.status.busy": "2021-12-21T08:23:11.810592Z",
     "iopub.status.idle": "2021-12-21T08:23:11.813483Z",
     "shell.execute_reply": "2021-12-21T08:23:11.813830Z"
    }
   },
   "outputs": [],
   "source": [
    "timestamp = datetime.fromtimestamp((timestamp / 1000))"
   ]
  },
  {
   "cell_type": "code",
   "execution_count": 14,
   "metadata": {
    "execution": {
     "iopub.execute_input": "2021-12-21T08:23:11.818948Z",
     "iopub.status.busy": "2021-12-21T08:23:11.818504Z",
     "iopub.status.idle": "2021-12-21T08:23:11.821545Z",
     "shell.execute_reply": "2021-12-21T08:23:11.821156Z"
    }
   },
   "outputs": [],
   "source": [
    "latest_date = pd.to_datetime(timestamp).date()"
   ]
  },
  {
   "cell_type": "code",
   "execution_count": 15,
   "metadata": {
    "execution": {
     "iopub.execute_input": "2021-12-21T08:23:11.826290Z",
     "iopub.status.busy": "2021-12-21T08:23:11.825849Z",
     "iopub.status.idle": "2021-12-21T08:23:11.829556Z",
     "shell.execute_reply": "2021-12-21T08:23:11.829929Z"
    }
   },
   "outputs": [],
   "source": [
    "df[\"county_date\"] = latest_date"
   ]
  },
  {
   "cell_type": "markdown",
   "metadata": {},
   "source": [
    "## Vet"
   ]
  },
  {
   "cell_type": "code",
   "execution_count": 16,
   "metadata": {
    "execution": {
     "iopub.execute_input": "2021-12-21T08:23:11.835398Z",
     "iopub.status.busy": "2021-12-21T08:23:11.834561Z",
     "iopub.status.idle": "2021-12-21T08:23:11.944439Z",
     "shell.execute_reply": "2021-12-21T08:23:11.943739Z"
    }
   },
   "outputs": [
    {
     "ename": "AssertionError",
     "evalue": "Yolo County's scraper has extra rows",
     "output_type": "error",
     "traceback": [
      "\u001b[0;31m---------------------------------------------------------------------------\u001b[0m",
      "\u001b[0;31mAssertionError\u001b[0m                            Traceback (most recent call last)",
      "\u001b[0;32m/tmp/ipykernel_3803/751996351.py\u001b[0m in \u001b[0;36m<module>\u001b[0;34m\u001b[0m\n\u001b[1;32m      1\u001b[0m \u001b[0;32mtry\u001b[0m\u001b[0;34m:\u001b[0m\u001b[0;34m\u001b[0m\u001b[0;34m\u001b[0m\u001b[0m\n\u001b[0;32m----> 2\u001b[0;31m     \u001b[0;32massert\u001b[0m \u001b[0;32mnot\u001b[0m \u001b[0mlen\u001b[0m\u001b[0;34m(\u001b[0m\u001b[0mdf\u001b[0m\u001b[0;34m)\u001b[0m \u001b[0;34m>\u001b[0m \u001b[0;36m6\u001b[0m\u001b[0;34m\u001b[0m\u001b[0;34m\u001b[0m\u001b[0m\n\u001b[0m\u001b[1;32m      3\u001b[0m \u001b[0;32mexcept\u001b[0m \u001b[0mAssertionError\u001b[0m\u001b[0;34m:\u001b[0m\u001b[0;34m\u001b[0m\u001b[0;34m\u001b[0m\u001b[0m\n",
      "\u001b[0;31mAssertionError\u001b[0m: ",
      "\nDuring handling of the above exception, another exception occurred:\n",
      "\u001b[0;31mAssertionError\u001b[0m                            Traceback (most recent call last)",
      "\u001b[0;32m/tmp/ipykernel_3803/751996351.py\u001b[0m in \u001b[0;36m<module>\u001b[0;34m\u001b[0m\n\u001b[1;32m      2\u001b[0m     \u001b[0;32massert\u001b[0m \u001b[0;32mnot\u001b[0m \u001b[0mlen\u001b[0m\u001b[0;34m(\u001b[0m\u001b[0mdf\u001b[0m\u001b[0;34m)\u001b[0m \u001b[0;34m>\u001b[0m \u001b[0;36m6\u001b[0m\u001b[0;34m\u001b[0m\u001b[0;34m\u001b[0m\u001b[0m\n\u001b[1;32m      3\u001b[0m \u001b[0;32mexcept\u001b[0m \u001b[0mAssertionError\u001b[0m\u001b[0;34m:\u001b[0m\u001b[0;34m\u001b[0m\u001b[0;34m\u001b[0m\u001b[0m\n\u001b[0;32m----> 4\u001b[0;31m     \u001b[0;32mraise\u001b[0m \u001b[0mAssertionError\u001b[0m\u001b[0;34m(\u001b[0m\u001b[0;34m\"Yolo County's scraper has extra rows\"\u001b[0m\u001b[0;34m)\u001b[0m\u001b[0;34m\u001b[0m\u001b[0;34m\u001b[0m\u001b[0m\n\u001b[0m",
      "\u001b[0;31mAssertionError\u001b[0m: Yolo County's scraper has extra rows"
     ]
    }
   ],
   "source": [
    "try:\n",
    "    assert not len(df) > 6\n",
    "except AssertionError:\n",
    "    raise AssertionError(\"Yolo County's scraper has extra rows\")"
   ]
  },
  {
   "cell_type": "code",
   "execution_count": 36,
   "metadata": {},
   "outputs": [],
   "source": [
    "try:\n",
    "    assert not len(df) < 6\n",
    "except AssertionError:\n",
    "    raise AssertionError(\"Yolo County's scraper is missing rows\")"
   ]
  },
  {
   "cell_type": "markdown",
   "metadata": {},
   "source": [
    "## Export"
   ]
  },
  {
   "cell_type": "markdown",
   "metadata": {},
   "source": [
    "Set date"
   ]
  },
  {
   "cell_type": "code",
   "execution_count": 37,
   "metadata": {},
   "outputs": [],
   "source": [
    "tz = pytz.timezone(\"America/Los_Angeles\")"
   ]
  },
  {
   "cell_type": "code",
   "execution_count": 38,
   "metadata": {},
   "outputs": [],
   "source": [
    "today = datetime.now(tz).date()"
   ]
  },
  {
   "cell_type": "code",
   "execution_count": 39,
   "metadata": {},
   "outputs": [],
   "source": [
    "slug = \"yolo\""
   ]
  },
  {
   "cell_type": "code",
   "execution_count": 40,
   "metadata": {},
   "outputs": [],
   "source": [
    "df.to_csv(data_dir / slug / f\"{today}.csv\", index=False)"
   ]
  },
  {
   "cell_type": "markdown",
   "metadata": {},
   "source": [
    "## Combine"
   ]
  },
  {
   "cell_type": "code",
   "execution_count": 41,
   "metadata": {},
   "outputs": [],
   "source": [
    "csv_list = [\n",
    "    i\n",
    "    for i in glob.glob(str(data_dir / slug / \"*.csv\"))\n",
    "    if not str(i).endswith(\"timeseries.csv\")\n",
    "]"
   ]
  },
  {
   "cell_type": "code",
   "execution_count": 42,
   "metadata": {},
   "outputs": [],
   "source": [
    "df_list = []\n",
    "for csv in csv_list:\n",
    "    if \"manual\" in csv:\n",
    "        df = pd.read_csv(csv, parse_dates=[\"date\"])\n",
    "    else:\n",
    "        file_date = csv.split(\"/\")[-1].replace(\".csv\", \"\")\n",
    "        df = pd.read_csv(csv, parse_dates=[\"county_date\"])\n",
    "        df[\"date\"] = file_date\n",
    "    df_list.append(df)"
   ]
  },
  {
   "cell_type": "code",
   "execution_count": 43,
   "metadata": {},
   "outputs": [],
   "source": [
    "df = pd.concat(df_list).sort_values([\"date\", \"area\"])"
   ]
  },
  {
   "cell_type": "code",
   "execution_count": 44,
   "metadata": {},
   "outputs": [],
   "source": [
    "df.to_csv(data_dir / slug / \"timeseries.csv\", index=False)"
   ]
  }
 ],
 "metadata": {
  "kernelspec": {
   "display_name": "Python 3 (ipykernel)",
   "language": "python",
   "name": "python3"
  },
  "language_info": {
   "codemirror_mode": {
    "name": "ipython",
    "version": 3
   },
   "file_extension": ".py",
   "mimetype": "text/x-python",
   "name": "python",
   "nbconvert_exporter": "python",
   "pygments_lexer": "ipython3",
   "version": "3.8.12"
  }
 },
 "nbformat": 4,
 "nbformat_minor": 4
}
