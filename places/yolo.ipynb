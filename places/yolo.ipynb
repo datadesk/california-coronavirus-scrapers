{
 "cells": [
  {
   "cell_type": "markdown",
   "metadata": {},
   "source": [
    "## Configuration\n",
    "_Initial steps to get the notebook ready to play nice with our repository. Do not delete this section._"
   ]
  },
  {
   "cell_type": "markdown",
   "metadata": {},
   "source": [
    "Code formatting with [black](https://pypi.org/project/nb-black/)."
   ]
  },
  {
   "cell_type": "code",
   "execution_count": 1,
   "metadata": {
    "execution": {
     "iopub.execute_input": "2021-09-24T08:22:55.723255Z",
     "iopub.status.busy": "2021-09-24T08:22:55.722719Z",
     "iopub.status.idle": "2021-09-24T08:22:55.863804Z",
     "shell.execute_reply": "2021-09-24T08:22:55.864637Z"
    }
   },
   "outputs": [],
   "source": [
    "%load_ext lab_black"
   ]
  },
  {
   "cell_type": "code",
   "execution_count": 2,
   "metadata": {
    "execution": {
     "iopub.execute_input": "2021-09-24T08:22:55.870445Z",
     "iopub.status.busy": "2021-09-24T08:22:55.869851Z",
     "iopub.status.idle": "2021-09-24T08:22:55.878915Z",
     "shell.execute_reply": "2021-09-24T08:22:55.879362Z"
    }
   },
   "outputs": [],
   "source": [
    "import os\n",
    "import pytz\n",
    "import glob\n",
    "import pathlib\n",
    "\n",
    "this_dir = pathlib.Path(os.path.abspath(\"\"))\n",
    "data_dir = this_dir / \"data\""
   ]
  },
  {
   "cell_type": "code",
   "execution_count": 3,
   "metadata": {
    "execution": {
     "iopub.execute_input": "2021-09-24T08:22:55.883641Z",
     "iopub.status.busy": "2021-09-24T08:22:55.883088Z",
     "iopub.status.idle": "2021-09-24T08:22:56.229237Z",
     "shell.execute_reply": "2021-09-24T08:22:56.228084Z"
    }
   },
   "outputs": [],
   "source": [
    "import requests\n",
    "import pandas as pd\n",
    "from datetime import datetime"
   ]
  },
  {
   "cell_type": "markdown",
   "metadata": {},
   "source": [
    "## Download"
   ]
  },
  {
   "cell_type": "markdown",
   "metadata": {},
   "source": [
    "Retrieve the page"
   ]
  },
  {
   "cell_type": "code",
   "execution_count": 4,
   "metadata": {
    "execution": {
     "iopub.execute_input": "2021-09-24T08:22:56.235677Z",
     "iopub.status.busy": "2021-09-24T08:22:56.235105Z",
     "iopub.status.idle": "2021-09-24T08:22:56.238842Z",
     "shell.execute_reply": "2021-09-24T08:22:56.238378Z"
    }
   },
   "outputs": [],
   "source": [
    "url = \"https://services2.arcgis.com/RETsakmE0SJfZXCd/arcgis/rest/services/Covid19_Cases_New_Workflow/FeatureServer/0/query?f=json&cacheHint=true&groupByFieldsForStatistics=ReportingArea&orderByFields=ReportingArea%20ASC&outFields=*&outStatistics=%5B%7B%22onStatisticField%22%3A%22ReportingArea%22%2C%22outStatisticFieldName%22%3A%22count_result%22%2C%22statisticType%22%3A%22count%22%7D%5D&resultType=standard&returnGeometry=false&spatialRel=esriSpatialRelIntersects&where=1%3D1\""
   ]
  },
  {
   "cell_type": "code",
   "execution_count": 5,
   "metadata": {
    "execution": {
     "iopub.execute_input": "2021-09-24T08:22:56.242755Z",
     "iopub.status.busy": "2021-09-24T08:22:56.240990Z",
     "iopub.status.idle": "2021-09-24T08:22:56.391814Z",
     "shell.execute_reply": "2021-09-24T08:22:56.390746Z"
    }
   },
   "outputs": [],
   "source": [
    "r = requests.get(url)"
   ]
  },
  {
   "cell_type": "code",
   "execution_count": 6,
   "metadata": {
    "execution": {
     "iopub.execute_input": "2021-09-24T08:22:56.397747Z",
     "iopub.status.busy": "2021-09-24T08:22:56.396163Z",
     "iopub.status.idle": "2021-09-24T08:22:56.400125Z",
     "shell.execute_reply": "2021-09-24T08:22:56.399688Z"
    }
   },
   "outputs": [],
   "source": [
    "data = r.json()"
   ]
  },
  {
   "cell_type": "code",
   "execution_count": 7,
   "metadata": {
    "execution": {
     "iopub.execute_input": "2021-09-24T08:22:56.411789Z",
     "iopub.status.busy": "2021-09-24T08:22:56.411245Z",
     "iopub.status.idle": "2021-09-24T08:22:56.416742Z",
     "shell.execute_reply": "2021-09-24T08:22:56.417150Z"
    }
   },
   "outputs": [
    {
     "data": {
      "text/plain": [
       "{'objectIdFieldName': 'OBJECTID',\n",
       " 'uniqueIdField': {'name': 'OBJECTID', 'isSystemMaintained': True},\n",
       " 'globalIdFieldName': '',\n",
       " 'geometryType': 'esriGeometryPoint',\n",
       " 'spatialReference': {'wkid': 4326, 'latestWkid': 4326},\n",
       " 'fields': [{'name': 'count_result',\n",
       "   'type': 'esriFieldTypeDouble',\n",
       "   'alias': 'count_result',\n",
       "   'sqlType': 'sqlTypeFloat',\n",
       "   'domain': None,\n",
       "   'defaultValue': None},\n",
       "  {'name': 'ReportingArea',\n",
       "   'type': 'esriFieldTypeString',\n",
       "   'alias': 'ReportingArea',\n",
       "   'sqlType': 'sqlTypeOther',\n",
       "   'length': 255,\n",
       "   'domain': None,\n",
       "   'defaultValue': None}],\n",
       " 'features': [{'attributes': {'count_result': 2874, 'ReportingArea': 'Davis'}},\n",
       "  {'attributes': {'count_result': 2234, 'ReportingArea': 'Unincorporated'}},\n",
       "  {'attributes': {'count_result': 5510, 'ReportingArea': 'West Sacramento'}},\n",
       "  {'attributes': {'count_result': 668, 'ReportingArea': 'Winters'}},\n",
       "  {'attributes': {'count_result': 7057, 'ReportingArea': 'Woodland'}}]}"
      ]
     },
     "execution_count": 7,
     "metadata": {},
     "output_type": "execute_result"
    }
   ],
   "source": [
    "data"
   ]
  },
  {
   "cell_type": "markdown",
   "metadata": {},
   "source": [
    "## Parse"
   ]
  },
  {
   "cell_type": "code",
   "execution_count": 8,
   "metadata": {
    "execution": {
     "iopub.execute_input": "2021-09-24T08:22:56.421870Z",
     "iopub.status.busy": "2021-09-24T08:22:56.419537Z",
     "iopub.status.idle": "2021-09-24T08:22:56.424409Z",
     "shell.execute_reply": "2021-09-24T08:22:56.423651Z"
    }
   },
   "outputs": [],
   "source": [
    "dict_list = []"
   ]
  },
  {
   "cell_type": "code",
   "execution_count": 9,
   "metadata": {
    "execution": {
     "iopub.execute_input": "2021-09-24T08:22:56.431923Z",
     "iopub.status.busy": "2021-09-24T08:22:56.429511Z",
     "iopub.status.idle": "2021-09-24T08:22:56.437432Z",
     "shell.execute_reply": "2021-09-24T08:22:56.436497Z"
    }
   },
   "outputs": [],
   "source": [
    "for item in data[\"features\"]:\n",
    "    d = dict(\n",
    "        county=\"Yolo\",\n",
    "        area=item[\"attributes\"][\"ReportingArea\"],\n",
    "        confirmed_cases=item[\"attributes\"][\"count_result\"],\n",
    "    )\n",
    "    dict_list.append(d)"
   ]
  },
  {
   "cell_type": "code",
   "execution_count": 10,
   "metadata": {
    "execution": {
     "iopub.execute_input": "2021-09-24T08:22:56.444131Z",
     "iopub.status.busy": "2021-09-24T08:22:56.443597Z",
     "iopub.status.idle": "2021-09-24T08:22:56.446696Z",
     "shell.execute_reply": "2021-09-24T08:22:56.447108Z"
    }
   },
   "outputs": [],
   "source": [
    "df = pd.DataFrame(dict_list)"
   ]
  },
  {
   "cell_type": "markdown",
   "metadata": {},
   "source": [
    "Get timestamp"
   ]
  },
  {
   "cell_type": "code",
   "execution_count": 11,
   "metadata": {
    "execution": {
     "iopub.execute_input": "2021-09-24T08:22:56.453898Z",
     "iopub.status.busy": "2021-09-24T08:22:56.449398Z",
     "iopub.status.idle": "2021-09-24T08:22:56.594669Z",
     "shell.execute_reply": "2021-09-24T08:22:56.595177Z"
    }
   },
   "outputs": [],
   "source": [
    "date_url = \"https://services2.arcgis.com/RETsakmE0SJfZXCd/arcgis/rest/services/Covid19_Cases_New_Workflow_Testing_FS/FeatureServer/0?f=json\"\n",
    "date_r = requests.get(date_url)\n",
    "date_data = date_r.json()"
   ]
  },
  {
   "cell_type": "code",
   "execution_count": 12,
   "metadata": {
    "execution": {
     "iopub.execute_input": "2021-09-24T08:22:56.602436Z",
     "iopub.status.busy": "2021-09-24T08:22:56.601847Z",
     "iopub.status.idle": "2021-09-24T08:22:56.725090Z",
     "shell.execute_reply": "2021-09-24T08:22:56.724455Z"
    }
   },
   "outputs": [
    {
     "ename": "KeyError",
     "evalue": "'editingInfo'",
     "output_type": "error",
     "traceback": [
      "\u001b[0;31m---------------------------------------------------------------------------\u001b[0m",
      "\u001b[0;31mKeyError\u001b[0m                                  Traceback (most recent call last)",
      "\u001b[0;32m/tmp/ipykernel_4022/307039471.py\u001b[0m in \u001b[0;36m<module>\u001b[0;34m\u001b[0m\n\u001b[0;32m----> 1\u001b[0;31m \u001b[0mtimestamp\u001b[0m \u001b[0;34m=\u001b[0m \u001b[0mdate_data\u001b[0m\u001b[0;34m[\u001b[0m\u001b[0;34m\"editingInfo\"\u001b[0m\u001b[0;34m]\u001b[0m\u001b[0;34m[\u001b[0m\u001b[0;34m\"lastEditDate\"\u001b[0m\u001b[0;34m]\u001b[0m\u001b[0;34m\u001b[0m\u001b[0;34m\u001b[0m\u001b[0m\n\u001b[0m",
      "\u001b[0;31mKeyError\u001b[0m: 'editingInfo'"
     ]
    }
   ],
   "source": [
    "timestamp = date_data[\"editingInfo\"][\"lastEditDate\"]"
   ]
  },
  {
   "cell_type": "code",
   "execution_count": null,
   "metadata": {},
   "outputs": [],
   "source": [
    "timestamp = datetime.fromtimestamp((timestamp / 1000))"
   ]
  },
  {
   "cell_type": "code",
   "execution_count": null,
   "metadata": {},
   "outputs": [],
   "source": [
    "latest_date = pd.to_datetime(timestamp).date()"
   ]
  },
  {
   "cell_type": "code",
   "execution_count": null,
   "metadata": {},
   "outputs": [],
   "source": [
    "df[\"county_date\"] = latest_date"
   ]
  },
  {
   "cell_type": "markdown",
   "metadata": {},
   "source": [
    "## Vet"
   ]
  },
  {
   "cell_type": "code",
   "execution_count": null,
   "metadata": {},
   "outputs": [],
   "source": [
    "try:\n",
    "    assert not len(df) > 5\n",
    "except AssertionError:\n",
    "    raise AssertionError(\"Yolo County's scraper has extra rows\")"
   ]
  },
  {
   "cell_type": "code",
   "execution_count": null,
   "metadata": {},
   "outputs": [],
   "source": [
    "try:\n",
    "    assert not len(df) < 5\n",
    "except AssertionError:\n",
    "    raise AssertionError(\"Yolo County's scraper is missing rows\")"
   ]
  },
  {
   "cell_type": "markdown",
   "metadata": {},
   "source": [
    "## Export"
   ]
  },
  {
   "cell_type": "markdown",
   "metadata": {},
   "source": [
    "Set date"
   ]
  },
  {
   "cell_type": "code",
   "execution_count": null,
   "metadata": {},
   "outputs": [],
   "source": [
    "tz = pytz.timezone(\"America/Los_Angeles\")"
   ]
  },
  {
   "cell_type": "code",
   "execution_count": null,
   "metadata": {},
   "outputs": [],
   "source": [
    "today = datetime.now(tz).date()"
   ]
  },
  {
   "cell_type": "code",
   "execution_count": null,
   "metadata": {},
   "outputs": [],
   "source": [
    "slug = \"yolo\""
   ]
  },
  {
   "cell_type": "code",
   "execution_count": null,
   "metadata": {},
   "outputs": [],
   "source": [
    "df.to_csv(data_dir / slug / f\"{today}.csv\", index=False)"
   ]
  },
  {
   "cell_type": "markdown",
   "metadata": {},
   "source": [
    "## Combine"
   ]
  },
  {
   "cell_type": "code",
   "execution_count": null,
   "metadata": {},
   "outputs": [],
   "source": [
    "csv_list = [\n",
    "    i\n",
    "    for i in glob.glob(str(data_dir / slug / \"*.csv\"))\n",
    "    if not str(i).endswith(\"timeseries.csv\")\n",
    "]"
   ]
  },
  {
   "cell_type": "code",
   "execution_count": null,
   "metadata": {},
   "outputs": [],
   "source": [
    "df_list = []\n",
    "for csv in csv_list:\n",
    "    if \"manual\" in csv:\n",
    "        df = pd.read_csv(csv, parse_dates=[\"date\"])\n",
    "    else:\n",
    "        file_date = csv.split(\"/\")[-1].replace(\".csv\", \"\")\n",
    "        df = pd.read_csv(csv, parse_dates=[\"county_date\"])\n",
    "        df[\"date\"] = file_date\n",
    "    df_list.append(df)"
   ]
  },
  {
   "cell_type": "code",
   "execution_count": null,
   "metadata": {},
   "outputs": [],
   "source": [
    "df = pd.concat(df_list).sort_values([\"date\", \"area\"])"
   ]
  },
  {
   "cell_type": "code",
   "execution_count": null,
   "metadata": {},
   "outputs": [],
   "source": [
    "df.to_csv(data_dir / slug / \"timeseries.csv\", index=False)"
   ]
  }
 ],
 "metadata": {
  "kernelspec": {
   "display_name": "Python 3 (ipykernel)",
   "language": "python",
   "name": "python3"
  },
  "language_info": {
   "codemirror_mode": {
    "name": "ipython",
    "version": 3
   },
   "file_extension": ".py",
   "mimetype": "text/x-python",
   "name": "python",
   "nbconvert_exporter": "python",
   "pygments_lexer": "ipython3",
   "version": "3.8.12"
  }
 },
 "nbformat": 4,
 "nbformat_minor": 4
}
