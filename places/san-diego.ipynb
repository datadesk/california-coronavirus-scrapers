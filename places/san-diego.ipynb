{
 "cells": [
  {
   "cell_type": "markdown",
   "metadata": {},
   "source": [
    "## Configuration\n",
    "_Initial steps to get the notebook ready to play nice with our repository. Do not delete this section._"
   ]
  },
  {
   "cell_type": "markdown",
   "metadata": {},
   "source": [
    "Code formatting with [black](https://pypi.org/project/nb-black/)."
   ]
  },
  {
   "cell_type": "markdown",
   "metadata": {},
   "source": [
    "### NOTE\n",
    "Per SD [website](https://www.arcgis.com/apps/dashboards/96feda77f12f46638b984fcb1d17bd24): \"Beginning 7/1/2021, data will be updated weekly on Wednesdays. Last updated 7/7/2021\"\n"
   ]
  },
  {
   "cell_type": "code",
   "execution_count": 1,
   "metadata": {
    "execution": {
     "iopub.execute_input": "2022-10-11T04:51:43.548214Z",
     "iopub.status.busy": "2022-10-11T04:51:43.547779Z",
     "iopub.status.idle": "2022-10-11T04:51:43.714838Z",
     "shell.execute_reply": "2022-10-11T04:51:43.714330Z"
    },
    "tags": []
   },
   "outputs": [],
   "source": [
    "%load_ext lab_black"
   ]
  },
  {
   "cell_type": "code",
   "execution_count": 2,
   "metadata": {
    "execution": {
     "iopub.execute_input": "2022-10-11T04:51:43.723299Z",
     "iopub.status.busy": "2022-10-11T04:51:43.722833Z",
     "iopub.status.idle": "2022-10-11T04:51:43.726698Z",
     "shell.execute_reply": "2022-10-11T04:51:43.727044Z"
    }
   },
   "outputs": [],
   "source": [
    "import os\n",
    "import pytz\n",
    "import glob\n",
    "import pathlib\n",
    "\n",
    "this_dir = pathlib.Path(os.path.abspath(\"\"))\n",
    "data_dir = this_dir / \"data\""
   ]
  },
  {
   "cell_type": "code",
   "execution_count": 3,
   "metadata": {
    "execution": {
     "iopub.execute_input": "2022-10-11T04:51:43.730398Z",
     "iopub.status.busy": "2022-10-11T04:51:43.729937Z",
     "iopub.status.idle": "2022-10-11T04:51:44.005233Z",
     "shell.execute_reply": "2022-10-11T04:51:44.004398Z"
    }
   },
   "outputs": [],
   "source": [
    "import requests\n",
    "import pandas as pd\n",
    "from datetime import datetime, date, timedelta\n",
    "from slugify import slugify\n",
    "import numpy as np\n",
    "import pytz"
   ]
  },
  {
   "cell_type": "markdown",
   "metadata": {},
   "source": [
    "## Download"
   ]
  },
  {
   "cell_type": "markdown",
   "metadata": {},
   "source": [
    "Get the county's latest update time to set the query"
   ]
  },
  {
   "cell_type": "code",
   "execution_count": 4,
   "metadata": {
    "execution": {
     "iopub.execute_input": "2022-10-11T04:51:44.009325Z",
     "iopub.status.busy": "2022-10-11T04:51:44.007426Z",
     "iopub.status.idle": "2022-10-11T04:51:44.013377Z",
     "shell.execute_reply": "2022-10-11T04:51:44.012576Z"
    }
   },
   "outputs": [],
   "source": [
    "sd_metadata_url = \"https://services1.arcgis.com/1vIhDJwtG5eNmiqX/arcgis/rest/services/Covid19_San_Diego_County_Statistics_PUBLIC_VIEW/FeatureServer/0/?f=json\""
   ]
  },
  {
   "cell_type": "code",
   "execution_count": 5,
   "metadata": {
    "execution": {
     "iopub.execute_input": "2022-10-11T04:51:44.019546Z",
     "iopub.status.busy": "2022-10-11T04:51:44.016486Z",
     "iopub.status.idle": "2022-10-11T04:51:44.203024Z",
     "shell.execute_reply": "2022-10-11T04:51:44.202297Z"
    }
   },
   "outputs": [],
   "source": [
    "sd_metadata_r = requests.get(sd_metadata_url)"
   ]
  },
  {
   "cell_type": "code",
   "execution_count": 6,
   "metadata": {
    "execution": {
     "iopub.execute_input": "2022-10-11T04:51:44.207615Z",
     "iopub.status.busy": "2022-10-11T04:51:44.207152Z",
     "iopub.status.idle": "2022-10-11T04:51:44.210312Z",
     "shell.execute_reply": "2022-10-11T04:51:44.209899Z"
    }
   },
   "outputs": [],
   "source": [
    "sd_metadata = sd_metadata_r.json()"
   ]
  },
  {
   "cell_type": "code",
   "execution_count": 7,
   "metadata": {
    "execution": {
     "iopub.execute_input": "2022-10-11T04:51:44.215394Z",
     "iopub.status.busy": "2022-10-11T04:51:44.214613Z",
     "iopub.status.idle": "2022-10-11T04:51:44.217795Z",
     "shell.execute_reply": "2022-10-11T04:51:44.218145Z"
    }
   },
   "outputs": [],
   "source": [
    "last_updated_str = sd_metadata[\"editingInfo\"][\"lastEditDate\"]"
   ]
  },
  {
   "cell_type": "code",
   "execution_count": 8,
   "metadata": {
    "execution": {
     "iopub.execute_input": "2022-10-11T04:51:44.221762Z",
     "iopub.status.busy": "2022-10-11T04:51:44.221317Z",
     "iopub.status.idle": "2022-10-11T04:51:44.240234Z",
     "shell.execute_reply": "2022-10-11T04:51:44.239843Z"
    }
   },
   "outputs": [],
   "source": [
    "tz = pytz.timezone(\"America/Los_Angeles\")\n",
    "last_updated = datetime.fromtimestamp(last_updated_str / 1000, tz).date()"
   ]
  },
  {
   "cell_type": "code",
   "execution_count": 9,
   "metadata": {
    "execution": {
     "iopub.execute_input": "2022-10-11T04:51:44.249073Z",
     "iopub.status.busy": "2022-10-11T04:51:44.248631Z",
     "iopub.status.idle": "2022-10-11T04:51:44.254099Z",
     "shell.execute_reply": "2022-10-11T04:51:44.254701Z"
    }
   },
   "outputs": [
    {
     "data": {
      "text/plain": [
       "datetime.date(2022, 10, 6)"
      ]
     },
     "execution_count": 9,
     "metadata": {},
     "output_type": "execute_result"
    }
   ],
   "source": [
    "last_updated"
   ]
  },
  {
   "cell_type": "code",
   "execution_count": 10,
   "metadata": {
    "execution": {
     "iopub.execute_input": "2022-10-11T04:51:44.258439Z",
     "iopub.status.busy": "2022-10-11T04:51:44.257714Z",
     "iopub.status.idle": "2022-10-11T04:51:44.262715Z",
     "shell.execute_reply": "2022-10-11T04:51:44.261870Z"
    }
   },
   "outputs": [],
   "source": [
    "day_before = last_updated - timedelta(days=5)"
   ]
  },
  {
   "cell_type": "code",
   "execution_count": 11,
   "metadata": {
    "execution": {
     "iopub.execute_input": "2022-10-11T04:51:44.266203Z",
     "iopub.status.busy": "2022-10-11T04:51:44.265729Z",
     "iopub.status.idle": "2022-10-11T04:51:44.270694Z",
     "shell.execute_reply": "2022-10-11T04:51:44.271032Z"
    }
   },
   "outputs": [
    {
     "data": {
      "text/plain": [
       "datetime.date(2022, 10, 1)"
      ]
     },
     "execution_count": 11,
     "metadata": {},
     "output_type": "execute_result"
    }
   ],
   "source": [
    "day_before"
   ]
  },
  {
   "cell_type": "markdown",
   "metadata": {},
   "source": [
    "Retrieve the page"
   ]
  },
  {
   "cell_type": "code",
   "execution_count": 12,
   "metadata": {
    "execution": {
     "iopub.execute_input": "2022-10-11T04:51:44.276389Z",
     "iopub.status.busy": "2022-10-11T04:51:44.275337Z",
     "iopub.status.idle": "2022-10-11T04:51:44.279064Z",
     "shell.execute_reply": "2022-10-11T04:51:44.278473Z"
    }
   },
   "outputs": [],
   "source": [
    "url = f\"https://services1.arcgis.com/1vIhDJwtG5eNmiqX/arcgis/rest/services/Covid19_San_Diego_County_Statistics_PUBLIC_VIEW/FeatureServer/0/query?f=json&where=(Case_Count%20%3E%3D%201)%20AND%20(UpdateDate%20BETWEEN%20timestamp%20%27{day_before}%2007%3A00%3A00%27%20AND%20timestamp%20%27{last_updated}%2006%3A59%3A59%27)&returnGeometry=false&spatialRel=esriSpatialRelIntersects&outFields=*&outSR=102100&resultOffset=0&resultRecordCount=125&resultType=standard&cacheHint=true\""
   ]
  },
  {
   "cell_type": "code",
   "execution_count": 13,
   "metadata": {
    "execution": {
     "iopub.execute_input": "2022-10-11T04:51:44.285553Z",
     "iopub.status.busy": "2022-10-11T04:51:44.284556Z",
     "iopub.status.idle": "2022-10-11T04:51:44.498922Z",
     "shell.execute_reply": "2022-10-11T04:51:44.498459Z"
    }
   },
   "outputs": [],
   "source": [
    "r = requests.get(url)"
   ]
  },
  {
   "cell_type": "code",
   "execution_count": 14,
   "metadata": {
    "execution": {
     "iopub.execute_input": "2022-10-11T04:51:44.503813Z",
     "iopub.status.busy": "2022-10-11T04:51:44.503364Z",
     "iopub.status.idle": "2022-10-11T04:51:44.506637Z",
     "shell.execute_reply": "2022-10-11T04:51:44.506268Z"
    }
   },
   "outputs": [],
   "source": [
    "data = r.json()"
   ]
  },
  {
   "cell_type": "markdown",
   "metadata": {
    "tags": []
   },
   "source": [
    "## Parse"
   ]
  },
  {
   "cell_type": "markdown",
   "metadata": {},
   "source": [
    "Parse the result"
   ]
  },
  {
   "cell_type": "code",
   "execution_count": 15,
   "metadata": {
    "execution": {
     "iopub.execute_input": "2022-10-11T04:51:44.511405Z",
     "iopub.status.busy": "2022-10-11T04:51:44.510749Z",
     "iopub.status.idle": "2022-10-11T04:51:44.514192Z",
     "shell.execute_reply": "2022-10-11T04:51:44.513570Z"
    }
   },
   "outputs": [],
   "source": [
    "features = data[\"features\"]"
   ]
  },
  {
   "cell_type": "code",
   "execution_count": 16,
   "metadata": {
    "execution": {
     "iopub.execute_input": "2022-10-11T04:51:44.518296Z",
     "iopub.status.busy": "2022-10-11T04:51:44.517837Z",
     "iopub.status.idle": "2022-10-11T04:51:44.520359Z",
     "shell.execute_reply": "2022-10-11T04:51:44.520722Z"
    }
   },
   "outputs": [],
   "source": [
    "values = []"
   ]
  },
  {
   "cell_type": "code",
   "execution_count": 17,
   "metadata": {
    "execution": {
     "iopub.execute_input": "2022-10-11T04:51:44.526929Z",
     "iopub.status.busy": "2022-10-11T04:51:44.525638Z",
     "iopub.status.idle": "2022-10-11T04:51:44.529066Z",
     "shell.execute_reply": "2022-10-11T04:51:44.529446Z"
    }
   },
   "outputs": [],
   "source": [
    "for f in features:\n",
    "    row = f[\"attributes\"].values()\n",
    "    values.append(row)"
   ]
  },
  {
   "cell_type": "code",
   "execution_count": 18,
   "metadata": {
    "execution": {
     "iopub.execute_input": "2022-10-11T04:51:44.532874Z",
     "iopub.status.busy": "2022-10-11T04:51:44.532437Z",
     "iopub.status.idle": "2022-10-11T04:51:44.646471Z",
     "shell.execute_reply": "2022-10-11T04:51:44.644907Z"
    }
   },
   "outputs": [
    {
     "ename": "IndexError",
     "evalue": "list index out of range",
     "output_type": "error",
     "traceback": [
      "\u001b[0;31m---------------------------------------------------------------------------\u001b[0m",
      "\u001b[0;31mIndexError\u001b[0m                                Traceback (most recent call last)",
      "\u001b[0;32m/tmp/ipykernel_2545/100029346.py\u001b[0m in \u001b[0;36m<module>\u001b[0;34m\u001b[0m\n\u001b[0;32m----> 1\u001b[0;31m \u001b[0mcols\u001b[0m \u001b[0;34m=\u001b[0m \u001b[0mlist\u001b[0m\u001b[0;34m(\u001b[0m\u001b[0mdata\u001b[0m\u001b[0;34m[\u001b[0m\u001b[0;34m\"features\"\u001b[0m\u001b[0;34m]\u001b[0m\u001b[0;34m[\u001b[0m\u001b[0;36m0\u001b[0m\u001b[0;34m]\u001b[0m\u001b[0;34m[\u001b[0m\u001b[0;34m\"attributes\"\u001b[0m\u001b[0;34m]\u001b[0m\u001b[0;34m.\u001b[0m\u001b[0mkeys\u001b[0m\u001b[0;34m(\u001b[0m\u001b[0;34m)\u001b[0m\u001b[0;34m)\u001b[0m\u001b[0;34m\u001b[0m\u001b[0;34m\u001b[0m\u001b[0m\n\u001b[0m",
      "\u001b[0;31mIndexError\u001b[0m: list index out of range"
     ]
    }
   ],
   "source": [
    "cols = list(data[\"features\"][0][\"attributes\"].keys())"
   ]
  },
  {
   "cell_type": "markdown",
   "metadata": {},
   "source": [
    "Convert to a dataframe"
   ]
  },
  {
   "cell_type": "code",
   "execution_count": 19,
   "metadata": {},
   "outputs": [],
   "source": [
    "df = pd.DataFrame(values, columns=cols)"
   ]
  },
  {
   "cell_type": "markdown",
   "metadata": {},
   "source": [
    "Clean"
   ]
  },
  {
   "cell_type": "code",
   "execution_count": 20,
   "metadata": {},
   "outputs": [],
   "source": [
    "clean_df = df[[\"ZipText\", \"Case_Count\", \"UpdateDate\"]]"
   ]
  },
  {
   "cell_type": "code",
   "execution_count": 21,
   "metadata": {},
   "outputs": [],
   "source": [
    "clean_df = clean_df.rename(\n",
    "    columns={\n",
    "        \"ZipText\": \"zip\",\n",
    "        \"Case_Count\": \"confirmed_cases\",\n",
    "        \"UpdateDate\": \"update_date\",\n",
    "    }\n",
    ")"
   ]
  },
  {
   "cell_type": "markdown",
   "metadata": {},
   "source": [
    "Reformat and set the date"
   ]
  },
  {
   "cell_type": "code",
   "execution_count": 22,
   "metadata": {},
   "outputs": [],
   "source": [
    "clean_df[\"timestamp\"] = clean_df[\"update_date\"] / (1000)"
   ]
  },
  {
   "cell_type": "code",
   "execution_count": 23,
   "metadata": {},
   "outputs": [],
   "source": [
    "clean_df[\"timestamp_int\"] = clean_df[\"timestamp\"].astype(int)"
   ]
  },
  {
   "cell_type": "code",
   "execution_count": 24,
   "metadata": {},
   "outputs": [],
   "source": [
    "timestamps = list(clean_df[\"timestamp_int\"])"
   ]
  },
  {
   "cell_type": "code",
   "execution_count": 25,
   "metadata": {},
   "outputs": [],
   "source": [
    "dates = [datetime.fromtimestamp(t) for t in timestamps]"
   ]
  },
  {
   "cell_type": "code",
   "execution_count": 26,
   "metadata": {},
   "outputs": [],
   "source": [
    "clean_df[\"county_date\"] = dates"
   ]
  },
  {
   "cell_type": "code",
   "execution_count": 27,
   "metadata": {},
   "outputs": [],
   "source": [
    "clean_df[\"county_date\"] = pd.to_datetime(clean_df[\"county_date\"]).dt.date"
   ]
  },
  {
   "cell_type": "markdown",
   "metadata": {},
   "source": [
    "Filter to just the latest date"
   ]
  },
  {
   "cell_type": "code",
   "execution_count": 28,
   "metadata": {},
   "outputs": [],
   "source": [
    "latest_df = clean_df[clean_df.county_date == clean_df.county_date.max()]"
   ]
  },
  {
   "cell_type": "markdown",
   "metadata": {},
   "source": [
    "Match zips with community names"
   ]
  },
  {
   "cell_type": "code",
   "execution_count": 29,
   "metadata": {},
   "outputs": [],
   "source": [
    "matchup = {\n",
    "    \"91901\": \"Alpine\",\n",
    "    \"91902\": \"Bonita\",\n",
    "    \"91905\": \"Boulevard\",\n",
    "    \"91906\": \"Campo\",\n",
    "    \"91910\": \"Chula Vista\",\n",
    "    \"91911\": \"Chula Vista\",\n",
    "    \"91913\": \"Chula Vista\",\n",
    "    \"91914\": \"Chula Vista\",\n",
    "    \"91915\": \"Chula Vista\",\n",
    "    \"91916\": \"Descanso\",\n",
    "    \"91917\": \"Dulzura\",\n",
    "    \"91931\": \"Guatay\",\n",
    "    \"91932\": \"Imperial Beach\",\n",
    "    \"91934\": \"Jacumba\",\n",
    "    \"91935\": \"Jamul\",\n",
    "    \"91941\": \"La Mesa\",\n",
    "    \"91942\": \"La Mesa\",\n",
    "    \"91945\": \"Lemon Grove\",\n",
    "    \"91948\": \"Mount Laguna\",\n",
    "    \"91950\": \"National City\",\n",
    "    \"91962\": \"Pine Valley\",\n",
    "    \"91963\": \"Potrero\",\n",
    "    \"91977\": \"Spring Valley\",\n",
    "    \"91978\": \"Spring Valley\",\n",
    "    \"91980\": \"Tecate\",\n",
    "    \"92003\": \"Bonsall\",\n",
    "    \"92004\": \"Borrego Springs\",\n",
    "    \"92007\": \"Cardiff by the Sea\",\n",
    "    \"92008\": \"Carlsbad\",\n",
    "    \"92009\": \"Carlsbad\",\n",
    "    \"92010\": \"Carlsbad\",\n",
    "    \"92011\": \"Carlsbad\",\n",
    "    \"92014\": \"Del Mar\",\n",
    "    \"92019\": \"El Cajon\",\n",
    "    \"92020\": \"El Cajon\",\n",
    "    \"92021\": \"El Cajon\",\n",
    "    \"92024\": \"Encinitas\",\n",
    "    \"92025\": \"Escondido\",\n",
    "    \"92026\": \"Escondido\",\n",
    "    \"92027\": \"Escondido\",\n",
    "    \"92028\": \"Fallbrook\",\n",
    "    \"92029\": \"Escondido\",\n",
    "    \"92036\": \"Julian\",\n",
    "    \"92037\": \"La Jolla\",\n",
    "    \"92040\": \"Lakeside\",\n",
    "    \"92054\": \"Oceanside\",\n",
    "    \"92055\": \"Camp Pendleton\",\n",
    "    \"92056\": \"Oceanside\",\n",
    "    \"92057\": \"Oceanside\",\n",
    "    \"92058\": \"Oceanside\",\n",
    "    \"92059\": \"Pala\",\n",
    "    \"92060\": \"Palomar Mountain\",\n",
    "    \"92061\": \"Pauma Valley\",\n",
    "    \"92064\": \"Poway\",\n",
    "    \"92065\": \"Ramona\",\n",
    "    \"92066\": \"Ranchita\",\n",
    "    \"92067\": \"Rancho Santa Fe\",\n",
    "    \"92069\": \"San Marcos\",\n",
    "    \"92070\": \"Santa Ysabel\",\n",
    "    \"92071\": \"Santee\",\n",
    "    \"92075\": \"Solana Beach\",\n",
    "    \"92078\": \"San Marcos\",\n",
    "    \"92081\": \"Vista\",\n",
    "    \"92082\": \"Valley Center\",\n",
    "    \"92083\": \"Vista\",\n",
    "    \"92084\": \"Vista\",\n",
    "    \"92086\": \"Warner Springs\",\n",
    "    \"92091\": \"Rancho Santa Fe\",\n",
    "    \"92093\": \"La Jolla\",\n",
    "    \"92096\": \"San Marcos\",\n",
    "    \"92101\": \"San Diego\",\n",
    "    \"92102\": \"San Diego\",\n",
    "    \"92103\": \"San Diego\",\n",
    "    \"92104\": \"San Diego\",\n",
    "    \"92105\": \"San Diego\",\n",
    "    \"92106\": \"San Diego\",\n",
    "    \"92107\": \"San Diego\",\n",
    "    \"92108\": \"San Diego\",\n",
    "    \"92109\": \"San Diego\",\n",
    "    \"92110\": \"San Diego\",\n",
    "    \"92111\": \"San Diego\",\n",
    "    \"92113\": \"San Diego\",\n",
    "    \"92114\": \"San Diego\",\n",
    "    \"92115\": \"San Diego\",\n",
    "    \"92116\": \"San Diego\",\n",
    "    \"92117\": \"San Diego\",\n",
    "    \"92118\": \"Coronado\",\n",
    "    \"92119\": \"San Diego\",\n",
    "    \"92120\": \"San Diego\",\n",
    "    \"92121\": \"San Diego\",\n",
    "    \"92122\": \"San Diego\",\n",
    "    \"92123\": \"San Diego\",\n",
    "    \"92124\": \"San Diego\",\n",
    "    \"92126\": \"San Diego\",\n",
    "    \"92127\": \"San Diego\",\n",
    "    \"92128\": \"San Diego\",\n",
    "    \"92129\": \"San Diego\",\n",
    "    \"92130\": \"San Diego\",\n",
    "    \"92131\": \"San Diego\",\n",
    "    \"92134\": \"San Diego\",\n",
    "    \"92135\": \"Coronado\",\n",
    "    \"92136\": \"San Diego\",\n",
    "    \"92139\": \"San Diego\",\n",
    "    \"92140\": \"San Diego\",\n",
    "    \"92145\": \"San Diego\",\n",
    "    \"92154\": \"San Diego\",\n",
    "    \"92155\": \"Coronado\",\n",
    "    \"92161\": \"San Diego\",\n",
    "    \"92173\": \"San Ysidro\",\n",
    "    \"92182\": \"San Diego\",\n",
    "    \"92259\": \"Ocotillo\",\n",
    "    \"92536\": \"Aguanga\",\n",
    "    \"92672\": \"San Clemente\",\n",
    "}"
   ]
  },
  {
   "cell_type": "code",
   "execution_count": 30,
   "metadata": {},
   "outputs": [],
   "source": [
    "latest_df[\"city\"] = latest_df.zip.map(matchup)"
   ]
  },
  {
   "cell_type": "code",
   "execution_count": 31,
   "metadata": {},
   "outputs": [],
   "source": [
    "latest_df[\"area\"] = latest_df[\"zip\"] + \": \" + latest_df[\"city\"]"
   ]
  },
  {
   "cell_type": "code",
   "execution_count": 32,
   "metadata": {},
   "outputs": [],
   "source": [
    "latest_df[\"county\"] = \"San Diego\""
   ]
  },
  {
   "cell_type": "code",
   "execution_count": 33,
   "metadata": {},
   "outputs": [],
   "source": [
    "export_df = latest_df[[\"county\", \"area\", \"confirmed_cases\", \"county_date\", \"zip\"]]"
   ]
  },
  {
   "cell_type": "code",
   "execution_count": 34,
   "metadata": {},
   "outputs": [],
   "source": [
    "export_df = export_df.rename(columns={\"area\": \"city\"}).drop_duplicates()"
   ]
  },
  {
   "cell_type": "markdown",
   "metadata": {},
   "source": [
    "## Vet"
   ]
  },
  {
   "cell_type": "markdown",
   "metadata": {},
   "source": [
    "Make sure everyone is here"
   ]
  },
  {
   "cell_type": "code",
   "execution_count": 35,
   "metadata": {},
   "outputs": [],
   "source": [
    "dupes = export_df[export_df.duplicated()]"
   ]
  },
  {
   "cell_type": "code",
   "execution_count": 36,
   "metadata": {},
   "outputs": [],
   "source": [
    "try:\n",
    "    assert len(dupes) == 0\n",
    "except AssertionError:\n",
    "    print(dupes.set_index(\"county\")[[\"county_date\", \"city\"]])\n",
    "    raise AssertionError(\n",
    "        f\"There are {len(dupes)} duplicate zip codes in the San Diego scraper\"\n",
    "    )"
   ]
  },
  {
   "cell_type": "code",
   "execution_count": 37,
   "metadata": {},
   "outputs": [],
   "source": [
    "try:\n",
    "    assert not len(export_df) > 110\n",
    "except AssertionError:\n",
    "    raise AssertionError(\"San Diego County's scraper has more rows than before\")"
   ]
  },
  {
   "cell_type": "code",
   "execution_count": 38,
   "metadata": {},
   "outputs": [],
   "source": [
    "try:\n",
    "    assert not len(export_df) < 110\n",
    "except AssertionError:\n",
    "    raise AssertionError(\"San Diego County's scraper is missing rows\")"
   ]
  },
  {
   "cell_type": "markdown",
   "metadata": {},
   "source": [
    "## Export"
   ]
  },
  {
   "cell_type": "markdown",
   "metadata": {},
   "source": [
    "Set date"
   ]
  },
  {
   "cell_type": "code",
   "execution_count": 39,
   "metadata": {},
   "outputs": [],
   "source": [
    "tz = pytz.timezone(\"America/Los_Angeles\")"
   ]
  },
  {
   "cell_type": "code",
   "execution_count": 40,
   "metadata": {},
   "outputs": [],
   "source": [
    "today = datetime.now(tz).date()"
   ]
  },
  {
   "cell_type": "code",
   "execution_count": 41,
   "metadata": {},
   "outputs": [],
   "source": [
    "slug = \"san-diego\""
   ]
  },
  {
   "cell_type": "code",
   "execution_count": 42,
   "metadata": {},
   "outputs": [],
   "source": [
    "export_df.to_csv(data_dir / slug / f\"{today}.csv\", index=False)"
   ]
  },
  {
   "cell_type": "markdown",
   "metadata": {},
   "source": [
    "## Combine"
   ]
  },
  {
   "cell_type": "code",
   "execution_count": 43,
   "metadata": {},
   "outputs": [],
   "source": [
    "csv_list = [\n",
    "    i\n",
    "    for i in glob.glob(str(data_dir / slug / \"*.csv\"))\n",
    "    if not str(i).endswith(\"timeseries.csv\")\n",
    "]"
   ]
  },
  {
   "cell_type": "code",
   "execution_count": 44,
   "metadata": {},
   "outputs": [],
   "source": [
    "df_list = []\n",
    "for csv in csv_list:\n",
    "    if \"manual\" in csv:\n",
    "        df = pd.read_csv(csv, parse_dates=[\"date\"])\n",
    "    else:\n",
    "        file_date = csv.split(\"/\")[-1].replace(\".csv\", \"\")\n",
    "        df = pd.read_csv(csv, parse_dates=[\"county_date\"]).rename(\n",
    "            columns={\"city\": \"area\"}\n",
    "        )\n",
    "        df[\"date\"] = file_date\n",
    "    df_list.append(df)"
   ]
  },
  {
   "cell_type": "code",
   "execution_count": 45,
   "metadata": {},
   "outputs": [],
   "source": [
    "df = pd.concat(df_list).sort_values([\"date\", \"area\"])"
   ]
  },
  {
   "cell_type": "code",
   "execution_count": 47,
   "metadata": {},
   "outputs": [],
   "source": [
    "df.to_csv(data_dir / slug / \"timeseries.csv\", index=False)"
   ]
  }
 ],
 "metadata": {
  "kernelspec": {
   "display_name": "Python 3 (ipykernel)",
   "language": "python",
   "name": "python3"
  },
  "language_info": {
   "codemirror_mode": {
    "name": "ipython",
    "version": 3
   },
   "file_extension": ".py",
   "mimetype": "text/x-python",
   "name": "python",
   "nbconvert_exporter": "python",
   "pygments_lexer": "ipython3",
   "version": "3.8.14"
  }
 },
 "nbformat": 4,
 "nbformat_minor": 4
}
