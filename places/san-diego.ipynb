{
 "cells": [
  {
   "cell_type": "markdown",
   "metadata": {},
   "source": [
    "## Configuration\n",
    "_Initial steps to get the notebook ready to play nice with our repository. Do not delete this section._"
   ]
  },
  {
   "cell_type": "markdown",
   "metadata": {},
   "source": [
    "Code formatting with [black](https://pypi.org/project/nb-black/)."
   ]
  },
  {
   "cell_type": "markdown",
   "metadata": {},
   "source": [
    "### NOTE\n",
    "Per SD [website](https://www.arcgis.com/apps/dashboards/96feda77f12f46638b984fcb1d17bd24): \"Beginning 7/1/2021, data will be updated weekly on Wednesdays. Last updated 7/7/2021\"\n"
   ]
  },
  {
   "cell_type": "code",
   "execution_count": 1,
   "metadata": {
    "execution": {
     "iopub.execute_input": "2022-09-23T00:40:18.018943Z",
     "iopub.status.busy": "2022-09-23T00:40:18.018485Z",
     "iopub.status.idle": "2022-09-23T00:40:18.211438Z",
     "shell.execute_reply": "2022-09-23T00:40:18.210768Z"
    },
    "tags": []
   },
   "outputs": [],
   "source": [
    "%load_ext lab_black"
   ]
  },
  {
   "cell_type": "code",
   "execution_count": 2,
   "metadata": {
    "execution": {
     "iopub.execute_input": "2022-09-23T00:40:18.217201Z",
     "iopub.status.busy": "2022-09-23T00:40:18.216678Z",
     "iopub.status.idle": "2022-09-23T00:40:18.226060Z",
     "shell.execute_reply": "2022-09-23T00:40:18.225622Z"
    }
   },
   "outputs": [],
   "source": [
    "import os\n",
    "import pytz\n",
    "import glob\n",
    "import pathlib\n",
    "\n",
    "this_dir = pathlib.Path(os.path.abspath(\"\"))\n",
    "data_dir = this_dir / \"data\""
   ]
  },
  {
   "cell_type": "code",
   "execution_count": 3,
   "metadata": {
    "execution": {
     "iopub.execute_input": "2022-09-23T00:40:18.231129Z",
     "iopub.status.busy": "2022-09-23T00:40:18.230627Z",
     "iopub.status.idle": "2022-09-23T00:40:18.541566Z",
     "shell.execute_reply": "2022-09-23T00:40:18.540559Z"
    }
   },
   "outputs": [],
   "source": [
    "import requests\n",
    "import pandas as pd\n",
    "from datetime import datetime, date, timedelta\n",
    "from slugify import slugify\n",
    "import numpy as np\n",
    "import pytz"
   ]
  },
  {
   "cell_type": "markdown",
   "metadata": {},
   "source": [
    "## Download"
   ]
  },
  {
   "cell_type": "markdown",
   "metadata": {},
   "source": [
    "Get the county's latest update time to set the query"
   ]
  },
  {
   "cell_type": "code",
   "execution_count": 4,
   "metadata": {
    "execution": {
     "iopub.execute_input": "2022-09-23T00:40:18.546434Z",
     "iopub.status.busy": "2022-09-23T00:40:18.545921Z",
     "iopub.status.idle": "2022-09-23T00:40:18.549995Z",
     "shell.execute_reply": "2022-09-23T00:40:18.549065Z"
    }
   },
   "outputs": [],
   "source": [
    "sd_metadata_url = \"https://services1.arcgis.com/1vIhDJwtG5eNmiqX/arcgis/rest/services/Covid19_San_Diego_County_Statistics_PUBLIC_VIEW/FeatureServer/0/?f=json\""
   ]
  },
  {
   "cell_type": "code",
   "execution_count": 5,
   "metadata": {
    "execution": {
     "iopub.execute_input": "2022-09-23T00:40:18.558020Z",
     "iopub.status.busy": "2022-09-23T00:40:18.554172Z",
     "iopub.status.idle": "2022-09-23T00:40:18.706519Z",
     "shell.execute_reply": "2022-09-23T00:40:18.707008Z"
    }
   },
   "outputs": [],
   "source": [
    "sd_metadata_r = requests.get(sd_metadata_url)"
   ]
  },
  {
   "cell_type": "code",
   "execution_count": 6,
   "metadata": {
    "execution": {
     "iopub.execute_input": "2022-09-23T00:40:18.713653Z",
     "iopub.status.busy": "2022-09-23T00:40:18.713076Z",
     "iopub.status.idle": "2022-09-23T00:40:18.716780Z",
     "shell.execute_reply": "2022-09-23T00:40:18.716363Z"
    }
   },
   "outputs": [],
   "source": [
    "sd_metadata = sd_metadata_r.json()"
   ]
  },
  {
   "cell_type": "code",
   "execution_count": 7,
   "metadata": {
    "execution": {
     "iopub.execute_input": "2022-09-23T00:40:18.722947Z",
     "iopub.status.busy": "2022-09-23T00:40:18.719184Z",
     "iopub.status.idle": "2022-09-23T00:40:18.724890Z",
     "shell.execute_reply": "2022-09-23T00:40:18.724488Z"
    }
   },
   "outputs": [],
   "source": [
    "last_updated_str = sd_metadata[\"editingInfo\"][\"lastEditDate\"]"
   ]
  },
  {
   "cell_type": "code",
   "execution_count": 8,
   "metadata": {
    "execution": {
     "iopub.execute_input": "2022-09-23T00:40:18.729011Z",
     "iopub.status.busy": "2022-09-23T00:40:18.728541Z",
     "iopub.status.idle": "2022-09-23T00:40:18.750367Z",
     "shell.execute_reply": "2022-09-23T00:40:18.749839Z"
    }
   },
   "outputs": [],
   "source": [
    "tz = pytz.timezone(\"America/Los_Angeles\")\n",
    "last_updated = datetime.fromtimestamp(last_updated_str / 1000, tz).date()"
   ]
  },
  {
   "cell_type": "code",
   "execution_count": 9,
   "metadata": {
    "execution": {
     "iopub.execute_input": "2022-09-23T00:40:18.761292Z",
     "iopub.status.busy": "2022-09-23T00:40:18.760762Z",
     "iopub.status.idle": "2022-09-23T00:40:18.768243Z",
     "shell.execute_reply": "2022-09-23T00:40:18.767354Z"
    }
   },
   "outputs": [
    {
     "data": {
      "text/plain": [
       "datetime.date(2022, 9, 22)"
      ]
     },
     "execution_count": 9,
     "metadata": {},
     "output_type": "execute_result"
    }
   ],
   "source": [
    "last_updated"
   ]
  },
  {
   "cell_type": "code",
   "execution_count": 10,
   "metadata": {
    "execution": {
     "iopub.execute_input": "2022-09-23T00:40:18.774836Z",
     "iopub.status.busy": "2022-09-23T00:40:18.774332Z",
     "iopub.status.idle": "2022-09-23T00:40:18.777801Z",
     "shell.execute_reply": "2022-09-23T00:40:18.777358Z"
    }
   },
   "outputs": [],
   "source": [
    "day_before = last_updated - timedelta(days=5)"
   ]
  },
  {
   "cell_type": "code",
   "execution_count": 11,
   "metadata": {
    "execution": {
     "iopub.execute_input": "2022-09-23T00:40:18.782752Z",
     "iopub.status.busy": "2022-09-23T00:40:18.782070Z",
     "iopub.status.idle": "2022-09-23T00:40:18.788862Z",
     "shell.execute_reply": "2022-09-23T00:40:18.788237Z"
    }
   },
   "outputs": [
    {
     "data": {
      "text/plain": [
       "datetime.date(2022, 9, 17)"
      ]
     },
     "execution_count": 11,
     "metadata": {},
     "output_type": "execute_result"
    }
   ],
   "source": [
    "day_before"
   ]
  },
  {
   "cell_type": "markdown",
   "metadata": {},
   "source": [
    "Retrieve the page"
   ]
  },
  {
   "cell_type": "code",
   "execution_count": 12,
   "metadata": {
    "execution": {
     "iopub.execute_input": "2022-09-23T00:40:18.794489Z",
     "iopub.status.busy": "2022-09-23T00:40:18.793200Z",
     "iopub.status.idle": "2022-09-23T00:40:18.799016Z",
     "shell.execute_reply": "2022-09-23T00:40:18.798239Z"
    }
   },
   "outputs": [],
   "source": [
    "url = f\"https://services1.arcgis.com/1vIhDJwtG5eNmiqX/arcgis/rest/services/Covid19_San_Diego_County_Statistics_PUBLIC_VIEW/FeatureServer/0/query?f=json&where=(Case_Count%20%3E%3D%201)%20AND%20(UpdateDate%20BETWEEN%20timestamp%20%27{day_before}%2007%3A00%3A00%27%20AND%20timestamp%20%27{last_updated}%2006%3A59%3A59%27)&returnGeometry=false&spatialRel=esriSpatialRelIntersects&outFields=*&outSR=102100&resultOffset=0&resultRecordCount=125&resultType=standard&cacheHint=true\""
   ]
  },
  {
   "cell_type": "code",
   "execution_count": 13,
   "metadata": {
    "execution": {
     "iopub.execute_input": "2022-09-23T00:40:18.806879Z",
     "iopub.status.busy": "2022-09-23T00:40:18.801223Z",
     "iopub.status.idle": "2022-09-23T00:40:19.026709Z",
     "shell.execute_reply": "2022-09-23T00:40:19.025531Z"
    }
   },
   "outputs": [],
   "source": [
    "r = requests.get(url)"
   ]
  },
  {
   "cell_type": "code",
   "execution_count": 14,
   "metadata": {
    "execution": {
     "iopub.execute_input": "2022-09-23T00:40:19.031513Z",
     "iopub.status.busy": "2022-09-23T00:40:19.031016Z",
     "iopub.status.idle": "2022-09-23T00:40:19.034016Z",
     "shell.execute_reply": "2022-09-23T00:40:19.034374Z"
    }
   },
   "outputs": [],
   "source": [
    "data = r.json()"
   ]
  },
  {
   "cell_type": "markdown",
   "metadata": {
    "tags": []
   },
   "source": [
    "## Parse"
   ]
  },
  {
   "cell_type": "markdown",
   "metadata": {},
   "source": [
    "Parse the result"
   ]
  },
  {
   "cell_type": "code",
   "execution_count": 15,
   "metadata": {
    "execution": {
     "iopub.execute_input": "2022-09-23T00:40:19.040415Z",
     "iopub.status.busy": "2022-09-23T00:40:19.038617Z",
     "iopub.status.idle": "2022-09-23T00:40:19.042762Z",
     "shell.execute_reply": "2022-09-23T00:40:19.042317Z"
    }
   },
   "outputs": [],
   "source": [
    "features = data[\"features\"]"
   ]
  },
  {
   "cell_type": "code",
   "execution_count": 16,
   "metadata": {
    "execution": {
     "iopub.execute_input": "2022-09-23T00:40:19.047366Z",
     "iopub.status.busy": "2022-09-23T00:40:19.046310Z",
     "iopub.status.idle": "2022-09-23T00:40:19.050109Z",
     "shell.execute_reply": "2022-09-23T00:40:19.050465Z"
    }
   },
   "outputs": [],
   "source": [
    "values = []"
   ]
  },
  {
   "cell_type": "code",
   "execution_count": 17,
   "metadata": {
    "execution": {
     "iopub.execute_input": "2022-09-23T00:40:19.059506Z",
     "iopub.status.busy": "2022-09-23T00:40:19.055573Z",
     "iopub.status.idle": "2022-09-23T00:40:19.062430Z",
     "shell.execute_reply": "2022-09-23T00:40:19.062836Z"
    }
   },
   "outputs": [],
   "source": [
    "for f in features:\n",
    "    row = f[\"attributes\"].values()\n",
    "    values.append(row)"
   ]
  },
  {
   "cell_type": "code",
   "execution_count": 18,
   "metadata": {
    "execution": {
     "iopub.execute_input": "2022-09-23T00:40:19.068577Z",
     "iopub.status.busy": "2022-09-23T00:40:19.066977Z",
     "iopub.status.idle": "2022-09-23T00:40:19.200361Z",
     "shell.execute_reply": "2022-09-23T00:40:19.198461Z"
    }
   },
   "outputs": [
    {
     "ename": "IndexError",
     "evalue": "list index out of range",
     "output_type": "error",
     "traceback": [
      "\u001b[0;31m---------------------------------------------------------------------------\u001b[0m",
      "\u001b[0;31mIndexError\u001b[0m                                Traceback (most recent call last)",
      "\u001b[0;32m/tmp/ipykernel_2688/100029346.py\u001b[0m in \u001b[0;36m<module>\u001b[0;34m\u001b[0m\n\u001b[0;32m----> 1\u001b[0;31m \u001b[0mcols\u001b[0m \u001b[0;34m=\u001b[0m \u001b[0mlist\u001b[0m\u001b[0;34m(\u001b[0m\u001b[0mdata\u001b[0m\u001b[0;34m[\u001b[0m\u001b[0;34m\"features\"\u001b[0m\u001b[0;34m]\u001b[0m\u001b[0;34m[\u001b[0m\u001b[0;36m0\u001b[0m\u001b[0;34m]\u001b[0m\u001b[0;34m[\u001b[0m\u001b[0;34m\"attributes\"\u001b[0m\u001b[0;34m]\u001b[0m\u001b[0;34m.\u001b[0m\u001b[0mkeys\u001b[0m\u001b[0;34m(\u001b[0m\u001b[0;34m)\u001b[0m\u001b[0;34m)\u001b[0m\u001b[0;34m\u001b[0m\u001b[0;34m\u001b[0m\u001b[0m\n\u001b[0m",
      "\u001b[0;31mIndexError\u001b[0m: list index out of range"
     ]
    }
   ],
   "source": [
    "cols = list(data[\"features\"][0][\"attributes\"].keys())"
   ]
  },
  {
   "cell_type": "markdown",
   "metadata": {},
   "source": [
    "Convert to a dataframe"
   ]
  },
  {
   "cell_type": "code",
   "execution_count": 19,
   "metadata": {},
   "outputs": [],
   "source": [
    "df = pd.DataFrame(values, columns=cols)"
   ]
  },
  {
   "cell_type": "markdown",
   "metadata": {},
   "source": [
    "Clean"
   ]
  },
  {
   "cell_type": "code",
   "execution_count": 20,
   "metadata": {},
   "outputs": [],
   "source": [
    "clean_df = df[[\"ZipText\", \"Case_Count\", \"UpdateDate\"]]"
   ]
  },
  {
   "cell_type": "code",
   "execution_count": 21,
   "metadata": {},
   "outputs": [],
   "source": [
    "clean_df = clean_df.rename(\n",
    "    columns={\n",
    "        \"ZipText\": \"zip\",\n",
    "        \"Case_Count\": \"confirmed_cases\",\n",
    "        \"UpdateDate\": \"update_date\",\n",
    "    }\n",
    ")"
   ]
  },
  {
   "cell_type": "markdown",
   "metadata": {},
   "source": [
    "Reformat and set the date"
   ]
  },
  {
   "cell_type": "code",
   "execution_count": 22,
   "metadata": {},
   "outputs": [],
   "source": [
    "clean_df[\"timestamp\"] = clean_df[\"update_date\"] / (1000)"
   ]
  },
  {
   "cell_type": "code",
   "execution_count": 23,
   "metadata": {},
   "outputs": [],
   "source": [
    "clean_df[\"timestamp_int\"] = clean_df[\"timestamp\"].astype(int)"
   ]
  },
  {
   "cell_type": "code",
   "execution_count": 24,
   "metadata": {},
   "outputs": [],
   "source": [
    "timestamps = list(clean_df[\"timestamp_int\"])"
   ]
  },
  {
   "cell_type": "code",
   "execution_count": 25,
   "metadata": {},
   "outputs": [],
   "source": [
    "dates = [datetime.fromtimestamp(t) for t in timestamps]"
   ]
  },
  {
   "cell_type": "code",
   "execution_count": 26,
   "metadata": {},
   "outputs": [],
   "source": [
    "clean_df[\"county_date\"] = dates"
   ]
  },
  {
   "cell_type": "code",
   "execution_count": 27,
   "metadata": {},
   "outputs": [],
   "source": [
    "clean_df[\"county_date\"] = pd.to_datetime(clean_df[\"county_date\"]).dt.date"
   ]
  },
  {
   "cell_type": "markdown",
   "metadata": {},
   "source": [
    "Filter to just the latest date"
   ]
  },
  {
   "cell_type": "code",
   "execution_count": 28,
   "metadata": {},
   "outputs": [],
   "source": [
    "latest_df = clean_df[clean_df.county_date == clean_df.county_date.max()]"
   ]
  },
  {
   "cell_type": "markdown",
   "metadata": {},
   "source": [
    "Match zips with community names"
   ]
  },
  {
   "cell_type": "code",
   "execution_count": 29,
   "metadata": {},
   "outputs": [],
   "source": [
    "matchup = {\n",
    "    \"91901\": \"Alpine\",\n",
    "    \"91902\": \"Bonita\",\n",
    "    \"91905\": \"Boulevard\",\n",
    "    \"91906\": \"Campo\",\n",
    "    \"91910\": \"Chula Vista\",\n",
    "    \"91911\": \"Chula Vista\",\n",
    "    \"91913\": \"Chula Vista\",\n",
    "    \"91914\": \"Chula Vista\",\n",
    "    \"91915\": \"Chula Vista\",\n",
    "    \"91916\": \"Descanso\",\n",
    "    \"91917\": \"Dulzura\",\n",
    "    \"91931\": \"Guatay\",\n",
    "    \"91932\": \"Imperial Beach\",\n",
    "    \"91934\": \"Jacumba\",\n",
    "    \"91935\": \"Jamul\",\n",
    "    \"91941\": \"La Mesa\",\n",
    "    \"91942\": \"La Mesa\",\n",
    "    \"91945\": \"Lemon Grove\",\n",
    "    \"91948\": \"Mount Laguna\",\n",
    "    \"91950\": \"National City\",\n",
    "    \"91962\": \"Pine Valley\",\n",
    "    \"91963\": \"Potrero\",\n",
    "    \"91977\": \"Spring Valley\",\n",
    "    \"91978\": \"Spring Valley\",\n",
    "    \"91980\": \"Tecate\",\n",
    "    \"92003\": \"Bonsall\",\n",
    "    \"92004\": \"Borrego Springs\",\n",
    "    \"92007\": \"Cardiff by the Sea\",\n",
    "    \"92008\": \"Carlsbad\",\n",
    "    \"92009\": \"Carlsbad\",\n",
    "    \"92010\": \"Carlsbad\",\n",
    "    \"92011\": \"Carlsbad\",\n",
    "    \"92014\": \"Del Mar\",\n",
    "    \"92019\": \"El Cajon\",\n",
    "    \"92020\": \"El Cajon\",\n",
    "    \"92021\": \"El Cajon\",\n",
    "    \"92024\": \"Encinitas\",\n",
    "    \"92025\": \"Escondido\",\n",
    "    \"92026\": \"Escondido\",\n",
    "    \"92027\": \"Escondido\",\n",
    "    \"92028\": \"Fallbrook\",\n",
    "    \"92029\": \"Escondido\",\n",
    "    \"92036\": \"Julian\",\n",
    "    \"92037\": \"La Jolla\",\n",
    "    \"92040\": \"Lakeside\",\n",
    "    \"92054\": \"Oceanside\",\n",
    "    \"92055\": \"Camp Pendleton\",\n",
    "    \"92056\": \"Oceanside\",\n",
    "    \"92057\": \"Oceanside\",\n",
    "    \"92058\": \"Oceanside\",\n",
    "    \"92059\": \"Pala\",\n",
    "    \"92060\": \"Palomar Mountain\",\n",
    "    \"92061\": \"Pauma Valley\",\n",
    "    \"92064\": \"Poway\",\n",
    "    \"92065\": \"Ramona\",\n",
    "    \"92066\": \"Ranchita\",\n",
    "    \"92067\": \"Rancho Santa Fe\",\n",
    "    \"92069\": \"San Marcos\",\n",
    "    \"92070\": \"Santa Ysabel\",\n",
    "    \"92071\": \"Santee\",\n",
    "    \"92075\": \"Solana Beach\",\n",
    "    \"92078\": \"San Marcos\",\n",
    "    \"92081\": \"Vista\",\n",
    "    \"92082\": \"Valley Center\",\n",
    "    \"92083\": \"Vista\",\n",
    "    \"92084\": \"Vista\",\n",
    "    \"92086\": \"Warner Springs\",\n",
    "    \"92091\": \"Rancho Santa Fe\",\n",
    "    \"92093\": \"La Jolla\",\n",
    "    \"92096\": \"San Marcos\",\n",
    "    \"92101\": \"San Diego\",\n",
    "    \"92102\": \"San Diego\",\n",
    "    \"92103\": \"San Diego\",\n",
    "    \"92104\": \"San Diego\",\n",
    "    \"92105\": \"San Diego\",\n",
    "    \"92106\": \"San Diego\",\n",
    "    \"92107\": \"San Diego\",\n",
    "    \"92108\": \"San Diego\",\n",
    "    \"92109\": \"San Diego\",\n",
    "    \"92110\": \"San Diego\",\n",
    "    \"92111\": \"San Diego\",\n",
    "    \"92113\": \"San Diego\",\n",
    "    \"92114\": \"San Diego\",\n",
    "    \"92115\": \"San Diego\",\n",
    "    \"92116\": \"San Diego\",\n",
    "    \"92117\": \"San Diego\",\n",
    "    \"92118\": \"Coronado\",\n",
    "    \"92119\": \"San Diego\",\n",
    "    \"92120\": \"San Diego\",\n",
    "    \"92121\": \"San Diego\",\n",
    "    \"92122\": \"San Diego\",\n",
    "    \"92123\": \"San Diego\",\n",
    "    \"92124\": \"San Diego\",\n",
    "    \"92126\": \"San Diego\",\n",
    "    \"92127\": \"San Diego\",\n",
    "    \"92128\": \"San Diego\",\n",
    "    \"92129\": \"San Diego\",\n",
    "    \"92130\": \"San Diego\",\n",
    "    \"92131\": \"San Diego\",\n",
    "    \"92134\": \"San Diego\",\n",
    "    \"92135\": \"Coronado\",\n",
    "    \"92136\": \"San Diego\",\n",
    "    \"92139\": \"San Diego\",\n",
    "    \"92140\": \"San Diego\",\n",
    "    \"92145\": \"San Diego\",\n",
    "    \"92154\": \"San Diego\",\n",
    "    \"92155\": \"Coronado\",\n",
    "    \"92161\": \"San Diego\",\n",
    "    \"92173\": \"San Ysidro\",\n",
    "    \"92182\": \"San Diego\",\n",
    "    \"92259\": \"Ocotillo\",\n",
    "    \"92536\": \"Aguanga\",\n",
    "    \"92672\": \"San Clemente\",\n",
    "}"
   ]
  },
  {
   "cell_type": "code",
   "execution_count": 30,
   "metadata": {},
   "outputs": [],
   "source": [
    "latest_df[\"city\"] = latest_df.zip.map(matchup)"
   ]
  },
  {
   "cell_type": "code",
   "execution_count": 31,
   "metadata": {},
   "outputs": [],
   "source": [
    "latest_df[\"area\"] = latest_df[\"zip\"] + \": \" + latest_df[\"city\"]"
   ]
  },
  {
   "cell_type": "code",
   "execution_count": 32,
   "metadata": {},
   "outputs": [],
   "source": [
    "latest_df[\"county\"] = \"San Diego\""
   ]
  },
  {
   "cell_type": "code",
   "execution_count": 33,
   "metadata": {},
   "outputs": [],
   "source": [
    "export_df = latest_df[[\"county\", \"area\", \"confirmed_cases\", \"county_date\", \"zip\"]]"
   ]
  },
  {
   "cell_type": "code",
   "execution_count": 34,
   "metadata": {},
   "outputs": [],
   "source": [
    "export_df = export_df.rename(columns={\"area\": \"city\"}).drop_duplicates()"
   ]
  },
  {
   "cell_type": "markdown",
   "metadata": {},
   "source": [
    "## Vet"
   ]
  },
  {
   "cell_type": "markdown",
   "metadata": {},
   "source": [
    "Make sure everyone is here"
   ]
  },
  {
   "cell_type": "code",
   "execution_count": 35,
   "metadata": {},
   "outputs": [],
   "source": [
    "dupes = export_df[export_df.duplicated()]"
   ]
  },
  {
   "cell_type": "code",
   "execution_count": 36,
   "metadata": {},
   "outputs": [],
   "source": [
    "try:\n",
    "    assert len(dupes) == 0\n",
    "except AssertionError:\n",
    "    print(dupes.set_index(\"county\")[[\"county_date\", \"city\"]])\n",
    "    raise AssertionError(\n",
    "        f\"There are {len(dupes)} duplicate zip codes in the San Diego scraper\"\n",
    "    )"
   ]
  },
  {
   "cell_type": "code",
   "execution_count": 37,
   "metadata": {},
   "outputs": [],
   "source": [
    "try:\n",
    "    assert not len(export_df) > 110\n",
    "except AssertionError:\n",
    "    raise AssertionError(\"San Diego County's scraper has more rows than before\")"
   ]
  },
  {
   "cell_type": "code",
   "execution_count": 38,
   "metadata": {},
   "outputs": [],
   "source": [
    "try:\n",
    "    assert not len(export_df) < 110\n",
    "except AssertionError:\n",
    "    raise AssertionError(\"San Diego County's scraper is missing rows\")"
   ]
  },
  {
   "cell_type": "markdown",
   "metadata": {},
   "source": [
    "## Export"
   ]
  },
  {
   "cell_type": "markdown",
   "metadata": {},
   "source": [
    "Set date"
   ]
  },
  {
   "cell_type": "code",
   "execution_count": 39,
   "metadata": {},
   "outputs": [],
   "source": [
    "tz = pytz.timezone(\"America/Los_Angeles\")"
   ]
  },
  {
   "cell_type": "code",
   "execution_count": 40,
   "metadata": {},
   "outputs": [],
   "source": [
    "today = datetime.now(tz).date()"
   ]
  },
  {
   "cell_type": "code",
   "execution_count": 41,
   "metadata": {},
   "outputs": [],
   "source": [
    "slug = \"san-diego\""
   ]
  },
  {
   "cell_type": "code",
   "execution_count": 42,
   "metadata": {},
   "outputs": [],
   "source": [
    "export_df.to_csv(data_dir / slug / f\"{today}.csv\", index=False)"
   ]
  },
  {
   "cell_type": "markdown",
   "metadata": {},
   "source": [
    "## Combine"
   ]
  },
  {
   "cell_type": "code",
   "execution_count": 43,
   "metadata": {},
   "outputs": [],
   "source": [
    "csv_list = [\n",
    "    i\n",
    "    for i in glob.glob(str(data_dir / slug / \"*.csv\"))\n",
    "    if not str(i).endswith(\"timeseries.csv\")\n",
    "]"
   ]
  },
  {
   "cell_type": "code",
   "execution_count": 44,
   "metadata": {},
   "outputs": [],
   "source": [
    "df_list = []\n",
    "for csv in csv_list:\n",
    "    if \"manual\" in csv:\n",
    "        df = pd.read_csv(csv, parse_dates=[\"date\"])\n",
    "    else:\n",
    "        file_date = csv.split(\"/\")[-1].replace(\".csv\", \"\")\n",
    "        df = pd.read_csv(csv, parse_dates=[\"county_date\"]).rename(\n",
    "            columns={\"city\": \"area\"}\n",
    "        )\n",
    "        df[\"date\"] = file_date\n",
    "    df_list.append(df)"
   ]
  },
  {
   "cell_type": "code",
   "execution_count": 45,
   "metadata": {},
   "outputs": [],
   "source": [
    "df = pd.concat(df_list).sort_values([\"date\", \"area\"])"
   ]
  },
  {
   "cell_type": "code",
   "execution_count": 47,
   "metadata": {},
   "outputs": [],
   "source": [
    "df.to_csv(data_dir / slug / \"timeseries.csv\", index=False)"
   ]
  }
 ],
 "metadata": {
  "kernelspec": {
   "display_name": "Python 3 (ipykernel)",
   "language": "python",
   "name": "python3"
  },
  "language_info": {
   "codemirror_mode": {
    "name": "ipython",
    "version": 3
   },
   "file_extension": ".py",
   "mimetype": "text/x-python",
   "name": "python",
   "nbconvert_exporter": "python",
   "pygments_lexer": "ipython3",
   "version": "3.8.13"
  }
 },
 "nbformat": 4,
 "nbformat_minor": 4
}
