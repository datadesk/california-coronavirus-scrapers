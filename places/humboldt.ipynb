{
 "cells": [
  {
   "cell_type": "markdown",
   "metadata": {},
   "source": [
    "## Configuration\n",
    "_Initial steps to get the notebook ready to play nice with our repository. Do not delete this section._"
   ]
  },
  {
   "cell_type": "markdown",
   "metadata": {},
   "source": [
    "Code formatting with [black](https://pypi.org/project/nb-black/)."
   ]
  },
  {
   "cell_type": "code",
   "execution_count": 1,
   "metadata": {
    "execution": {
     "iopub.execute_input": "2022-11-23T08:19:08.373163Z",
     "iopub.status.busy": "2022-11-23T08:19:08.372656Z",
     "iopub.status.idle": "2022-11-23T08:19:08.517594Z",
     "shell.execute_reply": "2022-11-23T08:19:08.516983Z"
    }
   },
   "outputs": [],
   "source": [
    "%load_ext lab_black"
   ]
  },
  {
   "cell_type": "code",
   "execution_count": 2,
   "metadata": {
    "execution": {
     "iopub.execute_input": "2022-11-23T08:19:08.522534Z",
     "iopub.status.busy": "2022-11-23T08:19:08.521538Z",
     "iopub.status.idle": "2022-11-23T08:19:08.523063Z",
     "shell.execute_reply": "2022-11-23T08:19:08.523424Z"
    }
   },
   "outputs": [],
   "source": [
    "import os\n",
    "import pathlib"
   ]
  },
  {
   "cell_type": "code",
   "execution_count": 3,
   "metadata": {
    "execution": {
     "iopub.execute_input": "2022-11-23T08:19:08.527067Z",
     "iopub.status.busy": "2022-11-23T08:19:08.526618Z",
     "iopub.status.idle": "2022-11-23T08:19:08.530797Z",
     "shell.execute_reply": "2022-11-23T08:19:08.530406Z"
    }
   },
   "outputs": [],
   "source": [
    "this_dir = pathlib.Path(os.path.abspath(\"\"))"
   ]
  },
  {
   "cell_type": "code",
   "execution_count": 4,
   "metadata": {
    "execution": {
     "iopub.execute_input": "2022-11-23T08:19:08.535649Z",
     "iopub.status.busy": "2022-11-23T08:19:08.534680Z",
     "iopub.status.idle": "2022-11-23T08:19:08.536172Z",
     "shell.execute_reply": "2022-11-23T08:19:08.536532Z"
    }
   },
   "outputs": [],
   "source": [
    "data_dir = this_dir / \"data\""
   ]
  },
  {
   "cell_type": "code",
   "execution_count": 5,
   "metadata": {
    "execution": {
     "iopub.execute_input": "2022-11-23T08:19:08.540070Z",
     "iopub.status.busy": "2022-11-23T08:19:08.539625Z",
     "iopub.status.idle": "2022-11-23T08:19:08.931654Z",
     "shell.execute_reply": "2022-11-23T08:19:08.931188Z"
    }
   },
   "outputs": [],
   "source": [
    "import re\n",
    "import pytz\n",
    "import glob\n",
    "import requests\n",
    "import pandas as pd\n",
    "from bs4 import BeautifulSoup\n",
    "from datetime import datetime, date, timedelta\n",
    "from tableauscraper import TableauScraper as TS"
   ]
  },
  {
   "cell_type": "markdown",
   "metadata": {},
   "source": [
    "## Download"
   ]
  },
  {
   "cell_type": "code",
   "execution_count": 6,
   "metadata": {
    "execution": {
     "iopub.execute_input": "2022-11-23T08:19:08.935745Z",
     "iopub.status.busy": "2022-11-23T08:19:08.935276Z",
     "iopub.status.idle": "2022-11-23T08:19:08.938456Z",
     "shell.execute_reply": "2022-11-23T08:19:08.938062Z"
    }
   },
   "outputs": [],
   "source": [
    "url = \"https://public.tableau.com/views/case10/rev-ZIPRATE_1?%3Adisplay_static_image=y&%3AbootstrapWhenNotified=true&%3Aembed=true&%3Alanguage=en-US&:embed=y&:showVizHome=n&:apiID=host0#navType=0&navSrc=Parse\""
   ]
  },
  {
   "cell_type": "markdown",
   "metadata": {},
   "source": [
    "## Parse"
   ]
  },
  {
   "cell_type": "code",
   "execution_count": 7,
   "metadata": {
    "execution": {
     "iopub.execute_input": "2022-11-23T08:19:08.942281Z",
     "iopub.status.busy": "2022-11-23T08:19:08.941830Z",
     "iopub.status.idle": "2022-11-23T08:19:10.231002Z",
     "shell.execute_reply": "2022-11-23T08:19:10.230523Z"
    }
   },
   "outputs": [],
   "source": [
    "ts = TS()\n",
    "ts.loads(url)\n",
    "workbook = ts.getWorkbook()\n",
    "\n",
    "# for t in workbook.worksheets:\n",
    "#     print(f\"worksheet name : {t.name}\")  # show worksheet name\n",
    "#     print(t.data)  # show dataframe for this worksheet"
   ]
  },
  {
   "cell_type": "code",
   "execution_count": 8,
   "metadata": {
    "execution": {
     "iopub.execute_input": "2022-11-23T08:19:10.237269Z",
     "iopub.status.busy": "2022-11-23T08:19:10.236169Z",
     "iopub.status.idle": "2022-11-23T08:19:10.240228Z",
     "shell.execute_reply": "2022-11-23T08:19:10.239527Z"
    }
   },
   "outputs": [],
   "source": [
    "ws = ts.getWorksheet(\"ZIPCODE\")\n",
    "df = ws.data"
   ]
  },
  {
   "cell_type": "code",
   "execution_count": 9,
   "metadata": {
    "execution": {
     "iopub.execute_input": "2022-11-23T08:19:10.245357Z",
     "iopub.status.busy": "2022-11-23T08:19:10.242167Z",
     "iopub.status.idle": "2022-11-23T08:19:10.250594Z",
     "shell.execute_reply": "2022-11-23T08:19:10.250981Z"
    }
   },
   "outputs": [],
   "source": [
    "rename_cols = {\n",
    "    \"HUMBOLDT COUNTY REGIONS-alias\": \"area\",\n",
    "    \"CNT(humlist_update.csv)-alias\": \"confirmed_cases\",\n",
    "    \"Latitude (generated)-value\": \"lat\",\n",
    "    \"Latitude (generated)-alias\": \"lat_alias\",\n",
    "    \"Longitude (generated)-value\": \"lon\",\n",
    "    \"Longitude (generated)-alias\": \"lat_alias\",\n",
    "    \"AGG(Case rate per 100,000 by Hum. Co. Region)-alias\": \"case_rate\",\n",
    "}"
   ]
  },
  {
   "cell_type": "code",
   "execution_count": 10,
   "metadata": {
    "execution": {
     "iopub.execute_input": "2022-11-23T08:19:10.256355Z",
     "iopub.status.busy": "2022-11-23T08:19:10.255751Z",
     "iopub.status.idle": "2022-11-23T08:19:10.258469Z",
     "shell.execute_reply": "2022-11-23T08:19:10.259030Z"
    }
   },
   "outputs": [],
   "source": [
    "df = df.rename(columns=rename_cols)"
   ]
  },
  {
   "cell_type": "code",
   "execution_count": 11,
   "metadata": {
    "execution": {
     "iopub.execute_input": "2022-11-23T08:19:10.264260Z",
     "iopub.status.busy": "2022-11-23T08:19:10.263526Z",
     "iopub.status.idle": "2022-11-23T08:19:10.268935Z",
     "shell.execute_reply": "2022-11-23T08:19:10.268335Z"
    }
   },
   "outputs": [],
   "source": [
    "df = df.drop([\"lat\", \"lat_alias\", \"lon\", \"lat_alias\", \"case_rate\"], axis=1)"
   ]
  },
  {
   "cell_type": "code",
   "execution_count": 12,
   "metadata": {
    "execution": {
     "iopub.execute_input": "2022-11-23T08:19:10.274572Z",
     "iopub.status.busy": "2022-11-23T08:19:10.273969Z",
     "iopub.status.idle": "2022-11-23T08:19:10.278664Z",
     "shell.execute_reply": "2022-11-23T08:19:10.278274Z"
    }
   },
   "outputs": [],
   "source": [
    "df[\"area\"] = df[\"area\"].str.title()"
   ]
  },
  {
   "cell_type": "code",
   "execution_count": 13,
   "metadata": {
    "execution": {
     "iopub.execute_input": "2022-11-23T08:19:10.283734Z",
     "iopub.status.busy": "2022-11-23T08:19:10.282377Z",
     "iopub.status.idle": "2022-11-23T08:19:10.286294Z",
     "shell.execute_reply": "2022-11-23T08:19:10.286666Z"
    }
   },
   "outputs": [],
   "source": [
    "df.insert(0, \"county\", \"Humboldt\")"
   ]
  },
  {
   "cell_type": "markdown",
   "metadata": {},
   "source": [
    "Scrape another embed for the update date"
   ]
  },
  {
   "cell_type": "code",
   "execution_count": 14,
   "metadata": {
    "execution": {
     "iopub.execute_input": "2022-11-23T08:19:10.291269Z",
     "iopub.status.busy": "2022-11-23T08:19:10.290656Z",
     "iopub.status.idle": "2022-11-23T08:19:10.293910Z",
     "shell.execute_reply": "2022-11-23T08:19:10.293323Z"
    }
   },
   "outputs": [],
   "source": [
    "date_url = \"https://public.tableau.com/views/case1_16476245794140/caseplustest22?:language=en-US&:embed=y&:embed_code_version=3&:loadOrderID=0&:display_count=y&:origin=viz_share_link\""
   ]
  },
  {
   "cell_type": "code",
   "execution_count": 15,
   "metadata": {
    "execution": {
     "iopub.execute_input": "2022-11-23T08:19:10.300301Z",
     "iopub.status.busy": "2022-11-23T08:19:10.296770Z",
     "iopub.status.idle": "2022-11-23T08:20:00.534736Z",
     "shell.execute_reply": "2022-11-23T08:20:00.533283Z"
    }
   },
   "outputs": [
    {
     "ename": "AttributeError",
     "evalue": "'NoneType' object has no attribute 'text'",
     "output_type": "error",
     "traceback": [
      "\u001b[0;31m---------------------------------------------------------------------------\u001b[0m",
      "\u001b[0;31mAttributeError\u001b[0m                            Traceback (most recent call last)",
      "\u001b[0;32m/tmp/ipykernel_2129/2493231892.py\u001b[0m in \u001b[0;36m<module>\u001b[0;34m\u001b[0m\n\u001b[1;32m      1\u001b[0m \u001b[0mts_date\u001b[0m \u001b[0;34m=\u001b[0m \u001b[0mTS\u001b[0m\u001b[0;34m(\u001b[0m\u001b[0;34m)\u001b[0m\u001b[0;34m\u001b[0m\u001b[0;34m\u001b[0m\u001b[0m\n\u001b[0;32m----> 2\u001b[0;31m \u001b[0mts_date\u001b[0m\u001b[0;34m.\u001b[0m\u001b[0mloads\u001b[0m\u001b[0;34m(\u001b[0m\u001b[0mdate_url\u001b[0m\u001b[0;34m)\u001b[0m\u001b[0;34m\u001b[0m\u001b[0;34m\u001b[0m\u001b[0m\n\u001b[0m",
      "\u001b[0;32m~/.local/share/virtualenvs/california-coronavirus-scrapers-dxuBXRsm/lib/python3.8/site-packages/tableauscraper/TableauScraper.py\u001b[0m in \u001b[0;36mloads\u001b[0;34m(self, url)\u001b[0m\n\u001b[1;32m     68\u001b[0m \u001b[0;34m\u001b[0m\u001b[0m\n\u001b[1;32m     69\u001b[0m         self.tableauData = json.loads(\n\u001b[0;32m---> 70\u001b[0;31m             \u001b[0msoup\u001b[0m\u001b[0;34m.\u001b[0m\u001b[0mfind\u001b[0m\u001b[0;34m(\u001b[0m\u001b[0;34m\"textarea\"\u001b[0m\u001b[0;34m,\u001b[0m \u001b[0;34m{\u001b[0m\u001b[0;34m\"id\"\u001b[0m\u001b[0;34m:\u001b[0m \u001b[0;34m\"tsConfigContainer\"\u001b[0m\u001b[0;34m}\u001b[0m\u001b[0;34m)\u001b[0m\u001b[0;34m.\u001b[0m\u001b[0mtext\u001b[0m\u001b[0;34m\u001b[0m\u001b[0;34m\u001b[0m\u001b[0m\n\u001b[0m\u001b[1;32m     71\u001b[0m         )\n\u001b[1;32m     72\u001b[0m \u001b[0;34m\u001b[0m\u001b[0m\n",
      "\u001b[0;31mAttributeError\u001b[0m: 'NoneType' object has no attribute 'text'"
     ]
    }
   ],
   "source": [
    "ts_date = TS()\n",
    "ts_date.loads(date_url)"
   ]
  },
  {
   "cell_type": "code",
   "execution_count": 16,
   "metadata": {},
   "outputs": [],
   "source": [
    "ws_date = ts_date.getWorksheet(\"todaydate\")\n",
    "df_date = ws_date.data"
   ]
  },
  {
   "cell_type": "code",
   "execution_count": 17,
   "metadata": {},
   "outputs": [],
   "source": [
    "county_date = df_date[\"DAY(Todaysdate)-value\"].iloc[0]"
   ]
  },
  {
   "cell_type": "code",
   "execution_count": 18,
   "metadata": {},
   "outputs": [
    {
     "data": {
      "text/plain": [
       "'2022-05-03 00:00:00'"
      ]
     },
     "execution_count": 18,
     "metadata": {},
     "output_type": "execute_result"
    }
   ],
   "source": [
    "county_date"
   ]
  },
  {
   "cell_type": "code",
   "execution_count": 19,
   "metadata": {},
   "outputs": [],
   "source": [
    "df[\"county_date\"] = pd.to_datetime(county_date)"
   ]
  },
  {
   "cell_type": "code",
   "execution_count": 20,
   "metadata": {},
   "outputs": [
    {
     "data": {
      "text/html": [
       "<div>\n",
       "<style scoped>\n",
       "    .dataframe tbody tr th:only-of-type {\n",
       "        vertical-align: middle;\n",
       "    }\n",
       "\n",
       "    .dataframe tbody tr th {\n",
       "        vertical-align: top;\n",
       "    }\n",
       "\n",
       "    .dataframe thead th {\n",
       "        text-align: right;\n",
       "    }\n",
       "</style>\n",
       "<table border=\"1\" class=\"dataframe\">\n",
       "  <thead>\n",
       "    <tr style=\"text-align: right;\">\n",
       "      <th></th>\n",
       "      <th>county</th>\n",
       "      <th>area</th>\n",
       "      <th>confirmed_cases</th>\n",
       "      <th>county_date</th>\n",
       "    </tr>\n",
       "  </thead>\n",
       "  <tbody>\n",
       "    <tr>\n",
       "      <th>0</th>\n",
       "      <td>Humboldt</td>\n",
       "      <td>South</td>\n",
       "      <td>742</td>\n",
       "      <td>2022-05-03</td>\n",
       "    </tr>\n",
       "    <tr>\n",
       "      <th>1</th>\n",
       "      <td>Humboldt</td>\n",
       "      <td>North</td>\n",
       "      <td>2896</td>\n",
       "      <td>2022-05-03</td>\n",
       "    </tr>\n",
       "    <tr>\n",
       "      <th>2</th>\n",
       "      <td>Humboldt</td>\n",
       "      <td>Greater Humboldt Bay</td>\n",
       "      <td>7632</td>\n",
       "      <td>2022-05-03</td>\n",
       "    </tr>\n",
       "    <tr>\n",
       "      <th>3</th>\n",
       "      <td>Humboldt</td>\n",
       "      <td>Greater Fortuna Area</td>\n",
       "      <td>2420</td>\n",
       "      <td>2022-05-03</td>\n",
       "    </tr>\n",
       "  </tbody>\n",
       "</table>\n",
       "</div>"
      ],
      "text/plain": [
       "     county                  area confirmed_cases county_date\n",
       "0  Humboldt                 South             742  2022-05-03\n",
       "1  Humboldt                 North            2896  2022-05-03\n",
       "2  Humboldt  Greater Humboldt Bay            7632  2022-05-03\n",
       "3  Humboldt  Greater Fortuna Area            2420  2022-05-03"
      ]
     },
     "execution_count": 20,
     "metadata": {},
     "output_type": "execute_result"
    }
   ],
   "source": [
    "df"
   ]
  },
  {
   "cell_type": "markdown",
   "metadata": {},
   "source": [
    "## Vet"
   ]
  },
  {
   "cell_type": "code",
   "execution_count": 21,
   "metadata": {},
   "outputs": [],
   "source": [
    "try:\n",
    "    assert not len(df) > 4\n",
    "except AssertionError:\n",
    "    raise AssertionError(\"Humboldt County's scraper has extra rows\")"
   ]
  },
  {
   "cell_type": "code",
   "execution_count": 22,
   "metadata": {},
   "outputs": [],
   "source": [
    "try:\n",
    "    assert not len(df) < 4\n",
    "except AssertionError:\n",
    "    raise AssertionError(\"Humboldt County's scraper is missing rows\")"
   ]
  },
  {
   "cell_type": "markdown",
   "metadata": {},
   "source": [
    "## Export"
   ]
  },
  {
   "cell_type": "markdown",
   "metadata": {},
   "source": [
    "Set the date"
   ]
  },
  {
   "cell_type": "code",
   "execution_count": 23,
   "metadata": {},
   "outputs": [],
   "source": [
    "tz = pytz.timezone(\"America/Los_Angeles\")"
   ]
  },
  {
   "cell_type": "code",
   "execution_count": 24,
   "metadata": {},
   "outputs": [],
   "source": [
    "today = datetime.now(tz).date()"
   ]
  },
  {
   "cell_type": "code",
   "execution_count": 25,
   "metadata": {},
   "outputs": [],
   "source": [
    "slug = \"humboldt\""
   ]
  },
  {
   "cell_type": "code",
   "execution_count": 26,
   "metadata": {},
   "outputs": [],
   "source": [
    "df.to_csv(data_dir / slug / f\"{today}.csv\", index=False)"
   ]
  },
  {
   "cell_type": "markdown",
   "metadata": {},
   "source": [
    "## Combine"
   ]
  },
  {
   "cell_type": "code",
   "execution_count": 27,
   "metadata": {},
   "outputs": [],
   "source": [
    "csv_list = [\n",
    "    i\n",
    "    for i in glob.glob(str(data_dir / slug / \"*.csv\"))\n",
    "    if not str(i).endswith(\"timeseries.csv\")\n",
    "]"
   ]
  },
  {
   "cell_type": "code",
   "execution_count": 28,
   "metadata": {},
   "outputs": [],
   "source": [
    "df_list = []\n",
    "for csv in csv_list:\n",
    "    if \"manual\" in csv:\n",
    "        df = pd.read_csv(csv, parse_dates=[\"date\"])\n",
    "    else:\n",
    "        file_date = csv.split(\"/\")[-1].replace(\".csv\", \"\")\n",
    "        df = pd.read_csv(csv, parse_dates=[\"county_date\"])\n",
    "        df[\"date\"] = file_date\n",
    "    df_list.append(df)"
   ]
  },
  {
   "cell_type": "code",
   "execution_count": 29,
   "metadata": {},
   "outputs": [],
   "source": [
    "df = pd.concat(df_list).sort_values([\"date\", \"area\"])"
   ]
  },
  {
   "cell_type": "code",
   "execution_count": 30,
   "metadata": {},
   "outputs": [],
   "source": [
    "df.to_csv(data_dir / slug / \"timeseries.csv\", index=False)"
   ]
  }
 ],
 "metadata": {
  "kernelspec": {
   "display_name": "Python 3 (ipykernel)",
   "language": "python",
   "name": "python3"
  },
  "language_info": {
   "codemirror_mode": {
    "name": "ipython",
    "version": 3
   },
   "file_extension": ".py",
   "mimetype": "text/x-python",
   "name": "python",
   "nbconvert_exporter": "python",
   "pygments_lexer": "ipython3",
   "version": "3.8.14"
  }
 },
 "nbformat": 4,
 "nbformat_minor": 4
}
