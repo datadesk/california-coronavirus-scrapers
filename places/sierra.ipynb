{
 "cells": [
  {
   "cell_type": "code",
   "execution_count": 1,
   "id": "f0e99cc4-28cd-4b53-b0e7-a825c05a1f37",
   "metadata": {
    "execution": {
     "iopub.execute_input": "2021-09-28T12:23:28.242976Z",
     "iopub.status.busy": "2021-09-28T12:23:28.242365Z",
     "iopub.status.idle": "2021-09-28T12:23:28.385209Z",
     "shell.execute_reply": "2021-09-28T12:23:28.384559Z"
    }
   },
   "outputs": [],
   "source": [
    "%load_ext lab_black"
   ]
  },
  {
   "cell_type": "code",
   "execution_count": 2,
   "id": "113b7c8f-32a2-4f05-ab8d-58f5d95e5bc2",
   "metadata": {
    "execution": {
     "iopub.execute_input": "2021-09-28T12:23:28.390564Z",
     "iopub.status.busy": "2021-09-28T12:23:28.389953Z",
     "iopub.status.idle": "2021-09-28T12:23:28.858339Z",
     "shell.execute_reply": "2021-09-28T12:23:28.857278Z"
    },
    "tags": []
   },
   "outputs": [],
   "source": [
    "import os\n",
    "import pytz\n",
    "import pathlib\n",
    "import requests\n",
    "from datetime import datetime\n",
    "from bs4 import BeautifulSoup\n",
    "import pandas as pd\n",
    "import glob\n",
    "\n",
    "this_dir = pathlib.Path(os.path.abspath(\"\"))\n",
    "data_dir = this_dir / \"data\""
   ]
  },
  {
   "cell_type": "code",
   "execution_count": 3,
   "id": "270f01af-e935-4404-b0b9-57dc45bbcbf0",
   "metadata": {
    "execution": {
     "iopub.execute_input": "2021-09-28T12:23:28.866448Z",
     "iopub.status.busy": "2021-09-28T12:23:28.862562Z",
     "iopub.status.idle": "2021-09-28T12:23:29.451427Z",
     "shell.execute_reply": "2021-09-28T12:23:29.450823Z"
    },
    "tags": []
   },
   "outputs": [],
   "source": [
    "r = requests.get(\"http://sierracounty.ca.gov/628/Sierra-County-Case-Map\")"
   ]
  },
  {
   "cell_type": "code",
   "execution_count": 4,
   "id": "55ee7906-38f0-4bf5-9798-648d449e7cf5",
   "metadata": {
    "execution": {
     "iopub.execute_input": "2021-09-28T12:23:29.455980Z",
     "iopub.status.busy": "2021-09-28T12:23:29.453853Z",
     "iopub.status.idle": "2021-09-28T12:23:29.489607Z",
     "shell.execute_reply": "2021-09-28T12:23:29.489044Z"
    },
    "tags": []
   },
   "outputs": [],
   "source": [
    "soup = BeautifulSoup(r.text)"
   ]
  },
  {
   "cell_type": "code",
   "execution_count": 5,
   "id": "21e40be5-3791-4be7-8991-bf4ecc17c2c1",
   "metadata": {
    "execution": {
     "iopub.execute_input": "2021-09-28T12:23:29.496600Z",
     "iopub.status.busy": "2021-09-28T12:23:29.495449Z",
     "iopub.status.idle": "2021-09-28T12:23:29.497741Z",
     "shell.execute_reply": "2021-09-28T12:23:29.498231Z"
    }
   },
   "outputs": [],
   "source": [
    "content = soup.find(\"div\", id=\"bodyWrapper\")"
   ]
  },
  {
   "cell_type": "code",
   "execution_count": 6,
   "id": "a28b9bcb-41ed-4869-a2d1-2287673edf5e",
   "metadata": {
    "execution": {
     "iopub.execute_input": "2021-09-28T12:23:29.503864Z",
     "iopub.status.busy": "2021-09-28T12:23:29.502780Z",
     "iopub.status.idle": "2021-09-28T12:23:29.506551Z",
     "shell.execute_reply": "2021-09-28T12:23:29.506051Z"
    }
   },
   "outputs": [],
   "source": [
    "table = soup.find(\"table\")"
   ]
  },
  {
   "cell_type": "code",
   "execution_count": 7,
   "id": "c1152257-b86c-40eb-9384-dd2d5ef080d5",
   "metadata": {
    "execution": {
     "iopub.execute_input": "2021-09-28T12:23:29.511359Z",
     "iopub.status.busy": "2021-09-28T12:23:29.510503Z",
     "iopub.status.idle": "2021-09-28T12:23:29.515338Z",
     "shell.execute_reply": "2021-09-28T12:23:29.515830Z"
    }
   },
   "outputs": [],
   "source": [
    "tbody = table.tbody"
   ]
  },
  {
   "cell_type": "code",
   "execution_count": 8,
   "id": "df95fc31-a44b-460a-a672-13e1367a43b4",
   "metadata": {
    "execution": {
     "iopub.execute_input": "2021-09-28T12:23:29.522455Z",
     "iopub.status.busy": "2021-09-28T12:23:29.521055Z",
     "iopub.status.idle": "2021-09-28T12:23:29.526084Z",
     "shell.execute_reply": "2021-09-28T12:23:29.525608Z"
    }
   },
   "outputs": [],
   "source": [
    "row_list = tbody.find_all(\"tr\")[1:]"
   ]
  },
  {
   "cell_type": "code",
   "execution_count": 9,
   "id": "2350e4e0-baf9-4ca3-9fe6-861006f6daef",
   "metadata": {
    "execution": {
     "iopub.execute_input": "2021-09-28T12:23:29.531081Z",
     "iopub.status.busy": "2021-09-28T12:23:29.528381Z",
     "iopub.status.idle": "2021-09-28T12:23:29.533407Z",
     "shell.execute_reply": "2021-09-28T12:23:29.532894Z"
    }
   },
   "outputs": [],
   "source": [
    "dict_list = []"
   ]
  },
  {
   "cell_type": "code",
   "execution_count": 10,
   "id": "44f8161a-8482-4217-aff5-9e5742a5eec8",
   "metadata": {
    "execution": {
     "iopub.execute_input": "2021-09-28T12:23:29.539180Z",
     "iopub.status.busy": "2021-09-28T12:23:29.538477Z",
     "iopub.status.idle": "2021-09-28T12:23:29.543020Z",
     "shell.execute_reply": "2021-09-28T12:23:29.543503Z"
    }
   },
   "outputs": [],
   "source": [
    "def safetxt(element):\n",
    "    v = element.text.strip()\n",
    "    v = v.replace(\"\\u200b\", \"\")\n",
    "    return v"
   ]
  },
  {
   "cell_type": "code",
   "execution_count": 11,
   "id": "0b7b0e79-09e6-45f0-add4-a09ea808f452",
   "metadata": {
    "execution": {
     "iopub.execute_input": "2021-09-28T12:23:29.548968Z",
     "iopub.status.busy": "2021-09-28T12:23:29.548096Z",
     "iopub.status.idle": "2021-09-28T12:23:29.554885Z",
     "shell.execute_reply": "2021-09-28T12:23:29.554370Z"
    }
   },
   "outputs": [],
   "source": [
    "def safenumber(element):\n",
    "    v = safetxt(element)\n",
    "    v = v.replace(\",\", \"\")\n",
    "    v = v.replace(\" \", \"\")\n",
    "    return v"
   ]
  },
  {
   "cell_type": "code",
   "execution_count": 12,
   "id": "bdde2d32-f7d2-4601-baf5-0d848393960e",
   "metadata": {
    "execution": {
     "iopub.execute_input": "2021-09-28T12:23:29.560990Z",
     "iopub.status.busy": "2021-09-28T12:23:29.560387Z",
     "iopub.status.idle": "2021-09-28T12:23:29.570293Z",
     "shell.execute_reply": "2021-09-28T12:23:29.569812Z"
    }
   },
   "outputs": [],
   "source": [
    "for row in row_list:\n",
    "    cell_list = row.find_all(\"td\")\n",
    "    d = dict(\n",
    "        county=\"Sierra\",\n",
    "        area=safetxt(cell_list[0]),\n",
    "        confirmed_cases=safenumber(cell_list[1]),\n",
    "    )\n",
    "    dict_list.append(d)"
   ]
  },
  {
   "cell_type": "code",
   "execution_count": 13,
   "id": "364b6c61-8797-4636-8b18-fb307ad03aca",
   "metadata": {
    "execution": {
     "iopub.execute_input": "2021-09-28T12:23:29.575494Z",
     "iopub.status.busy": "2021-09-28T12:23:29.574916Z",
     "iopub.status.idle": "2021-09-28T12:23:29.579038Z",
     "shell.execute_reply": "2021-09-28T12:23:29.578454Z"
    }
   },
   "outputs": [],
   "source": [
    "df = pd.DataFrame(dict_list)"
   ]
  },
  {
   "cell_type": "code",
   "execution_count": 14,
   "id": "bbb84f00-0b7c-4408-b061-6eaa718d1c04",
   "metadata": {
    "execution": {
     "iopub.execute_input": "2021-09-28T12:23:29.583698Z",
     "iopub.status.busy": "2021-09-28T12:23:29.583088Z",
     "iopub.status.idle": "2021-09-28T12:23:29.586856Z",
     "shell.execute_reply": "2021-09-28T12:23:29.587351Z"
    }
   },
   "outputs": [],
   "source": [
    "rows_to_remove = [\"Recovered Cases\", \"Currently Hospitalized\", \"Deaths\"]"
   ]
  },
  {
   "cell_type": "code",
   "execution_count": 15,
   "id": "8229e7fe-cec6-4787-991f-e5e51ef85fb0",
   "metadata": {
    "execution": {
     "iopub.execute_input": "2021-09-28T12:23:29.593598Z",
     "iopub.status.busy": "2021-09-28T12:23:29.592942Z",
     "iopub.status.idle": "2021-09-28T12:23:29.598340Z",
     "shell.execute_reply": "2021-09-28T12:23:29.598858Z"
    }
   },
   "outputs": [],
   "source": [
    "df_filtered = df[~df.area.isin(rows_to_remove)].copy()"
   ]
  },
  {
   "cell_type": "code",
   "execution_count": 16,
   "id": "5974e619-11d5-4cc2-8e80-45bd455861f7",
   "metadata": {
    "execution": {
     "iopub.execute_input": "2021-09-28T12:23:29.605771Z",
     "iopub.status.busy": "2021-09-28T12:23:29.605130Z",
     "iopub.status.idle": "2021-09-28T12:23:29.611439Z",
     "shell.execute_reply": "2021-09-28T12:23:29.610898Z"
    }
   },
   "outputs": [],
   "source": [
    "df_filtered.loc[\n",
    "    df_filtered.area == \"Located on the East Side of the County\", \"area\"\n",
    "] = \"East\"\n",
    "df_filtered.loc[\n",
    "    df_filtered.area == \"Located on the West Side of the County\", \"area\"\n",
    "] = \"West\""
   ]
  },
  {
   "cell_type": "markdown",
   "id": "ce74447a-1b9d-48a7-86f1-6b4754c758eb",
   "metadata": {},
   "source": [
    "Get date"
   ]
  },
  {
   "cell_type": "code",
   "execution_count": 17,
   "id": "610e8e29-fe4e-4485-9d2d-55230301c994",
   "metadata": {
    "execution": {
     "iopub.execute_input": "2021-09-28T12:23:29.616180Z",
     "iopub.status.busy": "2021-09-28T12:23:29.615587Z",
     "iopub.status.idle": "2021-09-28T12:23:29.620123Z",
     "shell.execute_reply": "2021-09-28T12:23:29.619563Z"
    }
   },
   "outputs": [],
   "source": [
    "raw_date_string = tbody.find(\"td\")[\"data-th\"]"
   ]
  },
  {
   "cell_type": "code",
   "execution_count": 18,
   "id": "d2ea69dc-a539-4046-81e8-343d9e7e101e",
   "metadata": {
    "execution": {
     "iopub.execute_input": "2021-09-28T12:23:29.628386Z",
     "iopub.status.busy": "2021-09-28T12:23:29.626439Z",
     "iopub.status.idle": "2021-09-28T12:23:29.631064Z",
     "shell.execute_reply": "2021-09-28T12:23:29.630516Z"
    }
   },
   "outputs": [],
   "source": [
    "latest_date = pd.to_datetime(raw_date_string.replace(\"Total Cases as of \", \"\")).date()"
   ]
  },
  {
   "cell_type": "markdown",
   "id": "3825adb0-fa42-43f7-9a43-4708820a2222",
   "metadata": {},
   "source": [
    "Set the date"
   ]
  },
  {
   "cell_type": "code",
   "execution_count": 19,
   "id": "413385f8-988c-4cad-aeb2-f32944cabfe5",
   "metadata": {
    "execution": {
     "iopub.execute_input": "2021-09-28T12:23:29.636346Z",
     "iopub.status.busy": "2021-09-28T12:23:29.635724Z",
     "iopub.status.idle": "2021-09-28T12:23:29.639400Z",
     "shell.execute_reply": "2021-09-28T12:23:29.639891Z"
    }
   },
   "outputs": [],
   "source": [
    "df_filtered[\"county_date\"] = latest_date"
   ]
  },
  {
   "cell_type": "markdown",
   "id": "37ef8883-ec5b-4494-aebe-a7604a4d60bb",
   "metadata": {},
   "source": [
    "Mark the current date"
   ]
  },
  {
   "cell_type": "code",
   "execution_count": 20,
   "id": "64432799-edb2-44fa-b51b-46c7832af46f",
   "metadata": {
    "execution": {
     "iopub.execute_input": "2021-09-28T12:23:29.643872Z",
     "iopub.status.busy": "2021-09-28T12:23:29.643262Z",
     "iopub.status.idle": "2021-09-28T12:23:29.664910Z",
     "shell.execute_reply": "2021-09-28T12:23:29.664402Z"
    }
   },
   "outputs": [],
   "source": [
    "tz = pytz.timezone(\"America/Los_Angeles\")"
   ]
  },
  {
   "cell_type": "code",
   "execution_count": 21,
   "id": "a6145c92-0311-44fb-a298-93fd5256345e",
   "metadata": {
    "execution": {
     "iopub.execute_input": "2021-09-28T12:23:29.669955Z",
     "iopub.status.busy": "2021-09-28T12:23:29.668680Z",
     "iopub.status.idle": "2021-09-28T12:23:29.672826Z",
     "shell.execute_reply": "2021-09-28T12:23:29.672296Z"
    }
   },
   "outputs": [],
   "source": [
    "today = datetime.now(tz).date()"
   ]
  },
  {
   "cell_type": "code",
   "execution_count": 22,
   "id": "845f580c-ffbd-4fab-a880-52dcbcc34a7f",
   "metadata": {
    "execution": {
     "iopub.execute_input": "2021-09-28T12:23:29.676811Z",
     "iopub.status.busy": "2021-09-28T12:23:29.676199Z",
     "iopub.status.idle": "2021-09-28T12:23:29.681323Z",
     "shell.execute_reply": "2021-09-28T12:23:29.680757Z"
    }
   },
   "outputs": [],
   "source": [
    "slug = \"sierra\""
   ]
  },
  {
   "cell_type": "markdown",
   "id": "716c92b1-9926-4ea3-a89a-e8735e7897fe",
   "metadata": {
    "tags": []
   },
   "source": [
    "## Vet"
   ]
  },
  {
   "cell_type": "code",
   "execution_count": 23,
   "id": "fd14e9c3-facc-40b8-a242-963c0a6df981",
   "metadata": {
    "execution": {
     "iopub.execute_input": "2021-09-28T12:23:29.686776Z",
     "iopub.status.busy": "2021-09-28T12:23:29.686173Z",
     "iopub.status.idle": "2021-09-28T12:23:29.833069Z",
     "shell.execute_reply": "2021-09-28T12:23:29.832424Z"
    }
   },
   "outputs": [
    {
     "ename": "AssertionError",
     "evalue": "Sierra's area scraper has extra rows",
     "output_type": "error",
     "traceback": [
      "\u001b[0;31m---------------------------------------------------------------------------\u001b[0m",
      "\u001b[0;31mAssertionError\u001b[0m                            Traceback (most recent call last)",
      "\u001b[0;32m/tmp/ipykernel_3909/2993326054.py\u001b[0m in \u001b[0;36m<module>\u001b[0;34m\u001b[0m\n\u001b[1;32m      1\u001b[0m \u001b[0;32mtry\u001b[0m\u001b[0;34m:\u001b[0m\u001b[0;34m\u001b[0m\u001b[0;34m\u001b[0m\u001b[0m\n\u001b[0;32m----> 2\u001b[0;31m     \u001b[0;32massert\u001b[0m \u001b[0;32mnot\u001b[0m \u001b[0mlen\u001b[0m\u001b[0;34m(\u001b[0m\u001b[0mdf_filtered\u001b[0m\u001b[0;34m)\u001b[0m \u001b[0;34m>\u001b[0m \u001b[0;36m2\u001b[0m\u001b[0;34m\u001b[0m\u001b[0;34m\u001b[0m\u001b[0m\n\u001b[0m\u001b[1;32m      3\u001b[0m \u001b[0;32mexcept\u001b[0m \u001b[0mAssertionError\u001b[0m\u001b[0;34m:\u001b[0m\u001b[0;34m\u001b[0m\u001b[0;34m\u001b[0m\u001b[0m\n",
      "\u001b[0;31mAssertionError\u001b[0m: ",
      "\nDuring handling of the above exception, another exception occurred:\n",
      "\u001b[0;31mAssertionError\u001b[0m                            Traceback (most recent call last)",
      "\u001b[0;32m/tmp/ipykernel_3909/2993326054.py\u001b[0m in \u001b[0;36m<module>\u001b[0;34m\u001b[0m\n\u001b[1;32m      2\u001b[0m     \u001b[0;32massert\u001b[0m \u001b[0;32mnot\u001b[0m \u001b[0mlen\u001b[0m\u001b[0;34m(\u001b[0m\u001b[0mdf_filtered\u001b[0m\u001b[0;34m)\u001b[0m \u001b[0;34m>\u001b[0m \u001b[0;36m2\u001b[0m\u001b[0;34m\u001b[0m\u001b[0;34m\u001b[0m\u001b[0m\n\u001b[1;32m      3\u001b[0m \u001b[0;32mexcept\u001b[0m \u001b[0mAssertionError\u001b[0m\u001b[0;34m:\u001b[0m\u001b[0;34m\u001b[0m\u001b[0;34m\u001b[0m\u001b[0m\n\u001b[0;32m----> 4\u001b[0;31m     \u001b[0;32mraise\u001b[0m \u001b[0mAssertionError\u001b[0m\u001b[0;34m(\u001b[0m\u001b[0;34m\"Sierra's area scraper has extra rows\"\u001b[0m\u001b[0;34m)\u001b[0m\u001b[0;34m\u001b[0m\u001b[0;34m\u001b[0m\u001b[0m\n\u001b[0m",
      "\u001b[0;31mAssertionError\u001b[0m: Sierra's area scraper has extra rows"
     ]
    }
   ],
   "source": [
    "try:\n",
    "    assert not len(df_filtered) > 2\n",
    "except AssertionError:\n",
    "    raise AssertionError(\"Sierra's area scraper has extra rows\")"
   ]
  },
  {
   "cell_type": "code",
   "execution_count": 29,
   "id": "730058b0-f9e8-45bd-b9ed-2cd44a1eda51",
   "metadata": {},
   "outputs": [],
   "source": [
    "try:\n",
    "    assert not len(df_filtered) < 2\n",
    "except AssertionError:\n",
    "    raise AssertionError(\"Sierra's area scraper is missing rows\")"
   ]
  },
  {
   "cell_type": "markdown",
   "id": "ec83237b-dcaf-499d-a077-aecff06116a4",
   "metadata": {},
   "source": [
    "## Export"
   ]
  },
  {
   "cell_type": "code",
   "execution_count": 30,
   "id": "b450a775-6be5-4bbf-bcab-6dd53ea43e1a",
   "metadata": {},
   "outputs": [],
   "source": [
    "df_filtered.to_csv(data_dir / slug / f\"{today}.csv\", index=False)"
   ]
  },
  {
   "cell_type": "markdown",
   "id": "fa1766ac-a87c-43aa-9a87-341c8487e935",
   "metadata": {},
   "source": [
    "## Combine"
   ]
  },
  {
   "cell_type": "code",
   "execution_count": 31,
   "id": "020589f5-7764-445c-a06e-6c27cdd7a010",
   "metadata": {},
   "outputs": [],
   "source": [
    "csv_list = [\n",
    "    i\n",
    "    for i in glob.glob(str(data_dir / slug / \"*.csv\"))\n",
    "    if not str(i).endswith(\"timeseries.csv\")\n",
    "]"
   ]
  },
  {
   "cell_type": "code",
   "execution_count": 32,
   "id": "a33a5a62-ec95-45f1-ac96-0757bcdced9c",
   "metadata": {},
   "outputs": [],
   "source": [
    "df_list = []\n",
    "for csv in csv_list:\n",
    "    if \"manual\" in csv:\n",
    "        df = pd.read_csv(csv, parse_dates=[\"date\"])\n",
    "    else:\n",
    "        file_date = csv.split(\"/\")[-1].replace(\".csv\", \"\")\n",
    "        df = pd.read_csv(csv, parse_dates=[\"county_date\"])\n",
    "        df[\"date\"] = file_date\n",
    "    df_list.append(df)"
   ]
  },
  {
   "cell_type": "code",
   "execution_count": 33,
   "id": "ce349ef9-b5a1-40d2-9925-27f9078b2687",
   "metadata": {},
   "outputs": [],
   "source": [
    "df = pd.concat(df_list).sort_values([\"date\", \"area\"])"
   ]
  },
  {
   "cell_type": "code",
   "execution_count": 34,
   "id": "4c3ee318-1944-4ef2-9687-7652f8604065",
   "metadata": {
    "tags": []
   },
   "outputs": [],
   "source": [
    "df.to_csv(os.path.join(data_dir / slug / \"timeseries.csv\"), index=False)"
   ]
  }
 ],
 "metadata": {
  "kernelspec": {
   "display_name": "Python 3 (ipykernel)",
   "language": "python",
   "name": "python3"
  },
  "language_info": {
   "codemirror_mode": {
    "name": "ipython",
    "version": 3
   },
   "file_extension": ".py",
   "mimetype": "text/x-python",
   "name": "python",
   "nbconvert_exporter": "python",
   "pygments_lexer": "ipython3",
   "version": "3.8.12"
  }
 },
 "nbformat": 4,
 "nbformat_minor": 5
}
