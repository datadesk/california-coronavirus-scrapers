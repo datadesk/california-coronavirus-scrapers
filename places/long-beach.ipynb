{
 "cells": [
  {
   "cell_type": "markdown",
   "metadata": {},
   "source": [
    "## Configuration\n",
    "_Initial steps to get the notebook ready to play nice with our repository. Do not delete this section._"
   ]
  },
  {
   "cell_type": "markdown",
   "metadata": {},
   "source": [
    "Code formatting with [black](https://pypi.org/project/nb-black/)."
   ]
  },
  {
   "cell_type": "code",
   "execution_count": 1,
   "metadata": {
    "execution": {
     "iopub.execute_input": "2022-11-15T16:20:16.333090Z",
     "iopub.status.busy": "2022-11-15T16:20:16.332447Z",
     "iopub.status.idle": "2022-11-15T16:20:16.494328Z",
     "shell.execute_reply": "2022-11-15T16:20:16.493785Z"
    }
   },
   "outputs": [],
   "source": [
    "%load_ext lab_black"
   ]
  },
  {
   "cell_type": "code",
   "execution_count": 2,
   "metadata": {
    "execution": {
     "iopub.execute_input": "2022-11-15T16:20:16.499286Z",
     "iopub.status.busy": "2022-11-15T16:20:16.498404Z",
     "iopub.status.idle": "2022-11-15T16:20:16.501052Z",
     "shell.execute_reply": "2022-11-15T16:20:16.501450Z"
    }
   },
   "outputs": [],
   "source": [
    "import os\n",
    "import pathlib"
   ]
  },
  {
   "cell_type": "code",
   "execution_count": 3,
   "metadata": {
    "execution": {
     "iopub.execute_input": "2022-11-15T16:20:16.509639Z",
     "iopub.status.busy": "2022-11-15T16:20:16.508100Z",
     "iopub.status.idle": "2022-11-15T16:20:16.510233Z",
     "shell.execute_reply": "2022-11-15T16:20:16.510707Z"
    }
   },
   "outputs": [],
   "source": [
    "this_dir = pathlib.Path(os.path.abspath(\"\"))"
   ]
  },
  {
   "cell_type": "code",
   "execution_count": 4,
   "metadata": {
    "execution": {
     "iopub.execute_input": "2022-11-15T16:20:16.515230Z",
     "iopub.status.busy": "2022-11-15T16:20:16.514189Z",
     "iopub.status.idle": "2022-11-15T16:20:16.517137Z",
     "shell.execute_reply": "2022-11-15T16:20:16.517588Z"
    }
   },
   "outputs": [],
   "source": [
    "data_dir = this_dir / \"data\""
   ]
  },
  {
   "cell_type": "code",
   "execution_count": 5,
   "metadata": {
    "execution": {
     "iopub.execute_input": "2022-11-15T16:20:16.521745Z",
     "iopub.status.busy": "2022-11-15T16:20:16.521163Z",
     "iopub.status.idle": "2022-11-15T16:20:16.828744Z",
     "shell.execute_reply": "2022-11-15T16:20:16.827905Z"
    }
   },
   "outputs": [],
   "source": [
    "import pytz\n",
    "import glob\n",
    "import json\n",
    "import requests\n",
    "import pandas as pd\n",
    "import requests\n",
    "from datetime import datetime\n",
    "from slugify import slugify"
   ]
  },
  {
   "cell_type": "markdown",
   "metadata": {},
   "source": [
    "## Download"
   ]
  },
  {
   "cell_type": "code",
   "execution_count": 6,
   "metadata": {
    "execution": {
     "iopub.execute_input": "2022-11-15T16:20:16.836125Z",
     "iopub.status.busy": "2022-11-15T16:20:16.831513Z",
     "iopub.status.idle": "2022-11-15T16:20:16.845194Z",
     "shell.execute_reply": "2022-11-15T16:20:16.845751Z"
    }
   },
   "outputs": [],
   "source": [
    "POWER_BI_QUERY_URL = (\n",
    "    \"https://wabi-us-gov-iowa-api.analysis.usgovcloudapi.net/public/reports/querydata\"\n",
    ")\n",
    "REQUEST_PARAMS = ((\"synchronous\", \"true\"), (\"Connection\", \"keep-alive\"))\n",
    "REQUEST_BODY = '{\"version\":\"1.0.0\",\"queries\":[{\"Query\":{\"Commands\":[{\"SemanticQueryDataShapeCommand\":{\"Query\":{\"Version\":2,\"From\":[{\"Name\":\"z\",\"Entity\":\"zipcodes_cases\",\"Type\":0}],\"Select\":[{\"Column\":{\"Expression\":{\"SourceRef\":{\"Source\":\"z\"}},\"Property\":\"zipcode\"},\"Name\":\"zipcodes_cases.zipcode\"},{\"Column\":{\"Expression\":{\"SourceRef\":{\"Source\":\"z\"}},\"Property\":\"cases_per_100k\"},\"Name\":\"Sum(zipcodes_cases.cases_per_100k)\"},{\"Aggregation\":{\"Expression\":{\"Column\":{\"Expression\":{\"SourceRef\":{\"Source\":\"z\"}},\"Property\":\"cases\"}},\"Function\":0},\"Name\":\"Sum(zipcodes_cases.cases)\"}],\"OrderBy\":[{\"Direction\":2,\"Expression\":{\"Column\":{\"Expression\":{\"SourceRef\":{\"Source\":\"z\"}},\"Property\":\"cases_per_100k\"}}}]},\"Binding\":{\"Primary\":{\"Groupings\":[{\"Projections\":[0,1,2]}]},\"DataReduction\":{\"DataVolume\":3,\"Primary\":{\"Window\":{\"Count\":500}}},\"Version\":1}}}]},\"CacheKey\":\"{\\\\\"Commands\\\\\":[{\\\\\"SemanticQueryDataShapeCommand\\\\\":{\\\\\"Query\\\\\":{\\\\\"Version\\\\\":2,\\\\\"From\\\\\":[{\\\\\"Name\\\\\":\\\\\"z\\\\\",\\\\\"Entity\\\\\":\\\\\"zipcodes_cases\\\\\",\\\\\"Type\\\\\":0}],\\\\\"Select\\\\\":[{\\\\\"Column\\\\\":{\\\\\"Expression\\\\\":{\\\\\"SourceRef\\\\\":{\\\\\"Source\\\\\":\\\\\"z\\\\\"}},\\\\\"Property\\\\\":\\\\\"zipcode\\\\\"},\\\\\"Name\\\\\":\\\\\"zipcodes_cases.zipcode\\\\\"},{\\\\\"Column\\\\\":{\\\\\"Expression\\\\\":{\\\\\"SourceRef\\\\\":{\\\\\"Source\\\\\":\\\\\"z\\\\\"}},\\\\\"Property\\\\\":\\\\\"cases_per_100k\\\\\"},\\\\\"Name\\\\\":\\\\\"Sum(zipcodes_cases.cases_per_100k)\\\\\"},{\\\\\"Aggregation\\\\\":{\\\\\"Expression\\\\\":{\\\\\"Column\\\\\":{\\\\\"Expression\\\\\":{\\\\\"SourceRef\\\\\":{\\\\\"Source\\\\\":\\\\\"z\\\\\"}},\\\\\"Property\\\\\":\\\\\"cases\\\\\"}},\\\\\"Function\\\\\":0},\\\\\"Name\\\\\":\\\\\"Sum(zipcodes_cases.cases)\\\\\"}],\\\\\"OrderBy\\\\\":[{\\\\\"Direction\\\\\":2,\\\\\"Expression\\\\\":{\\\\\"Column\\\\\":{\\\\\"Expression\\\\\":{\\\\\"SourceRef\\\\\":{\\\\\"Source\\\\\":\\\\\"z\\\\\"}},\\\\\"Property\\\\\":\\\\\"cases_per_100k\\\\\"}}}]},\\\\\"Binding\\\\\":{\\\\\"Primary\\\\\":{\\\\\"Groupings\\\\\":[{\\\\\"Projections\\\\\":[0,1,2]}]},\\\\\"DataReduction\\\\\":{\\\\\"DataVolume\\\\\":3,\\\\\"Primary\\\\\":{\\\\\"Window\\\\\":{\\\\\"Count\\\\\":500}}},\\\\\"Version\\\\\":1}}}]}\",\"QueryId\":\"\",\"ApplicationContext\":{\"DatasetId\":\"38141830-4b1b-4309-b51e-da91c50f22ee\",\"Sources\":[{\"ReportId\":\"cef91e37-b89d-4967-8130-dc528ff1d964\"}]}}],\"cancelQueries\":[],\"modelId\":276737}'\n",
    "DATE_REQUEST_BODY = '{\"version\":\"1.0.0\",\"queries\":[{\"Query\":{\"Commands\":[{\"SemanticQueryDataShapeCommand\":{\"Query\":{\"Version\":2,\"From\":[{\"Name\":\"h\",\"Entity\":\"health-summary\",\"Type\":0}],\"Select\":[{\"Measure\":{\"Expression\":{\"SourceRef\":{\"Source\":\"h\"}},\"Property\":\"updated\"},\"Name\":\"health-summary.updated\"}]},\"Binding\":{\"Primary\":{\"Groupings\":[{\"Projections\":[0]}]},\"DataReduction\":{\"DataVolume\":3,\"Primary\":{\"Top\":{}}},\"Version\":1}}}]},\"CacheKey\":\"{\\\\\"Commands\\\\\":[{\\\\\"SemanticQueryDataShapeCommand\\\\\":{\\\\\"Query\\\\\":{\\\\\"Version\\\\\":2,\\\\\"From\\\\\":[{\\\\\"Name\\\\\":\\\\\"h\\\\\",\\\\\"Entity\\\\\":\\\\\"health-summary\\\\\",\\\\\"Type\\\\\":0}],\\\\\"Select\\\\\":[{\\\\\"Measure\\\\\":{\\\\\"Expression\\\\\":{\\\\\"SourceRef\\\\\":{\\\\\"Source\\\\\":\\\\\"h\\\\\"}},\\\\\"Property\\\\\":\\\\\"updated\\\\\"},\\\\\"Name\\\\\":\\\\\"health-summary.updated\\\\\"}]},\\\\\"Binding\\\\\":{\\\\\"Primary\\\\\":{\\\\\"Groupings\\\\\":[{\\\\\"Projections\\\\\":[0]}]},\\\\\"DataReduction\\\\\":{\\\\\"DataVolume\\\\\":3,\\\\\"Primary\\\\\":{\\\\\"Top\\\\\":{}}},\\\\\"Version\\\\\":1}}}]}\",\"QueryId\":\"\",\"ApplicationContext\":{\"DatasetId\":\"38141830-4b1b-4309-b51e-da91c50f22ee\",\"Sources\":[{\"ReportId\":\"cef91e37-b89d-4967-8130-dc528ff1d964\"}]}}],\"cancelQueries\":[],\"modelId\":276737}'"
   ]
  },
  {
   "cell_type": "code",
   "execution_count": 7,
   "metadata": {
    "execution": {
     "iopub.execute_input": "2022-11-15T16:20:16.852719Z",
     "iopub.status.busy": "2022-11-15T16:20:16.851197Z",
     "iopub.status.idle": "2022-11-15T16:20:16.862708Z",
     "shell.execute_reply": "2022-11-15T16:20:16.862140Z"
    }
   },
   "outputs": [],
   "source": [
    "headers = {\n",
    "    \"Host\": \"wabi-us-gov-iowa-api.analysis.usgovcloudapi.net\",\n",
    "    \"User-Agent\": \"Mozilla/5.0 (Macintosh; Intel Mac OS X 10_14_6) AppleWebKit/537.36 (KHTML, like Gecko) Chrome/87.0.4280.88 Safari/537.36\",\n",
    "    \"Accept\": \"application/json, text/plain, */*\",\n",
    "    \"Accept-Language\": \"en-US,en;q=0.5\",\n",
    "    \"Accept-Encoding\": \"gzip, deflate, br\",\n",
    "    \"Referer\": \"https\",\n",
    "    \"ActivityId\": \"9cd51346-a449-f3a5-dd4b-24ecf8d4bea1\",\n",
    "    \"RequestId\": \"4e47cd43-3ecb-73c9-c9d9-b01a0f1193d2\",\n",
    "    \"X-PowerBI-ResourceKey\": \"03f5c7f8-6069-4a12-8a25-542155ec7b99\",\n",
    "    \"Content-Type\": \"application/json;charset=UTF-8\",\n",
    "    \"Origin\": \"https://app.powerbigov.us\",\n",
    "    \"DNT\": \"1\",\n",
    "    \"Connection\": \"keep-alive\",\n",
    "}\n",
    "json_data = json.loads(REQUEST_BODY)"
   ]
  },
  {
   "cell_type": "code",
   "execution_count": 8,
   "metadata": {
    "execution": {
     "iopub.execute_input": "2022-11-15T16:20:16.868859Z",
     "iopub.status.busy": "2022-11-15T16:20:16.868022Z",
     "iopub.status.idle": "2022-11-15T16:20:16.878800Z",
     "shell.execute_reply": "2022-11-15T16:20:16.879314Z"
    }
   },
   "outputs": [],
   "source": [
    "date_headers = {\n",
    "    \"Host\": \"wabi-us-gov-iowa-api.analysis.usgovcloudapi.net\",\n",
    "    \"User-Agent\": \"Mozilla/5.0 (Macintosh; Intel Mac OS X 10_13_6) AppleWebKit/537.36 (KHTML, like Gecko) Chrome/87.0.4280.88 Safari/537.36\",\n",
    "    \"Accept\": \"application/json, text/plain, */*\",\n",
    "    \"Accept-Encoding\": \"gzip, deflate, br\",\n",
    "    \"Accept-Language\": \"en-US,en;q=0.9,da;q=0.8\",\n",
    "    \"Referer\": \"https://app.powerbigov.us/\",\n",
    "    \"ActivityId\": \"bb9764f2-4254-dcb7-ba32-341f4e87dba7\",\n",
    "    \"RequestId\": \"ae8d4895-2f30-4d5f-6d92-1399d2c76c6e\",\n",
    "    \"X-PowerBI-ResourceKey\": \"03f5c7f8-6069-4a12-8a25-542155ec7b99\",\n",
    "    \"Content-Length\": \"1047\",\n",
    "    \"Content-Type\": \"application/json;charset=UTF-8\",\n",
    "    \"DNT\": \"1\",\n",
    "    \"Origin\": \"https://app.powerbigov.us\",\n",
    "    \"Pragma\": \"no-cache\",\n",
    "    \"Sec-Fetch-Dest\": \"empty\",\n",
    "    \"Sec-Fetch-Mode\": \"cors\",\n",
    "    \"Sec-Fetch-Site\": \"cross-site\",\n",
    "    \"Connection\": \"keep-alive\",\n",
    "}"
   ]
  },
  {
   "cell_type": "code",
   "execution_count": 9,
   "metadata": {
    "execution": {
     "iopub.execute_input": "2022-11-15T16:20:16.886919Z",
     "iopub.status.busy": "2022-11-15T16:20:16.882859Z",
     "iopub.status.idle": "2022-11-15T16:24:02.434994Z",
     "shell.execute_reply": "2022-11-15T16:24:02.434351Z"
    }
   },
   "outputs": [
    {
     "name": "stderr",
     "output_type": "stream",
     "text": [
      "/home/runner/.local/share/virtualenvs/california-coronavirus-scrapers-dxuBXRsm/lib/python3.8/site-packages/urllib3/connectionpool.py:1013: InsecureRequestWarning: Unverified HTTPS request is being made to host 'wabi-us-gov-iowa-api.analysis.usgovcloudapi.net'. Adding certificate verification is strongly advised. See: https://urllib3.readthedocs.io/en/1.26.x/advanced-usage.html#ssl-warnings\n",
      "  warnings.warn(\n"
     ]
    }
   ],
   "source": [
    "response = requests.post(\n",
    "    POWER_BI_QUERY_URL,\n",
    "    params=REQUEST_PARAMS,\n",
    "    headers=headers,\n",
    "    json=json_data,\n",
    "    verify=False,\n",
    ")"
   ]
  },
  {
   "cell_type": "code",
   "execution_count": 10,
   "metadata": {
    "execution": {
     "iopub.execute_input": "2022-11-15T16:24:02.441352Z",
     "iopub.status.busy": "2022-11-15T16:24:02.440053Z",
     "iopub.status.idle": "2022-11-15T16:24:02.445754Z",
     "shell.execute_reply": "2022-11-15T16:24:02.446321Z"
    }
   },
   "outputs": [],
   "source": [
    "data = response.json()"
   ]
  },
  {
   "cell_type": "markdown",
   "metadata": {},
   "source": [
    "## Parse"
   ]
  },
  {
   "cell_type": "code",
   "execution_count": 11,
   "metadata": {
    "execution": {
     "iopub.execute_input": "2022-11-15T16:24:02.452991Z",
     "iopub.status.busy": "2022-11-15T16:24:02.451168Z",
     "iopub.status.idle": "2022-11-15T16:24:02.584390Z",
     "shell.execute_reply": "2022-11-15T16:24:02.582690Z"
    }
   },
   "outputs": [
    {
     "ename": "KeyError",
     "evalue": "'results'",
     "output_type": "error",
     "traceback": [
      "\u001b[0;31m---------------------------------------------------------------------------\u001b[0m",
      "\u001b[0;31mKeyError\u001b[0m                                  Traceback (most recent call last)",
      "\u001b[0;32m/tmp/ipykernel_2134/906845693.py\u001b[0m in \u001b[0;36m<module>\u001b[0;34m\u001b[0m\n\u001b[0;32m----> 1\u001b[0;31m \u001b[0mds\u001b[0m \u001b[0;34m=\u001b[0m \u001b[0mdata\u001b[0m\u001b[0;34m[\u001b[0m\u001b[0;34m\"results\"\u001b[0m\u001b[0;34m]\u001b[0m\u001b[0;34m[\u001b[0m\u001b[0;36m0\u001b[0m\u001b[0;34m]\u001b[0m\u001b[0;34m[\u001b[0m\u001b[0;34m\"result\"\u001b[0m\u001b[0;34m]\u001b[0m\u001b[0;34m[\u001b[0m\u001b[0;34m\"data\"\u001b[0m\u001b[0;34m]\u001b[0m\u001b[0;34m[\u001b[0m\u001b[0;34m\"dsr\"\u001b[0m\u001b[0;34m]\u001b[0m\u001b[0;34m[\u001b[0m\u001b[0;34m\"DS\"\u001b[0m\u001b[0;34m]\u001b[0m\u001b[0;34m[\u001b[0m\u001b[0;36m0\u001b[0m\u001b[0;34m]\u001b[0m\u001b[0;34m\u001b[0m\u001b[0;34m\u001b[0m\u001b[0m\n\u001b[0m",
      "\u001b[0;31mKeyError\u001b[0m: 'results'"
     ]
    }
   ],
   "source": [
    "ds = data[\"results\"][0][\"result\"][\"data\"][\"dsr\"][\"DS\"][0]"
   ]
  },
  {
   "cell_type": "code",
   "execution_count": 12,
   "metadata": {},
   "outputs": [],
   "source": [
    "zip_codes = ds[\"ValueDicts\"][\"D0\"]"
   ]
  },
  {
   "cell_type": "code",
   "execution_count": 13,
   "metadata": {},
   "outputs": [],
   "source": [
    "rows = ds[\"PH\"][0][\"DM0\"]"
   ]
  },
  {
   "cell_type": "code",
   "execution_count": 15,
   "metadata": {},
   "outputs": [],
   "source": [
    "confirmed_cases = []\n",
    "\n",
    "cases = 0\n",
    "\n",
    "for row in rows:\n",
    "    # in some cases, data are encoded in separate keys\n",
    "    keys = row.keys()\n",
    "    # pull out the list containing values for most rows\n",
    "    cells = row[\"C\"]\n",
    "    # first value in the list is expected to be an iterator/index\n",
    "    index = cells[0]\n",
    "    # if this key is present, the value for this place is identical to the previous row\n",
    "    if \"R\" in keys:\n",
    "        pass\n",
    "    # if this key is present, the value is found in the second position of the list\n",
    "    elif \"Ø\" in keys:\n",
    "        cases = cells[1]\n",
    "    # every other row has its value in the third position of the list\n",
    "    else:\n",
    "        cases = cells[2]\n",
    "    # append values to master list\n",
    "    confirmed_cases.append(\n",
    "        (\n",
    "            index,\n",
    "            cases,\n",
    "        )\n",
    "    )"
   ]
  },
  {
   "cell_type": "code",
   "execution_count": 16,
   "metadata": {},
   "outputs": [],
   "source": [
    "matched = [(zip_codes[index], cases) for index, cases in confirmed_cases]"
   ]
  },
  {
   "cell_type": "code",
   "execution_count": 17,
   "metadata": {},
   "outputs": [
    {
     "name": "stderr",
     "output_type": "stream",
     "text": [
      "/home/palewire/.local/share/virtualenvs/california-coronavirus-scrapers-s_ZEjlcw/lib/python3.8/site-packages/urllib3/connectionpool.py:1013: InsecureRequestWarning: Unverified HTTPS request is being made to host 'wabi-us-gov-iowa-api.analysis.usgovcloudapi.net'. Adding certificate verification is strongly advised. See: https://urllib3.readthedocs.io/en/1.26.x/advanced-usage.html#ssl-warnings\n",
      "  warnings.warn(\n"
     ]
    }
   ],
   "source": [
    "date_data = json.loads(DATE_REQUEST_BODY)\n",
    "response = requests.post(\n",
    "    POWER_BI_QUERY_URL,\n",
    "    params=REQUEST_PARAMS,\n",
    "    headers=date_headers,\n",
    "    json=date_data,\n",
    "    verify=False,\n",
    ")\n",
    "data = response.json()"
   ]
  },
  {
   "cell_type": "code",
   "execution_count": 18,
   "metadata": {},
   "outputs": [
    {
     "data": {
      "text/plain": [
       "'Data updated on 09/02/2021'"
      ]
     },
     "execution_count": 18,
     "metadata": {},
     "output_type": "execute_result"
    }
   ],
   "source": [
    "raw_date_string = data[\"results\"][0][\"result\"][\"data\"][\"dsr\"][\"DS\"][0][\"PH\"][0][\"DM0\"][\n",
    "    0\n",
    "][\"M0\"]\n",
    "raw_date_string"
   ]
  },
  {
   "cell_type": "code",
   "execution_count": 20,
   "metadata": {},
   "outputs": [],
   "source": [
    "raw_date = raw_date_string.replace(\"Data updated on\", \"\").strip()\n",
    "county_date = datetime.strptime(raw_date, \"%m/%d/%Y\")"
   ]
  },
  {
   "cell_type": "code",
   "execution_count": 21,
   "metadata": {},
   "outputs": [],
   "source": [
    "df = pd.DataFrame(matched, columns=[\"zip\", \"confirmed_cases\"])"
   ]
  },
  {
   "cell_type": "code",
   "execution_count": 22,
   "metadata": {},
   "outputs": [],
   "source": [
    "df.insert(0, \"county\", \"Long Beach\")"
   ]
  },
  {
   "cell_type": "code",
   "execution_count": 23,
   "metadata": {},
   "outputs": [],
   "source": [
    "df[\"county_date\"] = county_date"
   ]
  },
  {
   "cell_type": "code",
   "execution_count": 24,
   "metadata": {},
   "outputs": [],
   "source": [
    "df[\"area\"] = df[\"zip\"] + \": Long Beach\""
   ]
  },
  {
   "cell_type": "code",
   "execution_count": 25,
   "metadata": {},
   "outputs": [],
   "source": [
    "df = df[[\"county\", \"area\", \"confirmed_cases\", \"county_date\", \"zip\"]]"
   ]
  },
  {
   "cell_type": "markdown",
   "metadata": {},
   "source": [
    "## Vet"
   ]
  },
  {
   "cell_type": "code",
   "execution_count": 26,
   "metadata": {},
   "outputs": [],
   "source": [
    "try:\n",
    "    assert not len(df) > 11\n",
    "except AssertionError:\n",
    "    raise AssertionError(\"Long Beach's zip code scraper has extra rows\")"
   ]
  },
  {
   "cell_type": "code",
   "execution_count": 27,
   "metadata": {},
   "outputs": [],
   "source": [
    "try:\n",
    "    assert not len(df) < 11\n",
    "except AssertionError:\n",
    "    raise AssertionError(\"Long Beach's zip code scraper is missing rows\")"
   ]
  },
  {
   "cell_type": "markdown",
   "metadata": {},
   "source": [
    "## Export"
   ]
  },
  {
   "cell_type": "markdown",
   "metadata": {},
   "source": [
    "Set date"
   ]
  },
  {
   "cell_type": "code",
   "execution_count": 28,
   "metadata": {},
   "outputs": [],
   "source": [
    "tz = pytz.timezone(\"America/Los_Angeles\")"
   ]
  },
  {
   "cell_type": "code",
   "execution_count": 29,
   "metadata": {},
   "outputs": [],
   "source": [
    "today = datetime.now(tz).date()"
   ]
  },
  {
   "cell_type": "code",
   "execution_count": 30,
   "metadata": {},
   "outputs": [],
   "source": [
    "slug = \"long-beach\""
   ]
  },
  {
   "cell_type": "code",
   "execution_count": 31,
   "metadata": {},
   "outputs": [],
   "source": [
    "df.to_csv(data_dir / slug / f\"{today}.csv\", index=False)"
   ]
  },
  {
   "cell_type": "markdown",
   "metadata": {},
   "source": [
    "## Combine"
   ]
  },
  {
   "cell_type": "code",
   "execution_count": 32,
   "metadata": {},
   "outputs": [],
   "source": [
    "csv_list = [\n",
    "    i\n",
    "    for i in glob.glob(str(data_dir / slug / \"*.csv\"))\n",
    "    if not str(i).endswith(\"timeseries.csv\")\n",
    "]"
   ]
  },
  {
   "cell_type": "code",
   "execution_count": 33,
   "metadata": {},
   "outputs": [],
   "source": [
    "df_list = []\n",
    "for csv in csv_list:\n",
    "    if \"manual\" in csv:\n",
    "        df = pd.read_csv(csv, parse_dates=[\"date\"])\n",
    "    else:\n",
    "        file_date = csv.split(\"/\")[-1].replace(\".csv\", \"\")\n",
    "        df = pd.read_csv(csv, parse_dates=[\"county_date\"])\n",
    "        df[\"date\"] = file_date\n",
    "    df_list.append(df)"
   ]
  },
  {
   "cell_type": "code",
   "execution_count": 34,
   "metadata": {},
   "outputs": [],
   "source": [
    "df = pd.concat(df_list).sort_values([\"date\", \"area\"])"
   ]
  },
  {
   "cell_type": "code",
   "execution_count": 35,
   "metadata": {},
   "outputs": [],
   "source": [
    "df.to_csv(data_dir / slug / \"timeseries.csv\", index=False)"
   ]
  }
 ],
 "metadata": {
  "kernelspec": {
   "display_name": "Python 3 (ipykernel)",
   "language": "python",
   "name": "python3"
  },
  "language_info": {
   "codemirror_mode": {
    "name": "ipython",
    "version": 3
   },
   "file_extension": ".py",
   "mimetype": "text/x-python",
   "name": "python",
   "nbconvert_exporter": "python",
   "pygments_lexer": "ipython3",
   "version": "3.8.14"
  }
 },
 "nbformat": 4,
 "nbformat_minor": 4
}
