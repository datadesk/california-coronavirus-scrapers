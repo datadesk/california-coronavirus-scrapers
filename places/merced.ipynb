{
 "cells": [
  {
   "cell_type": "markdown",
   "metadata": {},
   "source": [
    "## Configuration\n",
    "_Initial steps to get the notebook ready to play nice with our repository. Do not delete this section._"
   ]
  },
  {
   "cell_type": "markdown",
   "metadata": {},
   "source": [
    "Code formatting with [black](https://pypi.org/project/nb-black/)."
   ]
  },
  {
   "cell_type": "code",
   "execution_count": 1,
   "metadata": {
    "execution": {
     "iopub.execute_input": "2021-09-14T16:20:58.903512Z",
     "iopub.status.busy": "2021-09-14T16:20:58.902991Z",
     "iopub.status.idle": "2021-09-14T16:20:59.032732Z",
     "shell.execute_reply": "2021-09-14T16:20:59.031822Z"
    }
   },
   "outputs": [],
   "source": [
    "%load_ext lab_black"
   ]
  },
  {
   "cell_type": "code",
   "execution_count": 2,
   "metadata": {
    "execution": {
     "iopub.execute_input": "2021-09-14T16:20:59.038136Z",
     "iopub.status.busy": "2021-09-14T16:20:59.036898Z",
     "iopub.status.idle": "2021-09-14T16:20:59.038750Z",
     "shell.execute_reply": "2021-09-14T16:20:59.039182Z"
    }
   },
   "outputs": [],
   "source": [
    "import os\n",
    "import pathlib"
   ]
  },
  {
   "cell_type": "code",
   "execution_count": 3,
   "metadata": {
    "execution": {
     "iopub.execute_input": "2021-09-14T16:20:59.046388Z",
     "iopub.status.busy": "2021-09-14T16:20:59.045340Z",
     "iopub.status.idle": "2021-09-14T16:20:59.046958Z",
     "shell.execute_reply": "2021-09-14T16:20:59.047388Z"
    }
   },
   "outputs": [],
   "source": [
    "this_dir = pathlib.Path(os.path.abspath(\"\"))"
   ]
  },
  {
   "cell_type": "code",
   "execution_count": 4,
   "metadata": {
    "execution": {
     "iopub.execute_input": "2021-09-14T16:20:59.051575Z",
     "iopub.status.busy": "2021-09-14T16:20:59.050644Z",
     "iopub.status.idle": "2021-09-14T16:20:59.053749Z",
     "shell.execute_reply": "2021-09-14T16:20:59.053240Z"
    }
   },
   "outputs": [],
   "source": [
    "data_dir = this_dir / \"data\""
   ]
  },
  {
   "cell_type": "code",
   "execution_count": 5,
   "metadata": {
    "execution": {
     "iopub.execute_input": "2021-09-14T16:20:59.057433Z",
     "iopub.status.busy": "2021-09-14T16:20:59.056925Z",
     "iopub.status.idle": "2021-09-14T16:20:59.365357Z",
     "shell.execute_reply": "2021-09-14T16:20:59.364057Z"
    }
   },
   "outputs": [],
   "source": [
    "import pytz\n",
    "import glob\n",
    "import requests\n",
    "import pandas as pd\n",
    "import urllib, json\n",
    "from datetime import datetime"
   ]
  },
  {
   "cell_type": "markdown",
   "metadata": {},
   "source": [
    "## Download"
   ]
  },
  {
   "cell_type": "markdown",
   "metadata": {},
   "source": [
    "Retrieve the page"
   ]
  },
  {
   "cell_type": "code",
   "execution_count": 6,
   "metadata": {
    "execution": {
     "iopub.execute_input": "2021-09-14T16:20:59.370727Z",
     "iopub.status.busy": "2021-09-14T16:20:59.369847Z",
     "iopub.status.idle": "2021-09-14T16:20:59.372956Z",
     "shell.execute_reply": "2021-09-14T16:20:59.372554Z"
    }
   },
   "outputs": [],
   "source": [
    "url = \"https://services6.arcgis.com/LYh3hRvKq5ASgAVM/arcgis/rest/services/CommunitiesCaseCountbyDate_v1/FeatureServer/0/query?where=1%3D1&objectIds=&time=&geometry=&geometryType=esriGeometryEnvelope&inSR=&spatialRel=esriSpatialRelIntersects&resultType=none&distance=0.0&units=esriSRUnit_Meter&returnGeodetic=false&outFields=*&returnGeometry=false&featureEncoding=esriDefault&multipatchOption=xyFootprint&maxAllowableOffset=&geometryPrecision=&outSR=&datumTransformation=&applyVCSProjection=false&returnIdsOnly=false&returnUniqueIdsOnly=false&returnCountOnly=false&returnExtentOnly=false&returnQueryGeometry=false&returnDistinctValues=false&cacheHint=false&orderByFields=&groupByFieldsForStatistics=&outStatistics=&having=&resultOffset=&resultRecordCount=&returnZ=false&returnM=false&returnExceededLimitFeatures=true&quantizationParameters=&sqlFormat=none&f=pjson&token=\""
   ]
  },
  {
   "cell_type": "code",
   "execution_count": 7,
   "metadata": {
    "execution": {
     "iopub.execute_input": "2021-09-14T16:20:59.380731Z",
     "iopub.status.busy": "2021-09-14T16:20:59.376185Z",
     "iopub.status.idle": "2021-09-14T16:20:59.533392Z",
     "shell.execute_reply": "2021-09-14T16:20:59.532841Z"
    }
   },
   "outputs": [],
   "source": [
    "r = requests.get(url)"
   ]
  },
  {
   "cell_type": "code",
   "execution_count": 8,
   "metadata": {
    "execution": {
     "iopub.execute_input": "2021-09-14T16:20:59.541796Z",
     "iopub.status.busy": "2021-09-14T16:20:59.536427Z",
     "iopub.status.idle": "2021-09-14T16:20:59.544997Z",
     "shell.execute_reply": "2021-09-14T16:20:59.544111Z"
    }
   },
   "outputs": [],
   "source": [
    "data = r.json()"
   ]
  },
  {
   "cell_type": "markdown",
   "metadata": {},
   "source": [
    "## Parse\n"
   ]
  },
  {
   "cell_type": "code",
   "execution_count": 9,
   "metadata": {
    "execution": {
     "iopub.execute_input": "2021-09-14T16:20:59.549072Z",
     "iopub.status.busy": "2021-09-14T16:20:59.548135Z",
     "iopub.status.idle": "2021-09-14T16:20:59.552793Z",
     "shell.execute_reply": "2021-09-14T16:20:59.552339Z"
    }
   },
   "outputs": [],
   "source": [
    "features = data[\"features\"]"
   ]
  },
  {
   "cell_type": "code",
   "execution_count": 10,
   "metadata": {
    "execution": {
     "iopub.execute_input": "2021-09-14T16:20:59.557072Z",
     "iopub.status.busy": "2021-09-14T16:20:59.556564Z",
     "iopub.status.idle": "2021-09-14T16:20:59.559897Z",
     "shell.execute_reply": "2021-09-14T16:20:59.559480Z"
    }
   },
   "outputs": [],
   "source": [
    "values = []"
   ]
  },
  {
   "cell_type": "code",
   "execution_count": 11,
   "metadata": {
    "execution": {
     "iopub.execute_input": "2021-09-14T16:20:59.566768Z",
     "iopub.status.busy": "2021-09-14T16:20:59.566295Z",
     "iopub.status.idle": "2021-09-14T16:20:59.569035Z",
     "shell.execute_reply": "2021-09-14T16:20:59.569446Z"
    }
   },
   "outputs": [],
   "source": [
    "for f in features:\n",
    "    row = f[\"attributes\"].values()\n",
    "    values.append(row)"
   ]
  },
  {
   "cell_type": "code",
   "execution_count": 12,
   "metadata": {
    "execution": {
     "iopub.execute_input": "2021-09-14T16:20:59.575443Z",
     "iopub.status.busy": "2021-09-14T16:20:59.571466Z",
     "iopub.status.idle": "2021-09-14T16:20:59.578242Z",
     "shell.execute_reply": "2021-09-14T16:20:59.577805Z"
    }
   },
   "outputs": [],
   "source": [
    "cols = list(data[\"features\"][0][\"attributes\"].keys())"
   ]
  },
  {
   "cell_type": "markdown",
   "metadata": {},
   "source": [
    "Convert to dataframe"
   ]
  },
  {
   "cell_type": "code",
   "execution_count": 13,
   "metadata": {
    "execution": {
     "iopub.execute_input": "2021-09-14T16:20:59.586034Z",
     "iopub.status.busy": "2021-09-14T16:20:59.580215Z",
     "iopub.status.idle": "2021-09-14T16:20:59.588669Z",
     "shell.execute_reply": "2021-09-14T16:20:59.588244Z"
    }
   },
   "outputs": [],
   "source": [
    "df = pd.DataFrame(values, columns=cols)"
   ]
  },
  {
   "cell_type": "markdown",
   "metadata": {},
   "source": [
    "Reformat and set the date"
   ]
  },
  {
   "cell_type": "code",
   "execution_count": 14,
   "metadata": {
    "execution": {
     "iopub.execute_input": "2021-09-14T16:20:59.593780Z",
     "iopub.status.busy": "2021-09-14T16:20:59.592797Z",
     "iopub.status.idle": "2021-09-14T16:20:59.598422Z",
     "shell.execute_reply": "2021-09-14T16:20:59.597690Z"
    }
   },
   "outputs": [],
   "source": [
    "df[\"timestamp\"] = df[\"Date\"] / (1000)"
   ]
  },
  {
   "cell_type": "code",
   "execution_count": 15,
   "metadata": {
    "execution": {
     "iopub.execute_input": "2021-09-14T16:20:59.604285Z",
     "iopub.status.busy": "2021-09-14T16:20:59.603284Z",
     "iopub.status.idle": "2021-09-14T16:20:59.607290Z",
     "shell.execute_reply": "2021-09-14T16:20:59.606924Z"
    }
   },
   "outputs": [],
   "source": [
    "df[\"timestamp_int\"] = df[\"timestamp\"].astype(int)"
   ]
  },
  {
   "cell_type": "code",
   "execution_count": 16,
   "metadata": {
    "execution": {
     "iopub.execute_input": "2021-09-14T16:20:59.612140Z",
     "iopub.status.busy": "2021-09-14T16:20:59.609009Z",
     "iopub.status.idle": "2021-09-14T16:20:59.615296Z",
     "shell.execute_reply": "2021-09-14T16:20:59.614837Z"
    }
   },
   "outputs": [],
   "source": [
    "timestamps = list(df[\"timestamp_int\"])"
   ]
  },
  {
   "cell_type": "code",
   "execution_count": 17,
   "metadata": {
    "execution": {
     "iopub.execute_input": "2021-09-14T16:20:59.620629Z",
     "iopub.status.busy": "2021-09-14T16:20:59.620132Z",
     "iopub.status.idle": "2021-09-14T16:20:59.623433Z",
     "shell.execute_reply": "2021-09-14T16:20:59.622780Z"
    }
   },
   "outputs": [],
   "source": [
    "dates = [datetime.fromtimestamp(t) for t in timestamps]"
   ]
  },
  {
   "cell_type": "code",
   "execution_count": 18,
   "metadata": {
    "execution": {
     "iopub.execute_input": "2021-09-14T16:20:59.628658Z",
     "iopub.status.busy": "2021-09-14T16:20:59.627857Z",
     "iopub.status.idle": "2021-09-14T16:20:59.631874Z",
     "shell.execute_reply": "2021-09-14T16:20:59.632274Z"
    }
   },
   "outputs": [],
   "source": [
    "df[\"county_date\"] = dates"
   ]
  },
  {
   "cell_type": "code",
   "execution_count": 19,
   "metadata": {
    "execution": {
     "iopub.execute_input": "2021-09-14T16:20:59.639282Z",
     "iopub.status.busy": "2021-09-14T16:20:59.638816Z",
     "iopub.status.idle": "2021-09-14T16:20:59.642187Z",
     "shell.execute_reply": "2021-09-14T16:20:59.641522Z"
    }
   },
   "outputs": [],
   "source": [
    "df[\"county_date\"] = pd.to_datetime(df[\"county_date\"]).dt.date"
   ]
  },
  {
   "cell_type": "markdown",
   "metadata": {},
   "source": [
    "Drop columns we know we don't need"
   ]
  },
  {
   "cell_type": "code",
   "execution_count": 20,
   "metadata": {
    "execution": {
     "iopub.execute_input": "2021-09-14T16:20:59.645598Z",
     "iopub.status.busy": "2021-09-14T16:20:59.644151Z",
     "iopub.status.idle": "2021-09-14T16:20:59.651854Z",
     "shell.execute_reply": "2021-09-14T16:20:59.650839Z"
    }
   },
   "outputs": [],
   "source": [
    "trim_df = df.drop(\n",
    "    [\"OBJECTID\", \"Date\", \"Point_X\", \"Point_Y\", \"timestamp\", \"timestamp_int\"], axis=1\n",
    ")"
   ]
  },
  {
   "cell_type": "markdown",
   "metadata": {},
   "source": [
    "Melt"
   ]
  },
  {
   "cell_type": "code",
   "execution_count": 21,
   "metadata": {
    "execution": {
     "iopub.execute_input": "2021-09-14T16:20:59.657621Z",
     "iopub.status.busy": "2021-09-14T16:20:59.655274Z",
     "iopub.status.idle": "2021-09-14T16:20:59.663719Z",
     "shell.execute_reply": "2021-09-14T16:20:59.663269Z"
    }
   },
   "outputs": [],
   "source": [
    "melt_df = pd.melt(\n",
    "    trim_df,\n",
    "    id_vars=\"county_date\",\n",
    "    var_name=\"area\",\n",
    "    value_name=\"confirmed_cases\",\n",
    ")"
   ]
  },
  {
   "cell_type": "markdown",
   "metadata": {},
   "source": [
    "Filter nulls"
   ]
  },
  {
   "cell_type": "code",
   "execution_count": 22,
   "metadata": {
    "execution": {
     "iopub.execute_input": "2021-09-14T16:20:59.667932Z",
     "iopub.status.busy": "2021-09-14T16:20:59.665798Z",
     "iopub.status.idle": "2021-09-14T16:20:59.672561Z",
     "shell.execute_reply": "2021-09-14T16:20:59.672114Z"
    }
   },
   "outputs": [],
   "source": [
    "filter_df = melt_df[~melt_df.confirmed_cases.isnull()]"
   ]
  },
  {
   "cell_type": "markdown",
   "metadata": {},
   "source": [
    "Sort by date"
   ]
  },
  {
   "cell_type": "code",
   "execution_count": 23,
   "metadata": {
    "execution": {
     "iopub.execute_input": "2021-09-14T16:20:59.676288Z",
     "iopub.status.busy": "2021-09-14T16:20:59.675815Z",
     "iopub.status.idle": "2021-09-14T16:20:59.682647Z",
     "shell.execute_reply": "2021-09-14T16:20:59.682227Z"
    }
   },
   "outputs": [],
   "source": [
    "sort_df = filter_df.sort_values(\"county_date\")"
   ]
  },
  {
   "cell_type": "code",
   "execution_count": 24,
   "metadata": {
    "execution": {
     "iopub.execute_input": "2021-09-14T16:20:59.686630Z",
     "iopub.status.busy": "2021-09-14T16:20:59.684738Z",
     "iopub.status.idle": "2021-09-14T16:20:59.691171Z",
     "shell.execute_reply": "2021-09-14T16:20:59.691577Z"
    }
   },
   "outputs": [],
   "source": [
    "city_names = {\n",
    "    \"Los_Banos\": \"Los Banos\",\n",
    "    \"Dos_Palos\": \"Dos Palos\",\n",
    "    \"LeGrand_Planada\": \"Le Grand Planada\",\n",
    "}"
   ]
  },
  {
   "cell_type": "code",
   "execution_count": 25,
   "metadata": {
    "execution": {
     "iopub.execute_input": "2021-09-14T16:20:59.697830Z",
     "iopub.status.busy": "2021-09-14T16:20:59.694602Z",
     "iopub.status.idle": "2021-09-14T16:20:59.700663Z",
     "shell.execute_reply": "2021-09-14T16:20:59.699772Z"
    }
   },
   "outputs": [],
   "source": [
    "clean_df = sort_df.replace({\"area\": city_names})"
   ]
  },
  {
   "cell_type": "code",
   "execution_count": 26,
   "metadata": {
    "execution": {
     "iopub.execute_input": "2021-09-14T16:20:59.703973Z",
     "iopub.status.busy": "2021-09-14T16:20:59.703456Z",
     "iopub.status.idle": "2021-09-14T16:20:59.708214Z",
     "shell.execute_reply": "2021-09-14T16:20:59.707797Z"
    }
   },
   "outputs": [],
   "source": [
    "clean_df.insert(0, \"county\", \"Merced\")"
   ]
  },
  {
   "cell_type": "code",
   "execution_count": 27,
   "metadata": {
    "execution": {
     "iopub.execute_input": "2021-09-14T16:20:59.714825Z",
     "iopub.status.busy": "2021-09-14T16:20:59.713370Z",
     "iopub.status.idle": "2021-09-14T16:20:59.717546Z",
     "shell.execute_reply": "2021-09-14T16:20:59.717961Z"
    }
   },
   "outputs": [],
   "source": [
    "latest_df = clean_df[clean_df[\"county_date\"] == clean_df[\"county_date\"].max()]"
   ]
  },
  {
   "cell_type": "code",
   "execution_count": 28,
   "metadata": {
    "execution": {
     "iopub.execute_input": "2021-09-14T16:20:59.723777Z",
     "iopub.status.busy": "2021-09-14T16:20:59.722955Z",
     "iopub.status.idle": "2021-09-14T16:20:59.726542Z",
     "shell.execute_reply": "2021-09-14T16:20:59.726123Z"
    }
   },
   "outputs": [],
   "source": [
    "latest_df = latest_df.drop_duplicates(subset=[\"area\"])"
   ]
  },
  {
   "cell_type": "markdown",
   "metadata": {},
   "source": [
    "## Vet"
   ]
  },
  {
   "cell_type": "code",
   "execution_count": 29,
   "metadata": {
    "execution": {
     "iopub.execute_input": "2021-09-14T16:20:59.732743Z",
     "iopub.status.busy": "2021-09-14T16:20:59.730625Z",
     "iopub.status.idle": "2021-09-14T16:20:59.734614Z",
     "shell.execute_reply": "2021-09-14T16:20:59.734991Z"
    }
   },
   "outputs": [],
   "source": [
    "try:\n",
    "    assert not len(latest_df) > 10\n",
    "except AssertionError:\n",
    "    raise AssertionError(\"Merced's area scraper is missing rows\")"
   ]
  },
  {
   "cell_type": "code",
   "execution_count": 30,
   "metadata": {
    "execution": {
     "iopub.execute_input": "2021-09-14T16:20:59.738867Z",
     "iopub.status.busy": "2021-09-14T16:20:59.737798Z",
     "iopub.status.idle": "2021-09-14T16:20:59.856677Z",
     "shell.execute_reply": "2021-09-14T16:20:59.855000Z"
    }
   },
   "outputs": [
    {
     "ename": "AssertionError",
     "evalue": "Merced's area scraper is missing rows",
     "output_type": "error",
     "traceback": [
      "\u001b[0;31m---------------------------------------------------------------------------\u001b[0m",
      "\u001b[0;31mAssertionError\u001b[0m                            Traceback (most recent call last)",
      "\u001b[0;32m/tmp/ipykernel_3179/2250293295.py\u001b[0m in \u001b[0;36m<module>\u001b[0;34m\u001b[0m\n\u001b[1;32m      1\u001b[0m \u001b[0;32mtry\u001b[0m\u001b[0;34m:\u001b[0m\u001b[0;34m\u001b[0m\u001b[0;34m\u001b[0m\u001b[0m\n\u001b[0;32m----> 2\u001b[0;31m     \u001b[0;32massert\u001b[0m \u001b[0;32mnot\u001b[0m \u001b[0mlen\u001b[0m\u001b[0;34m(\u001b[0m\u001b[0mlatest_df\u001b[0m\u001b[0;34m)\u001b[0m \u001b[0;34m<\u001b[0m \u001b[0;36m10\u001b[0m\u001b[0;34m\u001b[0m\u001b[0;34m\u001b[0m\u001b[0m\n\u001b[0m\u001b[1;32m      3\u001b[0m \u001b[0;32mexcept\u001b[0m \u001b[0mAssertionError\u001b[0m\u001b[0;34m:\u001b[0m\u001b[0;34m\u001b[0m\u001b[0;34m\u001b[0m\u001b[0m\n",
      "\u001b[0;31mAssertionError\u001b[0m: ",
      "\nDuring handling of the above exception, another exception occurred:\n",
      "\u001b[0;31mAssertionError\u001b[0m                            Traceback (most recent call last)",
      "\u001b[0;32m/tmp/ipykernel_3179/2250293295.py\u001b[0m in \u001b[0;36m<module>\u001b[0;34m\u001b[0m\n\u001b[1;32m      2\u001b[0m     \u001b[0;32massert\u001b[0m \u001b[0;32mnot\u001b[0m \u001b[0mlen\u001b[0m\u001b[0;34m(\u001b[0m\u001b[0mlatest_df\u001b[0m\u001b[0;34m)\u001b[0m \u001b[0;34m<\u001b[0m \u001b[0;36m10\u001b[0m\u001b[0;34m\u001b[0m\u001b[0;34m\u001b[0m\u001b[0m\n\u001b[1;32m      3\u001b[0m \u001b[0;32mexcept\u001b[0m \u001b[0mAssertionError\u001b[0m\u001b[0;34m:\u001b[0m\u001b[0;34m\u001b[0m\u001b[0;34m\u001b[0m\u001b[0m\n\u001b[0;32m----> 4\u001b[0;31m     \u001b[0;32mraise\u001b[0m \u001b[0mAssertionError\u001b[0m\u001b[0;34m(\u001b[0m\u001b[0;34m\"Merced's area scraper is missing rows\"\u001b[0m\u001b[0;34m)\u001b[0m\u001b[0;34m\u001b[0m\u001b[0;34m\u001b[0m\u001b[0m\n\u001b[0m",
      "\u001b[0;31mAssertionError\u001b[0m: Merced's area scraper is missing rows"
     ]
    }
   ],
   "source": [
    "try:\n",
    "    assert not len(latest_df) < 10\n",
    "except AssertionError:\n",
    "    raise AssertionError(\"Merced's area scraper is missing rows\")"
   ]
  },
  {
   "cell_type": "markdown",
   "metadata": {},
   "source": [
    "## Export"
   ]
  },
  {
   "cell_type": "markdown",
   "metadata": {},
   "source": [
    "Set date"
   ]
  },
  {
   "cell_type": "code",
   "execution_count": 31,
   "metadata": {},
   "outputs": [],
   "source": [
    "tz = pytz.timezone(\"America/Los_Angeles\")"
   ]
  },
  {
   "cell_type": "code",
   "execution_count": 32,
   "metadata": {},
   "outputs": [],
   "source": [
    "today = datetime.now(tz).date()"
   ]
  },
  {
   "cell_type": "code",
   "execution_count": 33,
   "metadata": {},
   "outputs": [],
   "source": [
    "slug = \"merced\""
   ]
  },
  {
   "cell_type": "code",
   "execution_count": 34,
   "metadata": {},
   "outputs": [],
   "source": [
    "latest_df.to_csv(data_dir / slug / f\"{today}.csv\", index=False)"
   ]
  },
  {
   "cell_type": "markdown",
   "metadata": {},
   "source": [
    "## Combine"
   ]
  },
  {
   "cell_type": "code",
   "execution_count": 35,
   "metadata": {},
   "outputs": [],
   "source": [
    "csv_list = [\n",
    "    i\n",
    "    for i in glob.glob(str(data_dir / slug / \"*.csv\"))\n",
    "    if not str(i).endswith(\"timeseries.csv\")\n",
    "]"
   ]
  },
  {
   "cell_type": "code",
   "execution_count": 36,
   "metadata": {},
   "outputs": [],
   "source": [
    "df_list = []\n",
    "for csv in csv_list:\n",
    "    if \"manual\" in csv:\n",
    "        df = pd.read_csv(csv, parse_dates=[\"date\"])\n",
    "    else:\n",
    "        file_date = csv.split(\"/\")[-1].replace(\".csv\", \"\")\n",
    "        df = pd.read_csv(csv, parse_dates=[\"county_date\"])\n",
    "        df[\"date\"] = file_date\n",
    "    df_list.append(df)"
   ]
  },
  {
   "cell_type": "code",
   "execution_count": 37,
   "metadata": {},
   "outputs": [],
   "source": [
    "df = pd.concat(df_list).sort_values([\"date\", \"area\"])"
   ]
  },
  {
   "cell_type": "code",
   "execution_count": 38,
   "metadata": {},
   "outputs": [],
   "source": [
    "df.to_csv(data_dir / slug / \"timeseries.csv\", index=False)"
   ]
  }
 ],
 "metadata": {
  "kernelspec": {
   "display_name": "Python 3 (ipykernel)",
   "language": "python",
   "name": "python3"
  },
  "language_info": {
   "codemirror_mode": {
    "name": "ipython",
    "version": 3
   },
   "file_extension": ".py",
   "mimetype": "text/x-python",
   "name": "python",
   "nbconvert_exporter": "python",
   "pygments_lexer": "ipython3",
   "version": "3.8.11"
  }
 },
 "nbformat": 4,
 "nbformat_minor": 4
}
