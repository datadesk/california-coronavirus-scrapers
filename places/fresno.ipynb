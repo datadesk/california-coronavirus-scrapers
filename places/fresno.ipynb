{
 "cells": [
  {
   "cell_type": "markdown",
   "metadata": {},
   "source": [
    "## Configuration\n",
    "_Initial steps to get the notebook ready to play nice with our repository. Do not delete this section._"
   ]
  },
  {
   "cell_type": "markdown",
   "metadata": {},
   "source": [
    "Code formatting with [black](https://pypi.org/project/nb-black/)."
   ]
  },
  {
   "cell_type": "code",
   "execution_count": 1,
   "metadata": {
    "execution": {
     "iopub.execute_input": "2021-10-21T12:20:40.464946Z",
     "iopub.status.busy": "2021-10-21T12:20:40.464515Z",
     "iopub.status.idle": "2021-10-21T12:20:40.584290Z",
     "shell.execute_reply": "2021-10-21T12:20:40.583380Z"
    }
   },
   "outputs": [],
   "source": [
    "%load_ext lab_black"
   ]
  },
  {
   "cell_type": "code",
   "execution_count": 2,
   "metadata": {
    "execution": {
     "iopub.execute_input": "2021-10-21T12:20:40.589146Z",
     "iopub.status.busy": "2021-10-21T12:20:40.588001Z",
     "iopub.status.idle": "2021-10-21T12:20:40.589673Z",
     "shell.execute_reply": "2021-10-21T12:20:40.590039Z"
    }
   },
   "outputs": [],
   "source": [
    "import os\n",
    "import pathlib"
   ]
  },
  {
   "cell_type": "code",
   "execution_count": 3,
   "metadata": {
    "execution": {
     "iopub.execute_input": "2021-10-21T12:20:40.596644Z",
     "iopub.status.busy": "2021-10-21T12:20:40.595472Z",
     "iopub.status.idle": "2021-10-21T12:20:40.597172Z",
     "shell.execute_reply": "2021-10-21T12:20:40.597536Z"
    }
   },
   "outputs": [],
   "source": [
    "this_dir = pathlib.Path(os.path.abspath(\"\"))"
   ]
  },
  {
   "cell_type": "code",
   "execution_count": 4,
   "metadata": {
    "execution": {
     "iopub.execute_input": "2021-10-21T12:20:40.602281Z",
     "iopub.status.busy": "2021-10-21T12:20:40.601283Z",
     "iopub.status.idle": "2021-10-21T12:20:40.602807Z",
     "shell.execute_reply": "2021-10-21T12:20:40.603171Z"
    }
   },
   "outputs": [],
   "source": [
    "data_dir = this_dir / \"data\""
   ]
  },
  {
   "cell_type": "code",
   "execution_count": 5,
   "metadata": {
    "execution": {
     "iopub.execute_input": "2021-10-21T12:20:40.606397Z",
     "iopub.status.busy": "2021-10-21T12:20:40.605959Z",
     "iopub.status.idle": "2021-10-21T12:20:40.891009Z",
     "shell.execute_reply": "2021-10-21T12:20:40.891454Z"
    }
   },
   "outputs": [],
   "source": [
    "import pytz\n",
    "import glob\n",
    "import json\n",
    "import requests\n",
    "import pandas as pd\n",
    "from datetime import datetime"
   ]
  },
  {
   "cell_type": "markdown",
   "metadata": {},
   "source": [
    "## Download"
   ]
  },
  {
   "cell_type": "markdown",
   "metadata": {},
   "source": [
    "Retrieve the page"
   ]
  },
  {
   "cell_type": "code",
   "execution_count": 6,
   "metadata": {
    "execution": {
     "iopub.execute_input": "2021-10-21T12:20:40.896633Z",
     "iopub.status.busy": "2021-10-21T12:20:40.895169Z",
     "iopub.status.idle": "2021-10-21T12:20:40.898582Z",
     "shell.execute_reply": "2021-10-21T12:20:40.898144Z"
    }
   },
   "outputs": [],
   "source": [
    "url = \"https://services3.arcgis.com/ibgDyuD2DLBge82s/arcgis/rest/services/Fresno_County_Zip_Data_Summary/FeatureServer/0/query?f=json&where=FZIP%3C%3E%2799999%27%20AND%20COUNT_Cases%3E%3D75%20AND%20FZIP%20IS%20NOT%20NULL&returnGeometry=false&spatialRel=esriSpatialRelIntersects&outFields=*&groupByFieldsForStatistics=FCITY&orderByFields=value%20desc&outStatistics=%5B%7B%22statisticType%22%3A%22sum%22%2C%22onStatisticField%22%3A%22COUNT_Cases%22%2C%22outStatisticFieldName%22%3A%22value%22%7D%5D&resultType=standard&cacheHint=true\""
   ]
  },
  {
   "cell_type": "code",
   "execution_count": 7,
   "metadata": {
    "execution": {
     "iopub.execute_input": "2021-10-21T12:20:40.901919Z",
     "iopub.status.busy": "2021-10-21T12:20:40.901485Z",
     "iopub.status.idle": "2021-10-21T12:20:41.008261Z",
     "shell.execute_reply": "2021-10-21T12:20:41.008763Z"
    }
   },
   "outputs": [],
   "source": [
    "r = requests.get(url)"
   ]
  },
  {
   "cell_type": "code",
   "execution_count": 8,
   "metadata": {
    "execution": {
     "iopub.execute_input": "2021-10-21T12:20:41.013462Z",
     "iopub.status.busy": "2021-10-21T12:20:41.012197Z",
     "iopub.status.idle": "2021-10-21T12:20:41.015303Z",
     "shell.execute_reply": "2021-10-21T12:20:41.014929Z"
    }
   },
   "outputs": [],
   "source": [
    "data = r.json()"
   ]
  },
  {
   "cell_type": "markdown",
   "metadata": {},
   "source": [
    "## Parse"
   ]
  },
  {
   "cell_type": "code",
   "execution_count": 9,
   "metadata": {
    "execution": {
     "iopub.execute_input": "2021-10-21T12:20:41.020159Z",
     "iopub.status.busy": "2021-10-21T12:20:41.018997Z",
     "iopub.status.idle": "2021-10-21T12:20:41.020693Z",
     "shell.execute_reply": "2021-10-21T12:20:41.021060Z"
    }
   },
   "outputs": [],
   "source": [
    "dict_list = []"
   ]
  },
  {
   "cell_type": "code",
   "execution_count": 10,
   "metadata": {
    "execution": {
     "iopub.execute_input": "2021-10-21T12:20:41.027938Z",
     "iopub.status.busy": "2021-10-21T12:20:41.027436Z",
     "iopub.status.idle": "2021-10-21T12:20:41.032173Z",
     "shell.execute_reply": "2021-10-21T12:20:41.031774Z"
    }
   },
   "outputs": [],
   "source": [
    "for item in data[\"features\"]:\n",
    "    d = dict(\n",
    "        county=\"Fresno\",\n",
    "        area=item[\"attributes\"][\"FCITY\"],\n",
    "        confirmed_cases=item[\"attributes\"][\"value\"],\n",
    "    )\n",
    "    dict_list.append(d)"
   ]
  },
  {
   "cell_type": "code",
   "execution_count": 11,
   "metadata": {
    "execution": {
     "iopub.execute_input": "2021-10-21T12:20:41.037972Z",
     "iopub.status.busy": "2021-10-21T12:20:41.036964Z",
     "iopub.status.idle": "2021-10-21T12:20:41.038503Z",
     "shell.execute_reply": "2021-10-21T12:20:41.038869Z"
    }
   },
   "outputs": [],
   "source": [
    "df = pd.DataFrame(dict_list)"
   ]
  },
  {
   "cell_type": "code",
   "execution_count": 12,
   "metadata": {
    "execution": {
     "iopub.execute_input": "2021-10-21T12:20:41.043943Z",
     "iopub.status.busy": "2021-10-21T12:20:41.042983Z",
     "iopub.status.idle": "2021-10-21T12:20:41.047232Z",
     "shell.execute_reply": "2021-10-21T12:20:41.046823Z"
    }
   },
   "outputs": [],
   "source": [
    "df[\"area\"] = df[\"area\"].str.title()"
   ]
  },
  {
   "cell_type": "markdown",
   "metadata": {},
   "source": [
    "Get timestamp"
   ]
  },
  {
   "cell_type": "code",
   "execution_count": 13,
   "metadata": {
    "execution": {
     "iopub.execute_input": "2021-10-21T12:20:41.053243Z",
     "iopub.status.busy": "2021-10-21T12:20:41.052794Z",
     "iopub.status.idle": "2021-10-21T12:20:41.147443Z",
     "shell.execute_reply": "2021-10-21T12:20:41.146815Z"
    }
   },
   "outputs": [],
   "source": [
    "date_url = \"https://services3.arcgis.com/ibgDyuD2DLBge82s/arcgis/rest/services/Fresno_County_Zip_Data_Summary/FeatureServer/0/?f=json\"\n",
    "date_r = requests.get(date_url)\n",
    "date_data = date_r.json()"
   ]
  },
  {
   "cell_type": "code",
   "execution_count": 14,
   "metadata": {
    "execution": {
     "iopub.execute_input": "2021-10-21T12:20:41.153637Z",
     "iopub.status.busy": "2021-10-21T12:20:41.153103Z",
     "iopub.status.idle": "2021-10-21T12:20:41.156989Z",
     "shell.execute_reply": "2021-10-21T12:20:41.155990Z"
    }
   },
   "outputs": [],
   "source": [
    "timestamp = date_data[\"editingInfo\"][\"lastEditDate\"]"
   ]
  },
  {
   "cell_type": "code",
   "execution_count": 15,
   "metadata": {
    "execution": {
     "iopub.execute_input": "2021-10-21T12:20:41.160745Z",
     "iopub.status.busy": "2021-10-21T12:20:41.160171Z",
     "iopub.status.idle": "2021-10-21T12:20:41.179159Z",
     "shell.execute_reply": "2021-10-21T12:20:41.179602Z"
    }
   },
   "outputs": [],
   "source": [
    "tz = pytz.timezone(\"America/Los_Angeles\")"
   ]
  },
  {
   "cell_type": "code",
   "execution_count": 16,
   "metadata": {
    "execution": {
     "iopub.execute_input": "2021-10-21T12:20:41.184289Z",
     "iopub.status.busy": "2021-10-21T12:20:41.183417Z",
     "iopub.status.idle": "2021-10-21T12:20:41.188465Z",
     "shell.execute_reply": "2021-10-21T12:20:41.187993Z"
    }
   },
   "outputs": [],
   "source": [
    "latest_date = datetime.fromtimestamp(timestamp / 1000, tz).date()"
   ]
  },
  {
   "cell_type": "code",
   "execution_count": 17,
   "metadata": {
    "execution": {
     "iopub.execute_input": "2021-10-21T12:20:41.192876Z",
     "iopub.status.busy": "2021-10-21T12:20:41.192351Z",
     "iopub.status.idle": "2021-10-21T12:20:41.197129Z",
     "shell.execute_reply": "2021-10-21T12:20:41.196292Z"
    }
   },
   "outputs": [],
   "source": [
    "df[\"county_date\"] = latest_date"
   ]
  },
  {
   "cell_type": "markdown",
   "metadata": {},
   "source": [
    "## Trim"
   ]
  },
  {
   "cell_type": "code",
   "execution_count": 18,
   "metadata": {
    "execution": {
     "iopub.execute_input": "2021-10-21T12:20:41.201944Z",
     "iopub.status.busy": "2021-10-21T12:20:41.200863Z",
     "iopub.status.idle": "2021-10-21T12:20:41.204102Z",
     "shell.execute_reply": "2021-10-21T12:20:41.204476Z"
    }
   },
   "outputs": [],
   "source": [
    "df[\"county\"] = \"Fresno\""
   ]
  },
  {
   "cell_type": "code",
   "execution_count": 19,
   "metadata": {
    "execution": {
     "iopub.execute_input": "2021-10-21T12:20:41.210151Z",
     "iopub.status.busy": "2021-10-21T12:20:41.209392Z",
     "iopub.status.idle": "2021-10-21T12:20:41.212032Z",
     "shell.execute_reply": "2021-10-21T12:20:41.212413Z"
    }
   },
   "outputs": [],
   "source": [
    "df[\"area\"] = df[\"area\"].str.title()"
   ]
  },
  {
   "cell_type": "code",
   "execution_count": 20,
   "metadata": {
    "execution": {
     "iopub.execute_input": "2021-10-21T12:20:41.216837Z",
     "iopub.status.busy": "2021-10-21T12:20:41.216393Z",
     "iopub.status.idle": "2021-10-21T12:20:41.220853Z",
     "shell.execute_reply": "2021-10-21T12:20:41.220461Z"
    }
   },
   "outputs": [],
   "source": [
    "c = df[[\"county\", \"area\", \"county_date\", \"confirmed_cases\"]]"
   ]
  },
  {
   "cell_type": "markdown",
   "metadata": {},
   "source": [
    "Remove county row"
   ]
  },
  {
   "cell_type": "code",
   "execution_count": 21,
   "metadata": {
    "execution": {
     "iopub.execute_input": "2021-10-21T12:20:41.226585Z",
     "iopub.status.busy": "2021-10-21T12:20:41.226149Z",
     "iopub.status.idle": "2021-10-21T12:20:41.229149Z",
     "shell.execute_reply": "2021-10-21T12:20:41.228760Z"
    }
   },
   "outputs": [],
   "source": [
    "df = df[~(df.area == \"Fresno\")]"
   ]
  },
  {
   "cell_type": "markdown",
   "metadata": {},
   "source": [
    "## Vet"
   ]
  },
  {
   "cell_type": "code",
   "execution_count": 22,
   "metadata": {
    "execution": {
     "iopub.execute_input": "2021-10-21T12:20:41.234028Z",
     "iopub.status.busy": "2021-10-21T12:20:41.232212Z",
     "iopub.status.idle": "2021-10-21T12:20:41.345423Z",
     "shell.execute_reply": "2021-10-21T12:20:41.343964Z"
    }
   },
   "outputs": [
    {
     "ename": "AssertionError",
     "evalue": "Fresno County's place scraper has additional rows",
     "output_type": "error",
     "traceback": [
      "\u001b[0;31m---------------------------------------------------------------------------\u001b[0m",
      "\u001b[0;31mAssertionError\u001b[0m                            Traceback (most recent call last)",
      "\u001b[0;32m/tmp/ipykernel_3334/3049405065.py\u001b[0m in \u001b[0;36m<module>\u001b[0;34m\u001b[0m\n\u001b[1;32m      1\u001b[0m \u001b[0;32mtry\u001b[0m\u001b[0;34m:\u001b[0m\u001b[0;34m\u001b[0m\u001b[0;34m\u001b[0m\u001b[0m\n\u001b[0;32m----> 2\u001b[0;31m     \u001b[0;32massert\u001b[0m \u001b[0;32mnot\u001b[0m \u001b[0mlen\u001b[0m\u001b[0;34m(\u001b[0m\u001b[0mdf\u001b[0m\u001b[0;34m)\u001b[0m \u001b[0;34m>\u001b[0m \u001b[0;36m26\u001b[0m\u001b[0;34m\u001b[0m\u001b[0;34m\u001b[0m\u001b[0m\n\u001b[0m\u001b[1;32m      3\u001b[0m \u001b[0;32mexcept\u001b[0m \u001b[0mAssertionError\u001b[0m\u001b[0;34m:\u001b[0m\u001b[0;34m\u001b[0m\u001b[0;34m\u001b[0m\u001b[0m\n",
      "\u001b[0;31mAssertionError\u001b[0m: ",
      "\nDuring handling of the above exception, another exception occurred:\n",
      "\u001b[0;31mAssertionError\u001b[0m                            Traceback (most recent call last)",
      "\u001b[0;32m/tmp/ipykernel_3334/3049405065.py\u001b[0m in \u001b[0;36m<module>\u001b[0;34m\u001b[0m\n\u001b[1;32m      2\u001b[0m     \u001b[0;32massert\u001b[0m \u001b[0;32mnot\u001b[0m \u001b[0mlen\u001b[0m\u001b[0;34m(\u001b[0m\u001b[0mdf\u001b[0m\u001b[0;34m)\u001b[0m \u001b[0;34m>\u001b[0m \u001b[0;36m26\u001b[0m\u001b[0;34m\u001b[0m\u001b[0;34m\u001b[0m\u001b[0m\n\u001b[1;32m      3\u001b[0m \u001b[0;32mexcept\u001b[0m \u001b[0mAssertionError\u001b[0m\u001b[0;34m:\u001b[0m\u001b[0;34m\u001b[0m\u001b[0;34m\u001b[0m\u001b[0m\n\u001b[0;32m----> 4\u001b[0;31m     \u001b[0;32mraise\u001b[0m \u001b[0mAssertionError\u001b[0m\u001b[0;34m(\u001b[0m\u001b[0;34m\"Fresno County's place scraper has additional rows\"\u001b[0m\u001b[0;34m)\u001b[0m\u001b[0;34m\u001b[0m\u001b[0;34m\u001b[0m\u001b[0m\n\u001b[0m",
      "\u001b[0;31mAssertionError\u001b[0m: Fresno County's place scraper has additional rows"
     ]
    }
   ],
   "source": [
    "try:\n",
    "    assert not len(df) > 26\n",
    "except AssertionError:\n",
    "    raise AssertionError(\"Fresno County's place scraper has additional rows\")"
   ]
  },
  {
   "cell_type": "code",
   "execution_count": 91,
   "metadata": {},
   "outputs": [],
   "source": [
    "try:\n",
    "    assert not len(df) < 26\n",
    "except AssertionError:\n",
    "    raise AssertionError(\"Fresno County's place scraper is missing rows\")"
   ]
  },
  {
   "cell_type": "markdown",
   "metadata": {},
   "source": [
    "## Export"
   ]
  },
  {
   "cell_type": "markdown",
   "metadata": {},
   "source": [
    "Mark the current date"
   ]
  },
  {
   "cell_type": "code",
   "execution_count": 92,
   "metadata": {},
   "outputs": [],
   "source": [
    "tz = pytz.timezone(\"America/Los_Angeles\")"
   ]
  },
  {
   "cell_type": "code",
   "execution_count": 93,
   "metadata": {},
   "outputs": [],
   "source": [
    "today = datetime.now(tz).date()"
   ]
  },
  {
   "cell_type": "code",
   "execution_count": 94,
   "metadata": {},
   "outputs": [],
   "source": [
    "slug = \"fresno\""
   ]
  },
  {
   "cell_type": "code",
   "execution_count": 95,
   "metadata": {},
   "outputs": [],
   "source": [
    "df.to_csv(data_dir / slug / f\"{today}.csv\", index=False)"
   ]
  },
  {
   "cell_type": "markdown",
   "metadata": {},
   "source": [
    "## Combine"
   ]
  },
  {
   "cell_type": "code",
   "execution_count": 96,
   "metadata": {},
   "outputs": [],
   "source": [
    "csv_list = [\n",
    "    i\n",
    "    for i in glob.glob(str(data_dir / slug / \"*.csv\"))\n",
    "    if not str(i).endswith(\"timeseries.csv\")\n",
    "]"
   ]
  },
  {
   "cell_type": "code",
   "execution_count": 97,
   "metadata": {},
   "outputs": [],
   "source": [
    "df_list = []\n",
    "for csv in csv_list:\n",
    "    if \"manual\" in csv:\n",
    "        df = pd.read_csv(csv, parse_dates=[\"date\"])\n",
    "    else:\n",
    "        file_date = csv.split(\"/\")[-1].replace(\".csv\", \"\")\n",
    "        df = pd.read_csv(csv, parse_dates=[\"county_date\"])\n",
    "        df[\"date\"] = file_date\n",
    "    df_list.append(df)"
   ]
  },
  {
   "cell_type": "code",
   "execution_count": 98,
   "metadata": {},
   "outputs": [],
   "source": [
    "df = pd.concat(df_list).sort_values([\"date\", \"area\"])"
   ]
  },
  {
   "cell_type": "code",
   "execution_count": 99,
   "metadata": {},
   "outputs": [],
   "source": [
    "df.to_csv(data_dir / slug / \"timeseries.csv\", index=False)"
   ]
  }
 ],
 "metadata": {
  "kernelspec": {
   "display_name": "Python 3 (ipykernel)",
   "language": "python",
   "name": "python3"
  },
  "language_info": {
   "codemirror_mode": {
    "name": "ipython",
    "version": 3
   },
   "file_extension": ".py",
   "mimetype": "text/x-python",
   "name": "python",
   "nbconvert_exporter": "python",
   "pygments_lexer": "ipython3",
   "version": "3.8.12"
  }
 },
 "nbformat": 4,
 "nbformat_minor": 4
}
