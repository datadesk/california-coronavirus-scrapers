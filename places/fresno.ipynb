{
 "cells": [
  {
   "cell_type": "markdown",
   "metadata": {},
   "source": [
    "## Configuration\n",
    "_Initial steps to get the notebook ready to play nice with our repository. Do not delete this section._"
   ]
  },
  {
   "cell_type": "markdown",
   "metadata": {},
   "source": [
    "Code formatting with [black](https://pypi.org/project/nb-black/)."
   ]
  },
  {
   "cell_type": "code",
   "execution_count": 1,
   "metadata": {
    "execution": {
     "iopub.execute_input": "2022-06-16T16:19:21.636537Z",
     "iopub.status.busy": "2022-06-16T16:19:21.636063Z",
     "iopub.status.idle": "2022-06-16T16:19:21.748872Z",
     "shell.execute_reply": "2022-06-16T16:19:21.748336Z"
    }
   },
   "outputs": [],
   "source": [
    "%load_ext lab_black"
   ]
  },
  {
   "cell_type": "code",
   "execution_count": 2,
   "metadata": {
    "execution": {
     "iopub.execute_input": "2022-06-16T16:19:21.754538Z",
     "iopub.status.busy": "2022-06-16T16:19:21.753360Z",
     "iopub.status.idle": "2022-06-16T16:19:21.755067Z",
     "shell.execute_reply": "2022-06-16T16:19:21.755434Z"
    }
   },
   "outputs": [],
   "source": [
    "import os\n",
    "import pathlib"
   ]
  },
  {
   "cell_type": "code",
   "execution_count": 3,
   "metadata": {
    "execution": {
     "iopub.execute_input": "2022-06-16T16:19:21.759645Z",
     "iopub.status.busy": "2022-06-16T16:19:21.759189Z",
     "iopub.status.idle": "2022-06-16T16:19:21.763410Z",
     "shell.execute_reply": "2022-06-16T16:19:21.763030Z"
    }
   },
   "outputs": [],
   "source": [
    "this_dir = pathlib.Path(os.path.abspath(\"\"))"
   ]
  },
  {
   "cell_type": "code",
   "execution_count": 4,
   "metadata": {
    "execution": {
     "iopub.execute_input": "2022-06-16T16:19:21.767257Z",
     "iopub.status.busy": "2022-06-16T16:19:21.765243Z",
     "iopub.status.idle": "2022-06-16T16:19:21.770613Z",
     "shell.execute_reply": "2022-06-16T16:19:21.770131Z"
    }
   },
   "outputs": [],
   "source": [
    "data_dir = this_dir / \"data\""
   ]
  },
  {
   "cell_type": "code",
   "execution_count": 5,
   "metadata": {
    "execution": {
     "iopub.execute_input": "2022-06-16T16:19:21.774612Z",
     "iopub.status.busy": "2022-06-16T16:19:21.774136Z",
     "iopub.status.idle": "2022-06-16T16:19:22.087629Z",
     "shell.execute_reply": "2022-06-16T16:19:22.086740Z"
    }
   },
   "outputs": [],
   "source": [
    "import pytz\n",
    "import glob\n",
    "import json\n",
    "import requests\n",
    "import pandas as pd\n",
    "from datetime import datetime"
   ]
  },
  {
   "cell_type": "markdown",
   "metadata": {},
   "source": [
    "## Download"
   ]
  },
  {
   "cell_type": "markdown",
   "metadata": {},
   "source": [
    "Retrieve the page"
   ]
  },
  {
   "cell_type": "code",
   "execution_count": 6,
   "metadata": {
    "execution": {
     "iopub.execute_input": "2022-06-16T16:19:22.092178Z",
     "iopub.status.busy": "2022-06-16T16:19:22.091632Z",
     "iopub.status.idle": "2022-06-16T16:19:22.094916Z",
     "shell.execute_reply": "2022-06-16T16:19:22.094205Z"
    }
   },
   "outputs": [],
   "source": [
    "url = \"https://services3.arcgis.com/ibgDyuD2DLBge82s/arcgis/rest/services/Fresno_County_Zip_Data_Summary/FeatureServer/0/query?f=json&where=FZIP%3C%3E%2799999%27%20AND%20COUNT_Cases%3E%3D75%20AND%20FZIP%20IS%20NOT%20NULL&returnGeometry=false&spatialRel=esriSpatialRelIntersects&outFields=*&groupByFieldsForStatistics=FCITY&orderByFields=value%20desc&outStatistics=%5B%7B%22statisticType%22%3A%22sum%22%2C%22onStatisticField%22%3A%22COUNT_Cases%22%2C%22outStatisticFieldName%22%3A%22value%22%7D%5D&resultType=standard&cacheHint=true\""
   ]
  },
  {
   "cell_type": "code",
   "execution_count": 7,
   "metadata": {
    "execution": {
     "iopub.execute_input": "2022-06-16T16:19:22.102603Z",
     "iopub.status.busy": "2022-06-16T16:19:22.098019Z",
     "iopub.status.idle": "2022-06-16T16:19:22.376640Z",
     "shell.execute_reply": "2022-06-16T16:19:22.375797Z"
    }
   },
   "outputs": [],
   "source": [
    "r = requests.get(url)"
   ]
  },
  {
   "cell_type": "code",
   "execution_count": 8,
   "metadata": {
    "execution": {
     "iopub.execute_input": "2022-06-16T16:19:22.381918Z",
     "iopub.status.busy": "2022-06-16T16:19:22.381344Z",
     "iopub.status.idle": "2022-06-16T16:19:22.382760Z",
     "shell.execute_reply": "2022-06-16T16:19:22.383150Z"
    }
   },
   "outputs": [],
   "source": [
    "data = r.json()"
   ]
  },
  {
   "cell_type": "markdown",
   "metadata": {},
   "source": [
    "## Parse"
   ]
  },
  {
   "cell_type": "code",
   "execution_count": 9,
   "metadata": {
    "execution": {
     "iopub.execute_input": "2022-06-16T16:19:22.386646Z",
     "iopub.status.busy": "2022-06-16T16:19:22.386205Z",
     "iopub.status.idle": "2022-06-16T16:19:22.389039Z",
     "shell.execute_reply": "2022-06-16T16:19:22.388644Z"
    }
   },
   "outputs": [],
   "source": [
    "dict_list = []"
   ]
  },
  {
   "cell_type": "code",
   "execution_count": 10,
   "metadata": {
    "execution": {
     "iopub.execute_input": "2022-06-16T16:19:22.394385Z",
     "iopub.status.busy": "2022-06-16T16:19:22.393926Z",
     "iopub.status.idle": "2022-06-16T16:19:22.399767Z",
     "shell.execute_reply": "2022-06-16T16:19:22.399358Z"
    }
   },
   "outputs": [],
   "source": [
    "for item in data[\"features\"]:\n",
    "    d = dict(\n",
    "        county=\"Fresno\",\n",
    "        area=item[\"attributes\"][\"FCITY\"],\n",
    "        confirmed_cases=item[\"attributes\"][\"value\"],\n",
    "    )\n",
    "    dict_list.append(d)"
   ]
  },
  {
   "cell_type": "code",
   "execution_count": 11,
   "metadata": {
    "execution": {
     "iopub.execute_input": "2022-06-16T16:19:22.404681Z",
     "iopub.status.busy": "2022-06-16T16:19:22.403856Z",
     "iopub.status.idle": "2022-06-16T16:19:22.406839Z",
     "shell.execute_reply": "2022-06-16T16:19:22.406463Z"
    }
   },
   "outputs": [],
   "source": [
    "df = pd.DataFrame(dict_list)"
   ]
  },
  {
   "cell_type": "code",
   "execution_count": 12,
   "metadata": {
    "execution": {
     "iopub.execute_input": "2022-06-16T16:19:22.413230Z",
     "iopub.status.busy": "2022-06-16T16:19:22.412275Z",
     "iopub.status.idle": "2022-06-16T16:19:22.413781Z",
     "shell.execute_reply": "2022-06-16T16:19:22.414156Z"
    }
   },
   "outputs": [],
   "source": [
    "df[\"area\"] = df[\"area\"].str.title()"
   ]
  },
  {
   "cell_type": "markdown",
   "metadata": {},
   "source": [
    "Get timestamp"
   ]
  },
  {
   "cell_type": "code",
   "execution_count": 13,
   "metadata": {
    "execution": {
     "iopub.execute_input": "2022-06-16T16:19:22.420630Z",
     "iopub.status.busy": "2022-06-16T16:19:22.420184Z",
     "iopub.status.idle": "2022-06-16T16:19:22.527572Z",
     "shell.execute_reply": "2022-06-16T16:19:22.526491Z"
    }
   },
   "outputs": [],
   "source": [
    "date_url = \"https://services3.arcgis.com/ibgDyuD2DLBge82s/arcgis/rest/services/Fresno_County_Zip_Data_Summary/FeatureServer/0/?f=json\"\n",
    "date_r = requests.get(date_url)\n",
    "date_data = date_r.json()"
   ]
  },
  {
   "cell_type": "code",
   "execution_count": 14,
   "metadata": {
    "execution": {
     "iopub.execute_input": "2022-06-16T16:19:22.531934Z",
     "iopub.status.busy": "2022-06-16T16:19:22.531178Z",
     "iopub.status.idle": "2022-06-16T16:19:22.536019Z",
     "shell.execute_reply": "2022-06-16T16:19:22.536395Z"
    }
   },
   "outputs": [],
   "source": [
    "timestamp = date_data[\"editingInfo\"][\"lastEditDate\"]"
   ]
  },
  {
   "cell_type": "code",
   "execution_count": 15,
   "metadata": {
    "execution": {
     "iopub.execute_input": "2022-06-16T16:19:22.540038Z",
     "iopub.status.busy": "2022-06-16T16:19:22.539590Z",
     "iopub.status.idle": "2022-06-16T16:19:22.557469Z",
     "shell.execute_reply": "2022-06-16T16:19:22.557900Z"
    }
   },
   "outputs": [],
   "source": [
    "tz = pytz.timezone(\"America/Los_Angeles\")"
   ]
  },
  {
   "cell_type": "code",
   "execution_count": 16,
   "metadata": {
    "execution": {
     "iopub.execute_input": "2022-06-16T16:19:22.562155Z",
     "iopub.status.busy": "2022-06-16T16:19:22.561568Z",
     "iopub.status.idle": "2022-06-16T16:19:22.564975Z",
     "shell.execute_reply": "2022-06-16T16:19:22.564589Z"
    }
   },
   "outputs": [],
   "source": [
    "latest_date = datetime.fromtimestamp(timestamp / 1000, tz).date()"
   ]
  },
  {
   "cell_type": "code",
   "execution_count": 17,
   "metadata": {
    "execution": {
     "iopub.execute_input": "2022-06-16T16:19:22.569845Z",
     "iopub.status.busy": "2022-06-16T16:19:22.569020Z",
     "iopub.status.idle": "2022-06-16T16:19:22.572361Z",
     "shell.execute_reply": "2022-06-16T16:19:22.571969Z"
    }
   },
   "outputs": [],
   "source": [
    "df[\"county_date\"] = latest_date"
   ]
  },
  {
   "cell_type": "markdown",
   "metadata": {},
   "source": [
    "## Trim"
   ]
  },
  {
   "cell_type": "code",
   "execution_count": 18,
   "metadata": {
    "execution": {
     "iopub.execute_input": "2022-06-16T16:19:22.578530Z",
     "iopub.status.busy": "2022-06-16T16:19:22.578083Z",
     "iopub.status.idle": "2022-06-16T16:19:22.580718Z",
     "shell.execute_reply": "2022-06-16T16:19:22.581093Z"
    }
   },
   "outputs": [],
   "source": [
    "df[\"county\"] = \"Fresno\""
   ]
  },
  {
   "cell_type": "code",
   "execution_count": 19,
   "metadata": {
    "execution": {
     "iopub.execute_input": "2022-06-16T16:19:22.585865Z",
     "iopub.status.busy": "2022-06-16T16:19:22.585062Z",
     "iopub.status.idle": "2022-06-16T16:19:22.589506Z",
     "shell.execute_reply": "2022-06-16T16:19:22.589908Z"
    }
   },
   "outputs": [],
   "source": [
    "df[\"area\"] = df[\"area\"].str.title()"
   ]
  },
  {
   "cell_type": "code",
   "execution_count": 20,
   "metadata": {
    "execution": {
     "iopub.execute_input": "2022-06-16T16:19:22.596620Z",
     "iopub.status.busy": "2022-06-16T16:19:22.594068Z",
     "iopub.status.idle": "2022-06-16T16:19:22.599505Z",
     "shell.execute_reply": "2022-06-16T16:19:22.598773Z"
    }
   },
   "outputs": [],
   "source": [
    "c = df[[\"county\", \"area\", \"county_date\", \"confirmed_cases\"]]"
   ]
  },
  {
   "cell_type": "markdown",
   "metadata": {},
   "source": [
    "## Vet"
   ]
  },
  {
   "cell_type": "code",
   "execution_count": 21,
   "metadata": {
    "execution": {
     "iopub.execute_input": "2022-06-16T16:19:22.603329Z",
     "iopub.status.busy": "2022-06-16T16:19:22.601367Z",
     "iopub.status.idle": "2022-06-16T16:19:22.715866Z",
     "shell.execute_reply": "2022-06-16T16:19:22.714324Z"
    }
   },
   "outputs": [
    {
     "ename": "AssertionError",
     "evalue": "Fresno County's place scraper has additional rows",
     "output_type": "error",
     "traceback": [
      "\u001b[0;31m---------------------------------------------------------------------------\u001b[0m",
      "\u001b[0;31mAssertionError\u001b[0m                            Traceback (most recent call last)",
      "\u001b[0;32m/tmp/ipykernel_2102/3457317203.py\u001b[0m in \u001b[0;36m<module>\u001b[0;34m\u001b[0m\n\u001b[1;32m      1\u001b[0m \u001b[0;32mtry\u001b[0m\u001b[0;34m:\u001b[0m\u001b[0;34m\u001b[0m\u001b[0;34m\u001b[0m\u001b[0m\n\u001b[0;32m----> 2\u001b[0;31m     \u001b[0;32massert\u001b[0m \u001b[0;32mnot\u001b[0m \u001b[0mlen\u001b[0m\u001b[0;34m(\u001b[0m\u001b[0mdf\u001b[0m\u001b[0;34m)\u001b[0m \u001b[0;34m>\u001b[0m \u001b[0;36m30\u001b[0m\u001b[0;34m\u001b[0m\u001b[0;34m\u001b[0m\u001b[0m\n\u001b[0m\u001b[1;32m      3\u001b[0m \u001b[0;32mexcept\u001b[0m \u001b[0mAssertionError\u001b[0m\u001b[0;34m:\u001b[0m\u001b[0;34m\u001b[0m\u001b[0;34m\u001b[0m\u001b[0m\n",
      "\u001b[0;31mAssertionError\u001b[0m: ",
      "\nDuring handling of the above exception, another exception occurred:\n",
      "\u001b[0;31mAssertionError\u001b[0m                            Traceback (most recent call last)",
      "\u001b[0;32m/tmp/ipykernel_2102/3457317203.py\u001b[0m in \u001b[0;36m<module>\u001b[0;34m\u001b[0m\n\u001b[1;32m      2\u001b[0m     \u001b[0;32massert\u001b[0m \u001b[0;32mnot\u001b[0m \u001b[0mlen\u001b[0m\u001b[0;34m(\u001b[0m\u001b[0mdf\u001b[0m\u001b[0;34m)\u001b[0m \u001b[0;34m>\u001b[0m \u001b[0;36m30\u001b[0m\u001b[0;34m\u001b[0m\u001b[0;34m\u001b[0m\u001b[0m\n\u001b[1;32m      3\u001b[0m \u001b[0;32mexcept\u001b[0m \u001b[0mAssertionError\u001b[0m\u001b[0;34m:\u001b[0m\u001b[0;34m\u001b[0m\u001b[0;34m\u001b[0m\u001b[0m\n\u001b[0;32m----> 4\u001b[0;31m     \u001b[0;32mraise\u001b[0m \u001b[0mAssertionError\u001b[0m\u001b[0;34m(\u001b[0m\u001b[0;34m\"Fresno County's place scraper has additional rows\"\u001b[0m\u001b[0;34m)\u001b[0m\u001b[0;34m\u001b[0m\u001b[0;34m\u001b[0m\u001b[0m\n\u001b[0m",
      "\u001b[0;31mAssertionError\u001b[0m: Fresno County's place scraper has additional rows"
     ]
    }
   ],
   "source": [
    "try:\n",
    "    assert not len(df) > 30\n",
    "except AssertionError:\n",
    "    raise AssertionError(\"Fresno County's place scraper has additional rows\")"
   ]
  },
  {
   "cell_type": "code",
   "execution_count": 26,
   "metadata": {},
   "outputs": [],
   "source": [
    "try:\n",
    "    assert not len(df) < 30\n",
    "except AssertionError:\n",
    "    raise AssertionError(\"Fresno County's place scraper is missing rows\")"
   ]
  },
  {
   "cell_type": "markdown",
   "metadata": {},
   "source": [
    "## Export"
   ]
  },
  {
   "cell_type": "markdown",
   "metadata": {},
   "source": [
    "Mark the current date"
   ]
  },
  {
   "cell_type": "code",
   "execution_count": 27,
   "metadata": {},
   "outputs": [],
   "source": [
    "tz = pytz.timezone(\"America/Los_Angeles\")"
   ]
  },
  {
   "cell_type": "code",
   "execution_count": 28,
   "metadata": {},
   "outputs": [],
   "source": [
    "today = datetime.now(tz).date()"
   ]
  },
  {
   "cell_type": "code",
   "execution_count": 29,
   "metadata": {},
   "outputs": [],
   "source": [
    "slug = \"fresno\""
   ]
  },
  {
   "cell_type": "code",
   "execution_count": 30,
   "metadata": {},
   "outputs": [],
   "source": [
    "df.to_csv(data_dir / slug / f\"{today}.csv\", index=False)"
   ]
  },
  {
   "cell_type": "markdown",
   "metadata": {},
   "source": [
    "## Combine"
   ]
  },
  {
   "cell_type": "code",
   "execution_count": 31,
   "metadata": {},
   "outputs": [],
   "source": [
    "csv_list = [\n",
    "    i\n",
    "    for i in glob.glob(str(data_dir / slug / \"*.csv\"))\n",
    "    if not str(i).endswith(\"timeseries.csv\")\n",
    "]"
   ]
  },
  {
   "cell_type": "code",
   "execution_count": 32,
   "metadata": {},
   "outputs": [],
   "source": [
    "df_list = []\n",
    "for csv in csv_list:\n",
    "    if \"manual\" in csv:\n",
    "        df = pd.read_csv(csv, parse_dates=[\"date\"])\n",
    "    else:\n",
    "        file_date = csv.split(\"/\")[-1].replace(\".csv\", \"\")\n",
    "        df = pd.read_csv(csv, parse_dates=[\"county_date\"])\n",
    "        df[\"date\"] = file_date\n",
    "    df_list.append(df)"
   ]
  },
  {
   "cell_type": "code",
   "execution_count": 33,
   "metadata": {},
   "outputs": [],
   "source": [
    "df = pd.concat(df_list).sort_values([\"date\", \"area\"])"
   ]
  },
  {
   "cell_type": "code",
   "execution_count": 34,
   "metadata": {},
   "outputs": [],
   "source": [
    "df.to_csv(data_dir / slug / \"timeseries.csv\", index=False)"
   ]
  },
  {
   "cell_type": "code",
   "execution_count": 36,
   "metadata": {},
   "outputs": [
    {
     "data": {
      "text/html": [
       "<div>\n",
       "<style scoped>\n",
       "    .dataframe tbody tr th:only-of-type {\n",
       "        vertical-align: middle;\n",
       "    }\n",
       "\n",
       "    .dataframe tbody tr th {\n",
       "        vertical-align: top;\n",
       "    }\n",
       "\n",
       "    .dataframe thead th {\n",
       "        text-align: right;\n",
       "    }\n",
       "</style>\n",
       "<table border=\"1\" class=\"dataframe\">\n",
       "  <thead>\n",
       "    <tr style=\"text-align: right;\">\n",
       "      <th></th>\n",
       "      <th>county</th>\n",
       "      <th>area</th>\n",
       "      <th>county_date</th>\n",
       "      <th>confirmed_cases</th>\n",
       "      <th>date</th>\n",
       "    </tr>\n",
       "  </thead>\n",
       "  <tbody>\n",
       "    <tr>\n",
       "      <th>2634</th>\n",
       "      <td>Fresno</td>\n",
       "      <td>Fresno</td>\n",
       "      <td>NaT</td>\n",
       "      <td>128</td>\n",
       "      <td>2020-04-14 00:00:00</td>\n",
       "    </tr>\n",
       "    <tr>\n",
       "      <th>2618</th>\n",
       "      <td>Fresno</td>\n",
       "      <td>Fresno</td>\n",
       "      <td>NaT</td>\n",
       "      <td>148</td>\n",
       "      <td>2020-04-15 00:00:00</td>\n",
       "    </tr>\n",
       "    <tr>\n",
       "      <th>2602</th>\n",
       "      <td>Fresno</td>\n",
       "      <td>Fresno</td>\n",
       "      <td>NaT</td>\n",
       "      <td>159</td>\n",
       "      <td>2020-04-16 00:00:00</td>\n",
       "    </tr>\n",
       "    <tr>\n",
       "      <th>2586</th>\n",
       "      <td>Fresno</td>\n",
       "      <td>Fresno</td>\n",
       "      <td>NaT</td>\n",
       "      <td>166</td>\n",
       "      <td>2020-04-17 00:00:00</td>\n",
       "    </tr>\n",
       "    <tr>\n",
       "      <th>2570</th>\n",
       "      <td>Fresno</td>\n",
       "      <td>Fresno</td>\n",
       "      <td>NaT</td>\n",
       "      <td>189</td>\n",
       "      <td>2020-04-20 00:00:00</td>\n",
       "    </tr>\n",
       "    <tr>\n",
       "      <th>...</th>\n",
       "      <td>...</td>\n",
       "      <td>...</td>\n",
       "      <td>...</td>\n",
       "      <td>...</td>\n",
       "      <td>...</td>\n",
       "    </tr>\n",
       "    <tr>\n",
       "      <th>0</th>\n",
       "      <td>Fresno</td>\n",
       "      <td>Fresno</td>\n",
       "      <td>2021-08-02</td>\n",
       "      <td>61638</td>\n",
       "      <td>2021-08-22</td>\n",
       "    </tr>\n",
       "    <tr>\n",
       "      <th>0</th>\n",
       "      <td>Fresno</td>\n",
       "      <td>Fresno</td>\n",
       "      <td>2021-08-02</td>\n",
       "      <td>61638</td>\n",
       "      <td>2021-08-23</td>\n",
       "    </tr>\n",
       "    <tr>\n",
       "      <th>0</th>\n",
       "      <td>Fresno</td>\n",
       "      <td>Fresno</td>\n",
       "      <td>2021-08-02</td>\n",
       "      <td>61638</td>\n",
       "      <td>2021-08-24</td>\n",
       "    </tr>\n",
       "    <tr>\n",
       "      <th>0</th>\n",
       "      <td>Fresno</td>\n",
       "      <td>Fresno</td>\n",
       "      <td>2021-08-02</td>\n",
       "      <td>61638</td>\n",
       "      <td>2021-08-25</td>\n",
       "    </tr>\n",
       "    <tr>\n",
       "      <th>0</th>\n",
       "      <td>Fresno</td>\n",
       "      <td>Fresno</td>\n",
       "      <td>2022-02-14</td>\n",
       "      <td>101523</td>\n",
       "      <td>2022-02-16</td>\n",
       "    </tr>\n",
       "  </tbody>\n",
       "</table>\n",
       "<p>340 rows × 5 columns</p>\n",
       "</div>"
      ],
      "text/plain": [
       "      county    area county_date confirmed_cases                 date\n",
       "2634  Fresno  Fresno         NaT             128  2020-04-14 00:00:00\n",
       "2618  Fresno  Fresno         NaT             148  2020-04-15 00:00:00\n",
       "2602  Fresno  Fresno         NaT             159  2020-04-16 00:00:00\n",
       "2586  Fresno  Fresno         NaT             166  2020-04-17 00:00:00\n",
       "2570  Fresno  Fresno         NaT             189  2020-04-20 00:00:00\n",
       "...      ...     ...         ...             ...                  ...\n",
       "0     Fresno  Fresno  2021-08-02           61638           2021-08-22\n",
       "0     Fresno  Fresno  2021-08-02           61638           2021-08-23\n",
       "0     Fresno  Fresno  2021-08-02           61638           2021-08-24\n",
       "0     Fresno  Fresno  2021-08-02           61638           2021-08-25\n",
       "0     Fresno  Fresno  2022-02-14          101523           2022-02-16\n",
       "\n",
       "[340 rows x 5 columns]"
      ]
     },
     "execution_count": 36,
     "metadata": {},
     "output_type": "execute_result"
    }
   ],
   "source": [
    "df[df.area == \"Fresno\"]"
   ]
  },
  {
   "cell_type": "code",
   "execution_count": null,
   "metadata": {},
   "outputs": [],
   "source": []
  }
 ],
 "metadata": {
  "kernelspec": {
   "display_name": "Python 3 (ipykernel)",
   "language": "python",
   "name": "python3"
  },
  "language_info": {
   "codemirror_mode": {
    "name": "ipython",
    "version": 3
   },
   "file_extension": ".py",
   "mimetype": "text/x-python",
   "name": "python",
   "nbconvert_exporter": "python",
   "pygments_lexer": "ipython3",
   "version": "3.8.12"
  }
 },
 "nbformat": 4,
 "nbformat_minor": 4
}
