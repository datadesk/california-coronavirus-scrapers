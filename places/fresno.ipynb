{
 "cells": [
  {
   "cell_type": "markdown",
   "metadata": {},
   "source": [
    "## Configuration\n",
    "_Initial steps to get the notebook ready to play nice with our repository. Do not delete this section._"
   ]
  },
  {
   "cell_type": "markdown",
   "metadata": {},
   "source": [
    "Code formatting with [black](https://pypi.org/project/nb-black/)."
   ]
  },
  {
   "cell_type": "code",
   "execution_count": 1,
   "metadata": {
    "execution": {
     "iopub.execute_input": "2021-10-22T04:20:11.509930Z",
     "iopub.status.busy": "2021-10-22T04:20:11.509394Z",
     "iopub.status.idle": "2021-10-22T04:20:11.642299Z",
     "shell.execute_reply": "2021-10-22T04:20:11.643163Z"
    }
   },
   "outputs": [],
   "source": [
    "%load_ext lab_black"
   ]
  },
  {
   "cell_type": "code",
   "execution_count": 2,
   "metadata": {
    "execution": {
     "iopub.execute_input": "2021-10-22T04:20:11.646852Z",
     "iopub.status.busy": "2021-10-22T04:20:11.645748Z",
     "iopub.status.idle": "2021-10-22T04:20:11.650511Z",
     "shell.execute_reply": "2021-10-22T04:20:11.651258Z"
    }
   },
   "outputs": [],
   "source": [
    "import os\n",
    "import pathlib"
   ]
  },
  {
   "cell_type": "code",
   "execution_count": 3,
   "metadata": {
    "execution": {
     "iopub.execute_input": "2021-10-22T04:20:11.654578Z",
     "iopub.status.busy": "2021-10-22T04:20:11.653502Z",
     "iopub.status.idle": "2021-10-22T04:20:11.660496Z",
     "shell.execute_reply": "2021-10-22T04:20:11.661297Z"
    }
   },
   "outputs": [],
   "source": [
    "this_dir = pathlib.Path(os.path.abspath(\"\"))"
   ]
  },
  {
   "cell_type": "code",
   "execution_count": 4,
   "metadata": {
    "execution": {
     "iopub.execute_input": "2021-10-22T04:20:11.664321Z",
     "iopub.status.busy": "2021-10-22T04:20:11.663347Z",
     "iopub.status.idle": "2021-10-22T04:20:11.668402Z",
     "shell.execute_reply": "2021-10-22T04:20:11.669172Z"
    }
   },
   "outputs": [],
   "source": [
    "data_dir = this_dir / \"data\""
   ]
  },
  {
   "cell_type": "code",
   "execution_count": 5,
   "metadata": {
    "execution": {
     "iopub.execute_input": "2021-10-22T04:20:11.672491Z",
     "iopub.status.busy": "2021-10-22T04:20:11.671428Z",
     "iopub.status.idle": "2021-10-22T04:20:12.077928Z",
     "shell.execute_reply": "2021-10-22T04:20:12.078383Z"
    }
   },
   "outputs": [],
   "source": [
    "import pytz\n",
    "import glob\n",
    "import json\n",
    "import requests\n",
    "import pandas as pd\n",
    "from datetime import datetime"
   ]
  },
  {
   "cell_type": "markdown",
   "metadata": {},
   "source": [
    "## Download"
   ]
  },
  {
   "cell_type": "markdown",
   "metadata": {},
   "source": [
    "Retrieve the page"
   ]
  },
  {
   "cell_type": "code",
   "execution_count": 6,
   "metadata": {
    "execution": {
     "iopub.execute_input": "2021-10-22T04:20:12.082698Z",
     "iopub.status.busy": "2021-10-22T04:20:12.082166Z",
     "iopub.status.idle": "2021-10-22T04:20:12.085061Z",
     "shell.execute_reply": "2021-10-22T04:20:12.085600Z"
    }
   },
   "outputs": [],
   "source": [
    "url = \"https://services3.arcgis.com/ibgDyuD2DLBge82s/arcgis/rest/services/Fresno_County_Zip_Data_Summary/FeatureServer/0/query?f=json&where=FZIP%3C%3E%2799999%27%20AND%20COUNT_Cases%3E%3D75%20AND%20FZIP%20IS%20NOT%20NULL&returnGeometry=false&spatialRel=esriSpatialRelIntersects&outFields=*&groupByFieldsForStatistics=FCITY&orderByFields=value%20desc&outStatistics=%5B%7B%22statisticType%22%3A%22sum%22%2C%22onStatisticField%22%3A%22COUNT_Cases%22%2C%22outStatisticFieldName%22%3A%22value%22%7D%5D&resultType=standard&cacheHint=true\""
   ]
  },
  {
   "cell_type": "code",
   "execution_count": 7,
   "metadata": {
    "execution": {
     "iopub.execute_input": "2021-10-22T04:20:12.087981Z",
     "iopub.status.busy": "2021-10-22T04:20:12.087468Z",
     "iopub.status.idle": "2021-10-22T04:20:12.150975Z",
     "shell.execute_reply": "2021-10-22T04:20:12.151528Z"
    }
   },
   "outputs": [],
   "source": [
    "r = requests.get(url)"
   ]
  },
  {
   "cell_type": "code",
   "execution_count": 8,
   "metadata": {
    "execution": {
     "iopub.execute_input": "2021-10-22T04:20:12.154101Z",
     "iopub.status.busy": "2021-10-22T04:20:12.153589Z",
     "iopub.status.idle": "2021-10-22T04:20:12.157603Z",
     "shell.execute_reply": "2021-10-22T04:20:12.158110Z"
    }
   },
   "outputs": [],
   "source": [
    "data = r.json()"
   ]
  },
  {
   "cell_type": "markdown",
   "metadata": {},
   "source": [
    "## Parse"
   ]
  },
  {
   "cell_type": "code",
   "execution_count": 9,
   "metadata": {
    "execution": {
     "iopub.execute_input": "2021-10-22T04:20:12.160428Z",
     "iopub.status.busy": "2021-10-22T04:20:12.159927Z",
     "iopub.status.idle": "2021-10-22T04:20:12.163385Z",
     "shell.execute_reply": "2021-10-22T04:20:12.163888Z"
    }
   },
   "outputs": [],
   "source": [
    "dict_list = []"
   ]
  },
  {
   "cell_type": "code",
   "execution_count": 10,
   "metadata": {
    "execution": {
     "iopub.execute_input": "2021-10-22T04:20:12.166222Z",
     "iopub.status.busy": "2021-10-22T04:20:12.165709Z",
     "iopub.status.idle": "2021-10-22T04:20:12.174282Z",
     "shell.execute_reply": "2021-10-22T04:20:12.174806Z"
    }
   },
   "outputs": [],
   "source": [
    "for item in data[\"features\"]:\n",
    "    d = dict(\n",
    "        county=\"Fresno\",\n",
    "        area=item[\"attributes\"][\"FCITY\"],\n",
    "        confirmed_cases=item[\"attributes\"][\"value\"],\n",
    "    )\n",
    "    dict_list.append(d)"
   ]
  },
  {
   "cell_type": "code",
   "execution_count": 11,
   "metadata": {
    "execution": {
     "iopub.execute_input": "2021-10-22T04:20:12.177106Z",
     "iopub.status.busy": "2021-10-22T04:20:12.176575Z",
     "iopub.status.idle": "2021-10-22T04:20:12.181265Z",
     "shell.execute_reply": "2021-10-22T04:20:12.181766Z"
    }
   },
   "outputs": [],
   "source": [
    "df = pd.DataFrame(dict_list)"
   ]
  },
  {
   "cell_type": "code",
   "execution_count": 12,
   "metadata": {
    "execution": {
     "iopub.execute_input": "2021-10-22T04:20:12.184038Z",
     "iopub.status.busy": "2021-10-22T04:20:12.183529Z",
     "iopub.status.idle": "2021-10-22T04:20:12.189154Z",
     "shell.execute_reply": "2021-10-22T04:20:12.189661Z"
    }
   },
   "outputs": [],
   "source": [
    "df[\"area\"] = df[\"area\"].str.title()"
   ]
  },
  {
   "cell_type": "markdown",
   "metadata": {},
   "source": [
    "Get timestamp"
   ]
  },
  {
   "cell_type": "code",
   "execution_count": 13,
   "metadata": {
    "execution": {
     "iopub.execute_input": "2021-10-22T04:20:12.191957Z",
     "iopub.status.busy": "2021-10-22T04:20:12.191452Z",
     "iopub.status.idle": "2021-10-22T04:20:12.234447Z",
     "shell.execute_reply": "2021-10-22T04:20:12.235225Z"
    }
   },
   "outputs": [],
   "source": [
    "date_url = \"https://services3.arcgis.com/ibgDyuD2DLBge82s/arcgis/rest/services/Fresno_County_Zip_Data_Summary/FeatureServer/0/?f=json\"\n",
    "date_r = requests.get(date_url)\n",
    "date_data = date_r.json()"
   ]
  },
  {
   "cell_type": "code",
   "execution_count": 14,
   "metadata": {
    "execution": {
     "iopub.execute_input": "2021-10-22T04:20:12.238591Z",
     "iopub.status.busy": "2021-10-22T04:20:12.237527Z",
     "iopub.status.idle": "2021-10-22T04:20:12.243051Z",
     "shell.execute_reply": "2021-10-22T04:20:12.243798Z"
    }
   },
   "outputs": [],
   "source": [
    "timestamp = date_data[\"editingInfo\"][\"lastEditDate\"]"
   ]
  },
  {
   "cell_type": "code",
   "execution_count": 15,
   "metadata": {
    "execution": {
     "iopub.execute_input": "2021-10-22T04:20:12.247135Z",
     "iopub.status.busy": "2021-10-22T04:20:12.246072Z",
     "iopub.status.idle": "2021-10-22T04:20:12.266936Z",
     "shell.execute_reply": "2021-10-22T04:20:12.267712Z"
    }
   },
   "outputs": [],
   "source": [
    "tz = pytz.timezone(\"America/Los_Angeles\")"
   ]
  },
  {
   "cell_type": "code",
   "execution_count": 16,
   "metadata": {
    "execution": {
     "iopub.execute_input": "2021-10-22T04:20:12.271214Z",
     "iopub.status.busy": "2021-10-22T04:20:12.270093Z",
     "iopub.status.idle": "2021-10-22T04:20:12.276272Z",
     "shell.execute_reply": "2021-10-22T04:20:12.277091Z"
    }
   },
   "outputs": [],
   "source": [
    "latest_date = datetime.fromtimestamp(timestamp / 1000, tz).date()"
   ]
  },
  {
   "cell_type": "code",
   "execution_count": 17,
   "metadata": {
    "execution": {
     "iopub.execute_input": "2021-10-22T04:20:12.280367Z",
     "iopub.status.busy": "2021-10-22T04:20:12.279291Z",
     "iopub.status.idle": "2021-10-22T04:20:12.285127Z",
     "shell.execute_reply": "2021-10-22T04:20:12.285885Z"
    }
   },
   "outputs": [],
   "source": [
    "df[\"county_date\"] = latest_date"
   ]
  },
  {
   "cell_type": "markdown",
   "metadata": {},
   "source": [
    "## Trim"
   ]
  },
  {
   "cell_type": "code",
   "execution_count": 18,
   "metadata": {
    "execution": {
     "iopub.execute_input": "2021-10-22T04:20:12.289188Z",
     "iopub.status.busy": "2021-10-22T04:20:12.288102Z",
     "iopub.status.idle": "2021-10-22T04:20:12.293516Z",
     "shell.execute_reply": "2021-10-22T04:20:12.294263Z"
    }
   },
   "outputs": [],
   "source": [
    "df[\"county\"] = \"Fresno\""
   ]
  },
  {
   "cell_type": "code",
   "execution_count": 19,
   "metadata": {
    "execution": {
     "iopub.execute_input": "2021-10-22T04:20:12.297517Z",
     "iopub.status.busy": "2021-10-22T04:20:12.296428Z",
     "iopub.status.idle": "2021-10-22T04:20:12.302916Z",
     "shell.execute_reply": "2021-10-22T04:20:12.303680Z"
    }
   },
   "outputs": [],
   "source": [
    "df[\"area\"] = df[\"area\"].str.title()"
   ]
  },
  {
   "cell_type": "code",
   "execution_count": 20,
   "metadata": {
    "execution": {
     "iopub.execute_input": "2021-10-22T04:20:12.306907Z",
     "iopub.status.busy": "2021-10-22T04:20:12.305863Z",
     "iopub.status.idle": "2021-10-22T04:20:12.313125Z",
     "shell.execute_reply": "2021-10-22T04:20:12.313878Z"
    }
   },
   "outputs": [],
   "source": [
    "c = df[[\"county\", \"area\", \"county_date\", \"confirmed_cases\"]]"
   ]
  },
  {
   "cell_type": "markdown",
   "metadata": {},
   "source": [
    "Remove county row"
   ]
  },
  {
   "cell_type": "code",
   "execution_count": 21,
   "metadata": {
    "execution": {
     "iopub.execute_input": "2021-10-22T04:20:12.317139Z",
     "iopub.status.busy": "2021-10-22T04:20:12.316057Z",
     "iopub.status.idle": "2021-10-22T04:20:12.322514Z",
     "shell.execute_reply": "2021-10-22T04:20:12.323264Z"
    }
   },
   "outputs": [],
   "source": [
    "df = df[~(df.area == \"Fresno\")]"
   ]
  },
  {
   "cell_type": "markdown",
   "metadata": {},
   "source": [
    "## Vet"
   ]
  },
  {
   "cell_type": "code",
   "execution_count": 22,
   "metadata": {
    "execution": {
     "iopub.execute_input": "2021-10-22T04:20:12.326514Z",
     "iopub.status.busy": "2021-10-22T04:20:12.325452Z",
     "iopub.status.idle": "2021-10-22T04:20:12.454189Z",
     "shell.execute_reply": "2021-10-22T04:20:12.452734Z"
    }
   },
   "outputs": [
    {
     "ename": "AssertionError",
     "evalue": "Fresno County's place scraper has additional rows",
     "output_type": "error",
     "traceback": [
      "\u001b[0;31m---------------------------------------------------------------------------\u001b[0m",
      "\u001b[0;31mAssertionError\u001b[0m                            Traceback (most recent call last)",
      "\u001b[0;32m/tmp/ipykernel_3347/3049405065.py\u001b[0m in \u001b[0;36m<module>\u001b[0;34m\u001b[0m\n\u001b[1;32m      1\u001b[0m \u001b[0;32mtry\u001b[0m\u001b[0;34m:\u001b[0m\u001b[0;34m\u001b[0m\u001b[0;34m\u001b[0m\u001b[0m\n\u001b[0;32m----> 2\u001b[0;31m     \u001b[0;32massert\u001b[0m \u001b[0;32mnot\u001b[0m \u001b[0mlen\u001b[0m\u001b[0;34m(\u001b[0m\u001b[0mdf\u001b[0m\u001b[0;34m)\u001b[0m \u001b[0;34m>\u001b[0m \u001b[0;36m26\u001b[0m\u001b[0;34m\u001b[0m\u001b[0;34m\u001b[0m\u001b[0m\n\u001b[0m\u001b[1;32m      3\u001b[0m \u001b[0;32mexcept\u001b[0m \u001b[0mAssertionError\u001b[0m\u001b[0;34m:\u001b[0m\u001b[0;34m\u001b[0m\u001b[0;34m\u001b[0m\u001b[0m\n",
      "\u001b[0;31mAssertionError\u001b[0m: ",
      "\nDuring handling of the above exception, another exception occurred:\n",
      "\u001b[0;31mAssertionError\u001b[0m                            Traceback (most recent call last)",
      "\u001b[0;32m/tmp/ipykernel_3347/3049405065.py\u001b[0m in \u001b[0;36m<module>\u001b[0;34m\u001b[0m\n\u001b[1;32m      2\u001b[0m     \u001b[0;32massert\u001b[0m \u001b[0;32mnot\u001b[0m \u001b[0mlen\u001b[0m\u001b[0;34m(\u001b[0m\u001b[0mdf\u001b[0m\u001b[0;34m)\u001b[0m \u001b[0;34m>\u001b[0m \u001b[0;36m26\u001b[0m\u001b[0;34m\u001b[0m\u001b[0;34m\u001b[0m\u001b[0m\n\u001b[1;32m      3\u001b[0m \u001b[0;32mexcept\u001b[0m \u001b[0mAssertionError\u001b[0m\u001b[0;34m:\u001b[0m\u001b[0;34m\u001b[0m\u001b[0;34m\u001b[0m\u001b[0m\n\u001b[0;32m----> 4\u001b[0;31m     \u001b[0;32mraise\u001b[0m \u001b[0mAssertionError\u001b[0m\u001b[0;34m(\u001b[0m\u001b[0;34m\"Fresno County's place scraper has additional rows\"\u001b[0m\u001b[0;34m)\u001b[0m\u001b[0;34m\u001b[0m\u001b[0;34m\u001b[0m\u001b[0m\n\u001b[0m",
      "\u001b[0;31mAssertionError\u001b[0m: Fresno County's place scraper has additional rows"
     ]
    }
   ],
   "source": [
    "try:\n",
    "    assert not len(df) > 26\n",
    "except AssertionError:\n",
    "    raise AssertionError(\"Fresno County's place scraper has additional rows\")"
   ]
  },
  {
   "cell_type": "code",
   "execution_count": 91,
   "metadata": {},
   "outputs": [],
   "source": [
    "try:\n",
    "    assert not len(df) < 26\n",
    "except AssertionError:\n",
    "    raise AssertionError(\"Fresno County's place scraper is missing rows\")"
   ]
  },
  {
   "cell_type": "markdown",
   "metadata": {},
   "source": [
    "## Export"
   ]
  },
  {
   "cell_type": "markdown",
   "metadata": {},
   "source": [
    "Mark the current date"
   ]
  },
  {
   "cell_type": "code",
   "execution_count": 92,
   "metadata": {},
   "outputs": [],
   "source": [
    "tz = pytz.timezone(\"America/Los_Angeles\")"
   ]
  },
  {
   "cell_type": "code",
   "execution_count": 93,
   "metadata": {},
   "outputs": [],
   "source": [
    "today = datetime.now(tz).date()"
   ]
  },
  {
   "cell_type": "code",
   "execution_count": 94,
   "metadata": {},
   "outputs": [],
   "source": [
    "slug = \"fresno\""
   ]
  },
  {
   "cell_type": "code",
   "execution_count": 95,
   "metadata": {},
   "outputs": [],
   "source": [
    "df.to_csv(data_dir / slug / f\"{today}.csv\", index=False)"
   ]
  },
  {
   "cell_type": "markdown",
   "metadata": {},
   "source": [
    "## Combine"
   ]
  },
  {
   "cell_type": "code",
   "execution_count": 96,
   "metadata": {},
   "outputs": [],
   "source": [
    "csv_list = [\n",
    "    i\n",
    "    for i in glob.glob(str(data_dir / slug / \"*.csv\"))\n",
    "    if not str(i).endswith(\"timeseries.csv\")\n",
    "]"
   ]
  },
  {
   "cell_type": "code",
   "execution_count": 97,
   "metadata": {},
   "outputs": [],
   "source": [
    "df_list = []\n",
    "for csv in csv_list:\n",
    "    if \"manual\" in csv:\n",
    "        df = pd.read_csv(csv, parse_dates=[\"date\"])\n",
    "    else:\n",
    "        file_date = csv.split(\"/\")[-1].replace(\".csv\", \"\")\n",
    "        df = pd.read_csv(csv, parse_dates=[\"county_date\"])\n",
    "        df[\"date\"] = file_date\n",
    "    df_list.append(df)"
   ]
  },
  {
   "cell_type": "code",
   "execution_count": 98,
   "metadata": {},
   "outputs": [],
   "source": [
    "df = pd.concat(df_list).sort_values([\"date\", \"area\"])"
   ]
  },
  {
   "cell_type": "code",
   "execution_count": 99,
   "metadata": {},
   "outputs": [],
   "source": [
    "df.to_csv(data_dir / slug / \"timeseries.csv\", index=False)"
   ]
  }
 ],
 "metadata": {
  "kernelspec": {
   "display_name": "Python 3 (ipykernel)",
   "language": "python",
   "name": "python3"
  },
  "language_info": {
   "codemirror_mode": {
    "name": "ipython",
    "version": 3
   },
   "file_extension": ".py",
   "mimetype": "text/x-python",
   "name": "python",
   "nbconvert_exporter": "python",
   "pygments_lexer": "ipython3",
   "version": "3.8.12"
  }
 },
 "nbformat": 4,
 "nbformat_minor": 4
}
