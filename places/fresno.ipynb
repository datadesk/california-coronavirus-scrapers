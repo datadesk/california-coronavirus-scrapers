{
 "cells": [
  {
   "cell_type": "markdown",
   "metadata": {},
   "source": [
    "## Configuration\n",
    "_Initial steps to get the notebook ready to play nice with our repository. Do not delete this section._"
   ]
  },
  {
   "cell_type": "markdown",
   "metadata": {},
   "source": [
    "Code formatting with [black](https://pypi.org/project/nb-black/)."
   ]
  },
  {
   "cell_type": "code",
   "execution_count": 1,
   "metadata": {
    "execution": {
     "iopub.execute_input": "2022-02-15T04:21:19.430550Z",
     "iopub.status.busy": "2022-02-15T04:21:19.429917Z",
     "iopub.status.idle": "2022-02-15T04:21:19.582307Z",
     "shell.execute_reply": "2022-02-15T04:21:19.583423Z"
    }
   },
   "outputs": [],
   "source": [
    "%load_ext lab_black"
   ]
  },
  {
   "cell_type": "code",
   "execution_count": 2,
   "metadata": {
    "execution": {
     "iopub.execute_input": "2022-02-15T04:21:19.587750Z",
     "iopub.status.busy": "2022-02-15T04:21:19.586419Z",
     "iopub.status.idle": "2022-02-15T04:21:19.592347Z",
     "shell.execute_reply": "2022-02-15T04:21:19.593323Z"
    }
   },
   "outputs": [],
   "source": [
    "import os\n",
    "import pathlib"
   ]
  },
  {
   "cell_type": "code",
   "execution_count": 3,
   "metadata": {
    "execution": {
     "iopub.execute_input": "2022-02-15T04:21:19.597240Z",
     "iopub.status.busy": "2022-02-15T04:21:19.596025Z",
     "iopub.status.idle": "2022-02-15T04:21:19.603997Z",
     "shell.execute_reply": "2022-02-15T04:21:19.604895Z"
    }
   },
   "outputs": [],
   "source": [
    "this_dir = pathlib.Path(os.path.abspath(\"\"))"
   ]
  },
  {
   "cell_type": "code",
   "execution_count": 4,
   "metadata": {
    "execution": {
     "iopub.execute_input": "2022-02-15T04:21:19.608693Z",
     "iopub.status.busy": "2022-02-15T04:21:19.607421Z",
     "iopub.status.idle": "2022-02-15T04:21:19.613877Z",
     "shell.execute_reply": "2022-02-15T04:21:19.614710Z"
    }
   },
   "outputs": [],
   "source": [
    "data_dir = this_dir / \"data\""
   ]
  },
  {
   "cell_type": "code",
   "execution_count": 5,
   "metadata": {
    "execution": {
     "iopub.execute_input": "2022-02-15T04:21:19.618681Z",
     "iopub.status.busy": "2022-02-15T04:21:19.617460Z",
     "iopub.status.idle": "2022-02-15T04:21:20.078052Z",
     "shell.execute_reply": "2022-02-15T04:21:20.079203Z"
    }
   },
   "outputs": [],
   "source": [
    "import pytz\n",
    "import glob\n",
    "import json\n",
    "import requests\n",
    "import pandas as pd\n",
    "from datetime import datetime"
   ]
  },
  {
   "cell_type": "markdown",
   "metadata": {},
   "source": [
    "## Download"
   ]
  },
  {
   "cell_type": "markdown",
   "metadata": {},
   "source": [
    "Retrieve the page"
   ]
  },
  {
   "cell_type": "code",
   "execution_count": 6,
   "metadata": {
    "execution": {
     "iopub.execute_input": "2022-02-15T04:21:20.083620Z",
     "iopub.status.busy": "2022-02-15T04:21:20.082439Z",
     "iopub.status.idle": "2022-02-15T04:21:20.089173Z",
     "shell.execute_reply": "2022-02-15T04:21:20.090026Z"
    }
   },
   "outputs": [],
   "source": [
    "url = \"https://services3.arcgis.com/ibgDyuD2DLBge82s/arcgis/rest/services/Fresno_County_Zip_Data_Summary/FeatureServer/0/query?f=json&where=FZIP%3C%3E%2799999%27%20AND%20COUNT_Cases%3E%3D75%20AND%20FZIP%20IS%20NOT%20NULL&returnGeometry=false&spatialRel=esriSpatialRelIntersects&outFields=*&groupByFieldsForStatistics=FCITY&orderByFields=value%20desc&outStatistics=%5B%7B%22statisticType%22%3A%22sum%22%2C%22onStatisticField%22%3A%22COUNT_Cases%22%2C%22outStatisticFieldName%22%3A%22value%22%7D%5D&resultType=standard&cacheHint=true\""
   ]
  },
  {
   "cell_type": "code",
   "execution_count": 7,
   "metadata": {
    "execution": {
     "iopub.execute_input": "2022-02-15T04:21:20.093768Z",
     "iopub.status.busy": "2022-02-15T04:21:20.092510Z",
     "iopub.status.idle": "2022-02-15T04:21:20.136432Z",
     "shell.execute_reply": "2022-02-15T04:21:20.137326Z"
    }
   },
   "outputs": [],
   "source": [
    "r = requests.get(url)"
   ]
  },
  {
   "cell_type": "code",
   "execution_count": 8,
   "metadata": {
    "execution": {
     "iopub.execute_input": "2022-02-15T04:21:20.141208Z",
     "iopub.status.busy": "2022-02-15T04:21:20.139971Z",
     "iopub.status.idle": "2022-02-15T04:21:20.146102Z",
     "shell.execute_reply": "2022-02-15T04:21:20.146855Z"
    }
   },
   "outputs": [],
   "source": [
    "data = r.json()"
   ]
  },
  {
   "cell_type": "markdown",
   "metadata": {},
   "source": [
    "## Parse"
   ]
  },
  {
   "cell_type": "code",
   "execution_count": 9,
   "metadata": {
    "execution": {
     "iopub.execute_input": "2022-02-15T04:21:20.150847Z",
     "iopub.status.busy": "2022-02-15T04:21:20.149731Z",
     "iopub.status.idle": "2022-02-15T04:21:20.154884Z",
     "shell.execute_reply": "2022-02-15T04:21:20.155741Z"
    }
   },
   "outputs": [],
   "source": [
    "dict_list = []"
   ]
  },
  {
   "cell_type": "code",
   "execution_count": 10,
   "metadata": {
    "execution": {
     "iopub.execute_input": "2022-02-15T04:21:20.159590Z",
     "iopub.status.busy": "2022-02-15T04:21:20.158322Z",
     "iopub.status.idle": "2022-02-15T04:21:20.169918Z",
     "shell.execute_reply": "2022-02-15T04:21:20.170773Z"
    }
   },
   "outputs": [],
   "source": [
    "for item in data[\"features\"]:\n",
    "    d = dict(\n",
    "        county=\"Fresno\",\n",
    "        area=item[\"attributes\"][\"FCITY\"],\n",
    "        confirmed_cases=item[\"attributes\"][\"value\"],\n",
    "    )\n",
    "    dict_list.append(d)"
   ]
  },
  {
   "cell_type": "code",
   "execution_count": 11,
   "metadata": {
    "execution": {
     "iopub.execute_input": "2022-02-15T04:21:20.174482Z",
     "iopub.status.busy": "2022-02-15T04:21:20.173340Z",
     "iopub.status.idle": "2022-02-15T04:21:20.181042Z",
     "shell.execute_reply": "2022-02-15T04:21:20.181882Z"
    }
   },
   "outputs": [],
   "source": [
    "df = pd.DataFrame(dict_list)"
   ]
  },
  {
   "cell_type": "code",
   "execution_count": 12,
   "metadata": {
    "execution": {
     "iopub.execute_input": "2022-02-15T04:21:20.185750Z",
     "iopub.status.busy": "2022-02-15T04:21:20.184464Z",
     "iopub.status.idle": "2022-02-15T04:21:20.192404Z",
     "shell.execute_reply": "2022-02-15T04:21:20.193357Z"
    }
   },
   "outputs": [],
   "source": [
    "df[\"area\"] = df[\"area\"].str.title()"
   ]
  },
  {
   "cell_type": "markdown",
   "metadata": {},
   "source": [
    "Get timestamp"
   ]
  },
  {
   "cell_type": "code",
   "execution_count": 13,
   "metadata": {
    "execution": {
     "iopub.execute_input": "2022-02-15T04:21:20.197265Z",
     "iopub.status.busy": "2022-02-15T04:21:20.196142Z",
     "iopub.status.idle": "2022-02-15T04:21:20.250951Z",
     "shell.execute_reply": "2022-02-15T04:21:20.252018Z"
    }
   },
   "outputs": [],
   "source": [
    "date_url = \"https://services3.arcgis.com/ibgDyuD2DLBge82s/arcgis/rest/services/Fresno_County_Zip_Data_Summary/FeatureServer/0/?f=json\"\n",
    "date_r = requests.get(date_url)\n",
    "date_data = date_r.json()"
   ]
  },
  {
   "cell_type": "code",
   "execution_count": 14,
   "metadata": {
    "execution": {
     "iopub.execute_input": "2022-02-15T04:21:20.255597Z",
     "iopub.status.busy": "2022-02-15T04:21:20.254429Z",
     "iopub.status.idle": "2022-02-15T04:21:20.260744Z",
     "shell.execute_reply": "2022-02-15T04:21:20.261807Z"
    }
   },
   "outputs": [],
   "source": [
    "timestamp = date_data[\"editingInfo\"][\"lastEditDate\"]"
   ]
  },
  {
   "cell_type": "code",
   "execution_count": 15,
   "metadata": {
    "execution": {
     "iopub.execute_input": "2022-02-15T04:21:20.265686Z",
     "iopub.status.busy": "2022-02-15T04:21:20.264243Z",
     "iopub.status.idle": "2022-02-15T04:21:20.289470Z",
     "shell.execute_reply": "2022-02-15T04:21:20.290351Z"
    }
   },
   "outputs": [],
   "source": [
    "tz = pytz.timezone(\"America/Los_Angeles\")"
   ]
  },
  {
   "cell_type": "code",
   "execution_count": 16,
   "metadata": {
    "execution": {
     "iopub.execute_input": "2022-02-15T04:21:20.298481Z",
     "iopub.status.busy": "2022-02-15T04:21:20.297249Z",
     "iopub.status.idle": "2022-02-15T04:21:20.304128Z",
     "shell.execute_reply": "2022-02-15T04:21:20.304944Z"
    }
   },
   "outputs": [],
   "source": [
    "latest_date = datetime.fromtimestamp(timestamp / 1000, tz).date()"
   ]
  },
  {
   "cell_type": "code",
   "execution_count": 17,
   "metadata": {
    "execution": {
     "iopub.execute_input": "2022-02-15T04:21:20.308583Z",
     "iopub.status.busy": "2022-02-15T04:21:20.307474Z",
     "iopub.status.idle": "2022-02-15T04:21:20.314254Z",
     "shell.execute_reply": "2022-02-15T04:21:20.315093Z"
    }
   },
   "outputs": [],
   "source": [
    "df[\"county_date\"] = latest_date"
   ]
  },
  {
   "cell_type": "markdown",
   "metadata": {},
   "source": [
    "## Trim"
   ]
  },
  {
   "cell_type": "code",
   "execution_count": 18,
   "metadata": {
    "execution": {
     "iopub.execute_input": "2022-02-15T04:21:20.318971Z",
     "iopub.status.busy": "2022-02-15T04:21:20.317470Z",
     "iopub.status.idle": "2022-02-15T04:21:20.324143Z",
     "shell.execute_reply": "2022-02-15T04:21:20.325079Z"
    }
   },
   "outputs": [],
   "source": [
    "df[\"county\"] = \"Fresno\""
   ]
  },
  {
   "cell_type": "code",
   "execution_count": 19,
   "metadata": {
    "execution": {
     "iopub.execute_input": "2022-02-15T04:21:20.331484Z",
     "iopub.status.busy": "2022-02-15T04:21:20.327873Z",
     "iopub.status.idle": "2022-02-15T04:21:20.338936Z",
     "shell.execute_reply": "2022-02-15T04:21:20.339887Z"
    }
   },
   "outputs": [],
   "source": [
    "df[\"area\"] = df[\"area\"].str.title()"
   ]
  },
  {
   "cell_type": "code",
   "execution_count": 20,
   "metadata": {
    "execution": {
     "iopub.execute_input": "2022-02-15T04:21:20.343982Z",
     "iopub.status.busy": "2022-02-15T04:21:20.342800Z",
     "iopub.status.idle": "2022-02-15T04:21:20.350891Z",
     "shell.execute_reply": "2022-02-15T04:21:20.351682Z"
    }
   },
   "outputs": [],
   "source": [
    "c = df[[\"county\", \"area\", \"county_date\", \"confirmed_cases\"]]"
   ]
  },
  {
   "cell_type": "markdown",
   "metadata": {},
   "source": [
    "Remove county row"
   ]
  },
  {
   "cell_type": "code",
   "execution_count": 21,
   "metadata": {
    "execution": {
     "iopub.execute_input": "2022-02-15T04:21:20.355546Z",
     "iopub.status.busy": "2022-02-15T04:21:20.354443Z",
     "iopub.status.idle": "2022-02-15T04:21:20.362012Z",
     "shell.execute_reply": "2022-02-15T04:21:20.363006Z"
    }
   },
   "outputs": [],
   "source": [
    "df = df[~(df.area == \"Fresno\")]"
   ]
  },
  {
   "cell_type": "markdown",
   "metadata": {},
   "source": [
    "## Vet"
   ]
  },
  {
   "cell_type": "code",
   "execution_count": 22,
   "metadata": {
    "execution": {
     "iopub.execute_input": "2022-02-15T04:21:20.366850Z",
     "iopub.status.busy": "2022-02-15T04:21:20.365573Z",
     "iopub.status.idle": "2022-02-15T04:21:20.515600Z",
     "shell.execute_reply": "2022-02-15T04:21:20.513666Z"
    }
   },
   "outputs": [
    {
     "ename": "AssertionError",
     "evalue": "Fresno County's place scraper has additional rows",
     "output_type": "error",
     "traceback": [
      "\u001b[0;31m---------------------------------------------------------------------------\u001b[0m",
      "\u001b[0;31mAssertionError\u001b[0m                            Traceback (most recent call last)",
      "\u001b[0;32m/tmp/ipykernel_3008/655281324.py\u001b[0m in \u001b[0;36m<module>\u001b[0;34m\u001b[0m\n\u001b[1;32m      1\u001b[0m \u001b[0;32mtry\u001b[0m\u001b[0;34m:\u001b[0m\u001b[0;34m\u001b[0m\u001b[0;34m\u001b[0m\u001b[0m\n\u001b[0;32m----> 2\u001b[0;31m     \u001b[0;32massert\u001b[0m \u001b[0;32mnot\u001b[0m \u001b[0mlen\u001b[0m\u001b[0;34m(\u001b[0m\u001b[0mdf\u001b[0m\u001b[0;34m)\u001b[0m \u001b[0;34m>\u001b[0m \u001b[0;36m27\u001b[0m\u001b[0;34m\u001b[0m\u001b[0;34m\u001b[0m\u001b[0m\n\u001b[0m\u001b[1;32m      3\u001b[0m \u001b[0;32mexcept\u001b[0m \u001b[0mAssertionError\u001b[0m\u001b[0;34m:\u001b[0m\u001b[0;34m\u001b[0m\u001b[0;34m\u001b[0m\u001b[0m\n",
      "\u001b[0;31mAssertionError\u001b[0m: ",
      "\nDuring handling of the above exception, another exception occurred:\n",
      "\u001b[0;31mAssertionError\u001b[0m                            Traceback (most recent call last)",
      "\u001b[0;32m/tmp/ipykernel_3008/655281324.py\u001b[0m in \u001b[0;36m<module>\u001b[0;34m\u001b[0m\n\u001b[1;32m      2\u001b[0m     \u001b[0;32massert\u001b[0m \u001b[0;32mnot\u001b[0m \u001b[0mlen\u001b[0m\u001b[0;34m(\u001b[0m\u001b[0mdf\u001b[0m\u001b[0;34m)\u001b[0m \u001b[0;34m>\u001b[0m \u001b[0;36m27\u001b[0m\u001b[0;34m\u001b[0m\u001b[0;34m\u001b[0m\u001b[0m\n\u001b[1;32m      3\u001b[0m \u001b[0;32mexcept\u001b[0m \u001b[0mAssertionError\u001b[0m\u001b[0;34m:\u001b[0m\u001b[0;34m\u001b[0m\u001b[0;34m\u001b[0m\u001b[0m\n\u001b[0;32m----> 4\u001b[0;31m     \u001b[0;32mraise\u001b[0m \u001b[0mAssertionError\u001b[0m\u001b[0;34m(\u001b[0m\u001b[0;34m\"Fresno County's place scraper has additional rows\"\u001b[0m\u001b[0;34m)\u001b[0m\u001b[0;34m\u001b[0m\u001b[0;34m\u001b[0m\u001b[0m\n\u001b[0m",
      "\u001b[0;31mAssertionError\u001b[0m: Fresno County's place scraper has additional rows"
     ]
    }
   ],
   "source": [
    "try:\n",
    "    assert not len(df) > 27\n",
    "except AssertionError:\n",
    "    raise AssertionError(\"Fresno County's place scraper has additional rows\")"
   ]
  },
  {
   "cell_type": "code",
   "execution_count": 81,
   "metadata": {},
   "outputs": [],
   "source": [
    "try:\n",
    "    assert not len(df) < 27\n",
    "except AssertionError:\n",
    "    raise AssertionError(\"Fresno County's place scraper is missing rows\")"
   ]
  },
  {
   "cell_type": "markdown",
   "metadata": {},
   "source": [
    "## Export"
   ]
  },
  {
   "cell_type": "markdown",
   "metadata": {},
   "source": [
    "Mark the current date"
   ]
  },
  {
   "cell_type": "code",
   "execution_count": 82,
   "metadata": {},
   "outputs": [],
   "source": [
    "tz = pytz.timezone(\"America/Los_Angeles\")"
   ]
  },
  {
   "cell_type": "code",
   "execution_count": 83,
   "metadata": {},
   "outputs": [],
   "source": [
    "today = datetime.now(tz).date()"
   ]
  },
  {
   "cell_type": "code",
   "execution_count": 84,
   "metadata": {},
   "outputs": [],
   "source": [
    "slug = \"fresno\""
   ]
  },
  {
   "cell_type": "code",
   "execution_count": 85,
   "metadata": {},
   "outputs": [],
   "source": [
    "df.to_csv(data_dir / slug / f\"{today}.csv\", index=False)"
   ]
  },
  {
   "cell_type": "markdown",
   "metadata": {},
   "source": [
    "## Combine"
   ]
  },
  {
   "cell_type": "code",
   "execution_count": 86,
   "metadata": {},
   "outputs": [],
   "source": [
    "csv_list = [\n",
    "    i\n",
    "    for i in glob.glob(str(data_dir / slug / \"*.csv\"))\n",
    "    if not str(i).endswith(\"timeseries.csv\")\n",
    "]"
   ]
  },
  {
   "cell_type": "code",
   "execution_count": 87,
   "metadata": {},
   "outputs": [],
   "source": [
    "df_list = []\n",
    "for csv in csv_list:\n",
    "    if \"manual\" in csv:\n",
    "        df = pd.read_csv(csv, parse_dates=[\"date\"])\n",
    "    else:\n",
    "        file_date = csv.split(\"/\")[-1].replace(\".csv\", \"\")\n",
    "        df = pd.read_csv(csv, parse_dates=[\"county_date\"])\n",
    "        df[\"date\"] = file_date\n",
    "    df_list.append(df)"
   ]
  },
  {
   "cell_type": "code",
   "execution_count": 88,
   "metadata": {},
   "outputs": [],
   "source": [
    "df = pd.concat(df_list).sort_values([\"date\", \"area\"])"
   ]
  },
  {
   "cell_type": "code",
   "execution_count": 89,
   "metadata": {},
   "outputs": [],
   "source": [
    "df.to_csv(data_dir / slug / \"timeseries.csv\", index=False)"
   ]
  }
 ],
 "metadata": {
  "kernelspec": {
   "display_name": "Python 3 (ipykernel)",
   "language": "python",
   "name": "python3"
  },
  "language_info": {
   "codemirror_mode": {
    "name": "ipython",
    "version": 3
   },
   "file_extension": ".py",
   "mimetype": "text/x-python",
   "name": "python",
   "nbconvert_exporter": "python",
   "pygments_lexer": "ipython3",
   "version": "3.8.12"
  }
 },
 "nbformat": 4,
 "nbformat_minor": 4
}
