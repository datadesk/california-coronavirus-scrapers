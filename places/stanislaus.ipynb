{
 "cells": [
  {
   "cell_type": "markdown",
   "metadata": {},
   "source": [
    "## Configuration\n",
    "_Initial steps to get the notebook ready to play nice with our repository. Do not delete this section._"
   ]
  },
  {
   "cell_type": "markdown",
   "metadata": {},
   "source": [
    "Code formatting with [black](https://pypi.org/project/nb-black/)."
   ]
  },
  {
   "cell_type": "code",
   "execution_count": 1,
   "metadata": {
    "execution": {
     "iopub.execute_input": "2022-04-26T08:28:37.739065Z",
     "iopub.status.busy": "2022-04-26T08:28:37.738642Z",
     "iopub.status.idle": "2022-04-26T08:28:37.848037Z",
     "shell.execute_reply": "2022-04-26T08:28:37.847444Z"
    }
   },
   "outputs": [],
   "source": [
    "%load_ext lab_black"
   ]
  },
  {
   "cell_type": "code",
   "execution_count": 2,
   "metadata": {
    "execution": {
     "iopub.execute_input": "2022-04-26T08:28:37.852118Z",
     "iopub.status.busy": "2022-04-26T08:28:37.851575Z",
     "iopub.status.idle": "2022-04-26T08:28:37.859147Z",
     "shell.execute_reply": "2022-04-26T08:28:37.858793Z"
    }
   },
   "outputs": [],
   "source": [
    "import os\n",
    "import pytz\n",
    "import glob\n",
    "import pathlib\n",
    "\n",
    "this_dir = pathlib.Path(os.path.abspath(\"\"))\n",
    "data_dir = this_dir / \"data\""
   ]
  },
  {
   "cell_type": "code",
   "execution_count": 3,
   "metadata": {
    "execution": {
     "iopub.execute_input": "2022-04-26T08:28:37.862376Z",
     "iopub.status.busy": "2022-04-26T08:28:37.861976Z",
     "iopub.status.idle": "2022-04-26T08:28:38.234288Z",
     "shell.execute_reply": "2022-04-26T08:28:38.233402Z"
    }
   },
   "outputs": [],
   "source": [
    "import requests\n",
    "import pandas as pd\n",
    "import regex as re\n",
    "import urllib, json\n",
    "from datetime import datetime\n",
    "from bs4 import BeautifulSoup"
   ]
  },
  {
   "cell_type": "markdown",
   "metadata": {},
   "source": [
    "## Download"
   ]
  },
  {
   "cell_type": "markdown",
   "metadata": {},
   "source": [
    "Retrieve the page"
   ]
  },
  {
   "cell_type": "code",
   "execution_count": 4,
   "metadata": {
    "execution": {
     "iopub.execute_input": "2022-04-26T08:28:38.238574Z",
     "iopub.status.busy": "2022-04-26T08:28:38.237534Z",
     "iopub.status.idle": "2022-04-26T08:28:38.240782Z",
     "shell.execute_reply": "2022-04-26T08:28:38.241121Z"
    }
   },
   "outputs": [],
   "source": [
    "url = \"https://gis2.stancounty.com/arcgis/rest/services/COVID19_Cases_City_Zip_Layer/FeatureServer/0/query\""
   ]
  },
  {
   "cell_type": "code",
   "execution_count": 5,
   "metadata": {
    "execution": {
     "iopub.execute_input": "2022-04-26T08:28:38.247570Z",
     "iopub.status.busy": "2022-04-26T08:28:38.244461Z",
     "iopub.status.idle": "2022-04-26T08:29:31.585848Z",
     "shell.execute_reply": "2022-04-26T08:29:31.585272Z"
    }
   },
   "outputs": [],
   "source": [
    "params = dict(f=\"json\", where=\"0=0\", outFields=\"*\")\n",
    "session = requests.Session()\n",
    "r = session.get(url, headers={\"User-Agent\": \"Mozilla/5.0\"}, params=params)"
   ]
  },
  {
   "cell_type": "code",
   "execution_count": 6,
   "metadata": {
    "execution": {
     "iopub.execute_input": "2022-04-26T08:29:31.591566Z",
     "iopub.status.busy": "2022-04-26T08:29:31.591000Z",
     "iopub.status.idle": "2022-04-26T08:29:31.593713Z",
     "shell.execute_reply": "2022-04-26T08:29:31.593302Z"
    }
   },
   "outputs": [],
   "source": [
    "data = r.json()"
   ]
  },
  {
   "cell_type": "markdown",
   "metadata": {},
   "source": [
    "## Parse"
   ]
  },
  {
   "cell_type": "code",
   "execution_count": 7,
   "metadata": {
    "execution": {
     "iopub.execute_input": "2022-04-26T08:29:31.598666Z",
     "iopub.status.busy": "2022-04-26T08:29:31.597560Z",
     "iopub.status.idle": "2022-04-26T08:29:31.601343Z",
     "shell.execute_reply": "2022-04-26T08:29:31.600914Z"
    }
   },
   "outputs": [],
   "source": [
    "cities = data[\"features\"]"
   ]
  },
  {
   "cell_type": "code",
   "execution_count": 8,
   "metadata": {
    "execution": {
     "iopub.execute_input": "2022-04-26T08:29:31.606555Z",
     "iopub.status.busy": "2022-04-26T08:29:31.606024Z",
     "iopub.status.idle": "2022-04-26T08:29:31.608782Z",
     "shell.execute_reply": "2022-04-26T08:29:31.609216Z"
    }
   },
   "outputs": [],
   "source": [
    "dict_list = []"
   ]
  },
  {
   "cell_type": "code",
   "execution_count": 9,
   "metadata": {
    "execution": {
     "iopub.execute_input": "2022-04-26T08:29:31.615770Z",
     "iopub.status.busy": "2022-04-26T08:29:31.614082Z",
     "iopub.status.idle": "2022-04-26T08:29:31.622036Z",
     "shell.execute_reply": "2022-04-26T08:29:31.620534Z"
    }
   },
   "outputs": [],
   "source": [
    "for item in cities:\n",
    "    d = dict(item[\"attributes\"])\n",
    "    dict_list.append(d)"
   ]
  },
  {
   "cell_type": "code",
   "execution_count": 10,
   "metadata": {
    "execution": {
     "iopub.execute_input": "2022-04-26T08:29:31.628264Z",
     "iopub.status.busy": "2022-04-26T08:29:31.626528Z",
     "iopub.status.idle": "2022-04-26T08:29:31.634715Z",
     "shell.execute_reply": "2022-04-26T08:29:31.633357Z"
    }
   },
   "outputs": [],
   "source": [
    "df = pd.DataFrame(dict_list)"
   ]
  },
  {
   "cell_type": "markdown",
   "metadata": {},
   "source": [
    "Rename fields to standardized column headers"
   ]
  },
  {
   "cell_type": "code",
   "execution_count": 11,
   "metadata": {
    "execution": {
     "iopub.execute_input": "2022-04-26T08:29:31.640537Z",
     "iopub.status.busy": "2022-04-26T08:29:31.638878Z",
     "iopub.status.idle": "2022-04-26T08:29:31.643364Z",
     "shell.execute_reply": "2022-04-26T08:29:31.643706Z"
    }
   },
   "outputs": [],
   "source": [
    "df = df.rename(columns={\"city_district\": \"area\", \"confirmed\": \"confirmed_cases\"})"
   ]
  },
  {
   "cell_type": "markdown",
   "metadata": {},
   "source": [
    "Eliminate unneeded rows"
   ]
  },
  {
   "cell_type": "code",
   "execution_count": 12,
   "metadata": {
    "execution": {
     "iopub.execute_input": "2022-04-26T08:29:31.648362Z",
     "iopub.status.busy": "2022-04-26T08:29:31.647921Z",
     "iopub.status.idle": "2022-04-26T08:29:31.652482Z",
     "shell.execute_reply": "2022-04-26T08:29:31.652111Z"
    }
   },
   "outputs": [],
   "source": [
    "df = df.filter([\"area\", \"confirmed_cases\"], axis=1).sort_values(\n",
    "    by=\"area\", ascending=True\n",
    ")"
   ]
  },
  {
   "cell_type": "markdown",
   "metadata": {},
   "source": [
    "Drop where confirmed cases is NaN"
   ]
  },
  {
   "cell_type": "code",
   "execution_count": 13,
   "metadata": {
    "execution": {
     "iopub.execute_input": "2022-04-26T08:29:31.657544Z",
     "iopub.status.busy": "2022-04-26T08:29:31.657108Z",
     "iopub.status.idle": "2022-04-26T08:29:31.660181Z",
     "shell.execute_reply": "2022-04-26T08:29:31.660523Z"
    }
   },
   "outputs": [],
   "source": [
    "df = df.dropna(subset=[\"confirmed_cases\"])"
   ]
  },
  {
   "cell_type": "markdown",
   "metadata": {},
   "source": [
    "Convert `confirmed_cases` column to int from float"
   ]
  },
  {
   "cell_type": "code",
   "execution_count": 14,
   "metadata": {
    "execution": {
     "iopub.execute_input": "2022-04-26T08:29:31.664562Z",
     "iopub.status.busy": "2022-04-26T08:29:31.664120Z",
     "iopub.status.idle": "2022-04-26T08:29:31.667479Z",
     "shell.execute_reply": "2022-04-26T08:29:31.667118Z"
    }
   },
   "outputs": [],
   "source": [
    "df = df.astype({\"confirmed_cases\": int})"
   ]
  },
  {
   "cell_type": "markdown",
   "metadata": {},
   "source": [
    "Sum districts 1-5 into unincorporated / districts"
   ]
  },
  {
   "cell_type": "code",
   "execution_count": 15,
   "metadata": {
    "execution": {
     "iopub.execute_input": "2022-04-26T08:29:31.671753Z",
     "iopub.status.busy": "2022-04-26T08:29:31.671297Z",
     "iopub.status.idle": "2022-04-26T08:29:31.676733Z",
     "shell.execute_reply": "2022-04-26T08:29:31.676350Z"
    }
   },
   "outputs": [],
   "source": [
    "total = df[\n",
    "    df[\"area\"].isin(\n",
    "        [\"District 1\", \"District 2\", \"District 3\", \"District 4\", \"District 5\"]\n",
    "    )\n",
    "]"
   ]
  },
  {
   "cell_type": "markdown",
   "metadata": {},
   "source": [
    "Append districts sum row to the dataframe"
   ]
  },
  {
   "cell_type": "code",
   "execution_count": 16,
   "metadata": {
    "execution": {
     "iopub.execute_input": "2022-04-26T08:29:31.682444Z",
     "iopub.status.busy": "2022-04-26T08:29:31.682002Z",
     "iopub.status.idle": "2022-04-26T08:29:31.686988Z",
     "shell.execute_reply": "2022-04-26T08:29:31.686623Z"
    }
   },
   "outputs": [],
   "source": [
    "new_row = {\n",
    "    \"area\": \"Unincorporated districts\",\n",
    "    \"confirmed_cases\": total[\"confirmed_cases\"].sum(),\n",
    "}\n",
    "df = df.append(new_row, ignore_index=True)"
   ]
  },
  {
   "cell_type": "markdown",
   "metadata": {},
   "source": [
    "Delete District rows"
   ]
  },
  {
   "cell_type": "code",
   "execution_count": 17,
   "metadata": {
    "execution": {
     "iopub.execute_input": "2022-04-26T08:29:31.693975Z",
     "iopub.status.busy": "2022-04-26T08:29:31.693514Z",
     "iopub.status.idle": "2022-04-26T08:29:31.697225Z",
     "shell.execute_reply": "2022-04-26T08:29:31.696840Z"
    }
   },
   "outputs": [],
   "source": [
    "df.drop(\n",
    "    df[\n",
    "        df[\"area\"].isin(\n",
    "            [\"District 1\", \"District 2\", \"District 3\", \"District 4\", \"District 5\"]\n",
    "        )\n",
    "    ].index,\n",
    "    inplace=True,\n",
    ")"
   ]
  },
  {
   "cell_type": "code",
   "execution_count": 18,
   "metadata": {
    "execution": {
     "iopub.execute_input": "2022-04-26T08:29:31.701610Z",
     "iopub.status.busy": "2022-04-26T08:29:31.701161Z",
     "iopub.status.idle": "2022-04-26T08:29:31.703838Z",
     "shell.execute_reply": "2022-04-26T08:29:31.704178Z"
    }
   },
   "outputs": [],
   "source": [
    "df = df.reset_index(drop=True)"
   ]
  },
  {
   "cell_type": "markdown",
   "metadata": {},
   "source": [
    "### Adding county column"
   ]
  },
  {
   "cell_type": "code",
   "execution_count": 19,
   "metadata": {
    "execution": {
     "iopub.execute_input": "2022-04-26T08:29:31.709253Z",
     "iopub.status.busy": "2022-04-26T08:29:31.708795Z",
     "iopub.status.idle": "2022-04-26T08:29:31.710491Z",
     "shell.execute_reply": "2022-04-26T08:29:31.710864Z"
    }
   },
   "outputs": [],
   "source": [
    "df.insert(0, \"county\", \"Stanislaus\")"
   ]
  },
  {
   "cell_type": "markdown",
   "metadata": {},
   "source": [
    "Get county timestamp (using separate feed to extract unix timestamp)"
   ]
  },
  {
   "cell_type": "code",
   "execution_count": 20,
   "metadata": {
    "execution": {
     "iopub.execute_input": "2022-04-26T08:29:31.717410Z",
     "iopub.status.busy": "2022-04-26T08:29:31.716958Z",
     "iopub.status.idle": "2022-04-26T08:29:34.465680Z",
     "shell.execute_reply": "2022-04-26T08:29:34.465150Z"
    }
   },
   "outputs": [
    {
     "ename": "AttributeError",
     "evalue": "'NoneType' object has no attribute 'text'",
     "output_type": "error",
     "traceback": [
      "\u001b[0;31m---------------------------------------------------------------------------\u001b[0m",
      "\u001b[0;31mAttributeError\u001b[0m                            Traceback (most recent call last)",
      "\u001b[0;32m/tmp/ipykernel_2815/1340331062.py\u001b[0m in \u001b[0;36m<module>\u001b[0;34m\u001b[0m\n\u001b[1;32m      1\u001b[0m \u001b[0murl_date\u001b[0m \u001b[0;34m=\u001b[0m \u001b[0;34m\"https://gis2.stancounty.com/arcgis/rest/services/COVID19_Cases_City_Zip_Layer/FeatureServer/0/metadata\"\u001b[0m\u001b[0;34m\u001b[0m\u001b[0;34m\u001b[0m\u001b[0m\n\u001b[1;32m      2\u001b[0m \u001b[0mr_date\u001b[0m \u001b[0;34m=\u001b[0m \u001b[0mrequests\u001b[0m\u001b[0;34m.\u001b[0m\u001b[0mget\u001b[0m\u001b[0;34m(\u001b[0m\u001b[0murl_date\u001b[0m\u001b[0;34m)\u001b[0m\u001b[0;34m\u001b[0m\u001b[0;34m\u001b[0m\u001b[0m\n\u001b[0;32m----> 3\u001b[0;31m \u001b[0mdata_date_bad\u001b[0m \u001b[0;34m=\u001b[0m \u001b[0mBeautifulSoup\u001b[0m\u001b[0;34m(\u001b[0m\u001b[0mr_date\u001b[0m\u001b[0;34m.\u001b[0m\u001b[0mtext\u001b[0m\u001b[0;34m)\u001b[0m\u001b[0;34m.\u001b[0m\u001b[0mfind\u001b[0m\u001b[0;34m(\u001b[0m\u001b[0;34m\"creadate\"\u001b[0m\u001b[0;34m)\u001b[0m\u001b[0;34m.\u001b[0m\u001b[0mtext\u001b[0m\u001b[0;34m\u001b[0m\u001b[0;34m\u001b[0m\u001b[0m\n\u001b[0m\u001b[1;32m      4\u001b[0m \u001b[0mdata_date\u001b[0m \u001b[0;34m=\u001b[0m \u001b[0mdatetime\u001b[0m\u001b[0;34m.\u001b[0m\u001b[0mstrptime\u001b[0m\u001b[0;34m(\u001b[0m\u001b[0mdata_date_bad\u001b[0m\u001b[0;34m,\u001b[0m \u001b[0;34m\"%Y%m%d\"\u001b[0m\u001b[0;34m)\u001b[0m\u001b[0;34m.\u001b[0m\u001b[0mstrftime\u001b[0m\u001b[0;34m(\u001b[0m\u001b[0;34m\"%Y-%m-%d\"\u001b[0m\u001b[0;34m)\u001b[0m\u001b[0;34m\u001b[0m\u001b[0;34m\u001b[0m\u001b[0m\n\u001b[1;32m      5\u001b[0m \u001b[0;31m# dropping last three digits of unix timestamp, converting to python date\u001b[0m\u001b[0;34m\u001b[0m\u001b[0;34m\u001b[0m\u001b[0;34m\u001b[0m\u001b[0m\n",
      "\u001b[0;31mAttributeError\u001b[0m: 'NoneType' object has no attribute 'text'"
     ]
    }
   ],
   "source": [
    "url_date = \"https://gis2.stancounty.com/arcgis/rest/services/COVID19_Cases_City_Zip_Layer/FeatureServer/0/metadata\"\n",
    "r_date = requests.get(url_date)\n",
    "data_date_bad = BeautifulSoup(r_date.text).find(\"creadate\").text\n",
    "data_date = datetime.strptime(data_date_bad, \"%Y%m%d\").strftime(\"%Y-%m-%d\")\n",
    "# dropping last three digits of unix timestamp, converting to python date\n",
    "feed_date_obj = data_date"
   ]
  },
  {
   "cell_type": "markdown",
   "metadata": {},
   "source": [
    "If separate feed or modified date unavailable, use now for date"
   ]
  },
  {
   "cell_type": "code",
   "execution_count": 21,
   "metadata": {},
   "outputs": [],
   "source": [
    "field_date = data_date if data_date else now"
   ]
  },
  {
   "cell_type": "code",
   "execution_count": 22,
   "metadata": {},
   "outputs": [],
   "source": [
    "df[\"county_date\"] = pd.to_datetime(field_date).date()"
   ]
  },
  {
   "cell_type": "markdown",
   "metadata": {},
   "source": [
    "## Vet"
   ]
  },
  {
   "cell_type": "code",
   "execution_count": 23,
   "metadata": {},
   "outputs": [],
   "source": [
    "try:\n",
    "    assert len(df) > 8 and len(df) < 11\n",
    "except AssertionError:\n",
    "    raise AssertionError(\n",
    "        \"Stanislaus County scraper: latest spreadsheet entry is missing row(s)\"\n",
    "    )"
   ]
  },
  {
   "cell_type": "markdown",
   "metadata": {},
   "source": [
    "## Export"
   ]
  },
  {
   "cell_type": "markdown",
   "metadata": {},
   "source": [
    "Set date"
   ]
  },
  {
   "cell_type": "code",
   "execution_count": 24,
   "metadata": {},
   "outputs": [],
   "source": [
    "tz = pytz.timezone(\"America/Los_Angeles\")"
   ]
  },
  {
   "cell_type": "code",
   "execution_count": 25,
   "metadata": {},
   "outputs": [],
   "source": [
    "today = datetime.now(tz).date()"
   ]
  },
  {
   "cell_type": "code",
   "execution_count": 26,
   "metadata": {},
   "outputs": [],
   "source": [
    "slug = \"stanislaus\""
   ]
  },
  {
   "cell_type": "code",
   "execution_count": 27,
   "metadata": {},
   "outputs": [],
   "source": [
    "df.to_csv(data_dir / slug / f\"{today}.csv\", index=False)"
   ]
  },
  {
   "cell_type": "markdown",
   "metadata": {},
   "source": [
    "## Combine"
   ]
  },
  {
   "cell_type": "code",
   "execution_count": 28,
   "metadata": {},
   "outputs": [],
   "source": [
    "csv_list = [\n",
    "    i\n",
    "    for i in glob.glob(str(data_dir / slug / \"*.csv\"))\n",
    "    if not str(i).endswith(\"timeseries.csv\")\n",
    "]"
   ]
  },
  {
   "cell_type": "code",
   "execution_count": 29,
   "metadata": {},
   "outputs": [],
   "source": [
    "df_list = []\n",
    "for csv in csv_list:\n",
    "    if \"manual\" in csv:\n",
    "        df = pd.read_csv(csv, parse_dates=[\"date\"])\n",
    "    else:\n",
    "        file_date = csv.split(\"/\")[-1].replace(\".csv\", \"\")\n",
    "        df = pd.read_csv(csv, parse_dates=[\"county_date\"])\n",
    "        df[\"date\"] = file_date\n",
    "    df_list.append(df)"
   ]
  },
  {
   "cell_type": "code",
   "execution_count": 30,
   "metadata": {},
   "outputs": [],
   "source": [
    "df = pd.concat(df_list).sort_values([\"date\", \"area\"])"
   ]
  },
  {
   "cell_type": "code",
   "execution_count": 31,
   "metadata": {},
   "outputs": [],
   "source": [
    "df.to_csv(data_dir / slug / \"timeseries.csv\", index=False)"
   ]
  },
  {
   "cell_type": "code",
   "execution_count": null,
   "metadata": {},
   "outputs": [],
   "source": []
  }
 ],
 "metadata": {
  "kernelspec": {
   "display_name": "Python 3 (ipykernel)",
   "language": "python",
   "name": "python3"
  },
  "language_info": {
   "codemirror_mode": {
    "name": "ipython",
    "version": 3
   },
   "file_extension": ".py",
   "mimetype": "text/x-python",
   "name": "python",
   "nbconvert_exporter": "python",
   "pygments_lexer": "ipython3",
   "version": "3.8.12"
  }
 },
 "nbformat": 4,
 "nbformat_minor": 4
}
