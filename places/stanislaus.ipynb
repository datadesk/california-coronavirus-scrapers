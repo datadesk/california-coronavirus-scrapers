{
 "cells": [
  {
   "cell_type": "markdown",
   "metadata": {},
   "source": [
    "## Configuration\n",
    "_Initial steps to get the notebook ready to play nice with our repository. Do not delete this section._"
   ]
  },
  {
   "cell_type": "markdown",
   "metadata": {},
   "source": [
    "Code formatting with [black](https://pypi.org/project/nb-black/)."
   ]
  },
  {
   "cell_type": "code",
   "execution_count": 1,
   "metadata": {
    "execution": {
     "iopub.execute_input": "2022-01-13T04:23:43.064701Z",
     "iopub.status.busy": "2022-01-13T04:23:43.064137Z",
     "iopub.status.idle": "2022-01-13T04:23:43.218660Z",
     "shell.execute_reply": "2022-01-13T04:23:43.217973Z"
    }
   },
   "outputs": [],
   "source": [
    "%load_ext lab_black"
   ]
  },
  {
   "cell_type": "code",
   "execution_count": 2,
   "metadata": {
    "execution": {
     "iopub.execute_input": "2022-01-13T04:23:43.224049Z",
     "iopub.status.busy": "2022-01-13T04:23:43.223515Z",
     "iopub.status.idle": "2022-01-13T04:23:43.234590Z",
     "shell.execute_reply": "2022-01-13T04:23:43.233977Z"
    }
   },
   "outputs": [],
   "source": [
    "import os\n",
    "import pytz\n",
    "import glob\n",
    "import pathlib\n",
    "\n",
    "this_dir = pathlib.Path(os.path.abspath(\"\"))\n",
    "data_dir = this_dir / \"data\""
   ]
  },
  {
   "cell_type": "code",
   "execution_count": 3,
   "metadata": {
    "execution": {
     "iopub.execute_input": "2022-01-13T04:23:43.240072Z",
     "iopub.status.busy": "2022-01-13T04:23:43.239523Z",
     "iopub.status.idle": "2022-01-13T04:23:43.777194Z",
     "shell.execute_reply": "2022-01-13T04:23:43.776019Z"
    }
   },
   "outputs": [],
   "source": [
    "import requests\n",
    "import pandas as pd\n",
    "import regex as re\n",
    "import urllib, json\n",
    "from datetime import datetime\n",
    "from bs4 import BeautifulSoup"
   ]
  },
  {
   "cell_type": "markdown",
   "metadata": {},
   "source": [
    "## Download"
   ]
  },
  {
   "cell_type": "markdown",
   "metadata": {},
   "source": [
    "Retrieve the page"
   ]
  },
  {
   "cell_type": "code",
   "execution_count": 4,
   "metadata": {
    "execution": {
     "iopub.execute_input": "2022-01-13T04:23:43.784218Z",
     "iopub.status.busy": "2022-01-13T04:23:43.782695Z",
     "iopub.status.idle": "2022-01-13T04:23:43.787255Z",
     "shell.execute_reply": "2022-01-13T04:23:43.786791Z"
    }
   },
   "outputs": [],
   "source": [
    "url = \"https://gis2.stancounty.com/arcgis/rest/services/COVID19_Cases_City_Zip_Layer/FeatureServer/0/query\""
   ]
  },
  {
   "cell_type": "code",
   "execution_count": 5,
   "metadata": {
    "execution": {
     "iopub.execute_input": "2022-01-13T04:23:43.792792Z",
     "iopub.status.busy": "2022-01-13T04:23:43.792251Z",
     "iopub.status.idle": "2022-01-13T04:23:44.255125Z",
     "shell.execute_reply": "2022-01-13T04:23:44.254593Z"
    }
   },
   "outputs": [],
   "source": [
    "params = dict(f=\"json\", where=\"0=0\", outFields=\"*\")\n",
    "session = requests.Session()\n",
    "r = session.get(url, headers={\"User-Agent\": \"Mozilla/5.0\"}, params=params)"
   ]
  },
  {
   "cell_type": "code",
   "execution_count": 6,
   "metadata": {
    "execution": {
     "iopub.execute_input": "2022-01-13T04:23:44.273938Z",
     "iopub.status.busy": "2022-01-13T04:23:44.272529Z",
     "iopub.status.idle": "2022-01-13T04:23:44.274502Z",
     "shell.execute_reply": "2022-01-13T04:23:44.273208Z"
    }
   },
   "outputs": [],
   "source": [
    "data = r.json()"
   ]
  },
  {
   "cell_type": "markdown",
   "metadata": {},
   "source": [
    "## Parse"
   ]
  },
  {
   "cell_type": "code",
   "execution_count": 7,
   "metadata": {
    "execution": {
     "iopub.execute_input": "2022-01-13T04:23:44.279180Z",
     "iopub.status.busy": "2022-01-13T04:23:44.278647Z",
     "iopub.status.idle": "2022-01-13T04:23:44.282270Z",
     "shell.execute_reply": "2022-01-13T04:23:44.281825Z"
    }
   },
   "outputs": [],
   "source": [
    "cities = data[\"features\"]"
   ]
  },
  {
   "cell_type": "code",
   "execution_count": 8,
   "metadata": {
    "execution": {
     "iopub.execute_input": "2022-01-13T04:23:44.287829Z",
     "iopub.status.busy": "2022-01-13T04:23:44.287305Z",
     "iopub.status.idle": "2022-01-13T04:23:44.289906Z",
     "shell.execute_reply": "2022-01-13T04:23:44.289459Z"
    }
   },
   "outputs": [],
   "source": [
    "dict_list = []"
   ]
  },
  {
   "cell_type": "code",
   "execution_count": 9,
   "metadata": {
    "execution": {
     "iopub.execute_input": "2022-01-13T04:23:44.298549Z",
     "iopub.status.busy": "2022-01-13T04:23:44.297300Z",
     "iopub.status.idle": "2022-01-13T04:23:44.299151Z",
     "shell.execute_reply": "2022-01-13T04:23:44.299576Z"
    }
   },
   "outputs": [],
   "source": [
    "for item in cities:\n",
    "    d = dict(item[\"attributes\"])\n",
    "    dict_list.append(d)"
   ]
  },
  {
   "cell_type": "code",
   "execution_count": 10,
   "metadata": {
    "execution": {
     "iopub.execute_input": "2022-01-13T04:23:44.306710Z",
     "iopub.status.busy": "2022-01-13T04:23:44.306179Z",
     "iopub.status.idle": "2022-01-13T04:23:44.310330Z",
     "shell.execute_reply": "2022-01-13T04:23:44.309861Z"
    }
   },
   "outputs": [],
   "source": [
    "df = pd.DataFrame(dict_list)"
   ]
  },
  {
   "cell_type": "markdown",
   "metadata": {},
   "source": [
    "Rename fields to standardized column headers"
   ]
  },
  {
   "cell_type": "code",
   "execution_count": 11,
   "metadata": {
    "execution": {
     "iopub.execute_input": "2022-01-13T04:23:44.316580Z",
     "iopub.status.busy": "2022-01-13T04:23:44.316058Z",
     "iopub.status.idle": "2022-01-13T04:23:44.320640Z",
     "shell.execute_reply": "2022-01-13T04:23:44.320114Z"
    }
   },
   "outputs": [],
   "source": [
    "df = df.rename(columns={\"city_district\": \"area\", \"confirmed\": \"confirmed_cases\"})"
   ]
  },
  {
   "cell_type": "markdown",
   "metadata": {},
   "source": [
    "Eliminate unneeded rows"
   ]
  },
  {
   "cell_type": "code",
   "execution_count": 12,
   "metadata": {
    "execution": {
     "iopub.execute_input": "2022-01-13T04:23:44.327351Z",
     "iopub.status.busy": "2022-01-13T04:23:44.326821Z",
     "iopub.status.idle": "2022-01-13T04:23:44.332397Z",
     "shell.execute_reply": "2022-01-13T04:23:44.331942Z"
    }
   },
   "outputs": [],
   "source": [
    "df = df.filter([\"area\", \"confirmed_cases\"], axis=1).sort_values(\n",
    "    by=\"area\", ascending=True\n",
    ")"
   ]
  },
  {
   "cell_type": "markdown",
   "metadata": {},
   "source": [
    "Drop where confirmed cases is NaN"
   ]
  },
  {
   "cell_type": "code",
   "execution_count": 13,
   "metadata": {
    "execution": {
     "iopub.execute_input": "2022-01-13T04:23:44.340541Z",
     "iopub.status.busy": "2022-01-13T04:23:44.334590Z",
     "iopub.status.idle": "2022-01-13T04:23:44.342688Z",
     "shell.execute_reply": "2022-01-13T04:23:44.342243Z"
    }
   },
   "outputs": [],
   "source": [
    "df = df.dropna(subset=[\"confirmed_cases\"])"
   ]
  },
  {
   "cell_type": "markdown",
   "metadata": {},
   "source": [
    "Convert `confirmed_cases` column to int from float"
   ]
  },
  {
   "cell_type": "code",
   "execution_count": 14,
   "metadata": {
    "execution": {
     "iopub.execute_input": "2022-01-13T04:23:44.348358Z",
     "iopub.status.busy": "2022-01-13T04:23:44.347837Z",
     "iopub.status.idle": "2022-01-13T04:23:44.351989Z",
     "shell.execute_reply": "2022-01-13T04:23:44.351554Z"
    }
   },
   "outputs": [],
   "source": [
    "df = df.astype({\"confirmed_cases\": int})"
   ]
  },
  {
   "cell_type": "markdown",
   "metadata": {},
   "source": [
    "Sum districts 1-5 into unincorporated / districts"
   ]
  },
  {
   "cell_type": "code",
   "execution_count": 15,
   "metadata": {
    "execution": {
     "iopub.execute_input": "2022-01-13T04:23:44.357212Z",
     "iopub.status.busy": "2022-01-13T04:23:44.356689Z",
     "iopub.status.idle": "2022-01-13T04:23:44.364022Z",
     "shell.execute_reply": "2022-01-13T04:23:44.363546Z"
    }
   },
   "outputs": [],
   "source": [
    "total = df[\n",
    "    df[\"area\"].isin(\n",
    "        [\"District 1\", \"District 2\", \"District 3\", \"District 4\", \"District 5\"]\n",
    "    )\n",
    "]"
   ]
  },
  {
   "cell_type": "markdown",
   "metadata": {},
   "source": [
    "Append districts sum row to the dataframe"
   ]
  },
  {
   "cell_type": "code",
   "execution_count": 16,
   "metadata": {
    "execution": {
     "iopub.execute_input": "2022-01-13T04:23:44.372197Z",
     "iopub.status.busy": "2022-01-13T04:23:44.371635Z",
     "iopub.status.idle": "2022-01-13T04:23:44.378076Z",
     "shell.execute_reply": "2022-01-13T04:23:44.377588Z"
    }
   },
   "outputs": [],
   "source": [
    "new_row = {\n",
    "    \"area\": \"Unincorporated districts\",\n",
    "    \"confirmed_cases\": total[\"confirmed_cases\"].sum(),\n",
    "}\n",
    "df = df.append(new_row, ignore_index=True)"
   ]
  },
  {
   "cell_type": "markdown",
   "metadata": {},
   "source": [
    "Delete District rows"
   ]
  },
  {
   "cell_type": "code",
   "execution_count": 17,
   "metadata": {
    "execution": {
     "iopub.execute_input": "2022-01-13T04:23:44.384938Z",
     "iopub.status.busy": "2022-01-13T04:23:44.384380Z",
     "iopub.status.idle": "2022-01-13T04:23:44.392844Z",
     "shell.execute_reply": "2022-01-13T04:23:44.392366Z"
    }
   },
   "outputs": [],
   "source": [
    "df.drop(\n",
    "    df[\n",
    "        df[\"area\"].isin(\n",
    "            [\"District 1\", \"District 2\", \"District 3\", \"District 4\", \"District 5\"]\n",
    "        )\n",
    "    ].index,\n",
    "    inplace=True,\n",
    ")"
   ]
  },
  {
   "cell_type": "code",
   "execution_count": 18,
   "metadata": {
    "execution": {
     "iopub.execute_input": "2022-01-13T04:23:44.399711Z",
     "iopub.status.busy": "2022-01-13T04:23:44.395052Z",
     "iopub.status.idle": "2022-01-13T04:23:44.401890Z",
     "shell.execute_reply": "2022-01-13T04:23:44.401385Z"
    }
   },
   "outputs": [],
   "source": [
    "df = df.reset_index(drop=True)"
   ]
  },
  {
   "cell_type": "markdown",
   "metadata": {},
   "source": [
    "### Adding county column"
   ]
  },
  {
   "cell_type": "code",
   "execution_count": 19,
   "metadata": {
    "execution": {
     "iopub.execute_input": "2022-01-13T04:23:44.407290Z",
     "iopub.status.busy": "2022-01-13T04:23:44.406773Z",
     "iopub.status.idle": "2022-01-13T04:23:44.410149Z",
     "shell.execute_reply": "2022-01-13T04:23:44.410562Z"
    }
   },
   "outputs": [],
   "source": [
    "df.insert(0, \"county\", \"Stanislaus\")"
   ]
  },
  {
   "cell_type": "markdown",
   "metadata": {},
   "source": [
    "Get county timestamp (using separate feed to extract unix timestamp)"
   ]
  },
  {
   "cell_type": "code",
   "execution_count": 20,
   "metadata": {
    "execution": {
     "iopub.execute_input": "2022-01-13T04:23:44.419682Z",
     "iopub.status.busy": "2022-01-13T04:23:44.419131Z",
     "iopub.status.idle": "2022-01-13T04:23:44.820045Z",
     "shell.execute_reply": "2022-01-13T04:23:44.820566Z"
    }
   },
   "outputs": [],
   "source": [
    "url_date = \"https://gis2.stancounty.com/arcgis/rest/services/COVID19_Cases_City_Zip_Layer/FeatureServer/0/metadata\"\n",
    "r_date = requests.get(url_date)\n",
    "data_date_bad = BeautifulSoup(r_date.text).find(\"creadate\").text\n",
    "data_date = datetime.strptime(data_date_bad, \"%Y%m%d\").strftime(\"%Y-%m-%d\")\n",
    "# dropping last three digits of unix timestamp, converting to python date\n",
    "feed_date_obj = data_date"
   ]
  },
  {
   "cell_type": "markdown",
   "metadata": {},
   "source": [
    "If separate feed or modified date unavailable, use now for date"
   ]
  },
  {
   "cell_type": "code",
   "execution_count": 21,
   "metadata": {
    "execution": {
     "iopub.execute_input": "2022-01-13T04:23:44.827859Z",
     "iopub.status.busy": "2022-01-13T04:23:44.826712Z",
     "iopub.status.idle": "2022-01-13T04:23:44.830540Z",
     "shell.execute_reply": "2022-01-13T04:23:44.831011Z"
    }
   },
   "outputs": [],
   "source": [
    "field_date = data_date if data_date else now"
   ]
  },
  {
   "cell_type": "code",
   "execution_count": 22,
   "metadata": {
    "execution": {
     "iopub.execute_input": "2022-01-13T04:23:44.837520Z",
     "iopub.status.busy": "2022-01-13T04:23:44.836944Z",
     "iopub.status.idle": "2022-01-13T04:23:44.841864Z",
     "shell.execute_reply": "2022-01-13T04:23:44.841306Z"
    }
   },
   "outputs": [],
   "source": [
    "df[\"county_date\"] = pd.to_datetime(field_date).date()"
   ]
  },
  {
   "cell_type": "markdown",
   "metadata": {},
   "source": [
    "## Vet"
   ]
  },
  {
   "cell_type": "code",
   "execution_count": 23,
   "metadata": {
    "execution": {
     "iopub.execute_input": "2022-01-13T04:23:44.846368Z",
     "iopub.status.busy": "2022-01-13T04:23:44.845419Z",
     "iopub.status.idle": "2022-01-13T04:23:44.849231Z",
     "shell.execute_reply": "2022-01-13T04:23:44.848704Z"
    }
   },
   "outputs": [],
   "source": [
    "default_stan_len = 10"
   ]
  },
  {
   "cell_type": "code",
   "execution_count": 24,
   "metadata": {
    "execution": {
     "iopub.execute_input": "2022-01-13T04:23:44.859578Z",
     "iopub.status.busy": "2022-01-13T04:23:44.858832Z",
     "iopub.status.idle": "2022-01-13T04:23:45.023657Z",
     "shell.execute_reply": "2022-01-13T04:23:45.023064Z"
    }
   },
   "outputs": [
    {
     "ename": "AssertionError",
     "evalue": "Stanislaus County scraper: latest spreadsheet entry is missing row(s)",
     "output_type": "error",
     "traceback": [
      "\u001b[0;31m---------------------------------------------------------------------------\u001b[0m",
      "\u001b[0;31mAssertionError\u001b[0m                            Traceback (most recent call last)",
      "\u001b[0;32m/tmp/ipykernel_3640/1657760911.py\u001b[0m in \u001b[0;36m<module>\u001b[0;34m\u001b[0m\n\u001b[1;32m      1\u001b[0m \u001b[0;32mtry\u001b[0m\u001b[0;34m:\u001b[0m\u001b[0;34m\u001b[0m\u001b[0;34m\u001b[0m\u001b[0m\n\u001b[0;32m----> 2\u001b[0;31m     \u001b[0;32massert\u001b[0m \u001b[0;32mnot\u001b[0m \u001b[0mlen\u001b[0m\u001b[0;34m(\u001b[0m\u001b[0mdf\u001b[0m\u001b[0;34m)\u001b[0m \u001b[0;34m<\u001b[0m \u001b[0mdefault_stan_len\u001b[0m\u001b[0;34m\u001b[0m\u001b[0;34m\u001b[0m\u001b[0m\n\u001b[0m\u001b[1;32m      3\u001b[0m \u001b[0;32mexcept\u001b[0m \u001b[0mAssertionError\u001b[0m\u001b[0;34m:\u001b[0m\u001b[0;34m\u001b[0m\u001b[0;34m\u001b[0m\u001b[0m\n",
      "\u001b[0;31mAssertionError\u001b[0m: ",
      "\nDuring handling of the above exception, another exception occurred:\n",
      "\u001b[0;31mAssertionError\u001b[0m                            Traceback (most recent call last)",
      "\u001b[0;32m/tmp/ipykernel_3640/1657760911.py\u001b[0m in \u001b[0;36m<module>\u001b[0;34m\u001b[0m\n\u001b[1;32m      2\u001b[0m     \u001b[0;32massert\u001b[0m \u001b[0;32mnot\u001b[0m \u001b[0mlen\u001b[0m\u001b[0;34m(\u001b[0m\u001b[0mdf\u001b[0m\u001b[0;34m)\u001b[0m \u001b[0;34m<\u001b[0m \u001b[0mdefault_stan_len\u001b[0m\u001b[0;34m\u001b[0m\u001b[0;34m\u001b[0m\u001b[0m\n\u001b[1;32m      3\u001b[0m \u001b[0;32mexcept\u001b[0m \u001b[0mAssertionError\u001b[0m\u001b[0;34m:\u001b[0m\u001b[0;34m\u001b[0m\u001b[0;34m\u001b[0m\u001b[0m\n\u001b[0;32m----> 4\u001b[0;31m     raise AssertionError(\n\u001b[0m\u001b[1;32m      5\u001b[0m         \u001b[0;34m\"Stanislaus County scraper: latest spreadsheet entry is missing row(s)\"\u001b[0m\u001b[0;34m\u001b[0m\u001b[0;34m\u001b[0m\u001b[0m\n\u001b[1;32m      6\u001b[0m     )\n",
      "\u001b[0;31mAssertionError\u001b[0m: Stanislaus County scraper: latest spreadsheet entry is missing row(s)"
     ]
    }
   ],
   "source": [
    "try:\n",
    "    assert not len(df) < default_stan_len\n",
    "except AssertionError:\n",
    "    raise AssertionError(\n",
    "        \"Stanislaus County scraper: latest spreadsheet entry is missing row(s)\"\n",
    "    )"
   ]
  },
  {
   "cell_type": "code",
   "execution_count": 26,
   "metadata": {},
   "outputs": [],
   "source": [
    "try:\n",
    "    assert not len(df) > default_stan_len\n",
    "except AssertionError:\n",
    "    raise AssertionError(\n",
    "        \"Stanislaus County scraper: latest spreadsheet entry has more area(s) than previously reported\"\n",
    "    )"
   ]
  },
  {
   "cell_type": "markdown",
   "metadata": {},
   "source": [
    "## Export"
   ]
  },
  {
   "cell_type": "markdown",
   "metadata": {},
   "source": [
    "Set date"
   ]
  },
  {
   "cell_type": "code",
   "execution_count": 27,
   "metadata": {},
   "outputs": [],
   "source": [
    "tz = pytz.timezone(\"America/Los_Angeles\")"
   ]
  },
  {
   "cell_type": "code",
   "execution_count": 28,
   "metadata": {},
   "outputs": [],
   "source": [
    "today = datetime.now(tz).date()"
   ]
  },
  {
   "cell_type": "code",
   "execution_count": 29,
   "metadata": {},
   "outputs": [],
   "source": [
    "slug = \"stanislaus\""
   ]
  },
  {
   "cell_type": "code",
   "execution_count": 30,
   "metadata": {},
   "outputs": [],
   "source": [
    "df.to_csv(data_dir / slug / f\"{today}.csv\", index=False)"
   ]
  },
  {
   "cell_type": "markdown",
   "metadata": {},
   "source": [
    "## Combine"
   ]
  },
  {
   "cell_type": "code",
   "execution_count": 31,
   "metadata": {},
   "outputs": [],
   "source": [
    "csv_list = [\n",
    "    i\n",
    "    for i in glob.glob(str(data_dir / slug / \"*.csv\"))\n",
    "    if not str(i).endswith(\"timeseries.csv\")\n",
    "]"
   ]
  },
  {
   "cell_type": "code",
   "execution_count": 32,
   "metadata": {},
   "outputs": [],
   "source": [
    "df_list = []\n",
    "for csv in csv_list:\n",
    "    if \"manual\" in csv:\n",
    "        df = pd.read_csv(csv, parse_dates=[\"date\"])\n",
    "    else:\n",
    "        file_date = csv.split(\"/\")[-1].replace(\".csv\", \"\")\n",
    "        df = pd.read_csv(csv, parse_dates=[\"county_date\"])\n",
    "        df[\"date\"] = file_date\n",
    "    df_list.append(df)"
   ]
  },
  {
   "cell_type": "code",
   "execution_count": 33,
   "metadata": {},
   "outputs": [],
   "source": [
    "df = pd.concat(df_list).sort_values([\"date\", \"area\"])"
   ]
  },
  {
   "cell_type": "code",
   "execution_count": 34,
   "metadata": {},
   "outputs": [],
   "source": [
    "df.to_csv(data_dir / slug / \"timeseries.csv\", index=False)"
   ]
  }
 ],
 "metadata": {
  "kernelspec": {
   "display_name": "Python 3 (ipykernel)",
   "language": "python",
   "name": "python3"
  },
  "language_info": {
   "codemirror_mode": {
    "name": "ipython",
    "version": 3
   },
   "file_extension": ".py",
   "mimetype": "text/x-python",
   "name": "python",
   "nbconvert_exporter": "python",
   "pygments_lexer": "ipython3",
   "version": "3.8.12"
  }
 },
 "nbformat": 4,
 "nbformat_minor": 4
}
