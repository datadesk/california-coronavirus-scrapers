{
 "cells": [
  {
   "cell_type": "markdown",
   "metadata": {},
   "source": [
    "## Configuration\n",
    "_Initial steps to get the notebook ready to play nice with our repository. Do not delete this section._"
   ]
  },
  {
   "cell_type": "markdown",
   "metadata": {},
   "source": [
    "Code formatting with [black](https://pypi.org/project/nb-black/)."
   ]
  },
  {
   "cell_type": "code",
   "execution_count": 12,
   "metadata": {},
   "outputs": [
    {
     "name": "stdout",
     "output_type": "stream",
     "text": [
      "The lab_black extension is already loaded. To reload it, use:\n",
      "  %reload_ext lab_black\n"
     ]
    }
   ],
   "source": [
    "%load_ext lab_black"
   ]
  },
  {
   "cell_type": "code",
   "execution_count": 13,
   "metadata": {},
   "outputs": [],
   "source": [
    "import os\n",
    "import pytz\n",
    "import glob\n",
    "import pathlib\n",
    "\n",
    "this_dir = pathlib.Path(os.path.abspath(\"\"))\n",
    "data_dir = this_dir / \"data\""
   ]
  },
  {
   "cell_type": "code",
   "execution_count": 14,
   "metadata": {},
   "outputs": [],
   "source": [
    "import requests\n",
    "import pandas as pd\n",
    "import regex as re\n",
    "import urllib, json\n",
    "from datetime import datetime\n",
    "from bs4 import BeautifulSoup"
   ]
  },
  {
   "cell_type": "markdown",
   "metadata": {},
   "source": [
    "## Download"
   ]
  },
  {
   "cell_type": "markdown",
   "metadata": {},
   "source": [
    "Retrieve the page"
   ]
  },
  {
   "cell_type": "code",
   "execution_count": 15,
   "metadata": {},
   "outputs": [],
   "source": [
    "POWER_BI_QUERY_URL = (\n",
    "    \"https://wabi-us-gov-iowa-api.analysis.usgovcloudapi.net/public/reports/querydata\"\n",
    ")\n",
    "REQUEST_PARAMS = ((\"synchronous\", \"true\"),)\n",
    "REQUEST_BODY = '{\"version\":\"1.0.0\",\"queries\":[{\"Query\":{\"Commands\":[{\"SemanticQueryDataShapeCommand\":{\"Query\":{\"Version\":2,\"From\":[{\"Name\":\"s1\",\"Entity\":\"sde COVID19BYZIPCODES\",\"Type\":0}],\"Select\":[{\"Column\":{\"Expression\":{\"SourceRef\":{\"Source\":\"s1\"}},\"Property\":\"zipcode\"},\"Name\":\"sde COVID19BYZIPCODES.zipcode\"},{\"Aggregation\":{\"Expression\":{\"Column\":{\"Expression\":{\"SourceRef\":{\"Source\":\"s1\"}},\"Property\":\"covid_cases\"}},\"Function\":0},\"Name\":\"Sum(sde COVID19BYZIPCODES.covid_cases)\"},{\"Column\":{\"Expression\":{\"SourceRef\":{\"Source\":\"s1\"}},\"Property\":\"Rank_Total (bins)\"},\"Name\":\"sde COVID19BYZIPCODES.Rank_Total (bins)\"}],\"OrderBy\":[{\"Direction\":2,\"Expression\":{\"Aggregation\":{\"Expression\":{\"Column\":{\"Expression\":{\"SourceRef\":{\"Source\":\"s1\"}},\"Property\":\"covid_cases\"}},\"Function\":0}}}]},\"Binding\":{\"Primary\":{\"Groupings\":[{\"Projections\":[0,1]}]},\"Secondary\":{\"Groupings\":[{\"Projections\":[2]}]},\"DataReduction\":{\"DataVolume\":4,\"Primary\":{\"Top\":{}},\"Secondary\":{\"Top\":{}}},\"Version\":1},\"ExecutionMetricsKind\":1}}]},\"CacheKey\":\"{\\\\\"Commands\\\\\":[{\\\\\"SemanticQueryDataShapeCommand\\\\\":{\\\\\"Query\\\\\":{\\\\\"Version\\\\\":2,\\\\\"From\\\\\":[{\\\\\"Name\\\\\":\\\\\"s1\\\\\",\\\\\"Entity\\\\\":\\\\\"sde COVID19BYZIPCODES\\\\\",\\\\\"Type\\\\\":0}],\\\\\"Select\\\\\":[{\\\\\"Column\\\\\":{\\\\\"Expression\\\\\":{\\\\\"SourceRef\\\\\":{\\\\\"Source\\\\\":\\\\\"s1\\\\\"}},\\\\\"Property\\\\\":\\\\\"zipcode\\\\\"},\\\\\"Name\\\\\":\\\\\"sde COVID19BYZIPCODES.zipcode\\\\\"},{\\\\\"Aggregation\\\\\":{\\\\\"Expression\\\\\":{\\\\\"Column\\\\\":{\\\\\"Expression\\\\\":{\\\\\"SourceRef\\\\\":{\\\\\"Source\\\\\":\\\\\"s1\\\\\"}},\\\\\"Property\\\\\":\\\\\"covid_cases\\\\\"}},\\\\\"Function\\\\\":0},\\\\\"Name\\\\\":\\\\\"Sum(sde COVID19BYZIPCODES.covid_cases)\\\\\"},{\\\\\"Column\\\\\":{\\\\\"Expression\\\\\":{\\\\\"SourceRef\\\\\":{\\\\\"Source\\\\\":\\\\\"s1\\\\\"}},\\\\\"Property\\\\\":\\\\\"Rank_Total (bins)\\\\\"},\\\\\"Name\\\\\":\\\\\"sde COVID19BYZIPCODES.Rank_Total (bins)\\\\\"}],\\\\\"OrderBy\\\\\":[{\\\\\"Direction\\\\\":2,\\\\\"Expression\\\\\":{\\\\\"Aggregation\\\\\":{\\\\\"Expression\\\\\":{\\\\\"Column\\\\\":{\\\\\"Expression\\\\\":{\\\\\"SourceRef\\\\\":{\\\\\"Source\\\\\":\\\\\"s1\\\\\"}},\\\\\"Property\\\\\":\\\\\"covid_cases\\\\\"}},\\\\\"Function\\\\\":0}}}]},\\\\\"Binding\\\\\":{\\\\\"Primary\\\\\":{\\\\\"Groupings\\\\\":[{\\\\\"Projections\\\\\":[0,1]}]},\\\\\"Secondary\\\\\":{\\\\\"Groupings\\\\\":[{\\\\\"Projections\\\\\":[2]}]},\\\\\"DataReduction\\\\\":{\\\\\"DataVolume\\\\\":4,\\\\\"Primary\\\\\":{\\\\\"Top\\\\\":{}},\\\\\"Secondary\\\\\":{\\\\\"Top\\\\\":{}}},\\\\\"Version\\\\\":1},\\\\\"ExecutionMetricsKind\\\\\":1}}]}\",\"QueryId\":\"\",\"ApplicationContext\":{\"DatasetId\":\"a58dcee6-4ec9-4c44-8344-b6e60bd89b34\",\"Sources\":[{\"ReportId\":\"c9ddc766-a793-4781-9194-5669ce5c3b0a\",\"VisualId\":\"50ec15fff2b157300ff9\"}]}}],\"cancelQueries\":[],\"modelId\":333663}'"
   ]
  },
  {
   "cell_type": "code",
   "execution_count": 16,
   "metadata": {},
   "outputs": [],
   "source": [
    "headers = {\n",
    "    \"Host\": \"wabi-us-gov-iowa-api.analysis.usgovcloudapi.net\",\n",
    "    \"Connection\": \"keep-alive\",\n",
    "    \"DNT\": \"1\",\n",
    "    \"RequestId\": \"17ef22cc-113e-94c8-ba66-d2691e841d14\",\n",
    "    \"ActivityId\": \"4d457d90-f83b-481b-a7e5-5a4cc7a1c85a\",\n",
    "    \"Accept\": \"application/json, text/plain, */*\",\n",
    "    \"X-PowerBI-ResourceKey\": \"f2e447ca-7ccb-4a1a-a234-683368ca5ce8\",\n",
    "    \"User-Agent\": \"Mozilla/5.0 (Macintosh; Intel Mac OS X 10_15_7) AppleWebKit/537.36 (KHTML, like Gecko) Chrome/94.0.4606.81 Safari/537.36\",\n",
    "    \"Content-Type\": \"application/json;charset=UTF-8\",\n",
    "    \"sec-ch-ua-platform\": \"macOS\",\n",
    "    \"Origin\": \"https://app.powerbigov.us\",\n",
    "    \"Sec-Fetch-Site\": \"cross-site\",\n",
    "    \"Sec-Fetch-Mode\": \"cors\",\n",
    "    \"Sec-Fetch-Dest\": \"empty\",\n",
    "    \"Referer\": \"https://app.powerbigov.us/\",\n",
    "    \"Accept-Encoding\": \"gzip, deflate, br\",\n",
    "    \"Accept-Language\": \"en-US,en;q=0.9,da;q=0.8\",\n",
    "}\n",
    "json_data = json.loads(REQUEST_BODY)"
   ]
  },
  {
   "cell_type": "code",
   "execution_count": 17,
   "metadata": {},
   "outputs": [
    {
     "name": "stderr",
     "output_type": "stream",
     "text": [
      "/Users/pdo/.local/share/virtualenvs/california-coronavirus-scrapers-l_auzzjX/lib/python3.8/site-packages/urllib3/connectionpool.py:1013: InsecureRequestWarning: Unverified HTTPS request is being made to host 'wabi-us-gov-iowa-api.analysis.usgovcloudapi.net'. Adding certificate verification is strongly advised. See: https://urllib3.readthedocs.io/en/1.26.x/advanced-usage.html#ssl-warnings\n",
      "  warnings.warn(\n"
     ]
    }
   ],
   "source": [
    "response = requests.post(\n",
    "    POWER_BI_QUERY_URL,\n",
    "    params=REQUEST_PARAMS,\n",
    "    headers=headers,\n",
    "    json=json_data,\n",
    "    verify=False,\n",
    ")"
   ]
  },
  {
   "cell_type": "code",
   "execution_count": 18,
   "metadata": {},
   "outputs": [],
   "source": [
    "data = response.json()"
   ]
  },
  {
   "cell_type": "code",
   "execution_count": 29,
   "metadata": {},
   "outputs": [
    {
     "data": {
      "text/plain": [
       "{'jobId': 'be956bba-a5f8-4a77-bedc-4be0e15fc757',\n",
       " 'result': {'data': {'descriptor': {'Select': [{'Kind': 1,\n",
       "      'Depth': 0,\n",
       "      'Value': 'G0',\n",
       "      'GroupKeys': [{'Source': {'Entity': 'sde COVID19BYZIPCODES',\n",
       "         'Property': 'zipcode'},\n",
       "        'Calc': 'G0',\n",
       "        'IsSameAsSelect': True}],\n",
       "      'Name': 'sde COVID19BYZIPCODES.zipcode'},\n",
       "     {'Kind': 2,\n",
       "      'Value': 'M0',\n",
       "      'Name': 'Sum(sde COVID19BYZIPCODES.covid_cases)'},\n",
       "     {'Kind': 1,\n",
       "      'SecondaryDepth': 0,\n",
       "      'Value': 'G1',\n",
       "      'Format': '0',\n",
       "      'GroupKeys': [{'Source': {'Entity': 'sde COVID19BYZIPCODES',\n",
       "         'Property': 'Rank_Total (bins)'},\n",
       "        'Calc': 'G1',\n",
       "        'IsSameAsSelect': True}],\n",
       "      'Name': 'sde COVID19BYZIPCODES.Rank_Total (bins)'}],\n",
       "    'Expressions': {'Primary': {'Groupings': [{'Keys': [{'Source': {'Entity': 'sde COVID19BYZIPCODES',\n",
       "           'Property': 'zipcode'},\n",
       "          'Select': 0}],\n",
       "        'Member': 'DM0'}]},\n",
       "     'Secondary': {'Groupings': [{'Keys': [{'Source': {'Entity': 'sde COVID19BYZIPCODES',\n",
       "           'Property': 'Rank_Total (bins)'},\n",
       "          'Select': 2}],\n",
       "        'Member': 'DM1'}]}},\n",
       "    'Limits': {'Primary': {'Id': 'L0', 'Top': {'Count': 301, 'Calc': 'A0'}},\n",
       "     'Secondary': {'Id': 'L1', 'Top': {'Count': 58, 'Calc': 'A1'}},\n",
       "     'Intersection': {'Id': 'L2', 'Top': {'Count': 3500, 'Calc': 'A2'}}},\n",
       "    'Version': 2},\n",
       "   'dsr': {'Version': 2,\n",
       "    'MinorVersion': 1,\n",
       "    'DS': [{'N': 'DS0',\n",
       "      'S': [{'N': 'A0', 'T': 4}, {'N': 'A1', 'T': 4}, {'N': 'A2', 'T': 4}],\n",
       "      'C': [3500, 3500, -1],\n",
       "      'SH': [{'DM1': [{'S': [{'N': 'G1', 'T': 4}], 'G1': 0},\n",
       "         {'G1': 6},\n",
       "         {'G1': 12},\n",
       "         {'G1': 18},\n",
       "         {'G1': 24}]}],\n",
       "      'PH': [{'DM0': [{'S': [{'N': 'G0', 'T': 1}],\n",
       "          'G0': '95355',\n",
       "          'X': [{'S': [{'N': 'M0', 'T': 3}]}, {'I': 4, 'M0': 8402}]},\n",
       "         {'G0': '95351', 'X': [{'I': 4, 'M0': 8165}]},\n",
       "         {'G0': '95307', 'X': [{'I': 4, 'M0': 8008}]},\n",
       "         {'G0': '95350', 'X': [{'I': 3, 'M0': 7797}]},\n",
       "         {'G0': '95380', 'X': [{'I': 3, 'M0': 6423}]},\n",
       "         {'G0': '95382', 'X': [{'I': 3, 'M0': 5761}]},\n",
       "         {'G0': '95358', 'X': [{'I': 3, 'M0': 5303}]},\n",
       "         {'G0': '95356', 'X': [{'I': 3, 'M0': 4637}]},\n",
       "         {'G0': '95361', 'X': [{'I': 3, 'M0': 4260}]},\n",
       "         {'G0': '95363', 'X': [{'I': 2, 'M0': 4163}]},\n",
       "         {'G0': '95354', 'X': [{'I': 2, 'M0': 3973}]},\n",
       "         {'G0': '95367', 'X': [{'I': 2, 'M0': 3972}]},\n",
       "         {'G0': '95368', 'X': [{'I': 2, 'M0': 2165}]},\n",
       "         {'G0': '95357', 'X': [{'I': 2, 'M0': 1872}]},\n",
       "         {'G0': '95360', 'X': [{'I': 2, 'M0': 1844}]},\n",
       "         {'G0': '95326', 'X': [{'I': 1, 'M0': 1410}]},\n",
       "         {'G0': '95386', 'X': [{'I': 1, 'M0': 1368}]},\n",
       "         {'G0': '95316', 'X': [{'I': 1, 'M0': 832}]},\n",
       "         {'G0': '95328', 'X': [{'I': 1, 'M0': 717}]},\n",
       "         {'G0': '95387', 'X': [{'I': 1, 'M0': 220}]},\n",
       "         {'G0': '95323', 'X': [{'I': 1, 'M0': 144}]},\n",
       "         {'G0': '95319', 'X': [{'M0': 115}]},\n",
       "         {'G0': '95313', 'X': [{'M0': 77}]},\n",
       "         {'G0': '95385', 'X': [{'M0': 22}]},\n",
       "         {'G0': '95329', 'X': [{'M0': 18}]},\n",
       "         {'G0': '95230', 'X': [{'M0': 0}]}]}],\n",
       "      'IC': True,\n",
       "      'HAD': True}]}}}}"
      ]
     },
     "execution_count": 29,
     "metadata": {},
     "output_type": "execute_result"
    }
   ],
   "source": [
    "data[\"results\"][0]"
   ]
  },
  {
   "cell_type": "markdown",
   "metadata": {},
   "source": [
    "## Parse"
   ]
  },
  {
   "cell_type": "code",
   "execution_count": 20,
   "metadata": {},
   "outputs": [
    {
     "data": {
      "text/plain": [
       "{'Cache-Control': 'no-store, must-revalidate, no-cache', 'Pragma': 'no-cache', 'Content-Length': '744', 'Content-Type': 'text/plain; charset=utf-8', 'Content-Encoding': 'gzip', 'X-PowerBI-Cache-Age': '3600', 'Strict-Transport-Security': 'max-age=31536000; includeSubDomains', 'X-Frame-Options': 'deny', 'X-Content-Type-Options': 'nosniff', 'RequestId': '17ef22cc-113e-94c8-ba66-d2691e841d14', 'Access-Control-Allow-Origin': '*', 'Access-Control-Expose-Headers': 'requestId,retry-after', 'Date': 'Thu, 21 Oct 2021 22:00:41 GMT'}"
      ]
     },
     "execution_count": 20,
     "metadata": {},
     "output_type": "execute_result"
    }
   ],
   "source": [
    "response.headers"
   ]
  },
  {
   "cell_type": "code",
   "execution_count": 21,
   "metadata": {},
   "outputs": [
    {
     "ename": "KeyError",
     "evalue": "'features'",
     "output_type": "error",
     "traceback": [
      "\u001b[0;31m---------------------------------------------------------------------------\u001b[0m",
      "\u001b[0;31mKeyError\u001b[0m                                  Traceback (most recent call last)",
      "\u001b[0;32m/var/folders/zg/s3c0mlfx5m1_j8yqwn8qn2hm0000gs/T/ipykernel_4043/2576171430.py\u001b[0m in \u001b[0;36m<module>\u001b[0;34m\u001b[0m\n\u001b[0;32m----> 1\u001b[0;31m \u001b[0mcities\u001b[0m \u001b[0;34m=\u001b[0m \u001b[0mdata\u001b[0m\u001b[0;34m[\u001b[0m\u001b[0;34m\"features\"\u001b[0m\u001b[0;34m]\u001b[0m\u001b[0;34m\u001b[0m\u001b[0;34m\u001b[0m\u001b[0m\n\u001b[0m",
      "\u001b[0;31mKeyError\u001b[0m: 'features'"
     ]
    }
   ],
   "source": [
    "cities = data[\"features\"]"
   ]
  },
  {
   "cell_type": "code",
   "execution_count": null,
   "metadata": {},
   "outputs": [],
   "source": [
    "dict_list = []"
   ]
  },
  {
   "cell_type": "code",
   "execution_count": null,
   "metadata": {},
   "outputs": [],
   "source": [
    "for item in cities:\n",
    "    d = dict(item[\"attributes\"])\n",
    "    dict_list.append(d)"
   ]
  },
  {
   "cell_type": "code",
   "execution_count": null,
   "metadata": {},
   "outputs": [],
   "source": [
    "df = pd.DataFrame(dict_list)"
   ]
  },
  {
   "cell_type": "markdown",
   "metadata": {},
   "source": [
    "Rename fields to standardized column headers"
   ]
  },
  {
   "cell_type": "code",
   "execution_count": null,
   "metadata": {},
   "outputs": [],
   "source": [
    "df = df.rename(columns={\"city_district\": \"area\", \"confirmed\": \"confirmed_cases\"})"
   ]
  },
  {
   "cell_type": "markdown",
   "metadata": {},
   "source": [
    "Eliminate unneeded rows"
   ]
  },
  {
   "cell_type": "code",
   "execution_count": null,
   "metadata": {},
   "outputs": [],
   "source": [
    "df = df.filter([\"area\", \"confirmed_cases\"], axis=1).sort_values(\n",
    "    by=\"area\", ascending=True\n",
    ")"
   ]
  },
  {
   "cell_type": "markdown",
   "metadata": {},
   "source": [
    "Drop where confirmed cases is NaN"
   ]
  },
  {
   "cell_type": "code",
   "execution_count": null,
   "metadata": {},
   "outputs": [],
   "source": [
    "df = df.dropna(subset=[\"confirmed_cases\"])"
   ]
  },
  {
   "cell_type": "markdown",
   "metadata": {},
   "source": [
    "Convert `confirmed_cases` column to int from float"
   ]
  },
  {
   "cell_type": "code",
   "execution_count": null,
   "metadata": {},
   "outputs": [],
   "source": [
    "df = df.astype({\"confirmed_cases\": int})"
   ]
  },
  {
   "cell_type": "markdown",
   "metadata": {},
   "source": [
    "Sum districts 1-5 into unincorporated / districts"
   ]
  },
  {
   "cell_type": "code",
   "execution_count": null,
   "metadata": {},
   "outputs": [],
   "source": [
    "total = df[\n",
    "    df[\"area\"].isin(\n",
    "        [\"District 1\", \"District 2\", \"District 3\", \"District 4\", \"District 5\"]\n",
    "    )\n",
    "]"
   ]
  },
  {
   "cell_type": "markdown",
   "metadata": {},
   "source": [
    "Append districts sum row to the dataframe"
   ]
  },
  {
   "cell_type": "code",
   "execution_count": null,
   "metadata": {},
   "outputs": [],
   "source": [
    "new_row = {\n",
    "    \"area\": \"Unincorporated districts\",\n",
    "    \"confirmed_cases\": total[\"confirmed_cases\"].sum(),\n",
    "}\n",
    "df = df.append(new_row, ignore_index=True)"
   ]
  },
  {
   "cell_type": "markdown",
   "metadata": {},
   "source": [
    "Delete District rows"
   ]
  },
  {
   "cell_type": "code",
   "execution_count": null,
   "metadata": {},
   "outputs": [],
   "source": [
    "df.drop(\n",
    "    df[\n",
    "        df[\"area\"].isin(\n",
    "            [\"District 1\", \"District 2\", \"District 3\", \"District 4\", \"District 5\"]\n",
    "        )\n",
    "    ].index,\n",
    "    inplace=True,\n",
    ")"
   ]
  },
  {
   "cell_type": "code",
   "execution_count": null,
   "metadata": {},
   "outputs": [],
   "source": [
    "df = df.reset_index(drop=True)"
   ]
  },
  {
   "cell_type": "markdown",
   "metadata": {},
   "source": [
    "### Adding county column"
   ]
  },
  {
   "cell_type": "code",
   "execution_count": null,
   "metadata": {},
   "outputs": [],
   "source": [
    "df.insert(0, \"county\", \"Stanislaus\")"
   ]
  },
  {
   "cell_type": "markdown",
   "metadata": {},
   "source": [
    "Get county timestamp (using separate feed to extract unix timestamp)"
   ]
  },
  {
   "cell_type": "code",
   "execution_count": null,
   "metadata": {},
   "outputs": [],
   "source": [
    "url_date = \"https://gis2.stancounty.com/arcgis/rest/services/COVID19_Cases_City_Zip_Layer/FeatureServer/0/metadata\"\n",
    "r_date = requests.get(url_date)\n",
    "data_date_bad = BeautifulSoup(r_date.text).find(\"creadate\").text\n",
    "data_date = datetime.strptime(data_date_bad, \"%Y%m%d\").strftime(\"%Y-%m-%d\")\n",
    "# dropping last three digits of unix timestamp, converting to python date\n",
    "feed_date_obj = data_date"
   ]
  },
  {
   "cell_type": "markdown",
   "metadata": {},
   "source": [
    "If separate feed or modified date unavailable, use now for date"
   ]
  },
  {
   "cell_type": "code",
   "execution_count": null,
   "metadata": {},
   "outputs": [],
   "source": [
    "field_date = data_date if data_date else now"
   ]
  },
  {
   "cell_type": "code",
   "execution_count": null,
   "metadata": {},
   "outputs": [],
   "source": [
    "df[\"county_date\"] = pd.to_datetime(field_date).date()"
   ]
  },
  {
   "cell_type": "markdown",
   "metadata": {},
   "source": [
    "## Vet"
   ]
  },
  {
   "cell_type": "code",
   "execution_count": null,
   "metadata": {},
   "outputs": [],
   "source": [
    "default_stan_len = 10"
   ]
  },
  {
   "cell_type": "code",
   "execution_count": null,
   "metadata": {},
   "outputs": [],
   "source": [
    "try:\n",
    "    assert not len(df) < default_stan_len\n",
    "except AssertionError:\n",
    "    raise AssertionError(\n",
    "        \"Stanislaus County scraper: latest spreadsheet entry is missing row(s)\"\n",
    "    )"
   ]
  },
  {
   "cell_type": "code",
   "execution_count": null,
   "metadata": {},
   "outputs": [],
   "source": [
    "try:\n",
    "    assert not len(df) > default_stan_len\n",
    "except AssertionError:\n",
    "    raise AssertionError(\n",
    "        \"Stanislaus County scraper: latest spreadsheet entry has more area(s) than previously reported\"\n",
    "    )"
   ]
  },
  {
   "cell_type": "markdown",
   "metadata": {},
   "source": [
    "## Export"
   ]
  },
  {
   "cell_type": "markdown",
   "metadata": {},
   "source": [
    "Set date"
   ]
  },
  {
   "cell_type": "code",
   "execution_count": null,
   "metadata": {},
   "outputs": [],
   "source": [
    "tz = pytz.timezone(\"America/Los_Angeles\")"
   ]
  },
  {
   "cell_type": "code",
   "execution_count": null,
   "metadata": {},
   "outputs": [],
   "source": [
    "today = datetime.now(tz).date()"
   ]
  },
  {
   "cell_type": "code",
   "execution_count": null,
   "metadata": {},
   "outputs": [],
   "source": [
    "slug = \"stanislaus\""
   ]
  },
  {
   "cell_type": "code",
   "execution_count": null,
   "metadata": {},
   "outputs": [],
   "source": [
    "df.to_csv(data_dir / slug / f\"{today}.csv\", index=False)"
   ]
  },
  {
   "cell_type": "markdown",
   "metadata": {},
   "source": [
    "## Combine"
   ]
  },
  {
   "cell_type": "code",
   "execution_count": null,
   "metadata": {},
   "outputs": [],
   "source": [
    "csv_list = [\n",
    "    i\n",
    "    for i in glob.glob(str(data_dir / slug / \"*.csv\"))\n",
    "    if not str(i).endswith(\"timeseries.csv\")\n",
    "]"
   ]
  },
  {
   "cell_type": "code",
   "execution_count": null,
   "metadata": {},
   "outputs": [],
   "source": [
    "df_list = []\n",
    "for csv in csv_list:\n",
    "    if \"manual\" in csv:\n",
    "        df = pd.read_csv(csv, parse_dates=[\"date\"])\n",
    "    else:\n",
    "        file_date = csv.split(\"/\")[-1].replace(\".csv\", \"\")\n",
    "        df = pd.read_csv(csv, parse_dates=[\"county_date\"])\n",
    "        df[\"date\"] = file_date\n",
    "    df_list.append(df)"
   ]
  },
  {
   "cell_type": "code",
   "execution_count": null,
   "metadata": {},
   "outputs": [],
   "source": [
    "df = pd.concat(df_list).sort_values([\"date\", \"area\"])"
   ]
  },
  {
   "cell_type": "code",
   "execution_count": null,
   "metadata": {},
   "outputs": [],
   "source": [
    "df.to_csv(data_dir / slug / \"timeseries.csv\", index=False)"
   ]
  }
 ],
 "metadata": {
  "kernelspec": {
   "display_name": "Python 3 (ipykernel)",
   "language": "python",
   "name": "python3"
  },
  "language_info": {
   "codemirror_mode": {
    "name": "ipython",
    "version": 3
   },
   "file_extension": ".py",
   "mimetype": "text/x-python",
   "name": "python",
   "nbconvert_exporter": "python",
   "pygments_lexer": "ipython3",
   "version": "3.8.5"
  }
 },
 "nbformat": 4,
 "nbformat_minor": 4
}
