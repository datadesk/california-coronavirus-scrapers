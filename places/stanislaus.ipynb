{
 "cells": [
  {
   "cell_type": "markdown",
   "metadata": {},
   "source": [
    "## Configuration\n",
    "_Initial steps to get the notebook ready to play nice with our repository. Do not delete this section._"
   ]
  },
  {
   "cell_type": "markdown",
   "metadata": {},
   "source": [
    "Code formatting with [black](https://pypi.org/project/nb-black/)."
   ]
  },
  {
   "cell_type": "code",
   "execution_count": 1,
   "metadata": {
    "execution": {
     "iopub.execute_input": "2021-11-20T08:23:13.512644Z",
     "iopub.status.busy": "2021-11-20T08:23:13.511885Z",
     "iopub.status.idle": "2021-11-20T08:23:13.654515Z",
     "shell.execute_reply": "2021-11-20T08:23:13.653856Z"
    }
   },
   "outputs": [],
   "source": [
    "%load_ext lab_black"
   ]
  },
  {
   "cell_type": "code",
   "execution_count": 2,
   "metadata": {
    "execution": {
     "iopub.execute_input": "2021-11-20T08:23:13.659754Z",
     "iopub.status.busy": "2021-11-20T08:23:13.659119Z",
     "iopub.status.idle": "2021-11-20T08:23:13.667347Z",
     "shell.execute_reply": "2021-11-20T08:23:13.667864Z"
    }
   },
   "outputs": [],
   "source": [
    "import os\n",
    "import pytz\n",
    "import glob\n",
    "import pathlib\n",
    "\n",
    "this_dir = pathlib.Path(os.path.abspath(\"\"))\n",
    "data_dir = this_dir / \"data\""
   ]
  },
  {
   "cell_type": "code",
   "execution_count": 3,
   "metadata": {
    "execution": {
     "iopub.execute_input": "2021-11-20T08:23:13.673744Z",
     "iopub.status.busy": "2021-11-20T08:23:13.673140Z",
     "iopub.status.idle": "2021-11-20T08:23:14.114200Z",
     "shell.execute_reply": "2021-11-20T08:23:14.113223Z"
    }
   },
   "outputs": [],
   "source": [
    "import requests\n",
    "import pandas as pd\n",
    "import regex as re\n",
    "import urllib, json\n",
    "from datetime import datetime\n",
    "from bs4 import BeautifulSoup"
   ]
  },
  {
   "cell_type": "markdown",
   "metadata": {},
   "source": [
    "## Download"
   ]
  },
  {
   "cell_type": "markdown",
   "metadata": {},
   "source": [
    "Retrieve the page"
   ]
  },
  {
   "cell_type": "code",
   "execution_count": 4,
   "metadata": {
    "execution": {
     "iopub.execute_input": "2021-11-20T08:23:14.121409Z",
     "iopub.status.busy": "2021-11-20T08:23:14.120290Z",
     "iopub.status.idle": "2021-11-20T08:23:14.123709Z",
     "shell.execute_reply": "2021-11-20T08:23:14.124257Z"
    }
   },
   "outputs": [],
   "source": [
    "url = \"https://gis2.stancounty.com/arcgis/rest/services/COVID19_Cases_City_Zip_Layer/FeatureServer/0/query\""
   ]
  },
  {
   "cell_type": "code",
   "execution_count": 5,
   "metadata": {
    "execution": {
     "iopub.execute_input": "2021-11-20T08:23:14.133236Z",
     "iopub.status.busy": "2021-11-20T08:23:14.129018Z",
     "iopub.status.idle": "2021-11-20T08:25:24.107289Z",
     "shell.execute_reply": "2021-11-20T08:25:24.105301Z"
    }
   },
   "outputs": [
    {
     "ename": "ConnectionError",
     "evalue": "HTTPSConnectionPool(host='gis2.stancounty.com', port=443): Max retries exceeded with url: /arcgis/rest/services/COVID19_Cases_City_Zip_Layer/FeatureServer/0/query?f=json&where=0%3D0&outFields=%2A (Caused by NewConnectionError('<urllib3.connection.HTTPSConnection object at 0x7f1a8e1dfa30>: Failed to establish a new connection: [Errno 110] Connection timed out'))",
     "output_type": "error",
     "traceback": [
      "\u001b[0;31m---------------------------------------------------------------------------\u001b[0m",
      "\u001b[0;31mTimeoutError\u001b[0m                              Traceback (most recent call last)",
      "\u001b[0;32m~/.local/share/virtualenvs/california-coronavirus-scrapers-dxuBXRsm/lib/python3.8/site-packages/urllib3/connection.py\u001b[0m in \u001b[0;36m_new_conn\u001b[0;34m(self)\u001b[0m\n\u001b[1;32m    173\u001b[0m         \u001b[0;32mtry\u001b[0m\u001b[0;34m:\u001b[0m\u001b[0;34m\u001b[0m\u001b[0;34m\u001b[0m\u001b[0m\n\u001b[0;32m--> 174\u001b[0;31m             conn = connection.create_connection(\n\u001b[0m\u001b[1;32m    175\u001b[0m                 \u001b[0;34m(\u001b[0m\u001b[0mself\u001b[0m\u001b[0;34m.\u001b[0m\u001b[0m_dns_host\u001b[0m\u001b[0;34m,\u001b[0m \u001b[0mself\u001b[0m\u001b[0;34m.\u001b[0m\u001b[0mport\u001b[0m\u001b[0;34m)\u001b[0m\u001b[0;34m,\u001b[0m \u001b[0mself\u001b[0m\u001b[0;34m.\u001b[0m\u001b[0mtimeout\u001b[0m\u001b[0;34m,\u001b[0m \u001b[0;34m**\u001b[0m\u001b[0mextra_kw\u001b[0m\u001b[0;34m\u001b[0m\u001b[0;34m\u001b[0m\u001b[0m\n",
      "\u001b[0;32m~/.local/share/virtualenvs/california-coronavirus-scrapers-dxuBXRsm/lib/python3.8/site-packages/urllib3/util/connection.py\u001b[0m in \u001b[0;36mcreate_connection\u001b[0;34m(address, timeout, source_address, socket_options)\u001b[0m\n\u001b[1;32m     95\u001b[0m     \u001b[0;32mif\u001b[0m \u001b[0merr\u001b[0m \u001b[0;32mis\u001b[0m \u001b[0;32mnot\u001b[0m \u001b[0;32mNone\u001b[0m\u001b[0;34m:\u001b[0m\u001b[0;34m\u001b[0m\u001b[0;34m\u001b[0m\u001b[0m\n\u001b[0;32m---> 96\u001b[0;31m         \u001b[0;32mraise\u001b[0m \u001b[0merr\u001b[0m\u001b[0;34m\u001b[0m\u001b[0;34m\u001b[0m\u001b[0m\n\u001b[0m\u001b[1;32m     97\u001b[0m \u001b[0;34m\u001b[0m\u001b[0m\n",
      "\u001b[0;32m~/.local/share/virtualenvs/california-coronavirus-scrapers-dxuBXRsm/lib/python3.8/site-packages/urllib3/util/connection.py\u001b[0m in \u001b[0;36mcreate_connection\u001b[0;34m(address, timeout, source_address, socket_options)\u001b[0m\n\u001b[1;32m     85\u001b[0m                 \u001b[0msock\u001b[0m\u001b[0;34m.\u001b[0m\u001b[0mbind\u001b[0m\u001b[0;34m(\u001b[0m\u001b[0msource_address\u001b[0m\u001b[0;34m)\u001b[0m\u001b[0;34m\u001b[0m\u001b[0;34m\u001b[0m\u001b[0m\n\u001b[0;32m---> 86\u001b[0;31m             \u001b[0msock\u001b[0m\u001b[0;34m.\u001b[0m\u001b[0mconnect\u001b[0m\u001b[0;34m(\u001b[0m\u001b[0msa\u001b[0m\u001b[0;34m)\u001b[0m\u001b[0;34m\u001b[0m\u001b[0;34m\u001b[0m\u001b[0m\n\u001b[0m\u001b[1;32m     87\u001b[0m             \u001b[0;32mreturn\u001b[0m \u001b[0msock\u001b[0m\u001b[0;34m\u001b[0m\u001b[0;34m\u001b[0m\u001b[0m\n",
      "\u001b[0;31mTimeoutError\u001b[0m: [Errno 110] Connection timed out",
      "\nDuring handling of the above exception, another exception occurred:\n",
      "\u001b[0;31mNewConnectionError\u001b[0m                        Traceback (most recent call last)",
      "\u001b[0;32m~/.local/share/virtualenvs/california-coronavirus-scrapers-dxuBXRsm/lib/python3.8/site-packages/urllib3/connectionpool.py\u001b[0m in \u001b[0;36murlopen\u001b[0;34m(self, method, url, body, headers, retries, redirect, assert_same_host, timeout, pool_timeout, release_conn, chunked, body_pos, **response_kw)\u001b[0m\n\u001b[1;32m    698\u001b[0m             \u001b[0;31m# Make the request on the httplib connection object.\u001b[0m\u001b[0;34m\u001b[0m\u001b[0;34m\u001b[0m\u001b[0;34m\u001b[0m\u001b[0m\n\u001b[0;32m--> 699\u001b[0;31m             httplib_response = self._make_request(\n\u001b[0m\u001b[1;32m    700\u001b[0m                 \u001b[0mconn\u001b[0m\u001b[0;34m,\u001b[0m\u001b[0;34m\u001b[0m\u001b[0;34m\u001b[0m\u001b[0m\n",
      "\u001b[0;32m~/.local/share/virtualenvs/california-coronavirus-scrapers-dxuBXRsm/lib/python3.8/site-packages/urllib3/connectionpool.py\u001b[0m in \u001b[0;36m_make_request\u001b[0;34m(self, conn, method, url, timeout, chunked, **httplib_request_kw)\u001b[0m\n\u001b[1;32m    381\u001b[0m         \u001b[0;32mtry\u001b[0m\u001b[0;34m:\u001b[0m\u001b[0;34m\u001b[0m\u001b[0;34m\u001b[0m\u001b[0m\n\u001b[0;32m--> 382\u001b[0;31m             \u001b[0mself\u001b[0m\u001b[0;34m.\u001b[0m\u001b[0m_validate_conn\u001b[0m\u001b[0;34m(\u001b[0m\u001b[0mconn\u001b[0m\u001b[0;34m)\u001b[0m\u001b[0;34m\u001b[0m\u001b[0;34m\u001b[0m\u001b[0m\n\u001b[0m\u001b[1;32m    383\u001b[0m         \u001b[0;32mexcept\u001b[0m \u001b[0;34m(\u001b[0m\u001b[0mSocketTimeout\u001b[0m\u001b[0;34m,\u001b[0m \u001b[0mBaseSSLError\u001b[0m\u001b[0;34m)\u001b[0m \u001b[0;32mas\u001b[0m \u001b[0me\u001b[0m\u001b[0;34m:\u001b[0m\u001b[0;34m\u001b[0m\u001b[0;34m\u001b[0m\u001b[0m\n",
      "\u001b[0;32m~/.local/share/virtualenvs/california-coronavirus-scrapers-dxuBXRsm/lib/python3.8/site-packages/urllib3/connectionpool.py\u001b[0m in \u001b[0;36m_validate_conn\u001b[0;34m(self, conn)\u001b[0m\n\u001b[1;32m   1009\u001b[0m         \u001b[0;32mif\u001b[0m \u001b[0;32mnot\u001b[0m \u001b[0mgetattr\u001b[0m\u001b[0;34m(\u001b[0m\u001b[0mconn\u001b[0m\u001b[0;34m,\u001b[0m \u001b[0;34m\"sock\"\u001b[0m\u001b[0;34m,\u001b[0m \u001b[0;32mNone\u001b[0m\u001b[0;34m)\u001b[0m\u001b[0;34m:\u001b[0m  \u001b[0;31m# AppEngine might not have  `.sock`\u001b[0m\u001b[0;34m\u001b[0m\u001b[0;34m\u001b[0m\u001b[0m\n\u001b[0;32m-> 1010\u001b[0;31m             \u001b[0mconn\u001b[0m\u001b[0;34m.\u001b[0m\u001b[0mconnect\u001b[0m\u001b[0;34m(\u001b[0m\u001b[0;34m)\u001b[0m\u001b[0;34m\u001b[0m\u001b[0;34m\u001b[0m\u001b[0m\n\u001b[0m\u001b[1;32m   1011\u001b[0m \u001b[0;34m\u001b[0m\u001b[0m\n",
      "\u001b[0;32m~/.local/share/virtualenvs/california-coronavirus-scrapers-dxuBXRsm/lib/python3.8/site-packages/urllib3/connection.py\u001b[0m in \u001b[0;36mconnect\u001b[0;34m(self)\u001b[0m\n\u001b[1;32m    357\u001b[0m         \u001b[0;31m# Add certificate verification\u001b[0m\u001b[0;34m\u001b[0m\u001b[0;34m\u001b[0m\u001b[0;34m\u001b[0m\u001b[0m\n\u001b[0;32m--> 358\u001b[0;31m         \u001b[0mconn\u001b[0m \u001b[0;34m=\u001b[0m \u001b[0mself\u001b[0m\u001b[0;34m.\u001b[0m\u001b[0m_new_conn\u001b[0m\u001b[0;34m(\u001b[0m\u001b[0;34m)\u001b[0m\u001b[0;34m\u001b[0m\u001b[0;34m\u001b[0m\u001b[0m\n\u001b[0m\u001b[1;32m    359\u001b[0m         \u001b[0mhostname\u001b[0m \u001b[0;34m=\u001b[0m \u001b[0mself\u001b[0m\u001b[0;34m.\u001b[0m\u001b[0mhost\u001b[0m\u001b[0;34m\u001b[0m\u001b[0;34m\u001b[0m\u001b[0m\n",
      "\u001b[0;32m~/.local/share/virtualenvs/california-coronavirus-scrapers-dxuBXRsm/lib/python3.8/site-packages/urllib3/connection.py\u001b[0m in \u001b[0;36m_new_conn\u001b[0;34m(self)\u001b[0m\n\u001b[1;32m    185\u001b[0m         \u001b[0;32mexcept\u001b[0m \u001b[0mSocketError\u001b[0m \u001b[0;32mas\u001b[0m \u001b[0me\u001b[0m\u001b[0;34m:\u001b[0m\u001b[0;34m\u001b[0m\u001b[0;34m\u001b[0m\u001b[0m\n\u001b[0;32m--> 186\u001b[0;31m             raise NewConnectionError(\n\u001b[0m\u001b[1;32m    187\u001b[0m                 \u001b[0mself\u001b[0m\u001b[0;34m,\u001b[0m \u001b[0;34m\"Failed to establish a new connection: %s\"\u001b[0m \u001b[0;34m%\u001b[0m \u001b[0me\u001b[0m\u001b[0;34m\u001b[0m\u001b[0;34m\u001b[0m\u001b[0m\n",
      "\u001b[0;31mNewConnectionError\u001b[0m: <urllib3.connection.HTTPSConnection object at 0x7f1a8e1dfa30>: Failed to establish a new connection: [Errno 110] Connection timed out",
      "\nDuring handling of the above exception, another exception occurred:\n",
      "\u001b[0;31mMaxRetryError\u001b[0m                             Traceback (most recent call last)",
      "\u001b[0;32m~/.local/share/virtualenvs/california-coronavirus-scrapers-dxuBXRsm/lib/python3.8/site-packages/requests/adapters.py\u001b[0m in \u001b[0;36msend\u001b[0;34m(self, request, stream, timeout, verify, cert, proxies)\u001b[0m\n\u001b[1;32m    438\u001b[0m             \u001b[0;32mif\u001b[0m \u001b[0;32mnot\u001b[0m \u001b[0mchunked\u001b[0m\u001b[0;34m:\u001b[0m\u001b[0;34m\u001b[0m\u001b[0;34m\u001b[0m\u001b[0m\n\u001b[0;32m--> 439\u001b[0;31m                 resp = conn.urlopen(\n\u001b[0m\u001b[1;32m    440\u001b[0m                     \u001b[0mmethod\u001b[0m\u001b[0;34m=\u001b[0m\u001b[0mrequest\u001b[0m\u001b[0;34m.\u001b[0m\u001b[0mmethod\u001b[0m\u001b[0;34m,\u001b[0m\u001b[0;34m\u001b[0m\u001b[0;34m\u001b[0m\u001b[0m\n",
      "\u001b[0;32m~/.local/share/virtualenvs/california-coronavirus-scrapers-dxuBXRsm/lib/python3.8/site-packages/urllib3/connectionpool.py\u001b[0m in \u001b[0;36murlopen\u001b[0;34m(self, method, url, body, headers, retries, redirect, assert_same_host, timeout, pool_timeout, release_conn, chunked, body_pos, **response_kw)\u001b[0m\n\u001b[1;32m    754\u001b[0m \u001b[0;34m\u001b[0m\u001b[0m\n\u001b[0;32m--> 755\u001b[0;31m             retries = retries.increment(\n\u001b[0m\u001b[1;32m    756\u001b[0m                 \u001b[0mmethod\u001b[0m\u001b[0;34m,\u001b[0m \u001b[0murl\u001b[0m\u001b[0;34m,\u001b[0m \u001b[0merror\u001b[0m\u001b[0;34m=\u001b[0m\u001b[0me\u001b[0m\u001b[0;34m,\u001b[0m \u001b[0m_pool\u001b[0m\u001b[0;34m=\u001b[0m\u001b[0mself\u001b[0m\u001b[0;34m,\u001b[0m \u001b[0m_stacktrace\u001b[0m\u001b[0;34m=\u001b[0m\u001b[0msys\u001b[0m\u001b[0;34m.\u001b[0m\u001b[0mexc_info\u001b[0m\u001b[0;34m(\u001b[0m\u001b[0;34m)\u001b[0m\u001b[0;34m[\u001b[0m\u001b[0;36m2\u001b[0m\u001b[0;34m]\u001b[0m\u001b[0;34m\u001b[0m\u001b[0;34m\u001b[0m\u001b[0m\n",
      "\u001b[0;32m~/.local/share/virtualenvs/california-coronavirus-scrapers-dxuBXRsm/lib/python3.8/site-packages/urllib3/util/retry.py\u001b[0m in \u001b[0;36mincrement\u001b[0;34m(self, method, url, response, error, _pool, _stacktrace)\u001b[0m\n\u001b[1;32m    573\u001b[0m         \u001b[0;32mif\u001b[0m \u001b[0mnew_retry\u001b[0m\u001b[0;34m.\u001b[0m\u001b[0mis_exhausted\u001b[0m\u001b[0;34m(\u001b[0m\u001b[0;34m)\u001b[0m\u001b[0;34m:\u001b[0m\u001b[0;34m\u001b[0m\u001b[0;34m\u001b[0m\u001b[0m\n\u001b[0;32m--> 574\u001b[0;31m             \u001b[0;32mraise\u001b[0m \u001b[0mMaxRetryError\u001b[0m\u001b[0;34m(\u001b[0m\u001b[0m_pool\u001b[0m\u001b[0;34m,\u001b[0m \u001b[0murl\u001b[0m\u001b[0;34m,\u001b[0m \u001b[0merror\u001b[0m \u001b[0;32mor\u001b[0m \u001b[0mResponseError\u001b[0m\u001b[0;34m(\u001b[0m\u001b[0mcause\u001b[0m\u001b[0;34m)\u001b[0m\u001b[0;34m)\u001b[0m\u001b[0;34m\u001b[0m\u001b[0;34m\u001b[0m\u001b[0m\n\u001b[0m\u001b[1;32m    575\u001b[0m \u001b[0;34m\u001b[0m\u001b[0m\n",
      "\u001b[0;31mMaxRetryError\u001b[0m: HTTPSConnectionPool(host='gis2.stancounty.com', port=443): Max retries exceeded with url: /arcgis/rest/services/COVID19_Cases_City_Zip_Layer/FeatureServer/0/query?f=json&where=0%3D0&outFields=%2A (Caused by NewConnectionError('<urllib3.connection.HTTPSConnection object at 0x7f1a8e1dfa30>: Failed to establish a new connection: [Errno 110] Connection timed out'))",
      "\nDuring handling of the above exception, another exception occurred:\n",
      "\u001b[0;31mConnectionError\u001b[0m                           Traceback (most recent call last)",
      "\u001b[0;32m/tmp/ipykernel_3881/2960803097.py\u001b[0m in \u001b[0;36m<module>\u001b[0;34m\u001b[0m\n\u001b[1;32m      1\u001b[0m \u001b[0mparams\u001b[0m \u001b[0;34m=\u001b[0m \u001b[0mdict\u001b[0m\u001b[0;34m(\u001b[0m\u001b[0mf\u001b[0m\u001b[0;34m=\u001b[0m\u001b[0;34m\"json\"\u001b[0m\u001b[0;34m,\u001b[0m \u001b[0mwhere\u001b[0m\u001b[0;34m=\u001b[0m\u001b[0;34m\"0=0\"\u001b[0m\u001b[0;34m,\u001b[0m \u001b[0moutFields\u001b[0m\u001b[0;34m=\u001b[0m\u001b[0;34m\"*\"\u001b[0m\u001b[0;34m)\u001b[0m\u001b[0;34m\u001b[0m\u001b[0;34m\u001b[0m\u001b[0m\n\u001b[1;32m      2\u001b[0m \u001b[0msession\u001b[0m \u001b[0;34m=\u001b[0m \u001b[0mrequests\u001b[0m\u001b[0;34m.\u001b[0m\u001b[0mSession\u001b[0m\u001b[0;34m(\u001b[0m\u001b[0;34m)\u001b[0m\u001b[0;34m\u001b[0m\u001b[0;34m\u001b[0m\u001b[0m\n\u001b[0;32m----> 3\u001b[0;31m \u001b[0mr\u001b[0m \u001b[0;34m=\u001b[0m \u001b[0msession\u001b[0m\u001b[0;34m.\u001b[0m\u001b[0mget\u001b[0m\u001b[0;34m(\u001b[0m\u001b[0murl\u001b[0m\u001b[0;34m,\u001b[0m \u001b[0mheaders\u001b[0m\u001b[0;34m=\u001b[0m\u001b[0;34m{\u001b[0m\u001b[0;34m\"User-Agent\"\u001b[0m\u001b[0;34m:\u001b[0m \u001b[0;34m\"Mozilla/5.0\"\u001b[0m\u001b[0;34m}\u001b[0m\u001b[0;34m,\u001b[0m \u001b[0mparams\u001b[0m\u001b[0;34m=\u001b[0m\u001b[0mparams\u001b[0m\u001b[0;34m)\u001b[0m\u001b[0;34m\u001b[0m\u001b[0;34m\u001b[0m\u001b[0m\n\u001b[0m",
      "\u001b[0;32m~/.local/share/virtualenvs/california-coronavirus-scrapers-dxuBXRsm/lib/python3.8/site-packages/requests/sessions.py\u001b[0m in \u001b[0;36mget\u001b[0;34m(self, url, **kwargs)\u001b[0m\n\u001b[1;32m    553\u001b[0m \u001b[0;34m\u001b[0m\u001b[0m\n\u001b[1;32m    554\u001b[0m         \u001b[0mkwargs\u001b[0m\u001b[0;34m.\u001b[0m\u001b[0msetdefault\u001b[0m\u001b[0;34m(\u001b[0m\u001b[0;34m'allow_redirects'\u001b[0m\u001b[0;34m,\u001b[0m \u001b[0;32mTrue\u001b[0m\u001b[0;34m)\u001b[0m\u001b[0;34m\u001b[0m\u001b[0;34m\u001b[0m\u001b[0m\n\u001b[0;32m--> 555\u001b[0;31m         \u001b[0;32mreturn\u001b[0m \u001b[0mself\u001b[0m\u001b[0;34m.\u001b[0m\u001b[0mrequest\u001b[0m\u001b[0;34m(\u001b[0m\u001b[0;34m'GET'\u001b[0m\u001b[0;34m,\u001b[0m \u001b[0murl\u001b[0m\u001b[0;34m,\u001b[0m \u001b[0;34m**\u001b[0m\u001b[0mkwargs\u001b[0m\u001b[0;34m)\u001b[0m\u001b[0;34m\u001b[0m\u001b[0;34m\u001b[0m\u001b[0m\n\u001b[0m\u001b[1;32m    556\u001b[0m \u001b[0;34m\u001b[0m\u001b[0m\n\u001b[1;32m    557\u001b[0m     \u001b[0;32mdef\u001b[0m \u001b[0moptions\u001b[0m\u001b[0;34m(\u001b[0m\u001b[0mself\u001b[0m\u001b[0;34m,\u001b[0m \u001b[0murl\u001b[0m\u001b[0;34m,\u001b[0m \u001b[0;34m**\u001b[0m\u001b[0mkwargs\u001b[0m\u001b[0;34m)\u001b[0m\u001b[0;34m:\u001b[0m\u001b[0;34m\u001b[0m\u001b[0;34m\u001b[0m\u001b[0m\n",
      "\u001b[0;32m~/.local/share/virtualenvs/california-coronavirus-scrapers-dxuBXRsm/lib/python3.8/site-packages/requests/sessions.py\u001b[0m in \u001b[0;36mrequest\u001b[0;34m(self, method, url, params, data, headers, cookies, files, auth, timeout, allow_redirects, proxies, hooks, stream, verify, cert, json)\u001b[0m\n\u001b[1;32m    540\u001b[0m         }\n\u001b[1;32m    541\u001b[0m         \u001b[0msend_kwargs\u001b[0m\u001b[0;34m.\u001b[0m\u001b[0mupdate\u001b[0m\u001b[0;34m(\u001b[0m\u001b[0msettings\u001b[0m\u001b[0;34m)\u001b[0m\u001b[0;34m\u001b[0m\u001b[0;34m\u001b[0m\u001b[0m\n\u001b[0;32m--> 542\u001b[0;31m         \u001b[0mresp\u001b[0m \u001b[0;34m=\u001b[0m \u001b[0mself\u001b[0m\u001b[0;34m.\u001b[0m\u001b[0msend\u001b[0m\u001b[0;34m(\u001b[0m\u001b[0mprep\u001b[0m\u001b[0;34m,\u001b[0m \u001b[0;34m**\u001b[0m\u001b[0msend_kwargs\u001b[0m\u001b[0;34m)\u001b[0m\u001b[0;34m\u001b[0m\u001b[0;34m\u001b[0m\u001b[0m\n\u001b[0m\u001b[1;32m    543\u001b[0m \u001b[0;34m\u001b[0m\u001b[0m\n\u001b[1;32m    544\u001b[0m         \u001b[0;32mreturn\u001b[0m \u001b[0mresp\u001b[0m\u001b[0;34m\u001b[0m\u001b[0;34m\u001b[0m\u001b[0m\n",
      "\u001b[0;32m~/.local/share/virtualenvs/california-coronavirus-scrapers-dxuBXRsm/lib/python3.8/site-packages/requests/sessions.py\u001b[0m in \u001b[0;36msend\u001b[0;34m(self, request, **kwargs)\u001b[0m\n\u001b[1;32m    653\u001b[0m \u001b[0;34m\u001b[0m\u001b[0m\n\u001b[1;32m    654\u001b[0m         \u001b[0;31m# Send the request\u001b[0m\u001b[0;34m\u001b[0m\u001b[0;34m\u001b[0m\u001b[0;34m\u001b[0m\u001b[0m\n\u001b[0;32m--> 655\u001b[0;31m         \u001b[0mr\u001b[0m \u001b[0;34m=\u001b[0m \u001b[0madapter\u001b[0m\u001b[0;34m.\u001b[0m\u001b[0msend\u001b[0m\u001b[0;34m(\u001b[0m\u001b[0mrequest\u001b[0m\u001b[0;34m,\u001b[0m \u001b[0;34m**\u001b[0m\u001b[0mkwargs\u001b[0m\u001b[0;34m)\u001b[0m\u001b[0;34m\u001b[0m\u001b[0;34m\u001b[0m\u001b[0m\n\u001b[0m\u001b[1;32m    656\u001b[0m \u001b[0;34m\u001b[0m\u001b[0m\n\u001b[1;32m    657\u001b[0m         \u001b[0;31m# Total elapsed time of the request (approximately)\u001b[0m\u001b[0;34m\u001b[0m\u001b[0;34m\u001b[0m\u001b[0;34m\u001b[0m\u001b[0m\n",
      "\u001b[0;32m~/.local/share/virtualenvs/california-coronavirus-scrapers-dxuBXRsm/lib/python3.8/site-packages/requests/adapters.py\u001b[0m in \u001b[0;36msend\u001b[0;34m(self, request, stream, timeout, verify, cert, proxies)\u001b[0m\n\u001b[1;32m    514\u001b[0m                 \u001b[0;32mraise\u001b[0m \u001b[0mSSLError\u001b[0m\u001b[0;34m(\u001b[0m\u001b[0me\u001b[0m\u001b[0;34m,\u001b[0m \u001b[0mrequest\u001b[0m\u001b[0;34m=\u001b[0m\u001b[0mrequest\u001b[0m\u001b[0;34m)\u001b[0m\u001b[0;34m\u001b[0m\u001b[0;34m\u001b[0m\u001b[0m\n\u001b[1;32m    515\u001b[0m \u001b[0;34m\u001b[0m\u001b[0m\n\u001b[0;32m--> 516\u001b[0;31m             \u001b[0;32mraise\u001b[0m \u001b[0mConnectionError\u001b[0m\u001b[0;34m(\u001b[0m\u001b[0me\u001b[0m\u001b[0;34m,\u001b[0m \u001b[0mrequest\u001b[0m\u001b[0;34m=\u001b[0m\u001b[0mrequest\u001b[0m\u001b[0;34m)\u001b[0m\u001b[0;34m\u001b[0m\u001b[0;34m\u001b[0m\u001b[0m\n\u001b[0m\u001b[1;32m    517\u001b[0m \u001b[0;34m\u001b[0m\u001b[0m\n\u001b[1;32m    518\u001b[0m         \u001b[0;32mexcept\u001b[0m \u001b[0mClosedPoolError\u001b[0m \u001b[0;32mas\u001b[0m \u001b[0me\u001b[0m\u001b[0;34m:\u001b[0m\u001b[0;34m\u001b[0m\u001b[0;34m\u001b[0m\u001b[0m\n",
      "\u001b[0;31mConnectionError\u001b[0m: HTTPSConnectionPool(host='gis2.stancounty.com', port=443): Max retries exceeded with url: /arcgis/rest/services/COVID19_Cases_City_Zip_Layer/FeatureServer/0/query?f=json&where=0%3D0&outFields=%2A (Caused by NewConnectionError('<urllib3.connection.HTTPSConnection object at 0x7f1a8e1dfa30>: Failed to establish a new connection: [Errno 110] Connection timed out'))"
     ]
    }
   ],
   "source": [
    "params = dict(f=\"json\", where=\"0=0\", outFields=\"*\")\n",
    "session = requests.Session()\n",
    "r = session.get(url, headers={\"User-Agent\": \"Mozilla/5.0\"}, params=params)"
   ]
  },
  {
   "cell_type": "code",
   "execution_count": 6,
   "metadata": {},
   "outputs": [],
   "source": [
    "data = r.json()"
   ]
  },
  {
   "cell_type": "code",
   "execution_count": 7,
   "metadata": {},
   "outputs": [
    {
     "data": {
      "text/plain": [
       "{'objectIdFieldName': 'OBJECTID',\n",
       " 'globalIdFieldName': '',\n",
       " 'geometryType': 'esriGeometryPoint',\n",
       " 'spatialReference': {'wkid': 4326, 'latestWkid': 4326},\n",
       " 'fields': [{'name': 'OBJECTID',\n",
       "   'alias': 'OBJECTID',\n",
       "   'type': 'esriFieldTypeOID'},\n",
       "  {'name': 'address',\n",
       "   'alias': 'Address',\n",
       "   'type': 'esriFieldTypeString',\n",
       "   'length': 255},\n",
       "  {'name': 'city',\n",
       "   'alias': 'City',\n",
       "   'type': 'esriFieldTypeString',\n",
       "   'length': 255},\n",
       "  {'name': 'zipcode',\n",
       "   'alias': 'ZipCode',\n",
       "   'type': 'esriFieldTypeString',\n",
       "   'length': 255},\n",
       "  {'name': 'gender',\n",
       "   'alias': 'Gender',\n",
       "   'type': 'esriFieldTypeString',\n",
       "   'length': 20},\n",
       "  {'name': 'age_group',\n",
       "   'alias': 'Age Group',\n",
       "   'type': 'esriFieldTypeString',\n",
       "   'length': 256},\n",
       "  {'name': 'city_county',\n",
       "   'alias': 'City or County',\n",
       "   'type': 'esriFieldTypeString',\n",
       "   'length': 256},\n",
       "  {'name': 'transmission',\n",
       "   'alias': 'Transmission',\n",
       "   'type': 'esriFieldTypeString',\n",
       "   'length': 50},\n",
       "  {'name': 'cal_redie', 'alias': 'Cal REDIE#', 'type': 'esriFieldTypeInteger'},\n",
       "  {'name': 'age_range',\n",
       "   'alias': 'Age Ranges',\n",
       "   'type': 'esriFieldTypeString',\n",
       "   'length': 50},\n",
       "  {'name': 'POINT_X', 'alias': 'POINT_X', 'type': 'esriFieldTypeDouble'},\n",
       "  {'name': 'POINT_Y', 'alias': 'POINT_Y', 'type': 'esriFieldTypeDouble'},\n",
       "  {'name': 'POINT_Z', 'alias': 'POINT_Z', 'type': 'esriFieldTypeDouble'},\n",
       "  {'name': 'city_district',\n",
       "   'alias': 'City or District',\n",
       "   'type': 'esriFieldTypeString',\n",
       "   'length': 60},\n",
       "  {'name': 'rstatus',\n",
       "   'alias': 'rstatus',\n",
       "   'type': 'esriFieldTypeString',\n",
       "   'length': 30},\n",
       "  {'name': 'confirmed', 'alias': 'Confrimed', 'type': 'esriFieldTypeInteger'},\n",
       "  {'name': 'probable', 'alias': 'Probable', 'type': 'esriFieldTypeInteger'},\n",
       "  {'name': 'confirmed_30_days',\n",
       "   'alias': 'Confirmed Last 30 Days',\n",
       "   'type': 'esriFieldTypeInteger'},\n",
       "  {'name': 'probable_30_days',\n",
       "   'alias': 'Probable Last 30 Days',\n",
       "   'type': 'esriFieldTypeInteger'},\n",
       "  {'name': 'deaths', 'alias': 'Deaths', 'type': 'esriFieldTypeInteger'}],\n",
       " 'features': [{'attributes': {'OBJECTID': 1,\n",
       "    'address': None,\n",
       "    'city': None,\n",
       "    'zipcode': None,\n",
       "    'gender': None,\n",
       "    'age_group': None,\n",
       "    'city_county': None,\n",
       "    'transmission': None,\n",
       "    'cal_redie': None,\n",
       "    'age_range': None,\n",
       "    'POINT_X': None,\n",
       "    'POINT_Y': None,\n",
       "    'POINT_Z': None,\n",
       "    'city_district': 'Ceres',\n",
       "    'rstatus': None,\n",
       "    'confirmed': 7772,\n",
       "    'probable': 1290,\n",
       "    'confirmed_30_days': 416,\n",
       "    'probable_30_days': 88,\n",
       "    'deaths': 103},\n",
       "   'geometry': {'x': 'NaN', 'y': 'NaN'}},\n",
       "  {'attributes': {'OBJECTID': 2,\n",
       "    'address': None,\n",
       "    'city': None,\n",
       "    'zipcode': None,\n",
       "    'gender': None,\n",
       "    'age_group': None,\n",
       "    'city_county': None,\n",
       "    'transmission': None,\n",
       "    'cal_redie': None,\n",
       "    'age_range': None,\n",
       "    'POINT_X': None,\n",
       "    'POINT_Y': None,\n",
       "    'POINT_Z': None,\n",
       "    'city_district': 'District 1',\n",
       "    'rstatus': None,\n",
       "    'confirmed': 1953,\n",
       "    'probable': 295,\n",
       "    'confirmed_30_days': 130,\n",
       "    'probable_30_days': 19,\n",
       "    'deaths': 39},\n",
       "   'geometry': {'x': 'NaN', 'y': 'NaN'}},\n",
       "  {'attributes': {'OBJECTID': 3,\n",
       "    'address': None,\n",
       "    'city': None,\n",
       "    'zipcode': None,\n",
       "    'gender': None,\n",
       "    'age_group': None,\n",
       "    'city_county': None,\n",
       "    'transmission': None,\n",
       "    'cal_redie': None,\n",
       "    'age_range': None,\n",
       "    'POINT_X': None,\n",
       "    'POINT_Y': None,\n",
       "    'POINT_Z': None,\n",
       "    'city_district': 'District 2',\n",
       "    'rstatus': None,\n",
       "    'confirmed': 3148,\n",
       "    'probable': 572,\n",
       "    'confirmed_30_days': 169,\n",
       "    'probable_30_days': 90,\n",
       "    'deaths': 49},\n",
       "   'geometry': {'x': 'NaN', 'y': 'NaN'}},\n",
       "  {'attributes': {'OBJECTID': 4,\n",
       "    'address': None,\n",
       "    'city': None,\n",
       "    'zipcode': None,\n",
       "    'gender': None,\n",
       "    'age_group': None,\n",
       "    'city_county': None,\n",
       "    'transmission': None,\n",
       "    'cal_redie': None,\n",
       "    'age_range': None,\n",
       "    'POINT_X': None,\n",
       "    'POINT_Y': None,\n",
       "    'POINT_Z': None,\n",
       "    'city_district': 'District 3',\n",
       "    'rstatus': None,\n",
       "    'confirmed': 3991,\n",
       "    'probable': 367,\n",
       "    'confirmed_30_days': 187,\n",
       "    'probable_30_days': 24,\n",
       "    'deaths': 78},\n",
       "   'geometry': {'x': 'NaN', 'y': 'NaN'}},\n",
       "  {'attributes': {'OBJECTID': 5,\n",
       "    'address': None,\n",
       "    'city': None,\n",
       "    'zipcode': None,\n",
       "    'gender': None,\n",
       "    'age_group': None,\n",
       "    'city_county': None,\n",
       "    'transmission': None,\n",
       "    'cal_redie': None,\n",
       "    'age_range': None,\n",
       "    'POINT_X': None,\n",
       "    'POINT_Y': None,\n",
       "    'POINT_Z': None,\n",
       "    'city_district': 'District 4',\n",
       "    'rstatus': None,\n",
       "    'confirmed': 651,\n",
       "    'probable': 100,\n",
       "    'confirmed_30_days': 42,\n",
       "    'probable_30_days': 3,\n",
       "    'deaths': 14},\n",
       "   'geometry': {'x': 'NaN', 'y': 'NaN'}},\n",
       "  {'attributes': {'OBJECTID': 6,\n",
       "    'address': None,\n",
       "    'city': None,\n",
       "    'zipcode': None,\n",
       "    'gender': None,\n",
       "    'age_group': None,\n",
       "    'city_county': None,\n",
       "    'transmission': None,\n",
       "    'cal_redie': None,\n",
       "    'age_range': None,\n",
       "    'POINT_X': None,\n",
       "    'POINT_Y': None,\n",
       "    'POINT_Z': None,\n",
       "    'city_district': 'District 5',\n",
       "    'rstatus': None,\n",
       "    'confirmed': 3440,\n",
       "    'probable': 449,\n",
       "    'confirmed_30_days': 189,\n",
       "    'probable_30_days': 30,\n",
       "    'deaths': 53},\n",
       "   'geometry': {'x': 'NaN', 'y': 'NaN'}},\n",
       "  {'attributes': {'OBJECTID': 7,\n",
       "    'address': None,\n",
       "    'city': None,\n",
       "    'zipcode': None,\n",
       "    'gender': None,\n",
       "    'age_group': None,\n",
       "    'city_county': None,\n",
       "    'transmission': None,\n",
       "    'cal_redie': None,\n",
       "    'age_range': None,\n",
       "    'POINT_X': None,\n",
       "    'POINT_Y': None,\n",
       "    'POINT_Z': None,\n",
       "    'city_district': 'Hughson',\n",
       "    'rstatus': None,\n",
       "    'confirmed': 883,\n",
       "    'probable': 210,\n",
       "    'confirmed_30_days': 40,\n",
       "    'probable_30_days': 31,\n",
       "    'deaths': 18},\n",
       "   'geometry': {'x': 'NaN', 'y': 'NaN'}},\n",
       "  {'attributes': {'OBJECTID': 8,\n",
       "    'address': None,\n",
       "    'city': None,\n",
       "    'zipcode': None,\n",
       "    'gender': None,\n",
       "    'age_group': None,\n",
       "    'city_county': None,\n",
       "    'transmission': None,\n",
       "    'cal_redie': None,\n",
       "    'age_range': None,\n",
       "    'POINT_X': None,\n",
       "    'POINT_Y': None,\n",
       "    'POINT_Z': None,\n",
       "    'city_district': 'Modesto',\n",
       "    'rstatus': None,\n",
       "    'confirmed': 29350,\n",
       "    'probable': 2661,\n",
       "    'confirmed_30_days': 1573,\n",
       "    'probable_30_days': 129,\n",
       "    'deaths': 583},\n",
       "   'geometry': {'x': 'NaN', 'y': 'NaN'}},\n",
       "  {'attributes': {'OBJECTID': 9,\n",
       "    'address': None,\n",
       "    'city': None,\n",
       "    'zipcode': None,\n",
       "    'gender': None,\n",
       "    'age_group': None,\n",
       "    'city_county': None,\n",
       "    'transmission': None,\n",
       "    'cal_redie': None,\n",
       "    'age_range': None,\n",
       "    'POINT_X': None,\n",
       "    'POINT_Y': None,\n",
       "    'POINT_Z': None,\n",
       "    'city_district': 'Newman',\n",
       "    'rstatus': None,\n",
       "    'confirmed': 1558,\n",
       "    'probable': 170,\n",
       "    'confirmed_30_days': 71,\n",
       "    'probable_30_days': 12,\n",
       "    'deaths': 29},\n",
       "   'geometry': {'x': 'NaN', 'y': 'NaN'}},\n",
       "  {'attributes': {'OBJECTID': 10,\n",
       "    'address': None,\n",
       "    'city': None,\n",
       "    'zipcode': None,\n",
       "    'gender': None,\n",
       "    'age_group': None,\n",
       "    'city_county': None,\n",
       "    'transmission': None,\n",
       "    'cal_redie': None,\n",
       "    'age_range': None,\n",
       "    'POINT_X': None,\n",
       "    'POINT_Y': None,\n",
       "    'POINT_Z': None,\n",
       "    'city_district': 'Oakdale',\n",
       "    'rstatus': None,\n",
       "    'confirmed': 2708,\n",
       "    'probable': 483,\n",
       "    'confirmed_30_days': 143,\n",
       "    'probable_30_days': 28,\n",
       "    'deaths': 31},\n",
       "   'geometry': {'x': 'NaN', 'y': 'NaN'}},\n",
       "  {'attributes': {'OBJECTID': 11,\n",
       "    'address': None,\n",
       "    'city': None,\n",
       "    'zipcode': None,\n",
       "    'gender': None,\n",
       "    'age_group': None,\n",
       "    'city_county': None,\n",
       "    'transmission': None,\n",
       "    'cal_redie': None,\n",
       "    'age_range': None,\n",
       "    'POINT_X': None,\n",
       "    'POINT_Y': None,\n",
       "    'POINT_Z': None,\n",
       "    'city_district': 'Patterson',\n",
       "    'rstatus': None,\n",
       "    'confirmed': 3289,\n",
       "    'probable': 447,\n",
       "    'confirmed_30_days': 86,\n",
       "    'probable_30_days': 14,\n",
       "    'deaths': 45},\n",
       "   'geometry': {'x': 'NaN', 'y': 'NaN'}},\n",
       "  {'attributes': {'OBJECTID': 12,\n",
       "    'address': None,\n",
       "    'city': None,\n",
       "    'zipcode': None,\n",
       "    'gender': None,\n",
       "    'age_group': None,\n",
       "    'city_county': None,\n",
       "    'transmission': None,\n",
       "    'cal_redie': None,\n",
       "    'age_range': None,\n",
       "    'POINT_X': None,\n",
       "    'POINT_Y': None,\n",
       "    'POINT_Z': None,\n",
       "    'city_district': 'Riverbank',\n",
       "    'rstatus': None,\n",
       "    'confirmed': 3554,\n",
       "    'probable': 403,\n",
       "    'confirmed_30_days': 166,\n",
       "    'probable_30_days': 36,\n",
       "    'deaths': 57},\n",
       "   'geometry': {'x': 'NaN', 'y': 'NaN'}},\n",
       "  {'attributes': {'OBJECTID': 13,\n",
       "    'address': None,\n",
       "    'city': None,\n",
       "    'zipcode': None,\n",
       "    'gender': None,\n",
       "    'age_group': None,\n",
       "    'city_county': None,\n",
       "    'transmission': None,\n",
       "    'cal_redie': None,\n",
       "    'age_range': None,\n",
       "    'POINT_X': None,\n",
       "    'POINT_Y': None,\n",
       "    'POINT_Z': None,\n",
       "    'city_district': 'Turlock',\n",
       "    'rstatus': None,\n",
       "    'confirmed': 10051,\n",
       "    'probable': 1255,\n",
       "    'confirmed_30_days': 499,\n",
       "    'probable_30_days': 202,\n",
       "    'deaths': 192},\n",
       "   'geometry': {'x': 'NaN', 'y': 'NaN'}},\n",
       "  {'attributes': {'OBJECTID': 14,\n",
       "    'address': None,\n",
       "    'city': None,\n",
       "    'zipcode': None,\n",
       "    'gender': None,\n",
       "    'age_group': None,\n",
       "    'city_county': None,\n",
       "    'transmission': None,\n",
       "    'cal_redie': None,\n",
       "    'age_range': None,\n",
       "    'POINT_X': None,\n",
       "    'POINT_Y': None,\n",
       "    'POINT_Z': None,\n",
       "    'city_district': 'Waterford',\n",
       "    'rstatus': None,\n",
       "    'confirmed': 1068,\n",
       "    'probable': 152,\n",
       "    'confirmed_30_days': 54,\n",
       "    'probable_30_days': 14,\n",
       "    'deaths': 14},\n",
       "   'geometry': {'x': 'NaN', 'y': 'NaN'}}]}"
      ]
     },
     "execution_count": 7,
     "metadata": {},
     "output_type": "execute_result"
    }
   ],
   "source": [
    "data"
   ]
  },
  {
   "cell_type": "markdown",
   "metadata": {},
   "source": [
    "## Parse"
   ]
  },
  {
   "cell_type": "code",
   "execution_count": 8,
   "metadata": {},
   "outputs": [],
   "source": [
    "cities = data[\"features\"]"
   ]
  },
  {
   "cell_type": "code",
   "execution_count": 9,
   "metadata": {},
   "outputs": [],
   "source": [
    "dict_list = []"
   ]
  },
  {
   "cell_type": "code",
   "execution_count": 10,
   "metadata": {},
   "outputs": [],
   "source": [
    "for item in cities:\n",
    "    d = dict(item[\"attributes\"])\n",
    "    dict_list.append(d)"
   ]
  },
  {
   "cell_type": "code",
   "execution_count": 11,
   "metadata": {},
   "outputs": [],
   "source": [
    "df = pd.DataFrame(dict_list)"
   ]
  },
  {
   "cell_type": "markdown",
   "metadata": {},
   "source": [
    "Rename fields to standardized column headers"
   ]
  },
  {
   "cell_type": "code",
   "execution_count": 12,
   "metadata": {},
   "outputs": [],
   "source": [
    "df = df.rename(columns={\"city_district\": \"area\", \"confirmed\": \"confirmed_cases\"})"
   ]
  },
  {
   "cell_type": "markdown",
   "metadata": {},
   "source": [
    "Eliminate unneeded rows"
   ]
  },
  {
   "cell_type": "code",
   "execution_count": 13,
   "metadata": {},
   "outputs": [],
   "source": [
    "df = df.filter([\"area\", \"confirmed_cases\"], axis=1).sort_values(\n",
    "    by=\"area\", ascending=True\n",
    ")"
   ]
  },
  {
   "cell_type": "markdown",
   "metadata": {},
   "source": [
    "Drop where confirmed cases is NaN"
   ]
  },
  {
   "cell_type": "code",
   "execution_count": 14,
   "metadata": {},
   "outputs": [],
   "source": [
    "df = df.dropna(subset=[\"confirmed_cases\"])"
   ]
  },
  {
   "cell_type": "markdown",
   "metadata": {},
   "source": [
    "Convert `confirmed_cases` column to int from float"
   ]
  },
  {
   "cell_type": "code",
   "execution_count": 15,
   "metadata": {},
   "outputs": [],
   "source": [
    "df = df.astype({\"confirmed_cases\": int})"
   ]
  },
  {
   "cell_type": "markdown",
   "metadata": {},
   "source": [
    "Sum districts 1-5 into unincorporated / districts"
   ]
  },
  {
   "cell_type": "code",
   "execution_count": 16,
   "metadata": {},
   "outputs": [],
   "source": [
    "total = df[\n",
    "    df[\"area\"].isin(\n",
    "        [\"District 1\", \"District 2\", \"District 3\", \"District 4\", \"District 5\"]\n",
    "    )\n",
    "]"
   ]
  },
  {
   "cell_type": "markdown",
   "metadata": {},
   "source": [
    "Append districts sum row to the dataframe"
   ]
  },
  {
   "cell_type": "code",
   "execution_count": 17,
   "metadata": {},
   "outputs": [],
   "source": [
    "new_row = {\n",
    "    \"area\": \"Unincorporated districts\",\n",
    "    \"confirmed_cases\": total[\"confirmed_cases\"].sum(),\n",
    "}\n",
    "df = df.append(new_row, ignore_index=True)"
   ]
  },
  {
   "cell_type": "markdown",
   "metadata": {},
   "source": [
    "Delete District rows"
   ]
  },
  {
   "cell_type": "code",
   "execution_count": 18,
   "metadata": {},
   "outputs": [],
   "source": [
    "df.drop(\n",
    "    df[\n",
    "        df[\"area\"].isin(\n",
    "            [\"District 1\", \"District 2\", \"District 3\", \"District 4\", \"District 5\"]\n",
    "        )\n",
    "    ].index,\n",
    "    inplace=True,\n",
    ")"
   ]
  },
  {
   "cell_type": "code",
   "execution_count": 19,
   "metadata": {},
   "outputs": [],
   "source": [
    "df = df.reset_index(drop=True)"
   ]
  },
  {
   "cell_type": "markdown",
   "metadata": {},
   "source": [
    "### Adding county column"
   ]
  },
  {
   "cell_type": "code",
   "execution_count": 20,
   "metadata": {},
   "outputs": [],
   "source": [
    "df.insert(0, \"county\", \"Stanislaus\")"
   ]
  },
  {
   "cell_type": "markdown",
   "metadata": {},
   "source": [
    "Get county timestamp (using separate feed to extract unix timestamp)"
   ]
  },
  {
   "cell_type": "code",
   "execution_count": 21,
   "metadata": {},
   "outputs": [],
   "source": [
    "url_date = \"https://gis2.stancounty.com/arcgis/rest/services/COVID19_Cases_City_Zip_Layer/FeatureServer/0/metadata\"\n",
    "r_date = requests.get(url_date)\n",
    "data_date_bad = BeautifulSoup(r_date.text).find(\"creadate\").text\n",
    "data_date = datetime.strptime(data_date_bad, \"%Y%m%d\").strftime(\"%Y-%m-%d\")\n",
    "# dropping last three digits of unix timestamp, converting to python date\n",
    "feed_date_obj = data_date"
   ]
  },
  {
   "cell_type": "markdown",
   "metadata": {},
   "source": [
    "If separate feed or modified date unavailable, use now for date"
   ]
  },
  {
   "cell_type": "code",
   "execution_count": 22,
   "metadata": {},
   "outputs": [],
   "source": [
    "field_date = data_date if data_date else now"
   ]
  },
  {
   "cell_type": "code",
   "execution_count": 23,
   "metadata": {},
   "outputs": [],
   "source": [
    "df[\"county_date\"] = pd.to_datetime(field_date).date()"
   ]
  },
  {
   "cell_type": "markdown",
   "metadata": {},
   "source": [
    "## Vet"
   ]
  },
  {
   "cell_type": "code",
   "execution_count": 24,
   "metadata": {},
   "outputs": [],
   "source": [
    "default_stan_len = 10"
   ]
  },
  {
   "cell_type": "code",
   "execution_count": 25,
   "metadata": {},
   "outputs": [],
   "source": [
    "try:\n",
    "    assert not len(df) < default_stan_len\n",
    "except AssertionError:\n",
    "    raise AssertionError(\n",
    "        \"Stanislaus County scraper: latest spreadsheet entry is missing row(s)\"\n",
    "    )"
   ]
  },
  {
   "cell_type": "code",
   "execution_count": 26,
   "metadata": {},
   "outputs": [],
   "source": [
    "try:\n",
    "    assert not len(df) > default_stan_len\n",
    "except AssertionError:\n",
    "    raise AssertionError(\n",
    "        \"Stanislaus County scraper: latest spreadsheet entry has more area(s) than previously reported\"\n",
    "    )"
   ]
  },
  {
   "cell_type": "markdown",
   "metadata": {},
   "source": [
    "## Export"
   ]
  },
  {
   "cell_type": "markdown",
   "metadata": {},
   "source": [
    "Set date"
   ]
  },
  {
   "cell_type": "code",
   "execution_count": 27,
   "metadata": {},
   "outputs": [],
   "source": [
    "tz = pytz.timezone(\"America/Los_Angeles\")"
   ]
  },
  {
   "cell_type": "code",
   "execution_count": 28,
   "metadata": {},
   "outputs": [],
   "source": [
    "today = datetime.now(tz).date()"
   ]
  },
  {
   "cell_type": "code",
   "execution_count": 29,
   "metadata": {},
   "outputs": [],
   "source": [
    "slug = \"stanislaus\""
   ]
  },
  {
   "cell_type": "code",
   "execution_count": 30,
   "metadata": {},
   "outputs": [],
   "source": [
    "df.to_csv(data_dir / slug / f\"{today}.csv\", index=False)"
   ]
  },
  {
   "cell_type": "markdown",
   "metadata": {},
   "source": [
    "## Combine"
   ]
  },
  {
   "cell_type": "code",
   "execution_count": 31,
   "metadata": {},
   "outputs": [],
   "source": [
    "csv_list = [\n",
    "    i\n",
    "    for i in glob.glob(str(data_dir / slug / \"*.csv\"))\n",
    "    if not str(i).endswith(\"timeseries.csv\")\n",
    "]"
   ]
  },
  {
   "cell_type": "code",
   "execution_count": 32,
   "metadata": {},
   "outputs": [],
   "source": [
    "df_list = []\n",
    "for csv in csv_list:\n",
    "    if \"manual\" in csv:\n",
    "        df = pd.read_csv(csv, parse_dates=[\"date\"])\n",
    "    else:\n",
    "        file_date = csv.split(\"/\")[-1].replace(\".csv\", \"\")\n",
    "        df = pd.read_csv(csv, parse_dates=[\"county_date\"])\n",
    "        df[\"date\"] = file_date\n",
    "    df_list.append(df)"
   ]
  },
  {
   "cell_type": "code",
   "execution_count": 33,
   "metadata": {},
   "outputs": [],
   "source": [
    "df = pd.concat(df_list).sort_values([\"date\", \"area\"])"
   ]
  },
  {
   "cell_type": "code",
   "execution_count": 34,
   "metadata": {},
   "outputs": [],
   "source": [
    "df.to_csv(data_dir / slug / \"timeseries.csv\", index=False)"
   ]
  }
 ],
 "metadata": {
  "kernelspec": {
   "display_name": "Python 3 (ipykernel)",
   "language": "python",
   "name": "python3"
  },
  "language_info": {
   "codemirror_mode": {
    "name": "ipython",
    "version": 3
   },
   "file_extension": ".py",
   "mimetype": "text/x-python",
   "name": "python",
   "nbconvert_exporter": "python",
   "pygments_lexer": "ipython3",
   "version": "3.8.12"
  }
 },
 "nbformat": 4,
 "nbformat_minor": 4
}
