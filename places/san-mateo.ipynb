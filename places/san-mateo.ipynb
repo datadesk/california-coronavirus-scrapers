{
 "cells": [
  {
   "cell_type": "markdown",
   "metadata": {},
   "source": [
    "## Configuration\n",
    "_Initial steps to get the notebook ready to play nice with our repository. Do not delete this section._"
   ]
  },
  {
   "cell_type": "markdown",
   "metadata": {},
   "source": [
    "Code formatting with [black](https://pypi.org/project/nb-black/)."
   ]
  },
  {
   "cell_type": "code",
   "execution_count": 1,
   "metadata": {
    "execution": {
     "iopub.execute_input": "2022-02-05T16:24:50.014189Z",
     "iopub.status.busy": "2022-02-05T16:24:50.013674Z",
     "iopub.status.idle": "2022-02-05T16:24:50.140833Z",
     "shell.execute_reply": "2022-02-05T16:24:50.140276Z"
    }
   },
   "outputs": [],
   "source": [
    "%load_ext lab_black"
   ]
  },
  {
   "cell_type": "code",
   "execution_count": 2,
   "metadata": {
    "execution": {
     "iopub.execute_input": "2022-02-05T16:24:50.145472Z",
     "iopub.status.busy": "2022-02-05T16:24:50.144543Z",
     "iopub.status.idle": "2022-02-05T16:24:50.153913Z",
     "shell.execute_reply": "2022-02-05T16:24:50.154301Z"
    }
   },
   "outputs": [],
   "source": [
    "import os\n",
    "import pytz\n",
    "import glob\n",
    "import pathlib\n",
    "\n",
    "this_dir = pathlib.Path(os.path.abspath(\"\"))\n",
    "data_dir = this_dir / \"data\""
   ]
  },
  {
   "cell_type": "code",
   "execution_count": 3,
   "metadata": {
    "execution": {
     "iopub.execute_input": "2022-02-05T16:24:50.159585Z",
     "iopub.status.busy": "2022-02-05T16:24:50.158232Z",
     "iopub.status.idle": "2022-02-05T16:24:50.516192Z",
     "shell.execute_reply": "2022-02-05T16:24:50.515686Z"
    }
   },
   "outputs": [],
   "source": [
    "import requests\n",
    "import pandas as pd\n",
    "import json\n",
    "from datetime import datetime\n",
    "from slugify import slugify"
   ]
  },
  {
   "cell_type": "markdown",
   "metadata": {},
   "source": [
    "## Download"
   ]
  },
  {
   "cell_type": "markdown",
   "metadata": {},
   "source": [
    "Retrieve the page"
   ]
  },
  {
   "cell_type": "code",
   "execution_count": 4,
   "metadata": {
    "execution": {
     "iopub.execute_input": "2022-02-05T16:24:50.521606Z",
     "iopub.status.busy": "2022-02-05T16:24:50.518916Z",
     "iopub.status.idle": "2022-02-05T16:24:50.524703Z",
     "shell.execute_reply": "2022-02-05T16:24:50.525070Z"
    }
   },
   "outputs": [],
   "source": [
    "url = \"https://services.arcgis.com/yq3FgOI44hYHAFVZ/arcgis/rest/services/covid19_city_all/FeatureServer/2//query?where=1%3D1&objectIds=&time=&geometry=&geometryType=esriGeometryEnvelope&inSR=&spatialRel=esriSpatialRelIntersects&resultType=none&distance=0.0&units=esriSRUnit_Meter&returnGeodetic=false&outFields=*&returnGeometry=true&returnCentroid=false&featureEncoding=esriDefault&multipatchOption=xyFootprint&maxAllowableOffset=&geometryPrecision=&outSR=&datumTransformation=&applyVCSProjection=false&returnIdsOnly=false&returnUniqueIdsOnly=false&returnCountOnly=false&returnExtentOnly=false&returnQueryGeometry=false&returnDistinctValues=false&cacheHint=false&orderByFields=&groupByFieldsForStatistics=&outStatistics=&having=&resultOffset=&resultRecordCount=&returnZ=false&returnM=false&returnExceededLimitFeatures=true&quantizationParameters=&sqlFormat=none&f=pjson&token=\""
   ]
  },
  {
   "cell_type": "code",
   "execution_count": 5,
   "metadata": {
    "execution": {
     "iopub.execute_input": "2022-02-05T16:24:50.534302Z",
     "iopub.status.busy": "2022-02-05T16:24:50.528273Z",
     "iopub.status.idle": "2022-02-05T16:24:50.698758Z",
     "shell.execute_reply": "2022-02-05T16:24:50.697869Z"
    }
   },
   "outputs": [],
   "source": [
    "r = requests.get(url)"
   ]
  },
  {
   "cell_type": "code",
   "execution_count": 6,
   "metadata": {
    "execution": {
     "iopub.execute_input": "2022-02-05T16:24:50.782393Z",
     "iopub.status.busy": "2022-02-05T16:24:50.781098Z",
     "iopub.status.idle": "2022-02-05T16:24:50.786147Z",
     "shell.execute_reply": "2022-02-05T16:24:50.785382Z"
    }
   },
   "outputs": [],
   "source": [
    "data = r.json()"
   ]
  },
  {
   "cell_type": "markdown",
   "metadata": {},
   "source": [
    "## Parse"
   ]
  },
  {
   "cell_type": "code",
   "execution_count": 7,
   "metadata": {
    "execution": {
     "iopub.execute_input": "2022-02-05T16:24:50.790965Z",
     "iopub.status.busy": "2022-02-05T16:24:50.790032Z",
     "iopub.status.idle": "2022-02-05T16:24:50.793841Z",
     "shell.execute_reply": "2022-02-05T16:24:50.794287Z"
    }
   },
   "outputs": [],
   "source": [
    "dict_list = []"
   ]
  },
  {
   "cell_type": "code",
   "execution_count": 8,
   "metadata": {
    "execution": {
     "iopub.execute_input": "2022-02-05T16:24:50.803333Z",
     "iopub.status.busy": "2022-02-05T16:24:50.802565Z",
     "iopub.status.idle": "2022-02-05T16:24:50.810177Z",
     "shell.execute_reply": "2022-02-05T16:24:50.809615Z"
    }
   },
   "outputs": [],
   "source": [
    "for item in data[\"features\"]:\n",
    "    d = dict(\n",
    "        county=\"San Mateo\",\n",
    "        area=item[\"attributes\"][\"place\"],\n",
    "        confirmed_cases=item[\"attributes\"][\"n\"],\n",
    "    )\n",
    "    dict_list.append(d)"
   ]
  },
  {
   "cell_type": "code",
   "execution_count": 9,
   "metadata": {
    "execution": {
     "iopub.execute_input": "2022-02-05T16:24:50.816695Z",
     "iopub.status.busy": "2022-02-05T16:24:50.815258Z",
     "iopub.status.idle": "2022-02-05T16:24:50.820333Z",
     "shell.execute_reply": "2022-02-05T16:24:50.819751Z"
    }
   },
   "outputs": [],
   "source": [
    "df = pd.DataFrame(dict_list)"
   ]
  },
  {
   "cell_type": "code",
   "execution_count": 10,
   "metadata": {
    "execution": {
     "iopub.execute_input": "2022-02-05T16:24:50.828619Z",
     "iopub.status.busy": "2022-02-05T16:24:50.826615Z",
     "iopub.status.idle": "2022-02-05T16:24:50.831906Z",
     "shell.execute_reply": "2022-02-05T16:24:50.832317Z"
    }
   },
   "outputs": [],
   "source": [
    "df[\"confirmed_cases\"] = df.confirmed_cases.fillna(\"<10\")"
   ]
  },
  {
   "cell_type": "markdown",
   "metadata": {},
   "source": [
    "Get timestamp"
   ]
  },
  {
   "cell_type": "code",
   "execution_count": 11,
   "metadata": {
    "execution": {
     "iopub.execute_input": "2022-02-05T16:24:50.840557Z",
     "iopub.status.busy": "2022-02-05T16:24:50.839630Z",
     "iopub.status.idle": "2022-02-05T16:24:51.008396Z",
     "shell.execute_reply": "2022-02-05T16:24:51.007617Z"
    }
   },
   "outputs": [],
   "source": [
    "date_url = \"https://services.arcgis.com/yq3FgOI44hYHAFVZ/arcgis/rest/services/covid19_city_all/FeatureServer/2?f=json\"\n",
    "date_r = requests.get(date_url)\n",
    "date_data = date_r.json()"
   ]
  },
  {
   "cell_type": "code",
   "execution_count": 12,
   "metadata": {
    "execution": {
     "iopub.execute_input": "2022-02-05T16:24:51.012451Z",
     "iopub.status.busy": "2022-02-05T16:24:51.011975Z",
     "iopub.status.idle": "2022-02-05T16:24:51.015784Z",
     "shell.execute_reply": "2022-02-05T16:24:51.016154Z"
    }
   },
   "outputs": [],
   "source": [
    "timestamp = date_data[\"editingInfo\"][\"lastEditDate\"]"
   ]
  },
  {
   "cell_type": "code",
   "execution_count": 13,
   "metadata": {
    "execution": {
     "iopub.execute_input": "2022-02-05T16:24:51.022268Z",
     "iopub.status.busy": "2022-02-05T16:24:51.021806Z",
     "iopub.status.idle": "2022-02-05T16:24:51.025284Z",
     "shell.execute_reply": "2022-02-05T16:24:51.024878Z"
    }
   },
   "outputs": [],
   "source": [
    "timestamp = datetime.fromtimestamp((timestamp / 1000))"
   ]
  },
  {
   "cell_type": "code",
   "execution_count": 14,
   "metadata": {
    "execution": {
     "iopub.execute_input": "2022-02-05T16:24:51.030960Z",
     "iopub.status.busy": "2022-02-05T16:24:51.029276Z",
     "iopub.status.idle": "2022-02-05T16:24:51.034431Z",
     "shell.execute_reply": "2022-02-05T16:24:51.034007Z"
    }
   },
   "outputs": [],
   "source": [
    "latest_date = pd.to_datetime(timestamp).date()"
   ]
  },
  {
   "cell_type": "code",
   "execution_count": 15,
   "metadata": {
    "execution": {
     "iopub.execute_input": "2022-02-05T16:24:51.038959Z",
     "iopub.status.busy": "2022-02-05T16:24:51.038447Z",
     "iopub.status.idle": "2022-02-05T16:24:51.042073Z",
     "shell.execute_reply": "2022-02-05T16:24:51.041688Z"
    }
   },
   "outputs": [],
   "source": [
    "df[\"county_date\"] = latest_date"
   ]
  },
  {
   "cell_type": "markdown",
   "metadata": {},
   "source": [
    "## Vet"
   ]
  },
  {
   "cell_type": "code",
   "execution_count": 16,
   "metadata": {
    "execution": {
     "iopub.execute_input": "2022-02-05T16:24:51.045961Z",
     "iopub.status.busy": "2022-02-05T16:24:51.045497Z",
     "iopub.status.idle": "2022-02-05T16:24:51.050791Z",
     "shell.execute_reply": "2022-02-05T16:24:51.051158Z"
    }
   },
   "outputs": [],
   "source": [
    "try:\n",
    "    assert not len(df) > 32\n",
    "except AssertionError:\n",
    "    raise AssertionError(\"San Mateo County's scraper has more rows than before\")"
   ]
  },
  {
   "cell_type": "code",
   "execution_count": 17,
   "metadata": {
    "execution": {
     "iopub.execute_input": "2022-02-05T16:24:51.055996Z",
     "iopub.status.busy": "2022-02-05T16:24:51.054398Z",
     "iopub.status.idle": "2022-02-05T16:24:51.181714Z",
     "shell.execute_reply": "2022-02-05T16:24:51.179116Z"
    }
   },
   "outputs": [
    {
     "ename": "AssertionError",
     "evalue": "San Mateo County's scraper is missing rows",
     "output_type": "error",
     "traceback": [
      "\u001b[0;31m---------------------------------------------------------------------------\u001b[0m",
      "\u001b[0;31mAssertionError\u001b[0m                            Traceback (most recent call last)",
      "\u001b[0;32m/tmp/ipykernel_3502/2336364136.py\u001b[0m in \u001b[0;36m<module>\u001b[0;34m\u001b[0m\n\u001b[1;32m      1\u001b[0m \u001b[0;32mtry\u001b[0m\u001b[0;34m:\u001b[0m\u001b[0;34m\u001b[0m\u001b[0;34m\u001b[0m\u001b[0m\n\u001b[0;32m----> 2\u001b[0;31m     \u001b[0;32massert\u001b[0m \u001b[0;32mnot\u001b[0m \u001b[0mlen\u001b[0m\u001b[0;34m(\u001b[0m\u001b[0mdf\u001b[0m\u001b[0;34m)\u001b[0m \u001b[0;34m<\u001b[0m \u001b[0;36m32\u001b[0m\u001b[0;34m\u001b[0m\u001b[0;34m\u001b[0m\u001b[0m\n\u001b[0m\u001b[1;32m      3\u001b[0m \u001b[0;32mexcept\u001b[0m \u001b[0mAssertionError\u001b[0m\u001b[0;34m:\u001b[0m\u001b[0;34m\u001b[0m\u001b[0;34m\u001b[0m\u001b[0m\n",
      "\u001b[0;31mAssertionError\u001b[0m: ",
      "\nDuring handling of the above exception, another exception occurred:\n",
      "\u001b[0;31mAssertionError\u001b[0m                            Traceback (most recent call last)",
      "\u001b[0;32m/tmp/ipykernel_3502/2336364136.py\u001b[0m in \u001b[0;36m<module>\u001b[0;34m\u001b[0m\n\u001b[1;32m      2\u001b[0m     \u001b[0;32massert\u001b[0m \u001b[0;32mnot\u001b[0m \u001b[0mlen\u001b[0m\u001b[0;34m(\u001b[0m\u001b[0mdf\u001b[0m\u001b[0;34m)\u001b[0m \u001b[0;34m<\u001b[0m \u001b[0;36m32\u001b[0m\u001b[0;34m\u001b[0m\u001b[0;34m\u001b[0m\u001b[0m\n\u001b[1;32m      3\u001b[0m \u001b[0;32mexcept\u001b[0m \u001b[0mAssertionError\u001b[0m\u001b[0;34m:\u001b[0m\u001b[0;34m\u001b[0m\u001b[0;34m\u001b[0m\u001b[0m\n\u001b[0;32m----> 4\u001b[0;31m     \u001b[0;32mraise\u001b[0m \u001b[0mAssertionError\u001b[0m\u001b[0;34m(\u001b[0m\u001b[0;34m\"San Mateo County's scraper is missing rows\"\u001b[0m\u001b[0;34m)\u001b[0m\u001b[0;34m\u001b[0m\u001b[0;34m\u001b[0m\u001b[0m\n\u001b[0m",
      "\u001b[0;31mAssertionError\u001b[0m: San Mateo County's scraper is missing rows"
     ]
    }
   ],
   "source": [
    "try:\n",
    "    assert not len(df) < 32\n",
    "except AssertionError:\n",
    "    raise AssertionError(\"San Mateo County's scraper is missing rows\")"
   ]
  },
  {
   "cell_type": "markdown",
   "metadata": {},
   "source": [
    "## Export"
   ]
  },
  {
   "cell_type": "markdown",
   "metadata": {},
   "source": [
    "Set date"
   ]
  },
  {
   "cell_type": "code",
   "execution_count": 28,
   "metadata": {},
   "outputs": [],
   "source": [
    "tz = pytz.timezone(\"America/Los_Angeles\")"
   ]
  },
  {
   "cell_type": "code",
   "execution_count": 29,
   "metadata": {},
   "outputs": [],
   "source": [
    "today = datetime.now(tz).date()"
   ]
  },
  {
   "cell_type": "code",
   "execution_count": 30,
   "metadata": {},
   "outputs": [],
   "source": [
    "slug = \"san-mateo\""
   ]
  },
  {
   "cell_type": "code",
   "execution_count": 31,
   "metadata": {},
   "outputs": [],
   "source": [
    "df.to_csv(data_dir / slug / f\"{today}.csv\", index=False)"
   ]
  },
  {
   "cell_type": "markdown",
   "metadata": {},
   "source": [
    "## Combine"
   ]
  },
  {
   "cell_type": "code",
   "execution_count": 32,
   "metadata": {},
   "outputs": [],
   "source": [
    "csv_list = [\n",
    "    i\n",
    "    for i in glob.glob(str(data_dir / slug / \"*.csv\"))\n",
    "    if not str(i).endswith(\"timeseries.csv\")\n",
    "]"
   ]
  },
  {
   "cell_type": "code",
   "execution_count": 33,
   "metadata": {},
   "outputs": [],
   "source": [
    "df_list = []\n",
    "for csv in csv_list:\n",
    "    if \"manual\" in csv:\n",
    "        df = pd.read_csv(csv, parse_dates=[\"date\"])\n",
    "    else:\n",
    "        file_date = csv.split(\"/\")[-1].replace(\".csv\", \"\")\n",
    "        df = pd.read_csv(csv, parse_dates=[\"county_date\"])\n",
    "        df[\"date\"] = file_date\n",
    "    df_list.append(df)"
   ]
  },
  {
   "cell_type": "code",
   "execution_count": 34,
   "metadata": {},
   "outputs": [],
   "source": [
    "df = pd.concat(df_list).sort_values([\"date\", \"area\"])"
   ]
  },
  {
   "cell_type": "code",
   "execution_count": 35,
   "metadata": {},
   "outputs": [],
   "source": [
    "df.to_csv(data_dir / slug / \"timeseries.csv\", index=False)"
   ]
  },
  {
   "cell_type": "code",
   "execution_count": null,
   "metadata": {},
   "outputs": [],
   "source": []
  }
 ],
 "metadata": {
  "kernelspec": {
   "display_name": "Python 3 (ipykernel)",
   "language": "python",
   "name": "python3"
  },
  "language_info": {
   "codemirror_mode": {
    "name": "ipython",
    "version": 3
   },
   "file_extension": ".py",
   "mimetype": "text/x-python",
   "name": "python",
   "nbconvert_exporter": "python",
   "pygments_lexer": "ipython3",
   "version": "3.8.12"
  }
 },
 "nbformat": 4,
 "nbformat_minor": 4
}
