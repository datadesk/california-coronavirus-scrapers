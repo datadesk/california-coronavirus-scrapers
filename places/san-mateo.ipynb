{
 "cells": [
  {
   "cell_type": "markdown",
   "metadata": {},
   "source": [
    "## Configuration\n",
    "_Initial steps to get the notebook ready to play nice with our repository. Do not delete this section._"
   ]
  },
  {
   "cell_type": "markdown",
   "metadata": {},
   "source": [
    "Code formatting with [black](https://pypi.org/project/nb-black/)."
   ]
  },
  {
   "cell_type": "code",
   "execution_count": 1,
   "metadata": {
    "execution": {
     "iopub.execute_input": "2022-02-01T00:25:51.717728Z",
     "iopub.status.busy": "2022-02-01T00:25:51.717173Z",
     "iopub.status.idle": "2022-02-01T00:25:51.850077Z",
     "shell.execute_reply": "2022-02-01T00:25:51.849395Z"
    }
   },
   "outputs": [],
   "source": [
    "%load_ext lab_black"
   ]
  },
  {
   "cell_type": "code",
   "execution_count": 2,
   "metadata": {
    "execution": {
     "iopub.execute_input": "2022-02-01T00:25:51.855049Z",
     "iopub.status.busy": "2022-02-01T00:25:51.854490Z",
     "iopub.status.idle": "2022-02-01T00:25:51.862971Z",
     "shell.execute_reply": "2022-02-01T00:25:51.863383Z"
    }
   },
   "outputs": [],
   "source": [
    "import os\n",
    "import pytz\n",
    "import glob\n",
    "import pathlib\n",
    "\n",
    "this_dir = pathlib.Path(os.path.abspath(\"\"))\n",
    "data_dir = this_dir / \"data\""
   ]
  },
  {
   "cell_type": "code",
   "execution_count": 3,
   "metadata": {
    "execution": {
     "iopub.execute_input": "2022-02-01T00:25:51.867465Z",
     "iopub.status.busy": "2022-02-01T00:25:51.866937Z",
     "iopub.status.idle": "2022-02-01T00:25:52.212185Z",
     "shell.execute_reply": "2022-02-01T00:25:52.211173Z"
    }
   },
   "outputs": [],
   "source": [
    "import requests\n",
    "import pandas as pd\n",
    "import json\n",
    "from datetime import datetime\n",
    "from slugify import slugify"
   ]
  },
  {
   "cell_type": "markdown",
   "metadata": {},
   "source": [
    "## Download"
   ]
  },
  {
   "cell_type": "markdown",
   "metadata": {},
   "source": [
    "Retrieve the page"
   ]
  },
  {
   "cell_type": "code",
   "execution_count": 4,
   "metadata": {
    "execution": {
     "iopub.execute_input": "2022-02-01T00:25:52.217170Z",
     "iopub.status.busy": "2022-02-01T00:25:52.216613Z",
     "iopub.status.idle": "2022-02-01T00:25:52.219880Z",
     "shell.execute_reply": "2022-02-01T00:25:52.219433Z"
    }
   },
   "outputs": [],
   "source": [
    "url = \"https://services.arcgis.com/yq3FgOI44hYHAFVZ/arcgis/rest/services/covid19_city_all/FeatureServer/2//query?where=1%3D1&objectIds=&time=&geometry=&geometryType=esriGeometryEnvelope&inSR=&spatialRel=esriSpatialRelIntersects&resultType=none&distance=0.0&units=esriSRUnit_Meter&returnGeodetic=false&outFields=*&returnGeometry=true&returnCentroid=false&featureEncoding=esriDefault&multipatchOption=xyFootprint&maxAllowableOffset=&geometryPrecision=&outSR=&datumTransformation=&applyVCSProjection=false&returnIdsOnly=false&returnUniqueIdsOnly=false&returnCountOnly=false&returnExtentOnly=false&returnQueryGeometry=false&returnDistinctValues=false&cacheHint=false&orderByFields=&groupByFieldsForStatistics=&outStatistics=&having=&resultOffset=&resultRecordCount=&returnZ=false&returnM=false&returnExceededLimitFeatures=true&quantizationParameters=&sqlFormat=none&f=pjson&token=\""
   ]
  },
  {
   "cell_type": "code",
   "execution_count": 5,
   "metadata": {
    "execution": {
     "iopub.execute_input": "2022-02-01T00:25:52.229075Z",
     "iopub.status.busy": "2022-02-01T00:25:52.223406Z",
     "iopub.status.idle": "2022-02-01T00:25:52.437362Z",
     "shell.execute_reply": "2022-02-01T00:25:52.436585Z"
    }
   },
   "outputs": [],
   "source": [
    "r = requests.get(url)"
   ]
  },
  {
   "cell_type": "code",
   "execution_count": 6,
   "metadata": {
    "execution": {
     "iopub.execute_input": "2022-02-01T00:25:52.547539Z",
     "iopub.status.busy": "2022-02-01T00:25:52.545849Z",
     "iopub.status.idle": "2022-02-01T00:25:52.550413Z",
     "shell.execute_reply": "2022-02-01T00:25:52.549773Z"
    }
   },
   "outputs": [],
   "source": [
    "data = r.json()"
   ]
  },
  {
   "cell_type": "markdown",
   "metadata": {},
   "source": [
    "## Parse"
   ]
  },
  {
   "cell_type": "code",
   "execution_count": 7,
   "metadata": {
    "execution": {
     "iopub.execute_input": "2022-02-01T00:25:52.555210Z",
     "iopub.status.busy": "2022-02-01T00:25:52.553951Z",
     "iopub.status.idle": "2022-02-01T00:25:52.558331Z",
     "shell.execute_reply": "2022-02-01T00:25:52.557346Z"
    }
   },
   "outputs": [],
   "source": [
    "dict_list = []"
   ]
  },
  {
   "cell_type": "code",
   "execution_count": 8,
   "metadata": {
    "execution": {
     "iopub.execute_input": "2022-02-01T00:25:52.561491Z",
     "iopub.status.busy": "2022-02-01T00:25:52.560943Z",
     "iopub.status.idle": "2022-02-01T00:25:52.576447Z",
     "shell.execute_reply": "2022-02-01T00:25:52.575858Z"
    }
   },
   "outputs": [],
   "source": [
    "for item in data[\"features\"]:\n",
    "    d = dict(\n",
    "        county=\"San Mateo\",\n",
    "        area=item[\"attributes\"][\"place\"],\n",
    "        confirmed_cases=item[\"attributes\"][\"n\"],\n",
    "    )\n",
    "    dict_list.append(d)"
   ]
  },
  {
   "cell_type": "code",
   "execution_count": 9,
   "metadata": {
    "execution": {
     "iopub.execute_input": "2022-02-01T00:25:52.581369Z",
     "iopub.status.busy": "2022-02-01T00:25:52.578612Z",
     "iopub.status.idle": "2022-02-01T00:25:52.584787Z",
     "shell.execute_reply": "2022-02-01T00:25:52.584351Z"
    }
   },
   "outputs": [],
   "source": [
    "df = pd.DataFrame(dict_list)"
   ]
  },
  {
   "cell_type": "code",
   "execution_count": 10,
   "metadata": {
    "execution": {
     "iopub.execute_input": "2022-02-01T00:25:52.593688Z",
     "iopub.status.busy": "2022-02-01T00:25:52.592198Z",
     "iopub.status.idle": "2022-02-01T00:25:52.597118Z",
     "shell.execute_reply": "2022-02-01T00:25:52.596668Z"
    }
   },
   "outputs": [],
   "source": [
    "df[\"confirmed_cases\"] = df.confirmed_cases.fillna(\"<10\")"
   ]
  },
  {
   "cell_type": "markdown",
   "metadata": {},
   "source": [
    "Get timestamp"
   ]
  },
  {
   "cell_type": "code",
   "execution_count": 11,
   "metadata": {
    "execution": {
     "iopub.execute_input": "2022-02-01T00:25:52.605972Z",
     "iopub.status.busy": "2022-02-01T00:25:52.605026Z",
     "iopub.status.idle": "2022-02-01T00:25:52.745074Z",
     "shell.execute_reply": "2022-02-01T00:25:52.745522Z"
    }
   },
   "outputs": [],
   "source": [
    "date_url = \"https://services.arcgis.com/yq3FgOI44hYHAFVZ/arcgis/rest/services/covid19_city_all/FeatureServer/2?f=json\"\n",
    "date_r = requests.get(date_url)\n",
    "date_data = date_r.json()"
   ]
  },
  {
   "cell_type": "code",
   "execution_count": 12,
   "metadata": {
    "execution": {
     "iopub.execute_input": "2022-02-01T00:25:52.750700Z",
     "iopub.status.busy": "2022-02-01T00:25:52.750091Z",
     "iopub.status.idle": "2022-02-01T00:25:52.754795Z",
     "shell.execute_reply": "2022-02-01T00:25:52.754360Z"
    }
   },
   "outputs": [],
   "source": [
    "timestamp = date_data[\"editingInfo\"][\"lastEditDate\"]"
   ]
  },
  {
   "cell_type": "code",
   "execution_count": 13,
   "metadata": {
    "execution": {
     "iopub.execute_input": "2022-02-01T00:25:52.760865Z",
     "iopub.status.busy": "2022-02-01T00:25:52.760020Z",
     "iopub.status.idle": "2022-02-01T00:25:52.762552Z",
     "shell.execute_reply": "2022-02-01T00:25:52.762154Z"
    }
   },
   "outputs": [],
   "source": [
    "timestamp = datetime.fromtimestamp((timestamp / 1000))"
   ]
  },
  {
   "cell_type": "code",
   "execution_count": 14,
   "metadata": {
    "execution": {
     "iopub.execute_input": "2022-02-01T00:25:52.767016Z",
     "iopub.status.busy": "2022-02-01T00:25:52.766493Z",
     "iopub.status.idle": "2022-02-01T00:25:52.770234Z",
     "shell.execute_reply": "2022-02-01T00:25:52.769805Z"
    }
   },
   "outputs": [],
   "source": [
    "latest_date = pd.to_datetime(timestamp).date()"
   ]
  },
  {
   "cell_type": "code",
   "execution_count": 15,
   "metadata": {
    "execution": {
     "iopub.execute_input": "2022-02-01T00:25:52.777091Z",
     "iopub.status.busy": "2022-02-01T00:25:52.775884Z",
     "iopub.status.idle": "2022-02-01T00:25:52.777687Z",
     "shell.execute_reply": "2022-02-01T00:25:52.778115Z"
    }
   },
   "outputs": [],
   "source": [
    "df[\"county_date\"] = latest_date"
   ]
  },
  {
   "cell_type": "markdown",
   "metadata": {},
   "source": [
    "## Vet"
   ]
  },
  {
   "cell_type": "code",
   "execution_count": 16,
   "metadata": {
    "execution": {
     "iopub.execute_input": "2022-02-01T00:25:52.784790Z",
     "iopub.status.busy": "2022-02-01T00:25:52.783098Z",
     "iopub.status.idle": "2022-02-01T00:25:52.787218Z",
     "shell.execute_reply": "2022-02-01T00:25:52.786648Z"
    }
   },
   "outputs": [],
   "source": [
    "try:\n",
    "    assert not len(df) > 32\n",
    "except AssertionError:\n",
    "    raise AssertionError(\"San Mateo County's scraper has more rows than before\")"
   ]
  },
  {
   "cell_type": "code",
   "execution_count": 17,
   "metadata": {
    "execution": {
     "iopub.execute_input": "2022-02-01T00:25:52.792632Z",
     "iopub.status.busy": "2022-02-01T00:25:52.792043Z",
     "iopub.status.idle": "2022-02-01T00:25:52.935006Z",
     "shell.execute_reply": "2022-02-01T00:25:52.934277Z"
    }
   },
   "outputs": [
    {
     "ename": "AssertionError",
     "evalue": "San Mateo County's scraper is missing rows",
     "output_type": "error",
     "traceback": [
      "\u001b[0;31m---------------------------------------------------------------------------\u001b[0m",
      "\u001b[0;31mAssertionError\u001b[0m                            Traceback (most recent call last)",
      "\u001b[0;32m/tmp/ipykernel_3471/2336364136.py\u001b[0m in \u001b[0;36m<module>\u001b[0;34m\u001b[0m\n\u001b[1;32m      1\u001b[0m \u001b[0;32mtry\u001b[0m\u001b[0;34m:\u001b[0m\u001b[0;34m\u001b[0m\u001b[0;34m\u001b[0m\u001b[0m\n\u001b[0;32m----> 2\u001b[0;31m     \u001b[0;32massert\u001b[0m \u001b[0;32mnot\u001b[0m \u001b[0mlen\u001b[0m\u001b[0;34m(\u001b[0m\u001b[0mdf\u001b[0m\u001b[0;34m)\u001b[0m \u001b[0;34m<\u001b[0m \u001b[0;36m32\u001b[0m\u001b[0;34m\u001b[0m\u001b[0;34m\u001b[0m\u001b[0m\n\u001b[0m\u001b[1;32m      3\u001b[0m \u001b[0;32mexcept\u001b[0m \u001b[0mAssertionError\u001b[0m\u001b[0;34m:\u001b[0m\u001b[0;34m\u001b[0m\u001b[0;34m\u001b[0m\u001b[0m\n",
      "\u001b[0;31mAssertionError\u001b[0m: ",
      "\nDuring handling of the above exception, another exception occurred:\n",
      "\u001b[0;31mAssertionError\u001b[0m                            Traceback (most recent call last)",
      "\u001b[0;32m/tmp/ipykernel_3471/2336364136.py\u001b[0m in \u001b[0;36m<module>\u001b[0;34m\u001b[0m\n\u001b[1;32m      2\u001b[0m     \u001b[0;32massert\u001b[0m \u001b[0;32mnot\u001b[0m \u001b[0mlen\u001b[0m\u001b[0;34m(\u001b[0m\u001b[0mdf\u001b[0m\u001b[0;34m)\u001b[0m \u001b[0;34m<\u001b[0m \u001b[0;36m32\u001b[0m\u001b[0;34m\u001b[0m\u001b[0;34m\u001b[0m\u001b[0m\n\u001b[1;32m      3\u001b[0m \u001b[0;32mexcept\u001b[0m \u001b[0mAssertionError\u001b[0m\u001b[0;34m:\u001b[0m\u001b[0;34m\u001b[0m\u001b[0;34m\u001b[0m\u001b[0m\n\u001b[0;32m----> 4\u001b[0;31m     \u001b[0;32mraise\u001b[0m \u001b[0mAssertionError\u001b[0m\u001b[0;34m(\u001b[0m\u001b[0;34m\"San Mateo County's scraper is missing rows\"\u001b[0m\u001b[0;34m)\u001b[0m\u001b[0;34m\u001b[0m\u001b[0;34m\u001b[0m\u001b[0m\n\u001b[0m",
      "\u001b[0;31mAssertionError\u001b[0m: San Mateo County's scraper is missing rows"
     ]
    }
   ],
   "source": [
    "try:\n",
    "    assert not len(df) < 32\n",
    "except AssertionError:\n",
    "    raise AssertionError(\"San Mateo County's scraper is missing rows\")"
   ]
  },
  {
   "cell_type": "markdown",
   "metadata": {},
   "source": [
    "## Export"
   ]
  },
  {
   "cell_type": "markdown",
   "metadata": {},
   "source": [
    "Set date"
   ]
  },
  {
   "cell_type": "code",
   "execution_count": 28,
   "metadata": {},
   "outputs": [],
   "source": [
    "tz = pytz.timezone(\"America/Los_Angeles\")"
   ]
  },
  {
   "cell_type": "code",
   "execution_count": 29,
   "metadata": {},
   "outputs": [],
   "source": [
    "today = datetime.now(tz).date()"
   ]
  },
  {
   "cell_type": "code",
   "execution_count": 30,
   "metadata": {},
   "outputs": [],
   "source": [
    "slug = \"san-mateo\""
   ]
  },
  {
   "cell_type": "code",
   "execution_count": 31,
   "metadata": {},
   "outputs": [],
   "source": [
    "df.to_csv(data_dir / slug / f\"{today}.csv\", index=False)"
   ]
  },
  {
   "cell_type": "markdown",
   "metadata": {},
   "source": [
    "## Combine"
   ]
  },
  {
   "cell_type": "code",
   "execution_count": 32,
   "metadata": {},
   "outputs": [],
   "source": [
    "csv_list = [\n",
    "    i\n",
    "    for i in glob.glob(str(data_dir / slug / \"*.csv\"))\n",
    "    if not str(i).endswith(\"timeseries.csv\")\n",
    "]"
   ]
  },
  {
   "cell_type": "code",
   "execution_count": 33,
   "metadata": {},
   "outputs": [],
   "source": [
    "df_list = []\n",
    "for csv in csv_list:\n",
    "    if \"manual\" in csv:\n",
    "        df = pd.read_csv(csv, parse_dates=[\"date\"])\n",
    "    else:\n",
    "        file_date = csv.split(\"/\")[-1].replace(\".csv\", \"\")\n",
    "        df = pd.read_csv(csv, parse_dates=[\"county_date\"])\n",
    "        df[\"date\"] = file_date\n",
    "    df_list.append(df)"
   ]
  },
  {
   "cell_type": "code",
   "execution_count": 34,
   "metadata": {},
   "outputs": [],
   "source": [
    "df = pd.concat(df_list).sort_values([\"date\", \"area\"])"
   ]
  },
  {
   "cell_type": "code",
   "execution_count": 35,
   "metadata": {},
   "outputs": [],
   "source": [
    "df.to_csv(data_dir / slug / \"timeseries.csv\", index=False)"
   ]
  },
  {
   "cell_type": "code",
   "execution_count": null,
   "metadata": {},
   "outputs": [],
   "source": []
  }
 ],
 "metadata": {
  "kernelspec": {
   "display_name": "Python 3 (ipykernel)",
   "language": "python",
   "name": "python3"
  },
  "language_info": {
   "codemirror_mode": {
    "name": "ipython",
    "version": 3
   },
   "file_extension": ".py",
   "mimetype": "text/x-python",
   "name": "python",
   "nbconvert_exporter": "python",
   "pygments_lexer": "ipython3",
   "version": "3.8.12"
  }
 },
 "nbformat": 4,
 "nbformat_minor": 4
}
