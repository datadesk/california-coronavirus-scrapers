{
 "cells": [
  {
   "cell_type": "code",
   "execution_count": 1,
   "id": "f0e99cc4-28cd-4b53-b0e7-a825c05a1f37",
   "metadata": {
    "execution": {
     "iopub.execute_input": "2022-01-11T00:23:59.381928Z",
     "iopub.status.busy": "2022-01-11T00:23:59.381496Z",
     "iopub.status.idle": "2022-01-11T00:23:59.500655Z",
     "shell.execute_reply": "2022-01-11T00:23:59.500174Z"
    }
   },
   "outputs": [],
   "source": [
    "%load_ext lab_black"
   ]
  },
  {
   "cell_type": "code",
   "execution_count": 2,
   "id": "113b7c8f-32a2-4f05-ab8d-58f5d95e5bc2",
   "metadata": {
    "execution": {
     "iopub.execute_input": "2022-01-11T00:23:59.504698Z",
     "iopub.status.busy": "2022-01-11T00:23:59.504233Z",
     "iopub.status.idle": "2022-01-11T00:23:59.669588Z",
     "shell.execute_reply": "2022-01-11T00:23:59.669084Z"
    }
   },
   "outputs": [],
   "source": [
    "import os\n",
    "import pytz\n",
    "import pathlib\n",
    "import requests\n",
    "from datetime import datetime\n",
    "from bs4 import BeautifulSoup\n",
    "\n",
    "this_dir = pathlib.Path(os.path.abspath(\"\"))\n",
    "data_dir = this_dir / \"data\""
   ]
  },
  {
   "cell_type": "code",
   "execution_count": 3,
   "id": "270f01af-e935-4404-b0b9-57dc45bbcbf0",
   "metadata": {
    "execution": {
     "iopub.execute_input": "2022-01-11T00:23:59.675620Z",
     "iopub.status.busy": "2022-01-11T00:23:59.672637Z",
     "iopub.status.idle": "2022-01-11T00:24:00.793370Z",
     "shell.execute_reply": "2022-01-11T00:24:00.794247Z"
    }
   },
   "outputs": [],
   "source": [
    "r = requests.get(\"https://www.plumascounty.us/2839/COVID-19-Home\")"
   ]
  },
  {
   "cell_type": "code",
   "execution_count": 4,
   "id": "55ee7906-38f0-4bf5-9798-648d449e7cf5",
   "metadata": {
    "execution": {
     "iopub.execute_input": "2022-01-11T00:24:00.799163Z",
     "iopub.status.busy": "2022-01-11T00:24:00.796599Z",
     "iopub.status.idle": "2022-01-11T00:24:00.833941Z",
     "shell.execute_reply": "2022-01-11T00:24:00.834324Z"
    }
   },
   "outputs": [],
   "source": [
    "soup = BeautifulSoup(r.text)"
   ]
  },
  {
   "cell_type": "code",
   "execution_count": 5,
   "id": "7929320b-c5ba-4568-b703-e75c7eae0474",
   "metadata": {
    "execution": {
     "iopub.execute_input": "2022-01-11T00:24:00.840611Z",
     "iopub.status.busy": "2022-01-11T00:24:00.836351Z",
     "iopub.status.idle": "2022-01-11T00:24:00.930127Z",
     "shell.execute_reply": "2022-01-11T00:24:00.928628Z"
    }
   },
   "outputs": [
    {
     "ename": "StopIteration",
     "evalue": "",
     "output_type": "error",
     "traceback": [
      "\u001b[0;31m---------------------------------------------------------------------------\u001b[0m",
      "\u001b[0;31mStopIteration\u001b[0m                             Traceback (most recent call last)",
      "\u001b[0;32m/tmp/ipykernel_3281/2938602109.py\u001b[0m in \u001b[0;36m<module>\u001b[0;34m\u001b[0m\n\u001b[0;32m----> 1\u001b[0;31m \u001b[0mimg\u001b[0m \u001b[0;34m=\u001b[0m \u001b[0mnext\u001b[0m\u001b[0;34m(\u001b[0m\u001b[0ms\u001b[0m \u001b[0;32mfor\u001b[0m \u001b[0ms\u001b[0m \u001b[0;32min\u001b[0m \u001b[0msoup\u001b[0m\u001b[0;34m.\u001b[0m\u001b[0mfind_all\u001b[0m\u001b[0;34m(\u001b[0m\u001b[0;34m\"img\"\u001b[0m\u001b[0;34m)\u001b[0m \u001b[0;32mif\u001b[0m \u001b[0;34m\"Totals\"\u001b[0m \u001b[0;32min\u001b[0m \u001b[0ms\u001b[0m\u001b[0;34m.\u001b[0m\u001b[0mattrs\u001b[0m\u001b[0;34m.\u001b[0m\u001b[0mget\u001b[0m\u001b[0;34m(\u001b[0m\u001b[0;34m\"alt\"\u001b[0m\u001b[0;34m,\u001b[0m \u001b[0;34m\"\"\u001b[0m\u001b[0;34m)\u001b[0m\u001b[0;34m)\u001b[0m\u001b[0;34m\u001b[0m\u001b[0;34m\u001b[0m\u001b[0m\n\u001b[0m",
      "\u001b[0;31mStopIteration\u001b[0m: "
     ]
    }
   ],
   "source": [
    "img = next(s for s in soup.find_all(\"img\") if \"Totals\" in s.attrs.get(\"alt\", \"\"))"
   ]
  },
  {
   "cell_type": "code",
   "execution_count": 6,
   "id": "10dc1f1c-3134-4998-a1a7-e2e4314bc049",
   "metadata": {},
   "outputs": [],
   "source": [
    "url = \"https://www.plumascounty.us\" + img[\"src\"]"
   ]
  },
  {
   "cell_type": "code",
   "execution_count": 7,
   "id": "d61b3690-589e-41d3-acd3-3297b84cbd4e",
   "metadata": {},
   "outputs": [],
   "source": [
    "tz = pytz.timezone(\"America/Los_Angeles\")"
   ]
  },
  {
   "cell_type": "code",
   "execution_count": 8,
   "id": "86456990-cc8d-4a03-8f7b-5821767e6053",
   "metadata": {},
   "outputs": [],
   "source": [
    "today = datetime.now(tz).date()"
   ]
  },
  {
   "cell_type": "code",
   "execution_count": 9,
   "id": "37376848-fdd8-4e05-9c7b-9c7f97ab1c22",
   "metadata": {},
   "outputs": [],
   "source": [
    "with open(data_dir / \"plumas\" / f\"{today}.png\", \"wb\") as handler:\n",
    "    handler.write(requests.get(url).content)"
   ]
  }
 ],
 "metadata": {
  "kernelspec": {
   "display_name": "Python 3 (ipykernel)",
   "language": "python",
   "name": "python3"
  },
  "language_info": {
   "codemirror_mode": {
    "name": "ipython",
    "version": 3
   },
   "file_extension": ".py",
   "mimetype": "text/x-python",
   "name": "python",
   "nbconvert_exporter": "python",
   "pygments_lexer": "ipython3",
   "version": "3.8.12"
  }
 },
 "nbformat": 4,
 "nbformat_minor": 5
}
