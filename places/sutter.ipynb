{
 "cells": [
  {
   "cell_type": "markdown",
   "metadata": {},
   "source": [
    "## Configuration\n",
    "_Initial steps to get the notebook ready to play nice with our repository. Do not delete this section._"
   ]
  },
  {
   "cell_type": "markdown",
   "metadata": {},
   "source": [
    "Code formatting with [black](https://pypi.org/project/nb-black/)."
   ]
  },
  {
   "cell_type": "code",
   "execution_count": 1,
   "metadata": {
    "execution": {
     "iopub.execute_input": "2022-04-05T20:24:16.537040Z",
     "iopub.status.busy": "2022-04-05T20:24:16.536157Z",
     "iopub.status.idle": "2022-04-05T20:24:16.664421Z",
     "shell.execute_reply": "2022-04-05T20:24:16.664887Z"
    }
   },
   "outputs": [],
   "source": [
    "%load_ext lab_black"
   ]
  },
  {
   "cell_type": "code",
   "execution_count": 2,
   "metadata": {
    "execution": {
     "iopub.execute_input": "2022-04-05T20:24:16.671287Z",
     "iopub.status.busy": "2022-04-05T20:24:16.670459Z",
     "iopub.status.idle": "2022-04-05T20:24:16.682602Z",
     "shell.execute_reply": "2022-04-05T20:24:16.683612Z"
    }
   },
   "outputs": [],
   "source": [
    "import os\n",
    "import pytz\n",
    "import glob\n",
    "import pathlib\n",
    "\n",
    "this_dir = pathlib.Path(os.path.abspath(\"\"))\n",
    "data_dir = this_dir / \"data\""
   ]
  },
  {
   "cell_type": "code",
   "execution_count": 3,
   "metadata": {
    "execution": {
     "iopub.execute_input": "2022-04-05T20:24:16.688262Z",
     "iopub.status.busy": "2022-04-05T20:24:16.687180Z",
     "iopub.status.idle": "2022-04-05T20:24:17.038129Z",
     "shell.execute_reply": "2022-04-05T20:24:17.037528Z"
    }
   },
   "outputs": [],
   "source": [
    "import requests\n",
    "import pandas as pd\n",
    "import numpy as np\n",
    "from datetime import datetime"
   ]
  },
  {
   "cell_type": "markdown",
   "metadata": {},
   "source": [
    "## Download"
   ]
  },
  {
   "cell_type": "markdown",
   "metadata": {},
   "source": [
    "Retrieve the data for both Yuba and Sutter counties"
   ]
  },
  {
   "cell_type": "code",
   "execution_count": 4,
   "metadata": {
    "execution": {
     "iopub.execute_input": "2022-04-05T20:24:17.043362Z",
     "iopub.status.busy": "2022-04-05T20:24:17.040866Z",
     "iopub.status.idle": "2022-04-05T20:24:17.046688Z",
     "shell.execute_reply": "2022-04-05T20:24:17.047222Z"
    }
   },
   "outputs": [],
   "source": [
    "url = \"https://services5.arcgis.com/THtdW72WxYCCmIVL/ArcGIS/rest/services/CasesWeekly_Public/FeatureServer/0/query?where=1%3D1&objectIds=&time=&resultType=none&outFields=reportdt%2Cname%2CLiveOak%2CYubaCity%2CSutterOther%2CMarysville%2COlivehurstLinda%2CPlumasLake%2CWheatland%2CYubaOther&returnIdsOnly=false&returnUniqueIdsOnly=false&returnCountOnly=false&returnDistinctValues=false&cacheHint=false&orderByFields=&groupByFieldsForStatistics=&outStatistics=&having=&resultOffset=&resultRecordCount=&sqlFormat=none&f=pjson&token=\""
   ]
  },
  {
   "cell_type": "code",
   "execution_count": 5,
   "metadata": {
    "execution": {
     "iopub.execute_input": "2022-04-05T20:24:17.051307Z",
     "iopub.status.busy": "2022-04-05T20:24:17.050824Z",
     "iopub.status.idle": "2022-04-05T20:24:17.258644Z",
     "shell.execute_reply": "2022-04-05T20:24:17.259214Z"
    }
   },
   "outputs": [],
   "source": [
    "r = requests.get(url)"
   ]
  },
  {
   "cell_type": "code",
   "execution_count": 6,
   "metadata": {
    "execution": {
     "iopub.execute_input": "2022-04-05T20:24:17.265341Z",
     "iopub.status.busy": "2022-04-05T20:24:17.264805Z",
     "iopub.status.idle": "2022-04-05T20:24:17.268933Z",
     "shell.execute_reply": "2022-04-05T20:24:17.269393Z"
    }
   },
   "outputs": [],
   "source": [
    "data = r.json()"
   ]
  },
  {
   "cell_type": "markdown",
   "metadata": {},
   "source": [
    "## Parse"
   ]
  },
  {
   "cell_type": "code",
   "execution_count": 7,
   "metadata": {
    "execution": {
     "iopub.execute_input": "2022-04-05T20:24:17.274439Z",
     "iopub.status.busy": "2022-04-05T20:24:17.273874Z",
     "iopub.status.idle": "2022-04-05T20:24:17.276822Z",
     "shell.execute_reply": "2022-04-05T20:24:17.277305Z"
    }
   },
   "outputs": [],
   "source": [
    "dict_list = []"
   ]
  },
  {
   "cell_type": "code",
   "execution_count": 8,
   "metadata": {
    "execution": {
     "iopub.execute_input": "2022-04-05T20:24:17.285180Z",
     "iopub.status.busy": "2022-04-05T20:24:17.284174Z",
     "iopub.status.idle": "2022-04-05T20:24:17.287407Z",
     "shell.execute_reply": "2022-04-05T20:24:17.287859Z"
    }
   },
   "outputs": [],
   "source": [
    "for item in data[\"features\"]:\n",
    "    d = dict(item[\"attributes\"])\n",
    "    dict_list.append(d)"
   ]
  },
  {
   "cell_type": "code",
   "execution_count": 9,
   "metadata": {
    "execution": {
     "iopub.execute_input": "2022-04-05T20:24:17.294720Z",
     "iopub.status.busy": "2022-04-05T20:24:17.294156Z",
     "iopub.status.idle": "2022-04-05T20:24:17.299355Z",
     "shell.execute_reply": "2022-04-05T20:24:17.298835Z"
    }
   },
   "outputs": [],
   "source": [
    "df = pd.DataFrame(dict_list)"
   ]
  },
  {
   "cell_type": "code",
   "execution_count": 10,
   "metadata": {
    "execution": {
     "iopub.execute_input": "2022-04-05T20:24:17.305479Z",
     "iopub.status.busy": "2022-04-05T20:24:17.304895Z",
     "iopub.status.idle": "2022-04-05T20:24:17.313879Z",
     "shell.execute_reply": "2022-04-05T20:24:17.313315Z"
    }
   },
   "outputs": [],
   "source": [
    "df = df[\n",
    "    [\n",
    "        \"reportdt\",\n",
    "        \"Name\",\n",
    "        \"LiveOak\",\n",
    "        \"YubaCity\",\n",
    "        \"SutterOther\",\n",
    "        \"Marysville\",\n",
    "        \"OlivehurstLinda\",\n",
    "        \"Wheatland\",\n",
    "        \"YubaOther\",\n",
    "        \"PlumasLake\",\n",
    "    ]\n",
    "]"
   ]
  },
  {
   "cell_type": "code",
   "execution_count": 11,
   "metadata": {
    "execution": {
     "iopub.execute_input": "2022-04-05T20:24:17.321031Z",
     "iopub.status.busy": "2022-04-05T20:24:17.318686Z",
     "iopub.status.idle": "2022-04-05T20:24:17.324460Z",
     "shell.execute_reply": "2022-04-05T20:24:17.325085Z"
    }
   },
   "outputs": [],
   "source": [
    "df = df.rename(columns={\"Name\": \"name\"})"
   ]
  },
  {
   "cell_type": "markdown",
   "metadata": {},
   "source": [
    "Set the date"
   ]
  },
  {
   "cell_type": "code",
   "execution_count": 12,
   "metadata": {
    "execution": {
     "iopub.execute_input": "2022-04-05T20:24:17.330699Z",
     "iopub.status.busy": "2022-04-05T20:24:17.330136Z",
     "iopub.status.idle": "2022-04-05T20:24:17.334059Z",
     "shell.execute_reply": "2022-04-05T20:24:17.334527Z"
    }
   },
   "outputs": [],
   "source": [
    "df[\"reportdt\"] = df[\"reportdt\"] / 1000"
   ]
  },
  {
   "cell_type": "code",
   "execution_count": 13,
   "metadata": {
    "execution": {
     "iopub.execute_input": "2022-04-05T20:24:17.340416Z",
     "iopub.status.busy": "2022-04-05T20:24:17.339846Z",
     "iopub.status.idle": "2022-04-05T20:24:17.344718Z",
     "shell.execute_reply": "2022-04-05T20:24:17.344234Z"
    }
   },
   "outputs": [],
   "source": [
    "df[\"reportdt\"] = pd.to_datetime(df[\"reportdt\"], unit=\"s\")"
   ]
  },
  {
   "cell_type": "code",
   "execution_count": 14,
   "metadata": {
    "execution": {
     "iopub.execute_input": "2022-04-05T20:24:17.349627Z",
     "iopub.status.busy": "2022-04-05T20:24:17.349087Z",
     "iopub.status.idle": "2022-04-05T20:24:17.352935Z",
     "shell.execute_reply": "2022-04-05T20:24:17.353426Z"
    }
   },
   "outputs": [],
   "source": [
    "df[\"county_date\"] = df[\"reportdt\"].dt.date"
   ]
  },
  {
   "cell_type": "markdown",
   "metadata": {},
   "source": [
    "Get the latest date in the timeseries"
   ]
  },
  {
   "cell_type": "code",
   "execution_count": 15,
   "metadata": {
    "execution": {
     "iopub.execute_input": "2022-04-05T20:24:17.360493Z",
     "iopub.status.busy": "2022-04-05T20:24:17.359938Z",
     "iopub.status.idle": "2022-04-05T20:24:17.394991Z",
     "shell.execute_reply": "2022-04-05T20:24:17.395427Z"
    }
   },
   "outputs": [],
   "source": [
    "latest_df = df.loc[df.groupby([\"name\", \"county_date\"]).reportdt.idxmax()]"
   ]
  },
  {
   "cell_type": "markdown",
   "metadata": {},
   "source": [
    "Sift out Sutter County's cities"
   ]
  },
  {
   "cell_type": "code",
   "execution_count": 16,
   "metadata": {
    "execution": {
     "iopub.execute_input": "2022-04-05T20:24:17.401369Z",
     "iopub.status.busy": "2022-04-05T20:24:17.398688Z",
     "iopub.status.idle": "2022-04-05T20:24:17.404575Z",
     "shell.execute_reply": "2022-04-05T20:24:17.404054Z"
    }
   },
   "outputs": [],
   "source": [
    "sutter_df = latest_df[latest_df.name.eq(\"Sutter County\")]"
   ]
  },
  {
   "cell_type": "code",
   "execution_count": 17,
   "metadata": {
    "execution": {
     "iopub.execute_input": "2022-04-05T20:24:17.410572Z",
     "iopub.status.busy": "2022-04-05T20:24:17.410018Z",
     "iopub.status.idle": "2022-04-05T20:24:17.415570Z",
     "shell.execute_reply": "2022-04-05T20:24:17.415093Z"
    }
   },
   "outputs": [],
   "source": [
    "sutter_df = sutter_df[[\"LiveOak\", \"YubaCity\", \"SutterOther\", \"county_date\", \"reportdt\"]]"
   ]
  },
  {
   "cell_type": "code",
   "execution_count": 18,
   "metadata": {
    "execution": {
     "iopub.execute_input": "2022-04-05T20:24:17.422587Z",
     "iopub.status.busy": "2022-04-05T20:24:17.421927Z",
     "iopub.status.idle": "2022-04-05T20:24:17.426054Z",
     "shell.execute_reply": "2022-04-05T20:24:17.425563Z"
    }
   },
   "outputs": [],
   "source": [
    "sutter_latest = sutter_df[sutter_df.reportdt == sutter_df.reportdt.max()]"
   ]
  },
  {
   "cell_type": "markdown",
   "metadata": {},
   "source": [
    "Melt down"
   ]
  },
  {
   "cell_type": "code",
   "execution_count": 19,
   "metadata": {
    "execution": {
     "iopub.execute_input": "2022-04-05T20:24:17.432561Z",
     "iopub.status.busy": "2022-04-05T20:24:17.431753Z",
     "iopub.status.idle": "2022-04-05T20:24:17.435685Z",
     "shell.execute_reply": "2022-04-05T20:24:17.436264Z"
    }
   },
   "outputs": [],
   "source": [
    "sutter_latest.set_index(\"county_date\", inplace=True)"
   ]
  },
  {
   "cell_type": "code",
   "execution_count": 20,
   "metadata": {
    "execution": {
     "iopub.execute_input": "2022-04-05T20:24:17.447621Z",
     "iopub.status.busy": "2022-04-05T20:24:17.445830Z",
     "iopub.status.idle": "2022-04-05T20:24:17.450434Z",
     "shell.execute_reply": "2022-04-05T20:24:17.450924Z"
    }
   },
   "outputs": [],
   "source": [
    "sutter_melt = pd.melt(\n",
    "    sutter_latest.reset_index(),\n",
    "    id_vars=\"county_date\",\n",
    "    var_name=\"area\",\n",
    "    value_name=\"confirmed_cases\",\n",
    ")"
   ]
  },
  {
   "cell_type": "markdown",
   "metadata": {},
   "source": [
    "Clean names"
   ]
  },
  {
   "cell_type": "code",
   "execution_count": 21,
   "metadata": {
    "execution": {
     "iopub.execute_input": "2022-04-05T20:24:17.458369Z",
     "iopub.status.busy": "2022-04-05T20:24:17.456029Z",
     "iopub.status.idle": "2022-04-05T20:24:17.461272Z",
     "shell.execute_reply": "2022-04-05T20:24:17.460465Z"
    }
   },
   "outputs": [],
   "source": [
    "sutter_clean = sutter_melt[sutter_melt[\"area\"] != \"reportdt\"]"
   ]
  },
  {
   "cell_type": "code",
   "execution_count": 22,
   "metadata": {
    "execution": {
     "iopub.execute_input": "2022-04-05T20:24:17.466970Z",
     "iopub.status.busy": "2022-04-05T20:24:17.465176Z",
     "iopub.status.idle": "2022-04-05T20:24:17.471841Z",
     "shell.execute_reply": "2022-04-05T20:24:17.471094Z"
    }
   },
   "outputs": [],
   "source": [
    "clean_sutter_cities = {\n",
    "    \"YubaCity\": \"Yuba City\",\n",
    "    \"YubaCIty\": \"Yuba City\",\n",
    "    \"LiveOak\": \"Live Oak\",\n",
    "    \"SutterOther\": \"Other\",\n",
    "}"
   ]
  },
  {
   "cell_type": "code",
   "execution_count": 23,
   "metadata": {
    "execution": {
     "iopub.execute_input": "2022-04-05T20:24:17.478414Z",
     "iopub.status.busy": "2022-04-05T20:24:17.477826Z",
     "iopub.status.idle": "2022-04-05T20:24:17.480870Z",
     "shell.execute_reply": "2022-04-05T20:24:17.481312Z"
    }
   },
   "outputs": [],
   "source": [
    "sutter_clean = sutter_clean.replace({\"area\": clean_sutter_cities})"
   ]
  },
  {
   "cell_type": "code",
   "execution_count": 24,
   "metadata": {
    "execution": {
     "iopub.execute_input": "2022-04-05T20:24:17.492190Z",
     "iopub.status.busy": "2022-04-05T20:24:17.490811Z",
     "iopub.status.idle": "2022-04-05T20:24:17.502175Z",
     "shell.execute_reply": "2022-04-05T20:24:17.501606Z"
    }
   },
   "outputs": [
    {
     "data": {
      "text/html": [
       "<div>\n",
       "<style scoped>\n",
       "    .dataframe tbody tr th:only-of-type {\n",
       "        vertical-align: middle;\n",
       "    }\n",
       "\n",
       "    .dataframe tbody tr th {\n",
       "        vertical-align: top;\n",
       "    }\n",
       "\n",
       "    .dataframe thead th {\n",
       "        text-align: right;\n",
       "    }\n",
       "</style>\n",
       "<table border=\"1\" class=\"dataframe\">\n",
       "  <thead>\n",
       "    <tr style=\"text-align: right;\">\n",
       "      <th></th>\n",
       "      <th>county</th>\n",
       "      <th>county_date</th>\n",
       "      <th>area</th>\n",
       "      <th>confirmed_cases</th>\n",
       "    </tr>\n",
       "  </thead>\n",
       "  <tbody>\n",
       "  </tbody>\n",
       "</table>\n",
       "</div>"
      ],
      "text/plain": [
       "Empty DataFrame\n",
       "Columns: [county, county_date, area, confirmed_cases]\n",
       "Index: []"
      ]
     },
     "execution_count": 24,
     "metadata": {},
     "output_type": "execute_result"
    }
   ],
   "source": [
    "sutter_clean.insert(0, \"county\", \"Sutter\")\n",
    "sutter_clean"
   ]
  },
  {
   "cell_type": "markdown",
   "metadata": {},
   "source": [
    "## Vet"
   ]
  },
  {
   "cell_type": "code",
   "execution_count": 25,
   "metadata": {
    "execution": {
     "iopub.execute_input": "2022-04-05T20:24:17.506628Z",
     "iopub.status.busy": "2022-04-05T20:24:17.506097Z",
     "iopub.status.idle": "2022-04-05T20:24:17.510664Z",
     "shell.execute_reply": "2022-04-05T20:24:17.510260Z"
    }
   },
   "outputs": [],
   "source": [
    "try:\n",
    "    assert not len(sutter_clean) > 3\n",
    "except AssertionError:\n",
    "    raise AssertionError(\"Sutter County's scraper has extra rows\")"
   ]
  },
  {
   "cell_type": "code",
   "execution_count": 26,
   "metadata": {
    "execution": {
     "iopub.execute_input": "2022-04-05T20:24:17.515483Z",
     "iopub.status.busy": "2022-04-05T20:24:17.514852Z",
     "iopub.status.idle": "2022-04-05T20:24:17.644130Z",
     "shell.execute_reply": "2022-04-05T20:24:17.643351Z"
    }
   },
   "outputs": [
    {
     "ename": "AssertionError",
     "evalue": "Sutter County's scraper is missing rows",
     "output_type": "error",
     "traceback": [
      "\u001b[0;31m---------------------------------------------------------------------------\u001b[0m",
      "\u001b[0;31mAssertionError\u001b[0m                            Traceback (most recent call last)",
      "\u001b[0;32m/tmp/ipykernel_2850/778601857.py\u001b[0m in \u001b[0;36m<module>\u001b[0;34m\u001b[0m\n\u001b[1;32m      1\u001b[0m \u001b[0;32mtry\u001b[0m\u001b[0;34m:\u001b[0m\u001b[0;34m\u001b[0m\u001b[0;34m\u001b[0m\u001b[0m\n\u001b[0;32m----> 2\u001b[0;31m     \u001b[0;32massert\u001b[0m \u001b[0;32mnot\u001b[0m \u001b[0mlen\u001b[0m\u001b[0;34m(\u001b[0m\u001b[0msutter_clean\u001b[0m\u001b[0;34m)\u001b[0m \u001b[0;34m<\u001b[0m \u001b[0;36m3\u001b[0m\u001b[0;34m\u001b[0m\u001b[0;34m\u001b[0m\u001b[0m\n\u001b[0m\u001b[1;32m      3\u001b[0m \u001b[0;32mexcept\u001b[0m \u001b[0mAssertionError\u001b[0m\u001b[0;34m:\u001b[0m\u001b[0;34m\u001b[0m\u001b[0;34m\u001b[0m\u001b[0m\n",
      "\u001b[0;31mAssertionError\u001b[0m: ",
      "\nDuring handling of the above exception, another exception occurred:\n",
      "\u001b[0;31mAssertionError\u001b[0m                            Traceback (most recent call last)",
      "\u001b[0;32m/tmp/ipykernel_2850/778601857.py\u001b[0m in \u001b[0;36m<module>\u001b[0;34m\u001b[0m\n\u001b[1;32m      2\u001b[0m     \u001b[0;32massert\u001b[0m \u001b[0;32mnot\u001b[0m \u001b[0mlen\u001b[0m\u001b[0;34m(\u001b[0m\u001b[0msutter_clean\u001b[0m\u001b[0;34m)\u001b[0m \u001b[0;34m<\u001b[0m \u001b[0;36m3\u001b[0m\u001b[0;34m\u001b[0m\u001b[0;34m\u001b[0m\u001b[0m\n\u001b[1;32m      3\u001b[0m \u001b[0;32mexcept\u001b[0m \u001b[0mAssertionError\u001b[0m\u001b[0;34m:\u001b[0m\u001b[0;34m\u001b[0m\u001b[0;34m\u001b[0m\u001b[0m\n\u001b[0;32m----> 4\u001b[0;31m     \u001b[0;32mraise\u001b[0m \u001b[0mAssertionError\u001b[0m\u001b[0;34m(\u001b[0m\u001b[0;34m\"Sutter County's scraper is missing rows\"\u001b[0m\u001b[0;34m)\u001b[0m\u001b[0;34m\u001b[0m\u001b[0;34m\u001b[0m\u001b[0m\n\u001b[0m",
      "\u001b[0;31mAssertionError\u001b[0m: Sutter County's scraper is missing rows"
     ]
    }
   ],
   "source": [
    "try:\n",
    "    assert not len(sutter_clean) < 3\n",
    "except AssertionError:\n",
    "    raise AssertionError(\"Sutter County's scraper is missing rows\")"
   ]
  },
  {
   "cell_type": "markdown",
   "metadata": {},
   "source": [
    "## Export"
   ]
  },
  {
   "cell_type": "markdown",
   "metadata": {},
   "source": [
    "Set date"
   ]
  },
  {
   "cell_type": "code",
   "execution_count": 72,
   "metadata": {},
   "outputs": [],
   "source": [
    "tz = pytz.timezone(\"America/Los_Angeles\")"
   ]
  },
  {
   "cell_type": "code",
   "execution_count": 73,
   "metadata": {},
   "outputs": [],
   "source": [
    "today = datetime.now(tz).date()"
   ]
  },
  {
   "cell_type": "code",
   "execution_count": 74,
   "metadata": {},
   "outputs": [],
   "source": [
    "slug = \"sutter\""
   ]
  },
  {
   "cell_type": "code",
   "execution_count": 75,
   "metadata": {},
   "outputs": [],
   "source": [
    "sutter_clean.to_csv(data_dir / slug / f\"{today}.csv\", index=False)"
   ]
  },
  {
   "cell_type": "markdown",
   "metadata": {},
   "source": [
    "## Combine"
   ]
  },
  {
   "cell_type": "code",
   "execution_count": 76,
   "metadata": {},
   "outputs": [],
   "source": [
    "csv_list = [\n",
    "    i\n",
    "    for i in glob.glob(str(data_dir / slug / \"*.csv\"))\n",
    "    if not str(i).endswith(\"timeseries.csv\")\n",
    "]"
   ]
  },
  {
   "cell_type": "code",
   "execution_count": 77,
   "metadata": {},
   "outputs": [],
   "source": [
    "df_list = []\n",
    "for csv in csv_list:\n",
    "    if \"manual\" in csv:\n",
    "        df = pd.read_csv(csv, parse_dates=[\"date\"])\n",
    "    else:\n",
    "        file_date = csv.split(\"/\")[-1].replace(\".csv\", \"\")\n",
    "        df = pd.read_csv(csv, parse_dates=[\"county_date\"])\n",
    "        df[\"date\"] = file_date\n",
    "    df_list.append(df)"
   ]
  },
  {
   "cell_type": "code",
   "execution_count": 78,
   "metadata": {},
   "outputs": [],
   "source": [
    "df = pd.concat(df_list).sort_values([\"date\", \"area\"])"
   ]
  },
  {
   "cell_type": "code",
   "execution_count": 79,
   "metadata": {},
   "outputs": [],
   "source": [
    "df.to_csv(data_dir / slug / \"timeseries.csv\", index=False)"
   ]
  }
 ],
 "metadata": {
  "kernelspec": {
   "display_name": "Python 3 (ipykernel)",
   "language": "python",
   "name": "python3"
  },
  "language_info": {
   "codemirror_mode": {
    "name": "ipython",
    "version": 3
   },
   "file_extension": ".py",
   "mimetype": "text/x-python",
   "name": "python",
   "nbconvert_exporter": "python",
   "pygments_lexer": "ipython3",
   "version": "3.8.12"
  }
 },
 "nbformat": 4,
 "nbformat_minor": 4
}
