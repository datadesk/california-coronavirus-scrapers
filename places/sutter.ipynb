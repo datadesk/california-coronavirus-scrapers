{
 "cells": [
  {
   "cell_type": "markdown",
   "metadata": {},
   "source": [
    "## Configuration\n",
    "_Initial steps to get the notebook ready to play nice with our repository. Do not delete this section._"
   ]
  },
  {
   "cell_type": "markdown",
   "metadata": {},
   "source": [
    "Code formatting with [black](https://pypi.org/project/nb-black/)."
   ]
  },
  {
   "cell_type": "code",
   "execution_count": 1,
   "metadata": {
    "execution": {
     "iopub.execute_input": "2022-03-21T12:29:07.692068Z",
     "iopub.status.busy": "2022-03-21T12:29:07.691367Z",
     "iopub.status.idle": "2022-03-21T12:29:07.808343Z",
     "shell.execute_reply": "2022-03-21T12:29:07.807758Z"
    }
   },
   "outputs": [],
   "source": [
    "%load_ext lab_black"
   ]
  },
  {
   "cell_type": "code",
   "execution_count": 2,
   "metadata": {
    "execution": {
     "iopub.execute_input": "2022-03-21T12:29:07.812490Z",
     "iopub.status.busy": "2022-03-21T12:29:07.812006Z",
     "iopub.status.idle": "2022-03-21T12:29:07.819108Z",
     "shell.execute_reply": "2022-03-21T12:29:07.819463Z"
    }
   },
   "outputs": [],
   "source": [
    "import os\n",
    "import pytz\n",
    "import glob\n",
    "import pathlib\n",
    "\n",
    "this_dir = pathlib.Path(os.path.abspath(\"\"))\n",
    "data_dir = this_dir / \"data\""
   ]
  },
  {
   "cell_type": "code",
   "execution_count": 3,
   "metadata": {
    "execution": {
     "iopub.execute_input": "2022-03-21T12:29:07.822710Z",
     "iopub.status.busy": "2022-03-21T12:29:07.822266Z",
     "iopub.status.idle": "2022-03-21T12:29:08.107676Z",
     "shell.execute_reply": "2022-03-21T12:29:08.106770Z"
    }
   },
   "outputs": [],
   "source": [
    "import requests\n",
    "import pandas as pd\n",
    "import numpy as np\n",
    "from datetime import datetime"
   ]
  },
  {
   "cell_type": "markdown",
   "metadata": {},
   "source": [
    "## Download"
   ]
  },
  {
   "cell_type": "markdown",
   "metadata": {},
   "source": [
    "Retrieve the data for both Yuba and Sutter counties"
   ]
  },
  {
   "cell_type": "code",
   "execution_count": 4,
   "metadata": {
    "execution": {
     "iopub.execute_input": "2022-03-21T12:29:08.112573Z",
     "iopub.status.busy": "2022-03-21T12:29:08.111433Z",
     "iopub.status.idle": "2022-03-21T12:29:08.115558Z",
     "shell.execute_reply": "2022-03-21T12:29:08.115910Z"
    }
   },
   "outputs": [],
   "source": [
    "url = \"https://services5.arcgis.com/THtdW72WxYCCmIVL/ArcGIS/rest/services/CasesWeekly_Public/FeatureServer/0/query?where=1%3D1&objectIds=&time=&resultType=none&outFields=reportdt%2Cname%2CLiveOak%2CYubaCity%2CSutterOther%2CMarysville%2COlivehurstLinda%2CPlumasLake%2CWheatland%2CYubaOther&returnIdsOnly=false&returnUniqueIdsOnly=false&returnCountOnly=false&returnDistinctValues=false&cacheHint=false&orderByFields=&groupByFieldsForStatistics=&outStatistics=&having=&resultOffset=&resultRecordCount=&sqlFormat=none&f=pjson&token=\""
   ]
  },
  {
   "cell_type": "code",
   "execution_count": 5,
   "metadata": {
    "execution": {
     "iopub.execute_input": "2022-03-21T12:29:08.122636Z",
     "iopub.status.busy": "2022-03-21T12:29:08.118760Z",
     "iopub.status.idle": "2022-03-21T12:29:08.368238Z",
     "shell.execute_reply": "2022-03-21T12:29:08.367695Z"
    }
   },
   "outputs": [],
   "source": [
    "r = requests.get(url)"
   ]
  },
  {
   "cell_type": "code",
   "execution_count": 6,
   "metadata": {
    "execution": {
     "iopub.execute_input": "2022-03-21T12:29:08.374583Z",
     "iopub.status.busy": "2022-03-21T12:29:08.374124Z",
     "iopub.status.idle": "2022-03-21T12:29:08.377344Z",
     "shell.execute_reply": "2022-03-21T12:29:08.376938Z"
    }
   },
   "outputs": [],
   "source": [
    "data = r.json()"
   ]
  },
  {
   "cell_type": "markdown",
   "metadata": {},
   "source": [
    "## Parse"
   ]
  },
  {
   "cell_type": "code",
   "execution_count": 7,
   "metadata": {
    "execution": {
     "iopub.execute_input": "2022-03-21T12:29:08.381465Z",
     "iopub.status.busy": "2022-03-21T12:29:08.380991Z",
     "iopub.status.idle": "2022-03-21T12:29:08.383392Z",
     "shell.execute_reply": "2022-03-21T12:29:08.383736Z"
    }
   },
   "outputs": [],
   "source": [
    "dict_list = []"
   ]
  },
  {
   "cell_type": "code",
   "execution_count": 8,
   "metadata": {
    "execution": {
     "iopub.execute_input": "2022-03-21T12:29:08.388996Z",
     "iopub.status.busy": "2022-03-21T12:29:08.385553Z",
     "iopub.status.idle": "2022-03-21T12:29:08.391866Z",
     "shell.execute_reply": "2022-03-21T12:29:08.391492Z"
    }
   },
   "outputs": [],
   "source": [
    "for item in data[\"features\"]:\n",
    "    d = dict(item[\"attributes\"])\n",
    "    dict_list.append(d)"
   ]
  },
  {
   "cell_type": "code",
   "execution_count": 9,
   "metadata": {
    "execution": {
     "iopub.execute_input": "2022-03-21T12:29:08.397649Z",
     "iopub.status.busy": "2022-03-21T12:29:08.397149Z",
     "iopub.status.idle": "2022-03-21T12:29:08.400036Z",
     "shell.execute_reply": "2022-03-21T12:29:08.400388Z"
    }
   },
   "outputs": [],
   "source": [
    "df = pd.DataFrame(dict_list)"
   ]
  },
  {
   "cell_type": "code",
   "execution_count": 10,
   "metadata": {
    "execution": {
     "iopub.execute_input": "2022-03-21T12:29:08.405890Z",
     "iopub.status.busy": "2022-03-21T12:29:08.405431Z",
     "iopub.status.idle": "2022-03-21T12:29:08.410803Z",
     "shell.execute_reply": "2022-03-21T12:29:08.410428Z"
    }
   },
   "outputs": [],
   "source": [
    "df = df[\n",
    "    [\n",
    "        \"reportdt\",\n",
    "        \"Name\",\n",
    "        \"LiveOak\",\n",
    "        \"YubaCity\",\n",
    "        \"SutterOther\",\n",
    "        \"Marysville\",\n",
    "        \"OlivehurstLinda\",\n",
    "        \"Wheatland\",\n",
    "        \"YubaOther\",\n",
    "        \"PlumasLake\",\n",
    "    ]\n",
    "]"
   ]
  },
  {
   "cell_type": "code",
   "execution_count": 11,
   "metadata": {
    "execution": {
     "iopub.execute_input": "2022-03-21T12:29:08.413651Z",
     "iopub.status.busy": "2022-03-21T12:29:08.412625Z",
     "iopub.status.idle": "2022-03-21T12:29:08.417965Z",
     "shell.execute_reply": "2022-03-21T12:29:08.417587Z"
    }
   },
   "outputs": [],
   "source": [
    "df = df.rename(columns={\"Name\": \"name\"})"
   ]
  },
  {
   "cell_type": "markdown",
   "metadata": {},
   "source": [
    "Set the date"
   ]
  },
  {
   "cell_type": "code",
   "execution_count": 12,
   "metadata": {
    "execution": {
     "iopub.execute_input": "2022-03-21T12:29:08.422177Z",
     "iopub.status.busy": "2022-03-21T12:29:08.421726Z",
     "iopub.status.idle": "2022-03-21T12:29:08.424982Z",
     "shell.execute_reply": "2022-03-21T12:29:08.424564Z"
    }
   },
   "outputs": [],
   "source": [
    "df[\"reportdt\"] = df[\"reportdt\"] / 1000"
   ]
  },
  {
   "cell_type": "code",
   "execution_count": 13,
   "metadata": {
    "execution": {
     "iopub.execute_input": "2022-03-21T12:29:08.429831Z",
     "iopub.status.busy": "2022-03-21T12:29:08.429377Z",
     "iopub.status.idle": "2022-03-21T12:29:08.433004Z",
     "shell.execute_reply": "2022-03-21T12:29:08.432609Z"
    }
   },
   "outputs": [],
   "source": [
    "df[\"reportdt\"] = pd.to_datetime(df[\"reportdt\"], unit=\"s\")"
   ]
  },
  {
   "cell_type": "code",
   "execution_count": 14,
   "metadata": {
    "execution": {
     "iopub.execute_input": "2022-03-21T12:29:08.437901Z",
     "iopub.status.busy": "2022-03-21T12:29:08.437446Z",
     "iopub.status.idle": "2022-03-21T12:29:08.441241Z",
     "shell.execute_reply": "2022-03-21T12:29:08.440874Z"
    }
   },
   "outputs": [],
   "source": [
    "df[\"county_date\"] = df[\"reportdt\"].dt.date"
   ]
  },
  {
   "cell_type": "markdown",
   "metadata": {},
   "source": [
    "Get the latest date in the timeseries"
   ]
  },
  {
   "cell_type": "code",
   "execution_count": 15,
   "metadata": {
    "execution": {
     "iopub.execute_input": "2022-03-21T12:29:08.445558Z",
     "iopub.status.busy": "2022-03-21T12:29:08.445072Z",
     "iopub.status.idle": "2022-03-21T12:29:08.471512Z",
     "shell.execute_reply": "2022-03-21T12:29:08.471094Z"
    }
   },
   "outputs": [],
   "source": [
    "latest_df = df.loc[df.groupby([\"name\", \"county_date\"]).reportdt.idxmax()]"
   ]
  },
  {
   "cell_type": "markdown",
   "metadata": {},
   "source": [
    "Sift out Sutter County's cities"
   ]
  },
  {
   "cell_type": "code",
   "execution_count": 16,
   "metadata": {
    "execution": {
     "iopub.execute_input": "2022-03-21T12:29:08.475821Z",
     "iopub.status.busy": "2022-03-21T12:29:08.475377Z",
     "iopub.status.idle": "2022-03-21T12:29:08.479223Z",
     "shell.execute_reply": "2022-03-21T12:29:08.478836Z"
    }
   },
   "outputs": [],
   "source": [
    "sutter_df = latest_df[latest_df.name.eq(\"Sutter County\")]"
   ]
  },
  {
   "cell_type": "code",
   "execution_count": 17,
   "metadata": {
    "execution": {
     "iopub.execute_input": "2022-03-21T12:29:08.484998Z",
     "iopub.status.busy": "2022-03-21T12:29:08.484530Z",
     "iopub.status.idle": "2022-03-21T12:29:08.486741Z",
     "shell.execute_reply": "2022-03-21T12:29:08.486376Z"
    }
   },
   "outputs": [],
   "source": [
    "sutter_df = sutter_df[[\"LiveOak\", \"YubaCity\", \"SutterOther\", \"county_date\", \"reportdt\"]]"
   ]
  },
  {
   "cell_type": "code",
   "execution_count": 18,
   "metadata": {
    "execution": {
     "iopub.execute_input": "2022-03-21T12:29:08.490783Z",
     "iopub.status.busy": "2022-03-21T12:29:08.490332Z",
     "iopub.status.idle": "2022-03-21T12:29:08.493668Z",
     "shell.execute_reply": "2022-03-21T12:29:08.493258Z"
    }
   },
   "outputs": [],
   "source": [
    "sutter_latest = sutter_df[sutter_df.reportdt == sutter_df.reportdt.max()]"
   ]
  },
  {
   "cell_type": "markdown",
   "metadata": {},
   "source": [
    "Melt down"
   ]
  },
  {
   "cell_type": "code",
   "execution_count": 19,
   "metadata": {
    "execution": {
     "iopub.execute_input": "2022-03-21T12:29:08.497446Z",
     "iopub.status.busy": "2022-03-21T12:29:08.496978Z",
     "iopub.status.idle": "2022-03-21T12:29:08.499837Z",
     "shell.execute_reply": "2022-03-21T12:29:08.500180Z"
    }
   },
   "outputs": [],
   "source": [
    "sutter_latest.set_index(\"county_date\", inplace=True)"
   ]
  },
  {
   "cell_type": "code",
   "execution_count": 20,
   "metadata": {
    "execution": {
     "iopub.execute_input": "2022-03-21T12:29:08.504007Z",
     "iopub.status.busy": "2022-03-21T12:29:08.503569Z",
     "iopub.status.idle": "2022-03-21T12:29:08.510215Z",
     "shell.execute_reply": "2022-03-21T12:29:08.509852Z"
    }
   },
   "outputs": [],
   "source": [
    "sutter_melt = pd.melt(\n",
    "    sutter_latest.reset_index(),\n",
    "    id_vars=\"county_date\",\n",
    "    var_name=\"area\",\n",
    "    value_name=\"confirmed_cases\",\n",
    ")"
   ]
  },
  {
   "cell_type": "markdown",
   "metadata": {},
   "source": [
    "Clean names"
   ]
  },
  {
   "cell_type": "code",
   "execution_count": 21,
   "metadata": {
    "execution": {
     "iopub.execute_input": "2022-03-21T12:29:08.515293Z",
     "iopub.status.busy": "2022-03-21T12:29:08.514832Z",
     "iopub.status.idle": "2022-03-21T12:29:08.516861Z",
     "shell.execute_reply": "2022-03-21T12:29:08.516489Z"
    }
   },
   "outputs": [],
   "source": [
    "sutter_clean = sutter_melt[sutter_melt[\"area\"] != \"reportdt\"]"
   ]
  },
  {
   "cell_type": "code",
   "execution_count": 22,
   "metadata": {
    "execution": {
     "iopub.execute_input": "2022-03-21T12:29:08.521472Z",
     "iopub.status.busy": "2022-03-21T12:29:08.520989Z",
     "iopub.status.idle": "2022-03-21T12:29:08.524409Z",
     "shell.execute_reply": "2022-03-21T12:29:08.524044Z"
    }
   },
   "outputs": [],
   "source": [
    "clean_sutter_cities = {\n",
    "    \"YubaCity\": \"Yuba City\",\n",
    "    \"YubaCIty\": \"Yuba City\",\n",
    "    \"LiveOak\": \"Live Oak\",\n",
    "    \"SutterOther\": \"Other\",\n",
    "}"
   ]
  },
  {
   "cell_type": "code",
   "execution_count": 23,
   "metadata": {
    "execution": {
     "iopub.execute_input": "2022-03-21T12:29:08.529060Z",
     "iopub.status.busy": "2022-03-21T12:29:08.528596Z",
     "iopub.status.idle": "2022-03-21T12:29:08.530800Z",
     "shell.execute_reply": "2022-03-21T12:29:08.530338Z"
    }
   },
   "outputs": [],
   "source": [
    "sutter_clean = sutter_clean.replace({\"area\": clean_sutter_cities})"
   ]
  },
  {
   "cell_type": "code",
   "execution_count": 24,
   "metadata": {
    "execution": {
     "iopub.execute_input": "2022-03-21T12:29:08.538916Z",
     "iopub.status.busy": "2022-03-21T12:29:08.538475Z",
     "iopub.status.idle": "2022-03-21T12:29:08.546378Z",
     "shell.execute_reply": "2022-03-21T12:29:08.546012Z"
    }
   },
   "outputs": [
    {
     "data": {
      "text/html": [
       "<div>\n",
       "<style scoped>\n",
       "    .dataframe tbody tr th:only-of-type {\n",
       "        vertical-align: middle;\n",
       "    }\n",
       "\n",
       "    .dataframe tbody tr th {\n",
       "        vertical-align: top;\n",
       "    }\n",
       "\n",
       "    .dataframe thead th {\n",
       "        text-align: right;\n",
       "    }\n",
       "</style>\n",
       "<table border=\"1\" class=\"dataframe\">\n",
       "  <thead>\n",
       "    <tr style=\"text-align: right;\">\n",
       "      <th></th>\n",
       "      <th>county</th>\n",
       "      <th>county_date</th>\n",
       "      <th>area</th>\n",
       "      <th>confirmed_cases</th>\n",
       "    </tr>\n",
       "  </thead>\n",
       "  <tbody>\n",
       "  </tbody>\n",
       "</table>\n",
       "</div>"
      ],
      "text/plain": [
       "Empty DataFrame\n",
       "Columns: [county, county_date, area, confirmed_cases]\n",
       "Index: []"
      ]
     },
     "execution_count": 24,
     "metadata": {},
     "output_type": "execute_result"
    }
   ],
   "source": [
    "sutter_clean.insert(0, \"county\", \"Sutter\")\n",
    "sutter_clean"
   ]
  },
  {
   "cell_type": "markdown",
   "metadata": {},
   "source": [
    "## Vet"
   ]
  },
  {
   "cell_type": "code",
   "execution_count": 25,
   "metadata": {
    "execution": {
     "iopub.execute_input": "2022-03-21T12:29:08.551766Z",
     "iopub.status.busy": "2022-03-21T12:29:08.551302Z",
     "iopub.status.idle": "2022-03-21T12:29:08.553351Z",
     "shell.execute_reply": "2022-03-21T12:29:08.552969Z"
    }
   },
   "outputs": [],
   "source": [
    "try:\n",
    "    assert not len(sutter_clean) > 3\n",
    "except AssertionError:\n",
    "    raise AssertionError(\"Sutter County's scraper has extra rows\")"
   ]
  },
  {
   "cell_type": "code",
   "execution_count": 26,
   "metadata": {
    "execution": {
     "iopub.execute_input": "2022-03-21T12:29:08.557738Z",
     "iopub.status.busy": "2022-03-21T12:29:08.555027Z",
     "iopub.status.idle": "2022-03-21T12:29:08.674404Z",
     "shell.execute_reply": "2022-03-21T12:29:08.673837Z"
    }
   },
   "outputs": [
    {
     "ename": "AssertionError",
     "evalue": "Sutter County's scraper is missing rows",
     "output_type": "error",
     "traceback": [
      "\u001b[0;31m---------------------------------------------------------------------------\u001b[0m",
      "\u001b[0;31mAssertionError\u001b[0m                            Traceback (most recent call last)",
      "\u001b[0;32m/tmp/ipykernel_3686/778601857.py\u001b[0m in \u001b[0;36m<module>\u001b[0;34m\u001b[0m\n\u001b[1;32m      1\u001b[0m \u001b[0;32mtry\u001b[0m\u001b[0;34m:\u001b[0m\u001b[0;34m\u001b[0m\u001b[0;34m\u001b[0m\u001b[0m\n\u001b[0;32m----> 2\u001b[0;31m     \u001b[0;32massert\u001b[0m \u001b[0;32mnot\u001b[0m \u001b[0mlen\u001b[0m\u001b[0;34m(\u001b[0m\u001b[0msutter_clean\u001b[0m\u001b[0;34m)\u001b[0m \u001b[0;34m<\u001b[0m \u001b[0;36m3\u001b[0m\u001b[0;34m\u001b[0m\u001b[0;34m\u001b[0m\u001b[0m\n\u001b[0m\u001b[1;32m      3\u001b[0m \u001b[0;32mexcept\u001b[0m \u001b[0mAssertionError\u001b[0m\u001b[0;34m:\u001b[0m\u001b[0;34m\u001b[0m\u001b[0;34m\u001b[0m\u001b[0m\n",
      "\u001b[0;31mAssertionError\u001b[0m: ",
      "\nDuring handling of the above exception, another exception occurred:\n",
      "\u001b[0;31mAssertionError\u001b[0m                            Traceback (most recent call last)",
      "\u001b[0;32m/tmp/ipykernel_3686/778601857.py\u001b[0m in \u001b[0;36m<module>\u001b[0;34m\u001b[0m\n\u001b[1;32m      2\u001b[0m     \u001b[0;32massert\u001b[0m \u001b[0;32mnot\u001b[0m \u001b[0mlen\u001b[0m\u001b[0;34m(\u001b[0m\u001b[0msutter_clean\u001b[0m\u001b[0;34m)\u001b[0m \u001b[0;34m<\u001b[0m \u001b[0;36m3\u001b[0m\u001b[0;34m\u001b[0m\u001b[0;34m\u001b[0m\u001b[0m\n\u001b[1;32m      3\u001b[0m \u001b[0;32mexcept\u001b[0m \u001b[0mAssertionError\u001b[0m\u001b[0;34m:\u001b[0m\u001b[0;34m\u001b[0m\u001b[0;34m\u001b[0m\u001b[0m\n\u001b[0;32m----> 4\u001b[0;31m     \u001b[0;32mraise\u001b[0m \u001b[0mAssertionError\u001b[0m\u001b[0;34m(\u001b[0m\u001b[0;34m\"Sutter County's scraper is missing rows\"\u001b[0m\u001b[0;34m)\u001b[0m\u001b[0;34m\u001b[0m\u001b[0;34m\u001b[0m\u001b[0m\n\u001b[0m",
      "\u001b[0;31mAssertionError\u001b[0m: Sutter County's scraper is missing rows"
     ]
    }
   ],
   "source": [
    "try:\n",
    "    assert not len(sutter_clean) < 3\n",
    "except AssertionError:\n",
    "    raise AssertionError(\"Sutter County's scraper is missing rows\")"
   ]
  },
  {
   "cell_type": "markdown",
   "metadata": {},
   "source": [
    "## Export"
   ]
  },
  {
   "cell_type": "markdown",
   "metadata": {},
   "source": [
    "Set date"
   ]
  },
  {
   "cell_type": "code",
   "execution_count": 72,
   "metadata": {},
   "outputs": [],
   "source": [
    "tz = pytz.timezone(\"America/Los_Angeles\")"
   ]
  },
  {
   "cell_type": "code",
   "execution_count": 73,
   "metadata": {},
   "outputs": [],
   "source": [
    "today = datetime.now(tz).date()"
   ]
  },
  {
   "cell_type": "code",
   "execution_count": 74,
   "metadata": {},
   "outputs": [],
   "source": [
    "slug = \"sutter\""
   ]
  },
  {
   "cell_type": "code",
   "execution_count": 75,
   "metadata": {},
   "outputs": [],
   "source": [
    "sutter_clean.to_csv(data_dir / slug / f\"{today}.csv\", index=False)"
   ]
  },
  {
   "cell_type": "markdown",
   "metadata": {},
   "source": [
    "## Combine"
   ]
  },
  {
   "cell_type": "code",
   "execution_count": 76,
   "metadata": {},
   "outputs": [],
   "source": [
    "csv_list = [\n",
    "    i\n",
    "    for i in glob.glob(str(data_dir / slug / \"*.csv\"))\n",
    "    if not str(i).endswith(\"timeseries.csv\")\n",
    "]"
   ]
  },
  {
   "cell_type": "code",
   "execution_count": 77,
   "metadata": {},
   "outputs": [],
   "source": [
    "df_list = []\n",
    "for csv in csv_list:\n",
    "    if \"manual\" in csv:\n",
    "        df = pd.read_csv(csv, parse_dates=[\"date\"])\n",
    "    else:\n",
    "        file_date = csv.split(\"/\")[-1].replace(\".csv\", \"\")\n",
    "        df = pd.read_csv(csv, parse_dates=[\"county_date\"])\n",
    "        df[\"date\"] = file_date\n",
    "    df_list.append(df)"
   ]
  },
  {
   "cell_type": "code",
   "execution_count": 78,
   "metadata": {},
   "outputs": [],
   "source": [
    "df = pd.concat(df_list).sort_values([\"date\", \"area\"])"
   ]
  },
  {
   "cell_type": "code",
   "execution_count": 79,
   "metadata": {},
   "outputs": [],
   "source": [
    "df.to_csv(data_dir / slug / \"timeseries.csv\", index=False)"
   ]
  }
 ],
 "metadata": {
  "kernelspec": {
   "display_name": "Python 3 (ipykernel)",
   "language": "python",
   "name": "python3"
  },
  "language_info": {
   "codemirror_mode": {
    "name": "ipython",
    "version": 3
   },
   "file_extension": ".py",
   "mimetype": "text/x-python",
   "name": "python",
   "nbconvert_exporter": "python",
   "pygments_lexer": "ipython3",
   "version": "3.8.12"
  }
 },
 "nbformat": 4,
 "nbformat_minor": 4
}
