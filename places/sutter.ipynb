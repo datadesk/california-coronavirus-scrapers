{
 "cells": [
  {
   "cell_type": "markdown",
   "metadata": {},
   "source": [
    "## Configuration\n",
    "_Initial steps to get the notebook ready to play nice with our repository. Do not delete this section._"
   ]
  },
  {
   "cell_type": "markdown",
   "metadata": {},
   "source": [
    "Code formatting with [black](https://pypi.org/project/nb-black/)."
   ]
  },
  {
   "cell_type": "code",
   "execution_count": 1,
   "metadata": {
    "execution": {
     "iopub.execute_input": "2022-04-13T08:29:10.225118Z",
     "iopub.status.busy": "2022-04-13T08:29:10.224380Z",
     "iopub.status.idle": "2022-04-13T08:29:10.350335Z",
     "shell.execute_reply": "2022-04-13T08:29:10.349705Z"
    }
   },
   "outputs": [],
   "source": [
    "%load_ext lab_black"
   ]
  },
  {
   "cell_type": "code",
   "execution_count": 2,
   "metadata": {
    "execution": {
     "iopub.execute_input": "2022-04-13T08:29:10.357116Z",
     "iopub.status.busy": "2022-04-13T08:29:10.356361Z",
     "iopub.status.idle": "2022-04-13T08:29:10.366674Z",
     "shell.execute_reply": "2022-04-13T08:29:10.366117Z"
    }
   },
   "outputs": [],
   "source": [
    "import os\n",
    "import pytz\n",
    "import glob\n",
    "import pathlib\n",
    "\n",
    "this_dir = pathlib.Path(os.path.abspath(\"\"))\n",
    "data_dir = this_dir / \"data\""
   ]
  },
  {
   "cell_type": "code",
   "execution_count": 3,
   "metadata": {
    "execution": {
     "iopub.execute_input": "2022-04-13T08:29:10.372383Z",
     "iopub.status.busy": "2022-04-13T08:29:10.371772Z",
     "iopub.status.idle": "2022-04-13T08:29:10.694237Z",
     "shell.execute_reply": "2022-04-13T08:29:10.693733Z"
    }
   },
   "outputs": [],
   "source": [
    "import requests\n",
    "import pandas as pd\n",
    "import numpy as np\n",
    "from datetime import datetime"
   ]
  },
  {
   "cell_type": "markdown",
   "metadata": {},
   "source": [
    "## Download"
   ]
  },
  {
   "cell_type": "markdown",
   "metadata": {},
   "source": [
    "Retrieve the data for both Yuba and Sutter counties"
   ]
  },
  {
   "cell_type": "code",
   "execution_count": 4,
   "metadata": {
    "execution": {
     "iopub.execute_input": "2022-04-13T08:29:10.700725Z",
     "iopub.status.busy": "2022-04-13T08:29:10.699281Z",
     "iopub.status.idle": "2022-04-13T08:29:10.703515Z",
     "shell.execute_reply": "2022-04-13T08:29:10.704083Z"
    }
   },
   "outputs": [],
   "source": [
    "url = \"https://services5.arcgis.com/THtdW72WxYCCmIVL/ArcGIS/rest/services/CasesWeekly_Public/FeatureServer/0/query?where=1%3D1&objectIds=&time=&resultType=none&outFields=reportdt%2Cname%2CLiveOak%2CYubaCity%2CSutterOther%2CMarysville%2COlivehurstLinda%2CPlumasLake%2CWheatland%2CYubaOther&returnIdsOnly=false&returnUniqueIdsOnly=false&returnCountOnly=false&returnDistinctValues=false&cacheHint=false&orderByFields=&groupByFieldsForStatistics=&outStatistics=&having=&resultOffset=&resultRecordCount=&sqlFormat=none&f=pjson&token=\""
   ]
  },
  {
   "cell_type": "code",
   "execution_count": 5,
   "metadata": {
    "execution": {
     "iopub.execute_input": "2022-04-13T08:29:10.711518Z",
     "iopub.status.busy": "2022-04-13T08:29:10.711037Z",
     "iopub.status.idle": "2022-04-13T08:29:11.312444Z",
     "shell.execute_reply": "2022-04-13T08:29:11.311967Z"
    }
   },
   "outputs": [],
   "source": [
    "r = requests.get(url)"
   ]
  },
  {
   "cell_type": "code",
   "execution_count": 6,
   "metadata": {
    "execution": {
     "iopub.execute_input": "2022-04-13T08:29:11.318131Z",
     "iopub.status.busy": "2022-04-13T08:29:11.317677Z",
     "iopub.status.idle": "2022-04-13T08:29:11.321229Z",
     "shell.execute_reply": "2022-04-13T08:29:11.320448Z"
    }
   },
   "outputs": [],
   "source": [
    "data = r.json()"
   ]
  },
  {
   "cell_type": "markdown",
   "metadata": {},
   "source": [
    "## Parse"
   ]
  },
  {
   "cell_type": "code",
   "execution_count": 7,
   "metadata": {
    "execution": {
     "iopub.execute_input": "2022-04-13T08:29:11.326768Z",
     "iopub.status.busy": "2022-04-13T08:29:11.326310Z",
     "iopub.status.idle": "2022-04-13T08:29:11.329302Z",
     "shell.execute_reply": "2022-04-13T08:29:11.329681Z"
    }
   },
   "outputs": [],
   "source": [
    "dict_list = []"
   ]
  },
  {
   "cell_type": "code",
   "execution_count": 8,
   "metadata": {
    "execution": {
     "iopub.execute_input": "2022-04-13T08:29:11.335303Z",
     "iopub.status.busy": "2022-04-13T08:29:11.334845Z",
     "iopub.status.idle": "2022-04-13T08:29:11.340832Z",
     "shell.execute_reply": "2022-04-13T08:29:11.340388Z"
    }
   },
   "outputs": [],
   "source": [
    "for item in data[\"features\"]:\n",
    "    d = dict(item[\"attributes\"])\n",
    "    dict_list.append(d)"
   ]
  },
  {
   "cell_type": "code",
   "execution_count": 9,
   "metadata": {
    "execution": {
     "iopub.execute_input": "2022-04-13T08:29:11.347298Z",
     "iopub.status.busy": "2022-04-13T08:29:11.345857Z",
     "iopub.status.idle": "2022-04-13T08:29:11.349859Z",
     "shell.execute_reply": "2022-04-13T08:29:11.349459Z"
    }
   },
   "outputs": [],
   "source": [
    "df = pd.DataFrame(dict_list)"
   ]
  },
  {
   "cell_type": "code",
   "execution_count": 10,
   "metadata": {
    "execution": {
     "iopub.execute_input": "2022-04-13T08:29:11.355419Z",
     "iopub.status.busy": "2022-04-13T08:29:11.351845Z",
     "iopub.status.idle": "2022-04-13T08:29:11.361647Z",
     "shell.execute_reply": "2022-04-13T08:29:11.361054Z"
    }
   },
   "outputs": [],
   "source": [
    "df = df[\n",
    "    [\n",
    "        \"reportdt\",\n",
    "        \"Name\",\n",
    "        \"LiveOak\",\n",
    "        \"YubaCity\",\n",
    "        \"SutterOther\",\n",
    "        \"Marysville\",\n",
    "        \"OlivehurstLinda\",\n",
    "        \"Wheatland\",\n",
    "        \"YubaOther\",\n",
    "        \"PlumasLake\",\n",
    "    ]\n",
    "]"
   ]
  },
  {
   "cell_type": "code",
   "execution_count": 11,
   "metadata": {
    "execution": {
     "iopub.execute_input": "2022-04-13T08:29:11.365781Z",
     "iopub.status.busy": "2022-04-13T08:29:11.365332Z",
     "iopub.status.idle": "2022-04-13T08:29:11.369066Z",
     "shell.execute_reply": "2022-04-13T08:29:11.368351Z"
    }
   },
   "outputs": [],
   "source": [
    "df = df.rename(columns={\"Name\": \"name\"})"
   ]
  },
  {
   "cell_type": "markdown",
   "metadata": {},
   "source": [
    "Set the date"
   ]
  },
  {
   "cell_type": "code",
   "execution_count": 12,
   "metadata": {
    "execution": {
     "iopub.execute_input": "2022-04-13T08:29:11.374550Z",
     "iopub.status.busy": "2022-04-13T08:29:11.372801Z",
     "iopub.status.idle": "2022-04-13T08:29:11.376807Z",
     "shell.execute_reply": "2022-04-13T08:29:11.376030Z"
    }
   },
   "outputs": [],
   "source": [
    "df[\"reportdt\"] = df[\"reportdt\"] / 1000"
   ]
  },
  {
   "cell_type": "code",
   "execution_count": 13,
   "metadata": {
    "execution": {
     "iopub.execute_input": "2022-04-13T08:29:11.383234Z",
     "iopub.status.busy": "2022-04-13T08:29:11.382783Z",
     "iopub.status.idle": "2022-04-13T08:29:11.385399Z",
     "shell.execute_reply": "2022-04-13T08:29:11.385779Z"
    }
   },
   "outputs": [],
   "source": [
    "df[\"reportdt\"] = pd.to_datetime(df[\"reportdt\"], unit=\"s\")"
   ]
  },
  {
   "cell_type": "code",
   "execution_count": 14,
   "metadata": {
    "execution": {
     "iopub.execute_input": "2022-04-13T08:29:11.391265Z",
     "iopub.status.busy": "2022-04-13T08:29:11.389695Z",
     "iopub.status.idle": "2022-04-13T08:29:11.394014Z",
     "shell.execute_reply": "2022-04-13T08:29:11.394392Z"
    }
   },
   "outputs": [],
   "source": [
    "df[\"county_date\"] = df[\"reportdt\"].dt.date"
   ]
  },
  {
   "cell_type": "markdown",
   "metadata": {},
   "source": [
    "Get the latest date in the timeseries"
   ]
  },
  {
   "cell_type": "code",
   "execution_count": 15,
   "metadata": {
    "execution": {
     "iopub.execute_input": "2022-04-13T08:29:11.420746Z",
     "iopub.status.busy": "2022-04-13T08:29:11.399912Z",
     "iopub.status.idle": "2022-04-13T08:29:11.429128Z",
     "shell.execute_reply": "2022-04-13T08:29:11.427943Z"
    }
   },
   "outputs": [],
   "source": [
    "latest_df = df.loc[df.groupby([\"name\", \"county_date\"]).reportdt.idxmax()]"
   ]
  },
  {
   "cell_type": "markdown",
   "metadata": {},
   "source": [
    "Sift out Sutter County's cities"
   ]
  },
  {
   "cell_type": "code",
   "execution_count": 16,
   "metadata": {
    "execution": {
     "iopub.execute_input": "2022-04-13T08:29:11.435430Z",
     "iopub.status.busy": "2022-04-13T08:29:11.434718Z",
     "iopub.status.idle": "2022-04-13T08:29:11.438198Z",
     "shell.execute_reply": "2022-04-13T08:29:11.437820Z"
    }
   },
   "outputs": [],
   "source": [
    "sutter_df = latest_df[latest_df.name.eq(\"Sutter County\")]"
   ]
  },
  {
   "cell_type": "code",
   "execution_count": 17,
   "metadata": {
    "execution": {
     "iopub.execute_input": "2022-04-13T08:29:11.443830Z",
     "iopub.status.busy": "2022-04-13T08:29:11.443382Z",
     "iopub.status.idle": "2022-04-13T08:29:11.452565Z",
     "shell.execute_reply": "2022-04-13T08:29:11.453045Z"
    }
   },
   "outputs": [],
   "source": [
    "sutter_df = sutter_df[[\"LiveOak\", \"YubaCity\", \"SutterOther\", \"county_date\", \"reportdt\"]]"
   ]
  },
  {
   "cell_type": "code",
   "execution_count": 18,
   "metadata": {
    "execution": {
     "iopub.execute_input": "2022-04-13T08:29:11.459410Z",
     "iopub.status.busy": "2022-04-13T08:29:11.454808Z",
     "iopub.status.idle": "2022-04-13T08:29:11.462097Z",
     "shell.execute_reply": "2022-04-13T08:29:11.461691Z"
    }
   },
   "outputs": [],
   "source": [
    "sutter_latest = sutter_df[sutter_df.reportdt == sutter_df.reportdt.max()]"
   ]
  },
  {
   "cell_type": "markdown",
   "metadata": {},
   "source": [
    "Melt down"
   ]
  },
  {
   "cell_type": "code",
   "execution_count": 19,
   "metadata": {
    "execution": {
     "iopub.execute_input": "2022-04-13T08:29:11.466656Z",
     "iopub.status.busy": "2022-04-13T08:29:11.465664Z",
     "iopub.status.idle": "2022-04-13T08:29:11.469740Z",
     "shell.execute_reply": "2022-04-13T08:29:11.470121Z"
    }
   },
   "outputs": [],
   "source": [
    "sutter_latest.set_index(\"county_date\", inplace=True)"
   ]
  },
  {
   "cell_type": "code",
   "execution_count": 20,
   "metadata": {
    "execution": {
     "iopub.execute_input": "2022-04-13T08:29:11.477386Z",
     "iopub.status.busy": "2022-04-13T08:29:11.476656Z",
     "iopub.status.idle": "2022-04-13T08:29:11.481903Z",
     "shell.execute_reply": "2022-04-13T08:29:11.482286Z"
    }
   },
   "outputs": [],
   "source": [
    "sutter_melt = pd.melt(\n",
    "    sutter_latest.reset_index(),\n",
    "    id_vars=\"county_date\",\n",
    "    var_name=\"area\",\n",
    "    value_name=\"confirmed_cases\",\n",
    ")"
   ]
  },
  {
   "cell_type": "markdown",
   "metadata": {},
   "source": [
    "Clean names"
   ]
  },
  {
   "cell_type": "code",
   "execution_count": 21,
   "metadata": {
    "execution": {
     "iopub.execute_input": "2022-04-13T08:29:11.487954Z",
     "iopub.status.busy": "2022-04-13T08:29:11.486939Z",
     "iopub.status.idle": "2022-04-13T08:29:11.490601Z",
     "shell.execute_reply": "2022-04-13T08:29:11.490009Z"
    }
   },
   "outputs": [],
   "source": [
    "sutter_clean = sutter_melt[sutter_melt[\"area\"] != \"reportdt\"]"
   ]
  },
  {
   "cell_type": "code",
   "execution_count": 22,
   "metadata": {
    "execution": {
     "iopub.execute_input": "2022-04-13T08:29:11.494711Z",
     "iopub.status.busy": "2022-04-13T08:29:11.493969Z",
     "iopub.status.idle": "2022-04-13T08:29:11.499796Z",
     "shell.execute_reply": "2022-04-13T08:29:11.499397Z"
    }
   },
   "outputs": [],
   "source": [
    "clean_sutter_cities = {\n",
    "    \"YubaCity\": \"Yuba City\",\n",
    "    \"YubaCIty\": \"Yuba City\",\n",
    "    \"LiveOak\": \"Live Oak\",\n",
    "    \"SutterOther\": \"Other\",\n",
    "}"
   ]
  },
  {
   "cell_type": "code",
   "execution_count": 23,
   "metadata": {
    "execution": {
     "iopub.execute_input": "2022-04-13T08:29:11.505329Z",
     "iopub.status.busy": "2022-04-13T08:29:11.504873Z",
     "iopub.status.idle": "2022-04-13T08:29:11.508110Z",
     "shell.execute_reply": "2022-04-13T08:29:11.507275Z"
    }
   },
   "outputs": [],
   "source": [
    "sutter_clean = sutter_clean.replace({\"area\": clean_sutter_cities})"
   ]
  },
  {
   "cell_type": "code",
   "execution_count": 24,
   "metadata": {
    "execution": {
     "iopub.execute_input": "2022-04-13T08:29:11.516628Z",
     "iopub.status.busy": "2022-04-13T08:29:11.511023Z",
     "iopub.status.idle": "2022-04-13T08:29:11.526318Z",
     "shell.execute_reply": "2022-04-13T08:29:11.526699Z"
    }
   },
   "outputs": [
    {
     "data": {
      "text/html": [
       "<div>\n",
       "<style scoped>\n",
       "    .dataframe tbody tr th:only-of-type {\n",
       "        vertical-align: middle;\n",
       "    }\n",
       "\n",
       "    .dataframe tbody tr th {\n",
       "        vertical-align: top;\n",
       "    }\n",
       "\n",
       "    .dataframe thead th {\n",
       "        text-align: right;\n",
       "    }\n",
       "</style>\n",
       "<table border=\"1\" class=\"dataframe\">\n",
       "  <thead>\n",
       "    <tr style=\"text-align: right;\">\n",
       "      <th></th>\n",
       "      <th>county</th>\n",
       "      <th>county_date</th>\n",
       "      <th>area</th>\n",
       "      <th>confirmed_cases</th>\n",
       "    </tr>\n",
       "  </thead>\n",
       "  <tbody>\n",
       "  </tbody>\n",
       "</table>\n",
       "</div>"
      ],
      "text/plain": [
       "Empty DataFrame\n",
       "Columns: [county, county_date, area, confirmed_cases]\n",
       "Index: []"
      ]
     },
     "execution_count": 24,
     "metadata": {},
     "output_type": "execute_result"
    }
   ],
   "source": [
    "sutter_clean.insert(0, \"county\", \"Sutter\")\n",
    "sutter_clean"
   ]
  },
  {
   "cell_type": "markdown",
   "metadata": {},
   "source": [
    "## Vet"
   ]
  },
  {
   "cell_type": "code",
   "execution_count": 25,
   "metadata": {
    "execution": {
     "iopub.execute_input": "2022-04-13T08:29:11.531447Z",
     "iopub.status.busy": "2022-04-13T08:29:11.530280Z",
     "iopub.status.idle": "2022-04-13T08:29:11.535274Z",
     "shell.execute_reply": "2022-04-13T08:29:11.535656Z"
    }
   },
   "outputs": [],
   "source": [
    "try:\n",
    "    assert not len(sutter_clean) > 3\n",
    "except AssertionError:\n",
    "    raise AssertionError(\"Sutter County's scraper has extra rows\")"
   ]
  },
  {
   "cell_type": "code",
   "execution_count": 26,
   "metadata": {
    "execution": {
     "iopub.execute_input": "2022-04-13T08:29:11.541622Z",
     "iopub.status.busy": "2022-04-13T08:29:11.540914Z",
     "iopub.status.idle": "2022-04-13T08:29:11.654229Z",
     "shell.execute_reply": "2022-04-13T08:29:11.652852Z"
    }
   },
   "outputs": [
    {
     "ename": "AssertionError",
     "evalue": "Sutter County's scraper is missing rows",
     "output_type": "error",
     "traceback": [
      "\u001b[0;31m---------------------------------------------------------------------------\u001b[0m",
      "\u001b[0;31mAssertionError\u001b[0m                            Traceback (most recent call last)",
      "\u001b[0;32m/tmp/ipykernel_2826/778601857.py\u001b[0m in \u001b[0;36m<module>\u001b[0;34m\u001b[0m\n\u001b[1;32m      1\u001b[0m \u001b[0;32mtry\u001b[0m\u001b[0;34m:\u001b[0m\u001b[0;34m\u001b[0m\u001b[0;34m\u001b[0m\u001b[0m\n\u001b[0;32m----> 2\u001b[0;31m     \u001b[0;32massert\u001b[0m \u001b[0;32mnot\u001b[0m \u001b[0mlen\u001b[0m\u001b[0;34m(\u001b[0m\u001b[0msutter_clean\u001b[0m\u001b[0;34m)\u001b[0m \u001b[0;34m<\u001b[0m \u001b[0;36m3\u001b[0m\u001b[0;34m\u001b[0m\u001b[0;34m\u001b[0m\u001b[0m\n\u001b[0m\u001b[1;32m      3\u001b[0m \u001b[0;32mexcept\u001b[0m \u001b[0mAssertionError\u001b[0m\u001b[0;34m:\u001b[0m\u001b[0;34m\u001b[0m\u001b[0;34m\u001b[0m\u001b[0m\n",
      "\u001b[0;31mAssertionError\u001b[0m: ",
      "\nDuring handling of the above exception, another exception occurred:\n",
      "\u001b[0;31mAssertionError\u001b[0m                            Traceback (most recent call last)",
      "\u001b[0;32m/tmp/ipykernel_2826/778601857.py\u001b[0m in \u001b[0;36m<module>\u001b[0;34m\u001b[0m\n\u001b[1;32m      2\u001b[0m     \u001b[0;32massert\u001b[0m \u001b[0;32mnot\u001b[0m \u001b[0mlen\u001b[0m\u001b[0;34m(\u001b[0m\u001b[0msutter_clean\u001b[0m\u001b[0;34m)\u001b[0m \u001b[0;34m<\u001b[0m \u001b[0;36m3\u001b[0m\u001b[0;34m\u001b[0m\u001b[0;34m\u001b[0m\u001b[0m\n\u001b[1;32m      3\u001b[0m \u001b[0;32mexcept\u001b[0m \u001b[0mAssertionError\u001b[0m\u001b[0;34m:\u001b[0m\u001b[0;34m\u001b[0m\u001b[0;34m\u001b[0m\u001b[0m\n\u001b[0;32m----> 4\u001b[0;31m     \u001b[0;32mraise\u001b[0m \u001b[0mAssertionError\u001b[0m\u001b[0;34m(\u001b[0m\u001b[0;34m\"Sutter County's scraper is missing rows\"\u001b[0m\u001b[0;34m)\u001b[0m\u001b[0;34m\u001b[0m\u001b[0;34m\u001b[0m\u001b[0m\n\u001b[0m",
      "\u001b[0;31mAssertionError\u001b[0m: Sutter County's scraper is missing rows"
     ]
    }
   ],
   "source": [
    "try:\n",
    "    assert not len(sutter_clean) < 3\n",
    "except AssertionError:\n",
    "    raise AssertionError(\"Sutter County's scraper is missing rows\")"
   ]
  },
  {
   "cell_type": "markdown",
   "metadata": {},
   "source": [
    "## Export"
   ]
  },
  {
   "cell_type": "markdown",
   "metadata": {},
   "source": [
    "Set date"
   ]
  },
  {
   "cell_type": "code",
   "execution_count": 72,
   "metadata": {},
   "outputs": [],
   "source": [
    "tz = pytz.timezone(\"America/Los_Angeles\")"
   ]
  },
  {
   "cell_type": "code",
   "execution_count": 73,
   "metadata": {},
   "outputs": [],
   "source": [
    "today = datetime.now(tz).date()"
   ]
  },
  {
   "cell_type": "code",
   "execution_count": 74,
   "metadata": {},
   "outputs": [],
   "source": [
    "slug = \"sutter\""
   ]
  },
  {
   "cell_type": "code",
   "execution_count": 75,
   "metadata": {},
   "outputs": [],
   "source": [
    "sutter_clean.to_csv(data_dir / slug / f\"{today}.csv\", index=False)"
   ]
  },
  {
   "cell_type": "markdown",
   "metadata": {},
   "source": [
    "## Combine"
   ]
  },
  {
   "cell_type": "code",
   "execution_count": 76,
   "metadata": {},
   "outputs": [],
   "source": [
    "csv_list = [\n",
    "    i\n",
    "    for i in glob.glob(str(data_dir / slug / \"*.csv\"))\n",
    "    if not str(i).endswith(\"timeseries.csv\")\n",
    "]"
   ]
  },
  {
   "cell_type": "code",
   "execution_count": 77,
   "metadata": {},
   "outputs": [],
   "source": [
    "df_list = []\n",
    "for csv in csv_list:\n",
    "    if \"manual\" in csv:\n",
    "        df = pd.read_csv(csv, parse_dates=[\"date\"])\n",
    "    else:\n",
    "        file_date = csv.split(\"/\")[-1].replace(\".csv\", \"\")\n",
    "        df = pd.read_csv(csv, parse_dates=[\"county_date\"])\n",
    "        df[\"date\"] = file_date\n",
    "    df_list.append(df)"
   ]
  },
  {
   "cell_type": "code",
   "execution_count": 78,
   "metadata": {},
   "outputs": [],
   "source": [
    "df = pd.concat(df_list).sort_values([\"date\", \"area\"])"
   ]
  },
  {
   "cell_type": "code",
   "execution_count": 79,
   "metadata": {},
   "outputs": [],
   "source": [
    "df.to_csv(data_dir / slug / \"timeseries.csv\", index=False)"
   ]
  }
 ],
 "metadata": {
  "kernelspec": {
   "display_name": "Python 3 (ipykernel)",
   "language": "python",
   "name": "python3"
  },
  "language_info": {
   "codemirror_mode": {
    "name": "ipython",
    "version": 3
   },
   "file_extension": ".py",
   "mimetype": "text/x-python",
   "name": "python",
   "nbconvert_exporter": "python",
   "pygments_lexer": "ipython3",
   "version": "3.8.12"
  }
 },
 "nbformat": 4,
 "nbformat_minor": 4
}
