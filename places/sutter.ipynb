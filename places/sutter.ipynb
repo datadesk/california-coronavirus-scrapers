{
 "cells": [
  {
   "cell_type": "markdown",
   "metadata": {},
   "source": [
    "## Configuration\n",
    "_Initial steps to get the notebook ready to play nice with our repository. Do not delete this section._"
   ]
  },
  {
   "cell_type": "markdown",
   "metadata": {},
   "source": [
    "Code formatting with [black](https://pypi.org/project/nb-black/)."
   ]
  },
  {
   "cell_type": "code",
   "execution_count": 1,
   "metadata": {
    "execution": {
     "iopub.execute_input": "2022-04-11T08:24:41.582854Z",
     "iopub.status.busy": "2022-04-11T08:24:41.582420Z",
     "iopub.status.idle": "2022-04-11T08:24:41.697995Z",
     "shell.execute_reply": "2022-04-11T08:24:41.698479Z"
    }
   },
   "outputs": [],
   "source": [
    "%load_ext lab_black"
   ]
  },
  {
   "cell_type": "code",
   "execution_count": 2,
   "metadata": {
    "execution": {
     "iopub.execute_input": "2022-04-11T08:24:41.702858Z",
     "iopub.status.busy": "2022-04-11T08:24:41.702041Z",
     "iopub.status.idle": "2022-04-11T08:24:41.709666Z",
     "shell.execute_reply": "2022-04-11T08:24:41.710015Z"
    }
   },
   "outputs": [],
   "source": [
    "import os\n",
    "import pytz\n",
    "import glob\n",
    "import pathlib\n",
    "\n",
    "this_dir = pathlib.Path(os.path.abspath(\"\"))\n",
    "data_dir = this_dir / \"data\""
   ]
  },
  {
   "cell_type": "code",
   "execution_count": 3,
   "metadata": {
    "execution": {
     "iopub.execute_input": "2022-04-11T08:24:41.713296Z",
     "iopub.status.busy": "2022-04-11T08:24:41.712859Z",
     "iopub.status.idle": "2022-04-11T08:24:42.006193Z",
     "shell.execute_reply": "2022-04-11T08:24:42.005350Z"
    }
   },
   "outputs": [],
   "source": [
    "import requests\n",
    "import pandas as pd\n",
    "import numpy as np\n",
    "from datetime import datetime"
   ]
  },
  {
   "cell_type": "markdown",
   "metadata": {},
   "source": [
    "## Download"
   ]
  },
  {
   "cell_type": "markdown",
   "metadata": {},
   "source": [
    "Retrieve the data for both Yuba and Sutter counties"
   ]
  },
  {
   "cell_type": "code",
   "execution_count": 4,
   "metadata": {
    "execution": {
     "iopub.execute_input": "2022-04-11T08:24:42.010611Z",
     "iopub.status.busy": "2022-04-11T08:24:42.009688Z",
     "iopub.status.idle": "2022-04-11T08:24:42.013513Z",
     "shell.execute_reply": "2022-04-11T08:24:42.012841Z"
    }
   },
   "outputs": [],
   "source": [
    "url = \"https://services5.arcgis.com/THtdW72WxYCCmIVL/ArcGIS/rest/services/CasesWeekly_Public/FeatureServer/0/query?where=1%3D1&objectIds=&time=&resultType=none&outFields=reportdt%2Cname%2CLiveOak%2CYubaCity%2CSutterOther%2CMarysville%2COlivehurstLinda%2CPlumasLake%2CWheatland%2CYubaOther&returnIdsOnly=false&returnUniqueIdsOnly=false&returnCountOnly=false&returnDistinctValues=false&cacheHint=false&orderByFields=&groupByFieldsForStatistics=&outStatistics=&having=&resultOffset=&resultRecordCount=&sqlFormat=none&f=pjson&token=\""
   ]
  },
  {
   "cell_type": "code",
   "execution_count": 5,
   "metadata": {
    "execution": {
     "iopub.execute_input": "2022-04-11T08:24:42.019638Z",
     "iopub.status.busy": "2022-04-11T08:24:42.016605Z",
     "iopub.status.idle": "2022-04-11T08:24:42.279458Z",
     "shell.execute_reply": "2022-04-11T08:24:42.278991Z"
    }
   },
   "outputs": [],
   "source": [
    "r = requests.get(url)"
   ]
  },
  {
   "cell_type": "code",
   "execution_count": 6,
   "metadata": {
    "execution": {
     "iopub.execute_input": "2022-04-11T08:24:42.285521Z",
     "iopub.status.busy": "2022-04-11T08:24:42.285066Z",
     "iopub.status.idle": "2022-04-11T08:24:42.287899Z",
     "shell.execute_reply": "2022-04-11T08:24:42.287524Z"
    }
   },
   "outputs": [],
   "source": [
    "data = r.json()"
   ]
  },
  {
   "cell_type": "markdown",
   "metadata": {},
   "source": [
    "## Parse"
   ]
  },
  {
   "cell_type": "code",
   "execution_count": 7,
   "metadata": {
    "execution": {
     "iopub.execute_input": "2022-04-11T08:24:42.291598Z",
     "iopub.status.busy": "2022-04-11T08:24:42.290834Z",
     "iopub.status.idle": "2022-04-11T08:24:42.294107Z",
     "shell.execute_reply": "2022-04-11T08:24:42.293747Z"
    }
   },
   "outputs": [],
   "source": [
    "dict_list = []"
   ]
  },
  {
   "cell_type": "code",
   "execution_count": 8,
   "metadata": {
    "execution": {
     "iopub.execute_input": "2022-04-11T08:24:42.300230Z",
     "iopub.status.busy": "2022-04-11T08:24:42.299488Z",
     "iopub.status.idle": "2022-04-11T08:24:42.302778Z",
     "shell.execute_reply": "2022-04-11T08:24:42.302410Z"
    }
   },
   "outputs": [],
   "source": [
    "for item in data[\"features\"]:\n",
    "    d = dict(item[\"attributes\"])\n",
    "    dict_list.append(d)"
   ]
  },
  {
   "cell_type": "code",
   "execution_count": 9,
   "metadata": {
    "execution": {
     "iopub.execute_input": "2022-04-11T08:24:42.309809Z",
     "iopub.status.busy": "2022-04-11T08:24:42.309370Z",
     "iopub.status.idle": "2022-04-11T08:24:42.312290Z",
     "shell.execute_reply": "2022-04-11T08:24:42.311879Z"
    }
   },
   "outputs": [],
   "source": [
    "df = pd.DataFrame(dict_list)"
   ]
  },
  {
   "cell_type": "code",
   "execution_count": 10,
   "metadata": {
    "execution": {
     "iopub.execute_input": "2022-04-11T08:24:42.317712Z",
     "iopub.status.busy": "2022-04-11T08:24:42.317267Z",
     "iopub.status.idle": "2022-04-11T08:24:42.323389Z",
     "shell.execute_reply": "2022-04-11T08:24:42.322470Z"
    }
   },
   "outputs": [],
   "source": [
    "df = df[\n",
    "    [\n",
    "        \"reportdt\",\n",
    "        \"Name\",\n",
    "        \"LiveOak\",\n",
    "        \"YubaCity\",\n",
    "        \"SutterOther\",\n",
    "        \"Marysville\",\n",
    "        \"OlivehurstLinda\",\n",
    "        \"Wheatland\",\n",
    "        \"YubaOther\",\n",
    "        \"PlumasLake\",\n",
    "    ]\n",
    "]"
   ]
  },
  {
   "cell_type": "code",
   "execution_count": 11,
   "metadata": {
    "execution": {
     "iopub.execute_input": "2022-04-11T08:24:42.327789Z",
     "iopub.status.busy": "2022-04-11T08:24:42.326999Z",
     "iopub.status.idle": "2022-04-11T08:24:42.331702Z",
     "shell.execute_reply": "2022-04-11T08:24:42.331343Z"
    }
   },
   "outputs": [],
   "source": [
    "df = df.rename(columns={\"Name\": \"name\"})"
   ]
  },
  {
   "cell_type": "markdown",
   "metadata": {},
   "source": [
    "Set the date"
   ]
  },
  {
   "cell_type": "code",
   "execution_count": 12,
   "metadata": {
    "execution": {
     "iopub.execute_input": "2022-04-11T08:24:42.336736Z",
     "iopub.status.busy": "2022-04-11T08:24:42.334622Z",
     "iopub.status.idle": "2022-04-11T08:24:42.340163Z",
     "shell.execute_reply": "2022-04-11T08:24:42.339763Z"
    }
   },
   "outputs": [],
   "source": [
    "df[\"reportdt\"] = df[\"reportdt\"] / 1000"
   ]
  },
  {
   "cell_type": "code",
   "execution_count": 13,
   "metadata": {
    "execution": {
     "iopub.execute_input": "2022-04-11T08:24:42.346555Z",
     "iopub.status.busy": "2022-04-11T08:24:42.345741Z",
     "iopub.status.idle": "2022-04-11T08:24:42.349341Z",
     "shell.execute_reply": "2022-04-11T08:24:42.348599Z"
    }
   },
   "outputs": [],
   "source": [
    "df[\"reportdt\"] = pd.to_datetime(df[\"reportdt\"], unit=\"s\")"
   ]
  },
  {
   "cell_type": "code",
   "execution_count": 14,
   "metadata": {
    "execution": {
     "iopub.execute_input": "2022-04-11T08:24:42.354531Z",
     "iopub.status.busy": "2022-04-11T08:24:42.353599Z",
     "iopub.status.idle": "2022-04-11T08:24:42.356872Z",
     "shell.execute_reply": "2022-04-11T08:24:42.356134Z"
    }
   },
   "outputs": [],
   "source": [
    "df[\"county_date\"] = df[\"reportdt\"].dt.date"
   ]
  },
  {
   "cell_type": "markdown",
   "metadata": {},
   "source": [
    "Get the latest date in the timeseries"
   ]
  },
  {
   "cell_type": "code",
   "execution_count": 15,
   "metadata": {
    "execution": {
     "iopub.execute_input": "2022-04-11T08:24:42.361927Z",
     "iopub.status.busy": "2022-04-11T08:24:42.360513Z",
     "iopub.status.idle": "2022-04-11T08:24:42.388592Z",
     "shell.execute_reply": "2022-04-11T08:24:42.388195Z"
    }
   },
   "outputs": [],
   "source": [
    "latest_df = df.loc[df.groupby([\"name\", \"county_date\"]).reportdt.idxmax()]"
   ]
  },
  {
   "cell_type": "markdown",
   "metadata": {},
   "source": [
    "Sift out Sutter County's cities"
   ]
  },
  {
   "cell_type": "code",
   "execution_count": 16,
   "metadata": {
    "execution": {
     "iopub.execute_input": "2022-04-11T08:24:42.392982Z",
     "iopub.status.busy": "2022-04-11T08:24:42.392541Z",
     "iopub.status.idle": "2022-04-11T08:24:42.395606Z",
     "shell.execute_reply": "2022-04-11T08:24:42.395957Z"
    }
   },
   "outputs": [],
   "source": [
    "sutter_df = latest_df[latest_df.name.eq(\"Sutter County\")]"
   ]
  },
  {
   "cell_type": "code",
   "execution_count": 17,
   "metadata": {
    "execution": {
     "iopub.execute_input": "2022-04-11T08:24:42.401605Z",
     "iopub.status.busy": "2022-04-11T08:24:42.397731Z",
     "iopub.status.idle": "2022-04-11T08:24:42.404327Z",
     "shell.execute_reply": "2022-04-11T08:24:42.403932Z"
    }
   },
   "outputs": [],
   "source": [
    "sutter_df = sutter_df[[\"LiveOak\", \"YubaCity\", \"SutterOther\", \"county_date\", \"reportdt\"]]"
   ]
  },
  {
   "cell_type": "code",
   "execution_count": 18,
   "metadata": {
    "execution": {
     "iopub.execute_input": "2022-04-11T08:24:42.409370Z",
     "iopub.status.busy": "2022-04-11T08:24:42.408619Z",
     "iopub.status.idle": "2022-04-11T08:24:42.413783Z",
     "shell.execute_reply": "2022-04-11T08:24:42.412920Z"
    }
   },
   "outputs": [],
   "source": [
    "sutter_latest = sutter_df[sutter_df.reportdt == sutter_df.reportdt.max()]"
   ]
  },
  {
   "cell_type": "markdown",
   "metadata": {},
   "source": [
    "Melt down"
   ]
  },
  {
   "cell_type": "code",
   "execution_count": 19,
   "metadata": {
    "execution": {
     "iopub.execute_input": "2022-04-11T08:24:42.418483Z",
     "iopub.status.busy": "2022-04-11T08:24:42.415660Z",
     "iopub.status.idle": "2022-04-11T08:24:42.420727Z",
     "shell.execute_reply": "2022-04-11T08:24:42.420049Z"
    }
   },
   "outputs": [],
   "source": [
    "sutter_latest.set_index(\"county_date\", inplace=True)"
   ]
  },
  {
   "cell_type": "code",
   "execution_count": 20,
   "metadata": {
    "execution": {
     "iopub.execute_input": "2022-04-11T08:24:42.427466Z",
     "iopub.status.busy": "2022-04-11T08:24:42.424575Z",
     "iopub.status.idle": "2022-04-11T08:24:42.433274Z",
     "shell.execute_reply": "2022-04-11T08:24:42.432873Z"
    }
   },
   "outputs": [],
   "source": [
    "sutter_melt = pd.melt(\n",
    "    sutter_latest.reset_index(),\n",
    "    id_vars=\"county_date\",\n",
    "    var_name=\"area\",\n",
    "    value_name=\"confirmed_cases\",\n",
    ")"
   ]
  },
  {
   "cell_type": "markdown",
   "metadata": {},
   "source": [
    "Clean names"
   ]
  },
  {
   "cell_type": "code",
   "execution_count": 21,
   "metadata": {
    "execution": {
     "iopub.execute_input": "2022-04-11T08:24:42.437932Z",
     "iopub.status.busy": "2022-04-11T08:24:42.437485Z",
     "iopub.status.idle": "2022-04-11T08:24:42.441028Z",
     "shell.execute_reply": "2022-04-11T08:24:42.440407Z"
    }
   },
   "outputs": [],
   "source": [
    "sutter_clean = sutter_melt[sutter_melt[\"area\"] != \"reportdt\"]"
   ]
  },
  {
   "cell_type": "code",
   "execution_count": 22,
   "metadata": {
    "execution": {
     "iopub.execute_input": "2022-04-11T08:24:42.445702Z",
     "iopub.status.busy": "2022-04-11T08:24:42.444328Z",
     "iopub.status.idle": "2022-04-11T08:24:42.448781Z",
     "shell.execute_reply": "2022-04-11T08:24:42.449127Z"
    }
   },
   "outputs": [],
   "source": [
    "clean_sutter_cities = {\n",
    "    \"YubaCity\": \"Yuba City\",\n",
    "    \"YubaCIty\": \"Yuba City\",\n",
    "    \"LiveOak\": \"Live Oak\",\n",
    "    \"SutterOther\": \"Other\",\n",
    "}"
   ]
  },
  {
   "cell_type": "code",
   "execution_count": 23,
   "metadata": {
    "execution": {
     "iopub.execute_input": "2022-04-11T08:24:42.452897Z",
     "iopub.status.busy": "2022-04-11T08:24:42.452459Z",
     "iopub.status.idle": "2022-04-11T08:24:42.456309Z",
     "shell.execute_reply": "2022-04-11T08:24:42.456651Z"
    }
   },
   "outputs": [],
   "source": [
    "sutter_clean = sutter_clean.replace({\"area\": clean_sutter_cities})"
   ]
  },
  {
   "cell_type": "code",
   "execution_count": 24,
   "metadata": {
    "execution": {
     "iopub.execute_input": "2022-04-11T08:24:42.465770Z",
     "iopub.status.busy": "2022-04-11T08:24:42.464583Z",
     "iopub.status.idle": "2022-04-11T08:24:42.473360Z",
     "shell.execute_reply": "2022-04-11T08:24:42.472987Z"
    }
   },
   "outputs": [
    {
     "data": {
      "text/html": [
       "<div>\n",
       "<style scoped>\n",
       "    .dataframe tbody tr th:only-of-type {\n",
       "        vertical-align: middle;\n",
       "    }\n",
       "\n",
       "    .dataframe tbody tr th {\n",
       "        vertical-align: top;\n",
       "    }\n",
       "\n",
       "    .dataframe thead th {\n",
       "        text-align: right;\n",
       "    }\n",
       "</style>\n",
       "<table border=\"1\" class=\"dataframe\">\n",
       "  <thead>\n",
       "    <tr style=\"text-align: right;\">\n",
       "      <th></th>\n",
       "      <th>county</th>\n",
       "      <th>county_date</th>\n",
       "      <th>area</th>\n",
       "      <th>confirmed_cases</th>\n",
       "    </tr>\n",
       "  </thead>\n",
       "  <tbody>\n",
       "  </tbody>\n",
       "</table>\n",
       "</div>"
      ],
      "text/plain": [
       "Empty DataFrame\n",
       "Columns: [county, county_date, area, confirmed_cases]\n",
       "Index: []"
      ]
     },
     "execution_count": 24,
     "metadata": {},
     "output_type": "execute_result"
    }
   ],
   "source": [
    "sutter_clean.insert(0, \"county\", \"Sutter\")\n",
    "sutter_clean"
   ]
  },
  {
   "cell_type": "markdown",
   "metadata": {},
   "source": [
    "## Vet"
   ]
  },
  {
   "cell_type": "code",
   "execution_count": 25,
   "metadata": {
    "execution": {
     "iopub.execute_input": "2022-04-11T08:24:42.479136Z",
     "iopub.status.busy": "2022-04-11T08:24:42.478687Z",
     "iopub.status.idle": "2022-04-11T08:24:42.480891Z",
     "shell.execute_reply": "2022-04-11T08:24:42.480524Z"
    }
   },
   "outputs": [],
   "source": [
    "try:\n",
    "    assert not len(sutter_clean) > 3\n",
    "except AssertionError:\n",
    "    raise AssertionError(\"Sutter County's scraper has extra rows\")"
   ]
  },
  {
   "cell_type": "code",
   "execution_count": 26,
   "metadata": {
    "execution": {
     "iopub.execute_input": "2022-04-11T08:24:42.485148Z",
     "iopub.status.busy": "2022-04-11T08:24:42.484166Z",
     "iopub.status.idle": "2022-04-11T08:24:42.593662Z",
     "shell.execute_reply": "2022-04-11T08:24:42.593121Z"
    }
   },
   "outputs": [
    {
     "ename": "AssertionError",
     "evalue": "Sutter County's scraper is missing rows",
     "output_type": "error",
     "traceback": [
      "\u001b[0;31m---------------------------------------------------------------------------\u001b[0m",
      "\u001b[0;31mAssertionError\u001b[0m                            Traceback (most recent call last)",
      "\u001b[0;32m/tmp/ipykernel_2850/778601857.py\u001b[0m in \u001b[0;36m<module>\u001b[0;34m\u001b[0m\n\u001b[1;32m      1\u001b[0m \u001b[0;32mtry\u001b[0m\u001b[0;34m:\u001b[0m\u001b[0;34m\u001b[0m\u001b[0;34m\u001b[0m\u001b[0m\n\u001b[0;32m----> 2\u001b[0;31m     \u001b[0;32massert\u001b[0m \u001b[0;32mnot\u001b[0m \u001b[0mlen\u001b[0m\u001b[0;34m(\u001b[0m\u001b[0msutter_clean\u001b[0m\u001b[0;34m)\u001b[0m \u001b[0;34m<\u001b[0m \u001b[0;36m3\u001b[0m\u001b[0;34m\u001b[0m\u001b[0;34m\u001b[0m\u001b[0m\n\u001b[0m\u001b[1;32m      3\u001b[0m \u001b[0;32mexcept\u001b[0m \u001b[0mAssertionError\u001b[0m\u001b[0;34m:\u001b[0m\u001b[0;34m\u001b[0m\u001b[0;34m\u001b[0m\u001b[0m\n",
      "\u001b[0;31mAssertionError\u001b[0m: ",
      "\nDuring handling of the above exception, another exception occurred:\n",
      "\u001b[0;31mAssertionError\u001b[0m                            Traceback (most recent call last)",
      "\u001b[0;32m/tmp/ipykernel_2850/778601857.py\u001b[0m in \u001b[0;36m<module>\u001b[0;34m\u001b[0m\n\u001b[1;32m      2\u001b[0m     \u001b[0;32massert\u001b[0m \u001b[0;32mnot\u001b[0m \u001b[0mlen\u001b[0m\u001b[0;34m(\u001b[0m\u001b[0msutter_clean\u001b[0m\u001b[0;34m)\u001b[0m \u001b[0;34m<\u001b[0m \u001b[0;36m3\u001b[0m\u001b[0;34m\u001b[0m\u001b[0;34m\u001b[0m\u001b[0m\n\u001b[1;32m      3\u001b[0m \u001b[0;32mexcept\u001b[0m \u001b[0mAssertionError\u001b[0m\u001b[0;34m:\u001b[0m\u001b[0;34m\u001b[0m\u001b[0;34m\u001b[0m\u001b[0m\n\u001b[0;32m----> 4\u001b[0;31m     \u001b[0;32mraise\u001b[0m \u001b[0mAssertionError\u001b[0m\u001b[0;34m(\u001b[0m\u001b[0;34m\"Sutter County's scraper is missing rows\"\u001b[0m\u001b[0;34m)\u001b[0m\u001b[0;34m\u001b[0m\u001b[0;34m\u001b[0m\u001b[0m\n\u001b[0m",
      "\u001b[0;31mAssertionError\u001b[0m: Sutter County's scraper is missing rows"
     ]
    }
   ],
   "source": [
    "try:\n",
    "    assert not len(sutter_clean) < 3\n",
    "except AssertionError:\n",
    "    raise AssertionError(\"Sutter County's scraper is missing rows\")"
   ]
  },
  {
   "cell_type": "markdown",
   "metadata": {},
   "source": [
    "## Export"
   ]
  },
  {
   "cell_type": "markdown",
   "metadata": {},
   "source": [
    "Set date"
   ]
  },
  {
   "cell_type": "code",
   "execution_count": 72,
   "metadata": {},
   "outputs": [],
   "source": [
    "tz = pytz.timezone(\"America/Los_Angeles\")"
   ]
  },
  {
   "cell_type": "code",
   "execution_count": 73,
   "metadata": {},
   "outputs": [],
   "source": [
    "today = datetime.now(tz).date()"
   ]
  },
  {
   "cell_type": "code",
   "execution_count": 74,
   "metadata": {},
   "outputs": [],
   "source": [
    "slug = \"sutter\""
   ]
  },
  {
   "cell_type": "code",
   "execution_count": 75,
   "metadata": {},
   "outputs": [],
   "source": [
    "sutter_clean.to_csv(data_dir / slug / f\"{today}.csv\", index=False)"
   ]
  },
  {
   "cell_type": "markdown",
   "metadata": {},
   "source": [
    "## Combine"
   ]
  },
  {
   "cell_type": "code",
   "execution_count": 76,
   "metadata": {},
   "outputs": [],
   "source": [
    "csv_list = [\n",
    "    i\n",
    "    for i in glob.glob(str(data_dir / slug / \"*.csv\"))\n",
    "    if not str(i).endswith(\"timeseries.csv\")\n",
    "]"
   ]
  },
  {
   "cell_type": "code",
   "execution_count": 77,
   "metadata": {},
   "outputs": [],
   "source": [
    "df_list = []\n",
    "for csv in csv_list:\n",
    "    if \"manual\" in csv:\n",
    "        df = pd.read_csv(csv, parse_dates=[\"date\"])\n",
    "    else:\n",
    "        file_date = csv.split(\"/\")[-1].replace(\".csv\", \"\")\n",
    "        df = pd.read_csv(csv, parse_dates=[\"county_date\"])\n",
    "        df[\"date\"] = file_date\n",
    "    df_list.append(df)"
   ]
  },
  {
   "cell_type": "code",
   "execution_count": 78,
   "metadata": {},
   "outputs": [],
   "source": [
    "df = pd.concat(df_list).sort_values([\"date\", \"area\"])"
   ]
  },
  {
   "cell_type": "code",
   "execution_count": 79,
   "metadata": {},
   "outputs": [],
   "source": [
    "df.to_csv(data_dir / slug / \"timeseries.csv\", index=False)"
   ]
  }
 ],
 "metadata": {
  "kernelspec": {
   "display_name": "Python 3 (ipykernel)",
   "language": "python",
   "name": "python3"
  },
  "language_info": {
   "codemirror_mode": {
    "name": "ipython",
    "version": 3
   },
   "file_extension": ".py",
   "mimetype": "text/x-python",
   "name": "python",
   "nbconvert_exporter": "python",
   "pygments_lexer": "ipython3",
   "version": "3.8.12"
  }
 },
 "nbformat": 4,
 "nbformat_minor": 4
}
