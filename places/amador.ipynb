{
 "cells": [
  {
   "cell_type": "markdown",
   "metadata": {},
   "source": [
    "## Configuration\n",
    "_Initial steps to get the notebook ready to play nice with our repository. Do not delete this section._"
   ]
  },
  {
   "cell_type": "markdown",
   "metadata": {},
   "source": [
    "Code formatting with [black](https://pypi.org/project/nb-black/)."
   ]
  },
  {
   "cell_type": "code",
   "execution_count": 1,
   "metadata": {
    "execution": {
     "iopub.execute_input": "2022-02-21T08:20:28.537281Z",
     "iopub.status.busy": "2022-02-21T08:20:28.536716Z",
     "iopub.status.idle": "2022-02-21T08:20:28.671999Z",
     "shell.execute_reply": "2022-02-21T08:20:28.671217Z"
    }
   },
   "outputs": [],
   "source": [
    "%load_ext lab_black"
   ]
  },
  {
   "cell_type": "markdown",
   "metadata": {},
   "source": [
    "Add our `utils` directory to the system's `$PATH` so we can import Python files from sibling directories."
   ]
  },
  {
   "cell_type": "code",
   "execution_count": 2,
   "metadata": {
    "execution": {
     "iopub.execute_input": "2022-02-21T08:20:28.677880Z",
     "iopub.status.busy": "2022-02-21T08:20:28.676372Z",
     "iopub.status.idle": "2022-02-21T08:20:28.680282Z",
     "shell.execute_reply": "2022-02-21T08:20:28.679790Z"
    }
   },
   "outputs": [],
   "source": [
    "import os\n",
    "import pathlib"
   ]
  },
  {
   "cell_type": "code",
   "execution_count": 3,
   "metadata": {
    "execution": {
     "iopub.execute_input": "2022-02-21T08:20:28.688766Z",
     "iopub.status.busy": "2022-02-21T08:20:28.687004Z",
     "iopub.status.idle": "2022-02-21T08:20:28.689391Z",
     "shell.execute_reply": "2022-02-21T08:20:28.689857Z"
    }
   },
   "outputs": [],
   "source": [
    "this_dir = pathlib.Path(os.path.abspath(\"\"))"
   ]
  },
  {
   "cell_type": "code",
   "execution_count": 4,
   "metadata": {
    "execution": {
     "iopub.execute_input": "2022-02-21T08:20:28.694894Z",
     "iopub.status.busy": "2022-02-21T08:20:28.694254Z",
     "iopub.status.idle": "2022-02-21T08:20:28.697458Z",
     "shell.execute_reply": "2022-02-21T08:20:28.696807Z"
    }
   },
   "outputs": [],
   "source": [
    "data_dir = this_dir / \"data\""
   ]
  },
  {
   "cell_type": "code",
   "execution_count": 5,
   "metadata": {
    "execution": {
     "iopub.execute_input": "2022-02-21T08:20:28.702374Z",
     "iopub.status.busy": "2022-02-21T08:20:28.701738Z",
     "iopub.status.idle": "2022-02-21T08:20:29.153022Z",
     "shell.execute_reply": "2022-02-21T08:20:29.152096Z"
    }
   },
   "outputs": [],
   "source": [
    "import pytz\n",
    "import glob\n",
    "import requests\n",
    "import pandas as pd\n",
    "from bs4 import BeautifulSoup\n",
    "import unicodedata\n",
    "import regex as re\n",
    "from datetime import datetime\n",
    "from dateutil.parser import parse"
   ]
  },
  {
   "cell_type": "markdown",
   "metadata": {},
   "source": [
    "## Download"
   ]
  },
  {
   "cell_type": "markdown",
   "metadata": {},
   "source": [
    "Retrieve the page"
   ]
  },
  {
   "cell_type": "code",
   "execution_count": 6,
   "metadata": {
    "execution": {
     "iopub.execute_input": "2022-02-21T08:20:29.157925Z",
     "iopub.status.busy": "2022-02-21T08:20:29.157353Z",
     "iopub.status.idle": "2022-02-21T08:20:29.161990Z",
     "shell.execute_reply": "2022-02-21T08:20:29.162652Z"
    }
   },
   "outputs": [],
   "source": [
    "url = \"https://www.amadorgov.org/services/covid-19/-fsiteid-1\""
   ]
  },
  {
   "cell_type": "code",
   "execution_count": 7,
   "metadata": {
    "execution": {
     "iopub.execute_input": "2022-02-21T08:20:29.167417Z",
     "iopub.status.busy": "2022-02-21T08:20:29.164736Z",
     "iopub.status.idle": "2022-02-21T08:20:30.007722Z",
     "shell.execute_reply": "2022-02-21T08:20:30.007289Z"
    }
   },
   "outputs": [],
   "source": [
    "page = requests.get(url)"
   ]
  },
  {
   "cell_type": "code",
   "execution_count": 8,
   "metadata": {
    "execution": {
     "iopub.execute_input": "2022-02-21T08:20:30.019847Z",
     "iopub.status.busy": "2022-02-21T08:20:30.014818Z",
     "iopub.status.idle": "2022-02-21T08:20:30.177105Z",
     "shell.execute_reply": "2022-02-21T08:20:30.176569Z"
    }
   },
   "outputs": [],
   "source": [
    "soup = BeautifulSoup(page.content, \"html.parser\")"
   ]
  },
  {
   "cell_type": "markdown",
   "metadata": {},
   "source": [
    "Get content well"
   ]
  },
  {
   "cell_type": "code",
   "execution_count": 9,
   "metadata": {
    "execution": {
     "iopub.execute_input": "2022-02-21T08:20:30.185280Z",
     "iopub.status.busy": "2022-02-21T08:20:30.184747Z",
     "iopub.status.idle": "2022-02-21T08:20:30.188462Z",
     "shell.execute_reply": "2022-02-21T08:20:30.188907Z"
    }
   },
   "outputs": [],
   "source": [
    "content = soup.find(\"div\", id=\"widget_4_3778_3488\")"
   ]
  },
  {
   "cell_type": "markdown",
   "metadata": {},
   "source": [
    "Get timestamp"
   ]
  },
  {
   "cell_type": "code",
   "execution_count": 10,
   "metadata": {
    "execution": {
     "iopub.execute_input": "2022-02-21T08:20:30.196252Z",
     "iopub.status.busy": "2022-02-21T08:20:30.194581Z",
     "iopub.status.idle": "2022-02-21T08:20:30.200856Z",
     "shell.execute_reply": "2022-02-21T08:20:30.200367Z"
    }
   },
   "outputs": [],
   "source": [
    "imgs = [\n",
    "    c\n",
    "    for c in content.find_all(\"img\")\n",
    "    if \"Screenshot\" and \"Top\" in c.attrs.get(\"alt\", \"\")\n",
    "]"
   ]
  },
  {
   "cell_type": "code",
   "execution_count": 11,
   "metadata": {
    "execution": {
     "iopub.execute_input": "2022-02-21T08:20:30.205430Z",
     "iopub.status.busy": "2022-02-21T08:20:30.204879Z",
     "iopub.status.idle": "2022-02-21T08:20:30.325445Z",
     "shell.execute_reply": "2022-02-21T08:20:30.324917Z"
    }
   },
   "outputs": [
    {
     "ename": "IndexError",
     "evalue": "list index out of range",
     "output_type": "error",
     "traceback": [
      "\u001b[0;31m---------------------------------------------------------------------------\u001b[0m",
      "\u001b[0;31mIndexError\u001b[0m                                Traceback (most recent call last)",
      "\u001b[0;32m/tmp/ipykernel_2677/4171593839.py\u001b[0m in \u001b[0;36m<module>\u001b[0;34m\u001b[0m\n\u001b[0;32m----> 1\u001b[0;31m \u001b[0murl\u001b[0m \u001b[0;34m=\u001b[0m \u001b[0;34mf\"https://www.amadorgov.org{imgs[0]['src']}\"\u001b[0m\u001b[0;34m\u001b[0m\u001b[0;34m\u001b[0m\u001b[0m\n\u001b[0m",
      "\u001b[0;31mIndexError\u001b[0m: list index out of range"
     ]
    }
   ],
   "source": [
    "url = f\"https://www.amadorgov.org{imgs[0]['src']}\""
   ]
  },
  {
   "cell_type": "code",
   "execution_count": 12,
   "metadata": {},
   "outputs": [],
   "source": [
    "tz = pytz.timezone(\"America/Los_Angeles\")"
   ]
  },
  {
   "cell_type": "code",
   "execution_count": 13,
   "metadata": {},
   "outputs": [],
   "source": [
    "today = datetime.now(tz).date()"
   ]
  },
  {
   "cell_type": "code",
   "execution_count": 14,
   "metadata": {},
   "outputs": [],
   "source": [
    "with open(data_dir / \"amador\" / f\"{today}.png\", \"wb\") as handler:\n",
    "    handler.write(requests.get(url).content)"
   ]
  }
 ],
 "metadata": {
  "kernelspec": {
   "display_name": "Python 3 (ipykernel)",
   "language": "python",
   "name": "python3"
  },
  "language_info": {
   "codemirror_mode": {
    "name": "ipython",
    "version": 3
   },
   "file_extension": ".py",
   "mimetype": "text/x-python",
   "name": "python",
   "nbconvert_exporter": "python",
   "pygments_lexer": "ipython3",
   "version": "3.8.12"
  }
 },
 "nbformat": 4,
 "nbformat_minor": 4
}
