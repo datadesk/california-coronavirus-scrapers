{
 "cells": [
  {
   "cell_type": "markdown",
   "metadata": {},
   "source": [
    "## Configuration\n",
    "_Initial steps to get the notebook ready to play nice with our repository. Do not delete this section._"
   ]
  },
  {
   "cell_type": "markdown",
   "metadata": {},
   "source": [
    "Code formatting with [black](https://pypi.org/project/nb-black/)."
   ]
  },
  {
   "cell_type": "code",
   "execution_count": 1,
   "metadata": {
    "execution": {
     "iopub.execute_input": "2022-02-19T20:20:06.827746Z",
     "iopub.status.busy": "2022-02-19T20:20:06.827150Z",
     "iopub.status.idle": "2022-02-19T20:20:06.959291Z",
     "shell.execute_reply": "2022-02-19T20:20:06.958616Z"
    }
   },
   "outputs": [],
   "source": [
    "%load_ext lab_black"
   ]
  },
  {
   "cell_type": "markdown",
   "metadata": {},
   "source": [
    "Add our `utils` directory to the system's `$PATH` so we can import Python files from sibling directories."
   ]
  },
  {
   "cell_type": "code",
   "execution_count": 2,
   "metadata": {
    "execution": {
     "iopub.execute_input": "2022-02-19T20:20:06.965758Z",
     "iopub.status.busy": "2022-02-19T20:20:06.965064Z",
     "iopub.status.idle": "2022-02-19T20:20:06.974168Z",
     "shell.execute_reply": "2022-02-19T20:20:06.973666Z"
    }
   },
   "outputs": [],
   "source": [
    "import os\n",
    "import pathlib"
   ]
  },
  {
   "cell_type": "code",
   "execution_count": 3,
   "metadata": {
    "execution": {
     "iopub.execute_input": "2022-02-19T20:20:06.978525Z",
     "iopub.status.busy": "2022-02-19T20:20:06.977941Z",
     "iopub.status.idle": "2022-02-19T20:20:06.982593Z",
     "shell.execute_reply": "2022-02-19T20:20:06.983059Z"
    }
   },
   "outputs": [],
   "source": [
    "this_dir = pathlib.Path(os.path.abspath(\"\"))"
   ]
  },
  {
   "cell_type": "code",
   "execution_count": 4,
   "metadata": {
    "execution": {
     "iopub.execute_input": "2022-02-19T20:20:06.987915Z",
     "iopub.status.busy": "2022-02-19T20:20:06.986701Z",
     "iopub.status.idle": "2022-02-19T20:20:06.990369Z",
     "shell.execute_reply": "2022-02-19T20:20:06.989840Z"
    }
   },
   "outputs": [],
   "source": [
    "data_dir = this_dir / \"data\""
   ]
  },
  {
   "cell_type": "code",
   "execution_count": 5,
   "metadata": {
    "execution": {
     "iopub.execute_input": "2022-02-19T20:20:06.994611Z",
     "iopub.status.busy": "2022-02-19T20:20:06.993998Z",
     "iopub.status.idle": "2022-02-19T20:20:07.445761Z",
     "shell.execute_reply": "2022-02-19T20:20:07.445224Z"
    }
   },
   "outputs": [],
   "source": [
    "import pytz\n",
    "import glob\n",
    "import requests\n",
    "import pandas as pd\n",
    "from bs4 import BeautifulSoup\n",
    "import unicodedata\n",
    "import regex as re\n",
    "from datetime import datetime\n",
    "from dateutil.parser import parse"
   ]
  },
  {
   "cell_type": "markdown",
   "metadata": {},
   "source": [
    "## Download"
   ]
  },
  {
   "cell_type": "markdown",
   "metadata": {},
   "source": [
    "Retrieve the page"
   ]
  },
  {
   "cell_type": "code",
   "execution_count": 6,
   "metadata": {
    "execution": {
     "iopub.execute_input": "2022-02-19T20:20:07.450433Z",
     "iopub.status.busy": "2022-02-19T20:20:07.449854Z",
     "iopub.status.idle": "2022-02-19T20:20:07.453278Z",
     "shell.execute_reply": "2022-02-19T20:20:07.452797Z"
    }
   },
   "outputs": [],
   "source": [
    "url = \"https://www.amadorgov.org/services/covid-19/-fsiteid-1\""
   ]
  },
  {
   "cell_type": "code",
   "execution_count": 7,
   "metadata": {
    "execution": {
     "iopub.execute_input": "2022-02-19T20:20:07.460511Z",
     "iopub.status.busy": "2022-02-19T20:20:07.456597Z",
     "iopub.status.idle": "2022-02-19T20:20:08.158175Z",
     "shell.execute_reply": "2022-02-19T20:20:08.157558Z"
    }
   },
   "outputs": [],
   "source": [
    "page = requests.get(url)"
   ]
  },
  {
   "cell_type": "code",
   "execution_count": 8,
   "metadata": {
    "execution": {
     "iopub.execute_input": "2022-02-19T20:20:08.166349Z",
     "iopub.status.busy": "2022-02-19T20:20:08.165481Z",
     "iopub.status.idle": "2022-02-19T20:20:08.325119Z",
     "shell.execute_reply": "2022-02-19T20:20:08.324570Z"
    }
   },
   "outputs": [],
   "source": [
    "soup = BeautifulSoup(page.content, \"html.parser\")"
   ]
  },
  {
   "cell_type": "markdown",
   "metadata": {},
   "source": [
    "Get content well"
   ]
  },
  {
   "cell_type": "code",
   "execution_count": 9,
   "metadata": {
    "execution": {
     "iopub.execute_input": "2022-02-19T20:20:08.332561Z",
     "iopub.status.busy": "2022-02-19T20:20:08.331965Z",
     "iopub.status.idle": "2022-02-19T20:20:08.335669Z",
     "shell.execute_reply": "2022-02-19T20:20:08.336179Z"
    }
   },
   "outputs": [],
   "source": [
    "content = soup.find(\"div\", id=\"widget_4_3778_3488\")"
   ]
  },
  {
   "cell_type": "markdown",
   "metadata": {},
   "source": [
    "Get timestamp"
   ]
  },
  {
   "cell_type": "code",
   "execution_count": 10,
   "metadata": {
    "execution": {
     "iopub.execute_input": "2022-02-19T20:20:08.341378Z",
     "iopub.status.busy": "2022-02-19T20:20:08.340796Z",
     "iopub.status.idle": "2022-02-19T20:20:08.348382Z",
     "shell.execute_reply": "2022-02-19T20:20:08.347897Z"
    }
   },
   "outputs": [],
   "source": [
    "imgs = [\n",
    "    c\n",
    "    for c in content.find_all(\"img\")\n",
    "    if \"Screenshot\" and \"Top\" in c.attrs.get(\"alt\", \"\")\n",
    "]"
   ]
  },
  {
   "cell_type": "code",
   "execution_count": 11,
   "metadata": {
    "execution": {
     "iopub.execute_input": "2022-02-19T20:20:08.355056Z",
     "iopub.status.busy": "2022-02-19T20:20:08.353917Z",
     "iopub.status.idle": "2022-02-19T20:20:08.478824Z",
     "shell.execute_reply": "2022-02-19T20:20:08.478063Z"
    }
   },
   "outputs": [
    {
     "ename": "IndexError",
     "evalue": "list index out of range",
     "output_type": "error",
     "traceback": [
      "\u001b[0;31m---------------------------------------------------------------------------\u001b[0m",
      "\u001b[0;31mIndexError\u001b[0m                                Traceback (most recent call last)",
      "\u001b[0;32m/tmp/ipykernel_2671/4171593839.py\u001b[0m in \u001b[0;36m<module>\u001b[0;34m\u001b[0m\n\u001b[0;32m----> 1\u001b[0;31m \u001b[0murl\u001b[0m \u001b[0;34m=\u001b[0m \u001b[0;34mf\"https://www.amadorgov.org{imgs[0]['src']}\"\u001b[0m\u001b[0;34m\u001b[0m\u001b[0;34m\u001b[0m\u001b[0m\n\u001b[0m",
      "\u001b[0;31mIndexError\u001b[0m: list index out of range"
     ]
    }
   ],
   "source": [
    "url = f\"https://www.amadorgov.org{imgs[0]['src']}\""
   ]
  },
  {
   "cell_type": "code",
   "execution_count": 12,
   "metadata": {},
   "outputs": [],
   "source": [
    "tz = pytz.timezone(\"America/Los_Angeles\")"
   ]
  },
  {
   "cell_type": "code",
   "execution_count": 13,
   "metadata": {},
   "outputs": [],
   "source": [
    "today = datetime.now(tz).date()"
   ]
  },
  {
   "cell_type": "code",
   "execution_count": 14,
   "metadata": {},
   "outputs": [],
   "source": [
    "with open(data_dir / \"amador\" / f\"{today}.png\", \"wb\") as handler:\n",
    "    handler.write(requests.get(url).content)"
   ]
  }
 ],
 "metadata": {
  "kernelspec": {
   "display_name": "Python 3 (ipykernel)",
   "language": "python",
   "name": "python3"
  },
  "language_info": {
   "codemirror_mode": {
    "name": "ipython",
    "version": 3
   },
   "file_extension": ".py",
   "mimetype": "text/x-python",
   "name": "python",
   "nbconvert_exporter": "python",
   "pygments_lexer": "ipython3",
   "version": "3.8.12"
  }
 },
 "nbformat": 4,
 "nbformat_minor": 4
}
