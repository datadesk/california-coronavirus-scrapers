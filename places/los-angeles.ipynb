{
 "cells": [
  {
   "cell_type": "markdown",
   "metadata": {
    "tags": []
   },
   "source": [
    "## Configuration\n",
    "_Initial steps to get the notebook ready to play nice with our repository. Do not delete this section._"
   ]
  },
  {
   "cell_type": "markdown",
   "metadata": {},
   "source": [
    "Code formatting with [black](https://pypi.org/project/nb-black/)."
   ]
  },
  {
   "cell_type": "code",
   "execution_count": 1,
   "metadata": {
    "execution": {
     "iopub.execute_input": "2023-02-05T00:30:52.675147Z",
     "iopub.status.busy": "2023-02-05T00:30:52.674701Z",
     "iopub.status.idle": "2023-02-05T00:30:52.816671Z",
     "shell.execute_reply": "2023-02-05T00:30:52.816080Z"
    }
   },
   "outputs": [],
   "source": [
    "%load_ext lab_black"
   ]
  },
  {
   "cell_type": "code",
   "execution_count": 2,
   "metadata": {
    "execution": {
     "iopub.execute_input": "2023-02-05T00:30:52.821560Z",
     "iopub.status.busy": "2023-02-05T00:30:52.820455Z",
     "iopub.status.idle": "2023-02-05T00:30:52.822076Z",
     "shell.execute_reply": "2023-02-05T00:30:52.822432Z"
    }
   },
   "outputs": [],
   "source": [
    "import os\n",
    "import pathlib"
   ]
  },
  {
   "cell_type": "code",
   "execution_count": 3,
   "metadata": {
    "execution": {
     "iopub.execute_input": "2023-02-05T00:30:52.828455Z",
     "iopub.status.busy": "2023-02-05T00:30:52.827675Z",
     "iopub.status.idle": "2023-02-05T00:30:52.829263Z",
     "shell.execute_reply": "2023-02-05T00:30:52.829631Z"
    }
   },
   "outputs": [],
   "source": [
    "this_dir = pathlib.Path(os.path.abspath(\"\"))"
   ]
  },
  {
   "cell_type": "code",
   "execution_count": 4,
   "metadata": {
    "execution": {
     "iopub.execute_input": "2023-02-05T00:30:52.833697Z",
     "iopub.status.busy": "2023-02-05T00:30:52.833252Z",
     "iopub.status.idle": "2023-02-05T00:30:52.835325Z",
     "shell.execute_reply": "2023-02-05T00:30:52.834956Z"
    }
   },
   "outputs": [],
   "source": [
    "data_dir = this_dir / \"data\""
   ]
  },
  {
   "cell_type": "code",
   "execution_count": 5,
   "metadata": {
    "execution": {
     "iopub.execute_input": "2023-02-05T00:30:52.839111Z",
     "iopub.status.busy": "2023-02-05T00:30:52.838660Z",
     "iopub.status.idle": "2023-02-05T00:30:53.230803Z",
     "shell.execute_reply": "2023-02-05T00:30:53.229987Z"
    }
   },
   "outputs": [],
   "source": [
    "import re\n",
    "import pytz\n",
    "import glob\n",
    "import requests\n",
    "import unicodedata\n",
    "import pandas as pd\n",
    "from slugify import slugify\n",
    "from bs4 import BeautifulSoup\n",
    "from datetime import datetime, date"
   ]
  },
  {
   "cell_type": "markdown",
   "metadata": {},
   "source": [
    "## Download"
   ]
  },
  {
   "cell_type": "markdown",
   "metadata": {},
   "source": [
    "Retrieve the page"
   ]
  },
  {
   "cell_type": "code",
   "execution_count": 6,
   "metadata": {
    "execution": {
     "iopub.execute_input": "2023-02-05T00:30:53.235336Z",
     "iopub.status.busy": "2023-02-05T00:30:53.234895Z",
     "iopub.status.idle": "2023-02-05T00:30:53.237807Z",
     "shell.execute_reply": "2023-02-05T00:30:53.237414Z"
    }
   },
   "outputs": [],
   "source": [
    "url = \"http://publichealth.lacounty.gov/media/Coronavirus/locations.htm\""
   ]
  },
  {
   "cell_type": "code",
   "execution_count": 7,
   "metadata": {
    "execution": {
     "iopub.execute_input": "2023-02-05T00:30:53.241595Z",
     "iopub.status.busy": "2023-02-05T00:30:53.240593Z",
     "iopub.status.idle": "2023-02-05T00:30:53.636111Z",
     "shell.execute_reply": "2023-02-05T00:30:53.635648Z"
    }
   },
   "outputs": [],
   "source": [
    "page = requests.get(url)"
   ]
  },
  {
   "cell_type": "markdown",
   "metadata": {},
   "source": [
    "## Parse"
   ]
  },
  {
   "cell_type": "code",
   "execution_count": 8,
   "metadata": {
    "execution": {
     "iopub.execute_input": "2023-02-05T00:30:53.654610Z",
     "iopub.status.busy": "2023-02-05T00:30:53.643481Z",
     "iopub.status.idle": "2023-02-05T00:30:53.782096Z",
     "shell.execute_reply": "2023-02-05T00:30:53.781618Z"
    }
   },
   "outputs": [],
   "source": [
    "soup = BeautifulSoup(page.content, \"html.parser\")"
   ]
  },
  {
   "cell_type": "markdown",
   "metadata": {},
   "source": [
    "Get content well"
   ]
  },
  {
   "cell_type": "code",
   "execution_count": 9,
   "metadata": {
    "execution": {
     "iopub.execute_input": "2023-02-05T00:30:53.788436Z",
     "iopub.status.busy": "2023-02-05T00:30:53.787980Z",
     "iopub.status.idle": "2023-02-05T00:30:53.790528Z",
     "shell.execute_reply": "2023-02-05T00:30:53.790893Z"
    }
   },
   "outputs": [],
   "source": [
    "content = soup.find(\"div\", {\"id\": \"content\"})"
   ]
  },
  {
   "cell_type": "markdown",
   "metadata": {},
   "source": [
    "Get table"
   ]
  },
  {
   "cell_type": "code",
   "execution_count": 10,
   "metadata": {
    "execution": {
     "iopub.execute_input": "2023-02-05T00:30:53.804696Z",
     "iopub.status.busy": "2023-02-05T00:30:53.797849Z",
     "iopub.status.idle": "2023-02-05T00:30:53.807335Z",
     "shell.execute_reply": "2023-02-05T00:30:53.806977Z"
    }
   },
   "outputs": [],
   "source": [
    "for tag in content.find_all(text=re.compile(\"CITY/COMMUNITY\")):\n",
    "    table = tag.findParent(\"table\")"
   ]
  },
  {
   "cell_type": "code",
   "execution_count": 11,
   "metadata": {
    "execution": {
     "iopub.execute_input": "2023-02-05T00:30:53.813255Z",
     "iopub.status.busy": "2023-02-05T00:30:53.812371Z",
     "iopub.status.idle": "2023-02-05T00:30:53.813898Z",
     "shell.execute_reply": "2023-02-05T00:30:53.814264Z"
    }
   },
   "outputs": [],
   "source": [
    "tbody = soup.tbody"
   ]
  },
  {
   "cell_type": "code",
   "execution_count": 12,
   "metadata": {
    "execution": {
     "iopub.execute_input": "2023-02-05T00:30:53.820019Z",
     "iopub.status.busy": "2023-02-05T00:30:53.819573Z",
     "iopub.status.idle": "2023-02-05T00:30:53.821649Z",
     "shell.execute_reply": "2023-02-05T00:30:53.821264Z"
    }
   },
   "outputs": [],
   "source": [
    "row_list = tbody.find_all(\"tr\")"
   ]
  },
  {
   "cell_type": "code",
   "execution_count": 13,
   "metadata": {
    "execution": {
     "iopub.execute_input": "2023-02-05T00:30:53.824596Z",
     "iopub.status.busy": "2023-02-05T00:30:53.824170Z",
     "iopub.status.idle": "2023-02-05T00:30:53.826749Z",
     "shell.execute_reply": "2023-02-05T00:30:53.827081Z"
    }
   },
   "outputs": [],
   "source": [
    "dict_list = []"
   ]
  },
  {
   "cell_type": "code",
   "execution_count": 14,
   "metadata": {
    "execution": {
     "iopub.execute_input": "2023-02-05T00:30:53.830611Z",
     "iopub.status.busy": "2023-02-05T00:30:53.830183Z",
     "iopub.status.idle": "2023-02-05T00:30:53.835594Z",
     "shell.execute_reply": "2023-02-05T00:30:53.835238Z"
    }
   },
   "outputs": [],
   "source": [
    "def safetxt(element):\n",
    "    v = element.text.strip()\n",
    "    v = v.replace(\"\\u200b\", \"\")\n",
    "    return v"
   ]
  },
  {
   "cell_type": "code",
   "execution_count": 15,
   "metadata": {
    "execution": {
     "iopub.execute_input": "2023-02-05T00:30:53.842321Z",
     "iopub.status.busy": "2023-02-05T00:30:53.841893Z",
     "iopub.status.idle": "2023-02-05T00:30:53.844717Z",
     "shell.execute_reply": "2023-02-05T00:30:53.844341Z"
    }
   },
   "outputs": [],
   "source": [
    "def safenumber(element):\n",
    "    v = safetxt(element)\n",
    "    v = v.replace(\",\", \"\")\n",
    "    v = v.replace(\" \", \"\")\n",
    "    return v"
   ]
  },
  {
   "cell_type": "code",
   "execution_count": 16,
   "metadata": {
    "execution": {
     "iopub.execute_input": "2023-02-05T00:30:53.856263Z",
     "iopub.status.busy": "2023-02-05T00:30:53.855829Z",
     "iopub.status.idle": "2023-02-05T00:30:53.863110Z",
     "shell.execute_reply": "2023-02-05T00:30:53.863476Z"
    }
   },
   "outputs": [],
   "source": [
    "for row in row_list:\n",
    "    cell_content = row.find_all(\"td\")\n",
    "    d = dict(\n",
    "        county=\"Los Angeles\",\n",
    "        area=safetxt(cell_content[0]),\n",
    "        confirmed_cases=safenumber(cell_content[1]),\n",
    "        confirmed_deaths=safenumber(cell_content[3]),\n",
    "    )\n",
    "    dict_list.append(d)"
   ]
  },
  {
   "cell_type": "code",
   "execution_count": 17,
   "metadata": {
    "execution": {
     "iopub.execute_input": "2023-02-05T00:30:53.868979Z",
     "iopub.status.busy": "2023-02-05T00:30:53.865372Z",
     "iopub.status.idle": "2023-02-05T00:30:53.871448Z",
     "shell.execute_reply": "2023-02-05T00:30:53.871068Z"
    }
   },
   "outputs": [],
   "source": [
    "df = pd.DataFrame(dict_list)"
   ]
  },
  {
   "cell_type": "markdown",
   "metadata": {},
   "source": [
    "Get timestamp"
   ]
  },
  {
   "cell_type": "code",
   "execution_count": 18,
   "metadata": {
    "execution": {
     "iopub.execute_input": "2023-02-05T00:30:53.875426Z",
     "iopub.status.busy": "2023-02-05T00:30:53.874191Z",
     "iopub.status.idle": "2023-02-05T00:30:53.878325Z",
     "shell.execute_reply": "2023-02-05T00:30:53.877750Z"
    }
   },
   "outputs": [],
   "source": [
    "date_url = \"http://publichealth.lacounty.gov/media/Coronavirus/js/casecounter.js\""
   ]
  },
  {
   "cell_type": "code",
   "execution_count": 19,
   "metadata": {
    "execution": {
     "iopub.execute_input": "2023-02-05T00:30:53.884484Z",
     "iopub.status.busy": "2023-02-05T00:30:53.881063Z",
     "iopub.status.idle": "2023-02-05T00:30:54.170826Z",
     "shell.execute_reply": "2023-02-05T00:30:54.170126Z"
    }
   },
   "outputs": [],
   "source": [
    "response = requests.get(date_url)\n",
    "date_page = response.text"
   ]
  },
  {
   "cell_type": "code",
   "execution_count": 20,
   "metadata": {
    "execution": {
     "iopub.execute_input": "2023-02-05T00:30:54.180513Z",
     "iopub.status.busy": "2023-02-05T00:30:54.180075Z",
     "iopub.status.idle": "2023-02-05T00:30:54.184509Z",
     "shell.execute_reply": "2023-02-05T00:30:54.184870Z"
    }
   },
   "outputs": [
    {
     "data": {
      "text/plain": [
       "'$( document ).ready(function() {\\r\\n    var data = {\\r\\n\\t\\t\\t\\t    \"content\": { \\r\\n\\t\\t\\r\\n\\t\\t\\t\"count\": \"3,680,571\",\\r\\n\\r\\n\\r\\n\\t\\t\\t\"death\": \"35,325\",\\r\\n\\r\\n\\t\\t\\t\"dailycount\": \"1,417\",\\r\\n\\r\\n\\r\\n\\t\\t\\t\"dailydeath\": \"19\",\\r\\n\\t\\t\\t\"hospitalizationsever\": \"170,693\",\\r\\n\\r\\n\\r\\n\\t\\t\\t\"date\": \"02/03/23\",\\r\\n\\t\\t\\t\"info\": \"through 12:00pm 02/02/2023\",\\r\\n\\r\\n\\t\\t\\t\"testingaverage\": \"21,068\",\\r\\n\\r\\n\\t\\t\\t\"peopletested\": \"12,895,220\",\\r\\n\\r\\n\\t\\t\\t\"positivity\": \"4.85%\",\\r\\n\\r\\n\\t\\t\\t\"hospitalizations\": \"687\",\\r\\n\\t\\t\\t\"datehospitalizations\": \"2/2/23\"\\r\\n\\r\\n\\t\\t\\t\\t}       \\r\\n\\t\\t\\t\\t};\\t\\r\\n\\t\\t\\t\\t\\r\\n\\t\\t\\t\\t\\r\\n\\t\\t\\t\\tvar content = data.content;\\r\\n\\t\\t\\t\\t\\r\\n\\t\\t\\t\\t$(\\'#ctn\\').html(content.count);\\r\\n\\t\\t\\t\\t$(\\'#det\\').html(content.death);\\r\\n\\t\\t\\t\\t$(\\'#dctn\\').html(content.dailycount);\\r\\n\\t\\t\\t\\t$(\\'#ddet\\').html(content.dailydeath);\\r\\n\\t\\t\\t\\t$(\\'#hosp_1\\').html(content.hospitalizationsever);\\r\\n\\t\\t\\t\\t$(\\'#dte\\').html(content.date);\\r\\n\\t\\t\\t\\t$(\\'#dte_1\\').html(content.date);\\r\\n\\t\\t\\t\\t$(\\'#dte_2\\').html(content.date);\\r\\n\\t\\t\\t\\t$(\\'#dte_3\\').html(content.datehospitalizations);\\r\\n\\t\\t\\t\\t$(\\'#cse\\').html(content.info);\\t\\r\\n\\t\\t\\t\\r\\n\\t\\t\\t\\t\\r\\n\\t\\t\\t\\t$(\\'#tstavg\\').html(content.testingaverage);\\t\\r\\n\\t\\t\\t\\t$(\\'#ppltst\\').html(content.peopletested);\\t\\r\\n\\t\\t\\t\\t$(\\'#pos\\').html(content.positivity);\\t\\r\\n\\t\\t\\t\\t$(\\'#hosp\\').html(content.hospitalizations);\\r\\n\\t\\t\\t\\r\\n\\t\\t\\t\\t\\t\\t\\t\\r\\n\\r\\n\\r\\n});\\r\\n\\r\\n\\r\\n\\r\\n'"
      ]
     },
     "execution_count": 20,
     "metadata": {},
     "output_type": "execute_result"
    }
   ],
   "source": [
    "date_page"
   ]
  },
  {
   "cell_type": "code",
   "execution_count": 21,
   "metadata": {
    "execution": {
     "iopub.execute_input": "2023-02-05T00:30:54.189054Z",
     "iopub.status.busy": "2023-02-05T00:30:54.188278Z",
     "iopub.status.idle": "2023-02-05T00:30:54.189791Z",
     "shell.execute_reply": "2023-02-05T00:30:54.190151Z"
    }
   },
   "outputs": [],
   "source": [
    "# date_text = re.search(r\"([0-9][0-9]/[0-9][0-9])\", date_page).group(1)\n",
    "# date_text = date_text + \"/\" + str(date.today().year)"
   ]
  },
  {
   "cell_type": "code",
   "execution_count": 22,
   "metadata": {
    "execution": {
     "iopub.execute_input": "2023-02-05T00:30:54.195611Z",
     "iopub.status.busy": "2023-02-05T00:30:54.194836Z",
     "iopub.status.idle": "2023-02-05T00:30:54.196678Z",
     "shell.execute_reply": "2023-02-05T00:30:54.196323Z"
    }
   },
   "outputs": [],
   "source": [
    "date_text = re.search(r\"through (.+?)\\\"\", date_page).group(1)"
   ]
  },
  {
   "cell_type": "code",
   "execution_count": 23,
   "metadata": {
    "execution": {
     "iopub.execute_input": "2023-02-05T00:30:54.199751Z",
     "iopub.status.busy": "2023-02-05T00:30:54.199324Z",
     "iopub.status.idle": "2023-02-05T00:30:54.202501Z",
     "shell.execute_reply": "2023-02-05T00:30:54.202125Z"
    }
   },
   "outputs": [],
   "source": [
    "date_text = date_text.split(\"m \")[0]"
   ]
  },
  {
   "cell_type": "code",
   "execution_count": 24,
   "metadata": {
    "execution": {
     "iopub.execute_input": "2023-02-05T00:30:54.206104Z",
     "iopub.status.busy": "2023-02-05T00:30:54.205674Z",
     "iopub.status.idle": "2023-02-05T00:30:54.208828Z",
     "shell.execute_reply": "2023-02-05T00:30:54.208474Z"
    }
   },
   "outputs": [],
   "source": [
    "latest_date = pd.to_datetime(date_text).date()"
   ]
  },
  {
   "cell_type": "code",
   "execution_count": 25,
   "metadata": {
    "execution": {
     "iopub.execute_input": "2023-02-05T00:30:54.212694Z",
     "iopub.status.busy": "2023-02-05T00:30:54.212267Z",
     "iopub.status.idle": "2023-02-05T00:30:54.215362Z",
     "shell.execute_reply": "2023-02-05T00:30:54.214986Z"
    }
   },
   "outputs": [],
   "source": [
    "df[\"county_date\"] = latest_date"
   ]
  },
  {
   "cell_type": "code",
   "execution_count": 26,
   "metadata": {
    "execution": {
     "iopub.execute_input": "2023-02-05T00:30:54.219616Z",
     "iopub.status.busy": "2023-02-05T00:30:54.219182Z",
     "iopub.status.idle": "2023-02-05T00:30:54.222593Z",
     "shell.execute_reply": "2023-02-05T00:30:54.222216Z"
    }
   },
   "outputs": [],
   "source": [
    "df.loc[df.area == \"-  Under Investigation\", \"area\"] = \"Under Investigation\""
   ]
  },
  {
   "cell_type": "code",
   "execution_count": 27,
   "metadata": {
    "execution": {
     "iopub.execute_input": "2023-02-05T00:30:54.227359Z",
     "iopub.status.busy": "2023-02-05T00:30:54.226927Z",
     "iopub.status.idle": "2023-02-05T00:30:54.229491Z",
     "shell.execute_reply": "2023-02-05T00:30:54.229081Z"
    }
   },
   "outputs": [],
   "source": [
    "df.loc[df.area == \"- Under Investigation\", \"area\"] = \"Under Investigation\""
   ]
  },
  {
   "cell_type": "markdown",
   "metadata": {},
   "source": [
    "## Vet"
   ]
  },
  {
   "cell_type": "code",
   "execution_count": 28,
   "metadata": {
    "execution": {
     "iopub.execute_input": "2023-02-05T00:30:54.233323Z",
     "iopub.status.busy": "2023-02-05T00:30:54.232848Z",
     "iopub.status.idle": "2023-02-05T00:30:54.236116Z",
     "shell.execute_reply": "2023-02-05T00:30:54.236454Z"
    }
   },
   "outputs": [],
   "source": [
    "try:\n",
    "    assert not len(df) > 342\n",
    "except AssertionError:\n",
    "    raise AssertionError(\"L.A. County's scraper has extra rows\")"
   ]
  },
  {
   "cell_type": "code",
   "execution_count": 29,
   "metadata": {
    "execution": {
     "iopub.execute_input": "2023-02-05T00:30:54.240034Z",
     "iopub.status.busy": "2023-02-05T00:30:54.239486Z",
     "iopub.status.idle": "2023-02-05T00:30:54.361869Z",
     "shell.execute_reply": "2023-02-05T00:30:54.361326Z"
    }
   },
   "outputs": [
    {
     "ename": "AssertionError",
     "evalue": "L.A. County's scraper is missing rows",
     "output_type": "error",
     "traceback": [
      "\u001b[0;31m---------------------------------------------------------------------------\u001b[0m",
      "\u001b[0;31mAssertionError\u001b[0m                            Traceback (most recent call last)",
      "\u001b[0;32m/tmp/ipykernel_2223/2999864733.py\u001b[0m in \u001b[0;36m<module>\u001b[0;34m\u001b[0m\n\u001b[1;32m      1\u001b[0m \u001b[0;32mtry\u001b[0m\u001b[0;34m:\u001b[0m\u001b[0;34m\u001b[0m\u001b[0;34m\u001b[0m\u001b[0m\n\u001b[0;32m----> 2\u001b[0;31m     \u001b[0;32massert\u001b[0m \u001b[0;32mnot\u001b[0m \u001b[0mlen\u001b[0m\u001b[0;34m(\u001b[0m\u001b[0mdf\u001b[0m\u001b[0;34m)\u001b[0m \u001b[0;34m<\u001b[0m \u001b[0;36m342\u001b[0m\u001b[0;34m\u001b[0m\u001b[0;34m\u001b[0m\u001b[0m\n\u001b[0m\u001b[1;32m      3\u001b[0m \u001b[0;32mexcept\u001b[0m \u001b[0mAssertionError\u001b[0m\u001b[0;34m:\u001b[0m\u001b[0;34m\u001b[0m\u001b[0;34m\u001b[0m\u001b[0m\n",
      "\u001b[0;31mAssertionError\u001b[0m: ",
      "\nDuring handling of the above exception, another exception occurred:\n",
      "\u001b[0;31mAssertionError\u001b[0m                            Traceback (most recent call last)",
      "\u001b[0;32m/tmp/ipykernel_2223/2999864733.py\u001b[0m in \u001b[0;36m<module>\u001b[0;34m\u001b[0m\n\u001b[1;32m      2\u001b[0m     \u001b[0;32massert\u001b[0m \u001b[0;32mnot\u001b[0m \u001b[0mlen\u001b[0m\u001b[0;34m(\u001b[0m\u001b[0mdf\u001b[0m\u001b[0;34m)\u001b[0m \u001b[0;34m<\u001b[0m \u001b[0;36m342\u001b[0m\u001b[0;34m\u001b[0m\u001b[0;34m\u001b[0m\u001b[0m\n\u001b[1;32m      3\u001b[0m \u001b[0;32mexcept\u001b[0m \u001b[0mAssertionError\u001b[0m\u001b[0;34m:\u001b[0m\u001b[0;34m\u001b[0m\u001b[0;34m\u001b[0m\u001b[0m\n\u001b[0;32m----> 4\u001b[0;31m     \u001b[0;32mraise\u001b[0m \u001b[0mAssertionError\u001b[0m\u001b[0;34m(\u001b[0m\u001b[0;34m\"L.A. County's scraper is missing rows\"\u001b[0m\u001b[0;34m)\u001b[0m\u001b[0;34m\u001b[0m\u001b[0;34m\u001b[0m\u001b[0m\n\u001b[0m",
      "\u001b[0;31mAssertionError\u001b[0m: L.A. County's scraper is missing rows"
     ]
    }
   ],
   "source": [
    "try:\n",
    "    assert not len(df) < 342\n",
    "except AssertionError:\n",
    "    raise AssertionError(\"L.A. County's scraper is missing rows\")"
   ]
  },
  {
   "cell_type": "markdown",
   "metadata": {},
   "source": [
    "## Export"
   ]
  },
  {
   "cell_type": "markdown",
   "metadata": {},
   "source": [
    "Set the date"
   ]
  },
  {
   "cell_type": "code",
   "execution_count": 67,
   "metadata": {},
   "outputs": [],
   "source": [
    "tz = pytz.timezone(\"America/Los_Angeles\")"
   ]
  },
  {
   "cell_type": "code",
   "execution_count": 68,
   "metadata": {},
   "outputs": [],
   "source": [
    "today = datetime.now(tz).date()"
   ]
  },
  {
   "cell_type": "code",
   "execution_count": 69,
   "metadata": {},
   "outputs": [],
   "source": [
    "slug = \"los-angeles\""
   ]
  },
  {
   "cell_type": "code",
   "execution_count": 70,
   "metadata": {},
   "outputs": [],
   "source": [
    "df.to_csv(data_dir / slug / f\"{today}.csv\", index=False)"
   ]
  },
  {
   "cell_type": "markdown",
   "metadata": {},
   "source": [
    "## Combine"
   ]
  },
  {
   "cell_type": "code",
   "execution_count": 71,
   "metadata": {},
   "outputs": [],
   "source": [
    "csv_list = [\n",
    "    i\n",
    "    for i in glob.glob(str(data_dir / slug / \"*.csv\"))\n",
    "    if not str(i).endswith(\"timeseries.csv\")\n",
    "]"
   ]
  },
  {
   "cell_type": "code",
   "execution_count": 72,
   "metadata": {},
   "outputs": [],
   "source": [
    "df_list = []\n",
    "for csv in csv_list:\n",
    "    if \"manual\" in csv:\n",
    "        df = pd.read_csv(csv, parse_dates=[\"date\"])\n",
    "    else:\n",
    "        file_date = csv.split(\"/\")[-1].replace(\".csv\", \"\")\n",
    "        df = pd.read_csv(csv, parse_dates=[\"county_date\"])\n",
    "        df[\"date\"] = file_date\n",
    "    df_list.append(df)"
   ]
  },
  {
   "cell_type": "code",
   "execution_count": 73,
   "metadata": {},
   "outputs": [],
   "source": [
    "df = pd.concat(df_list).sort_values([\"date\", \"area\"])"
   ]
  },
  {
   "cell_type": "code",
   "execution_count": 74,
   "metadata": {},
   "outputs": [],
   "source": [
    "df.to_csv(data_dir / slug / \"timeseries.csv\", index=False)"
   ]
  },
  {
   "cell_type": "code",
   "execution_count": null,
   "metadata": {},
   "outputs": [],
   "source": []
  },
  {
   "cell_type": "code",
   "execution_count": null,
   "metadata": {},
   "outputs": [],
   "source": []
  }
 ],
 "metadata": {
  "kernelspec": {
   "display_name": "Python 3 (ipykernel)",
   "language": "python",
   "name": "python3"
  },
  "language_info": {
   "codemirror_mode": {
    "name": "ipython",
    "version": 3
   },
   "file_extension": ".py",
   "mimetype": "text/x-python",
   "name": "python",
   "nbconvert_exporter": "python",
   "pygments_lexer": "ipython3",
   "version": "3.8.16"
  }
 },
 "nbformat": 4,
 "nbformat_minor": 4
}
