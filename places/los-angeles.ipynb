{
 "cells": [
  {
   "cell_type": "markdown",
   "metadata": {
    "tags": []
   },
   "source": [
    "## Configuration\n",
    "_Initial steps to get the notebook ready to play nice with our repository. Do not delete this section._"
   ]
  },
  {
   "cell_type": "markdown",
   "metadata": {},
   "source": [
    "Code formatting with [black](https://pypi.org/project/nb-black/)."
   ]
  },
  {
   "cell_type": "code",
   "execution_count": 1,
   "metadata": {
    "execution": {
     "iopub.execute_input": "2023-02-11T04:19:07.775060Z",
     "iopub.status.busy": "2023-02-11T04:19:07.774525Z",
     "iopub.status.idle": "2023-02-11T04:19:07.923051Z",
     "shell.execute_reply": "2023-02-11T04:19:07.922549Z"
    }
   },
   "outputs": [],
   "source": [
    "%load_ext lab_black"
   ]
  },
  {
   "cell_type": "code",
   "execution_count": 2,
   "metadata": {
    "execution": {
     "iopub.execute_input": "2023-02-11T04:19:07.927026Z",
     "iopub.status.busy": "2023-02-11T04:19:07.926125Z",
     "iopub.status.idle": "2023-02-11T04:19:07.928429Z",
     "shell.execute_reply": "2023-02-11T04:19:07.928760Z"
    }
   },
   "outputs": [],
   "source": [
    "import os\n",
    "import pathlib"
   ]
  },
  {
   "cell_type": "code",
   "execution_count": 3,
   "metadata": {
    "execution": {
     "iopub.execute_input": "2023-02-11T04:19:07.932107Z",
     "iopub.status.busy": "2023-02-11T04:19:07.931688Z",
     "iopub.status.idle": "2023-02-11T04:19:07.936912Z",
     "shell.execute_reply": "2023-02-11T04:19:07.936516Z"
    }
   },
   "outputs": [],
   "source": [
    "this_dir = pathlib.Path(os.path.abspath(\"\"))"
   ]
  },
  {
   "cell_type": "code",
   "execution_count": 4,
   "metadata": {
    "execution": {
     "iopub.execute_input": "2023-02-11T04:19:07.940757Z",
     "iopub.status.busy": "2023-02-11T04:19:07.939659Z",
     "iopub.status.idle": "2023-02-11T04:19:07.942495Z",
     "shell.execute_reply": "2023-02-11T04:19:07.942151Z"
    }
   },
   "outputs": [],
   "source": [
    "data_dir = this_dir / \"data\""
   ]
  },
  {
   "cell_type": "code",
   "execution_count": 5,
   "metadata": {
    "execution": {
     "iopub.execute_input": "2023-02-11T04:19:07.946334Z",
     "iopub.status.busy": "2023-02-11T04:19:07.945870Z",
     "iopub.status.idle": "2023-02-11T04:19:08.347061Z",
     "shell.execute_reply": "2023-02-11T04:19:08.346240Z"
    }
   },
   "outputs": [],
   "source": [
    "import re\n",
    "import pytz\n",
    "import glob\n",
    "import requests\n",
    "import unicodedata\n",
    "import pandas as pd\n",
    "from slugify import slugify\n",
    "from bs4 import BeautifulSoup\n",
    "from datetime import datetime, date"
   ]
  },
  {
   "cell_type": "markdown",
   "metadata": {},
   "source": [
    "## Download"
   ]
  },
  {
   "cell_type": "markdown",
   "metadata": {},
   "source": [
    "Retrieve the page"
   ]
  },
  {
   "cell_type": "code",
   "execution_count": 6,
   "metadata": {
    "execution": {
     "iopub.execute_input": "2023-02-11T04:19:08.350902Z",
     "iopub.status.busy": "2023-02-11T04:19:08.350133Z",
     "iopub.status.idle": "2023-02-11T04:19:08.354351Z",
     "shell.execute_reply": "2023-02-11T04:19:08.353939Z"
    }
   },
   "outputs": [],
   "source": [
    "url = \"http://publichealth.lacounty.gov/media/Coronavirus/locations.htm\""
   ]
  },
  {
   "cell_type": "code",
   "execution_count": 7,
   "metadata": {
    "execution": {
     "iopub.execute_input": "2023-02-11T04:19:08.361898Z",
     "iopub.status.busy": "2023-02-11T04:19:08.358123Z",
     "iopub.status.idle": "2023-02-11T04:19:08.522349Z",
     "shell.execute_reply": "2023-02-11T04:19:08.521925Z"
    }
   },
   "outputs": [],
   "source": [
    "page = requests.get(url)"
   ]
  },
  {
   "cell_type": "markdown",
   "metadata": {},
   "source": [
    "## Parse"
   ]
  },
  {
   "cell_type": "code",
   "execution_count": 8,
   "metadata": {
    "execution": {
     "iopub.execute_input": "2023-02-11T04:19:08.540364Z",
     "iopub.status.busy": "2023-02-11T04:19:08.535219Z",
     "iopub.status.idle": "2023-02-11T04:19:08.661362Z",
     "shell.execute_reply": "2023-02-11T04:19:08.660483Z"
    }
   },
   "outputs": [],
   "source": [
    "soup = BeautifulSoup(page.content, \"html.parser\")"
   ]
  },
  {
   "cell_type": "markdown",
   "metadata": {},
   "source": [
    "Get content well"
   ]
  },
  {
   "cell_type": "code",
   "execution_count": 9,
   "metadata": {
    "execution": {
     "iopub.execute_input": "2023-02-11T04:19:08.666704Z",
     "iopub.status.busy": "2023-02-11T04:19:08.663440Z",
     "iopub.status.idle": "2023-02-11T04:19:08.670537Z",
     "shell.execute_reply": "2023-02-11T04:19:08.670906Z"
    }
   },
   "outputs": [],
   "source": [
    "content = soup.find(\"div\", {\"id\": \"content\"})"
   ]
  },
  {
   "cell_type": "markdown",
   "metadata": {},
   "source": [
    "Get table"
   ]
  },
  {
   "cell_type": "code",
   "execution_count": 10,
   "metadata": {
    "execution": {
     "iopub.execute_input": "2023-02-11T04:19:08.684296Z",
     "iopub.status.busy": "2023-02-11T04:19:08.672668Z",
     "iopub.status.idle": "2023-02-11T04:19:08.689616Z",
     "shell.execute_reply": "2023-02-11T04:19:08.690031Z"
    }
   },
   "outputs": [],
   "source": [
    "for tag in content.find_all(text=re.compile(\"CITY/COMMUNITY\")):\n",
    "    table = tag.findParent(\"table\")"
   ]
  },
  {
   "cell_type": "code",
   "execution_count": 11,
   "metadata": {
    "execution": {
     "iopub.execute_input": "2023-02-11T04:19:08.696949Z",
     "iopub.status.busy": "2023-02-11T04:19:08.696490Z",
     "iopub.status.idle": "2023-02-11T04:19:08.699220Z",
     "shell.execute_reply": "2023-02-11T04:19:08.699593Z"
    }
   },
   "outputs": [],
   "source": [
    "tbody = soup.tbody"
   ]
  },
  {
   "cell_type": "code",
   "execution_count": 12,
   "metadata": {
    "execution": {
     "iopub.execute_input": "2023-02-11T04:19:08.705865Z",
     "iopub.status.busy": "2023-02-11T04:19:08.705016Z",
     "iopub.status.idle": "2023-02-11T04:19:08.707939Z",
     "shell.execute_reply": "2023-02-11T04:19:08.708302Z"
    }
   },
   "outputs": [],
   "source": [
    "row_list = tbody.find_all(\"tr\")"
   ]
  },
  {
   "cell_type": "code",
   "execution_count": 13,
   "metadata": {
    "execution": {
     "iopub.execute_input": "2023-02-11T04:19:08.712493Z",
     "iopub.status.busy": "2023-02-11T04:19:08.712051Z",
     "iopub.status.idle": "2023-02-11T04:19:08.714550Z",
     "shell.execute_reply": "2023-02-11T04:19:08.714903Z"
    }
   },
   "outputs": [],
   "source": [
    "dict_list = []"
   ]
  },
  {
   "cell_type": "code",
   "execution_count": 14,
   "metadata": {
    "execution": {
     "iopub.execute_input": "2023-02-11T04:19:08.721477Z",
     "iopub.status.busy": "2023-02-11T04:19:08.716673Z",
     "iopub.status.idle": "2023-02-11T04:19:08.724396Z",
     "shell.execute_reply": "2023-02-11T04:19:08.723983Z"
    }
   },
   "outputs": [],
   "source": [
    "def safetxt(element):\n",
    "    v = element.text.strip()\n",
    "    v = v.replace(\"\\u200b\", \"\")\n",
    "    return v"
   ]
  },
  {
   "cell_type": "code",
   "execution_count": 15,
   "metadata": {
    "execution": {
     "iopub.execute_input": "2023-02-11T04:19:08.731591Z",
     "iopub.status.busy": "2023-02-11T04:19:08.731164Z",
     "iopub.status.idle": "2023-02-11T04:19:08.734269Z",
     "shell.execute_reply": "2023-02-11T04:19:08.733896Z"
    }
   },
   "outputs": [],
   "source": [
    "def safenumber(element):\n",
    "    v = safetxt(element)\n",
    "    v = v.replace(\",\", \"\")\n",
    "    v = v.replace(\" \", \"\")\n",
    "    return v"
   ]
  },
  {
   "cell_type": "code",
   "execution_count": 16,
   "metadata": {
    "execution": {
     "iopub.execute_input": "2023-02-11T04:19:08.752549Z",
     "iopub.status.busy": "2023-02-11T04:19:08.748994Z",
     "iopub.status.idle": "2023-02-11T04:19:08.755476Z",
     "shell.execute_reply": "2023-02-11T04:19:08.755077Z"
    }
   },
   "outputs": [],
   "source": [
    "for row in row_list:\n",
    "    cell_content = row.find_all(\"td\")\n",
    "    d = dict(\n",
    "        county=\"Los Angeles\",\n",
    "        area=safetxt(cell_content[0]),\n",
    "        confirmed_cases=safenumber(cell_content[1]),\n",
    "        confirmed_deaths=safenumber(cell_content[3]),\n",
    "    )\n",
    "    dict_list.append(d)"
   ]
  },
  {
   "cell_type": "code",
   "execution_count": 17,
   "metadata": {
    "execution": {
     "iopub.execute_input": "2023-02-11T04:19:08.761448Z",
     "iopub.status.busy": "2023-02-11T04:19:08.760988Z",
     "iopub.status.idle": "2023-02-11T04:19:08.763671Z",
     "shell.execute_reply": "2023-02-11T04:19:08.764047Z"
    }
   },
   "outputs": [],
   "source": [
    "df = pd.DataFrame(dict_list)"
   ]
  },
  {
   "cell_type": "markdown",
   "metadata": {},
   "source": [
    "Get timestamp"
   ]
  },
  {
   "cell_type": "code",
   "execution_count": 18,
   "metadata": {
    "execution": {
     "iopub.execute_input": "2023-02-11T04:19:08.768477Z",
     "iopub.status.busy": "2023-02-11T04:19:08.768038Z",
     "iopub.status.idle": "2023-02-11T04:19:08.771036Z",
     "shell.execute_reply": "2023-02-11T04:19:08.770631Z"
    }
   },
   "outputs": [],
   "source": [
    "date_url = \"http://publichealth.lacounty.gov/media/Coronavirus/js/casecounter.js\""
   ]
  },
  {
   "cell_type": "code",
   "execution_count": 19,
   "metadata": {
    "execution": {
     "iopub.execute_input": "2023-02-11T04:19:08.774684Z",
     "iopub.status.busy": "2023-02-11T04:19:08.774118Z",
     "iopub.status.idle": "2023-02-11T04:19:08.920997Z",
     "shell.execute_reply": "2023-02-11T04:19:08.920600Z"
    }
   },
   "outputs": [],
   "source": [
    "response = requests.get(date_url)\n",
    "date_page = response.text"
   ]
  },
  {
   "cell_type": "code",
   "execution_count": 20,
   "metadata": {
    "execution": {
     "iopub.execute_input": "2023-02-11T04:19:08.929374Z",
     "iopub.status.busy": "2023-02-11T04:19:08.927924Z",
     "iopub.status.idle": "2023-02-11T04:19:08.932185Z",
     "shell.execute_reply": "2023-02-11T04:19:08.932549Z"
    }
   },
   "outputs": [
    {
     "data": {
      "text/plain": [
       "'$( document ).ready(function() {\\r\\n    var data = {\\r\\n\\t\\t\\t\\t    \"content\": { \\r\\n\\t\\t\\r\\n\\t\\t\\t\"count\": \"3,687,409\",\\r\\n\\r\\n\\r\\n\\t\\t\\t\"death\": \"35,425\",\\r\\n\\r\\n\\t\\t\\t\"dailycount\": \"1,482\",\\r\\n\\r\\n\\r\\n\\t\\t\\t\"dailydeath\": \"22\",\\r\\n\\t\\t\\t\"hospitalizationsever\": \"171,178\",\\r\\n\\r\\n\\r\\n\\t\\t\\t\"date\": \"02/10/23\",\\r\\n\\t\\t\\t\"info\": \"through 12:00pm 02/09/2023\",\\r\\n\\r\\n\\t\\t\\t\"testingaverage\": \"19,792\",\\r\\n\\r\\n\\t\\t\\t\"peopletested\": \"12,908,386\",\\r\\n\\r\\n\\t\\t\\t\"positivity\": \"5.48%\",\\r\\n\\r\\n\\t\\t\\t\"hospitalizations\": \"689\",\\r\\n\\t\\t\\t\"datehospitalizations\": \"2/9/23\"\\r\\n\\r\\n\\t\\t\\t\\t}       \\r\\n\\t\\t\\t\\t};\\t\\r\\n\\t\\t\\t\\t\\r\\n\\t\\t\\t\\t\\r\\n\\t\\t\\t\\tvar content = data.content;\\r\\n\\t\\t\\t\\t\\r\\n\\t\\t\\t\\t$(\\'#ctn\\').html(content.count);\\r\\n\\t\\t\\t\\t$(\\'#det\\').html(content.death);\\r\\n\\t\\t\\t\\t$(\\'#dctn\\').html(content.dailycount);\\r\\n\\t\\t\\t\\t$(\\'#ddet\\').html(content.dailydeath);\\r\\n\\t\\t\\t\\t$(\\'#hosp_1\\').html(content.hospitalizationsever);\\r\\n\\t\\t\\t\\t$(\\'#dte\\').html(content.date);\\r\\n\\t\\t\\t\\t$(\\'#dte_1\\').html(content.date);\\r\\n\\t\\t\\t\\t$(\\'#dte_2\\').html(content.date);\\r\\n\\t\\t\\t\\t$(\\'#dte_3\\').html(content.datehospitalizations);\\r\\n\\t\\t\\t\\t$(\\'#cse\\').html(content.info);\\t\\r\\n\\t\\t\\t\\r\\n\\t\\t\\t\\t\\r\\n\\t\\t\\t\\t$(\\'#tstavg\\').html(content.testingaverage);\\t\\r\\n\\t\\t\\t\\t$(\\'#ppltst\\').html(content.peopletested);\\t\\r\\n\\t\\t\\t\\t$(\\'#pos\\').html(content.positivity);\\t\\r\\n\\t\\t\\t\\t$(\\'#hosp\\').html(content.hospitalizations);\\r\\n\\t\\t\\t\\r\\n\\t\\t\\t\\t\\t\\t\\t\\r\\n\\r\\n\\r\\n});\\r\\n\\r\\n\\r\\n\\r\\n'"
      ]
     },
     "execution_count": 20,
     "metadata": {},
     "output_type": "execute_result"
    }
   ],
   "source": [
    "date_page"
   ]
  },
  {
   "cell_type": "code",
   "execution_count": 21,
   "metadata": {
    "execution": {
     "iopub.execute_input": "2023-02-11T04:19:08.936679Z",
     "iopub.status.busy": "2023-02-11T04:19:08.935944Z",
     "iopub.status.idle": "2023-02-11T04:19:08.937389Z",
     "shell.execute_reply": "2023-02-11T04:19:08.937727Z"
    }
   },
   "outputs": [],
   "source": [
    "# date_text = re.search(r\"([0-9][0-9]/[0-9][0-9])\", date_page).group(1)\n",
    "# date_text = date_text + \"/\" + str(date.today().year)"
   ]
  },
  {
   "cell_type": "code",
   "execution_count": 22,
   "metadata": {
    "execution": {
     "iopub.execute_input": "2023-02-11T04:19:08.941355Z",
     "iopub.status.busy": "2023-02-11T04:19:08.940934Z",
     "iopub.status.idle": "2023-02-11T04:19:08.944051Z",
     "shell.execute_reply": "2023-02-11T04:19:08.944369Z"
    }
   },
   "outputs": [],
   "source": [
    "date_text = re.search(r\"through (.+?)\\\"\", date_page).group(1)"
   ]
  },
  {
   "cell_type": "code",
   "execution_count": 23,
   "metadata": {
    "execution": {
     "iopub.execute_input": "2023-02-11T04:19:08.947909Z",
     "iopub.status.busy": "2023-02-11T04:19:08.947496Z",
     "iopub.status.idle": "2023-02-11T04:19:08.951255Z",
     "shell.execute_reply": "2023-02-11T04:19:08.951603Z"
    }
   },
   "outputs": [],
   "source": [
    "date_text = date_text.split(\"m \")[0]"
   ]
  },
  {
   "cell_type": "code",
   "execution_count": 24,
   "metadata": {
    "execution": {
     "iopub.execute_input": "2023-02-11T04:19:08.956441Z",
     "iopub.status.busy": "2023-02-11T04:19:08.956016Z",
     "iopub.status.idle": "2023-02-11T04:19:08.959112Z",
     "shell.execute_reply": "2023-02-11T04:19:08.958363Z"
    }
   },
   "outputs": [],
   "source": [
    "latest_date = pd.to_datetime(date_text).date()"
   ]
  },
  {
   "cell_type": "code",
   "execution_count": 25,
   "metadata": {
    "execution": {
     "iopub.execute_input": "2023-02-11T04:19:08.964831Z",
     "iopub.status.busy": "2023-02-11T04:19:08.962434Z",
     "iopub.status.idle": "2023-02-11T04:19:08.967299Z",
     "shell.execute_reply": "2023-02-11T04:19:08.967693Z"
    }
   },
   "outputs": [],
   "source": [
    "df[\"county_date\"] = latest_date"
   ]
  },
  {
   "cell_type": "code",
   "execution_count": 26,
   "metadata": {
    "execution": {
     "iopub.execute_input": "2023-02-11T04:19:08.975116Z",
     "iopub.status.busy": "2023-02-11T04:19:08.972876Z",
     "iopub.status.idle": "2023-02-11T04:19:08.978525Z",
     "shell.execute_reply": "2023-02-11T04:19:08.978112Z"
    }
   },
   "outputs": [],
   "source": [
    "df.loc[df.area == \"-  Under Investigation\", \"area\"] = \"Under Investigation\""
   ]
  },
  {
   "cell_type": "code",
   "execution_count": 27,
   "metadata": {
    "execution": {
     "iopub.execute_input": "2023-02-11T04:19:08.985211Z",
     "iopub.status.busy": "2023-02-11T04:19:08.984237Z",
     "iopub.status.idle": "2023-02-11T04:19:08.987915Z",
     "shell.execute_reply": "2023-02-11T04:19:08.988321Z"
    }
   },
   "outputs": [],
   "source": [
    "df.loc[df.area == \"- Under Investigation\", \"area\"] = \"Under Investigation\""
   ]
  },
  {
   "cell_type": "markdown",
   "metadata": {},
   "source": [
    "## Vet"
   ]
  },
  {
   "cell_type": "code",
   "execution_count": 28,
   "metadata": {
    "execution": {
     "iopub.execute_input": "2023-02-11T04:19:08.995260Z",
     "iopub.status.busy": "2023-02-11T04:19:08.994178Z",
     "iopub.status.idle": "2023-02-11T04:19:08.997953Z",
     "shell.execute_reply": "2023-02-11T04:19:08.997378Z"
    }
   },
   "outputs": [],
   "source": [
    "try:\n",
    "    assert not len(df) > 342\n",
    "except AssertionError:\n",
    "    raise AssertionError(\"L.A. County's scraper has extra rows\")"
   ]
  },
  {
   "cell_type": "code",
   "execution_count": 29,
   "metadata": {
    "execution": {
     "iopub.execute_input": "2023-02-11T04:19:09.001581Z",
     "iopub.status.busy": "2023-02-11T04:19:09.001142Z",
     "iopub.status.idle": "2023-02-11T04:19:09.125767Z",
     "shell.execute_reply": "2023-02-11T04:19:09.124180Z"
    }
   },
   "outputs": [
    {
     "ename": "AssertionError",
     "evalue": "L.A. County's scraper is missing rows",
     "output_type": "error",
     "traceback": [
      "\u001b[0;31m---------------------------------------------------------------------------\u001b[0m",
      "\u001b[0;31mAssertionError\u001b[0m                            Traceback (most recent call last)",
      "\u001b[0;32m/tmp/ipykernel_2167/2999864733.py\u001b[0m in \u001b[0;36m<module>\u001b[0;34m\u001b[0m\n\u001b[1;32m      1\u001b[0m \u001b[0;32mtry\u001b[0m\u001b[0;34m:\u001b[0m\u001b[0;34m\u001b[0m\u001b[0;34m\u001b[0m\u001b[0m\n\u001b[0;32m----> 2\u001b[0;31m     \u001b[0;32massert\u001b[0m \u001b[0;32mnot\u001b[0m \u001b[0mlen\u001b[0m\u001b[0;34m(\u001b[0m\u001b[0mdf\u001b[0m\u001b[0;34m)\u001b[0m \u001b[0;34m<\u001b[0m \u001b[0;36m342\u001b[0m\u001b[0;34m\u001b[0m\u001b[0;34m\u001b[0m\u001b[0m\n\u001b[0m\u001b[1;32m      3\u001b[0m \u001b[0;32mexcept\u001b[0m \u001b[0mAssertionError\u001b[0m\u001b[0;34m:\u001b[0m\u001b[0;34m\u001b[0m\u001b[0;34m\u001b[0m\u001b[0m\n",
      "\u001b[0;31mAssertionError\u001b[0m: ",
      "\nDuring handling of the above exception, another exception occurred:\n",
      "\u001b[0;31mAssertionError\u001b[0m                            Traceback (most recent call last)",
      "\u001b[0;32m/tmp/ipykernel_2167/2999864733.py\u001b[0m in \u001b[0;36m<module>\u001b[0;34m\u001b[0m\n\u001b[1;32m      2\u001b[0m     \u001b[0;32massert\u001b[0m \u001b[0;32mnot\u001b[0m \u001b[0mlen\u001b[0m\u001b[0;34m(\u001b[0m\u001b[0mdf\u001b[0m\u001b[0;34m)\u001b[0m \u001b[0;34m<\u001b[0m \u001b[0;36m342\u001b[0m\u001b[0;34m\u001b[0m\u001b[0;34m\u001b[0m\u001b[0m\n\u001b[1;32m      3\u001b[0m \u001b[0;32mexcept\u001b[0m \u001b[0mAssertionError\u001b[0m\u001b[0;34m:\u001b[0m\u001b[0;34m\u001b[0m\u001b[0;34m\u001b[0m\u001b[0m\n\u001b[0;32m----> 4\u001b[0;31m     \u001b[0;32mraise\u001b[0m \u001b[0mAssertionError\u001b[0m\u001b[0;34m(\u001b[0m\u001b[0;34m\"L.A. County's scraper is missing rows\"\u001b[0m\u001b[0;34m)\u001b[0m\u001b[0;34m\u001b[0m\u001b[0;34m\u001b[0m\u001b[0m\n\u001b[0m",
      "\u001b[0;31mAssertionError\u001b[0m: L.A. County's scraper is missing rows"
     ]
    }
   ],
   "source": [
    "try:\n",
    "    assert not len(df) < 342\n",
    "except AssertionError:\n",
    "    raise AssertionError(\"L.A. County's scraper is missing rows\")"
   ]
  },
  {
   "cell_type": "markdown",
   "metadata": {},
   "source": [
    "## Export"
   ]
  },
  {
   "cell_type": "markdown",
   "metadata": {},
   "source": [
    "Set the date"
   ]
  },
  {
   "cell_type": "code",
   "execution_count": 30,
   "metadata": {},
   "outputs": [],
   "source": [
    "tz = pytz.timezone(\"America/Los_Angeles\")"
   ]
  },
  {
   "cell_type": "code",
   "execution_count": 31,
   "metadata": {},
   "outputs": [],
   "source": [
    "today = datetime.now(tz).date()"
   ]
  },
  {
   "cell_type": "code",
   "execution_count": 32,
   "metadata": {},
   "outputs": [],
   "source": [
    "slug = \"los-angeles\""
   ]
  },
  {
   "cell_type": "code",
   "execution_count": 33,
   "metadata": {},
   "outputs": [],
   "source": [
    "df.to_csv(data_dir / slug / f\"{today}.csv\", index=False)"
   ]
  },
  {
   "cell_type": "markdown",
   "metadata": {},
   "source": [
    "## Combine"
   ]
  },
  {
   "cell_type": "code",
   "execution_count": 34,
   "metadata": {},
   "outputs": [],
   "source": [
    "csv_list = [\n",
    "    i\n",
    "    for i in glob.glob(str(data_dir / slug / \"*.csv\"))\n",
    "    if not str(i).endswith(\"timeseries.csv\")\n",
    "]"
   ]
  },
  {
   "cell_type": "code",
   "execution_count": 35,
   "metadata": {},
   "outputs": [],
   "source": [
    "df_list = []\n",
    "for csv in csv_list:\n",
    "    if \"manual\" in csv:\n",
    "        df = pd.read_csv(csv, parse_dates=[\"date\"])\n",
    "    else:\n",
    "        file_date = csv.split(\"/\")[-1].replace(\".csv\", \"\")\n",
    "        df = pd.read_csv(csv, parse_dates=[\"county_date\"])\n",
    "        df[\"date\"] = file_date\n",
    "    df_list.append(df)"
   ]
  },
  {
   "cell_type": "code",
   "execution_count": 36,
   "metadata": {},
   "outputs": [],
   "source": [
    "df = pd.concat(df_list).sort_values([\"date\", \"area\"])"
   ]
  },
  {
   "cell_type": "code",
   "execution_count": 37,
   "metadata": {},
   "outputs": [],
   "source": [
    "df.to_csv(data_dir / slug / \"timeseries.csv\", index=False)"
   ]
  },
  {
   "cell_type": "code",
   "execution_count": null,
   "metadata": {},
   "outputs": [],
   "source": []
  },
  {
   "cell_type": "code",
   "execution_count": null,
   "metadata": {},
   "outputs": [],
   "source": []
  }
 ],
 "metadata": {
  "kernelspec": {
   "display_name": "Python 3 (ipykernel)",
   "language": "python",
   "name": "python3"
  },
  "language_info": {
   "codemirror_mode": {
    "name": "ipython",
    "version": 3
   },
   "file_extension": ".py",
   "mimetype": "text/x-python",
   "name": "python",
   "nbconvert_exporter": "python",
   "pygments_lexer": "ipython3",
   "version": "3.8.16"
  }
 },
 "nbformat": 4,
 "nbformat_minor": 4
}
