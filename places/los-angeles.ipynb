{
 "cells": [
  {
   "cell_type": "markdown",
   "metadata": {
    "tags": []
   },
   "source": [
    "## Configuration\n",
    "_Initial steps to get the notebook ready to play nice with our repository. Do not delete this section._"
   ]
  },
  {
   "cell_type": "markdown",
   "metadata": {},
   "source": [
    "Code formatting with [black](https://pypi.org/project/nb-black/)."
   ]
  },
  {
   "cell_type": "code",
   "execution_count": 1,
   "metadata": {
    "execution": {
     "iopub.execute_input": "2023-02-04T04:18:51.432509Z",
     "iopub.status.busy": "2023-02-04T04:18:51.432083Z",
     "iopub.status.idle": "2023-02-04T04:18:51.564725Z",
     "shell.execute_reply": "2023-02-04T04:18:51.564245Z"
    }
   },
   "outputs": [],
   "source": [
    "%load_ext lab_black"
   ]
  },
  {
   "cell_type": "code",
   "execution_count": 2,
   "metadata": {
    "execution": {
     "iopub.execute_input": "2023-02-04T04:18:51.569172Z",
     "iopub.status.busy": "2023-02-04T04:18:51.568260Z",
     "iopub.status.idle": "2023-02-04T04:18:51.569654Z",
     "shell.execute_reply": "2023-02-04T04:18:51.569993Z"
    }
   },
   "outputs": [],
   "source": [
    "import os\n",
    "import pathlib"
   ]
  },
  {
   "cell_type": "code",
   "execution_count": 3,
   "metadata": {
    "execution": {
     "iopub.execute_input": "2023-02-04T04:18:51.573957Z",
     "iopub.status.busy": "2023-02-04T04:18:51.573519Z",
     "iopub.status.idle": "2023-02-04T04:18:51.577076Z",
     "shell.execute_reply": "2023-02-04T04:18:51.576687Z"
    }
   },
   "outputs": [],
   "source": [
    "this_dir = pathlib.Path(os.path.abspath(\"\"))"
   ]
  },
  {
   "cell_type": "code",
   "execution_count": 4,
   "metadata": {
    "execution": {
     "iopub.execute_input": "2023-02-04T04:18:51.581204Z",
     "iopub.status.busy": "2023-02-04T04:18:51.580750Z",
     "iopub.status.idle": "2023-02-04T04:18:51.582176Z",
     "shell.execute_reply": "2023-02-04T04:18:51.582505Z"
    }
   },
   "outputs": [],
   "source": [
    "data_dir = this_dir / \"data\""
   ]
  },
  {
   "cell_type": "code",
   "execution_count": 5,
   "metadata": {
    "execution": {
     "iopub.execute_input": "2023-02-04T04:18:51.585790Z",
     "iopub.status.busy": "2023-02-04T04:18:51.585388Z",
     "iopub.status.idle": "2023-02-04T04:18:51.955327Z",
     "shell.execute_reply": "2023-02-04T04:18:51.954495Z"
    }
   },
   "outputs": [],
   "source": [
    "import re\n",
    "import pytz\n",
    "import glob\n",
    "import requests\n",
    "import unicodedata\n",
    "import pandas as pd\n",
    "from slugify import slugify\n",
    "from bs4 import BeautifulSoup\n",
    "from datetime import datetime, date"
   ]
  },
  {
   "cell_type": "markdown",
   "metadata": {},
   "source": [
    "## Download"
   ]
  },
  {
   "cell_type": "markdown",
   "metadata": {},
   "source": [
    "Retrieve the page"
   ]
  },
  {
   "cell_type": "code",
   "execution_count": 6,
   "metadata": {
    "execution": {
     "iopub.execute_input": "2023-02-04T04:18:51.959666Z",
     "iopub.status.busy": "2023-02-04T04:18:51.959230Z",
     "iopub.status.idle": "2023-02-04T04:18:51.961558Z",
     "shell.execute_reply": "2023-02-04T04:18:51.962130Z"
    }
   },
   "outputs": [],
   "source": [
    "url = \"http://publichealth.lacounty.gov/media/Coronavirus/locations.htm\""
   ]
  },
  {
   "cell_type": "code",
   "execution_count": 7,
   "metadata": {
    "execution": {
     "iopub.execute_input": "2023-02-04T04:18:51.968950Z",
     "iopub.status.busy": "2023-02-04T04:18:51.965110Z",
     "iopub.status.idle": "2023-02-04T04:18:52.370415Z",
     "shell.execute_reply": "2023-02-04T04:18:52.370028Z"
    }
   },
   "outputs": [],
   "source": [
    "page = requests.get(url)"
   ]
  },
  {
   "cell_type": "markdown",
   "metadata": {},
   "source": [
    "## Parse"
   ]
  },
  {
   "cell_type": "code",
   "execution_count": 8,
   "metadata": {
    "execution": {
     "iopub.execute_input": "2023-02-04T04:18:52.382740Z",
     "iopub.status.busy": "2023-02-04T04:18:52.377696Z",
     "iopub.status.idle": "2023-02-04T04:18:52.507789Z",
     "shell.execute_reply": "2023-02-04T04:18:52.508139Z"
    }
   },
   "outputs": [],
   "source": [
    "soup = BeautifulSoup(page.content, \"html.parser\")"
   ]
  },
  {
   "cell_type": "markdown",
   "metadata": {},
   "source": [
    "Get content well"
   ]
  },
  {
   "cell_type": "code",
   "execution_count": 9,
   "metadata": {
    "execution": {
     "iopub.execute_input": "2023-02-04T04:18:52.514327Z",
     "iopub.status.busy": "2023-02-04T04:18:52.513879Z",
     "iopub.status.idle": "2023-02-04T04:18:52.515952Z",
     "shell.execute_reply": "2023-02-04T04:18:52.515532Z"
    }
   },
   "outputs": [],
   "source": [
    "content = soup.find(\"div\", {\"id\": \"content\"})"
   ]
  },
  {
   "cell_type": "markdown",
   "metadata": {},
   "source": [
    "Get table"
   ]
  },
  {
   "cell_type": "code",
   "execution_count": 10,
   "metadata": {
    "execution": {
     "iopub.execute_input": "2023-02-04T04:18:52.523158Z",
     "iopub.status.busy": "2023-02-04T04:18:52.522745Z",
     "iopub.status.idle": "2023-02-04T04:18:52.531057Z",
     "shell.execute_reply": "2023-02-04T04:18:52.531396Z"
    }
   },
   "outputs": [],
   "source": [
    "for tag in content.find_all(text=re.compile(\"CITY/COMMUNITY\")):\n",
    "    table = tag.findParent(\"table\")"
   ]
  },
  {
   "cell_type": "code",
   "execution_count": 11,
   "metadata": {
    "execution": {
     "iopub.execute_input": "2023-02-04T04:18:52.536385Z",
     "iopub.status.busy": "2023-02-04T04:18:52.535962Z",
     "iopub.status.idle": "2023-02-04T04:18:52.538094Z",
     "shell.execute_reply": "2023-02-04T04:18:52.537675Z"
    }
   },
   "outputs": [],
   "source": [
    "tbody = soup.tbody"
   ]
  },
  {
   "cell_type": "code",
   "execution_count": 12,
   "metadata": {
    "execution": {
     "iopub.execute_input": "2023-02-04T04:18:52.542439Z",
     "iopub.status.busy": "2023-02-04T04:18:52.542029Z",
     "iopub.status.idle": "2023-02-04T04:18:52.544693Z",
     "shell.execute_reply": "2023-02-04T04:18:52.545025Z"
    }
   },
   "outputs": [],
   "source": [
    "row_list = tbody.find_all(\"tr\")"
   ]
  },
  {
   "cell_type": "code",
   "execution_count": 13,
   "metadata": {
    "execution": {
     "iopub.execute_input": "2023-02-04T04:18:52.548043Z",
     "iopub.status.busy": "2023-02-04T04:18:52.547627Z",
     "iopub.status.idle": "2023-02-04T04:18:52.550196Z",
     "shell.execute_reply": "2023-02-04T04:18:52.549830Z"
    }
   },
   "outputs": [],
   "source": [
    "dict_list = []"
   ]
  },
  {
   "cell_type": "code",
   "execution_count": 14,
   "metadata": {
    "execution": {
     "iopub.execute_input": "2023-02-04T04:18:52.556087Z",
     "iopub.status.busy": "2023-02-04T04:18:52.555643Z",
     "iopub.status.idle": "2023-02-04T04:18:52.557486Z",
     "shell.execute_reply": "2023-02-04T04:18:52.557809Z"
    }
   },
   "outputs": [],
   "source": [
    "def safetxt(element):\n",
    "    v = element.text.strip()\n",
    "    v = v.replace(\"\\u200b\", \"\")\n",
    "    return v"
   ]
  },
  {
   "cell_type": "code",
   "execution_count": 15,
   "metadata": {
    "execution": {
     "iopub.execute_input": "2023-02-04T04:18:52.561365Z",
     "iopub.status.busy": "2023-02-04T04:18:52.560924Z",
     "iopub.status.idle": "2023-02-04T04:18:52.565646Z",
     "shell.execute_reply": "2023-02-04T04:18:52.565289Z"
    }
   },
   "outputs": [],
   "source": [
    "def safenumber(element):\n",
    "    v = safetxt(element)\n",
    "    v = v.replace(\",\", \"\")\n",
    "    v = v.replace(\" \", \"\")\n",
    "    return v"
   ]
  },
  {
   "cell_type": "code",
   "execution_count": 16,
   "metadata": {
    "execution": {
     "iopub.execute_input": "2023-02-04T04:18:52.572699Z",
     "iopub.status.busy": "2023-02-04T04:18:52.572299Z",
     "iopub.status.idle": "2023-02-04T04:18:52.583766Z",
     "shell.execute_reply": "2023-02-04T04:18:52.583388Z"
    }
   },
   "outputs": [],
   "source": [
    "for row in row_list:\n",
    "    cell_content = row.find_all(\"td\")\n",
    "    d = dict(\n",
    "        county=\"Los Angeles\",\n",
    "        area=safetxt(cell_content[0]),\n",
    "        confirmed_cases=safenumber(cell_content[1]),\n",
    "        confirmed_deaths=safenumber(cell_content[3]),\n",
    "    )\n",
    "    dict_list.append(d)"
   ]
  },
  {
   "cell_type": "code",
   "execution_count": 17,
   "metadata": {
    "execution": {
     "iopub.execute_input": "2023-02-04T04:18:52.588963Z",
     "iopub.status.busy": "2023-02-04T04:18:52.588520Z",
     "iopub.status.idle": "2023-02-04T04:18:52.591563Z",
     "shell.execute_reply": "2023-02-04T04:18:52.590854Z"
    }
   },
   "outputs": [],
   "source": [
    "df = pd.DataFrame(dict_list)"
   ]
  },
  {
   "cell_type": "markdown",
   "metadata": {},
   "source": [
    "Get timestamp"
   ]
  },
  {
   "cell_type": "code",
   "execution_count": 18,
   "metadata": {
    "execution": {
     "iopub.execute_input": "2023-02-04T04:18:52.595456Z",
     "iopub.status.busy": "2023-02-04T04:18:52.593346Z",
     "iopub.status.idle": "2023-02-04T04:18:52.597836Z",
     "shell.execute_reply": "2023-02-04T04:18:52.598204Z"
    }
   },
   "outputs": [],
   "source": [
    "date_url = \"http://publichealth.lacounty.gov/media/Coronavirus/js/casecounter.js\""
   ]
  },
  {
   "cell_type": "code",
   "execution_count": 19,
   "metadata": {
    "execution": {
     "iopub.execute_input": "2023-02-04T04:18:52.601591Z",
     "iopub.status.busy": "2023-02-04T04:18:52.600981Z",
     "iopub.status.idle": "2023-02-04T04:18:52.760046Z",
     "shell.execute_reply": "2023-02-04T04:18:52.759631Z"
    }
   },
   "outputs": [],
   "source": [
    "response = requests.get(date_url)\n",
    "date_page = response.text"
   ]
  },
  {
   "cell_type": "code",
   "execution_count": 20,
   "metadata": {
    "execution": {
     "iopub.execute_input": "2023-02-04T04:18:52.768075Z",
     "iopub.status.busy": "2023-02-04T04:18:52.767243Z",
     "iopub.status.idle": "2023-02-04T04:18:52.772876Z",
     "shell.execute_reply": "2023-02-04T04:18:52.773432Z"
    }
   },
   "outputs": [
    {
     "data": {
      "text/plain": [
       "'$( document ).ready(function() {\\r\\n    var data = {\\r\\n\\t\\t\\t\\t    \"content\": { \\r\\n\\t\\t\\r\\n\\t\\t\\t\"count\": \"3,680,571\",\\r\\n\\r\\n\\r\\n\\t\\t\\t\"death\": \"35,325\",\\r\\n\\r\\n\\t\\t\\t\"dailycount\": \"1,417\",\\r\\n\\r\\n\\r\\n\\t\\t\\t\"dailydeath\": \"19\",\\r\\n\\t\\t\\t\"hospitalizationsever\": \"170,693\",\\r\\n\\r\\n\\r\\n\\t\\t\\t\"date\": \"02/03/23\",\\r\\n\\t\\t\\t\"info\": \"through 12:00pm 02/02/2023\",\\r\\n\\r\\n\\t\\t\\t\"testingaverage\": \"21,068\",\\r\\n\\r\\n\\t\\t\\t\"peopletested\": \"12,895,220\",\\r\\n\\r\\n\\t\\t\\t\"positivity\": \"4.85%\",\\r\\n\\r\\n\\t\\t\\t\"hospitalizations\": \"687\",\\r\\n\\t\\t\\t\"datehospitalizations\": \"2/2/23\"\\r\\n\\r\\n\\t\\t\\t\\t}       \\r\\n\\t\\t\\t\\t};\\t\\r\\n\\t\\t\\t\\t\\r\\n\\t\\t\\t\\t\\r\\n\\t\\t\\t\\tvar content = data.content;\\r\\n\\t\\t\\t\\t\\r\\n\\t\\t\\t\\t$(\\'#ctn\\').html(content.count);\\r\\n\\t\\t\\t\\t$(\\'#det\\').html(content.death);\\r\\n\\t\\t\\t\\t$(\\'#dctn\\').html(content.dailycount);\\r\\n\\t\\t\\t\\t$(\\'#ddet\\').html(content.dailydeath);\\r\\n\\t\\t\\t\\t$(\\'#hosp_1\\').html(content.hospitalizationsever);\\r\\n\\t\\t\\t\\t$(\\'#dte\\').html(content.date);\\r\\n\\t\\t\\t\\t$(\\'#dte_1\\').html(content.date);\\r\\n\\t\\t\\t\\t$(\\'#dte_2\\').html(content.date);\\r\\n\\t\\t\\t\\t$(\\'#dte_3\\').html(content.datehospitalizations);\\r\\n\\t\\t\\t\\t$(\\'#cse\\').html(content.info);\\t\\r\\n\\t\\t\\t\\r\\n\\t\\t\\t\\t\\r\\n\\t\\t\\t\\t$(\\'#tstavg\\').html(content.testingaverage);\\t\\r\\n\\t\\t\\t\\t$(\\'#ppltst\\').html(content.peopletested);\\t\\r\\n\\t\\t\\t\\t$(\\'#pos\\').html(content.positivity);\\t\\r\\n\\t\\t\\t\\t$(\\'#hosp\\').html(content.hospitalizations);\\r\\n\\t\\t\\t\\r\\n\\t\\t\\t\\t\\t\\t\\t\\r\\n\\r\\n\\r\\n});\\r\\n\\r\\n\\r\\n\\r\\n'"
      ]
     },
     "execution_count": 20,
     "metadata": {},
     "output_type": "execute_result"
    }
   ],
   "source": [
    "date_page"
   ]
  },
  {
   "cell_type": "code",
   "execution_count": 21,
   "metadata": {
    "execution": {
     "iopub.execute_input": "2023-02-04T04:18:52.777331Z",
     "iopub.status.busy": "2023-02-04T04:18:52.775332Z",
     "iopub.status.idle": "2023-02-04T04:18:52.780609Z",
     "shell.execute_reply": "2023-02-04T04:18:52.779869Z"
    }
   },
   "outputs": [],
   "source": [
    "# date_text = re.search(r\"([0-9][0-9]/[0-9][0-9])\", date_page).group(1)\n",
    "# date_text = date_text + \"/\" + str(date.today().year)"
   ]
  },
  {
   "cell_type": "code",
   "execution_count": 22,
   "metadata": {
    "execution": {
     "iopub.execute_input": "2023-02-04T04:18:52.785404Z",
     "iopub.status.busy": "2023-02-04T04:18:52.784665Z",
     "iopub.status.idle": "2023-02-04T04:18:52.787835Z",
     "shell.execute_reply": "2023-02-04T04:18:52.787461Z"
    }
   },
   "outputs": [],
   "source": [
    "date_text = re.search(r\"through (.+?)\\\"\", date_page).group(1)"
   ]
  },
  {
   "cell_type": "code",
   "execution_count": 23,
   "metadata": {
    "execution": {
     "iopub.execute_input": "2023-02-04T04:18:52.791201Z",
     "iopub.status.busy": "2023-02-04T04:18:52.790761Z",
     "iopub.status.idle": "2023-02-04T04:18:52.795067Z",
     "shell.execute_reply": "2023-02-04T04:18:52.794286Z"
    }
   },
   "outputs": [],
   "source": [
    "date_text = date_text.split(\"m \")[0]"
   ]
  },
  {
   "cell_type": "code",
   "execution_count": 24,
   "metadata": {
    "execution": {
     "iopub.execute_input": "2023-02-04T04:18:52.799961Z",
     "iopub.status.busy": "2023-02-04T04:18:52.798183Z",
     "iopub.status.idle": "2023-02-04T04:18:52.802700Z",
     "shell.execute_reply": "2023-02-04T04:18:52.801929Z"
    }
   },
   "outputs": [],
   "source": [
    "latest_date = pd.to_datetime(date_text).date()"
   ]
  },
  {
   "cell_type": "code",
   "execution_count": 25,
   "metadata": {
    "execution": {
     "iopub.execute_input": "2023-02-04T04:18:52.806628Z",
     "iopub.status.busy": "2023-02-04T04:18:52.805930Z",
     "iopub.status.idle": "2023-02-04T04:18:52.810176Z",
     "shell.execute_reply": "2023-02-04T04:18:52.810540Z"
    }
   },
   "outputs": [],
   "source": [
    "df[\"county_date\"] = latest_date"
   ]
  },
  {
   "cell_type": "code",
   "execution_count": 26,
   "metadata": {
    "execution": {
     "iopub.execute_input": "2023-02-04T04:18:52.815264Z",
     "iopub.status.busy": "2023-02-04T04:18:52.814556Z",
     "iopub.status.idle": "2023-02-04T04:18:52.819161Z",
     "shell.execute_reply": "2023-02-04T04:18:52.818769Z"
    }
   },
   "outputs": [],
   "source": [
    "df.loc[df.area == \"-  Under Investigation\", \"area\"] = \"Under Investigation\""
   ]
  },
  {
   "cell_type": "code",
   "execution_count": 27,
   "metadata": {
    "execution": {
     "iopub.execute_input": "2023-02-04T04:18:52.824376Z",
     "iopub.status.busy": "2023-02-04T04:18:52.820944Z",
     "iopub.status.idle": "2023-02-04T04:18:52.826852Z",
     "shell.execute_reply": "2023-02-04T04:18:52.826513Z"
    }
   },
   "outputs": [],
   "source": [
    "df.loc[df.area == \"- Under Investigation\", \"area\"] = \"Under Investigation\""
   ]
  },
  {
   "cell_type": "markdown",
   "metadata": {},
   "source": [
    "## Vet"
   ]
  },
  {
   "cell_type": "code",
   "execution_count": 28,
   "metadata": {
    "execution": {
     "iopub.execute_input": "2023-02-04T04:18:52.831312Z",
     "iopub.status.busy": "2023-02-04T04:18:52.829539Z",
     "iopub.status.idle": "2023-02-04T04:18:52.834046Z",
     "shell.execute_reply": "2023-02-04T04:18:52.833671Z"
    }
   },
   "outputs": [],
   "source": [
    "try:\n",
    "    assert not len(df) > 342\n",
    "except AssertionError:\n",
    "    raise AssertionError(\"L.A. County's scraper has extra rows\")"
   ]
  },
  {
   "cell_type": "code",
   "execution_count": 29,
   "metadata": {
    "execution": {
     "iopub.execute_input": "2023-02-04T04:18:52.837359Z",
     "iopub.status.busy": "2023-02-04T04:18:52.836898Z",
     "iopub.status.idle": "2023-02-04T04:18:52.958674Z",
     "shell.execute_reply": "2023-02-04T04:18:52.957253Z"
    }
   },
   "outputs": [
    {
     "ename": "AssertionError",
     "evalue": "L.A. County's scraper is missing rows",
     "output_type": "error",
     "traceback": [
      "\u001b[0;31m---------------------------------------------------------------------------\u001b[0m",
      "\u001b[0;31mAssertionError\u001b[0m                            Traceback (most recent call last)",
      "\u001b[0;32m/tmp/ipykernel_2225/2999864733.py\u001b[0m in \u001b[0;36m<module>\u001b[0;34m\u001b[0m\n\u001b[1;32m      1\u001b[0m \u001b[0;32mtry\u001b[0m\u001b[0;34m:\u001b[0m\u001b[0;34m\u001b[0m\u001b[0;34m\u001b[0m\u001b[0m\n\u001b[0;32m----> 2\u001b[0;31m     \u001b[0;32massert\u001b[0m \u001b[0;32mnot\u001b[0m \u001b[0mlen\u001b[0m\u001b[0;34m(\u001b[0m\u001b[0mdf\u001b[0m\u001b[0;34m)\u001b[0m \u001b[0;34m<\u001b[0m \u001b[0;36m342\u001b[0m\u001b[0;34m\u001b[0m\u001b[0;34m\u001b[0m\u001b[0m\n\u001b[0m\u001b[1;32m      3\u001b[0m \u001b[0;32mexcept\u001b[0m \u001b[0mAssertionError\u001b[0m\u001b[0;34m:\u001b[0m\u001b[0;34m\u001b[0m\u001b[0;34m\u001b[0m\u001b[0m\n",
      "\u001b[0;31mAssertionError\u001b[0m: ",
      "\nDuring handling of the above exception, another exception occurred:\n",
      "\u001b[0;31mAssertionError\u001b[0m                            Traceback (most recent call last)",
      "\u001b[0;32m/tmp/ipykernel_2225/2999864733.py\u001b[0m in \u001b[0;36m<module>\u001b[0;34m\u001b[0m\n\u001b[1;32m      2\u001b[0m     \u001b[0;32massert\u001b[0m \u001b[0;32mnot\u001b[0m \u001b[0mlen\u001b[0m\u001b[0;34m(\u001b[0m\u001b[0mdf\u001b[0m\u001b[0;34m)\u001b[0m \u001b[0;34m<\u001b[0m \u001b[0;36m342\u001b[0m\u001b[0;34m\u001b[0m\u001b[0;34m\u001b[0m\u001b[0m\n\u001b[1;32m      3\u001b[0m \u001b[0;32mexcept\u001b[0m \u001b[0mAssertionError\u001b[0m\u001b[0;34m:\u001b[0m\u001b[0;34m\u001b[0m\u001b[0;34m\u001b[0m\u001b[0m\n\u001b[0;32m----> 4\u001b[0;31m     \u001b[0;32mraise\u001b[0m \u001b[0mAssertionError\u001b[0m\u001b[0;34m(\u001b[0m\u001b[0;34m\"L.A. County's scraper is missing rows\"\u001b[0m\u001b[0;34m)\u001b[0m\u001b[0;34m\u001b[0m\u001b[0;34m\u001b[0m\u001b[0m\n\u001b[0m",
      "\u001b[0;31mAssertionError\u001b[0m: L.A. County's scraper is missing rows"
     ]
    }
   ],
   "source": [
    "try:\n",
    "    assert not len(df) < 342\n",
    "except AssertionError:\n",
    "    raise AssertionError(\"L.A. County's scraper is missing rows\")"
   ]
  },
  {
   "cell_type": "markdown",
   "metadata": {},
   "source": [
    "## Export"
   ]
  },
  {
   "cell_type": "markdown",
   "metadata": {},
   "source": [
    "Set the date"
   ]
  },
  {
   "cell_type": "code",
   "execution_count": 67,
   "metadata": {},
   "outputs": [],
   "source": [
    "tz = pytz.timezone(\"America/Los_Angeles\")"
   ]
  },
  {
   "cell_type": "code",
   "execution_count": 68,
   "metadata": {},
   "outputs": [],
   "source": [
    "today = datetime.now(tz).date()"
   ]
  },
  {
   "cell_type": "code",
   "execution_count": 69,
   "metadata": {},
   "outputs": [],
   "source": [
    "slug = \"los-angeles\""
   ]
  },
  {
   "cell_type": "code",
   "execution_count": 70,
   "metadata": {},
   "outputs": [],
   "source": [
    "df.to_csv(data_dir / slug / f\"{today}.csv\", index=False)"
   ]
  },
  {
   "cell_type": "markdown",
   "metadata": {},
   "source": [
    "## Combine"
   ]
  },
  {
   "cell_type": "code",
   "execution_count": 71,
   "metadata": {},
   "outputs": [],
   "source": [
    "csv_list = [\n",
    "    i\n",
    "    for i in glob.glob(str(data_dir / slug / \"*.csv\"))\n",
    "    if not str(i).endswith(\"timeseries.csv\")\n",
    "]"
   ]
  },
  {
   "cell_type": "code",
   "execution_count": 72,
   "metadata": {},
   "outputs": [],
   "source": [
    "df_list = []\n",
    "for csv in csv_list:\n",
    "    if \"manual\" in csv:\n",
    "        df = pd.read_csv(csv, parse_dates=[\"date\"])\n",
    "    else:\n",
    "        file_date = csv.split(\"/\")[-1].replace(\".csv\", \"\")\n",
    "        df = pd.read_csv(csv, parse_dates=[\"county_date\"])\n",
    "        df[\"date\"] = file_date\n",
    "    df_list.append(df)"
   ]
  },
  {
   "cell_type": "code",
   "execution_count": 73,
   "metadata": {},
   "outputs": [],
   "source": [
    "df = pd.concat(df_list).sort_values([\"date\", \"area\"])"
   ]
  },
  {
   "cell_type": "code",
   "execution_count": 74,
   "metadata": {},
   "outputs": [],
   "source": [
    "df.to_csv(data_dir / slug / \"timeseries.csv\", index=False)"
   ]
  },
  {
   "cell_type": "code",
   "execution_count": null,
   "metadata": {},
   "outputs": [],
   "source": []
  },
  {
   "cell_type": "code",
   "execution_count": null,
   "metadata": {},
   "outputs": [],
   "source": []
  }
 ],
 "metadata": {
  "kernelspec": {
   "display_name": "Python 3 (ipykernel)",
   "language": "python",
   "name": "python3"
  },
  "language_info": {
   "codemirror_mode": {
    "name": "ipython",
    "version": 3
   },
   "file_extension": ".py",
   "mimetype": "text/x-python",
   "name": "python",
   "nbconvert_exporter": "python",
   "pygments_lexer": "ipython3",
   "version": "3.8.16"
  }
 },
 "nbformat": 4,
 "nbformat_minor": 4
}
