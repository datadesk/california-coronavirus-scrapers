{
 "cells": [
  {
   "cell_type": "markdown",
   "metadata": {
    "tags": []
   },
   "source": [
    "## Configuration\n",
    "_Initial steps to get the notebook ready to play nice with our repository. Do not delete this section._"
   ]
  },
  {
   "cell_type": "markdown",
   "metadata": {},
   "source": [
    "Code formatting with [black](https://pypi.org/project/nb-black/)."
   ]
  },
  {
   "cell_type": "code",
   "execution_count": 1,
   "metadata": {
    "execution": {
     "iopub.execute_input": "2023-01-29T08:19:02.112533Z",
     "iopub.status.busy": "2023-01-29T08:19:02.112137Z",
     "iopub.status.idle": "2023-01-29T08:19:02.248545Z",
     "shell.execute_reply": "2023-01-29T08:19:02.248051Z"
    }
   },
   "outputs": [],
   "source": [
    "%load_ext lab_black"
   ]
  },
  {
   "cell_type": "code",
   "execution_count": 2,
   "metadata": {
    "execution": {
     "iopub.execute_input": "2023-01-29T08:19:02.252815Z",
     "iopub.status.busy": "2023-01-29T08:19:02.251933Z",
     "iopub.status.idle": "2023-01-29T08:19:02.253304Z",
     "shell.execute_reply": "2023-01-29T08:19:02.253644Z"
    }
   },
   "outputs": [],
   "source": [
    "import os\n",
    "import pathlib"
   ]
  },
  {
   "cell_type": "code",
   "execution_count": 3,
   "metadata": {
    "execution": {
     "iopub.execute_input": "2023-01-29T08:19:02.258889Z",
     "iopub.status.busy": "2023-01-29T08:19:02.258483Z",
     "iopub.status.idle": "2023-01-29T08:19:02.260583Z",
     "shell.execute_reply": "2023-01-29T08:19:02.260225Z"
    }
   },
   "outputs": [],
   "source": [
    "this_dir = pathlib.Path(os.path.abspath(\"\"))"
   ]
  },
  {
   "cell_type": "code",
   "execution_count": 4,
   "metadata": {
    "execution": {
     "iopub.execute_input": "2023-01-29T08:19:02.264772Z",
     "iopub.status.busy": "2023-01-29T08:19:02.264082Z",
     "iopub.status.idle": "2023-01-29T08:19:02.265857Z",
     "shell.execute_reply": "2023-01-29T08:19:02.265499Z"
    }
   },
   "outputs": [],
   "source": [
    "data_dir = this_dir / \"data\""
   ]
  },
  {
   "cell_type": "code",
   "execution_count": 5,
   "metadata": {
    "execution": {
     "iopub.execute_input": "2023-01-29T08:19:02.269262Z",
     "iopub.status.busy": "2023-01-29T08:19:02.268836Z",
     "iopub.status.idle": "2023-01-29T08:19:02.634523Z",
     "shell.execute_reply": "2023-01-29T08:19:02.633739Z"
    }
   },
   "outputs": [],
   "source": [
    "import re\n",
    "import pytz\n",
    "import glob\n",
    "import requests\n",
    "import unicodedata\n",
    "import pandas as pd\n",
    "from slugify import slugify\n",
    "from bs4 import BeautifulSoup\n",
    "from datetime import datetime, date"
   ]
  },
  {
   "cell_type": "markdown",
   "metadata": {},
   "source": [
    "## Download"
   ]
  },
  {
   "cell_type": "markdown",
   "metadata": {},
   "source": [
    "Retrieve the page"
   ]
  },
  {
   "cell_type": "code",
   "execution_count": 6,
   "metadata": {
    "execution": {
     "iopub.execute_input": "2023-01-29T08:19:02.638804Z",
     "iopub.status.busy": "2023-01-29T08:19:02.638372Z",
     "iopub.status.idle": "2023-01-29T08:19:02.640772Z",
     "shell.execute_reply": "2023-01-29T08:19:02.641118Z"
    }
   },
   "outputs": [],
   "source": [
    "url = \"http://publichealth.lacounty.gov/media/Coronavirus/locations.htm\""
   ]
  },
  {
   "cell_type": "code",
   "execution_count": 7,
   "metadata": {
    "execution": {
     "iopub.execute_input": "2023-01-29T08:19:02.644703Z",
     "iopub.status.busy": "2023-01-29T08:19:02.643911Z",
     "iopub.status.idle": "2023-01-29T08:19:02.879979Z",
     "shell.execute_reply": "2023-01-29T08:19:02.879556Z"
    }
   },
   "outputs": [],
   "source": [
    "page = requests.get(url)"
   ]
  },
  {
   "cell_type": "markdown",
   "metadata": {},
   "source": [
    "## Parse"
   ]
  },
  {
   "cell_type": "code",
   "execution_count": 8,
   "metadata": {
    "execution": {
     "iopub.execute_input": "2023-01-29T08:19:02.893158Z",
     "iopub.status.busy": "2023-01-29T08:19:02.887348Z",
     "iopub.status.idle": "2023-01-29T08:19:03.021850Z",
     "shell.execute_reply": "2023-01-29T08:19:03.021081Z"
    }
   },
   "outputs": [],
   "source": [
    "soup = BeautifulSoup(page.content, \"html.parser\")"
   ]
  },
  {
   "cell_type": "markdown",
   "metadata": {},
   "source": [
    "Get content well"
   ]
  },
  {
   "cell_type": "code",
   "execution_count": 9,
   "metadata": {
    "execution": {
     "iopub.execute_input": "2023-01-29T08:19:03.028233Z",
     "iopub.status.busy": "2023-01-29T08:19:03.027348Z",
     "iopub.status.idle": "2023-01-29T08:19:03.030208Z",
     "shell.execute_reply": "2023-01-29T08:19:03.030798Z"
    }
   },
   "outputs": [],
   "source": [
    "content = soup.find(\"div\", {\"id\": \"content\"})"
   ]
  },
  {
   "cell_type": "markdown",
   "metadata": {},
   "source": [
    "Get table"
   ]
  },
  {
   "cell_type": "code",
   "execution_count": 10,
   "metadata": {
    "execution": {
     "iopub.execute_input": "2023-01-29T08:19:03.043547Z",
     "iopub.status.busy": "2023-01-29T08:19:03.037893Z",
     "iopub.status.idle": "2023-01-29T08:19:03.048064Z",
     "shell.execute_reply": "2023-01-29T08:19:03.047685Z"
    }
   },
   "outputs": [],
   "source": [
    "for tag in content.find_all(text=re.compile(\"CITY/COMMUNITY\")):\n",
    "    table = tag.findParent(\"table\")"
   ]
  },
  {
   "cell_type": "code",
   "execution_count": 11,
   "metadata": {
    "execution": {
     "iopub.execute_input": "2023-01-29T08:19:03.053511Z",
     "iopub.status.busy": "2023-01-29T08:19:03.049884Z",
     "iopub.status.idle": "2023-01-29T08:19:03.056178Z",
     "shell.execute_reply": "2023-01-29T08:19:03.055500Z"
    }
   },
   "outputs": [],
   "source": [
    "tbody = soup.tbody"
   ]
  },
  {
   "cell_type": "code",
   "execution_count": 12,
   "metadata": {
    "execution": {
     "iopub.execute_input": "2023-01-29T08:19:03.061791Z",
     "iopub.status.busy": "2023-01-29T08:19:03.061229Z",
     "iopub.status.idle": "2023-01-29T08:19:03.063752Z",
     "shell.execute_reply": "2023-01-29T08:19:03.064361Z"
    }
   },
   "outputs": [],
   "source": [
    "row_list = tbody.find_all(\"tr\")"
   ]
  },
  {
   "cell_type": "code",
   "execution_count": 13,
   "metadata": {
    "execution": {
     "iopub.execute_input": "2023-01-29T08:19:03.067671Z",
     "iopub.status.busy": "2023-01-29T08:19:03.066127Z",
     "iopub.status.idle": "2023-01-29T08:19:03.070965Z",
     "shell.execute_reply": "2023-01-29T08:19:03.070588Z"
    }
   },
   "outputs": [],
   "source": [
    "dict_list = []"
   ]
  },
  {
   "cell_type": "code",
   "execution_count": 14,
   "metadata": {
    "execution": {
     "iopub.execute_input": "2023-01-29T08:19:03.076158Z",
     "iopub.status.busy": "2023-01-29T08:19:03.075743Z",
     "iopub.status.idle": "2023-01-29T08:19:03.079046Z",
     "shell.execute_reply": "2023-01-29T08:19:03.078686Z"
    }
   },
   "outputs": [],
   "source": [
    "def safetxt(element):\n",
    "    v = element.text.strip()\n",
    "    v = v.replace(\"\\u200b\", \"\")\n",
    "    return v"
   ]
  },
  {
   "cell_type": "code",
   "execution_count": 15,
   "metadata": {
    "execution": {
     "iopub.execute_input": "2023-01-29T08:19:03.085578Z",
     "iopub.status.busy": "2023-01-29T08:19:03.085163Z",
     "iopub.status.idle": "2023-01-29T08:19:03.087744Z",
     "shell.execute_reply": "2023-01-29T08:19:03.088073Z"
    }
   },
   "outputs": [],
   "source": [
    "def safenumber(element):\n",
    "    v = safetxt(element)\n",
    "    v = v.replace(\",\", \"\")\n",
    "    v = v.replace(\" \", \"\")\n",
    "    return v"
   ]
  },
  {
   "cell_type": "code",
   "execution_count": 16,
   "metadata": {
    "execution": {
     "iopub.execute_input": "2023-01-29T08:19:03.099304Z",
     "iopub.status.busy": "2023-01-29T08:19:03.098520Z",
     "iopub.status.idle": "2023-01-29T08:19:03.106699Z",
     "shell.execute_reply": "2023-01-29T08:19:03.105906Z"
    }
   },
   "outputs": [],
   "source": [
    "for row in row_list:\n",
    "    cell_content = row.find_all(\"td\")\n",
    "    d = dict(\n",
    "        county=\"Los Angeles\",\n",
    "        area=safetxt(cell_content[0]),\n",
    "        confirmed_cases=safenumber(cell_content[1]),\n",
    "        confirmed_deaths=safenumber(cell_content[3]),\n",
    "    )\n",
    "    dict_list.append(d)"
   ]
  },
  {
   "cell_type": "code",
   "execution_count": 17,
   "metadata": {
    "execution": {
     "iopub.execute_input": "2023-01-29T08:19:03.111992Z",
     "iopub.status.busy": "2023-01-29T08:19:03.110369Z",
     "iopub.status.idle": "2023-01-29T08:19:03.114357Z",
     "shell.execute_reply": "2023-01-29T08:19:03.113992Z"
    }
   },
   "outputs": [],
   "source": [
    "df = pd.DataFrame(dict_list)"
   ]
  },
  {
   "cell_type": "markdown",
   "metadata": {},
   "source": [
    "Get timestamp"
   ]
  },
  {
   "cell_type": "code",
   "execution_count": 18,
   "metadata": {
    "execution": {
     "iopub.execute_input": "2023-01-29T08:19:03.118359Z",
     "iopub.status.busy": "2023-01-29T08:19:03.117047Z",
     "iopub.status.idle": "2023-01-29T08:19:03.120993Z",
     "shell.execute_reply": "2023-01-29T08:19:03.120601Z"
    }
   },
   "outputs": [],
   "source": [
    "date_url = \"http://publichealth.lacounty.gov/media/Coronavirus/js/casecounter.js\""
   ]
  },
  {
   "cell_type": "code",
   "execution_count": 19,
   "metadata": {
    "execution": {
     "iopub.execute_input": "2023-01-29T08:19:03.127204Z",
     "iopub.status.busy": "2023-01-29T08:19:03.123660Z",
     "iopub.status.idle": "2023-01-29T08:19:03.394076Z",
     "shell.execute_reply": "2023-01-29T08:19:03.393664Z"
    }
   },
   "outputs": [],
   "source": [
    "response = requests.get(date_url)\n",
    "date_page = response.text"
   ]
  },
  {
   "cell_type": "code",
   "execution_count": 20,
   "metadata": {
    "execution": {
     "iopub.execute_input": "2023-01-29T08:19:03.402015Z",
     "iopub.status.busy": "2023-01-29T08:19:03.401243Z",
     "iopub.status.idle": "2023-01-29T08:19:03.407432Z",
     "shell.execute_reply": "2023-01-29T08:19:03.407020Z"
    }
   },
   "outputs": [
    {
     "data": {
      "text/plain": [
       "'$( document ).ready(function() {\\r\\n    var data = {\\r\\n\\t\\t\\t\\t    \"content\": { \\r\\n\\t\\t\\r\\n\\t\\t\\t\"count\": \"3,673,339\",\\r\\n\\r\\n\\r\\n\\t\\t\\t\"death\": \"35,230\",\\r\\n\\r\\n\\t\\t\\t\"dailycount\": \"1,123\",\\r\\n\\r\\n\\r\\n\\t\\t\\t\"dailydeath\": \"19\",\\r\\n\\t\\t\\t\"hospitalizationsever\": \"169,988\",\\r\\n\\r\\n\\r\\n\\t\\t\\t\"date\": \"01/27/23\",\\r\\n\\t\\t\\t\"info\": \"through 12:00pm 01/26/2023\",\\r\\n\\r\\n\\t\\t\\t\"testingaverage\": \"22,605\",\\r\\n\\r\\n\\t\\t\\t\"peopletested\": \"12,881,377\",\\r\\n\\r\\n\\t\\t\\t\"positivity\": \"4.57%\",\\r\\n\\r\\n\\t\\t\\t\"hospitalizations\": \"722\",\\r\\n\\t\\t\\t\"datehospitalizations\": \"01/26/23\"\\r\\n\\r\\n\\t\\t\\t\\t}       \\r\\n\\t\\t\\t\\t};\\t\\r\\n\\t\\t\\t\\t\\r\\n\\t\\t\\t\\t\\r\\n\\t\\t\\t\\tvar content = data.content;\\r\\n\\t\\t\\t\\t\\r\\n\\t\\t\\t\\t$(\\'#ctn\\').html(content.count);\\r\\n\\t\\t\\t\\t$(\\'#det\\').html(content.death);\\r\\n\\t\\t\\t\\t$(\\'#dctn\\').html(content.dailycount);\\r\\n\\t\\t\\t\\t$(\\'#ddet\\').html(content.dailydeath);\\r\\n\\t\\t\\t\\t$(\\'#hosp_1\\').html(content.hospitalizationsever);\\r\\n\\t\\t\\t\\t$(\\'#dte\\').html(content.date);\\r\\n\\t\\t\\t\\t$(\\'#dte_1\\').html(content.date);\\r\\n\\t\\t\\t\\t$(\\'#dte_2\\').html(content.date);\\r\\n\\t\\t\\t\\t$(\\'#dte_3\\').html(content.datehospitalizations);\\r\\n\\t\\t\\t\\t$(\\'#cse\\').html(content.info);\\t\\r\\n\\t\\t\\t\\r\\n\\t\\t\\t\\t\\r\\n\\t\\t\\t\\t$(\\'#tstavg\\').html(content.testingaverage);\\t\\r\\n\\t\\t\\t\\t$(\\'#ppltst\\').html(content.peopletested);\\t\\r\\n\\t\\t\\t\\t$(\\'#pos\\').html(content.positivity);\\t\\r\\n\\t\\t\\t\\t$(\\'#hosp\\').html(content.hospitalizations);\\r\\n\\t\\t\\t\\r\\n\\t\\t\\t\\t\\t\\t\\t\\r\\n\\r\\n\\r\\n});\\r\\n\\r\\n\\r\\n\\r\\n'"
      ]
     },
     "execution_count": 20,
     "metadata": {},
     "output_type": "execute_result"
    }
   ],
   "source": [
    "date_page"
   ]
  },
  {
   "cell_type": "code",
   "execution_count": 21,
   "metadata": {
    "execution": {
     "iopub.execute_input": "2023-01-29T08:19:03.410749Z",
     "iopub.status.busy": "2023-01-29T08:19:03.410329Z",
     "iopub.status.idle": "2023-01-29T08:19:03.413186Z",
     "shell.execute_reply": "2023-01-29T08:19:03.412851Z"
    }
   },
   "outputs": [],
   "source": [
    "# date_text = re.search(r\"([0-9][0-9]/[0-9][0-9])\", date_page).group(1)\n",
    "# date_text = date_text + \"/\" + str(date.today().year)"
   ]
  },
  {
   "cell_type": "code",
   "execution_count": 22,
   "metadata": {
    "execution": {
     "iopub.execute_input": "2023-01-29T08:19:03.417691Z",
     "iopub.status.busy": "2023-01-29T08:19:03.417276Z",
     "iopub.status.idle": "2023-01-29T08:19:03.420659Z",
     "shell.execute_reply": "2023-01-29T08:19:03.420314Z"
    }
   },
   "outputs": [],
   "source": [
    "date_text = re.search(r\"through (.+?)\\\"\", date_page).group(1)"
   ]
  },
  {
   "cell_type": "code",
   "execution_count": 23,
   "metadata": {
    "execution": {
     "iopub.execute_input": "2023-01-29T08:19:03.424763Z",
     "iopub.status.busy": "2023-01-29T08:19:03.424045Z",
     "iopub.status.idle": "2023-01-29T08:19:03.427293Z",
     "shell.execute_reply": "2023-01-29T08:19:03.426897Z"
    }
   },
   "outputs": [],
   "source": [
    "date_text = date_text.split(\"m \")[0]"
   ]
  },
  {
   "cell_type": "code",
   "execution_count": 24,
   "metadata": {
    "execution": {
     "iopub.execute_input": "2023-01-29T08:19:03.432154Z",
     "iopub.status.busy": "2023-01-29T08:19:03.431722Z",
     "iopub.status.idle": "2023-01-29T08:19:03.435278Z",
     "shell.execute_reply": "2023-01-29T08:19:03.434477Z"
    }
   },
   "outputs": [],
   "source": [
    "latest_date = pd.to_datetime(date_text).date()"
   ]
  },
  {
   "cell_type": "code",
   "execution_count": 25,
   "metadata": {
    "execution": {
     "iopub.execute_input": "2023-01-29T08:19:03.440028Z",
     "iopub.status.busy": "2023-01-29T08:19:03.439089Z",
     "iopub.status.idle": "2023-01-29T08:19:03.442572Z",
     "shell.execute_reply": "2023-01-29T08:19:03.442000Z"
    }
   },
   "outputs": [],
   "source": [
    "df[\"county_date\"] = latest_date"
   ]
  },
  {
   "cell_type": "code",
   "execution_count": 26,
   "metadata": {
    "execution": {
     "iopub.execute_input": "2023-01-29T08:19:03.447659Z",
     "iopub.status.busy": "2023-01-29T08:19:03.446934Z",
     "iopub.status.idle": "2023-01-29T08:19:03.450080Z",
     "shell.execute_reply": "2023-01-29T08:19:03.449703Z"
    }
   },
   "outputs": [],
   "source": [
    "df.loc[df.area == \"-  Under Investigation\", \"area\"] = \"Under Investigation\""
   ]
  },
  {
   "cell_type": "code",
   "execution_count": 27,
   "metadata": {
    "execution": {
     "iopub.execute_input": "2023-01-29T08:19:03.456076Z",
     "iopub.status.busy": "2023-01-29T08:19:03.455390Z",
     "iopub.status.idle": "2023-01-29T08:19:03.459231Z",
     "shell.execute_reply": "2023-01-29T08:19:03.458558Z"
    }
   },
   "outputs": [],
   "source": [
    "df.loc[df.area == \"- Under Investigation\", \"area\"] = \"Under Investigation\""
   ]
  },
  {
   "cell_type": "markdown",
   "metadata": {},
   "source": [
    "## Vet"
   ]
  },
  {
   "cell_type": "code",
   "execution_count": 28,
   "metadata": {
    "execution": {
     "iopub.execute_input": "2023-01-29T08:19:03.463153Z",
     "iopub.status.busy": "2023-01-29T08:19:03.462136Z",
     "iopub.status.idle": "2023-01-29T08:19:03.466696Z",
     "shell.execute_reply": "2023-01-29T08:19:03.467094Z"
    }
   },
   "outputs": [],
   "source": [
    "try:\n",
    "    assert not len(df) > 342\n",
    "except AssertionError:\n",
    "    raise AssertionError(\"L.A. County's scraper has extra rows\")"
   ]
  },
  {
   "cell_type": "code",
   "execution_count": 29,
   "metadata": {
    "execution": {
     "iopub.execute_input": "2023-01-29T08:19:03.470040Z",
     "iopub.status.busy": "2023-01-29T08:19:03.469634Z",
     "iopub.status.idle": "2023-01-29T08:19:03.589515Z",
     "shell.execute_reply": "2023-01-29T08:19:03.588270Z"
    }
   },
   "outputs": [
    {
     "ename": "AssertionError",
     "evalue": "L.A. County's scraper is missing rows",
     "output_type": "error",
     "traceback": [
      "\u001b[0;31m---------------------------------------------------------------------------\u001b[0m",
      "\u001b[0;31mAssertionError\u001b[0m                            Traceback (most recent call last)",
      "\u001b[0;32m/tmp/ipykernel_2293/2999864733.py\u001b[0m in \u001b[0;36m<module>\u001b[0;34m\u001b[0m\n\u001b[1;32m      1\u001b[0m \u001b[0;32mtry\u001b[0m\u001b[0;34m:\u001b[0m\u001b[0;34m\u001b[0m\u001b[0;34m\u001b[0m\u001b[0m\n\u001b[0;32m----> 2\u001b[0;31m     \u001b[0;32massert\u001b[0m \u001b[0;32mnot\u001b[0m \u001b[0mlen\u001b[0m\u001b[0;34m(\u001b[0m\u001b[0mdf\u001b[0m\u001b[0;34m)\u001b[0m \u001b[0;34m<\u001b[0m \u001b[0;36m342\u001b[0m\u001b[0;34m\u001b[0m\u001b[0;34m\u001b[0m\u001b[0m\n\u001b[0m\u001b[1;32m      3\u001b[0m \u001b[0;32mexcept\u001b[0m \u001b[0mAssertionError\u001b[0m\u001b[0;34m:\u001b[0m\u001b[0;34m\u001b[0m\u001b[0;34m\u001b[0m\u001b[0m\n",
      "\u001b[0;31mAssertionError\u001b[0m: ",
      "\nDuring handling of the above exception, another exception occurred:\n",
      "\u001b[0;31mAssertionError\u001b[0m                            Traceback (most recent call last)",
      "\u001b[0;32m/tmp/ipykernel_2293/2999864733.py\u001b[0m in \u001b[0;36m<module>\u001b[0;34m\u001b[0m\n\u001b[1;32m      2\u001b[0m     \u001b[0;32massert\u001b[0m \u001b[0;32mnot\u001b[0m \u001b[0mlen\u001b[0m\u001b[0;34m(\u001b[0m\u001b[0mdf\u001b[0m\u001b[0;34m)\u001b[0m \u001b[0;34m<\u001b[0m \u001b[0;36m342\u001b[0m\u001b[0;34m\u001b[0m\u001b[0;34m\u001b[0m\u001b[0m\n\u001b[1;32m      3\u001b[0m \u001b[0;32mexcept\u001b[0m \u001b[0mAssertionError\u001b[0m\u001b[0;34m:\u001b[0m\u001b[0;34m\u001b[0m\u001b[0;34m\u001b[0m\u001b[0m\n\u001b[0;32m----> 4\u001b[0;31m     \u001b[0;32mraise\u001b[0m \u001b[0mAssertionError\u001b[0m\u001b[0;34m(\u001b[0m\u001b[0;34m\"L.A. County's scraper is missing rows\"\u001b[0m\u001b[0;34m)\u001b[0m\u001b[0;34m\u001b[0m\u001b[0;34m\u001b[0m\u001b[0m\n\u001b[0m",
      "\u001b[0;31mAssertionError\u001b[0m: L.A. County's scraper is missing rows"
     ]
    }
   ],
   "source": [
    "try:\n",
    "    assert not len(df) < 342\n",
    "except AssertionError:\n",
    "    raise AssertionError(\"L.A. County's scraper is missing rows\")"
   ]
  },
  {
   "cell_type": "markdown",
   "metadata": {},
   "source": [
    "## Export"
   ]
  },
  {
   "cell_type": "markdown",
   "metadata": {},
   "source": [
    "Set the date"
   ]
  },
  {
   "cell_type": "code",
   "execution_count": 67,
   "metadata": {},
   "outputs": [],
   "source": [
    "tz = pytz.timezone(\"America/Los_Angeles\")"
   ]
  },
  {
   "cell_type": "code",
   "execution_count": 68,
   "metadata": {},
   "outputs": [],
   "source": [
    "today = datetime.now(tz).date()"
   ]
  },
  {
   "cell_type": "code",
   "execution_count": 69,
   "metadata": {},
   "outputs": [],
   "source": [
    "slug = \"los-angeles\""
   ]
  },
  {
   "cell_type": "code",
   "execution_count": 70,
   "metadata": {},
   "outputs": [],
   "source": [
    "df.to_csv(data_dir / slug / f\"{today}.csv\", index=False)"
   ]
  },
  {
   "cell_type": "markdown",
   "metadata": {},
   "source": [
    "## Combine"
   ]
  },
  {
   "cell_type": "code",
   "execution_count": 71,
   "metadata": {},
   "outputs": [],
   "source": [
    "csv_list = [\n",
    "    i\n",
    "    for i in glob.glob(str(data_dir / slug / \"*.csv\"))\n",
    "    if not str(i).endswith(\"timeseries.csv\")\n",
    "]"
   ]
  },
  {
   "cell_type": "code",
   "execution_count": 72,
   "metadata": {},
   "outputs": [],
   "source": [
    "df_list = []\n",
    "for csv in csv_list:\n",
    "    if \"manual\" in csv:\n",
    "        df = pd.read_csv(csv, parse_dates=[\"date\"])\n",
    "    else:\n",
    "        file_date = csv.split(\"/\")[-1].replace(\".csv\", \"\")\n",
    "        df = pd.read_csv(csv, parse_dates=[\"county_date\"])\n",
    "        df[\"date\"] = file_date\n",
    "    df_list.append(df)"
   ]
  },
  {
   "cell_type": "code",
   "execution_count": 73,
   "metadata": {},
   "outputs": [],
   "source": [
    "df = pd.concat(df_list).sort_values([\"date\", \"area\"])"
   ]
  },
  {
   "cell_type": "code",
   "execution_count": 74,
   "metadata": {},
   "outputs": [],
   "source": [
    "df.to_csv(data_dir / slug / \"timeseries.csv\", index=False)"
   ]
  },
  {
   "cell_type": "code",
   "execution_count": null,
   "metadata": {},
   "outputs": [],
   "source": []
  },
  {
   "cell_type": "code",
   "execution_count": null,
   "metadata": {},
   "outputs": [],
   "source": []
  }
 ],
 "metadata": {
  "kernelspec": {
   "display_name": "Python 3 (ipykernel)",
   "language": "python",
   "name": "python3"
  },
  "language_info": {
   "codemirror_mode": {
    "name": "ipython",
    "version": 3
   },
   "file_extension": ".py",
   "mimetype": "text/x-python",
   "name": "python",
   "nbconvert_exporter": "python",
   "pygments_lexer": "ipython3",
   "version": "3.8.16"
  }
 },
 "nbformat": 4,
 "nbformat_minor": 4
}
