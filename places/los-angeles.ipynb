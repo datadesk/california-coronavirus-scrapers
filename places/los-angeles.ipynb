{
 "cells": [
  {
   "cell_type": "markdown",
   "metadata": {
    "tags": []
   },
   "source": [
    "## Configuration\n",
    "_Initial steps to get the notebook ready to play nice with our repository. Do not delete this section._"
   ]
  },
  {
   "cell_type": "markdown",
   "metadata": {},
   "source": [
    "Code formatting with [black](https://pypi.org/project/nb-black/)."
   ]
  },
  {
   "cell_type": "code",
   "execution_count": 1,
   "metadata": {
    "execution": {
     "iopub.execute_input": "2022-11-30T00:30:17.072979Z",
     "iopub.status.busy": "2022-11-30T00:30:17.072543Z",
     "iopub.status.idle": "2022-11-30T00:30:17.219526Z",
     "shell.execute_reply": "2022-11-30T00:30:17.218915Z"
    }
   },
   "outputs": [],
   "source": [
    "%load_ext lab_black"
   ]
  },
  {
   "cell_type": "code",
   "execution_count": 2,
   "metadata": {
    "execution": {
     "iopub.execute_input": "2022-11-30T00:30:17.224779Z",
     "iopub.status.busy": "2022-11-30T00:30:17.223595Z",
     "iopub.status.idle": "2022-11-30T00:30:17.225290Z",
     "shell.execute_reply": "2022-11-30T00:30:17.225648Z"
    }
   },
   "outputs": [],
   "source": [
    "import os\n",
    "import pathlib"
   ]
  },
  {
   "cell_type": "code",
   "execution_count": 3,
   "metadata": {
    "execution": {
     "iopub.execute_input": "2022-11-30T00:30:17.231997Z",
     "iopub.status.busy": "2022-11-30T00:30:17.230940Z",
     "iopub.status.idle": "2022-11-30T00:30:17.232635Z",
     "shell.execute_reply": "2022-11-30T00:30:17.233009Z"
    }
   },
   "outputs": [],
   "source": [
    "this_dir = pathlib.Path(os.path.abspath(\"\"))"
   ]
  },
  {
   "cell_type": "code",
   "execution_count": 4,
   "metadata": {
    "execution": {
     "iopub.execute_input": "2022-11-30T00:30:17.237004Z",
     "iopub.status.busy": "2022-11-30T00:30:17.236545Z",
     "iopub.status.idle": "2022-11-30T00:30:17.238576Z",
     "shell.execute_reply": "2022-11-30T00:30:17.238210Z"
    }
   },
   "outputs": [],
   "source": [
    "data_dir = this_dir / \"data\""
   ]
  },
  {
   "cell_type": "code",
   "execution_count": 5,
   "metadata": {
    "execution": {
     "iopub.execute_input": "2022-11-30T00:30:17.242238Z",
     "iopub.status.busy": "2022-11-30T00:30:17.241781Z",
     "iopub.status.idle": "2022-11-30T00:30:17.641749Z",
     "shell.execute_reply": "2022-11-30T00:30:17.641264Z"
    }
   },
   "outputs": [],
   "source": [
    "import re\n",
    "import pytz\n",
    "import glob\n",
    "import requests\n",
    "import unicodedata\n",
    "import pandas as pd\n",
    "from slugify import slugify\n",
    "from bs4 import BeautifulSoup\n",
    "from datetime import datetime, date"
   ]
  },
  {
   "cell_type": "markdown",
   "metadata": {},
   "source": [
    "## Download"
   ]
  },
  {
   "cell_type": "markdown",
   "metadata": {},
   "source": [
    "Retrieve the page"
   ]
  },
  {
   "cell_type": "code",
   "execution_count": 6,
   "metadata": {
    "execution": {
     "iopub.execute_input": "2022-11-30T00:30:17.645726Z",
     "iopub.status.busy": "2022-11-30T00:30:17.645285Z",
     "iopub.status.idle": "2022-11-30T00:30:17.650184Z",
     "shell.execute_reply": "2022-11-30T00:30:17.649418Z"
    }
   },
   "outputs": [],
   "source": [
    "url = \"http://publichealth.lacounty.gov/media/Coronavirus/locations.htm\""
   ]
  },
  {
   "cell_type": "code",
   "execution_count": 7,
   "metadata": {
    "execution": {
     "iopub.execute_input": "2022-11-30T00:30:17.653857Z",
     "iopub.status.busy": "2022-11-30T00:30:17.653423Z",
     "iopub.status.idle": "2022-11-30T00:30:18.037993Z",
     "shell.execute_reply": "2022-11-30T00:30:18.038405Z"
    }
   },
   "outputs": [],
   "source": [
    "page = requests.get(url)"
   ]
  },
  {
   "cell_type": "markdown",
   "metadata": {},
   "source": [
    "## Parse"
   ]
  },
  {
   "cell_type": "code",
   "execution_count": 8,
   "metadata": {
    "execution": {
     "iopub.execute_input": "2022-11-30T00:30:18.056402Z",
     "iopub.status.busy": "2022-11-30T00:30:18.051282Z",
     "iopub.status.idle": "2022-11-30T00:30:18.219737Z",
     "shell.execute_reply": "2022-11-30T00:30:18.220160Z"
    }
   },
   "outputs": [],
   "source": [
    "soup = BeautifulSoup(page.content, \"html.parser\")"
   ]
  },
  {
   "cell_type": "markdown",
   "metadata": {},
   "source": [
    "Get content well"
   ]
  },
  {
   "cell_type": "code",
   "execution_count": 9,
   "metadata": {
    "execution": {
     "iopub.execute_input": "2022-11-30T00:30:18.226722Z",
     "iopub.status.busy": "2022-11-30T00:30:18.226253Z",
     "iopub.status.idle": "2022-11-30T00:30:18.228664Z",
     "shell.execute_reply": "2022-11-30T00:30:18.228265Z"
    }
   },
   "outputs": [],
   "source": [
    "content = soup.find(\"div\", {\"id\": \"content\"})"
   ]
  },
  {
   "cell_type": "markdown",
   "metadata": {},
   "source": [
    "Get table"
   ]
  },
  {
   "cell_type": "code",
   "execution_count": 10,
   "metadata": {
    "execution": {
     "iopub.execute_input": "2022-11-30T00:30:18.244915Z",
     "iopub.status.busy": "2022-11-30T00:30:18.235651Z",
     "iopub.status.idle": "2022-11-30T00:30:18.247720Z",
     "shell.execute_reply": "2022-11-30T00:30:18.248064Z"
    }
   },
   "outputs": [],
   "source": [
    "for tag in content.find_all(text=re.compile(\"CITY/COMMUNITY\")):\n",
    "    table = tag.findParent(\"table\")"
   ]
  },
  {
   "cell_type": "code",
   "execution_count": 11,
   "metadata": {
    "execution": {
     "iopub.execute_input": "2022-11-30T00:30:18.253247Z",
     "iopub.status.busy": "2022-11-30T00:30:18.252437Z",
     "iopub.status.idle": "2022-11-30T00:30:18.255247Z",
     "shell.execute_reply": "2022-11-30T00:30:18.254878Z"
    }
   },
   "outputs": [],
   "source": [
    "tbody = soup.tbody"
   ]
  },
  {
   "cell_type": "code",
   "execution_count": 12,
   "metadata": {
    "execution": {
     "iopub.execute_input": "2022-11-30T00:30:18.261728Z",
     "iopub.status.busy": "2022-11-30T00:30:18.260786Z",
     "iopub.status.idle": "2022-11-30T00:30:18.262302Z",
     "shell.execute_reply": "2022-11-30T00:30:18.262661Z"
    }
   },
   "outputs": [],
   "source": [
    "row_list = tbody.find_all(\"tr\")"
   ]
  },
  {
   "cell_type": "code",
   "execution_count": 13,
   "metadata": {
    "execution": {
     "iopub.execute_input": "2022-11-30T00:30:18.266349Z",
     "iopub.status.busy": "2022-11-30T00:30:18.265905Z",
     "iopub.status.idle": "2022-11-30T00:30:18.268161Z",
     "shell.execute_reply": "2022-11-30T00:30:18.267717Z"
    }
   },
   "outputs": [],
   "source": [
    "dict_list = []"
   ]
  },
  {
   "cell_type": "code",
   "execution_count": 14,
   "metadata": {
    "execution": {
     "iopub.execute_input": "2022-11-30T00:30:18.271989Z",
     "iopub.status.busy": "2022-11-30T00:30:18.271549Z",
     "iopub.status.idle": "2022-11-30T00:30:18.275488Z",
     "shell.execute_reply": "2022-11-30T00:30:18.275828Z"
    }
   },
   "outputs": [],
   "source": [
    "def safetxt(element):\n",
    "    v = element.text.strip()\n",
    "    v = v.replace(\"\\u200b\", \"\")\n",
    "    return v"
   ]
  },
  {
   "cell_type": "code",
   "execution_count": 15,
   "metadata": {
    "execution": {
     "iopub.execute_input": "2022-11-30T00:30:18.282555Z",
     "iopub.status.busy": "2022-11-30T00:30:18.281113Z",
     "iopub.status.idle": "2022-11-30T00:30:18.284404Z",
     "shell.execute_reply": "2022-11-30T00:30:18.284046Z"
    }
   },
   "outputs": [],
   "source": [
    "def safenumber(element):\n",
    "    v = safetxt(element)\n",
    "    v = v.replace(\",\", \"\")\n",
    "    v = v.replace(\" \", \"\")\n",
    "    return v"
   ]
  },
  {
   "cell_type": "code",
   "execution_count": 16,
   "metadata": {
    "execution": {
     "iopub.execute_input": "2022-11-30T00:30:18.296224Z",
     "iopub.status.busy": "2022-11-30T00:30:18.291376Z",
     "iopub.status.idle": "2022-11-30T00:30:18.303755Z",
     "shell.execute_reply": "2022-11-30T00:30:18.303336Z"
    }
   },
   "outputs": [],
   "source": [
    "for row in row_list:\n",
    "    cell_content = row.find_all(\"td\")\n",
    "    d = dict(\n",
    "        county=\"Los Angeles\",\n",
    "        area=safetxt(cell_content[0]),\n",
    "        confirmed_cases=safenumber(cell_content[1]),\n",
    "        confirmed_deaths=safenumber(cell_content[3]),\n",
    "    )\n",
    "    dict_list.append(d)"
   ]
  },
  {
   "cell_type": "code",
   "execution_count": 17,
   "metadata": {
    "execution": {
     "iopub.execute_input": "2022-11-30T00:30:18.309213Z",
     "iopub.status.busy": "2022-11-30T00:30:18.308395Z",
     "iopub.status.idle": "2022-11-30T00:30:18.310969Z",
     "shell.execute_reply": "2022-11-30T00:30:18.311302Z"
    }
   },
   "outputs": [],
   "source": [
    "df = pd.DataFrame(dict_list)"
   ]
  },
  {
   "cell_type": "markdown",
   "metadata": {},
   "source": [
    "Get timestamp"
   ]
  },
  {
   "cell_type": "code",
   "execution_count": 18,
   "metadata": {
    "execution": {
     "iopub.execute_input": "2022-11-30T00:30:18.315630Z",
     "iopub.status.busy": "2022-11-30T00:30:18.314862Z",
     "iopub.status.idle": "2022-11-30T00:30:18.317143Z",
     "shell.execute_reply": "2022-11-30T00:30:18.316762Z"
    }
   },
   "outputs": [],
   "source": [
    "date_url = \"http://publichealth.lacounty.gov/media/Coronavirus/js/casecounter.js\""
   ]
  },
  {
   "cell_type": "code",
   "execution_count": 19,
   "metadata": {
    "execution": {
     "iopub.execute_input": "2022-11-30T00:30:18.323504Z",
     "iopub.status.busy": "2022-11-30T00:30:18.323071Z",
     "iopub.status.idle": "2022-11-30T00:30:18.646730Z",
     "shell.execute_reply": "2022-11-30T00:30:18.646263Z"
    }
   },
   "outputs": [],
   "source": [
    "response = requests.get(date_url)\n",
    "date_page = response.text"
   ]
  },
  {
   "cell_type": "code",
   "execution_count": 20,
   "metadata": {
    "execution": {
     "iopub.execute_input": "2022-11-30T00:30:18.655911Z",
     "iopub.status.busy": "2022-11-30T00:30:18.654111Z",
     "iopub.status.idle": "2022-11-30T00:30:18.661471Z",
     "shell.execute_reply": "2022-11-30T00:30:18.661085Z"
    }
   },
   "outputs": [
    {
     "data": {
      "text/plain": [
       "'$( document ).ready(function() {\\r\\n    var data = {\\r\\n\\t\\t\\t\\t    \"content\": { \\r\\n\\t\\t\\r\\n\\t\\t\\t\"count\": \"3,538,009\",\\r\\n\\r\\n\\r\\n\\t\\t\\t\"death\": \"34,179\",\\r\\n\\r\\n\\t\\t\\t\"dailycount\": \"2,370\",\\r\\n\\r\\n\\r\\n\\t\\t\\t\"dailydeath\": \"9\",\\r\\n\\t\\t\\t\"hospitalizationsever\": \"160,206\",\\r\\n\\r\\n\\r\\n\\t\\t\\t\"date\": \"11/29\",\\r\\n\\t\\t\\t\"info\": \"through 12:00pm 11/28/2022\",\\r\\n\\r\\n\\t\\t\\t\"testingaverage\": \"26,170\",\\r\\n\\r\\n\\t\\t\\t\"peopletested\": \"12,723,035\",\\r\\n\\r\\n\\t\\t\\t\"positivity\": \"9.22%\",\\r\\n\\r\\n\\t\\t\\t\"hospitalizations\": \"1,040\",\\r\\n\\t\\t\\t\"datehospitalizations\": \"11/28\"\\r\\n\\r\\n\\t\\t\\t\\t}       \\r\\n\\t\\t\\t\\t};\\t\\r\\n\\t\\t\\t\\t\\r\\n\\t\\t\\t\\t\\r\\n\\t\\t\\t\\tvar content = data.content;\\r\\n\\t\\t\\t\\t\\r\\n\\t\\t\\t\\t$(\\'#ctn\\').html(content.count);\\r\\n\\t\\t\\t\\t$(\\'#det\\').html(content.death);\\r\\n\\t\\t\\t\\t$(\\'#dctn\\').html(content.dailycount);\\r\\n\\t\\t\\t\\t$(\\'#ddet\\').html(content.dailydeath);\\r\\n\\t\\t\\t\\t$(\\'#hosp_1\\').html(content.hospitalizationsever);\\r\\n\\t\\t\\t\\t$(\\'#dte\\').html(content.date);\\r\\n\\t\\t\\t\\t$(\\'#dte_1\\').html(content.date);\\r\\n\\t\\t\\t\\t$(\\'#dte_2\\').html(content.date);\\r\\n\\t\\t\\t\\t$(\\'#dte_3\\').html(content.datehospitalizations);\\r\\n\\t\\t\\t\\t$(\\'#cse\\').html(content.info);\\t\\r\\n\\t\\t\\t\\r\\n\\t\\t\\t\\t\\r\\n\\t\\t\\t\\t$(\\'#tstavg\\').html(content.testingaverage);\\t\\r\\n\\t\\t\\t\\t$(\\'#ppltst\\').html(content.peopletested);\\t\\r\\n\\t\\t\\t\\t$(\\'#pos\\').html(content.positivity);\\t\\r\\n\\t\\t\\t\\t$(\\'#hosp\\').html(content.hospitalizations);\\r\\n\\t\\t\\t\\r\\n\\t\\t\\t\\t\\t\\t\\t\\r\\n\\r\\n\\r\\n});\\r\\n\\r\\n\\r\\n\\r\\n'"
      ]
     },
     "execution_count": 20,
     "metadata": {},
     "output_type": "execute_result"
    }
   ],
   "source": [
    "date_page"
   ]
  },
  {
   "cell_type": "code",
   "execution_count": 21,
   "metadata": {
    "execution": {
     "iopub.execute_input": "2022-11-30T00:30:18.665421Z",
     "iopub.status.busy": "2022-11-30T00:30:18.664988Z",
     "iopub.status.idle": "2022-11-30T00:30:18.667410Z",
     "shell.execute_reply": "2022-11-30T00:30:18.667975Z"
    }
   },
   "outputs": [],
   "source": [
    "# date_text = re.search(r\"([0-9][0-9]/[0-9][0-9])\", date_page).group(1)\n",
    "# date_text = date_text + \"/\" + str(date.today().year)"
   ]
  },
  {
   "cell_type": "code",
   "execution_count": 22,
   "metadata": {
    "execution": {
     "iopub.execute_input": "2022-11-30T00:30:18.672009Z",
     "iopub.status.busy": "2022-11-30T00:30:18.671578Z",
     "iopub.status.idle": "2022-11-30T00:30:18.675769Z",
     "shell.execute_reply": "2022-11-30T00:30:18.675393Z"
    }
   },
   "outputs": [],
   "source": [
    "date_text = re.search(r\"through (.+?)\\\"\", date_page).group(1)"
   ]
  },
  {
   "cell_type": "code",
   "execution_count": 23,
   "metadata": {
    "execution": {
     "iopub.execute_input": "2022-11-30T00:30:18.680200Z",
     "iopub.status.busy": "2022-11-30T00:30:18.679768Z",
     "iopub.status.idle": "2022-11-30T00:30:18.682277Z",
     "shell.execute_reply": "2022-11-30T00:30:18.682642Z"
    }
   },
   "outputs": [],
   "source": [
    "date_text = date_text.split(\"m \")[0]"
   ]
  },
  {
   "cell_type": "code",
   "execution_count": 24,
   "metadata": {
    "execution": {
     "iopub.execute_input": "2022-11-30T00:30:18.687699Z",
     "iopub.status.busy": "2022-11-30T00:30:18.687268Z",
     "iopub.status.idle": "2022-11-30T00:30:18.690295Z",
     "shell.execute_reply": "2022-11-30T00:30:18.689912Z"
    }
   },
   "outputs": [],
   "source": [
    "latest_date = pd.to_datetime(date_text).date()"
   ]
  },
  {
   "cell_type": "code",
   "execution_count": 25,
   "metadata": {
    "execution": {
     "iopub.execute_input": "2022-11-30T00:30:18.695223Z",
     "iopub.status.busy": "2022-11-30T00:30:18.694790Z",
     "iopub.status.idle": "2022-11-30T00:30:18.697685Z",
     "shell.execute_reply": "2022-11-30T00:30:18.697304Z"
    }
   },
   "outputs": [],
   "source": [
    "df[\"county_date\"] = latest_date"
   ]
  },
  {
   "cell_type": "code",
   "execution_count": 26,
   "metadata": {
    "execution": {
     "iopub.execute_input": "2022-11-30T00:30:18.703759Z",
     "iopub.status.busy": "2022-11-30T00:30:18.702908Z",
     "iopub.status.idle": "2022-11-30T00:30:18.706553Z",
     "shell.execute_reply": "2022-11-30T00:30:18.705740Z"
    }
   },
   "outputs": [],
   "source": [
    "df.loc[df.area == \"-  Under Investigation\", \"area\"] = \"Under Investigation\""
   ]
  },
  {
   "cell_type": "code",
   "execution_count": 27,
   "metadata": {
    "execution": {
     "iopub.execute_input": "2022-11-30T00:30:18.711942Z",
     "iopub.status.busy": "2022-11-30T00:30:18.711511Z",
     "iopub.status.idle": "2022-11-30T00:30:18.714400Z",
     "shell.execute_reply": "2022-11-30T00:30:18.714020Z"
    }
   },
   "outputs": [],
   "source": [
    "df.loc[df.area == \"- Under Investigation\", \"area\"] = \"Under Investigation\""
   ]
  },
  {
   "cell_type": "markdown",
   "metadata": {},
   "source": [
    "## Vet"
   ]
  },
  {
   "cell_type": "code",
   "execution_count": 28,
   "metadata": {
    "execution": {
     "iopub.execute_input": "2022-11-30T00:30:18.718572Z",
     "iopub.status.busy": "2022-11-30T00:30:18.717848Z",
     "iopub.status.idle": "2022-11-30T00:30:18.722713Z",
     "shell.execute_reply": "2022-11-30T00:30:18.722331Z"
    }
   },
   "outputs": [],
   "source": [
    "try:\n",
    "    assert not len(df) > 342\n",
    "except AssertionError:\n",
    "    raise AssertionError(\"L.A. County's scraper has extra rows\")"
   ]
  },
  {
   "cell_type": "code",
   "execution_count": 29,
   "metadata": {
    "execution": {
     "iopub.execute_input": "2022-11-30T00:30:18.727592Z",
     "iopub.status.busy": "2022-11-30T00:30:18.725655Z",
     "iopub.status.idle": "2022-11-30T00:30:18.846712Z",
     "shell.execute_reply": "2022-11-30T00:30:18.845249Z"
    }
   },
   "outputs": [
    {
     "ename": "AssertionError",
     "evalue": "L.A. County's scraper is missing rows",
     "output_type": "error",
     "traceback": [
      "\u001b[0;31m---------------------------------------------------------------------------\u001b[0m",
      "\u001b[0;31mAssertionError\u001b[0m                            Traceback (most recent call last)",
      "\u001b[0;32m/tmp/ipykernel_2070/2999864733.py\u001b[0m in \u001b[0;36m<module>\u001b[0;34m\u001b[0m\n\u001b[1;32m      1\u001b[0m \u001b[0;32mtry\u001b[0m\u001b[0;34m:\u001b[0m\u001b[0;34m\u001b[0m\u001b[0;34m\u001b[0m\u001b[0m\n\u001b[0;32m----> 2\u001b[0;31m     \u001b[0;32massert\u001b[0m \u001b[0;32mnot\u001b[0m \u001b[0mlen\u001b[0m\u001b[0;34m(\u001b[0m\u001b[0mdf\u001b[0m\u001b[0;34m)\u001b[0m \u001b[0;34m<\u001b[0m \u001b[0;36m342\u001b[0m\u001b[0;34m\u001b[0m\u001b[0;34m\u001b[0m\u001b[0m\n\u001b[0m\u001b[1;32m      3\u001b[0m \u001b[0;32mexcept\u001b[0m \u001b[0mAssertionError\u001b[0m\u001b[0;34m:\u001b[0m\u001b[0;34m\u001b[0m\u001b[0;34m\u001b[0m\u001b[0m\n",
      "\u001b[0;31mAssertionError\u001b[0m: ",
      "\nDuring handling of the above exception, another exception occurred:\n",
      "\u001b[0;31mAssertionError\u001b[0m                            Traceback (most recent call last)",
      "\u001b[0;32m/tmp/ipykernel_2070/2999864733.py\u001b[0m in \u001b[0;36m<module>\u001b[0;34m\u001b[0m\n\u001b[1;32m      2\u001b[0m     \u001b[0;32massert\u001b[0m \u001b[0;32mnot\u001b[0m \u001b[0mlen\u001b[0m\u001b[0;34m(\u001b[0m\u001b[0mdf\u001b[0m\u001b[0;34m)\u001b[0m \u001b[0;34m<\u001b[0m \u001b[0;36m342\u001b[0m\u001b[0;34m\u001b[0m\u001b[0;34m\u001b[0m\u001b[0m\n\u001b[1;32m      3\u001b[0m \u001b[0;32mexcept\u001b[0m \u001b[0mAssertionError\u001b[0m\u001b[0;34m:\u001b[0m\u001b[0;34m\u001b[0m\u001b[0;34m\u001b[0m\u001b[0m\n\u001b[0;32m----> 4\u001b[0;31m     \u001b[0;32mraise\u001b[0m \u001b[0mAssertionError\u001b[0m\u001b[0;34m(\u001b[0m\u001b[0;34m\"L.A. County's scraper is missing rows\"\u001b[0m\u001b[0;34m)\u001b[0m\u001b[0;34m\u001b[0m\u001b[0;34m\u001b[0m\u001b[0m\n\u001b[0m",
      "\u001b[0;31mAssertionError\u001b[0m: L.A. County's scraper is missing rows"
     ]
    }
   ],
   "source": [
    "try:\n",
    "    assert not len(df) < 342\n",
    "except AssertionError:\n",
    "    raise AssertionError(\"L.A. County's scraper is missing rows\")"
   ]
  },
  {
   "cell_type": "markdown",
   "metadata": {},
   "source": [
    "## Export"
   ]
  },
  {
   "cell_type": "markdown",
   "metadata": {},
   "source": [
    "Set the date"
   ]
  },
  {
   "cell_type": "code",
   "execution_count": 30,
   "metadata": {},
   "outputs": [],
   "source": [
    "tz = pytz.timezone(\"America/Los_Angeles\")"
   ]
  },
  {
   "cell_type": "code",
   "execution_count": 31,
   "metadata": {},
   "outputs": [],
   "source": [
    "today = datetime.now(tz).date()"
   ]
  },
  {
   "cell_type": "code",
   "execution_count": 32,
   "metadata": {},
   "outputs": [],
   "source": [
    "slug = \"los-angeles\""
   ]
  },
  {
   "cell_type": "code",
   "execution_count": 33,
   "metadata": {},
   "outputs": [],
   "source": [
    "df.to_csv(data_dir / slug / f\"{today}.csv\", index=False)"
   ]
  },
  {
   "cell_type": "markdown",
   "metadata": {},
   "source": [
    "## Combine"
   ]
  },
  {
   "cell_type": "code",
   "execution_count": 34,
   "metadata": {},
   "outputs": [],
   "source": [
    "csv_list = [\n",
    "    i\n",
    "    for i in glob.glob(str(data_dir / slug / \"*.csv\"))\n",
    "    if not str(i).endswith(\"timeseries.csv\")\n",
    "]"
   ]
  },
  {
   "cell_type": "code",
   "execution_count": 35,
   "metadata": {},
   "outputs": [],
   "source": [
    "df_list = []\n",
    "for csv in csv_list:\n",
    "    if \"manual\" in csv:\n",
    "        df = pd.read_csv(csv, parse_dates=[\"date\"])\n",
    "    else:\n",
    "        file_date = csv.split(\"/\")[-1].replace(\".csv\", \"\")\n",
    "        df = pd.read_csv(csv, parse_dates=[\"county_date\"])\n",
    "        df[\"date\"] = file_date\n",
    "    df_list.append(df)"
   ]
  },
  {
   "cell_type": "code",
   "execution_count": 36,
   "metadata": {},
   "outputs": [],
   "source": [
    "df = pd.concat(df_list).sort_values([\"date\", \"area\"])"
   ]
  },
  {
   "cell_type": "code",
   "execution_count": 37,
   "metadata": {},
   "outputs": [],
   "source": [
    "df.to_csv(data_dir / slug / \"timeseries.csv\", index=False)"
   ]
  },
  {
   "cell_type": "code",
   "execution_count": null,
   "metadata": {},
   "outputs": [],
   "source": []
  },
  {
   "cell_type": "code",
   "execution_count": null,
   "metadata": {},
   "outputs": [],
   "source": []
  }
 ],
 "metadata": {
  "kernelspec": {
   "display_name": "Python 3 (ipykernel)",
   "language": "python",
   "name": "python3"
  },
  "language_info": {
   "codemirror_mode": {
    "name": "ipython",
    "version": 3
   },
   "file_extension": ".py",
   "mimetype": "text/x-python",
   "name": "python",
   "nbconvert_exporter": "python",
   "pygments_lexer": "ipython3",
   "version": "3.8.14"
  }
 },
 "nbformat": 4,
 "nbformat_minor": 4
}
