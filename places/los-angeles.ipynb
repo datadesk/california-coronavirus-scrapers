{
 "cells": [
  {
   "cell_type": "markdown",
   "metadata": {
    "tags": []
   },
   "source": [
    "## Configuration\n",
    "_Initial steps to get the notebook ready to play nice with our repository. Do not delete this section._"
   ]
  },
  {
   "cell_type": "markdown",
   "metadata": {},
   "source": [
    "Code formatting with [black](https://pypi.org/project/nb-black/)."
   ]
  },
  {
   "cell_type": "code",
   "execution_count": 1,
   "metadata": {
    "execution": {
     "iopub.execute_input": "2022-11-26T16:19:33.517590Z",
     "iopub.status.busy": "2022-11-26T16:19:33.517170Z",
     "iopub.status.idle": "2022-11-26T16:19:33.648147Z",
     "shell.execute_reply": "2022-11-26T16:19:33.647686Z"
    }
   },
   "outputs": [],
   "source": [
    "%load_ext lab_black"
   ]
  },
  {
   "cell_type": "code",
   "execution_count": 2,
   "metadata": {
    "execution": {
     "iopub.execute_input": "2022-11-26T16:19:33.652259Z",
     "iopub.status.busy": "2022-11-26T16:19:33.651551Z",
     "iopub.status.idle": "2022-11-26T16:19:33.653429Z",
     "shell.execute_reply": "2022-11-26T16:19:33.653088Z"
    }
   },
   "outputs": [],
   "source": [
    "import os\n",
    "import pathlib"
   ]
  },
  {
   "cell_type": "code",
   "execution_count": 3,
   "metadata": {
    "execution": {
     "iopub.execute_input": "2022-11-26T16:19:33.659004Z",
     "iopub.status.busy": "2022-11-26T16:19:33.658298Z",
     "iopub.status.idle": "2022-11-26T16:19:33.659727Z",
     "shell.execute_reply": "2022-11-26T16:19:33.660056Z"
    }
   },
   "outputs": [],
   "source": [
    "this_dir = pathlib.Path(os.path.abspath(\"\"))"
   ]
  },
  {
   "cell_type": "code",
   "execution_count": 4,
   "metadata": {
    "execution": {
     "iopub.execute_input": "2022-11-26T16:19:33.663352Z",
     "iopub.status.busy": "2022-11-26T16:19:33.662570Z",
     "iopub.status.idle": "2022-11-26T16:19:33.665266Z",
     "shell.execute_reply": "2022-11-26T16:19:33.664929Z"
    }
   },
   "outputs": [],
   "source": [
    "data_dir = this_dir / \"data\""
   ]
  },
  {
   "cell_type": "code",
   "execution_count": 5,
   "metadata": {
    "execution": {
     "iopub.execute_input": "2022-11-26T16:19:33.668463Z",
     "iopub.status.busy": "2022-11-26T16:19:33.668061Z",
     "iopub.status.idle": "2022-11-26T16:19:34.033499Z",
     "shell.execute_reply": "2022-11-26T16:19:34.033105Z"
    }
   },
   "outputs": [],
   "source": [
    "import re\n",
    "import pytz\n",
    "import glob\n",
    "import requests\n",
    "import unicodedata\n",
    "import pandas as pd\n",
    "from slugify import slugify\n",
    "from bs4 import BeautifulSoup\n",
    "from datetime import datetime, date"
   ]
  },
  {
   "cell_type": "markdown",
   "metadata": {},
   "source": [
    "## Download"
   ]
  },
  {
   "cell_type": "markdown",
   "metadata": {},
   "source": [
    "Retrieve the page"
   ]
  },
  {
   "cell_type": "code",
   "execution_count": 6,
   "metadata": {
    "execution": {
     "iopub.execute_input": "2022-11-26T16:19:34.036956Z",
     "iopub.status.busy": "2022-11-26T16:19:34.036183Z",
     "iopub.status.idle": "2022-11-26T16:19:34.039939Z",
     "shell.execute_reply": "2022-11-26T16:19:34.039264Z"
    }
   },
   "outputs": [],
   "source": [
    "url = \"http://publichealth.lacounty.gov/media/Coronavirus/locations.htm\""
   ]
  },
  {
   "cell_type": "code",
   "execution_count": 7,
   "metadata": {
    "execution": {
     "iopub.execute_input": "2022-11-26T16:19:34.046392Z",
     "iopub.status.busy": "2022-11-26T16:19:34.042704Z",
     "iopub.status.idle": "2022-11-26T16:19:34.350649Z",
     "shell.execute_reply": "2022-11-26T16:19:34.349809Z"
    }
   },
   "outputs": [],
   "source": [
    "page = requests.get(url)"
   ]
  },
  {
   "cell_type": "markdown",
   "metadata": {},
   "source": [
    "## Parse"
   ]
  },
  {
   "cell_type": "code",
   "execution_count": 8,
   "metadata": {
    "execution": {
     "iopub.execute_input": "2022-11-26T16:19:34.358261Z",
     "iopub.status.busy": "2022-11-26T16:19:34.357740Z",
     "iopub.status.idle": "2022-11-26T16:19:34.510013Z",
     "shell.execute_reply": "2022-11-26T16:19:34.510380Z"
    }
   },
   "outputs": [],
   "source": [
    "soup = BeautifulSoup(page.content, \"html.parser\")"
   ]
  },
  {
   "cell_type": "markdown",
   "metadata": {},
   "source": [
    "Get content well"
   ]
  },
  {
   "cell_type": "code",
   "execution_count": 9,
   "metadata": {
    "execution": {
     "iopub.execute_input": "2022-11-26T16:19:34.516462Z",
     "iopub.status.busy": "2022-11-26T16:19:34.515514Z",
     "iopub.status.idle": "2022-11-26T16:19:34.518473Z",
     "shell.execute_reply": "2022-11-26T16:19:34.518827Z"
    }
   },
   "outputs": [],
   "source": [
    "content = soup.find(\"div\", {\"id\": \"content\"})"
   ]
  },
  {
   "cell_type": "markdown",
   "metadata": {},
   "source": [
    "Get table"
   ]
  },
  {
   "cell_type": "code",
   "execution_count": 10,
   "metadata": {
    "execution": {
     "iopub.execute_input": "2022-11-26T16:19:34.533710Z",
     "iopub.status.busy": "2022-11-26T16:19:34.525899Z",
     "iopub.status.idle": "2022-11-26T16:19:34.538286Z",
     "shell.execute_reply": "2022-11-26T16:19:34.537534Z"
    }
   },
   "outputs": [],
   "source": [
    "for tag in content.find_all(text=re.compile(\"CITY/COMMUNITY\")):\n",
    "    table = tag.findParent(\"table\")"
   ]
  },
  {
   "cell_type": "code",
   "execution_count": 11,
   "metadata": {
    "execution": {
     "iopub.execute_input": "2022-11-26T16:19:34.543580Z",
     "iopub.status.busy": "2022-11-26T16:19:34.539910Z",
     "iopub.status.idle": "2022-11-26T16:19:34.545961Z",
     "shell.execute_reply": "2022-11-26T16:19:34.545584Z"
    }
   },
   "outputs": [],
   "source": [
    "tbody = soup.tbody"
   ]
  },
  {
   "cell_type": "code",
   "execution_count": 12,
   "metadata": {
    "execution": {
     "iopub.execute_input": "2022-11-26T16:19:34.551439Z",
     "iopub.status.busy": "2022-11-26T16:19:34.551015Z",
     "iopub.status.idle": "2022-11-26T16:19:34.553818Z",
     "shell.execute_reply": "2022-11-26T16:19:34.554160Z"
    }
   },
   "outputs": [],
   "source": [
    "row_list = tbody.find_all(\"tr\")"
   ]
  },
  {
   "cell_type": "code",
   "execution_count": 13,
   "metadata": {
    "execution": {
     "iopub.execute_input": "2022-11-26T16:19:34.557822Z",
     "iopub.status.busy": "2022-11-26T16:19:34.557396Z",
     "iopub.status.idle": "2022-11-26T16:19:34.560762Z",
     "shell.execute_reply": "2022-11-26T16:19:34.560232Z"
    }
   },
   "outputs": [],
   "source": [
    "dict_list = []"
   ]
  },
  {
   "cell_type": "code",
   "execution_count": 14,
   "metadata": {
    "execution": {
     "iopub.execute_input": "2022-11-26T16:19:34.567192Z",
     "iopub.status.busy": "2022-11-26T16:19:34.565865Z",
     "iopub.status.idle": "2022-11-26T16:19:34.569559Z",
     "shell.execute_reply": "2022-11-26T16:19:34.569194Z"
    }
   },
   "outputs": [],
   "source": [
    "def safetxt(element):\n",
    "    v = element.text.strip()\n",
    "    v = v.replace(\"\\u200b\", \"\")\n",
    "    return v"
   ]
  },
  {
   "cell_type": "code",
   "execution_count": 15,
   "metadata": {
    "execution": {
     "iopub.execute_input": "2022-11-26T16:19:34.573594Z",
     "iopub.status.busy": "2022-11-26T16:19:34.571315Z",
     "iopub.status.idle": "2022-11-26T16:19:34.579242Z",
     "shell.execute_reply": "2022-11-26T16:19:34.578867Z"
    }
   },
   "outputs": [],
   "source": [
    "def safenumber(element):\n",
    "    v = safetxt(element)\n",
    "    v = v.replace(\",\", \"\")\n",
    "    v = v.replace(\" \", \"\")\n",
    "    return v"
   ]
  },
  {
   "cell_type": "code",
   "execution_count": 16,
   "metadata": {
    "execution": {
     "iopub.execute_input": "2022-11-26T16:19:34.590742Z",
     "iopub.status.busy": "2022-11-26T16:19:34.586357Z",
     "iopub.status.idle": "2022-11-26T16:19:34.597959Z",
     "shell.execute_reply": "2022-11-26T16:19:34.597246Z"
    }
   },
   "outputs": [],
   "source": [
    "for row in row_list:\n",
    "    cell_content = row.find_all(\"td\")\n",
    "    d = dict(\n",
    "        county=\"Los Angeles\",\n",
    "        area=safetxt(cell_content[0]),\n",
    "        confirmed_cases=safenumber(cell_content[1]),\n",
    "        confirmed_deaths=safenumber(cell_content[3]),\n",
    "    )\n",
    "    dict_list.append(d)"
   ]
  },
  {
   "cell_type": "code",
   "execution_count": 17,
   "metadata": {
    "execution": {
     "iopub.execute_input": "2022-11-26T16:19:34.602644Z",
     "iopub.status.busy": "2022-11-26T16:19:34.602218Z",
     "iopub.status.idle": "2022-11-26T16:19:34.605214Z",
     "shell.execute_reply": "2022-11-26T16:19:34.604651Z"
    }
   },
   "outputs": [],
   "source": [
    "df = pd.DataFrame(dict_list)"
   ]
  },
  {
   "cell_type": "markdown",
   "metadata": {},
   "source": [
    "Get timestamp"
   ]
  },
  {
   "cell_type": "code",
   "execution_count": 18,
   "metadata": {
    "execution": {
     "iopub.execute_input": "2022-11-26T16:19:34.608460Z",
     "iopub.status.busy": "2022-11-26T16:19:34.607612Z",
     "iopub.status.idle": "2022-11-26T16:19:34.611134Z",
     "shell.execute_reply": "2022-11-26T16:19:34.610416Z"
    }
   },
   "outputs": [],
   "source": [
    "date_url = \"http://publichealth.lacounty.gov/media/Coronavirus/js/casecounter.js\""
   ]
  },
  {
   "cell_type": "code",
   "execution_count": 19,
   "metadata": {
    "execution": {
     "iopub.execute_input": "2022-11-26T16:19:34.614047Z",
     "iopub.status.busy": "2022-11-26T16:19:34.613629Z",
     "iopub.status.idle": "2022-11-26T16:19:34.911365Z",
     "shell.execute_reply": "2022-11-26T16:19:34.910560Z"
    }
   },
   "outputs": [],
   "source": [
    "response = requests.get(date_url)\n",
    "date_page = response.text"
   ]
  },
  {
   "cell_type": "code",
   "execution_count": 20,
   "metadata": {
    "execution": {
     "iopub.execute_input": "2022-11-26T16:19:34.919398Z",
     "iopub.status.busy": "2022-11-26T16:19:34.918986Z",
     "iopub.status.idle": "2022-11-26T16:19:34.924168Z",
     "shell.execute_reply": "2022-11-26T16:19:34.923813Z"
    }
   },
   "outputs": [
    {
     "data": {
      "text/plain": [
       "'$( document ).ready(function() {\\r\\n    var data = {\\r\\n\\t\\t\\t\\t    \"content\": { \\r\\n\\t\\t\\r\\n\\t\\t\\t\"count\": \"3,530,105\",\\r\\n\\r\\n\\r\\n\\t\\t\\t\"death\": \"34,156\",\\r\\n\\r\\n\\t\\t\\t\"dailycount\": \"5,244\",\\r\\n\\r\\n\\r\\n\\t\\t\\t\"dailydeath\": \"21\",\\r\\n\\t\\t\\t\"hospitalizationsever\": \"160,203\",\\r\\n\\r\\n\\r\\n\\t\\t\\t\"date\": \"11/25\",\\r\\n\\t\\t\\t\"info\": \"through 12:00pm 11/24/2022\",\\r\\n\\r\\n\\t\\t\\t\"testingaverage\": \"29,145\",\\r\\n\\r\\n\\t\\t\\t\"peopletested\": \"12,714,271\",\\r\\n\\r\\n\\t\\t\\t\"positivity\": \"7.02%\",\\r\\n\\r\\n\\t\\t\\t\"hospitalizations\": \"822\",\\r\\n\\t\\t\\t\"datehospitalizations\": \"11/23\"\\r\\n\\r\\n\\t\\t\\t\\t}       \\r\\n\\t\\t\\t\\t};\\t\\r\\n\\t\\t\\t\\t\\r\\n\\t\\t\\t\\t\\r\\n\\t\\t\\t\\tvar content = data.content;\\r\\n\\t\\t\\t\\t\\r\\n\\t\\t\\t\\t$(\\'#ctn\\').html(content.count);\\r\\n\\t\\t\\t\\t$(\\'#det\\').html(content.death);\\r\\n\\t\\t\\t\\t$(\\'#dctn\\').html(content.dailycount);\\r\\n\\t\\t\\t\\t$(\\'#ddet\\').html(content.dailydeath);\\r\\n\\t\\t\\t\\t$(\\'#hosp_1\\').html(content.hospitalizationsever);\\r\\n\\t\\t\\t\\t$(\\'#dte\\').html(content.date);\\r\\n\\t\\t\\t\\t$(\\'#dte_1\\').html(content.date);\\r\\n\\t\\t\\t\\t$(\\'#dte_2\\').html(content.date);\\r\\n\\t\\t\\t\\t$(\\'#dte_3\\').html(content.datehospitalizations);\\r\\n\\t\\t\\t\\t$(\\'#cse\\').html(content.info);\\t\\r\\n\\t\\t\\t\\r\\n\\t\\t\\t\\t\\r\\n\\t\\t\\t\\t$(\\'#tstavg\\').html(content.testingaverage);\\t\\r\\n\\t\\t\\t\\t$(\\'#ppltst\\').html(content.peopletested);\\t\\r\\n\\t\\t\\t\\t$(\\'#pos\\').html(content.positivity);\\t\\r\\n\\t\\t\\t\\t$(\\'#hosp\\').html(content.hospitalizations);\\r\\n\\t\\t\\t\\r\\n\\t\\t\\t\\t\\t\\t\\t\\r\\n\\r\\n\\r\\n});\\r\\n\\r\\n\\r\\n\\r\\n'"
      ]
     },
     "execution_count": 20,
     "metadata": {},
     "output_type": "execute_result"
    }
   ],
   "source": [
    "date_page"
   ]
  },
  {
   "cell_type": "code",
   "execution_count": 21,
   "metadata": {
    "execution": {
     "iopub.execute_input": "2022-11-26T16:19:34.927427Z",
     "iopub.status.busy": "2022-11-26T16:19:34.927015Z",
     "iopub.status.idle": "2022-11-26T16:19:34.929824Z",
     "shell.execute_reply": "2022-11-26T16:19:34.929276Z"
    }
   },
   "outputs": [],
   "source": [
    "# date_text = re.search(r\"([0-9][0-9]/[0-9][0-9])\", date_page).group(1)\n",
    "# date_text = date_text + \"/\" + str(date.today().year)"
   ]
  },
  {
   "cell_type": "code",
   "execution_count": 22,
   "metadata": {
    "execution": {
     "iopub.execute_input": "2022-11-26T16:19:34.934612Z",
     "iopub.status.busy": "2022-11-26T16:19:34.934165Z",
     "iopub.status.idle": "2022-11-26T16:19:34.935741Z",
     "shell.execute_reply": "2022-11-26T16:19:34.936088Z"
    }
   },
   "outputs": [],
   "source": [
    "date_text = re.search(r\"through (.+?)\\\"\", date_page).group(1)"
   ]
  },
  {
   "cell_type": "code",
   "execution_count": 23,
   "metadata": {
    "execution": {
     "iopub.execute_input": "2022-11-26T16:19:34.940434Z",
     "iopub.status.busy": "2022-11-26T16:19:34.940017Z",
     "iopub.status.idle": "2022-11-26T16:19:34.943787Z",
     "shell.execute_reply": "2022-11-26T16:19:34.943425Z"
    }
   },
   "outputs": [],
   "source": [
    "date_text = date_text.split(\"m \")[0]"
   ]
  },
  {
   "cell_type": "code",
   "execution_count": 24,
   "metadata": {
    "execution": {
     "iopub.execute_input": "2022-11-26T16:19:34.948058Z",
     "iopub.status.busy": "2022-11-26T16:19:34.946748Z",
     "iopub.status.idle": "2022-11-26T16:19:34.951002Z",
     "shell.execute_reply": "2022-11-26T16:19:34.951360Z"
    }
   },
   "outputs": [],
   "source": [
    "latest_date = pd.to_datetime(date_text).date()"
   ]
  },
  {
   "cell_type": "code",
   "execution_count": 25,
   "metadata": {
    "execution": {
     "iopub.execute_input": "2022-11-26T16:19:34.955949Z",
     "iopub.status.busy": "2022-11-26T16:19:34.954385Z",
     "iopub.status.idle": "2022-11-26T16:19:34.958660Z",
     "shell.execute_reply": "2022-11-26T16:19:34.958263Z"
    }
   },
   "outputs": [],
   "source": [
    "df[\"county_date\"] = latest_date"
   ]
  },
  {
   "cell_type": "code",
   "execution_count": 26,
   "metadata": {
    "execution": {
     "iopub.execute_input": "2022-11-26T16:19:34.963204Z",
     "iopub.status.busy": "2022-11-26T16:19:34.962477Z",
     "iopub.status.idle": "2022-11-26T16:19:34.966616Z",
     "shell.execute_reply": "2022-11-26T16:19:34.966970Z"
    }
   },
   "outputs": [],
   "source": [
    "df.loc[df.area == \"-  Under Investigation\", \"area\"] = \"Under Investigation\""
   ]
  },
  {
   "cell_type": "code",
   "execution_count": 27,
   "metadata": {
    "execution": {
     "iopub.execute_input": "2022-11-26T16:19:34.972432Z",
     "iopub.status.busy": "2022-11-26T16:19:34.971844Z",
     "iopub.status.idle": "2022-11-26T16:19:34.974456Z",
     "shell.execute_reply": "2022-11-26T16:19:34.974806Z"
    }
   },
   "outputs": [],
   "source": [
    "df.loc[df.area == \"- Under Investigation\", \"area\"] = \"Under Investigation\""
   ]
  },
  {
   "cell_type": "markdown",
   "metadata": {},
   "source": [
    "## Vet"
   ]
  },
  {
   "cell_type": "code",
   "execution_count": 28,
   "metadata": {
    "execution": {
     "iopub.execute_input": "2022-11-26T16:19:34.980467Z",
     "iopub.status.busy": "2022-11-26T16:19:34.978189Z",
     "iopub.status.idle": "2022-11-26T16:19:34.982901Z",
     "shell.execute_reply": "2022-11-26T16:19:34.982526Z"
    }
   },
   "outputs": [],
   "source": [
    "try:\n",
    "    assert not len(df) > 342\n",
    "except AssertionError:\n",
    "    raise AssertionError(\"L.A. County's scraper has extra rows\")"
   ]
  },
  {
   "cell_type": "code",
   "execution_count": 29,
   "metadata": {
    "execution": {
     "iopub.execute_input": "2022-11-26T16:19:34.986093Z",
     "iopub.status.busy": "2022-11-26T16:19:34.985691Z",
     "iopub.status.idle": "2022-11-26T16:19:35.100134Z",
     "shell.execute_reply": "2022-11-26T16:19:35.098896Z"
    }
   },
   "outputs": [
    {
     "ename": "AssertionError",
     "evalue": "L.A. County's scraper is missing rows",
     "output_type": "error",
     "traceback": [
      "\u001b[0;31m---------------------------------------------------------------------------\u001b[0m",
      "\u001b[0;31mAssertionError\u001b[0m                            Traceback (most recent call last)",
      "\u001b[0;32m/tmp/ipykernel_2160/2999864733.py\u001b[0m in \u001b[0;36m<module>\u001b[0;34m\u001b[0m\n\u001b[1;32m      1\u001b[0m \u001b[0;32mtry\u001b[0m\u001b[0;34m:\u001b[0m\u001b[0;34m\u001b[0m\u001b[0;34m\u001b[0m\u001b[0m\n\u001b[0;32m----> 2\u001b[0;31m     \u001b[0;32massert\u001b[0m \u001b[0;32mnot\u001b[0m \u001b[0mlen\u001b[0m\u001b[0;34m(\u001b[0m\u001b[0mdf\u001b[0m\u001b[0;34m)\u001b[0m \u001b[0;34m<\u001b[0m \u001b[0;36m342\u001b[0m\u001b[0;34m\u001b[0m\u001b[0;34m\u001b[0m\u001b[0m\n\u001b[0m\u001b[1;32m      3\u001b[0m \u001b[0;32mexcept\u001b[0m \u001b[0mAssertionError\u001b[0m\u001b[0;34m:\u001b[0m\u001b[0;34m\u001b[0m\u001b[0;34m\u001b[0m\u001b[0m\n",
      "\u001b[0;31mAssertionError\u001b[0m: ",
      "\nDuring handling of the above exception, another exception occurred:\n",
      "\u001b[0;31mAssertionError\u001b[0m                            Traceback (most recent call last)",
      "\u001b[0;32m/tmp/ipykernel_2160/2999864733.py\u001b[0m in \u001b[0;36m<module>\u001b[0;34m\u001b[0m\n\u001b[1;32m      2\u001b[0m     \u001b[0;32massert\u001b[0m \u001b[0;32mnot\u001b[0m \u001b[0mlen\u001b[0m\u001b[0;34m(\u001b[0m\u001b[0mdf\u001b[0m\u001b[0;34m)\u001b[0m \u001b[0;34m<\u001b[0m \u001b[0;36m342\u001b[0m\u001b[0;34m\u001b[0m\u001b[0;34m\u001b[0m\u001b[0m\n\u001b[1;32m      3\u001b[0m \u001b[0;32mexcept\u001b[0m \u001b[0mAssertionError\u001b[0m\u001b[0;34m:\u001b[0m\u001b[0;34m\u001b[0m\u001b[0;34m\u001b[0m\u001b[0m\n\u001b[0;32m----> 4\u001b[0;31m     \u001b[0;32mraise\u001b[0m \u001b[0mAssertionError\u001b[0m\u001b[0;34m(\u001b[0m\u001b[0;34m\"L.A. County's scraper is missing rows\"\u001b[0m\u001b[0;34m)\u001b[0m\u001b[0;34m\u001b[0m\u001b[0;34m\u001b[0m\u001b[0m\n\u001b[0m",
      "\u001b[0;31mAssertionError\u001b[0m: L.A. County's scraper is missing rows"
     ]
    }
   ],
   "source": [
    "try:\n",
    "    assert not len(df) < 342\n",
    "except AssertionError:\n",
    "    raise AssertionError(\"L.A. County's scraper is missing rows\")"
   ]
  },
  {
   "cell_type": "markdown",
   "metadata": {},
   "source": [
    "## Export"
   ]
  },
  {
   "cell_type": "markdown",
   "metadata": {},
   "source": [
    "Set the date"
   ]
  },
  {
   "cell_type": "code",
   "execution_count": 119,
   "metadata": {},
   "outputs": [],
   "source": [
    "tz = pytz.timezone(\"America/Los_Angeles\")"
   ]
  },
  {
   "cell_type": "code",
   "execution_count": 120,
   "metadata": {},
   "outputs": [],
   "source": [
    "today = datetime.now(tz).date()"
   ]
  },
  {
   "cell_type": "code",
   "execution_count": 121,
   "metadata": {},
   "outputs": [],
   "source": [
    "slug = \"los-angeles\""
   ]
  },
  {
   "cell_type": "code",
   "execution_count": 122,
   "metadata": {},
   "outputs": [],
   "source": [
    "df.to_csv(data_dir / slug / f\"{today}.csv\", index=False)"
   ]
  },
  {
   "cell_type": "markdown",
   "metadata": {},
   "source": [
    "## Combine"
   ]
  },
  {
   "cell_type": "code",
   "execution_count": 123,
   "metadata": {},
   "outputs": [],
   "source": [
    "csv_list = [\n",
    "    i\n",
    "    for i in glob.glob(str(data_dir / slug / \"*.csv\"))\n",
    "    if not str(i).endswith(\"timeseries.csv\")\n",
    "]"
   ]
  },
  {
   "cell_type": "code",
   "execution_count": 124,
   "metadata": {},
   "outputs": [],
   "source": [
    "df_list = []\n",
    "for csv in csv_list:\n",
    "    if \"manual\" in csv:\n",
    "        df = pd.read_csv(csv, parse_dates=[\"date\"])\n",
    "    else:\n",
    "        file_date = csv.split(\"/\")[-1].replace(\".csv\", \"\")\n",
    "        df = pd.read_csv(csv, parse_dates=[\"county_date\"])\n",
    "        df[\"date\"] = file_date\n",
    "    df_list.append(df)"
   ]
  },
  {
   "cell_type": "code",
   "execution_count": 125,
   "metadata": {},
   "outputs": [],
   "source": [
    "df = pd.concat(df_list).sort_values([\"date\", \"area\"])"
   ]
  },
  {
   "cell_type": "code",
   "execution_count": 126,
   "metadata": {},
   "outputs": [],
   "source": [
    "df.to_csv(data_dir / slug / \"timeseries.csv\", index=False)"
   ]
  },
  {
   "cell_type": "code",
   "execution_count": null,
   "metadata": {},
   "outputs": [],
   "source": []
  },
  {
   "cell_type": "code",
   "execution_count": null,
   "metadata": {},
   "outputs": [],
   "source": []
  }
 ],
 "metadata": {
  "kernelspec": {
   "display_name": "Python 3 (ipykernel)",
   "language": "python",
   "name": "python3"
  },
  "language_info": {
   "codemirror_mode": {
    "name": "ipython",
    "version": 3
   },
   "file_extension": ".py",
   "mimetype": "text/x-python",
   "name": "python",
   "nbconvert_exporter": "python",
   "pygments_lexer": "ipython3",
   "version": "3.8.14"
  }
 },
 "nbformat": 4,
 "nbformat_minor": 4
}
