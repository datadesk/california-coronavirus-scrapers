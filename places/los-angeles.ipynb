{
 "cells": [
  {
   "cell_type": "markdown",
   "metadata": {
    "tags": []
   },
   "source": [
    "## Configuration\n",
    "_Initial steps to get the notebook ready to play nice with our repository. Do not delete this section._"
   ]
  },
  {
   "cell_type": "markdown",
   "metadata": {},
   "source": [
    "Code formatting with [black](https://pypi.org/project/nb-black/)."
   ]
  },
  {
   "cell_type": "code",
   "execution_count": 1,
   "metadata": {
    "execution": {
     "iopub.execute_input": "2022-12-02T16:19:30.050723Z",
     "iopub.status.busy": "2022-12-02T16:19:30.050312Z",
     "iopub.status.idle": "2022-12-02T16:19:30.192082Z",
     "shell.execute_reply": "2022-12-02T16:19:30.191613Z"
    }
   },
   "outputs": [],
   "source": [
    "%load_ext lab_black"
   ]
  },
  {
   "cell_type": "code",
   "execution_count": 2,
   "metadata": {
    "execution": {
     "iopub.execute_input": "2022-12-02T16:19:30.196134Z",
     "iopub.status.busy": "2022-12-02T16:19:30.195704Z",
     "iopub.status.idle": "2022-12-02T16:19:30.198593Z",
     "shell.execute_reply": "2022-12-02T16:19:30.198217Z"
    }
   },
   "outputs": [],
   "source": [
    "import os\n",
    "import pathlib"
   ]
  },
  {
   "cell_type": "code",
   "execution_count": 3,
   "metadata": {
    "execution": {
     "iopub.execute_input": "2022-12-02T16:19:30.204849Z",
     "iopub.status.busy": "2022-12-02T16:19:30.204116Z",
     "iopub.status.idle": "2022-12-02T16:19:30.205860Z",
     "shell.execute_reply": "2022-12-02T16:19:30.205520Z"
    }
   },
   "outputs": [],
   "source": [
    "this_dir = pathlib.Path(os.path.abspath(\"\"))"
   ]
  },
  {
   "cell_type": "code",
   "execution_count": 4,
   "metadata": {
    "execution": {
     "iopub.execute_input": "2022-12-02T16:19:30.210068Z",
     "iopub.status.busy": "2022-12-02T16:19:30.209630Z",
     "iopub.status.idle": "2022-12-02T16:19:30.211215Z",
     "shell.execute_reply": "2022-12-02T16:19:30.211547Z"
    }
   },
   "outputs": [],
   "source": [
    "data_dir = this_dir / \"data\""
   ]
  },
  {
   "cell_type": "code",
   "execution_count": 5,
   "metadata": {
    "execution": {
     "iopub.execute_input": "2022-12-02T16:19:30.215635Z",
     "iopub.status.busy": "2022-12-02T16:19:30.214419Z",
     "iopub.status.idle": "2022-12-02T16:19:30.596796Z",
     "shell.execute_reply": "2022-12-02T16:19:30.595972Z"
    }
   },
   "outputs": [],
   "source": [
    "import re\n",
    "import pytz\n",
    "import glob\n",
    "import requests\n",
    "import unicodedata\n",
    "import pandas as pd\n",
    "from slugify import slugify\n",
    "from bs4 import BeautifulSoup\n",
    "from datetime import datetime, date"
   ]
  },
  {
   "cell_type": "markdown",
   "metadata": {},
   "source": [
    "## Download"
   ]
  },
  {
   "cell_type": "markdown",
   "metadata": {},
   "source": [
    "Retrieve the page"
   ]
  },
  {
   "cell_type": "code",
   "execution_count": 6,
   "metadata": {
    "execution": {
     "iopub.execute_input": "2022-12-02T16:19:30.601189Z",
     "iopub.status.busy": "2022-12-02T16:19:30.600751Z",
     "iopub.status.idle": "2022-12-02T16:19:30.603299Z",
     "shell.execute_reply": "2022-12-02T16:19:30.603652Z"
    }
   },
   "outputs": [],
   "source": [
    "url = \"http://publichealth.lacounty.gov/media/Coronavirus/locations.htm\""
   ]
  },
  {
   "cell_type": "code",
   "execution_count": 7,
   "metadata": {
    "execution": {
     "iopub.execute_input": "2022-12-02T16:19:30.607379Z",
     "iopub.status.busy": "2022-12-02T16:19:30.606539Z",
     "iopub.status.idle": "2022-12-02T16:19:31.007630Z",
     "shell.execute_reply": "2022-12-02T16:19:31.008014Z"
    }
   },
   "outputs": [],
   "source": [
    "page = requests.get(url)"
   ]
  },
  {
   "cell_type": "markdown",
   "metadata": {},
   "source": [
    "## Parse"
   ]
  },
  {
   "cell_type": "code",
   "execution_count": 8,
   "metadata": {
    "execution": {
     "iopub.execute_input": "2022-12-02T16:19:31.020745Z",
     "iopub.status.busy": "2022-12-02T16:19:31.015494Z",
     "iopub.status.idle": "2022-12-02T16:19:31.182501Z",
     "shell.execute_reply": "2022-12-02T16:19:31.182908Z"
    }
   },
   "outputs": [],
   "source": [
    "soup = BeautifulSoup(page.content, \"html.parser\")"
   ]
  },
  {
   "cell_type": "markdown",
   "metadata": {},
   "source": [
    "Get content well"
   ]
  },
  {
   "cell_type": "code",
   "execution_count": 9,
   "metadata": {
    "execution": {
     "iopub.execute_input": "2022-12-02T16:19:31.188202Z",
     "iopub.status.busy": "2022-12-02T16:19:31.187487Z",
     "iopub.status.idle": "2022-12-02T16:19:31.191872Z",
     "shell.execute_reply": "2022-12-02T16:19:31.192243Z"
    }
   },
   "outputs": [],
   "source": [
    "content = soup.find(\"div\", {\"id\": \"content\"})"
   ]
  },
  {
   "cell_type": "markdown",
   "metadata": {},
   "source": [
    "Get table"
   ]
  },
  {
   "cell_type": "code",
   "execution_count": 10,
   "metadata": {
    "execution": {
     "iopub.execute_input": "2022-12-02T16:19:31.200190Z",
     "iopub.status.busy": "2022-12-02T16:19:31.194216Z",
     "iopub.status.idle": "2022-12-02T16:19:31.212258Z",
     "shell.execute_reply": "2022-12-02T16:19:31.211573Z"
    }
   },
   "outputs": [],
   "source": [
    "for tag in content.find_all(text=re.compile(\"CITY/COMMUNITY\")):\n",
    "    table = tag.findParent(\"table\")"
   ]
  },
  {
   "cell_type": "code",
   "execution_count": 11,
   "metadata": {
    "execution": {
     "iopub.execute_input": "2022-12-02T16:19:31.218061Z",
     "iopub.status.busy": "2022-12-02T16:19:31.217635Z",
     "iopub.status.idle": "2022-12-02T16:19:31.220309Z",
     "shell.execute_reply": "2022-12-02T16:19:31.220664Z"
    }
   },
   "outputs": [],
   "source": [
    "tbody = soup.tbody"
   ]
  },
  {
   "cell_type": "code",
   "execution_count": 12,
   "metadata": {
    "execution": {
     "iopub.execute_input": "2022-12-02T16:19:31.225291Z",
     "iopub.status.busy": "2022-12-02T16:19:31.224889Z",
     "iopub.status.idle": "2022-12-02T16:19:31.227819Z",
     "shell.execute_reply": "2022-12-02T16:19:31.227447Z"
    }
   },
   "outputs": [],
   "source": [
    "row_list = tbody.find_all(\"tr\")"
   ]
  },
  {
   "cell_type": "code",
   "execution_count": 13,
   "metadata": {
    "execution": {
     "iopub.execute_input": "2022-12-02T16:19:31.231637Z",
     "iopub.status.busy": "2022-12-02T16:19:31.231236Z",
     "iopub.status.idle": "2022-12-02T16:19:31.233971Z",
     "shell.execute_reply": "2022-12-02T16:19:31.233621Z"
    }
   },
   "outputs": [],
   "source": [
    "dict_list = []"
   ]
  },
  {
   "cell_type": "code",
   "execution_count": 14,
   "metadata": {
    "execution": {
     "iopub.execute_input": "2022-12-02T16:19:31.240058Z",
     "iopub.status.busy": "2022-12-02T16:19:31.239649Z",
     "iopub.status.idle": "2022-12-02T16:19:31.242402Z",
     "shell.execute_reply": "2022-12-02T16:19:31.242022Z"
    }
   },
   "outputs": [],
   "source": [
    "def safetxt(element):\n",
    "    v = element.text.strip()\n",
    "    v = v.replace(\"\\u200b\", \"\")\n",
    "    return v"
   ]
  },
  {
   "cell_type": "code",
   "execution_count": 15,
   "metadata": {
    "execution": {
     "iopub.execute_input": "2022-12-02T16:19:31.249215Z",
     "iopub.status.busy": "2022-12-02T16:19:31.248609Z",
     "iopub.status.idle": "2022-12-02T16:19:31.251839Z",
     "shell.execute_reply": "2022-12-02T16:19:31.251277Z"
    }
   },
   "outputs": [],
   "source": [
    "def safenumber(element):\n",
    "    v = safetxt(element)\n",
    "    v = v.replace(\",\", \"\")\n",
    "    v = v.replace(\" \", \"\")\n",
    "    return v"
   ]
  },
  {
   "cell_type": "code",
   "execution_count": 16,
   "metadata": {
    "execution": {
     "iopub.execute_input": "2022-12-02T16:19:31.259760Z",
     "iopub.status.busy": "2022-12-02T16:19:31.253747Z",
     "iopub.status.idle": "2022-12-02T16:19:31.270568Z",
     "shell.execute_reply": "2022-12-02T16:19:31.270952Z"
    }
   },
   "outputs": [],
   "source": [
    "for row in row_list:\n",
    "    cell_content = row.find_all(\"td\")\n",
    "    d = dict(\n",
    "        county=\"Los Angeles\",\n",
    "        area=safetxt(cell_content[0]),\n",
    "        confirmed_cases=safenumber(cell_content[1]),\n",
    "        confirmed_deaths=safenumber(cell_content[3]),\n",
    "    )\n",
    "    dict_list.append(d)"
   ]
  },
  {
   "cell_type": "code",
   "execution_count": 17,
   "metadata": {
    "execution": {
     "iopub.execute_input": "2022-12-02T16:19:31.276703Z",
     "iopub.status.busy": "2022-12-02T16:19:31.274973Z",
     "iopub.status.idle": "2022-12-02T16:19:31.278847Z",
     "shell.execute_reply": "2022-12-02T16:19:31.279231Z"
    }
   },
   "outputs": [],
   "source": [
    "df = pd.DataFrame(dict_list)"
   ]
  },
  {
   "cell_type": "markdown",
   "metadata": {},
   "source": [
    "Get timestamp"
   ]
  },
  {
   "cell_type": "code",
   "execution_count": 18,
   "metadata": {
    "execution": {
     "iopub.execute_input": "2022-12-02T16:19:31.282970Z",
     "iopub.status.busy": "2022-12-02T16:19:31.282217Z",
     "iopub.status.idle": "2022-12-02T16:19:31.286557Z",
     "shell.execute_reply": "2022-12-02T16:19:31.285782Z"
    }
   },
   "outputs": [],
   "source": [
    "date_url = \"http://publichealth.lacounty.gov/media/Coronavirus/js/casecounter.js\""
   ]
  },
  {
   "cell_type": "code",
   "execution_count": 19,
   "metadata": {
    "execution": {
     "iopub.execute_input": "2022-12-02T16:19:31.289791Z",
     "iopub.status.busy": "2022-12-02T16:19:31.289342Z",
     "iopub.status.idle": "2022-12-02T16:19:31.622889Z",
     "shell.execute_reply": "2022-12-02T16:19:31.622499Z"
    }
   },
   "outputs": [],
   "source": [
    "response = requests.get(date_url)\n",
    "date_page = response.text"
   ]
  },
  {
   "cell_type": "code",
   "execution_count": 20,
   "metadata": {
    "execution": {
     "iopub.execute_input": "2022-12-02T16:19:31.631361Z",
     "iopub.status.busy": "2022-12-02T16:19:31.630757Z",
     "iopub.status.idle": "2022-12-02T16:19:31.636782Z",
     "shell.execute_reply": "2022-12-02T16:19:31.636208Z"
    }
   },
   "outputs": [
    {
     "data": {
      "text/plain": [
       "'$( document ).ready(function() {\\r\\n    var data = {\\r\\n\\t\\t\\t\\t    \"content\": { \\r\\n\\t\\t\\r\\n\\t\\t\\t\"count\": \"3,547,200\",\\r\\n\\r\\n\\r\\n\\t\\t\\t\"death\": \"34,199\",\\r\\n\\r\\n\\t\\t\\t\"dailycount\": \"4,493\",\\r\\n\\r\\n\\r\\n\\t\\t\\t\"dailydeath\": \"14\",\\r\\n\\t\\t\\t\"hospitalizationsever\": \"161,040\",\\r\\n\\r\\n\\r\\n\\t\\t\\t\"date\": \"12/1\",\\r\\n\\t\\t\\t\"info\": \"through 12:00pm 11/30/2022\",\\r\\n\\r\\n\\t\\t\\t\"testingaverage\": \"21,864\",\\r\\n\\r\\n\\t\\t\\t\"peopletested\": \"12,730,533\",\\r\\n\\r\\n\\t\\t\\t\"positivity\": \"10.80%\",\\r\\n\\r\\n\\t\\t\\t\"hospitalizations\": \"1,164\",\\r\\n\\t\\t\\t\"datehospitalizations\": \"11/30\"\\r\\n\\r\\n\\t\\t\\t\\t}       \\r\\n\\t\\t\\t\\t};\\t\\r\\n\\t\\t\\t\\t\\r\\n\\t\\t\\t\\t\\r\\n\\t\\t\\t\\tvar content = data.content;\\r\\n\\t\\t\\t\\t\\r\\n\\t\\t\\t\\t$(\\'#ctn\\').html(content.count);\\r\\n\\t\\t\\t\\t$(\\'#det\\').html(content.death);\\r\\n\\t\\t\\t\\t$(\\'#dctn\\').html(content.dailycount);\\r\\n\\t\\t\\t\\t$(\\'#ddet\\').html(content.dailydeath);\\r\\n\\t\\t\\t\\t$(\\'#hosp_1\\').html(content.hospitalizationsever);\\r\\n\\t\\t\\t\\t$(\\'#dte\\').html(content.date);\\r\\n\\t\\t\\t\\t$(\\'#dte_1\\').html(content.date);\\r\\n\\t\\t\\t\\t$(\\'#dte_2\\').html(content.date);\\r\\n\\t\\t\\t\\t$(\\'#dte_3\\').html(content.datehospitalizations);\\r\\n\\t\\t\\t\\t$(\\'#cse\\').html(content.info);\\t\\r\\n\\t\\t\\t\\r\\n\\t\\t\\t\\t\\r\\n\\t\\t\\t\\t$(\\'#tstavg\\').html(content.testingaverage);\\t\\r\\n\\t\\t\\t\\t$(\\'#ppltst\\').html(content.peopletested);\\t\\r\\n\\t\\t\\t\\t$(\\'#pos\\').html(content.positivity);\\t\\r\\n\\t\\t\\t\\t$(\\'#hosp\\').html(content.hospitalizations);\\r\\n\\t\\t\\t\\r\\n\\t\\t\\t\\t\\t\\t\\t\\r\\n\\r\\n\\r\\n});\\r\\n\\r\\n\\r\\n\\r\\n'"
      ]
     },
     "execution_count": 20,
     "metadata": {},
     "output_type": "execute_result"
    }
   ],
   "source": [
    "date_page"
   ]
  },
  {
   "cell_type": "code",
   "execution_count": 21,
   "metadata": {
    "execution": {
     "iopub.execute_input": "2022-12-02T16:19:31.640442Z",
     "iopub.status.busy": "2022-12-02T16:19:31.640010Z",
     "iopub.status.idle": "2022-12-02T16:19:31.642480Z",
     "shell.execute_reply": "2022-12-02T16:19:31.642832Z"
    }
   },
   "outputs": [],
   "source": [
    "# date_text = re.search(r\"([0-9][0-9]/[0-9][0-9])\", date_page).group(1)\n",
    "# date_text = date_text + \"/\" + str(date.today().year)"
   ]
  },
  {
   "cell_type": "code",
   "execution_count": 22,
   "metadata": {
    "execution": {
     "iopub.execute_input": "2022-12-02T16:19:31.647586Z",
     "iopub.status.busy": "2022-12-02T16:19:31.645897Z",
     "iopub.status.idle": "2022-12-02T16:19:31.650226Z",
     "shell.execute_reply": "2022-12-02T16:19:31.649832Z"
    }
   },
   "outputs": [],
   "source": [
    "date_text = re.search(r\"through (.+?)\\\"\", date_page).group(1)"
   ]
  },
  {
   "cell_type": "code",
   "execution_count": 23,
   "metadata": {
    "execution": {
     "iopub.execute_input": "2022-12-02T16:19:31.654786Z",
     "iopub.status.busy": "2022-12-02T16:19:31.654331Z",
     "iopub.status.idle": "2022-12-02T16:19:31.657255Z",
     "shell.execute_reply": "2022-12-02T16:19:31.656884Z"
    }
   },
   "outputs": [],
   "source": [
    "date_text = date_text.split(\"m \")[0]"
   ]
  },
  {
   "cell_type": "code",
   "execution_count": 24,
   "metadata": {
    "execution": {
     "iopub.execute_input": "2022-12-02T16:19:31.662329Z",
     "iopub.status.busy": "2022-12-02T16:19:31.661848Z",
     "iopub.status.idle": "2022-12-02T16:19:31.664520Z",
     "shell.execute_reply": "2022-12-02T16:19:31.664175Z"
    }
   },
   "outputs": [],
   "source": [
    "latest_date = pd.to_datetime(date_text).date()"
   ]
  },
  {
   "cell_type": "code",
   "execution_count": 25,
   "metadata": {
    "execution": {
     "iopub.execute_input": "2022-12-02T16:19:31.669407Z",
     "iopub.status.busy": "2022-12-02T16:19:31.668969Z",
     "iopub.status.idle": "2022-12-02T16:19:31.671875Z",
     "shell.execute_reply": "2022-12-02T16:19:31.671489Z"
    }
   },
   "outputs": [],
   "source": [
    "df[\"county_date\"] = latest_date"
   ]
  },
  {
   "cell_type": "code",
   "execution_count": 26,
   "metadata": {
    "execution": {
     "iopub.execute_input": "2022-12-02T16:19:31.677910Z",
     "iopub.status.busy": "2022-12-02T16:19:31.677110Z",
     "iopub.status.idle": "2022-12-02T16:19:31.681200Z",
     "shell.execute_reply": "2022-12-02T16:19:31.680390Z"
    }
   },
   "outputs": [],
   "source": [
    "df.loc[df.area == \"-  Under Investigation\", \"area\"] = \"Under Investigation\""
   ]
  },
  {
   "cell_type": "code",
   "execution_count": 27,
   "metadata": {
    "execution": {
     "iopub.execute_input": "2022-12-02T16:19:31.687076Z",
     "iopub.status.busy": "2022-12-02T16:19:31.685891Z",
     "iopub.status.idle": "2022-12-02T16:19:31.689546Z",
     "shell.execute_reply": "2022-12-02T16:19:31.689162Z"
    }
   },
   "outputs": [],
   "source": [
    "df.loc[df.area == \"- Under Investigation\", \"area\"] = \"Under Investigation\""
   ]
  },
  {
   "cell_type": "markdown",
   "metadata": {},
   "source": [
    "## Vet"
   ]
  },
  {
   "cell_type": "code",
   "execution_count": 28,
   "metadata": {
    "execution": {
     "iopub.execute_input": "2022-12-02T16:19:31.693208Z",
     "iopub.status.busy": "2022-12-02T16:19:31.692765Z",
     "iopub.status.idle": "2022-12-02T16:19:31.697181Z",
     "shell.execute_reply": "2022-12-02T16:19:31.697564Z"
    }
   },
   "outputs": [],
   "source": [
    "try:\n",
    "    assert not len(df) > 342\n",
    "except AssertionError:\n",
    "    raise AssertionError(\"L.A. County's scraper has extra rows\")"
   ]
  },
  {
   "cell_type": "code",
   "execution_count": 29,
   "metadata": {
    "execution": {
     "iopub.execute_input": "2022-12-02T16:19:31.702018Z",
     "iopub.status.busy": "2022-12-02T16:19:31.700667Z",
     "iopub.status.idle": "2022-12-02T16:19:31.824941Z",
     "shell.execute_reply": "2022-12-02T16:19:31.823412Z"
    }
   },
   "outputs": [
    {
     "ename": "AssertionError",
     "evalue": "L.A. County's scraper is missing rows",
     "output_type": "error",
     "traceback": [
      "\u001b[0;31m---------------------------------------------------------------------------\u001b[0m",
      "\u001b[0;31mAssertionError\u001b[0m                            Traceback (most recent call last)",
      "\u001b[0;32m/tmp/ipykernel_2157/2999864733.py\u001b[0m in \u001b[0;36m<module>\u001b[0;34m\u001b[0m\n\u001b[1;32m      1\u001b[0m \u001b[0;32mtry\u001b[0m\u001b[0;34m:\u001b[0m\u001b[0;34m\u001b[0m\u001b[0;34m\u001b[0m\u001b[0m\n\u001b[0;32m----> 2\u001b[0;31m     \u001b[0;32massert\u001b[0m \u001b[0;32mnot\u001b[0m \u001b[0mlen\u001b[0m\u001b[0;34m(\u001b[0m\u001b[0mdf\u001b[0m\u001b[0;34m)\u001b[0m \u001b[0;34m<\u001b[0m \u001b[0;36m342\u001b[0m\u001b[0;34m\u001b[0m\u001b[0;34m\u001b[0m\u001b[0m\n\u001b[0m\u001b[1;32m      3\u001b[0m \u001b[0;32mexcept\u001b[0m \u001b[0mAssertionError\u001b[0m\u001b[0;34m:\u001b[0m\u001b[0;34m\u001b[0m\u001b[0;34m\u001b[0m\u001b[0m\n",
      "\u001b[0;31mAssertionError\u001b[0m: ",
      "\nDuring handling of the above exception, another exception occurred:\n",
      "\u001b[0;31mAssertionError\u001b[0m                            Traceback (most recent call last)",
      "\u001b[0;32m/tmp/ipykernel_2157/2999864733.py\u001b[0m in \u001b[0;36m<module>\u001b[0;34m\u001b[0m\n\u001b[1;32m      2\u001b[0m     \u001b[0;32massert\u001b[0m \u001b[0;32mnot\u001b[0m \u001b[0mlen\u001b[0m\u001b[0;34m(\u001b[0m\u001b[0mdf\u001b[0m\u001b[0;34m)\u001b[0m \u001b[0;34m<\u001b[0m \u001b[0;36m342\u001b[0m\u001b[0;34m\u001b[0m\u001b[0;34m\u001b[0m\u001b[0m\n\u001b[1;32m      3\u001b[0m \u001b[0;32mexcept\u001b[0m \u001b[0mAssertionError\u001b[0m\u001b[0;34m:\u001b[0m\u001b[0;34m\u001b[0m\u001b[0;34m\u001b[0m\u001b[0m\n\u001b[0;32m----> 4\u001b[0;31m     \u001b[0;32mraise\u001b[0m \u001b[0mAssertionError\u001b[0m\u001b[0;34m(\u001b[0m\u001b[0;34m\"L.A. County's scraper is missing rows\"\u001b[0m\u001b[0;34m)\u001b[0m\u001b[0;34m\u001b[0m\u001b[0;34m\u001b[0m\u001b[0m\n\u001b[0m",
      "\u001b[0;31mAssertionError\u001b[0m: L.A. County's scraper is missing rows"
     ]
    }
   ],
   "source": [
    "try:\n",
    "    assert not len(df) < 342\n",
    "except AssertionError:\n",
    "    raise AssertionError(\"L.A. County's scraper is missing rows\")"
   ]
  },
  {
   "cell_type": "markdown",
   "metadata": {},
   "source": [
    "## Export"
   ]
  },
  {
   "cell_type": "markdown",
   "metadata": {},
   "source": [
    "Set the date"
   ]
  },
  {
   "cell_type": "code",
   "execution_count": 30,
   "metadata": {},
   "outputs": [],
   "source": [
    "tz = pytz.timezone(\"America/Los_Angeles\")"
   ]
  },
  {
   "cell_type": "code",
   "execution_count": 31,
   "metadata": {},
   "outputs": [],
   "source": [
    "today = datetime.now(tz).date()"
   ]
  },
  {
   "cell_type": "code",
   "execution_count": 32,
   "metadata": {},
   "outputs": [],
   "source": [
    "slug = \"los-angeles\""
   ]
  },
  {
   "cell_type": "code",
   "execution_count": 33,
   "metadata": {},
   "outputs": [],
   "source": [
    "df.to_csv(data_dir / slug / f\"{today}.csv\", index=False)"
   ]
  },
  {
   "cell_type": "markdown",
   "metadata": {},
   "source": [
    "## Combine"
   ]
  },
  {
   "cell_type": "code",
   "execution_count": 34,
   "metadata": {},
   "outputs": [],
   "source": [
    "csv_list = [\n",
    "    i\n",
    "    for i in glob.glob(str(data_dir / slug / \"*.csv\"))\n",
    "    if not str(i).endswith(\"timeseries.csv\")\n",
    "]"
   ]
  },
  {
   "cell_type": "code",
   "execution_count": 35,
   "metadata": {},
   "outputs": [],
   "source": [
    "df_list = []\n",
    "for csv in csv_list:\n",
    "    if \"manual\" in csv:\n",
    "        df = pd.read_csv(csv, parse_dates=[\"date\"])\n",
    "    else:\n",
    "        file_date = csv.split(\"/\")[-1].replace(\".csv\", \"\")\n",
    "        df = pd.read_csv(csv, parse_dates=[\"county_date\"])\n",
    "        df[\"date\"] = file_date\n",
    "    df_list.append(df)"
   ]
  },
  {
   "cell_type": "code",
   "execution_count": 36,
   "metadata": {},
   "outputs": [],
   "source": [
    "df = pd.concat(df_list).sort_values([\"date\", \"area\"])"
   ]
  },
  {
   "cell_type": "code",
   "execution_count": 37,
   "metadata": {},
   "outputs": [],
   "source": [
    "df.to_csv(data_dir / slug / \"timeseries.csv\", index=False)"
   ]
  },
  {
   "cell_type": "code",
   "execution_count": null,
   "metadata": {},
   "outputs": [],
   "source": []
  },
  {
   "cell_type": "code",
   "execution_count": null,
   "metadata": {},
   "outputs": [],
   "source": []
  }
 ],
 "metadata": {
  "kernelspec": {
   "display_name": "Python 3 (ipykernel)",
   "language": "python",
   "name": "python3"
  },
  "language_info": {
   "codemirror_mode": {
    "name": "ipython",
    "version": 3
   },
   "file_extension": ".py",
   "mimetype": "text/x-python",
   "name": "python",
   "nbconvert_exporter": "python",
   "pygments_lexer": "ipython3",
   "version": "3.8.14"
  }
 },
 "nbformat": 4,
 "nbformat_minor": 4
}
