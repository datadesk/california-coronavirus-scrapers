{
 "cells": [
  {
   "cell_type": "markdown",
   "metadata": {
    "tags": []
   },
   "source": [
    "## Configuration\n",
    "_Initial steps to get the notebook ready to play nice with our repository. Do not delete this section._"
   ]
  },
  {
   "cell_type": "markdown",
   "metadata": {},
   "source": [
    "Code formatting with [black](https://pypi.org/project/nb-black/)."
   ]
  },
  {
   "cell_type": "code",
   "execution_count": 1,
   "metadata": {
    "execution": {
     "iopub.execute_input": "2023-01-20T16:19:31.179193Z",
     "iopub.status.busy": "2023-01-20T16:19:31.178726Z",
     "iopub.status.idle": "2023-01-20T16:19:31.310362Z",
     "shell.execute_reply": "2023-01-20T16:19:31.310719Z"
    }
   },
   "outputs": [],
   "source": [
    "%load_ext lab_black"
   ]
  },
  {
   "cell_type": "code",
   "execution_count": 2,
   "metadata": {
    "execution": {
     "iopub.execute_input": "2023-01-20T16:19:31.315050Z",
     "iopub.status.busy": "2023-01-20T16:19:31.314244Z",
     "iopub.status.idle": "2023-01-20T16:19:31.315726Z",
     "shell.execute_reply": "2023-01-20T16:19:31.316084Z"
    }
   },
   "outputs": [],
   "source": [
    "import os\n",
    "import pathlib"
   ]
  },
  {
   "cell_type": "code",
   "execution_count": 3,
   "metadata": {
    "execution": {
     "iopub.execute_input": "2023-01-20T16:19:31.322118Z",
     "iopub.status.busy": "2023-01-20T16:19:31.321160Z",
     "iopub.status.idle": "2023-01-20T16:19:31.322608Z",
     "shell.execute_reply": "2023-01-20T16:19:31.322948Z"
    }
   },
   "outputs": [],
   "source": [
    "this_dir = pathlib.Path(os.path.abspath(\"\"))"
   ]
  },
  {
   "cell_type": "code",
   "execution_count": 4,
   "metadata": {
    "execution": {
     "iopub.execute_input": "2023-01-20T16:19:31.327248Z",
     "iopub.status.busy": "2023-01-20T16:19:31.326550Z",
     "iopub.status.idle": "2023-01-20T16:19:31.328051Z",
     "shell.execute_reply": "2023-01-20T16:19:31.328375Z"
    }
   },
   "outputs": [],
   "source": [
    "data_dir = this_dir / \"data\""
   ]
  },
  {
   "cell_type": "code",
   "execution_count": 5,
   "metadata": {
    "execution": {
     "iopub.execute_input": "2023-01-20T16:19:31.331754Z",
     "iopub.status.busy": "2023-01-20T16:19:31.331327Z",
     "iopub.status.idle": "2023-01-20T16:19:31.699311Z",
     "shell.execute_reply": "2023-01-20T16:19:31.698500Z"
    }
   },
   "outputs": [],
   "source": [
    "import re\n",
    "import pytz\n",
    "import glob\n",
    "import requests\n",
    "import unicodedata\n",
    "import pandas as pd\n",
    "from slugify import slugify\n",
    "from bs4 import BeautifulSoup\n",
    "from datetime import datetime, date"
   ]
  },
  {
   "cell_type": "markdown",
   "metadata": {},
   "source": [
    "## Download"
   ]
  },
  {
   "cell_type": "markdown",
   "metadata": {},
   "source": [
    "Retrieve the page"
   ]
  },
  {
   "cell_type": "code",
   "execution_count": 6,
   "metadata": {
    "execution": {
     "iopub.execute_input": "2023-01-20T16:19:31.702974Z",
     "iopub.status.busy": "2023-01-20T16:19:31.702235Z",
     "iopub.status.idle": "2023-01-20T16:19:31.705769Z",
     "shell.execute_reply": "2023-01-20T16:19:31.706141Z"
    }
   },
   "outputs": [],
   "source": [
    "url = \"http://publichealth.lacounty.gov/media/Coronavirus/locations.htm\""
   ]
  },
  {
   "cell_type": "code",
   "execution_count": 7,
   "metadata": {
    "execution": {
     "iopub.execute_input": "2023-01-20T16:19:31.709588Z",
     "iopub.status.busy": "2023-01-20T16:19:31.709155Z",
     "iopub.status.idle": "2023-01-20T16:19:32.124640Z",
     "shell.execute_reply": "2023-01-20T16:19:32.123826Z"
    }
   },
   "outputs": [],
   "source": [
    "page = requests.get(url)"
   ]
  },
  {
   "cell_type": "markdown",
   "metadata": {},
   "source": [
    "## Parse"
   ]
  },
  {
   "cell_type": "code",
   "execution_count": 8,
   "metadata": {
    "execution": {
     "iopub.execute_input": "2023-01-20T16:19:32.132270Z",
     "iopub.status.busy": "2023-01-20T16:19:32.131803Z",
     "iopub.status.idle": "2023-01-20T16:19:32.271131Z",
     "shell.execute_reply": "2023-01-20T16:19:32.270751Z"
    }
   },
   "outputs": [],
   "source": [
    "soup = BeautifulSoup(page.content, \"html.parser\")"
   ]
  },
  {
   "cell_type": "markdown",
   "metadata": {},
   "source": [
    "Get content well"
   ]
  },
  {
   "cell_type": "code",
   "execution_count": 9,
   "metadata": {
    "execution": {
     "iopub.execute_input": "2023-01-20T16:19:32.275686Z",
     "iopub.status.busy": "2023-01-20T16:19:32.275271Z",
     "iopub.status.idle": "2023-01-20T16:19:32.278470Z",
     "shell.execute_reply": "2023-01-20T16:19:32.278136Z"
    }
   },
   "outputs": [],
   "source": [
    "content = soup.find(\"div\", {\"id\": \"content\"})"
   ]
  },
  {
   "cell_type": "markdown",
   "metadata": {},
   "source": [
    "Get table"
   ]
  },
  {
   "cell_type": "code",
   "execution_count": 10,
   "metadata": {
    "execution": {
     "iopub.execute_input": "2023-01-20T16:19:32.290992Z",
     "iopub.status.busy": "2023-01-20T16:19:32.290549Z",
     "iopub.status.idle": "2023-01-20T16:19:32.294689Z",
     "shell.execute_reply": "2023-01-20T16:19:32.294351Z"
    }
   },
   "outputs": [],
   "source": [
    "for tag in content.find_all(text=re.compile(\"CITY/COMMUNITY\")):\n",
    "    table = tag.findParent(\"table\")"
   ]
  },
  {
   "cell_type": "code",
   "execution_count": 11,
   "metadata": {
    "execution": {
     "iopub.execute_input": "2023-01-20T16:19:32.300063Z",
     "iopub.status.busy": "2023-01-20T16:19:32.299348Z",
     "iopub.status.idle": "2023-01-20T16:19:32.301205Z",
     "shell.execute_reply": "2023-01-20T16:19:32.300834Z"
    }
   },
   "outputs": [],
   "source": [
    "tbody = soup.tbody"
   ]
  },
  {
   "cell_type": "code",
   "execution_count": 12,
   "metadata": {
    "execution": {
     "iopub.execute_input": "2023-01-20T16:19:32.306752Z",
     "iopub.status.busy": "2023-01-20T16:19:32.306323Z",
     "iopub.status.idle": "2023-01-20T16:19:32.307924Z",
     "shell.execute_reply": "2023-01-20T16:19:32.308262Z"
    }
   },
   "outputs": [],
   "source": [
    "row_list = tbody.find_all(\"tr\")"
   ]
  },
  {
   "cell_type": "code",
   "execution_count": 13,
   "metadata": {
    "execution": {
     "iopub.execute_input": "2023-01-20T16:19:32.311492Z",
     "iopub.status.busy": "2023-01-20T16:19:32.310615Z",
     "iopub.status.idle": "2023-01-20T16:19:32.313209Z",
     "shell.execute_reply": "2023-01-20T16:19:32.312871Z"
    }
   },
   "outputs": [],
   "source": [
    "dict_list = []"
   ]
  },
  {
   "cell_type": "code",
   "execution_count": 14,
   "metadata": {
    "execution": {
     "iopub.execute_input": "2023-01-20T16:19:32.316580Z",
     "iopub.status.busy": "2023-01-20T16:19:32.316178Z",
     "iopub.status.idle": "2023-01-20T16:19:32.320492Z",
     "shell.execute_reply": "2023-01-20T16:19:32.320100Z"
    }
   },
   "outputs": [],
   "source": [
    "def safetxt(element):\n",
    "    v = element.text.strip()\n",
    "    v = v.replace(\"\\u200b\", \"\")\n",
    "    return v"
   ]
  },
  {
   "cell_type": "code",
   "execution_count": 15,
   "metadata": {
    "execution": {
     "iopub.execute_input": "2023-01-20T16:19:32.324211Z",
     "iopub.status.busy": "2023-01-20T16:19:32.323769Z",
     "iopub.status.idle": "2023-01-20T16:19:32.328698Z",
     "shell.execute_reply": "2023-01-20T16:19:32.328361Z"
    }
   },
   "outputs": [],
   "source": [
    "def safenumber(element):\n",
    "    v = safetxt(element)\n",
    "    v = v.replace(\",\", \"\")\n",
    "    v = v.replace(\" \", \"\")\n",
    "    return v"
   ]
  },
  {
   "cell_type": "code",
   "execution_count": 16,
   "metadata": {
    "execution": {
     "iopub.execute_input": "2023-01-20T16:19:32.335748Z",
     "iopub.status.busy": "2023-01-20T16:19:32.335336Z",
     "iopub.status.idle": "2023-01-20T16:19:32.346376Z",
     "shell.execute_reply": "2023-01-20T16:19:32.345989Z"
    }
   },
   "outputs": [],
   "source": [
    "for row in row_list:\n",
    "    cell_content = row.find_all(\"td\")\n",
    "    d = dict(\n",
    "        county=\"Los Angeles\",\n",
    "        area=safetxt(cell_content[0]),\n",
    "        confirmed_cases=safenumber(cell_content[1]),\n",
    "        confirmed_deaths=safenumber(cell_content[3]),\n",
    "    )\n",
    "    dict_list.append(d)"
   ]
  },
  {
   "cell_type": "code",
   "execution_count": 17,
   "metadata": {
    "execution": {
     "iopub.execute_input": "2023-01-20T16:19:32.350857Z",
     "iopub.status.busy": "2023-01-20T16:19:32.350163Z",
     "iopub.status.idle": "2023-01-20T16:19:32.354424Z",
     "shell.execute_reply": "2023-01-20T16:19:32.353754Z"
    }
   },
   "outputs": [],
   "source": [
    "df = pd.DataFrame(dict_list)"
   ]
  },
  {
   "cell_type": "markdown",
   "metadata": {},
   "source": [
    "Get timestamp"
   ]
  },
  {
   "cell_type": "code",
   "execution_count": 18,
   "metadata": {
    "execution": {
     "iopub.execute_input": "2023-01-20T16:19:32.358695Z",
     "iopub.status.busy": "2023-01-20T16:19:32.356190Z",
     "iopub.status.idle": "2023-01-20T16:19:32.361056Z",
     "shell.execute_reply": "2023-01-20T16:19:32.360687Z"
    }
   },
   "outputs": [],
   "source": [
    "date_url = \"http://publichealth.lacounty.gov/media/Coronavirus/js/casecounter.js\""
   ]
  },
  {
   "cell_type": "code",
   "execution_count": 19,
   "metadata": {
    "execution": {
     "iopub.execute_input": "2023-01-20T16:19:32.367374Z",
     "iopub.status.busy": "2023-01-20T16:19:32.363723Z",
     "iopub.status.idle": "2023-01-20T16:19:32.674617Z",
     "shell.execute_reply": "2023-01-20T16:19:32.675002Z"
    }
   },
   "outputs": [],
   "source": [
    "response = requests.get(date_url)\n",
    "date_page = response.text"
   ]
  },
  {
   "cell_type": "code",
   "execution_count": 20,
   "metadata": {
    "execution": {
     "iopub.execute_input": "2023-01-20T16:19:32.683640Z",
     "iopub.status.busy": "2023-01-20T16:19:32.682407Z",
     "iopub.status.idle": "2023-01-20T16:19:32.689001Z",
     "shell.execute_reply": "2023-01-20T16:19:32.688616Z"
    }
   },
   "outputs": [
    {
     "data": {
      "text/plain": [
       "'$( document ).ready(function() {\\r\\n    var data = {\\r\\n\\t\\t\\t\\t    \"content\": { \\r\\n\\t\\t\\r\\n\\t\\t\\t\"count\": \"3,665,365\",\\r\\n\\r\\n\\r\\n\\t\\t\\t\"death\": \"35,079\",\\r\\n\\r\\n\\t\\t\\t\"dailycount\": \"1,502\",\\r\\n\\r\\n\\r\\n\\t\\t\\t\"dailydeath\": \"31\",\\r\\n\\t\\t\\t\"hospitalizationsever\": \"169,328\",\\r\\n\\r\\n\\r\\n\\t\\t\\t\"date\": \"01/19/23\",\\r\\n\\t\\t\\t\"info\": \"through 12:00pm 01/18/2023\",\\r\\n\\r\\n\\t\\t\\t\"testingaverage\": \"24,421\",\\r\\n\\r\\n\\t\\t\\t\"peopletested\": \"12,863,504\",\\r\\n\\r\\n\\t\\t\\t\"positivity\": \"6.35%\",\\r\\n\\r\\n\\t\\t\\t\"hospitalizations\": \"918\",\\r\\n\\t\\t\\t\"datehospitalizations\": \"01/18/23\"\\r\\n\\r\\n\\t\\t\\t\\t}       \\r\\n\\t\\t\\t\\t};\\t\\r\\n\\t\\t\\t\\t\\r\\n\\t\\t\\t\\t\\r\\n\\t\\t\\t\\tvar content = data.content;\\r\\n\\t\\t\\t\\t\\r\\n\\t\\t\\t\\t$(\\'#ctn\\').html(content.count);\\r\\n\\t\\t\\t\\t$(\\'#det\\').html(content.death);\\r\\n\\t\\t\\t\\t$(\\'#dctn\\').html(content.dailycount);\\r\\n\\t\\t\\t\\t$(\\'#ddet\\').html(content.dailydeath);\\r\\n\\t\\t\\t\\t$(\\'#hosp_1\\').html(content.hospitalizationsever);\\r\\n\\t\\t\\t\\t$(\\'#dte\\').html(content.date);\\r\\n\\t\\t\\t\\t$(\\'#dte_1\\').html(content.date);\\r\\n\\t\\t\\t\\t$(\\'#dte_2\\').html(content.date);\\r\\n\\t\\t\\t\\t$(\\'#dte_3\\').html(content.datehospitalizations);\\r\\n\\t\\t\\t\\t$(\\'#cse\\').html(content.info);\\t\\r\\n\\t\\t\\t\\r\\n\\t\\t\\t\\t\\r\\n\\t\\t\\t\\t$(\\'#tstavg\\').html(content.testingaverage);\\t\\r\\n\\t\\t\\t\\t$(\\'#ppltst\\').html(content.peopletested);\\t\\r\\n\\t\\t\\t\\t$(\\'#pos\\').html(content.positivity);\\t\\r\\n\\t\\t\\t\\t$(\\'#hosp\\').html(content.hospitalizations);\\r\\n\\t\\t\\t\\r\\n\\t\\t\\t\\t\\t\\t\\t\\r\\n\\r\\n\\r\\n});\\r\\n\\r\\n\\r\\n\\r\\n'"
      ]
     },
     "execution_count": 20,
     "metadata": {},
     "output_type": "execute_result"
    }
   ],
   "source": [
    "date_page"
   ]
  },
  {
   "cell_type": "code",
   "execution_count": 21,
   "metadata": {
    "execution": {
     "iopub.execute_input": "2023-01-20T16:19:32.692867Z",
     "iopub.status.busy": "2023-01-20T16:19:32.690876Z",
     "iopub.status.idle": "2023-01-20T16:19:32.695300Z",
     "shell.execute_reply": "2023-01-20T16:19:32.694921Z"
    }
   },
   "outputs": [],
   "source": [
    "# date_text = re.search(r\"([0-9][0-9]/[0-9][0-9])\", date_page).group(1)\n",
    "# date_text = date_text + \"/\" + str(date.today().year)"
   ]
  },
  {
   "cell_type": "code",
   "execution_count": 22,
   "metadata": {
    "execution": {
     "iopub.execute_input": "2023-01-20T16:19:32.699082Z",
     "iopub.status.busy": "2023-01-20T16:19:32.697140Z",
     "iopub.status.idle": "2023-01-20T16:19:32.702464Z",
     "shell.execute_reply": "2023-01-20T16:19:32.702838Z"
    }
   },
   "outputs": [],
   "source": [
    "date_text = re.search(r\"through (.+?)\\\"\", date_page).group(1)"
   ]
  },
  {
   "cell_type": "code",
   "execution_count": 23,
   "metadata": {
    "execution": {
     "iopub.execute_input": "2023-01-20T16:19:32.707538Z",
     "iopub.status.busy": "2023-01-20T16:19:32.706568Z",
     "iopub.status.idle": "2023-01-20T16:19:32.710418Z",
     "shell.execute_reply": "2023-01-20T16:19:32.710941Z"
    }
   },
   "outputs": [],
   "source": [
    "date_text = date_text.split(\"m \")[0]"
   ]
  },
  {
   "cell_type": "code",
   "execution_count": 24,
   "metadata": {
    "execution": {
     "iopub.execute_input": "2023-01-20T16:19:32.716512Z",
     "iopub.status.busy": "2023-01-20T16:19:32.716036Z",
     "iopub.status.idle": "2023-01-20T16:19:32.719062Z",
     "shell.execute_reply": "2023-01-20T16:19:32.718437Z"
    }
   },
   "outputs": [],
   "source": [
    "latest_date = pd.to_datetime(date_text).date()"
   ]
  },
  {
   "cell_type": "code",
   "execution_count": 25,
   "metadata": {
    "execution": {
     "iopub.execute_input": "2023-01-20T16:19:32.723259Z",
     "iopub.status.busy": "2023-01-20T16:19:32.722038Z",
     "iopub.status.idle": "2023-01-20T16:19:32.725805Z",
     "shell.execute_reply": "2023-01-20T16:19:32.725227Z"
    }
   },
   "outputs": [],
   "source": [
    "df[\"county_date\"] = latest_date"
   ]
  },
  {
   "cell_type": "code",
   "execution_count": 26,
   "metadata": {
    "execution": {
     "iopub.execute_input": "2023-01-20T16:19:32.731091Z",
     "iopub.status.busy": "2023-01-20T16:19:32.730677Z",
     "iopub.status.idle": "2023-01-20T16:19:32.733496Z",
     "shell.execute_reply": "2023-01-20T16:19:32.733146Z"
    }
   },
   "outputs": [],
   "source": [
    "df.loc[df.area == \"-  Under Investigation\", \"area\"] = \"Under Investigation\""
   ]
  },
  {
   "cell_type": "code",
   "execution_count": 27,
   "metadata": {
    "execution": {
     "iopub.execute_input": "2023-01-20T16:19:32.738858Z",
     "iopub.status.busy": "2023-01-20T16:19:32.738439Z",
     "iopub.status.idle": "2023-01-20T16:19:32.741187Z",
     "shell.execute_reply": "2023-01-20T16:19:32.740851Z"
    }
   },
   "outputs": [],
   "source": [
    "df.loc[df.area == \"- Under Investigation\", \"area\"] = \"Under Investigation\""
   ]
  },
  {
   "cell_type": "markdown",
   "metadata": {},
   "source": [
    "## Vet"
   ]
  },
  {
   "cell_type": "code",
   "execution_count": 28,
   "metadata": {
    "execution": {
     "iopub.execute_input": "2023-01-20T16:19:32.746101Z",
     "iopub.status.busy": "2023-01-20T16:19:32.745673Z",
     "iopub.status.idle": "2023-01-20T16:19:32.748819Z",
     "shell.execute_reply": "2023-01-20T16:19:32.748443Z"
    }
   },
   "outputs": [],
   "source": [
    "try:\n",
    "    assert not len(df) > 342\n",
    "except AssertionError:\n",
    "    raise AssertionError(\"L.A. County's scraper has extra rows\")"
   ]
  },
  {
   "cell_type": "code",
   "execution_count": 29,
   "metadata": {
    "execution": {
     "iopub.execute_input": "2023-01-20T16:19:32.751896Z",
     "iopub.status.busy": "2023-01-20T16:19:32.751470Z",
     "iopub.status.idle": "2023-01-20T16:19:32.874745Z",
     "shell.execute_reply": "2023-01-20T16:19:32.871744Z"
    }
   },
   "outputs": [
    {
     "ename": "AssertionError",
     "evalue": "L.A. County's scraper is missing rows",
     "output_type": "error",
     "traceback": [
      "\u001b[0;31m---------------------------------------------------------------------------\u001b[0m",
      "\u001b[0;31mAssertionError\u001b[0m                            Traceback (most recent call last)",
      "\u001b[0;32m/tmp/ipykernel_2193/2999864733.py\u001b[0m in \u001b[0;36m<module>\u001b[0;34m\u001b[0m\n\u001b[1;32m      1\u001b[0m \u001b[0;32mtry\u001b[0m\u001b[0;34m:\u001b[0m\u001b[0;34m\u001b[0m\u001b[0;34m\u001b[0m\u001b[0m\n\u001b[0;32m----> 2\u001b[0;31m     \u001b[0;32massert\u001b[0m \u001b[0;32mnot\u001b[0m \u001b[0mlen\u001b[0m\u001b[0;34m(\u001b[0m\u001b[0mdf\u001b[0m\u001b[0;34m)\u001b[0m \u001b[0;34m<\u001b[0m \u001b[0;36m342\u001b[0m\u001b[0;34m\u001b[0m\u001b[0;34m\u001b[0m\u001b[0m\n\u001b[0m\u001b[1;32m      3\u001b[0m \u001b[0;32mexcept\u001b[0m \u001b[0mAssertionError\u001b[0m\u001b[0;34m:\u001b[0m\u001b[0;34m\u001b[0m\u001b[0;34m\u001b[0m\u001b[0m\n",
      "\u001b[0;31mAssertionError\u001b[0m: ",
      "\nDuring handling of the above exception, another exception occurred:\n",
      "\u001b[0;31mAssertionError\u001b[0m                            Traceback (most recent call last)",
      "\u001b[0;32m/tmp/ipykernel_2193/2999864733.py\u001b[0m in \u001b[0;36m<module>\u001b[0;34m\u001b[0m\n\u001b[1;32m      2\u001b[0m     \u001b[0;32massert\u001b[0m \u001b[0;32mnot\u001b[0m \u001b[0mlen\u001b[0m\u001b[0;34m(\u001b[0m\u001b[0mdf\u001b[0m\u001b[0;34m)\u001b[0m \u001b[0;34m<\u001b[0m \u001b[0;36m342\u001b[0m\u001b[0;34m\u001b[0m\u001b[0;34m\u001b[0m\u001b[0m\n\u001b[1;32m      3\u001b[0m \u001b[0;32mexcept\u001b[0m \u001b[0mAssertionError\u001b[0m\u001b[0;34m:\u001b[0m\u001b[0;34m\u001b[0m\u001b[0;34m\u001b[0m\u001b[0m\n\u001b[0;32m----> 4\u001b[0;31m     \u001b[0;32mraise\u001b[0m \u001b[0mAssertionError\u001b[0m\u001b[0;34m(\u001b[0m\u001b[0;34m\"L.A. County's scraper is missing rows\"\u001b[0m\u001b[0;34m)\u001b[0m\u001b[0;34m\u001b[0m\u001b[0;34m\u001b[0m\u001b[0m\n\u001b[0m",
      "\u001b[0;31mAssertionError\u001b[0m: L.A. County's scraper is missing rows"
     ]
    }
   ],
   "source": [
    "try:\n",
    "    assert not len(df) < 342\n",
    "except AssertionError:\n",
    "    raise AssertionError(\"L.A. County's scraper is missing rows\")"
   ]
  },
  {
   "cell_type": "markdown",
   "metadata": {},
   "source": [
    "## Export"
   ]
  },
  {
   "cell_type": "markdown",
   "metadata": {},
   "source": [
    "Set the date"
   ]
  },
  {
   "cell_type": "code",
   "execution_count": 67,
   "metadata": {},
   "outputs": [],
   "source": [
    "tz = pytz.timezone(\"America/Los_Angeles\")"
   ]
  },
  {
   "cell_type": "code",
   "execution_count": 68,
   "metadata": {},
   "outputs": [],
   "source": [
    "today = datetime.now(tz).date()"
   ]
  },
  {
   "cell_type": "code",
   "execution_count": 69,
   "metadata": {},
   "outputs": [],
   "source": [
    "slug = \"los-angeles\""
   ]
  },
  {
   "cell_type": "code",
   "execution_count": 70,
   "metadata": {},
   "outputs": [],
   "source": [
    "df.to_csv(data_dir / slug / f\"{today}.csv\", index=False)"
   ]
  },
  {
   "cell_type": "markdown",
   "metadata": {},
   "source": [
    "## Combine"
   ]
  },
  {
   "cell_type": "code",
   "execution_count": 71,
   "metadata": {},
   "outputs": [],
   "source": [
    "csv_list = [\n",
    "    i\n",
    "    for i in glob.glob(str(data_dir / slug / \"*.csv\"))\n",
    "    if not str(i).endswith(\"timeseries.csv\")\n",
    "]"
   ]
  },
  {
   "cell_type": "code",
   "execution_count": 72,
   "metadata": {},
   "outputs": [],
   "source": [
    "df_list = []\n",
    "for csv in csv_list:\n",
    "    if \"manual\" in csv:\n",
    "        df = pd.read_csv(csv, parse_dates=[\"date\"])\n",
    "    else:\n",
    "        file_date = csv.split(\"/\")[-1].replace(\".csv\", \"\")\n",
    "        df = pd.read_csv(csv, parse_dates=[\"county_date\"])\n",
    "        df[\"date\"] = file_date\n",
    "    df_list.append(df)"
   ]
  },
  {
   "cell_type": "code",
   "execution_count": 73,
   "metadata": {},
   "outputs": [],
   "source": [
    "df = pd.concat(df_list).sort_values([\"date\", \"area\"])"
   ]
  },
  {
   "cell_type": "code",
   "execution_count": 74,
   "metadata": {},
   "outputs": [],
   "source": [
    "df.to_csv(data_dir / slug / \"timeseries.csv\", index=False)"
   ]
  },
  {
   "cell_type": "code",
   "execution_count": null,
   "metadata": {},
   "outputs": [],
   "source": []
  },
  {
   "cell_type": "code",
   "execution_count": null,
   "metadata": {},
   "outputs": [],
   "source": []
  }
 ],
 "metadata": {
  "kernelspec": {
   "display_name": "Python 3 (ipykernel)",
   "language": "python",
   "name": "python3"
  },
  "language_info": {
   "codemirror_mode": {
    "name": "ipython",
    "version": 3
   },
   "file_extension": ".py",
   "mimetype": "text/x-python",
   "name": "python",
   "nbconvert_exporter": "python",
   "pygments_lexer": "ipython3",
   "version": "3.8.16"
  }
 },
 "nbformat": 4,
 "nbformat_minor": 4
}
