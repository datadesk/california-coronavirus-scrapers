{
 "cells": [
  {
   "cell_type": "markdown",
   "metadata": {
    "tags": []
   },
   "source": [
    "## Configuration\n",
    "_Initial steps to get the notebook ready to play nice with our repository. Do not delete this section._"
   ]
  },
  {
   "cell_type": "markdown",
   "metadata": {},
   "source": [
    "Code formatting with [black](https://pypi.org/project/nb-black/)."
   ]
  },
  {
   "cell_type": "code",
   "execution_count": 1,
   "metadata": {
    "execution": {
     "iopub.execute_input": "2023-02-02T00:29:34.499651Z",
     "iopub.status.busy": "2023-02-02T00:29:34.499251Z",
     "iopub.status.idle": "2023-02-02T00:29:34.637461Z",
     "shell.execute_reply": "2023-02-02T00:29:34.636959Z"
    }
   },
   "outputs": [],
   "source": [
    "%load_ext lab_black"
   ]
  },
  {
   "cell_type": "code",
   "execution_count": 2,
   "metadata": {
    "execution": {
     "iopub.execute_input": "2023-02-02T00:29:34.643290Z",
     "iopub.status.busy": "2023-02-02T00:29:34.642361Z",
     "iopub.status.idle": "2023-02-02T00:29:34.643769Z",
     "shell.execute_reply": "2023-02-02T00:29:34.644107Z"
    }
   },
   "outputs": [],
   "source": [
    "import os\n",
    "import pathlib"
   ]
  },
  {
   "cell_type": "code",
   "execution_count": 3,
   "metadata": {
    "execution": {
     "iopub.execute_input": "2023-02-02T00:29:34.650818Z",
     "iopub.status.busy": "2023-02-02T00:29:34.649761Z",
     "iopub.status.idle": "2023-02-02T00:29:34.651295Z",
     "shell.execute_reply": "2023-02-02T00:29:34.651642Z"
    }
   },
   "outputs": [],
   "source": [
    "this_dir = pathlib.Path(os.path.abspath(\"\"))"
   ]
  },
  {
   "cell_type": "code",
   "execution_count": 4,
   "metadata": {
    "execution": {
     "iopub.execute_input": "2023-02-02T00:29:34.654812Z",
     "iopub.status.busy": "2023-02-02T00:29:34.654390Z",
     "iopub.status.idle": "2023-02-02T00:29:34.656850Z",
     "shell.execute_reply": "2023-02-02T00:29:34.657175Z"
    }
   },
   "outputs": [],
   "source": [
    "data_dir = this_dir / \"data\""
   ]
  },
  {
   "cell_type": "code",
   "execution_count": 5,
   "metadata": {
    "execution": {
     "iopub.execute_input": "2023-02-02T00:29:34.660455Z",
     "iopub.status.busy": "2023-02-02T00:29:34.660035Z",
     "iopub.status.idle": "2023-02-02T00:29:35.033338Z",
     "shell.execute_reply": "2023-02-02T00:29:35.032936Z"
    }
   },
   "outputs": [],
   "source": [
    "import re\n",
    "import pytz\n",
    "import glob\n",
    "import requests\n",
    "import unicodedata\n",
    "import pandas as pd\n",
    "from slugify import slugify\n",
    "from bs4 import BeautifulSoup\n",
    "from datetime import datetime, date"
   ]
  },
  {
   "cell_type": "markdown",
   "metadata": {},
   "source": [
    "## Download"
   ]
  },
  {
   "cell_type": "markdown",
   "metadata": {},
   "source": [
    "Retrieve the page"
   ]
  },
  {
   "cell_type": "code",
   "execution_count": 6,
   "metadata": {
    "execution": {
     "iopub.execute_input": "2023-02-02T00:29:35.037509Z",
     "iopub.status.busy": "2023-02-02T00:29:35.037084Z",
     "iopub.status.idle": "2023-02-02T00:29:35.039029Z",
     "shell.execute_reply": "2023-02-02T00:29:35.038690Z"
    }
   },
   "outputs": [],
   "source": [
    "url = \"http://publichealth.lacounty.gov/media/Coronavirus/locations.htm\""
   ]
  },
  {
   "cell_type": "code",
   "execution_count": 7,
   "metadata": {
    "execution": {
     "iopub.execute_input": "2023-02-02T00:29:35.045358Z",
     "iopub.status.busy": "2023-02-02T00:29:35.044939Z",
     "iopub.status.idle": "2023-02-02T00:29:35.470876Z",
     "shell.execute_reply": "2023-02-02T00:29:35.470457Z"
    }
   },
   "outputs": [],
   "source": [
    "page = requests.get(url)"
   ]
  },
  {
   "cell_type": "markdown",
   "metadata": {},
   "source": [
    "## Parse"
   ]
  },
  {
   "cell_type": "code",
   "execution_count": 8,
   "metadata": {
    "execution": {
     "iopub.execute_input": "2023-02-02T00:29:35.478605Z",
     "iopub.status.busy": "2023-02-02T00:29:35.478157Z",
     "iopub.status.idle": "2023-02-02T00:29:35.607717Z",
     "shell.execute_reply": "2023-02-02T00:29:35.606913Z"
    }
   },
   "outputs": [],
   "source": [
    "soup = BeautifulSoup(page.content, \"html.parser\")"
   ]
  },
  {
   "cell_type": "markdown",
   "metadata": {},
   "source": [
    "Get content well"
   ]
  },
  {
   "cell_type": "code",
   "execution_count": 9,
   "metadata": {
    "execution": {
     "iopub.execute_input": "2023-02-02T00:29:35.613659Z",
     "iopub.status.busy": "2023-02-02T00:29:35.613221Z",
     "iopub.status.idle": "2023-02-02T00:29:35.616600Z",
     "shell.execute_reply": "2023-02-02T00:29:35.616214Z"
    }
   },
   "outputs": [],
   "source": [
    "content = soup.find(\"div\", {\"id\": \"content\"})"
   ]
  },
  {
   "cell_type": "markdown",
   "metadata": {},
   "source": [
    "Get table"
   ]
  },
  {
   "cell_type": "code",
   "execution_count": 10,
   "metadata": {
    "execution": {
     "iopub.execute_input": "2023-02-02T00:29:35.630834Z",
     "iopub.status.busy": "2023-02-02T00:29:35.628342Z",
     "iopub.status.idle": "2023-02-02T00:29:35.634286Z",
     "shell.execute_reply": "2023-02-02T00:29:35.633556Z"
    }
   },
   "outputs": [],
   "source": [
    "for tag in content.find_all(text=re.compile(\"CITY/COMMUNITY\")):\n",
    "    table = tag.findParent(\"table\")"
   ]
  },
  {
   "cell_type": "code",
   "execution_count": 11,
   "metadata": {
    "execution": {
     "iopub.execute_input": "2023-02-02T00:29:35.639543Z",
     "iopub.status.busy": "2023-02-02T00:29:35.639112Z",
     "iopub.status.idle": "2023-02-02T00:29:35.641469Z",
     "shell.execute_reply": "2023-02-02T00:29:35.642039Z"
    }
   },
   "outputs": [],
   "source": [
    "tbody = soup.tbody"
   ]
  },
  {
   "cell_type": "code",
   "execution_count": 12,
   "metadata": {
    "execution": {
     "iopub.execute_input": "2023-02-02T00:29:35.647051Z",
     "iopub.status.busy": "2023-02-02T00:29:35.646334Z",
     "iopub.status.idle": "2023-02-02T00:29:35.650749Z",
     "shell.execute_reply": "2023-02-02T00:29:35.650059Z"
    }
   },
   "outputs": [],
   "source": [
    "row_list = tbody.find_all(\"tr\")"
   ]
  },
  {
   "cell_type": "code",
   "execution_count": 13,
   "metadata": {
    "execution": {
     "iopub.execute_input": "2023-02-02T00:29:35.654719Z",
     "iopub.status.busy": "2023-02-02T00:29:35.652450Z",
     "iopub.status.idle": "2023-02-02T00:29:35.656769Z",
     "shell.execute_reply": "2023-02-02T00:29:35.657133Z"
    }
   },
   "outputs": [],
   "source": [
    "dict_list = []"
   ]
  },
  {
   "cell_type": "code",
   "execution_count": 14,
   "metadata": {
    "execution": {
     "iopub.execute_input": "2023-02-02T00:29:35.662984Z",
     "iopub.status.busy": "2023-02-02T00:29:35.662400Z",
     "iopub.status.idle": "2023-02-02T00:29:35.665937Z",
     "shell.execute_reply": "2023-02-02T00:29:35.665558Z"
    }
   },
   "outputs": [],
   "source": [
    "def safetxt(element):\n",
    "    v = element.text.strip()\n",
    "    v = v.replace(\"\\u200b\", \"\")\n",
    "    return v"
   ]
  },
  {
   "cell_type": "code",
   "execution_count": 15,
   "metadata": {
    "execution": {
     "iopub.execute_input": "2023-02-02T00:29:35.672664Z",
     "iopub.status.busy": "2023-02-02T00:29:35.672091Z",
     "iopub.status.idle": "2023-02-02T00:29:35.674696Z",
     "shell.execute_reply": "2023-02-02T00:29:35.675050Z"
    }
   },
   "outputs": [],
   "source": [
    "def safenumber(element):\n",
    "    v = safetxt(element)\n",
    "    v = v.replace(\",\", \"\")\n",
    "    v = v.replace(\" \", \"\")\n",
    "    return v"
   ]
  },
  {
   "cell_type": "code",
   "execution_count": 16,
   "metadata": {
    "execution": {
     "iopub.execute_input": "2023-02-02T00:29:35.685634Z",
     "iopub.status.busy": "2023-02-02T00:29:35.685194Z",
     "iopub.status.idle": "2023-02-02T00:29:35.693224Z",
     "shell.execute_reply": "2023-02-02T00:29:35.692832Z"
    }
   },
   "outputs": [],
   "source": [
    "for row in row_list:\n",
    "    cell_content = row.find_all(\"td\")\n",
    "    d = dict(\n",
    "        county=\"Los Angeles\",\n",
    "        area=safetxt(cell_content[0]),\n",
    "        confirmed_cases=safenumber(cell_content[1]),\n",
    "        confirmed_deaths=safenumber(cell_content[3]),\n",
    "    )\n",
    "    dict_list.append(d)"
   ]
  },
  {
   "cell_type": "code",
   "execution_count": 17,
   "metadata": {
    "execution": {
     "iopub.execute_input": "2023-02-02T00:29:35.698118Z",
     "iopub.status.busy": "2023-02-02T00:29:35.697698Z",
     "iopub.status.idle": "2023-02-02T00:29:35.700581Z",
     "shell.execute_reply": "2023-02-02T00:29:35.700051Z"
    }
   },
   "outputs": [],
   "source": [
    "df = pd.DataFrame(dict_list)"
   ]
  },
  {
   "cell_type": "markdown",
   "metadata": {},
   "source": [
    "Get timestamp"
   ]
  },
  {
   "cell_type": "code",
   "execution_count": 18,
   "metadata": {
    "execution": {
     "iopub.execute_input": "2023-02-02T00:29:35.704457Z",
     "iopub.status.busy": "2023-02-02T00:29:35.702388Z",
     "iopub.status.idle": "2023-02-02T00:29:35.706759Z",
     "shell.execute_reply": "2023-02-02T00:29:35.707123Z"
    }
   },
   "outputs": [],
   "source": [
    "date_url = \"http://publichealth.lacounty.gov/media/Coronavirus/js/casecounter.js\""
   ]
  },
  {
   "cell_type": "code",
   "execution_count": 19,
   "metadata": {
    "execution": {
     "iopub.execute_input": "2023-02-02T00:29:35.713305Z",
     "iopub.status.busy": "2023-02-02T00:29:35.709845Z",
     "iopub.status.idle": "2023-02-02T00:29:36.031157Z",
     "shell.execute_reply": "2023-02-02T00:29:36.030746Z"
    }
   },
   "outputs": [],
   "source": [
    "response = requests.get(date_url)\n",
    "date_page = response.text"
   ]
  },
  {
   "cell_type": "code",
   "execution_count": 20,
   "metadata": {
    "execution": {
     "iopub.execute_input": "2023-02-02T00:29:36.039920Z",
     "iopub.status.busy": "2023-02-02T00:29:36.038504Z",
     "iopub.status.idle": "2023-02-02T00:29:36.045256Z",
     "shell.execute_reply": "2023-02-02T00:29:36.044860Z"
    }
   },
   "outputs": [
    {
     "data": {
      "text/plain": [
       "'$( document ).ready(function() {\\r\\n    var data = {\\r\\n\\t\\t\\t\\t    \"content\": { \\r\\n\\t\\t\\r\\n\\t\\t\\t\"count\": \"3,677,849\",\\r\\n\\r\\n\\r\\n\\t\\t\\t\"death\": \"35,294\",\\r\\n\\r\\n\\t\\t\\t\"dailycount\": \"1,625\",\\r\\n\\r\\n\\r\\n\\t\\t\\t\"dailydeath\": \"13\",\\r\\n\\t\\t\\t\"hospitalizationsever\": \"170,408\",\\r\\n\\r\\n\\r\\n\\t\\t\\t\"date\": \"02/01/23\",\\r\\n\\t\\t\\t\"info\": \"through 12:00pm 01/31/2023\",\\r\\n\\r\\n\\t\\t\\t\"testingaverage\": \"22,164\",\\r\\n\\r\\n\\t\\t\\t\"peopletested\": \"12,890,733\",\\r\\n\\r\\n\\t\\t\\t\"positivity\": \"4.55%\",\\r\\n\\r\\n\\t\\t\\t\"hospitalizations\": \"747\",\\r\\n\\t\\t\\t\"datehospitalizations\": \"01/31/23\"\\r\\n\\r\\n\\t\\t\\t\\t}       \\r\\n\\t\\t\\t\\t};\\t\\r\\n\\t\\t\\t\\t\\r\\n\\t\\t\\t\\t\\r\\n\\t\\t\\t\\tvar content = data.content;\\r\\n\\t\\t\\t\\t\\r\\n\\t\\t\\t\\t$(\\'#ctn\\').html(content.count);\\r\\n\\t\\t\\t\\t$(\\'#det\\').html(content.death);\\r\\n\\t\\t\\t\\t$(\\'#dctn\\').html(content.dailycount);\\r\\n\\t\\t\\t\\t$(\\'#ddet\\').html(content.dailydeath);\\r\\n\\t\\t\\t\\t$(\\'#hosp_1\\').html(content.hospitalizationsever);\\r\\n\\t\\t\\t\\t$(\\'#dte\\').html(content.date);\\r\\n\\t\\t\\t\\t$(\\'#dte_1\\').html(content.date);\\r\\n\\t\\t\\t\\t$(\\'#dte_2\\').html(content.date);\\r\\n\\t\\t\\t\\t$(\\'#dte_3\\').html(content.datehospitalizations);\\r\\n\\t\\t\\t\\t$(\\'#cse\\').html(content.info);\\t\\r\\n\\t\\t\\t\\r\\n\\t\\t\\t\\t\\r\\n\\t\\t\\t\\t$(\\'#tstavg\\').html(content.testingaverage);\\t\\r\\n\\t\\t\\t\\t$(\\'#ppltst\\').html(content.peopletested);\\t\\r\\n\\t\\t\\t\\t$(\\'#pos\\').html(content.positivity);\\t\\r\\n\\t\\t\\t\\t$(\\'#hosp\\').html(content.hospitalizations);\\r\\n\\t\\t\\t\\r\\n\\t\\t\\t\\t\\t\\t\\t\\r\\n\\r\\n\\r\\n});\\r\\n\\r\\n\\r\\n\\r\\n'"
      ]
     },
     "execution_count": 20,
     "metadata": {},
     "output_type": "execute_result"
    }
   ],
   "source": [
    "date_page"
   ]
  },
  {
   "cell_type": "code",
   "execution_count": 21,
   "metadata": {
    "execution": {
     "iopub.execute_input": "2023-02-02T00:29:36.049157Z",
     "iopub.status.busy": "2023-02-02T00:29:36.048564Z",
     "iopub.status.idle": "2023-02-02T00:29:36.051104Z",
     "shell.execute_reply": "2023-02-02T00:29:36.051650Z"
    }
   },
   "outputs": [],
   "source": [
    "# date_text = re.search(r\"([0-9][0-9]/[0-9][0-9])\", date_page).group(1)\n",
    "# date_text = date_text + \"/\" + str(date.today().year)"
   ]
  },
  {
   "cell_type": "code",
   "execution_count": 22,
   "metadata": {
    "execution": {
     "iopub.execute_input": "2023-02-02T00:29:36.055516Z",
     "iopub.status.busy": "2023-02-02T00:29:36.053496Z",
     "iopub.status.idle": "2023-02-02T00:29:36.059569Z",
     "shell.execute_reply": "2023-02-02T00:29:36.059179Z"
    }
   },
   "outputs": [],
   "source": [
    "date_text = re.search(r\"through (.+?)\\\"\", date_page).group(1)"
   ]
  },
  {
   "cell_type": "code",
   "execution_count": 23,
   "metadata": {
    "execution": {
     "iopub.execute_input": "2023-02-02T00:29:36.064284Z",
     "iopub.status.busy": "2023-02-02T00:29:36.061537Z",
     "iopub.status.idle": "2023-02-02T00:29:36.067229Z",
     "shell.execute_reply": "2023-02-02T00:29:36.066689Z"
    }
   },
   "outputs": [],
   "source": [
    "date_text = date_text.split(\"m \")[0]"
   ]
  },
  {
   "cell_type": "code",
   "execution_count": 24,
   "metadata": {
    "execution": {
     "iopub.execute_input": "2023-02-02T00:29:36.072494Z",
     "iopub.status.busy": "2023-02-02T00:29:36.070626Z",
     "iopub.status.idle": "2023-02-02T00:29:36.075020Z",
     "shell.execute_reply": "2023-02-02T00:29:36.074474Z"
    }
   },
   "outputs": [],
   "source": [
    "latest_date = pd.to_datetime(date_text).date()"
   ]
  },
  {
   "cell_type": "code",
   "execution_count": 25,
   "metadata": {
    "execution": {
     "iopub.execute_input": "2023-02-02T00:29:36.079216Z",
     "iopub.status.busy": "2023-02-02T00:29:36.076870Z",
     "iopub.status.idle": "2023-02-02T00:29:36.082955Z",
     "shell.execute_reply": "2023-02-02T00:29:36.082178Z"
    }
   },
   "outputs": [],
   "source": [
    "df[\"county_date\"] = latest_date"
   ]
  },
  {
   "cell_type": "code",
   "execution_count": 26,
   "metadata": {
    "execution": {
     "iopub.execute_input": "2023-02-02T00:29:36.088477Z",
     "iopub.status.busy": "2023-02-02T00:29:36.087891Z",
     "iopub.status.idle": "2023-02-02T00:29:36.091437Z",
     "shell.execute_reply": "2023-02-02T00:29:36.091062Z"
    }
   },
   "outputs": [],
   "source": [
    "df.loc[df.area == \"-  Under Investigation\", \"area\"] = \"Under Investigation\""
   ]
  },
  {
   "cell_type": "code",
   "execution_count": 27,
   "metadata": {
    "execution": {
     "iopub.execute_input": "2023-02-02T00:29:36.096508Z",
     "iopub.status.busy": "2023-02-02T00:29:36.095921Z",
     "iopub.status.idle": "2023-02-02T00:29:36.099498Z",
     "shell.execute_reply": "2023-02-02T00:29:36.099121Z"
    }
   },
   "outputs": [],
   "source": [
    "df.loc[df.area == \"- Under Investigation\", \"area\"] = \"Under Investigation\""
   ]
  },
  {
   "cell_type": "markdown",
   "metadata": {},
   "source": [
    "## Vet"
   ]
  },
  {
   "cell_type": "code",
   "execution_count": 28,
   "metadata": {
    "execution": {
     "iopub.execute_input": "2023-02-02T00:29:36.103641Z",
     "iopub.status.busy": "2023-02-02T00:29:36.102573Z",
     "iopub.status.idle": "2023-02-02T00:29:36.107255Z",
     "shell.execute_reply": "2023-02-02T00:29:36.107794Z"
    }
   },
   "outputs": [],
   "source": [
    "try:\n",
    "    assert not len(df) > 342\n",
    "except AssertionError:\n",
    "    raise AssertionError(\"L.A. County's scraper has extra rows\")"
   ]
  },
  {
   "cell_type": "code",
   "execution_count": 29,
   "metadata": {
    "execution": {
     "iopub.execute_input": "2023-02-02T00:29:36.111295Z",
     "iopub.status.busy": "2023-02-02T00:29:36.110707Z",
     "iopub.status.idle": "2023-02-02T00:29:36.233349Z",
     "shell.execute_reply": "2023-02-02T00:29:36.231917Z"
    }
   },
   "outputs": [
    {
     "ename": "AssertionError",
     "evalue": "L.A. County's scraper is missing rows",
     "output_type": "error",
     "traceback": [
      "\u001b[0;31m---------------------------------------------------------------------------\u001b[0m",
      "\u001b[0;31mAssertionError\u001b[0m                            Traceback (most recent call last)",
      "\u001b[0;32m/tmp/ipykernel_2168/2999864733.py\u001b[0m in \u001b[0;36m<module>\u001b[0;34m\u001b[0m\n\u001b[1;32m      1\u001b[0m \u001b[0;32mtry\u001b[0m\u001b[0;34m:\u001b[0m\u001b[0;34m\u001b[0m\u001b[0;34m\u001b[0m\u001b[0m\n\u001b[0;32m----> 2\u001b[0;31m     \u001b[0;32massert\u001b[0m \u001b[0;32mnot\u001b[0m \u001b[0mlen\u001b[0m\u001b[0;34m(\u001b[0m\u001b[0mdf\u001b[0m\u001b[0;34m)\u001b[0m \u001b[0;34m<\u001b[0m \u001b[0;36m342\u001b[0m\u001b[0;34m\u001b[0m\u001b[0;34m\u001b[0m\u001b[0m\n\u001b[0m\u001b[1;32m      3\u001b[0m \u001b[0;32mexcept\u001b[0m \u001b[0mAssertionError\u001b[0m\u001b[0;34m:\u001b[0m\u001b[0;34m\u001b[0m\u001b[0;34m\u001b[0m\u001b[0m\n",
      "\u001b[0;31mAssertionError\u001b[0m: ",
      "\nDuring handling of the above exception, another exception occurred:\n",
      "\u001b[0;31mAssertionError\u001b[0m                            Traceback (most recent call last)",
      "\u001b[0;32m/tmp/ipykernel_2168/2999864733.py\u001b[0m in \u001b[0;36m<module>\u001b[0;34m\u001b[0m\n\u001b[1;32m      2\u001b[0m     \u001b[0;32massert\u001b[0m \u001b[0;32mnot\u001b[0m \u001b[0mlen\u001b[0m\u001b[0;34m(\u001b[0m\u001b[0mdf\u001b[0m\u001b[0;34m)\u001b[0m \u001b[0;34m<\u001b[0m \u001b[0;36m342\u001b[0m\u001b[0;34m\u001b[0m\u001b[0;34m\u001b[0m\u001b[0m\n\u001b[1;32m      3\u001b[0m \u001b[0;32mexcept\u001b[0m \u001b[0mAssertionError\u001b[0m\u001b[0;34m:\u001b[0m\u001b[0;34m\u001b[0m\u001b[0;34m\u001b[0m\u001b[0m\n\u001b[0;32m----> 4\u001b[0;31m     \u001b[0;32mraise\u001b[0m \u001b[0mAssertionError\u001b[0m\u001b[0;34m(\u001b[0m\u001b[0;34m\"L.A. County's scraper is missing rows\"\u001b[0m\u001b[0;34m)\u001b[0m\u001b[0;34m\u001b[0m\u001b[0;34m\u001b[0m\u001b[0m\n\u001b[0m",
      "\u001b[0;31mAssertionError\u001b[0m: L.A. County's scraper is missing rows"
     ]
    }
   ],
   "source": [
    "try:\n",
    "    assert not len(df) < 342\n",
    "except AssertionError:\n",
    "    raise AssertionError(\"L.A. County's scraper is missing rows\")"
   ]
  },
  {
   "cell_type": "markdown",
   "metadata": {},
   "source": [
    "## Export"
   ]
  },
  {
   "cell_type": "markdown",
   "metadata": {},
   "source": [
    "Set the date"
   ]
  },
  {
   "cell_type": "code",
   "execution_count": 67,
   "metadata": {},
   "outputs": [],
   "source": [
    "tz = pytz.timezone(\"America/Los_Angeles\")"
   ]
  },
  {
   "cell_type": "code",
   "execution_count": 68,
   "metadata": {},
   "outputs": [],
   "source": [
    "today = datetime.now(tz).date()"
   ]
  },
  {
   "cell_type": "code",
   "execution_count": 69,
   "metadata": {},
   "outputs": [],
   "source": [
    "slug = \"los-angeles\""
   ]
  },
  {
   "cell_type": "code",
   "execution_count": 70,
   "metadata": {},
   "outputs": [],
   "source": [
    "df.to_csv(data_dir / slug / f\"{today}.csv\", index=False)"
   ]
  },
  {
   "cell_type": "markdown",
   "metadata": {},
   "source": [
    "## Combine"
   ]
  },
  {
   "cell_type": "code",
   "execution_count": 71,
   "metadata": {},
   "outputs": [],
   "source": [
    "csv_list = [\n",
    "    i\n",
    "    for i in glob.glob(str(data_dir / slug / \"*.csv\"))\n",
    "    if not str(i).endswith(\"timeseries.csv\")\n",
    "]"
   ]
  },
  {
   "cell_type": "code",
   "execution_count": 72,
   "metadata": {},
   "outputs": [],
   "source": [
    "df_list = []\n",
    "for csv in csv_list:\n",
    "    if \"manual\" in csv:\n",
    "        df = pd.read_csv(csv, parse_dates=[\"date\"])\n",
    "    else:\n",
    "        file_date = csv.split(\"/\")[-1].replace(\".csv\", \"\")\n",
    "        df = pd.read_csv(csv, parse_dates=[\"county_date\"])\n",
    "        df[\"date\"] = file_date\n",
    "    df_list.append(df)"
   ]
  },
  {
   "cell_type": "code",
   "execution_count": 73,
   "metadata": {},
   "outputs": [],
   "source": [
    "df = pd.concat(df_list).sort_values([\"date\", \"area\"])"
   ]
  },
  {
   "cell_type": "code",
   "execution_count": 74,
   "metadata": {},
   "outputs": [],
   "source": [
    "df.to_csv(data_dir / slug / \"timeseries.csv\", index=False)"
   ]
  },
  {
   "cell_type": "code",
   "execution_count": null,
   "metadata": {},
   "outputs": [],
   "source": []
  },
  {
   "cell_type": "code",
   "execution_count": null,
   "metadata": {},
   "outputs": [],
   "source": []
  }
 ],
 "metadata": {
  "kernelspec": {
   "display_name": "Python 3 (ipykernel)",
   "language": "python",
   "name": "python3"
  },
  "language_info": {
   "codemirror_mode": {
    "name": "ipython",
    "version": 3
   },
   "file_extension": ".py",
   "mimetype": "text/x-python",
   "name": "python",
   "nbconvert_exporter": "python",
   "pygments_lexer": "ipython3",
   "version": "3.8.16"
  }
 },
 "nbformat": 4,
 "nbformat_minor": 4
}
