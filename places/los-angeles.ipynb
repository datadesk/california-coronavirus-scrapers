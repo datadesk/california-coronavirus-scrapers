{
 "cells": [
  {
   "cell_type": "markdown",
   "metadata": {
    "tags": []
   },
   "source": [
    "## Configuration\n",
    "_Initial steps to get the notebook ready to play nice with our repository. Do not delete this section._"
   ]
  },
  {
   "cell_type": "markdown",
   "metadata": {},
   "source": [
    "Code formatting with [black](https://pypi.org/project/nb-black/)."
   ]
  },
  {
   "cell_type": "code",
   "execution_count": 1,
   "metadata": {
    "execution": {
     "iopub.execute_input": "2023-01-19T16:20:03.140816Z",
     "iopub.status.busy": "2023-01-19T16:20:03.140367Z",
     "iopub.status.idle": "2023-01-19T16:20:03.297603Z",
     "shell.execute_reply": "2023-01-19T16:20:03.296975Z"
    }
   },
   "outputs": [],
   "source": [
    "%load_ext lab_black"
   ]
  },
  {
   "cell_type": "code",
   "execution_count": 2,
   "metadata": {
    "execution": {
     "iopub.execute_input": "2023-01-19T16:20:03.302108Z",
     "iopub.status.busy": "2023-01-19T16:20:03.301589Z",
     "iopub.status.idle": "2023-01-19T16:20:03.302879Z",
     "shell.execute_reply": "2023-01-19T16:20:03.303260Z"
    }
   },
   "outputs": [],
   "source": [
    "import os\n",
    "import pathlib"
   ]
  },
  {
   "cell_type": "code",
   "execution_count": 3,
   "metadata": {
    "execution": {
     "iopub.execute_input": "2023-01-19T16:20:03.309832Z",
     "iopub.status.busy": "2023-01-19T16:20:03.308777Z",
     "iopub.status.idle": "2023-01-19T16:20:03.310366Z",
     "shell.execute_reply": "2023-01-19T16:20:03.310734Z"
    }
   },
   "outputs": [],
   "source": [
    "this_dir = pathlib.Path(os.path.abspath(\"\"))"
   ]
  },
  {
   "cell_type": "code",
   "execution_count": 4,
   "metadata": {
    "execution": {
     "iopub.execute_input": "2023-01-19T16:20:03.315541Z",
     "iopub.status.busy": "2023-01-19T16:20:03.314761Z",
     "iopub.status.idle": "2023-01-19T16:20:03.316349Z",
     "shell.execute_reply": "2023-01-19T16:20:03.316715Z"
    }
   },
   "outputs": [],
   "source": [
    "data_dir = this_dir / \"data\""
   ]
  },
  {
   "cell_type": "code",
   "execution_count": 5,
   "metadata": {
    "execution": {
     "iopub.execute_input": "2023-01-19T16:20:03.320231Z",
     "iopub.status.busy": "2023-01-19T16:20:03.319791Z",
     "iopub.status.idle": "2023-01-19T16:20:03.754991Z",
     "shell.execute_reply": "2023-01-19T16:20:03.754106Z"
    }
   },
   "outputs": [],
   "source": [
    "import re\n",
    "import pytz\n",
    "import glob\n",
    "import requests\n",
    "import unicodedata\n",
    "import pandas as pd\n",
    "from slugify import slugify\n",
    "from bs4 import BeautifulSoup\n",
    "from datetime import datetime, date"
   ]
  },
  {
   "cell_type": "markdown",
   "metadata": {},
   "source": [
    "## Download"
   ]
  },
  {
   "cell_type": "markdown",
   "metadata": {},
   "source": [
    "Retrieve the page"
   ]
  },
  {
   "cell_type": "code",
   "execution_count": 6,
   "metadata": {
    "execution": {
     "iopub.execute_input": "2023-01-19T16:20:03.760488Z",
     "iopub.status.busy": "2023-01-19T16:20:03.759325Z",
     "iopub.status.idle": "2023-01-19T16:20:03.763576Z",
     "shell.execute_reply": "2023-01-19T16:20:03.762697Z"
    }
   },
   "outputs": [],
   "source": [
    "url = \"http://publichealth.lacounty.gov/media/Coronavirus/locations.htm\""
   ]
  },
  {
   "cell_type": "code",
   "execution_count": 7,
   "metadata": {
    "execution": {
     "iopub.execute_input": "2023-01-19T16:20:03.767682Z",
     "iopub.status.busy": "2023-01-19T16:20:03.766772Z",
     "iopub.status.idle": "2023-01-19T16:20:04.252794Z",
     "shell.execute_reply": "2023-01-19T16:20:04.252341Z"
    }
   },
   "outputs": [],
   "source": [
    "page = requests.get(url)"
   ]
  },
  {
   "cell_type": "markdown",
   "metadata": {},
   "source": [
    "## Parse"
   ]
  },
  {
   "cell_type": "code",
   "execution_count": 8,
   "metadata": {
    "execution": {
     "iopub.execute_input": "2023-01-19T16:20:04.276503Z",
     "iopub.status.busy": "2023-01-19T16:20:04.266004Z",
     "iopub.status.idle": "2023-01-19T16:20:04.411116Z",
     "shell.execute_reply": "2023-01-19T16:20:04.410660Z"
    }
   },
   "outputs": [],
   "source": [
    "soup = BeautifulSoup(page.content, \"html.parser\")"
   ]
  },
  {
   "cell_type": "markdown",
   "metadata": {},
   "source": [
    "Get content well"
   ]
  },
  {
   "cell_type": "code",
   "execution_count": 9,
   "metadata": {
    "execution": {
     "iopub.execute_input": "2023-01-19T16:20:04.416825Z",
     "iopub.status.busy": "2023-01-19T16:20:04.416371Z",
     "iopub.status.idle": "2023-01-19T16:20:04.419859Z",
     "shell.execute_reply": "2023-01-19T16:20:04.419486Z"
    }
   },
   "outputs": [],
   "source": [
    "content = soup.find(\"div\", {\"id\": \"content\"})"
   ]
  },
  {
   "cell_type": "markdown",
   "metadata": {},
   "source": [
    "Get table"
   ]
  },
  {
   "cell_type": "code",
   "execution_count": 10,
   "metadata": {
    "execution": {
     "iopub.execute_input": "2023-01-19T16:20:04.432281Z",
     "iopub.status.busy": "2023-01-19T16:20:04.431842Z",
     "iopub.status.idle": "2023-01-19T16:20:04.437421Z",
     "shell.execute_reply": "2023-01-19T16:20:04.436650Z"
    }
   },
   "outputs": [],
   "source": [
    "for tag in content.find_all(text=re.compile(\"CITY/COMMUNITY\")):\n",
    "    table = tag.findParent(\"table\")"
   ]
  },
  {
   "cell_type": "code",
   "execution_count": 11,
   "metadata": {
    "execution": {
     "iopub.execute_input": "2023-01-19T16:20:04.443148Z",
     "iopub.status.busy": "2023-01-19T16:20:04.441699Z",
     "iopub.status.idle": "2023-01-19T16:20:04.445684Z",
     "shell.execute_reply": "2023-01-19T16:20:04.445288Z"
    }
   },
   "outputs": [],
   "source": [
    "tbody = soup.tbody"
   ]
  },
  {
   "cell_type": "code",
   "execution_count": 12,
   "metadata": {
    "execution": {
     "iopub.execute_input": "2023-01-19T16:20:04.451895Z",
     "iopub.status.busy": "2023-01-19T16:20:04.451459Z",
     "iopub.status.idle": "2023-01-19T16:20:04.454434Z",
     "shell.execute_reply": "2023-01-19T16:20:04.454050Z"
    }
   },
   "outputs": [],
   "source": [
    "row_list = tbody.find_all(\"tr\")"
   ]
  },
  {
   "cell_type": "code",
   "execution_count": 13,
   "metadata": {
    "execution": {
     "iopub.execute_input": "2023-01-19T16:20:04.458588Z",
     "iopub.status.busy": "2023-01-19T16:20:04.458154Z",
     "iopub.status.idle": "2023-01-19T16:20:04.461078Z",
     "shell.execute_reply": "2023-01-19T16:20:04.460680Z"
    }
   },
   "outputs": [],
   "source": [
    "dict_list = []"
   ]
  },
  {
   "cell_type": "code",
   "execution_count": 14,
   "metadata": {
    "execution": {
     "iopub.execute_input": "2023-01-19T16:20:04.467630Z",
     "iopub.status.busy": "2023-01-19T16:20:04.466952Z",
     "iopub.status.idle": "2023-01-19T16:20:04.470249Z",
     "shell.execute_reply": "2023-01-19T16:20:04.469888Z"
    }
   },
   "outputs": [],
   "source": [
    "def safetxt(element):\n",
    "    v = element.text.strip()\n",
    "    v = v.replace(\"\\u200b\", \"\")\n",
    "    return v"
   ]
  },
  {
   "cell_type": "code",
   "execution_count": 15,
   "metadata": {
    "execution": {
     "iopub.execute_input": "2023-01-19T16:20:04.476814Z",
     "iopub.status.busy": "2023-01-19T16:20:04.476382Z",
     "iopub.status.idle": "2023-01-19T16:20:04.479530Z",
     "shell.execute_reply": "2023-01-19T16:20:04.479169Z"
    }
   },
   "outputs": [],
   "source": [
    "def safenumber(element):\n",
    "    v = safetxt(element)\n",
    "    v = v.replace(\",\", \"\")\n",
    "    v = v.replace(\" \", \"\")\n",
    "    return v"
   ]
  },
  {
   "cell_type": "code",
   "execution_count": 16,
   "metadata": {
    "execution": {
     "iopub.execute_input": "2023-01-19T16:20:04.495780Z",
     "iopub.status.busy": "2023-01-19T16:20:04.491059Z",
     "iopub.status.idle": "2023-01-19T16:20:04.498590Z",
     "shell.execute_reply": "2023-01-19T16:20:04.498190Z"
    }
   },
   "outputs": [],
   "source": [
    "for row in row_list:\n",
    "    cell_content = row.find_all(\"td\")\n",
    "    d = dict(\n",
    "        county=\"Los Angeles\",\n",
    "        area=safetxt(cell_content[0]),\n",
    "        confirmed_cases=safenumber(cell_content[1]),\n",
    "        confirmed_deaths=safenumber(cell_content[3]),\n",
    "    )\n",
    "    dict_list.append(d)"
   ]
  },
  {
   "cell_type": "code",
   "execution_count": 17,
   "metadata": {
    "execution": {
     "iopub.execute_input": "2023-01-19T16:20:04.504420Z",
     "iopub.status.busy": "2023-01-19T16:20:04.503981Z",
     "iopub.status.idle": "2023-01-19T16:20:04.507093Z",
     "shell.execute_reply": "2023-01-19T16:20:04.506715Z"
    }
   },
   "outputs": [],
   "source": [
    "df = pd.DataFrame(dict_list)"
   ]
  },
  {
   "cell_type": "markdown",
   "metadata": {},
   "source": [
    "Get timestamp"
   ]
  },
  {
   "cell_type": "code",
   "execution_count": 18,
   "metadata": {
    "execution": {
     "iopub.execute_input": "2023-01-19T16:20:04.511277Z",
     "iopub.status.busy": "2023-01-19T16:20:04.510827Z",
     "iopub.status.idle": "2023-01-19T16:20:04.513800Z",
     "shell.execute_reply": "2023-01-19T16:20:04.513423Z"
    }
   },
   "outputs": [],
   "source": [
    "date_url = \"http://publichealth.lacounty.gov/media/Coronavirus/js/casecounter.js\""
   ]
  },
  {
   "cell_type": "code",
   "execution_count": 19,
   "metadata": {
    "execution": {
     "iopub.execute_input": "2023-01-19T16:20:04.519708Z",
     "iopub.status.busy": "2023-01-19T16:20:04.519253Z",
     "iopub.status.idle": "2023-01-19T16:20:04.826634Z",
     "shell.execute_reply": "2023-01-19T16:20:04.825669Z"
    }
   },
   "outputs": [],
   "source": [
    "response = requests.get(date_url)\n",
    "date_page = response.text"
   ]
  },
  {
   "cell_type": "code",
   "execution_count": 20,
   "metadata": {
    "execution": {
     "iopub.execute_input": "2023-01-19T16:20:04.834661Z",
     "iopub.status.busy": "2023-01-19T16:20:04.834186Z",
     "iopub.status.idle": "2023-01-19T16:20:04.839466Z",
     "shell.execute_reply": "2023-01-19T16:20:04.839847Z"
    }
   },
   "outputs": [
    {
     "data": {
      "text/plain": [
       "'$( document ).ready(function() {\\r\\n    var data = {\\r\\n\\t\\t\\t\\t    \"content\": { \\r\\n\\t\\t\\r\\n\\t\\t\\t\"count\": \"3,663,899\",\\r\\n\\r\\n\\r\\n\\t\\t\\t\"death\": \"35,052\",\\r\\n\\r\\n\\t\\t\\t\"dailycount\": \"1,414\",\\r\\n\\r\\n\\r\\n\\t\\t\\t\"dailydeath\": \"21\",\\r\\n\\t\\t\\t\"hospitalizationsever\": \"168,932\",\\r\\n\\r\\n\\r\\n\\t\\t\\t\"date\": \"01/18/23\",\\r\\n\\t\\t\\t\"info\": \"through 12:00pm 01/17/2023\",\\r\\n\\r\\n\\t\\t\\t\"testingaverage\": \"24,181\",\\r\\n\\r\\n\\t\\t\\t\"peopletested\": \"12,861,327\",\\r\\n\\r\\n\\t\\t\\t\"positivity\": \"6.76%\",\\r\\n\\r\\n\\t\\t\\t\"hospitalizations\": \"958\",\\r\\n\\t\\t\\t\"datehospitalizations\": \"01/17/23\"\\r\\n\\r\\n\\t\\t\\t\\t}       \\r\\n\\t\\t\\t\\t};\\t\\r\\n\\t\\t\\t\\t\\r\\n\\t\\t\\t\\t\\r\\n\\t\\t\\t\\tvar content = data.content;\\r\\n\\t\\t\\t\\t\\r\\n\\t\\t\\t\\t$(\\'#ctn\\').html(content.count);\\r\\n\\t\\t\\t\\t$(\\'#det\\').html(content.death);\\r\\n\\t\\t\\t\\t$(\\'#dctn\\').html(content.dailycount);\\r\\n\\t\\t\\t\\t$(\\'#ddet\\').html(content.dailydeath);\\r\\n\\t\\t\\t\\t$(\\'#hosp_1\\').html(content.hospitalizationsever);\\r\\n\\t\\t\\t\\t$(\\'#dte\\').html(content.date);\\r\\n\\t\\t\\t\\t$(\\'#dte_1\\').html(content.date);\\r\\n\\t\\t\\t\\t$(\\'#dte_2\\').html(content.date);\\r\\n\\t\\t\\t\\t$(\\'#dte_3\\').html(content.datehospitalizations);\\r\\n\\t\\t\\t\\t$(\\'#cse\\').html(content.info);\\t\\r\\n\\t\\t\\t\\r\\n\\t\\t\\t\\t\\r\\n\\t\\t\\t\\t$(\\'#tstavg\\').html(content.testingaverage);\\t\\r\\n\\t\\t\\t\\t$(\\'#ppltst\\').html(content.peopletested);\\t\\r\\n\\t\\t\\t\\t$(\\'#pos\\').html(content.positivity);\\t\\r\\n\\t\\t\\t\\t$(\\'#hosp\\').html(content.hospitalizations);\\r\\n\\t\\t\\t\\r\\n\\t\\t\\t\\t\\t\\t\\t\\r\\n\\r\\n\\r\\n});\\r\\n\\r\\n\\r\\n\\r\\n'"
      ]
     },
     "execution_count": 20,
     "metadata": {},
     "output_type": "execute_result"
    }
   ],
   "source": [
    "date_page"
   ]
  },
  {
   "cell_type": "code",
   "execution_count": 21,
   "metadata": {
    "execution": {
     "iopub.execute_input": "2023-01-19T16:20:04.843900Z",
     "iopub.status.busy": "2023-01-19T16:20:04.843420Z",
     "iopub.status.idle": "2023-01-19T16:20:04.845619Z",
     "shell.execute_reply": "2023-01-19T16:20:04.845212Z"
    }
   },
   "outputs": [],
   "source": [
    "# date_text = re.search(r\"([0-9][0-9]/[0-9][0-9])\", date_page).group(1)\n",
    "# date_text = date_text + \"/\" + str(date.today().year)"
   ]
  },
  {
   "cell_type": "code",
   "execution_count": 22,
   "metadata": {
    "execution": {
     "iopub.execute_input": "2023-01-19T16:20:04.852200Z",
     "iopub.status.busy": "2023-01-19T16:20:04.851753Z",
     "iopub.status.idle": "2023-01-19T16:20:04.854712Z",
     "shell.execute_reply": "2023-01-19T16:20:04.854294Z"
    }
   },
   "outputs": [],
   "source": [
    "date_text = re.search(r\"through (.+?)\\\"\", date_page).group(1)"
   ]
  },
  {
   "cell_type": "code",
   "execution_count": 23,
   "metadata": {
    "execution": {
     "iopub.execute_input": "2023-01-19T16:20:04.858975Z",
     "iopub.status.busy": "2023-01-19T16:20:04.857911Z",
     "iopub.status.idle": "2023-01-19T16:20:04.862425Z",
     "shell.execute_reply": "2023-01-19T16:20:04.862012Z"
    }
   },
   "outputs": [],
   "source": [
    "date_text = date_text.split(\"m \")[0]"
   ]
  },
  {
   "cell_type": "code",
   "execution_count": 24,
   "metadata": {
    "execution": {
     "iopub.execute_input": "2023-01-19T16:20:04.867760Z",
     "iopub.status.busy": "2023-01-19T16:20:04.867327Z",
     "iopub.status.idle": "2023-01-19T16:20:04.870576Z",
     "shell.execute_reply": "2023-01-19T16:20:04.869808Z"
    }
   },
   "outputs": [],
   "source": [
    "latest_date = pd.to_datetime(date_text).date()"
   ]
  },
  {
   "cell_type": "code",
   "execution_count": 25,
   "metadata": {
    "execution": {
     "iopub.execute_input": "2023-01-19T16:20:04.875010Z",
     "iopub.status.busy": "2023-01-19T16:20:04.874339Z",
     "iopub.status.idle": "2023-01-19T16:20:04.878133Z",
     "shell.execute_reply": "2023-01-19T16:20:04.878503Z"
    }
   },
   "outputs": [],
   "source": [
    "df[\"county_date\"] = latest_date"
   ]
  },
  {
   "cell_type": "code",
   "execution_count": 26,
   "metadata": {
    "execution": {
     "iopub.execute_input": "2023-01-19T16:20:04.884671Z",
     "iopub.status.busy": "2023-01-19T16:20:04.880458Z",
     "iopub.status.idle": "2023-01-19T16:20:04.887626Z",
     "shell.execute_reply": "2023-01-19T16:20:04.887217Z"
    }
   },
   "outputs": [],
   "source": [
    "df.loc[df.area == \"-  Under Investigation\", \"area\"] = \"Under Investigation\""
   ]
  },
  {
   "cell_type": "code",
   "execution_count": 27,
   "metadata": {
    "execution": {
     "iopub.execute_input": "2023-01-19T16:20:04.893359Z",
     "iopub.status.busy": "2023-01-19T16:20:04.892474Z",
     "iopub.status.idle": "2023-01-19T16:20:04.896232Z",
     "shell.execute_reply": "2023-01-19T16:20:04.895838Z"
    }
   },
   "outputs": [],
   "source": [
    "df.loc[df.area == \"- Under Investigation\", \"area\"] = \"Under Investigation\""
   ]
  },
  {
   "cell_type": "markdown",
   "metadata": {},
   "source": [
    "## Vet"
   ]
  },
  {
   "cell_type": "code",
   "execution_count": 28,
   "metadata": {
    "execution": {
     "iopub.execute_input": "2023-01-19T16:20:04.899889Z",
     "iopub.status.busy": "2023-01-19T16:20:04.899449Z",
     "iopub.status.idle": "2023-01-19T16:20:04.904230Z",
     "shell.execute_reply": "2023-01-19T16:20:04.903822Z"
    }
   },
   "outputs": [],
   "source": [
    "try:\n",
    "    assert not len(df) > 342\n",
    "except AssertionError:\n",
    "    raise AssertionError(\"L.A. County's scraper has extra rows\")"
   ]
  },
  {
   "cell_type": "code",
   "execution_count": 29,
   "metadata": {
    "execution": {
     "iopub.execute_input": "2023-01-19T16:20:04.909487Z",
     "iopub.status.busy": "2023-01-19T16:20:04.907468Z",
     "iopub.status.idle": "2023-01-19T16:20:05.035823Z",
     "shell.execute_reply": "2023-01-19T16:20:05.034300Z"
    }
   },
   "outputs": [
    {
     "ename": "AssertionError",
     "evalue": "L.A. County's scraper is missing rows",
     "output_type": "error",
     "traceback": [
      "\u001b[0;31m---------------------------------------------------------------------------\u001b[0m",
      "\u001b[0;31mAssertionError\u001b[0m                            Traceback (most recent call last)",
      "\u001b[0;32m/tmp/ipykernel_2165/2999864733.py\u001b[0m in \u001b[0;36m<module>\u001b[0;34m\u001b[0m\n\u001b[1;32m      1\u001b[0m \u001b[0;32mtry\u001b[0m\u001b[0;34m:\u001b[0m\u001b[0;34m\u001b[0m\u001b[0;34m\u001b[0m\u001b[0m\n\u001b[0;32m----> 2\u001b[0;31m     \u001b[0;32massert\u001b[0m \u001b[0;32mnot\u001b[0m \u001b[0mlen\u001b[0m\u001b[0;34m(\u001b[0m\u001b[0mdf\u001b[0m\u001b[0;34m)\u001b[0m \u001b[0;34m<\u001b[0m \u001b[0;36m342\u001b[0m\u001b[0;34m\u001b[0m\u001b[0;34m\u001b[0m\u001b[0m\n\u001b[0m\u001b[1;32m      3\u001b[0m \u001b[0;32mexcept\u001b[0m \u001b[0mAssertionError\u001b[0m\u001b[0;34m:\u001b[0m\u001b[0;34m\u001b[0m\u001b[0;34m\u001b[0m\u001b[0m\n",
      "\u001b[0;31mAssertionError\u001b[0m: ",
      "\nDuring handling of the above exception, another exception occurred:\n",
      "\u001b[0;31mAssertionError\u001b[0m                            Traceback (most recent call last)",
      "\u001b[0;32m/tmp/ipykernel_2165/2999864733.py\u001b[0m in \u001b[0;36m<module>\u001b[0;34m\u001b[0m\n\u001b[1;32m      2\u001b[0m     \u001b[0;32massert\u001b[0m \u001b[0;32mnot\u001b[0m \u001b[0mlen\u001b[0m\u001b[0;34m(\u001b[0m\u001b[0mdf\u001b[0m\u001b[0;34m)\u001b[0m \u001b[0;34m<\u001b[0m \u001b[0;36m342\u001b[0m\u001b[0;34m\u001b[0m\u001b[0;34m\u001b[0m\u001b[0m\n\u001b[1;32m      3\u001b[0m \u001b[0;32mexcept\u001b[0m \u001b[0mAssertionError\u001b[0m\u001b[0;34m:\u001b[0m\u001b[0;34m\u001b[0m\u001b[0;34m\u001b[0m\u001b[0m\n\u001b[0;32m----> 4\u001b[0;31m     \u001b[0;32mraise\u001b[0m \u001b[0mAssertionError\u001b[0m\u001b[0;34m(\u001b[0m\u001b[0;34m\"L.A. County's scraper is missing rows\"\u001b[0m\u001b[0;34m)\u001b[0m\u001b[0;34m\u001b[0m\u001b[0;34m\u001b[0m\u001b[0m\n\u001b[0m",
      "\u001b[0;31mAssertionError\u001b[0m: L.A. County's scraper is missing rows"
     ]
    }
   ],
   "source": [
    "try:\n",
    "    assert not len(df) < 342\n",
    "except AssertionError:\n",
    "    raise AssertionError(\"L.A. County's scraper is missing rows\")"
   ]
  },
  {
   "cell_type": "markdown",
   "metadata": {},
   "source": [
    "## Export"
   ]
  },
  {
   "cell_type": "markdown",
   "metadata": {},
   "source": [
    "Set the date"
   ]
  },
  {
   "cell_type": "code",
   "execution_count": 67,
   "metadata": {},
   "outputs": [],
   "source": [
    "tz = pytz.timezone(\"America/Los_Angeles\")"
   ]
  },
  {
   "cell_type": "code",
   "execution_count": 68,
   "metadata": {},
   "outputs": [],
   "source": [
    "today = datetime.now(tz).date()"
   ]
  },
  {
   "cell_type": "code",
   "execution_count": 69,
   "metadata": {},
   "outputs": [],
   "source": [
    "slug = \"los-angeles\""
   ]
  },
  {
   "cell_type": "code",
   "execution_count": 70,
   "metadata": {},
   "outputs": [],
   "source": [
    "df.to_csv(data_dir / slug / f\"{today}.csv\", index=False)"
   ]
  },
  {
   "cell_type": "markdown",
   "metadata": {},
   "source": [
    "## Combine"
   ]
  },
  {
   "cell_type": "code",
   "execution_count": 71,
   "metadata": {},
   "outputs": [],
   "source": [
    "csv_list = [\n",
    "    i\n",
    "    for i in glob.glob(str(data_dir / slug / \"*.csv\"))\n",
    "    if not str(i).endswith(\"timeseries.csv\")\n",
    "]"
   ]
  },
  {
   "cell_type": "code",
   "execution_count": 72,
   "metadata": {},
   "outputs": [],
   "source": [
    "df_list = []\n",
    "for csv in csv_list:\n",
    "    if \"manual\" in csv:\n",
    "        df = pd.read_csv(csv, parse_dates=[\"date\"])\n",
    "    else:\n",
    "        file_date = csv.split(\"/\")[-1].replace(\".csv\", \"\")\n",
    "        df = pd.read_csv(csv, parse_dates=[\"county_date\"])\n",
    "        df[\"date\"] = file_date\n",
    "    df_list.append(df)"
   ]
  },
  {
   "cell_type": "code",
   "execution_count": 73,
   "metadata": {},
   "outputs": [],
   "source": [
    "df = pd.concat(df_list).sort_values([\"date\", \"area\"])"
   ]
  },
  {
   "cell_type": "code",
   "execution_count": 74,
   "metadata": {},
   "outputs": [],
   "source": [
    "df.to_csv(data_dir / slug / \"timeseries.csv\", index=False)"
   ]
  },
  {
   "cell_type": "code",
   "execution_count": null,
   "metadata": {},
   "outputs": [],
   "source": []
  },
  {
   "cell_type": "code",
   "execution_count": null,
   "metadata": {},
   "outputs": [],
   "source": []
  }
 ],
 "metadata": {
  "kernelspec": {
   "display_name": "Python 3 (ipykernel)",
   "language": "python",
   "name": "python3"
  },
  "language_info": {
   "codemirror_mode": {
    "name": "ipython",
    "version": 3
   },
   "file_extension": ".py",
   "mimetype": "text/x-python",
   "name": "python",
   "nbconvert_exporter": "python",
   "pygments_lexer": "ipython3",
   "version": "3.8.16"
  }
 },
 "nbformat": 4,
 "nbformat_minor": 4
}
