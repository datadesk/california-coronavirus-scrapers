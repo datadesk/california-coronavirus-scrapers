{
 "cells": [
  {
   "cell_type": "markdown",
   "metadata": {
    "tags": []
   },
   "source": [
    "## Configuration\n",
    "_Initial steps to get the notebook ready to play nice with our repository. Do not delete this section._"
   ]
  },
  {
   "cell_type": "markdown",
   "metadata": {},
   "source": [
    "Code formatting with [black](https://pypi.org/project/nb-black/)."
   ]
  },
  {
   "cell_type": "code",
   "execution_count": 1,
   "metadata": {
    "execution": {
     "iopub.execute_input": "2023-01-15T20:25:08.693958Z",
     "iopub.status.busy": "2023-01-15T20:25:08.693540Z",
     "iopub.status.idle": "2023-01-15T20:25:08.833456Z",
     "shell.execute_reply": "2023-01-15T20:25:08.832995Z"
    }
   },
   "outputs": [],
   "source": [
    "%load_ext lab_black"
   ]
  },
  {
   "cell_type": "code",
   "execution_count": 2,
   "metadata": {
    "execution": {
     "iopub.execute_input": "2023-01-15T20:25:08.838075Z",
     "iopub.status.busy": "2023-01-15T20:25:08.837063Z",
     "iopub.status.idle": "2023-01-15T20:25:08.838569Z",
     "shell.execute_reply": "2023-01-15T20:25:08.838912Z"
    }
   },
   "outputs": [],
   "source": [
    "import os\n",
    "import pathlib"
   ]
  },
  {
   "cell_type": "code",
   "execution_count": 3,
   "metadata": {
    "execution": {
     "iopub.execute_input": "2023-01-15T20:25:08.842558Z",
     "iopub.status.busy": "2023-01-15T20:25:08.842123Z",
     "iopub.status.idle": "2023-01-15T20:25:08.846206Z",
     "shell.execute_reply": "2023-01-15T20:25:08.845830Z"
    }
   },
   "outputs": [],
   "source": [
    "this_dir = pathlib.Path(os.path.abspath(\"\"))"
   ]
  },
  {
   "cell_type": "code",
   "execution_count": 4,
   "metadata": {
    "execution": {
     "iopub.execute_input": "2023-01-15T20:25:08.850705Z",
     "iopub.status.busy": "2023-01-15T20:25:08.849957Z",
     "iopub.status.idle": "2023-01-15T20:25:08.851301Z",
     "shell.execute_reply": "2023-01-15T20:25:08.851664Z"
    }
   },
   "outputs": [],
   "source": [
    "data_dir = this_dir / \"data\""
   ]
  },
  {
   "cell_type": "code",
   "execution_count": 5,
   "metadata": {
    "execution": {
     "iopub.execute_input": "2023-01-15T20:25:08.854779Z",
     "iopub.status.busy": "2023-01-15T20:25:08.853340Z",
     "iopub.status.idle": "2023-01-15T20:25:09.229621Z",
     "shell.execute_reply": "2023-01-15T20:25:09.228807Z"
    }
   },
   "outputs": [],
   "source": [
    "import re\n",
    "import pytz\n",
    "import glob\n",
    "import requests\n",
    "import unicodedata\n",
    "import pandas as pd\n",
    "from slugify import slugify\n",
    "from bs4 import BeautifulSoup\n",
    "from datetime import datetime, date"
   ]
  },
  {
   "cell_type": "markdown",
   "metadata": {},
   "source": [
    "## Download"
   ]
  },
  {
   "cell_type": "markdown",
   "metadata": {},
   "source": [
    "Retrieve the page"
   ]
  },
  {
   "cell_type": "code",
   "execution_count": 6,
   "metadata": {
    "execution": {
     "iopub.execute_input": "2023-01-15T20:25:09.234141Z",
     "iopub.status.busy": "2023-01-15T20:25:09.233172Z",
     "iopub.status.idle": "2023-01-15T20:25:09.236184Z",
     "shell.execute_reply": "2023-01-15T20:25:09.236548Z"
    }
   },
   "outputs": [],
   "source": [
    "url = \"http://publichealth.lacounty.gov/media/Coronavirus/locations.htm\""
   ]
  },
  {
   "cell_type": "code",
   "execution_count": 7,
   "metadata": {
    "execution": {
     "iopub.execute_input": "2023-01-15T20:25:09.240170Z",
     "iopub.status.busy": "2023-01-15T20:25:09.239474Z",
     "iopub.status.idle": "2023-01-15T20:25:09.782598Z",
     "shell.execute_reply": "2023-01-15T20:25:09.782177Z"
    }
   },
   "outputs": [],
   "source": [
    "page = requests.get(url)"
   ]
  },
  {
   "cell_type": "markdown",
   "metadata": {},
   "source": [
    "## Parse"
   ]
  },
  {
   "cell_type": "code",
   "execution_count": 8,
   "metadata": {
    "execution": {
     "iopub.execute_input": "2023-01-15T20:25:09.800218Z",
     "iopub.status.busy": "2023-01-15T20:25:09.794951Z",
     "iopub.status.idle": "2023-01-15T20:25:09.937048Z",
     "shell.execute_reply": "2023-01-15T20:25:09.936632Z"
    }
   },
   "outputs": [],
   "source": [
    "soup = BeautifulSoup(page.content, \"html.parser\")"
   ]
  },
  {
   "cell_type": "markdown",
   "metadata": {},
   "source": [
    "Get content well"
   ]
  },
  {
   "cell_type": "code",
   "execution_count": 9,
   "metadata": {
    "execution": {
     "iopub.execute_input": "2023-01-15T20:25:09.942577Z",
     "iopub.status.busy": "2023-01-15T20:25:09.939355Z",
     "iopub.status.idle": "2023-01-15T20:25:09.947262Z",
     "shell.execute_reply": "2023-01-15T20:25:09.946471Z"
    }
   },
   "outputs": [],
   "source": [
    "content = soup.find(\"div\", {\"id\": \"content\"})"
   ]
  },
  {
   "cell_type": "markdown",
   "metadata": {},
   "source": [
    "Get table"
   ]
  },
  {
   "cell_type": "code",
   "execution_count": 10,
   "metadata": {
    "execution": {
     "iopub.execute_input": "2023-01-15T20:25:09.963022Z",
     "iopub.status.busy": "2023-01-15T20:25:09.954454Z",
     "iopub.status.idle": "2023-01-15T20:25:09.966234Z",
     "shell.execute_reply": "2023-01-15T20:25:09.965827Z"
    }
   },
   "outputs": [],
   "source": [
    "for tag in content.find_all(text=re.compile(\"CITY/COMMUNITY\")):\n",
    "    table = tag.findParent(\"table\")"
   ]
  },
  {
   "cell_type": "code",
   "execution_count": 11,
   "metadata": {
    "execution": {
     "iopub.execute_input": "2023-01-15T20:25:09.971478Z",
     "iopub.status.busy": "2023-01-15T20:25:09.971052Z",
     "iopub.status.idle": "2023-01-15T20:25:09.973560Z",
     "shell.execute_reply": "2023-01-15T20:25:09.973933Z"
    }
   },
   "outputs": [],
   "source": [
    "tbody = soup.tbody"
   ]
  },
  {
   "cell_type": "code",
   "execution_count": 12,
   "metadata": {
    "execution": {
     "iopub.execute_input": "2023-01-15T20:25:09.979925Z",
     "iopub.status.busy": "2023-01-15T20:25:09.979020Z",
     "iopub.status.idle": "2023-01-15T20:25:09.982333Z",
     "shell.execute_reply": "2023-01-15T20:25:09.981964Z"
    }
   },
   "outputs": [],
   "source": [
    "row_list = tbody.find_all(\"tr\")"
   ]
  },
  {
   "cell_type": "code",
   "execution_count": 13,
   "metadata": {
    "execution": {
     "iopub.execute_input": "2023-01-15T20:25:09.986348Z",
     "iopub.status.busy": "2023-01-15T20:25:09.985925Z",
     "iopub.status.idle": "2023-01-15T20:25:09.988386Z",
     "shell.execute_reply": "2023-01-15T20:25:09.988729Z"
    }
   },
   "outputs": [],
   "source": [
    "dict_list = []"
   ]
  },
  {
   "cell_type": "code",
   "execution_count": 14,
   "metadata": {
    "execution": {
     "iopub.execute_input": "2023-01-15T20:25:09.994559Z",
     "iopub.status.busy": "2023-01-15T20:25:09.991913Z",
     "iopub.status.idle": "2023-01-15T20:25:09.997083Z",
     "shell.execute_reply": "2023-01-15T20:25:09.997447Z"
    }
   },
   "outputs": [],
   "source": [
    "def safetxt(element):\n",
    "    v = element.text.strip()\n",
    "    v = v.replace(\"\\u200b\", \"\")\n",
    "    return v"
   ]
  },
  {
   "cell_type": "code",
   "execution_count": 15,
   "metadata": {
    "execution": {
     "iopub.execute_input": "2023-01-15T20:25:10.004552Z",
     "iopub.status.busy": "2023-01-15T20:25:10.003957Z",
     "iopub.status.idle": "2023-01-15T20:25:10.006545Z",
     "shell.execute_reply": "2023-01-15T20:25:10.007055Z"
    }
   },
   "outputs": [],
   "source": [
    "def safenumber(element):\n",
    "    v = safetxt(element)\n",
    "    v = v.replace(\",\", \"\")\n",
    "    v = v.replace(\" \", \"\")\n",
    "    return v"
   ]
  },
  {
   "cell_type": "code",
   "execution_count": 16,
   "metadata": {
    "execution": {
     "iopub.execute_input": "2023-01-15T20:25:10.019024Z",
     "iopub.status.busy": "2023-01-15T20:25:10.014144Z",
     "iopub.status.idle": "2023-01-15T20:25:10.025442Z",
     "shell.execute_reply": "2023-01-15T20:25:10.025800Z"
    }
   },
   "outputs": [],
   "source": [
    "for row in row_list:\n",
    "    cell_content = row.find_all(\"td\")\n",
    "    d = dict(\n",
    "        county=\"Los Angeles\",\n",
    "        area=safetxt(cell_content[0]),\n",
    "        confirmed_cases=safenumber(cell_content[1]),\n",
    "        confirmed_deaths=safenumber(cell_content[3]),\n",
    "    )\n",
    "    dict_list.append(d)"
   ]
  },
  {
   "cell_type": "code",
   "execution_count": 17,
   "metadata": {
    "execution": {
     "iopub.execute_input": "2023-01-15T20:25:10.029616Z",
     "iopub.status.busy": "2023-01-15T20:25:10.029221Z",
     "iopub.status.idle": "2023-01-15T20:25:10.032130Z",
     "shell.execute_reply": "2023-01-15T20:25:10.031769Z"
    }
   },
   "outputs": [],
   "source": [
    "df = pd.DataFrame(dict_list)"
   ]
  },
  {
   "cell_type": "markdown",
   "metadata": {},
   "source": [
    "Get timestamp"
   ]
  },
  {
   "cell_type": "code",
   "execution_count": 18,
   "metadata": {
    "execution": {
     "iopub.execute_input": "2023-01-15T20:25:10.036177Z",
     "iopub.status.busy": "2023-01-15T20:25:10.034577Z",
     "iopub.status.idle": "2023-01-15T20:25:10.038657Z",
     "shell.execute_reply": "2023-01-15T20:25:10.038319Z"
    }
   },
   "outputs": [],
   "source": [
    "date_url = \"http://publichealth.lacounty.gov/media/Coronavirus/js/casecounter.js\""
   ]
  },
  {
   "cell_type": "code",
   "execution_count": 19,
   "metadata": {
    "execution": {
     "iopub.execute_input": "2023-01-15T20:25:10.044022Z",
     "iopub.status.busy": "2023-01-15T20:25:10.040251Z",
     "iopub.status.idle": "2023-01-15T20:25:10.440155Z",
     "shell.execute_reply": "2023-01-15T20:25:10.439340Z"
    }
   },
   "outputs": [],
   "source": [
    "response = requests.get(date_url)\n",
    "date_page = response.text"
   ]
  },
  {
   "cell_type": "code",
   "execution_count": 20,
   "metadata": {
    "execution": {
     "iopub.execute_input": "2023-01-15T20:25:10.449196Z",
     "iopub.status.busy": "2023-01-15T20:25:10.448740Z",
     "iopub.status.idle": "2023-01-15T20:25:10.454581Z",
     "shell.execute_reply": "2023-01-15T20:25:10.455160Z"
    }
   },
   "outputs": [
    {
     "data": {
      "text/plain": [
       "'$( document ).ready(function() {\\r\\n    var data = {\\r\\n\\t\\t\\t\\t    \"content\": { \\r\\n\\t\\t\\r\\n\\t\\t\\t\"count\": \"3,659,260\",\\r\\n\\r\\n\\r\\n\\t\\t\\t\"death\": \"34,969\",\\r\\n\\r\\n\\t\\t\\t\"dailycount\": \"1,534\",\\r\\n\\r\\n\\r\\n\\t\\t\\t\"dailydeath\": \"25\",\\r\\n\\t\\t\\t\"hospitalizationsever\": \"168,519\",\\r\\n\\r\\n\\r\\n\\t\\t\\t\"date\": \"01/13/23\",\\r\\n\\t\\t\\t\"info\": \"through 12:00pm 01/12/2023\",\\r\\n\\r\\n\\t\\t\\t\"testingaverage\": \"21,336\",\\r\\n\\r\\n\\t\\t\\t\"peopletested\": \"12,852,693\",\\r\\n\\r\\n\\t\\t\\t\"positivity\": \"9.43%\",\\r\\n\\r\\n\\t\\t\\t\"hospitalizations\": \"1,053\",\\r\\n\\t\\t\\t\"datehospitalizations\": \"01/12/23\"\\r\\n\\r\\n\\t\\t\\t\\t}       \\r\\n\\t\\t\\t\\t};\\t\\r\\n\\t\\t\\t\\t\\r\\n\\t\\t\\t\\t\\r\\n\\t\\t\\t\\tvar content = data.content;\\r\\n\\t\\t\\t\\t\\r\\n\\t\\t\\t\\t$(\\'#ctn\\').html(content.count);\\r\\n\\t\\t\\t\\t$(\\'#det\\').html(content.death);\\r\\n\\t\\t\\t\\t$(\\'#dctn\\').html(content.dailycount);\\r\\n\\t\\t\\t\\t$(\\'#ddet\\').html(content.dailydeath);\\r\\n\\t\\t\\t\\t$(\\'#hosp_1\\').html(content.hospitalizationsever);\\r\\n\\t\\t\\t\\t$(\\'#dte\\').html(content.date);\\r\\n\\t\\t\\t\\t$(\\'#dte_1\\').html(content.date);\\r\\n\\t\\t\\t\\t$(\\'#dte_2\\').html(content.date);\\r\\n\\t\\t\\t\\t$(\\'#dte_3\\').html(content.datehospitalizations);\\r\\n\\t\\t\\t\\t$(\\'#cse\\').html(content.info);\\t\\r\\n\\t\\t\\t\\r\\n\\t\\t\\t\\t\\r\\n\\t\\t\\t\\t$(\\'#tstavg\\').html(content.testingaverage);\\t\\r\\n\\t\\t\\t\\t$(\\'#ppltst\\').html(content.peopletested);\\t\\r\\n\\t\\t\\t\\t$(\\'#pos\\').html(content.positivity);\\t\\r\\n\\t\\t\\t\\t$(\\'#hosp\\').html(content.hospitalizations);\\r\\n\\t\\t\\t\\r\\n\\t\\t\\t\\t\\t\\t\\t\\r\\n\\r\\n\\r\\n});\\r\\n\\r\\n\\r\\n\\r\\n'"
      ]
     },
     "execution_count": 20,
     "metadata": {},
     "output_type": "execute_result"
    }
   ],
   "source": [
    "date_page"
   ]
  },
  {
   "cell_type": "code",
   "execution_count": 21,
   "metadata": {
    "execution": {
     "iopub.execute_input": "2023-01-15T20:25:10.459264Z",
     "iopub.status.busy": "2023-01-15T20:25:10.458821Z",
     "iopub.status.idle": "2023-01-15T20:25:10.461965Z",
     "shell.execute_reply": "2023-01-15T20:25:10.461292Z"
    }
   },
   "outputs": [],
   "source": [
    "# date_text = re.search(r\"([0-9][0-9]/[0-9][0-9])\", date_page).group(1)\n",
    "# date_text = date_text + \"/\" + str(date.today().year)"
   ]
  },
  {
   "cell_type": "code",
   "execution_count": 22,
   "metadata": {
    "execution": {
     "iopub.execute_input": "2023-01-15T20:25:10.467069Z",
     "iopub.status.busy": "2023-01-15T20:25:10.466636Z",
     "iopub.status.idle": "2023-01-15T20:25:10.469080Z",
     "shell.execute_reply": "2023-01-15T20:25:10.469622Z"
    }
   },
   "outputs": [],
   "source": [
    "date_text = re.search(r\"through (.+?)\\\"\", date_page).group(1)"
   ]
  },
  {
   "cell_type": "code",
   "execution_count": 23,
   "metadata": {
    "execution": {
     "iopub.execute_input": "2023-01-15T20:25:10.474230Z",
     "iopub.status.busy": "2023-01-15T20:25:10.472606Z",
     "iopub.status.idle": "2023-01-15T20:25:10.477204Z",
     "shell.execute_reply": "2023-01-15T20:25:10.476579Z"
    }
   },
   "outputs": [],
   "source": [
    "date_text = date_text.split(\"m \")[0]"
   ]
  },
  {
   "cell_type": "code",
   "execution_count": 24,
   "metadata": {
    "execution": {
     "iopub.execute_input": "2023-01-15T20:25:10.481759Z",
     "iopub.status.busy": "2023-01-15T20:25:10.479045Z",
     "iopub.status.idle": "2023-01-15T20:25:10.484188Z",
     "shell.execute_reply": "2023-01-15T20:25:10.483826Z"
    }
   },
   "outputs": [],
   "source": [
    "latest_date = pd.to_datetime(date_text).date()"
   ]
  },
  {
   "cell_type": "code",
   "execution_count": 25,
   "metadata": {
    "execution": {
     "iopub.execute_input": "2023-01-15T20:25:10.489187Z",
     "iopub.status.busy": "2023-01-15T20:25:10.486081Z",
     "iopub.status.idle": "2023-01-15T20:25:10.491600Z",
     "shell.execute_reply": "2023-01-15T20:25:10.492149Z"
    }
   },
   "outputs": [],
   "source": [
    "df[\"county_date\"] = latest_date"
   ]
  },
  {
   "cell_type": "code",
   "execution_count": 26,
   "metadata": {
    "execution": {
     "iopub.execute_input": "2023-01-15T20:25:10.497531Z",
     "iopub.status.busy": "2023-01-15T20:25:10.496960Z",
     "iopub.status.idle": "2023-01-15T20:25:10.500511Z",
     "shell.execute_reply": "2023-01-15T20:25:10.500127Z"
    }
   },
   "outputs": [],
   "source": [
    "df.loc[df.area == \"-  Under Investigation\", \"area\"] = \"Under Investigation\""
   ]
  },
  {
   "cell_type": "code",
   "execution_count": 27,
   "metadata": {
    "execution": {
     "iopub.execute_input": "2023-01-15T20:25:10.505987Z",
     "iopub.status.busy": "2023-01-15T20:25:10.504146Z",
     "iopub.status.idle": "2023-01-15T20:25:10.508841Z",
     "shell.execute_reply": "2023-01-15T20:25:10.508472Z"
    }
   },
   "outputs": [],
   "source": [
    "df.loc[df.area == \"- Under Investigation\", \"area\"] = \"Under Investigation\""
   ]
  },
  {
   "cell_type": "markdown",
   "metadata": {},
   "source": [
    "## Vet"
   ]
  },
  {
   "cell_type": "code",
   "execution_count": 28,
   "metadata": {
    "execution": {
     "iopub.execute_input": "2023-01-15T20:25:10.512899Z",
     "iopub.status.busy": "2023-01-15T20:25:10.510727Z",
     "iopub.status.idle": "2023-01-15T20:25:10.517227Z",
     "shell.execute_reply": "2023-01-15T20:25:10.516841Z"
    }
   },
   "outputs": [],
   "source": [
    "try:\n",
    "    assert not len(df) > 342\n",
    "except AssertionError:\n",
    "    raise AssertionError(\"L.A. County's scraper has extra rows\")"
   ]
  },
  {
   "cell_type": "code",
   "execution_count": 29,
   "metadata": {
    "execution": {
     "iopub.execute_input": "2023-01-15T20:25:10.520742Z",
     "iopub.status.busy": "2023-01-15T20:25:10.520162Z",
     "iopub.status.idle": "2023-01-15T20:25:10.642023Z",
     "shell.execute_reply": "2023-01-15T20:25:10.640497Z"
    }
   },
   "outputs": [
    {
     "ename": "AssertionError",
     "evalue": "L.A. County's scraper is missing rows",
     "output_type": "error",
     "traceback": [
      "\u001b[0;31m---------------------------------------------------------------------------\u001b[0m",
      "\u001b[0;31mAssertionError\u001b[0m                            Traceback (most recent call last)",
      "\u001b[0;32m/tmp/ipykernel_2295/2999864733.py\u001b[0m in \u001b[0;36m<module>\u001b[0;34m\u001b[0m\n\u001b[1;32m      1\u001b[0m \u001b[0;32mtry\u001b[0m\u001b[0;34m:\u001b[0m\u001b[0;34m\u001b[0m\u001b[0;34m\u001b[0m\u001b[0m\n\u001b[0;32m----> 2\u001b[0;31m     \u001b[0;32massert\u001b[0m \u001b[0;32mnot\u001b[0m \u001b[0mlen\u001b[0m\u001b[0;34m(\u001b[0m\u001b[0mdf\u001b[0m\u001b[0;34m)\u001b[0m \u001b[0;34m<\u001b[0m \u001b[0;36m342\u001b[0m\u001b[0;34m\u001b[0m\u001b[0;34m\u001b[0m\u001b[0m\n\u001b[0m\u001b[1;32m      3\u001b[0m \u001b[0;32mexcept\u001b[0m \u001b[0mAssertionError\u001b[0m\u001b[0;34m:\u001b[0m\u001b[0;34m\u001b[0m\u001b[0;34m\u001b[0m\u001b[0m\n",
      "\u001b[0;31mAssertionError\u001b[0m: ",
      "\nDuring handling of the above exception, another exception occurred:\n",
      "\u001b[0;31mAssertionError\u001b[0m                            Traceback (most recent call last)",
      "\u001b[0;32m/tmp/ipykernel_2295/2999864733.py\u001b[0m in \u001b[0;36m<module>\u001b[0;34m\u001b[0m\n\u001b[1;32m      2\u001b[0m     \u001b[0;32massert\u001b[0m \u001b[0;32mnot\u001b[0m \u001b[0mlen\u001b[0m\u001b[0;34m(\u001b[0m\u001b[0mdf\u001b[0m\u001b[0;34m)\u001b[0m \u001b[0;34m<\u001b[0m \u001b[0;36m342\u001b[0m\u001b[0;34m\u001b[0m\u001b[0;34m\u001b[0m\u001b[0m\n\u001b[1;32m      3\u001b[0m \u001b[0;32mexcept\u001b[0m \u001b[0mAssertionError\u001b[0m\u001b[0;34m:\u001b[0m\u001b[0;34m\u001b[0m\u001b[0;34m\u001b[0m\u001b[0m\n\u001b[0;32m----> 4\u001b[0;31m     \u001b[0;32mraise\u001b[0m \u001b[0mAssertionError\u001b[0m\u001b[0;34m(\u001b[0m\u001b[0;34m\"L.A. County's scraper is missing rows\"\u001b[0m\u001b[0;34m)\u001b[0m\u001b[0;34m\u001b[0m\u001b[0;34m\u001b[0m\u001b[0m\n\u001b[0m",
      "\u001b[0;31mAssertionError\u001b[0m: L.A. County's scraper is missing rows"
     ]
    }
   ],
   "source": [
    "try:\n",
    "    assert not len(df) < 342\n",
    "except AssertionError:\n",
    "    raise AssertionError(\"L.A. County's scraper is missing rows\")"
   ]
  },
  {
   "cell_type": "markdown",
   "metadata": {},
   "source": [
    "## Export"
   ]
  },
  {
   "cell_type": "markdown",
   "metadata": {},
   "source": [
    "Set the date"
   ]
  },
  {
   "cell_type": "code",
   "execution_count": 67,
   "metadata": {},
   "outputs": [],
   "source": [
    "tz = pytz.timezone(\"America/Los_Angeles\")"
   ]
  },
  {
   "cell_type": "code",
   "execution_count": 68,
   "metadata": {},
   "outputs": [],
   "source": [
    "today = datetime.now(tz).date()"
   ]
  },
  {
   "cell_type": "code",
   "execution_count": 69,
   "metadata": {},
   "outputs": [],
   "source": [
    "slug = \"los-angeles\""
   ]
  },
  {
   "cell_type": "code",
   "execution_count": 70,
   "metadata": {},
   "outputs": [],
   "source": [
    "df.to_csv(data_dir / slug / f\"{today}.csv\", index=False)"
   ]
  },
  {
   "cell_type": "markdown",
   "metadata": {},
   "source": [
    "## Combine"
   ]
  },
  {
   "cell_type": "code",
   "execution_count": 71,
   "metadata": {},
   "outputs": [],
   "source": [
    "csv_list = [\n",
    "    i\n",
    "    for i in glob.glob(str(data_dir / slug / \"*.csv\"))\n",
    "    if not str(i).endswith(\"timeseries.csv\")\n",
    "]"
   ]
  },
  {
   "cell_type": "code",
   "execution_count": 72,
   "metadata": {},
   "outputs": [],
   "source": [
    "df_list = []\n",
    "for csv in csv_list:\n",
    "    if \"manual\" in csv:\n",
    "        df = pd.read_csv(csv, parse_dates=[\"date\"])\n",
    "    else:\n",
    "        file_date = csv.split(\"/\")[-1].replace(\".csv\", \"\")\n",
    "        df = pd.read_csv(csv, parse_dates=[\"county_date\"])\n",
    "        df[\"date\"] = file_date\n",
    "    df_list.append(df)"
   ]
  },
  {
   "cell_type": "code",
   "execution_count": 73,
   "metadata": {},
   "outputs": [],
   "source": [
    "df = pd.concat(df_list).sort_values([\"date\", \"area\"])"
   ]
  },
  {
   "cell_type": "code",
   "execution_count": 74,
   "metadata": {},
   "outputs": [],
   "source": [
    "df.to_csv(data_dir / slug / \"timeseries.csv\", index=False)"
   ]
  },
  {
   "cell_type": "code",
   "execution_count": null,
   "metadata": {},
   "outputs": [],
   "source": []
  },
  {
   "cell_type": "code",
   "execution_count": null,
   "metadata": {},
   "outputs": [],
   "source": []
  }
 ],
 "metadata": {
  "kernelspec": {
   "display_name": "Python 3 (ipykernel)",
   "language": "python",
   "name": "python3"
  },
  "language_info": {
   "codemirror_mode": {
    "name": "ipython",
    "version": 3
   },
   "file_extension": ".py",
   "mimetype": "text/x-python",
   "name": "python",
   "nbconvert_exporter": "python",
   "pygments_lexer": "ipython3",
   "version": "3.8.15"
  }
 },
 "nbformat": 4,
 "nbformat_minor": 4
}
