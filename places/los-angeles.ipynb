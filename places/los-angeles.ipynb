{
 "cells": [
  {
   "cell_type": "markdown",
   "metadata": {
    "tags": []
   },
   "source": [
    "## Configuration\n",
    "_Initial steps to get the notebook ready to play nice with our repository. Do not delete this section._"
   ]
  },
  {
   "cell_type": "markdown",
   "metadata": {},
   "source": [
    "Code formatting with [black](https://pypi.org/project/nb-black/)."
   ]
  },
  {
   "cell_type": "code",
   "execution_count": 1,
   "metadata": {
    "execution": {
     "iopub.execute_input": "2023-01-11T00:28:09.534211Z",
     "iopub.status.busy": "2023-01-11T00:28:09.533547Z",
     "iopub.status.idle": "2023-01-11T00:28:09.668390Z",
     "shell.execute_reply": "2023-01-11T00:28:09.667540Z"
    }
   },
   "outputs": [],
   "source": [
    "%load_ext lab_black"
   ]
  },
  {
   "cell_type": "code",
   "execution_count": 2,
   "metadata": {
    "execution": {
     "iopub.execute_input": "2023-01-11T00:28:09.672481Z",
     "iopub.status.busy": "2023-01-11T00:28:09.672055Z",
     "iopub.status.idle": "2023-01-11T00:28:09.674459Z",
     "shell.execute_reply": "2023-01-11T00:28:09.674816Z"
    }
   },
   "outputs": [],
   "source": [
    "import os\n",
    "import pathlib"
   ]
  },
  {
   "cell_type": "code",
   "execution_count": 3,
   "metadata": {
    "execution": {
     "iopub.execute_input": "2023-01-11T00:28:09.680526Z",
     "iopub.status.busy": "2023-01-11T00:28:09.679832Z",
     "iopub.status.idle": "2023-01-11T00:28:09.681724Z",
     "shell.execute_reply": "2023-01-11T00:28:09.681291Z"
    }
   },
   "outputs": [],
   "source": [
    "this_dir = pathlib.Path(os.path.abspath(\"\"))"
   ]
  },
  {
   "cell_type": "code",
   "execution_count": 4,
   "metadata": {
    "execution": {
     "iopub.execute_input": "2023-01-11T00:28:09.685521Z",
     "iopub.status.busy": "2023-01-11T00:28:09.685097Z",
     "iopub.status.idle": "2023-01-11T00:28:09.687915Z",
     "shell.execute_reply": "2023-01-11T00:28:09.687560Z"
    }
   },
   "outputs": [],
   "source": [
    "data_dir = this_dir / \"data\""
   ]
  },
  {
   "cell_type": "code",
   "execution_count": 5,
   "metadata": {
    "execution": {
     "iopub.execute_input": "2023-01-11T00:28:09.692113Z",
     "iopub.status.busy": "2023-01-11T00:28:09.691199Z",
     "iopub.status.idle": "2023-01-11T00:28:10.061735Z",
     "shell.execute_reply": "2023-01-11T00:28:10.060959Z"
    }
   },
   "outputs": [],
   "source": [
    "import re\n",
    "import pytz\n",
    "import glob\n",
    "import requests\n",
    "import unicodedata\n",
    "import pandas as pd\n",
    "from slugify import slugify\n",
    "from bs4 import BeautifulSoup\n",
    "from datetime import datetime, date"
   ]
  },
  {
   "cell_type": "markdown",
   "metadata": {},
   "source": [
    "## Download"
   ]
  },
  {
   "cell_type": "markdown",
   "metadata": {},
   "source": [
    "Retrieve the page"
   ]
  },
  {
   "cell_type": "code",
   "execution_count": 6,
   "metadata": {
    "execution": {
     "iopub.execute_input": "2023-01-11T00:28:10.066093Z",
     "iopub.status.busy": "2023-01-11T00:28:10.065645Z",
     "iopub.status.idle": "2023-01-11T00:28:10.068789Z",
     "shell.execute_reply": "2023-01-11T00:28:10.068020Z"
    }
   },
   "outputs": [],
   "source": [
    "url = \"http://publichealth.lacounty.gov/media/Coronavirus/locations.htm\""
   ]
  },
  {
   "cell_type": "code",
   "execution_count": 7,
   "metadata": {
    "execution": {
     "iopub.execute_input": "2023-01-11T00:28:10.072111Z",
     "iopub.status.busy": "2023-01-11T00:28:10.071689Z",
     "iopub.status.idle": "2023-01-11T00:28:10.450881Z",
     "shell.execute_reply": "2023-01-11T00:28:10.450436Z"
    }
   },
   "outputs": [],
   "source": [
    "page = requests.get(url)"
   ]
  },
  {
   "cell_type": "markdown",
   "metadata": {},
   "source": [
    "## Parse"
   ]
  },
  {
   "cell_type": "code",
   "execution_count": 8,
   "metadata": {
    "execution": {
     "iopub.execute_input": "2023-01-11T00:28:10.458558Z",
     "iopub.status.busy": "2023-01-11T00:28:10.458130Z",
     "iopub.status.idle": "2023-01-11T00:28:10.606532Z",
     "shell.execute_reply": "2023-01-11T00:28:10.606133Z"
    }
   },
   "outputs": [],
   "source": [
    "soup = BeautifulSoup(page.content, \"html.parser\")"
   ]
  },
  {
   "cell_type": "markdown",
   "metadata": {},
   "source": [
    "Get content well"
   ]
  },
  {
   "cell_type": "code",
   "execution_count": 9,
   "metadata": {
    "execution": {
     "iopub.execute_input": "2023-01-11T00:28:10.612657Z",
     "iopub.status.busy": "2023-01-11T00:28:10.612216Z",
     "iopub.status.idle": "2023-01-11T00:28:10.613885Z",
     "shell.execute_reply": "2023-01-11T00:28:10.614210Z"
    }
   },
   "outputs": [],
   "source": [
    "content = soup.find(\"div\", {\"id\": \"content\"})"
   ]
  },
  {
   "cell_type": "markdown",
   "metadata": {},
   "source": [
    "Get table"
   ]
  },
  {
   "cell_type": "code",
   "execution_count": 10,
   "metadata": {
    "execution": {
     "iopub.execute_input": "2023-01-11T00:28:10.621446Z",
     "iopub.status.busy": "2023-01-11T00:28:10.621042Z",
     "iopub.status.idle": "2023-01-11T00:28:10.630923Z",
     "shell.execute_reply": "2023-01-11T00:28:10.630559Z"
    }
   },
   "outputs": [],
   "source": [
    "for tag in content.find_all(text=re.compile(\"CITY/COMMUNITY\")):\n",
    "    table = tag.findParent(\"table\")"
   ]
  },
  {
   "cell_type": "code",
   "execution_count": 11,
   "metadata": {
    "execution": {
     "iopub.execute_input": "2023-01-11T00:28:10.636292Z",
     "iopub.status.busy": "2023-01-11T00:28:10.635571Z",
     "iopub.status.idle": "2023-01-11T00:28:10.637009Z",
     "shell.execute_reply": "2023-01-11T00:28:10.637325Z"
    }
   },
   "outputs": [],
   "source": [
    "tbody = soup.tbody"
   ]
  },
  {
   "cell_type": "code",
   "execution_count": 12,
   "metadata": {
    "execution": {
     "iopub.execute_input": "2023-01-11T00:28:10.642742Z",
     "iopub.status.busy": "2023-01-11T00:28:10.642292Z",
     "iopub.status.idle": "2023-01-11T00:28:10.644223Z",
     "shell.execute_reply": "2023-01-11T00:28:10.643878Z"
    }
   },
   "outputs": [],
   "source": [
    "row_list = tbody.find_all(\"tr\")"
   ]
  },
  {
   "cell_type": "code",
   "execution_count": 13,
   "metadata": {
    "execution": {
     "iopub.execute_input": "2023-01-11T00:28:10.648575Z",
     "iopub.status.busy": "2023-01-11T00:28:10.647887Z",
     "iopub.status.idle": "2023-01-11T00:28:10.649721Z",
     "shell.execute_reply": "2023-01-11T00:28:10.649304Z"
    }
   },
   "outputs": [],
   "source": [
    "dict_list = []"
   ]
  },
  {
   "cell_type": "code",
   "execution_count": 14,
   "metadata": {
    "execution": {
     "iopub.execute_input": "2023-01-11T00:28:10.655440Z",
     "iopub.status.busy": "2023-01-11T00:28:10.655026Z",
     "iopub.status.idle": "2023-01-11T00:28:10.656682Z",
     "shell.execute_reply": "2023-01-11T00:28:10.657007Z"
    }
   },
   "outputs": [],
   "source": [
    "def safetxt(element):\n",
    "    v = element.text.strip()\n",
    "    v = v.replace(\"\\u200b\", \"\")\n",
    "    return v"
   ]
  },
  {
   "cell_type": "code",
   "execution_count": 15,
   "metadata": {
    "execution": {
     "iopub.execute_input": "2023-01-11T00:28:10.663648Z",
     "iopub.status.busy": "2023-01-11T00:28:10.663244Z",
     "iopub.status.idle": "2023-01-11T00:28:10.665136Z",
     "shell.execute_reply": "2023-01-11T00:28:10.664776Z"
    }
   },
   "outputs": [],
   "source": [
    "def safenumber(element):\n",
    "    v = safetxt(element)\n",
    "    v = v.replace(\",\", \"\")\n",
    "    v = v.replace(\" \", \"\")\n",
    "    return v"
   ]
  },
  {
   "cell_type": "code",
   "execution_count": 16,
   "metadata": {
    "execution": {
     "iopub.execute_input": "2023-01-11T00:28:10.676014Z",
     "iopub.status.busy": "2023-01-11T00:28:10.675590Z",
     "iopub.status.idle": "2023-01-11T00:28:10.683870Z",
     "shell.execute_reply": "2023-01-11T00:28:10.683115Z"
    }
   },
   "outputs": [],
   "source": [
    "for row in row_list:\n",
    "    cell_content = row.find_all(\"td\")\n",
    "    d = dict(\n",
    "        county=\"Los Angeles\",\n",
    "        area=safetxt(cell_content[0]),\n",
    "        confirmed_cases=safenumber(cell_content[1]),\n",
    "        confirmed_deaths=safenumber(cell_content[3]),\n",
    "    )\n",
    "    dict_list.append(d)"
   ]
  },
  {
   "cell_type": "code",
   "execution_count": 17,
   "metadata": {
    "execution": {
     "iopub.execute_input": "2023-01-11T00:28:10.689134Z",
     "iopub.status.busy": "2023-01-11T00:28:10.685568Z",
     "iopub.status.idle": "2023-01-11T00:28:10.691557Z",
     "shell.execute_reply": "2023-01-11T00:28:10.691181Z"
    }
   },
   "outputs": [],
   "source": [
    "df = pd.DataFrame(dict_list)"
   ]
  },
  {
   "cell_type": "markdown",
   "metadata": {},
   "source": [
    "Get timestamp"
   ]
  },
  {
   "cell_type": "code",
   "execution_count": 18,
   "metadata": {
    "execution": {
     "iopub.execute_input": "2023-01-11T00:28:10.695066Z",
     "iopub.status.busy": "2023-01-11T00:28:10.694324Z",
     "iopub.status.idle": "2023-01-11T00:28:10.698111Z",
     "shell.execute_reply": "2023-01-11T00:28:10.697743Z"
    }
   },
   "outputs": [],
   "source": [
    "date_url = \"http://publichealth.lacounty.gov/media/Coronavirus/js/casecounter.js\""
   ]
  },
  {
   "cell_type": "code",
   "execution_count": 19,
   "metadata": {
    "execution": {
     "iopub.execute_input": "2023-01-11T00:28:10.701508Z",
     "iopub.status.busy": "2023-01-11T00:28:10.699944Z",
     "iopub.status.idle": "2023-01-11T00:28:10.862351Z",
     "shell.execute_reply": "2023-01-11T00:28:10.861936Z"
    }
   },
   "outputs": [],
   "source": [
    "response = requests.get(date_url)\n",
    "date_page = response.text"
   ]
  },
  {
   "cell_type": "code",
   "execution_count": 20,
   "metadata": {
    "execution": {
     "iopub.execute_input": "2023-01-11T00:28:10.871083Z",
     "iopub.status.busy": "2023-01-11T00:28:10.869667Z",
     "iopub.status.idle": "2023-01-11T00:28:10.875983Z",
     "shell.execute_reply": "2023-01-11T00:28:10.876343Z"
    }
   },
   "outputs": [
    {
     "data": {
      "text/plain": [
       "'$( document ).ready(function() {\\r\\n    var data = {\\r\\n\\t\\t\\t\\t    \"content\": { \\r\\n\\t\\t\\r\\n\\t\\t\\t\"count\": \"3,653,463\",\\r\\n\\r\\n\\r\\n\\t\\t\\t\"death\": \"34,888\",\\r\\n\\r\\n\\t\\t\\t\"dailycount\": \"1,383\",\\r\\n\\r\\n\\r\\n\\t\\t\\t\"dailydeath\": \"21\",\\r\\n\\t\\t\\t\"hospitalizationsever\": \"167,865\",\\r\\n\\r\\n\\r\\n\\t\\t\\t\"date\": \"01/10/23\",\\r\\n\\t\\t\\t\"info\": \"through 12:00pm 01/09/2023\",\\r\\n\\r\\n\\t\\t\\t\"testingaverage\": \"18,665\",\\r\\n\\r\\n\\t\\t\\t\"peopletested\": \"12,844,876\",\\r\\n\\r\\n\\t\\t\\t\"positivity\": \"12.78%\",\\r\\n\\r\\n\\t\\t\\t\"hospitalizations\": \"1,101\",\\r\\n\\t\\t\\t\"datehospitalizations\": \"01/09/23\"\\r\\n\\r\\n\\t\\t\\t\\t}       \\r\\n\\t\\t\\t\\t};\\t\\r\\n\\t\\t\\t\\t\\r\\n\\t\\t\\t\\t\\r\\n\\t\\t\\t\\tvar content = data.content;\\r\\n\\t\\t\\t\\t\\r\\n\\t\\t\\t\\t$(\\'#ctn\\').html(content.count);\\r\\n\\t\\t\\t\\t$(\\'#det\\').html(content.death);\\r\\n\\t\\t\\t\\t$(\\'#dctn\\').html(content.dailycount);\\r\\n\\t\\t\\t\\t$(\\'#ddet\\').html(content.dailydeath);\\r\\n\\t\\t\\t\\t$(\\'#hosp_1\\').html(content.hospitalizationsever);\\r\\n\\t\\t\\t\\t$(\\'#dte\\').html(content.date);\\r\\n\\t\\t\\t\\t$(\\'#dte_1\\').html(content.date);\\r\\n\\t\\t\\t\\t$(\\'#dte_2\\').html(content.date);\\r\\n\\t\\t\\t\\t$(\\'#dte_3\\').html(content.datehospitalizations);\\r\\n\\t\\t\\t\\t$(\\'#cse\\').html(content.info);\\t\\r\\n\\t\\t\\t\\r\\n\\t\\t\\t\\t\\r\\n\\t\\t\\t\\t$(\\'#tstavg\\').html(content.testingaverage);\\t\\r\\n\\t\\t\\t\\t$(\\'#ppltst\\').html(content.peopletested);\\t\\r\\n\\t\\t\\t\\t$(\\'#pos\\').html(content.positivity);\\t\\r\\n\\t\\t\\t\\t$(\\'#hosp\\').html(content.hospitalizations);\\r\\n\\t\\t\\t\\r\\n\\t\\t\\t\\t\\t\\t\\t\\r\\n\\r\\n\\r\\n});\\r\\n\\r\\n\\r\\n\\r\\n'"
      ]
     },
     "execution_count": 20,
     "metadata": {},
     "output_type": "execute_result"
    }
   ],
   "source": [
    "date_page"
   ]
  },
  {
   "cell_type": "code",
   "execution_count": 21,
   "metadata": {
    "execution": {
     "iopub.execute_input": "2023-01-11T00:28:10.880306Z",
     "iopub.status.busy": "2023-01-11T00:28:10.879714Z",
     "iopub.status.idle": "2023-01-11T00:28:10.882726Z",
     "shell.execute_reply": "2023-01-11T00:28:10.882311Z"
    }
   },
   "outputs": [],
   "source": [
    "# date_text = re.search(r\"([0-9][0-9]/[0-9][0-9])\", date_page).group(1)\n",
    "# date_text = date_text + \"/\" + str(date.today().year)"
   ]
  },
  {
   "cell_type": "code",
   "execution_count": 22,
   "metadata": {
    "execution": {
     "iopub.execute_input": "2023-01-11T00:28:10.887692Z",
     "iopub.status.busy": "2023-01-11T00:28:10.887108Z",
     "iopub.status.idle": "2023-01-11T00:28:10.889738Z",
     "shell.execute_reply": "2023-01-11T00:28:10.890093Z"
    }
   },
   "outputs": [],
   "source": [
    "date_text = re.search(r\"through (.+?)\\\"\", date_page).group(1)"
   ]
  },
  {
   "cell_type": "code",
   "execution_count": 23,
   "metadata": {
    "execution": {
     "iopub.execute_input": "2023-01-11T00:28:10.894685Z",
     "iopub.status.busy": "2023-01-11T00:28:10.894078Z",
     "iopub.status.idle": "2023-01-11T00:28:10.897201Z",
     "shell.execute_reply": "2023-01-11T00:28:10.896650Z"
    }
   },
   "outputs": [],
   "source": [
    "date_text = date_text.split(\"m \")[0]"
   ]
  },
  {
   "cell_type": "code",
   "execution_count": 24,
   "metadata": {
    "execution": {
     "iopub.execute_input": "2023-01-11T00:28:10.902263Z",
     "iopub.status.busy": "2023-01-11T00:28:10.899034Z",
     "iopub.status.idle": "2023-01-11T00:28:10.904695Z",
     "shell.execute_reply": "2023-01-11T00:28:10.904319Z"
    }
   },
   "outputs": [],
   "source": [
    "latest_date = pd.to_datetime(date_text).date()"
   ]
  },
  {
   "cell_type": "code",
   "execution_count": 25,
   "metadata": {
    "execution": {
     "iopub.execute_input": "2023-01-11T00:28:10.908811Z",
     "iopub.status.busy": "2023-01-11T00:28:10.906512Z",
     "iopub.status.idle": "2023-01-11T00:28:10.911815Z",
     "shell.execute_reply": "2023-01-11T00:28:10.911461Z"
    }
   },
   "outputs": [],
   "source": [
    "df[\"county_date\"] = latest_date"
   ]
  },
  {
   "cell_type": "code",
   "execution_count": 26,
   "metadata": {
    "execution": {
     "iopub.execute_input": "2023-01-11T00:28:10.916858Z",
     "iopub.status.busy": "2023-01-11T00:28:10.915284Z",
     "iopub.status.idle": "2023-01-11T00:28:10.919294Z",
     "shell.execute_reply": "2023-01-11T00:28:10.918915Z"
    }
   },
   "outputs": [],
   "source": [
    "df.loc[df.area == \"-  Under Investigation\", \"area\"] = \"Under Investigation\""
   ]
  },
  {
   "cell_type": "code",
   "execution_count": 27,
   "metadata": {
    "execution": {
     "iopub.execute_input": "2023-01-11T00:28:10.923614Z",
     "iopub.status.busy": "2023-01-11T00:28:10.922891Z",
     "iopub.status.idle": "2023-01-11T00:28:10.927484Z",
     "shell.execute_reply": "2023-01-11T00:28:10.927074Z"
    }
   },
   "outputs": [],
   "source": [
    "df.loc[df.area == \"- Under Investigation\", \"area\"] = \"Under Investigation\""
   ]
  },
  {
   "cell_type": "markdown",
   "metadata": {},
   "source": [
    "## Vet"
   ]
  },
  {
   "cell_type": "code",
   "execution_count": 28,
   "metadata": {
    "execution": {
     "iopub.execute_input": "2023-01-11T00:28:10.931639Z",
     "iopub.status.busy": "2023-01-11T00:28:10.930623Z",
     "iopub.status.idle": "2023-01-11T00:28:10.935418Z",
     "shell.execute_reply": "2023-01-11T00:28:10.935792Z"
    }
   },
   "outputs": [],
   "source": [
    "try:\n",
    "    assert not len(df) > 342\n",
    "except AssertionError:\n",
    "    raise AssertionError(\"L.A. County's scraper has extra rows\")"
   ]
  },
  {
   "cell_type": "code",
   "execution_count": 29,
   "metadata": {
    "execution": {
     "iopub.execute_input": "2023-01-11T00:28:10.939431Z",
     "iopub.status.busy": "2023-01-11T00:28:10.937667Z",
     "iopub.status.idle": "2023-01-11T00:28:11.059385Z",
     "shell.execute_reply": "2023-01-11T00:28:11.058025Z"
    }
   },
   "outputs": [
    {
     "ename": "AssertionError",
     "evalue": "L.A. County's scraper is missing rows",
     "output_type": "error",
     "traceback": [
      "\u001b[0;31m---------------------------------------------------------------------------\u001b[0m",
      "\u001b[0;31mAssertionError\u001b[0m                            Traceback (most recent call last)",
      "\u001b[0;32m/tmp/ipykernel_2296/2999864733.py\u001b[0m in \u001b[0;36m<module>\u001b[0;34m\u001b[0m\n\u001b[1;32m      1\u001b[0m \u001b[0;32mtry\u001b[0m\u001b[0;34m:\u001b[0m\u001b[0;34m\u001b[0m\u001b[0;34m\u001b[0m\u001b[0m\n\u001b[0;32m----> 2\u001b[0;31m     \u001b[0;32massert\u001b[0m \u001b[0;32mnot\u001b[0m \u001b[0mlen\u001b[0m\u001b[0;34m(\u001b[0m\u001b[0mdf\u001b[0m\u001b[0;34m)\u001b[0m \u001b[0;34m<\u001b[0m \u001b[0;36m342\u001b[0m\u001b[0;34m\u001b[0m\u001b[0;34m\u001b[0m\u001b[0m\n\u001b[0m\u001b[1;32m      3\u001b[0m \u001b[0;32mexcept\u001b[0m \u001b[0mAssertionError\u001b[0m\u001b[0;34m:\u001b[0m\u001b[0;34m\u001b[0m\u001b[0;34m\u001b[0m\u001b[0m\n",
      "\u001b[0;31mAssertionError\u001b[0m: ",
      "\nDuring handling of the above exception, another exception occurred:\n",
      "\u001b[0;31mAssertionError\u001b[0m                            Traceback (most recent call last)",
      "\u001b[0;32m/tmp/ipykernel_2296/2999864733.py\u001b[0m in \u001b[0;36m<module>\u001b[0;34m\u001b[0m\n\u001b[1;32m      2\u001b[0m     \u001b[0;32massert\u001b[0m \u001b[0;32mnot\u001b[0m \u001b[0mlen\u001b[0m\u001b[0;34m(\u001b[0m\u001b[0mdf\u001b[0m\u001b[0;34m)\u001b[0m \u001b[0;34m<\u001b[0m \u001b[0;36m342\u001b[0m\u001b[0;34m\u001b[0m\u001b[0;34m\u001b[0m\u001b[0m\n\u001b[1;32m      3\u001b[0m \u001b[0;32mexcept\u001b[0m \u001b[0mAssertionError\u001b[0m\u001b[0;34m:\u001b[0m\u001b[0;34m\u001b[0m\u001b[0;34m\u001b[0m\u001b[0m\n\u001b[0;32m----> 4\u001b[0;31m     \u001b[0;32mraise\u001b[0m \u001b[0mAssertionError\u001b[0m\u001b[0;34m(\u001b[0m\u001b[0;34m\"L.A. County's scraper is missing rows\"\u001b[0m\u001b[0;34m)\u001b[0m\u001b[0;34m\u001b[0m\u001b[0;34m\u001b[0m\u001b[0m\n\u001b[0m",
      "\u001b[0;31mAssertionError\u001b[0m: L.A. County's scraper is missing rows"
     ]
    }
   ],
   "source": [
    "try:\n",
    "    assert not len(df) < 342\n",
    "except AssertionError:\n",
    "    raise AssertionError(\"L.A. County's scraper is missing rows\")"
   ]
  },
  {
   "cell_type": "markdown",
   "metadata": {},
   "source": [
    "## Export"
   ]
  },
  {
   "cell_type": "markdown",
   "metadata": {},
   "source": [
    "Set the date"
   ]
  },
  {
   "cell_type": "code",
   "execution_count": 67,
   "metadata": {},
   "outputs": [],
   "source": [
    "tz = pytz.timezone(\"America/Los_Angeles\")"
   ]
  },
  {
   "cell_type": "code",
   "execution_count": 68,
   "metadata": {},
   "outputs": [],
   "source": [
    "today = datetime.now(tz).date()"
   ]
  },
  {
   "cell_type": "code",
   "execution_count": 69,
   "metadata": {},
   "outputs": [],
   "source": [
    "slug = \"los-angeles\""
   ]
  },
  {
   "cell_type": "code",
   "execution_count": 70,
   "metadata": {},
   "outputs": [],
   "source": [
    "df.to_csv(data_dir / slug / f\"{today}.csv\", index=False)"
   ]
  },
  {
   "cell_type": "markdown",
   "metadata": {},
   "source": [
    "## Combine"
   ]
  },
  {
   "cell_type": "code",
   "execution_count": 71,
   "metadata": {},
   "outputs": [],
   "source": [
    "csv_list = [\n",
    "    i\n",
    "    for i in glob.glob(str(data_dir / slug / \"*.csv\"))\n",
    "    if not str(i).endswith(\"timeseries.csv\")\n",
    "]"
   ]
  },
  {
   "cell_type": "code",
   "execution_count": 72,
   "metadata": {},
   "outputs": [],
   "source": [
    "df_list = []\n",
    "for csv in csv_list:\n",
    "    if \"manual\" in csv:\n",
    "        df = pd.read_csv(csv, parse_dates=[\"date\"])\n",
    "    else:\n",
    "        file_date = csv.split(\"/\")[-1].replace(\".csv\", \"\")\n",
    "        df = pd.read_csv(csv, parse_dates=[\"county_date\"])\n",
    "        df[\"date\"] = file_date\n",
    "    df_list.append(df)"
   ]
  },
  {
   "cell_type": "code",
   "execution_count": 73,
   "metadata": {},
   "outputs": [],
   "source": [
    "df = pd.concat(df_list).sort_values([\"date\", \"area\"])"
   ]
  },
  {
   "cell_type": "code",
   "execution_count": 74,
   "metadata": {},
   "outputs": [],
   "source": [
    "df.to_csv(data_dir / slug / \"timeseries.csv\", index=False)"
   ]
  },
  {
   "cell_type": "code",
   "execution_count": null,
   "metadata": {},
   "outputs": [],
   "source": []
  },
  {
   "cell_type": "code",
   "execution_count": null,
   "metadata": {},
   "outputs": [],
   "source": []
  }
 ],
 "metadata": {
  "kernelspec": {
   "display_name": "Python 3 (ipykernel)",
   "language": "python",
   "name": "python3"
  },
  "language_info": {
   "codemirror_mode": {
    "name": "ipython",
    "version": 3
   },
   "file_extension": ".py",
   "mimetype": "text/x-python",
   "name": "python",
   "nbconvert_exporter": "python",
   "pygments_lexer": "ipython3",
   "version": "3.8.15"
  }
 },
 "nbformat": 4,
 "nbformat_minor": 4
}
