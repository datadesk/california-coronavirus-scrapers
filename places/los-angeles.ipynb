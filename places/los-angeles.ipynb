{
 "cells": [
  {
   "cell_type": "markdown",
   "metadata": {
    "tags": []
   },
   "source": [
    "## Configuration\n",
    "_Initial steps to get the notebook ready to play nice with our repository. Do not delete this section._"
   ]
  },
  {
   "cell_type": "markdown",
   "metadata": {},
   "source": [
    "Code formatting with [black](https://pypi.org/project/nb-black/)."
   ]
  },
  {
   "cell_type": "code",
   "execution_count": 1,
   "metadata": {
    "execution": {
     "iopub.execute_input": "2023-01-27T20:18:40.320245Z",
     "iopub.status.busy": "2023-01-27T20:18:40.319752Z",
     "iopub.status.idle": "2023-01-27T20:18:40.467430Z",
     "shell.execute_reply": "2023-01-27T20:18:40.466851Z"
    }
   },
   "outputs": [],
   "source": [
    "%load_ext lab_black"
   ]
  },
  {
   "cell_type": "code",
   "execution_count": 2,
   "metadata": {
    "execution": {
     "iopub.execute_input": "2023-01-27T20:18:40.471462Z",
     "iopub.status.busy": "2023-01-27T20:18:40.470955Z",
     "iopub.status.idle": "2023-01-27T20:18:40.473369Z",
     "shell.execute_reply": "2023-01-27T20:18:40.472982Z"
    }
   },
   "outputs": [],
   "source": [
    "import os\n",
    "import pathlib"
   ]
  },
  {
   "cell_type": "code",
   "execution_count": 3,
   "metadata": {
    "execution": {
     "iopub.execute_input": "2023-01-27T20:18:40.478998Z",
     "iopub.status.busy": "2023-01-27T20:18:40.477909Z",
     "iopub.status.idle": "2023-01-27T20:18:40.480846Z",
     "shell.execute_reply": "2023-01-27T20:18:40.480473Z"
    }
   },
   "outputs": [],
   "source": [
    "this_dir = pathlib.Path(os.path.abspath(\"\"))"
   ]
  },
  {
   "cell_type": "code",
   "execution_count": 4,
   "metadata": {
    "execution": {
     "iopub.execute_input": "2023-01-27T20:18:40.484010Z",
     "iopub.status.busy": "2023-01-27T20:18:40.483579Z",
     "iopub.status.idle": "2023-01-27T20:18:40.487180Z",
     "shell.execute_reply": "2023-01-27T20:18:40.487546Z"
    }
   },
   "outputs": [],
   "source": [
    "data_dir = this_dir / \"data\""
   ]
  },
  {
   "cell_type": "code",
   "execution_count": 5,
   "metadata": {
    "execution": {
     "iopub.execute_input": "2023-01-27T20:18:40.491216Z",
     "iopub.status.busy": "2023-01-27T20:18:40.490780Z",
     "iopub.status.idle": "2023-01-27T20:18:40.898921Z",
     "shell.execute_reply": "2023-01-27T20:18:40.899355Z"
    }
   },
   "outputs": [],
   "source": [
    "import re\n",
    "import pytz\n",
    "import glob\n",
    "import requests\n",
    "import unicodedata\n",
    "import pandas as pd\n",
    "from slugify import slugify\n",
    "from bs4 import BeautifulSoup\n",
    "from datetime import datetime, date"
   ]
  },
  {
   "cell_type": "markdown",
   "metadata": {},
   "source": [
    "## Download"
   ]
  },
  {
   "cell_type": "markdown",
   "metadata": {},
   "source": [
    "Retrieve the page"
   ]
  },
  {
   "cell_type": "code",
   "execution_count": 6,
   "metadata": {
    "execution": {
     "iopub.execute_input": "2023-01-27T20:18:40.904260Z",
     "iopub.status.busy": "2023-01-27T20:18:40.903738Z",
     "iopub.status.idle": "2023-01-27T20:18:40.906930Z",
     "shell.execute_reply": "2023-01-27T20:18:40.906528Z"
    }
   },
   "outputs": [],
   "source": [
    "url = \"http://publichealth.lacounty.gov/media/Coronavirus/locations.htm\""
   ]
  },
  {
   "cell_type": "code",
   "execution_count": 7,
   "metadata": {
    "execution": {
     "iopub.execute_input": "2023-01-27T20:18:40.910198Z",
     "iopub.status.busy": "2023-01-27T20:18:40.909740Z",
     "iopub.status.idle": "2023-01-27T20:18:41.392800Z",
     "shell.execute_reply": "2023-01-27T20:18:41.392315Z"
    }
   },
   "outputs": [],
   "source": [
    "page = requests.get(url)"
   ]
  },
  {
   "cell_type": "markdown",
   "metadata": {},
   "source": [
    "## Parse"
   ]
  },
  {
   "cell_type": "code",
   "execution_count": 8,
   "metadata": {
    "execution": {
     "iopub.execute_input": "2023-01-27T20:18:41.415843Z",
     "iopub.status.busy": "2023-01-27T20:18:41.400282Z",
     "iopub.status.idle": "2023-01-27T20:18:41.544976Z",
     "shell.execute_reply": "2023-01-27T20:18:41.544460Z"
    }
   },
   "outputs": [],
   "source": [
    "soup = BeautifulSoup(page.content, \"html.parser\")"
   ]
  },
  {
   "cell_type": "markdown",
   "metadata": {},
   "source": [
    "Get content well"
   ]
  },
  {
   "cell_type": "code",
   "execution_count": 9,
   "metadata": {
    "execution": {
     "iopub.execute_input": "2023-01-27T20:18:41.551965Z",
     "iopub.status.busy": "2023-01-27T20:18:41.551139Z",
     "iopub.status.idle": "2023-01-27T20:18:41.552718Z",
     "shell.execute_reply": "2023-01-27T20:18:41.553084Z"
    }
   },
   "outputs": [],
   "source": [
    "content = soup.find(\"div\", {\"id\": \"content\"})"
   ]
  },
  {
   "cell_type": "markdown",
   "metadata": {},
   "source": [
    "Get table"
   ]
  },
  {
   "cell_type": "code",
   "execution_count": 10,
   "metadata": {
    "execution": {
     "iopub.execute_input": "2023-01-27T20:18:41.565827Z",
     "iopub.status.busy": "2023-01-27T20:18:41.559953Z",
     "iopub.status.idle": "2023-01-27T20:18:41.570035Z",
     "shell.execute_reply": "2023-01-27T20:18:41.569658Z"
    }
   },
   "outputs": [],
   "source": [
    "for tag in content.find_all(text=re.compile(\"CITY/COMMUNITY\")):\n",
    "    table = tag.findParent(\"table\")"
   ]
  },
  {
   "cell_type": "code",
   "execution_count": 11,
   "metadata": {
    "execution": {
     "iopub.execute_input": "2023-01-27T20:18:41.576048Z",
     "iopub.status.busy": "2023-01-27T20:18:41.575119Z",
     "iopub.status.idle": "2023-01-27T20:18:41.576625Z",
     "shell.execute_reply": "2023-01-27T20:18:41.576986Z"
    }
   },
   "outputs": [],
   "source": [
    "tbody = soup.tbody"
   ]
  },
  {
   "cell_type": "code",
   "execution_count": 12,
   "metadata": {
    "execution": {
     "iopub.execute_input": "2023-01-27T20:18:41.582624Z",
     "iopub.status.busy": "2023-01-27T20:18:41.578665Z",
     "iopub.status.idle": "2023-01-27T20:18:41.584400Z",
     "shell.execute_reply": "2023-01-27T20:18:41.584035Z"
    }
   },
   "outputs": [],
   "source": [
    "row_list = tbody.find_all(\"tr\")"
   ]
  },
  {
   "cell_type": "code",
   "execution_count": 13,
   "metadata": {
    "execution": {
     "iopub.execute_input": "2023-01-27T20:18:41.588161Z",
     "iopub.status.busy": "2023-01-27T20:18:41.587379Z",
     "iopub.status.idle": "2023-01-27T20:18:41.590892Z",
     "shell.execute_reply": "2023-01-27T20:18:41.590456Z"
    }
   },
   "outputs": [],
   "source": [
    "dict_list = []"
   ]
  },
  {
   "cell_type": "code",
   "execution_count": 14,
   "metadata": {
    "execution": {
     "iopub.execute_input": "2023-01-27T20:18:41.596645Z",
     "iopub.status.busy": "2023-01-27T20:18:41.596172Z",
     "iopub.status.idle": "2023-01-27T20:18:41.598345Z",
     "shell.execute_reply": "2023-01-27T20:18:41.597964Z"
    }
   },
   "outputs": [],
   "source": [
    "def safetxt(element):\n",
    "    v = element.text.strip()\n",
    "    v = v.replace(\"\\u200b\", \"\")\n",
    "    return v"
   ]
  },
  {
   "cell_type": "code",
   "execution_count": 15,
   "metadata": {
    "execution": {
     "iopub.execute_input": "2023-01-27T20:18:41.602393Z",
     "iopub.status.busy": "2023-01-27T20:18:41.601931Z",
     "iopub.status.idle": "2023-01-27T20:18:41.606719Z",
     "shell.execute_reply": "2023-01-27T20:18:41.606347Z"
    }
   },
   "outputs": [],
   "source": [
    "def safenumber(element):\n",
    "    v = safetxt(element)\n",
    "    v = v.replace(\",\", \"\")\n",
    "    v = v.replace(\" \", \"\")\n",
    "    return v"
   ]
  },
  {
   "cell_type": "code",
   "execution_count": 16,
   "metadata": {
    "execution": {
     "iopub.execute_input": "2023-01-27T20:18:41.618839Z",
     "iopub.status.busy": "2023-01-27T20:18:41.613570Z",
     "iopub.status.idle": "2023-01-27T20:18:41.624448Z",
     "shell.execute_reply": "2023-01-27T20:18:41.624801Z"
    }
   },
   "outputs": [],
   "source": [
    "for row in row_list:\n",
    "    cell_content = row.find_all(\"td\")\n",
    "    d = dict(\n",
    "        county=\"Los Angeles\",\n",
    "        area=safetxt(cell_content[0]),\n",
    "        confirmed_cases=safenumber(cell_content[1]),\n",
    "        confirmed_deaths=safenumber(cell_content[3]),\n",
    "    )\n",
    "    dict_list.append(d)"
   ]
  },
  {
   "cell_type": "code",
   "execution_count": 17,
   "metadata": {
    "execution": {
     "iopub.execute_input": "2023-01-27T20:18:41.629947Z",
     "iopub.status.busy": "2023-01-27T20:18:41.629101Z",
     "iopub.status.idle": "2023-01-27T20:18:41.631719Z",
     "shell.execute_reply": "2023-01-27T20:18:41.632060Z"
    }
   },
   "outputs": [],
   "source": [
    "df = pd.DataFrame(dict_list)"
   ]
  },
  {
   "cell_type": "markdown",
   "metadata": {},
   "source": [
    "Get timestamp"
   ]
  },
  {
   "cell_type": "code",
   "execution_count": 18,
   "metadata": {
    "execution": {
     "iopub.execute_input": "2023-01-27T20:18:41.637215Z",
     "iopub.status.busy": "2023-01-27T20:18:41.636301Z",
     "iopub.status.idle": "2023-01-27T20:18:41.638336Z",
     "shell.execute_reply": "2023-01-27T20:18:41.637918Z"
    }
   },
   "outputs": [],
   "source": [
    "date_url = \"http://publichealth.lacounty.gov/media/Coronavirus/js/casecounter.js\""
   ]
  },
  {
   "cell_type": "code",
   "execution_count": 19,
   "metadata": {
    "execution": {
     "iopub.execute_input": "2023-01-27T20:18:41.644504Z",
     "iopub.status.busy": "2023-01-27T20:18:41.644064Z",
     "iopub.status.idle": "2023-01-27T20:18:41.800657Z",
     "shell.execute_reply": "2023-01-27T20:18:41.800120Z"
    }
   },
   "outputs": [],
   "source": [
    "response = requests.get(date_url)\n",
    "date_page = response.text"
   ]
  },
  {
   "cell_type": "code",
   "execution_count": 20,
   "metadata": {
    "execution": {
     "iopub.execute_input": "2023-01-27T20:18:41.809061Z",
     "iopub.status.busy": "2023-01-27T20:18:41.808154Z",
     "iopub.status.idle": "2023-01-27T20:18:41.813392Z",
     "shell.execute_reply": "2023-01-27T20:18:41.813788Z"
    }
   },
   "outputs": [
    {
     "data": {
      "text/plain": [
       "'$( document ).ready(function() {\\r\\n    var data = {\\r\\n\\t\\t\\t\\t    \"content\": { \\r\\n\\t\\t\\r\\n\\t\\t\\t\"count\": \"3,672,125\",\\r\\n\\r\\n\\r\\n\\t\\t\\t\"death\": \"35,212\",\\r\\n\\r\\n\\t\\t\\t\"dailycount\": \"1,095\",\\r\\n\\r\\n\\r\\n\\t\\t\\t\"dailydeath\": \"23\",\\r\\n\\t\\t\\t\"hospitalizationsever\": \"169,980\",\\r\\n\\r\\n\\r\\n\\t\\t\\t\"date\": \"01/26/23\",\\r\\n\\t\\t\\t\"info\": \"through 12:00pm 01/25/2023\",\\r\\n\\r\\n\\t\\t\\t\"testingaverage\": \"22,591\",\\r\\n\\r\\n\\t\\t\\t\"peopletested\": \"12,878,994\",\\r\\n\\r\\n\\t\\t\\t\"positivity\": \"4.70%\",\\r\\n\\r\\n\\t\\t\\t\"hospitalizations\": \"729\",\\r\\n\\t\\t\\t\"datehospitalizations\": \"01/25/23\"\\r\\n\\r\\n\\t\\t\\t\\t}       \\r\\n\\t\\t\\t\\t};\\t\\r\\n\\t\\t\\t\\t\\r\\n\\t\\t\\t\\t\\r\\n\\t\\t\\t\\tvar content = data.content;\\r\\n\\t\\t\\t\\t\\r\\n\\t\\t\\t\\t$(\\'#ctn\\').html(content.count);\\r\\n\\t\\t\\t\\t$(\\'#det\\').html(content.death);\\r\\n\\t\\t\\t\\t$(\\'#dctn\\').html(content.dailycount);\\r\\n\\t\\t\\t\\t$(\\'#ddet\\').html(content.dailydeath);\\r\\n\\t\\t\\t\\t$(\\'#hosp_1\\').html(content.hospitalizationsever);\\r\\n\\t\\t\\t\\t$(\\'#dte\\').html(content.date);\\r\\n\\t\\t\\t\\t$(\\'#dte_1\\').html(content.date);\\r\\n\\t\\t\\t\\t$(\\'#dte_2\\').html(content.date);\\r\\n\\t\\t\\t\\t$(\\'#dte_3\\').html(content.datehospitalizations);\\r\\n\\t\\t\\t\\t$(\\'#cse\\').html(content.info);\\t\\r\\n\\t\\t\\t\\r\\n\\t\\t\\t\\t\\r\\n\\t\\t\\t\\t$(\\'#tstavg\\').html(content.testingaverage);\\t\\r\\n\\t\\t\\t\\t$(\\'#ppltst\\').html(content.peopletested);\\t\\r\\n\\t\\t\\t\\t$(\\'#pos\\').html(content.positivity);\\t\\r\\n\\t\\t\\t\\t$(\\'#hosp\\').html(content.hospitalizations);\\r\\n\\t\\t\\t\\r\\n\\t\\t\\t\\t\\t\\t\\t\\r\\n\\r\\n\\r\\n});\\r\\n\\r\\n\\r\\n\\r\\n'"
      ]
     },
     "execution_count": 20,
     "metadata": {},
     "output_type": "execute_result"
    }
   ],
   "source": [
    "date_page"
   ]
  },
  {
   "cell_type": "code",
   "execution_count": 21,
   "metadata": {
    "execution": {
     "iopub.execute_input": "2023-01-27T20:18:41.817681Z",
     "iopub.status.busy": "2023-01-27T20:18:41.817223Z",
     "iopub.status.idle": "2023-01-27T20:18:41.819276Z",
     "shell.execute_reply": "2023-01-27T20:18:41.818906Z"
    }
   },
   "outputs": [],
   "source": [
    "# date_text = re.search(r\"([0-9][0-9]/[0-9][0-9])\", date_page).group(1)\n",
    "# date_text = date_text + \"/\" + str(date.today().year)"
   ]
  },
  {
   "cell_type": "code",
   "execution_count": 22,
   "metadata": {
    "execution": {
     "iopub.execute_input": "2023-01-27T20:18:41.824234Z",
     "iopub.status.busy": "2023-01-27T20:18:41.822970Z",
     "iopub.status.idle": "2023-01-27T20:18:41.825808Z",
     "shell.execute_reply": "2023-01-27T20:18:41.826146Z"
    }
   },
   "outputs": [],
   "source": [
    "date_text = re.search(r\"through (.+?)\\\"\", date_page).group(1)"
   ]
  },
  {
   "cell_type": "code",
   "execution_count": 23,
   "metadata": {
    "execution": {
     "iopub.execute_input": "2023-01-27T20:18:41.831082Z",
     "iopub.status.busy": "2023-01-27T20:18:41.830290Z",
     "iopub.status.idle": "2023-01-27T20:18:41.832148Z",
     "shell.execute_reply": "2023-01-27T20:18:41.831793Z"
    }
   },
   "outputs": [],
   "source": [
    "date_text = date_text.split(\"m \")[0]"
   ]
  },
  {
   "cell_type": "code",
   "execution_count": 24,
   "metadata": {
    "execution": {
     "iopub.execute_input": "2023-01-27T20:18:41.835855Z",
     "iopub.status.busy": "2023-01-27T20:18:41.835422Z",
     "iopub.status.idle": "2023-01-27T20:18:41.838817Z",
     "shell.execute_reply": "2023-01-27T20:18:41.838430Z"
    }
   },
   "outputs": [],
   "source": [
    "latest_date = pd.to_datetime(date_text).date()"
   ]
  },
  {
   "cell_type": "code",
   "execution_count": 25,
   "metadata": {
    "execution": {
     "iopub.execute_input": "2023-01-27T20:18:41.842704Z",
     "iopub.status.busy": "2023-01-27T20:18:41.842264Z",
     "iopub.status.idle": "2023-01-27T20:18:41.845009Z",
     "shell.execute_reply": "2023-01-27T20:18:41.845344Z"
    }
   },
   "outputs": [],
   "source": [
    "df[\"county_date\"] = latest_date"
   ]
  },
  {
   "cell_type": "code",
   "execution_count": 26,
   "metadata": {
    "execution": {
     "iopub.execute_input": "2023-01-27T20:18:41.849652Z",
     "iopub.status.busy": "2023-01-27T20:18:41.849192Z",
     "iopub.status.idle": "2023-01-27T20:18:41.852380Z",
     "shell.execute_reply": "2023-01-27T20:18:41.852721Z"
    }
   },
   "outputs": [],
   "source": [
    "df.loc[df.area == \"-  Under Investigation\", \"area\"] = \"Under Investigation\""
   ]
  },
  {
   "cell_type": "code",
   "execution_count": 27,
   "metadata": {
    "execution": {
     "iopub.execute_input": "2023-01-27T20:18:41.856659Z",
     "iopub.status.busy": "2023-01-27T20:18:41.856225Z",
     "iopub.status.idle": "2023-01-27T20:18:41.860262Z",
     "shell.execute_reply": "2023-01-27T20:18:41.860599Z"
    }
   },
   "outputs": [],
   "source": [
    "df.loc[df.area == \"- Under Investigation\", \"area\"] = \"Under Investigation\""
   ]
  },
  {
   "cell_type": "markdown",
   "metadata": {},
   "source": [
    "## Vet"
   ]
  },
  {
   "cell_type": "code",
   "execution_count": 28,
   "metadata": {
    "execution": {
     "iopub.execute_input": "2023-01-27T20:18:41.863942Z",
     "iopub.status.busy": "2023-01-27T20:18:41.863511Z",
     "iopub.status.idle": "2023-01-27T20:18:41.867429Z",
     "shell.execute_reply": "2023-01-27T20:18:41.867070Z"
    }
   },
   "outputs": [],
   "source": [
    "try:\n",
    "    assert not len(df) > 342\n",
    "except AssertionError:\n",
    "    raise AssertionError(\"L.A. County's scraper has extra rows\")"
   ]
  },
  {
   "cell_type": "code",
   "execution_count": 29,
   "metadata": {
    "execution": {
     "iopub.execute_input": "2023-01-27T20:18:41.870769Z",
     "iopub.status.busy": "2023-01-27T20:18:41.870339Z",
     "iopub.status.idle": "2023-01-27T20:18:41.993088Z",
     "shell.execute_reply": "2023-01-27T20:18:41.993885Z"
    }
   },
   "outputs": [
    {
     "ename": "AssertionError",
     "evalue": "L.A. County's scraper is missing rows",
     "output_type": "error",
     "traceback": [
      "\u001b[0;31m---------------------------------------------------------------------------\u001b[0m",
      "\u001b[0;31mAssertionError\u001b[0m                            Traceback (most recent call last)",
      "\u001b[0;32m/tmp/ipykernel_2164/2999864733.py\u001b[0m in \u001b[0;36m<module>\u001b[0;34m\u001b[0m\n\u001b[1;32m      1\u001b[0m \u001b[0;32mtry\u001b[0m\u001b[0;34m:\u001b[0m\u001b[0;34m\u001b[0m\u001b[0;34m\u001b[0m\u001b[0m\n\u001b[0;32m----> 2\u001b[0;31m     \u001b[0;32massert\u001b[0m \u001b[0;32mnot\u001b[0m \u001b[0mlen\u001b[0m\u001b[0;34m(\u001b[0m\u001b[0mdf\u001b[0m\u001b[0;34m)\u001b[0m \u001b[0;34m<\u001b[0m \u001b[0;36m342\u001b[0m\u001b[0;34m\u001b[0m\u001b[0;34m\u001b[0m\u001b[0m\n\u001b[0m\u001b[1;32m      3\u001b[0m \u001b[0;32mexcept\u001b[0m \u001b[0mAssertionError\u001b[0m\u001b[0;34m:\u001b[0m\u001b[0;34m\u001b[0m\u001b[0;34m\u001b[0m\u001b[0m\n",
      "\u001b[0;31mAssertionError\u001b[0m: ",
      "\nDuring handling of the above exception, another exception occurred:\n",
      "\u001b[0;31mAssertionError\u001b[0m                            Traceback (most recent call last)",
      "\u001b[0;32m/tmp/ipykernel_2164/2999864733.py\u001b[0m in \u001b[0;36m<module>\u001b[0;34m\u001b[0m\n\u001b[1;32m      2\u001b[0m     \u001b[0;32massert\u001b[0m \u001b[0;32mnot\u001b[0m \u001b[0mlen\u001b[0m\u001b[0;34m(\u001b[0m\u001b[0mdf\u001b[0m\u001b[0;34m)\u001b[0m \u001b[0;34m<\u001b[0m \u001b[0;36m342\u001b[0m\u001b[0;34m\u001b[0m\u001b[0;34m\u001b[0m\u001b[0m\n\u001b[1;32m      3\u001b[0m \u001b[0;32mexcept\u001b[0m \u001b[0mAssertionError\u001b[0m\u001b[0;34m:\u001b[0m\u001b[0;34m\u001b[0m\u001b[0;34m\u001b[0m\u001b[0m\n\u001b[0;32m----> 4\u001b[0;31m     \u001b[0;32mraise\u001b[0m \u001b[0mAssertionError\u001b[0m\u001b[0;34m(\u001b[0m\u001b[0;34m\"L.A. County's scraper is missing rows\"\u001b[0m\u001b[0;34m)\u001b[0m\u001b[0;34m\u001b[0m\u001b[0;34m\u001b[0m\u001b[0m\n\u001b[0m",
      "\u001b[0;31mAssertionError\u001b[0m: L.A. County's scraper is missing rows"
     ]
    }
   ],
   "source": [
    "try:\n",
    "    assert not len(df) < 342\n",
    "except AssertionError:\n",
    "    raise AssertionError(\"L.A. County's scraper is missing rows\")"
   ]
  },
  {
   "cell_type": "markdown",
   "metadata": {},
   "source": [
    "## Export"
   ]
  },
  {
   "cell_type": "markdown",
   "metadata": {},
   "source": [
    "Set the date"
   ]
  },
  {
   "cell_type": "code",
   "execution_count": 67,
   "metadata": {},
   "outputs": [],
   "source": [
    "tz = pytz.timezone(\"America/Los_Angeles\")"
   ]
  },
  {
   "cell_type": "code",
   "execution_count": 68,
   "metadata": {},
   "outputs": [],
   "source": [
    "today = datetime.now(tz).date()"
   ]
  },
  {
   "cell_type": "code",
   "execution_count": 69,
   "metadata": {},
   "outputs": [],
   "source": [
    "slug = \"los-angeles\""
   ]
  },
  {
   "cell_type": "code",
   "execution_count": 70,
   "metadata": {},
   "outputs": [],
   "source": [
    "df.to_csv(data_dir / slug / f\"{today}.csv\", index=False)"
   ]
  },
  {
   "cell_type": "markdown",
   "metadata": {},
   "source": [
    "## Combine"
   ]
  },
  {
   "cell_type": "code",
   "execution_count": 71,
   "metadata": {},
   "outputs": [],
   "source": [
    "csv_list = [\n",
    "    i\n",
    "    for i in glob.glob(str(data_dir / slug / \"*.csv\"))\n",
    "    if not str(i).endswith(\"timeseries.csv\")\n",
    "]"
   ]
  },
  {
   "cell_type": "code",
   "execution_count": 72,
   "metadata": {},
   "outputs": [],
   "source": [
    "df_list = []\n",
    "for csv in csv_list:\n",
    "    if \"manual\" in csv:\n",
    "        df = pd.read_csv(csv, parse_dates=[\"date\"])\n",
    "    else:\n",
    "        file_date = csv.split(\"/\")[-1].replace(\".csv\", \"\")\n",
    "        df = pd.read_csv(csv, parse_dates=[\"county_date\"])\n",
    "        df[\"date\"] = file_date\n",
    "    df_list.append(df)"
   ]
  },
  {
   "cell_type": "code",
   "execution_count": 73,
   "metadata": {},
   "outputs": [],
   "source": [
    "df = pd.concat(df_list).sort_values([\"date\", \"area\"])"
   ]
  },
  {
   "cell_type": "code",
   "execution_count": 74,
   "metadata": {},
   "outputs": [],
   "source": [
    "df.to_csv(data_dir / slug / \"timeseries.csv\", index=False)"
   ]
  },
  {
   "cell_type": "code",
   "execution_count": null,
   "metadata": {},
   "outputs": [],
   "source": []
  },
  {
   "cell_type": "code",
   "execution_count": null,
   "metadata": {},
   "outputs": [],
   "source": []
  }
 ],
 "metadata": {
  "kernelspec": {
   "display_name": "Python 3 (ipykernel)",
   "language": "python",
   "name": "python3"
  },
  "language_info": {
   "codemirror_mode": {
    "name": "ipython",
    "version": 3
   },
   "file_extension": ".py",
   "mimetype": "text/x-python",
   "name": "python",
   "nbconvert_exporter": "python",
   "pygments_lexer": "ipython3",
   "version": "3.8.16"
  }
 },
 "nbformat": 4,
 "nbformat_minor": 4
}
