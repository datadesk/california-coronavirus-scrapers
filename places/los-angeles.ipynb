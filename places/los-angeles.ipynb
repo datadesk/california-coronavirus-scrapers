{
 "cells": [
  {
   "cell_type": "markdown",
   "metadata": {
    "tags": []
   },
   "source": [
    "## Configuration\n",
    "_Initial steps to get the notebook ready to play nice with our repository. Do not delete this section._"
   ]
  },
  {
   "cell_type": "markdown",
   "metadata": {},
   "source": [
    "Code formatting with [black](https://pypi.org/project/nb-black/)."
   ]
  },
  {
   "cell_type": "code",
   "execution_count": 1,
   "metadata": {
    "execution": {
     "iopub.execute_input": "2023-01-31T00:30:54.393741Z",
     "iopub.status.busy": "2023-01-31T00:30:54.392818Z",
     "iopub.status.idle": "2023-01-31T00:30:54.579300Z",
     "shell.execute_reply": "2023-01-31T00:30:54.578705Z"
    }
   },
   "outputs": [],
   "source": [
    "%load_ext lab_black"
   ]
  },
  {
   "cell_type": "code",
   "execution_count": 2,
   "metadata": {
    "execution": {
     "iopub.execute_input": "2023-01-31T00:30:54.584895Z",
     "iopub.status.busy": "2023-01-31T00:30:54.583154Z",
     "iopub.status.idle": "2023-01-31T00:30:54.598583Z",
     "shell.execute_reply": "2023-01-31T00:30:54.598029Z"
    }
   },
   "outputs": [],
   "source": [
    "import os\n",
    "import pathlib"
   ]
  },
  {
   "cell_type": "code",
   "execution_count": 3,
   "metadata": {
    "execution": {
     "iopub.execute_input": "2023-01-31T00:30:54.602974Z",
     "iopub.status.busy": "2023-01-31T00:30:54.602368Z",
     "iopub.status.idle": "2023-01-31T00:30:54.608253Z",
     "shell.execute_reply": "2023-01-31T00:30:54.607704Z"
    }
   },
   "outputs": [],
   "source": [
    "this_dir = pathlib.Path(os.path.abspath(\"\"))"
   ]
  },
  {
   "cell_type": "code",
   "execution_count": 4,
   "metadata": {
    "execution": {
     "iopub.execute_input": "2023-01-31T00:30:54.612962Z",
     "iopub.status.busy": "2023-01-31T00:30:54.611710Z",
     "iopub.status.idle": "2023-01-31T00:30:54.615711Z",
     "shell.execute_reply": "2023-01-31T00:30:54.615134Z"
    }
   },
   "outputs": [],
   "source": [
    "data_dir = this_dir / \"data\""
   ]
  },
  {
   "cell_type": "code",
   "execution_count": 5,
   "metadata": {
    "execution": {
     "iopub.execute_input": "2023-01-31T00:30:54.620359Z",
     "iopub.status.busy": "2023-01-31T00:30:54.619770Z",
     "iopub.status.idle": "2023-01-31T00:30:55.122742Z",
     "shell.execute_reply": "2023-01-31T00:30:55.121933Z"
    }
   },
   "outputs": [],
   "source": [
    "import re\n",
    "import pytz\n",
    "import glob\n",
    "import requests\n",
    "import unicodedata\n",
    "import pandas as pd\n",
    "from slugify import slugify\n",
    "from bs4 import BeautifulSoup\n",
    "from datetime import datetime, date"
   ]
  },
  {
   "cell_type": "markdown",
   "metadata": {},
   "source": [
    "## Download"
   ]
  },
  {
   "cell_type": "markdown",
   "metadata": {},
   "source": [
    "Retrieve the page"
   ]
  },
  {
   "cell_type": "code",
   "execution_count": 6,
   "metadata": {
    "execution": {
     "iopub.execute_input": "2023-01-31T00:30:55.128235Z",
     "iopub.status.busy": "2023-01-31T00:30:55.126861Z",
     "iopub.status.idle": "2023-01-31T00:30:55.130427Z",
     "shell.execute_reply": "2023-01-31T00:30:55.129903Z"
    }
   },
   "outputs": [],
   "source": [
    "url = \"http://publichealth.lacounty.gov/media/Coronavirus/locations.htm\""
   ]
  },
  {
   "cell_type": "code",
   "execution_count": 7,
   "metadata": {
    "execution": {
     "iopub.execute_input": "2023-01-31T00:30:55.139181Z",
     "iopub.status.busy": "2023-01-31T00:30:55.138468Z",
     "iopub.status.idle": "2023-01-31T00:30:55.692764Z",
     "shell.execute_reply": "2023-01-31T00:30:55.693885Z"
    }
   },
   "outputs": [],
   "source": [
    "page = requests.get(url)"
   ]
  },
  {
   "cell_type": "markdown",
   "metadata": {},
   "source": [
    "## Parse"
   ]
  },
  {
   "cell_type": "code",
   "execution_count": 8,
   "metadata": {
    "execution": {
     "iopub.execute_input": "2023-01-31T00:30:55.719789Z",
     "iopub.status.busy": "2023-01-31T00:30:55.708167Z",
     "iopub.status.idle": "2023-01-31T00:30:55.905057Z",
     "shell.execute_reply": "2023-01-31T00:30:55.904478Z"
    }
   },
   "outputs": [],
   "source": [
    "soup = BeautifulSoup(page.content, \"html.parser\")"
   ]
  },
  {
   "cell_type": "markdown",
   "metadata": {},
   "source": [
    "Get content well"
   ]
  },
  {
   "cell_type": "code",
   "execution_count": 9,
   "metadata": {
    "execution": {
     "iopub.execute_input": "2023-01-31T00:30:55.911562Z",
     "iopub.status.busy": "2023-01-31T00:30:55.910777Z",
     "iopub.status.idle": "2023-01-31T00:30:55.914595Z",
     "shell.execute_reply": "2023-01-31T00:30:55.915121Z"
    }
   },
   "outputs": [],
   "source": [
    "content = soup.find(\"div\", {\"id\": \"content\"})"
   ]
  },
  {
   "cell_type": "markdown",
   "metadata": {},
   "source": [
    "Get table"
   ]
  },
  {
   "cell_type": "code",
   "execution_count": 10,
   "metadata": {
    "execution": {
     "iopub.execute_input": "2023-01-31T00:30:55.933532Z",
     "iopub.status.busy": "2023-01-31T00:30:55.927986Z",
     "iopub.status.idle": "2023-01-31T00:30:55.936015Z",
     "shell.execute_reply": "2023-01-31T00:30:55.935427Z"
    }
   },
   "outputs": [],
   "source": [
    "for tag in content.find_all(text=re.compile(\"CITY/COMMUNITY\")):\n",
    "    table = tag.findParent(\"table\")"
   ]
  },
  {
   "cell_type": "code",
   "execution_count": 11,
   "metadata": {
    "execution": {
     "iopub.execute_input": "2023-01-31T00:30:55.943891Z",
     "iopub.status.busy": "2023-01-31T00:30:55.942282Z",
     "iopub.status.idle": "2023-01-31T00:30:55.944532Z",
     "shell.execute_reply": "2023-01-31T00:30:55.945014Z"
    }
   },
   "outputs": [],
   "source": [
    "tbody = soup.tbody"
   ]
  },
  {
   "cell_type": "code",
   "execution_count": 12,
   "metadata": {
    "execution": {
     "iopub.execute_input": "2023-01-31T00:30:55.951296Z",
     "iopub.status.busy": "2023-01-31T00:30:55.950716Z",
     "iopub.status.idle": "2023-01-31T00:30:55.958415Z",
     "shell.execute_reply": "2023-01-31T00:30:55.957821Z"
    }
   },
   "outputs": [],
   "source": [
    "row_list = tbody.find_all(\"tr\")"
   ]
  },
  {
   "cell_type": "code",
   "execution_count": 13,
   "metadata": {
    "execution": {
     "iopub.execute_input": "2023-01-31T00:30:55.965043Z",
     "iopub.status.busy": "2023-01-31T00:30:55.963723Z",
     "iopub.status.idle": "2023-01-31T00:30:55.965683Z",
     "shell.execute_reply": "2023-01-31T00:30:55.966201Z"
    }
   },
   "outputs": [],
   "source": [
    "dict_list = []"
   ]
  },
  {
   "cell_type": "code",
   "execution_count": 14,
   "metadata": {
    "execution": {
     "iopub.execute_input": "2023-01-31T00:30:55.971564Z",
     "iopub.status.busy": "2023-01-31T00:30:55.970915Z",
     "iopub.status.idle": "2023-01-31T00:30:55.977370Z",
     "shell.execute_reply": "2023-01-31T00:30:55.976720Z"
    }
   },
   "outputs": [],
   "source": [
    "def safetxt(element):\n",
    "    v = element.text.strip()\n",
    "    v = v.replace(\"\\u200b\", \"\")\n",
    "    return v"
   ]
  },
  {
   "cell_type": "code",
   "execution_count": 15,
   "metadata": {
    "execution": {
     "iopub.execute_input": "2023-01-31T00:30:55.986544Z",
     "iopub.status.busy": "2023-01-31T00:30:55.985934Z",
     "iopub.status.idle": "2023-01-31T00:30:55.988465Z",
     "shell.execute_reply": "2023-01-31T00:30:55.988919Z"
    }
   },
   "outputs": [],
   "source": [
    "def safenumber(element):\n",
    "    v = safetxt(element)\n",
    "    v = v.replace(\",\", \"\")\n",
    "    v = v.replace(\" \", \"\")\n",
    "    return v"
   ]
  },
  {
   "cell_type": "code",
   "execution_count": 16,
   "metadata": {
    "execution": {
     "iopub.execute_input": "2023-01-31T00:30:56.004053Z",
     "iopub.status.busy": "2023-01-31T00:30:56.001617Z",
     "iopub.status.idle": "2023-01-31T00:30:56.012024Z",
     "shell.execute_reply": "2023-01-31T00:30:56.011533Z"
    }
   },
   "outputs": [],
   "source": [
    "for row in row_list:\n",
    "    cell_content = row.find_all(\"td\")\n",
    "    d = dict(\n",
    "        county=\"Los Angeles\",\n",
    "        area=safetxt(cell_content[0]),\n",
    "        confirmed_cases=safenumber(cell_content[1]),\n",
    "        confirmed_deaths=safenumber(cell_content[3]),\n",
    "    )\n",
    "    dict_list.append(d)"
   ]
  },
  {
   "cell_type": "code",
   "execution_count": 17,
   "metadata": {
    "execution": {
     "iopub.execute_input": "2023-01-31T00:30:56.018838Z",
     "iopub.status.busy": "2023-01-31T00:30:56.018261Z",
     "iopub.status.idle": "2023-01-31T00:30:56.021576Z",
     "shell.execute_reply": "2023-01-31T00:30:56.022401Z"
    }
   },
   "outputs": [],
   "source": [
    "df = pd.DataFrame(dict_list)"
   ]
  },
  {
   "cell_type": "markdown",
   "metadata": {},
   "source": [
    "Get timestamp"
   ]
  },
  {
   "cell_type": "code",
   "execution_count": 18,
   "metadata": {
    "execution": {
     "iopub.execute_input": "2023-01-31T00:30:56.028955Z",
     "iopub.status.busy": "2023-01-31T00:30:56.028376Z",
     "iopub.status.idle": "2023-01-31T00:30:56.032714Z",
     "shell.execute_reply": "2023-01-31T00:30:56.032140Z"
    }
   },
   "outputs": [],
   "source": [
    "date_url = \"http://publichealth.lacounty.gov/media/Coronavirus/js/casecounter.js\""
   ]
  },
  {
   "cell_type": "code",
   "execution_count": 19,
   "metadata": {
    "execution": {
     "iopub.execute_input": "2023-01-31T00:30:56.040894Z",
     "iopub.status.busy": "2023-01-31T00:30:56.040315Z",
     "iopub.status.idle": "2023-01-31T00:30:56.321754Z",
     "shell.execute_reply": "2023-01-31T00:30:56.322292Z"
    }
   },
   "outputs": [],
   "source": [
    "response = requests.get(date_url)\n",
    "date_page = response.text"
   ]
  },
  {
   "cell_type": "code",
   "execution_count": 20,
   "metadata": {
    "execution": {
     "iopub.execute_input": "2023-01-31T00:30:56.330612Z",
     "iopub.status.busy": "2023-01-31T00:30:56.330035Z",
     "iopub.status.idle": "2023-01-31T00:30:56.338305Z",
     "shell.execute_reply": "2023-01-31T00:30:56.338800Z"
    }
   },
   "outputs": [
    {
     "data": {
      "text/plain": [
       "'$( document ).ready(function() {\\r\\n    var data = {\\r\\n\\t\\t\\t\\t    \"content\": { \\r\\n\\t\\t\\r\\n\\t\\t\\t\"count\": \"3,673,339\",\\r\\n\\r\\n\\r\\n\\t\\t\\t\"death\": \"35,230\",\\r\\n\\r\\n\\t\\t\\t\"dailycount\": \"1,123\",\\r\\n\\r\\n\\r\\n\\t\\t\\t\"dailydeath\": \"19\",\\r\\n\\t\\t\\t\"hospitalizationsever\": \"169,988\",\\r\\n\\r\\n\\r\\n\\t\\t\\t\"date\": \"01/27/23\",\\r\\n\\t\\t\\t\"info\": \"through 12:00pm 01/26/2023\",\\r\\n\\r\\n\\t\\t\\t\"testingaverage\": \"22,605\",\\r\\n\\r\\n\\t\\t\\t\"peopletested\": \"12,881,377\",\\r\\n\\r\\n\\t\\t\\t\"positivity\": \"4.57%\",\\r\\n\\r\\n\\t\\t\\t\"hospitalizations\": \"722\",\\r\\n\\t\\t\\t\"datehospitalizations\": \"01/26/23\"\\r\\n\\r\\n\\t\\t\\t\\t}       \\r\\n\\t\\t\\t\\t};\\t\\r\\n\\t\\t\\t\\t\\r\\n\\t\\t\\t\\t\\r\\n\\t\\t\\t\\tvar content = data.content;\\r\\n\\t\\t\\t\\t\\r\\n\\t\\t\\t\\t$(\\'#ctn\\').html(content.count);\\r\\n\\t\\t\\t\\t$(\\'#det\\').html(content.death);\\r\\n\\t\\t\\t\\t$(\\'#dctn\\').html(content.dailycount);\\r\\n\\t\\t\\t\\t$(\\'#ddet\\').html(content.dailydeath);\\r\\n\\t\\t\\t\\t$(\\'#hosp_1\\').html(content.hospitalizationsever);\\r\\n\\t\\t\\t\\t$(\\'#dte\\').html(content.date);\\r\\n\\t\\t\\t\\t$(\\'#dte_1\\').html(content.date);\\r\\n\\t\\t\\t\\t$(\\'#dte_2\\').html(content.date);\\r\\n\\t\\t\\t\\t$(\\'#dte_3\\').html(content.datehospitalizations);\\r\\n\\t\\t\\t\\t$(\\'#cse\\').html(content.info);\\t\\r\\n\\t\\t\\t\\r\\n\\t\\t\\t\\t\\r\\n\\t\\t\\t\\t$(\\'#tstavg\\').html(content.testingaverage);\\t\\r\\n\\t\\t\\t\\t$(\\'#ppltst\\').html(content.peopletested);\\t\\r\\n\\t\\t\\t\\t$(\\'#pos\\').html(content.positivity);\\t\\r\\n\\t\\t\\t\\t$(\\'#hosp\\').html(content.hospitalizations);\\r\\n\\t\\t\\t\\r\\n\\t\\t\\t\\t\\t\\t\\t\\r\\n\\r\\n\\r\\n});\\r\\n\\r\\n\\r\\n\\r\\n'"
      ]
     },
     "execution_count": 20,
     "metadata": {},
     "output_type": "execute_result"
    }
   ],
   "source": [
    "date_page"
   ]
  },
  {
   "cell_type": "code",
   "execution_count": 21,
   "metadata": {
    "execution": {
     "iopub.execute_input": "2023-01-31T00:30:56.344437Z",
     "iopub.status.busy": "2023-01-31T00:30:56.343151Z",
     "iopub.status.idle": "2023-01-31T00:30:56.345146Z",
     "shell.execute_reply": "2023-01-31T00:30:56.345638Z"
    }
   },
   "outputs": [],
   "source": [
    "# date_text = re.search(r\"([0-9][0-9]/[0-9][0-9])\", date_page).group(1)\n",
    "# date_text = date_text + \"/\" + str(date.today().year)"
   ]
  },
  {
   "cell_type": "code",
   "execution_count": 22,
   "metadata": {
    "execution": {
     "iopub.execute_input": "2023-01-31T00:30:56.350210Z",
     "iopub.status.busy": "2023-01-31T00:30:56.349598Z",
     "iopub.status.idle": "2023-01-31T00:30:56.354452Z",
     "shell.execute_reply": "2023-01-31T00:30:56.353748Z"
    }
   },
   "outputs": [],
   "source": [
    "date_text = re.search(r\"through (.+?)\\\"\", date_page).group(1)"
   ]
  },
  {
   "cell_type": "code",
   "execution_count": 23,
   "metadata": {
    "execution": {
     "iopub.execute_input": "2023-01-31T00:30:56.360129Z",
     "iopub.status.busy": "2023-01-31T00:30:56.356682Z",
     "iopub.status.idle": "2023-01-31T00:30:56.362692Z",
     "shell.execute_reply": "2023-01-31T00:30:56.362214Z"
    }
   },
   "outputs": [],
   "source": [
    "date_text = date_text.split(\"m \")[0]"
   ]
  },
  {
   "cell_type": "code",
   "execution_count": 24,
   "metadata": {
    "execution": {
     "iopub.execute_input": "2023-01-31T00:30:56.367766Z",
     "iopub.status.busy": "2023-01-31T00:30:56.367191Z",
     "iopub.status.idle": "2023-01-31T00:30:56.370687Z",
     "shell.execute_reply": "2023-01-31T00:30:56.371139Z"
    }
   },
   "outputs": [],
   "source": [
    "latest_date = pd.to_datetime(date_text).date()"
   ]
  },
  {
   "cell_type": "code",
   "execution_count": 25,
   "metadata": {
    "execution": {
     "iopub.execute_input": "2023-01-31T00:30:56.376384Z",
     "iopub.status.busy": "2023-01-31T00:30:56.375808Z",
     "iopub.status.idle": "2023-01-31T00:30:56.379081Z",
     "shell.execute_reply": "2023-01-31T00:30:56.379543Z"
    }
   },
   "outputs": [],
   "source": [
    "df[\"county_date\"] = latest_date"
   ]
  },
  {
   "cell_type": "code",
   "execution_count": 26,
   "metadata": {
    "execution": {
     "iopub.execute_input": "2023-01-31T00:30:56.388230Z",
     "iopub.status.busy": "2023-01-31T00:30:56.386656Z",
     "iopub.status.idle": "2023-01-31T00:30:56.388925Z",
     "shell.execute_reply": "2023-01-31T00:30:56.389458Z"
    }
   },
   "outputs": [],
   "source": [
    "df.loc[df.area == \"-  Under Investigation\", \"area\"] = \"Under Investigation\""
   ]
  },
  {
   "cell_type": "code",
   "execution_count": 27,
   "metadata": {
    "execution": {
     "iopub.execute_input": "2023-01-31T00:30:56.395249Z",
     "iopub.status.busy": "2023-01-31T00:30:56.394618Z",
     "iopub.status.idle": "2023-01-31T00:30:56.400992Z",
     "shell.execute_reply": "2023-01-31T00:30:56.400477Z"
    }
   },
   "outputs": [],
   "source": [
    "df.loc[df.area == \"- Under Investigation\", \"area\"] = \"Under Investigation\""
   ]
  },
  {
   "cell_type": "markdown",
   "metadata": {},
   "source": [
    "## Vet"
   ]
  },
  {
   "cell_type": "code",
   "execution_count": 28,
   "metadata": {
    "execution": {
     "iopub.execute_input": "2023-01-31T00:30:56.405871Z",
     "iopub.status.busy": "2023-01-31T00:30:56.405171Z",
     "iopub.status.idle": "2023-01-31T00:30:56.413567Z",
     "shell.execute_reply": "2023-01-31T00:30:56.413056Z"
    }
   },
   "outputs": [],
   "source": [
    "try:\n",
    "    assert not len(df) > 342\n",
    "except AssertionError:\n",
    "    raise AssertionError(\"L.A. County's scraper has extra rows\")"
   ]
  },
  {
   "cell_type": "code",
   "execution_count": 29,
   "metadata": {
    "execution": {
     "iopub.execute_input": "2023-01-31T00:30:56.430283Z",
     "iopub.status.busy": "2023-01-31T00:30:56.427220Z",
     "iopub.status.idle": "2023-01-31T00:30:56.578617Z",
     "shell.execute_reply": "2023-01-31T00:30:56.579390Z"
    }
   },
   "outputs": [
    {
     "ename": "AssertionError",
     "evalue": "L.A. County's scraper is missing rows",
     "output_type": "error",
     "traceback": [
      "\u001b[0;31m---------------------------------------------------------------------------\u001b[0m",
      "\u001b[0;31mAssertionError\u001b[0m                            Traceback (most recent call last)",
      "\u001b[0;32m/tmp/ipykernel_2186/2999864733.py\u001b[0m in \u001b[0;36m<module>\u001b[0;34m\u001b[0m\n\u001b[1;32m      1\u001b[0m \u001b[0;32mtry\u001b[0m\u001b[0;34m:\u001b[0m\u001b[0;34m\u001b[0m\u001b[0;34m\u001b[0m\u001b[0m\n\u001b[0;32m----> 2\u001b[0;31m     \u001b[0;32massert\u001b[0m \u001b[0;32mnot\u001b[0m \u001b[0mlen\u001b[0m\u001b[0;34m(\u001b[0m\u001b[0mdf\u001b[0m\u001b[0;34m)\u001b[0m \u001b[0;34m<\u001b[0m \u001b[0;36m342\u001b[0m\u001b[0;34m\u001b[0m\u001b[0;34m\u001b[0m\u001b[0m\n\u001b[0m\u001b[1;32m      3\u001b[0m \u001b[0;32mexcept\u001b[0m \u001b[0mAssertionError\u001b[0m\u001b[0;34m:\u001b[0m\u001b[0;34m\u001b[0m\u001b[0;34m\u001b[0m\u001b[0m\n",
      "\u001b[0;31mAssertionError\u001b[0m: ",
      "\nDuring handling of the above exception, another exception occurred:\n",
      "\u001b[0;31mAssertionError\u001b[0m                            Traceback (most recent call last)",
      "\u001b[0;32m/tmp/ipykernel_2186/2999864733.py\u001b[0m in \u001b[0;36m<module>\u001b[0;34m\u001b[0m\n\u001b[1;32m      2\u001b[0m     \u001b[0;32massert\u001b[0m \u001b[0;32mnot\u001b[0m \u001b[0mlen\u001b[0m\u001b[0;34m(\u001b[0m\u001b[0mdf\u001b[0m\u001b[0;34m)\u001b[0m \u001b[0;34m<\u001b[0m \u001b[0;36m342\u001b[0m\u001b[0;34m\u001b[0m\u001b[0;34m\u001b[0m\u001b[0m\n\u001b[1;32m      3\u001b[0m \u001b[0;32mexcept\u001b[0m \u001b[0mAssertionError\u001b[0m\u001b[0;34m:\u001b[0m\u001b[0;34m\u001b[0m\u001b[0;34m\u001b[0m\u001b[0m\n\u001b[0;32m----> 4\u001b[0;31m     \u001b[0;32mraise\u001b[0m \u001b[0mAssertionError\u001b[0m\u001b[0;34m(\u001b[0m\u001b[0;34m\"L.A. County's scraper is missing rows\"\u001b[0m\u001b[0;34m)\u001b[0m\u001b[0;34m\u001b[0m\u001b[0;34m\u001b[0m\u001b[0m\n\u001b[0m",
      "\u001b[0;31mAssertionError\u001b[0m: L.A. County's scraper is missing rows"
     ]
    }
   ],
   "source": [
    "try:\n",
    "    assert not len(df) < 342\n",
    "except AssertionError:\n",
    "    raise AssertionError(\"L.A. County's scraper is missing rows\")"
   ]
  },
  {
   "cell_type": "markdown",
   "metadata": {},
   "source": [
    "## Export"
   ]
  },
  {
   "cell_type": "markdown",
   "metadata": {},
   "source": [
    "Set the date"
   ]
  },
  {
   "cell_type": "code",
   "execution_count": 67,
   "metadata": {},
   "outputs": [],
   "source": [
    "tz = pytz.timezone(\"America/Los_Angeles\")"
   ]
  },
  {
   "cell_type": "code",
   "execution_count": 68,
   "metadata": {},
   "outputs": [],
   "source": [
    "today = datetime.now(tz).date()"
   ]
  },
  {
   "cell_type": "code",
   "execution_count": 69,
   "metadata": {},
   "outputs": [],
   "source": [
    "slug = \"los-angeles\""
   ]
  },
  {
   "cell_type": "code",
   "execution_count": 70,
   "metadata": {},
   "outputs": [],
   "source": [
    "df.to_csv(data_dir / slug / f\"{today}.csv\", index=False)"
   ]
  },
  {
   "cell_type": "markdown",
   "metadata": {},
   "source": [
    "## Combine"
   ]
  },
  {
   "cell_type": "code",
   "execution_count": 71,
   "metadata": {},
   "outputs": [],
   "source": [
    "csv_list = [\n",
    "    i\n",
    "    for i in glob.glob(str(data_dir / slug / \"*.csv\"))\n",
    "    if not str(i).endswith(\"timeseries.csv\")\n",
    "]"
   ]
  },
  {
   "cell_type": "code",
   "execution_count": 72,
   "metadata": {},
   "outputs": [],
   "source": [
    "df_list = []\n",
    "for csv in csv_list:\n",
    "    if \"manual\" in csv:\n",
    "        df = pd.read_csv(csv, parse_dates=[\"date\"])\n",
    "    else:\n",
    "        file_date = csv.split(\"/\")[-1].replace(\".csv\", \"\")\n",
    "        df = pd.read_csv(csv, parse_dates=[\"county_date\"])\n",
    "        df[\"date\"] = file_date\n",
    "    df_list.append(df)"
   ]
  },
  {
   "cell_type": "code",
   "execution_count": 73,
   "metadata": {},
   "outputs": [],
   "source": [
    "df = pd.concat(df_list).sort_values([\"date\", \"area\"])"
   ]
  },
  {
   "cell_type": "code",
   "execution_count": 74,
   "metadata": {},
   "outputs": [],
   "source": [
    "df.to_csv(data_dir / slug / \"timeseries.csv\", index=False)"
   ]
  },
  {
   "cell_type": "code",
   "execution_count": null,
   "metadata": {},
   "outputs": [],
   "source": []
  },
  {
   "cell_type": "code",
   "execution_count": null,
   "metadata": {},
   "outputs": [],
   "source": []
  }
 ],
 "metadata": {
  "kernelspec": {
   "display_name": "Python 3 (ipykernel)",
   "language": "python",
   "name": "python3"
  },
  "language_info": {
   "codemirror_mode": {
    "name": "ipython",
    "version": 3
   },
   "file_extension": ".py",
   "mimetype": "text/x-python",
   "name": "python",
   "nbconvert_exporter": "python",
   "pygments_lexer": "ipython3",
   "version": "3.8.16"
  }
 },
 "nbformat": 4,
 "nbformat_minor": 4
}
