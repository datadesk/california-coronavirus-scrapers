{
 "cells": [
  {
   "cell_type": "markdown",
   "metadata": {
    "tags": []
   },
   "source": [
    "## Configuration\n",
    "_Initial steps to get the notebook ready to play nice with our repository. Do not delete this section._"
   ]
  },
  {
   "cell_type": "markdown",
   "metadata": {},
   "source": [
    "Code formatting with [black](https://pypi.org/project/nb-black/)."
   ]
  },
  {
   "cell_type": "code",
   "execution_count": 1,
   "metadata": {
    "execution": {
     "iopub.execute_input": "2023-01-02T08:19:32.680603Z",
     "iopub.status.busy": "2023-01-02T08:19:32.680046Z",
     "iopub.status.idle": "2023-01-02T08:19:32.848969Z",
     "shell.execute_reply": "2023-01-02T08:19:32.849452Z"
    }
   },
   "outputs": [],
   "source": [
    "%load_ext lab_black"
   ]
  },
  {
   "cell_type": "code",
   "execution_count": 2,
   "metadata": {
    "execution": {
     "iopub.execute_input": "2023-01-02T08:19:32.855521Z",
     "iopub.status.busy": "2023-01-02T08:19:32.853944Z",
     "iopub.status.idle": "2023-01-02T08:19:32.856148Z",
     "shell.execute_reply": "2023-01-02T08:19:32.856616Z"
    }
   },
   "outputs": [],
   "source": [
    "import os\n",
    "import pathlib"
   ]
  },
  {
   "cell_type": "code",
   "execution_count": 3,
   "metadata": {
    "execution": {
     "iopub.execute_input": "2023-01-02T08:19:32.864545Z",
     "iopub.status.busy": "2023-01-02T08:19:32.863096Z",
     "iopub.status.idle": "2023-01-02T08:19:32.865315Z",
     "shell.execute_reply": "2023-01-02T08:19:32.865803Z"
    }
   },
   "outputs": [],
   "source": [
    "this_dir = pathlib.Path(os.path.abspath(\"\"))"
   ]
  },
  {
   "cell_type": "code",
   "execution_count": 4,
   "metadata": {
    "execution": {
     "iopub.execute_input": "2023-01-02T08:19:32.871833Z",
     "iopub.status.busy": "2023-01-02T08:19:32.870404Z",
     "iopub.status.idle": "2023-01-02T08:19:32.872462Z",
     "shell.execute_reply": "2023-01-02T08:19:32.872971Z"
    }
   },
   "outputs": [],
   "source": [
    "data_dir = this_dir / \"data\""
   ]
  },
  {
   "cell_type": "code",
   "execution_count": 5,
   "metadata": {
    "execution": {
     "iopub.execute_input": "2023-01-02T08:19:32.877545Z",
     "iopub.status.busy": "2023-01-02T08:19:32.877003Z",
     "iopub.status.idle": "2023-01-02T08:19:33.350487Z",
     "shell.execute_reply": "2023-01-02T08:19:33.349577Z"
    }
   },
   "outputs": [],
   "source": [
    "import re\n",
    "import pytz\n",
    "import glob\n",
    "import requests\n",
    "import unicodedata\n",
    "import pandas as pd\n",
    "from slugify import slugify\n",
    "from bs4 import BeautifulSoup\n",
    "from datetime import datetime, date"
   ]
  },
  {
   "cell_type": "markdown",
   "metadata": {},
   "source": [
    "## Download"
   ]
  },
  {
   "cell_type": "markdown",
   "metadata": {},
   "source": [
    "Retrieve the page"
   ]
  },
  {
   "cell_type": "code",
   "execution_count": 6,
   "metadata": {
    "execution": {
     "iopub.execute_input": "2023-01-02T08:19:33.358052Z",
     "iopub.status.busy": "2023-01-02T08:19:33.356927Z",
     "iopub.status.idle": "2023-01-02T08:19:33.360709Z",
     "shell.execute_reply": "2023-01-02T08:19:33.360223Z"
    }
   },
   "outputs": [],
   "source": [
    "url = \"http://publichealth.lacounty.gov/media/Coronavirus/locations.htm\""
   ]
  },
  {
   "cell_type": "code",
   "execution_count": 7,
   "metadata": {
    "execution": {
     "iopub.execute_input": "2023-01-02T08:19:33.364710Z",
     "iopub.status.busy": "2023-01-02T08:19:33.364147Z",
     "iopub.status.idle": "2023-01-02T08:19:33.689740Z",
     "shell.execute_reply": "2023-01-02T08:19:33.689206Z"
    }
   },
   "outputs": [],
   "source": [
    "page = requests.get(url)"
   ]
  },
  {
   "cell_type": "markdown",
   "metadata": {},
   "source": [
    "## Parse"
   ]
  },
  {
   "cell_type": "code",
   "execution_count": 8,
   "metadata": {
    "execution": {
     "iopub.execute_input": "2023-01-02T08:19:33.703286Z",
     "iopub.status.busy": "2023-01-02T08:19:33.702479Z",
     "iopub.status.idle": "2023-01-02T08:19:33.906731Z",
     "shell.execute_reply": "2023-01-02T08:19:33.906227Z"
    }
   },
   "outputs": [],
   "source": [
    "soup = BeautifulSoup(page.content, \"html.parser\")"
   ]
  },
  {
   "cell_type": "markdown",
   "metadata": {},
   "source": [
    "Get content well"
   ]
  },
  {
   "cell_type": "code",
   "execution_count": 9,
   "metadata": {
    "execution": {
     "iopub.execute_input": "2023-01-02T08:19:33.913555Z",
     "iopub.status.busy": "2023-01-02T08:19:33.912536Z",
     "iopub.status.idle": "2023-01-02T08:19:33.917237Z",
     "shell.execute_reply": "2023-01-02T08:19:33.917646Z"
    }
   },
   "outputs": [],
   "source": [
    "content = soup.find(\"div\", {\"id\": \"content\"})"
   ]
  },
  {
   "cell_type": "markdown",
   "metadata": {},
   "source": [
    "Get table"
   ]
  },
  {
   "cell_type": "code",
   "execution_count": 10,
   "metadata": {
    "execution": {
     "iopub.execute_input": "2023-01-02T08:19:33.930193Z",
     "iopub.status.busy": "2023-01-02T08:19:33.925175Z",
     "iopub.status.idle": "2023-01-02T08:19:33.938672Z",
     "shell.execute_reply": "2023-01-02T08:19:33.939152Z"
    }
   },
   "outputs": [],
   "source": [
    "for tag in content.find_all(text=re.compile(\"CITY/COMMUNITY\")):\n",
    "    table = tag.findParent(\"table\")"
   ]
  },
  {
   "cell_type": "code",
   "execution_count": 11,
   "metadata": {
    "execution": {
     "iopub.execute_input": "2023-01-02T08:19:33.947839Z",
     "iopub.status.busy": "2023-01-02T08:19:33.947232Z",
     "iopub.status.idle": "2023-01-02T08:19:33.949028Z",
     "shell.execute_reply": "2023-01-02T08:19:33.949521Z"
    }
   },
   "outputs": [],
   "source": [
    "tbody = soup.tbody"
   ]
  },
  {
   "cell_type": "code",
   "execution_count": 12,
   "metadata": {
    "execution": {
     "iopub.execute_input": "2023-01-02T08:19:33.957863Z",
     "iopub.status.busy": "2023-01-02T08:19:33.956418Z",
     "iopub.status.idle": "2023-01-02T08:19:33.958632Z",
     "shell.execute_reply": "2023-01-02T08:19:33.959151Z"
    }
   },
   "outputs": [],
   "source": [
    "row_list = tbody.find_all(\"tr\")"
   ]
  },
  {
   "cell_type": "code",
   "execution_count": 13,
   "metadata": {
    "execution": {
     "iopub.execute_input": "2023-01-02T08:19:33.965016Z",
     "iopub.status.busy": "2023-01-02T08:19:33.963568Z",
     "iopub.status.idle": "2023-01-02T08:19:33.965682Z",
     "shell.execute_reply": "2023-01-02T08:19:33.966178Z"
    }
   },
   "outputs": [],
   "source": [
    "dict_list = []"
   ]
  },
  {
   "cell_type": "code",
   "execution_count": 14,
   "metadata": {
    "execution": {
     "iopub.execute_input": "2023-01-02T08:19:33.973519Z",
     "iopub.status.busy": "2023-01-02T08:19:33.972943Z",
     "iopub.status.idle": "2023-01-02T08:19:33.975951Z",
     "shell.execute_reply": "2023-01-02T08:19:33.975473Z"
    }
   },
   "outputs": [],
   "source": [
    "def safetxt(element):\n",
    "    v = element.text.strip()\n",
    "    v = v.replace(\"\\u200b\", \"\")\n",
    "    return v"
   ]
  },
  {
   "cell_type": "code",
   "execution_count": 15,
   "metadata": {
    "execution": {
     "iopub.execute_input": "2023-01-02T08:19:33.984246Z",
     "iopub.status.busy": "2023-01-02T08:19:33.983659Z",
     "iopub.status.idle": "2023-01-02T08:19:33.986975Z",
     "shell.execute_reply": "2023-01-02T08:19:33.987640Z"
    }
   },
   "outputs": [],
   "source": [
    "def safenumber(element):\n",
    "    v = safetxt(element)\n",
    "    v = v.replace(\",\", \"\")\n",
    "    v = v.replace(\" \", \"\")\n",
    "    return v"
   ]
  },
  {
   "cell_type": "code",
   "execution_count": 16,
   "metadata": {
    "execution": {
     "iopub.execute_input": "2023-01-02T08:19:34.000823Z",
     "iopub.status.busy": "2023-01-02T08:19:33.995361Z",
     "iopub.status.idle": "2023-01-02T08:19:34.008964Z",
     "shell.execute_reply": "2023-01-02T08:19:34.008500Z"
    }
   },
   "outputs": [],
   "source": [
    "for row in row_list:\n",
    "    cell_content = row.find_all(\"td\")\n",
    "    d = dict(\n",
    "        county=\"Los Angeles\",\n",
    "        area=safetxt(cell_content[0]),\n",
    "        confirmed_cases=safenumber(cell_content[1]),\n",
    "        confirmed_deaths=safenumber(cell_content[3]),\n",
    "    )\n",
    "    dict_list.append(d)"
   ]
  },
  {
   "cell_type": "code",
   "execution_count": 17,
   "metadata": {
    "execution": {
     "iopub.execute_input": "2023-01-02T08:19:34.015210Z",
     "iopub.status.busy": "2023-01-02T08:19:34.014586Z",
     "iopub.status.idle": "2023-01-02T08:19:34.018613Z",
     "shell.execute_reply": "2023-01-02T08:19:34.018130Z"
    }
   },
   "outputs": [],
   "source": [
    "df = pd.DataFrame(dict_list)"
   ]
  },
  {
   "cell_type": "markdown",
   "metadata": {},
   "source": [
    "Get timestamp"
   ]
  },
  {
   "cell_type": "code",
   "execution_count": 18,
   "metadata": {
    "execution": {
     "iopub.execute_input": "2023-01-02T08:19:34.024495Z",
     "iopub.status.busy": "2023-01-02T08:19:34.023185Z",
     "iopub.status.idle": "2023-01-02T08:19:34.026126Z",
     "shell.execute_reply": "2023-01-02T08:19:34.026628Z"
    }
   },
   "outputs": [],
   "source": [
    "date_url = \"http://publichealth.lacounty.gov/media/Coronavirus/js/casecounter.js\""
   ]
  },
  {
   "cell_type": "code",
   "execution_count": 19,
   "metadata": {
    "execution": {
     "iopub.execute_input": "2023-01-02T08:19:34.033754Z",
     "iopub.status.busy": "2023-01-02T08:19:34.033146Z",
     "iopub.status.idle": "2023-01-02T08:19:34.336177Z",
     "shell.execute_reply": "2023-01-02T08:19:34.335657Z"
    }
   },
   "outputs": [],
   "source": [
    "response = requests.get(date_url)\n",
    "date_page = response.text"
   ]
  },
  {
   "cell_type": "code",
   "execution_count": 20,
   "metadata": {
    "execution": {
     "iopub.execute_input": "2023-01-02T08:19:34.347473Z",
     "iopub.status.busy": "2023-01-02T08:19:34.343937Z",
     "iopub.status.idle": "2023-01-02T08:19:34.355023Z",
     "shell.execute_reply": "2023-01-02T08:19:34.354052Z"
    }
   },
   "outputs": [
    {
     "data": {
      "text/plain": [
       "'$( document ).ready(function() {\\r\\n    var data = {\\r\\n\\t\\t\\t\\t    \"content\": { \\r\\n\\t\\t\\r\\n\\t\\t\\t\"count\": \"3,631,736\",\\r\\n\\r\\n\\r\\n\\t\\t\\t\"death\": \"34,671\",\\r\\n\\r\\n\\t\\t\\t\"dailycount\": \"3,410\",\\r\\n\\r\\n\\r\\n\\t\\t\\t\"dailydeath\": \"28\",\\r\\n\\t\\t\\t\"hospitalizationsever\": \"166,208\",\\r\\n\\r\\n\\r\\n\\t\\t\\t\"date\": \"12/30\",\\r\\n\\t\\t\\t\"info\": \"through 12:00pm 12/29/2022\",\\r\\n\\r\\n\\t\\t\\t\"testingaverage\": \"21,471\",\\r\\n\\r\\n\\t\\t\\t\"peopletested\": \"12,821,824\",\\r\\n\\r\\n\\t\\t\\t\"positivity\": \"12.42%\",\\r\\n\\r\\n\\t\\t\\t\"hospitalizations\": \"1,269\",\\r\\n\\t\\t\\t\"datehospitalizations\": \"12/28\"\\r\\n\\r\\n\\t\\t\\t\\t}       \\r\\n\\t\\t\\t\\t};\\t\\r\\n\\t\\t\\t\\t\\r\\n\\t\\t\\t\\t\\r\\n\\t\\t\\t\\tvar content = data.content;\\r\\n\\t\\t\\t\\t\\r\\n\\t\\t\\t\\t$(\\'#ctn\\').html(content.count);\\r\\n\\t\\t\\t\\t$(\\'#det\\').html(content.death);\\r\\n\\t\\t\\t\\t$(\\'#dctn\\').html(content.dailycount);\\r\\n\\t\\t\\t\\t$(\\'#ddet\\').html(content.dailydeath);\\r\\n\\t\\t\\t\\t$(\\'#hosp_1\\').html(content.hospitalizationsever);\\r\\n\\t\\t\\t\\t$(\\'#dte\\').html(content.date);\\r\\n\\t\\t\\t\\t$(\\'#dte_1\\').html(content.date);\\r\\n\\t\\t\\t\\t$(\\'#dte_2\\').html(content.date);\\r\\n\\t\\t\\t\\t$(\\'#dte_3\\').html(content.datehospitalizations);\\r\\n\\t\\t\\t\\t$(\\'#cse\\').html(content.info);\\t\\r\\n\\t\\t\\t\\r\\n\\t\\t\\t\\t\\r\\n\\t\\t\\t\\t$(\\'#tstavg\\').html(content.testingaverage);\\t\\r\\n\\t\\t\\t\\t$(\\'#ppltst\\').html(content.peopletested);\\t\\r\\n\\t\\t\\t\\t$(\\'#pos\\').html(content.positivity);\\t\\r\\n\\t\\t\\t\\t$(\\'#hosp\\').html(content.hospitalizations);\\r\\n\\t\\t\\t\\r\\n\\t\\t\\t\\t\\t\\t\\t\\r\\n\\r\\n\\r\\n});\\r\\n\\r\\n\\r\\n\\r\\n'"
      ]
     },
     "execution_count": 20,
     "metadata": {},
     "output_type": "execute_result"
    }
   ],
   "source": [
    "date_page"
   ]
  },
  {
   "cell_type": "code",
   "execution_count": 21,
   "metadata": {
    "execution": {
     "iopub.execute_input": "2023-01-02T08:19:34.359943Z",
     "iopub.status.busy": "2023-01-02T08:19:34.359332Z",
     "iopub.status.idle": "2023-01-02T08:19:34.363333Z",
     "shell.execute_reply": "2023-01-02T08:19:34.362782Z"
    }
   },
   "outputs": [],
   "source": [
    "# date_text = re.search(r\"([0-9][0-9]/[0-9][0-9])\", date_page).group(1)\n",
    "# date_text = date_text + \"/\" + str(date.today().year)"
   ]
  },
  {
   "cell_type": "code",
   "execution_count": 22,
   "metadata": {
    "execution": {
     "iopub.execute_input": "2023-01-02T08:19:34.368491Z",
     "iopub.status.busy": "2023-01-02T08:19:34.367886Z",
     "iopub.status.idle": "2023-01-02T08:19:34.373250Z",
     "shell.execute_reply": "2023-01-02T08:19:34.372026Z"
    }
   },
   "outputs": [],
   "source": [
    "date_text = re.search(r\"through (.+?)\\\"\", date_page).group(1)"
   ]
  },
  {
   "cell_type": "code",
   "execution_count": 23,
   "metadata": {
    "execution": {
     "iopub.execute_input": "2023-01-02T08:19:34.378156Z",
     "iopub.status.busy": "2023-01-02T08:19:34.377528Z",
     "iopub.status.idle": "2023-01-02T08:19:34.383171Z",
     "shell.execute_reply": "2023-01-02T08:19:34.382315Z"
    }
   },
   "outputs": [],
   "source": [
    "date_text = date_text.split(\"m \")[0]"
   ]
  },
  {
   "cell_type": "code",
   "execution_count": 24,
   "metadata": {
    "execution": {
     "iopub.execute_input": "2023-01-02T08:19:34.389444Z",
     "iopub.status.busy": "2023-01-02T08:19:34.388785Z",
     "iopub.status.idle": "2023-01-02T08:19:34.393014Z",
     "shell.execute_reply": "2023-01-02T08:19:34.392476Z"
    }
   },
   "outputs": [],
   "source": [
    "latest_date = pd.to_datetime(date_text).date()"
   ]
  },
  {
   "cell_type": "code",
   "execution_count": 25,
   "metadata": {
    "execution": {
     "iopub.execute_input": "2023-01-02T08:19:34.399272Z",
     "iopub.status.busy": "2023-01-02T08:19:34.398218Z",
     "iopub.status.idle": "2023-01-02T08:19:34.402571Z",
     "shell.execute_reply": "2023-01-02T08:19:34.403121Z"
    }
   },
   "outputs": [],
   "source": [
    "df[\"county_date\"] = latest_date"
   ]
  },
  {
   "cell_type": "code",
   "execution_count": 26,
   "metadata": {
    "execution": {
     "iopub.execute_input": "2023-01-02T08:19:34.411034Z",
     "iopub.status.busy": "2023-01-02T08:19:34.410432Z",
     "iopub.status.idle": "2023-01-02T08:19:34.414913Z",
     "shell.execute_reply": "2023-01-02T08:19:34.413720Z"
    }
   },
   "outputs": [],
   "source": [
    "df.loc[df.area == \"-  Under Investigation\", \"area\"] = \"Under Investigation\""
   ]
  },
  {
   "cell_type": "code",
   "execution_count": 27,
   "metadata": {
    "execution": {
     "iopub.execute_input": "2023-01-02T08:19:34.422492Z",
     "iopub.status.busy": "2023-01-02T08:19:34.421878Z",
     "iopub.status.idle": "2023-01-02T08:19:34.426016Z",
     "shell.execute_reply": "2023-01-02T08:19:34.425501Z"
    }
   },
   "outputs": [],
   "source": [
    "df.loc[df.area == \"- Under Investigation\", \"area\"] = \"Under Investigation\""
   ]
  },
  {
   "cell_type": "markdown",
   "metadata": {},
   "source": [
    "## Vet"
   ]
  },
  {
   "cell_type": "code",
   "execution_count": 28,
   "metadata": {
    "execution": {
     "iopub.execute_input": "2023-01-02T08:19:34.431958Z",
     "iopub.status.busy": "2023-01-02T08:19:34.431186Z",
     "iopub.status.idle": "2023-01-02T08:19:34.437707Z",
     "shell.execute_reply": "2023-01-02T08:19:34.437170Z"
    }
   },
   "outputs": [],
   "source": [
    "try:\n",
    "    assert not len(df) > 342\n",
    "except AssertionError:\n",
    "    raise AssertionError(\"L.A. County's scraper has extra rows\")"
   ]
  },
  {
   "cell_type": "code",
   "execution_count": 29,
   "metadata": {
    "execution": {
     "iopub.execute_input": "2023-01-02T08:19:34.444178Z",
     "iopub.status.busy": "2023-01-02T08:19:34.443322Z",
     "iopub.status.idle": "2023-01-02T08:19:34.590263Z",
     "shell.execute_reply": "2023-01-02T08:19:34.588493Z"
    }
   },
   "outputs": [
    {
     "ename": "AssertionError",
     "evalue": "L.A. County's scraper is missing rows",
     "output_type": "error",
     "traceback": [
      "\u001b[0;31m---------------------------------------------------------------------------\u001b[0m",
      "\u001b[0;31mAssertionError\u001b[0m                            Traceback (most recent call last)",
      "\u001b[0;32m/tmp/ipykernel_2359/2999864733.py\u001b[0m in \u001b[0;36m<module>\u001b[0;34m\u001b[0m\n\u001b[1;32m      1\u001b[0m \u001b[0;32mtry\u001b[0m\u001b[0;34m:\u001b[0m\u001b[0;34m\u001b[0m\u001b[0;34m\u001b[0m\u001b[0m\n\u001b[0;32m----> 2\u001b[0;31m     \u001b[0;32massert\u001b[0m \u001b[0;32mnot\u001b[0m \u001b[0mlen\u001b[0m\u001b[0;34m(\u001b[0m\u001b[0mdf\u001b[0m\u001b[0;34m)\u001b[0m \u001b[0;34m<\u001b[0m \u001b[0;36m342\u001b[0m\u001b[0;34m\u001b[0m\u001b[0;34m\u001b[0m\u001b[0m\n\u001b[0m\u001b[1;32m      3\u001b[0m \u001b[0;32mexcept\u001b[0m \u001b[0mAssertionError\u001b[0m\u001b[0;34m:\u001b[0m\u001b[0;34m\u001b[0m\u001b[0;34m\u001b[0m\u001b[0m\n",
      "\u001b[0;31mAssertionError\u001b[0m: ",
      "\nDuring handling of the above exception, another exception occurred:\n",
      "\u001b[0;31mAssertionError\u001b[0m                            Traceback (most recent call last)",
      "\u001b[0;32m/tmp/ipykernel_2359/2999864733.py\u001b[0m in \u001b[0;36m<module>\u001b[0;34m\u001b[0m\n\u001b[1;32m      2\u001b[0m     \u001b[0;32massert\u001b[0m \u001b[0;32mnot\u001b[0m \u001b[0mlen\u001b[0m\u001b[0;34m(\u001b[0m\u001b[0mdf\u001b[0m\u001b[0;34m)\u001b[0m \u001b[0;34m<\u001b[0m \u001b[0;36m342\u001b[0m\u001b[0;34m\u001b[0m\u001b[0;34m\u001b[0m\u001b[0m\n\u001b[1;32m      3\u001b[0m \u001b[0;32mexcept\u001b[0m \u001b[0mAssertionError\u001b[0m\u001b[0;34m:\u001b[0m\u001b[0;34m\u001b[0m\u001b[0;34m\u001b[0m\u001b[0m\n\u001b[0;32m----> 4\u001b[0;31m     \u001b[0;32mraise\u001b[0m \u001b[0mAssertionError\u001b[0m\u001b[0;34m(\u001b[0m\u001b[0;34m\"L.A. County's scraper is missing rows\"\u001b[0m\u001b[0;34m)\u001b[0m\u001b[0;34m\u001b[0m\u001b[0;34m\u001b[0m\u001b[0m\n\u001b[0m",
      "\u001b[0;31mAssertionError\u001b[0m: L.A. County's scraper is missing rows"
     ]
    }
   ],
   "source": [
    "try:\n",
    "    assert not len(df) < 342\n",
    "except AssertionError:\n",
    "    raise AssertionError(\"L.A. County's scraper is missing rows\")"
   ]
  },
  {
   "cell_type": "markdown",
   "metadata": {},
   "source": [
    "## Export"
   ]
  },
  {
   "cell_type": "markdown",
   "metadata": {},
   "source": [
    "Set the date"
   ]
  },
  {
   "cell_type": "code",
   "execution_count": 67,
   "metadata": {},
   "outputs": [],
   "source": [
    "tz = pytz.timezone(\"America/Los_Angeles\")"
   ]
  },
  {
   "cell_type": "code",
   "execution_count": 68,
   "metadata": {},
   "outputs": [],
   "source": [
    "today = datetime.now(tz).date()"
   ]
  },
  {
   "cell_type": "code",
   "execution_count": 69,
   "metadata": {},
   "outputs": [],
   "source": [
    "slug = \"los-angeles\""
   ]
  },
  {
   "cell_type": "code",
   "execution_count": 70,
   "metadata": {},
   "outputs": [],
   "source": [
    "df.to_csv(data_dir / slug / f\"{today}.csv\", index=False)"
   ]
  },
  {
   "cell_type": "markdown",
   "metadata": {},
   "source": [
    "## Combine"
   ]
  },
  {
   "cell_type": "code",
   "execution_count": 71,
   "metadata": {},
   "outputs": [],
   "source": [
    "csv_list = [\n",
    "    i\n",
    "    for i in glob.glob(str(data_dir / slug / \"*.csv\"))\n",
    "    if not str(i).endswith(\"timeseries.csv\")\n",
    "]"
   ]
  },
  {
   "cell_type": "code",
   "execution_count": 72,
   "metadata": {},
   "outputs": [],
   "source": [
    "df_list = []\n",
    "for csv in csv_list:\n",
    "    if \"manual\" in csv:\n",
    "        df = pd.read_csv(csv, parse_dates=[\"date\"])\n",
    "    else:\n",
    "        file_date = csv.split(\"/\")[-1].replace(\".csv\", \"\")\n",
    "        df = pd.read_csv(csv, parse_dates=[\"county_date\"])\n",
    "        df[\"date\"] = file_date\n",
    "    df_list.append(df)"
   ]
  },
  {
   "cell_type": "code",
   "execution_count": 73,
   "metadata": {},
   "outputs": [],
   "source": [
    "df = pd.concat(df_list).sort_values([\"date\", \"area\"])"
   ]
  },
  {
   "cell_type": "code",
   "execution_count": 74,
   "metadata": {},
   "outputs": [],
   "source": [
    "df.to_csv(data_dir / slug / \"timeseries.csv\", index=False)"
   ]
  },
  {
   "cell_type": "code",
   "execution_count": null,
   "metadata": {},
   "outputs": [],
   "source": []
  },
  {
   "cell_type": "code",
   "execution_count": null,
   "metadata": {},
   "outputs": [],
   "source": []
  }
 ],
 "metadata": {
  "kernelspec": {
   "display_name": "Python 3 (ipykernel)",
   "language": "python",
   "name": "python3"
  },
  "language_info": {
   "codemirror_mode": {
    "name": "ipython",
    "version": 3
   },
   "file_extension": ".py",
   "mimetype": "text/x-python",
   "name": "python",
   "nbconvert_exporter": "python",
   "pygments_lexer": "ipython3",
   "version": "3.8.15"
  }
 },
 "nbformat": 4,
 "nbformat_minor": 4
}
