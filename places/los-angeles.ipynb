{
 "cells": [
  {
   "cell_type": "markdown",
   "metadata": {
    "tags": []
   },
   "source": [
    "## Configuration\n",
    "_Initial steps to get the notebook ready to play nice with our repository. Do not delete this section._"
   ]
  },
  {
   "cell_type": "markdown",
   "metadata": {},
   "source": [
    "Code formatting with [black](https://pypi.org/project/nb-black/)."
   ]
  },
  {
   "cell_type": "code",
   "execution_count": 1,
   "metadata": {
    "execution": {
     "iopub.execute_input": "2023-01-23T16:19:37.035533Z",
     "iopub.status.busy": "2023-01-23T16:19:37.035126Z",
     "iopub.status.idle": "2023-01-23T16:19:37.174999Z",
     "shell.execute_reply": "2023-01-23T16:19:37.174533Z"
    }
   },
   "outputs": [],
   "source": [
    "%load_ext lab_black"
   ]
  },
  {
   "cell_type": "code",
   "execution_count": 2,
   "metadata": {
    "execution": {
     "iopub.execute_input": "2023-01-23T16:19:37.178667Z",
     "iopub.status.busy": "2023-01-23T16:19:37.177748Z",
     "iopub.status.idle": "2023-01-23T16:19:37.180349Z",
     "shell.execute_reply": "2023-01-23T16:19:37.180008Z"
    }
   },
   "outputs": [],
   "source": [
    "import os\n",
    "import pathlib"
   ]
  },
  {
   "cell_type": "code",
   "execution_count": 3,
   "metadata": {
    "execution": {
     "iopub.execute_input": "2023-01-23T16:19:37.183772Z",
     "iopub.status.busy": "2023-01-23T16:19:37.183344Z",
     "iopub.status.idle": "2023-01-23T16:19:37.187440Z",
     "shell.execute_reply": "2023-01-23T16:19:37.187080Z"
    }
   },
   "outputs": [],
   "source": [
    "this_dir = pathlib.Path(os.path.abspath(\"\"))"
   ]
  },
  {
   "cell_type": "code",
   "execution_count": 4,
   "metadata": {
    "execution": {
     "iopub.execute_input": "2023-01-23T16:19:37.190945Z",
     "iopub.status.busy": "2023-01-23T16:19:37.190068Z",
     "iopub.status.idle": "2023-01-23T16:19:37.193030Z",
     "shell.execute_reply": "2023-01-23T16:19:37.192678Z"
    }
   },
   "outputs": [],
   "source": [
    "data_dir = this_dir / \"data\""
   ]
  },
  {
   "cell_type": "code",
   "execution_count": 5,
   "metadata": {
    "execution": {
     "iopub.execute_input": "2023-01-23T16:19:37.196753Z",
     "iopub.status.busy": "2023-01-23T16:19:37.196340Z",
     "iopub.status.idle": "2023-01-23T16:19:37.583586Z",
     "shell.execute_reply": "2023-01-23T16:19:37.583965Z"
    }
   },
   "outputs": [],
   "source": [
    "import re\n",
    "import pytz\n",
    "import glob\n",
    "import requests\n",
    "import unicodedata\n",
    "import pandas as pd\n",
    "from slugify import slugify\n",
    "from bs4 import BeautifulSoup\n",
    "from datetime import datetime, date"
   ]
  },
  {
   "cell_type": "markdown",
   "metadata": {},
   "source": [
    "## Download"
   ]
  },
  {
   "cell_type": "markdown",
   "metadata": {},
   "source": [
    "Retrieve the page"
   ]
  },
  {
   "cell_type": "code",
   "execution_count": 6,
   "metadata": {
    "execution": {
     "iopub.execute_input": "2023-01-23T16:19:37.588713Z",
     "iopub.status.busy": "2023-01-23T16:19:37.588276Z",
     "iopub.status.idle": "2023-01-23T16:19:37.590545Z",
     "shell.execute_reply": "2023-01-23T16:19:37.589763Z"
    }
   },
   "outputs": [],
   "source": [
    "url = \"http://publichealth.lacounty.gov/media/Coronavirus/locations.htm\""
   ]
  },
  {
   "cell_type": "code",
   "execution_count": 7,
   "metadata": {
    "execution": {
     "iopub.execute_input": "2023-01-23T16:19:37.597889Z",
     "iopub.status.busy": "2023-01-23T16:19:37.593716Z",
     "iopub.status.idle": "2023-01-23T16:19:37.849749Z",
     "shell.execute_reply": "2023-01-23T16:19:37.848978Z"
    }
   },
   "outputs": [],
   "source": [
    "page = requests.get(url)"
   ]
  },
  {
   "cell_type": "markdown",
   "metadata": {},
   "source": [
    "## Parse"
   ]
  },
  {
   "cell_type": "code",
   "execution_count": 8,
   "metadata": {
    "execution": {
     "iopub.execute_input": "2023-01-23T16:19:37.868013Z",
     "iopub.status.busy": "2023-01-23T16:19:37.851752Z",
     "iopub.status.idle": "2023-01-23T16:19:38.000141Z",
     "shell.execute_reply": "2023-01-23T16:19:37.999324Z"
    }
   },
   "outputs": [],
   "source": [
    "soup = BeautifulSoup(page.content, \"html.parser\")"
   ]
  },
  {
   "cell_type": "markdown",
   "metadata": {},
   "source": [
    "Get content well"
   ]
  },
  {
   "cell_type": "code",
   "execution_count": 9,
   "metadata": {
    "execution": {
     "iopub.execute_input": "2023-01-23T16:19:38.005448Z",
     "iopub.status.busy": "2023-01-23T16:19:38.004775Z",
     "iopub.status.idle": "2023-01-23T16:19:38.009688Z",
     "shell.execute_reply": "2023-01-23T16:19:38.009017Z"
    }
   },
   "outputs": [],
   "source": [
    "content = soup.find(\"div\", {\"id\": \"content\"})"
   ]
  },
  {
   "cell_type": "markdown",
   "metadata": {},
   "source": [
    "Get table"
   ]
  },
  {
   "cell_type": "code",
   "execution_count": 10,
   "metadata": {
    "execution": {
     "iopub.execute_input": "2023-01-23T16:19:38.025007Z",
     "iopub.status.busy": "2023-01-23T16:19:38.022646Z",
     "iopub.status.idle": "2023-01-23T16:19:38.028556Z",
     "shell.execute_reply": "2023-01-23T16:19:38.027756Z"
    }
   },
   "outputs": [],
   "source": [
    "for tag in content.find_all(text=re.compile(\"CITY/COMMUNITY\")):\n",
    "    table = tag.findParent(\"table\")"
   ]
  },
  {
   "cell_type": "code",
   "execution_count": 11,
   "metadata": {
    "execution": {
     "iopub.execute_input": "2023-01-23T16:19:38.034333Z",
     "iopub.status.busy": "2023-01-23T16:19:38.032806Z",
     "iopub.status.idle": "2023-01-23T16:19:38.036540Z",
     "shell.execute_reply": "2023-01-23T16:19:38.036897Z"
    }
   },
   "outputs": [],
   "source": [
    "tbody = soup.tbody"
   ]
  },
  {
   "cell_type": "code",
   "execution_count": 12,
   "metadata": {
    "execution": {
     "iopub.execute_input": "2023-01-23T16:19:38.043562Z",
     "iopub.status.busy": "2023-01-23T16:19:38.042979Z",
     "iopub.status.idle": "2023-01-23T16:19:38.046044Z",
     "shell.execute_reply": "2023-01-23T16:19:38.045527Z"
    }
   },
   "outputs": [],
   "source": [
    "row_list = tbody.find_all(\"tr\")"
   ]
  },
  {
   "cell_type": "code",
   "execution_count": 13,
   "metadata": {
    "execution": {
     "iopub.execute_input": "2023-01-23T16:19:38.049560Z",
     "iopub.status.busy": "2023-01-23T16:19:38.047937Z",
     "iopub.status.idle": "2023-01-23T16:19:38.052865Z",
     "shell.execute_reply": "2023-01-23T16:19:38.052467Z"
    }
   },
   "outputs": [],
   "source": [
    "dict_list = []"
   ]
  },
  {
   "cell_type": "code",
   "execution_count": 14,
   "metadata": {
    "execution": {
     "iopub.execute_input": "2023-01-23T16:19:38.059298Z",
     "iopub.status.busy": "2023-01-23T16:19:38.058088Z",
     "iopub.status.idle": "2023-01-23T16:19:38.061709Z",
     "shell.execute_reply": "2023-01-23T16:19:38.061340Z"
    }
   },
   "outputs": [],
   "source": [
    "def safetxt(element):\n",
    "    v = element.text.strip()\n",
    "    v = v.replace(\"\\u200b\", \"\")\n",
    "    return v"
   ]
  },
  {
   "cell_type": "code",
   "execution_count": 15,
   "metadata": {
    "execution": {
     "iopub.execute_input": "2023-01-23T16:19:38.068897Z",
     "iopub.status.busy": "2023-01-23T16:19:38.068311Z",
     "iopub.status.idle": "2023-01-23T16:19:38.070907Z",
     "shell.execute_reply": "2023-01-23T16:19:38.071459Z"
    }
   },
   "outputs": [],
   "source": [
    "def safenumber(element):\n",
    "    v = safetxt(element)\n",
    "    v = v.replace(\",\", \"\")\n",
    "    v = v.replace(\" \", \"\")\n",
    "    return v"
   ]
  },
  {
   "cell_type": "code",
   "execution_count": 16,
   "metadata": {
    "execution": {
     "iopub.execute_input": "2023-01-23T16:19:38.083774Z",
     "iopub.status.busy": "2023-01-23T16:19:38.083125Z",
     "iopub.status.idle": "2023-01-23T16:19:38.090988Z",
     "shell.execute_reply": "2023-01-23T16:19:38.091387Z"
    }
   },
   "outputs": [],
   "source": [
    "for row in row_list:\n",
    "    cell_content = row.find_all(\"td\")\n",
    "    d = dict(\n",
    "        county=\"Los Angeles\",\n",
    "        area=safetxt(cell_content[0]),\n",
    "        confirmed_cases=safenumber(cell_content[1]),\n",
    "        confirmed_deaths=safenumber(cell_content[3]),\n",
    "    )\n",
    "    dict_list.append(d)"
   ]
  },
  {
   "cell_type": "code",
   "execution_count": 17,
   "metadata": {
    "execution": {
     "iopub.execute_input": "2023-01-23T16:19:38.097261Z",
     "iopub.status.busy": "2023-01-23T16:19:38.096824Z",
     "iopub.status.idle": "2023-01-23T16:19:38.100105Z",
     "shell.execute_reply": "2023-01-23T16:19:38.099312Z"
    }
   },
   "outputs": [],
   "source": [
    "df = pd.DataFrame(dict_list)"
   ]
  },
  {
   "cell_type": "markdown",
   "metadata": {},
   "source": [
    "Get timestamp"
   ]
  },
  {
   "cell_type": "code",
   "execution_count": 18,
   "metadata": {
    "execution": {
     "iopub.execute_input": "2023-01-23T16:19:38.104712Z",
     "iopub.status.busy": "2023-01-23T16:19:38.103801Z",
     "iopub.status.idle": "2023-01-23T16:19:38.107145Z",
     "shell.execute_reply": "2023-01-23T16:19:38.106771Z"
    }
   },
   "outputs": [],
   "source": [
    "date_url = \"http://publichealth.lacounty.gov/media/Coronavirus/js/casecounter.js\""
   ]
  },
  {
   "cell_type": "code",
   "execution_count": 19,
   "metadata": {
    "execution": {
     "iopub.execute_input": "2023-01-23T16:19:38.110588Z",
     "iopub.status.busy": "2023-01-23T16:19:38.110045Z",
     "iopub.status.idle": "2023-01-23T16:19:38.229607Z",
     "shell.execute_reply": "2023-01-23T16:19:38.228789Z"
    }
   },
   "outputs": [],
   "source": [
    "response = requests.get(date_url)\n",
    "date_page = response.text"
   ]
  },
  {
   "cell_type": "code",
   "execution_count": 20,
   "metadata": {
    "execution": {
     "iopub.execute_input": "2023-01-23T16:19:38.238896Z",
     "iopub.status.busy": "2023-01-23T16:19:38.238083Z",
     "iopub.status.idle": "2023-01-23T16:19:38.241332Z",
     "shell.execute_reply": "2023-01-23T16:19:38.241692Z"
    }
   },
   "outputs": [
    {
     "data": {
      "text/plain": [
       "'$( document ).ready(function() {\\r\\n    var data = {\\r\\n\\t\\t\\t\\t    \"content\": { \\r\\n\\t\\t\\r\\n\\t\\t\\t\"count\": \"3,665,365\",\\r\\n\\r\\n\\r\\n\\t\\t\\t\"death\": \"35,079\",\\r\\n\\r\\n\\t\\t\\t\"dailycount\": \"1,502\",\\r\\n\\r\\n\\r\\n\\t\\t\\t\"dailydeath\": \"31\",\\r\\n\\t\\t\\t\"hospitalizationsever\": \"169,328\",\\r\\n\\r\\n\\r\\n\\t\\t\\t\"date\": \"01/19/23\",\\r\\n\\t\\t\\t\"info\": \"through 12:00pm 01/18/2023\",\\r\\n\\r\\n\\t\\t\\t\"testingaverage\": \"24,421\",\\r\\n\\r\\n\\t\\t\\t\"peopletested\": \"12,863,504\",\\r\\n\\r\\n\\t\\t\\t\"positivity\": \"6.35%\",\\r\\n\\r\\n\\t\\t\\t\"hospitalizations\": \"918\",\\r\\n\\t\\t\\t\"datehospitalizations\": \"01/18/23\"\\r\\n\\r\\n\\t\\t\\t\\t}       \\r\\n\\t\\t\\t\\t};\\t\\r\\n\\t\\t\\t\\t\\r\\n\\t\\t\\t\\t\\r\\n\\t\\t\\t\\tvar content = data.content;\\r\\n\\t\\t\\t\\t\\r\\n\\t\\t\\t\\t$(\\'#ctn\\').html(content.count);\\r\\n\\t\\t\\t\\t$(\\'#det\\').html(content.death);\\r\\n\\t\\t\\t\\t$(\\'#dctn\\').html(content.dailycount);\\r\\n\\t\\t\\t\\t$(\\'#ddet\\').html(content.dailydeath);\\r\\n\\t\\t\\t\\t$(\\'#hosp_1\\').html(content.hospitalizationsever);\\r\\n\\t\\t\\t\\t$(\\'#dte\\').html(content.date);\\r\\n\\t\\t\\t\\t$(\\'#dte_1\\').html(content.date);\\r\\n\\t\\t\\t\\t$(\\'#dte_2\\').html(content.date);\\r\\n\\t\\t\\t\\t$(\\'#dte_3\\').html(content.datehospitalizations);\\r\\n\\t\\t\\t\\t$(\\'#cse\\').html(content.info);\\t\\r\\n\\t\\t\\t\\r\\n\\t\\t\\t\\t\\r\\n\\t\\t\\t\\t$(\\'#tstavg\\').html(content.testingaverage);\\t\\r\\n\\t\\t\\t\\t$(\\'#ppltst\\').html(content.peopletested);\\t\\r\\n\\t\\t\\t\\t$(\\'#pos\\').html(content.positivity);\\t\\r\\n\\t\\t\\t\\t$(\\'#hosp\\').html(content.hospitalizations);\\r\\n\\t\\t\\t\\r\\n\\t\\t\\t\\t\\t\\t\\t\\r\\n\\r\\n\\r\\n});\\r\\n\\r\\n\\r\\n\\r\\n'"
      ]
     },
     "execution_count": 20,
     "metadata": {},
     "output_type": "execute_result"
    }
   ],
   "source": [
    "date_page"
   ]
  },
  {
   "cell_type": "code",
   "execution_count": 21,
   "metadata": {
    "execution": {
     "iopub.execute_input": "2023-01-23T16:19:38.245866Z",
     "iopub.status.busy": "2023-01-23T16:19:38.245142Z",
     "iopub.status.idle": "2023-01-23T16:19:38.246524Z",
     "shell.execute_reply": "2023-01-23T16:19:38.246868Z"
    }
   },
   "outputs": [],
   "source": [
    "# date_text = re.search(r\"([0-9][0-9]/[0-9][0-9])\", date_page).group(1)\n",
    "# date_text = date_text + \"/\" + str(date.today().year)"
   ]
  },
  {
   "cell_type": "code",
   "execution_count": 22,
   "metadata": {
    "execution": {
     "iopub.execute_input": "2023-01-23T16:19:38.250493Z",
     "iopub.status.busy": "2023-01-23T16:19:38.250073Z",
     "iopub.status.idle": "2023-01-23T16:19:38.253551Z",
     "shell.execute_reply": "2023-01-23T16:19:38.253181Z"
    }
   },
   "outputs": [],
   "source": [
    "date_text = re.search(r\"through (.+?)\\\"\", date_page).group(1)"
   ]
  },
  {
   "cell_type": "code",
   "execution_count": 23,
   "metadata": {
    "execution": {
     "iopub.execute_input": "2023-01-23T16:19:38.257071Z",
     "iopub.status.busy": "2023-01-23T16:19:38.256647Z",
     "iopub.status.idle": "2023-01-23T16:19:38.259860Z",
     "shell.execute_reply": "2023-01-23T16:19:38.259493Z"
    }
   },
   "outputs": [],
   "source": [
    "date_text = date_text.split(\"m \")[0]"
   ]
  },
  {
   "cell_type": "code",
   "execution_count": 24,
   "metadata": {
    "execution": {
     "iopub.execute_input": "2023-01-23T16:19:38.264172Z",
     "iopub.status.busy": "2023-01-23T16:19:38.263723Z",
     "iopub.status.idle": "2023-01-23T16:19:38.267419Z",
     "shell.execute_reply": "2023-01-23T16:19:38.267004Z"
    }
   },
   "outputs": [],
   "source": [
    "latest_date = pd.to_datetime(date_text).date()"
   ]
  },
  {
   "cell_type": "code",
   "execution_count": 25,
   "metadata": {
    "execution": {
     "iopub.execute_input": "2023-01-23T16:19:38.271528Z",
     "iopub.status.busy": "2023-01-23T16:19:38.271092Z",
     "iopub.status.idle": "2023-01-23T16:19:38.273766Z",
     "shell.execute_reply": "2023-01-23T16:19:38.274089Z"
    }
   },
   "outputs": [],
   "source": [
    "df[\"county_date\"] = latest_date"
   ]
  },
  {
   "cell_type": "code",
   "execution_count": 26,
   "metadata": {
    "execution": {
     "iopub.execute_input": "2023-01-23T16:19:38.280448Z",
     "iopub.status.busy": "2023-01-23T16:19:38.280014Z",
     "iopub.status.idle": "2023-01-23T16:19:38.283089Z",
     "shell.execute_reply": "2023-01-23T16:19:38.282723Z"
    }
   },
   "outputs": [],
   "source": [
    "df.loc[df.area == \"-  Under Investigation\", \"area\"] = \"Under Investigation\""
   ]
  },
  {
   "cell_type": "code",
   "execution_count": 27,
   "metadata": {
    "execution": {
     "iopub.execute_input": "2023-01-23T16:19:38.287504Z",
     "iopub.status.busy": "2023-01-23T16:19:38.287047Z",
     "iopub.status.idle": "2023-01-23T16:19:38.291842Z",
     "shell.execute_reply": "2023-01-23T16:19:38.291444Z"
    }
   },
   "outputs": [],
   "source": [
    "df.loc[df.area == \"- Under Investigation\", \"area\"] = \"Under Investigation\""
   ]
  },
  {
   "cell_type": "markdown",
   "metadata": {},
   "source": [
    "## Vet"
   ]
  },
  {
   "cell_type": "code",
   "execution_count": 28,
   "metadata": {
    "execution": {
     "iopub.execute_input": "2023-01-23T16:19:38.296431Z",
     "iopub.status.busy": "2023-01-23T16:19:38.295302Z",
     "iopub.status.idle": "2023-01-23T16:19:38.300615Z",
     "shell.execute_reply": "2023-01-23T16:19:38.300217Z"
    }
   },
   "outputs": [],
   "source": [
    "try:\n",
    "    assert not len(df) > 342\n",
    "except AssertionError:\n",
    "    raise AssertionError(\"L.A. County's scraper has extra rows\")"
   ]
  },
  {
   "cell_type": "code",
   "execution_count": 29,
   "metadata": {
    "execution": {
     "iopub.execute_input": "2023-01-23T16:19:38.305826Z",
     "iopub.status.busy": "2023-01-23T16:19:38.303838Z",
     "iopub.status.idle": "2023-01-23T16:19:38.427206Z",
     "shell.execute_reply": "2023-01-23T16:19:38.425711Z"
    }
   },
   "outputs": [
    {
     "ename": "AssertionError",
     "evalue": "L.A. County's scraper is missing rows",
     "output_type": "error",
     "traceback": [
      "\u001b[0;31m---------------------------------------------------------------------------\u001b[0m",
      "\u001b[0;31mAssertionError\u001b[0m                            Traceback (most recent call last)",
      "\u001b[0;32m/tmp/ipykernel_2164/2999864733.py\u001b[0m in \u001b[0;36m<module>\u001b[0;34m\u001b[0m\n\u001b[1;32m      1\u001b[0m \u001b[0;32mtry\u001b[0m\u001b[0;34m:\u001b[0m\u001b[0;34m\u001b[0m\u001b[0;34m\u001b[0m\u001b[0m\n\u001b[0;32m----> 2\u001b[0;31m     \u001b[0;32massert\u001b[0m \u001b[0;32mnot\u001b[0m \u001b[0mlen\u001b[0m\u001b[0;34m(\u001b[0m\u001b[0mdf\u001b[0m\u001b[0;34m)\u001b[0m \u001b[0;34m<\u001b[0m \u001b[0;36m342\u001b[0m\u001b[0;34m\u001b[0m\u001b[0;34m\u001b[0m\u001b[0m\n\u001b[0m\u001b[1;32m      3\u001b[0m \u001b[0;32mexcept\u001b[0m \u001b[0mAssertionError\u001b[0m\u001b[0;34m:\u001b[0m\u001b[0;34m\u001b[0m\u001b[0;34m\u001b[0m\u001b[0m\n",
      "\u001b[0;31mAssertionError\u001b[0m: ",
      "\nDuring handling of the above exception, another exception occurred:\n",
      "\u001b[0;31mAssertionError\u001b[0m                            Traceback (most recent call last)",
      "\u001b[0;32m/tmp/ipykernel_2164/2999864733.py\u001b[0m in \u001b[0;36m<module>\u001b[0;34m\u001b[0m\n\u001b[1;32m      2\u001b[0m     \u001b[0;32massert\u001b[0m \u001b[0;32mnot\u001b[0m \u001b[0mlen\u001b[0m\u001b[0;34m(\u001b[0m\u001b[0mdf\u001b[0m\u001b[0;34m)\u001b[0m \u001b[0;34m<\u001b[0m \u001b[0;36m342\u001b[0m\u001b[0;34m\u001b[0m\u001b[0;34m\u001b[0m\u001b[0m\n\u001b[1;32m      3\u001b[0m \u001b[0;32mexcept\u001b[0m \u001b[0mAssertionError\u001b[0m\u001b[0;34m:\u001b[0m\u001b[0;34m\u001b[0m\u001b[0;34m\u001b[0m\u001b[0m\n\u001b[0;32m----> 4\u001b[0;31m     \u001b[0;32mraise\u001b[0m \u001b[0mAssertionError\u001b[0m\u001b[0;34m(\u001b[0m\u001b[0;34m\"L.A. County's scraper is missing rows\"\u001b[0m\u001b[0;34m)\u001b[0m\u001b[0;34m\u001b[0m\u001b[0;34m\u001b[0m\u001b[0m\n\u001b[0m",
      "\u001b[0;31mAssertionError\u001b[0m: L.A. County's scraper is missing rows"
     ]
    }
   ],
   "source": [
    "try:\n",
    "    assert not len(df) < 342\n",
    "except AssertionError:\n",
    "    raise AssertionError(\"L.A. County's scraper is missing rows\")"
   ]
  },
  {
   "cell_type": "markdown",
   "metadata": {},
   "source": [
    "## Export"
   ]
  },
  {
   "cell_type": "markdown",
   "metadata": {},
   "source": [
    "Set the date"
   ]
  },
  {
   "cell_type": "code",
   "execution_count": 67,
   "metadata": {},
   "outputs": [],
   "source": [
    "tz = pytz.timezone(\"America/Los_Angeles\")"
   ]
  },
  {
   "cell_type": "code",
   "execution_count": 68,
   "metadata": {},
   "outputs": [],
   "source": [
    "today = datetime.now(tz).date()"
   ]
  },
  {
   "cell_type": "code",
   "execution_count": 69,
   "metadata": {},
   "outputs": [],
   "source": [
    "slug = \"los-angeles\""
   ]
  },
  {
   "cell_type": "code",
   "execution_count": 70,
   "metadata": {},
   "outputs": [],
   "source": [
    "df.to_csv(data_dir / slug / f\"{today}.csv\", index=False)"
   ]
  },
  {
   "cell_type": "markdown",
   "metadata": {},
   "source": [
    "## Combine"
   ]
  },
  {
   "cell_type": "code",
   "execution_count": 71,
   "metadata": {},
   "outputs": [],
   "source": [
    "csv_list = [\n",
    "    i\n",
    "    for i in glob.glob(str(data_dir / slug / \"*.csv\"))\n",
    "    if not str(i).endswith(\"timeseries.csv\")\n",
    "]"
   ]
  },
  {
   "cell_type": "code",
   "execution_count": 72,
   "metadata": {},
   "outputs": [],
   "source": [
    "df_list = []\n",
    "for csv in csv_list:\n",
    "    if \"manual\" in csv:\n",
    "        df = pd.read_csv(csv, parse_dates=[\"date\"])\n",
    "    else:\n",
    "        file_date = csv.split(\"/\")[-1].replace(\".csv\", \"\")\n",
    "        df = pd.read_csv(csv, parse_dates=[\"county_date\"])\n",
    "        df[\"date\"] = file_date\n",
    "    df_list.append(df)"
   ]
  },
  {
   "cell_type": "code",
   "execution_count": 73,
   "metadata": {},
   "outputs": [],
   "source": [
    "df = pd.concat(df_list).sort_values([\"date\", \"area\"])"
   ]
  },
  {
   "cell_type": "code",
   "execution_count": 74,
   "metadata": {},
   "outputs": [],
   "source": [
    "df.to_csv(data_dir / slug / \"timeseries.csv\", index=False)"
   ]
  },
  {
   "cell_type": "code",
   "execution_count": null,
   "metadata": {},
   "outputs": [],
   "source": []
  },
  {
   "cell_type": "code",
   "execution_count": null,
   "metadata": {},
   "outputs": [],
   "source": []
  }
 ],
 "metadata": {
  "kernelspec": {
   "display_name": "Python 3 (ipykernel)",
   "language": "python",
   "name": "python3"
  },
  "language_info": {
   "codemirror_mode": {
    "name": "ipython",
    "version": 3
   },
   "file_extension": ".py",
   "mimetype": "text/x-python",
   "name": "python",
   "nbconvert_exporter": "python",
   "pygments_lexer": "ipython3",
   "version": "3.8.16"
  }
 },
 "nbformat": 4,
 "nbformat_minor": 4
}
