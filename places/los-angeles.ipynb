{
 "cells": [
  {
   "cell_type": "markdown",
   "metadata": {
    "tags": []
   },
   "source": [
    "## Configuration\n",
    "_Initial steps to get the notebook ready to play nice with our repository. Do not delete this section._"
   ]
  },
  {
   "cell_type": "markdown",
   "metadata": {},
   "source": [
    "Code formatting with [black](https://pypi.org/project/nb-black/)."
   ]
  },
  {
   "cell_type": "code",
   "execution_count": 1,
   "metadata": {
    "execution": {
     "iopub.execute_input": "2023-01-23T04:19:15.353738Z",
     "iopub.status.busy": "2023-01-23T04:19:15.353320Z",
     "iopub.status.idle": "2023-01-23T04:19:15.486010Z",
     "shell.execute_reply": "2023-01-23T04:19:15.486401Z"
    }
   },
   "outputs": [],
   "source": [
    "%load_ext lab_black"
   ]
  },
  {
   "cell_type": "code",
   "execution_count": 2,
   "metadata": {
    "execution": {
     "iopub.execute_input": "2023-01-23T04:19:15.490632Z",
     "iopub.status.busy": "2023-01-23T04:19:15.490194Z",
     "iopub.status.idle": "2023-01-23T04:19:15.493377Z",
     "shell.execute_reply": "2023-01-23T04:19:15.492648Z"
    }
   },
   "outputs": [],
   "source": [
    "import os\n",
    "import pathlib"
   ]
  },
  {
   "cell_type": "code",
   "execution_count": 3,
   "metadata": {
    "execution": {
     "iopub.execute_input": "2023-01-23T04:19:15.498585Z",
     "iopub.status.busy": "2023-01-23T04:19:15.496418Z",
     "iopub.status.idle": "2023-01-23T04:19:15.500459Z",
     "shell.execute_reply": "2023-01-23T04:19:15.500104Z"
    }
   },
   "outputs": [],
   "source": [
    "this_dir = pathlib.Path(os.path.abspath(\"\"))"
   ]
  },
  {
   "cell_type": "code",
   "execution_count": 4,
   "metadata": {
    "execution": {
     "iopub.execute_input": "2023-01-23T04:19:15.504279Z",
     "iopub.status.busy": "2023-01-23T04:19:15.503865Z",
     "iopub.status.idle": "2023-01-23T04:19:15.506563Z",
     "shell.execute_reply": "2023-01-23T04:19:15.506198Z"
    }
   },
   "outputs": [],
   "source": [
    "data_dir = this_dir / \"data\""
   ]
  },
  {
   "cell_type": "code",
   "execution_count": 5,
   "metadata": {
    "execution": {
     "iopub.execute_input": "2023-01-23T04:19:15.509999Z",
     "iopub.status.busy": "2023-01-23T04:19:15.509265Z",
     "iopub.status.idle": "2023-01-23T04:19:15.879598Z",
     "shell.execute_reply": "2023-01-23T04:19:15.878952Z"
    }
   },
   "outputs": [],
   "source": [
    "import re\n",
    "import pytz\n",
    "import glob\n",
    "import requests\n",
    "import unicodedata\n",
    "import pandas as pd\n",
    "from slugify import slugify\n",
    "from bs4 import BeautifulSoup\n",
    "from datetime import datetime, date"
   ]
  },
  {
   "cell_type": "markdown",
   "metadata": {},
   "source": [
    "## Download"
   ]
  },
  {
   "cell_type": "markdown",
   "metadata": {},
   "source": [
    "Retrieve the page"
   ]
  },
  {
   "cell_type": "code",
   "execution_count": 6,
   "metadata": {
    "execution": {
     "iopub.execute_input": "2023-01-23T04:19:15.883809Z",
     "iopub.status.busy": "2023-01-23T04:19:15.883063Z",
     "iopub.status.idle": "2023-01-23T04:19:15.885833Z",
     "shell.execute_reply": "2023-01-23T04:19:15.886160Z"
    }
   },
   "outputs": [],
   "source": [
    "url = \"http://publichealth.lacounty.gov/media/Coronavirus/locations.htm\""
   ]
  },
  {
   "cell_type": "code",
   "execution_count": 7,
   "metadata": {
    "execution": {
     "iopub.execute_input": "2023-01-23T04:19:15.892410Z",
     "iopub.status.busy": "2023-01-23T04:19:15.888852Z",
     "iopub.status.idle": "2023-01-23T04:19:16.253148Z",
     "shell.execute_reply": "2023-01-23T04:19:16.252722Z"
    }
   },
   "outputs": [],
   "source": [
    "page = requests.get(url)"
   ]
  },
  {
   "cell_type": "markdown",
   "metadata": {},
   "source": [
    "## Parse"
   ]
  },
  {
   "cell_type": "code",
   "execution_count": 8,
   "metadata": {
    "execution": {
     "iopub.execute_input": "2023-01-23T04:19:16.291071Z",
     "iopub.status.busy": "2023-01-23T04:19:16.265078Z",
     "iopub.status.idle": "2023-01-23T04:19:16.400964Z",
     "shell.execute_reply": "2023-01-23T04:19:16.400551Z"
    }
   },
   "outputs": [],
   "source": [
    "soup = BeautifulSoup(page.content, \"html.parser\")"
   ]
  },
  {
   "cell_type": "markdown",
   "metadata": {},
   "source": [
    "Get content well"
   ]
  },
  {
   "cell_type": "code",
   "execution_count": 9,
   "metadata": {
    "execution": {
     "iopub.execute_input": "2023-01-23T04:19:16.407747Z",
     "iopub.status.busy": "2023-01-23T04:19:16.406695Z",
     "iopub.status.idle": "2023-01-23T04:19:16.410103Z",
     "shell.execute_reply": "2023-01-23T04:19:16.409725Z"
    }
   },
   "outputs": [],
   "source": [
    "content = soup.find(\"div\", {\"id\": \"content\"})"
   ]
  },
  {
   "cell_type": "markdown",
   "metadata": {},
   "source": [
    "Get table"
   ]
  },
  {
   "cell_type": "code",
   "execution_count": 10,
   "metadata": {
    "execution": {
     "iopub.execute_input": "2023-01-23T04:19:16.423902Z",
     "iopub.status.busy": "2023-01-23T04:19:16.422270Z",
     "iopub.status.idle": "2023-01-23T04:19:16.426114Z",
     "shell.execute_reply": "2023-01-23T04:19:16.426433Z"
    }
   },
   "outputs": [],
   "source": [
    "for tag in content.find_all(text=re.compile(\"CITY/COMMUNITY\")):\n",
    "    table = tag.findParent(\"table\")"
   ]
  },
  {
   "cell_type": "code",
   "execution_count": 11,
   "metadata": {
    "execution": {
     "iopub.execute_input": "2023-01-23T04:19:16.431422Z",
     "iopub.status.busy": "2023-01-23T04:19:16.431009Z",
     "iopub.status.idle": "2023-01-23T04:19:16.433731Z",
     "shell.execute_reply": "2023-01-23T04:19:16.433371Z"
    }
   },
   "outputs": [],
   "source": [
    "tbody = soup.tbody"
   ]
  },
  {
   "cell_type": "code",
   "execution_count": 12,
   "metadata": {
    "execution": {
     "iopub.execute_input": "2023-01-23T04:19:16.438284Z",
     "iopub.status.busy": "2023-01-23T04:19:16.437876Z",
     "iopub.status.idle": "2023-01-23T04:19:16.440514Z",
     "shell.execute_reply": "2023-01-23T04:19:16.441196Z"
    }
   },
   "outputs": [],
   "source": [
    "row_list = tbody.find_all(\"tr\")"
   ]
  },
  {
   "cell_type": "code",
   "execution_count": 13,
   "metadata": {
    "execution": {
     "iopub.execute_input": "2023-01-23T04:19:16.444079Z",
     "iopub.status.busy": "2023-01-23T04:19:16.443506Z",
     "iopub.status.idle": "2023-01-23T04:19:16.446510Z",
     "shell.execute_reply": "2023-01-23T04:19:16.446161Z"
    }
   },
   "outputs": [],
   "source": [
    "dict_list = []"
   ]
  },
  {
   "cell_type": "code",
   "execution_count": 14,
   "metadata": {
    "execution": {
     "iopub.execute_input": "2023-01-23T04:19:16.452212Z",
     "iopub.status.busy": "2023-01-23T04:19:16.451783Z",
     "iopub.status.idle": "2023-01-23T04:19:16.453503Z",
     "shell.execute_reply": "2023-01-23T04:19:16.453848Z"
    }
   },
   "outputs": [],
   "source": [
    "def safetxt(element):\n",
    "    v = element.text.strip()\n",
    "    v = v.replace(\"\\u200b\", \"\")\n",
    "    return v"
   ]
  },
  {
   "cell_type": "code",
   "execution_count": 15,
   "metadata": {
    "execution": {
     "iopub.execute_input": "2023-01-23T04:19:16.460566Z",
     "iopub.status.busy": "2023-01-23T04:19:16.460152Z",
     "iopub.status.idle": "2023-01-23T04:19:16.462087Z",
     "shell.execute_reply": "2023-01-23T04:19:16.461746Z"
    }
   },
   "outputs": [],
   "source": [
    "def safenumber(element):\n",
    "    v = safetxt(element)\n",
    "    v = v.replace(\",\", \"\")\n",
    "    v = v.replace(\" \", \"\")\n",
    "    return v"
   ]
  },
  {
   "cell_type": "code",
   "execution_count": 16,
   "metadata": {
    "execution": {
     "iopub.execute_input": "2023-01-23T04:19:16.473226Z",
     "iopub.status.busy": "2023-01-23T04:19:16.472794Z",
     "iopub.status.idle": "2023-01-23T04:19:16.479282Z",
     "shell.execute_reply": "2023-01-23T04:19:16.478902Z"
    }
   },
   "outputs": [],
   "source": [
    "for row in row_list:\n",
    "    cell_content = row.find_all(\"td\")\n",
    "    d = dict(\n",
    "        county=\"Los Angeles\",\n",
    "        area=safetxt(cell_content[0]),\n",
    "        confirmed_cases=safenumber(cell_content[1]),\n",
    "        confirmed_deaths=safenumber(cell_content[3]),\n",
    "    )\n",
    "    dict_list.append(d)"
   ]
  },
  {
   "cell_type": "code",
   "execution_count": 17,
   "metadata": {
    "execution": {
     "iopub.execute_input": "2023-01-23T04:19:16.484171Z",
     "iopub.status.busy": "2023-01-23T04:19:16.483714Z",
     "iopub.status.idle": "2023-01-23T04:19:16.485510Z",
     "shell.execute_reply": "2023-01-23T04:19:16.485830Z"
    }
   },
   "outputs": [],
   "source": [
    "df = pd.DataFrame(dict_list)"
   ]
  },
  {
   "cell_type": "markdown",
   "metadata": {},
   "source": [
    "Get timestamp"
   ]
  },
  {
   "cell_type": "code",
   "execution_count": 18,
   "metadata": {
    "execution": {
     "iopub.execute_input": "2023-01-23T04:19:16.489740Z",
     "iopub.status.busy": "2023-01-23T04:19:16.489305Z",
     "iopub.status.idle": "2023-01-23T04:19:16.491174Z",
     "shell.execute_reply": "2023-01-23T04:19:16.490827Z"
    }
   },
   "outputs": [],
   "source": [
    "date_url = \"http://publichealth.lacounty.gov/media/Coronavirus/js/casecounter.js\""
   ]
  },
  {
   "cell_type": "code",
   "execution_count": 19,
   "metadata": {
    "execution": {
     "iopub.execute_input": "2023-01-23T04:19:16.496627Z",
     "iopub.status.busy": "2023-01-23T04:19:16.496222Z",
     "iopub.status.idle": "2023-01-23T04:19:16.649542Z",
     "shell.execute_reply": "2023-01-23T04:19:16.648804Z"
    }
   },
   "outputs": [],
   "source": [
    "response = requests.get(date_url)\n",
    "date_page = response.text"
   ]
  },
  {
   "cell_type": "code",
   "execution_count": 20,
   "metadata": {
    "execution": {
     "iopub.execute_input": "2023-01-23T04:19:16.658108Z",
     "iopub.status.busy": "2023-01-23T04:19:16.656732Z",
     "iopub.status.idle": "2023-01-23T04:19:16.663122Z",
     "shell.execute_reply": "2023-01-23T04:19:16.663655Z"
    }
   },
   "outputs": [
    {
     "data": {
      "text/plain": [
       "'$( document ).ready(function() {\\r\\n    var data = {\\r\\n\\t\\t\\t\\t    \"content\": { \\r\\n\\t\\t\\r\\n\\t\\t\\t\"count\": \"3,665,365\",\\r\\n\\r\\n\\r\\n\\t\\t\\t\"death\": \"35,079\",\\r\\n\\r\\n\\t\\t\\t\"dailycount\": \"1,502\",\\r\\n\\r\\n\\r\\n\\t\\t\\t\"dailydeath\": \"31\",\\r\\n\\t\\t\\t\"hospitalizationsever\": \"169,328\",\\r\\n\\r\\n\\r\\n\\t\\t\\t\"date\": \"01/19/23\",\\r\\n\\t\\t\\t\"info\": \"through 12:00pm 01/18/2023\",\\r\\n\\r\\n\\t\\t\\t\"testingaverage\": \"24,421\",\\r\\n\\r\\n\\t\\t\\t\"peopletested\": \"12,863,504\",\\r\\n\\r\\n\\t\\t\\t\"positivity\": \"6.35%\",\\r\\n\\r\\n\\t\\t\\t\"hospitalizations\": \"918\",\\r\\n\\t\\t\\t\"datehospitalizations\": \"01/18/23\"\\r\\n\\r\\n\\t\\t\\t\\t}       \\r\\n\\t\\t\\t\\t};\\t\\r\\n\\t\\t\\t\\t\\r\\n\\t\\t\\t\\t\\r\\n\\t\\t\\t\\tvar content = data.content;\\r\\n\\t\\t\\t\\t\\r\\n\\t\\t\\t\\t$(\\'#ctn\\').html(content.count);\\r\\n\\t\\t\\t\\t$(\\'#det\\').html(content.death);\\r\\n\\t\\t\\t\\t$(\\'#dctn\\').html(content.dailycount);\\r\\n\\t\\t\\t\\t$(\\'#ddet\\').html(content.dailydeath);\\r\\n\\t\\t\\t\\t$(\\'#hosp_1\\').html(content.hospitalizationsever);\\r\\n\\t\\t\\t\\t$(\\'#dte\\').html(content.date);\\r\\n\\t\\t\\t\\t$(\\'#dte_1\\').html(content.date);\\r\\n\\t\\t\\t\\t$(\\'#dte_2\\').html(content.date);\\r\\n\\t\\t\\t\\t$(\\'#dte_3\\').html(content.datehospitalizations);\\r\\n\\t\\t\\t\\t$(\\'#cse\\').html(content.info);\\t\\r\\n\\t\\t\\t\\r\\n\\t\\t\\t\\t\\r\\n\\t\\t\\t\\t$(\\'#tstavg\\').html(content.testingaverage);\\t\\r\\n\\t\\t\\t\\t$(\\'#ppltst\\').html(content.peopletested);\\t\\r\\n\\t\\t\\t\\t$(\\'#pos\\').html(content.positivity);\\t\\r\\n\\t\\t\\t\\t$(\\'#hosp\\').html(content.hospitalizations);\\r\\n\\t\\t\\t\\r\\n\\t\\t\\t\\t\\t\\t\\t\\r\\n\\r\\n\\r\\n});\\r\\n\\r\\n\\r\\n\\r\\n'"
      ]
     },
     "execution_count": 20,
     "metadata": {},
     "output_type": "execute_result"
    }
   ],
   "source": [
    "date_page"
   ]
  },
  {
   "cell_type": "code",
   "execution_count": 21,
   "metadata": {
    "execution": {
     "iopub.execute_input": "2023-01-23T04:19:16.667759Z",
     "iopub.status.busy": "2023-01-23T04:19:16.667328Z",
     "iopub.status.idle": "2023-01-23T04:19:16.670192Z",
     "shell.execute_reply": "2023-01-23T04:19:16.669814Z"
    }
   },
   "outputs": [],
   "source": [
    "# date_text = re.search(r\"([0-9][0-9]/[0-9][0-9])\", date_page).group(1)\n",
    "# date_text = date_text + \"/\" + str(date.today().year)"
   ]
  },
  {
   "cell_type": "code",
   "execution_count": 22,
   "metadata": {
    "execution": {
     "iopub.execute_input": "2023-01-23T04:19:16.675228Z",
     "iopub.status.busy": "2023-01-23T04:19:16.674635Z",
     "iopub.status.idle": "2023-01-23T04:19:16.677486Z",
     "shell.execute_reply": "2023-01-23T04:19:16.677847Z"
    }
   },
   "outputs": [],
   "source": [
    "date_text = re.search(r\"through (.+?)\\\"\", date_page).group(1)"
   ]
  },
  {
   "cell_type": "code",
   "execution_count": 23,
   "metadata": {
    "execution": {
     "iopub.execute_input": "2023-01-23T04:19:16.682290Z",
     "iopub.status.busy": "2023-01-23T04:19:16.679701Z",
     "iopub.status.idle": "2023-01-23T04:19:16.684678Z",
     "shell.execute_reply": "2023-01-23T04:19:16.685059Z"
    }
   },
   "outputs": [],
   "source": [
    "date_text = date_text.split(\"m \")[0]"
   ]
  },
  {
   "cell_type": "code",
   "execution_count": 24,
   "metadata": {
    "execution": {
     "iopub.execute_input": "2023-01-23T04:19:16.690922Z",
     "iopub.status.busy": "2023-01-23T04:19:16.686914Z",
     "iopub.status.idle": "2023-01-23T04:19:16.693308Z",
     "shell.execute_reply": "2023-01-23T04:19:16.692937Z"
    }
   },
   "outputs": [],
   "source": [
    "latest_date = pd.to_datetime(date_text).date()"
   ]
  },
  {
   "cell_type": "code",
   "execution_count": 25,
   "metadata": {
    "execution": {
     "iopub.execute_input": "2023-01-23T04:19:16.698105Z",
     "iopub.status.busy": "2023-01-23T04:19:16.697527Z",
     "iopub.status.idle": "2023-01-23T04:19:16.700463Z",
     "shell.execute_reply": "2023-01-23T04:19:16.700067Z"
    }
   },
   "outputs": [],
   "source": [
    "df[\"county_date\"] = latest_date"
   ]
  },
  {
   "cell_type": "code",
   "execution_count": 26,
   "metadata": {
    "execution": {
     "iopub.execute_input": "2023-01-23T04:19:16.705832Z",
     "iopub.status.busy": "2023-01-23T04:19:16.702212Z",
     "iopub.status.idle": "2023-01-23T04:19:16.709027Z",
     "shell.execute_reply": "2023-01-23T04:19:16.708351Z"
    }
   },
   "outputs": [],
   "source": [
    "df.loc[df.area == \"-  Under Investigation\", \"area\"] = \"Under Investigation\""
   ]
  },
  {
   "cell_type": "code",
   "execution_count": 27,
   "metadata": {
    "execution": {
     "iopub.execute_input": "2023-01-23T04:19:16.714711Z",
     "iopub.status.busy": "2023-01-23T04:19:16.713584Z",
     "iopub.status.idle": "2023-01-23T04:19:16.717449Z",
     "shell.execute_reply": "2023-01-23T04:19:16.716752Z"
    }
   },
   "outputs": [],
   "source": [
    "df.loc[df.area == \"- Under Investigation\", \"area\"] = \"Under Investigation\""
   ]
  },
  {
   "cell_type": "markdown",
   "metadata": {},
   "source": [
    "## Vet"
   ]
  },
  {
   "cell_type": "code",
   "execution_count": 28,
   "metadata": {
    "execution": {
     "iopub.execute_input": "2023-01-23T04:19:16.721584Z",
     "iopub.status.busy": "2023-01-23T04:19:16.720863Z",
     "iopub.status.idle": "2023-01-23T04:19:16.725570Z",
     "shell.execute_reply": "2023-01-23T04:19:16.725161Z"
    }
   },
   "outputs": [],
   "source": [
    "try:\n",
    "    assert not len(df) > 342\n",
    "except AssertionError:\n",
    "    raise AssertionError(\"L.A. County's scraper has extra rows\")"
   ]
  },
  {
   "cell_type": "code",
   "execution_count": 29,
   "metadata": {
    "execution": {
     "iopub.execute_input": "2023-01-23T04:19:16.730360Z",
     "iopub.status.busy": "2023-01-23T04:19:16.728470Z",
     "iopub.status.idle": "2023-01-23T04:19:16.851558Z",
     "shell.execute_reply": "2023-01-23T04:19:16.850106Z"
    }
   },
   "outputs": [
    {
     "ename": "AssertionError",
     "evalue": "L.A. County's scraper is missing rows",
     "output_type": "error",
     "traceback": [
      "\u001b[0;31m---------------------------------------------------------------------------\u001b[0m",
      "\u001b[0;31mAssertionError\u001b[0m                            Traceback (most recent call last)",
      "\u001b[0;32m/tmp/ipykernel_2227/2999864733.py\u001b[0m in \u001b[0;36m<module>\u001b[0;34m\u001b[0m\n\u001b[1;32m      1\u001b[0m \u001b[0;32mtry\u001b[0m\u001b[0;34m:\u001b[0m\u001b[0;34m\u001b[0m\u001b[0;34m\u001b[0m\u001b[0m\n\u001b[0;32m----> 2\u001b[0;31m     \u001b[0;32massert\u001b[0m \u001b[0;32mnot\u001b[0m \u001b[0mlen\u001b[0m\u001b[0;34m(\u001b[0m\u001b[0mdf\u001b[0m\u001b[0;34m)\u001b[0m \u001b[0;34m<\u001b[0m \u001b[0;36m342\u001b[0m\u001b[0;34m\u001b[0m\u001b[0;34m\u001b[0m\u001b[0m\n\u001b[0m\u001b[1;32m      3\u001b[0m \u001b[0;32mexcept\u001b[0m \u001b[0mAssertionError\u001b[0m\u001b[0;34m:\u001b[0m\u001b[0;34m\u001b[0m\u001b[0;34m\u001b[0m\u001b[0m\n",
      "\u001b[0;31mAssertionError\u001b[0m: ",
      "\nDuring handling of the above exception, another exception occurred:\n",
      "\u001b[0;31mAssertionError\u001b[0m                            Traceback (most recent call last)",
      "\u001b[0;32m/tmp/ipykernel_2227/2999864733.py\u001b[0m in \u001b[0;36m<module>\u001b[0;34m\u001b[0m\n\u001b[1;32m      2\u001b[0m     \u001b[0;32massert\u001b[0m \u001b[0;32mnot\u001b[0m \u001b[0mlen\u001b[0m\u001b[0;34m(\u001b[0m\u001b[0mdf\u001b[0m\u001b[0;34m)\u001b[0m \u001b[0;34m<\u001b[0m \u001b[0;36m342\u001b[0m\u001b[0;34m\u001b[0m\u001b[0;34m\u001b[0m\u001b[0m\n\u001b[1;32m      3\u001b[0m \u001b[0;32mexcept\u001b[0m \u001b[0mAssertionError\u001b[0m\u001b[0;34m:\u001b[0m\u001b[0;34m\u001b[0m\u001b[0;34m\u001b[0m\u001b[0m\n\u001b[0;32m----> 4\u001b[0;31m     \u001b[0;32mraise\u001b[0m \u001b[0mAssertionError\u001b[0m\u001b[0;34m(\u001b[0m\u001b[0;34m\"L.A. County's scraper is missing rows\"\u001b[0m\u001b[0;34m)\u001b[0m\u001b[0;34m\u001b[0m\u001b[0;34m\u001b[0m\u001b[0m\n\u001b[0m",
      "\u001b[0;31mAssertionError\u001b[0m: L.A. County's scraper is missing rows"
     ]
    }
   ],
   "source": [
    "try:\n",
    "    assert not len(df) < 342\n",
    "except AssertionError:\n",
    "    raise AssertionError(\"L.A. County's scraper is missing rows\")"
   ]
  },
  {
   "cell_type": "markdown",
   "metadata": {},
   "source": [
    "## Export"
   ]
  },
  {
   "cell_type": "markdown",
   "metadata": {},
   "source": [
    "Set the date"
   ]
  },
  {
   "cell_type": "code",
   "execution_count": 67,
   "metadata": {},
   "outputs": [],
   "source": [
    "tz = pytz.timezone(\"America/Los_Angeles\")"
   ]
  },
  {
   "cell_type": "code",
   "execution_count": 68,
   "metadata": {},
   "outputs": [],
   "source": [
    "today = datetime.now(tz).date()"
   ]
  },
  {
   "cell_type": "code",
   "execution_count": 69,
   "metadata": {},
   "outputs": [],
   "source": [
    "slug = \"los-angeles\""
   ]
  },
  {
   "cell_type": "code",
   "execution_count": 70,
   "metadata": {},
   "outputs": [],
   "source": [
    "df.to_csv(data_dir / slug / f\"{today}.csv\", index=False)"
   ]
  },
  {
   "cell_type": "markdown",
   "metadata": {},
   "source": [
    "## Combine"
   ]
  },
  {
   "cell_type": "code",
   "execution_count": 71,
   "metadata": {},
   "outputs": [],
   "source": [
    "csv_list = [\n",
    "    i\n",
    "    for i in glob.glob(str(data_dir / slug / \"*.csv\"))\n",
    "    if not str(i).endswith(\"timeseries.csv\")\n",
    "]"
   ]
  },
  {
   "cell_type": "code",
   "execution_count": 72,
   "metadata": {},
   "outputs": [],
   "source": [
    "df_list = []\n",
    "for csv in csv_list:\n",
    "    if \"manual\" in csv:\n",
    "        df = pd.read_csv(csv, parse_dates=[\"date\"])\n",
    "    else:\n",
    "        file_date = csv.split(\"/\")[-1].replace(\".csv\", \"\")\n",
    "        df = pd.read_csv(csv, parse_dates=[\"county_date\"])\n",
    "        df[\"date\"] = file_date\n",
    "    df_list.append(df)"
   ]
  },
  {
   "cell_type": "code",
   "execution_count": 73,
   "metadata": {},
   "outputs": [],
   "source": [
    "df = pd.concat(df_list).sort_values([\"date\", \"area\"])"
   ]
  },
  {
   "cell_type": "code",
   "execution_count": 74,
   "metadata": {},
   "outputs": [],
   "source": [
    "df.to_csv(data_dir / slug / \"timeseries.csv\", index=False)"
   ]
  },
  {
   "cell_type": "code",
   "execution_count": null,
   "metadata": {},
   "outputs": [],
   "source": []
  },
  {
   "cell_type": "code",
   "execution_count": null,
   "metadata": {},
   "outputs": [],
   "source": []
  }
 ],
 "metadata": {
  "kernelspec": {
   "display_name": "Python 3 (ipykernel)",
   "language": "python",
   "name": "python3"
  },
  "language_info": {
   "codemirror_mode": {
    "name": "ipython",
    "version": 3
   },
   "file_extension": ".py",
   "mimetype": "text/x-python",
   "name": "python",
   "nbconvert_exporter": "python",
   "pygments_lexer": "ipython3",
   "version": "3.8.16"
  }
 },
 "nbformat": 4,
 "nbformat_minor": 4
}
