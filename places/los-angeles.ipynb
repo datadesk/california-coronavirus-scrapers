{
 "cells": [
  {
   "cell_type": "markdown",
   "metadata": {
    "tags": []
   },
   "source": [
    "## Configuration\n",
    "_Initial steps to get the notebook ready to play nice with our repository. Do not delete this section._"
   ]
  },
  {
   "cell_type": "markdown",
   "metadata": {},
   "source": [
    "Code formatting with [black](https://pypi.org/project/nb-black/)."
   ]
  },
  {
   "cell_type": "code",
   "execution_count": 1,
   "metadata": {
    "execution": {
     "iopub.execute_input": "2023-01-08T00:29:33.269185Z",
     "iopub.status.busy": "2023-01-08T00:29:33.268788Z",
     "iopub.status.idle": "2023-01-08T00:29:33.406217Z",
     "shell.execute_reply": "2023-01-08T00:29:33.405742Z"
    }
   },
   "outputs": [],
   "source": [
    "%load_ext lab_black"
   ]
  },
  {
   "cell_type": "code",
   "execution_count": 2,
   "metadata": {
    "execution": {
     "iopub.execute_input": "2023-01-08T00:29:33.409884Z",
     "iopub.status.busy": "2023-01-08T00:29:33.408985Z",
     "iopub.status.idle": "2023-01-08T00:29:33.411637Z",
     "shell.execute_reply": "2023-01-08T00:29:33.411285Z"
    }
   },
   "outputs": [],
   "source": [
    "import os\n",
    "import pathlib"
   ]
  },
  {
   "cell_type": "code",
   "execution_count": 3,
   "metadata": {
    "execution": {
     "iopub.execute_input": "2023-01-08T00:29:33.417597Z",
     "iopub.status.busy": "2023-01-08T00:29:33.416858Z",
     "iopub.status.idle": "2023-01-08T00:29:33.418277Z",
     "shell.execute_reply": "2023-01-08T00:29:33.418615Z"
    }
   },
   "outputs": [],
   "source": [
    "this_dir = pathlib.Path(os.path.abspath(\"\"))"
   ]
  },
  {
   "cell_type": "code",
   "execution_count": 4,
   "metadata": {
    "execution": {
     "iopub.execute_input": "2023-01-08T00:29:33.421701Z",
     "iopub.status.busy": "2023-01-08T00:29:33.421286Z",
     "iopub.status.idle": "2023-01-08T00:29:33.425268Z",
     "shell.execute_reply": "2023-01-08T00:29:33.424895Z"
    }
   },
   "outputs": [],
   "source": [
    "data_dir = this_dir / \"data\""
   ]
  },
  {
   "cell_type": "code",
   "execution_count": 5,
   "metadata": {
    "execution": {
     "iopub.execute_input": "2023-01-08T00:29:33.428818Z",
     "iopub.status.busy": "2023-01-08T00:29:33.428386Z",
     "iopub.status.idle": "2023-01-08T00:29:33.799178Z",
     "shell.execute_reply": "2023-01-08T00:29:33.798315Z"
    }
   },
   "outputs": [],
   "source": [
    "import re\n",
    "import pytz\n",
    "import glob\n",
    "import requests\n",
    "import unicodedata\n",
    "import pandas as pd\n",
    "from slugify import slugify\n",
    "from bs4 import BeautifulSoup\n",
    "from datetime import datetime, date"
   ]
  },
  {
   "cell_type": "markdown",
   "metadata": {},
   "source": [
    "## Download"
   ]
  },
  {
   "cell_type": "markdown",
   "metadata": {},
   "source": [
    "Retrieve the page"
   ]
  },
  {
   "cell_type": "code",
   "execution_count": 6,
   "metadata": {
    "execution": {
     "iopub.execute_input": "2023-01-08T00:29:33.803125Z",
     "iopub.status.busy": "2023-01-08T00:29:33.802661Z",
     "iopub.status.idle": "2023-01-08T00:29:33.805645Z",
     "shell.execute_reply": "2023-01-08T00:29:33.805293Z"
    }
   },
   "outputs": [],
   "source": [
    "url = \"http://publichealth.lacounty.gov/media/Coronavirus/locations.htm\""
   ]
  },
  {
   "cell_type": "code",
   "execution_count": 7,
   "metadata": {
    "execution": {
     "iopub.execute_input": "2023-01-08T00:29:33.811542Z",
     "iopub.status.busy": "2023-01-08T00:29:33.808431Z",
     "iopub.status.idle": "2023-01-08T00:29:34.223334Z",
     "shell.execute_reply": "2023-01-08T00:29:34.222882Z"
    }
   },
   "outputs": [],
   "source": [
    "page = requests.get(url)"
   ]
  },
  {
   "cell_type": "markdown",
   "metadata": {},
   "source": [
    "## Parse"
   ]
  },
  {
   "cell_type": "code",
   "execution_count": 8,
   "metadata": {
    "execution": {
     "iopub.execute_input": "2023-01-08T00:29:34.245734Z",
     "iopub.status.busy": "2023-01-08T00:29:34.230424Z",
     "iopub.status.idle": "2023-01-08T00:29:34.382876Z",
     "shell.execute_reply": "2023-01-08T00:29:34.382070Z"
    }
   },
   "outputs": [],
   "source": [
    "soup = BeautifulSoup(page.content, \"html.parser\")"
   ]
  },
  {
   "cell_type": "markdown",
   "metadata": {},
   "source": [
    "Get content well"
   ]
  },
  {
   "cell_type": "code",
   "execution_count": 9,
   "metadata": {
    "execution": {
     "iopub.execute_input": "2023-01-08T00:29:34.388943Z",
     "iopub.status.busy": "2023-01-08T00:29:34.388182Z",
     "iopub.status.idle": "2023-01-08T00:29:34.391789Z",
     "shell.execute_reply": "2023-01-08T00:29:34.391414Z"
    }
   },
   "outputs": [],
   "source": [
    "content = soup.find(\"div\", {\"id\": \"content\"})"
   ]
  },
  {
   "cell_type": "markdown",
   "metadata": {},
   "source": [
    "Get table"
   ]
  },
  {
   "cell_type": "code",
   "execution_count": 10,
   "metadata": {
    "execution": {
     "iopub.execute_input": "2023-01-08T00:29:34.408079Z",
     "iopub.status.busy": "2023-01-08T00:29:34.404009Z",
     "iopub.status.idle": "2023-01-08T00:29:34.410165Z",
     "shell.execute_reply": "2023-01-08T00:29:34.410526Z"
    }
   },
   "outputs": [],
   "source": [
    "for tag in content.find_all(text=re.compile(\"CITY/COMMUNITY\")):\n",
    "    table = tag.findParent(\"table\")"
   ]
  },
  {
   "cell_type": "code",
   "execution_count": 11,
   "metadata": {
    "execution": {
     "iopub.execute_input": "2023-01-08T00:29:34.415841Z",
     "iopub.status.busy": "2023-01-08T00:29:34.415438Z",
     "iopub.status.idle": "2023-01-08T00:29:34.418170Z",
     "shell.execute_reply": "2023-01-08T00:29:34.417801Z"
    }
   },
   "outputs": [],
   "source": [
    "tbody = soup.tbody"
   ]
  },
  {
   "cell_type": "code",
   "execution_count": 12,
   "metadata": {
    "execution": {
     "iopub.execute_input": "2023-01-08T00:29:34.423590Z",
     "iopub.status.busy": "2023-01-08T00:29:34.422861Z",
     "iopub.status.idle": "2023-01-08T00:29:34.426029Z",
     "shell.execute_reply": "2023-01-08T00:29:34.425655Z"
    }
   },
   "outputs": [],
   "source": [
    "row_list = tbody.find_all(\"tr\")"
   ]
  },
  {
   "cell_type": "code",
   "execution_count": 13,
   "metadata": {
    "execution": {
     "iopub.execute_input": "2023-01-08T00:29:34.430174Z",
     "iopub.status.busy": "2023-01-08T00:29:34.428851Z",
     "iopub.status.idle": "2023-01-08T00:29:34.432540Z",
     "shell.execute_reply": "2023-01-08T00:29:34.432137Z"
    }
   },
   "outputs": [],
   "source": [
    "dict_list = []"
   ]
  },
  {
   "cell_type": "code",
   "execution_count": 14,
   "metadata": {
    "execution": {
     "iopub.execute_input": "2023-01-08T00:29:34.437432Z",
     "iopub.status.busy": "2023-01-08T00:29:34.436727Z",
     "iopub.status.idle": "2023-01-08T00:29:34.441558Z",
     "shell.execute_reply": "2023-01-08T00:29:34.441169Z"
    }
   },
   "outputs": [],
   "source": [
    "def safetxt(element):\n",
    "    v = element.text.strip()\n",
    "    v = v.replace(\"\\u200b\", \"\")\n",
    "    return v"
   ]
  },
  {
   "cell_type": "code",
   "execution_count": 15,
   "metadata": {
    "execution": {
     "iopub.execute_input": "2023-01-08T00:29:34.448405Z",
     "iopub.status.busy": "2023-01-08T00:29:34.447824Z",
     "iopub.status.idle": "2023-01-08T00:29:34.451047Z",
     "shell.execute_reply": "2023-01-08T00:29:34.450391Z"
    }
   },
   "outputs": [],
   "source": [
    "def safenumber(element):\n",
    "    v = safetxt(element)\n",
    "    v = v.replace(\",\", \"\")\n",
    "    v = v.replace(\" \", \"\")\n",
    "    return v"
   ]
  },
  {
   "cell_type": "code",
   "execution_count": 16,
   "metadata": {
    "execution": {
     "iopub.execute_input": "2023-01-08T00:29:34.462298Z",
     "iopub.status.busy": "2023-01-08T00:29:34.458002Z",
     "iopub.status.idle": "2023-01-08T00:29:34.469788Z",
     "shell.execute_reply": "2023-01-08T00:29:34.470159Z"
    }
   },
   "outputs": [],
   "source": [
    "for row in row_list:\n",
    "    cell_content = row.find_all(\"td\")\n",
    "    d = dict(\n",
    "        county=\"Los Angeles\",\n",
    "        area=safetxt(cell_content[0]),\n",
    "        confirmed_cases=safenumber(cell_content[1]),\n",
    "        confirmed_deaths=safenumber(cell_content[3]),\n",
    "    )\n",
    "    dict_list.append(d)"
   ]
  },
  {
   "cell_type": "code",
   "execution_count": 17,
   "metadata": {
    "execution": {
     "iopub.execute_input": "2023-01-08T00:29:34.475672Z",
     "iopub.status.busy": "2023-01-08T00:29:34.474016Z",
     "iopub.status.idle": "2023-01-08T00:29:34.477714Z",
     "shell.execute_reply": "2023-01-08T00:29:34.478072Z"
    }
   },
   "outputs": [],
   "source": [
    "df = pd.DataFrame(dict_list)"
   ]
  },
  {
   "cell_type": "markdown",
   "metadata": {},
   "source": [
    "Get timestamp"
   ]
  },
  {
   "cell_type": "code",
   "execution_count": 18,
   "metadata": {
    "execution": {
     "iopub.execute_input": "2023-01-08T00:29:34.482225Z",
     "iopub.status.busy": "2023-01-08T00:29:34.481340Z",
     "iopub.status.idle": "2023-01-08T00:29:34.484659Z",
     "shell.execute_reply": "2023-01-08T00:29:34.484288Z"
    }
   },
   "outputs": [],
   "source": [
    "date_url = \"http://publichealth.lacounty.gov/media/Coronavirus/js/casecounter.js\""
   ]
  },
  {
   "cell_type": "code",
   "execution_count": 19,
   "metadata": {
    "execution": {
     "iopub.execute_input": "2023-01-08T00:29:34.490743Z",
     "iopub.status.busy": "2023-01-08T00:29:34.487369Z",
     "iopub.status.idle": "2023-01-08T00:29:34.940562Z",
     "shell.execute_reply": "2023-01-08T00:29:34.940147Z"
    }
   },
   "outputs": [],
   "source": [
    "response = requests.get(date_url)\n",
    "date_page = response.text"
   ]
  },
  {
   "cell_type": "code",
   "execution_count": 20,
   "metadata": {
    "execution": {
     "iopub.execute_input": "2023-01-08T00:29:34.949147Z",
     "iopub.status.busy": "2023-01-08T00:29:34.948546Z",
     "iopub.status.idle": "2023-01-08T00:29:34.954509Z",
     "shell.execute_reply": "2023-01-08T00:29:34.954118Z"
    }
   },
   "outputs": [
    {
     "data": {
      "text/plain": [
       "'$( document ).ready(function() {\\r\\n    var data = {\\r\\n\\t\\t\\t\\t    \"content\": { \\r\\n\\t\\t\\r\\n\\t\\t\\t\"count\": \"3,646,917\",\\r\\n\\r\\n\\r\\n\\t\\t\\t\"death\": \"34,783\",\\r\\n\\r\\n\\t\\t\\t\"dailycount\": \"2,101\",\\r\\n\\r\\n\\r\\n\\t\\t\\t\"dailydeath\": \"24\",\\r\\n\\t\\t\\t\"hospitalizationsever\": \"167,456\",\\r\\n\\r\\n\\r\\n\\t\\t\\t\"date\": \"01/06/23\",\\r\\n\\t\\t\\t\"info\": \"through 12:00pm 01/05/2023\",\\r\\n\\r\\n\\t\\t\\t\"testingaverage\": \"17,227\",\\r\\n\\r\\n\\t\\t\\t\"peopletested\": \"12,836,893\",\\r\\n\\r\\n\\t\\t\\t\"positivity\": \"14.79%\",\\r\\n\\r\\n\\t\\t\\t\"hospitalizations\": \"1,212\",\\r\\n\\t\\t\\t\"datehospitalizations\": \"01/05/23\"\\r\\n\\r\\n\\t\\t\\t\\t}       \\r\\n\\t\\t\\t\\t};\\t\\r\\n\\t\\t\\t\\t\\r\\n\\t\\t\\t\\t\\r\\n\\t\\t\\t\\tvar content = data.content;\\r\\n\\t\\t\\t\\t\\r\\n\\t\\t\\t\\t$(\\'#ctn\\').html(content.count);\\r\\n\\t\\t\\t\\t$(\\'#det\\').html(content.death);\\r\\n\\t\\t\\t\\t$(\\'#dctn\\').html(content.dailycount);\\r\\n\\t\\t\\t\\t$(\\'#ddet\\').html(content.dailydeath);\\r\\n\\t\\t\\t\\t$(\\'#hosp_1\\').html(content.hospitalizationsever);\\r\\n\\t\\t\\t\\t$(\\'#dte\\').html(content.date);\\r\\n\\t\\t\\t\\t$(\\'#dte_1\\').html(content.date);\\r\\n\\t\\t\\t\\t$(\\'#dte_2\\').html(content.date);\\r\\n\\t\\t\\t\\t$(\\'#dte_3\\').html(content.datehospitalizations);\\r\\n\\t\\t\\t\\t$(\\'#cse\\').html(content.info);\\t\\r\\n\\t\\t\\t\\r\\n\\t\\t\\t\\t\\r\\n\\t\\t\\t\\t$(\\'#tstavg\\').html(content.testingaverage);\\t\\r\\n\\t\\t\\t\\t$(\\'#ppltst\\').html(content.peopletested);\\t\\r\\n\\t\\t\\t\\t$(\\'#pos\\').html(content.positivity);\\t\\r\\n\\t\\t\\t\\t$(\\'#hosp\\').html(content.hospitalizations);\\r\\n\\t\\t\\t\\r\\n\\t\\t\\t\\t\\t\\t\\t\\r\\n\\r\\n\\r\\n});\\r\\n\\r\\n\\r\\n\\r\\n'"
      ]
     },
     "execution_count": 20,
     "metadata": {},
     "output_type": "execute_result"
    }
   ],
   "source": [
    "date_page"
   ]
  },
  {
   "cell_type": "code",
   "execution_count": 21,
   "metadata": {
    "execution": {
     "iopub.execute_input": "2023-01-08T00:29:34.958535Z",
     "iopub.status.busy": "2023-01-08T00:29:34.956456Z",
     "iopub.status.idle": "2023-01-08T00:29:34.961235Z",
     "shell.execute_reply": "2023-01-08T00:29:34.960492Z"
    }
   },
   "outputs": [],
   "source": [
    "# date_text = re.search(r\"([0-9][0-9]/[0-9][0-9])\", date_page).group(1)\n",
    "# date_text = date_text + \"/\" + str(date.today().year)"
   ]
  },
  {
   "cell_type": "code",
   "execution_count": 22,
   "metadata": {
    "execution": {
     "iopub.execute_input": "2023-01-08T00:29:34.966757Z",
     "iopub.status.busy": "2023-01-08T00:29:34.964433Z",
     "iopub.status.idle": "2023-01-08T00:29:34.969228Z",
     "shell.execute_reply": "2023-01-08T00:29:34.968847Z"
    }
   },
   "outputs": [],
   "source": [
    "date_text = re.search(r\"through (.+?)\\\"\", date_page).group(1)"
   ]
  },
  {
   "cell_type": "code",
   "execution_count": 23,
   "metadata": {
    "execution": {
     "iopub.execute_input": "2023-01-08T00:29:34.973917Z",
     "iopub.status.busy": "2023-01-08T00:29:34.971144Z",
     "iopub.status.idle": "2023-01-08T00:29:34.976816Z",
     "shell.execute_reply": "2023-01-08T00:29:34.976275Z"
    }
   },
   "outputs": [],
   "source": [
    "date_text = date_text.split(\"m \")[0]"
   ]
  },
  {
   "cell_type": "code",
   "execution_count": 24,
   "metadata": {
    "execution": {
     "iopub.execute_input": "2023-01-08T00:29:34.982066Z",
     "iopub.status.busy": "2023-01-08T00:29:34.978701Z",
     "iopub.status.idle": "2023-01-08T00:29:34.984493Z",
     "shell.execute_reply": "2023-01-08T00:29:34.984120Z"
    }
   },
   "outputs": [],
   "source": [
    "latest_date = pd.to_datetime(date_text).date()"
   ]
  },
  {
   "cell_type": "code",
   "execution_count": 25,
   "metadata": {
    "execution": {
     "iopub.execute_input": "2023-01-08T00:29:34.989649Z",
     "iopub.status.busy": "2023-01-08T00:29:34.987957Z",
     "iopub.status.idle": "2023-01-08T00:29:34.991714Z",
     "shell.execute_reply": "2023-01-08T00:29:34.992072Z"
    }
   },
   "outputs": [],
   "source": [
    "df[\"county_date\"] = latest_date"
   ]
  },
  {
   "cell_type": "code",
   "execution_count": 26,
   "metadata": {
    "execution": {
     "iopub.execute_input": "2023-01-08T00:29:34.998286Z",
     "iopub.status.busy": "2023-01-08T00:29:34.996483Z",
     "iopub.status.idle": "2023-01-08T00:29:35.000952Z",
     "shell.execute_reply": "2023-01-08T00:29:35.001321Z"
    }
   },
   "outputs": [],
   "source": [
    "df.loc[df.area == \"-  Under Investigation\", \"area\"] = \"Under Investigation\""
   ]
  },
  {
   "cell_type": "code",
   "execution_count": 27,
   "metadata": {
    "execution": {
     "iopub.execute_input": "2023-01-08T00:29:35.006698Z",
     "iopub.status.busy": "2023-01-08T00:29:35.006250Z",
     "iopub.status.idle": "2023-01-08T00:29:35.009122Z",
     "shell.execute_reply": "2023-01-08T00:29:35.009471Z"
    }
   },
   "outputs": [],
   "source": [
    "df.loc[df.area == \"- Under Investigation\", \"area\"] = \"Under Investigation\""
   ]
  },
  {
   "cell_type": "markdown",
   "metadata": {},
   "source": [
    "## Vet"
   ]
  },
  {
   "cell_type": "code",
   "execution_count": 28,
   "metadata": {
    "execution": {
     "iopub.execute_input": "2023-01-08T00:29:35.013673Z",
     "iopub.status.busy": "2023-01-08T00:29:35.012620Z",
     "iopub.status.idle": "2023-01-08T00:29:35.017727Z",
     "shell.execute_reply": "2023-01-08T00:29:35.017353Z"
    }
   },
   "outputs": [],
   "source": [
    "try:\n",
    "    assert not len(df) > 342\n",
    "except AssertionError:\n",
    "    raise AssertionError(\"L.A. County's scraper has extra rows\")"
   ]
  },
  {
   "cell_type": "code",
   "execution_count": 29,
   "metadata": {
    "execution": {
     "iopub.execute_input": "2023-01-08T00:29:35.024109Z",
     "iopub.status.busy": "2023-01-08T00:29:35.023668Z",
     "iopub.status.idle": "2023-01-08T00:29:35.141105Z",
     "shell.execute_reply": "2023-01-08T00:29:35.139706Z"
    }
   },
   "outputs": [
    {
     "ename": "AssertionError",
     "evalue": "L.A. County's scraper is missing rows",
     "output_type": "error",
     "traceback": [
      "\u001b[0;31m---------------------------------------------------------------------------\u001b[0m",
      "\u001b[0;31mAssertionError\u001b[0m                            Traceback (most recent call last)",
      "\u001b[0;32m/tmp/ipykernel_2222/2999864733.py\u001b[0m in \u001b[0;36m<module>\u001b[0;34m\u001b[0m\n\u001b[1;32m      1\u001b[0m \u001b[0;32mtry\u001b[0m\u001b[0;34m:\u001b[0m\u001b[0;34m\u001b[0m\u001b[0;34m\u001b[0m\u001b[0m\n\u001b[0;32m----> 2\u001b[0;31m     \u001b[0;32massert\u001b[0m \u001b[0;32mnot\u001b[0m \u001b[0mlen\u001b[0m\u001b[0;34m(\u001b[0m\u001b[0mdf\u001b[0m\u001b[0;34m)\u001b[0m \u001b[0;34m<\u001b[0m \u001b[0;36m342\u001b[0m\u001b[0;34m\u001b[0m\u001b[0;34m\u001b[0m\u001b[0m\n\u001b[0m\u001b[1;32m      3\u001b[0m \u001b[0;32mexcept\u001b[0m \u001b[0mAssertionError\u001b[0m\u001b[0;34m:\u001b[0m\u001b[0;34m\u001b[0m\u001b[0;34m\u001b[0m\u001b[0m\n",
      "\u001b[0;31mAssertionError\u001b[0m: ",
      "\nDuring handling of the above exception, another exception occurred:\n",
      "\u001b[0;31mAssertionError\u001b[0m                            Traceback (most recent call last)",
      "\u001b[0;32m/tmp/ipykernel_2222/2999864733.py\u001b[0m in \u001b[0;36m<module>\u001b[0;34m\u001b[0m\n\u001b[1;32m      2\u001b[0m     \u001b[0;32massert\u001b[0m \u001b[0;32mnot\u001b[0m \u001b[0mlen\u001b[0m\u001b[0;34m(\u001b[0m\u001b[0mdf\u001b[0m\u001b[0;34m)\u001b[0m \u001b[0;34m<\u001b[0m \u001b[0;36m342\u001b[0m\u001b[0;34m\u001b[0m\u001b[0;34m\u001b[0m\u001b[0m\n\u001b[1;32m      3\u001b[0m \u001b[0;32mexcept\u001b[0m \u001b[0mAssertionError\u001b[0m\u001b[0;34m:\u001b[0m\u001b[0;34m\u001b[0m\u001b[0;34m\u001b[0m\u001b[0m\n\u001b[0;32m----> 4\u001b[0;31m     \u001b[0;32mraise\u001b[0m \u001b[0mAssertionError\u001b[0m\u001b[0;34m(\u001b[0m\u001b[0;34m\"L.A. County's scraper is missing rows\"\u001b[0m\u001b[0;34m)\u001b[0m\u001b[0;34m\u001b[0m\u001b[0;34m\u001b[0m\u001b[0m\n\u001b[0m",
      "\u001b[0;31mAssertionError\u001b[0m: L.A. County's scraper is missing rows"
     ]
    }
   ],
   "source": [
    "try:\n",
    "    assert not len(df) < 342\n",
    "except AssertionError:\n",
    "    raise AssertionError(\"L.A. County's scraper is missing rows\")"
   ]
  },
  {
   "cell_type": "markdown",
   "metadata": {},
   "source": [
    "## Export"
   ]
  },
  {
   "cell_type": "markdown",
   "metadata": {},
   "source": [
    "Set the date"
   ]
  },
  {
   "cell_type": "code",
   "execution_count": 67,
   "metadata": {},
   "outputs": [],
   "source": [
    "tz = pytz.timezone(\"America/Los_Angeles\")"
   ]
  },
  {
   "cell_type": "code",
   "execution_count": 68,
   "metadata": {},
   "outputs": [],
   "source": [
    "today = datetime.now(tz).date()"
   ]
  },
  {
   "cell_type": "code",
   "execution_count": 69,
   "metadata": {},
   "outputs": [],
   "source": [
    "slug = \"los-angeles\""
   ]
  },
  {
   "cell_type": "code",
   "execution_count": 70,
   "metadata": {},
   "outputs": [],
   "source": [
    "df.to_csv(data_dir / slug / f\"{today}.csv\", index=False)"
   ]
  },
  {
   "cell_type": "markdown",
   "metadata": {},
   "source": [
    "## Combine"
   ]
  },
  {
   "cell_type": "code",
   "execution_count": 71,
   "metadata": {},
   "outputs": [],
   "source": [
    "csv_list = [\n",
    "    i\n",
    "    for i in glob.glob(str(data_dir / slug / \"*.csv\"))\n",
    "    if not str(i).endswith(\"timeseries.csv\")\n",
    "]"
   ]
  },
  {
   "cell_type": "code",
   "execution_count": 72,
   "metadata": {},
   "outputs": [],
   "source": [
    "df_list = []\n",
    "for csv in csv_list:\n",
    "    if \"manual\" in csv:\n",
    "        df = pd.read_csv(csv, parse_dates=[\"date\"])\n",
    "    else:\n",
    "        file_date = csv.split(\"/\")[-1].replace(\".csv\", \"\")\n",
    "        df = pd.read_csv(csv, parse_dates=[\"county_date\"])\n",
    "        df[\"date\"] = file_date\n",
    "    df_list.append(df)"
   ]
  },
  {
   "cell_type": "code",
   "execution_count": 73,
   "metadata": {},
   "outputs": [],
   "source": [
    "df = pd.concat(df_list).sort_values([\"date\", \"area\"])"
   ]
  },
  {
   "cell_type": "code",
   "execution_count": 74,
   "metadata": {},
   "outputs": [],
   "source": [
    "df.to_csv(data_dir / slug / \"timeseries.csv\", index=False)"
   ]
  },
  {
   "cell_type": "code",
   "execution_count": null,
   "metadata": {},
   "outputs": [],
   "source": []
  },
  {
   "cell_type": "code",
   "execution_count": null,
   "metadata": {},
   "outputs": [],
   "source": []
  }
 ],
 "metadata": {
  "kernelspec": {
   "display_name": "Python 3 (ipykernel)",
   "language": "python",
   "name": "python3"
  },
  "language_info": {
   "codemirror_mode": {
    "name": "ipython",
    "version": 3
   },
   "file_extension": ".py",
   "mimetype": "text/x-python",
   "name": "python",
   "nbconvert_exporter": "python",
   "pygments_lexer": "ipython3",
   "version": "3.8.15"
  }
 },
 "nbformat": 4,
 "nbformat_minor": 4
}
