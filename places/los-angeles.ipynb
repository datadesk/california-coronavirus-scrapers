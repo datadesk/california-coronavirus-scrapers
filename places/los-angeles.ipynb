{
 "cells": [
  {
   "cell_type": "markdown",
   "metadata": {
    "tags": []
   },
   "source": [
    "## Configuration\n",
    "_Initial steps to get the notebook ready to play nice with our repository. Do not delete this section._"
   ]
  },
  {
   "cell_type": "markdown",
   "metadata": {},
   "source": [
    "Code formatting with [black](https://pypi.org/project/nb-black/)."
   ]
  },
  {
   "cell_type": "code",
   "execution_count": 1,
   "metadata": {
    "execution": {
     "iopub.execute_input": "2022-12-13T20:18:54.822694Z",
     "iopub.status.busy": "2022-12-13T20:18:54.822302Z",
     "iopub.status.idle": "2022-12-13T20:18:54.959874Z",
     "shell.execute_reply": "2022-12-13T20:18:54.959362Z"
    }
   },
   "outputs": [],
   "source": [
    "%load_ext lab_black"
   ]
  },
  {
   "cell_type": "code",
   "execution_count": 2,
   "metadata": {
    "execution": {
     "iopub.execute_input": "2022-12-13T20:18:54.964309Z",
     "iopub.status.busy": "2022-12-13T20:18:54.963257Z",
     "iopub.status.idle": "2022-12-13T20:18:54.964799Z",
     "shell.execute_reply": "2022-12-13T20:18:54.965137Z"
    }
   },
   "outputs": [],
   "source": [
    "import os\n",
    "import pathlib"
   ]
  },
  {
   "cell_type": "code",
   "execution_count": 3,
   "metadata": {
    "execution": {
     "iopub.execute_input": "2022-12-13T20:18:54.970796Z",
     "iopub.status.busy": "2022-12-13T20:18:54.970078Z",
     "iopub.status.idle": "2022-12-13T20:18:54.971567Z",
     "shell.execute_reply": "2022-12-13T20:18:54.971906Z"
    }
   },
   "outputs": [],
   "source": [
    "this_dir = pathlib.Path(os.path.abspath(\"\"))"
   ]
  },
  {
   "cell_type": "code",
   "execution_count": 4,
   "metadata": {
    "execution": {
     "iopub.execute_input": "2022-12-13T20:18:54.975915Z",
     "iopub.status.busy": "2022-12-13T20:18:54.975487Z",
     "iopub.status.idle": "2022-12-13T20:18:54.977428Z",
     "shell.execute_reply": "2022-12-13T20:18:54.977091Z"
    }
   },
   "outputs": [],
   "source": [
    "data_dir = this_dir / \"data\""
   ]
  },
  {
   "cell_type": "code",
   "execution_count": 5,
   "metadata": {
    "execution": {
     "iopub.execute_input": "2022-12-13T20:18:54.980795Z",
     "iopub.status.busy": "2022-12-13T20:18:54.980367Z",
     "iopub.status.idle": "2022-12-13T20:18:55.355315Z",
     "shell.execute_reply": "2022-12-13T20:18:55.354498Z"
    }
   },
   "outputs": [],
   "source": [
    "import re\n",
    "import pytz\n",
    "import glob\n",
    "import requests\n",
    "import unicodedata\n",
    "import pandas as pd\n",
    "from slugify import slugify\n",
    "from bs4 import BeautifulSoup\n",
    "from datetime import datetime, date"
   ]
  },
  {
   "cell_type": "markdown",
   "metadata": {},
   "source": [
    "## Download"
   ]
  },
  {
   "cell_type": "markdown",
   "metadata": {},
   "source": [
    "Retrieve the page"
   ]
  },
  {
   "cell_type": "code",
   "execution_count": 6,
   "metadata": {
    "execution": {
     "iopub.execute_input": "2022-12-13T20:18:55.359687Z",
     "iopub.status.busy": "2022-12-13T20:18:55.359227Z",
     "iopub.status.idle": "2022-12-13T20:18:55.361819Z",
     "shell.execute_reply": "2022-12-13T20:18:55.361476Z"
    }
   },
   "outputs": [],
   "source": [
    "url = \"http://publichealth.lacounty.gov/media/Coronavirus/locations.htm\""
   ]
  },
  {
   "cell_type": "code",
   "execution_count": 7,
   "metadata": {
    "execution": {
     "iopub.execute_input": "2022-12-13T20:18:55.367849Z",
     "iopub.status.busy": "2022-12-13T20:18:55.364678Z",
     "iopub.status.idle": "2022-12-13T20:18:55.915894Z",
     "shell.execute_reply": "2022-12-13T20:18:55.914974Z"
    }
   },
   "outputs": [],
   "source": [
    "page = requests.get(url)"
   ]
  },
  {
   "cell_type": "markdown",
   "metadata": {},
   "source": [
    "## Parse"
   ]
  },
  {
   "cell_type": "code",
   "execution_count": 8,
   "metadata": {
    "execution": {
     "iopub.execute_input": "2022-12-13T20:18:55.943554Z",
     "iopub.status.busy": "2022-12-13T20:18:55.933375Z",
     "iopub.status.idle": "2022-12-13T20:18:56.108619Z",
     "shell.execute_reply": "2022-12-13T20:18:56.107716Z"
    }
   },
   "outputs": [],
   "source": [
    "soup = BeautifulSoup(page.content, \"html.parser\")"
   ]
  },
  {
   "cell_type": "markdown",
   "metadata": {},
   "source": [
    "Get content well"
   ]
  },
  {
   "cell_type": "code",
   "execution_count": 9,
   "metadata": {
    "execution": {
     "iopub.execute_input": "2022-12-13T20:18:56.115118Z",
     "iopub.status.busy": "2022-12-13T20:18:56.114136Z",
     "iopub.status.idle": "2022-12-13T20:18:56.117104Z",
     "shell.execute_reply": "2022-12-13T20:18:56.117653Z"
    }
   },
   "outputs": [],
   "source": [
    "content = soup.find(\"div\", {\"id\": \"content\"})"
   ]
  },
  {
   "cell_type": "markdown",
   "metadata": {},
   "source": [
    "Get table"
   ]
  },
  {
   "cell_type": "code",
   "execution_count": 10,
   "metadata": {
    "execution": {
     "iopub.execute_input": "2022-12-13T20:18:56.135808Z",
     "iopub.status.busy": "2022-12-13T20:18:56.129867Z",
     "iopub.status.idle": "2022-12-13T20:18:56.138518Z",
     "shell.execute_reply": "2022-12-13T20:18:56.138125Z"
    }
   },
   "outputs": [],
   "source": [
    "for tag in content.find_all(text=re.compile(\"CITY/COMMUNITY\")):\n",
    "    table = tag.findParent(\"table\")"
   ]
  },
  {
   "cell_type": "code",
   "execution_count": 11,
   "metadata": {
    "execution": {
     "iopub.execute_input": "2022-12-13T20:18:56.143986Z",
     "iopub.status.busy": "2022-12-13T20:18:56.142525Z",
     "iopub.status.idle": "2022-12-13T20:18:56.146461Z",
     "shell.execute_reply": "2022-12-13T20:18:56.145904Z"
    }
   },
   "outputs": [],
   "source": [
    "tbody = soup.tbody"
   ]
  },
  {
   "cell_type": "code",
   "execution_count": 12,
   "metadata": {
    "execution": {
     "iopub.execute_input": "2022-12-13T20:18:56.152282Z",
     "iopub.status.busy": "2022-12-13T20:18:56.151353Z",
     "iopub.status.idle": "2022-12-13T20:18:56.154660Z",
     "shell.execute_reply": "2022-12-13T20:18:56.154295Z"
    }
   },
   "outputs": [],
   "source": [
    "row_list = tbody.find_all(\"tr\")"
   ]
  },
  {
   "cell_type": "code",
   "execution_count": 13,
   "metadata": {
    "execution": {
     "iopub.execute_input": "2022-12-13T20:18:56.158723Z",
     "iopub.status.busy": "2022-12-13T20:18:56.157315Z",
     "iopub.status.idle": "2022-12-13T20:18:56.161216Z",
     "shell.execute_reply": "2022-12-13T20:18:56.160668Z"
    }
   },
   "outputs": [],
   "source": [
    "dict_list = []"
   ]
  },
  {
   "cell_type": "code",
   "execution_count": 14,
   "metadata": {
    "execution": {
     "iopub.execute_input": "2022-12-13T20:18:56.167130Z",
     "iopub.status.busy": "2022-12-13T20:18:56.164374Z",
     "iopub.status.idle": "2022-12-13T20:18:56.170360Z",
     "shell.execute_reply": "2022-12-13T20:18:56.169667Z"
    }
   },
   "outputs": [],
   "source": [
    "def safetxt(element):\n",
    "    v = element.text.strip()\n",
    "    v = v.replace(\"\\u200b\", \"\")\n",
    "    return v"
   ]
  },
  {
   "cell_type": "code",
   "execution_count": 15,
   "metadata": {
    "execution": {
     "iopub.execute_input": "2022-12-13T20:18:56.177162Z",
     "iopub.status.busy": "2022-12-13T20:18:56.172027Z",
     "iopub.status.idle": "2022-12-13T20:18:56.179601Z",
     "shell.execute_reply": "2022-12-13T20:18:56.179204Z"
    }
   },
   "outputs": [],
   "source": [
    "def safenumber(element):\n",
    "    v = safetxt(element)\n",
    "    v = v.replace(\",\", \"\")\n",
    "    v = v.replace(\" \", \"\")\n",
    "    return v"
   ]
  },
  {
   "cell_type": "code",
   "execution_count": 16,
   "metadata": {
    "execution": {
     "iopub.execute_input": "2022-12-13T20:18:56.192383Z",
     "iopub.status.busy": "2022-12-13T20:18:56.189777Z",
     "iopub.status.idle": "2022-12-13T20:18:56.198512Z",
     "shell.execute_reply": "2022-12-13T20:18:56.197962Z"
    }
   },
   "outputs": [],
   "source": [
    "for row in row_list:\n",
    "    cell_content = row.find_all(\"td\")\n",
    "    d = dict(\n",
    "        county=\"Los Angeles\",\n",
    "        area=safetxt(cell_content[0]),\n",
    "        confirmed_cases=safenumber(cell_content[1]),\n",
    "        confirmed_deaths=safenumber(cell_content[3]),\n",
    "    )\n",
    "    dict_list.append(d)"
   ]
  },
  {
   "cell_type": "code",
   "execution_count": 17,
   "metadata": {
    "execution": {
     "iopub.execute_input": "2022-12-13T20:18:56.203739Z",
     "iopub.status.busy": "2022-12-13T20:18:56.203139Z",
     "iopub.status.idle": "2022-12-13T20:18:56.206469Z",
     "shell.execute_reply": "2022-12-13T20:18:56.205693Z"
    }
   },
   "outputs": [],
   "source": [
    "df = pd.DataFrame(dict_list)"
   ]
  },
  {
   "cell_type": "markdown",
   "metadata": {},
   "source": [
    "Get timestamp"
   ]
  },
  {
   "cell_type": "code",
   "execution_count": 18,
   "metadata": {
    "execution": {
     "iopub.execute_input": "2022-12-13T20:18:56.210085Z",
     "iopub.status.busy": "2022-12-13T20:18:56.208272Z",
     "iopub.status.idle": "2022-12-13T20:18:56.212528Z",
     "shell.execute_reply": "2022-12-13T20:18:56.212158Z"
    }
   },
   "outputs": [],
   "source": [
    "date_url = \"http://publichealth.lacounty.gov/media/Coronavirus/js/casecounter.js\""
   ]
  },
  {
   "cell_type": "code",
   "execution_count": 19,
   "metadata": {
    "execution": {
     "iopub.execute_input": "2022-12-13T20:18:56.218403Z",
     "iopub.status.busy": "2022-12-13T20:18:56.215221Z",
     "iopub.status.idle": "2022-12-13T20:18:56.569840Z",
     "shell.execute_reply": "2022-12-13T20:18:56.569194Z"
    }
   },
   "outputs": [],
   "source": [
    "response = requests.get(date_url)\n",
    "date_page = response.text"
   ]
  },
  {
   "cell_type": "code",
   "execution_count": 20,
   "metadata": {
    "execution": {
     "iopub.execute_input": "2022-12-13T20:18:56.578365Z",
     "iopub.status.busy": "2022-12-13T20:18:56.577932Z",
     "iopub.status.idle": "2022-12-13T20:18:56.583598Z",
     "shell.execute_reply": "2022-12-13T20:18:56.583193Z"
    }
   },
   "outputs": [
    {
     "data": {
      "text/plain": [
       "'$( document ).ready(function() {\\r\\n    var data = {\\r\\n\\t\\t\\t\\t    \"content\": { \\r\\n\\t\\t\\r\\n\\t\\t\\t\"count\": \"3,585,468\",\\r\\n\\r\\n\\r\\n\\t\\t\\t\"death\": \"34,334\",\\r\\n\\r\\n\\t\\t\\t\"dailycount\": \"1,986\",\\r\\n\\r\\n\\r\\n\\t\\t\\t\"dailydeath\": \"9\",\\r\\n\\t\\t\\t\"hospitalizationsever\": \"163,145\",\\r\\n\\r\\n\\r\\n\\t\\t\\t\"date\": \"12/12\",\\r\\n\\t\\t\\t\"info\": \"through 12:00pm 12/11/2022\",\\r\\n\\r\\n\\t\\t\\t\"testingaverage\": \"33,336\",\\r\\n\\r\\n\\t\\t\\t\"peopletested\": \"12,772,627\",\\r\\n\\r\\n\\t\\t\\t\"positivity\": \"12.29%\",\\r\\n\\r\\n\\t\\t\\t\"hospitalizations\": \"1,267\",\\r\\n\\t\\t\\t\"datehospitalizations\": \"12/9\"\\r\\n\\r\\n\\t\\t\\t\\t}       \\r\\n\\t\\t\\t\\t};\\t\\r\\n\\t\\t\\t\\t\\r\\n\\t\\t\\t\\t\\r\\n\\t\\t\\t\\tvar content = data.content;\\r\\n\\t\\t\\t\\t\\r\\n\\t\\t\\t\\t$(\\'#ctn\\').html(content.count);\\r\\n\\t\\t\\t\\t$(\\'#det\\').html(content.death);\\r\\n\\t\\t\\t\\t$(\\'#dctn\\').html(content.dailycount);\\r\\n\\t\\t\\t\\t$(\\'#ddet\\').html(content.dailydeath);\\r\\n\\t\\t\\t\\t$(\\'#hosp_1\\').html(content.hospitalizationsever);\\r\\n\\t\\t\\t\\t$(\\'#dte\\').html(content.date);\\r\\n\\t\\t\\t\\t$(\\'#dte_1\\').html(content.date);\\r\\n\\t\\t\\t\\t$(\\'#dte_2\\').html(content.date);\\r\\n\\t\\t\\t\\t$(\\'#dte_3\\').html(content.datehospitalizations);\\r\\n\\t\\t\\t\\t$(\\'#cse\\').html(content.info);\\t\\r\\n\\t\\t\\t\\r\\n\\t\\t\\t\\t\\r\\n\\t\\t\\t\\t$(\\'#tstavg\\').html(content.testingaverage);\\t\\r\\n\\t\\t\\t\\t$(\\'#ppltst\\').html(content.peopletested);\\t\\r\\n\\t\\t\\t\\t$(\\'#pos\\').html(content.positivity);\\t\\r\\n\\t\\t\\t\\t$(\\'#hosp\\').html(content.hospitalizations);\\r\\n\\t\\t\\t\\r\\n\\t\\t\\t\\t\\t\\t\\t\\r\\n\\r\\n\\r\\n});\\r\\n\\r\\n\\r\\n\\r\\n'"
      ]
     },
     "execution_count": 20,
     "metadata": {},
     "output_type": "execute_result"
    }
   ],
   "source": [
    "date_page"
   ]
  },
  {
   "cell_type": "code",
   "execution_count": 21,
   "metadata": {
    "execution": {
     "iopub.execute_input": "2022-12-13T20:18:56.587215Z",
     "iopub.status.busy": "2022-12-13T20:18:56.586792Z",
     "iopub.status.idle": "2022-12-13T20:18:56.589879Z",
     "shell.execute_reply": "2022-12-13T20:18:56.589125Z"
    }
   },
   "outputs": [],
   "source": [
    "# date_text = re.search(r\"([0-9][0-9]/[0-9][0-9])\", date_page).group(1)\n",
    "# date_text = date_text + \"/\" + str(date.today().year)"
   ]
  },
  {
   "cell_type": "code",
   "execution_count": 22,
   "metadata": {
    "execution": {
     "iopub.execute_input": "2022-12-13T20:18:56.595421Z",
     "iopub.status.busy": "2022-12-13T20:18:56.595020Z",
     "iopub.status.idle": "2022-12-13T20:18:56.597992Z",
     "shell.execute_reply": "2022-12-13T20:18:56.597416Z"
    }
   },
   "outputs": [],
   "source": [
    "date_text = re.search(r\"through (.+?)\\\"\", date_page).group(1)"
   ]
  },
  {
   "cell_type": "code",
   "execution_count": 23,
   "metadata": {
    "execution": {
     "iopub.execute_input": "2022-12-13T20:18:56.602092Z",
     "iopub.status.busy": "2022-12-13T20:18:56.601677Z",
     "iopub.status.idle": "2022-12-13T20:18:56.603763Z",
     "shell.execute_reply": "2022-12-13T20:18:56.603382Z"
    }
   },
   "outputs": [],
   "source": [
    "date_text = date_text.split(\"m \")[0]"
   ]
  },
  {
   "cell_type": "code",
   "execution_count": 24,
   "metadata": {
    "execution": {
     "iopub.execute_input": "2022-12-13T20:18:56.608065Z",
     "iopub.status.busy": "2022-12-13T20:18:56.605295Z",
     "iopub.status.idle": "2022-12-13T20:18:56.610050Z",
     "shell.execute_reply": "2022-12-13T20:18:56.609656Z"
    }
   },
   "outputs": [],
   "source": [
    "latest_date = pd.to_datetime(date_text).date()"
   ]
  },
  {
   "cell_type": "code",
   "execution_count": 25,
   "metadata": {
    "execution": {
     "iopub.execute_input": "2022-12-13T20:18:56.614436Z",
     "iopub.status.busy": "2022-12-13T20:18:56.614009Z",
     "iopub.status.idle": "2022-12-13T20:18:56.616039Z",
     "shell.execute_reply": "2022-12-13T20:18:56.615677Z"
    }
   },
   "outputs": [],
   "source": [
    "df[\"county_date\"] = latest_date"
   ]
  },
  {
   "cell_type": "code",
   "execution_count": 26,
   "metadata": {
    "execution": {
     "iopub.execute_input": "2022-12-13T20:18:56.620077Z",
     "iopub.status.busy": "2022-12-13T20:18:56.619664Z",
     "iopub.status.idle": "2022-12-13T20:18:56.622995Z",
     "shell.execute_reply": "2022-12-13T20:18:56.622656Z"
    }
   },
   "outputs": [],
   "source": [
    "df.loc[df.area == \"-  Under Investigation\", \"area\"] = \"Under Investigation\""
   ]
  },
  {
   "cell_type": "code",
   "execution_count": 27,
   "metadata": {
    "execution": {
     "iopub.execute_input": "2022-12-13T20:18:56.626871Z",
     "iopub.status.busy": "2022-12-13T20:18:56.626455Z",
     "iopub.status.idle": "2022-12-13T20:18:56.629726Z",
     "shell.execute_reply": "2022-12-13T20:18:56.629361Z"
    }
   },
   "outputs": [],
   "source": [
    "df.loc[df.area == \"- Under Investigation\", \"area\"] = \"Under Investigation\""
   ]
  },
  {
   "cell_type": "markdown",
   "metadata": {},
   "source": [
    "## Vet"
   ]
  },
  {
   "cell_type": "code",
   "execution_count": 28,
   "metadata": {
    "execution": {
     "iopub.execute_input": "2022-12-13T20:18:56.632862Z",
     "iopub.status.busy": "2022-12-13T20:18:56.632469Z",
     "iopub.status.idle": "2022-12-13T20:18:56.635277Z",
     "shell.execute_reply": "2022-12-13T20:18:56.635610Z"
    }
   },
   "outputs": [
    {
     "data": {
      "text/plain": [
       "342"
      ]
     },
     "execution_count": 28,
     "metadata": {},
     "output_type": "execute_result"
    }
   ],
   "source": [
    "len(df)"
   ]
  },
  {
   "cell_type": "code",
   "execution_count": 29,
   "metadata": {
    "execution": {
     "iopub.execute_input": "2022-12-13T20:18:56.638711Z",
     "iopub.status.busy": "2022-12-13T20:18:56.638303Z",
     "iopub.status.idle": "2022-12-13T20:18:56.758018Z",
     "shell.execute_reply": "2022-12-13T20:18:56.757539Z"
    }
   },
   "outputs": [
    {
     "ename": "AssertionError",
     "evalue": "L.A. County's scraper has extra rows",
     "output_type": "error",
     "traceback": [
      "\u001b[0;31m---------------------------------------------------------------------------\u001b[0m",
      "\u001b[0;31mAssertionError\u001b[0m                            Traceback (most recent call last)",
      "\u001b[0;32m/tmp/ipykernel_2186/2362062198.py\u001b[0m in \u001b[0;36m<module>\u001b[0;34m\u001b[0m\n\u001b[1;32m      1\u001b[0m \u001b[0;32mtry\u001b[0m\u001b[0;34m:\u001b[0m\u001b[0;34m\u001b[0m\u001b[0;34m\u001b[0m\u001b[0m\n\u001b[0;32m----> 2\u001b[0;31m     \u001b[0;32massert\u001b[0m \u001b[0;32mnot\u001b[0m \u001b[0mlen\u001b[0m\u001b[0;34m(\u001b[0m\u001b[0mdf\u001b[0m\u001b[0;34m)\u001b[0m \u001b[0;34m>\u001b[0m \u001b[0;36m341\u001b[0m\u001b[0;34m\u001b[0m\u001b[0;34m\u001b[0m\u001b[0m\n\u001b[0m\u001b[1;32m      3\u001b[0m \u001b[0;32mexcept\u001b[0m \u001b[0mAssertionError\u001b[0m\u001b[0;34m:\u001b[0m\u001b[0;34m\u001b[0m\u001b[0;34m\u001b[0m\u001b[0m\n",
      "\u001b[0;31mAssertionError\u001b[0m: ",
      "\nDuring handling of the above exception, another exception occurred:\n",
      "\u001b[0;31mAssertionError\u001b[0m                            Traceback (most recent call last)",
      "\u001b[0;32m/tmp/ipykernel_2186/2362062198.py\u001b[0m in \u001b[0;36m<module>\u001b[0;34m\u001b[0m\n\u001b[1;32m      2\u001b[0m     \u001b[0;32massert\u001b[0m \u001b[0;32mnot\u001b[0m \u001b[0mlen\u001b[0m\u001b[0;34m(\u001b[0m\u001b[0mdf\u001b[0m\u001b[0;34m)\u001b[0m \u001b[0;34m>\u001b[0m \u001b[0;36m341\u001b[0m\u001b[0;34m\u001b[0m\u001b[0;34m\u001b[0m\u001b[0m\n\u001b[1;32m      3\u001b[0m \u001b[0;32mexcept\u001b[0m \u001b[0mAssertionError\u001b[0m\u001b[0;34m:\u001b[0m\u001b[0;34m\u001b[0m\u001b[0;34m\u001b[0m\u001b[0m\n\u001b[0;32m----> 4\u001b[0;31m     \u001b[0;32mraise\u001b[0m \u001b[0mAssertionError\u001b[0m\u001b[0;34m(\u001b[0m\u001b[0;34m\"L.A. County's scraper has extra rows\"\u001b[0m\u001b[0;34m)\u001b[0m\u001b[0;34m\u001b[0m\u001b[0;34m\u001b[0m\u001b[0m\n\u001b[0m",
      "\u001b[0;31mAssertionError\u001b[0m: L.A. County's scraper has extra rows"
     ]
    }
   ],
   "source": [
    "try:\n",
    "    assert not len(df) > 341\n",
    "except AssertionError:\n",
    "    raise AssertionError(\"L.A. County's scraper has extra rows\")"
   ]
  },
  {
   "cell_type": "raw",
   "metadata": {},
   "source": [
    "older = pd.read_csv(\"data/los-angeles/2022-12-06.csv\")"
   ]
  },
  {
   "cell_type": "raw",
   "metadata": {},
   "source": [
    "list(set(older.area.tolist()).difference(df.area.tolist()))"
   ]
  },
  {
   "cell_type": "raw",
   "metadata": {},
   "source": [
    "older[older.area == \"Unincorporated - Rosewood\"]"
   ]
  },
  {
   "cell_type": "code",
   "execution_count": 37,
   "metadata": {},
   "outputs": [],
   "source": [
    "try:\n",
    "    assert not len(df) < 341\n",
    "except AssertionError:\n",
    "    raise AssertionError(\"L.A. County's scraper is missing rows\")"
   ]
  },
  {
   "cell_type": "markdown",
   "metadata": {},
   "source": [
    "## Export"
   ]
  },
  {
   "cell_type": "markdown",
   "metadata": {},
   "source": [
    "Set the date"
   ]
  },
  {
   "cell_type": "code",
   "execution_count": 38,
   "metadata": {},
   "outputs": [],
   "source": [
    "tz = pytz.timezone(\"America/Los_Angeles\")"
   ]
  },
  {
   "cell_type": "code",
   "execution_count": 39,
   "metadata": {},
   "outputs": [],
   "source": [
    "today = datetime.now(tz).date()"
   ]
  },
  {
   "cell_type": "code",
   "execution_count": 40,
   "metadata": {},
   "outputs": [],
   "source": [
    "slug = \"los-angeles\""
   ]
  },
  {
   "cell_type": "code",
   "execution_count": 41,
   "metadata": {},
   "outputs": [],
   "source": [
    "df.to_csv(data_dir / slug / f\"{today}.csv\", index=False)"
   ]
  },
  {
   "cell_type": "markdown",
   "metadata": {},
   "source": [
    "## Combine"
   ]
  },
  {
   "cell_type": "code",
   "execution_count": 42,
   "metadata": {},
   "outputs": [],
   "source": [
    "csv_list = [\n",
    "    i\n",
    "    for i in glob.glob(str(data_dir / slug / \"*.csv\"))\n",
    "    if not str(i).endswith(\"timeseries.csv\")\n",
    "]"
   ]
  },
  {
   "cell_type": "code",
   "execution_count": 43,
   "metadata": {},
   "outputs": [],
   "source": [
    "df_list = []\n",
    "for csv in csv_list:\n",
    "    if \"manual\" in csv:\n",
    "        df = pd.read_csv(csv, parse_dates=[\"date\"])\n",
    "    else:\n",
    "        file_date = csv.split(\"/\")[-1].replace(\".csv\", \"\")\n",
    "        df = pd.read_csv(csv, parse_dates=[\"county_date\"])\n",
    "        df[\"date\"] = file_date\n",
    "    df_list.append(df)"
   ]
  },
  {
   "cell_type": "code",
   "execution_count": 44,
   "metadata": {},
   "outputs": [],
   "source": [
    "df = pd.concat(df_list).sort_values([\"date\", \"area\"])"
   ]
  },
  {
   "cell_type": "code",
   "execution_count": 45,
   "metadata": {},
   "outputs": [],
   "source": [
    "df.to_csv(data_dir / slug / \"timeseries.csv\", index=False)"
   ]
  },
  {
   "cell_type": "code",
   "execution_count": null,
   "metadata": {},
   "outputs": [],
   "source": []
  },
  {
   "cell_type": "code",
   "execution_count": null,
   "metadata": {},
   "outputs": [],
   "source": []
  }
 ],
 "metadata": {
  "kernelspec": {
   "display_name": "Python 3 (ipykernel)",
   "language": "python",
   "name": "python3"
  },
  "language_info": {
   "codemirror_mode": {
    "name": "ipython",
    "version": 3
   },
   "file_extension": ".py",
   "mimetype": "text/x-python",
   "name": "python",
   "nbconvert_exporter": "python",
   "pygments_lexer": "ipython3",
   "version": "3.8.15"
  }
 },
 "nbformat": 4,
 "nbformat_minor": 4
}
