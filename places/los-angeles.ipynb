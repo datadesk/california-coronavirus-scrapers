{
 "cells": [
  {
   "cell_type": "markdown",
   "metadata": {
    "tags": []
   },
   "source": [
    "## Configuration\n",
    "_Initial steps to get the notebook ready to play nice with our repository. Do not delete this section._"
   ]
  },
  {
   "cell_type": "markdown",
   "metadata": {},
   "source": [
    "Code formatting with [black](https://pypi.org/project/nb-black/)."
   ]
  },
  {
   "cell_type": "code",
   "execution_count": 1,
   "metadata": {
    "execution": {
     "iopub.execute_input": "2023-01-02T00:27:59.695590Z",
     "iopub.status.busy": "2023-01-02T00:27:59.695088Z",
     "iopub.status.idle": "2023-01-02T00:27:59.871568Z",
     "shell.execute_reply": "2023-01-02T00:27:59.870989Z"
    }
   },
   "outputs": [],
   "source": [
    "%load_ext lab_black"
   ]
  },
  {
   "cell_type": "code",
   "execution_count": 2,
   "metadata": {
    "execution": {
     "iopub.execute_input": "2023-01-02T00:27:59.877726Z",
     "iopub.status.busy": "2023-01-02T00:27:59.877068Z",
     "iopub.status.idle": "2023-01-02T00:27:59.878673Z",
     "shell.execute_reply": "2023-01-02T00:27:59.878228Z"
    }
   },
   "outputs": [],
   "source": [
    "import os\n",
    "import pathlib"
   ]
  },
  {
   "cell_type": "code",
   "execution_count": 3,
   "metadata": {
    "execution": {
     "iopub.execute_input": "2023-01-02T00:27:59.886222Z",
     "iopub.status.busy": "2023-01-02T00:27:59.884936Z",
     "iopub.status.idle": "2023-01-02T00:27:59.886818Z",
     "shell.execute_reply": "2023-01-02T00:27:59.887245Z"
    }
   },
   "outputs": [],
   "source": [
    "this_dir = pathlib.Path(os.path.abspath(\"\"))"
   ]
  },
  {
   "cell_type": "code",
   "execution_count": 4,
   "metadata": {
    "execution": {
     "iopub.execute_input": "2023-01-02T00:27:59.893002Z",
     "iopub.status.busy": "2023-01-02T00:27:59.891717Z",
     "iopub.status.idle": "2023-01-02T00:27:59.893594Z",
     "shell.execute_reply": "2023-01-02T00:27:59.894017Z"
    }
   },
   "outputs": [],
   "source": [
    "data_dir = this_dir / \"data\""
   ]
  },
  {
   "cell_type": "code",
   "execution_count": 5,
   "metadata": {
    "execution": {
     "iopub.execute_input": "2023-01-02T00:27:59.898567Z",
     "iopub.status.busy": "2023-01-02T00:27:59.898024Z",
     "iopub.status.idle": "2023-01-02T00:28:00.371733Z",
     "shell.execute_reply": "2023-01-02T00:28:00.372175Z"
    }
   },
   "outputs": [],
   "source": [
    "import re\n",
    "import pytz\n",
    "import glob\n",
    "import requests\n",
    "import unicodedata\n",
    "import pandas as pd\n",
    "from slugify import slugify\n",
    "from bs4 import BeautifulSoup\n",
    "from datetime import datetime, date"
   ]
  },
  {
   "cell_type": "markdown",
   "metadata": {},
   "source": [
    "## Download"
   ]
  },
  {
   "cell_type": "markdown",
   "metadata": {},
   "source": [
    "Retrieve the page"
   ]
  },
  {
   "cell_type": "code",
   "execution_count": 6,
   "metadata": {
    "execution": {
     "iopub.execute_input": "2023-01-02T00:28:00.376836Z",
     "iopub.status.busy": "2023-01-02T00:28:00.375815Z",
     "iopub.status.idle": "2023-01-02T00:28:00.379887Z",
     "shell.execute_reply": "2023-01-02T00:28:00.379070Z"
    }
   },
   "outputs": [],
   "source": [
    "url = \"http://publichealth.lacounty.gov/media/Coronavirus/locations.htm\""
   ]
  },
  {
   "cell_type": "code",
   "execution_count": 7,
   "metadata": {
    "execution": {
     "iopub.execute_input": "2023-01-02T00:28:00.383878Z",
     "iopub.status.busy": "2023-01-02T00:28:00.383366Z",
     "iopub.status.idle": "2023-01-02T00:28:00.902923Z",
     "shell.execute_reply": "2023-01-02T00:28:00.902267Z"
    }
   },
   "outputs": [],
   "source": [
    "page = requests.get(url)"
   ]
  },
  {
   "cell_type": "markdown",
   "metadata": {},
   "source": [
    "## Parse"
   ]
  },
  {
   "cell_type": "code",
   "execution_count": 8,
   "metadata": {
    "execution": {
     "iopub.execute_input": "2023-01-02T00:28:00.915879Z",
     "iopub.status.busy": "2023-01-02T00:28:00.910673Z",
     "iopub.status.idle": "2023-01-02T00:28:01.109788Z",
     "shell.execute_reply": "2023-01-02T00:28:01.109179Z"
    }
   },
   "outputs": [],
   "source": [
    "soup = BeautifulSoup(page.content, \"html.parser\")"
   ]
  },
  {
   "cell_type": "markdown",
   "metadata": {},
   "source": [
    "Get content well"
   ]
  },
  {
   "cell_type": "code",
   "execution_count": 9,
   "metadata": {
    "execution": {
     "iopub.execute_input": "2023-01-02T00:28:01.115858Z",
     "iopub.status.busy": "2023-01-02T00:28:01.115328Z",
     "iopub.status.idle": "2023-01-02T00:28:01.120005Z",
     "shell.execute_reply": "2023-01-02T00:28:01.119540Z"
    }
   },
   "outputs": [],
   "source": [
    "content = soup.find(\"div\", {\"id\": \"content\"})"
   ]
  },
  {
   "cell_type": "markdown",
   "metadata": {},
   "source": [
    "Get table"
   ]
  },
  {
   "cell_type": "code",
   "execution_count": 10,
   "metadata": {
    "execution": {
     "iopub.execute_input": "2023-01-02T00:28:01.139408Z",
     "iopub.status.busy": "2023-01-02T00:28:01.132411Z",
     "iopub.status.idle": "2023-01-02T00:28:01.141776Z",
     "shell.execute_reply": "2023-01-02T00:28:01.141343Z"
    }
   },
   "outputs": [],
   "source": [
    "for tag in content.find_all(text=re.compile(\"CITY/COMMUNITY\")):\n",
    "    table = tag.findParent(\"table\")"
   ]
  },
  {
   "cell_type": "code",
   "execution_count": 11,
   "metadata": {
    "execution": {
     "iopub.execute_input": "2023-01-02T00:28:01.147225Z",
     "iopub.status.busy": "2023-01-02T00:28:01.146696Z",
     "iopub.status.idle": "2023-01-02T00:28:01.149854Z",
     "shell.execute_reply": "2023-01-02T00:28:01.150241Z"
    }
   },
   "outputs": [],
   "source": [
    "tbody = soup.tbody"
   ]
  },
  {
   "cell_type": "code",
   "execution_count": 12,
   "metadata": {
    "execution": {
     "iopub.execute_input": "2023-01-02T00:28:01.157806Z",
     "iopub.status.busy": "2023-01-02T00:28:01.156710Z",
     "iopub.status.idle": "2023-01-02T00:28:01.158400Z",
     "shell.execute_reply": "2023-01-02T00:28:01.158832Z"
    }
   },
   "outputs": [],
   "source": [
    "row_list = tbody.find_all(\"tr\")"
   ]
  },
  {
   "cell_type": "code",
   "execution_count": 13,
   "metadata": {
    "execution": {
     "iopub.execute_input": "2023-01-02T00:28:01.162282Z",
     "iopub.status.busy": "2023-01-02T00:28:01.161768Z",
     "iopub.status.idle": "2023-01-02T00:28:01.164632Z",
     "shell.execute_reply": "2023-01-02T00:28:01.165037Z"
    }
   },
   "outputs": [],
   "source": [
    "dict_list = []"
   ]
  },
  {
   "cell_type": "code",
   "execution_count": 14,
   "metadata": {
    "execution": {
     "iopub.execute_input": "2023-01-02T00:28:01.171627Z",
     "iopub.status.busy": "2023-01-02T00:28:01.171107Z",
     "iopub.status.idle": "2023-01-02T00:28:01.174121Z",
     "shell.execute_reply": "2023-01-02T00:28:01.173666Z"
    }
   },
   "outputs": [],
   "source": [
    "def safetxt(element):\n",
    "    v = element.text.strip()\n",
    "    v = v.replace(\"\\u200b\", \"\")\n",
    "    return v"
   ]
  },
  {
   "cell_type": "code",
   "execution_count": 15,
   "metadata": {
    "execution": {
     "iopub.execute_input": "2023-01-02T00:28:01.183028Z",
     "iopub.status.busy": "2023-01-02T00:28:01.181921Z",
     "iopub.status.idle": "2023-01-02T00:28:01.183622Z",
     "shell.execute_reply": "2023-01-02T00:28:01.184048Z"
    }
   },
   "outputs": [],
   "source": [
    "def safenumber(element):\n",
    "    v = safetxt(element)\n",
    "    v = v.replace(\",\", \"\")\n",
    "    v = v.replace(\" \", \"\")\n",
    "    return v"
   ]
  },
  {
   "cell_type": "code",
   "execution_count": 16,
   "metadata": {
    "execution": {
     "iopub.execute_input": "2023-01-02T00:28:01.199393Z",
     "iopub.status.busy": "2023-01-02T00:28:01.198855Z",
     "iopub.status.idle": "2023-01-02T00:28:01.206343Z",
     "shell.execute_reply": "2023-01-02T00:28:01.206757Z"
    }
   },
   "outputs": [],
   "source": [
    "for row in row_list:\n",
    "    cell_content = row.find_all(\"td\")\n",
    "    d = dict(\n",
    "        county=\"Los Angeles\",\n",
    "        area=safetxt(cell_content[0]),\n",
    "        confirmed_cases=safenumber(cell_content[1]),\n",
    "        confirmed_deaths=safenumber(cell_content[3]),\n",
    "    )\n",
    "    dict_list.append(d)"
   ]
  },
  {
   "cell_type": "code",
   "execution_count": 17,
   "metadata": {
    "execution": {
     "iopub.execute_input": "2023-01-02T00:28:01.211950Z",
     "iopub.status.busy": "2023-01-02T00:28:01.211427Z",
     "iopub.status.idle": "2023-01-02T00:28:01.215038Z",
     "shell.execute_reply": "2023-01-02T00:28:01.214576Z"
    }
   },
   "outputs": [],
   "source": [
    "df = pd.DataFrame(dict_list)"
   ]
  },
  {
   "cell_type": "markdown",
   "metadata": {},
   "source": [
    "Get timestamp"
   ]
  },
  {
   "cell_type": "code",
   "execution_count": 18,
   "metadata": {
    "execution": {
     "iopub.execute_input": "2023-01-02T00:28:01.219206Z",
     "iopub.status.busy": "2023-01-02T00:28:01.218252Z",
     "iopub.status.idle": "2023-01-02T00:28:01.221737Z",
     "shell.execute_reply": "2023-01-02T00:28:01.222175Z"
    }
   },
   "outputs": [],
   "source": [
    "date_url = \"http://publichealth.lacounty.gov/media/Coronavirus/js/casecounter.js\""
   ]
  },
  {
   "cell_type": "code",
   "execution_count": 19,
   "metadata": {
    "execution": {
     "iopub.execute_input": "2023-01-02T00:28:01.229305Z",
     "iopub.status.busy": "2023-01-02T00:28:01.228791Z",
     "iopub.status.idle": "2023-01-02T00:28:01.493047Z",
     "shell.execute_reply": "2023-01-02T00:28:01.492391Z"
    }
   },
   "outputs": [],
   "source": [
    "response = requests.get(date_url)\n",
    "date_page = response.text"
   ]
  },
  {
   "cell_type": "code",
   "execution_count": 20,
   "metadata": {
    "execution": {
     "iopub.execute_input": "2023-01-02T00:28:01.503742Z",
     "iopub.status.busy": "2023-01-02T00:28:01.503210Z",
     "iopub.status.idle": "2023-01-02T00:28:01.510147Z",
     "shell.execute_reply": "2023-01-02T00:28:01.509715Z"
    }
   },
   "outputs": [
    {
     "data": {
      "text/plain": [
       "'$( document ).ready(function() {\\r\\n    var data = {\\r\\n\\t\\t\\t\\t    \"content\": { \\r\\n\\t\\t\\r\\n\\t\\t\\t\"count\": \"3,631,736\",\\r\\n\\r\\n\\r\\n\\t\\t\\t\"death\": \"34,671\",\\r\\n\\r\\n\\t\\t\\t\"dailycount\": \"3,410\",\\r\\n\\r\\n\\r\\n\\t\\t\\t\"dailydeath\": \"28\",\\r\\n\\t\\t\\t\"hospitalizationsever\": \"166,208\",\\r\\n\\r\\n\\r\\n\\t\\t\\t\"date\": \"12/30\",\\r\\n\\t\\t\\t\"info\": \"through 12:00pm 12/29/2022\",\\r\\n\\r\\n\\t\\t\\t\"testingaverage\": \"21,471\",\\r\\n\\r\\n\\t\\t\\t\"peopletested\": \"12,821,824\",\\r\\n\\r\\n\\t\\t\\t\"positivity\": \"12.42%\",\\r\\n\\r\\n\\t\\t\\t\"hospitalizations\": \"1,269\",\\r\\n\\t\\t\\t\"datehospitalizations\": \"12/28\"\\r\\n\\r\\n\\t\\t\\t\\t}       \\r\\n\\t\\t\\t\\t};\\t\\r\\n\\t\\t\\t\\t\\r\\n\\t\\t\\t\\t\\r\\n\\t\\t\\t\\tvar content = data.content;\\r\\n\\t\\t\\t\\t\\r\\n\\t\\t\\t\\t$(\\'#ctn\\').html(content.count);\\r\\n\\t\\t\\t\\t$(\\'#det\\').html(content.death);\\r\\n\\t\\t\\t\\t$(\\'#dctn\\').html(content.dailycount);\\r\\n\\t\\t\\t\\t$(\\'#ddet\\').html(content.dailydeath);\\r\\n\\t\\t\\t\\t$(\\'#hosp_1\\').html(content.hospitalizationsever);\\r\\n\\t\\t\\t\\t$(\\'#dte\\').html(content.date);\\r\\n\\t\\t\\t\\t$(\\'#dte_1\\').html(content.date);\\r\\n\\t\\t\\t\\t$(\\'#dte_2\\').html(content.date);\\r\\n\\t\\t\\t\\t$(\\'#dte_3\\').html(content.datehospitalizations);\\r\\n\\t\\t\\t\\t$(\\'#cse\\').html(content.info);\\t\\r\\n\\t\\t\\t\\r\\n\\t\\t\\t\\t\\r\\n\\t\\t\\t\\t$(\\'#tstavg\\').html(content.testingaverage);\\t\\r\\n\\t\\t\\t\\t$(\\'#ppltst\\').html(content.peopletested);\\t\\r\\n\\t\\t\\t\\t$(\\'#pos\\').html(content.positivity);\\t\\r\\n\\t\\t\\t\\t$(\\'#hosp\\').html(content.hospitalizations);\\r\\n\\t\\t\\t\\r\\n\\t\\t\\t\\t\\t\\t\\t\\r\\n\\r\\n\\r\\n});\\r\\n\\r\\n\\r\\n\\r\\n'"
      ]
     },
     "execution_count": 20,
     "metadata": {},
     "output_type": "execute_result"
    }
   ],
   "source": [
    "date_page"
   ]
  },
  {
   "cell_type": "code",
   "execution_count": 21,
   "metadata": {
    "execution": {
     "iopub.execute_input": "2023-01-02T00:28:01.515356Z",
     "iopub.status.busy": "2023-01-02T00:28:01.514100Z",
     "iopub.status.idle": "2023-01-02T00:28:01.515951Z",
     "shell.execute_reply": "2023-01-02T00:28:01.516409Z"
    }
   },
   "outputs": [],
   "source": [
    "# date_text = re.search(r\"([0-9][0-9]/[0-9][0-9])\", date_page).group(1)\n",
    "# date_text = date_text + \"/\" + str(date.today().year)"
   ]
  },
  {
   "cell_type": "code",
   "execution_count": 22,
   "metadata": {
    "execution": {
     "iopub.execute_input": "2023-01-02T00:28:01.521050Z",
     "iopub.status.busy": "2023-01-02T00:28:01.520529Z",
     "iopub.status.idle": "2023-01-02T00:28:01.524423Z",
     "shell.execute_reply": "2023-01-02T00:28:01.523947Z"
    }
   },
   "outputs": [],
   "source": [
    "date_text = re.search(r\"through (.+?)\\\"\", date_page).group(1)"
   ]
  },
  {
   "cell_type": "code",
   "execution_count": 23,
   "metadata": {
    "execution": {
     "iopub.execute_input": "2023-01-02T00:28:01.529656Z",
     "iopub.status.busy": "2023-01-02T00:28:01.529139Z",
     "iopub.status.idle": "2023-01-02T00:28:01.531531Z",
     "shell.execute_reply": "2023-01-02T00:28:01.531077Z"
    }
   },
   "outputs": [],
   "source": [
    "date_text = date_text.split(\"m \")[0]"
   ]
  },
  {
   "cell_type": "code",
   "execution_count": 24,
   "metadata": {
    "execution": {
     "iopub.execute_input": "2023-01-02T00:28:01.538426Z",
     "iopub.status.busy": "2023-01-02T00:28:01.537226Z",
     "iopub.status.idle": "2023-01-02T00:28:01.539138Z",
     "shell.execute_reply": "2023-01-02T00:28:01.539580Z"
    }
   },
   "outputs": [],
   "source": [
    "latest_date = pd.to_datetime(date_text).date()"
   ]
  },
  {
   "cell_type": "code",
   "execution_count": 25,
   "metadata": {
    "execution": {
     "iopub.execute_input": "2023-01-02T00:28:01.543845Z",
     "iopub.status.busy": "2023-01-02T00:28:01.543315Z",
     "iopub.status.idle": "2023-01-02T00:28:01.547275Z",
     "shell.execute_reply": "2023-01-02T00:28:01.546841Z"
    }
   },
   "outputs": [],
   "source": [
    "df[\"county_date\"] = latest_date"
   ]
  },
  {
   "cell_type": "code",
   "execution_count": 26,
   "metadata": {
    "execution": {
     "iopub.execute_input": "2023-01-02T00:28:01.554561Z",
     "iopub.status.busy": "2023-01-02T00:28:01.554050Z",
     "iopub.status.idle": "2023-01-02T00:28:01.557589Z",
     "shell.execute_reply": "2023-01-02T00:28:01.557110Z"
    }
   },
   "outputs": [],
   "source": [
    "df.loc[df.area == \"-  Under Investigation\", \"area\"] = \"Under Investigation\""
   ]
  },
  {
   "cell_type": "code",
   "execution_count": 27,
   "metadata": {
    "execution": {
     "iopub.execute_input": "2023-01-02T00:28:01.564174Z",
     "iopub.status.busy": "2023-01-02T00:28:01.563050Z",
     "iopub.status.idle": "2023-01-02T00:28:01.567119Z",
     "shell.execute_reply": "2023-01-02T00:28:01.566667Z"
    }
   },
   "outputs": [],
   "source": [
    "df.loc[df.area == \"- Under Investigation\", \"area\"] = \"Under Investigation\""
   ]
  },
  {
   "cell_type": "markdown",
   "metadata": {},
   "source": [
    "## Vet"
   ]
  },
  {
   "cell_type": "code",
   "execution_count": 28,
   "metadata": {
    "execution": {
     "iopub.execute_input": "2023-01-02T00:28:01.572052Z",
     "iopub.status.busy": "2023-01-02T00:28:01.570915Z",
     "iopub.status.idle": "2023-01-02T00:28:01.577264Z",
     "shell.execute_reply": "2023-01-02T00:28:01.577699Z"
    }
   },
   "outputs": [],
   "source": [
    "try:\n",
    "    assert not len(df) > 342\n",
    "except AssertionError:\n",
    "    raise AssertionError(\"L.A. County's scraper has extra rows\")"
   ]
  },
  {
   "cell_type": "code",
   "execution_count": 29,
   "metadata": {
    "execution": {
     "iopub.execute_input": "2023-01-02T00:28:01.581595Z",
     "iopub.status.busy": "2023-01-02T00:28:01.580969Z",
     "iopub.status.idle": "2023-01-02T00:28:01.729791Z",
     "shell.execute_reply": "2023-01-02T00:28:01.727875Z"
    }
   },
   "outputs": [
    {
     "ename": "AssertionError",
     "evalue": "L.A. County's scraper is missing rows",
     "output_type": "error",
     "traceback": [
      "\u001b[0;31m---------------------------------------------------------------------------\u001b[0m",
      "\u001b[0;31mAssertionError\u001b[0m                            Traceback (most recent call last)",
      "\u001b[0;32m/tmp/ipykernel_2287/2999864733.py\u001b[0m in \u001b[0;36m<module>\u001b[0;34m\u001b[0m\n\u001b[1;32m      1\u001b[0m \u001b[0;32mtry\u001b[0m\u001b[0;34m:\u001b[0m\u001b[0;34m\u001b[0m\u001b[0;34m\u001b[0m\u001b[0m\n\u001b[0;32m----> 2\u001b[0;31m     \u001b[0;32massert\u001b[0m \u001b[0;32mnot\u001b[0m \u001b[0mlen\u001b[0m\u001b[0;34m(\u001b[0m\u001b[0mdf\u001b[0m\u001b[0;34m)\u001b[0m \u001b[0;34m<\u001b[0m \u001b[0;36m342\u001b[0m\u001b[0;34m\u001b[0m\u001b[0;34m\u001b[0m\u001b[0m\n\u001b[0m\u001b[1;32m      3\u001b[0m \u001b[0;32mexcept\u001b[0m \u001b[0mAssertionError\u001b[0m\u001b[0;34m:\u001b[0m\u001b[0;34m\u001b[0m\u001b[0;34m\u001b[0m\u001b[0m\n",
      "\u001b[0;31mAssertionError\u001b[0m: ",
      "\nDuring handling of the above exception, another exception occurred:\n",
      "\u001b[0;31mAssertionError\u001b[0m                            Traceback (most recent call last)",
      "\u001b[0;32m/tmp/ipykernel_2287/2999864733.py\u001b[0m in \u001b[0;36m<module>\u001b[0;34m\u001b[0m\n\u001b[1;32m      2\u001b[0m     \u001b[0;32massert\u001b[0m \u001b[0;32mnot\u001b[0m \u001b[0mlen\u001b[0m\u001b[0;34m(\u001b[0m\u001b[0mdf\u001b[0m\u001b[0;34m)\u001b[0m \u001b[0;34m<\u001b[0m \u001b[0;36m342\u001b[0m\u001b[0;34m\u001b[0m\u001b[0;34m\u001b[0m\u001b[0m\n\u001b[1;32m      3\u001b[0m \u001b[0;32mexcept\u001b[0m \u001b[0mAssertionError\u001b[0m\u001b[0;34m:\u001b[0m\u001b[0;34m\u001b[0m\u001b[0;34m\u001b[0m\u001b[0m\n\u001b[0;32m----> 4\u001b[0;31m     \u001b[0;32mraise\u001b[0m \u001b[0mAssertionError\u001b[0m\u001b[0;34m(\u001b[0m\u001b[0;34m\"L.A. County's scraper is missing rows\"\u001b[0m\u001b[0;34m)\u001b[0m\u001b[0;34m\u001b[0m\u001b[0;34m\u001b[0m\u001b[0m\n\u001b[0m",
      "\u001b[0;31mAssertionError\u001b[0m: L.A. County's scraper is missing rows"
     ]
    }
   ],
   "source": [
    "try:\n",
    "    assert not len(df) < 342\n",
    "except AssertionError:\n",
    "    raise AssertionError(\"L.A. County's scraper is missing rows\")"
   ]
  },
  {
   "cell_type": "markdown",
   "metadata": {},
   "source": [
    "## Export"
   ]
  },
  {
   "cell_type": "markdown",
   "metadata": {},
   "source": [
    "Set the date"
   ]
  },
  {
   "cell_type": "code",
   "execution_count": 67,
   "metadata": {},
   "outputs": [],
   "source": [
    "tz = pytz.timezone(\"America/Los_Angeles\")"
   ]
  },
  {
   "cell_type": "code",
   "execution_count": 68,
   "metadata": {},
   "outputs": [],
   "source": [
    "today = datetime.now(tz).date()"
   ]
  },
  {
   "cell_type": "code",
   "execution_count": 69,
   "metadata": {},
   "outputs": [],
   "source": [
    "slug = \"los-angeles\""
   ]
  },
  {
   "cell_type": "code",
   "execution_count": 70,
   "metadata": {},
   "outputs": [],
   "source": [
    "df.to_csv(data_dir / slug / f\"{today}.csv\", index=False)"
   ]
  },
  {
   "cell_type": "markdown",
   "metadata": {},
   "source": [
    "## Combine"
   ]
  },
  {
   "cell_type": "code",
   "execution_count": 71,
   "metadata": {},
   "outputs": [],
   "source": [
    "csv_list = [\n",
    "    i\n",
    "    for i in glob.glob(str(data_dir / slug / \"*.csv\"))\n",
    "    if not str(i).endswith(\"timeseries.csv\")\n",
    "]"
   ]
  },
  {
   "cell_type": "code",
   "execution_count": 72,
   "metadata": {},
   "outputs": [],
   "source": [
    "df_list = []\n",
    "for csv in csv_list:\n",
    "    if \"manual\" in csv:\n",
    "        df = pd.read_csv(csv, parse_dates=[\"date\"])\n",
    "    else:\n",
    "        file_date = csv.split(\"/\")[-1].replace(\".csv\", \"\")\n",
    "        df = pd.read_csv(csv, parse_dates=[\"county_date\"])\n",
    "        df[\"date\"] = file_date\n",
    "    df_list.append(df)"
   ]
  },
  {
   "cell_type": "code",
   "execution_count": 73,
   "metadata": {},
   "outputs": [],
   "source": [
    "df = pd.concat(df_list).sort_values([\"date\", \"area\"])"
   ]
  },
  {
   "cell_type": "code",
   "execution_count": 74,
   "metadata": {},
   "outputs": [],
   "source": [
    "df.to_csv(data_dir / slug / \"timeseries.csv\", index=False)"
   ]
  },
  {
   "cell_type": "code",
   "execution_count": null,
   "metadata": {},
   "outputs": [],
   "source": []
  },
  {
   "cell_type": "code",
   "execution_count": null,
   "metadata": {},
   "outputs": [],
   "source": []
  }
 ],
 "metadata": {
  "kernelspec": {
   "display_name": "Python 3 (ipykernel)",
   "language": "python",
   "name": "python3"
  },
  "language_info": {
   "codemirror_mode": {
    "name": "ipython",
    "version": 3
   },
   "file_extension": ".py",
   "mimetype": "text/x-python",
   "name": "python",
   "nbconvert_exporter": "python",
   "pygments_lexer": "ipython3",
   "version": "3.8.15"
  }
 },
 "nbformat": 4,
 "nbformat_minor": 4
}
