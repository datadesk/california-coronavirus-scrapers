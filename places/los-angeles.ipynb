{
 "cells": [
  {
   "cell_type": "markdown",
   "metadata": {
    "tags": []
   },
   "source": [
    "## Configuration\n",
    "_Initial steps to get the notebook ready to play nice with our repository. Do not delete this section._"
   ]
  },
  {
   "cell_type": "markdown",
   "metadata": {},
   "source": [
    "Code formatting with [black](https://pypi.org/project/nb-black/)."
   ]
  },
  {
   "cell_type": "code",
   "execution_count": 1,
   "metadata": {
    "execution": {
     "iopub.execute_input": "2023-02-16T08:19:25.530422Z",
     "iopub.status.busy": "2023-02-16T08:19:25.529995Z",
     "iopub.status.idle": "2023-02-16T08:19:25.686423Z",
     "shell.execute_reply": "2023-02-16T08:19:25.686858Z"
    }
   },
   "outputs": [],
   "source": [
    "%load_ext lab_black"
   ]
  },
  {
   "cell_type": "code",
   "execution_count": 2,
   "metadata": {
    "execution": {
     "iopub.execute_input": "2023-02-16T08:19:25.692886Z",
     "iopub.status.busy": "2023-02-16T08:19:25.691575Z",
     "iopub.status.idle": "2023-02-16T08:19:25.693462Z",
     "shell.execute_reply": "2023-02-16T08:19:25.693829Z"
    }
   },
   "outputs": [],
   "source": [
    "import os\n",
    "import pathlib"
   ]
  },
  {
   "cell_type": "code",
   "execution_count": 3,
   "metadata": {
    "execution": {
     "iopub.execute_input": "2023-02-16T08:19:25.700814Z",
     "iopub.status.busy": "2023-02-16T08:19:25.699808Z",
     "iopub.status.idle": "2023-02-16T08:19:25.701327Z",
     "shell.execute_reply": "2023-02-16T08:19:25.701703Z"
    }
   },
   "outputs": [],
   "source": [
    "this_dir = pathlib.Path(os.path.abspath(\"\"))"
   ]
  },
  {
   "cell_type": "code",
   "execution_count": 4,
   "metadata": {
    "execution": {
     "iopub.execute_input": "2023-02-16T08:19:25.705567Z",
     "iopub.status.busy": "2023-02-16T08:19:25.704768Z",
     "iopub.status.idle": "2023-02-16T08:19:25.707914Z",
     "shell.execute_reply": "2023-02-16T08:19:25.707508Z"
    }
   },
   "outputs": [],
   "source": [
    "data_dir = this_dir / \"data\""
   ]
  },
  {
   "cell_type": "code",
   "execution_count": 5,
   "metadata": {
    "execution": {
     "iopub.execute_input": "2023-02-16T08:19:25.711875Z",
     "iopub.status.busy": "2023-02-16T08:19:25.711368Z",
     "iopub.status.idle": "2023-02-16T08:19:26.139962Z",
     "shell.execute_reply": "2023-02-16T08:19:26.139037Z"
    }
   },
   "outputs": [],
   "source": [
    "import re\n",
    "import pytz\n",
    "import glob\n",
    "import requests\n",
    "import unicodedata\n",
    "import pandas as pd\n",
    "from slugify import slugify\n",
    "from bs4 import BeautifulSoup\n",
    "from datetime import datetime, date"
   ]
  },
  {
   "cell_type": "markdown",
   "metadata": {},
   "source": [
    "## Download"
   ]
  },
  {
   "cell_type": "markdown",
   "metadata": {},
   "source": [
    "Retrieve the page"
   ]
  },
  {
   "cell_type": "code",
   "execution_count": 6,
   "metadata": {
    "execution": {
     "iopub.execute_input": "2023-02-16T08:19:26.144403Z",
     "iopub.status.busy": "2023-02-16T08:19:26.143394Z",
     "iopub.status.idle": "2023-02-16T08:19:26.148682Z",
     "shell.execute_reply": "2023-02-16T08:19:26.149331Z"
    }
   },
   "outputs": [],
   "source": [
    "url = \"http://publichealth.lacounty.gov/media/Coronavirus/locations.htm\""
   ]
  },
  {
   "cell_type": "code",
   "execution_count": 7,
   "metadata": {
    "execution": {
     "iopub.execute_input": "2023-02-16T08:19:26.156390Z",
     "iopub.status.busy": "2023-02-16T08:19:26.152634Z",
     "iopub.status.idle": "2023-02-16T08:19:26.534264Z",
     "shell.execute_reply": "2023-02-16T08:19:26.533747Z"
    }
   },
   "outputs": [],
   "source": [
    "page = requests.get(url)"
   ]
  },
  {
   "cell_type": "markdown",
   "metadata": {},
   "source": [
    "## Parse"
   ]
  },
  {
   "cell_type": "code",
   "execution_count": 8,
   "metadata": {
    "execution": {
     "iopub.execute_input": "2023-02-16T08:19:26.568550Z",
     "iopub.status.busy": "2023-02-16T08:19:26.552795Z",
     "iopub.status.idle": "2023-02-16T08:19:26.683029Z",
     "shell.execute_reply": "2023-02-16T08:19:26.682574Z"
    }
   },
   "outputs": [],
   "source": [
    "soup = BeautifulSoup(page.content, \"html.parser\")"
   ]
  },
  {
   "cell_type": "markdown",
   "metadata": {},
   "source": [
    "Get content well"
   ]
  },
  {
   "cell_type": "code",
   "execution_count": 9,
   "metadata": {
    "execution": {
     "iopub.execute_input": "2023-02-16T08:19:26.690482Z",
     "iopub.status.busy": "2023-02-16T08:19:26.690008Z",
     "iopub.status.idle": "2023-02-16T08:19:26.692906Z",
     "shell.execute_reply": "2023-02-16T08:19:26.693282Z"
    }
   },
   "outputs": [],
   "source": [
    "content = soup.find(\"div\", {\"id\": \"content\"})"
   ]
  },
  {
   "cell_type": "markdown",
   "metadata": {},
   "source": [
    "Get table"
   ]
  },
  {
   "cell_type": "code",
   "execution_count": 10,
   "metadata": {
    "execution": {
     "iopub.execute_input": "2023-02-16T08:19:26.706211Z",
     "iopub.status.busy": "2023-02-16T08:19:26.705743Z",
     "iopub.status.idle": "2023-02-16T08:19:26.710380Z",
     "shell.execute_reply": "2023-02-16T08:19:26.709986Z"
    }
   },
   "outputs": [],
   "source": [
    "for tag in content.find_all(text=re.compile(\"CITY/COMMUNITY\")):\n",
    "    table = tag.findParent(\"table\")"
   ]
  },
  {
   "cell_type": "code",
   "execution_count": 11,
   "metadata": {
    "execution": {
     "iopub.execute_input": "2023-02-16T08:19:26.717014Z",
     "iopub.status.busy": "2023-02-16T08:19:26.716011Z",
     "iopub.status.idle": "2023-02-16T08:19:26.717531Z",
     "shell.execute_reply": "2023-02-16T08:19:26.717890Z"
    }
   },
   "outputs": [],
   "source": [
    "tbody = soup.tbody"
   ]
  },
  {
   "cell_type": "code",
   "execution_count": 12,
   "metadata": {
    "execution": {
     "iopub.execute_input": "2023-02-16T08:19:26.724781Z",
     "iopub.status.busy": "2023-02-16T08:19:26.723820Z",
     "iopub.status.idle": "2023-02-16T08:19:26.725295Z",
     "shell.execute_reply": "2023-02-16T08:19:26.725658Z"
    }
   },
   "outputs": [],
   "source": [
    "row_list = tbody.find_all(\"tr\")"
   ]
  },
  {
   "cell_type": "code",
   "execution_count": 13,
   "metadata": {
    "execution": {
     "iopub.execute_input": "2023-02-16T08:19:26.729647Z",
     "iopub.status.busy": "2023-02-16T08:19:26.729208Z",
     "iopub.status.idle": "2023-02-16T08:19:26.732274Z",
     "shell.execute_reply": "2023-02-16T08:19:26.731845Z"
    }
   },
   "outputs": [],
   "source": [
    "dict_list = []"
   ]
  },
  {
   "cell_type": "code",
   "execution_count": 14,
   "metadata": {
    "execution": {
     "iopub.execute_input": "2023-02-16T08:19:26.737891Z",
     "iopub.status.busy": "2023-02-16T08:19:26.737115Z",
     "iopub.status.idle": "2023-02-16T08:19:26.741958Z",
     "shell.execute_reply": "2023-02-16T08:19:26.742339Z"
    }
   },
   "outputs": [],
   "source": [
    "def safetxt(element):\n",
    "    v = element.text.strip()\n",
    "    v = v.replace(\"\\u200b\", \"\")\n",
    "    return v"
   ]
  },
  {
   "cell_type": "code",
   "execution_count": 15,
   "metadata": {
    "execution": {
     "iopub.execute_input": "2023-02-16T08:19:26.746577Z",
     "iopub.status.busy": "2023-02-16T08:19:26.746135Z",
     "iopub.status.idle": "2023-02-16T08:19:26.752282Z",
     "shell.execute_reply": "2023-02-16T08:19:26.751770Z"
    }
   },
   "outputs": [],
   "source": [
    "def safenumber(element):\n",
    "    v = safetxt(element)\n",
    "    v = v.replace(\",\", \"\")\n",
    "    v = v.replace(\" \", \"\")\n",
    "    return v"
   ]
  },
  {
   "cell_type": "code",
   "execution_count": 16,
   "metadata": {
    "execution": {
     "iopub.execute_input": "2023-02-16T08:19:26.763364Z",
     "iopub.status.busy": "2023-02-16T08:19:26.759333Z",
     "iopub.status.idle": "2023-02-16T08:19:26.771052Z",
     "shell.execute_reply": "2023-02-16T08:19:26.770665Z"
    }
   },
   "outputs": [],
   "source": [
    "for row in row_list:\n",
    "    cell_content = row.find_all(\"td\")\n",
    "    d = dict(\n",
    "        county=\"Los Angeles\",\n",
    "        area=safetxt(cell_content[0]),\n",
    "        confirmed_cases=safenumber(cell_content[1]),\n",
    "        confirmed_deaths=safenumber(cell_content[3]),\n",
    "    )\n",
    "    dict_list.append(d)"
   ]
  },
  {
   "cell_type": "code",
   "execution_count": 17,
   "metadata": {
    "execution": {
     "iopub.execute_input": "2023-02-16T08:19:26.776729Z",
     "iopub.status.busy": "2023-02-16T08:19:26.776291Z",
     "iopub.status.idle": "2023-02-16T08:19:26.779277Z",
     "shell.execute_reply": "2023-02-16T08:19:26.778891Z"
    }
   },
   "outputs": [],
   "source": [
    "df = pd.DataFrame(dict_list)"
   ]
  },
  {
   "cell_type": "markdown",
   "metadata": {},
   "source": [
    "Get timestamp"
   ]
  },
  {
   "cell_type": "code",
   "execution_count": 18,
   "metadata": {
    "execution": {
     "iopub.execute_input": "2023-02-16T08:19:26.783056Z",
     "iopub.status.busy": "2023-02-16T08:19:26.782248Z",
     "iopub.status.idle": "2023-02-16T08:19:26.785116Z",
     "shell.execute_reply": "2023-02-16T08:19:26.784742Z"
    }
   },
   "outputs": [],
   "source": [
    "date_url = \"http://publichealth.lacounty.gov/media/Coronavirus/js/casecounter.js\""
   ]
  },
  {
   "cell_type": "code",
   "execution_count": 19,
   "metadata": {
    "execution": {
     "iopub.execute_input": "2023-02-16T08:19:26.790972Z",
     "iopub.status.busy": "2023-02-16T08:19:26.790513Z",
     "iopub.status.idle": "2023-02-16T08:19:27.087333Z",
     "shell.execute_reply": "2023-02-16T08:19:27.086425Z"
    }
   },
   "outputs": [],
   "source": [
    "response = requests.get(date_url)\n",
    "date_page = response.text"
   ]
  },
  {
   "cell_type": "code",
   "execution_count": 20,
   "metadata": {
    "execution": {
     "iopub.execute_input": "2023-02-16T08:19:27.097260Z",
     "iopub.status.busy": "2023-02-16T08:19:27.096795Z",
     "iopub.status.idle": "2023-02-16T08:19:27.103186Z",
     "shell.execute_reply": "2023-02-16T08:19:27.102776Z"
    }
   },
   "outputs": [
    {
     "data": {
      "text/plain": [
       "'$( document ).ready(function() {\\r\\n    var data = {\\r\\n\\t\\t\\t\\t    \"content\": { \\r\\n\\t\\t\\r\\n\\t\\t\\t\"count\": \"3,692,123\",\\r\\n\\r\\n\\r\\n\\t\\t\\t\"death\": \"35,509\",\\r\\n\\r\\n\\t\\t\\t\"dailycount\": \"1,197\",\\r\\n\\r\\n\\r\\n\\t\\t\\t\"dailydeath\": \"20\",\\r\\n\\t\\t\\t\"hospitalizationsever\": \"172,155\",\\r\\n\\r\\n\\r\\n\\t\\t\\t\"date\": \"02/15/23\",\\r\\n\\t\\t\\t\"info\": \"through 12:00pm 02/14/2023\",\\r\\n\\r\\n\\t\\t\\t\"testingaverage\": \"19,042\",\\r\\n\\r\\n\\t\\t\\t\"peopletested\": \"12,917,088\",\\r\\n\\r\\n\\t\\t\\t\"positivity\": \"5.69%\",\\r\\n\\r\\n\\t\\t\\t\"hospitalizations\": \"689\",\\r\\n\\t\\t\\t\"datehospitalizations\": \"2/14/23\"\\r\\n\\r\\n\\t\\t\\t\\t}       \\r\\n\\t\\t\\t\\t};\\t\\r\\n\\t\\t\\t\\t\\r\\n\\t\\t\\t\\t\\r\\n\\t\\t\\t\\tvar content = data.content;\\r\\n\\t\\t\\t\\t\\r\\n\\t\\t\\t\\t$(\\'#ctn\\').html(content.count);\\r\\n\\t\\t\\t\\t$(\\'#det\\').html(content.death);\\r\\n\\t\\t\\t\\t$(\\'#dctn\\').html(content.dailycount);\\r\\n\\t\\t\\t\\t$(\\'#ddet\\').html(content.dailydeath);\\r\\n\\t\\t\\t\\t$(\\'#hosp_1\\').html(content.hospitalizationsever);\\r\\n\\t\\t\\t\\t$(\\'#dte\\').html(content.date);\\r\\n\\t\\t\\t\\t$(\\'#dte_1\\').html(content.date);\\r\\n\\t\\t\\t\\t$(\\'#dte_2\\').html(content.date);\\r\\n\\t\\t\\t\\t$(\\'#dte_3\\').html(content.datehospitalizations);\\r\\n\\t\\t\\t\\t$(\\'#cse\\').html(content.info);\\t\\r\\n\\t\\t\\t\\r\\n\\t\\t\\t\\t\\r\\n\\t\\t\\t\\t$(\\'#tstavg\\').html(content.testingaverage);\\t\\r\\n\\t\\t\\t\\t$(\\'#ppltst\\').html(content.peopletested);\\t\\r\\n\\t\\t\\t\\t$(\\'#pos\\').html(content.positivity);\\t\\r\\n\\t\\t\\t\\t$(\\'#hosp\\').html(content.hospitalizations);\\r\\n\\t\\t\\t\\r\\n\\t\\t\\t\\t\\t\\t\\t\\r\\n\\r\\n\\r\\n});\\r\\n\\r\\n\\r\\n\\r\\n'"
      ]
     },
     "execution_count": 20,
     "metadata": {},
     "output_type": "execute_result"
    }
   ],
   "source": [
    "date_page"
   ]
  },
  {
   "cell_type": "code",
   "execution_count": 21,
   "metadata": {
    "execution": {
     "iopub.execute_input": "2023-02-16T08:19:27.108486Z",
     "iopub.status.busy": "2023-02-16T08:19:27.108038Z",
     "iopub.status.idle": "2023-02-16T08:19:27.113307Z",
     "shell.execute_reply": "2023-02-16T08:19:27.112510Z"
    }
   },
   "outputs": [],
   "source": [
    "# date_text = re.search(r\"([0-9][0-9]/[0-9][0-9])\", date_page).group(1)\n",
    "# date_text = date_text + \"/\" + str(date.today().year)"
   ]
  },
  {
   "cell_type": "code",
   "execution_count": 22,
   "metadata": {
    "execution": {
     "iopub.execute_input": "2023-02-16T08:19:27.119385Z",
     "iopub.status.busy": "2023-02-16T08:19:27.117407Z",
     "iopub.status.idle": "2023-02-16T08:19:27.121496Z",
     "shell.execute_reply": "2023-02-16T08:19:27.122069Z"
    }
   },
   "outputs": [],
   "source": [
    "date_text = re.search(r\"through (.+?)\\\"\", date_page).group(1)"
   ]
  },
  {
   "cell_type": "code",
   "execution_count": 23,
   "metadata": {
    "execution": {
     "iopub.execute_input": "2023-02-16T08:19:27.127308Z",
     "iopub.status.busy": "2023-02-16T08:19:27.124127Z",
     "iopub.status.idle": "2023-02-16T08:19:27.130254Z",
     "shell.execute_reply": "2023-02-16T08:19:27.129409Z"
    }
   },
   "outputs": [],
   "source": [
    "date_text = date_text.split(\"m \")[0]"
   ]
  },
  {
   "cell_type": "code",
   "execution_count": 24,
   "metadata": {
    "execution": {
     "iopub.execute_input": "2023-02-16T08:19:27.135911Z",
     "iopub.status.busy": "2023-02-16T08:19:27.135430Z",
     "iopub.status.idle": "2023-02-16T08:19:27.138515Z",
     "shell.execute_reply": "2023-02-16T08:19:27.138118Z"
    }
   },
   "outputs": [],
   "source": [
    "latest_date = pd.to_datetime(date_text).date()"
   ]
  },
  {
   "cell_type": "code",
   "execution_count": 25,
   "metadata": {
    "execution": {
     "iopub.execute_input": "2023-02-16T08:19:27.143247Z",
     "iopub.status.busy": "2023-02-16T08:19:27.142534Z",
     "iopub.status.idle": "2023-02-16T08:19:27.146943Z",
     "shell.execute_reply": "2023-02-16T08:19:27.146521Z"
    }
   },
   "outputs": [],
   "source": [
    "df[\"county_date\"] = latest_date"
   ]
  },
  {
   "cell_type": "code",
   "execution_count": 26,
   "metadata": {
    "execution": {
     "iopub.execute_input": "2023-02-16T08:19:27.153542Z",
     "iopub.status.busy": "2023-02-16T08:19:27.151640Z",
     "iopub.status.idle": "2023-02-16T08:19:27.156743Z",
     "shell.execute_reply": "2023-02-16T08:19:27.156314Z"
    }
   },
   "outputs": [],
   "source": [
    "df.loc[df.area == \"-  Under Investigation\", \"area\"] = \"Under Investigation\""
   ]
  },
  {
   "cell_type": "code",
   "execution_count": 27,
   "metadata": {
    "execution": {
     "iopub.execute_input": "2023-02-16T08:19:27.163180Z",
     "iopub.status.busy": "2023-02-16T08:19:27.161050Z",
     "iopub.status.idle": "2023-02-16T08:19:27.166095Z",
     "shell.execute_reply": "2023-02-16T08:19:27.165697Z"
    }
   },
   "outputs": [],
   "source": [
    "df.loc[df.area == \"- Under Investigation\", \"area\"] = \"Under Investigation\""
   ]
  },
  {
   "cell_type": "markdown",
   "metadata": {},
   "source": [
    "## Vet"
   ]
  },
  {
   "cell_type": "code",
   "execution_count": 28,
   "metadata": {
    "execution": {
     "iopub.execute_input": "2023-02-16T08:19:27.170657Z",
     "iopub.status.busy": "2023-02-16T08:19:27.169729Z",
     "iopub.status.idle": "2023-02-16T08:19:27.174927Z",
     "shell.execute_reply": "2023-02-16T08:19:27.174513Z"
    }
   },
   "outputs": [],
   "source": [
    "try:\n",
    "    assert not len(df) > 342\n",
    "except AssertionError:\n",
    "    raise AssertionError(\"L.A. County's scraper has extra rows\")"
   ]
  },
  {
   "cell_type": "code",
   "execution_count": 29,
   "metadata": {
    "execution": {
     "iopub.execute_input": "2023-02-16T08:19:27.180299Z",
     "iopub.status.busy": "2023-02-16T08:19:27.178127Z",
     "iopub.status.idle": "2023-02-16T08:19:27.307138Z",
     "shell.execute_reply": "2023-02-16T08:19:27.305491Z"
    }
   },
   "outputs": [
    {
     "ename": "AssertionError",
     "evalue": "L.A. County's scraper is missing rows",
     "output_type": "error",
     "traceback": [
      "\u001b[0;31m---------------------------------------------------------------------------\u001b[0m",
      "\u001b[0;31mAssertionError\u001b[0m                            Traceback (most recent call last)",
      "\u001b[0;32m/tmp/ipykernel_2154/2999864733.py\u001b[0m in \u001b[0;36m<module>\u001b[0;34m\u001b[0m\n\u001b[1;32m      1\u001b[0m \u001b[0;32mtry\u001b[0m\u001b[0;34m:\u001b[0m\u001b[0;34m\u001b[0m\u001b[0;34m\u001b[0m\u001b[0m\n\u001b[0;32m----> 2\u001b[0;31m     \u001b[0;32massert\u001b[0m \u001b[0;32mnot\u001b[0m \u001b[0mlen\u001b[0m\u001b[0;34m(\u001b[0m\u001b[0mdf\u001b[0m\u001b[0;34m)\u001b[0m \u001b[0;34m<\u001b[0m \u001b[0;36m342\u001b[0m\u001b[0;34m\u001b[0m\u001b[0;34m\u001b[0m\u001b[0m\n\u001b[0m\u001b[1;32m      3\u001b[0m \u001b[0;32mexcept\u001b[0m \u001b[0mAssertionError\u001b[0m\u001b[0;34m:\u001b[0m\u001b[0;34m\u001b[0m\u001b[0;34m\u001b[0m\u001b[0m\n",
      "\u001b[0;31mAssertionError\u001b[0m: ",
      "\nDuring handling of the above exception, another exception occurred:\n",
      "\u001b[0;31mAssertionError\u001b[0m                            Traceback (most recent call last)",
      "\u001b[0;32m/tmp/ipykernel_2154/2999864733.py\u001b[0m in \u001b[0;36m<module>\u001b[0;34m\u001b[0m\n\u001b[1;32m      2\u001b[0m     \u001b[0;32massert\u001b[0m \u001b[0;32mnot\u001b[0m \u001b[0mlen\u001b[0m\u001b[0;34m(\u001b[0m\u001b[0mdf\u001b[0m\u001b[0;34m)\u001b[0m \u001b[0;34m<\u001b[0m \u001b[0;36m342\u001b[0m\u001b[0;34m\u001b[0m\u001b[0;34m\u001b[0m\u001b[0m\n\u001b[1;32m      3\u001b[0m \u001b[0;32mexcept\u001b[0m \u001b[0mAssertionError\u001b[0m\u001b[0;34m:\u001b[0m\u001b[0;34m\u001b[0m\u001b[0;34m\u001b[0m\u001b[0m\n\u001b[0;32m----> 4\u001b[0;31m     \u001b[0;32mraise\u001b[0m \u001b[0mAssertionError\u001b[0m\u001b[0;34m(\u001b[0m\u001b[0;34m\"L.A. County's scraper is missing rows\"\u001b[0m\u001b[0;34m)\u001b[0m\u001b[0;34m\u001b[0m\u001b[0;34m\u001b[0m\u001b[0m\n\u001b[0m",
      "\u001b[0;31mAssertionError\u001b[0m: L.A. County's scraper is missing rows"
     ]
    }
   ],
   "source": [
    "try:\n",
    "    assert not len(df) < 342\n",
    "except AssertionError:\n",
    "    raise AssertionError(\"L.A. County's scraper is missing rows\")"
   ]
  },
  {
   "cell_type": "markdown",
   "metadata": {},
   "source": [
    "## Export"
   ]
  },
  {
   "cell_type": "markdown",
   "metadata": {},
   "source": [
    "Set the date"
   ]
  },
  {
   "cell_type": "code",
   "execution_count": 30,
   "metadata": {},
   "outputs": [],
   "source": [
    "tz = pytz.timezone(\"America/Los_Angeles\")"
   ]
  },
  {
   "cell_type": "code",
   "execution_count": 31,
   "metadata": {},
   "outputs": [],
   "source": [
    "today = datetime.now(tz).date()"
   ]
  },
  {
   "cell_type": "code",
   "execution_count": 32,
   "metadata": {},
   "outputs": [],
   "source": [
    "slug = \"los-angeles\""
   ]
  },
  {
   "cell_type": "code",
   "execution_count": 33,
   "metadata": {},
   "outputs": [],
   "source": [
    "df.to_csv(data_dir / slug / f\"{today}.csv\", index=False)"
   ]
  },
  {
   "cell_type": "markdown",
   "metadata": {},
   "source": [
    "## Combine"
   ]
  },
  {
   "cell_type": "code",
   "execution_count": 34,
   "metadata": {},
   "outputs": [],
   "source": [
    "csv_list = [\n",
    "    i\n",
    "    for i in glob.glob(str(data_dir / slug / \"*.csv\"))\n",
    "    if not str(i).endswith(\"timeseries.csv\")\n",
    "]"
   ]
  },
  {
   "cell_type": "code",
   "execution_count": 35,
   "metadata": {},
   "outputs": [],
   "source": [
    "df_list = []\n",
    "for csv in csv_list:\n",
    "    if \"manual\" in csv:\n",
    "        df = pd.read_csv(csv, parse_dates=[\"date\"])\n",
    "    else:\n",
    "        file_date = csv.split(\"/\")[-1].replace(\".csv\", \"\")\n",
    "        df = pd.read_csv(csv, parse_dates=[\"county_date\"])\n",
    "        df[\"date\"] = file_date\n",
    "    df_list.append(df)"
   ]
  },
  {
   "cell_type": "code",
   "execution_count": 36,
   "metadata": {},
   "outputs": [],
   "source": [
    "df = pd.concat(df_list).sort_values([\"date\", \"area\"])"
   ]
  },
  {
   "cell_type": "code",
   "execution_count": 37,
   "metadata": {},
   "outputs": [],
   "source": [
    "df.to_csv(data_dir / slug / \"timeseries.csv\", index=False)"
   ]
  },
  {
   "cell_type": "code",
   "execution_count": null,
   "metadata": {},
   "outputs": [],
   "source": []
  },
  {
   "cell_type": "code",
   "execution_count": null,
   "metadata": {},
   "outputs": [],
   "source": []
  }
 ],
 "metadata": {
  "kernelspec": {
   "display_name": "Python 3 (ipykernel)",
   "language": "python",
   "name": "python3"
  },
  "language_info": {
   "codemirror_mode": {
    "name": "ipython",
    "version": 3
   },
   "file_extension": ".py",
   "mimetype": "text/x-python",
   "name": "python",
   "nbconvert_exporter": "python",
   "pygments_lexer": "ipython3",
   "version": "3.8.16"
  }
 },
 "nbformat": 4,
 "nbformat_minor": 4
}
