{
 "cells": [
  {
   "cell_type": "markdown",
   "metadata": {
    "tags": []
   },
   "source": [
    "## Configuration\n",
    "_Initial steps to get the notebook ready to play nice with our repository. Do not delete this section._"
   ]
  },
  {
   "cell_type": "markdown",
   "metadata": {},
   "source": [
    "Code formatting with [black](https://pypi.org/project/nb-black/)."
   ]
  },
  {
   "cell_type": "code",
   "execution_count": 1,
   "metadata": {
    "execution": {
     "iopub.execute_input": "2022-12-08T04:19:22.421500Z",
     "iopub.status.busy": "2022-12-08T04:19:22.421091Z",
     "iopub.status.idle": "2022-12-08T04:19:22.553971Z",
     "shell.execute_reply": "2022-12-08T04:19:22.553508Z"
    }
   },
   "outputs": [],
   "source": [
    "%load_ext lab_black"
   ]
  },
  {
   "cell_type": "code",
   "execution_count": 2,
   "metadata": {
    "execution": {
     "iopub.execute_input": "2022-12-08T04:19:22.557611Z",
     "iopub.status.busy": "2022-12-08T04:19:22.556836Z",
     "iopub.status.idle": "2022-12-08T04:19:22.559411Z",
     "shell.execute_reply": "2022-12-08T04:19:22.559004Z"
    }
   },
   "outputs": [],
   "source": [
    "import os\n",
    "import pathlib"
   ]
  },
  {
   "cell_type": "code",
   "execution_count": 3,
   "metadata": {
    "execution": {
     "iopub.execute_input": "2022-12-08T04:19:22.565267Z",
     "iopub.status.busy": "2022-12-08T04:19:22.564531Z",
     "iopub.status.idle": "2022-12-08T04:19:22.566356Z",
     "shell.execute_reply": "2022-12-08T04:19:22.565955Z"
    }
   },
   "outputs": [],
   "source": [
    "this_dir = pathlib.Path(os.path.abspath(\"\"))"
   ]
  },
  {
   "cell_type": "code",
   "execution_count": 4,
   "metadata": {
    "execution": {
     "iopub.execute_input": "2022-12-08T04:19:22.569965Z",
     "iopub.status.busy": "2022-12-08T04:19:22.569025Z",
     "iopub.status.idle": "2022-12-08T04:19:22.571778Z",
     "shell.execute_reply": "2022-12-08T04:19:22.571376Z"
    }
   },
   "outputs": [],
   "source": [
    "data_dir = this_dir / \"data\""
   ]
  },
  {
   "cell_type": "code",
   "execution_count": 5,
   "metadata": {
    "execution": {
     "iopub.execute_input": "2022-12-08T04:19:22.575252Z",
     "iopub.status.busy": "2022-12-08T04:19:22.574835Z",
     "iopub.status.idle": "2022-12-08T04:19:22.946315Z",
     "shell.execute_reply": "2022-12-08T04:19:22.945510Z"
    }
   },
   "outputs": [],
   "source": [
    "import re\n",
    "import pytz\n",
    "import glob\n",
    "import requests\n",
    "import unicodedata\n",
    "import pandas as pd\n",
    "from slugify import slugify\n",
    "from bs4 import BeautifulSoup\n",
    "from datetime import datetime, date"
   ]
  },
  {
   "cell_type": "markdown",
   "metadata": {},
   "source": [
    "## Download"
   ]
  },
  {
   "cell_type": "markdown",
   "metadata": {},
   "source": [
    "Retrieve the page"
   ]
  },
  {
   "cell_type": "code",
   "execution_count": 6,
   "metadata": {
    "execution": {
     "iopub.execute_input": "2022-12-08T04:19:22.950798Z",
     "iopub.status.busy": "2022-12-08T04:19:22.949256Z",
     "iopub.status.idle": "2022-12-08T04:19:22.953201Z",
     "shell.execute_reply": "2022-12-08T04:19:22.952844Z"
    }
   },
   "outputs": [],
   "source": [
    "url = \"http://publichealth.lacounty.gov/media/Coronavirus/locations.htm\""
   ]
  },
  {
   "cell_type": "code",
   "execution_count": 7,
   "metadata": {
    "execution": {
     "iopub.execute_input": "2022-12-08T04:19:22.956649Z",
     "iopub.status.busy": "2022-12-08T04:19:22.956223Z",
     "iopub.status.idle": "2022-12-08T04:19:23.200308Z",
     "shell.execute_reply": "2022-12-08T04:19:23.199437Z"
    }
   },
   "outputs": [],
   "source": [
    "page = requests.get(url)"
   ]
  },
  {
   "cell_type": "markdown",
   "metadata": {},
   "source": [
    "## Parse"
   ]
  },
  {
   "cell_type": "code",
   "execution_count": 8,
   "metadata": {
    "execution": {
     "iopub.execute_input": "2022-12-08T04:19:23.213040Z",
     "iopub.status.busy": "2022-12-08T04:19:23.212599Z",
     "iopub.status.idle": "2022-12-08T04:19:23.385851Z",
     "shell.execute_reply": "2022-12-08T04:19:23.385435Z"
    }
   },
   "outputs": [],
   "source": [
    "soup = BeautifulSoup(page.content, \"html.parser\")"
   ]
  },
  {
   "cell_type": "markdown",
   "metadata": {},
   "source": [
    "Get content well"
   ]
  },
  {
   "cell_type": "code",
   "execution_count": 9,
   "metadata": {
    "execution": {
     "iopub.execute_input": "2022-12-08T04:19:23.392292Z",
     "iopub.status.busy": "2022-12-08T04:19:23.391489Z",
     "iopub.status.idle": "2022-12-08T04:19:23.395468Z",
     "shell.execute_reply": "2022-12-08T04:19:23.394710Z"
    }
   },
   "outputs": [],
   "source": [
    "content = soup.find(\"div\", {\"id\": \"content\"})"
   ]
  },
  {
   "cell_type": "markdown",
   "metadata": {},
   "source": [
    "Get table"
   ]
  },
  {
   "cell_type": "code",
   "execution_count": 10,
   "metadata": {
    "execution": {
     "iopub.execute_input": "2022-12-08T04:19:23.413162Z",
     "iopub.status.busy": "2022-12-08T04:19:23.407675Z",
     "iopub.status.idle": "2022-12-08T04:19:23.415986Z",
     "shell.execute_reply": "2022-12-08T04:19:23.415232Z"
    }
   },
   "outputs": [],
   "source": [
    "for tag in content.find_all(text=re.compile(\"CITY/COMMUNITY\")):\n",
    "    table = tag.findParent(\"table\")"
   ]
  },
  {
   "cell_type": "code",
   "execution_count": 11,
   "metadata": {
    "execution": {
     "iopub.execute_input": "2022-12-08T04:19:23.420700Z",
     "iopub.status.busy": "2022-12-08T04:19:23.417770Z",
     "iopub.status.idle": "2022-12-08T04:19:23.423986Z",
     "shell.execute_reply": "2022-12-08T04:19:23.423561Z"
    }
   },
   "outputs": [],
   "source": [
    "tbody = soup.tbody"
   ]
  },
  {
   "cell_type": "code",
   "execution_count": 12,
   "metadata": {
    "execution": {
     "iopub.execute_input": "2022-12-08T04:19:23.429695Z",
     "iopub.status.busy": "2022-12-08T04:19:23.429265Z",
     "iopub.status.idle": "2022-12-08T04:19:23.431741Z",
     "shell.execute_reply": "2022-12-08T04:19:23.432121Z"
    }
   },
   "outputs": [],
   "source": [
    "row_list = tbody.find_all(\"tr\")"
   ]
  },
  {
   "cell_type": "code",
   "execution_count": 13,
   "metadata": {
    "execution": {
     "iopub.execute_input": "2022-12-08T04:19:23.436004Z",
     "iopub.status.busy": "2022-12-08T04:19:23.435568Z",
     "iopub.status.idle": "2022-12-08T04:19:23.438026Z",
     "shell.execute_reply": "2022-12-08T04:19:23.438373Z"
    }
   },
   "outputs": [],
   "source": [
    "dict_list = []"
   ]
  },
  {
   "cell_type": "code",
   "execution_count": 14,
   "metadata": {
    "execution": {
     "iopub.execute_input": "2022-12-08T04:19:23.444382Z",
     "iopub.status.busy": "2022-12-08T04:19:23.443950Z",
     "iopub.status.idle": "2022-12-08T04:19:23.446455Z",
     "shell.execute_reply": "2022-12-08T04:19:23.446817Z"
    }
   },
   "outputs": [],
   "source": [
    "def safetxt(element):\n",
    "    v = element.text.strip()\n",
    "    v = v.replace(\"\\u200b\", \"\")\n",
    "    return v"
   ]
  },
  {
   "cell_type": "code",
   "execution_count": 15,
   "metadata": {
    "execution": {
     "iopub.execute_input": "2022-12-08T04:19:23.453817Z",
     "iopub.status.busy": "2022-12-08T04:19:23.453230Z",
     "iopub.status.idle": "2022-12-08T04:19:23.456272Z",
     "shell.execute_reply": "2022-12-08T04:19:23.455876Z"
    }
   },
   "outputs": [],
   "source": [
    "def safenumber(element):\n",
    "    v = safetxt(element)\n",
    "    v = v.replace(\",\", \"\")\n",
    "    v = v.replace(\" \", \"\")\n",
    "    return v"
   ]
  },
  {
   "cell_type": "code",
   "execution_count": 16,
   "metadata": {
    "execution": {
     "iopub.execute_input": "2022-12-08T04:19:23.467048Z",
     "iopub.status.busy": "2022-12-08T04:19:23.463329Z",
     "iopub.status.idle": "2022-12-08T04:19:23.474644Z",
     "shell.execute_reply": "2022-12-08T04:19:23.474237Z"
    }
   },
   "outputs": [],
   "source": [
    "for row in row_list:\n",
    "    cell_content = row.find_all(\"td\")\n",
    "    d = dict(\n",
    "        county=\"Los Angeles\",\n",
    "        area=safetxt(cell_content[0]),\n",
    "        confirmed_cases=safenumber(cell_content[1]),\n",
    "        confirmed_deaths=safenumber(cell_content[3]),\n",
    "    )\n",
    "    dict_list.append(d)"
   ]
  },
  {
   "cell_type": "code",
   "execution_count": 17,
   "metadata": {
    "execution": {
     "iopub.execute_input": "2022-12-08T04:19:23.480046Z",
     "iopub.status.busy": "2022-12-08T04:19:23.478425Z",
     "iopub.status.idle": "2022-12-08T04:19:23.482465Z",
     "shell.execute_reply": "2022-12-08T04:19:23.482093Z"
    }
   },
   "outputs": [],
   "source": [
    "df = pd.DataFrame(dict_list)"
   ]
  },
  {
   "cell_type": "markdown",
   "metadata": {},
   "source": [
    "Get timestamp"
   ]
  },
  {
   "cell_type": "code",
   "execution_count": 18,
   "metadata": {
    "execution": {
     "iopub.execute_input": "2022-12-08T04:19:23.486428Z",
     "iopub.status.busy": "2022-12-08T04:19:23.485841Z",
     "iopub.status.idle": "2022-12-08T04:19:23.489211Z",
     "shell.execute_reply": "2022-12-08T04:19:23.488666Z"
    }
   },
   "outputs": [],
   "source": [
    "date_url = \"http://publichealth.lacounty.gov/media/Coronavirus/js/casecounter.js\""
   ]
  },
  {
   "cell_type": "code",
   "execution_count": 19,
   "metadata": {
    "execution": {
     "iopub.execute_input": "2022-12-08T04:19:23.495059Z",
     "iopub.status.busy": "2022-12-08T04:19:23.490994Z",
     "iopub.status.idle": "2022-12-08T04:19:23.706778Z",
     "shell.execute_reply": "2022-12-08T04:19:23.706073Z"
    }
   },
   "outputs": [],
   "source": [
    "response = requests.get(date_url)\n",
    "date_page = response.text"
   ]
  },
  {
   "cell_type": "code",
   "execution_count": 20,
   "metadata": {
    "execution": {
     "iopub.execute_input": "2022-12-08T04:19:23.714604Z",
     "iopub.status.busy": "2022-12-08T04:19:23.713582Z",
     "iopub.status.idle": "2022-12-08T04:19:23.719298Z",
     "shell.execute_reply": "2022-12-08T04:19:23.718548Z"
    }
   },
   "outputs": [
    {
     "data": {
      "text/plain": [
       "'$( document ).ready(function() {\\r\\n    var data = {\\r\\n\\t\\t\\t\\t    \"content\": { \\r\\n\\t\\t\\r\\n\\t\\t\\t\"count\": \"3,570,525\",\\r\\n\\r\\n\\r\\n\\t\\t\\t\"death\": \"34,263\",\\r\\n\\r\\n\\t\\t\\t\"dailycount\": \"5,051\",\\r\\n\\r\\n\\r\\n\\t\\t\\t\"dailydeath\": \"12\",\\r\\n\\t\\t\\t\"hospitalizationsever\": \"162,219\",\\r\\n\\r\\n\\r\\n\\t\\t\\t\"date\": \"12/7\",\\r\\n\\t\\t\\t\"info\": \"through 12:00pm 12/6/2022\",\\r\\n\\r\\n\\t\\t\\t\"testingaverage\": \"28,846\",\\r\\n\\r\\n\\t\\t\\t\"peopletested\": \"12,752,433\",\\r\\n\\r\\n\\t\\t\\t\"positivity\": \"12.58%\",\\r\\n\\r\\n\\t\\t\\t\"hospitalizations\": \"1,293\",\\r\\n\\t\\t\\t\"datehospitalizations\": \"12/6\"\\r\\n\\r\\n\\t\\t\\t\\t}       \\r\\n\\t\\t\\t\\t};\\t\\r\\n\\t\\t\\t\\t\\r\\n\\t\\t\\t\\t\\r\\n\\t\\t\\t\\tvar content = data.content;\\r\\n\\t\\t\\t\\t\\r\\n\\t\\t\\t\\t$(\\'#ctn\\').html(content.count);\\r\\n\\t\\t\\t\\t$(\\'#det\\').html(content.death);\\r\\n\\t\\t\\t\\t$(\\'#dctn\\').html(content.dailycount);\\r\\n\\t\\t\\t\\t$(\\'#ddet\\').html(content.dailydeath);\\r\\n\\t\\t\\t\\t$(\\'#hosp_1\\').html(content.hospitalizationsever);\\r\\n\\t\\t\\t\\t$(\\'#dte\\').html(content.date);\\r\\n\\t\\t\\t\\t$(\\'#dte_1\\').html(content.date);\\r\\n\\t\\t\\t\\t$(\\'#dte_2\\').html(content.date);\\r\\n\\t\\t\\t\\t$(\\'#dte_3\\').html(content.datehospitalizations);\\r\\n\\t\\t\\t\\t$(\\'#cse\\').html(content.info);\\t\\r\\n\\t\\t\\t\\r\\n\\t\\t\\t\\t\\r\\n\\t\\t\\t\\t$(\\'#tstavg\\').html(content.testingaverage);\\t\\r\\n\\t\\t\\t\\t$(\\'#ppltst\\').html(content.peopletested);\\t\\r\\n\\t\\t\\t\\t$(\\'#pos\\').html(content.positivity);\\t\\r\\n\\t\\t\\t\\t$(\\'#hosp\\').html(content.hospitalizations);\\r\\n\\t\\t\\t\\r\\n\\t\\t\\t\\t\\t\\t\\t\\r\\n\\r\\n\\r\\n});\\r\\n\\r\\n\\r\\n\\r\\n'"
      ]
     },
     "execution_count": 20,
     "metadata": {},
     "output_type": "execute_result"
    }
   ],
   "source": [
    "date_page"
   ]
  },
  {
   "cell_type": "code",
   "execution_count": 21,
   "metadata": {
    "execution": {
     "iopub.execute_input": "2022-12-08T04:19:23.722818Z",
     "iopub.status.busy": "2022-12-08T04:19:23.722402Z",
     "iopub.status.idle": "2022-12-08T04:19:23.725197Z",
     "shell.execute_reply": "2022-12-08T04:19:23.724853Z"
    }
   },
   "outputs": [],
   "source": [
    "# date_text = re.search(r\"([0-9][0-9]/[0-9][0-9])\", date_page).group(1)\n",
    "# date_text = date_text + \"/\" + str(date.today().year)"
   ]
  },
  {
   "cell_type": "code",
   "execution_count": 22,
   "metadata": {
    "execution": {
     "iopub.execute_input": "2022-12-08T04:19:23.730387Z",
     "iopub.status.busy": "2022-12-08T04:19:23.729696Z",
     "iopub.status.idle": "2022-12-08T04:19:23.731473Z",
     "shell.execute_reply": "2022-12-08T04:19:23.731129Z"
    }
   },
   "outputs": [],
   "source": [
    "date_text = re.search(r\"through (.+?)\\\"\", date_page).group(1)"
   ]
  },
  {
   "cell_type": "code",
   "execution_count": 23,
   "metadata": {
    "execution": {
     "iopub.execute_input": "2022-12-08T04:19:23.736301Z",
     "iopub.status.busy": "2022-12-08T04:19:23.735569Z",
     "iopub.status.idle": "2022-12-08T04:19:23.737337Z",
     "shell.execute_reply": "2022-12-08T04:19:23.736997Z"
    }
   },
   "outputs": [],
   "source": [
    "date_text = date_text.split(\"m \")[0]"
   ]
  },
  {
   "cell_type": "code",
   "execution_count": 24,
   "metadata": {
    "execution": {
     "iopub.execute_input": "2022-12-08T04:19:23.742713Z",
     "iopub.status.busy": "2022-12-08T04:19:23.742016Z",
     "iopub.status.idle": "2022-12-08T04:19:23.743745Z",
     "shell.execute_reply": "2022-12-08T04:19:23.743412Z"
    }
   },
   "outputs": [],
   "source": [
    "latest_date = pd.to_datetime(date_text).date()"
   ]
  },
  {
   "cell_type": "code",
   "execution_count": 25,
   "metadata": {
    "execution": {
     "iopub.execute_input": "2022-12-08T04:19:23.749059Z",
     "iopub.status.busy": "2022-12-08T04:19:23.748208Z",
     "iopub.status.idle": "2022-12-08T04:19:23.749695Z",
     "shell.execute_reply": "2022-12-08T04:19:23.750036Z"
    }
   },
   "outputs": [],
   "source": [
    "df[\"county_date\"] = latest_date"
   ]
  },
  {
   "cell_type": "code",
   "execution_count": 26,
   "metadata": {
    "execution": {
     "iopub.execute_input": "2022-12-08T04:19:23.753976Z",
     "iopub.status.busy": "2022-12-08T04:19:23.753559Z",
     "iopub.status.idle": "2022-12-08T04:19:23.757069Z",
     "shell.execute_reply": "2022-12-08T04:19:23.756701Z"
    }
   },
   "outputs": [],
   "source": [
    "df.loc[df.area == \"-  Under Investigation\", \"area\"] = \"Under Investigation\""
   ]
  },
  {
   "cell_type": "code",
   "execution_count": 27,
   "metadata": {
    "execution": {
     "iopub.execute_input": "2022-12-08T04:19:23.760715Z",
     "iopub.status.busy": "2022-12-08T04:19:23.760306Z",
     "iopub.status.idle": "2022-12-08T04:19:23.763508Z",
     "shell.execute_reply": "2022-12-08T04:19:23.763828Z"
    }
   },
   "outputs": [],
   "source": [
    "df.loc[df.area == \"- Under Investigation\", \"area\"] = \"Under Investigation\""
   ]
  },
  {
   "cell_type": "markdown",
   "metadata": {},
   "source": [
    "## Vet"
   ]
  },
  {
   "cell_type": "code",
   "execution_count": 28,
   "metadata": {
    "execution": {
     "iopub.execute_input": "2022-12-08T04:19:23.767284Z",
     "iopub.status.busy": "2022-12-08T04:19:23.766870Z",
     "iopub.status.idle": "2022-12-08T04:19:23.770212Z",
     "shell.execute_reply": "2022-12-08T04:19:23.770534Z"
    }
   },
   "outputs": [],
   "source": [
    "try:\n",
    "    assert not len(df) > 342\n",
    "except AssertionError:\n",
    "    raise AssertionError(\"L.A. County's scraper has extra rows\")"
   ]
  },
  {
   "cell_type": "code",
   "execution_count": 29,
   "metadata": {
    "execution": {
     "iopub.execute_input": "2022-12-08T04:19:23.773648Z",
     "iopub.status.busy": "2022-12-08T04:19:23.773236Z",
     "iopub.status.idle": "2022-12-08T04:19:23.893103Z",
     "shell.execute_reply": "2022-12-08T04:19:23.892632Z"
    }
   },
   "outputs": [
    {
     "ename": "AssertionError",
     "evalue": "L.A. County's scraper is missing rows",
     "output_type": "error",
     "traceback": [
      "\u001b[0;31m---------------------------------------------------------------------------\u001b[0m",
      "\u001b[0;31mAssertionError\u001b[0m                            Traceback (most recent call last)",
      "\u001b[0;32m/tmp/ipykernel_2242/2999864733.py\u001b[0m in \u001b[0;36m<module>\u001b[0;34m\u001b[0m\n\u001b[1;32m      1\u001b[0m \u001b[0;32mtry\u001b[0m\u001b[0;34m:\u001b[0m\u001b[0;34m\u001b[0m\u001b[0;34m\u001b[0m\u001b[0m\n\u001b[0;32m----> 2\u001b[0;31m     \u001b[0;32massert\u001b[0m \u001b[0;32mnot\u001b[0m \u001b[0mlen\u001b[0m\u001b[0;34m(\u001b[0m\u001b[0mdf\u001b[0m\u001b[0;34m)\u001b[0m \u001b[0;34m<\u001b[0m \u001b[0;36m342\u001b[0m\u001b[0;34m\u001b[0m\u001b[0;34m\u001b[0m\u001b[0m\n\u001b[0m\u001b[1;32m      3\u001b[0m \u001b[0;32mexcept\u001b[0m \u001b[0mAssertionError\u001b[0m\u001b[0;34m:\u001b[0m\u001b[0;34m\u001b[0m\u001b[0;34m\u001b[0m\u001b[0m\n",
      "\u001b[0;31mAssertionError\u001b[0m: ",
      "\nDuring handling of the above exception, another exception occurred:\n",
      "\u001b[0;31mAssertionError\u001b[0m                            Traceback (most recent call last)",
      "\u001b[0;32m/tmp/ipykernel_2242/2999864733.py\u001b[0m in \u001b[0;36m<module>\u001b[0;34m\u001b[0m\n\u001b[1;32m      2\u001b[0m     \u001b[0;32massert\u001b[0m \u001b[0;32mnot\u001b[0m \u001b[0mlen\u001b[0m\u001b[0;34m(\u001b[0m\u001b[0mdf\u001b[0m\u001b[0;34m)\u001b[0m \u001b[0;34m<\u001b[0m \u001b[0;36m342\u001b[0m\u001b[0;34m\u001b[0m\u001b[0;34m\u001b[0m\u001b[0m\n\u001b[1;32m      3\u001b[0m \u001b[0;32mexcept\u001b[0m \u001b[0mAssertionError\u001b[0m\u001b[0;34m:\u001b[0m\u001b[0;34m\u001b[0m\u001b[0;34m\u001b[0m\u001b[0m\n\u001b[0;32m----> 4\u001b[0;31m     \u001b[0;32mraise\u001b[0m \u001b[0mAssertionError\u001b[0m\u001b[0;34m(\u001b[0m\u001b[0;34m\"L.A. County's scraper is missing rows\"\u001b[0m\u001b[0;34m)\u001b[0m\u001b[0;34m\u001b[0m\u001b[0;34m\u001b[0m\u001b[0m\n\u001b[0m",
      "\u001b[0;31mAssertionError\u001b[0m: L.A. County's scraper is missing rows"
     ]
    }
   ],
   "source": [
    "try:\n",
    "    assert not len(df) < 342\n",
    "except AssertionError:\n",
    "    raise AssertionError(\"L.A. County's scraper is missing rows\")"
   ]
  },
  {
   "cell_type": "markdown",
   "metadata": {},
   "source": [
    "## Export"
   ]
  },
  {
   "cell_type": "markdown",
   "metadata": {},
   "source": [
    "Set the date"
   ]
  },
  {
   "cell_type": "code",
   "execution_count": 30,
   "metadata": {},
   "outputs": [],
   "source": [
    "tz = pytz.timezone(\"America/Los_Angeles\")"
   ]
  },
  {
   "cell_type": "code",
   "execution_count": 31,
   "metadata": {},
   "outputs": [],
   "source": [
    "today = datetime.now(tz).date()"
   ]
  },
  {
   "cell_type": "code",
   "execution_count": 32,
   "metadata": {},
   "outputs": [],
   "source": [
    "slug = \"los-angeles\""
   ]
  },
  {
   "cell_type": "code",
   "execution_count": 33,
   "metadata": {},
   "outputs": [],
   "source": [
    "df.to_csv(data_dir / slug / f\"{today}.csv\", index=False)"
   ]
  },
  {
   "cell_type": "markdown",
   "metadata": {},
   "source": [
    "## Combine"
   ]
  },
  {
   "cell_type": "code",
   "execution_count": 34,
   "metadata": {},
   "outputs": [],
   "source": [
    "csv_list = [\n",
    "    i\n",
    "    for i in glob.glob(str(data_dir / slug / \"*.csv\"))\n",
    "    if not str(i).endswith(\"timeseries.csv\")\n",
    "]"
   ]
  },
  {
   "cell_type": "code",
   "execution_count": 35,
   "metadata": {},
   "outputs": [],
   "source": [
    "df_list = []\n",
    "for csv in csv_list:\n",
    "    if \"manual\" in csv:\n",
    "        df = pd.read_csv(csv, parse_dates=[\"date\"])\n",
    "    else:\n",
    "        file_date = csv.split(\"/\")[-1].replace(\".csv\", \"\")\n",
    "        df = pd.read_csv(csv, parse_dates=[\"county_date\"])\n",
    "        df[\"date\"] = file_date\n",
    "    df_list.append(df)"
   ]
  },
  {
   "cell_type": "code",
   "execution_count": 36,
   "metadata": {},
   "outputs": [],
   "source": [
    "df = pd.concat(df_list).sort_values([\"date\", \"area\"])"
   ]
  },
  {
   "cell_type": "code",
   "execution_count": 37,
   "metadata": {},
   "outputs": [],
   "source": [
    "df.to_csv(data_dir / slug / \"timeseries.csv\", index=False)"
   ]
  },
  {
   "cell_type": "code",
   "execution_count": null,
   "metadata": {},
   "outputs": [],
   "source": []
  },
  {
   "cell_type": "code",
   "execution_count": null,
   "metadata": {},
   "outputs": [],
   "source": []
  }
 ],
 "metadata": {
  "kernelspec": {
   "display_name": "Python 3 (ipykernel)",
   "language": "python",
   "name": "python3"
  },
  "language_info": {
   "codemirror_mode": {
    "name": "ipython",
    "version": 3
   },
   "file_extension": ".py",
   "mimetype": "text/x-python",
   "name": "python",
   "nbconvert_exporter": "python",
   "pygments_lexer": "ipython3",
   "version": "3.8.14"
  }
 },
 "nbformat": 4,
 "nbformat_minor": 4
}
