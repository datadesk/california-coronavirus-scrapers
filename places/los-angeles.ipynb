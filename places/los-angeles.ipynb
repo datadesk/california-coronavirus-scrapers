{
 "cells": [
  {
   "cell_type": "markdown",
   "metadata": {
    "tags": []
   },
   "source": [
    "## Configuration\n",
    "_Initial steps to get the notebook ready to play nice with our repository. Do not delete this section._"
   ]
  },
  {
   "cell_type": "markdown",
   "metadata": {},
   "source": [
    "Code formatting with [black](https://pypi.org/project/nb-black/)."
   ]
  },
  {
   "cell_type": "code",
   "execution_count": 1,
   "metadata": {
    "execution": {
     "iopub.execute_input": "2023-01-23T08:19:39.052254Z",
     "iopub.status.busy": "2023-01-23T08:19:39.051721Z",
     "iopub.status.idle": "2023-01-23T08:19:39.226339Z",
     "shell.execute_reply": "2023-01-23T08:19:39.225484Z"
    }
   },
   "outputs": [],
   "source": [
    "%load_ext lab_black"
   ]
  },
  {
   "cell_type": "code",
   "execution_count": 2,
   "metadata": {
    "execution": {
     "iopub.execute_input": "2023-01-23T08:19:39.233498Z",
     "iopub.status.busy": "2023-01-23T08:19:39.231594Z",
     "iopub.status.idle": "2023-01-23T08:19:39.234124Z",
     "shell.execute_reply": "2023-01-23T08:19:39.234534Z"
    }
   },
   "outputs": [],
   "source": [
    "import os\n",
    "import pathlib"
   ]
  },
  {
   "cell_type": "code",
   "execution_count": 3,
   "metadata": {
    "execution": {
     "iopub.execute_input": "2023-01-23T08:19:39.240905Z",
     "iopub.status.busy": "2023-01-23T08:19:39.238333Z",
     "iopub.status.idle": "2023-01-23T08:19:39.242829Z",
     "shell.execute_reply": "2023-01-23T08:19:39.242388Z"
    }
   },
   "outputs": [],
   "source": [
    "this_dir = pathlib.Path(os.path.abspath(\"\"))"
   ]
  },
  {
   "cell_type": "code",
   "execution_count": 4,
   "metadata": {
    "execution": {
     "iopub.execute_input": "2023-01-23T08:19:39.247491Z",
     "iopub.status.busy": "2023-01-23T08:19:39.246984Z",
     "iopub.status.idle": "2023-01-23T08:19:39.250240Z",
     "shell.execute_reply": "2023-01-23T08:19:39.249769Z"
    }
   },
   "outputs": [],
   "source": [
    "data_dir = this_dir / \"data\""
   ]
  },
  {
   "cell_type": "code",
   "execution_count": 5,
   "metadata": {
    "execution": {
     "iopub.execute_input": "2023-01-23T08:19:39.254231Z",
     "iopub.status.busy": "2023-01-23T08:19:39.253721Z",
     "iopub.status.idle": "2023-01-23T08:19:39.718054Z",
     "shell.execute_reply": "2023-01-23T08:19:39.717135Z"
    }
   },
   "outputs": [],
   "source": [
    "import re\n",
    "import pytz\n",
    "import glob\n",
    "import requests\n",
    "import unicodedata\n",
    "import pandas as pd\n",
    "from slugify import slugify\n",
    "from bs4 import BeautifulSoup\n",
    "from datetime import datetime, date"
   ]
  },
  {
   "cell_type": "markdown",
   "metadata": {},
   "source": [
    "## Download"
   ]
  },
  {
   "cell_type": "markdown",
   "metadata": {},
   "source": [
    "Retrieve the page"
   ]
  },
  {
   "cell_type": "code",
   "execution_count": 6,
   "metadata": {
    "execution": {
     "iopub.execute_input": "2023-01-23T08:19:39.723456Z",
     "iopub.status.busy": "2023-01-23T08:19:39.721674Z",
     "iopub.status.idle": "2023-01-23T08:19:39.726259Z",
     "shell.execute_reply": "2023-01-23T08:19:39.725807Z"
    }
   },
   "outputs": [],
   "source": [
    "url = \"http://publichealth.lacounty.gov/media/Coronavirus/locations.htm\""
   ]
  },
  {
   "cell_type": "code",
   "execution_count": 7,
   "metadata": {
    "execution": {
     "iopub.execute_input": "2023-01-23T08:19:39.734394Z",
     "iopub.status.busy": "2023-01-23T08:19:39.729754Z",
     "iopub.status.idle": "2023-01-23T08:19:40.117537Z",
     "shell.execute_reply": "2023-01-23T08:19:40.117037Z"
    }
   },
   "outputs": [],
   "source": [
    "page = requests.get(url)"
   ]
  },
  {
   "cell_type": "markdown",
   "metadata": {},
   "source": [
    "## Parse"
   ]
  },
  {
   "cell_type": "code",
   "execution_count": 8,
   "metadata": {
    "execution": {
     "iopub.execute_input": "2023-01-23T08:19:40.151516Z",
     "iopub.status.busy": "2023-01-23T08:19:40.136041Z",
     "iopub.status.idle": "2023-01-23T08:19:40.295071Z",
     "shell.execute_reply": "2023-01-23T08:19:40.294046Z"
    }
   },
   "outputs": [],
   "source": [
    "soup = BeautifulSoup(page.content, \"html.parser\")"
   ]
  },
  {
   "cell_type": "markdown",
   "metadata": {},
   "source": [
    "Get content well"
   ]
  },
  {
   "cell_type": "code",
   "execution_count": 9,
   "metadata": {
    "execution": {
     "iopub.execute_input": "2023-01-23T08:19:40.303787Z",
     "iopub.status.busy": "2023-01-23T08:19:40.303254Z",
     "iopub.status.idle": "2023-01-23T08:19:40.306300Z",
     "shell.execute_reply": "2023-01-23T08:19:40.306707Z"
    }
   },
   "outputs": [],
   "source": [
    "content = soup.find(\"div\", {\"id\": \"content\"})"
   ]
  },
  {
   "cell_type": "markdown",
   "metadata": {},
   "source": [
    "Get table"
   ]
  },
  {
   "cell_type": "code",
   "execution_count": 10,
   "metadata": {
    "execution": {
     "iopub.execute_input": "2023-01-23T08:19:40.322557Z",
     "iopub.status.busy": "2023-01-23T08:19:40.314028Z",
     "iopub.status.idle": "2023-01-23T08:19:40.327648Z",
     "shell.execute_reply": "2023-01-23T08:19:40.326853Z"
    }
   },
   "outputs": [],
   "source": [
    "for tag in content.find_all(text=re.compile(\"CITY/COMMUNITY\")):\n",
    "    table = tag.findParent(\"table\")"
   ]
  },
  {
   "cell_type": "code",
   "execution_count": 11,
   "metadata": {
    "execution": {
     "iopub.execute_input": "2023-01-23T08:19:40.334889Z",
     "iopub.status.busy": "2023-01-23T08:19:40.333165Z",
     "iopub.status.idle": "2023-01-23T08:19:40.337766Z",
     "shell.execute_reply": "2023-01-23T08:19:40.337316Z"
    }
   },
   "outputs": [],
   "source": [
    "tbody = soup.tbody"
   ]
  },
  {
   "cell_type": "code",
   "execution_count": 12,
   "metadata": {
    "execution": {
     "iopub.execute_input": "2023-01-23T08:19:40.344221Z",
     "iopub.status.busy": "2023-01-23T08:19:40.343406Z",
     "iopub.status.idle": "2023-01-23T08:19:40.349385Z",
     "shell.execute_reply": "2023-01-23T08:19:40.350171Z"
    }
   },
   "outputs": [],
   "source": [
    "row_list = tbody.find_all(\"tr\")"
   ]
  },
  {
   "cell_type": "code",
   "execution_count": 13,
   "metadata": {
    "execution": {
     "iopub.execute_input": "2023-01-23T08:19:40.354684Z",
     "iopub.status.busy": "2023-01-23T08:19:40.353690Z",
     "iopub.status.idle": "2023-01-23T08:19:40.357634Z",
     "shell.execute_reply": "2023-01-23T08:19:40.357177Z"
    }
   },
   "outputs": [],
   "source": [
    "dict_list = []"
   ]
  },
  {
   "cell_type": "code",
   "execution_count": 14,
   "metadata": {
    "execution": {
     "iopub.execute_input": "2023-01-23T08:19:40.365355Z",
     "iopub.status.busy": "2023-01-23T08:19:40.361755Z",
     "iopub.status.idle": "2023-01-23T08:19:40.368224Z",
     "shell.execute_reply": "2023-01-23T08:19:40.367660Z"
    }
   },
   "outputs": [],
   "source": [
    "def safetxt(element):\n",
    "    v = element.text.strip()\n",
    "    v = v.replace(\"\\u200b\", \"\")\n",
    "    return v"
   ]
  },
  {
   "cell_type": "code",
   "execution_count": 15,
   "metadata": {
    "execution": {
     "iopub.execute_input": "2023-01-23T08:19:40.375978Z",
     "iopub.status.busy": "2023-01-23T08:19:40.372206Z",
     "iopub.status.idle": "2023-01-23T08:19:40.378776Z",
     "shell.execute_reply": "2023-01-23T08:19:40.378327Z"
    }
   },
   "outputs": [],
   "source": [
    "def safenumber(element):\n",
    "    v = safetxt(element)\n",
    "    v = v.replace(\",\", \"\")\n",
    "    v = v.replace(\" \", \"\")\n",
    "    return v"
   ]
  },
  {
   "cell_type": "code",
   "execution_count": 16,
   "metadata": {
    "execution": {
     "iopub.execute_input": "2023-01-23T08:19:40.391598Z",
     "iopub.status.busy": "2023-01-23T08:19:40.386251Z",
     "iopub.status.idle": "2023-01-23T08:19:40.401375Z",
     "shell.execute_reply": "2023-01-23T08:19:40.401823Z"
    }
   },
   "outputs": [],
   "source": [
    "for row in row_list:\n",
    "    cell_content = row.find_all(\"td\")\n",
    "    d = dict(\n",
    "        county=\"Los Angeles\",\n",
    "        area=safetxt(cell_content[0]),\n",
    "        confirmed_cases=safenumber(cell_content[1]),\n",
    "        confirmed_deaths=safenumber(cell_content[3]),\n",
    "    )\n",
    "    dict_list.append(d)"
   ]
  },
  {
   "cell_type": "code",
   "execution_count": 17,
   "metadata": {
    "execution": {
     "iopub.execute_input": "2023-01-23T08:19:40.408766Z",
     "iopub.status.busy": "2023-01-23T08:19:40.406870Z",
     "iopub.status.idle": "2023-01-23T08:19:40.411156Z",
     "shell.execute_reply": "2023-01-23T08:19:40.411589Z"
    }
   },
   "outputs": [],
   "source": [
    "df = pd.DataFrame(dict_list)"
   ]
  },
  {
   "cell_type": "markdown",
   "metadata": {},
   "source": [
    "Get timestamp"
   ]
  },
  {
   "cell_type": "code",
   "execution_count": 18,
   "metadata": {
    "execution": {
     "iopub.execute_input": "2023-01-23T08:19:40.418049Z",
     "iopub.status.busy": "2023-01-23T08:19:40.415893Z",
     "iopub.status.idle": "2023-01-23T08:19:40.421919Z",
     "shell.execute_reply": "2023-01-23T08:19:40.420875Z"
    }
   },
   "outputs": [],
   "source": [
    "date_url = \"http://publichealth.lacounty.gov/media/Coronavirus/js/casecounter.js\""
   ]
  },
  {
   "cell_type": "code",
   "execution_count": 19,
   "metadata": {
    "execution": {
     "iopub.execute_input": "2023-01-23T08:19:40.428809Z",
     "iopub.status.busy": "2023-01-23T08:19:40.428294Z",
     "iopub.status.idle": "2023-01-23T08:19:40.627796Z",
     "shell.execute_reply": "2023-01-23T08:19:40.627285Z"
    }
   },
   "outputs": [],
   "source": [
    "response = requests.get(date_url)\n",
    "date_page = response.text"
   ]
  },
  {
   "cell_type": "code",
   "execution_count": 20,
   "metadata": {
    "execution": {
     "iopub.execute_input": "2023-01-23T08:19:40.637757Z",
     "iopub.status.busy": "2023-01-23T08:19:40.637242Z",
     "iopub.status.idle": "2023-01-23T08:19:40.643810Z",
     "shell.execute_reply": "2023-01-23T08:19:40.644245Z"
    }
   },
   "outputs": [
    {
     "data": {
      "text/plain": [
       "'$( document ).ready(function() {\\r\\n    var data = {\\r\\n\\t\\t\\t\\t    \"content\": { \\r\\n\\t\\t\\r\\n\\t\\t\\t\"count\": \"3,665,365\",\\r\\n\\r\\n\\r\\n\\t\\t\\t\"death\": \"35,079\",\\r\\n\\r\\n\\t\\t\\t\"dailycount\": \"1,502\",\\r\\n\\r\\n\\r\\n\\t\\t\\t\"dailydeath\": \"31\",\\r\\n\\t\\t\\t\"hospitalizationsever\": \"169,328\",\\r\\n\\r\\n\\r\\n\\t\\t\\t\"date\": \"01/19/23\",\\r\\n\\t\\t\\t\"info\": \"through 12:00pm 01/18/2023\",\\r\\n\\r\\n\\t\\t\\t\"testingaverage\": \"24,421\",\\r\\n\\r\\n\\t\\t\\t\"peopletested\": \"12,863,504\",\\r\\n\\r\\n\\t\\t\\t\"positivity\": \"6.35%\",\\r\\n\\r\\n\\t\\t\\t\"hospitalizations\": \"918\",\\r\\n\\t\\t\\t\"datehospitalizations\": \"01/18/23\"\\r\\n\\r\\n\\t\\t\\t\\t}       \\r\\n\\t\\t\\t\\t};\\t\\r\\n\\t\\t\\t\\t\\r\\n\\t\\t\\t\\t\\r\\n\\t\\t\\t\\tvar content = data.content;\\r\\n\\t\\t\\t\\t\\r\\n\\t\\t\\t\\t$(\\'#ctn\\').html(content.count);\\r\\n\\t\\t\\t\\t$(\\'#det\\').html(content.death);\\r\\n\\t\\t\\t\\t$(\\'#dctn\\').html(content.dailycount);\\r\\n\\t\\t\\t\\t$(\\'#ddet\\').html(content.dailydeath);\\r\\n\\t\\t\\t\\t$(\\'#hosp_1\\').html(content.hospitalizationsever);\\r\\n\\t\\t\\t\\t$(\\'#dte\\').html(content.date);\\r\\n\\t\\t\\t\\t$(\\'#dte_1\\').html(content.date);\\r\\n\\t\\t\\t\\t$(\\'#dte_2\\').html(content.date);\\r\\n\\t\\t\\t\\t$(\\'#dte_3\\').html(content.datehospitalizations);\\r\\n\\t\\t\\t\\t$(\\'#cse\\').html(content.info);\\t\\r\\n\\t\\t\\t\\r\\n\\t\\t\\t\\t\\r\\n\\t\\t\\t\\t$(\\'#tstavg\\').html(content.testingaverage);\\t\\r\\n\\t\\t\\t\\t$(\\'#ppltst\\').html(content.peopletested);\\t\\r\\n\\t\\t\\t\\t$(\\'#pos\\').html(content.positivity);\\t\\r\\n\\t\\t\\t\\t$(\\'#hosp\\').html(content.hospitalizations);\\r\\n\\t\\t\\t\\r\\n\\t\\t\\t\\t\\t\\t\\t\\r\\n\\r\\n\\r\\n});\\r\\n\\r\\n\\r\\n\\r\\n'"
      ]
     },
     "execution_count": 20,
     "metadata": {},
     "output_type": "execute_result"
    }
   ],
   "source": [
    "date_page"
   ]
  },
  {
   "cell_type": "code",
   "execution_count": 21,
   "metadata": {
    "execution": {
     "iopub.execute_input": "2023-01-23T08:19:40.648426Z",
     "iopub.status.busy": "2023-01-23T08:19:40.647907Z",
     "iopub.status.idle": "2023-01-23T08:19:40.651127Z",
     "shell.execute_reply": "2023-01-23T08:19:40.650679Z"
    }
   },
   "outputs": [],
   "source": [
    "# date_text = re.search(r\"([0-9][0-9]/[0-9][0-9])\", date_page).group(1)\n",
    "# date_text = date_text + \"/\" + str(date.today().year)"
   ]
  },
  {
   "cell_type": "code",
   "execution_count": 22,
   "metadata": {
    "execution": {
     "iopub.execute_input": "2023-01-23T08:19:40.656841Z",
     "iopub.status.busy": "2023-01-23T08:19:40.656326Z",
     "iopub.status.idle": "2023-01-23T08:19:40.659614Z",
     "shell.execute_reply": "2023-01-23T08:19:40.659183Z"
    }
   },
   "outputs": [],
   "source": [
    "date_text = re.search(r\"through (.+?)\\\"\", date_page).group(1)"
   ]
  },
  {
   "cell_type": "code",
   "execution_count": 23,
   "metadata": {
    "execution": {
     "iopub.execute_input": "2023-01-23T08:19:40.663556Z",
     "iopub.status.busy": "2023-01-23T08:19:40.663042Z",
     "iopub.status.idle": "2023-01-23T08:19:40.666281Z",
     "shell.execute_reply": "2023-01-23T08:19:40.666685Z"
    }
   },
   "outputs": [],
   "source": [
    "date_text = date_text.split(\"m \")[0]"
   ]
  },
  {
   "cell_type": "code",
   "execution_count": 24,
   "metadata": {
    "execution": {
     "iopub.execute_input": "2023-01-23T08:19:40.673202Z",
     "iopub.status.busy": "2023-01-23T08:19:40.668666Z",
     "iopub.status.idle": "2023-01-23T08:19:40.675310Z",
     "shell.execute_reply": "2023-01-23T08:19:40.674821Z"
    }
   },
   "outputs": [],
   "source": [
    "latest_date = pd.to_datetime(date_text).date()"
   ]
  },
  {
   "cell_type": "code",
   "execution_count": 25,
   "metadata": {
    "execution": {
     "iopub.execute_input": "2023-01-23T08:19:40.679614Z",
     "iopub.status.busy": "2023-01-23T08:19:40.679108Z",
     "iopub.status.idle": "2023-01-23T08:19:40.682592Z",
     "shell.execute_reply": "2023-01-23T08:19:40.682163Z"
    }
   },
   "outputs": [],
   "source": [
    "df[\"county_date\"] = latest_date"
   ]
  },
  {
   "cell_type": "code",
   "execution_count": 26,
   "metadata": {
    "execution": {
     "iopub.execute_input": "2023-01-23T08:19:40.687335Z",
     "iopub.status.busy": "2023-01-23T08:19:40.686822Z",
     "iopub.status.idle": "2023-01-23T08:19:40.691490Z",
     "shell.execute_reply": "2023-01-23T08:19:40.691921Z"
    }
   },
   "outputs": [],
   "source": [
    "df.loc[df.area == \"-  Under Investigation\", \"area\"] = \"Under Investigation\""
   ]
  },
  {
   "cell_type": "code",
   "execution_count": 27,
   "metadata": {
    "execution": {
     "iopub.execute_input": "2023-01-23T08:19:40.698656Z",
     "iopub.status.busy": "2023-01-23T08:19:40.698119Z",
     "iopub.status.idle": "2023-01-23T08:19:40.700553Z",
     "shell.execute_reply": "2023-01-23T08:19:40.700099Z"
    }
   },
   "outputs": [],
   "source": [
    "df.loc[df.area == \"- Under Investigation\", \"area\"] = \"Under Investigation\""
   ]
  },
  {
   "cell_type": "markdown",
   "metadata": {},
   "source": [
    "## Vet"
   ]
  },
  {
   "cell_type": "code",
   "execution_count": 28,
   "metadata": {
    "execution": {
     "iopub.execute_input": "2023-01-23T08:19:40.704808Z",
     "iopub.status.busy": "2023-01-23T08:19:40.704281Z",
     "iopub.status.idle": "2023-01-23T08:19:40.707939Z",
     "shell.execute_reply": "2023-01-23T08:19:40.708353Z"
    }
   },
   "outputs": [],
   "source": [
    "try:\n",
    "    assert not len(df) > 342\n",
    "except AssertionError:\n",
    "    raise AssertionError(\"L.A. County's scraper has extra rows\")"
   ]
  },
  {
   "cell_type": "code",
   "execution_count": 29,
   "metadata": {
    "execution": {
     "iopub.execute_input": "2023-01-23T08:19:40.712659Z",
     "iopub.status.busy": "2023-01-23T08:19:40.712125Z",
     "iopub.status.idle": "2023-01-23T08:19:40.858255Z",
     "shell.execute_reply": "2023-01-23T08:19:40.856451Z"
    }
   },
   "outputs": [
    {
     "ename": "AssertionError",
     "evalue": "L.A. County's scraper is missing rows",
     "output_type": "error",
     "traceback": [
      "\u001b[0;31m---------------------------------------------------------------------------\u001b[0m",
      "\u001b[0;31mAssertionError\u001b[0m                            Traceback (most recent call last)",
      "\u001b[0;32m/tmp/ipykernel_2206/2999864733.py\u001b[0m in \u001b[0;36m<module>\u001b[0;34m\u001b[0m\n\u001b[1;32m      1\u001b[0m \u001b[0;32mtry\u001b[0m\u001b[0;34m:\u001b[0m\u001b[0;34m\u001b[0m\u001b[0;34m\u001b[0m\u001b[0m\n\u001b[0;32m----> 2\u001b[0;31m     \u001b[0;32massert\u001b[0m \u001b[0;32mnot\u001b[0m \u001b[0mlen\u001b[0m\u001b[0;34m(\u001b[0m\u001b[0mdf\u001b[0m\u001b[0;34m)\u001b[0m \u001b[0;34m<\u001b[0m \u001b[0;36m342\u001b[0m\u001b[0;34m\u001b[0m\u001b[0;34m\u001b[0m\u001b[0m\n\u001b[0m\u001b[1;32m      3\u001b[0m \u001b[0;32mexcept\u001b[0m \u001b[0mAssertionError\u001b[0m\u001b[0;34m:\u001b[0m\u001b[0;34m\u001b[0m\u001b[0;34m\u001b[0m\u001b[0m\n",
      "\u001b[0;31mAssertionError\u001b[0m: ",
      "\nDuring handling of the above exception, another exception occurred:\n",
      "\u001b[0;31mAssertionError\u001b[0m                            Traceback (most recent call last)",
      "\u001b[0;32m/tmp/ipykernel_2206/2999864733.py\u001b[0m in \u001b[0;36m<module>\u001b[0;34m\u001b[0m\n\u001b[1;32m      2\u001b[0m     \u001b[0;32massert\u001b[0m \u001b[0;32mnot\u001b[0m \u001b[0mlen\u001b[0m\u001b[0;34m(\u001b[0m\u001b[0mdf\u001b[0m\u001b[0;34m)\u001b[0m \u001b[0;34m<\u001b[0m \u001b[0;36m342\u001b[0m\u001b[0;34m\u001b[0m\u001b[0;34m\u001b[0m\u001b[0m\n\u001b[1;32m      3\u001b[0m \u001b[0;32mexcept\u001b[0m \u001b[0mAssertionError\u001b[0m\u001b[0;34m:\u001b[0m\u001b[0;34m\u001b[0m\u001b[0;34m\u001b[0m\u001b[0m\n\u001b[0;32m----> 4\u001b[0;31m     \u001b[0;32mraise\u001b[0m \u001b[0mAssertionError\u001b[0m\u001b[0;34m(\u001b[0m\u001b[0;34m\"L.A. County's scraper is missing rows\"\u001b[0m\u001b[0;34m)\u001b[0m\u001b[0;34m\u001b[0m\u001b[0;34m\u001b[0m\u001b[0m\n\u001b[0m",
      "\u001b[0;31mAssertionError\u001b[0m: L.A. County's scraper is missing rows"
     ]
    }
   ],
   "source": [
    "try:\n",
    "    assert not len(df) < 342\n",
    "except AssertionError:\n",
    "    raise AssertionError(\"L.A. County's scraper is missing rows\")"
   ]
  },
  {
   "cell_type": "markdown",
   "metadata": {},
   "source": [
    "## Export"
   ]
  },
  {
   "cell_type": "markdown",
   "metadata": {},
   "source": [
    "Set the date"
   ]
  },
  {
   "cell_type": "code",
   "execution_count": 67,
   "metadata": {},
   "outputs": [],
   "source": [
    "tz = pytz.timezone(\"America/Los_Angeles\")"
   ]
  },
  {
   "cell_type": "code",
   "execution_count": 68,
   "metadata": {},
   "outputs": [],
   "source": [
    "today = datetime.now(tz).date()"
   ]
  },
  {
   "cell_type": "code",
   "execution_count": 69,
   "metadata": {},
   "outputs": [],
   "source": [
    "slug = \"los-angeles\""
   ]
  },
  {
   "cell_type": "code",
   "execution_count": 70,
   "metadata": {},
   "outputs": [],
   "source": [
    "df.to_csv(data_dir / slug / f\"{today}.csv\", index=False)"
   ]
  },
  {
   "cell_type": "markdown",
   "metadata": {},
   "source": [
    "## Combine"
   ]
  },
  {
   "cell_type": "code",
   "execution_count": 71,
   "metadata": {},
   "outputs": [],
   "source": [
    "csv_list = [\n",
    "    i\n",
    "    for i in glob.glob(str(data_dir / slug / \"*.csv\"))\n",
    "    if not str(i).endswith(\"timeseries.csv\")\n",
    "]"
   ]
  },
  {
   "cell_type": "code",
   "execution_count": 72,
   "metadata": {},
   "outputs": [],
   "source": [
    "df_list = []\n",
    "for csv in csv_list:\n",
    "    if \"manual\" in csv:\n",
    "        df = pd.read_csv(csv, parse_dates=[\"date\"])\n",
    "    else:\n",
    "        file_date = csv.split(\"/\")[-1].replace(\".csv\", \"\")\n",
    "        df = pd.read_csv(csv, parse_dates=[\"county_date\"])\n",
    "        df[\"date\"] = file_date\n",
    "    df_list.append(df)"
   ]
  },
  {
   "cell_type": "code",
   "execution_count": 73,
   "metadata": {},
   "outputs": [],
   "source": [
    "df = pd.concat(df_list).sort_values([\"date\", \"area\"])"
   ]
  },
  {
   "cell_type": "code",
   "execution_count": 74,
   "metadata": {},
   "outputs": [],
   "source": [
    "df.to_csv(data_dir / slug / \"timeseries.csv\", index=False)"
   ]
  },
  {
   "cell_type": "code",
   "execution_count": null,
   "metadata": {},
   "outputs": [],
   "source": []
  },
  {
   "cell_type": "code",
   "execution_count": null,
   "metadata": {},
   "outputs": [],
   "source": []
  }
 ],
 "metadata": {
  "kernelspec": {
   "display_name": "Python 3 (ipykernel)",
   "language": "python",
   "name": "python3"
  },
  "language_info": {
   "codemirror_mode": {
    "name": "ipython",
    "version": 3
   },
   "file_extension": ".py",
   "mimetype": "text/x-python",
   "name": "python",
   "nbconvert_exporter": "python",
   "pygments_lexer": "ipython3",
   "version": "3.8.16"
  }
 },
 "nbformat": 4,
 "nbformat_minor": 4
}
