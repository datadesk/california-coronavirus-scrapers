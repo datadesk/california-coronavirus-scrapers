{
 "cells": [
  {
   "cell_type": "markdown",
   "metadata": {
    "tags": []
   },
   "source": [
    "## Configuration\n",
    "_Initial steps to get the notebook ready to play nice with our repository. Do not delete this section._"
   ]
  },
  {
   "cell_type": "markdown",
   "metadata": {},
   "source": [
    "Code formatting with [black](https://pypi.org/project/nb-black/)."
   ]
  },
  {
   "cell_type": "code",
   "execution_count": 1,
   "metadata": {
    "execution": {
     "iopub.execute_input": "2023-01-12T16:56:12.681728Z",
     "iopub.status.busy": "2023-01-12T16:56:12.680439Z",
     "iopub.status.idle": "2023-01-12T16:56:12.840534Z",
     "shell.execute_reply": "2023-01-12T16:56:12.839378Z"
    }
   },
   "outputs": [],
   "source": [
    "%load_ext lab_black"
   ]
  },
  {
   "cell_type": "code",
   "execution_count": 2,
   "metadata": {
    "execution": {
     "iopub.execute_input": "2023-01-12T16:56:12.845410Z",
     "iopub.status.busy": "2023-01-12T16:56:12.844871Z",
     "iopub.status.idle": "2023-01-12T16:56:12.847929Z",
     "shell.execute_reply": "2023-01-12T16:56:12.848362Z"
    }
   },
   "outputs": [],
   "source": [
    "import os\n",
    "import pathlib"
   ]
  },
  {
   "cell_type": "code",
   "execution_count": 3,
   "metadata": {
    "execution": {
     "iopub.execute_input": "2023-01-12T16:56:12.854827Z",
     "iopub.status.busy": "2023-01-12T16:56:12.851485Z",
     "iopub.status.idle": "2023-01-12T16:56:12.856949Z",
     "shell.execute_reply": "2023-01-12T16:56:12.857352Z"
    }
   },
   "outputs": [],
   "source": [
    "this_dir = pathlib.Path(os.path.abspath(\"\"))"
   ]
  },
  {
   "cell_type": "code",
   "execution_count": 4,
   "metadata": {
    "execution": {
     "iopub.execute_input": "2023-01-12T16:56:12.861842Z",
     "iopub.status.busy": "2023-01-12T16:56:12.860678Z",
     "iopub.status.idle": "2023-01-12T16:56:12.864511Z",
     "shell.execute_reply": "2023-01-12T16:56:12.864090Z"
    }
   },
   "outputs": [],
   "source": [
    "data_dir = this_dir / \"data\""
   ]
  },
  {
   "cell_type": "code",
   "execution_count": 5,
   "metadata": {
    "execution": {
     "iopub.execute_input": "2023-01-12T16:56:12.869336Z",
     "iopub.status.busy": "2023-01-12T16:56:12.868273Z",
     "iopub.status.idle": "2023-01-12T16:56:13.333022Z",
     "shell.execute_reply": "2023-01-12T16:56:13.332107Z"
    }
   },
   "outputs": [],
   "source": [
    "import re\n",
    "import pytz\n",
    "import glob\n",
    "import requests\n",
    "import unicodedata\n",
    "import pandas as pd\n",
    "from slugify import slugify\n",
    "from bs4 import BeautifulSoup\n",
    "from datetime import datetime, date"
   ]
  },
  {
   "cell_type": "markdown",
   "metadata": {},
   "source": [
    "## Download"
   ]
  },
  {
   "cell_type": "markdown",
   "metadata": {},
   "source": [
    "Retrieve the page"
   ]
  },
  {
   "cell_type": "code",
   "execution_count": 6,
   "metadata": {
    "execution": {
     "iopub.execute_input": "2023-01-12T16:56:13.337036Z",
     "iopub.status.busy": "2023-01-12T16:56:13.335477Z",
     "iopub.status.idle": "2023-01-12T16:56:13.340775Z",
     "shell.execute_reply": "2023-01-12T16:56:13.339972Z"
    }
   },
   "outputs": [],
   "source": [
    "url = \"http://publichealth.lacounty.gov/media/Coronavirus/locations.htm\""
   ]
  },
  {
   "cell_type": "code",
   "execution_count": 7,
   "metadata": {
    "execution": {
     "iopub.execute_input": "2023-01-12T16:56:13.348720Z",
     "iopub.status.busy": "2023-01-12T16:56:13.344185Z",
     "iopub.status.idle": "2023-01-12T16:56:13.450126Z",
     "shell.execute_reply": "2023-01-12T16:56:13.449595Z"
    }
   },
   "outputs": [],
   "source": [
    "page = requests.get(url)"
   ]
  },
  {
   "cell_type": "markdown",
   "metadata": {},
   "source": [
    "## Parse"
   ]
  },
  {
   "cell_type": "code",
   "execution_count": 8,
   "metadata": {
    "execution": {
     "iopub.execute_input": "2023-01-12T16:56:13.459227Z",
     "iopub.status.busy": "2023-01-12T16:56:13.452912Z",
     "iopub.status.idle": "2023-01-12T16:56:13.633563Z",
     "shell.execute_reply": "2023-01-12T16:56:13.633077Z"
    }
   },
   "outputs": [],
   "source": [
    "soup = BeautifulSoup(page.content, \"html.parser\")"
   ]
  },
  {
   "cell_type": "markdown",
   "metadata": {},
   "source": [
    "Get content well"
   ]
  },
  {
   "cell_type": "code",
   "execution_count": 9,
   "metadata": {
    "execution": {
     "iopub.execute_input": "2023-01-12T16:56:13.641215Z",
     "iopub.status.busy": "2023-01-12T16:56:13.638881Z",
     "iopub.status.idle": "2023-01-12T16:56:13.644287Z",
     "shell.execute_reply": "2023-01-12T16:56:13.643386Z"
    }
   },
   "outputs": [],
   "source": [
    "content = soup.find(\"div\", {\"id\": \"content\"})"
   ]
  },
  {
   "cell_type": "markdown",
   "metadata": {},
   "source": [
    "Get table"
   ]
  },
  {
   "cell_type": "code",
   "execution_count": 10,
   "metadata": {
    "execution": {
     "iopub.execute_input": "2023-01-12T16:56:13.661204Z",
     "iopub.status.busy": "2023-01-12T16:56:13.659437Z",
     "iopub.status.idle": "2023-01-12T16:56:13.664897Z",
     "shell.execute_reply": "2023-01-12T16:56:13.664579Z"
    }
   },
   "outputs": [],
   "source": [
    "for tag in content.find_all(text=re.compile(\"CITY/COMMUNITY\")):\n",
    "    table = tag.findParent(\"table\")"
   ]
  },
  {
   "cell_type": "code",
   "execution_count": 11,
   "metadata": {
    "execution": {
     "iopub.execute_input": "2023-01-12T16:56:13.670671Z",
     "iopub.status.busy": "2023-01-12T16:56:13.669012Z",
     "iopub.status.idle": "2023-01-12T16:56:13.673089Z",
     "shell.execute_reply": "2023-01-12T16:56:13.673487Z"
    }
   },
   "outputs": [],
   "source": [
    "tbody = soup.tbody"
   ]
  },
  {
   "cell_type": "code",
   "execution_count": 12,
   "metadata": {
    "execution": {
     "iopub.execute_input": "2023-01-12T16:56:13.680420Z",
     "iopub.status.busy": "2023-01-12T16:56:13.679591Z",
     "iopub.status.idle": "2023-01-12T16:56:13.683189Z",
     "shell.execute_reply": "2023-01-12T16:56:13.682706Z"
    }
   },
   "outputs": [],
   "source": [
    "row_list = tbody.find_all(\"tr\")"
   ]
  },
  {
   "cell_type": "code",
   "execution_count": 13,
   "metadata": {
    "execution": {
     "iopub.execute_input": "2023-01-12T16:56:13.688034Z",
     "iopub.status.busy": "2023-01-12T16:56:13.687522Z",
     "iopub.status.idle": "2023-01-12T16:56:13.690279Z",
     "shell.execute_reply": "2023-01-12T16:56:13.690658Z"
    }
   },
   "outputs": [],
   "source": [
    "dict_list = []"
   ]
  },
  {
   "cell_type": "code",
   "execution_count": 14,
   "metadata": {
    "execution": {
     "iopub.execute_input": "2023-01-12T16:56:13.699811Z",
     "iopub.status.busy": "2023-01-12T16:56:13.698267Z",
     "iopub.status.idle": "2023-01-12T16:56:13.702825Z",
     "shell.execute_reply": "2023-01-12T16:56:13.702316Z"
    }
   },
   "outputs": [],
   "source": [
    "def safetxt(element):\n",
    "    v = element.text.strip()\n",
    "    v = v.replace(\"\\u200b\", \"\")\n",
    "    return v"
   ]
  },
  {
   "cell_type": "code",
   "execution_count": 15,
   "metadata": {
    "execution": {
     "iopub.execute_input": "2023-01-12T16:56:13.707413Z",
     "iopub.status.busy": "2023-01-12T16:56:13.706533Z",
     "iopub.status.idle": "2023-01-12T16:56:13.714523Z",
     "shell.execute_reply": "2023-01-12T16:56:13.714100Z"
    }
   },
   "outputs": [],
   "source": [
    "def safenumber(element):\n",
    "    v = safetxt(element)\n",
    "    v = v.replace(\",\", \"\")\n",
    "    v = v.replace(\" \", \"\")\n",
    "    return v"
   ]
  },
  {
   "cell_type": "code",
   "execution_count": 16,
   "metadata": {
    "execution": {
     "iopub.execute_input": "2023-01-12T16:56:13.728214Z",
     "iopub.status.busy": "2023-01-12T16:56:13.727139Z",
     "iopub.status.idle": "2023-01-12T16:56:13.737835Z",
     "shell.execute_reply": "2023-01-12T16:56:13.737028Z"
    }
   },
   "outputs": [],
   "source": [
    "for row in row_list:\n",
    "    cell_content = row.find_all(\"td\")\n",
    "    d = dict(\n",
    "        county=\"Los Angeles\",\n",
    "        area=safetxt(cell_content[0]),\n",
    "        confirmed_cases=safenumber(cell_content[1]),\n",
    "        confirmed_deaths=safenumber(cell_content[3]),\n",
    "    )\n",
    "    dict_list.append(d)"
   ]
  },
  {
   "cell_type": "code",
   "execution_count": 17,
   "metadata": {
    "execution": {
     "iopub.execute_input": "2023-01-12T16:56:13.744926Z",
     "iopub.status.busy": "2023-01-12T16:56:13.743183Z",
     "iopub.status.idle": "2023-01-12T16:56:13.748080Z",
     "shell.execute_reply": "2023-01-12T16:56:13.747152Z"
    }
   },
   "outputs": [],
   "source": [
    "df = pd.DataFrame(dict_list)"
   ]
  },
  {
   "cell_type": "markdown",
   "metadata": {},
   "source": [
    "Get timestamp"
   ]
  },
  {
   "cell_type": "code",
   "execution_count": 18,
   "metadata": {
    "execution": {
     "iopub.execute_input": "2023-01-12T16:56:13.754253Z",
     "iopub.status.busy": "2023-01-12T16:56:13.751468Z",
     "iopub.status.idle": "2023-01-12T16:56:13.756725Z",
     "shell.execute_reply": "2023-01-12T16:56:13.757168Z"
    }
   },
   "outputs": [],
   "source": [
    "date_url = \"http://publichealth.lacounty.gov/media/Coronavirus/js/casecounter.js\""
   ]
  },
  {
   "cell_type": "code",
   "execution_count": 19,
   "metadata": {
    "execution": {
     "iopub.execute_input": "2023-01-12T16:56:13.765496Z",
     "iopub.status.busy": "2023-01-12T16:56:13.761267Z",
     "iopub.status.idle": "2023-01-12T16:56:14.105258Z",
     "shell.execute_reply": "2023-01-12T16:56:14.104407Z"
    }
   },
   "outputs": [],
   "source": [
    "response = requests.get(date_url)\n",
    "date_page = response.text"
   ]
  },
  {
   "cell_type": "code",
   "execution_count": 20,
   "metadata": {
    "execution": {
     "iopub.execute_input": "2023-01-12T16:56:14.115244Z",
     "iopub.status.busy": "2023-01-12T16:56:14.113058Z",
     "iopub.status.idle": "2023-01-12T16:56:14.121952Z",
     "shell.execute_reply": "2023-01-12T16:56:14.121483Z"
    }
   },
   "outputs": [
    {
     "data": {
      "text/plain": [
       "'$( document ).ready(function() {\\r\\n    var data = {\\r\\n\\t\\t\\t\\t    \"content\": { \\r\\n\\t\\t\\r\\n\\t\\t\\t\"count\": \"3,656,051\",\\r\\n\\r\\n\\r\\n\\t\\t\\t\"death\": \"34,917\",\\r\\n\\r\\n\\t\\t\\t\"dailycount\": \"2,616\",\\r\\n\\r\\n\\r\\n\\t\\t\\t\"dailydeath\": \"30\",\\r\\n\\t\\t\\t\"hospitalizationsever\": \"168,376\",\\r\\n\\r\\n\\r\\n\\t\\t\\t\"date\": \"01/11/23\",\\r\\n\\t\\t\\t\"info\": \"through 12:00pm 01/10/2023\",\\r\\n\\r\\n\\t\\t\\t\"testingaverage\": \"19,734\",\\r\\n\\r\\n\\t\\t\\t\"peopletested\": \"12,847,179\",\\r\\n\\r\\n\\t\\t\\t\"positivity\": \"11.35%\",\\r\\n\\r\\n\\t\\t\\t\"hospitalizations\": \"1,128\",\\r\\n\\t\\t\\t\"datehospitalizations\": \"01/10/23\"\\r\\n\\r\\n\\t\\t\\t\\t}       \\r\\n\\t\\t\\t\\t};\\t\\r\\n\\t\\t\\t\\t\\r\\n\\t\\t\\t\\t\\r\\n\\t\\t\\t\\tvar content = data.content;\\r\\n\\t\\t\\t\\t\\r\\n\\t\\t\\t\\t$(\\'#ctn\\').html(content.count);\\r\\n\\t\\t\\t\\t$(\\'#det\\').html(content.death);\\r\\n\\t\\t\\t\\t$(\\'#dctn\\').html(content.dailycount);\\r\\n\\t\\t\\t\\t$(\\'#ddet\\').html(content.dailydeath);\\r\\n\\t\\t\\t\\t$(\\'#hosp_1\\').html(content.hospitalizationsever);\\r\\n\\t\\t\\t\\t$(\\'#dte\\').html(content.date);\\r\\n\\t\\t\\t\\t$(\\'#dte_1\\').html(content.date);\\r\\n\\t\\t\\t\\t$(\\'#dte_2\\').html(content.date);\\r\\n\\t\\t\\t\\t$(\\'#dte_3\\').html(content.datehospitalizations);\\r\\n\\t\\t\\t\\t$(\\'#cse\\').html(content.info);\\t\\r\\n\\t\\t\\t\\r\\n\\t\\t\\t\\t\\r\\n\\t\\t\\t\\t$(\\'#tstavg\\').html(content.testingaverage);\\t\\r\\n\\t\\t\\t\\t$(\\'#ppltst\\').html(content.peopletested);\\t\\r\\n\\t\\t\\t\\t$(\\'#pos\\').html(content.positivity);\\t\\r\\n\\t\\t\\t\\t$(\\'#hosp\\').html(content.hospitalizations);\\r\\n\\t\\t\\t\\r\\n\\t\\t\\t\\t\\t\\t\\t\\r\\n\\r\\n\\r\\n});\\r\\n\\r\\n\\r\\n\\r\\n'"
      ]
     },
     "execution_count": 20,
     "metadata": {},
     "output_type": "execute_result"
    }
   ],
   "source": [
    "date_page"
   ]
  },
  {
   "cell_type": "code",
   "execution_count": 21,
   "metadata": {
    "execution": {
     "iopub.execute_input": "2023-01-12T16:56:14.127348Z",
     "iopub.status.busy": "2023-01-12T16:56:14.126105Z",
     "iopub.status.idle": "2023-01-12T16:56:14.127906Z",
     "shell.execute_reply": "2023-01-12T16:56:14.128306Z"
    }
   },
   "outputs": [],
   "source": [
    "# date_text = re.search(r\"([0-9][0-9]/[0-9][0-9])\", date_page).group(1)\n",
    "# date_text = date_text + \"/\" + str(date.today().year)"
   ]
  },
  {
   "cell_type": "code",
   "execution_count": 22,
   "metadata": {
    "execution": {
     "iopub.execute_input": "2023-01-12T16:56:14.134075Z",
     "iopub.status.busy": "2023-01-12T16:56:14.130438Z",
     "iopub.status.idle": "2023-01-12T16:56:14.136094Z",
     "shell.execute_reply": "2023-01-12T16:56:14.135664Z"
    }
   },
   "outputs": [],
   "source": [
    "date_text = re.search(r\"through (.+?)\\\"\", date_page).group(1)"
   ]
  },
  {
   "cell_type": "code",
   "execution_count": 23,
   "metadata": {
    "execution": {
     "iopub.execute_input": "2023-01-12T16:56:14.139947Z",
     "iopub.status.busy": "2023-01-12T16:56:14.139428Z",
     "iopub.status.idle": "2023-01-12T16:56:14.143219Z",
     "shell.execute_reply": "2023-01-12T16:56:14.142815Z"
    }
   },
   "outputs": [],
   "source": [
    "date_text = date_text.split(\"m \")[0]"
   ]
  },
  {
   "cell_type": "code",
   "execution_count": 24,
   "metadata": {
    "execution": {
     "iopub.execute_input": "2023-01-12T16:56:14.149362Z",
     "iopub.status.busy": "2023-01-12T16:56:14.148837Z",
     "iopub.status.idle": "2023-01-12T16:56:14.151808Z",
     "shell.execute_reply": "2023-01-12T16:56:14.152248Z"
    }
   },
   "outputs": [],
   "source": [
    "latest_date = pd.to_datetime(date_text).date()"
   ]
  },
  {
   "cell_type": "code",
   "execution_count": 25,
   "metadata": {
    "execution": {
     "iopub.execute_input": "2023-01-12T16:56:14.158315Z",
     "iopub.status.busy": "2023-01-12T16:56:14.157785Z",
     "iopub.status.idle": "2023-01-12T16:56:14.161573Z",
     "shell.execute_reply": "2023-01-12T16:56:14.160664Z"
    }
   },
   "outputs": [],
   "source": [
    "df[\"county_date\"] = latest_date"
   ]
  },
  {
   "cell_type": "code",
   "execution_count": 26,
   "metadata": {
    "execution": {
     "iopub.execute_input": "2023-01-12T16:56:14.166508Z",
     "iopub.status.busy": "2023-01-12T16:56:14.165993Z",
     "iopub.status.idle": "2023-01-12T16:56:14.171101Z",
     "shell.execute_reply": "2023-01-12T16:56:14.170634Z"
    }
   },
   "outputs": [],
   "source": [
    "df.loc[df.area == \"-  Under Investigation\", \"area\"] = \"Under Investigation\""
   ]
  },
  {
   "cell_type": "code",
   "execution_count": 27,
   "metadata": {
    "execution": {
     "iopub.execute_input": "2023-01-12T16:56:14.177783Z",
     "iopub.status.busy": "2023-01-12T16:56:14.176684Z",
     "iopub.status.idle": "2023-01-12T16:56:14.180993Z",
     "shell.execute_reply": "2023-01-12T16:56:14.180558Z"
    }
   },
   "outputs": [],
   "source": [
    "df.loc[df.area == \"- Under Investigation\", \"area\"] = \"Under Investigation\""
   ]
  },
  {
   "cell_type": "markdown",
   "metadata": {},
   "source": [
    "## Vet"
   ]
  },
  {
   "cell_type": "code",
   "execution_count": 28,
   "metadata": {
    "execution": {
     "iopub.execute_input": "2023-01-12T16:56:14.186115Z",
     "iopub.status.busy": "2023-01-12T16:56:14.185185Z",
     "iopub.status.idle": "2023-01-12T16:56:14.190874Z",
     "shell.execute_reply": "2023-01-12T16:56:14.190413Z"
    }
   },
   "outputs": [],
   "source": [
    "try:\n",
    "    assert not len(df) > 342\n",
    "except AssertionError:\n",
    "    raise AssertionError(\"L.A. County's scraper has extra rows\")"
   ]
  },
  {
   "cell_type": "code",
   "execution_count": 29,
   "metadata": {
    "execution": {
     "iopub.execute_input": "2023-01-12T16:56:14.193715Z",
     "iopub.status.busy": "2023-01-12T16:56:14.193039Z",
     "iopub.status.idle": "2023-01-12T16:56:14.332591Z",
     "shell.execute_reply": "2023-01-12T16:56:14.331821Z"
    }
   },
   "outputs": [
    {
     "ename": "AssertionError",
     "evalue": "L.A. County's scraper is missing rows",
     "output_type": "error",
     "traceback": [
      "\u001b[0;31m---------------------------------------------------------------------------\u001b[0m",
      "\u001b[0;31mAssertionError\u001b[0m                            Traceback (most recent call last)",
      "\u001b[0;32m/tmp/ipykernel_2189/2999864733.py\u001b[0m in \u001b[0;36m<module>\u001b[0;34m\u001b[0m\n\u001b[1;32m      1\u001b[0m \u001b[0;32mtry\u001b[0m\u001b[0;34m:\u001b[0m\u001b[0;34m\u001b[0m\u001b[0;34m\u001b[0m\u001b[0m\n\u001b[0;32m----> 2\u001b[0;31m     \u001b[0;32massert\u001b[0m \u001b[0;32mnot\u001b[0m \u001b[0mlen\u001b[0m\u001b[0;34m(\u001b[0m\u001b[0mdf\u001b[0m\u001b[0;34m)\u001b[0m \u001b[0;34m<\u001b[0m \u001b[0;36m342\u001b[0m\u001b[0;34m\u001b[0m\u001b[0;34m\u001b[0m\u001b[0m\n\u001b[0m\u001b[1;32m      3\u001b[0m \u001b[0;32mexcept\u001b[0m \u001b[0mAssertionError\u001b[0m\u001b[0;34m:\u001b[0m\u001b[0;34m\u001b[0m\u001b[0;34m\u001b[0m\u001b[0m\n",
      "\u001b[0;31mAssertionError\u001b[0m: ",
      "\nDuring handling of the above exception, another exception occurred:\n",
      "\u001b[0;31mAssertionError\u001b[0m                            Traceback (most recent call last)",
      "\u001b[0;32m/tmp/ipykernel_2189/2999864733.py\u001b[0m in \u001b[0;36m<module>\u001b[0;34m\u001b[0m\n\u001b[1;32m      2\u001b[0m     \u001b[0;32massert\u001b[0m \u001b[0;32mnot\u001b[0m \u001b[0mlen\u001b[0m\u001b[0;34m(\u001b[0m\u001b[0mdf\u001b[0m\u001b[0;34m)\u001b[0m \u001b[0;34m<\u001b[0m \u001b[0;36m342\u001b[0m\u001b[0;34m\u001b[0m\u001b[0;34m\u001b[0m\u001b[0m\n\u001b[1;32m      3\u001b[0m \u001b[0;32mexcept\u001b[0m \u001b[0mAssertionError\u001b[0m\u001b[0;34m:\u001b[0m\u001b[0;34m\u001b[0m\u001b[0;34m\u001b[0m\u001b[0m\n\u001b[0;32m----> 4\u001b[0;31m     \u001b[0;32mraise\u001b[0m \u001b[0mAssertionError\u001b[0m\u001b[0;34m(\u001b[0m\u001b[0;34m\"L.A. County's scraper is missing rows\"\u001b[0m\u001b[0;34m)\u001b[0m\u001b[0;34m\u001b[0m\u001b[0;34m\u001b[0m\u001b[0m\n\u001b[0m",
      "\u001b[0;31mAssertionError\u001b[0m: L.A. County's scraper is missing rows"
     ]
    }
   ],
   "source": [
    "try:\n",
    "    assert not len(df) < 342\n",
    "except AssertionError:\n",
    "    raise AssertionError(\"L.A. County's scraper is missing rows\")"
   ]
  },
  {
   "cell_type": "markdown",
   "metadata": {},
   "source": [
    "## Export"
   ]
  },
  {
   "cell_type": "markdown",
   "metadata": {},
   "source": [
    "Set the date"
   ]
  },
  {
   "cell_type": "code",
   "execution_count": 67,
   "metadata": {},
   "outputs": [],
   "source": [
    "tz = pytz.timezone(\"America/Los_Angeles\")"
   ]
  },
  {
   "cell_type": "code",
   "execution_count": 68,
   "metadata": {},
   "outputs": [],
   "source": [
    "today = datetime.now(tz).date()"
   ]
  },
  {
   "cell_type": "code",
   "execution_count": 69,
   "metadata": {},
   "outputs": [],
   "source": [
    "slug = \"los-angeles\""
   ]
  },
  {
   "cell_type": "code",
   "execution_count": 70,
   "metadata": {},
   "outputs": [],
   "source": [
    "df.to_csv(data_dir / slug / f\"{today}.csv\", index=False)"
   ]
  },
  {
   "cell_type": "markdown",
   "metadata": {},
   "source": [
    "## Combine"
   ]
  },
  {
   "cell_type": "code",
   "execution_count": 71,
   "metadata": {},
   "outputs": [],
   "source": [
    "csv_list = [\n",
    "    i\n",
    "    for i in glob.glob(str(data_dir / slug / \"*.csv\"))\n",
    "    if not str(i).endswith(\"timeseries.csv\")\n",
    "]"
   ]
  },
  {
   "cell_type": "code",
   "execution_count": 72,
   "metadata": {},
   "outputs": [],
   "source": [
    "df_list = []\n",
    "for csv in csv_list:\n",
    "    if \"manual\" in csv:\n",
    "        df = pd.read_csv(csv, parse_dates=[\"date\"])\n",
    "    else:\n",
    "        file_date = csv.split(\"/\")[-1].replace(\".csv\", \"\")\n",
    "        df = pd.read_csv(csv, parse_dates=[\"county_date\"])\n",
    "        df[\"date\"] = file_date\n",
    "    df_list.append(df)"
   ]
  },
  {
   "cell_type": "code",
   "execution_count": 73,
   "metadata": {},
   "outputs": [],
   "source": [
    "df = pd.concat(df_list).sort_values([\"date\", \"area\"])"
   ]
  },
  {
   "cell_type": "code",
   "execution_count": 74,
   "metadata": {},
   "outputs": [],
   "source": [
    "df.to_csv(data_dir / slug / \"timeseries.csv\", index=False)"
   ]
  },
  {
   "cell_type": "code",
   "execution_count": null,
   "metadata": {},
   "outputs": [],
   "source": []
  },
  {
   "cell_type": "code",
   "execution_count": null,
   "metadata": {},
   "outputs": [],
   "source": []
  }
 ],
 "metadata": {
  "kernelspec": {
   "display_name": "Python 3 (ipykernel)",
   "language": "python",
   "name": "python3"
  },
  "language_info": {
   "codemirror_mode": {
    "name": "ipython",
    "version": 3
   },
   "file_extension": ".py",
   "mimetype": "text/x-python",
   "name": "python",
   "nbconvert_exporter": "python",
   "pygments_lexer": "ipython3",
   "version": "3.8.15"
  }
 },
 "nbformat": 4,
 "nbformat_minor": 4
}
