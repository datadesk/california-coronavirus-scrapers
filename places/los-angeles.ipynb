{
 "cells": [
  {
   "cell_type": "markdown",
   "metadata": {
    "tags": []
   },
   "source": [
    "## Configuration\n",
    "_Initial steps to get the notebook ready to play nice with our repository. Do not delete this section._"
   ]
  },
  {
   "cell_type": "markdown",
   "metadata": {},
   "source": [
    "Code formatting with [black](https://pypi.org/project/nb-black/)."
   ]
  },
  {
   "cell_type": "code",
   "execution_count": 1,
   "metadata": {
    "execution": {
     "iopub.execute_input": "2023-01-22T20:18:51.420683Z",
     "iopub.status.busy": "2023-01-22T20:18:51.418564Z",
     "iopub.status.idle": "2023-01-22T20:18:51.588321Z",
     "shell.execute_reply": "2023-01-22T20:18:51.587542Z"
    }
   },
   "outputs": [],
   "source": [
    "%load_ext lab_black"
   ]
  },
  {
   "cell_type": "code",
   "execution_count": 2,
   "metadata": {
    "execution": {
     "iopub.execute_input": "2023-01-22T20:18:51.594043Z",
     "iopub.status.busy": "2023-01-22T20:18:51.592956Z",
     "iopub.status.idle": "2023-01-22T20:18:51.594631Z",
     "shell.execute_reply": "2023-01-22T20:18:51.595083Z"
    }
   },
   "outputs": [],
   "source": [
    "import os\n",
    "import pathlib"
   ]
  },
  {
   "cell_type": "code",
   "execution_count": 3,
   "metadata": {
    "execution": {
     "iopub.execute_input": "2023-01-22T20:18:51.601724Z",
     "iopub.status.busy": "2023-01-22T20:18:51.598885Z",
     "iopub.status.idle": "2023-01-22T20:18:51.603710Z",
     "shell.execute_reply": "2023-01-22T20:18:51.603281Z"
    }
   },
   "outputs": [],
   "source": [
    "this_dir = pathlib.Path(os.path.abspath(\"\"))"
   ]
  },
  {
   "cell_type": "code",
   "execution_count": 4,
   "metadata": {
    "execution": {
     "iopub.execute_input": "2023-01-22T20:18:51.607968Z",
     "iopub.status.busy": "2023-01-22T20:18:51.607038Z",
     "iopub.status.idle": "2023-01-22T20:18:51.610580Z",
     "shell.execute_reply": "2023-01-22T20:18:51.610144Z"
    }
   },
   "outputs": [],
   "source": [
    "data_dir = this_dir / \"data\""
   ]
  },
  {
   "cell_type": "code",
   "execution_count": 5,
   "metadata": {
    "execution": {
     "iopub.execute_input": "2023-01-22T20:18:51.614777Z",
     "iopub.status.busy": "2023-01-22T20:18:51.614217Z",
     "iopub.status.idle": "2023-01-22T20:18:52.107194Z",
     "shell.execute_reply": "2023-01-22T20:18:52.106051Z"
    }
   },
   "outputs": [],
   "source": [
    "import re\n",
    "import pytz\n",
    "import glob\n",
    "import requests\n",
    "import unicodedata\n",
    "import pandas as pd\n",
    "from slugify import slugify\n",
    "from bs4 import BeautifulSoup\n",
    "from datetime import datetime, date"
   ]
  },
  {
   "cell_type": "markdown",
   "metadata": {},
   "source": [
    "## Download"
   ]
  },
  {
   "cell_type": "markdown",
   "metadata": {},
   "source": [
    "Retrieve the page"
   ]
  },
  {
   "cell_type": "code",
   "execution_count": 6,
   "metadata": {
    "execution": {
     "iopub.execute_input": "2023-01-22T20:18:52.112602Z",
     "iopub.status.busy": "2023-01-22T20:18:52.112070Z",
     "iopub.status.idle": "2023-01-22T20:18:52.115027Z",
     "shell.execute_reply": "2023-01-22T20:18:52.115695Z"
    }
   },
   "outputs": [],
   "source": [
    "url = \"http://publichealth.lacounty.gov/media/Coronavirus/locations.htm\""
   ]
  },
  {
   "cell_type": "code",
   "execution_count": 7,
   "metadata": {
    "execution": {
     "iopub.execute_input": "2023-01-22T20:18:52.120187Z",
     "iopub.status.busy": "2023-01-22T20:18:52.118022Z",
     "iopub.status.idle": "2023-01-22T20:18:52.487207Z",
     "shell.execute_reply": "2023-01-22T20:18:52.486427Z"
    }
   },
   "outputs": [],
   "source": [
    "page = requests.get(url)"
   ]
  },
  {
   "cell_type": "markdown",
   "metadata": {},
   "source": [
    "## Parse"
   ]
  },
  {
   "cell_type": "code",
   "execution_count": 8,
   "metadata": {
    "execution": {
     "iopub.execute_input": "2023-01-22T20:18:52.516236Z",
     "iopub.status.busy": "2023-01-22T20:18:52.500310Z",
     "iopub.status.idle": "2023-01-22T20:18:52.663574Z",
     "shell.execute_reply": "2023-01-22T20:18:52.662952Z"
    }
   },
   "outputs": [],
   "source": [
    "soup = BeautifulSoup(page.content, \"html.parser\")"
   ]
  },
  {
   "cell_type": "markdown",
   "metadata": {},
   "source": [
    "Get content well"
   ]
  },
  {
   "cell_type": "code",
   "execution_count": 9,
   "metadata": {
    "execution": {
     "iopub.execute_input": "2023-01-22T20:18:52.671388Z",
     "iopub.status.busy": "2023-01-22T20:18:52.670674Z",
     "iopub.status.idle": "2023-01-22T20:18:52.673492Z",
     "shell.execute_reply": "2023-01-22T20:18:52.673056Z"
    }
   },
   "outputs": [],
   "source": [
    "content = soup.find(\"div\", {\"id\": \"content\"})"
   ]
  },
  {
   "cell_type": "markdown",
   "metadata": {},
   "source": [
    "Get table"
   ]
  },
  {
   "cell_type": "code",
   "execution_count": 10,
   "metadata": {
    "execution": {
     "iopub.execute_input": "2023-01-22T20:18:52.689845Z",
     "iopub.status.busy": "2023-01-22T20:18:52.689130Z",
     "iopub.status.idle": "2023-01-22T20:18:52.694730Z",
     "shell.execute_reply": "2023-01-22T20:18:52.693987Z"
    }
   },
   "outputs": [],
   "source": [
    "for tag in content.find_all(text=re.compile(\"CITY/COMMUNITY\")):\n",
    "    table = tag.findParent(\"table\")"
   ]
  },
  {
   "cell_type": "code",
   "execution_count": 11,
   "metadata": {
    "execution": {
     "iopub.execute_input": "2023-01-22T20:18:52.701971Z",
     "iopub.status.busy": "2023-01-22T20:18:52.700794Z",
     "iopub.status.idle": "2023-01-22T20:18:52.702555Z",
     "shell.execute_reply": "2023-01-22T20:18:52.703006Z"
    }
   },
   "outputs": [],
   "source": [
    "tbody = soup.tbody"
   ]
  },
  {
   "cell_type": "code",
   "execution_count": 12,
   "metadata": {
    "execution": {
     "iopub.execute_input": "2023-01-22T20:18:52.710413Z",
     "iopub.status.busy": "2023-01-22T20:18:52.709893Z",
     "iopub.status.idle": "2023-01-22T20:18:52.712258Z",
     "shell.execute_reply": "2023-01-22T20:18:52.711732Z"
    }
   },
   "outputs": [],
   "source": [
    "row_list = tbody.find_all(\"tr\")"
   ]
  },
  {
   "cell_type": "code",
   "execution_count": 13,
   "metadata": {
    "execution": {
     "iopub.execute_input": "2023-01-22T20:18:52.716135Z",
     "iopub.status.busy": "2023-01-22T20:18:52.715609Z",
     "iopub.status.idle": "2023-01-22T20:18:52.718505Z",
     "shell.execute_reply": "2023-01-22T20:18:52.718097Z"
    }
   },
   "outputs": [],
   "source": [
    "dict_list = []"
   ]
  },
  {
   "cell_type": "code",
   "execution_count": 14,
   "metadata": {
    "execution": {
     "iopub.execute_input": "2023-01-22T20:18:52.723837Z",
     "iopub.status.busy": "2023-01-22T20:18:52.723148Z",
     "iopub.status.idle": "2023-01-22T20:18:52.727545Z",
     "shell.execute_reply": "2023-01-22T20:18:52.727110Z"
    }
   },
   "outputs": [],
   "source": [
    "def safetxt(element):\n",
    "    v = element.text.strip()\n",
    "    v = v.replace(\"\\u200b\", \"\")\n",
    "    return v"
   ]
  },
  {
   "cell_type": "code",
   "execution_count": 15,
   "metadata": {
    "execution": {
     "iopub.execute_input": "2023-01-22T20:18:52.735692Z",
     "iopub.status.busy": "2023-01-22T20:18:52.735055Z",
     "iopub.status.idle": "2023-01-22T20:18:52.738037Z",
     "shell.execute_reply": "2023-01-22T20:18:52.738475Z"
    }
   },
   "outputs": [],
   "source": [
    "def safenumber(element):\n",
    "    v = safetxt(element)\n",
    "    v = v.replace(\",\", \"\")\n",
    "    v = v.replace(\" \", \"\")\n",
    "    return v"
   ]
  },
  {
   "cell_type": "code",
   "execution_count": 16,
   "metadata": {
    "execution": {
     "iopub.execute_input": "2023-01-22T20:18:52.746593Z",
     "iopub.status.busy": "2023-01-22T20:18:52.746055Z",
     "iopub.status.idle": "2023-01-22T20:18:52.759237Z",
     "shell.execute_reply": "2023-01-22T20:18:52.758687Z"
    }
   },
   "outputs": [],
   "source": [
    "for row in row_list:\n",
    "    cell_content = row.find_all(\"td\")\n",
    "    d = dict(\n",
    "        county=\"Los Angeles\",\n",
    "        area=safetxt(cell_content[0]),\n",
    "        confirmed_cases=safenumber(cell_content[1]),\n",
    "        confirmed_deaths=safenumber(cell_content[3]),\n",
    "    )\n",
    "    dict_list.append(d)"
   ]
  },
  {
   "cell_type": "code",
   "execution_count": 17,
   "metadata": {
    "execution": {
     "iopub.execute_input": "2023-01-22T20:18:52.765139Z",
     "iopub.status.busy": "2023-01-22T20:18:52.764264Z",
     "iopub.status.idle": "2023-01-22T20:18:52.767859Z",
     "shell.execute_reply": "2023-01-22T20:18:52.767280Z"
    }
   },
   "outputs": [],
   "source": [
    "df = pd.DataFrame(dict_list)"
   ]
  },
  {
   "cell_type": "markdown",
   "metadata": {},
   "source": [
    "Get timestamp"
   ]
  },
  {
   "cell_type": "code",
   "execution_count": 18,
   "metadata": {
    "execution": {
     "iopub.execute_input": "2023-01-22T20:18:52.773185Z",
     "iopub.status.busy": "2023-01-22T20:18:52.772242Z",
     "iopub.status.idle": "2023-01-22T20:18:52.774262Z",
     "shell.execute_reply": "2023-01-22T20:18:52.774661Z"
    }
   },
   "outputs": [],
   "source": [
    "date_url = \"http://publichealth.lacounty.gov/media/Coronavirus/js/casecounter.js\""
   ]
  },
  {
   "cell_type": "code",
   "execution_count": 19,
   "metadata": {
    "execution": {
     "iopub.execute_input": "2023-01-22T20:18:52.781519Z",
     "iopub.status.busy": "2023-01-22T20:18:52.781002Z",
     "iopub.status.idle": "2023-01-22T20:18:53.097219Z",
     "shell.execute_reply": "2023-01-22T20:18:53.096169Z"
    }
   },
   "outputs": [],
   "source": [
    "response = requests.get(date_url)\n",
    "date_page = response.text"
   ]
  },
  {
   "cell_type": "code",
   "execution_count": 20,
   "metadata": {
    "execution": {
     "iopub.execute_input": "2023-01-22T20:18:53.107211Z",
     "iopub.status.busy": "2023-01-22T20:18:53.106636Z",
     "iopub.status.idle": "2023-01-22T20:18:53.110971Z",
     "shell.execute_reply": "2023-01-22T20:18:53.110503Z"
    }
   },
   "outputs": [
    {
     "data": {
      "text/plain": [
       "'$( document ).ready(function() {\\r\\n    var data = {\\r\\n\\t\\t\\t\\t    \"content\": { \\r\\n\\t\\t\\r\\n\\t\\t\\t\"count\": \"3,665,365\",\\r\\n\\r\\n\\r\\n\\t\\t\\t\"death\": \"35,079\",\\r\\n\\r\\n\\t\\t\\t\"dailycount\": \"1,502\",\\r\\n\\r\\n\\r\\n\\t\\t\\t\"dailydeath\": \"31\",\\r\\n\\t\\t\\t\"hospitalizationsever\": \"169,328\",\\r\\n\\r\\n\\r\\n\\t\\t\\t\"date\": \"01/19/23\",\\r\\n\\t\\t\\t\"info\": \"through 12:00pm 01/18/2023\",\\r\\n\\r\\n\\t\\t\\t\"testingaverage\": \"24,421\",\\r\\n\\r\\n\\t\\t\\t\"peopletested\": \"12,863,504\",\\r\\n\\r\\n\\t\\t\\t\"positivity\": \"6.35%\",\\r\\n\\r\\n\\t\\t\\t\"hospitalizations\": \"918\",\\r\\n\\t\\t\\t\"datehospitalizations\": \"01/18/23\"\\r\\n\\r\\n\\t\\t\\t\\t}       \\r\\n\\t\\t\\t\\t};\\t\\r\\n\\t\\t\\t\\t\\r\\n\\t\\t\\t\\t\\r\\n\\t\\t\\t\\tvar content = data.content;\\r\\n\\t\\t\\t\\t\\r\\n\\t\\t\\t\\t$(\\'#ctn\\').html(content.count);\\r\\n\\t\\t\\t\\t$(\\'#det\\').html(content.death);\\r\\n\\t\\t\\t\\t$(\\'#dctn\\').html(content.dailycount);\\r\\n\\t\\t\\t\\t$(\\'#ddet\\').html(content.dailydeath);\\r\\n\\t\\t\\t\\t$(\\'#hosp_1\\').html(content.hospitalizationsever);\\r\\n\\t\\t\\t\\t$(\\'#dte\\').html(content.date);\\r\\n\\t\\t\\t\\t$(\\'#dte_1\\').html(content.date);\\r\\n\\t\\t\\t\\t$(\\'#dte_2\\').html(content.date);\\r\\n\\t\\t\\t\\t$(\\'#dte_3\\').html(content.datehospitalizations);\\r\\n\\t\\t\\t\\t$(\\'#cse\\').html(content.info);\\t\\r\\n\\t\\t\\t\\r\\n\\t\\t\\t\\t\\r\\n\\t\\t\\t\\t$(\\'#tstavg\\').html(content.testingaverage);\\t\\r\\n\\t\\t\\t\\t$(\\'#ppltst\\').html(content.peopletested);\\t\\r\\n\\t\\t\\t\\t$(\\'#pos\\').html(content.positivity);\\t\\r\\n\\t\\t\\t\\t$(\\'#hosp\\').html(content.hospitalizations);\\r\\n\\t\\t\\t\\r\\n\\t\\t\\t\\t\\t\\t\\t\\r\\n\\r\\n\\r\\n});\\r\\n\\r\\n\\r\\n\\r\\n'"
      ]
     },
     "execution_count": 20,
     "metadata": {},
     "output_type": "execute_result"
    }
   ],
   "source": [
    "date_page"
   ]
  },
  {
   "cell_type": "code",
   "execution_count": 21,
   "metadata": {
    "execution": {
     "iopub.execute_input": "2023-01-22T20:18:53.115998Z",
     "iopub.status.busy": "2023-01-22T20:18:53.114886Z",
     "iopub.status.idle": "2023-01-22T20:18:53.116550Z",
     "shell.execute_reply": "2023-01-22T20:18:53.116973Z"
    }
   },
   "outputs": [],
   "source": [
    "# date_text = re.search(r\"([0-9][0-9]/[0-9][0-9])\", date_page).group(1)\n",
    "# date_text = date_text + \"/\" + str(date.today().year)"
   ]
  },
  {
   "cell_type": "code",
   "execution_count": 22,
   "metadata": {
    "execution": {
     "iopub.execute_input": "2023-01-22T20:18:53.121467Z",
     "iopub.status.busy": "2023-01-22T20:18:53.120936Z",
     "iopub.status.idle": "2023-01-22T20:18:53.124613Z",
     "shell.execute_reply": "2023-01-22T20:18:53.124174Z"
    }
   },
   "outputs": [],
   "source": [
    "date_text = re.search(r\"through (.+?)\\\"\", date_page).group(1)"
   ]
  },
  {
   "cell_type": "code",
   "execution_count": 23,
   "metadata": {
    "execution": {
     "iopub.execute_input": "2023-01-22T20:18:53.130373Z",
     "iopub.status.busy": "2023-01-22T20:18:53.129228Z",
     "iopub.status.idle": "2023-01-22T20:18:53.131001Z",
     "shell.execute_reply": "2023-01-22T20:18:53.131439Z"
    }
   },
   "outputs": [],
   "source": [
    "date_text = date_text.split(\"m \")[0]"
   ]
  },
  {
   "cell_type": "code",
   "execution_count": 24,
   "metadata": {
    "execution": {
     "iopub.execute_input": "2023-01-22T20:18:53.138085Z",
     "iopub.status.busy": "2023-01-22T20:18:53.137567Z",
     "iopub.status.idle": "2023-01-22T20:18:53.140816Z",
     "shell.execute_reply": "2023-01-22T20:18:53.140335Z"
    }
   },
   "outputs": [],
   "source": [
    "latest_date = pd.to_datetime(date_text).date()"
   ]
  },
  {
   "cell_type": "code",
   "execution_count": 25,
   "metadata": {
    "execution": {
     "iopub.execute_input": "2023-01-22T20:18:53.146761Z",
     "iopub.status.busy": "2023-01-22T20:18:53.145477Z",
     "iopub.status.idle": "2023-01-22T20:18:53.148921Z",
     "shell.execute_reply": "2023-01-22T20:18:53.149348Z"
    }
   },
   "outputs": [],
   "source": [
    "df[\"county_date\"] = latest_date"
   ]
  },
  {
   "cell_type": "code",
   "execution_count": 26,
   "metadata": {
    "execution": {
     "iopub.execute_input": "2023-01-22T20:18:53.154776Z",
     "iopub.status.busy": "2023-01-22T20:18:53.153858Z",
     "iopub.status.idle": "2023-01-22T20:18:53.157588Z",
     "shell.execute_reply": "2023-01-22T20:18:53.157105Z"
    }
   },
   "outputs": [],
   "source": [
    "df.loc[df.area == \"-  Under Investigation\", \"area\"] = \"Under Investigation\""
   ]
  },
  {
   "cell_type": "code",
   "execution_count": 27,
   "metadata": {
    "execution": {
     "iopub.execute_input": "2023-01-22T20:18:53.163950Z",
     "iopub.status.busy": "2023-01-22T20:18:53.163457Z",
     "iopub.status.idle": "2023-01-22T20:18:53.166445Z",
     "shell.execute_reply": "2023-01-22T20:18:53.166884Z"
    }
   },
   "outputs": [],
   "source": [
    "df.loc[df.area == \"- Under Investigation\", \"area\"] = \"Under Investigation\""
   ]
  },
  {
   "cell_type": "markdown",
   "metadata": {},
   "source": [
    "## Vet"
   ]
  },
  {
   "cell_type": "code",
   "execution_count": 28,
   "metadata": {
    "execution": {
     "iopub.execute_input": "2023-01-22T20:18:53.171835Z",
     "iopub.status.busy": "2023-01-22T20:18:53.170995Z",
     "iopub.status.idle": "2023-01-22T20:18:53.176853Z",
     "shell.execute_reply": "2023-01-22T20:18:53.175956Z"
    }
   },
   "outputs": [],
   "source": [
    "try:\n",
    "    assert not len(df) > 342\n",
    "except AssertionError:\n",
    "    raise AssertionError(\"L.A. County's scraper has extra rows\")"
   ]
  },
  {
   "cell_type": "code",
   "execution_count": 29,
   "metadata": {
    "execution": {
     "iopub.execute_input": "2023-01-22T20:18:53.182199Z",
     "iopub.status.busy": "2023-01-22T20:18:53.180178Z",
     "iopub.status.idle": "2023-01-22T20:18:53.324370Z",
     "shell.execute_reply": "2023-01-22T20:18:53.323015Z"
    }
   },
   "outputs": [
    {
     "ename": "AssertionError",
     "evalue": "L.A. County's scraper is missing rows",
     "output_type": "error",
     "traceback": [
      "\u001b[0;31m---------------------------------------------------------------------------\u001b[0m",
      "\u001b[0;31mAssertionError\u001b[0m                            Traceback (most recent call last)",
      "\u001b[0;32m/tmp/ipykernel_2227/2999864733.py\u001b[0m in \u001b[0;36m<module>\u001b[0;34m\u001b[0m\n\u001b[1;32m      1\u001b[0m \u001b[0;32mtry\u001b[0m\u001b[0;34m:\u001b[0m\u001b[0;34m\u001b[0m\u001b[0;34m\u001b[0m\u001b[0m\n\u001b[0;32m----> 2\u001b[0;31m     \u001b[0;32massert\u001b[0m \u001b[0;32mnot\u001b[0m \u001b[0mlen\u001b[0m\u001b[0;34m(\u001b[0m\u001b[0mdf\u001b[0m\u001b[0;34m)\u001b[0m \u001b[0;34m<\u001b[0m \u001b[0;36m342\u001b[0m\u001b[0;34m\u001b[0m\u001b[0;34m\u001b[0m\u001b[0m\n\u001b[0m\u001b[1;32m      3\u001b[0m \u001b[0;32mexcept\u001b[0m \u001b[0mAssertionError\u001b[0m\u001b[0;34m:\u001b[0m\u001b[0;34m\u001b[0m\u001b[0;34m\u001b[0m\u001b[0m\n",
      "\u001b[0;31mAssertionError\u001b[0m: ",
      "\nDuring handling of the above exception, another exception occurred:\n",
      "\u001b[0;31mAssertionError\u001b[0m                            Traceback (most recent call last)",
      "\u001b[0;32m/tmp/ipykernel_2227/2999864733.py\u001b[0m in \u001b[0;36m<module>\u001b[0;34m\u001b[0m\n\u001b[1;32m      2\u001b[0m     \u001b[0;32massert\u001b[0m \u001b[0;32mnot\u001b[0m \u001b[0mlen\u001b[0m\u001b[0;34m(\u001b[0m\u001b[0mdf\u001b[0m\u001b[0;34m)\u001b[0m \u001b[0;34m<\u001b[0m \u001b[0;36m342\u001b[0m\u001b[0;34m\u001b[0m\u001b[0;34m\u001b[0m\u001b[0m\n\u001b[1;32m      3\u001b[0m \u001b[0;32mexcept\u001b[0m \u001b[0mAssertionError\u001b[0m\u001b[0;34m:\u001b[0m\u001b[0;34m\u001b[0m\u001b[0;34m\u001b[0m\u001b[0m\n\u001b[0;32m----> 4\u001b[0;31m     \u001b[0;32mraise\u001b[0m \u001b[0mAssertionError\u001b[0m\u001b[0;34m(\u001b[0m\u001b[0;34m\"L.A. County's scraper is missing rows\"\u001b[0m\u001b[0;34m)\u001b[0m\u001b[0;34m\u001b[0m\u001b[0;34m\u001b[0m\u001b[0m\n\u001b[0m",
      "\u001b[0;31mAssertionError\u001b[0m: L.A. County's scraper is missing rows"
     ]
    }
   ],
   "source": [
    "try:\n",
    "    assert not len(df) < 342\n",
    "except AssertionError:\n",
    "    raise AssertionError(\"L.A. County's scraper is missing rows\")"
   ]
  },
  {
   "cell_type": "markdown",
   "metadata": {},
   "source": [
    "## Export"
   ]
  },
  {
   "cell_type": "markdown",
   "metadata": {},
   "source": [
    "Set the date"
   ]
  },
  {
   "cell_type": "code",
   "execution_count": 67,
   "metadata": {},
   "outputs": [],
   "source": [
    "tz = pytz.timezone(\"America/Los_Angeles\")"
   ]
  },
  {
   "cell_type": "code",
   "execution_count": 68,
   "metadata": {},
   "outputs": [],
   "source": [
    "today = datetime.now(tz).date()"
   ]
  },
  {
   "cell_type": "code",
   "execution_count": 69,
   "metadata": {},
   "outputs": [],
   "source": [
    "slug = \"los-angeles\""
   ]
  },
  {
   "cell_type": "code",
   "execution_count": 70,
   "metadata": {},
   "outputs": [],
   "source": [
    "df.to_csv(data_dir / slug / f\"{today}.csv\", index=False)"
   ]
  },
  {
   "cell_type": "markdown",
   "metadata": {},
   "source": [
    "## Combine"
   ]
  },
  {
   "cell_type": "code",
   "execution_count": 71,
   "metadata": {},
   "outputs": [],
   "source": [
    "csv_list = [\n",
    "    i\n",
    "    for i in glob.glob(str(data_dir / slug / \"*.csv\"))\n",
    "    if not str(i).endswith(\"timeseries.csv\")\n",
    "]"
   ]
  },
  {
   "cell_type": "code",
   "execution_count": 72,
   "metadata": {},
   "outputs": [],
   "source": [
    "df_list = []\n",
    "for csv in csv_list:\n",
    "    if \"manual\" in csv:\n",
    "        df = pd.read_csv(csv, parse_dates=[\"date\"])\n",
    "    else:\n",
    "        file_date = csv.split(\"/\")[-1].replace(\".csv\", \"\")\n",
    "        df = pd.read_csv(csv, parse_dates=[\"county_date\"])\n",
    "        df[\"date\"] = file_date\n",
    "    df_list.append(df)"
   ]
  },
  {
   "cell_type": "code",
   "execution_count": 73,
   "metadata": {},
   "outputs": [],
   "source": [
    "df = pd.concat(df_list).sort_values([\"date\", \"area\"])"
   ]
  },
  {
   "cell_type": "code",
   "execution_count": 74,
   "metadata": {},
   "outputs": [],
   "source": [
    "df.to_csv(data_dir / slug / \"timeseries.csv\", index=False)"
   ]
  },
  {
   "cell_type": "code",
   "execution_count": null,
   "metadata": {},
   "outputs": [],
   "source": []
  },
  {
   "cell_type": "code",
   "execution_count": null,
   "metadata": {},
   "outputs": [],
   "source": []
  }
 ],
 "metadata": {
  "kernelspec": {
   "display_name": "Python 3 (ipykernel)",
   "language": "python",
   "name": "python3"
  },
  "language_info": {
   "codemirror_mode": {
    "name": "ipython",
    "version": 3
   },
   "file_extension": ".py",
   "mimetype": "text/x-python",
   "name": "python",
   "nbconvert_exporter": "python",
   "pygments_lexer": "ipython3",
   "version": "3.8.16"
  }
 },
 "nbformat": 4,
 "nbformat_minor": 4
}
