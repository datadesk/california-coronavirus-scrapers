{
 "cells": [
  {
   "cell_type": "markdown",
   "metadata": {
    "tags": []
   },
   "source": [
    "## Configuration\n",
    "_Initial steps to get the notebook ready to play nice with our repository. Do not delete this section._"
   ]
  },
  {
   "cell_type": "markdown",
   "metadata": {},
   "source": [
    "Code formatting with [black](https://pypi.org/project/nb-black/)."
   ]
  },
  {
   "cell_type": "code",
   "execution_count": 1,
   "metadata": {
    "execution": {
     "iopub.execute_input": "2022-12-21T08:19:20.280469Z",
     "iopub.status.busy": "2022-12-21T08:19:20.280052Z",
     "iopub.status.idle": "2022-12-21T08:19:20.416768Z",
     "shell.execute_reply": "2022-12-21T08:19:20.416298Z"
    }
   },
   "outputs": [],
   "source": [
    "%load_ext lab_black"
   ]
  },
  {
   "cell_type": "code",
   "execution_count": 2,
   "metadata": {
    "execution": {
     "iopub.execute_input": "2022-12-21T08:19:20.420418Z",
     "iopub.status.busy": "2022-12-21T08:19:20.419641Z",
     "iopub.status.idle": "2022-12-21T08:19:20.422327Z",
     "shell.execute_reply": "2022-12-21T08:19:20.421939Z"
    }
   },
   "outputs": [],
   "source": [
    "import os\n",
    "import pathlib"
   ]
  },
  {
   "cell_type": "code",
   "execution_count": 3,
   "metadata": {
    "execution": {
     "iopub.execute_input": "2022-12-21T08:19:20.425789Z",
     "iopub.status.busy": "2022-12-21T08:19:20.425354Z",
     "iopub.status.idle": "2022-12-21T08:19:20.429255Z",
     "shell.execute_reply": "2022-12-21T08:19:20.429589Z"
    }
   },
   "outputs": [],
   "source": [
    "this_dir = pathlib.Path(os.path.abspath(\"\"))"
   ]
  },
  {
   "cell_type": "code",
   "execution_count": 4,
   "metadata": {
    "execution": {
     "iopub.execute_input": "2022-12-21T08:19:20.433587Z",
     "iopub.status.busy": "2022-12-21T08:19:20.433158Z",
     "iopub.status.idle": "2022-12-21T08:19:20.435323Z",
     "shell.execute_reply": "2022-12-21T08:19:20.434939Z"
    }
   },
   "outputs": [],
   "source": [
    "data_dir = this_dir / \"data\""
   ]
  },
  {
   "cell_type": "code",
   "execution_count": 5,
   "metadata": {
    "execution": {
     "iopub.execute_input": "2022-12-21T08:19:20.438764Z",
     "iopub.status.busy": "2022-12-21T08:19:20.438332Z",
     "iopub.status.idle": "2022-12-21T08:19:20.810965Z",
     "shell.execute_reply": "2022-12-21T08:19:20.810307Z"
    }
   },
   "outputs": [],
   "source": [
    "import re\n",
    "import pytz\n",
    "import glob\n",
    "import requests\n",
    "import unicodedata\n",
    "import pandas as pd\n",
    "from slugify import slugify\n",
    "from bs4 import BeautifulSoup\n",
    "from datetime import datetime, date"
   ]
  },
  {
   "cell_type": "markdown",
   "metadata": {},
   "source": [
    "## Download"
   ]
  },
  {
   "cell_type": "markdown",
   "metadata": {},
   "source": [
    "Retrieve the page"
   ]
  },
  {
   "cell_type": "code",
   "execution_count": 6,
   "metadata": {
    "execution": {
     "iopub.execute_input": "2022-12-21T08:19:20.815210Z",
     "iopub.status.busy": "2022-12-21T08:19:20.814798Z",
     "iopub.status.idle": "2022-12-21T08:19:20.817611Z",
     "shell.execute_reply": "2022-12-21T08:19:20.817260Z"
    }
   },
   "outputs": [],
   "source": [
    "url = \"http://publichealth.lacounty.gov/media/Coronavirus/locations.htm\""
   ]
  },
  {
   "cell_type": "code",
   "execution_count": 7,
   "metadata": {
    "execution": {
     "iopub.execute_input": "2022-12-21T08:19:20.823380Z",
     "iopub.status.busy": "2022-12-21T08:19:20.820275Z",
     "iopub.status.idle": "2022-12-21T08:19:21.018888Z",
     "shell.execute_reply": "2022-12-21T08:19:21.019275Z"
    }
   },
   "outputs": [],
   "source": [
    "page = requests.get(url)"
   ]
  },
  {
   "cell_type": "markdown",
   "metadata": {},
   "source": [
    "## Parse"
   ]
  },
  {
   "cell_type": "code",
   "execution_count": 8,
   "metadata": {
    "execution": {
     "iopub.execute_input": "2022-12-21T08:19:21.032156Z",
     "iopub.status.busy": "2022-12-21T08:19:21.021250Z",
     "iopub.status.idle": "2022-12-21T08:19:21.212326Z",
     "shell.execute_reply": "2022-12-21T08:19:21.211555Z"
    }
   },
   "outputs": [],
   "source": [
    "soup = BeautifulSoup(page.content, \"html.parser\")"
   ]
  },
  {
   "cell_type": "markdown",
   "metadata": {},
   "source": [
    "Get content well"
   ]
  },
  {
   "cell_type": "code",
   "execution_count": 9,
   "metadata": {
    "execution": {
     "iopub.execute_input": "2022-12-21T08:19:21.217068Z",
     "iopub.status.busy": "2022-12-21T08:19:21.216623Z",
     "iopub.status.idle": "2022-12-21T08:19:21.221069Z",
     "shell.execute_reply": "2022-12-21T08:19:21.220687Z"
    }
   },
   "outputs": [],
   "source": [
    "content = soup.find(\"div\", {\"id\": \"content\"})"
   ]
  },
  {
   "cell_type": "markdown",
   "metadata": {},
   "source": [
    "Get table"
   ]
  },
  {
   "cell_type": "code",
   "execution_count": 10,
   "metadata": {
    "execution": {
     "iopub.execute_input": "2022-12-21T08:19:21.233344Z",
     "iopub.status.busy": "2022-12-21T08:19:21.228195Z",
     "iopub.status.idle": "2022-12-21T08:19:21.241954Z",
     "shell.execute_reply": "2022-12-21T08:19:21.241581Z"
    }
   },
   "outputs": [],
   "source": [
    "for tag in content.find_all(text=re.compile(\"CITY/COMMUNITY\")):\n",
    "    table = tag.findParent(\"table\")"
   ]
  },
  {
   "cell_type": "code",
   "execution_count": 11,
   "metadata": {
    "execution": {
     "iopub.execute_input": "2022-12-21T08:19:21.246831Z",
     "iopub.status.busy": "2022-12-21T08:19:21.246418Z",
     "iopub.status.idle": "2022-12-21T08:19:21.250005Z",
     "shell.execute_reply": "2022-12-21T08:19:21.249323Z"
    }
   },
   "outputs": [],
   "source": [
    "tbody = soup.tbody"
   ]
  },
  {
   "cell_type": "code",
   "execution_count": 12,
   "metadata": {
    "execution": {
     "iopub.execute_input": "2022-12-21T08:19:21.255784Z",
     "iopub.status.busy": "2022-12-21T08:19:21.254854Z",
     "iopub.status.idle": "2022-12-21T08:19:21.258172Z",
     "shell.execute_reply": "2022-12-21T08:19:21.257756Z"
    }
   },
   "outputs": [],
   "source": [
    "row_list = tbody.find_all(\"tr\")"
   ]
  },
  {
   "cell_type": "code",
   "execution_count": 13,
   "metadata": {
    "execution": {
     "iopub.execute_input": "2022-12-21T08:19:21.261992Z",
     "iopub.status.busy": "2022-12-21T08:19:21.261569Z",
     "iopub.status.idle": "2022-12-21T08:19:21.263764Z",
     "shell.execute_reply": "2022-12-21T08:19:21.263019Z"
    }
   },
   "outputs": [],
   "source": [
    "dict_list = []"
   ]
  },
  {
   "cell_type": "code",
   "execution_count": 14,
   "metadata": {
    "execution": {
     "iopub.execute_input": "2022-12-21T08:19:21.269419Z",
     "iopub.status.busy": "2022-12-21T08:19:21.265480Z",
     "iopub.status.idle": "2022-12-21T08:19:21.272343Z",
     "shell.execute_reply": "2022-12-21T08:19:21.271971Z"
    }
   },
   "outputs": [],
   "source": [
    "def safetxt(element):\n",
    "    v = element.text.strip()\n",
    "    v = v.replace(\"\\u200b\", \"\")\n",
    "    return v"
   ]
  },
  {
   "cell_type": "code",
   "execution_count": 15,
   "metadata": {
    "execution": {
     "iopub.execute_input": "2022-12-21T08:19:21.279273Z",
     "iopub.status.busy": "2022-12-21T08:19:21.278679Z",
     "iopub.status.idle": "2022-12-21T08:19:21.281923Z",
     "shell.execute_reply": "2022-12-21T08:19:21.281558Z"
    }
   },
   "outputs": [],
   "source": [
    "def safenumber(element):\n",
    "    v = safetxt(element)\n",
    "    v = v.replace(\",\", \"\")\n",
    "    v = v.replace(\" \", \"\")\n",
    "    return v"
   ]
  },
  {
   "cell_type": "code",
   "execution_count": 16,
   "metadata": {
    "execution": {
     "iopub.execute_input": "2022-12-21T08:19:21.292561Z",
     "iopub.status.busy": "2022-12-21T08:19:21.288970Z",
     "iopub.status.idle": "2022-12-21T08:19:21.300153Z",
     "shell.execute_reply": "2022-12-21T08:19:21.300526Z"
    }
   },
   "outputs": [],
   "source": [
    "for row in row_list:\n",
    "    cell_content = row.find_all(\"td\")\n",
    "    d = dict(\n",
    "        county=\"Los Angeles\",\n",
    "        area=safetxt(cell_content[0]),\n",
    "        confirmed_cases=safenumber(cell_content[1]),\n",
    "        confirmed_deaths=safenumber(cell_content[3]),\n",
    "    )\n",
    "    dict_list.append(d)"
   ]
  },
  {
   "cell_type": "code",
   "execution_count": 17,
   "metadata": {
    "execution": {
     "iopub.execute_input": "2022-12-21T08:19:21.305857Z",
     "iopub.status.busy": "2022-12-21T08:19:21.302377Z",
     "iopub.status.idle": "2022-12-21T08:19:21.307929Z",
     "shell.execute_reply": "2022-12-21T08:19:21.308294Z"
    }
   },
   "outputs": [],
   "source": [
    "df = pd.DataFrame(dict_list)"
   ]
  },
  {
   "cell_type": "markdown",
   "metadata": {},
   "source": [
    "Get timestamp"
   ]
  },
  {
   "cell_type": "code",
   "execution_count": 18,
   "metadata": {
    "execution": {
     "iopub.execute_input": "2022-12-21T08:19:21.312462Z",
     "iopub.status.busy": "2022-12-21T08:19:21.311590Z",
     "iopub.status.idle": "2022-12-21T08:19:21.315169Z",
     "shell.execute_reply": "2022-12-21T08:19:21.315525Z"
    }
   },
   "outputs": [],
   "source": [
    "date_url = \"http://publichealth.lacounty.gov/media/Coronavirus/js/casecounter.js\""
   ]
  },
  {
   "cell_type": "code",
   "execution_count": 19,
   "metadata": {
    "execution": {
     "iopub.execute_input": "2022-12-21T08:19:21.321061Z",
     "iopub.status.busy": "2022-12-21T08:19:21.320635Z",
     "iopub.status.idle": "2022-12-21T08:19:21.460038Z",
     "shell.execute_reply": "2022-12-21T08:19:21.459191Z"
    }
   },
   "outputs": [],
   "source": [
    "response = requests.get(date_url)\n",
    "date_page = response.text"
   ]
  },
  {
   "cell_type": "code",
   "execution_count": 20,
   "metadata": {
    "execution": {
     "iopub.execute_input": "2022-12-21T08:19:21.468257Z",
     "iopub.status.busy": "2022-12-21T08:19:21.467823Z",
     "iopub.status.idle": "2022-12-21T08:19:21.474242Z",
     "shell.execute_reply": "2022-12-21T08:19:21.473838Z"
    }
   },
   "outputs": [
    {
     "data": {
      "text/plain": [
       "'$( document ).ready(function() {\\r\\n    var data = {\\r\\n\\t\\t\\t\\t    \"content\": { \\r\\n\\t\\t\\r\\n\\t\\t\\t\"count\": \"3,606,007\",\\r\\n\\r\\n\\r\\n\\t\\t\\t\"death\": \"38,241\",\\r\\n\\r\\n\\t\\t\\t\"dailycount\": \"2,186\",\\r\\n\\r\\n\\r\\n\\t\\t\\t\"dailydeath\": \"21\",\\r\\n\\t\\t\\t\"hospitalizationsever\": \"164,371\",\\r\\n\\r\\n\\r\\n\\t\\t\\t\"date\": \"12/20\",\\r\\n\\t\\t\\t\"info\": \"through 12:00pm 12/19/2022\",\\r\\n\\r\\n\\t\\t\\t\"testingaverage\": \"30,287\",\\r\\n\\r\\n\\t\\t\\t\"peopletested\": \"12,795,169\",\\r\\n\\r\\n\\t\\t\\t\"positivity\": \"10.60%\",\\r\\n\\r\\n\\t\\t\\t\"hospitalizations\": \"1,251\",\\r\\n\\t\\t\\t\"datehospitalizations\": \"12/19\"\\r\\n\\r\\n\\t\\t\\t\\t}       \\r\\n\\t\\t\\t\\t};\\t\\r\\n\\t\\t\\t\\t\\r\\n\\t\\t\\t\\t\\r\\n\\t\\t\\t\\tvar content = data.content;\\r\\n\\t\\t\\t\\t\\r\\n\\t\\t\\t\\t$(\\'#ctn\\').html(content.count);\\r\\n\\t\\t\\t\\t$(\\'#det\\').html(content.death);\\r\\n\\t\\t\\t\\t$(\\'#dctn\\').html(content.dailycount);\\r\\n\\t\\t\\t\\t$(\\'#ddet\\').html(content.dailydeath);\\r\\n\\t\\t\\t\\t$(\\'#hosp_1\\').html(content.hospitalizationsever);\\r\\n\\t\\t\\t\\t$(\\'#dte\\').html(content.date);\\r\\n\\t\\t\\t\\t$(\\'#dte_1\\').html(content.date);\\r\\n\\t\\t\\t\\t$(\\'#dte_2\\').html(content.date);\\r\\n\\t\\t\\t\\t$(\\'#dte_3\\').html(content.datehospitalizations);\\r\\n\\t\\t\\t\\t$(\\'#cse\\').html(content.info);\\t\\r\\n\\t\\t\\t\\r\\n\\t\\t\\t\\t\\r\\n\\t\\t\\t\\t$(\\'#tstavg\\').html(content.testingaverage);\\t\\r\\n\\t\\t\\t\\t$(\\'#ppltst\\').html(content.peopletested);\\t\\r\\n\\t\\t\\t\\t$(\\'#pos\\').html(content.positivity);\\t\\r\\n\\t\\t\\t\\t$(\\'#hosp\\').html(content.hospitalizations);\\r\\n\\t\\t\\t\\r\\n\\t\\t\\t\\t\\t\\t\\t\\r\\n\\r\\n\\r\\n});\\r\\n\\r\\n\\r\\n\\r\\n'"
      ]
     },
     "execution_count": 20,
     "metadata": {},
     "output_type": "execute_result"
    }
   ],
   "source": [
    "date_page"
   ]
  },
  {
   "cell_type": "code",
   "execution_count": 21,
   "metadata": {
    "execution": {
     "iopub.execute_input": "2022-12-21T08:19:21.477511Z",
     "iopub.status.busy": "2022-12-21T08:19:21.477105Z",
     "iopub.status.idle": "2022-12-21T08:19:21.479658Z",
     "shell.execute_reply": "2022-12-21T08:19:21.479989Z"
    }
   },
   "outputs": [],
   "source": [
    "# date_text = re.search(r\"([0-9][0-9]/[0-9][0-9])\", date_page).group(1)\n",
    "# date_text = date_text + \"/\" + str(date.today().year)"
   ]
  },
  {
   "cell_type": "code",
   "execution_count": 22,
   "metadata": {
    "execution": {
     "iopub.execute_input": "2022-12-21T08:19:21.483561Z",
     "iopub.status.busy": "2022-12-21T08:19:21.482914Z",
     "iopub.status.idle": "2022-12-21T08:19:21.486962Z",
     "shell.execute_reply": "2022-12-21T08:19:21.487337Z"
    }
   },
   "outputs": [],
   "source": [
    "date_text = re.search(r\"through (.+?)\\\"\", date_page).group(1)"
   ]
  },
  {
   "cell_type": "code",
   "execution_count": 23,
   "metadata": {
    "execution": {
     "iopub.execute_input": "2022-12-21T08:19:21.491127Z",
     "iopub.status.busy": "2022-12-21T08:19:21.490246Z",
     "iopub.status.idle": "2022-12-21T08:19:21.494586Z",
     "shell.execute_reply": "2022-12-21T08:19:21.494177Z"
    }
   },
   "outputs": [],
   "source": [
    "date_text = date_text.split(\"m \")[0]"
   ]
  },
  {
   "cell_type": "code",
   "execution_count": 24,
   "metadata": {
    "execution": {
     "iopub.execute_input": "2022-12-21T08:19:21.499648Z",
     "iopub.status.busy": "2022-12-21T08:19:21.499052Z",
     "iopub.status.idle": "2022-12-21T08:19:21.502350Z",
     "shell.execute_reply": "2022-12-21T08:19:21.501630Z"
    }
   },
   "outputs": [],
   "source": [
    "latest_date = pd.to_datetime(date_text).date()"
   ]
  },
  {
   "cell_type": "code",
   "execution_count": 25,
   "metadata": {
    "execution": {
     "iopub.execute_input": "2022-12-21T08:19:21.506827Z",
     "iopub.status.busy": "2022-12-21T08:19:21.505285Z",
     "iopub.status.idle": "2022-12-21T08:19:21.510119Z",
     "shell.execute_reply": "2022-12-21T08:19:21.509333Z"
    }
   },
   "outputs": [],
   "source": [
    "df[\"county_date\"] = latest_date"
   ]
  },
  {
   "cell_type": "code",
   "execution_count": 26,
   "metadata": {
    "execution": {
     "iopub.execute_input": "2022-12-21T08:19:21.514474Z",
     "iopub.status.busy": "2022-12-21T08:19:21.513743Z",
     "iopub.status.idle": "2022-12-21T08:19:21.518496Z",
     "shell.execute_reply": "2022-12-21T08:19:21.517809Z"
    }
   },
   "outputs": [],
   "source": [
    "df.loc[df.area == \"-  Under Investigation\", \"area\"] = \"Under Investigation\""
   ]
  },
  {
   "cell_type": "code",
   "execution_count": 27,
   "metadata": {
    "execution": {
     "iopub.execute_input": "2022-12-21T08:19:21.524149Z",
     "iopub.status.busy": "2022-12-21T08:19:21.523093Z",
     "iopub.status.idle": "2022-12-21T08:19:21.526552Z",
     "shell.execute_reply": "2022-12-21T08:19:21.526178Z"
    }
   },
   "outputs": [],
   "source": [
    "df.loc[df.area == \"- Under Investigation\", \"area\"] = \"Under Investigation\""
   ]
  },
  {
   "cell_type": "markdown",
   "metadata": {},
   "source": [
    "## Vet"
   ]
  },
  {
   "cell_type": "code",
   "execution_count": 28,
   "metadata": {
    "execution": {
     "iopub.execute_input": "2022-12-21T08:19:21.530159Z",
     "iopub.status.busy": "2022-12-21T08:19:21.529542Z",
     "iopub.status.idle": "2022-12-21T08:19:21.535205Z",
     "shell.execute_reply": "2022-12-21T08:19:21.534489Z"
    }
   },
   "outputs": [
    {
     "data": {
      "text/plain": [
       "341"
      ]
     },
     "execution_count": 28,
     "metadata": {},
     "output_type": "execute_result"
    }
   ],
   "source": [
    "len(df)"
   ]
  },
  {
   "cell_type": "code",
   "execution_count": 29,
   "metadata": {
    "execution": {
     "iopub.execute_input": "2022-12-21T08:19:21.539332Z",
     "iopub.status.busy": "2022-12-21T08:19:21.538555Z",
     "iopub.status.idle": "2022-12-21T08:19:21.543571Z",
     "shell.execute_reply": "2022-12-21T08:19:21.542868Z"
    }
   },
   "outputs": [],
   "source": [
    "try:\n",
    "    assert not len(df) > 342\n",
    "except AssertionError:\n",
    "    raise AssertionError(\"L.A. County's scraper has extra rows\")"
   ]
  },
  {
   "cell_type": "raw",
   "metadata": {},
   "source": [
    "older = pd.read_csv(\"data/los-angeles/2022-12-06.csv\")"
   ]
  },
  {
   "cell_type": "raw",
   "metadata": {},
   "source": [
    "list(set(older.area.tolist()).difference(df.area.tolist()))"
   ]
  },
  {
   "cell_type": "raw",
   "metadata": {},
   "source": [
    "older[older.area == \"Unincorporated - Rosewood\"]"
   ]
  },
  {
   "cell_type": "code",
   "execution_count": 30,
   "metadata": {
    "execution": {
     "iopub.execute_input": "2022-12-21T08:19:21.546999Z",
     "iopub.status.busy": "2022-12-21T08:19:21.545262Z",
     "iopub.status.idle": "2022-12-21T08:19:21.667328Z",
     "shell.execute_reply": "2022-12-21T08:19:21.665888Z"
    }
   },
   "outputs": [
    {
     "ename": "AssertionError",
     "evalue": "L.A. County's scraper is missing rows",
     "output_type": "error",
     "traceback": [
      "\u001b[0;31m---------------------------------------------------------------------------\u001b[0m",
      "\u001b[0;31mAssertionError\u001b[0m                            Traceback (most recent call last)",
      "\u001b[0;32m/tmp/ipykernel_2184/2999864733.py\u001b[0m in \u001b[0;36m<module>\u001b[0;34m\u001b[0m\n\u001b[1;32m      1\u001b[0m \u001b[0;32mtry\u001b[0m\u001b[0;34m:\u001b[0m\u001b[0;34m\u001b[0m\u001b[0;34m\u001b[0m\u001b[0m\n\u001b[0;32m----> 2\u001b[0;31m     \u001b[0;32massert\u001b[0m \u001b[0;32mnot\u001b[0m \u001b[0mlen\u001b[0m\u001b[0;34m(\u001b[0m\u001b[0mdf\u001b[0m\u001b[0;34m)\u001b[0m \u001b[0;34m<\u001b[0m \u001b[0;36m342\u001b[0m\u001b[0;34m\u001b[0m\u001b[0;34m\u001b[0m\u001b[0m\n\u001b[0m\u001b[1;32m      3\u001b[0m \u001b[0;32mexcept\u001b[0m \u001b[0mAssertionError\u001b[0m\u001b[0;34m:\u001b[0m\u001b[0;34m\u001b[0m\u001b[0;34m\u001b[0m\u001b[0m\n",
      "\u001b[0;31mAssertionError\u001b[0m: ",
      "\nDuring handling of the above exception, another exception occurred:\n",
      "\u001b[0;31mAssertionError\u001b[0m                            Traceback (most recent call last)",
      "\u001b[0;32m/tmp/ipykernel_2184/2999864733.py\u001b[0m in \u001b[0;36m<module>\u001b[0;34m\u001b[0m\n\u001b[1;32m      2\u001b[0m     \u001b[0;32massert\u001b[0m \u001b[0;32mnot\u001b[0m \u001b[0mlen\u001b[0m\u001b[0;34m(\u001b[0m\u001b[0mdf\u001b[0m\u001b[0;34m)\u001b[0m \u001b[0;34m<\u001b[0m \u001b[0;36m342\u001b[0m\u001b[0;34m\u001b[0m\u001b[0;34m\u001b[0m\u001b[0m\n\u001b[1;32m      3\u001b[0m \u001b[0;32mexcept\u001b[0m \u001b[0mAssertionError\u001b[0m\u001b[0;34m:\u001b[0m\u001b[0;34m\u001b[0m\u001b[0;34m\u001b[0m\u001b[0m\n\u001b[0;32m----> 4\u001b[0;31m     \u001b[0;32mraise\u001b[0m \u001b[0mAssertionError\u001b[0m\u001b[0;34m(\u001b[0m\u001b[0;34m\"L.A. County's scraper is missing rows\"\u001b[0m\u001b[0;34m)\u001b[0m\u001b[0;34m\u001b[0m\u001b[0;34m\u001b[0m\u001b[0m\n\u001b[0m",
      "\u001b[0;31mAssertionError\u001b[0m: L.A. County's scraper is missing rows"
     ]
    }
   ],
   "source": [
    "try:\n",
    "    assert not len(df) < 342\n",
    "except AssertionError:\n",
    "    raise AssertionError(\"L.A. County's scraper is missing rows\")"
   ]
  },
  {
   "cell_type": "markdown",
   "metadata": {},
   "source": [
    "## Export"
   ]
  },
  {
   "cell_type": "markdown",
   "metadata": {},
   "source": [
    "Set the date"
   ]
  },
  {
   "cell_type": "code",
   "execution_count": 33,
   "metadata": {},
   "outputs": [],
   "source": [
    "tz = pytz.timezone(\"America/Los_Angeles\")"
   ]
  },
  {
   "cell_type": "code",
   "execution_count": 34,
   "metadata": {},
   "outputs": [],
   "source": [
    "today = datetime.now(tz).date()"
   ]
  },
  {
   "cell_type": "code",
   "execution_count": 35,
   "metadata": {},
   "outputs": [],
   "source": [
    "slug = \"los-angeles\""
   ]
  },
  {
   "cell_type": "code",
   "execution_count": 36,
   "metadata": {},
   "outputs": [],
   "source": [
    "df.to_csv(data_dir / slug / f\"{today}.csv\", index=False)"
   ]
  },
  {
   "cell_type": "markdown",
   "metadata": {},
   "source": [
    "## Combine"
   ]
  },
  {
   "cell_type": "code",
   "execution_count": 37,
   "metadata": {},
   "outputs": [],
   "source": [
    "csv_list = [\n",
    "    i\n",
    "    for i in glob.glob(str(data_dir / slug / \"*.csv\"))\n",
    "    if not str(i).endswith(\"timeseries.csv\")\n",
    "]"
   ]
  },
  {
   "cell_type": "code",
   "execution_count": 38,
   "metadata": {},
   "outputs": [],
   "source": [
    "df_list = []\n",
    "for csv in csv_list:\n",
    "    if \"manual\" in csv:\n",
    "        df = pd.read_csv(csv, parse_dates=[\"date\"])\n",
    "    else:\n",
    "        file_date = csv.split(\"/\")[-1].replace(\".csv\", \"\")\n",
    "        df = pd.read_csv(csv, parse_dates=[\"county_date\"])\n",
    "        df[\"date\"] = file_date\n",
    "    df_list.append(df)"
   ]
  },
  {
   "cell_type": "code",
   "execution_count": 39,
   "metadata": {},
   "outputs": [],
   "source": [
    "df = pd.concat(df_list).sort_values([\"date\", \"area\"])"
   ]
  },
  {
   "cell_type": "code",
   "execution_count": 40,
   "metadata": {},
   "outputs": [],
   "source": [
    "df.to_csv(data_dir / slug / \"timeseries.csv\", index=False)"
   ]
  },
  {
   "cell_type": "code",
   "execution_count": null,
   "metadata": {},
   "outputs": [],
   "source": []
  },
  {
   "cell_type": "code",
   "execution_count": null,
   "metadata": {},
   "outputs": [],
   "source": []
  }
 ],
 "metadata": {
  "kernelspec": {
   "display_name": "Python 3 (ipykernel)",
   "language": "python",
   "name": "python3"
  },
  "language_info": {
   "codemirror_mode": {
    "name": "ipython",
    "version": 3
   },
   "file_extension": ".py",
   "mimetype": "text/x-python",
   "name": "python",
   "nbconvert_exporter": "python",
   "pygments_lexer": "ipython3",
   "version": "3.8.15"
  }
 },
 "nbformat": 4,
 "nbformat_minor": 4
}
