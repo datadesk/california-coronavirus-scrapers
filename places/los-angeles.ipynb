{
 "cells": [
  {
   "cell_type": "markdown",
   "metadata": {
    "tags": []
   },
   "source": [
    "## Configuration\n",
    "_Initial steps to get the notebook ready to play nice with our repository. Do not delete this section._"
   ]
  },
  {
   "cell_type": "markdown",
   "metadata": {},
   "source": [
    "Code formatting with [black](https://pypi.org/project/nb-black/)."
   ]
  },
  {
   "cell_type": "code",
   "execution_count": null,
   "metadata": {},
   "outputs": [],
   "source": []
  },
  {
   "cell_type": "code",
   "execution_count": 1,
   "metadata": {
    "execution": {
     "iopub.execute_input": "2023-02-22T00:27:26.689349Z",
     "iopub.status.busy": "2023-02-22T00:27:26.688644Z",
     "iopub.status.idle": "2023-02-22T00:27:26.697350Z",
     "shell.execute_reply": "2023-02-22T00:27:26.696633Z"
    }
   },
   "outputs": [],
   "source": [
    "import os\n",
    "import pathlib"
   ]
  },
  {
   "cell_type": "code",
   "execution_count": 2,
   "metadata": {
    "execution": {
     "iopub.execute_input": "2023-02-22T00:27:26.701198Z",
     "iopub.status.busy": "2023-02-22T00:27:26.700687Z",
     "iopub.status.idle": "2023-02-22T00:27:26.704765Z",
     "shell.execute_reply": "2023-02-22T00:27:26.703965Z"
    }
   },
   "outputs": [],
   "source": [
    "this_dir = pathlib.Path(os.path.abspath(\"\"))"
   ]
  },
  {
   "cell_type": "code",
   "execution_count": 3,
   "metadata": {
    "execution": {
     "iopub.execute_input": "2023-02-22T00:27:26.708310Z",
     "iopub.status.busy": "2023-02-22T00:27:26.707807Z",
     "iopub.status.idle": "2023-02-22T00:27:26.711953Z",
     "shell.execute_reply": "2023-02-22T00:27:26.711135Z"
    }
   },
   "outputs": [],
   "source": [
    "data_dir = this_dir / \"data\""
   ]
  },
  {
   "cell_type": "code",
   "execution_count": 4,
   "metadata": {
    "execution": {
     "iopub.execute_input": "2023-02-22T00:27:26.715661Z",
     "iopub.status.busy": "2023-02-22T00:27:26.715242Z",
     "iopub.status.idle": "2023-02-22T00:27:27.195632Z",
     "shell.execute_reply": "2023-02-22T00:27:27.194613Z"
    }
   },
   "outputs": [],
   "source": [
    "import re\n",
    "import pytz\n",
    "import glob\n",
    "import requests\n",
    "import unicodedata\n",
    "import pandas as pd\n",
    "from slugify import slugify\n",
    "from bs4 import BeautifulSoup\n",
    "from datetime import datetime, date"
   ]
  },
  {
   "cell_type": "markdown",
   "metadata": {},
   "source": [
    "## Download"
   ]
  },
  {
   "cell_type": "markdown",
   "metadata": {},
   "source": [
    "Retrieve the page"
   ]
  },
  {
   "cell_type": "code",
   "execution_count": 5,
   "metadata": {
    "execution": {
     "iopub.execute_input": "2023-02-22T00:27:27.200084Z",
     "iopub.status.busy": "2023-02-22T00:27:27.199706Z",
     "iopub.status.idle": "2023-02-22T00:27:27.204326Z",
     "shell.execute_reply": "2023-02-22T00:27:27.203511Z"
    }
   },
   "outputs": [],
   "source": [
    "url = \"http://publichealth.lacounty.gov/media/Coronavirus/locations.htm\""
   ]
  },
  {
   "cell_type": "code",
   "execution_count": 6,
   "metadata": {
    "execution": {
     "iopub.execute_input": "2023-02-22T00:27:27.208051Z",
     "iopub.status.busy": "2023-02-22T00:27:27.207636Z",
     "iopub.status.idle": "2023-02-22T00:27:27.500969Z",
     "shell.execute_reply": "2023-02-22T00:27:27.500074Z"
    }
   },
   "outputs": [],
   "source": [
    "page = requests.get(url)"
   ]
  },
  {
   "cell_type": "markdown",
   "metadata": {},
   "source": [
    "## Parse"
   ]
  },
  {
   "cell_type": "code",
   "execution_count": 7,
   "metadata": {
    "execution": {
     "iopub.execute_input": "2023-02-22T00:27:27.505273Z",
     "iopub.status.busy": "2023-02-22T00:27:27.504685Z",
     "iopub.status.idle": "2023-02-22T00:27:27.735336Z",
     "shell.execute_reply": "2023-02-22T00:27:27.734379Z"
    }
   },
   "outputs": [],
   "source": [
    "soup = BeautifulSoup(page.content, \"html.parser\")"
   ]
  },
  {
   "cell_type": "markdown",
   "metadata": {},
   "source": [
    "Get content well"
   ]
  },
  {
   "cell_type": "code",
   "execution_count": 8,
   "metadata": {
    "execution": {
     "iopub.execute_input": "2023-02-22T00:27:27.742158Z",
     "iopub.status.busy": "2023-02-22T00:27:27.741397Z",
     "iopub.status.idle": "2023-02-22T00:27:27.749861Z",
     "shell.execute_reply": "2023-02-22T00:27:27.749068Z"
    }
   },
   "outputs": [],
   "source": [
    "content = soup.find(\"div\", {\"id\": \"content\"})"
   ]
  },
  {
   "cell_type": "markdown",
   "metadata": {},
   "source": [
    "Get table"
   ]
  },
  {
   "cell_type": "code",
   "execution_count": 9,
   "metadata": {
    "execution": {
     "iopub.execute_input": "2023-02-22T00:27:27.754857Z",
     "iopub.status.busy": "2023-02-22T00:27:27.753316Z",
     "iopub.status.idle": "2023-02-22T00:27:27.772174Z",
     "shell.execute_reply": "2023-02-22T00:27:27.771102Z"
    }
   },
   "outputs": [
    {
     "name": "stderr",
     "output_type": "stream",
     "text": [
      "/tmp/ipykernel_2347/719696481.py:1: DeprecationWarning: The 'text' argument to find()-type methods is deprecated. Use 'string' instead.\n",
      "  for tag in content.find_all(text=re.compile(\"CITY/COMMUNITY\")):\n"
     ]
    }
   ],
   "source": [
    "for tag in content.find_all(text=re.compile(\"CITY/COMMUNITY\")):\n",
    "    table = tag.findParent(\"table\")"
   ]
  },
  {
   "cell_type": "code",
   "execution_count": 10,
   "metadata": {
    "execution": {
     "iopub.execute_input": "2023-02-22T00:27:27.776587Z",
     "iopub.status.busy": "2023-02-22T00:27:27.775885Z",
     "iopub.status.idle": "2023-02-22T00:27:27.783268Z",
     "shell.execute_reply": "2023-02-22T00:27:27.782510Z"
    }
   },
   "outputs": [],
   "source": [
    "tbody = soup.tbody"
   ]
  },
  {
   "cell_type": "code",
   "execution_count": 11,
   "metadata": {
    "execution": {
     "iopub.execute_input": "2023-02-22T00:27:27.787447Z",
     "iopub.status.busy": "2023-02-22T00:27:27.786800Z",
     "iopub.status.idle": "2023-02-22T00:27:27.792779Z",
     "shell.execute_reply": "2023-02-22T00:27:27.791961Z"
    }
   },
   "outputs": [],
   "source": [
    "row_list = tbody.find_all(\"tr\")"
   ]
  },
  {
   "cell_type": "code",
   "execution_count": 12,
   "metadata": {
    "execution": {
     "iopub.execute_input": "2023-02-22T00:27:27.796038Z",
     "iopub.status.busy": "2023-02-22T00:27:27.795609Z",
     "iopub.status.idle": "2023-02-22T00:27:27.800942Z",
     "shell.execute_reply": "2023-02-22T00:27:27.800074Z"
    }
   },
   "outputs": [],
   "source": [
    "dict_list = []"
   ]
  },
  {
   "cell_type": "code",
   "execution_count": 13,
   "metadata": {
    "execution": {
     "iopub.execute_input": "2023-02-22T00:27:27.804463Z",
     "iopub.status.busy": "2023-02-22T00:27:27.804059Z",
     "iopub.status.idle": "2023-02-22T00:27:27.813032Z",
     "shell.execute_reply": "2023-02-22T00:27:27.812077Z"
    }
   },
   "outputs": [],
   "source": [
    "def safetxt(element):\n",
    "    v = element.text.strip()\n",
    "    v = v.replace(\"\\u200b\", \"\")\n",
    "    return v"
   ]
  },
  {
   "cell_type": "code",
   "execution_count": 14,
   "metadata": {
    "execution": {
     "iopub.execute_input": "2023-02-22T00:27:27.816735Z",
     "iopub.status.busy": "2023-02-22T00:27:27.816219Z",
     "iopub.status.idle": "2023-02-22T00:27:27.821948Z",
     "shell.execute_reply": "2023-02-22T00:27:27.821184Z"
    }
   },
   "outputs": [],
   "source": [
    "def safenumber(element):\n",
    "    v = safetxt(element)\n",
    "    v = v.replace(\",\", \"\")\n",
    "    v = v.replace(\" \", \"\")\n",
    "    return v"
   ]
  },
  {
   "cell_type": "code",
   "execution_count": 15,
   "metadata": {
    "execution": {
     "iopub.execute_input": "2023-02-22T00:27:27.825236Z",
     "iopub.status.busy": "2023-02-22T00:27:27.824810Z",
     "iopub.status.idle": "2023-02-22T00:27:27.838049Z",
     "shell.execute_reply": "2023-02-22T00:27:27.837253Z"
    }
   },
   "outputs": [],
   "source": [
    "for row in row_list:\n",
    "    cell_content = row.find_all(\"td\")\n",
    "    d = dict(\n",
    "        county=\"Los Angeles\",\n",
    "        area=safetxt(cell_content[0]),\n",
    "        confirmed_cases=safenumber(cell_content[1]),\n",
    "        confirmed_deaths=safenumber(cell_content[3]),\n",
    "    )\n",
    "    dict_list.append(d)"
   ]
  },
  {
   "cell_type": "code",
   "execution_count": 16,
   "metadata": {
    "execution": {
     "iopub.execute_input": "2023-02-22T00:27:27.841763Z",
     "iopub.status.busy": "2023-02-22T00:27:27.841354Z",
     "iopub.status.idle": "2023-02-22T00:27:27.847759Z",
     "shell.execute_reply": "2023-02-22T00:27:27.846984Z"
    }
   },
   "outputs": [],
   "source": [
    "df = pd.DataFrame(dict_list)"
   ]
  },
  {
   "cell_type": "markdown",
   "metadata": {},
   "source": [
    "Get timestamp"
   ]
  },
  {
   "cell_type": "code",
   "execution_count": 17,
   "metadata": {
    "execution": {
     "iopub.execute_input": "2023-02-22T00:27:27.851508Z",
     "iopub.status.busy": "2023-02-22T00:27:27.851080Z",
     "iopub.status.idle": "2023-02-22T00:27:27.855947Z",
     "shell.execute_reply": "2023-02-22T00:27:27.855219Z"
    }
   },
   "outputs": [],
   "source": [
    "date_url = \"http://publichealth.lacounty.gov/media/Coronavirus/js/casecounter.js\""
   ]
  },
  {
   "cell_type": "code",
   "execution_count": 18,
   "metadata": {
    "execution": {
     "iopub.execute_input": "2023-02-22T00:27:27.859699Z",
     "iopub.status.busy": "2023-02-22T00:27:27.859269Z",
     "iopub.status.idle": "2023-02-22T00:27:28.034434Z",
     "shell.execute_reply": "2023-02-22T00:27:28.033549Z"
    }
   },
   "outputs": [],
   "source": [
    "response = requests.get(date_url)\n",
    "date_page = response.text"
   ]
  },
  {
   "cell_type": "code",
   "execution_count": 19,
   "metadata": {
    "execution": {
     "iopub.execute_input": "2023-02-22T00:27:28.038657Z",
     "iopub.status.busy": "2023-02-22T00:27:28.038022Z",
     "iopub.status.idle": "2023-02-22T00:27:28.047615Z",
     "shell.execute_reply": "2023-02-22T00:27:28.046799Z"
    }
   },
   "outputs": [
    {
     "data": {
      "text/plain": [
       "'$( document ).ready(function() {\\r\\n    var data = {\\r\\n\\t\\t\\t\\t    \"content\": { \\r\\n\\t\\t\\r\\n\\t\\t\\t\"count\": \"3,697,051\",\\r\\n\\r\\n\\r\\n\\t\\t\\t\"death\": \"35,603\",\\r\\n\\r\\n\\t\\t\\t\"dailycount\": \"378\",\\r\\n\\r\\n\\r\\n\\t\\t\\t\"dailydeath\": \"10\",\\r\\n\\t\\t\\t\"hospitalizationsever\": \"172,541\",\\r\\n\\r\\n\\r\\n\\t\\t\\t\"date\": \"02/21/23\",\\r\\n\\t\\t\\t\"info\": \"through 12:00pm 02/20/2023\",\\r\\n\\r\\n\\t\\t\\t\"testingaverage\": \"18,071\",\\r\\n\\r\\n\\t\\t\\t\"peopletested\": \"12,927,180\",\\r\\n\\r\\n\\t\\t\\t\"positivity\": \"6.02%\",\\r\\n\\r\\n\\t\\t\\t\"hospitalizations\": \"714\",\\r\\n\\t\\t\\t\"datehospitalizations\": \"2/17/23\"\\r\\n\\r\\n\\t\\t\\t\\t}       \\r\\n\\t\\t\\t\\t};\\t\\r\\n\\t\\t\\t\\t\\r\\n\\t\\t\\t\\t\\r\\n\\t\\t\\t\\tvar content = data.content;\\r\\n\\t\\t\\t\\t\\r\\n\\t\\t\\t\\t$(\\'#ctn\\').html(content.count);\\r\\n\\t\\t\\t\\t$(\\'#det\\').html(content.death);\\r\\n\\t\\t\\t\\t$(\\'#dctn\\').html(content.dailycount);\\r\\n\\t\\t\\t\\t$(\\'#ddet\\').html(content.dailydeath);\\r\\n\\t\\t\\t\\t$(\\'#hosp_1\\').html(content.hospitalizationsever);\\r\\n\\t\\t\\t\\t$(\\'#dte\\').html(content.date);\\r\\n\\t\\t\\t\\t$(\\'#dte_1\\').html(content.date);\\r\\n\\t\\t\\t\\t$(\\'#dte_2\\').html(content.date);\\r\\n\\t\\t\\t\\t$(\\'#dte_3\\').html(content.datehospitalizations);\\r\\n\\t\\t\\t\\t$(\\'#cse\\').html(content.info);\\t\\r\\n\\t\\t\\t\\r\\n\\t\\t\\t\\t\\r\\n\\t\\t\\t\\t$(\\'#tstavg\\').html(content.testingaverage);\\t\\r\\n\\t\\t\\t\\t$(\\'#ppltst\\').html(content.peopletested);\\t\\r\\n\\t\\t\\t\\t$(\\'#pos\\').html(content.positivity);\\t\\r\\n\\t\\t\\t\\t$(\\'#hosp\\').html(content.hospitalizations);\\r\\n\\t\\t\\t\\r\\n\\t\\t\\t\\t\\t\\t\\t\\r\\n\\r\\n\\r\\n});\\r\\n\\r\\n\\r\\n\\r\\n'"
      ]
     },
     "execution_count": 19,
     "metadata": {},
     "output_type": "execute_result"
    }
   ],
   "source": [
    "date_page"
   ]
  },
  {
   "cell_type": "code",
   "execution_count": 20,
   "metadata": {
    "execution": {
     "iopub.execute_input": "2023-02-22T00:27:28.051445Z",
     "iopub.status.busy": "2023-02-22T00:27:28.050806Z",
     "iopub.status.idle": "2023-02-22T00:27:28.054325Z",
     "shell.execute_reply": "2023-02-22T00:27:28.053522Z"
    }
   },
   "outputs": [],
   "source": [
    "# date_text = re.search(r\"([0-9][0-9]/[0-9][0-9])\", date_page).group(1)\n",
    "# date_text = date_text + \"/\" + str(date.today().year)"
   ]
  },
  {
   "cell_type": "code",
   "execution_count": 21,
   "metadata": {
    "execution": {
     "iopub.execute_input": "2023-02-22T00:27:28.057722Z",
     "iopub.status.busy": "2023-02-22T00:27:28.057454Z",
     "iopub.status.idle": "2023-02-22T00:27:28.063814Z",
     "shell.execute_reply": "2023-02-22T00:27:28.062298Z"
    }
   },
   "outputs": [],
   "source": [
    "date_text = re.search(r\"through (.+?)\\\"\", date_page).group(1)"
   ]
  },
  {
   "cell_type": "code",
   "execution_count": 22,
   "metadata": {
    "execution": {
     "iopub.execute_input": "2023-02-22T00:27:28.069173Z",
     "iopub.status.busy": "2023-02-22T00:27:28.068610Z",
     "iopub.status.idle": "2023-02-22T00:27:28.072891Z",
     "shell.execute_reply": "2023-02-22T00:27:28.071878Z"
    }
   },
   "outputs": [],
   "source": [
    "date_text = date_text.split(\"m \")[0]"
   ]
  },
  {
   "cell_type": "code",
   "execution_count": 23,
   "metadata": {
    "execution": {
     "iopub.execute_input": "2023-02-22T00:27:28.076637Z",
     "iopub.status.busy": "2023-02-22T00:27:28.076353Z",
     "iopub.status.idle": "2023-02-22T00:27:28.080857Z",
     "shell.execute_reply": "2023-02-22T00:27:28.080047Z"
    }
   },
   "outputs": [],
   "source": [
    "latest_date = pd.to_datetime(date_text).date()"
   ]
  },
  {
   "cell_type": "code",
   "execution_count": 24,
   "metadata": {
    "execution": {
     "iopub.execute_input": "2023-02-22T00:27:28.084424Z",
     "iopub.status.busy": "2023-02-22T00:27:28.083991Z",
     "iopub.status.idle": "2023-02-22T00:27:28.088434Z",
     "shell.execute_reply": "2023-02-22T00:27:28.087626Z"
    }
   },
   "outputs": [],
   "source": [
    "df[\"county_date\"] = latest_date"
   ]
  },
  {
   "cell_type": "code",
   "execution_count": 25,
   "metadata": {
    "execution": {
     "iopub.execute_input": "2023-02-22T00:27:28.092013Z",
     "iopub.status.busy": "2023-02-22T00:27:28.091590Z",
     "iopub.status.idle": "2023-02-22T00:27:28.097918Z",
     "shell.execute_reply": "2023-02-22T00:27:28.097189Z"
    }
   },
   "outputs": [],
   "source": [
    "df.loc[df.area == \"-  Under Investigation\", \"area\"] = \"Under Investigation\""
   ]
  },
  {
   "cell_type": "code",
   "execution_count": 26,
   "metadata": {
    "execution": {
     "iopub.execute_input": "2023-02-22T00:27:28.101195Z",
     "iopub.status.busy": "2023-02-22T00:27:28.100769Z",
     "iopub.status.idle": "2023-02-22T00:27:28.105439Z",
     "shell.execute_reply": "2023-02-22T00:27:28.104644Z"
    }
   },
   "outputs": [],
   "source": [
    "df.loc[df.area == \"- Under Investigation\", \"area\"] = \"Under Investigation\""
   ]
  },
  {
   "cell_type": "markdown",
   "metadata": {},
   "source": [
    "## Vet"
   ]
  },
  {
   "cell_type": "code",
   "execution_count": 27,
   "metadata": {
    "execution": {
     "iopub.execute_input": "2023-02-22T00:27:28.109152Z",
     "iopub.status.busy": "2023-02-22T00:27:28.108479Z",
     "iopub.status.idle": "2023-02-22T00:27:28.113578Z",
     "shell.execute_reply": "2023-02-22T00:27:28.112790Z"
    }
   },
   "outputs": [
    {
     "data": {
      "text/plain": [
       "342"
      ]
     },
     "execution_count": 27,
     "metadata": {},
     "output_type": "execute_result"
    }
   ],
   "source": [
    "len(df)"
   ]
  },
  {
   "cell_type": "code",
   "execution_count": 28,
   "metadata": {
    "execution": {
     "iopub.execute_input": "2023-02-22T00:27:28.116815Z",
     "iopub.status.busy": "2023-02-22T00:27:28.116392Z",
     "iopub.status.idle": "2023-02-22T00:27:28.342232Z",
     "shell.execute_reply": "2023-02-22T00:27:28.340928Z"
    }
   },
   "outputs": [
    {
     "ename": "AssertionError",
     "evalue": "L.A. County's scraper has extra rows",
     "output_type": "error",
     "traceback": [
      "\u001b[0;31m---------------------------------------------------------------------------\u001b[0m",
      "\u001b[0;31mAssertionError\u001b[0m                            Traceback (most recent call last)",
      "Cell \u001b[0;32mIn[28], line 2\u001b[0m\n\u001b[1;32m      1\u001b[0m \u001b[38;5;28;01mtry\u001b[39;00m:\n\u001b[0;32m----> 2\u001b[0m     \u001b[38;5;28;01massert\u001b[39;00m \u001b[38;5;129;01mnot\u001b[39;00m \u001b[38;5;28mlen\u001b[39m(df) \u001b[38;5;241m>\u001b[39m \u001b[38;5;241m340\u001b[39m\n\u001b[1;32m      3\u001b[0m \u001b[38;5;28;01mexcept\u001b[39;00m \u001b[38;5;167;01mAssertionError\u001b[39;00m:\n",
      "\u001b[0;31mAssertionError\u001b[0m: ",
      "\nDuring handling of the above exception, another exception occurred:\n",
      "\u001b[0;31mAssertionError\u001b[0m                            Traceback (most recent call last)",
      "Cell \u001b[0;32mIn[28], line 4\u001b[0m\n\u001b[1;32m      2\u001b[0m     \u001b[38;5;28;01massert\u001b[39;00m \u001b[38;5;129;01mnot\u001b[39;00m \u001b[38;5;28mlen\u001b[39m(df) \u001b[38;5;241m>\u001b[39m \u001b[38;5;241m340\u001b[39m\n\u001b[1;32m      3\u001b[0m \u001b[38;5;28;01mexcept\u001b[39;00m \u001b[38;5;167;01mAssertionError\u001b[39;00m:\n\u001b[0;32m----> 4\u001b[0m     \u001b[38;5;28;01mraise\u001b[39;00m \u001b[38;5;167;01mAssertionError\u001b[39;00m(\u001b[38;5;124m\"\u001b[39m\u001b[38;5;124mL.A. County\u001b[39m\u001b[38;5;124m'\u001b[39m\u001b[38;5;124ms scraper has extra rows\u001b[39m\u001b[38;5;124m\"\u001b[39m)\n",
      "\u001b[0;31mAssertionError\u001b[0m: L.A. County's scraper has extra rows"
     ]
    }
   ],
   "source": [
    "try:\n",
    "    assert not len(df) > 340\n",
    "except AssertionError:\n",
    "    raise AssertionError(\"L.A. County's scraper has extra rows\")"
   ]
  },
  {
   "cell_type": "code",
   "execution_count": 31,
   "metadata": {},
   "outputs": [],
   "source": [
    "try:\n",
    "    assert not len(df) < 340\n",
    "except AssertionError:\n",
    "    raise AssertionError(\"L.A. County's scraper is missing rows\")"
   ]
  },
  {
   "cell_type": "markdown",
   "metadata": {},
   "source": [
    "## Export"
   ]
  },
  {
   "cell_type": "markdown",
   "metadata": {},
   "source": [
    "Set the date"
   ]
  },
  {
   "cell_type": "code",
   "execution_count": 32,
   "metadata": {},
   "outputs": [],
   "source": [
    "tz = pytz.timezone(\"America/Los_Angeles\")"
   ]
  },
  {
   "cell_type": "code",
   "execution_count": 33,
   "metadata": {},
   "outputs": [],
   "source": [
    "today = datetime.now(tz).date()"
   ]
  },
  {
   "cell_type": "code",
   "execution_count": 34,
   "metadata": {},
   "outputs": [],
   "source": [
    "slug = \"los-angeles\""
   ]
  },
  {
   "cell_type": "code",
   "execution_count": 35,
   "metadata": {},
   "outputs": [],
   "source": [
    "df.to_csv(data_dir / slug / f\"{today}.csv\", index=False)"
   ]
  },
  {
   "cell_type": "markdown",
   "metadata": {},
   "source": [
    "## Combine"
   ]
  },
  {
   "cell_type": "code",
   "execution_count": 36,
   "metadata": {},
   "outputs": [],
   "source": [
    "csv_list = [\n",
    "    i\n",
    "    for i in glob.glob(str(data_dir / slug / \"*.csv\"))\n",
    "    if not str(i).endswith(\"timeseries.csv\")\n",
    "]"
   ]
  },
  {
   "cell_type": "code",
   "execution_count": 37,
   "metadata": {},
   "outputs": [],
   "source": [
    "df_list = []\n",
    "for csv in csv_list:\n",
    "    if \"manual\" in csv:\n",
    "        df = pd.read_csv(csv, parse_dates=[\"date\"])\n",
    "    else:\n",
    "        file_date = csv.split(\"/\")[-1].replace(\".csv\", \"\")\n",
    "        df = pd.read_csv(csv, parse_dates=[\"county_date\"])\n",
    "        df[\"date\"] = file_date\n",
    "    df_list.append(df)"
   ]
  },
  {
   "cell_type": "code",
   "execution_count": 38,
   "metadata": {},
   "outputs": [],
   "source": [
    "df = pd.concat(df_list).sort_values([\"date\", \"area\"])"
   ]
  },
  {
   "cell_type": "code",
   "execution_count": 39,
   "metadata": {},
   "outputs": [],
   "source": [
    "df.to_csv(data_dir / slug / \"timeseries.csv\", index=False)"
   ]
  },
  {
   "cell_type": "code",
   "execution_count": null,
   "metadata": {},
   "outputs": [],
   "source": []
  },
  {
   "cell_type": "code",
   "execution_count": null,
   "metadata": {},
   "outputs": [],
   "source": []
  }
 ],
 "metadata": {
  "kernelspec": {
   "display_name": "Python 3 (ipykernel)",
   "language": "python",
   "name": "python3"
  },
  "language_info": {
   "codemirror_mode": {
    "name": "ipython",
    "version": 3
   },
   "file_extension": ".py",
   "mimetype": "text/x-python",
   "name": "python",
   "nbconvert_exporter": "python",
   "pygments_lexer": "ipython3",
   "version": "3.8.16"
  }
 },
 "nbformat": 4,
 "nbformat_minor": 4
}
