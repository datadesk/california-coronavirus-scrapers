{
 "cells": [
  {
   "cell_type": "markdown",
   "metadata": {
    "tags": []
   },
   "source": [
    "## Configuration\n",
    "_Initial steps to get the notebook ready to play nice with our repository. Do not delete this section._"
   ]
  },
  {
   "cell_type": "markdown",
   "metadata": {},
   "source": [
    "Code formatting with [black](https://pypi.org/project/nb-black/)."
   ]
  },
  {
   "cell_type": "code",
   "execution_count": 1,
   "metadata": {
    "execution": {
     "iopub.execute_input": "2022-08-03T20:19:32.001321Z",
     "iopub.status.busy": "2022-08-03T20:19:32.000656Z",
     "iopub.status.idle": "2022-08-03T20:19:32.166761Z",
     "shell.execute_reply": "2022-08-03T20:19:32.166174Z"
    }
   },
   "outputs": [],
   "source": [
    "%load_ext lab_black"
   ]
  },
  {
   "cell_type": "code",
   "execution_count": 2,
   "metadata": {
    "execution": {
     "iopub.execute_input": "2022-08-03T20:19:32.170882Z",
     "iopub.status.busy": "2022-08-03T20:19:32.170410Z",
     "iopub.status.idle": "2022-08-03T20:19:32.174475Z",
     "shell.execute_reply": "2022-08-03T20:19:32.174060Z"
    }
   },
   "outputs": [],
   "source": [
    "import os\n",
    "import pathlib"
   ]
  },
  {
   "cell_type": "code",
   "execution_count": 3,
   "metadata": {
    "execution": {
     "iopub.execute_input": "2022-08-03T20:19:32.178397Z",
     "iopub.status.busy": "2022-08-03T20:19:32.177915Z",
     "iopub.status.idle": "2022-08-03T20:19:32.182266Z",
     "shell.execute_reply": "2022-08-03T20:19:32.182608Z"
    }
   },
   "outputs": [],
   "source": [
    "this_dir = pathlib.Path(os.path.abspath(\"\"))"
   ]
  },
  {
   "cell_type": "code",
   "execution_count": 4,
   "metadata": {
    "execution": {
     "iopub.execute_input": "2022-08-03T20:19:32.186284Z",
     "iopub.status.busy": "2022-08-03T20:19:32.185846Z",
     "iopub.status.idle": "2022-08-03T20:19:32.188935Z",
     "shell.execute_reply": "2022-08-03T20:19:32.188547Z"
    }
   },
   "outputs": [],
   "source": [
    "data_dir = this_dir / \"data\""
   ]
  },
  {
   "cell_type": "code",
   "execution_count": 5,
   "metadata": {
    "execution": {
     "iopub.execute_input": "2022-08-03T20:19:32.192504Z",
     "iopub.status.busy": "2022-08-03T20:19:32.192039Z",
     "iopub.status.idle": "2022-08-03T20:19:32.644619Z",
     "shell.execute_reply": "2022-08-03T20:19:32.645059Z"
    }
   },
   "outputs": [],
   "source": [
    "import re\n",
    "import pytz\n",
    "import glob\n",
    "import requests\n",
    "import unicodedata\n",
    "import pandas as pd\n",
    "from slugify import slugify\n",
    "from bs4 import BeautifulSoup\n",
    "from datetime import datetime, date"
   ]
  },
  {
   "cell_type": "markdown",
   "metadata": {},
   "source": [
    "## Download"
   ]
  },
  {
   "cell_type": "markdown",
   "metadata": {},
   "source": [
    "Retrieve the page"
   ]
  },
  {
   "cell_type": "code",
   "execution_count": 6,
   "metadata": {
    "execution": {
     "iopub.execute_input": "2022-08-03T20:19:32.650531Z",
     "iopub.status.busy": "2022-08-03T20:19:32.648955Z",
     "iopub.status.idle": "2022-08-03T20:19:32.652644Z",
     "shell.execute_reply": "2022-08-03T20:19:32.653222Z"
    }
   },
   "outputs": [],
   "source": [
    "url = \"http://publichealth.lacounty.gov/media/Coronavirus/locations.htm\""
   ]
  },
  {
   "cell_type": "code",
   "execution_count": 7,
   "metadata": {
    "execution": {
     "iopub.execute_input": "2022-08-03T20:19:32.656859Z",
     "iopub.status.busy": "2022-08-03T20:19:32.656421Z",
     "iopub.status.idle": "2022-08-03T20:19:33.014474Z",
     "shell.execute_reply": "2022-08-03T20:19:33.013924Z"
    }
   },
   "outputs": [],
   "source": [
    "page = requests.get(url)"
   ]
  },
  {
   "cell_type": "markdown",
   "metadata": {},
   "source": [
    "## Parse"
   ]
  },
  {
   "cell_type": "code",
   "execution_count": 8,
   "metadata": {
    "execution": {
     "iopub.execute_input": "2022-08-03T20:19:33.048577Z",
     "iopub.status.busy": "2022-08-03T20:19:33.038098Z",
     "iopub.status.idle": "2022-08-03T20:19:33.223898Z",
     "shell.execute_reply": "2022-08-03T20:19:33.223393Z"
    }
   },
   "outputs": [],
   "source": [
    "soup = BeautifulSoup(page.content, \"html.parser\")"
   ]
  },
  {
   "cell_type": "markdown",
   "metadata": {},
   "source": [
    "Get content well"
   ]
  },
  {
   "cell_type": "code",
   "execution_count": 9,
   "metadata": {
    "execution": {
     "iopub.execute_input": "2022-08-03T20:19:33.231626Z",
     "iopub.status.busy": "2022-08-03T20:19:33.229802Z",
     "iopub.status.idle": "2022-08-03T20:19:33.234485Z",
     "shell.execute_reply": "2022-08-03T20:19:33.234869Z"
    }
   },
   "outputs": [],
   "source": [
    "content = soup.find(\"div\", {\"id\": \"content\"})"
   ]
  },
  {
   "cell_type": "markdown",
   "metadata": {},
   "source": [
    "Get table"
   ]
  },
  {
   "cell_type": "code",
   "execution_count": 10,
   "metadata": {
    "execution": {
     "iopub.execute_input": "2022-08-03T20:19:33.255006Z",
     "iopub.status.busy": "2022-08-03T20:19:33.252516Z",
     "iopub.status.idle": "2022-08-03T20:19:33.259384Z",
     "shell.execute_reply": "2022-08-03T20:19:33.259012Z"
    }
   },
   "outputs": [],
   "source": [
    "for tag in content.find_all(text=re.compile(\"CITY/COMMUNITY\")):\n",
    "    table = tag.findParent(\"table\")"
   ]
  },
  {
   "cell_type": "code",
   "execution_count": 11,
   "metadata": {
    "execution": {
     "iopub.execute_input": "2022-08-03T20:19:33.265265Z",
     "iopub.status.busy": "2022-08-03T20:19:33.264829Z",
     "iopub.status.idle": "2022-08-03T20:19:33.267333Z",
     "shell.execute_reply": "2022-08-03T20:19:33.267705Z"
    }
   },
   "outputs": [],
   "source": [
    "tbody = soup.tbody"
   ]
  },
  {
   "cell_type": "code",
   "execution_count": 12,
   "metadata": {
    "execution": {
     "iopub.execute_input": "2022-08-03T20:19:33.273738Z",
     "iopub.status.busy": "2022-08-03T20:19:33.273300Z",
     "iopub.status.idle": "2022-08-03T20:19:33.276216Z",
     "shell.execute_reply": "2022-08-03T20:19:33.275819Z"
    }
   },
   "outputs": [],
   "source": [
    "row_list = tbody.find_all(\"tr\")"
   ]
  },
  {
   "cell_type": "code",
   "execution_count": 13,
   "metadata": {
    "execution": {
     "iopub.execute_input": "2022-08-03T20:19:33.280849Z",
     "iopub.status.busy": "2022-08-03T20:19:33.279865Z",
     "iopub.status.idle": "2022-08-03T20:19:33.281369Z",
     "shell.execute_reply": "2022-08-03T20:19:33.281732Z"
    }
   },
   "outputs": [],
   "source": [
    "dict_list = []"
   ]
  },
  {
   "cell_type": "code",
   "execution_count": 14,
   "metadata": {
    "execution": {
     "iopub.execute_input": "2022-08-03T20:19:33.285226Z",
     "iopub.status.busy": "2022-08-03T20:19:33.284788Z",
     "iopub.status.idle": "2022-08-03T20:19:33.288672Z",
     "shell.execute_reply": "2022-08-03T20:19:33.289016Z"
    }
   },
   "outputs": [],
   "source": [
    "def safetxt(element):\n",
    "    v = element.text.strip()\n",
    "    v = v.replace(\"\\u200b\", \"\")\n",
    "    return v"
   ]
  },
  {
   "cell_type": "code",
   "execution_count": 15,
   "metadata": {
    "execution": {
     "iopub.execute_input": "2022-08-03T20:19:33.296705Z",
     "iopub.status.busy": "2022-08-03T20:19:33.295698Z",
     "iopub.status.idle": "2022-08-03T20:19:33.297229Z",
     "shell.execute_reply": "2022-08-03T20:19:33.297595Z"
    }
   },
   "outputs": [],
   "source": [
    "def safenumber(element):\n",
    "    v = safetxt(element)\n",
    "    v = v.replace(\",\", \"\")\n",
    "    v = v.replace(\" \", \"\")\n",
    "    return v"
   ]
  },
  {
   "cell_type": "code",
   "execution_count": 16,
   "metadata": {
    "execution": {
     "iopub.execute_input": "2022-08-03T20:19:33.309208Z",
     "iopub.status.busy": "2022-08-03T20:19:33.308405Z",
     "iopub.status.idle": "2022-08-03T20:19:33.317380Z",
     "shell.execute_reply": "2022-08-03T20:19:33.316955Z"
    }
   },
   "outputs": [],
   "source": [
    "for row in row_list:\n",
    "    cell_content = row.find_all(\"td\")\n",
    "    d = dict(\n",
    "        county=\"Los Angeles\",\n",
    "        area=safetxt(cell_content[0]),\n",
    "        confirmed_cases=safenumber(cell_content[1]),\n",
    "        confirmed_deaths=safenumber(cell_content[3]),\n",
    "    )\n",
    "    dict_list.append(d)"
   ]
  },
  {
   "cell_type": "code",
   "execution_count": 17,
   "metadata": {
    "execution": {
     "iopub.execute_input": "2022-08-03T20:19:33.323444Z",
     "iopub.status.busy": "2022-08-03T20:19:33.323000Z",
     "iopub.status.idle": "2022-08-03T20:19:33.325619Z",
     "shell.execute_reply": "2022-08-03T20:19:33.325969Z"
    }
   },
   "outputs": [],
   "source": [
    "df = pd.DataFrame(dict_list)"
   ]
  },
  {
   "cell_type": "markdown",
   "metadata": {},
   "source": [
    "Get timestamp"
   ]
  },
  {
   "cell_type": "code",
   "execution_count": 18,
   "metadata": {
    "execution": {
     "iopub.execute_input": "2022-08-03T20:19:33.329566Z",
     "iopub.status.busy": "2022-08-03T20:19:33.328805Z",
     "iopub.status.idle": "2022-08-03T20:19:33.332627Z",
     "shell.execute_reply": "2022-08-03T20:19:33.333004Z"
    }
   },
   "outputs": [],
   "source": [
    "date_url = \"http://publichealth.lacounty.gov/media/Coronavirus/js/casecounter.js\""
   ]
  },
  {
   "cell_type": "code",
   "execution_count": 19,
   "metadata": {
    "execution": {
     "iopub.execute_input": "2022-08-03T20:19:33.339164Z",
     "iopub.status.busy": "2022-08-03T20:19:33.338727Z",
     "iopub.status.idle": "2022-08-03T20:19:33.655133Z",
     "shell.execute_reply": "2022-08-03T20:19:33.654005Z"
    }
   },
   "outputs": [],
   "source": [
    "response = requests.get(date_url)\n",
    "date_page = response.text"
   ]
  },
  {
   "cell_type": "code",
   "execution_count": 20,
   "metadata": {
    "execution": {
     "iopub.execute_input": "2022-08-03T20:19:33.661372Z",
     "iopub.status.busy": "2022-08-03T20:19:33.660468Z",
     "iopub.status.idle": "2022-08-03T20:19:33.786092Z",
     "shell.execute_reply": "2022-08-03T20:19:33.784536Z"
    }
   },
   "outputs": [
    {
     "ename": "AttributeError",
     "evalue": "'NoneType' object has no attribute 'group'",
     "output_type": "error",
     "traceback": [
      "\u001b[0;31m---------------------------------------------------------------------------\u001b[0m",
      "\u001b[0;31mAttributeError\u001b[0m                            Traceback (most recent call last)",
      "\u001b[0;32m/tmp/ipykernel_2455/2220748418.py\u001b[0m in \u001b[0;36m<module>\u001b[0;34m\u001b[0m\n\u001b[0;32m----> 1\u001b[0;31m \u001b[0mdate_text\u001b[0m \u001b[0;34m=\u001b[0m \u001b[0mre\u001b[0m\u001b[0;34m.\u001b[0m\u001b[0msearch\u001b[0m\u001b[0;34m(\u001b[0m\u001b[0;34mr\"([0-9][0-9]/[0-9][0-9])\"\u001b[0m\u001b[0;34m,\u001b[0m \u001b[0mdate_page\u001b[0m\u001b[0;34m)\u001b[0m\u001b[0;34m.\u001b[0m\u001b[0mgroup\u001b[0m\u001b[0;34m(\u001b[0m\u001b[0;36m1\u001b[0m\u001b[0;34m)\u001b[0m\u001b[0;34m\u001b[0m\u001b[0;34m\u001b[0m\u001b[0m\n\u001b[0m\u001b[1;32m      2\u001b[0m \u001b[0mdate_text\u001b[0m \u001b[0;34m=\u001b[0m \u001b[0mdate_text\u001b[0m \u001b[0;34m+\u001b[0m \u001b[0;34m\"/\"\u001b[0m \u001b[0;34m+\u001b[0m \u001b[0mstr\u001b[0m\u001b[0;34m(\u001b[0m\u001b[0mdate\u001b[0m\u001b[0;34m.\u001b[0m\u001b[0mtoday\u001b[0m\u001b[0;34m(\u001b[0m\u001b[0;34m)\u001b[0m\u001b[0;34m.\u001b[0m\u001b[0myear\u001b[0m\u001b[0;34m)\u001b[0m\u001b[0;34m\u001b[0m\u001b[0;34m\u001b[0m\u001b[0m\n",
      "\u001b[0;31mAttributeError\u001b[0m: 'NoneType' object has no attribute 'group'"
     ]
    }
   ],
   "source": [
    "date_text = re.search(r\"([0-9][0-9]/[0-9][0-9])\", date_page).group(1)\n",
    "date_text = date_text + \"/\" + str(date.today().year)"
   ]
  },
  {
   "cell_type": "code",
   "execution_count": 21,
   "metadata": {},
   "outputs": [],
   "source": [
    "latest_date = pd.to_datetime(date_text).date()"
   ]
  },
  {
   "cell_type": "code",
   "execution_count": 22,
   "metadata": {},
   "outputs": [],
   "source": [
    "df[\"county_date\"] = latest_date"
   ]
  },
  {
   "cell_type": "code",
   "execution_count": 23,
   "metadata": {},
   "outputs": [],
   "source": [
    "df.loc[df.area == \"-  Under Investigation\", \"area\"] = \"Under Investigation\""
   ]
  },
  {
   "cell_type": "code",
   "execution_count": 24,
   "metadata": {},
   "outputs": [],
   "source": [
    "df.loc[df.area == \"- Under Investigation\", \"area\"] = \"Under Investigation\""
   ]
  },
  {
   "cell_type": "markdown",
   "metadata": {},
   "source": [
    "## Vet"
   ]
  },
  {
   "cell_type": "code",
   "execution_count": 25,
   "metadata": {},
   "outputs": [],
   "source": [
    "try:\n",
    "    assert not len(df) > 342\n",
    "except AssertionError:\n",
    "    raise AssertionError(\"L.A. County's scraper has extra rows\")"
   ]
  },
  {
   "cell_type": "code",
   "execution_count": 26,
   "metadata": {},
   "outputs": [],
   "source": [
    "try:\n",
    "    assert not len(df) < 342\n",
    "except AssertionError:\n",
    "    raise AssertionError(\"L.A. County's scraper is missing rows\")"
   ]
  },
  {
   "cell_type": "markdown",
   "metadata": {},
   "source": [
    "## Export"
   ]
  },
  {
   "cell_type": "markdown",
   "metadata": {},
   "source": [
    "Set the date"
   ]
  },
  {
   "cell_type": "code",
   "execution_count": 27,
   "metadata": {},
   "outputs": [],
   "source": [
    "tz = pytz.timezone(\"America/Los_Angeles\")"
   ]
  },
  {
   "cell_type": "code",
   "execution_count": 28,
   "metadata": {},
   "outputs": [],
   "source": [
    "today = datetime.now(tz).date()"
   ]
  },
  {
   "cell_type": "code",
   "execution_count": 29,
   "metadata": {},
   "outputs": [],
   "source": [
    "slug = \"los-angeles\""
   ]
  },
  {
   "cell_type": "code",
   "execution_count": 30,
   "metadata": {},
   "outputs": [],
   "source": [
    "df.to_csv(data_dir / slug / f\"{today}.csv\", index=False)"
   ]
  },
  {
   "cell_type": "markdown",
   "metadata": {},
   "source": [
    "## Combine"
   ]
  },
  {
   "cell_type": "code",
   "execution_count": 31,
   "metadata": {},
   "outputs": [],
   "source": [
    "csv_list = [\n",
    "    i\n",
    "    for i in glob.glob(str(data_dir / slug / \"*.csv\"))\n",
    "    if not str(i).endswith(\"timeseries.csv\")\n",
    "]"
   ]
  },
  {
   "cell_type": "code",
   "execution_count": 32,
   "metadata": {},
   "outputs": [],
   "source": [
    "df_list = []\n",
    "for csv in csv_list:\n",
    "    if \"manual\" in csv:\n",
    "        df = pd.read_csv(csv, parse_dates=[\"date\"])\n",
    "    else:\n",
    "        file_date = csv.split(\"/\")[-1].replace(\".csv\", \"\")\n",
    "        df = pd.read_csv(csv, parse_dates=[\"county_date\"])\n",
    "        df[\"date\"] = file_date\n",
    "    df_list.append(df)"
   ]
  },
  {
   "cell_type": "code",
   "execution_count": 33,
   "metadata": {},
   "outputs": [],
   "source": [
    "df = pd.concat(df_list).sort_values([\"date\", \"area\"])"
   ]
  },
  {
   "cell_type": "code",
   "execution_count": 34,
   "metadata": {},
   "outputs": [],
   "source": [
    "df.to_csv(data_dir / slug / \"timeseries.csv\", index=False)"
   ]
  },
  {
   "cell_type": "code",
   "execution_count": null,
   "metadata": {},
   "outputs": [],
   "source": []
  }
 ],
 "metadata": {
  "kernelspec": {
   "display_name": "Python 3 (ipykernel)",
   "language": "python",
   "name": "python3"
  },
  "language_info": {
   "codemirror_mode": {
    "name": "ipython",
    "version": 3
   },
   "file_extension": ".py",
   "mimetype": "text/x-python",
   "name": "python",
   "nbconvert_exporter": "python",
   "pygments_lexer": "ipython3",
   "version": "3.8.13"
  }
 },
 "nbformat": 4,
 "nbformat_minor": 4
}
