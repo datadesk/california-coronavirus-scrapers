{
 "cells": [
  {
   "cell_type": "markdown",
   "metadata": {
    "tags": []
   },
   "source": [
    "## Configuration\n",
    "_Initial steps to get the notebook ready to play nice with our repository. Do not delete this section._"
   ]
  },
  {
   "cell_type": "markdown",
   "metadata": {},
   "source": [
    "Code formatting with [black](https://pypi.org/project/nb-black/)."
   ]
  },
  {
   "cell_type": "code",
   "execution_count": 1,
   "metadata": {
    "execution": {
     "iopub.execute_input": "2022-12-08T16:19:34.431225Z",
     "iopub.status.busy": "2022-12-08T16:19:34.430823Z",
     "iopub.status.idle": "2022-12-08T16:19:34.567078Z",
     "shell.execute_reply": "2022-12-08T16:19:34.566614Z"
    }
   },
   "outputs": [],
   "source": [
    "%load_ext lab_black"
   ]
  },
  {
   "cell_type": "code",
   "execution_count": 2,
   "metadata": {
    "execution": {
     "iopub.execute_input": "2022-12-08T16:19:34.571436Z",
     "iopub.status.busy": "2022-12-08T16:19:34.570538Z",
     "iopub.status.idle": "2022-12-08T16:19:34.571941Z",
     "shell.execute_reply": "2022-12-08T16:19:34.572278Z"
    }
   },
   "outputs": [],
   "source": [
    "import os\n",
    "import pathlib"
   ]
  },
  {
   "cell_type": "code",
   "execution_count": 3,
   "metadata": {
    "execution": {
     "iopub.execute_input": "2022-12-08T16:19:34.578356Z",
     "iopub.status.busy": "2022-12-08T16:19:34.577378Z",
     "iopub.status.idle": "2022-12-08T16:19:34.578846Z",
     "shell.execute_reply": "2022-12-08T16:19:34.579186Z"
    }
   },
   "outputs": [],
   "source": [
    "this_dir = pathlib.Path(os.path.abspath(\"\"))"
   ]
  },
  {
   "cell_type": "code",
   "execution_count": 4,
   "metadata": {
    "execution": {
     "iopub.execute_input": "2022-12-08T16:19:34.582698Z",
     "iopub.status.busy": "2022-12-08T16:19:34.581951Z",
     "iopub.status.idle": "2022-12-08T16:19:34.584963Z",
     "shell.execute_reply": "2022-12-08T16:19:34.584602Z"
    }
   },
   "outputs": [],
   "source": [
    "data_dir = this_dir / \"data\""
   ]
  },
  {
   "cell_type": "code",
   "execution_count": 5,
   "metadata": {
    "execution": {
     "iopub.execute_input": "2022-12-08T16:19:34.588488Z",
     "iopub.status.busy": "2022-12-08T16:19:34.588073Z",
     "iopub.status.idle": "2022-12-08T16:19:34.956030Z",
     "shell.execute_reply": "2022-12-08T16:19:34.955222Z"
    }
   },
   "outputs": [],
   "source": [
    "import re\n",
    "import pytz\n",
    "import glob\n",
    "import requests\n",
    "import unicodedata\n",
    "import pandas as pd\n",
    "from slugify import slugify\n",
    "from bs4 import BeautifulSoup\n",
    "from datetime import datetime, date"
   ]
  },
  {
   "cell_type": "markdown",
   "metadata": {},
   "source": [
    "## Download"
   ]
  },
  {
   "cell_type": "markdown",
   "metadata": {},
   "source": [
    "Retrieve the page"
   ]
  },
  {
   "cell_type": "code",
   "execution_count": 6,
   "metadata": {
    "execution": {
     "iopub.execute_input": "2022-12-08T16:19:34.960203Z",
     "iopub.status.busy": "2022-12-08T16:19:34.959082Z",
     "iopub.status.idle": "2022-12-08T16:19:34.962939Z",
     "shell.execute_reply": "2022-12-08T16:19:34.962565Z"
    }
   },
   "outputs": [],
   "source": [
    "url = \"http://publichealth.lacounty.gov/media/Coronavirus/locations.htm\""
   ]
  },
  {
   "cell_type": "code",
   "execution_count": 7,
   "metadata": {
    "execution": {
     "iopub.execute_input": "2022-12-08T16:19:34.969554Z",
     "iopub.status.busy": "2022-12-08T16:19:34.965854Z",
     "iopub.status.idle": "2022-12-08T16:19:35.355960Z",
     "shell.execute_reply": "2022-12-08T16:19:35.355089Z"
    }
   },
   "outputs": [],
   "source": [
    "page = requests.get(url)"
   ]
  },
  {
   "cell_type": "markdown",
   "metadata": {},
   "source": [
    "## Parse"
   ]
  },
  {
   "cell_type": "code",
   "execution_count": 8,
   "metadata": {
    "execution": {
     "iopub.execute_input": "2022-12-08T16:19:35.363599Z",
     "iopub.status.busy": "2022-12-08T16:19:35.363174Z",
     "iopub.status.idle": "2022-12-08T16:19:35.538012Z",
     "shell.execute_reply": "2022-12-08T16:19:35.537614Z"
    }
   },
   "outputs": [],
   "source": [
    "soup = BeautifulSoup(page.content, \"html.parser\")"
   ]
  },
  {
   "cell_type": "markdown",
   "metadata": {},
   "source": [
    "Get content well"
   ]
  },
  {
   "cell_type": "code",
   "execution_count": 9,
   "metadata": {
    "execution": {
     "iopub.execute_input": "2022-12-08T16:19:35.544272Z",
     "iopub.status.busy": "2022-12-08T16:19:35.543840Z",
     "iopub.status.idle": "2022-12-08T16:19:35.546282Z",
     "shell.execute_reply": "2022-12-08T16:19:35.546631Z"
    }
   },
   "outputs": [],
   "source": [
    "content = soup.find(\"div\", {\"id\": \"content\"})"
   ]
  },
  {
   "cell_type": "markdown",
   "metadata": {},
   "source": [
    "Get table"
   ]
  },
  {
   "cell_type": "code",
   "execution_count": 10,
   "metadata": {
    "execution": {
     "iopub.execute_input": "2022-12-08T16:19:35.553816Z",
     "iopub.status.busy": "2022-12-08T16:19:35.553398Z",
     "iopub.status.idle": "2022-12-08T16:19:35.566418Z",
     "shell.execute_reply": "2022-12-08T16:19:35.566031Z"
    }
   },
   "outputs": [],
   "source": [
    "for tag in content.find_all(text=re.compile(\"CITY/COMMUNITY\")):\n",
    "    table = tag.findParent(\"table\")"
   ]
  },
  {
   "cell_type": "code",
   "execution_count": 11,
   "metadata": {
    "execution": {
     "iopub.execute_input": "2022-12-08T16:19:35.571861Z",
     "iopub.status.busy": "2022-12-08T16:19:35.571396Z",
     "iopub.status.idle": "2022-12-08T16:19:35.574330Z",
     "shell.execute_reply": "2022-12-08T16:19:35.574862Z"
    }
   },
   "outputs": [],
   "source": [
    "tbody = soup.tbody"
   ]
  },
  {
   "cell_type": "code",
   "execution_count": 12,
   "metadata": {
    "execution": {
     "iopub.execute_input": "2022-12-08T16:19:35.579875Z",
     "iopub.status.busy": "2022-12-08T16:19:35.579142Z",
     "iopub.status.idle": "2022-12-08T16:19:35.583677Z",
     "shell.execute_reply": "2022-12-08T16:19:35.582889Z"
    }
   },
   "outputs": [],
   "source": [
    "row_list = tbody.find_all(\"tr\")"
   ]
  },
  {
   "cell_type": "code",
   "execution_count": 13,
   "metadata": {
    "execution": {
     "iopub.execute_input": "2022-12-08T16:19:35.587699Z",
     "iopub.status.busy": "2022-12-08T16:19:35.587115Z",
     "iopub.status.idle": "2022-12-08T16:19:35.590826Z",
     "shell.execute_reply": "2022-12-08T16:19:35.590457Z"
    }
   },
   "outputs": [],
   "source": [
    "dict_list = []"
   ]
  },
  {
   "cell_type": "code",
   "execution_count": 14,
   "metadata": {
    "execution": {
     "iopub.execute_input": "2022-12-08T16:19:35.597095Z",
     "iopub.status.busy": "2022-12-08T16:19:35.595956Z",
     "iopub.status.idle": "2022-12-08T16:19:35.599573Z",
     "shell.execute_reply": "2022-12-08T16:19:35.599040Z"
    }
   },
   "outputs": [],
   "source": [
    "def safetxt(element):\n",
    "    v = element.text.strip()\n",
    "    v = v.replace(\"\\u200b\", \"\")\n",
    "    return v"
   ]
  },
  {
   "cell_type": "code",
   "execution_count": 15,
   "metadata": {
    "execution": {
     "iopub.execute_input": "2022-12-08T16:19:35.606466Z",
     "iopub.status.busy": "2022-12-08T16:19:35.606035Z",
     "iopub.status.idle": "2022-12-08T16:19:35.608856Z",
     "shell.execute_reply": "2022-12-08T16:19:35.608496Z"
    }
   },
   "outputs": [],
   "source": [
    "def safenumber(element):\n",
    "    v = safetxt(element)\n",
    "    v = v.replace(\",\", \"\")\n",
    "    v = v.replace(\" \", \"\")\n",
    "    return v"
   ]
  },
  {
   "cell_type": "code",
   "execution_count": 16,
   "metadata": {
    "execution": {
     "iopub.execute_input": "2022-12-08T16:19:35.619460Z",
     "iopub.status.busy": "2022-12-08T16:19:35.615919Z",
     "iopub.status.idle": "2022-12-08T16:19:35.626686Z",
     "shell.execute_reply": "2022-12-08T16:19:35.627051Z"
    }
   },
   "outputs": [],
   "source": [
    "for row in row_list:\n",
    "    cell_content = row.find_all(\"td\")\n",
    "    d = dict(\n",
    "        county=\"Los Angeles\",\n",
    "        area=safetxt(cell_content[0]),\n",
    "        confirmed_cases=safenumber(cell_content[1]),\n",
    "        confirmed_deaths=safenumber(cell_content[3]),\n",
    "    )\n",
    "    dict_list.append(d)"
   ]
  },
  {
   "cell_type": "code",
   "execution_count": 17,
   "metadata": {
    "execution": {
     "iopub.execute_input": "2022-12-08T16:19:35.632105Z",
     "iopub.status.busy": "2022-12-08T16:19:35.631671Z",
     "iopub.status.idle": "2022-12-08T16:19:35.634135Z",
     "shell.execute_reply": "2022-12-08T16:19:35.634493Z"
    }
   },
   "outputs": [],
   "source": [
    "df = pd.DataFrame(dict_list)"
   ]
  },
  {
   "cell_type": "markdown",
   "metadata": {},
   "source": [
    "Get timestamp"
   ]
  },
  {
   "cell_type": "code",
   "execution_count": 18,
   "metadata": {
    "execution": {
     "iopub.execute_input": "2022-12-08T16:19:35.638550Z",
     "iopub.status.busy": "2022-12-08T16:19:35.636332Z",
     "iopub.status.idle": "2022-12-08T16:19:35.641490Z",
     "shell.execute_reply": "2022-12-08T16:19:35.640829Z"
    }
   },
   "outputs": [],
   "source": [
    "date_url = \"http://publichealth.lacounty.gov/media/Coronavirus/js/casecounter.js\""
   ]
  },
  {
   "cell_type": "code",
   "execution_count": 19,
   "metadata": {
    "execution": {
     "iopub.execute_input": "2022-12-08T16:19:35.646863Z",
     "iopub.status.busy": "2022-12-08T16:19:35.646439Z",
     "iopub.status.idle": "2022-12-08T16:19:35.845657Z",
     "shell.execute_reply": "2022-12-08T16:19:35.844811Z"
    }
   },
   "outputs": [],
   "source": [
    "response = requests.get(date_url)\n",
    "date_page = response.text"
   ]
  },
  {
   "cell_type": "code",
   "execution_count": 20,
   "metadata": {
    "execution": {
     "iopub.execute_input": "2022-12-08T16:19:35.853813Z",
     "iopub.status.busy": "2022-12-08T16:19:35.853380Z",
     "iopub.status.idle": "2022-12-08T16:19:35.858354Z",
     "shell.execute_reply": "2022-12-08T16:19:35.857415Z"
    }
   },
   "outputs": [
    {
     "data": {
      "text/plain": [
       "'$( document ).ready(function() {\\r\\n    var data = {\\r\\n\\t\\t\\t\\t    \"content\": { \\r\\n\\t\\t\\r\\n\\t\\t\\t\"count\": \"3,570,525\",\\r\\n\\r\\n\\r\\n\\t\\t\\t\"death\": \"34,263\",\\r\\n\\r\\n\\t\\t\\t\"dailycount\": \"5,051\",\\r\\n\\r\\n\\r\\n\\t\\t\\t\"dailydeath\": \"12\",\\r\\n\\t\\t\\t\"hospitalizationsever\": \"162,219\",\\r\\n\\r\\n\\r\\n\\t\\t\\t\"date\": \"12/7\",\\r\\n\\t\\t\\t\"info\": \"through 12:00pm 12/6/2022\",\\r\\n\\r\\n\\t\\t\\t\"testingaverage\": \"28,846\",\\r\\n\\r\\n\\t\\t\\t\"peopletested\": \"12,752,433\",\\r\\n\\r\\n\\t\\t\\t\"positivity\": \"12.58%\",\\r\\n\\r\\n\\t\\t\\t\"hospitalizations\": \"1,293\",\\r\\n\\t\\t\\t\"datehospitalizations\": \"12/6\"\\r\\n\\r\\n\\t\\t\\t\\t}       \\r\\n\\t\\t\\t\\t};\\t\\r\\n\\t\\t\\t\\t\\r\\n\\t\\t\\t\\t\\r\\n\\t\\t\\t\\tvar content = data.content;\\r\\n\\t\\t\\t\\t\\r\\n\\t\\t\\t\\t$(\\'#ctn\\').html(content.count);\\r\\n\\t\\t\\t\\t$(\\'#det\\').html(content.death);\\r\\n\\t\\t\\t\\t$(\\'#dctn\\').html(content.dailycount);\\r\\n\\t\\t\\t\\t$(\\'#ddet\\').html(content.dailydeath);\\r\\n\\t\\t\\t\\t$(\\'#hosp_1\\').html(content.hospitalizationsever);\\r\\n\\t\\t\\t\\t$(\\'#dte\\').html(content.date);\\r\\n\\t\\t\\t\\t$(\\'#dte_1\\').html(content.date);\\r\\n\\t\\t\\t\\t$(\\'#dte_2\\').html(content.date);\\r\\n\\t\\t\\t\\t$(\\'#dte_3\\').html(content.datehospitalizations);\\r\\n\\t\\t\\t\\t$(\\'#cse\\').html(content.info);\\t\\r\\n\\t\\t\\t\\r\\n\\t\\t\\t\\t\\r\\n\\t\\t\\t\\t$(\\'#tstavg\\').html(content.testingaverage);\\t\\r\\n\\t\\t\\t\\t$(\\'#ppltst\\').html(content.peopletested);\\t\\r\\n\\t\\t\\t\\t$(\\'#pos\\').html(content.positivity);\\t\\r\\n\\t\\t\\t\\t$(\\'#hosp\\').html(content.hospitalizations);\\r\\n\\t\\t\\t\\r\\n\\t\\t\\t\\t\\t\\t\\t\\r\\n\\r\\n\\r\\n});\\r\\n\\r\\n\\r\\n\\r\\n'"
      ]
     },
     "execution_count": 20,
     "metadata": {},
     "output_type": "execute_result"
    }
   ],
   "source": [
    "date_page"
   ]
  },
  {
   "cell_type": "code",
   "execution_count": 21,
   "metadata": {
    "execution": {
     "iopub.execute_input": "2022-12-08T16:19:35.862028Z",
     "iopub.status.busy": "2022-12-08T16:19:35.861432Z",
     "iopub.status.idle": "2022-12-08T16:19:35.864393Z",
     "shell.execute_reply": "2022-12-08T16:19:35.864023Z"
    }
   },
   "outputs": [],
   "source": [
    "# date_text = re.search(r\"([0-9][0-9]/[0-9][0-9])\", date_page).group(1)\n",
    "# date_text = date_text + \"/\" + str(date.today().year)"
   ]
  },
  {
   "cell_type": "code",
   "execution_count": 22,
   "metadata": {
    "execution": {
     "iopub.execute_input": "2022-12-08T16:19:35.869377Z",
     "iopub.status.busy": "2022-12-08T16:19:35.868786Z",
     "iopub.status.idle": "2022-12-08T16:19:35.871747Z",
     "shell.execute_reply": "2022-12-08T16:19:35.871363Z"
    }
   },
   "outputs": [],
   "source": [
    "date_text = re.search(r\"through (.+?)\\\"\", date_page).group(1)"
   ]
  },
  {
   "cell_type": "code",
   "execution_count": 23,
   "metadata": {
    "execution": {
     "iopub.execute_input": "2022-12-08T16:19:35.876407Z",
     "iopub.status.busy": "2022-12-08T16:19:35.874527Z",
     "iopub.status.idle": "2022-12-08T16:19:35.879801Z",
     "shell.execute_reply": "2022-12-08T16:19:35.879119Z"
    }
   },
   "outputs": [],
   "source": [
    "date_text = date_text.split(\"m \")[0]"
   ]
  },
  {
   "cell_type": "code",
   "execution_count": 24,
   "metadata": {
    "execution": {
     "iopub.execute_input": "2022-12-08T16:19:35.883582Z",
     "iopub.status.busy": "2022-12-08T16:19:35.881462Z",
     "iopub.status.idle": "2022-12-08T16:19:35.887699Z",
     "shell.execute_reply": "2022-12-08T16:19:35.887309Z"
    }
   },
   "outputs": [],
   "source": [
    "latest_date = pd.to_datetime(date_text).date()"
   ]
  },
  {
   "cell_type": "code",
   "execution_count": 25,
   "metadata": {
    "execution": {
     "iopub.execute_input": "2022-12-08T16:19:35.892659Z",
     "iopub.status.busy": "2022-12-08T16:19:35.891671Z",
     "iopub.status.idle": "2022-12-08T16:19:35.895093Z",
     "shell.execute_reply": "2022-12-08T16:19:35.894714Z"
    }
   },
   "outputs": [],
   "source": [
    "df[\"county_date\"] = latest_date"
   ]
  },
  {
   "cell_type": "code",
   "execution_count": 26,
   "metadata": {
    "execution": {
     "iopub.execute_input": "2022-12-08T16:19:35.900574Z",
     "iopub.status.busy": "2022-12-08T16:19:35.899809Z",
     "iopub.status.idle": "2022-12-08T16:19:35.903733Z",
     "shell.execute_reply": "2022-12-08T16:19:35.903050Z"
    }
   },
   "outputs": [],
   "source": [
    "df.loc[df.area == \"-  Under Investigation\", \"area\"] = \"Under Investigation\""
   ]
  },
  {
   "cell_type": "code",
   "execution_count": 27,
   "metadata": {
    "execution": {
     "iopub.execute_input": "2022-12-08T16:19:35.908983Z",
     "iopub.status.busy": "2022-12-08T16:19:35.905413Z",
     "iopub.status.idle": "2022-12-08T16:19:35.912478Z",
     "shell.execute_reply": "2022-12-08T16:19:35.912840Z"
    }
   },
   "outputs": [],
   "source": [
    "df.loc[df.area == \"- Under Investigation\", \"area\"] = \"Under Investigation\""
   ]
  },
  {
   "cell_type": "markdown",
   "metadata": {},
   "source": [
    "## Vet"
   ]
  },
  {
   "cell_type": "code",
   "execution_count": 28,
   "metadata": {
    "execution": {
     "iopub.execute_input": "2022-12-08T16:19:35.918332Z",
     "iopub.status.busy": "2022-12-08T16:19:35.917745Z",
     "iopub.status.idle": "2022-12-08T16:19:35.921157Z",
     "shell.execute_reply": "2022-12-08T16:19:35.920781Z"
    }
   },
   "outputs": [],
   "source": [
    "try:\n",
    "    assert not len(df) > 342\n",
    "except AssertionError:\n",
    "    raise AssertionError(\"L.A. County's scraper has extra rows\")"
   ]
  },
  {
   "cell_type": "code",
   "execution_count": 29,
   "metadata": {
    "execution": {
     "iopub.execute_input": "2022-12-08T16:19:35.924523Z",
     "iopub.status.busy": "2022-12-08T16:19:35.924095Z",
     "iopub.status.idle": "2022-12-08T16:19:36.044945Z",
     "shell.execute_reply": "2022-12-08T16:19:36.043667Z"
    }
   },
   "outputs": [
    {
     "ename": "AssertionError",
     "evalue": "L.A. County's scraper is missing rows",
     "output_type": "error",
     "traceback": [
      "\u001b[0;31m---------------------------------------------------------------------------\u001b[0m",
      "\u001b[0;31mAssertionError\u001b[0m                            Traceback (most recent call last)",
      "\u001b[0;32m/tmp/ipykernel_2204/2999864733.py\u001b[0m in \u001b[0;36m<module>\u001b[0;34m\u001b[0m\n\u001b[1;32m      1\u001b[0m \u001b[0;32mtry\u001b[0m\u001b[0;34m:\u001b[0m\u001b[0;34m\u001b[0m\u001b[0;34m\u001b[0m\u001b[0m\n\u001b[0;32m----> 2\u001b[0;31m     \u001b[0;32massert\u001b[0m \u001b[0;32mnot\u001b[0m \u001b[0mlen\u001b[0m\u001b[0;34m(\u001b[0m\u001b[0mdf\u001b[0m\u001b[0;34m)\u001b[0m \u001b[0;34m<\u001b[0m \u001b[0;36m342\u001b[0m\u001b[0;34m\u001b[0m\u001b[0;34m\u001b[0m\u001b[0m\n\u001b[0m\u001b[1;32m      3\u001b[0m \u001b[0;32mexcept\u001b[0m \u001b[0mAssertionError\u001b[0m\u001b[0;34m:\u001b[0m\u001b[0;34m\u001b[0m\u001b[0;34m\u001b[0m\u001b[0m\n",
      "\u001b[0;31mAssertionError\u001b[0m: ",
      "\nDuring handling of the above exception, another exception occurred:\n",
      "\u001b[0;31mAssertionError\u001b[0m                            Traceback (most recent call last)",
      "\u001b[0;32m/tmp/ipykernel_2204/2999864733.py\u001b[0m in \u001b[0;36m<module>\u001b[0;34m\u001b[0m\n\u001b[1;32m      2\u001b[0m     \u001b[0;32massert\u001b[0m \u001b[0;32mnot\u001b[0m \u001b[0mlen\u001b[0m\u001b[0;34m(\u001b[0m\u001b[0mdf\u001b[0m\u001b[0;34m)\u001b[0m \u001b[0;34m<\u001b[0m \u001b[0;36m342\u001b[0m\u001b[0;34m\u001b[0m\u001b[0;34m\u001b[0m\u001b[0m\n\u001b[1;32m      3\u001b[0m \u001b[0;32mexcept\u001b[0m \u001b[0mAssertionError\u001b[0m\u001b[0;34m:\u001b[0m\u001b[0;34m\u001b[0m\u001b[0;34m\u001b[0m\u001b[0m\n\u001b[0;32m----> 4\u001b[0;31m     \u001b[0;32mraise\u001b[0m \u001b[0mAssertionError\u001b[0m\u001b[0;34m(\u001b[0m\u001b[0;34m\"L.A. County's scraper is missing rows\"\u001b[0m\u001b[0;34m)\u001b[0m\u001b[0;34m\u001b[0m\u001b[0;34m\u001b[0m\u001b[0m\n\u001b[0m",
      "\u001b[0;31mAssertionError\u001b[0m: L.A. County's scraper is missing rows"
     ]
    }
   ],
   "source": [
    "try:\n",
    "    assert not len(df) < 342\n",
    "except AssertionError:\n",
    "    raise AssertionError(\"L.A. County's scraper is missing rows\")"
   ]
  },
  {
   "cell_type": "markdown",
   "metadata": {},
   "source": [
    "## Export"
   ]
  },
  {
   "cell_type": "markdown",
   "metadata": {},
   "source": [
    "Set the date"
   ]
  },
  {
   "cell_type": "code",
   "execution_count": 30,
   "metadata": {},
   "outputs": [],
   "source": [
    "tz = pytz.timezone(\"America/Los_Angeles\")"
   ]
  },
  {
   "cell_type": "code",
   "execution_count": 31,
   "metadata": {},
   "outputs": [],
   "source": [
    "today = datetime.now(tz).date()"
   ]
  },
  {
   "cell_type": "code",
   "execution_count": 32,
   "metadata": {},
   "outputs": [],
   "source": [
    "slug = \"los-angeles\""
   ]
  },
  {
   "cell_type": "code",
   "execution_count": 33,
   "metadata": {},
   "outputs": [],
   "source": [
    "df.to_csv(data_dir / slug / f\"{today}.csv\", index=False)"
   ]
  },
  {
   "cell_type": "markdown",
   "metadata": {},
   "source": [
    "## Combine"
   ]
  },
  {
   "cell_type": "code",
   "execution_count": 34,
   "metadata": {},
   "outputs": [],
   "source": [
    "csv_list = [\n",
    "    i\n",
    "    for i in glob.glob(str(data_dir / slug / \"*.csv\"))\n",
    "    if not str(i).endswith(\"timeseries.csv\")\n",
    "]"
   ]
  },
  {
   "cell_type": "code",
   "execution_count": 35,
   "metadata": {},
   "outputs": [],
   "source": [
    "df_list = []\n",
    "for csv in csv_list:\n",
    "    if \"manual\" in csv:\n",
    "        df = pd.read_csv(csv, parse_dates=[\"date\"])\n",
    "    else:\n",
    "        file_date = csv.split(\"/\")[-1].replace(\".csv\", \"\")\n",
    "        df = pd.read_csv(csv, parse_dates=[\"county_date\"])\n",
    "        df[\"date\"] = file_date\n",
    "    df_list.append(df)"
   ]
  },
  {
   "cell_type": "code",
   "execution_count": 36,
   "metadata": {},
   "outputs": [],
   "source": [
    "df = pd.concat(df_list).sort_values([\"date\", \"area\"])"
   ]
  },
  {
   "cell_type": "code",
   "execution_count": 37,
   "metadata": {},
   "outputs": [],
   "source": [
    "df.to_csv(data_dir / slug / \"timeseries.csv\", index=False)"
   ]
  },
  {
   "cell_type": "code",
   "execution_count": null,
   "metadata": {},
   "outputs": [],
   "source": []
  },
  {
   "cell_type": "code",
   "execution_count": null,
   "metadata": {},
   "outputs": [],
   "source": []
  }
 ],
 "metadata": {
  "kernelspec": {
   "display_name": "Python 3 (ipykernel)",
   "language": "python",
   "name": "python3"
  },
  "language_info": {
   "codemirror_mode": {
    "name": "ipython",
    "version": 3
   },
   "file_extension": ".py",
   "mimetype": "text/x-python",
   "name": "python",
   "nbconvert_exporter": "python",
   "pygments_lexer": "ipython3",
   "version": "3.8.15"
  }
 },
 "nbformat": 4,
 "nbformat_minor": 4
}
