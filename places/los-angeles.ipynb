{
 "cells": [
  {
   "cell_type": "markdown",
   "metadata": {
    "tags": []
   },
   "source": [
    "## Configuration\n",
    "_Initial steps to get the notebook ready to play nice with our repository. Do not delete this section._"
   ]
  },
  {
   "cell_type": "markdown",
   "metadata": {},
   "source": [
    "Code formatting with [black](https://pypi.org/project/nb-black/)."
   ]
  },
  {
   "cell_type": "code",
   "execution_count": 1,
   "metadata": {
    "execution": {
     "iopub.execute_input": "2023-01-08T16:19:11.272061Z",
     "iopub.status.busy": "2023-01-08T16:19:11.271569Z",
     "iopub.status.idle": "2023-01-08T16:19:11.428384Z",
     "shell.execute_reply": "2023-01-08T16:19:11.428749Z"
    }
   },
   "outputs": [],
   "source": [
    "%load_ext lab_black"
   ]
  },
  {
   "cell_type": "code",
   "execution_count": 2,
   "metadata": {
    "execution": {
     "iopub.execute_input": "2023-01-08T16:19:11.431159Z",
     "iopub.status.busy": "2023-01-08T16:19:11.430708Z",
     "iopub.status.idle": "2023-01-08T16:19:11.433902Z",
     "shell.execute_reply": "2023-01-08T16:19:11.434236Z"
    }
   },
   "outputs": [],
   "source": [
    "import os\n",
    "import pathlib"
   ]
  },
  {
   "cell_type": "code",
   "execution_count": 3,
   "metadata": {
    "execution": {
     "iopub.execute_input": "2023-01-08T16:19:11.436297Z",
     "iopub.status.busy": "2023-01-08T16:19:11.435853Z",
     "iopub.status.idle": "2023-01-08T16:19:11.440889Z",
     "shell.execute_reply": "2023-01-08T16:19:11.441248Z"
    }
   },
   "outputs": [],
   "source": [
    "this_dir = pathlib.Path(os.path.abspath(\"\"))"
   ]
  },
  {
   "cell_type": "code",
   "execution_count": 4,
   "metadata": {
    "execution": {
     "iopub.execute_input": "2023-01-08T16:19:11.443746Z",
     "iopub.status.busy": "2023-01-08T16:19:11.443311Z",
     "iopub.status.idle": "2023-01-08T16:19:11.447222Z",
     "shell.execute_reply": "2023-01-08T16:19:11.446832Z"
    }
   },
   "outputs": [],
   "source": [
    "data_dir = this_dir / \"data\""
   ]
  },
  {
   "cell_type": "code",
   "execution_count": 5,
   "metadata": {
    "execution": {
     "iopub.execute_input": "2023-01-08T16:19:11.451001Z",
     "iopub.status.busy": "2023-01-08T16:19:11.450542Z",
     "iopub.status.idle": "2023-01-08T16:19:11.870320Z",
     "shell.execute_reply": "2023-01-08T16:19:11.870791Z"
    }
   },
   "outputs": [],
   "source": [
    "import re\n",
    "import pytz\n",
    "import glob\n",
    "import requests\n",
    "import unicodedata\n",
    "import pandas as pd\n",
    "from slugify import slugify\n",
    "from bs4 import BeautifulSoup\n",
    "from datetime import datetime, date"
   ]
  },
  {
   "cell_type": "markdown",
   "metadata": {},
   "source": [
    "## Download"
   ]
  },
  {
   "cell_type": "markdown",
   "metadata": {},
   "source": [
    "Retrieve the page"
   ]
  },
  {
   "cell_type": "code",
   "execution_count": 6,
   "metadata": {
    "execution": {
     "iopub.execute_input": "2023-01-08T16:19:11.875558Z",
     "iopub.status.busy": "2023-01-08T16:19:11.874574Z",
     "iopub.status.idle": "2023-01-08T16:19:11.879535Z",
     "shell.execute_reply": "2023-01-08T16:19:11.878724Z"
    }
   },
   "outputs": [],
   "source": [
    "url = \"http://publichealth.lacounty.gov/media/Coronavirus/locations.htm\""
   ]
  },
  {
   "cell_type": "code",
   "execution_count": 7,
   "metadata": {
    "execution": {
     "iopub.execute_input": "2023-01-08T16:19:11.886724Z",
     "iopub.status.busy": "2023-01-08T16:19:11.882734Z",
     "iopub.status.idle": "2023-01-08T16:19:12.304432Z",
     "shell.execute_reply": "2023-01-08T16:19:12.303318Z"
    }
   },
   "outputs": [],
   "source": [
    "page = requests.get(url)"
   ]
  },
  {
   "cell_type": "markdown",
   "metadata": {},
   "source": [
    "## Parse"
   ]
  },
  {
   "cell_type": "code",
   "execution_count": 8,
   "metadata": {
    "execution": {
     "iopub.execute_input": "2023-01-08T16:19:12.322553Z",
     "iopub.status.busy": "2023-01-08T16:19:12.312199Z",
     "iopub.status.idle": "2023-01-08T16:19:12.474985Z",
     "shell.execute_reply": "2023-01-08T16:19:12.474067Z"
    }
   },
   "outputs": [],
   "source": [
    "soup = BeautifulSoup(page.content, \"html.parser\")"
   ]
  },
  {
   "cell_type": "markdown",
   "metadata": {},
   "source": [
    "Get content well"
   ]
  },
  {
   "cell_type": "code",
   "execution_count": 9,
   "metadata": {
    "execution": {
     "iopub.execute_input": "2023-01-08T16:19:12.482331Z",
     "iopub.status.busy": "2023-01-08T16:19:12.481025Z",
     "iopub.status.idle": "2023-01-08T16:19:12.484548Z",
     "shell.execute_reply": "2023-01-08T16:19:12.484926Z"
    }
   },
   "outputs": [],
   "source": [
    "content = soup.find(\"div\", {\"id\": \"content\"})"
   ]
  },
  {
   "cell_type": "markdown",
   "metadata": {},
   "source": [
    "Get table"
   ]
  },
  {
   "cell_type": "code",
   "execution_count": 10,
   "metadata": {
    "execution": {
     "iopub.execute_input": "2023-01-08T16:19:12.502326Z",
     "iopub.status.busy": "2023-01-08T16:19:12.499715Z",
     "iopub.status.idle": "2023-01-08T16:19:12.505508Z",
     "shell.execute_reply": "2023-01-08T16:19:12.505882Z"
    }
   },
   "outputs": [],
   "source": [
    "for tag in content.find_all(text=re.compile(\"CITY/COMMUNITY\")):\n",
    "    table = tag.findParent(\"table\")"
   ]
  },
  {
   "cell_type": "code",
   "execution_count": 11,
   "metadata": {
    "execution": {
     "iopub.execute_input": "2023-01-08T16:19:12.512150Z",
     "iopub.status.busy": "2023-01-08T16:19:12.511711Z",
     "iopub.status.idle": "2023-01-08T16:19:12.514592Z",
     "shell.execute_reply": "2023-01-08T16:19:12.514999Z"
    }
   },
   "outputs": [],
   "source": [
    "tbody = soup.tbody"
   ]
  },
  {
   "cell_type": "code",
   "execution_count": 12,
   "metadata": {
    "execution": {
     "iopub.execute_input": "2023-01-08T16:19:12.521713Z",
     "iopub.status.busy": "2023-01-08T16:19:12.516869Z",
     "iopub.status.idle": "2023-01-08T16:19:12.523840Z",
     "shell.execute_reply": "2023-01-08T16:19:12.524456Z"
    }
   },
   "outputs": [],
   "source": [
    "row_list = tbody.find_all(\"tr\")"
   ]
  },
  {
   "cell_type": "code",
   "execution_count": 13,
   "metadata": {
    "execution": {
     "iopub.execute_input": "2023-01-08T16:19:12.528855Z",
     "iopub.status.busy": "2023-01-08T16:19:12.528414Z",
     "iopub.status.idle": "2023-01-08T16:19:12.531046Z",
     "shell.execute_reply": "2023-01-08T16:19:12.531424Z"
    }
   },
   "outputs": [],
   "source": [
    "dict_list = []"
   ]
  },
  {
   "cell_type": "code",
   "execution_count": 14,
   "metadata": {
    "execution": {
     "iopub.execute_input": "2023-01-08T16:19:12.538817Z",
     "iopub.status.busy": "2023-01-08T16:19:12.537642Z",
     "iopub.status.idle": "2023-01-08T16:19:12.541351Z",
     "shell.execute_reply": "2023-01-08T16:19:12.540958Z"
    }
   },
   "outputs": [],
   "source": [
    "def safetxt(element):\n",
    "    v = element.text.strip()\n",
    "    v = v.replace(\"\\u200b\", \"\")\n",
    "    return v"
   ]
  },
  {
   "cell_type": "code",
   "execution_count": 15,
   "metadata": {
    "execution": {
     "iopub.execute_input": "2023-01-08T16:19:12.556409Z",
     "iopub.status.busy": "2023-01-08T16:19:12.550853Z",
     "iopub.status.idle": "2023-01-08T16:19:12.566138Z",
     "shell.execute_reply": "2023-01-08T16:19:12.565479Z"
    }
   },
   "outputs": [],
   "source": [
    "def safenumber(element):\n",
    "    v = safetxt(element)\n",
    "    v = v.replace(\",\", \"\")\n",
    "    v = v.replace(\" \", \"\")\n",
    "    return v"
   ]
  },
  {
   "cell_type": "code",
   "execution_count": 16,
   "metadata": {
    "execution": {
     "iopub.execute_input": "2023-01-08T16:19:12.579923Z",
     "iopub.status.busy": "2023-01-08T16:19:12.568074Z",
     "iopub.status.idle": "2023-01-08T16:19:12.588163Z",
     "shell.execute_reply": "2023-01-08T16:19:12.587404Z"
    }
   },
   "outputs": [],
   "source": [
    "for row in row_list:\n",
    "    cell_content = row.find_all(\"td\")\n",
    "    d = dict(\n",
    "        county=\"Los Angeles\",\n",
    "        area=safetxt(cell_content[0]),\n",
    "        confirmed_cases=safenumber(cell_content[1]),\n",
    "        confirmed_deaths=safenumber(cell_content[3]),\n",
    "    )\n",
    "    dict_list.append(d)"
   ]
  },
  {
   "cell_type": "code",
   "execution_count": 17,
   "metadata": {
    "execution": {
     "iopub.execute_input": "2023-01-08T16:19:12.594626Z",
     "iopub.status.busy": "2023-01-08T16:19:12.594167Z",
     "iopub.status.idle": "2023-01-08T16:19:12.597382Z",
     "shell.execute_reply": "2023-01-08T16:19:12.596979Z"
    }
   },
   "outputs": [],
   "source": [
    "df = pd.DataFrame(dict_list)"
   ]
  },
  {
   "cell_type": "markdown",
   "metadata": {},
   "source": [
    "Get timestamp"
   ]
  },
  {
   "cell_type": "code",
   "execution_count": 18,
   "metadata": {
    "execution": {
     "iopub.execute_input": "2023-01-08T16:19:12.601420Z",
     "iopub.status.busy": "2023-01-08T16:19:12.600560Z",
     "iopub.status.idle": "2023-01-08T16:19:12.605068Z",
     "shell.execute_reply": "2023-01-08T16:19:12.604289Z"
    }
   },
   "outputs": [],
   "source": [
    "date_url = \"http://publichealth.lacounty.gov/media/Coronavirus/js/casecounter.js\""
   ]
  },
  {
   "cell_type": "code",
   "execution_count": 19,
   "metadata": {
    "execution": {
     "iopub.execute_input": "2023-01-08T16:19:12.611603Z",
     "iopub.status.busy": "2023-01-08T16:19:12.606957Z",
     "iopub.status.idle": "2023-01-08T16:19:13.046484Z",
     "shell.execute_reply": "2023-01-08T16:19:13.046010Z"
    }
   },
   "outputs": [],
   "source": [
    "response = requests.get(date_url)\n",
    "date_page = response.text"
   ]
  },
  {
   "cell_type": "code",
   "execution_count": 20,
   "metadata": {
    "execution": {
     "iopub.execute_input": "2023-01-08T16:19:13.056374Z",
     "iopub.status.busy": "2023-01-08T16:19:13.048949Z",
     "iopub.status.idle": "2023-01-08T16:19:13.061777Z",
     "shell.execute_reply": "2023-01-08T16:19:13.062157Z"
    }
   },
   "outputs": [
    {
     "data": {
      "text/plain": [
       "'$( document ).ready(function() {\\r\\n    var data = {\\r\\n\\t\\t\\t\\t    \"content\": { \\r\\n\\t\\t\\r\\n\\t\\t\\t\"count\": \"3,646,917\",\\r\\n\\r\\n\\r\\n\\t\\t\\t\"death\": \"34,783\",\\r\\n\\r\\n\\t\\t\\t\"dailycount\": \"2,101\",\\r\\n\\r\\n\\r\\n\\t\\t\\t\"dailydeath\": \"24\",\\r\\n\\t\\t\\t\"hospitalizationsever\": \"167,456\",\\r\\n\\r\\n\\r\\n\\t\\t\\t\"date\": \"01/06/23\",\\r\\n\\t\\t\\t\"info\": \"through 12:00pm 01/05/2023\",\\r\\n\\r\\n\\t\\t\\t\"testingaverage\": \"17,227\",\\r\\n\\r\\n\\t\\t\\t\"peopletested\": \"12,836,893\",\\r\\n\\r\\n\\t\\t\\t\"positivity\": \"14.79%\",\\r\\n\\r\\n\\t\\t\\t\"hospitalizations\": \"1,212\",\\r\\n\\t\\t\\t\"datehospitalizations\": \"01/05/23\"\\r\\n\\r\\n\\t\\t\\t\\t}       \\r\\n\\t\\t\\t\\t};\\t\\r\\n\\t\\t\\t\\t\\r\\n\\t\\t\\t\\t\\r\\n\\t\\t\\t\\tvar content = data.content;\\r\\n\\t\\t\\t\\t\\r\\n\\t\\t\\t\\t$(\\'#ctn\\').html(content.count);\\r\\n\\t\\t\\t\\t$(\\'#det\\').html(content.death);\\r\\n\\t\\t\\t\\t$(\\'#dctn\\').html(content.dailycount);\\r\\n\\t\\t\\t\\t$(\\'#ddet\\').html(content.dailydeath);\\r\\n\\t\\t\\t\\t$(\\'#hosp_1\\').html(content.hospitalizationsever);\\r\\n\\t\\t\\t\\t$(\\'#dte\\').html(content.date);\\r\\n\\t\\t\\t\\t$(\\'#dte_1\\').html(content.date);\\r\\n\\t\\t\\t\\t$(\\'#dte_2\\').html(content.date);\\r\\n\\t\\t\\t\\t$(\\'#dte_3\\').html(content.datehospitalizations);\\r\\n\\t\\t\\t\\t$(\\'#cse\\').html(content.info);\\t\\r\\n\\t\\t\\t\\r\\n\\t\\t\\t\\t\\r\\n\\t\\t\\t\\t$(\\'#tstavg\\').html(content.testingaverage);\\t\\r\\n\\t\\t\\t\\t$(\\'#ppltst\\').html(content.peopletested);\\t\\r\\n\\t\\t\\t\\t$(\\'#pos\\').html(content.positivity);\\t\\r\\n\\t\\t\\t\\t$(\\'#hosp\\').html(content.hospitalizations);\\r\\n\\t\\t\\t\\r\\n\\t\\t\\t\\t\\t\\t\\t\\r\\n\\r\\n\\r\\n});\\r\\n\\r\\n\\r\\n\\r\\n'"
      ]
     },
     "execution_count": 20,
     "metadata": {},
     "output_type": "execute_result"
    }
   ],
   "source": [
    "date_page"
   ]
  },
  {
   "cell_type": "code",
   "execution_count": 21,
   "metadata": {
    "execution": {
     "iopub.execute_input": "2023-01-08T16:19:13.066450Z",
     "iopub.status.busy": "2023-01-08T16:19:13.065987Z",
     "iopub.status.idle": "2023-01-08T16:19:13.067458Z",
     "shell.execute_reply": "2023-01-08T16:19:13.067800Z"
    }
   },
   "outputs": [],
   "source": [
    "# date_text = re.search(r\"([0-9][0-9]/[0-9][0-9])\", date_page).group(1)\n",
    "# date_text = date_text + \"/\" + str(date.today().year)"
   ]
  },
  {
   "cell_type": "code",
   "execution_count": 22,
   "metadata": {
    "execution": {
     "iopub.execute_input": "2023-01-08T16:19:13.073395Z",
     "iopub.status.busy": "2023-01-08T16:19:13.072952Z",
     "iopub.status.idle": "2023-01-08T16:19:13.076016Z",
     "shell.execute_reply": "2023-01-08T16:19:13.075619Z"
    }
   },
   "outputs": [],
   "source": [
    "date_text = re.search(r\"through (.+?)\\\"\", date_page).group(1)"
   ]
  },
  {
   "cell_type": "code",
   "execution_count": 23,
   "metadata": {
    "execution": {
     "iopub.execute_input": "2023-01-08T16:19:13.080127Z",
     "iopub.status.busy": "2023-01-08T16:19:13.079332Z",
     "iopub.status.idle": "2023-01-08T16:19:13.084375Z",
     "shell.execute_reply": "2023-01-08T16:19:13.083565Z"
    }
   },
   "outputs": [],
   "source": [
    "date_text = date_text.split(\"m \")[0]"
   ]
  },
  {
   "cell_type": "code",
   "execution_count": 24,
   "metadata": {
    "execution": {
     "iopub.execute_input": "2023-01-08T16:19:13.089882Z",
     "iopub.status.busy": "2023-01-08T16:19:13.089447Z",
     "iopub.status.idle": "2023-01-08T16:19:13.092409Z",
     "shell.execute_reply": "2023-01-08T16:19:13.092017Z"
    }
   },
   "outputs": [],
   "source": [
    "latest_date = pd.to_datetime(date_text).date()"
   ]
  },
  {
   "cell_type": "code",
   "execution_count": 25,
   "metadata": {
    "execution": {
     "iopub.execute_input": "2023-01-08T16:19:13.097085Z",
     "iopub.status.busy": "2023-01-08T16:19:13.096401Z",
     "iopub.status.idle": "2023-01-08T16:19:13.100797Z",
     "shell.execute_reply": "2023-01-08T16:19:13.100347Z"
    }
   },
   "outputs": [],
   "source": [
    "df[\"county_date\"] = latest_date"
   ]
  },
  {
   "cell_type": "code",
   "execution_count": 26,
   "metadata": {
    "execution": {
     "iopub.execute_input": "2023-01-08T16:19:13.106450Z",
     "iopub.status.busy": "2023-01-08T16:19:13.105575Z",
     "iopub.status.idle": "2023-01-08T16:19:13.110331Z",
     "shell.execute_reply": "2023-01-08T16:19:13.110730Z"
    }
   },
   "outputs": [],
   "source": [
    "df.loc[df.area == \"-  Under Investigation\", \"area\"] = \"Under Investigation\""
   ]
  },
  {
   "cell_type": "code",
   "execution_count": 27,
   "metadata": {
    "execution": {
     "iopub.execute_input": "2023-01-08T16:19:13.115607Z",
     "iopub.status.busy": "2023-01-08T16:19:13.112585Z",
     "iopub.status.idle": "2023-01-08T16:19:13.119998Z",
     "shell.execute_reply": "2023-01-08T16:19:13.119602Z"
    }
   },
   "outputs": [],
   "source": [
    "df.loc[df.area == \"- Under Investigation\", \"area\"] = \"Under Investigation\""
   ]
  },
  {
   "cell_type": "markdown",
   "metadata": {},
   "source": [
    "## Vet"
   ]
  },
  {
   "cell_type": "code",
   "execution_count": 28,
   "metadata": {
    "execution": {
     "iopub.execute_input": "2023-01-08T16:19:13.124874Z",
     "iopub.status.busy": "2023-01-08T16:19:13.124134Z",
     "iopub.status.idle": "2023-01-08T16:19:13.129725Z",
     "shell.execute_reply": "2023-01-08T16:19:13.128919Z"
    }
   },
   "outputs": [],
   "source": [
    "try:\n",
    "    assert not len(df) > 342\n",
    "except AssertionError:\n",
    "    raise AssertionError(\"L.A. County's scraper has extra rows\")"
   ]
  },
  {
   "cell_type": "code",
   "execution_count": 29,
   "metadata": {
    "execution": {
     "iopub.execute_input": "2023-01-08T16:19:13.135397Z",
     "iopub.status.busy": "2023-01-08T16:19:13.132980Z",
     "iopub.status.idle": "2023-01-08T16:19:13.258625Z",
     "shell.execute_reply": "2023-01-08T16:19:13.257024Z"
    }
   },
   "outputs": [
    {
     "ename": "AssertionError",
     "evalue": "L.A. County's scraper is missing rows",
     "output_type": "error",
     "traceback": [
      "\u001b[0;31m---------------------------------------------------------------------------\u001b[0m",
      "\u001b[0;31mAssertionError\u001b[0m                            Traceback (most recent call last)",
      "\u001b[0;32m/tmp/ipykernel_2217/2999864733.py\u001b[0m in \u001b[0;36m<module>\u001b[0;34m\u001b[0m\n\u001b[1;32m      1\u001b[0m \u001b[0;32mtry\u001b[0m\u001b[0;34m:\u001b[0m\u001b[0;34m\u001b[0m\u001b[0;34m\u001b[0m\u001b[0m\n\u001b[0;32m----> 2\u001b[0;31m     \u001b[0;32massert\u001b[0m \u001b[0;32mnot\u001b[0m \u001b[0mlen\u001b[0m\u001b[0;34m(\u001b[0m\u001b[0mdf\u001b[0m\u001b[0;34m)\u001b[0m \u001b[0;34m<\u001b[0m \u001b[0;36m342\u001b[0m\u001b[0;34m\u001b[0m\u001b[0;34m\u001b[0m\u001b[0m\n\u001b[0m\u001b[1;32m      3\u001b[0m \u001b[0;32mexcept\u001b[0m \u001b[0mAssertionError\u001b[0m\u001b[0;34m:\u001b[0m\u001b[0;34m\u001b[0m\u001b[0;34m\u001b[0m\u001b[0m\n",
      "\u001b[0;31mAssertionError\u001b[0m: ",
      "\nDuring handling of the above exception, another exception occurred:\n",
      "\u001b[0;31mAssertionError\u001b[0m                            Traceback (most recent call last)",
      "\u001b[0;32m/tmp/ipykernel_2217/2999864733.py\u001b[0m in \u001b[0;36m<module>\u001b[0;34m\u001b[0m\n\u001b[1;32m      2\u001b[0m     \u001b[0;32massert\u001b[0m \u001b[0;32mnot\u001b[0m \u001b[0mlen\u001b[0m\u001b[0;34m(\u001b[0m\u001b[0mdf\u001b[0m\u001b[0;34m)\u001b[0m \u001b[0;34m<\u001b[0m \u001b[0;36m342\u001b[0m\u001b[0;34m\u001b[0m\u001b[0;34m\u001b[0m\u001b[0m\n\u001b[1;32m      3\u001b[0m \u001b[0;32mexcept\u001b[0m \u001b[0mAssertionError\u001b[0m\u001b[0;34m:\u001b[0m\u001b[0;34m\u001b[0m\u001b[0;34m\u001b[0m\u001b[0m\n\u001b[0;32m----> 4\u001b[0;31m     \u001b[0;32mraise\u001b[0m \u001b[0mAssertionError\u001b[0m\u001b[0;34m(\u001b[0m\u001b[0;34m\"L.A. County's scraper is missing rows\"\u001b[0m\u001b[0;34m)\u001b[0m\u001b[0;34m\u001b[0m\u001b[0;34m\u001b[0m\u001b[0m\n\u001b[0m",
      "\u001b[0;31mAssertionError\u001b[0m: L.A. County's scraper is missing rows"
     ]
    }
   ],
   "source": [
    "try:\n",
    "    assert not len(df) < 342\n",
    "except AssertionError:\n",
    "    raise AssertionError(\"L.A. County's scraper is missing rows\")"
   ]
  },
  {
   "cell_type": "markdown",
   "metadata": {},
   "source": [
    "## Export"
   ]
  },
  {
   "cell_type": "markdown",
   "metadata": {},
   "source": [
    "Set the date"
   ]
  },
  {
   "cell_type": "code",
   "execution_count": 67,
   "metadata": {},
   "outputs": [],
   "source": [
    "tz = pytz.timezone(\"America/Los_Angeles\")"
   ]
  },
  {
   "cell_type": "code",
   "execution_count": 68,
   "metadata": {},
   "outputs": [],
   "source": [
    "today = datetime.now(tz).date()"
   ]
  },
  {
   "cell_type": "code",
   "execution_count": 69,
   "metadata": {},
   "outputs": [],
   "source": [
    "slug = \"los-angeles\""
   ]
  },
  {
   "cell_type": "code",
   "execution_count": 70,
   "metadata": {},
   "outputs": [],
   "source": [
    "df.to_csv(data_dir / slug / f\"{today}.csv\", index=False)"
   ]
  },
  {
   "cell_type": "markdown",
   "metadata": {},
   "source": [
    "## Combine"
   ]
  },
  {
   "cell_type": "code",
   "execution_count": 71,
   "metadata": {},
   "outputs": [],
   "source": [
    "csv_list = [\n",
    "    i\n",
    "    for i in glob.glob(str(data_dir / slug / \"*.csv\"))\n",
    "    if not str(i).endswith(\"timeseries.csv\")\n",
    "]"
   ]
  },
  {
   "cell_type": "code",
   "execution_count": 72,
   "metadata": {},
   "outputs": [],
   "source": [
    "df_list = []\n",
    "for csv in csv_list:\n",
    "    if \"manual\" in csv:\n",
    "        df = pd.read_csv(csv, parse_dates=[\"date\"])\n",
    "    else:\n",
    "        file_date = csv.split(\"/\")[-1].replace(\".csv\", \"\")\n",
    "        df = pd.read_csv(csv, parse_dates=[\"county_date\"])\n",
    "        df[\"date\"] = file_date\n",
    "    df_list.append(df)"
   ]
  },
  {
   "cell_type": "code",
   "execution_count": 73,
   "metadata": {},
   "outputs": [],
   "source": [
    "df = pd.concat(df_list).sort_values([\"date\", \"area\"])"
   ]
  },
  {
   "cell_type": "code",
   "execution_count": 74,
   "metadata": {},
   "outputs": [],
   "source": [
    "df.to_csv(data_dir / slug / \"timeseries.csv\", index=False)"
   ]
  },
  {
   "cell_type": "code",
   "execution_count": null,
   "metadata": {},
   "outputs": [],
   "source": []
  },
  {
   "cell_type": "code",
   "execution_count": null,
   "metadata": {},
   "outputs": [],
   "source": []
  }
 ],
 "metadata": {
  "kernelspec": {
   "display_name": "Python 3 (ipykernel)",
   "language": "python",
   "name": "python3"
  },
  "language_info": {
   "codemirror_mode": {
    "name": "ipython",
    "version": 3
   },
   "file_extension": ".py",
   "mimetype": "text/x-python",
   "name": "python",
   "nbconvert_exporter": "python",
   "pygments_lexer": "ipython3",
   "version": "3.8.15"
  }
 },
 "nbformat": 4,
 "nbformat_minor": 4
}
