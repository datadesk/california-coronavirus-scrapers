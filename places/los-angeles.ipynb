{
 "cells": [
  {
   "cell_type": "markdown",
   "metadata": {
    "tags": []
   },
   "source": [
    "## Configuration\n",
    "_Initial steps to get the notebook ready to play nice with our repository. Do not delete this section._"
   ]
  },
  {
   "cell_type": "markdown",
   "metadata": {},
   "source": [
    "Code formatting with [black](https://pypi.org/project/nb-black/)."
   ]
  },
  {
   "cell_type": "code",
   "execution_count": 1,
   "metadata": {
    "execution": {
     "iopub.execute_input": "2023-01-31T20:18:50.023426Z",
     "iopub.status.busy": "2023-01-31T20:18:50.022974Z",
     "iopub.status.idle": "2023-01-31T20:18:50.167289Z",
     "shell.execute_reply": "2023-01-31T20:18:50.166662Z"
    }
   },
   "outputs": [],
   "source": [
    "%load_ext lab_black"
   ]
  },
  {
   "cell_type": "code",
   "execution_count": 2,
   "metadata": {
    "execution": {
     "iopub.execute_input": "2023-01-31T20:18:50.171048Z",
     "iopub.status.busy": "2023-01-31T20:18:50.170534Z",
     "iopub.status.idle": "2023-01-31T20:18:50.172856Z",
     "shell.execute_reply": "2023-01-31T20:18:50.173240Z"
    }
   },
   "outputs": [],
   "source": [
    "import os\n",
    "import pathlib"
   ]
  },
  {
   "cell_type": "code",
   "execution_count": 3,
   "metadata": {
    "execution": {
     "iopub.execute_input": "2023-01-31T20:18:50.176855Z",
     "iopub.status.busy": "2023-01-31T20:18:50.176407Z",
     "iopub.status.idle": "2023-01-31T20:18:50.180760Z",
     "shell.execute_reply": "2023-01-31T20:18:50.180388Z"
    }
   },
   "outputs": [],
   "source": [
    "this_dir = pathlib.Path(os.path.abspath(\"\"))"
   ]
  },
  {
   "cell_type": "code",
   "execution_count": 4,
   "metadata": {
    "execution": {
     "iopub.execute_input": "2023-01-31T20:18:50.184581Z",
     "iopub.status.busy": "2023-01-31T20:18:50.182543Z",
     "iopub.status.idle": "2023-01-31T20:18:50.186548Z",
     "shell.execute_reply": "2023-01-31T20:18:50.186112Z"
    }
   },
   "outputs": [],
   "source": [
    "data_dir = this_dir / \"data\""
   ]
  },
  {
   "cell_type": "code",
   "execution_count": 5,
   "metadata": {
    "execution": {
     "iopub.execute_input": "2023-01-31T20:18:50.190061Z",
     "iopub.status.busy": "2023-01-31T20:18:50.189627Z",
     "iopub.status.idle": "2023-01-31T20:18:50.594378Z",
     "shell.execute_reply": "2023-01-31T20:18:50.593457Z"
    }
   },
   "outputs": [],
   "source": [
    "import re\n",
    "import pytz\n",
    "import glob\n",
    "import requests\n",
    "import unicodedata\n",
    "import pandas as pd\n",
    "from slugify import slugify\n",
    "from bs4 import BeautifulSoup\n",
    "from datetime import datetime, date"
   ]
  },
  {
   "cell_type": "markdown",
   "metadata": {},
   "source": [
    "## Download"
   ]
  },
  {
   "cell_type": "markdown",
   "metadata": {},
   "source": [
    "Retrieve the page"
   ]
  },
  {
   "cell_type": "code",
   "execution_count": 6,
   "metadata": {
    "execution": {
     "iopub.execute_input": "2023-01-31T20:18:50.598502Z",
     "iopub.status.busy": "2023-01-31T20:18:50.597801Z",
     "iopub.status.idle": "2023-01-31T20:18:50.601944Z",
     "shell.execute_reply": "2023-01-31T20:18:50.601554Z"
    }
   },
   "outputs": [],
   "source": [
    "url = \"http://publichealth.lacounty.gov/media/Coronavirus/locations.htm\""
   ]
  },
  {
   "cell_type": "code",
   "execution_count": 7,
   "metadata": {
    "execution": {
     "iopub.execute_input": "2023-01-31T20:18:50.605768Z",
     "iopub.status.busy": "2023-01-31T20:18:50.604929Z",
     "iopub.status.idle": "2023-01-31T20:18:50.865975Z",
     "shell.execute_reply": "2023-01-31T20:18:50.865528Z"
    }
   },
   "outputs": [],
   "source": [
    "page = requests.get(url)"
   ]
  },
  {
   "cell_type": "markdown",
   "metadata": {},
   "source": [
    "## Parse"
   ]
  },
  {
   "cell_type": "code",
   "execution_count": 8,
   "metadata": {
    "execution": {
     "iopub.execute_input": "2023-01-31T20:18:50.889414Z",
     "iopub.status.busy": "2023-01-31T20:18:50.878971Z",
     "iopub.status.idle": "2023-01-31T20:18:51.016755Z",
     "shell.execute_reply": "2023-01-31T20:18:51.016306Z"
    }
   },
   "outputs": [],
   "source": [
    "soup = BeautifulSoup(page.content, \"html.parser\")"
   ]
  },
  {
   "cell_type": "markdown",
   "metadata": {},
   "source": [
    "Get content well"
   ]
  },
  {
   "cell_type": "code",
   "execution_count": 9,
   "metadata": {
    "execution": {
     "iopub.execute_input": "2023-01-31T20:18:51.024129Z",
     "iopub.status.busy": "2023-01-31T20:18:51.023042Z",
     "iopub.status.idle": "2023-01-31T20:18:51.026695Z",
     "shell.execute_reply": "2023-01-31T20:18:51.026294Z"
    }
   },
   "outputs": [],
   "source": [
    "content = soup.find(\"div\", {\"id\": \"content\"})"
   ]
  },
  {
   "cell_type": "markdown",
   "metadata": {},
   "source": [
    "Get table"
   ]
  },
  {
   "cell_type": "code",
   "execution_count": 10,
   "metadata": {
    "execution": {
     "iopub.execute_input": "2023-01-31T20:18:51.040685Z",
     "iopub.status.busy": "2023-01-31T20:18:51.033814Z",
     "iopub.status.idle": "2023-01-31T20:18:51.043326Z",
     "shell.execute_reply": "2023-01-31T20:18:51.042965Z"
    }
   },
   "outputs": [],
   "source": [
    "for tag in content.find_all(text=re.compile(\"CITY/COMMUNITY\")):\n",
    "    table = tag.findParent(\"table\")"
   ]
  },
  {
   "cell_type": "code",
   "execution_count": 11,
   "metadata": {
    "execution": {
     "iopub.execute_input": "2023-01-31T20:18:51.048172Z",
     "iopub.status.busy": "2023-01-31T20:18:51.047400Z",
     "iopub.status.idle": "2023-01-31T20:18:51.050736Z",
     "shell.execute_reply": "2023-01-31T20:18:51.050351Z"
    }
   },
   "outputs": [],
   "source": [
    "tbody = soup.tbody"
   ]
  },
  {
   "cell_type": "code",
   "execution_count": 12,
   "metadata": {
    "execution": {
     "iopub.execute_input": "2023-01-31T20:18:51.056857Z",
     "iopub.status.busy": "2023-01-31T20:18:51.055916Z",
     "iopub.status.idle": "2023-01-31T20:18:51.059487Z",
     "shell.execute_reply": "2023-01-31T20:18:51.059100Z"
    }
   },
   "outputs": [],
   "source": [
    "row_list = tbody.find_all(\"tr\")"
   ]
  },
  {
   "cell_type": "code",
   "execution_count": 13,
   "metadata": {
    "execution": {
     "iopub.execute_input": "2023-01-31T20:18:51.063762Z",
     "iopub.status.busy": "2023-01-31T20:18:51.063160Z",
     "iopub.status.idle": "2023-01-31T20:18:51.066307Z",
     "shell.execute_reply": "2023-01-31T20:18:51.065897Z"
    }
   },
   "outputs": [],
   "source": [
    "dict_list = []"
   ]
  },
  {
   "cell_type": "code",
   "execution_count": 14,
   "metadata": {
    "execution": {
     "iopub.execute_input": "2023-01-31T20:18:51.071641Z",
     "iopub.status.busy": "2023-01-31T20:18:51.069295Z",
     "iopub.status.idle": "2023-01-31T20:18:51.074161Z",
     "shell.execute_reply": "2023-01-31T20:18:51.073777Z"
    }
   },
   "outputs": [],
   "source": [
    "def safetxt(element):\n",
    "    v = element.text.strip()\n",
    "    v = v.replace(\"\\u200b\", \"\")\n",
    "    return v"
   ]
  },
  {
   "cell_type": "code",
   "execution_count": 15,
   "metadata": {
    "execution": {
     "iopub.execute_input": "2023-01-31T20:18:51.081301Z",
     "iopub.status.busy": "2023-01-31T20:18:51.080867Z",
     "iopub.status.idle": "2023-01-31T20:18:51.083819Z",
     "shell.execute_reply": "2023-01-31T20:18:51.083437Z"
    }
   },
   "outputs": [],
   "source": [
    "def safenumber(element):\n",
    "    v = safetxt(element)\n",
    "    v = v.replace(\",\", \"\")\n",
    "    v = v.replace(\" \", \"\")\n",
    "    return v"
   ]
  },
  {
   "cell_type": "code",
   "execution_count": 16,
   "metadata": {
    "execution": {
     "iopub.execute_input": "2023-01-31T20:18:51.095202Z",
     "iopub.status.busy": "2023-01-31T20:18:51.090964Z",
     "iopub.status.idle": "2023-01-31T20:18:51.102442Z",
     "shell.execute_reply": "2023-01-31T20:18:51.101526Z"
    }
   },
   "outputs": [],
   "source": [
    "for row in row_list:\n",
    "    cell_content = row.find_all(\"td\")\n",
    "    d = dict(\n",
    "        county=\"Los Angeles\",\n",
    "        area=safetxt(cell_content[0]),\n",
    "        confirmed_cases=safenumber(cell_content[1]),\n",
    "        confirmed_deaths=safenumber(cell_content[3]),\n",
    "    )\n",
    "    dict_list.append(d)"
   ]
  },
  {
   "cell_type": "code",
   "execution_count": 17,
   "metadata": {
    "execution": {
     "iopub.execute_input": "2023-01-31T20:18:51.107845Z",
     "iopub.status.busy": "2023-01-31T20:18:51.107414Z",
     "iopub.status.idle": "2023-01-31T20:18:51.110694Z",
     "shell.execute_reply": "2023-01-31T20:18:51.109850Z"
    }
   },
   "outputs": [],
   "source": [
    "df = pd.DataFrame(dict_list)"
   ]
  },
  {
   "cell_type": "markdown",
   "metadata": {},
   "source": [
    "Get timestamp"
   ]
  },
  {
   "cell_type": "code",
   "execution_count": 18,
   "metadata": {
    "execution": {
     "iopub.execute_input": "2023-01-31T20:18:51.114706Z",
     "iopub.status.busy": "2023-01-31T20:18:51.114232Z",
     "iopub.status.idle": "2023-01-31T20:18:51.117097Z",
     "shell.execute_reply": "2023-01-31T20:18:51.116207Z"
    }
   },
   "outputs": [],
   "source": [
    "date_url = \"http://publichealth.lacounty.gov/media/Coronavirus/js/casecounter.js\""
   ]
  },
  {
   "cell_type": "code",
   "execution_count": 19,
   "metadata": {
    "execution": {
     "iopub.execute_input": "2023-01-31T20:18:51.122880Z",
     "iopub.status.busy": "2023-01-31T20:18:51.122435Z",
     "iopub.status.idle": "2023-01-31T20:18:51.399033Z",
     "shell.execute_reply": "2023-01-31T20:18:51.398468Z"
    }
   },
   "outputs": [],
   "source": [
    "response = requests.get(date_url)\n",
    "date_page = response.text"
   ]
  },
  {
   "cell_type": "code",
   "execution_count": 20,
   "metadata": {
    "execution": {
     "iopub.execute_input": "2023-01-31T20:18:51.408071Z",
     "iopub.status.busy": "2023-01-31T20:18:51.401149Z",
     "iopub.status.idle": "2023-01-31T20:18:51.413733Z",
     "shell.execute_reply": "2023-01-31T20:18:51.413349Z"
    }
   },
   "outputs": [
    {
     "data": {
      "text/plain": [
       "'$( document ).ready(function() {\\r\\n    var data = {\\r\\n\\t\\t\\t\\t    \"content\": { \\r\\n\\t\\t\\r\\n\\t\\t\\t\"count\": \"3,673,339\",\\r\\n\\r\\n\\r\\n\\t\\t\\t\"death\": \"35,230\",\\r\\n\\r\\n\\t\\t\\t\"dailycount\": \"1,123\",\\r\\n\\r\\n\\r\\n\\t\\t\\t\"dailydeath\": \"19\",\\r\\n\\t\\t\\t\"hospitalizationsever\": \"169,988\",\\r\\n\\r\\n\\r\\n\\t\\t\\t\"date\": \"01/27/23\",\\r\\n\\t\\t\\t\"info\": \"through 12:00pm 01/26/2023\",\\r\\n\\r\\n\\t\\t\\t\"testingaverage\": \"22,605\",\\r\\n\\r\\n\\t\\t\\t\"peopletested\": \"12,881,377\",\\r\\n\\r\\n\\t\\t\\t\"positivity\": \"4.57%\",\\r\\n\\r\\n\\t\\t\\t\"hospitalizations\": \"722\",\\r\\n\\t\\t\\t\"datehospitalizations\": \"01/26/23\"\\r\\n\\r\\n\\t\\t\\t\\t}       \\r\\n\\t\\t\\t\\t};\\t\\r\\n\\t\\t\\t\\t\\r\\n\\t\\t\\t\\t\\r\\n\\t\\t\\t\\tvar content = data.content;\\r\\n\\t\\t\\t\\t\\r\\n\\t\\t\\t\\t$(\\'#ctn\\').html(content.count);\\r\\n\\t\\t\\t\\t$(\\'#det\\').html(content.death);\\r\\n\\t\\t\\t\\t$(\\'#dctn\\').html(content.dailycount);\\r\\n\\t\\t\\t\\t$(\\'#ddet\\').html(content.dailydeath);\\r\\n\\t\\t\\t\\t$(\\'#hosp_1\\').html(content.hospitalizationsever);\\r\\n\\t\\t\\t\\t$(\\'#dte\\').html(content.date);\\r\\n\\t\\t\\t\\t$(\\'#dte_1\\').html(content.date);\\r\\n\\t\\t\\t\\t$(\\'#dte_2\\').html(content.date);\\r\\n\\t\\t\\t\\t$(\\'#dte_3\\').html(content.datehospitalizations);\\r\\n\\t\\t\\t\\t$(\\'#cse\\').html(content.info);\\t\\r\\n\\t\\t\\t\\r\\n\\t\\t\\t\\t\\r\\n\\t\\t\\t\\t$(\\'#tstavg\\').html(content.testingaverage);\\t\\r\\n\\t\\t\\t\\t$(\\'#ppltst\\').html(content.peopletested);\\t\\r\\n\\t\\t\\t\\t$(\\'#pos\\').html(content.positivity);\\t\\r\\n\\t\\t\\t\\t$(\\'#hosp\\').html(content.hospitalizations);\\r\\n\\t\\t\\t\\r\\n\\t\\t\\t\\t\\t\\t\\t\\r\\n\\r\\n\\r\\n});\\r\\n\\r\\n\\r\\n\\r\\n'"
      ]
     },
     "execution_count": 20,
     "metadata": {},
     "output_type": "execute_result"
    }
   ],
   "source": [
    "date_page"
   ]
  },
  {
   "cell_type": "code",
   "execution_count": 21,
   "metadata": {
    "execution": {
     "iopub.execute_input": "2023-01-31T20:18:51.417627Z",
     "iopub.status.busy": "2023-01-31T20:18:51.417189Z",
     "iopub.status.idle": "2023-01-31T20:18:51.420418Z",
     "shell.execute_reply": "2023-01-31T20:18:51.419645Z"
    }
   },
   "outputs": [],
   "source": [
    "# date_text = re.search(r\"([0-9][0-9]/[0-9][0-9])\", date_page).group(1)\n",
    "# date_text = date_text + \"/\" + str(date.today().year)"
   ]
  },
  {
   "cell_type": "code",
   "execution_count": 22,
   "metadata": {
    "execution": {
     "iopub.execute_input": "2023-01-31T20:18:51.425718Z",
     "iopub.status.busy": "2023-01-31T20:18:51.425285Z",
     "iopub.status.idle": "2023-01-31T20:18:51.426937Z",
     "shell.execute_reply": "2023-01-31T20:18:51.427302Z"
    }
   },
   "outputs": [],
   "source": [
    "date_text = re.search(r\"through (.+?)\\\"\", date_page).group(1)"
   ]
  },
  {
   "cell_type": "code",
   "execution_count": 23,
   "metadata": {
    "execution": {
     "iopub.execute_input": "2023-01-31T20:18:51.431065Z",
     "iopub.status.busy": "2023-01-31T20:18:51.429036Z",
     "iopub.status.idle": "2023-01-31T20:18:51.433686Z",
     "shell.execute_reply": "2023-01-31T20:18:51.433331Z"
    }
   },
   "outputs": [],
   "source": [
    "date_text = date_text.split(\"m \")[0]"
   ]
  },
  {
   "cell_type": "code",
   "execution_count": 24,
   "metadata": {
    "execution": {
     "iopub.execute_input": "2023-01-31T20:18:51.438935Z",
     "iopub.status.busy": "2023-01-31T20:18:51.438171Z",
     "iopub.status.idle": "2023-01-31T20:18:51.441038Z",
     "shell.execute_reply": "2023-01-31T20:18:51.441409Z"
    }
   },
   "outputs": [],
   "source": [
    "latest_date = pd.to_datetime(date_text).date()"
   ]
  },
  {
   "cell_type": "code",
   "execution_count": 25,
   "metadata": {
    "execution": {
     "iopub.execute_input": "2023-01-31T20:18:51.446251Z",
     "iopub.status.busy": "2023-01-31T20:18:51.445822Z",
     "iopub.status.idle": "2023-01-31T20:18:51.448057Z",
     "shell.execute_reply": "2023-01-31T20:18:51.447442Z"
    }
   },
   "outputs": [],
   "source": [
    "df[\"county_date\"] = latest_date"
   ]
  },
  {
   "cell_type": "code",
   "execution_count": 26,
   "metadata": {
    "execution": {
     "iopub.execute_input": "2023-01-31T20:18:51.453760Z",
     "iopub.status.busy": "2023-01-31T20:18:51.452940Z",
     "iopub.status.idle": "2023-01-31T20:18:51.456503Z",
     "shell.execute_reply": "2023-01-31T20:18:51.456115Z"
    }
   },
   "outputs": [],
   "source": [
    "df.loc[df.area == \"-  Under Investigation\", \"area\"] = \"Under Investigation\""
   ]
  },
  {
   "cell_type": "code",
   "execution_count": 27,
   "metadata": {
    "execution": {
     "iopub.execute_input": "2023-01-31T20:18:51.463026Z",
     "iopub.status.busy": "2023-01-31T20:18:51.462586Z",
     "iopub.status.idle": "2023-01-31T20:18:51.465497Z",
     "shell.execute_reply": "2023-01-31T20:18:51.465118Z"
    }
   },
   "outputs": [],
   "source": [
    "df.loc[df.area == \"- Under Investigation\", \"area\"] = \"Under Investigation\""
   ]
  },
  {
   "cell_type": "markdown",
   "metadata": {},
   "source": [
    "## Vet"
   ]
  },
  {
   "cell_type": "code",
   "execution_count": 28,
   "metadata": {
    "execution": {
     "iopub.execute_input": "2023-01-31T20:18:51.469763Z",
     "iopub.status.busy": "2023-01-31T20:18:51.469041Z",
     "iopub.status.idle": "2023-01-31T20:18:51.474153Z",
     "shell.execute_reply": "2023-01-31T20:18:51.473378Z"
    }
   },
   "outputs": [],
   "source": [
    "try:\n",
    "    assert not len(df) > 342\n",
    "except AssertionError:\n",
    "    raise AssertionError(\"L.A. County's scraper has extra rows\")"
   ]
  },
  {
   "cell_type": "code",
   "execution_count": 29,
   "metadata": {
    "execution": {
     "iopub.execute_input": "2023-01-31T20:18:51.478819Z",
     "iopub.status.busy": "2023-01-31T20:18:51.477055Z",
     "iopub.status.idle": "2023-01-31T20:18:51.601693Z",
     "shell.execute_reply": "2023-01-31T20:18:51.600190Z"
    }
   },
   "outputs": [
    {
     "ename": "AssertionError",
     "evalue": "L.A. County's scraper is missing rows",
     "output_type": "error",
     "traceback": [
      "\u001b[0;31m---------------------------------------------------------------------------\u001b[0m",
      "\u001b[0;31mAssertionError\u001b[0m                            Traceback (most recent call last)",
      "\u001b[0;32m/tmp/ipykernel_2243/2999864733.py\u001b[0m in \u001b[0;36m<module>\u001b[0;34m\u001b[0m\n\u001b[1;32m      1\u001b[0m \u001b[0;32mtry\u001b[0m\u001b[0;34m:\u001b[0m\u001b[0;34m\u001b[0m\u001b[0;34m\u001b[0m\u001b[0m\n\u001b[0;32m----> 2\u001b[0;31m     \u001b[0;32massert\u001b[0m \u001b[0;32mnot\u001b[0m \u001b[0mlen\u001b[0m\u001b[0;34m(\u001b[0m\u001b[0mdf\u001b[0m\u001b[0;34m)\u001b[0m \u001b[0;34m<\u001b[0m \u001b[0;36m342\u001b[0m\u001b[0;34m\u001b[0m\u001b[0;34m\u001b[0m\u001b[0m\n\u001b[0m\u001b[1;32m      3\u001b[0m \u001b[0;32mexcept\u001b[0m \u001b[0mAssertionError\u001b[0m\u001b[0;34m:\u001b[0m\u001b[0;34m\u001b[0m\u001b[0;34m\u001b[0m\u001b[0m\n",
      "\u001b[0;31mAssertionError\u001b[0m: ",
      "\nDuring handling of the above exception, another exception occurred:\n",
      "\u001b[0;31mAssertionError\u001b[0m                            Traceback (most recent call last)",
      "\u001b[0;32m/tmp/ipykernel_2243/2999864733.py\u001b[0m in \u001b[0;36m<module>\u001b[0;34m\u001b[0m\n\u001b[1;32m      2\u001b[0m     \u001b[0;32massert\u001b[0m \u001b[0;32mnot\u001b[0m \u001b[0mlen\u001b[0m\u001b[0;34m(\u001b[0m\u001b[0mdf\u001b[0m\u001b[0;34m)\u001b[0m \u001b[0;34m<\u001b[0m \u001b[0;36m342\u001b[0m\u001b[0;34m\u001b[0m\u001b[0;34m\u001b[0m\u001b[0m\n\u001b[1;32m      3\u001b[0m \u001b[0;32mexcept\u001b[0m \u001b[0mAssertionError\u001b[0m\u001b[0;34m:\u001b[0m\u001b[0;34m\u001b[0m\u001b[0;34m\u001b[0m\u001b[0m\n\u001b[0;32m----> 4\u001b[0;31m     \u001b[0;32mraise\u001b[0m \u001b[0mAssertionError\u001b[0m\u001b[0;34m(\u001b[0m\u001b[0;34m\"L.A. County's scraper is missing rows\"\u001b[0m\u001b[0;34m)\u001b[0m\u001b[0;34m\u001b[0m\u001b[0;34m\u001b[0m\u001b[0m\n\u001b[0m",
      "\u001b[0;31mAssertionError\u001b[0m: L.A. County's scraper is missing rows"
     ]
    }
   ],
   "source": [
    "try:\n",
    "    assert not len(df) < 342\n",
    "except AssertionError:\n",
    "    raise AssertionError(\"L.A. County's scraper is missing rows\")"
   ]
  },
  {
   "cell_type": "markdown",
   "metadata": {},
   "source": [
    "## Export"
   ]
  },
  {
   "cell_type": "markdown",
   "metadata": {},
   "source": [
    "Set the date"
   ]
  },
  {
   "cell_type": "code",
   "execution_count": 67,
   "metadata": {},
   "outputs": [],
   "source": [
    "tz = pytz.timezone(\"America/Los_Angeles\")"
   ]
  },
  {
   "cell_type": "code",
   "execution_count": 68,
   "metadata": {},
   "outputs": [],
   "source": [
    "today = datetime.now(tz).date()"
   ]
  },
  {
   "cell_type": "code",
   "execution_count": 69,
   "metadata": {},
   "outputs": [],
   "source": [
    "slug = \"los-angeles\""
   ]
  },
  {
   "cell_type": "code",
   "execution_count": 70,
   "metadata": {},
   "outputs": [],
   "source": [
    "df.to_csv(data_dir / slug / f\"{today}.csv\", index=False)"
   ]
  },
  {
   "cell_type": "markdown",
   "metadata": {},
   "source": [
    "## Combine"
   ]
  },
  {
   "cell_type": "code",
   "execution_count": 71,
   "metadata": {},
   "outputs": [],
   "source": [
    "csv_list = [\n",
    "    i\n",
    "    for i in glob.glob(str(data_dir / slug / \"*.csv\"))\n",
    "    if not str(i).endswith(\"timeseries.csv\")\n",
    "]"
   ]
  },
  {
   "cell_type": "code",
   "execution_count": 72,
   "metadata": {},
   "outputs": [],
   "source": [
    "df_list = []\n",
    "for csv in csv_list:\n",
    "    if \"manual\" in csv:\n",
    "        df = pd.read_csv(csv, parse_dates=[\"date\"])\n",
    "    else:\n",
    "        file_date = csv.split(\"/\")[-1].replace(\".csv\", \"\")\n",
    "        df = pd.read_csv(csv, parse_dates=[\"county_date\"])\n",
    "        df[\"date\"] = file_date\n",
    "    df_list.append(df)"
   ]
  },
  {
   "cell_type": "code",
   "execution_count": 73,
   "metadata": {},
   "outputs": [],
   "source": [
    "df = pd.concat(df_list).sort_values([\"date\", \"area\"])"
   ]
  },
  {
   "cell_type": "code",
   "execution_count": 74,
   "metadata": {},
   "outputs": [],
   "source": [
    "df.to_csv(data_dir / slug / \"timeseries.csv\", index=False)"
   ]
  },
  {
   "cell_type": "code",
   "execution_count": null,
   "metadata": {},
   "outputs": [],
   "source": []
  },
  {
   "cell_type": "code",
   "execution_count": null,
   "metadata": {},
   "outputs": [],
   "source": []
  }
 ],
 "metadata": {
  "kernelspec": {
   "display_name": "Python 3 (ipykernel)",
   "language": "python",
   "name": "python3"
  },
  "language_info": {
   "codemirror_mode": {
    "name": "ipython",
    "version": 3
   },
   "file_extension": ".py",
   "mimetype": "text/x-python",
   "name": "python",
   "nbconvert_exporter": "python",
   "pygments_lexer": "ipython3",
   "version": "3.8.16"
  }
 },
 "nbformat": 4,
 "nbformat_minor": 4
}
