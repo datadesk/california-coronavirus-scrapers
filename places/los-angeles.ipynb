{
 "cells": [
  {
   "cell_type": "markdown",
   "metadata": {
    "tags": []
   },
   "source": [
    "## Configuration\n",
    "_Initial steps to get the notebook ready to play nice with our repository. Do not delete this section._"
   ]
  },
  {
   "cell_type": "markdown",
   "metadata": {},
   "source": [
    "Code formatting with [black](https://pypi.org/project/nb-black/)."
   ]
  },
  {
   "cell_type": "code",
   "execution_count": null,
   "metadata": {},
   "outputs": [],
   "source": []
  },
  {
   "cell_type": "code",
   "execution_count": 1,
   "metadata": {
    "execution": {
     "iopub.execute_input": "2023-02-28T12:18:18.412961Z",
     "iopub.status.busy": "2023-02-28T12:18:18.412695Z",
     "iopub.status.idle": "2023-02-28T12:18:18.419811Z",
     "shell.execute_reply": "2023-02-28T12:18:18.419118Z"
    }
   },
   "outputs": [],
   "source": [
    "import os\n",
    "import pathlib"
   ]
  },
  {
   "cell_type": "code",
   "execution_count": 2,
   "metadata": {
    "execution": {
     "iopub.execute_input": "2023-02-28T12:18:18.422777Z",
     "iopub.status.busy": "2023-02-28T12:18:18.422359Z",
     "iopub.status.idle": "2023-02-28T12:18:18.425753Z",
     "shell.execute_reply": "2023-02-28T12:18:18.425100Z"
    }
   },
   "outputs": [],
   "source": [
    "this_dir = pathlib.Path(os.path.abspath(\"\"))"
   ]
  },
  {
   "cell_type": "code",
   "execution_count": 3,
   "metadata": {
    "execution": {
     "iopub.execute_input": "2023-02-28T12:18:18.428627Z",
     "iopub.status.busy": "2023-02-28T12:18:18.428286Z",
     "iopub.status.idle": "2023-02-28T12:18:18.431451Z",
     "shell.execute_reply": "2023-02-28T12:18:18.430774Z"
    }
   },
   "outputs": [],
   "source": [
    "data_dir = this_dir / \"data\""
   ]
  },
  {
   "cell_type": "code",
   "execution_count": 4,
   "metadata": {
    "execution": {
     "iopub.execute_input": "2023-02-28T12:18:18.434340Z",
     "iopub.status.busy": "2023-02-28T12:18:18.433982Z",
     "iopub.status.idle": "2023-02-28T12:18:18.816464Z",
     "shell.execute_reply": "2023-02-28T12:18:18.815174Z"
    }
   },
   "outputs": [],
   "source": [
    "import re\n",
    "import pytz\n",
    "import glob\n",
    "import requests\n",
    "import unicodedata\n",
    "import pandas as pd\n",
    "from slugify import slugify\n",
    "from bs4 import BeautifulSoup\n",
    "from datetime import datetime, date"
   ]
  },
  {
   "cell_type": "markdown",
   "metadata": {},
   "source": [
    "## Download"
   ]
  },
  {
   "cell_type": "markdown",
   "metadata": {},
   "source": [
    "Retrieve the page"
   ]
  },
  {
   "cell_type": "code",
   "execution_count": 5,
   "metadata": {
    "execution": {
     "iopub.execute_input": "2023-02-28T12:18:18.820024Z",
     "iopub.status.busy": "2023-02-28T12:18:18.819471Z",
     "iopub.status.idle": "2023-02-28T12:18:18.823691Z",
     "shell.execute_reply": "2023-02-28T12:18:18.823013Z"
    }
   },
   "outputs": [],
   "source": [
    "url = \"http://publichealth.lacounty.gov/media/Coronavirus/locations.htm\""
   ]
  },
  {
   "cell_type": "code",
   "execution_count": 6,
   "metadata": {
    "execution": {
     "iopub.execute_input": "2023-02-28T12:18:18.826291Z",
     "iopub.status.busy": "2023-02-28T12:18:18.825930Z",
     "iopub.status.idle": "2023-02-28T12:18:19.145644Z",
     "shell.execute_reply": "2023-02-28T12:18:19.144417Z"
    }
   },
   "outputs": [],
   "source": [
    "page = requests.get(url)"
   ]
  },
  {
   "cell_type": "markdown",
   "metadata": {},
   "source": [
    "## Parse"
   ]
  },
  {
   "cell_type": "code",
   "execution_count": 7,
   "metadata": {
    "execution": {
     "iopub.execute_input": "2023-02-28T12:18:19.149097Z",
     "iopub.status.busy": "2023-02-28T12:18:19.148706Z",
     "iopub.status.idle": "2023-02-28T12:18:19.332103Z",
     "shell.execute_reply": "2023-02-28T12:18:19.331402Z"
    }
   },
   "outputs": [],
   "source": [
    "soup = BeautifulSoup(page.content, \"html.parser\")"
   ]
  },
  {
   "cell_type": "markdown",
   "metadata": {},
   "source": [
    "Get content well"
   ]
  },
  {
   "cell_type": "code",
   "execution_count": 8,
   "metadata": {
    "execution": {
     "iopub.execute_input": "2023-02-28T12:18:19.335475Z",
     "iopub.status.busy": "2023-02-28T12:18:19.335238Z",
     "iopub.status.idle": "2023-02-28T12:18:19.339820Z",
     "shell.execute_reply": "2023-02-28T12:18:19.339156Z"
    }
   },
   "outputs": [],
   "source": [
    "content = soup.find(\"div\", {\"id\": \"content\"})"
   ]
  },
  {
   "cell_type": "markdown",
   "metadata": {},
   "source": [
    "Get table"
   ]
  },
  {
   "cell_type": "code",
   "execution_count": 9,
   "metadata": {
    "execution": {
     "iopub.execute_input": "2023-02-28T12:18:19.342816Z",
     "iopub.status.busy": "2023-02-28T12:18:19.342185Z",
     "iopub.status.idle": "2023-02-28T12:18:19.355590Z",
     "shell.execute_reply": "2023-02-28T12:18:19.355049Z"
    }
   },
   "outputs": [
    {
     "name": "stderr",
     "output_type": "stream",
     "text": [
      "/tmp/ipykernel_2124/719696481.py:1: DeprecationWarning: The 'text' argument to find()-type methods is deprecated. Use 'string' instead.\n",
      "  for tag in content.find_all(text=re.compile(\"CITY/COMMUNITY\")):\n"
     ]
    }
   ],
   "source": [
    "for tag in content.find_all(text=re.compile(\"CITY/COMMUNITY\")):\n",
    "    table = tag.findParent(\"table\")"
   ]
  },
  {
   "cell_type": "code",
   "execution_count": 10,
   "metadata": {
    "execution": {
     "iopub.execute_input": "2023-02-28T12:18:19.358618Z",
     "iopub.status.busy": "2023-02-28T12:18:19.358078Z",
     "iopub.status.idle": "2023-02-28T12:18:19.362476Z",
     "shell.execute_reply": "2023-02-28T12:18:19.361770Z"
    }
   },
   "outputs": [],
   "source": [
    "tbody = soup.tbody"
   ]
  },
  {
   "cell_type": "code",
   "execution_count": 11,
   "metadata": {
    "execution": {
     "iopub.execute_input": "2023-02-28T12:18:19.365110Z",
     "iopub.status.busy": "2023-02-28T12:18:19.364767Z",
     "iopub.status.idle": "2023-02-28T12:18:19.369415Z",
     "shell.execute_reply": "2023-02-28T12:18:19.368751Z"
    }
   },
   "outputs": [],
   "source": [
    "row_list = tbody.find_all(\"tr\")"
   ]
  },
  {
   "cell_type": "code",
   "execution_count": 12,
   "metadata": {
    "execution": {
     "iopub.execute_input": "2023-02-28T12:18:19.372401Z",
     "iopub.status.busy": "2023-02-28T12:18:19.371885Z",
     "iopub.status.idle": "2023-02-28T12:18:19.374986Z",
     "shell.execute_reply": "2023-02-28T12:18:19.374296Z"
    }
   },
   "outputs": [],
   "source": [
    "dict_list = []"
   ]
  },
  {
   "cell_type": "code",
   "execution_count": 13,
   "metadata": {
    "execution": {
     "iopub.execute_input": "2023-02-28T12:18:19.377751Z",
     "iopub.status.busy": "2023-02-28T12:18:19.377402Z",
     "iopub.status.idle": "2023-02-28T12:18:19.380877Z",
     "shell.execute_reply": "2023-02-28T12:18:19.380210Z"
    }
   },
   "outputs": [],
   "source": [
    "def safetxt(element):\n",
    "    v = element.text.strip()\n",
    "    v = v.replace(\"\\u200b\", \"\")\n",
    "    return v"
   ]
  },
  {
   "cell_type": "code",
   "execution_count": 14,
   "metadata": {
    "execution": {
     "iopub.execute_input": "2023-02-28T12:18:19.383780Z",
     "iopub.status.busy": "2023-02-28T12:18:19.383366Z",
     "iopub.status.idle": "2023-02-28T12:18:19.386902Z",
     "shell.execute_reply": "2023-02-28T12:18:19.386194Z"
    }
   },
   "outputs": [],
   "source": [
    "def safenumber(element):\n",
    "    v = safetxt(element)\n",
    "    v = v.replace(\",\", \"\")\n",
    "    v = v.replace(\" \", \"\")\n",
    "    return v"
   ]
  },
  {
   "cell_type": "code",
   "execution_count": 15,
   "metadata": {
    "execution": {
     "iopub.execute_input": "2023-02-28T12:18:19.389872Z",
     "iopub.status.busy": "2023-02-28T12:18:19.389353Z",
     "iopub.status.idle": "2023-02-28T12:18:19.399949Z",
     "shell.execute_reply": "2023-02-28T12:18:19.399290Z"
    }
   },
   "outputs": [],
   "source": [
    "for row in row_list:\n",
    "    cell_content = row.find_all(\"td\")\n",
    "    d = dict(\n",
    "        county=\"Los Angeles\",\n",
    "        area=safetxt(cell_content[0]),\n",
    "        confirmed_cases=safenumber(cell_content[1]),\n",
    "        confirmed_deaths=safenumber(cell_content[3]),\n",
    "    )\n",
    "    dict_list.append(d)"
   ]
  },
  {
   "cell_type": "code",
   "execution_count": 16,
   "metadata": {
    "execution": {
     "iopub.execute_input": "2023-02-28T12:18:19.402805Z",
     "iopub.status.busy": "2023-02-28T12:18:19.402393Z",
     "iopub.status.idle": "2023-02-28T12:18:19.407410Z",
     "shell.execute_reply": "2023-02-28T12:18:19.406731Z"
    }
   },
   "outputs": [],
   "source": [
    "df = pd.DataFrame(dict_list)"
   ]
  },
  {
   "cell_type": "markdown",
   "metadata": {},
   "source": [
    "Get timestamp"
   ]
  },
  {
   "cell_type": "code",
   "execution_count": 17,
   "metadata": {
    "execution": {
     "iopub.execute_input": "2023-02-28T12:18:19.410262Z",
     "iopub.status.busy": "2023-02-28T12:18:19.409832Z",
     "iopub.status.idle": "2023-02-28T12:18:19.412877Z",
     "shell.execute_reply": "2023-02-28T12:18:19.412217Z"
    }
   },
   "outputs": [],
   "source": [
    "date_url = \"http://publichealth.lacounty.gov/media/Coronavirus/js/casecounter.js\""
   ]
  },
  {
   "cell_type": "code",
   "execution_count": 18,
   "metadata": {
    "execution": {
     "iopub.execute_input": "2023-02-28T12:18:19.415622Z",
     "iopub.status.busy": "2023-02-28T12:18:19.415208Z",
     "iopub.status.idle": "2023-02-28T12:18:19.723826Z",
     "shell.execute_reply": "2023-02-28T12:18:19.722593Z"
    }
   },
   "outputs": [],
   "source": [
    "response = requests.get(date_url)\n",
    "date_page = response.text"
   ]
  },
  {
   "cell_type": "code",
   "execution_count": 19,
   "metadata": {
    "execution": {
     "iopub.execute_input": "2023-02-28T12:18:19.727935Z",
     "iopub.status.busy": "2023-02-28T12:18:19.727489Z",
     "iopub.status.idle": "2023-02-28T12:18:19.737474Z",
     "shell.execute_reply": "2023-02-28T12:18:19.736376Z"
    }
   },
   "outputs": [
    {
     "data": {
      "text/plain": [
       "'$( document ).ready(function() {\\r\\n    var data = {\\r\\n\\t\\t\\t\\t    \"content\": { \\r\\n\\t\\t\\r\\n\\t\\t\\t\"count\": \"3,703,663\",\\r\\n\\r\\n\\r\\n\\t\\t\\t\"death\": \"35,675\",\\r\\n\\r\\n\\t\\t\\t\"dailycount\": \"2,129\",\\r\\n\\r\\n\\r\\n\\t\\t\\t\"dailydeath\": \"34\",\\r\\n\\t\\t\\t\"hospitalizationsever\": \"173,302\",\\r\\n\\r\\n\\r\\n\\t\\t\\t\"date\": \"02/27/23\",\\r\\n\\t\\t\\t\"info\": \"through 12:00pm 02/26/2023\",\\r\\n\\r\\n\\t\\t\\t\"testingaverage\": \"16,261\",\\r\\n\\r\\n\\t\\t\\t\"peopletested\": \"12,939,072\",\\r\\n\\r\\n\\t\\t\\t\"positivity\": \"6.49%\",\\r\\n\\r\\n\\t\\t\\t\"hospitalizations\": \"692\",\\r\\n\\t\\t\\t\"datehospitalizations\": \"2/23/23\"\\r\\n\\r\\n\\t\\t\\t\\t}       \\r\\n\\t\\t\\t\\t};\\t\\r\\n\\t\\t\\t\\t\\r\\n\\t\\t\\t\\t\\r\\n\\t\\t\\t\\tvar content = data.content;\\r\\n\\t\\t\\t\\t\\r\\n\\t\\t\\t\\t$(\\'#ctn\\').html(content.count);\\r\\n\\t\\t\\t\\t$(\\'#det\\').html(content.death);\\r\\n\\t\\t\\t\\t$(\\'#dctn\\').html(content.dailycount);\\r\\n\\t\\t\\t\\t$(\\'#ddet\\').html(content.dailydeath);\\r\\n\\t\\t\\t\\t$(\\'#hosp_1\\').html(content.hospitalizationsever);\\r\\n\\t\\t\\t\\t$(\\'#dte\\').html(content.date);\\r\\n\\t\\t\\t\\t$(\\'#dte_1\\').html(content.date);\\r\\n\\t\\t\\t\\t$(\\'#dte_2\\').html(content.date);\\r\\n\\t\\t\\t\\t$(\\'#dte_3\\').html(content.datehospitalizations);\\r\\n\\t\\t\\t\\t$(\\'#cse\\').html(content.info);\\t\\r\\n\\t\\t\\t\\r\\n\\t\\t\\t\\t\\r\\n\\t\\t\\t\\t$(\\'#tstavg\\').html(content.testingaverage);\\t\\r\\n\\t\\t\\t\\t$(\\'#ppltst\\').html(content.peopletested);\\t\\r\\n\\t\\t\\t\\t$(\\'#pos\\').html(content.positivity);\\t\\r\\n\\t\\t\\t\\t$(\\'#hosp\\').html(content.hospitalizations);\\r\\n\\t\\t\\t\\r\\n\\t\\t\\t\\t\\t\\t\\t\\r\\n\\r\\n\\r\\n});\\r\\n\\r\\n\\r\\n\\r\\n'"
      ]
     },
     "execution_count": 19,
     "metadata": {},
     "output_type": "execute_result"
    }
   ],
   "source": [
    "date_page"
   ]
  },
  {
   "cell_type": "code",
   "execution_count": 20,
   "metadata": {
    "execution": {
     "iopub.execute_input": "2023-02-28T12:18:19.741396Z",
     "iopub.status.busy": "2023-02-28T12:18:19.740172Z",
     "iopub.status.idle": "2023-02-28T12:18:19.744832Z",
     "shell.execute_reply": "2023-02-28T12:18:19.743808Z"
    }
   },
   "outputs": [],
   "source": [
    "# date_text = re.search(r\"([0-9][0-9]/[0-9][0-9])\", date_page).group(1)\n",
    "# date_text = date_text + \"/\" + str(date.today().year)"
   ]
  },
  {
   "cell_type": "code",
   "execution_count": 21,
   "metadata": {
    "execution": {
     "iopub.execute_input": "2023-02-28T12:18:19.747421Z",
     "iopub.status.busy": "2023-02-28T12:18:19.747204Z",
     "iopub.status.idle": "2023-02-28T12:18:19.751688Z",
     "shell.execute_reply": "2023-02-28T12:18:19.750920Z"
    }
   },
   "outputs": [],
   "source": [
    "date_text = re.search(r\"through (.+?)\\\"\", date_page).group(1)"
   ]
  },
  {
   "cell_type": "code",
   "execution_count": 22,
   "metadata": {
    "execution": {
     "iopub.execute_input": "2023-02-28T12:18:19.754340Z",
     "iopub.status.busy": "2023-02-28T12:18:19.753816Z",
     "iopub.status.idle": "2023-02-28T12:18:19.758690Z",
     "shell.execute_reply": "2023-02-28T12:18:19.757523Z"
    }
   },
   "outputs": [],
   "source": [
    "date_text = date_text.split(\"m \")[0]"
   ]
  },
  {
   "cell_type": "code",
   "execution_count": 23,
   "metadata": {
    "execution": {
     "iopub.execute_input": "2023-02-28T12:18:19.761498Z",
     "iopub.status.busy": "2023-02-28T12:18:19.760921Z",
     "iopub.status.idle": "2023-02-28T12:18:19.764609Z",
     "shell.execute_reply": "2023-02-28T12:18:19.763950Z"
    }
   },
   "outputs": [],
   "source": [
    "latest_date = pd.to_datetime(date_text).date()"
   ]
  },
  {
   "cell_type": "code",
   "execution_count": 24,
   "metadata": {
    "execution": {
     "iopub.execute_input": "2023-02-28T12:18:19.767415Z",
     "iopub.status.busy": "2023-02-28T12:18:19.767006Z",
     "iopub.status.idle": "2023-02-28T12:18:19.772722Z",
     "shell.execute_reply": "2023-02-28T12:18:19.771304Z"
    }
   },
   "outputs": [],
   "source": [
    "df[\"county_date\"] = latest_date"
   ]
  },
  {
   "cell_type": "code",
   "execution_count": 25,
   "metadata": {
    "execution": {
     "iopub.execute_input": "2023-02-28T12:18:19.775524Z",
     "iopub.status.busy": "2023-02-28T12:18:19.774948Z",
     "iopub.status.idle": "2023-02-28T12:18:19.779086Z",
     "shell.execute_reply": "2023-02-28T12:18:19.778388Z"
    }
   },
   "outputs": [],
   "source": [
    "df.loc[df.area == \"-  Under Investigation\", \"area\"] = \"Under Investigation\""
   ]
  },
  {
   "cell_type": "code",
   "execution_count": 26,
   "metadata": {
    "execution": {
     "iopub.execute_input": "2023-02-28T12:18:19.781733Z",
     "iopub.status.busy": "2023-02-28T12:18:19.781380Z",
     "iopub.status.idle": "2023-02-28T12:18:19.785173Z",
     "shell.execute_reply": "2023-02-28T12:18:19.784511Z"
    }
   },
   "outputs": [],
   "source": [
    "df.loc[df.area == \"- Under Investigation\", \"area\"] = \"Under Investigation\""
   ]
  },
  {
   "cell_type": "markdown",
   "metadata": {},
   "source": [
    "## Vet"
   ]
  },
  {
   "cell_type": "code",
   "execution_count": 27,
   "metadata": {
    "execution": {
     "iopub.execute_input": "2023-02-28T12:18:19.787977Z",
     "iopub.status.busy": "2023-02-28T12:18:19.787477Z",
     "iopub.status.idle": "2023-02-28T12:18:19.791670Z",
     "shell.execute_reply": "2023-02-28T12:18:19.791003Z"
    }
   },
   "outputs": [
    {
     "data": {
      "text/plain": [
       "342"
      ]
     },
     "execution_count": 27,
     "metadata": {},
     "output_type": "execute_result"
    }
   ],
   "source": [
    "len(df)"
   ]
  },
  {
   "cell_type": "code",
   "execution_count": 28,
   "metadata": {
    "execution": {
     "iopub.execute_input": "2023-02-28T12:18:19.794926Z",
     "iopub.status.busy": "2023-02-28T12:18:19.794586Z",
     "iopub.status.idle": "2023-02-28T12:18:19.976975Z",
     "shell.execute_reply": "2023-02-28T12:18:19.975073Z"
    }
   },
   "outputs": [
    {
     "ename": "AssertionError",
     "evalue": "L.A. County's scraper has extra rows",
     "output_type": "error",
     "traceback": [
      "\u001b[0;31m---------------------------------------------------------------------------\u001b[0m",
      "\u001b[0;31mAssertionError\u001b[0m                            Traceback (most recent call last)",
      "Cell \u001b[0;32mIn[28], line 2\u001b[0m\n\u001b[1;32m      1\u001b[0m \u001b[38;5;28;01mtry\u001b[39;00m:\n\u001b[0;32m----> 2\u001b[0m     \u001b[38;5;28;01massert\u001b[39;00m \u001b[38;5;129;01mnot\u001b[39;00m \u001b[38;5;28mlen\u001b[39m(df) \u001b[38;5;241m>\u001b[39m \u001b[38;5;241m340\u001b[39m\n\u001b[1;32m      3\u001b[0m \u001b[38;5;28;01mexcept\u001b[39;00m \u001b[38;5;167;01mAssertionError\u001b[39;00m:\n",
      "\u001b[0;31mAssertionError\u001b[0m: ",
      "\nDuring handling of the above exception, another exception occurred:\n",
      "\u001b[0;31mAssertionError\u001b[0m                            Traceback (most recent call last)",
      "Cell \u001b[0;32mIn[28], line 4\u001b[0m\n\u001b[1;32m      2\u001b[0m     \u001b[38;5;28;01massert\u001b[39;00m \u001b[38;5;129;01mnot\u001b[39;00m \u001b[38;5;28mlen\u001b[39m(df) \u001b[38;5;241m>\u001b[39m \u001b[38;5;241m340\u001b[39m\n\u001b[1;32m      3\u001b[0m \u001b[38;5;28;01mexcept\u001b[39;00m \u001b[38;5;167;01mAssertionError\u001b[39;00m:\n\u001b[0;32m----> 4\u001b[0m     \u001b[38;5;28;01mraise\u001b[39;00m \u001b[38;5;167;01mAssertionError\u001b[39;00m(\u001b[38;5;124m\"\u001b[39m\u001b[38;5;124mL.A. County\u001b[39m\u001b[38;5;124m'\u001b[39m\u001b[38;5;124ms scraper has extra rows\u001b[39m\u001b[38;5;124m\"\u001b[39m)\n",
      "\u001b[0;31mAssertionError\u001b[0m: L.A. County's scraper has extra rows"
     ]
    }
   ],
   "source": [
    "try:\n",
    "    assert not len(df) > 340\n",
    "except AssertionError:\n",
    "    raise AssertionError(\"L.A. County's scraper has extra rows\")"
   ]
  },
  {
   "cell_type": "code",
   "execution_count": 31,
   "metadata": {},
   "outputs": [],
   "source": [
    "try:\n",
    "    assert not len(df) < 340\n",
    "except AssertionError:\n",
    "    raise AssertionError(\"L.A. County's scraper is missing rows\")"
   ]
  },
  {
   "cell_type": "markdown",
   "metadata": {},
   "source": [
    "## Export"
   ]
  },
  {
   "cell_type": "markdown",
   "metadata": {},
   "source": [
    "Set the date"
   ]
  },
  {
   "cell_type": "code",
   "execution_count": 32,
   "metadata": {},
   "outputs": [],
   "source": [
    "tz = pytz.timezone(\"America/Los_Angeles\")"
   ]
  },
  {
   "cell_type": "code",
   "execution_count": 33,
   "metadata": {},
   "outputs": [],
   "source": [
    "today = datetime.now(tz).date()"
   ]
  },
  {
   "cell_type": "code",
   "execution_count": 34,
   "metadata": {},
   "outputs": [],
   "source": [
    "slug = \"los-angeles\""
   ]
  },
  {
   "cell_type": "code",
   "execution_count": 35,
   "metadata": {},
   "outputs": [],
   "source": [
    "df.to_csv(data_dir / slug / f\"{today}.csv\", index=False)"
   ]
  },
  {
   "cell_type": "markdown",
   "metadata": {},
   "source": [
    "## Combine"
   ]
  },
  {
   "cell_type": "code",
   "execution_count": 36,
   "metadata": {},
   "outputs": [],
   "source": [
    "csv_list = [\n",
    "    i\n",
    "    for i in glob.glob(str(data_dir / slug / \"*.csv\"))\n",
    "    if not str(i).endswith(\"timeseries.csv\")\n",
    "]"
   ]
  },
  {
   "cell_type": "code",
   "execution_count": 37,
   "metadata": {},
   "outputs": [],
   "source": [
    "df_list = []\n",
    "for csv in csv_list:\n",
    "    if \"manual\" in csv:\n",
    "        df = pd.read_csv(csv, parse_dates=[\"date\"])\n",
    "    else:\n",
    "        file_date = csv.split(\"/\")[-1].replace(\".csv\", \"\")\n",
    "        df = pd.read_csv(csv, parse_dates=[\"county_date\"])\n",
    "        df[\"date\"] = file_date\n",
    "    df_list.append(df)"
   ]
  },
  {
   "cell_type": "code",
   "execution_count": 38,
   "metadata": {},
   "outputs": [],
   "source": [
    "df = pd.concat(df_list).sort_values([\"date\", \"area\"])"
   ]
  },
  {
   "cell_type": "code",
   "execution_count": 39,
   "metadata": {},
   "outputs": [],
   "source": [
    "df.to_csv(data_dir / slug / \"timeseries.csv\", index=False)"
   ]
  },
  {
   "cell_type": "code",
   "execution_count": null,
   "metadata": {},
   "outputs": [],
   "source": []
  },
  {
   "cell_type": "code",
   "execution_count": null,
   "metadata": {},
   "outputs": [],
   "source": []
  }
 ],
 "metadata": {
  "kernelspec": {
   "display_name": "Python 3 (ipykernel)",
   "language": "python",
   "name": "python3"
  },
  "language_info": {
   "codemirror_mode": {
    "name": "ipython",
    "version": 3
   },
   "file_extension": ".py",
   "mimetype": "text/x-python",
   "name": "python",
   "nbconvert_exporter": "python",
   "pygments_lexer": "ipython3",
   "version": "3.8.16"
  }
 },
 "nbformat": 4,
 "nbformat_minor": 4
}
