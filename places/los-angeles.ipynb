{
 "cells": [
  {
   "cell_type": "markdown",
   "metadata": {
    "tags": []
   },
   "source": [
    "## Configuration\n",
    "_Initial steps to get the notebook ready to play nice with our repository. Do not delete this section._"
   ]
  },
  {
   "cell_type": "markdown",
   "metadata": {},
   "source": [
    "Code formatting with [black](https://pypi.org/project/nb-black/)."
   ]
  },
  {
   "cell_type": "code",
   "execution_count": 1,
   "metadata": {
    "execution": {
     "iopub.execute_input": "2023-02-09T12:21:20.771974Z",
     "iopub.status.busy": "2023-02-09T12:21:20.771380Z",
     "iopub.status.idle": "2023-02-09T12:21:20.950062Z",
     "shell.execute_reply": "2023-02-09T12:21:20.949354Z"
    }
   },
   "outputs": [],
   "source": [
    "%load_ext lab_black"
   ]
  },
  {
   "cell_type": "code",
   "execution_count": 2,
   "metadata": {
    "execution": {
     "iopub.execute_input": "2023-02-09T12:21:20.955057Z",
     "iopub.status.busy": "2023-02-09T12:21:20.954540Z",
     "iopub.status.idle": "2023-02-09T12:21:20.958722Z",
     "shell.execute_reply": "2023-02-09T12:21:20.959243Z"
    }
   },
   "outputs": [],
   "source": [
    "import os\n",
    "import pathlib"
   ]
  },
  {
   "cell_type": "code",
   "execution_count": 3,
   "metadata": {
    "execution": {
     "iopub.execute_input": "2023-02-09T12:21:20.964128Z",
     "iopub.status.busy": "2023-02-09T12:21:20.963581Z",
     "iopub.status.idle": "2023-02-09T12:21:20.968922Z",
     "shell.execute_reply": "2023-02-09T12:21:20.968290Z"
    }
   },
   "outputs": [],
   "source": [
    "this_dir = pathlib.Path(os.path.abspath(\"\"))"
   ]
  },
  {
   "cell_type": "code",
   "execution_count": 4,
   "metadata": {
    "execution": {
     "iopub.execute_input": "2023-02-09T12:21:20.974976Z",
     "iopub.status.busy": "2023-02-09T12:21:20.973983Z",
     "iopub.status.idle": "2023-02-09T12:21:20.976568Z",
     "shell.execute_reply": "2023-02-09T12:21:20.976082Z"
    }
   },
   "outputs": [],
   "source": [
    "data_dir = this_dir / \"data\""
   ]
  },
  {
   "cell_type": "code",
   "execution_count": 5,
   "metadata": {
    "execution": {
     "iopub.execute_input": "2023-02-09T12:21:20.980982Z",
     "iopub.status.busy": "2023-02-09T12:21:20.980433Z",
     "iopub.status.idle": "2023-02-09T12:21:21.505008Z",
     "shell.execute_reply": "2023-02-09T12:21:21.504078Z"
    }
   },
   "outputs": [],
   "source": [
    "import re\n",
    "import pytz\n",
    "import glob\n",
    "import requests\n",
    "import unicodedata\n",
    "import pandas as pd\n",
    "from slugify import slugify\n",
    "from bs4 import BeautifulSoup\n",
    "from datetime import datetime, date"
   ]
  },
  {
   "cell_type": "markdown",
   "metadata": {},
   "source": [
    "## Download"
   ]
  },
  {
   "cell_type": "markdown",
   "metadata": {},
   "source": [
    "Retrieve the page"
   ]
  },
  {
   "cell_type": "code",
   "execution_count": 6,
   "metadata": {
    "execution": {
     "iopub.execute_input": "2023-02-09T12:21:21.510957Z",
     "iopub.status.busy": "2023-02-09T12:21:21.510017Z",
     "iopub.status.idle": "2023-02-09T12:21:21.514103Z",
     "shell.execute_reply": "2023-02-09T12:21:21.513622Z"
    }
   },
   "outputs": [],
   "source": [
    "url = \"http://publichealth.lacounty.gov/media/Coronavirus/locations.htm\""
   ]
  },
  {
   "cell_type": "code",
   "execution_count": 7,
   "metadata": {
    "execution": {
     "iopub.execute_input": "2023-02-09T12:21:21.522316Z",
     "iopub.status.busy": "2023-02-09T12:21:21.517667Z",
     "iopub.status.idle": "2023-02-09T12:21:21.701097Z",
     "shell.execute_reply": "2023-02-09T12:21:21.700590Z"
    }
   },
   "outputs": [],
   "source": [
    "page = requests.get(url)"
   ]
  },
  {
   "cell_type": "markdown",
   "metadata": {},
   "source": [
    "## Parse"
   ]
  },
  {
   "cell_type": "code",
   "execution_count": 8,
   "metadata": {
    "execution": {
     "iopub.execute_input": "2023-02-09T12:21:21.719509Z",
     "iopub.status.busy": "2023-02-09T12:21:21.714343Z",
     "iopub.status.idle": "2023-02-09T12:21:21.882943Z",
     "shell.execute_reply": "2023-02-09T12:21:21.883429Z"
    }
   },
   "outputs": [],
   "source": [
    "soup = BeautifulSoup(page.content, \"html.parser\")"
   ]
  },
  {
   "cell_type": "markdown",
   "metadata": {},
   "source": [
    "Get content well"
   ]
  },
  {
   "cell_type": "code",
   "execution_count": 9,
   "metadata": {
    "execution": {
     "iopub.execute_input": "2023-02-09T12:21:21.892276Z",
     "iopub.status.busy": "2023-02-09T12:21:21.890890Z",
     "iopub.status.idle": "2023-02-09T12:21:21.892961Z",
     "shell.execute_reply": "2023-02-09T12:21:21.893411Z"
    }
   },
   "outputs": [],
   "source": [
    "content = soup.find(\"div\", {\"id\": \"content\"})"
   ]
  },
  {
   "cell_type": "markdown",
   "metadata": {},
   "source": [
    "Get table"
   ]
  },
  {
   "cell_type": "code",
   "execution_count": 10,
   "metadata": {
    "execution": {
     "iopub.execute_input": "2023-02-09T12:21:21.906018Z",
     "iopub.status.busy": "2023-02-09T12:21:21.900735Z",
     "iopub.status.idle": "2023-02-09T12:21:21.915748Z",
     "shell.execute_reply": "2023-02-09T12:21:21.915144Z"
    }
   },
   "outputs": [],
   "source": [
    "for tag in content.find_all(text=re.compile(\"CITY/COMMUNITY\")):\n",
    "    table = tag.findParent(\"table\")"
   ]
  },
  {
   "cell_type": "code",
   "execution_count": 11,
   "metadata": {
    "execution": {
     "iopub.execute_input": "2023-02-09T12:21:21.922664Z",
     "iopub.status.busy": "2023-02-09T12:21:21.921465Z",
     "iopub.status.idle": "2023-02-09T12:21:21.925466Z",
     "shell.execute_reply": "2023-02-09T12:21:21.924944Z"
    }
   },
   "outputs": [],
   "source": [
    "tbody = soup.tbody"
   ]
  },
  {
   "cell_type": "code",
   "execution_count": 12,
   "metadata": {
    "execution": {
     "iopub.execute_input": "2023-02-09T12:21:21.934683Z",
     "iopub.status.busy": "2023-02-09T12:21:21.933305Z",
     "iopub.status.idle": "2023-02-09T12:21:21.935359Z",
     "shell.execute_reply": "2023-02-09T12:21:21.935963Z"
    }
   },
   "outputs": [],
   "source": [
    "row_list = tbody.find_all(\"tr\")"
   ]
  },
  {
   "cell_type": "code",
   "execution_count": 13,
   "metadata": {
    "execution": {
     "iopub.execute_input": "2023-02-09T12:21:21.942196Z",
     "iopub.status.busy": "2023-02-09T12:21:21.940728Z",
     "iopub.status.idle": "2023-02-09T12:21:21.943001Z",
     "shell.execute_reply": "2023-02-09T12:21:21.943632Z"
    }
   },
   "outputs": [],
   "source": [
    "dict_list = []"
   ]
  },
  {
   "cell_type": "code",
   "execution_count": 14,
   "metadata": {
    "execution": {
     "iopub.execute_input": "2023-02-09T12:21:21.948614Z",
     "iopub.status.busy": "2023-02-09T12:21:21.948062Z",
     "iopub.status.idle": "2023-02-09T12:21:21.954858Z",
     "shell.execute_reply": "2023-02-09T12:21:21.954404Z"
    }
   },
   "outputs": [],
   "source": [
    "def safetxt(element):\n",
    "    v = element.text.strip()\n",
    "    v = v.replace(\"\\u200b\", \"\")\n",
    "    return v"
   ]
  },
  {
   "cell_type": "code",
   "execution_count": 15,
   "metadata": {
    "execution": {
     "iopub.execute_input": "2023-02-09T12:21:21.963455Z",
     "iopub.status.busy": "2023-02-09T12:21:21.962701Z",
     "iopub.status.idle": "2023-02-09T12:21:21.967325Z",
     "shell.execute_reply": "2023-02-09T12:21:21.966777Z"
    }
   },
   "outputs": [],
   "source": [
    "def safenumber(element):\n",
    "    v = safetxt(element)\n",
    "    v = v.replace(\",\", \"\")\n",
    "    v = v.replace(\" \", \"\")\n",
    "    return v"
   ]
  },
  {
   "cell_type": "code",
   "execution_count": 16,
   "metadata": {
    "execution": {
     "iopub.execute_input": "2023-02-09T12:21:21.981840Z",
     "iopub.status.busy": "2023-02-09T12:21:21.979694Z",
     "iopub.status.idle": "2023-02-09T12:21:21.991082Z",
     "shell.execute_reply": "2023-02-09T12:21:21.990512Z"
    }
   },
   "outputs": [],
   "source": [
    "for row in row_list:\n",
    "    cell_content = row.find_all(\"td\")\n",
    "    d = dict(\n",
    "        county=\"Los Angeles\",\n",
    "        area=safetxt(cell_content[0]),\n",
    "        confirmed_cases=safenumber(cell_content[1]),\n",
    "        confirmed_deaths=safenumber(cell_content[3]),\n",
    "    )\n",
    "    dict_list.append(d)"
   ]
  },
  {
   "cell_type": "code",
   "execution_count": 17,
   "metadata": {
    "execution": {
     "iopub.execute_input": "2023-02-09T12:21:21.998999Z",
     "iopub.status.busy": "2023-02-09T12:21:21.997098Z",
     "iopub.status.idle": "2023-02-09T12:21:22.001630Z",
     "shell.execute_reply": "2023-02-09T12:21:22.002071Z"
    }
   },
   "outputs": [],
   "source": [
    "df = pd.DataFrame(dict_list)"
   ]
  },
  {
   "cell_type": "markdown",
   "metadata": {},
   "source": [
    "Get timestamp"
   ]
  },
  {
   "cell_type": "code",
   "execution_count": 18,
   "metadata": {
    "execution": {
     "iopub.execute_input": "2023-02-09T12:21:22.007341Z",
     "iopub.status.busy": "2023-02-09T12:21:22.006797Z",
     "iopub.status.idle": "2023-02-09T12:21:22.010024Z",
     "shell.execute_reply": "2023-02-09T12:21:22.010416Z"
    }
   },
   "outputs": [],
   "source": [
    "date_url = \"http://publichealth.lacounty.gov/media/Coronavirus/js/casecounter.js\""
   ]
  },
  {
   "cell_type": "code",
   "execution_count": 19,
   "metadata": {
    "execution": {
     "iopub.execute_input": "2023-02-09T12:21:22.018573Z",
     "iopub.status.busy": "2023-02-09T12:21:22.017366Z",
     "iopub.status.idle": "2023-02-09T12:21:22.281706Z",
     "shell.execute_reply": "2023-02-09T12:21:22.280834Z"
    }
   },
   "outputs": [],
   "source": [
    "response = requests.get(date_url)\n",
    "date_page = response.text"
   ]
  },
  {
   "cell_type": "code",
   "execution_count": 20,
   "metadata": {
    "execution": {
     "iopub.execute_input": "2023-02-09T12:21:22.293506Z",
     "iopub.status.busy": "2023-02-09T12:21:22.292936Z",
     "iopub.status.idle": "2023-02-09T12:21:22.300385Z",
     "shell.execute_reply": "2023-02-09T12:21:22.299933Z"
    }
   },
   "outputs": [
    {
     "data": {
      "text/plain": [
       "'$( document ).ready(function() {\\r\\n    var data = {\\r\\n\\t\\t\\t\\t    \"content\": { \\r\\n\\t\\t\\r\\n\\t\\t\\t\"count\": \"3,684,945\",\\r\\n\\r\\n\\r\\n\\t\\t\\t\"death\": \"35,386\",\\r\\n\\r\\n\\t\\t\\t\"dailycount\": \"1,105\",\\r\\n\\r\\n\\r\\n\\t\\t\\t\"dailydeath\": \"18\",\\r\\n\\t\\t\\t\"hospitalizationsever\": \"171,164\",\\r\\n\\r\\n\\r\\n\\t\\t\\t\"date\": \"02/08/23\",\\r\\n\\t\\t\\t\"info\": \"through 12:00pm 02/07/2023\",\\r\\n\\r\\n\\t\\t\\t\"testingaverage\": \"19,934\",\\r\\n\\r\\n\\t\\t\\t\"peopletested\": \"12,904,080\",\\r\\n\\r\\n\\t\\t\\t\"positivity\": \"5.48%\",\\r\\n\\r\\n\\t\\t\\t\"hospitalizations\": \"773\",\\r\\n\\t\\t\\t\"datehospitalizations\": \"2/7/23\"\\r\\n\\r\\n\\t\\t\\t\\t}       \\r\\n\\t\\t\\t\\t};\\t\\r\\n\\t\\t\\t\\t\\r\\n\\t\\t\\t\\t\\r\\n\\t\\t\\t\\tvar content = data.content;\\r\\n\\t\\t\\t\\t\\r\\n\\t\\t\\t\\t$(\\'#ctn\\').html(content.count);\\r\\n\\t\\t\\t\\t$(\\'#det\\').html(content.death);\\r\\n\\t\\t\\t\\t$(\\'#dctn\\').html(content.dailycount);\\r\\n\\t\\t\\t\\t$(\\'#ddet\\').html(content.dailydeath);\\r\\n\\t\\t\\t\\t$(\\'#hosp_1\\').html(content.hospitalizationsever);\\r\\n\\t\\t\\t\\t$(\\'#dte\\').html(content.date);\\r\\n\\t\\t\\t\\t$(\\'#dte_1\\').html(content.date);\\r\\n\\t\\t\\t\\t$(\\'#dte_2\\').html(content.date);\\r\\n\\t\\t\\t\\t$(\\'#dte_3\\').html(content.datehospitalizations);\\r\\n\\t\\t\\t\\t$(\\'#cse\\').html(content.info);\\t\\r\\n\\t\\t\\t\\r\\n\\t\\t\\t\\t\\r\\n\\t\\t\\t\\t$(\\'#tstavg\\').html(content.testingaverage);\\t\\r\\n\\t\\t\\t\\t$(\\'#ppltst\\').html(content.peopletested);\\t\\r\\n\\t\\t\\t\\t$(\\'#pos\\').html(content.positivity);\\t\\r\\n\\t\\t\\t\\t$(\\'#hosp\\').html(content.hospitalizations);\\r\\n\\t\\t\\t\\r\\n\\t\\t\\t\\t\\t\\t\\t\\r\\n\\r\\n\\r\\n});\\r\\n\\r\\n\\r\\n\\r\\n'"
      ]
     },
     "execution_count": 20,
     "metadata": {},
     "output_type": "execute_result"
    }
   ],
   "source": [
    "date_page"
   ]
  },
  {
   "cell_type": "code",
   "execution_count": 21,
   "metadata": {
    "execution": {
     "iopub.execute_input": "2023-02-09T12:21:22.304783Z",
     "iopub.status.busy": "2023-02-09T12:21:22.304068Z",
     "iopub.status.idle": "2023-02-09T12:21:22.306574Z",
     "shell.execute_reply": "2023-02-09T12:21:22.307106Z"
    }
   },
   "outputs": [],
   "source": [
    "# date_text = re.search(r\"([0-9][0-9]/[0-9][0-9])\", date_page).group(1)\n",
    "# date_text = date_text + \"/\" + str(date.today().year)"
   ]
  },
  {
   "cell_type": "code",
   "execution_count": 22,
   "metadata": {
    "execution": {
     "iopub.execute_input": "2023-02-09T12:21:22.312617Z",
     "iopub.status.busy": "2023-02-09T12:21:22.311930Z",
     "iopub.status.idle": "2023-02-09T12:21:22.316375Z",
     "shell.execute_reply": "2023-02-09T12:21:22.315865Z"
    }
   },
   "outputs": [],
   "source": [
    "date_text = re.search(r\"through (.+?)\\\"\", date_page).group(1)"
   ]
  },
  {
   "cell_type": "code",
   "execution_count": 23,
   "metadata": {
    "execution": {
     "iopub.execute_input": "2023-02-09T12:21:22.321661Z",
     "iopub.status.busy": "2023-02-09T12:21:22.320950Z",
     "iopub.status.idle": "2023-02-09T12:21:22.326448Z",
     "shell.execute_reply": "2023-02-09T12:21:22.325954Z"
    }
   },
   "outputs": [],
   "source": [
    "date_text = date_text.split(\"m \")[0]"
   ]
  },
  {
   "cell_type": "code",
   "execution_count": 24,
   "metadata": {
    "execution": {
     "iopub.execute_input": "2023-02-09T12:21:22.333885Z",
     "iopub.status.busy": "2023-02-09T12:21:22.332541Z",
     "iopub.status.idle": "2023-02-09T12:21:22.334530Z",
     "shell.execute_reply": "2023-02-09T12:21:22.335055Z"
    }
   },
   "outputs": [],
   "source": [
    "latest_date = pd.to_datetime(date_text).date()"
   ]
  },
  {
   "cell_type": "code",
   "execution_count": 25,
   "metadata": {
    "execution": {
     "iopub.execute_input": "2023-02-09T12:21:22.339805Z",
     "iopub.status.busy": "2023-02-09T12:21:22.339135Z",
     "iopub.status.idle": "2023-02-09T12:21:22.343679Z",
     "shell.execute_reply": "2023-02-09T12:21:22.343202Z"
    }
   },
   "outputs": [],
   "source": [
    "df[\"county_date\"] = latest_date"
   ]
  },
  {
   "cell_type": "code",
   "execution_count": 26,
   "metadata": {
    "execution": {
     "iopub.execute_input": "2023-02-09T12:21:22.350270Z",
     "iopub.status.busy": "2023-02-09T12:21:22.348167Z",
     "iopub.status.idle": "2023-02-09T12:21:22.355104Z",
     "shell.execute_reply": "2023-02-09T12:21:22.355637Z"
    }
   },
   "outputs": [],
   "source": [
    "df.loc[df.area == \"-  Under Investigation\", \"area\"] = \"Under Investigation\""
   ]
  },
  {
   "cell_type": "code",
   "execution_count": 27,
   "metadata": {
    "execution": {
     "iopub.execute_input": "2023-02-09T12:21:22.359087Z",
     "iopub.status.busy": "2023-02-09T12:21:22.358398Z",
     "iopub.status.idle": "2023-02-09T12:21:22.365150Z",
     "shell.execute_reply": "2023-02-09T12:21:22.365611Z"
    }
   },
   "outputs": [],
   "source": [
    "df.loc[df.area == \"- Under Investigation\", \"area\"] = \"Under Investigation\""
   ]
  },
  {
   "cell_type": "markdown",
   "metadata": {},
   "source": [
    "## Vet"
   ]
  },
  {
   "cell_type": "code",
   "execution_count": 28,
   "metadata": {
    "execution": {
     "iopub.execute_input": "2023-02-09T12:21:22.370397Z",
     "iopub.status.busy": "2023-02-09T12:21:22.369689Z",
     "iopub.status.idle": "2023-02-09T12:21:22.375348Z",
     "shell.execute_reply": "2023-02-09T12:21:22.374824Z"
    }
   },
   "outputs": [],
   "source": [
    "try:\n",
    "    assert not len(df) > 342\n",
    "except AssertionError:\n",
    "    raise AssertionError(\"L.A. County's scraper has extra rows\")"
   ]
  },
  {
   "cell_type": "code",
   "execution_count": 29,
   "metadata": {
    "execution": {
     "iopub.execute_input": "2023-02-09T12:21:22.381291Z",
     "iopub.status.busy": "2023-02-09T12:21:22.380528Z",
     "iopub.status.idle": "2023-02-09T12:21:22.531234Z",
     "shell.execute_reply": "2023-02-09T12:21:22.530490Z"
    }
   },
   "outputs": [
    {
     "ename": "AssertionError",
     "evalue": "L.A. County's scraper is missing rows",
     "output_type": "error",
     "traceback": [
      "\u001b[0;31m---------------------------------------------------------------------------\u001b[0m",
      "\u001b[0;31mAssertionError\u001b[0m                            Traceback (most recent call last)",
      "\u001b[0;32m/tmp/ipykernel_2157/2999864733.py\u001b[0m in \u001b[0;36m<module>\u001b[0;34m\u001b[0m\n\u001b[1;32m      1\u001b[0m \u001b[0;32mtry\u001b[0m\u001b[0;34m:\u001b[0m\u001b[0;34m\u001b[0m\u001b[0;34m\u001b[0m\u001b[0m\n\u001b[0;32m----> 2\u001b[0;31m     \u001b[0;32massert\u001b[0m \u001b[0;32mnot\u001b[0m \u001b[0mlen\u001b[0m\u001b[0;34m(\u001b[0m\u001b[0mdf\u001b[0m\u001b[0;34m)\u001b[0m \u001b[0;34m<\u001b[0m \u001b[0;36m342\u001b[0m\u001b[0;34m\u001b[0m\u001b[0;34m\u001b[0m\u001b[0m\n\u001b[0m\u001b[1;32m      3\u001b[0m \u001b[0;32mexcept\u001b[0m \u001b[0mAssertionError\u001b[0m\u001b[0;34m:\u001b[0m\u001b[0;34m\u001b[0m\u001b[0;34m\u001b[0m\u001b[0m\n",
      "\u001b[0;31mAssertionError\u001b[0m: ",
      "\nDuring handling of the above exception, another exception occurred:\n",
      "\u001b[0;31mAssertionError\u001b[0m                            Traceback (most recent call last)",
      "\u001b[0;32m/tmp/ipykernel_2157/2999864733.py\u001b[0m in \u001b[0;36m<module>\u001b[0;34m\u001b[0m\n\u001b[1;32m      2\u001b[0m     \u001b[0;32massert\u001b[0m \u001b[0;32mnot\u001b[0m \u001b[0mlen\u001b[0m\u001b[0;34m(\u001b[0m\u001b[0mdf\u001b[0m\u001b[0;34m)\u001b[0m \u001b[0;34m<\u001b[0m \u001b[0;36m342\u001b[0m\u001b[0;34m\u001b[0m\u001b[0;34m\u001b[0m\u001b[0m\n\u001b[1;32m      3\u001b[0m \u001b[0;32mexcept\u001b[0m \u001b[0mAssertionError\u001b[0m\u001b[0;34m:\u001b[0m\u001b[0;34m\u001b[0m\u001b[0;34m\u001b[0m\u001b[0m\n\u001b[0;32m----> 4\u001b[0;31m     \u001b[0;32mraise\u001b[0m \u001b[0mAssertionError\u001b[0m\u001b[0;34m(\u001b[0m\u001b[0;34m\"L.A. County's scraper is missing rows\"\u001b[0m\u001b[0;34m)\u001b[0m\u001b[0;34m\u001b[0m\u001b[0;34m\u001b[0m\u001b[0m\n\u001b[0m",
      "\u001b[0;31mAssertionError\u001b[0m: L.A. County's scraper is missing rows"
     ]
    }
   ],
   "source": [
    "try:\n",
    "    assert not len(df) < 342\n",
    "except AssertionError:\n",
    "    raise AssertionError(\"L.A. County's scraper is missing rows\")"
   ]
  },
  {
   "cell_type": "markdown",
   "metadata": {},
   "source": [
    "## Export"
   ]
  },
  {
   "cell_type": "markdown",
   "metadata": {},
   "source": [
    "Set the date"
   ]
  },
  {
   "cell_type": "code",
   "execution_count": 30,
   "metadata": {},
   "outputs": [],
   "source": [
    "tz = pytz.timezone(\"America/Los_Angeles\")"
   ]
  },
  {
   "cell_type": "code",
   "execution_count": 31,
   "metadata": {},
   "outputs": [],
   "source": [
    "today = datetime.now(tz).date()"
   ]
  },
  {
   "cell_type": "code",
   "execution_count": 32,
   "metadata": {},
   "outputs": [],
   "source": [
    "slug = \"los-angeles\""
   ]
  },
  {
   "cell_type": "code",
   "execution_count": 33,
   "metadata": {},
   "outputs": [],
   "source": [
    "df.to_csv(data_dir / slug / f\"{today}.csv\", index=False)"
   ]
  },
  {
   "cell_type": "markdown",
   "metadata": {},
   "source": [
    "## Combine"
   ]
  },
  {
   "cell_type": "code",
   "execution_count": 34,
   "metadata": {},
   "outputs": [],
   "source": [
    "csv_list = [\n",
    "    i\n",
    "    for i in glob.glob(str(data_dir / slug / \"*.csv\"))\n",
    "    if not str(i).endswith(\"timeseries.csv\")\n",
    "]"
   ]
  },
  {
   "cell_type": "code",
   "execution_count": 35,
   "metadata": {},
   "outputs": [],
   "source": [
    "df_list = []\n",
    "for csv in csv_list:\n",
    "    if \"manual\" in csv:\n",
    "        df = pd.read_csv(csv, parse_dates=[\"date\"])\n",
    "    else:\n",
    "        file_date = csv.split(\"/\")[-1].replace(\".csv\", \"\")\n",
    "        df = pd.read_csv(csv, parse_dates=[\"county_date\"])\n",
    "        df[\"date\"] = file_date\n",
    "    df_list.append(df)"
   ]
  },
  {
   "cell_type": "code",
   "execution_count": 36,
   "metadata": {},
   "outputs": [],
   "source": [
    "df = pd.concat(df_list).sort_values([\"date\", \"area\"])"
   ]
  },
  {
   "cell_type": "code",
   "execution_count": 37,
   "metadata": {},
   "outputs": [],
   "source": [
    "df.to_csv(data_dir / slug / \"timeseries.csv\", index=False)"
   ]
  },
  {
   "cell_type": "code",
   "execution_count": null,
   "metadata": {},
   "outputs": [],
   "source": []
  },
  {
   "cell_type": "code",
   "execution_count": null,
   "metadata": {},
   "outputs": [],
   "source": []
  }
 ],
 "metadata": {
  "kernelspec": {
   "display_name": "Python 3 (ipykernel)",
   "language": "python",
   "name": "python3"
  },
  "language_info": {
   "codemirror_mode": {
    "name": "ipython",
    "version": 3
   },
   "file_extension": ".py",
   "mimetype": "text/x-python",
   "name": "python",
   "nbconvert_exporter": "python",
   "pygments_lexer": "ipython3",
   "version": "3.8.16"
  }
 },
 "nbformat": 4,
 "nbformat_minor": 4
}
