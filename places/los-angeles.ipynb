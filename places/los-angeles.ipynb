{
 "cells": [
  {
   "cell_type": "markdown",
   "metadata": {
    "tags": []
   },
   "source": [
    "## Configuration\n",
    "_Initial steps to get the notebook ready to play nice with our repository. Do not delete this section._"
   ]
  },
  {
   "cell_type": "markdown",
   "metadata": {},
   "source": [
    "Code formatting with [black](https://pypi.org/project/nb-black/)."
   ]
  },
  {
   "cell_type": "code",
   "execution_count": 1,
   "metadata": {
    "execution": {
     "iopub.execute_input": "2023-02-10T00:30:33.349504Z",
     "iopub.status.busy": "2023-02-10T00:30:33.349068Z",
     "iopub.status.idle": "2023-02-10T00:30:33.494472Z",
     "shell.execute_reply": "2023-02-10T00:30:33.493963Z"
    }
   },
   "outputs": [],
   "source": [
    "%load_ext lab_black"
   ]
  },
  {
   "cell_type": "code",
   "execution_count": 2,
   "metadata": {
    "execution": {
     "iopub.execute_input": "2023-02-10T00:30:33.499275Z",
     "iopub.status.busy": "2023-02-10T00:30:33.498201Z",
     "iopub.status.idle": "2023-02-10T00:30:33.499868Z",
     "shell.execute_reply": "2023-02-10T00:30:33.500260Z"
    }
   },
   "outputs": [],
   "source": [
    "import os\n",
    "import pathlib"
   ]
  },
  {
   "cell_type": "code",
   "execution_count": 3,
   "metadata": {
    "execution": {
     "iopub.execute_input": "2023-02-10T00:30:33.503305Z",
     "iopub.status.busy": "2023-02-10T00:30:33.502902Z",
     "iopub.status.idle": "2023-02-10T00:30:33.507402Z",
     "shell.execute_reply": "2023-02-10T00:30:33.506952Z"
    }
   },
   "outputs": [],
   "source": [
    "this_dir = pathlib.Path(os.path.abspath(\"\"))"
   ]
  },
  {
   "cell_type": "code",
   "execution_count": 4,
   "metadata": {
    "execution": {
     "iopub.execute_input": "2023-02-10T00:30:33.512104Z",
     "iopub.status.busy": "2023-02-10T00:30:33.511184Z",
     "iopub.status.idle": "2023-02-10T00:30:33.512756Z",
     "shell.execute_reply": "2023-02-10T00:30:33.513128Z"
    }
   },
   "outputs": [],
   "source": [
    "data_dir = this_dir / \"data\""
   ]
  },
  {
   "cell_type": "code",
   "execution_count": 5,
   "metadata": {
    "execution": {
     "iopub.execute_input": "2023-02-10T00:30:33.517124Z",
     "iopub.status.busy": "2023-02-10T00:30:33.516631Z",
     "iopub.status.idle": "2023-02-10T00:30:33.903087Z",
     "shell.execute_reply": "2023-02-10T00:30:33.902349Z"
    }
   },
   "outputs": [],
   "source": [
    "import re\n",
    "import pytz\n",
    "import glob\n",
    "import requests\n",
    "import unicodedata\n",
    "import pandas as pd\n",
    "from slugify import slugify\n",
    "from bs4 import BeautifulSoup\n",
    "from datetime import datetime, date"
   ]
  },
  {
   "cell_type": "markdown",
   "metadata": {},
   "source": [
    "## Download"
   ]
  },
  {
   "cell_type": "markdown",
   "metadata": {},
   "source": [
    "Retrieve the page"
   ]
  },
  {
   "cell_type": "code",
   "execution_count": 6,
   "metadata": {
    "execution": {
     "iopub.execute_input": "2023-02-10T00:30:33.906353Z",
     "iopub.status.busy": "2023-02-10T00:30:33.905920Z",
     "iopub.status.idle": "2023-02-10T00:30:33.908261Z",
     "shell.execute_reply": "2023-02-10T00:30:33.908590Z"
    }
   },
   "outputs": [],
   "source": [
    "url = \"http://publichealth.lacounty.gov/media/Coronavirus/locations.htm\""
   ]
  },
  {
   "cell_type": "code",
   "execution_count": 7,
   "metadata": {
    "execution": {
     "iopub.execute_input": "2023-02-10T00:30:33.910643Z",
     "iopub.status.busy": "2023-02-10T00:30:33.910194Z",
     "iopub.status.idle": "2023-02-10T00:30:34.274921Z",
     "shell.execute_reply": "2023-02-10T00:30:34.274483Z"
    }
   },
   "outputs": [],
   "source": [
    "page = requests.get(url)"
   ]
  },
  {
   "cell_type": "markdown",
   "metadata": {},
   "source": [
    "## Parse"
   ]
  },
  {
   "cell_type": "code",
   "execution_count": 8,
   "metadata": {
    "execution": {
     "iopub.execute_input": "2023-02-10T00:30:34.297663Z",
     "iopub.status.busy": "2023-02-10T00:30:34.292580Z",
     "iopub.status.idle": "2023-02-10T00:30:34.411712Z",
     "shell.execute_reply": "2023-02-10T00:30:34.411287Z"
    }
   },
   "outputs": [],
   "source": [
    "soup = BeautifulSoup(page.content, \"html.parser\")"
   ]
  },
  {
   "cell_type": "markdown",
   "metadata": {},
   "source": [
    "Get content well"
   ]
  },
  {
   "cell_type": "code",
   "execution_count": 9,
   "metadata": {
    "execution": {
     "iopub.execute_input": "2023-02-10T00:30:34.417906Z",
     "iopub.status.busy": "2023-02-10T00:30:34.417444Z",
     "iopub.status.idle": "2023-02-10T00:30:34.419615Z",
     "shell.execute_reply": "2023-02-10T00:30:34.419233Z"
    }
   },
   "outputs": [],
   "source": [
    "content = soup.find(\"div\", {\"id\": \"content\"})"
   ]
  },
  {
   "cell_type": "markdown",
   "metadata": {},
   "source": [
    "Get table"
   ]
  },
  {
   "cell_type": "code",
   "execution_count": 10,
   "metadata": {
    "execution": {
     "iopub.execute_input": "2023-02-10T00:30:34.435037Z",
     "iopub.status.busy": "2023-02-10T00:30:34.433967Z",
     "iopub.status.idle": "2023-02-10T00:30:34.437540Z",
     "shell.execute_reply": "2023-02-10T00:30:34.437149Z"
    }
   },
   "outputs": [],
   "source": [
    "for tag in content.find_all(text=re.compile(\"CITY/COMMUNITY\")):\n",
    "    table = tag.findParent(\"table\")"
   ]
  },
  {
   "cell_type": "code",
   "execution_count": 11,
   "metadata": {
    "execution": {
     "iopub.execute_input": "2023-02-10T00:30:34.442495Z",
     "iopub.status.busy": "2023-02-10T00:30:34.439483Z",
     "iopub.status.idle": "2023-02-10T00:30:34.445833Z",
     "shell.execute_reply": "2023-02-10T00:30:34.445445Z"
    }
   },
   "outputs": [],
   "source": [
    "tbody = soup.tbody"
   ]
  },
  {
   "cell_type": "code",
   "execution_count": 12,
   "metadata": {
    "execution": {
     "iopub.execute_input": "2023-02-10T00:30:34.451841Z",
     "iopub.status.busy": "2023-02-10T00:30:34.450306Z",
     "iopub.status.idle": "2023-02-10T00:30:34.454212Z",
     "shell.execute_reply": "2023-02-10T00:30:34.454576Z"
    }
   },
   "outputs": [],
   "source": [
    "row_list = tbody.find_all(\"tr\")"
   ]
  },
  {
   "cell_type": "code",
   "execution_count": 13,
   "metadata": {
    "execution": {
     "iopub.execute_input": "2023-02-10T00:30:34.458694Z",
     "iopub.status.busy": "2023-02-10T00:30:34.458124Z",
     "iopub.status.idle": "2023-02-10T00:30:34.461358Z",
     "shell.execute_reply": "2023-02-10T00:30:34.460803Z"
    }
   },
   "outputs": [],
   "source": [
    "dict_list = []"
   ]
  },
  {
   "cell_type": "code",
   "execution_count": 14,
   "metadata": {
    "execution": {
     "iopub.execute_input": "2023-02-10T00:30:34.467420Z",
     "iopub.status.busy": "2023-02-10T00:30:34.466835Z",
     "iopub.status.idle": "2023-02-10T00:30:34.470490Z",
     "shell.execute_reply": "2023-02-10T00:30:34.470102Z"
    }
   },
   "outputs": [],
   "source": [
    "def safetxt(element):\n",
    "    v = element.text.strip()\n",
    "    v = v.replace(\"\\u200b\", \"\")\n",
    "    return v"
   ]
  },
  {
   "cell_type": "code",
   "execution_count": 15,
   "metadata": {
    "execution": {
     "iopub.execute_input": "2023-02-10T00:30:34.474408Z",
     "iopub.status.busy": "2023-02-10T00:30:34.473961Z",
     "iopub.status.idle": "2023-02-10T00:30:34.480063Z",
     "shell.execute_reply": "2023-02-10T00:30:34.479376Z"
    }
   },
   "outputs": [],
   "source": [
    "def safenumber(element):\n",
    "    v = safetxt(element)\n",
    "    v = v.replace(\",\", \"\")\n",
    "    v = v.replace(\" \", \"\")\n",
    "    return v"
   ]
  },
  {
   "cell_type": "code",
   "execution_count": 16,
   "metadata": {
    "execution": {
     "iopub.execute_input": "2023-02-10T00:30:34.491962Z",
     "iopub.status.busy": "2023-02-10T00:30:34.490533Z",
     "iopub.status.idle": "2023-02-10T00:30:34.499718Z",
     "shell.execute_reply": "2023-02-10T00:30:34.498865Z"
    }
   },
   "outputs": [],
   "source": [
    "for row in row_list:\n",
    "    cell_content = row.find_all(\"td\")\n",
    "    d = dict(\n",
    "        county=\"Los Angeles\",\n",
    "        area=safetxt(cell_content[0]),\n",
    "        confirmed_cases=safenumber(cell_content[1]),\n",
    "        confirmed_deaths=safenumber(cell_content[3]),\n",
    "    )\n",
    "    dict_list.append(d)"
   ]
  },
  {
   "cell_type": "code",
   "execution_count": 17,
   "metadata": {
    "execution": {
     "iopub.execute_input": "2023-02-10T00:30:34.505246Z",
     "iopub.status.busy": "2023-02-10T00:30:34.501523Z",
     "iopub.status.idle": "2023-02-10T00:30:34.507965Z",
     "shell.execute_reply": "2023-02-10T00:30:34.507282Z"
    }
   },
   "outputs": [],
   "source": [
    "df = pd.DataFrame(dict_list)"
   ]
  },
  {
   "cell_type": "markdown",
   "metadata": {},
   "source": [
    "Get timestamp"
   ]
  },
  {
   "cell_type": "code",
   "execution_count": 18,
   "metadata": {
    "execution": {
     "iopub.execute_input": "2023-02-10T00:30:34.511948Z",
     "iopub.status.busy": "2023-02-10T00:30:34.509734Z",
     "iopub.status.idle": "2023-02-10T00:30:34.514265Z",
     "shell.execute_reply": "2023-02-10T00:30:34.514634Z"
    }
   },
   "outputs": [],
   "source": [
    "date_url = \"http://publichealth.lacounty.gov/media/Coronavirus/js/casecounter.js\""
   ]
  },
  {
   "cell_type": "code",
   "execution_count": 19,
   "metadata": {
    "execution": {
     "iopub.execute_input": "2023-02-10T00:30:34.518104Z",
     "iopub.status.busy": "2023-02-10T00:30:34.517511Z",
     "iopub.status.idle": "2023-02-10T00:30:34.612748Z",
     "shell.execute_reply": "2023-02-10T00:30:34.612329Z"
    }
   },
   "outputs": [],
   "source": [
    "response = requests.get(date_url)\n",
    "date_page = response.text"
   ]
  },
  {
   "cell_type": "code",
   "execution_count": 20,
   "metadata": {
    "execution": {
     "iopub.execute_input": "2023-02-10T00:30:34.621240Z",
     "iopub.status.busy": "2023-02-10T00:30:34.620781Z",
     "iopub.status.idle": "2023-02-10T00:30:34.626705Z",
     "shell.execute_reply": "2023-02-10T00:30:34.626321Z"
    }
   },
   "outputs": [
    {
     "data": {
      "text/plain": [
       "'$( document ).ready(function() {\\r\\n    var data = {\\r\\n\\t\\t\\t\\t    \"content\": { \\r\\n\\t\\t\\r\\n\\t\\t\\t\"count\": \"3,685,950\",\\r\\n\\r\\n\\r\\n\\t\\t\\t\"death\": \"35,403\",\\r\\n\\r\\n\\t\\t\\t\"dailycount\": \"1,171\",\\r\\n\\r\\n\\r\\n\\t\\t\\t\"dailydeath\": \"21\",\\r\\n\\t\\t\\t\"hospitalizationsever\": \"171,164\",\\r\\n\\r\\n\\r\\n\\t\\t\\t\"date\": \"02/09/23\",\\r\\n\\t\\t\\t\"info\": \"through 12:00pm 02/08/2023\",\\r\\n\\r\\n\\t\\t\\t\"testingaverage\": \"19,953\",\\r\\n\\r\\n\\t\\t\\t\"peopletested\": \"12,906,254\",\\r\\n\\r\\n\\t\\t\\t\"positivity\": \"5.52%\",\\r\\n\\r\\n\\t\\t\\t\"hospitalizations\": \"699\",\\r\\n\\t\\t\\t\"datehospitalizations\": \"2/8/23\"\\r\\n\\r\\n\\t\\t\\t\\t}       \\r\\n\\t\\t\\t\\t};\\t\\r\\n\\t\\t\\t\\t\\r\\n\\t\\t\\t\\t\\r\\n\\t\\t\\t\\tvar content = data.content;\\r\\n\\t\\t\\t\\t\\r\\n\\t\\t\\t\\t$(\\'#ctn\\').html(content.count);\\r\\n\\t\\t\\t\\t$(\\'#det\\').html(content.death);\\r\\n\\t\\t\\t\\t$(\\'#dctn\\').html(content.dailycount);\\r\\n\\t\\t\\t\\t$(\\'#ddet\\').html(content.dailydeath);\\r\\n\\t\\t\\t\\t$(\\'#hosp_1\\').html(content.hospitalizationsever);\\r\\n\\t\\t\\t\\t$(\\'#dte\\').html(content.date);\\r\\n\\t\\t\\t\\t$(\\'#dte_1\\').html(content.date);\\r\\n\\t\\t\\t\\t$(\\'#dte_2\\').html(content.date);\\r\\n\\t\\t\\t\\t$(\\'#dte_3\\').html(content.datehospitalizations);\\r\\n\\t\\t\\t\\t$(\\'#cse\\').html(content.info);\\t\\r\\n\\t\\t\\t\\r\\n\\t\\t\\t\\t\\r\\n\\t\\t\\t\\t$(\\'#tstavg\\').html(content.testingaverage);\\t\\r\\n\\t\\t\\t\\t$(\\'#ppltst\\').html(content.peopletested);\\t\\r\\n\\t\\t\\t\\t$(\\'#pos\\').html(content.positivity);\\t\\r\\n\\t\\t\\t\\t$(\\'#hosp\\').html(content.hospitalizations);\\r\\n\\t\\t\\t\\r\\n\\t\\t\\t\\t\\t\\t\\t\\r\\n\\r\\n\\r\\n});\\r\\n\\r\\n\\r\\n\\r\\n'"
      ]
     },
     "execution_count": 20,
     "metadata": {},
     "output_type": "execute_result"
    }
   ],
   "source": [
    "date_page"
   ]
  },
  {
   "cell_type": "code",
   "execution_count": 21,
   "metadata": {
    "execution": {
     "iopub.execute_input": "2023-02-10T00:30:34.630221Z",
     "iopub.status.busy": "2023-02-10T00:30:34.629787Z",
     "iopub.status.idle": "2023-02-10T00:30:34.632661Z",
     "shell.execute_reply": "2023-02-10T00:30:34.632298Z"
    }
   },
   "outputs": [],
   "source": [
    "# date_text = re.search(r\"([0-9][0-9]/[0-9][0-9])\", date_page).group(1)\n",
    "# date_text = date_text + \"/\" + str(date.today().year)"
   ]
  },
  {
   "cell_type": "code",
   "execution_count": 22,
   "metadata": {
    "execution": {
     "iopub.execute_input": "2023-02-10T00:30:34.637683Z",
     "iopub.status.busy": "2023-02-10T00:30:34.637276Z",
     "iopub.status.idle": "2023-02-10T00:30:34.639759Z",
     "shell.execute_reply": "2023-02-10T00:30:34.640089Z"
    }
   },
   "outputs": [],
   "source": [
    "date_text = re.search(r\"through (.+?)\\\"\", date_page).group(1)"
   ]
  },
  {
   "cell_type": "code",
   "execution_count": 23,
   "metadata": {
    "execution": {
     "iopub.execute_input": "2023-02-10T00:30:34.644581Z",
     "iopub.status.busy": "2023-02-10T00:30:34.644178Z",
     "iopub.status.idle": "2023-02-10T00:30:34.646951Z",
     "shell.execute_reply": "2023-02-10T00:30:34.646578Z"
    }
   },
   "outputs": [],
   "source": [
    "date_text = date_text.split(\"m \")[0]"
   ]
  },
  {
   "cell_type": "code",
   "execution_count": 24,
   "metadata": {
    "execution": {
     "iopub.execute_input": "2023-02-10T00:30:34.652032Z",
     "iopub.status.busy": "2023-02-10T00:30:34.651304Z",
     "iopub.status.idle": "2023-02-10T00:30:34.653287Z",
     "shell.execute_reply": "2023-02-10T00:30:34.652802Z"
    }
   },
   "outputs": [],
   "source": [
    "latest_date = pd.to_datetime(date_text).date()"
   ]
  },
  {
   "cell_type": "code",
   "execution_count": 25,
   "metadata": {
    "execution": {
     "iopub.execute_input": "2023-02-10T00:30:34.658170Z",
     "iopub.status.busy": "2023-02-10T00:30:34.657736Z",
     "iopub.status.idle": "2023-02-10T00:30:34.660108Z",
     "shell.execute_reply": "2023-02-10T00:30:34.660474Z"
    }
   },
   "outputs": [],
   "source": [
    "df[\"county_date\"] = latest_date"
   ]
  },
  {
   "cell_type": "code",
   "execution_count": 26,
   "metadata": {
    "execution": {
     "iopub.execute_input": "2023-02-10T00:30:34.665086Z",
     "iopub.status.busy": "2023-02-10T00:30:34.664660Z",
     "iopub.status.idle": "2023-02-10T00:30:34.668136Z",
     "shell.execute_reply": "2023-02-10T00:30:34.667759Z"
    }
   },
   "outputs": [],
   "source": [
    "df.loc[df.area == \"-  Under Investigation\", \"area\"] = \"Under Investigation\""
   ]
  },
  {
   "cell_type": "code",
   "execution_count": 27,
   "metadata": {
    "execution": {
     "iopub.execute_input": "2023-02-10T00:30:34.674481Z",
     "iopub.status.busy": "2023-02-10T00:30:34.674034Z",
     "iopub.status.idle": "2023-02-10T00:30:34.677080Z",
     "shell.execute_reply": "2023-02-10T00:30:34.676694Z"
    }
   },
   "outputs": [],
   "source": [
    "df.loc[df.area == \"- Under Investigation\", \"area\"] = \"Under Investigation\""
   ]
  },
  {
   "cell_type": "markdown",
   "metadata": {},
   "source": [
    "## Vet"
   ]
  },
  {
   "cell_type": "code",
   "execution_count": 28,
   "metadata": {
    "execution": {
     "iopub.execute_input": "2023-02-10T00:30:34.680523Z",
     "iopub.status.busy": "2023-02-10T00:30:34.680093Z",
     "iopub.status.idle": "2023-02-10T00:30:34.685211Z",
     "shell.execute_reply": "2023-02-10T00:30:34.684439Z"
    }
   },
   "outputs": [],
   "source": [
    "try:\n",
    "    assert not len(df) > 342\n",
    "except AssertionError:\n",
    "    raise AssertionError(\"L.A. County's scraper has extra rows\")"
   ]
  },
  {
   "cell_type": "code",
   "execution_count": 29,
   "metadata": {
    "execution": {
     "iopub.execute_input": "2023-02-10T00:30:34.688715Z",
     "iopub.status.busy": "2023-02-10T00:30:34.688273Z",
     "iopub.status.idle": "2023-02-10T00:30:34.809658Z",
     "shell.execute_reply": "2023-02-10T00:30:34.808286Z"
    }
   },
   "outputs": [
    {
     "ename": "AssertionError",
     "evalue": "L.A. County's scraper is missing rows",
     "output_type": "error",
     "traceback": [
      "\u001b[0;31m---------------------------------------------------------------------------\u001b[0m",
      "\u001b[0;31mAssertionError\u001b[0m                            Traceback (most recent call last)",
      "\u001b[0;32m/tmp/ipykernel_2221/2999864733.py\u001b[0m in \u001b[0;36m<module>\u001b[0;34m\u001b[0m\n\u001b[1;32m      1\u001b[0m \u001b[0;32mtry\u001b[0m\u001b[0;34m:\u001b[0m\u001b[0;34m\u001b[0m\u001b[0;34m\u001b[0m\u001b[0m\n\u001b[0;32m----> 2\u001b[0;31m     \u001b[0;32massert\u001b[0m \u001b[0;32mnot\u001b[0m \u001b[0mlen\u001b[0m\u001b[0;34m(\u001b[0m\u001b[0mdf\u001b[0m\u001b[0;34m)\u001b[0m \u001b[0;34m<\u001b[0m \u001b[0;36m342\u001b[0m\u001b[0;34m\u001b[0m\u001b[0;34m\u001b[0m\u001b[0m\n\u001b[0m\u001b[1;32m      3\u001b[0m \u001b[0;32mexcept\u001b[0m \u001b[0mAssertionError\u001b[0m\u001b[0;34m:\u001b[0m\u001b[0;34m\u001b[0m\u001b[0;34m\u001b[0m\u001b[0m\n",
      "\u001b[0;31mAssertionError\u001b[0m: ",
      "\nDuring handling of the above exception, another exception occurred:\n",
      "\u001b[0;31mAssertionError\u001b[0m                            Traceback (most recent call last)",
      "\u001b[0;32m/tmp/ipykernel_2221/2999864733.py\u001b[0m in \u001b[0;36m<module>\u001b[0;34m\u001b[0m\n\u001b[1;32m      2\u001b[0m     \u001b[0;32massert\u001b[0m \u001b[0;32mnot\u001b[0m \u001b[0mlen\u001b[0m\u001b[0;34m(\u001b[0m\u001b[0mdf\u001b[0m\u001b[0;34m)\u001b[0m \u001b[0;34m<\u001b[0m \u001b[0;36m342\u001b[0m\u001b[0;34m\u001b[0m\u001b[0;34m\u001b[0m\u001b[0m\n\u001b[1;32m      3\u001b[0m \u001b[0;32mexcept\u001b[0m \u001b[0mAssertionError\u001b[0m\u001b[0;34m:\u001b[0m\u001b[0;34m\u001b[0m\u001b[0;34m\u001b[0m\u001b[0m\n\u001b[0;32m----> 4\u001b[0;31m     \u001b[0;32mraise\u001b[0m \u001b[0mAssertionError\u001b[0m\u001b[0;34m(\u001b[0m\u001b[0;34m\"L.A. County's scraper is missing rows\"\u001b[0m\u001b[0;34m)\u001b[0m\u001b[0;34m\u001b[0m\u001b[0;34m\u001b[0m\u001b[0m\n\u001b[0m",
      "\u001b[0;31mAssertionError\u001b[0m: L.A. County's scraper is missing rows"
     ]
    }
   ],
   "source": [
    "try:\n",
    "    assert not len(df) < 342\n",
    "except AssertionError:\n",
    "    raise AssertionError(\"L.A. County's scraper is missing rows\")"
   ]
  },
  {
   "cell_type": "markdown",
   "metadata": {},
   "source": [
    "## Export"
   ]
  },
  {
   "cell_type": "markdown",
   "metadata": {},
   "source": [
    "Set the date"
   ]
  },
  {
   "cell_type": "code",
   "execution_count": 30,
   "metadata": {},
   "outputs": [],
   "source": [
    "tz = pytz.timezone(\"America/Los_Angeles\")"
   ]
  },
  {
   "cell_type": "code",
   "execution_count": 31,
   "metadata": {},
   "outputs": [],
   "source": [
    "today = datetime.now(tz).date()"
   ]
  },
  {
   "cell_type": "code",
   "execution_count": 32,
   "metadata": {},
   "outputs": [],
   "source": [
    "slug = \"los-angeles\""
   ]
  },
  {
   "cell_type": "code",
   "execution_count": 33,
   "metadata": {},
   "outputs": [],
   "source": [
    "df.to_csv(data_dir / slug / f\"{today}.csv\", index=False)"
   ]
  },
  {
   "cell_type": "markdown",
   "metadata": {},
   "source": [
    "## Combine"
   ]
  },
  {
   "cell_type": "code",
   "execution_count": 34,
   "metadata": {},
   "outputs": [],
   "source": [
    "csv_list = [\n",
    "    i\n",
    "    for i in glob.glob(str(data_dir / slug / \"*.csv\"))\n",
    "    if not str(i).endswith(\"timeseries.csv\")\n",
    "]"
   ]
  },
  {
   "cell_type": "code",
   "execution_count": 35,
   "metadata": {},
   "outputs": [],
   "source": [
    "df_list = []\n",
    "for csv in csv_list:\n",
    "    if \"manual\" in csv:\n",
    "        df = pd.read_csv(csv, parse_dates=[\"date\"])\n",
    "    else:\n",
    "        file_date = csv.split(\"/\")[-1].replace(\".csv\", \"\")\n",
    "        df = pd.read_csv(csv, parse_dates=[\"county_date\"])\n",
    "        df[\"date\"] = file_date\n",
    "    df_list.append(df)"
   ]
  },
  {
   "cell_type": "code",
   "execution_count": 36,
   "metadata": {},
   "outputs": [],
   "source": [
    "df = pd.concat(df_list).sort_values([\"date\", \"area\"])"
   ]
  },
  {
   "cell_type": "code",
   "execution_count": 37,
   "metadata": {},
   "outputs": [],
   "source": [
    "df.to_csv(data_dir / slug / \"timeseries.csv\", index=False)"
   ]
  },
  {
   "cell_type": "code",
   "execution_count": null,
   "metadata": {},
   "outputs": [],
   "source": []
  },
  {
   "cell_type": "code",
   "execution_count": null,
   "metadata": {},
   "outputs": [],
   "source": []
  }
 ],
 "metadata": {
  "kernelspec": {
   "display_name": "Python 3 (ipykernel)",
   "language": "python",
   "name": "python3"
  },
  "language_info": {
   "codemirror_mode": {
    "name": "ipython",
    "version": 3
   },
   "file_extension": ".py",
   "mimetype": "text/x-python",
   "name": "python",
   "nbconvert_exporter": "python",
   "pygments_lexer": "ipython3",
   "version": "3.8.16"
  }
 },
 "nbformat": 4,
 "nbformat_minor": 4
}
