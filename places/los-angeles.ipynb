{
 "cells": [
  {
   "cell_type": "markdown",
   "metadata": {
    "tags": []
   },
   "source": [
    "## Configuration\n",
    "_Initial steps to get the notebook ready to play nice with our repository. Do not delete this section._"
   ]
  },
  {
   "cell_type": "markdown",
   "metadata": {},
   "source": [
    "Code formatting with [black](https://pypi.org/project/nb-black/)."
   ]
  },
  {
   "cell_type": "code",
   "execution_count": 1,
   "metadata": {
    "execution": {
     "iopub.execute_input": "2023-02-03T08:20:57.333579Z",
     "iopub.status.busy": "2023-02-03T08:20:57.333147Z",
     "iopub.status.idle": "2023-02-03T08:20:57.466701Z",
     "shell.execute_reply": "2023-02-03T08:20:57.466197Z"
    }
   },
   "outputs": [],
   "source": [
    "%load_ext lab_black"
   ]
  },
  {
   "cell_type": "code",
   "execution_count": 2,
   "metadata": {
    "execution": {
     "iopub.execute_input": "2023-02-03T08:20:57.471044Z",
     "iopub.status.busy": "2023-02-03T08:20:57.470150Z",
     "iopub.status.idle": "2023-02-03T08:20:57.471533Z",
     "shell.execute_reply": "2023-02-03T08:20:57.471871Z"
    }
   },
   "outputs": [],
   "source": [
    "import os\n",
    "import pathlib"
   ]
  },
  {
   "cell_type": "code",
   "execution_count": 3,
   "metadata": {
    "execution": {
     "iopub.execute_input": "2023-02-03T08:20:57.477813Z",
     "iopub.status.busy": "2023-02-03T08:20:57.477077Z",
     "iopub.status.idle": "2023-02-03T08:20:57.478831Z",
     "shell.execute_reply": "2023-02-03T08:20:57.478475Z"
    }
   },
   "outputs": [],
   "source": [
    "this_dir = pathlib.Path(os.path.abspath(\"\"))"
   ]
  },
  {
   "cell_type": "code",
   "execution_count": 4,
   "metadata": {
    "execution": {
     "iopub.execute_input": "2023-02-03T08:20:57.482617Z",
     "iopub.status.busy": "2023-02-03T08:20:57.482212Z",
     "iopub.status.idle": "2023-02-03T08:20:57.484276Z",
     "shell.execute_reply": "2023-02-03T08:20:57.483892Z"
    }
   },
   "outputs": [],
   "source": [
    "data_dir = this_dir / \"data\""
   ]
  },
  {
   "cell_type": "code",
   "execution_count": 5,
   "metadata": {
    "execution": {
     "iopub.execute_input": "2023-02-03T08:20:57.487510Z",
     "iopub.status.busy": "2023-02-03T08:20:57.487102Z",
     "iopub.status.idle": "2023-02-03T08:20:57.856432Z",
     "shell.execute_reply": "2023-02-03T08:20:57.855598Z"
    }
   },
   "outputs": [],
   "source": [
    "import re\n",
    "import pytz\n",
    "import glob\n",
    "import requests\n",
    "import unicodedata\n",
    "import pandas as pd\n",
    "from slugify import slugify\n",
    "from bs4 import BeautifulSoup\n",
    "from datetime import datetime, date"
   ]
  },
  {
   "cell_type": "markdown",
   "metadata": {},
   "source": [
    "## Download"
   ]
  },
  {
   "cell_type": "markdown",
   "metadata": {},
   "source": [
    "Retrieve the page"
   ]
  },
  {
   "cell_type": "code",
   "execution_count": 6,
   "metadata": {
    "execution": {
     "iopub.execute_input": "2023-02-03T08:20:57.860669Z",
     "iopub.status.busy": "2023-02-03T08:20:57.860221Z",
     "iopub.status.idle": "2023-02-03T08:20:57.863073Z",
     "shell.execute_reply": "2023-02-03T08:20:57.862704Z"
    }
   },
   "outputs": [],
   "source": [
    "url = \"http://publichealth.lacounty.gov/media/Coronavirus/locations.htm\""
   ]
  },
  {
   "cell_type": "code",
   "execution_count": 7,
   "metadata": {
    "execution": {
     "iopub.execute_input": "2023-02-03T08:20:57.869870Z",
     "iopub.status.busy": "2023-02-03T08:20:57.866018Z",
     "iopub.status.idle": "2023-02-03T08:20:58.313370Z",
     "shell.execute_reply": "2023-02-03T08:20:58.312508Z"
    }
   },
   "outputs": [],
   "source": [
    "page = requests.get(url)"
   ]
  },
  {
   "cell_type": "markdown",
   "metadata": {},
   "source": [
    "## Parse"
   ]
  },
  {
   "cell_type": "code",
   "execution_count": 8,
   "metadata": {
    "execution": {
     "iopub.execute_input": "2023-02-03T08:20:58.325711Z",
     "iopub.status.busy": "2023-02-03T08:20:58.320466Z",
     "iopub.status.idle": "2023-02-03T08:20:58.451489Z",
     "shell.execute_reply": "2023-02-03T08:20:58.450706Z"
    }
   },
   "outputs": [],
   "source": [
    "soup = BeautifulSoup(page.content, \"html.parser\")"
   ]
  },
  {
   "cell_type": "markdown",
   "metadata": {},
   "source": [
    "Get content well"
   ]
  },
  {
   "cell_type": "code",
   "execution_count": 9,
   "metadata": {
    "execution": {
     "iopub.execute_input": "2023-02-03T08:20:58.457452Z",
     "iopub.status.busy": "2023-02-03T08:20:58.456748Z",
     "iopub.status.idle": "2023-02-03T08:20:58.460408Z",
     "shell.execute_reply": "2023-02-03T08:20:58.460002Z"
    }
   },
   "outputs": [],
   "source": [
    "content = soup.find(\"div\", {\"id\": \"content\"})"
   ]
  },
  {
   "cell_type": "markdown",
   "metadata": {},
   "source": [
    "Get table"
   ]
  },
  {
   "cell_type": "code",
   "execution_count": 10,
   "metadata": {
    "execution": {
     "iopub.execute_input": "2023-02-03T08:20:58.472518Z",
     "iopub.status.busy": "2023-02-03T08:20:58.467364Z",
     "iopub.status.idle": "2023-02-03T08:20:58.476925Z",
     "shell.execute_reply": "2023-02-03T08:20:58.476248Z"
    }
   },
   "outputs": [],
   "source": [
    "for tag in content.find_all(text=re.compile(\"CITY/COMMUNITY\")):\n",
    "    table = tag.findParent(\"table\")"
   ]
  },
  {
   "cell_type": "code",
   "execution_count": 11,
   "metadata": {
    "execution": {
     "iopub.execute_input": "2023-02-03T08:20:58.482195Z",
     "iopub.status.busy": "2023-02-03T08:20:58.481760Z",
     "iopub.status.idle": "2023-02-03T08:20:58.484646Z",
     "shell.execute_reply": "2023-02-03T08:20:58.484281Z"
    }
   },
   "outputs": [],
   "source": [
    "tbody = soup.tbody"
   ]
  },
  {
   "cell_type": "code",
   "execution_count": 12,
   "metadata": {
    "execution": {
     "iopub.execute_input": "2023-02-03T08:20:58.490373Z",
     "iopub.status.busy": "2023-02-03T08:20:58.486479Z",
     "iopub.status.idle": "2023-02-03T08:20:58.493133Z",
     "shell.execute_reply": "2023-02-03T08:20:58.492777Z"
    }
   },
   "outputs": [],
   "source": [
    "row_list = tbody.find_all(\"tr\")"
   ]
  },
  {
   "cell_type": "code",
   "execution_count": 13,
   "metadata": {
    "execution": {
     "iopub.execute_input": "2023-02-03T08:20:58.496530Z",
     "iopub.status.busy": "2023-02-03T08:20:58.494947Z",
     "iopub.status.idle": "2023-02-03T08:20:58.499603Z",
     "shell.execute_reply": "2023-02-03T08:20:58.499977Z"
    }
   },
   "outputs": [],
   "source": [
    "dict_list = []"
   ]
  },
  {
   "cell_type": "code",
   "execution_count": 14,
   "metadata": {
    "execution": {
     "iopub.execute_input": "2023-02-03T08:20:58.506264Z",
     "iopub.status.busy": "2023-02-03T08:20:58.505155Z",
     "iopub.status.idle": "2023-02-03T08:20:58.508700Z",
     "shell.execute_reply": "2023-02-03T08:20:58.508328Z"
    }
   },
   "outputs": [],
   "source": [
    "def safetxt(element):\n",
    "    v = element.text.strip()\n",
    "    v = v.replace(\"\\u200b\", \"\")\n",
    "    return v"
   ]
  },
  {
   "cell_type": "code",
   "execution_count": 15,
   "metadata": {
    "execution": {
     "iopub.execute_input": "2023-02-03T08:20:58.515569Z",
     "iopub.status.busy": "2023-02-03T08:20:58.514968Z",
     "iopub.status.idle": "2023-02-03T08:20:58.518248Z",
     "shell.execute_reply": "2023-02-03T08:20:58.517512Z"
    }
   },
   "outputs": [],
   "source": [
    "def safenumber(element):\n",
    "    v = safetxt(element)\n",
    "    v = v.replace(\",\", \"\")\n",
    "    v = v.replace(\" \", \"\")\n",
    "    return v"
   ]
  },
  {
   "cell_type": "code",
   "execution_count": 16,
   "metadata": {
    "execution": {
     "iopub.execute_input": "2023-02-03T08:20:58.529995Z",
     "iopub.status.busy": "2023-02-03T08:20:58.525246Z",
     "iopub.status.idle": "2023-02-03T08:20:58.537260Z",
     "shell.execute_reply": "2023-02-03T08:20:58.536565Z"
    }
   },
   "outputs": [],
   "source": [
    "for row in row_list:\n",
    "    cell_content = row.find_all(\"td\")\n",
    "    d = dict(\n",
    "        county=\"Los Angeles\",\n",
    "        area=safetxt(cell_content[0]),\n",
    "        confirmed_cases=safenumber(cell_content[1]),\n",
    "        confirmed_deaths=safenumber(cell_content[3]),\n",
    "    )\n",
    "    dict_list.append(d)"
   ]
  },
  {
   "cell_type": "code",
   "execution_count": 17,
   "metadata": {
    "execution": {
     "iopub.execute_input": "2023-02-03T08:20:58.542587Z",
     "iopub.status.busy": "2023-02-03T08:20:58.538995Z",
     "iopub.status.idle": "2023-02-03T08:20:58.545124Z",
     "shell.execute_reply": "2023-02-03T08:20:58.544577Z"
    }
   },
   "outputs": [],
   "source": [
    "df = pd.DataFrame(dict_list)"
   ]
  },
  {
   "cell_type": "markdown",
   "metadata": {},
   "source": [
    "Get timestamp"
   ]
  },
  {
   "cell_type": "code",
   "execution_count": 18,
   "metadata": {
    "execution": {
     "iopub.execute_input": "2023-02-03T08:20:58.549045Z",
     "iopub.status.busy": "2023-02-03T08:20:58.547832Z",
     "iopub.status.idle": "2023-02-03T08:20:58.551348Z",
     "shell.execute_reply": "2023-02-03T08:20:58.551712Z"
    }
   },
   "outputs": [],
   "source": [
    "date_url = \"http://publichealth.lacounty.gov/media/Coronavirus/js/casecounter.js\""
   ]
  },
  {
   "cell_type": "code",
   "execution_count": 19,
   "metadata": {
    "execution": {
     "iopub.execute_input": "2023-02-03T08:20:58.557807Z",
     "iopub.status.busy": "2023-02-03T08:20:58.557367Z",
     "iopub.status.idle": "2023-02-03T08:20:58.872553Z",
     "shell.execute_reply": "2023-02-03T08:20:58.871891Z"
    }
   },
   "outputs": [],
   "source": [
    "response = requests.get(date_url)\n",
    "date_page = response.text"
   ]
  },
  {
   "cell_type": "code",
   "execution_count": 20,
   "metadata": {
    "execution": {
     "iopub.execute_input": "2023-02-03T08:20:58.880519Z",
     "iopub.status.busy": "2023-02-03T08:20:58.879907Z",
     "iopub.status.idle": "2023-02-03T08:20:58.886449Z",
     "shell.execute_reply": "2023-02-03T08:20:58.886052Z"
    }
   },
   "outputs": [
    {
     "data": {
      "text/plain": [
       "'$( document ).ready(function() {\\r\\n    var data = {\\r\\n\\t\\t\\t\\t    \"content\": { \\r\\n\\t\\t\\r\\n\\t\\t\\t\"count\": \"3,679,170\",\\r\\n\\r\\n\\r\\n\\t\\t\\t\"death\": \"35,308\",\\r\\n\\r\\n\\t\\t\\t\"dailycount\": \"1,354\",\\r\\n\\r\\n\\r\\n\\t\\t\\t\"dailydeath\": \"14\",\\r\\n\\t\\t\\t\"hospitalizationsever\": \"170,693\",\\r\\n\\r\\n\\r\\n\\t\\t\\t\"date\": \"02/02/23\",\\r\\n\\t\\t\\t\"info\": \"through 12:00pm 02/01/2023\",\\r\\n\\r\\n\\t\\t\\t\"testingaverage\": \"21,444\",\\r\\n\\r\\n\\t\\t\\t\"peopletested\": \"12,892,944\",\\r\\n\\r\\n\\t\\t\\t\"positivity\": \"4.65%\",\\r\\n\\r\\n\\t\\t\\t\"hospitalizations\": \"707\",\\r\\n\\t\\t\\t\"datehospitalizations\": \"2/1/23\"\\r\\n\\r\\n\\t\\t\\t\\t}       \\r\\n\\t\\t\\t\\t};\\t\\r\\n\\t\\t\\t\\t\\r\\n\\t\\t\\t\\t\\r\\n\\t\\t\\t\\tvar content = data.content;\\r\\n\\t\\t\\t\\t\\r\\n\\t\\t\\t\\t$(\\'#ctn\\').html(content.count);\\r\\n\\t\\t\\t\\t$(\\'#det\\').html(content.death);\\r\\n\\t\\t\\t\\t$(\\'#dctn\\').html(content.dailycount);\\r\\n\\t\\t\\t\\t$(\\'#ddet\\').html(content.dailydeath);\\r\\n\\t\\t\\t\\t$(\\'#hosp_1\\').html(content.hospitalizationsever);\\r\\n\\t\\t\\t\\t$(\\'#dte\\').html(content.date);\\r\\n\\t\\t\\t\\t$(\\'#dte_1\\').html(content.date);\\r\\n\\t\\t\\t\\t$(\\'#dte_2\\').html(content.date);\\r\\n\\t\\t\\t\\t$(\\'#dte_3\\').html(content.datehospitalizations);\\r\\n\\t\\t\\t\\t$(\\'#cse\\').html(content.info);\\t\\r\\n\\t\\t\\t\\r\\n\\t\\t\\t\\t\\r\\n\\t\\t\\t\\t$(\\'#tstavg\\').html(content.testingaverage);\\t\\r\\n\\t\\t\\t\\t$(\\'#ppltst\\').html(content.peopletested);\\t\\r\\n\\t\\t\\t\\t$(\\'#pos\\').html(content.positivity);\\t\\r\\n\\t\\t\\t\\t$(\\'#hosp\\').html(content.hospitalizations);\\r\\n\\t\\t\\t\\r\\n\\t\\t\\t\\t\\t\\t\\t\\r\\n\\r\\n\\r\\n});\\r\\n\\r\\n\\r\\n\\r\\n'"
      ]
     },
     "execution_count": 20,
     "metadata": {},
     "output_type": "execute_result"
    }
   ],
   "source": [
    "date_page"
   ]
  },
  {
   "cell_type": "code",
   "execution_count": 21,
   "metadata": {
    "execution": {
     "iopub.execute_input": "2023-02-03T08:20:58.890359Z",
     "iopub.status.busy": "2023-02-03T08:20:58.889764Z",
     "iopub.status.idle": "2023-02-03T08:20:58.892792Z",
     "shell.execute_reply": "2023-02-03T08:20:58.892420Z"
    }
   },
   "outputs": [],
   "source": [
    "# date_text = re.search(r\"([0-9][0-9]/[0-9][0-9])\", date_page).group(1)\n",
    "# date_text = date_text + \"/\" + str(date.today().year)"
   ]
  },
  {
   "cell_type": "code",
   "execution_count": 22,
   "metadata": {
    "execution": {
     "iopub.execute_input": "2023-02-03T08:20:58.898015Z",
     "iopub.status.busy": "2023-02-03T08:20:58.897433Z",
     "iopub.status.idle": "2023-02-03T08:20:58.900469Z",
     "shell.execute_reply": "2023-02-03T08:20:58.900085Z"
    }
   },
   "outputs": [],
   "source": [
    "date_text = re.search(r\"through (.+?)\\\"\", date_page).group(1)"
   ]
  },
  {
   "cell_type": "code",
   "execution_count": 23,
   "metadata": {
    "execution": {
     "iopub.execute_input": "2023-02-03T08:20:58.905145Z",
     "iopub.status.busy": "2023-02-03T08:20:58.902216Z",
     "iopub.status.idle": "2023-02-03T08:20:58.907588Z",
     "shell.execute_reply": "2023-02-03T08:20:58.907211Z"
    }
   },
   "outputs": [],
   "source": [
    "date_text = date_text.split(\"m \")[0]"
   ]
  },
  {
   "cell_type": "code",
   "execution_count": 24,
   "metadata": {
    "execution": {
     "iopub.execute_input": "2023-02-03T08:20:58.912549Z",
     "iopub.status.busy": "2023-02-03T08:20:58.911952Z",
     "iopub.status.idle": "2023-02-03T08:20:58.915013Z",
     "shell.execute_reply": "2023-02-03T08:20:58.914631Z"
    }
   },
   "outputs": [],
   "source": [
    "latest_date = pd.to_datetime(date_text).date()"
   ]
  },
  {
   "cell_type": "code",
   "execution_count": 25,
   "metadata": {
    "execution": {
     "iopub.execute_input": "2023-02-03T08:20:58.919839Z",
     "iopub.status.busy": "2023-02-03T08:20:58.916881Z",
     "iopub.status.idle": "2023-02-03T08:20:58.922686Z",
     "shell.execute_reply": "2023-02-03T08:20:58.922310Z"
    }
   },
   "outputs": [],
   "source": [
    "df[\"county_date\"] = latest_date"
   ]
  },
  {
   "cell_type": "code",
   "execution_count": 26,
   "metadata": {
    "execution": {
     "iopub.execute_input": "2023-02-03T08:20:58.928822Z",
     "iopub.status.busy": "2023-02-03T08:20:58.927720Z",
     "iopub.status.idle": "2023-02-03T08:20:58.930874Z",
     "shell.execute_reply": "2023-02-03T08:20:58.931242Z"
    }
   },
   "outputs": [],
   "source": [
    "df.loc[df.area == \"-  Under Investigation\", \"area\"] = \"Under Investigation\""
   ]
  },
  {
   "cell_type": "code",
   "execution_count": 27,
   "metadata": {
    "execution": {
     "iopub.execute_input": "2023-02-03T08:20:58.936424Z",
     "iopub.status.busy": "2023-02-03T08:20:58.935811Z",
     "iopub.status.idle": "2023-02-03T08:20:58.939452Z",
     "shell.execute_reply": "2023-02-03T08:20:58.938901Z"
    }
   },
   "outputs": [],
   "source": [
    "df.loc[df.area == \"- Under Investigation\", \"area\"] = \"Under Investigation\""
   ]
  },
  {
   "cell_type": "markdown",
   "metadata": {},
   "source": [
    "## Vet"
   ]
  },
  {
   "cell_type": "code",
   "execution_count": 28,
   "metadata": {
    "execution": {
     "iopub.execute_input": "2023-02-03T08:20:58.945037Z",
     "iopub.status.busy": "2023-02-03T08:20:58.942912Z",
     "iopub.status.idle": "2023-02-03T08:20:58.947876Z",
     "shell.execute_reply": "2023-02-03T08:20:58.947318Z"
    }
   },
   "outputs": [],
   "source": [
    "try:\n",
    "    assert not len(df) > 342\n",
    "except AssertionError:\n",
    "    raise AssertionError(\"L.A. County's scraper has extra rows\")"
   ]
  },
  {
   "cell_type": "code",
   "execution_count": 29,
   "metadata": {
    "execution": {
     "iopub.execute_input": "2023-02-03T08:20:58.951481Z",
     "iopub.status.busy": "2023-02-03T08:20:58.950704Z",
     "iopub.status.idle": "2023-02-03T08:20:59.073055Z",
     "shell.execute_reply": "2023-02-03T08:20:59.071613Z"
    }
   },
   "outputs": [
    {
     "ename": "AssertionError",
     "evalue": "L.A. County's scraper is missing rows",
     "output_type": "error",
     "traceback": [
      "\u001b[0;31m---------------------------------------------------------------------------\u001b[0m",
      "\u001b[0;31mAssertionError\u001b[0m                            Traceback (most recent call last)",
      "\u001b[0;32m/tmp/ipykernel_2228/2999864733.py\u001b[0m in \u001b[0;36m<module>\u001b[0;34m\u001b[0m\n\u001b[1;32m      1\u001b[0m \u001b[0;32mtry\u001b[0m\u001b[0;34m:\u001b[0m\u001b[0;34m\u001b[0m\u001b[0;34m\u001b[0m\u001b[0m\n\u001b[0;32m----> 2\u001b[0;31m     \u001b[0;32massert\u001b[0m \u001b[0;32mnot\u001b[0m \u001b[0mlen\u001b[0m\u001b[0;34m(\u001b[0m\u001b[0mdf\u001b[0m\u001b[0;34m)\u001b[0m \u001b[0;34m<\u001b[0m \u001b[0;36m342\u001b[0m\u001b[0;34m\u001b[0m\u001b[0;34m\u001b[0m\u001b[0m\n\u001b[0m\u001b[1;32m      3\u001b[0m \u001b[0;32mexcept\u001b[0m \u001b[0mAssertionError\u001b[0m\u001b[0;34m:\u001b[0m\u001b[0;34m\u001b[0m\u001b[0;34m\u001b[0m\u001b[0m\n",
      "\u001b[0;31mAssertionError\u001b[0m: ",
      "\nDuring handling of the above exception, another exception occurred:\n",
      "\u001b[0;31mAssertionError\u001b[0m                            Traceback (most recent call last)",
      "\u001b[0;32m/tmp/ipykernel_2228/2999864733.py\u001b[0m in \u001b[0;36m<module>\u001b[0;34m\u001b[0m\n\u001b[1;32m      2\u001b[0m     \u001b[0;32massert\u001b[0m \u001b[0;32mnot\u001b[0m \u001b[0mlen\u001b[0m\u001b[0;34m(\u001b[0m\u001b[0mdf\u001b[0m\u001b[0;34m)\u001b[0m \u001b[0;34m<\u001b[0m \u001b[0;36m342\u001b[0m\u001b[0;34m\u001b[0m\u001b[0;34m\u001b[0m\u001b[0m\n\u001b[1;32m      3\u001b[0m \u001b[0;32mexcept\u001b[0m \u001b[0mAssertionError\u001b[0m\u001b[0;34m:\u001b[0m\u001b[0;34m\u001b[0m\u001b[0;34m\u001b[0m\u001b[0m\n\u001b[0;32m----> 4\u001b[0;31m     \u001b[0;32mraise\u001b[0m \u001b[0mAssertionError\u001b[0m\u001b[0;34m(\u001b[0m\u001b[0;34m\"L.A. County's scraper is missing rows\"\u001b[0m\u001b[0;34m)\u001b[0m\u001b[0;34m\u001b[0m\u001b[0;34m\u001b[0m\u001b[0m\n\u001b[0m",
      "\u001b[0;31mAssertionError\u001b[0m: L.A. County's scraper is missing rows"
     ]
    }
   ],
   "source": [
    "try:\n",
    "    assert not len(df) < 342\n",
    "except AssertionError:\n",
    "    raise AssertionError(\"L.A. County's scraper is missing rows\")"
   ]
  },
  {
   "cell_type": "markdown",
   "metadata": {},
   "source": [
    "## Export"
   ]
  },
  {
   "cell_type": "markdown",
   "metadata": {},
   "source": [
    "Set the date"
   ]
  },
  {
   "cell_type": "code",
   "execution_count": 67,
   "metadata": {},
   "outputs": [],
   "source": [
    "tz = pytz.timezone(\"America/Los_Angeles\")"
   ]
  },
  {
   "cell_type": "code",
   "execution_count": 68,
   "metadata": {},
   "outputs": [],
   "source": [
    "today = datetime.now(tz).date()"
   ]
  },
  {
   "cell_type": "code",
   "execution_count": 69,
   "metadata": {},
   "outputs": [],
   "source": [
    "slug = \"los-angeles\""
   ]
  },
  {
   "cell_type": "code",
   "execution_count": 70,
   "metadata": {},
   "outputs": [],
   "source": [
    "df.to_csv(data_dir / slug / f\"{today}.csv\", index=False)"
   ]
  },
  {
   "cell_type": "markdown",
   "metadata": {},
   "source": [
    "## Combine"
   ]
  },
  {
   "cell_type": "code",
   "execution_count": 71,
   "metadata": {},
   "outputs": [],
   "source": [
    "csv_list = [\n",
    "    i\n",
    "    for i in glob.glob(str(data_dir / slug / \"*.csv\"))\n",
    "    if not str(i).endswith(\"timeseries.csv\")\n",
    "]"
   ]
  },
  {
   "cell_type": "code",
   "execution_count": 72,
   "metadata": {},
   "outputs": [],
   "source": [
    "df_list = []\n",
    "for csv in csv_list:\n",
    "    if \"manual\" in csv:\n",
    "        df = pd.read_csv(csv, parse_dates=[\"date\"])\n",
    "    else:\n",
    "        file_date = csv.split(\"/\")[-1].replace(\".csv\", \"\")\n",
    "        df = pd.read_csv(csv, parse_dates=[\"county_date\"])\n",
    "        df[\"date\"] = file_date\n",
    "    df_list.append(df)"
   ]
  },
  {
   "cell_type": "code",
   "execution_count": 73,
   "metadata": {},
   "outputs": [],
   "source": [
    "df = pd.concat(df_list).sort_values([\"date\", \"area\"])"
   ]
  },
  {
   "cell_type": "code",
   "execution_count": 74,
   "metadata": {},
   "outputs": [],
   "source": [
    "df.to_csv(data_dir / slug / \"timeseries.csv\", index=False)"
   ]
  },
  {
   "cell_type": "code",
   "execution_count": null,
   "metadata": {},
   "outputs": [],
   "source": []
  },
  {
   "cell_type": "code",
   "execution_count": null,
   "metadata": {},
   "outputs": [],
   "source": []
  }
 ],
 "metadata": {
  "kernelspec": {
   "display_name": "Python 3 (ipykernel)",
   "language": "python",
   "name": "python3"
  },
  "language_info": {
   "codemirror_mode": {
    "name": "ipython",
    "version": 3
   },
   "file_extension": ".py",
   "mimetype": "text/x-python",
   "name": "python",
   "nbconvert_exporter": "python",
   "pygments_lexer": "ipython3",
   "version": "3.8.16"
  }
 },
 "nbformat": 4,
 "nbformat_minor": 4
}
