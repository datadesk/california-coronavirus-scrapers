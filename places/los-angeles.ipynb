{
 "cells": [
  {
   "cell_type": "markdown",
   "metadata": {
    "tags": []
   },
   "source": [
    "## Configuration\n",
    "_Initial steps to get the notebook ready to play nice with our repository. Do not delete this section._"
   ]
  },
  {
   "cell_type": "markdown",
   "metadata": {},
   "source": [
    "Code formatting with [black](https://pypi.org/project/nb-black/)."
   ]
  },
  {
   "cell_type": "code",
   "execution_count": 1,
   "metadata": {
    "execution": {
     "iopub.execute_input": "2023-01-12T20:27:26.418617Z",
     "iopub.status.busy": "2023-01-12T20:27:26.417370Z",
     "iopub.status.idle": "2023-01-12T20:27:26.571781Z",
     "shell.execute_reply": "2023-01-12T20:27:26.572240Z"
    }
   },
   "outputs": [],
   "source": [
    "%load_ext lab_black"
   ]
  },
  {
   "cell_type": "code",
   "execution_count": 2,
   "metadata": {
    "execution": {
     "iopub.execute_input": "2023-01-12T20:27:26.576877Z",
     "iopub.status.busy": "2023-01-12T20:27:26.575857Z",
     "iopub.status.idle": "2023-01-12T20:27:26.579513Z",
     "shell.execute_reply": "2023-01-12T20:27:26.580145Z"
    }
   },
   "outputs": [],
   "source": [
    "import os\n",
    "import pathlib"
   ]
  },
  {
   "cell_type": "code",
   "execution_count": 3,
   "metadata": {
    "execution": {
     "iopub.execute_input": "2023-01-12T20:27:26.587160Z",
     "iopub.status.busy": "2023-01-12T20:27:26.586545Z",
     "iopub.status.idle": "2023-01-12T20:27:26.590243Z",
     "shell.execute_reply": "2023-01-12T20:27:26.589691Z"
    }
   },
   "outputs": [],
   "source": [
    "this_dir = pathlib.Path(os.path.abspath(\"\"))"
   ]
  },
  {
   "cell_type": "code",
   "execution_count": 4,
   "metadata": {
    "execution": {
     "iopub.execute_input": "2023-01-12T20:27:26.594303Z",
     "iopub.status.busy": "2023-01-12T20:27:26.593760Z",
     "iopub.status.idle": "2023-01-12T20:27:26.597392Z",
     "shell.execute_reply": "2023-01-12T20:27:26.596967Z"
    }
   },
   "outputs": [],
   "source": [
    "data_dir = this_dir / \"data\""
   ]
  },
  {
   "cell_type": "code",
   "execution_count": 5,
   "metadata": {
    "execution": {
     "iopub.execute_input": "2023-01-12T20:27:26.601780Z",
     "iopub.status.busy": "2023-01-12T20:27:26.601211Z",
     "iopub.status.idle": "2023-01-12T20:27:27.064697Z",
     "shell.execute_reply": "2023-01-12T20:27:27.064180Z"
    }
   },
   "outputs": [],
   "source": [
    "import re\n",
    "import pytz\n",
    "import glob\n",
    "import requests\n",
    "import unicodedata\n",
    "import pandas as pd\n",
    "from slugify import slugify\n",
    "from bs4 import BeautifulSoup\n",
    "from datetime import datetime, date"
   ]
  },
  {
   "cell_type": "markdown",
   "metadata": {},
   "source": [
    "## Download"
   ]
  },
  {
   "cell_type": "markdown",
   "metadata": {},
   "source": [
    "Retrieve the page"
   ]
  },
  {
   "cell_type": "code",
   "execution_count": 6,
   "metadata": {
    "execution": {
     "iopub.execute_input": "2023-01-12T20:27:27.070384Z",
     "iopub.status.busy": "2023-01-12T20:27:27.068752Z",
     "iopub.status.idle": "2023-01-12T20:27:27.073694Z",
     "shell.execute_reply": "2023-01-12T20:27:27.073145Z"
    }
   },
   "outputs": [],
   "source": [
    "url = \"http://publichealth.lacounty.gov/media/Coronavirus/locations.htm\""
   ]
  },
  {
   "cell_type": "code",
   "execution_count": 7,
   "metadata": {
    "execution": {
     "iopub.execute_input": "2023-01-12T20:27:27.081049Z",
     "iopub.status.busy": "2023-01-12T20:27:27.077329Z",
     "iopub.status.idle": "2023-01-12T20:27:27.424936Z",
     "shell.execute_reply": "2023-01-12T20:27:27.423933Z"
    }
   },
   "outputs": [],
   "source": [
    "page = requests.get(url)"
   ]
  },
  {
   "cell_type": "markdown",
   "metadata": {},
   "source": [
    "## Parse"
   ]
  },
  {
   "cell_type": "code",
   "execution_count": 8,
   "metadata": {
    "execution": {
     "iopub.execute_input": "2023-01-12T20:27:27.443404Z",
     "iopub.status.busy": "2023-01-12T20:27:27.432370Z",
     "iopub.status.idle": "2023-01-12T20:27:27.617499Z",
     "shell.execute_reply": "2023-01-12T20:27:27.616952Z"
    }
   },
   "outputs": [],
   "source": [
    "soup = BeautifulSoup(page.content, \"html.parser\")"
   ]
  },
  {
   "cell_type": "markdown",
   "metadata": {},
   "source": [
    "Get content well"
   ]
  },
  {
   "cell_type": "code",
   "execution_count": 9,
   "metadata": {
    "execution": {
     "iopub.execute_input": "2023-01-12T20:27:27.623145Z",
     "iopub.status.busy": "2023-01-12T20:27:27.622576Z",
     "iopub.status.idle": "2023-01-12T20:27:27.626580Z",
     "shell.execute_reply": "2023-01-12T20:27:27.626160Z"
    }
   },
   "outputs": [],
   "source": [
    "content = soup.find(\"div\", {\"id\": \"content\"})"
   ]
  },
  {
   "cell_type": "markdown",
   "metadata": {},
   "source": [
    "Get table"
   ]
  },
  {
   "cell_type": "code",
   "execution_count": 10,
   "metadata": {
    "execution": {
     "iopub.execute_input": "2023-01-12T20:27:27.642060Z",
     "iopub.status.busy": "2023-01-12T20:27:27.639129Z",
     "iopub.status.idle": "2023-01-12T20:27:27.647330Z",
     "shell.execute_reply": "2023-01-12T20:27:27.646742Z"
    }
   },
   "outputs": [],
   "source": [
    "for tag in content.find_all(text=re.compile(\"CITY/COMMUNITY\")):\n",
    "    table = tag.findParent(\"table\")"
   ]
  },
  {
   "cell_type": "code",
   "execution_count": 11,
   "metadata": {
    "execution": {
     "iopub.execute_input": "2023-01-12T20:27:27.653049Z",
     "iopub.status.busy": "2023-01-12T20:27:27.652056Z",
     "iopub.status.idle": "2023-01-12T20:27:27.655321Z",
     "shell.execute_reply": "2023-01-12T20:27:27.654875Z"
    }
   },
   "outputs": [],
   "source": [
    "tbody = soup.tbody"
   ]
  },
  {
   "cell_type": "code",
   "execution_count": 12,
   "metadata": {
    "execution": {
     "iopub.execute_input": "2023-01-12T20:27:27.661454Z",
     "iopub.status.busy": "2023-01-12T20:27:27.660498Z",
     "iopub.status.idle": "2023-01-12T20:27:27.663702Z",
     "shell.execute_reply": "2023-01-12T20:27:27.664196Z"
    }
   },
   "outputs": [],
   "source": [
    "row_list = tbody.find_all(\"tr\")"
   ]
  },
  {
   "cell_type": "code",
   "execution_count": 13,
   "metadata": {
    "execution": {
     "iopub.execute_input": "2023-01-12T20:27:27.667949Z",
     "iopub.status.busy": "2023-01-12T20:27:27.667358Z",
     "iopub.status.idle": "2023-01-12T20:27:27.670765Z",
     "shell.execute_reply": "2023-01-12T20:27:27.671294Z"
    }
   },
   "outputs": [],
   "source": [
    "dict_list = []"
   ]
  },
  {
   "cell_type": "code",
   "execution_count": 14,
   "metadata": {
    "execution": {
     "iopub.execute_input": "2023-01-12T20:27:27.678883Z",
     "iopub.status.busy": "2023-01-12T20:27:27.678355Z",
     "iopub.status.idle": "2023-01-12T20:27:27.682361Z",
     "shell.execute_reply": "2023-01-12T20:27:27.681754Z"
    }
   },
   "outputs": [],
   "source": [
    "def safetxt(element):\n",
    "    v = element.text.strip()\n",
    "    v = v.replace(\"\\u200b\", \"\")\n",
    "    return v"
   ]
  },
  {
   "cell_type": "code",
   "execution_count": 15,
   "metadata": {
    "execution": {
     "iopub.execute_input": "2023-01-12T20:27:27.686651Z",
     "iopub.status.busy": "2023-01-12T20:27:27.686153Z",
     "iopub.status.idle": "2023-01-12T20:27:27.693914Z",
     "shell.execute_reply": "2023-01-12T20:27:27.692839Z"
    }
   },
   "outputs": [],
   "source": [
    "def safenumber(element):\n",
    "    v = safetxt(element)\n",
    "    v = v.replace(\",\", \"\")\n",
    "    v = v.replace(\" \", \"\")\n",
    "    return v"
   ]
  },
  {
   "cell_type": "code",
   "execution_count": 16,
   "metadata": {
    "execution": {
     "iopub.execute_input": "2023-01-12T20:27:27.706969Z",
     "iopub.status.busy": "2023-01-12T20:27:27.700958Z",
     "iopub.status.idle": "2023-01-12T20:27:27.717009Z",
     "shell.execute_reply": "2023-01-12T20:27:27.716386Z"
    }
   },
   "outputs": [],
   "source": [
    "for row in row_list:\n",
    "    cell_content = row.find_all(\"td\")\n",
    "    d = dict(\n",
    "        county=\"Los Angeles\",\n",
    "        area=safetxt(cell_content[0]),\n",
    "        confirmed_cases=safenumber(cell_content[1]),\n",
    "        confirmed_deaths=safenumber(cell_content[3]),\n",
    "    )\n",
    "    dict_list.append(d)"
   ]
  },
  {
   "cell_type": "code",
   "execution_count": 17,
   "metadata": {
    "execution": {
     "iopub.execute_input": "2023-01-12T20:27:27.723547Z",
     "iopub.status.busy": "2023-01-12T20:27:27.723008Z",
     "iopub.status.idle": "2023-01-12T20:27:27.726822Z",
     "shell.execute_reply": "2023-01-12T20:27:27.725709Z"
    }
   },
   "outputs": [],
   "source": [
    "df = pd.DataFrame(dict_list)"
   ]
  },
  {
   "cell_type": "markdown",
   "metadata": {},
   "source": [
    "Get timestamp"
   ]
  },
  {
   "cell_type": "code",
   "execution_count": 18,
   "metadata": {
    "execution": {
     "iopub.execute_input": "2023-01-12T20:27:27.732180Z",
     "iopub.status.busy": "2023-01-12T20:27:27.731564Z",
     "iopub.status.idle": "2023-01-12T20:27:27.735712Z",
     "shell.execute_reply": "2023-01-12T20:27:27.735292Z"
    }
   },
   "outputs": [],
   "source": [
    "date_url = \"http://publichealth.lacounty.gov/media/Coronavirus/js/casecounter.js\""
   ]
  },
  {
   "cell_type": "code",
   "execution_count": 19,
   "metadata": {
    "execution": {
     "iopub.execute_input": "2023-01-12T20:27:27.742459Z",
     "iopub.status.busy": "2023-01-12T20:27:27.741898Z",
     "iopub.status.idle": "2023-01-12T20:27:27.827239Z",
     "shell.execute_reply": "2023-01-12T20:27:27.826204Z"
    }
   },
   "outputs": [],
   "source": [
    "response = requests.get(date_url)\n",
    "date_page = response.text"
   ]
  },
  {
   "cell_type": "code",
   "execution_count": 20,
   "metadata": {
    "execution": {
     "iopub.execute_input": "2023-01-12T20:27:27.837064Z",
     "iopub.status.busy": "2023-01-12T20:27:27.834792Z",
     "iopub.status.idle": "2023-01-12T20:27:27.843414Z",
     "shell.execute_reply": "2023-01-12T20:27:27.843844Z"
    }
   },
   "outputs": [
    {
     "data": {
      "text/plain": [
       "'$( document ).ready(function() {\\r\\n    var data = {\\r\\n\\t\\t\\t\\t    \"content\": { \\r\\n\\t\\t\\r\\n\\t\\t\\t\"count\": \"3,656,051\",\\r\\n\\r\\n\\r\\n\\t\\t\\t\"death\": \"34,917\",\\r\\n\\r\\n\\t\\t\\t\"dailycount\": \"2,616\",\\r\\n\\r\\n\\r\\n\\t\\t\\t\"dailydeath\": \"30\",\\r\\n\\t\\t\\t\"hospitalizationsever\": \"168,376\",\\r\\n\\r\\n\\r\\n\\t\\t\\t\"date\": \"01/11/23\",\\r\\n\\t\\t\\t\"info\": \"through 12:00pm 01/10/2023\",\\r\\n\\r\\n\\t\\t\\t\"testingaverage\": \"19,734\",\\r\\n\\r\\n\\t\\t\\t\"peopletested\": \"12,847,179\",\\r\\n\\r\\n\\t\\t\\t\"positivity\": \"11.35%\",\\r\\n\\r\\n\\t\\t\\t\"hospitalizations\": \"1,128\",\\r\\n\\t\\t\\t\"datehospitalizations\": \"01/10/23\"\\r\\n\\r\\n\\t\\t\\t\\t}       \\r\\n\\t\\t\\t\\t};\\t\\r\\n\\t\\t\\t\\t\\r\\n\\t\\t\\t\\t\\r\\n\\t\\t\\t\\tvar content = data.content;\\r\\n\\t\\t\\t\\t\\r\\n\\t\\t\\t\\t$(\\'#ctn\\').html(content.count);\\r\\n\\t\\t\\t\\t$(\\'#det\\').html(content.death);\\r\\n\\t\\t\\t\\t$(\\'#dctn\\').html(content.dailycount);\\r\\n\\t\\t\\t\\t$(\\'#ddet\\').html(content.dailydeath);\\r\\n\\t\\t\\t\\t$(\\'#hosp_1\\').html(content.hospitalizationsever);\\r\\n\\t\\t\\t\\t$(\\'#dte\\').html(content.date);\\r\\n\\t\\t\\t\\t$(\\'#dte_1\\').html(content.date);\\r\\n\\t\\t\\t\\t$(\\'#dte_2\\').html(content.date);\\r\\n\\t\\t\\t\\t$(\\'#dte_3\\').html(content.datehospitalizations);\\r\\n\\t\\t\\t\\t$(\\'#cse\\').html(content.info);\\t\\r\\n\\t\\t\\t\\r\\n\\t\\t\\t\\t\\r\\n\\t\\t\\t\\t$(\\'#tstavg\\').html(content.testingaverage);\\t\\r\\n\\t\\t\\t\\t$(\\'#ppltst\\').html(content.peopletested);\\t\\r\\n\\t\\t\\t\\t$(\\'#pos\\').html(content.positivity);\\t\\r\\n\\t\\t\\t\\t$(\\'#hosp\\').html(content.hospitalizations);\\r\\n\\t\\t\\t\\r\\n\\t\\t\\t\\t\\t\\t\\t\\r\\n\\r\\n\\r\\n});\\r\\n\\r\\n\\r\\n\\r\\n'"
      ]
     },
     "execution_count": 20,
     "metadata": {},
     "output_type": "execute_result"
    }
   ],
   "source": [
    "date_page"
   ]
  },
  {
   "cell_type": "code",
   "execution_count": 21,
   "metadata": {
    "execution": {
     "iopub.execute_input": "2023-01-12T20:27:27.848206Z",
     "iopub.status.busy": "2023-01-12T20:27:27.847697Z",
     "iopub.status.idle": "2023-01-12T20:27:27.850775Z",
     "shell.execute_reply": "2023-01-12T20:27:27.851214Z"
    }
   },
   "outputs": [],
   "source": [
    "# date_text = re.search(r\"([0-9][0-9]/[0-9][0-9])\", date_page).group(1)\n",
    "# date_text = date_text + \"/\" + str(date.today().year)"
   ]
  },
  {
   "cell_type": "code",
   "execution_count": 22,
   "metadata": {
    "execution": {
     "iopub.execute_input": "2023-01-12T20:27:27.856360Z",
     "iopub.status.busy": "2023-01-12T20:27:27.855794Z",
     "iopub.status.idle": "2023-01-12T20:27:27.859324Z",
     "shell.execute_reply": "2023-01-12T20:27:27.858815Z"
    }
   },
   "outputs": [],
   "source": [
    "date_text = re.search(r\"through (.+?)\\\"\", date_page).group(1)"
   ]
  },
  {
   "cell_type": "code",
   "execution_count": 23,
   "metadata": {
    "execution": {
     "iopub.execute_input": "2023-01-12T20:27:27.863324Z",
     "iopub.status.busy": "2023-01-12T20:27:27.862750Z",
     "iopub.status.idle": "2023-01-12T20:27:27.866946Z",
     "shell.execute_reply": "2023-01-12T20:27:27.866477Z"
    }
   },
   "outputs": [],
   "source": [
    "date_text = date_text.split(\"m \")[0]"
   ]
  },
  {
   "cell_type": "code",
   "execution_count": 24,
   "metadata": {
    "execution": {
     "iopub.execute_input": "2023-01-12T20:27:27.871846Z",
     "iopub.status.busy": "2023-01-12T20:27:27.871342Z",
     "iopub.status.idle": "2023-01-12T20:27:27.875514Z",
     "shell.execute_reply": "2023-01-12T20:27:27.875009Z"
    }
   },
   "outputs": [],
   "source": [
    "latest_date = pd.to_datetime(date_text).date()"
   ]
  },
  {
   "cell_type": "code",
   "execution_count": 25,
   "metadata": {
    "execution": {
     "iopub.execute_input": "2023-01-12T20:27:27.880921Z",
     "iopub.status.busy": "2023-01-12T20:27:27.879771Z",
     "iopub.status.idle": "2023-01-12T20:27:27.883596Z",
     "shell.execute_reply": "2023-01-12T20:27:27.882897Z"
    }
   },
   "outputs": [],
   "source": [
    "df[\"county_date\"] = latest_date"
   ]
  },
  {
   "cell_type": "code",
   "execution_count": 26,
   "metadata": {
    "execution": {
     "iopub.execute_input": "2023-01-12T20:27:27.889572Z",
     "iopub.status.busy": "2023-01-12T20:27:27.889021Z",
     "iopub.status.idle": "2023-01-12T20:27:27.893444Z",
     "shell.execute_reply": "2023-01-12T20:27:27.892929Z"
    }
   },
   "outputs": [],
   "source": [
    "df.loc[df.area == \"-  Under Investigation\", \"area\"] = \"Under Investigation\""
   ]
  },
  {
   "cell_type": "code",
   "execution_count": 27,
   "metadata": {
    "execution": {
     "iopub.execute_input": "2023-01-12T20:27:27.898156Z",
     "iopub.status.busy": "2023-01-12T20:27:27.897660Z",
     "iopub.status.idle": "2023-01-12T20:27:27.901574Z",
     "shell.execute_reply": "2023-01-12T20:27:27.902076Z"
    }
   },
   "outputs": [],
   "source": [
    "df.loc[df.area == \"- Under Investigation\", \"area\"] = \"Under Investigation\""
   ]
  },
  {
   "cell_type": "markdown",
   "metadata": {},
   "source": [
    "## Vet"
   ]
  },
  {
   "cell_type": "code",
   "execution_count": 28,
   "metadata": {
    "execution": {
     "iopub.execute_input": "2023-01-12T20:27:27.907077Z",
     "iopub.status.busy": "2023-01-12T20:27:27.906475Z",
     "iopub.status.idle": "2023-01-12T20:27:27.909861Z",
     "shell.execute_reply": "2023-01-12T20:27:27.910374Z"
    }
   },
   "outputs": [],
   "source": [
    "try:\n",
    "    assert not len(df) > 342\n",
    "except AssertionError:\n",
    "    raise AssertionError(\"L.A. County's scraper has extra rows\")"
   ]
  },
  {
   "cell_type": "code",
   "execution_count": 29,
   "metadata": {
    "execution": {
     "iopub.execute_input": "2023-01-12T20:27:27.914194Z",
     "iopub.status.busy": "2023-01-12T20:27:27.913695Z",
     "iopub.status.idle": "2023-01-12T20:27:28.062927Z",
     "shell.execute_reply": "2023-01-12T20:27:28.061341Z"
    }
   },
   "outputs": [
    {
     "ename": "AssertionError",
     "evalue": "L.A. County's scraper is missing rows",
     "output_type": "error",
     "traceback": [
      "\u001b[0;31m---------------------------------------------------------------------------\u001b[0m",
      "\u001b[0;31mAssertionError\u001b[0m                            Traceback (most recent call last)",
      "\u001b[0;32m/tmp/ipykernel_2157/2999864733.py\u001b[0m in \u001b[0;36m<module>\u001b[0;34m\u001b[0m\n\u001b[1;32m      1\u001b[0m \u001b[0;32mtry\u001b[0m\u001b[0;34m:\u001b[0m\u001b[0;34m\u001b[0m\u001b[0;34m\u001b[0m\u001b[0m\n\u001b[0;32m----> 2\u001b[0;31m     \u001b[0;32massert\u001b[0m \u001b[0;32mnot\u001b[0m \u001b[0mlen\u001b[0m\u001b[0;34m(\u001b[0m\u001b[0mdf\u001b[0m\u001b[0;34m)\u001b[0m \u001b[0;34m<\u001b[0m \u001b[0;36m342\u001b[0m\u001b[0;34m\u001b[0m\u001b[0;34m\u001b[0m\u001b[0m\n\u001b[0m\u001b[1;32m      3\u001b[0m \u001b[0;32mexcept\u001b[0m \u001b[0mAssertionError\u001b[0m\u001b[0;34m:\u001b[0m\u001b[0;34m\u001b[0m\u001b[0;34m\u001b[0m\u001b[0m\n",
      "\u001b[0;31mAssertionError\u001b[0m: ",
      "\nDuring handling of the above exception, another exception occurred:\n",
      "\u001b[0;31mAssertionError\u001b[0m                            Traceback (most recent call last)",
      "\u001b[0;32m/tmp/ipykernel_2157/2999864733.py\u001b[0m in \u001b[0;36m<module>\u001b[0;34m\u001b[0m\n\u001b[1;32m      2\u001b[0m     \u001b[0;32massert\u001b[0m \u001b[0;32mnot\u001b[0m \u001b[0mlen\u001b[0m\u001b[0;34m(\u001b[0m\u001b[0mdf\u001b[0m\u001b[0;34m)\u001b[0m \u001b[0;34m<\u001b[0m \u001b[0;36m342\u001b[0m\u001b[0;34m\u001b[0m\u001b[0;34m\u001b[0m\u001b[0m\n\u001b[1;32m      3\u001b[0m \u001b[0;32mexcept\u001b[0m \u001b[0mAssertionError\u001b[0m\u001b[0;34m:\u001b[0m\u001b[0;34m\u001b[0m\u001b[0;34m\u001b[0m\u001b[0m\n\u001b[0;32m----> 4\u001b[0;31m     \u001b[0;32mraise\u001b[0m \u001b[0mAssertionError\u001b[0m\u001b[0;34m(\u001b[0m\u001b[0;34m\"L.A. County's scraper is missing rows\"\u001b[0m\u001b[0;34m)\u001b[0m\u001b[0;34m\u001b[0m\u001b[0;34m\u001b[0m\u001b[0m\n\u001b[0m",
      "\u001b[0;31mAssertionError\u001b[0m: L.A. County's scraper is missing rows"
     ]
    }
   ],
   "source": [
    "try:\n",
    "    assert not len(df) < 342\n",
    "except AssertionError:\n",
    "    raise AssertionError(\"L.A. County's scraper is missing rows\")"
   ]
  },
  {
   "cell_type": "markdown",
   "metadata": {},
   "source": [
    "## Export"
   ]
  },
  {
   "cell_type": "markdown",
   "metadata": {},
   "source": [
    "Set the date"
   ]
  },
  {
   "cell_type": "code",
   "execution_count": 67,
   "metadata": {},
   "outputs": [],
   "source": [
    "tz = pytz.timezone(\"America/Los_Angeles\")"
   ]
  },
  {
   "cell_type": "code",
   "execution_count": 68,
   "metadata": {},
   "outputs": [],
   "source": [
    "today = datetime.now(tz).date()"
   ]
  },
  {
   "cell_type": "code",
   "execution_count": 69,
   "metadata": {},
   "outputs": [],
   "source": [
    "slug = \"los-angeles\""
   ]
  },
  {
   "cell_type": "code",
   "execution_count": 70,
   "metadata": {},
   "outputs": [],
   "source": [
    "df.to_csv(data_dir / slug / f\"{today}.csv\", index=False)"
   ]
  },
  {
   "cell_type": "markdown",
   "metadata": {},
   "source": [
    "## Combine"
   ]
  },
  {
   "cell_type": "code",
   "execution_count": 71,
   "metadata": {},
   "outputs": [],
   "source": [
    "csv_list = [\n",
    "    i\n",
    "    for i in glob.glob(str(data_dir / slug / \"*.csv\"))\n",
    "    if not str(i).endswith(\"timeseries.csv\")\n",
    "]"
   ]
  },
  {
   "cell_type": "code",
   "execution_count": 72,
   "metadata": {},
   "outputs": [],
   "source": [
    "df_list = []\n",
    "for csv in csv_list:\n",
    "    if \"manual\" in csv:\n",
    "        df = pd.read_csv(csv, parse_dates=[\"date\"])\n",
    "    else:\n",
    "        file_date = csv.split(\"/\")[-1].replace(\".csv\", \"\")\n",
    "        df = pd.read_csv(csv, parse_dates=[\"county_date\"])\n",
    "        df[\"date\"] = file_date\n",
    "    df_list.append(df)"
   ]
  },
  {
   "cell_type": "code",
   "execution_count": 73,
   "metadata": {},
   "outputs": [],
   "source": [
    "df = pd.concat(df_list).sort_values([\"date\", \"area\"])"
   ]
  },
  {
   "cell_type": "code",
   "execution_count": 74,
   "metadata": {},
   "outputs": [],
   "source": [
    "df.to_csv(data_dir / slug / \"timeseries.csv\", index=False)"
   ]
  },
  {
   "cell_type": "code",
   "execution_count": null,
   "metadata": {},
   "outputs": [],
   "source": []
  },
  {
   "cell_type": "code",
   "execution_count": null,
   "metadata": {},
   "outputs": [],
   "source": []
  }
 ],
 "metadata": {
  "kernelspec": {
   "display_name": "Python 3 (ipykernel)",
   "language": "python",
   "name": "python3"
  },
  "language_info": {
   "codemirror_mode": {
    "name": "ipython",
    "version": 3
   },
   "file_extension": ".py",
   "mimetype": "text/x-python",
   "name": "python",
   "nbconvert_exporter": "python",
   "pygments_lexer": "ipython3",
   "version": "3.8.15"
  }
 },
 "nbformat": 4,
 "nbformat_minor": 4
}
