{
 "cells": [
  {
   "cell_type": "markdown",
   "metadata": {
    "tags": []
   },
   "source": [
    "## Configuration\n",
    "_Initial steps to get the notebook ready to play nice with our repository. Do not delete this section._"
   ]
  },
  {
   "cell_type": "markdown",
   "metadata": {},
   "source": [
    "Code formatting with [black](https://pypi.org/project/nb-black/)."
   ]
  },
  {
   "cell_type": "code",
   "execution_count": 1,
   "metadata": {
    "execution": {
     "iopub.execute_input": "2023-01-06T16:19:33.901119Z",
     "iopub.status.busy": "2023-01-06T16:19:33.900706Z",
     "iopub.status.idle": "2023-01-06T16:19:34.036064Z",
     "shell.execute_reply": "2023-01-06T16:19:34.035568Z"
    }
   },
   "outputs": [],
   "source": [
    "%load_ext lab_black"
   ]
  },
  {
   "cell_type": "code",
   "execution_count": 2,
   "metadata": {
    "execution": {
     "iopub.execute_input": "2023-01-06T16:19:34.039740Z",
     "iopub.status.busy": "2023-01-06T16:19:34.038819Z",
     "iopub.status.idle": "2023-01-06T16:19:34.041447Z",
     "shell.execute_reply": "2023-01-06T16:19:34.041100Z"
    }
   },
   "outputs": [],
   "source": [
    "import os\n",
    "import pathlib"
   ]
  },
  {
   "cell_type": "code",
   "execution_count": 3,
   "metadata": {
    "execution": {
     "iopub.execute_input": "2023-01-06T16:19:34.047347Z",
     "iopub.status.busy": "2023-01-06T16:19:34.046637Z",
     "iopub.status.idle": "2023-01-06T16:19:34.048344Z",
     "shell.execute_reply": "2023-01-06T16:19:34.048009Z"
    }
   },
   "outputs": [],
   "source": [
    "this_dir = pathlib.Path(os.path.abspath(\"\"))"
   ]
  },
  {
   "cell_type": "code",
   "execution_count": 4,
   "metadata": {
    "execution": {
     "iopub.execute_input": "2023-01-06T16:19:34.052152Z",
     "iopub.status.busy": "2023-01-06T16:19:34.051731Z",
     "iopub.status.idle": "2023-01-06T16:19:34.053763Z",
     "shell.execute_reply": "2023-01-06T16:19:34.053384Z"
    }
   },
   "outputs": [],
   "source": [
    "data_dir = this_dir / \"data\""
   ]
  },
  {
   "cell_type": "code",
   "execution_count": 5,
   "metadata": {
    "execution": {
     "iopub.execute_input": "2023-01-06T16:19:34.057280Z",
     "iopub.status.busy": "2023-01-06T16:19:34.056866Z",
     "iopub.status.idle": "2023-01-06T16:19:34.437631Z",
     "shell.execute_reply": "2023-01-06T16:19:34.437213Z"
    }
   },
   "outputs": [],
   "source": [
    "import re\n",
    "import pytz\n",
    "import glob\n",
    "import requests\n",
    "import unicodedata\n",
    "import pandas as pd\n",
    "from slugify import slugify\n",
    "from bs4 import BeautifulSoup\n",
    "from datetime import datetime, date"
   ]
  },
  {
   "cell_type": "markdown",
   "metadata": {},
   "source": [
    "## Download"
   ]
  },
  {
   "cell_type": "markdown",
   "metadata": {},
   "source": [
    "Retrieve the page"
   ]
  },
  {
   "cell_type": "code",
   "execution_count": 6,
   "metadata": {
    "execution": {
     "iopub.execute_input": "2023-01-06T16:19:34.441502Z",
     "iopub.status.busy": "2023-01-06T16:19:34.440660Z",
     "iopub.status.idle": "2023-01-06T16:19:34.444255Z",
     "shell.execute_reply": "2023-01-06T16:19:34.443535Z"
    }
   },
   "outputs": [],
   "source": [
    "url = \"http://publichealth.lacounty.gov/media/Coronavirus/locations.htm\""
   ]
  },
  {
   "cell_type": "code",
   "execution_count": 7,
   "metadata": {
    "execution": {
     "iopub.execute_input": "2023-01-06T16:19:34.447912Z",
     "iopub.status.busy": "2023-01-06T16:19:34.446059Z",
     "iopub.status.idle": "2023-01-06T16:19:34.912881Z",
     "shell.execute_reply": "2023-01-06T16:19:34.912447Z"
    }
   },
   "outputs": [],
   "source": [
    "page = requests.get(url)"
   ]
  },
  {
   "cell_type": "markdown",
   "metadata": {},
   "source": [
    "## Parse"
   ]
  },
  {
   "cell_type": "code",
   "execution_count": 8,
   "metadata": {
    "execution": {
     "iopub.execute_input": "2023-01-06T16:19:34.925981Z",
     "iopub.status.busy": "2023-01-06T16:19:34.920544Z",
     "iopub.status.idle": "2023-01-06T16:19:35.072213Z",
     "shell.execute_reply": "2023-01-06T16:19:35.071823Z"
    }
   },
   "outputs": [],
   "source": [
    "soup = BeautifulSoup(page.content, \"html.parser\")"
   ]
  },
  {
   "cell_type": "markdown",
   "metadata": {},
   "source": [
    "Get content well"
   ]
  },
  {
   "cell_type": "code",
   "execution_count": 9,
   "metadata": {
    "execution": {
     "iopub.execute_input": "2023-01-06T16:19:35.077729Z",
     "iopub.status.busy": "2023-01-06T16:19:35.074019Z",
     "iopub.status.idle": "2023-01-06T16:19:35.080281Z",
     "shell.execute_reply": "2023-01-06T16:19:35.079925Z"
    }
   },
   "outputs": [],
   "source": [
    "content = soup.find(\"div\", {\"id\": \"content\"})"
   ]
  },
  {
   "cell_type": "markdown",
   "metadata": {},
   "source": [
    "Get table"
   ]
  },
  {
   "cell_type": "code",
   "execution_count": 10,
   "metadata": {
    "execution": {
     "iopub.execute_input": "2023-01-06T16:19:35.093654Z",
     "iopub.status.busy": "2023-01-06T16:19:35.092017Z",
     "iopub.status.idle": "2023-01-06T16:19:35.097624Z",
     "shell.execute_reply": "2023-01-06T16:19:35.097264Z"
    }
   },
   "outputs": [],
   "source": [
    "for tag in content.find_all(text=re.compile(\"CITY/COMMUNITY\")):\n",
    "    table = tag.findParent(\"table\")"
   ]
  },
  {
   "cell_type": "code",
   "execution_count": 11,
   "metadata": {
    "execution": {
     "iopub.execute_input": "2023-01-06T16:19:35.103104Z",
     "iopub.status.busy": "2023-01-06T16:19:35.102397Z",
     "iopub.status.idle": "2023-01-06T16:19:35.104158Z",
     "shell.execute_reply": "2023-01-06T16:19:35.103819Z"
    }
   },
   "outputs": [],
   "source": [
    "tbody = soup.tbody"
   ]
  },
  {
   "cell_type": "code",
   "execution_count": 12,
   "metadata": {
    "execution": {
     "iopub.execute_input": "2023-01-06T16:19:35.110193Z",
     "iopub.status.busy": "2023-01-06T16:19:35.109486Z",
     "iopub.status.idle": "2023-01-06T16:19:35.110954Z",
     "shell.execute_reply": "2023-01-06T16:19:35.111272Z"
    }
   },
   "outputs": [],
   "source": [
    "row_list = tbody.find_all(\"tr\")"
   ]
  },
  {
   "cell_type": "code",
   "execution_count": 13,
   "metadata": {
    "execution": {
     "iopub.execute_input": "2023-01-06T16:19:35.115572Z",
     "iopub.status.busy": "2023-01-06T16:19:35.114892Z",
     "iopub.status.idle": "2023-01-06T16:19:35.116410Z",
     "shell.execute_reply": "2023-01-06T16:19:35.116732Z"
    }
   },
   "outputs": [],
   "source": [
    "dict_list = []"
   ]
  },
  {
   "cell_type": "code",
   "execution_count": 14,
   "metadata": {
    "execution": {
     "iopub.execute_input": "2023-01-06T16:19:35.120308Z",
     "iopub.status.busy": "2023-01-06T16:19:35.119880Z",
     "iopub.status.idle": "2023-01-06T16:19:35.123896Z",
     "shell.execute_reply": "2023-01-06T16:19:35.124222Z"
    }
   },
   "outputs": [],
   "source": [
    "def safetxt(element):\n",
    "    v = element.text.strip()\n",
    "    v = v.replace(\"\\u200b\", \"\")\n",
    "    return v"
   ]
  },
  {
   "cell_type": "code",
   "execution_count": 15,
   "metadata": {
    "execution": {
     "iopub.execute_input": "2023-01-06T16:19:35.130578Z",
     "iopub.status.busy": "2023-01-06T16:19:35.130133Z",
     "iopub.status.idle": "2023-01-06T16:19:35.133436Z",
     "shell.execute_reply": "2023-01-06T16:19:35.133051Z"
    }
   },
   "outputs": [],
   "source": [
    "def safenumber(element):\n",
    "    v = safetxt(element)\n",
    "    v = v.replace(\",\", \"\")\n",
    "    v = v.replace(\" \", \"\")\n",
    "    return v"
   ]
  },
  {
   "cell_type": "code",
   "execution_count": 16,
   "metadata": {
    "execution": {
     "iopub.execute_input": "2023-01-06T16:19:35.143857Z",
     "iopub.status.busy": "2023-01-06T16:19:35.143417Z",
     "iopub.status.idle": "2023-01-06T16:19:35.151613Z",
     "shell.execute_reply": "2023-01-06T16:19:35.151220Z"
    }
   },
   "outputs": [],
   "source": [
    "for row in row_list:\n",
    "    cell_content = row.find_all(\"td\")\n",
    "    d = dict(\n",
    "        county=\"Los Angeles\",\n",
    "        area=safetxt(cell_content[0]),\n",
    "        confirmed_cases=safenumber(cell_content[1]),\n",
    "        confirmed_deaths=safenumber(cell_content[3]),\n",
    "    )\n",
    "    dict_list.append(d)"
   ]
  },
  {
   "cell_type": "code",
   "execution_count": 17,
   "metadata": {
    "execution": {
     "iopub.execute_input": "2023-01-06T16:19:35.157017Z",
     "iopub.status.busy": "2023-01-06T16:19:35.156584Z",
     "iopub.status.idle": "2023-01-06T16:19:35.159434Z",
     "shell.execute_reply": "2023-01-06T16:19:35.159063Z"
    }
   },
   "outputs": [],
   "source": [
    "df = pd.DataFrame(dict_list)"
   ]
  },
  {
   "cell_type": "markdown",
   "metadata": {},
   "source": [
    "Get timestamp"
   ]
  },
  {
   "cell_type": "code",
   "execution_count": 18,
   "metadata": {
    "execution": {
     "iopub.execute_input": "2023-01-06T16:19:35.163900Z",
     "iopub.status.busy": "2023-01-06T16:19:35.162232Z",
     "iopub.status.idle": "2023-01-06T16:19:35.165910Z",
     "shell.execute_reply": "2023-01-06T16:19:35.166273Z"
    }
   },
   "outputs": [],
   "source": [
    "date_url = \"http://publichealth.lacounty.gov/media/Coronavirus/js/casecounter.js\""
   ]
  },
  {
   "cell_type": "code",
   "execution_count": 19,
   "metadata": {
    "execution": {
     "iopub.execute_input": "2023-01-06T16:19:35.172191Z",
     "iopub.status.busy": "2023-01-06T16:19:35.169016Z",
     "iopub.status.idle": "2023-01-06T16:19:35.541767Z",
     "shell.execute_reply": "2023-01-06T16:19:35.541304Z"
    }
   },
   "outputs": [],
   "source": [
    "response = requests.get(date_url)\n",
    "date_page = response.text"
   ]
  },
  {
   "cell_type": "code",
   "execution_count": 20,
   "metadata": {
    "execution": {
     "iopub.execute_input": "2023-01-06T16:19:35.550473Z",
     "iopub.status.busy": "2023-01-06T16:19:35.549031Z",
     "iopub.status.idle": "2023-01-06T16:19:35.555899Z",
     "shell.execute_reply": "2023-01-06T16:19:35.555356Z"
    }
   },
   "outputs": [
    {
     "data": {
      "text/plain": [
       "'$( document ).ready(function() {\\r\\n    var data = {\\r\\n\\t\\t\\t\\t    \"content\": { \\r\\n\\t\\t\\r\\n\\t\\t\\t\"count\": \"33,644,850\",\\r\\n\\r\\n\\r\\n\\t\\t\\t\"death\": \"34,783\",\\r\\n\\r\\n\\t\\t\\t\"dailycount\": \"3,602\",\\r\\n\\r\\n\\r\\n\\t\\t\\t\"dailydeath\": \"28\",\\r\\n\\t\\t\\t\"hospitalizationsever\": \"167,374\",\\r\\n\\r\\n\\r\\n\\t\\t\\t\"date\": \"01/05/23\",\\r\\n\\t\\t\\t\"info\": \"through 12:00pm 01/04/2023\",\\r\\n\\r\\n\\t\\t\\t\"testingaverage\": \"17,170\",\\r\\n\\r\\n\\t\\t\\t\"peopletested\": \"12,834,189\",\\r\\n\\r\\n\\t\\t\\t\"positivity\": \"14.86%\",\\r\\n\\r\\n\\t\\t\\t\"hospitalizations\": \"1,287\",\\r\\n\\t\\t\\t\"datehospitalizations\": \"01/04/23\"\\r\\n\\r\\n\\t\\t\\t\\t}       \\r\\n\\t\\t\\t\\t};\\t\\r\\n\\t\\t\\t\\t\\r\\n\\t\\t\\t\\t\\r\\n\\t\\t\\t\\tvar content = data.content;\\r\\n\\t\\t\\t\\t\\r\\n\\t\\t\\t\\t$(\\'#ctn\\').html(content.count);\\r\\n\\t\\t\\t\\t$(\\'#det\\').html(content.death);\\r\\n\\t\\t\\t\\t$(\\'#dctn\\').html(content.dailycount);\\r\\n\\t\\t\\t\\t$(\\'#ddet\\').html(content.dailydeath);\\r\\n\\t\\t\\t\\t$(\\'#hosp_1\\').html(content.hospitalizationsever);\\r\\n\\t\\t\\t\\t$(\\'#dte\\').html(content.date);\\r\\n\\t\\t\\t\\t$(\\'#dte_1\\').html(content.date);\\r\\n\\t\\t\\t\\t$(\\'#dte_2\\').html(content.date);\\r\\n\\t\\t\\t\\t$(\\'#dte_3\\').html(content.datehospitalizations);\\r\\n\\t\\t\\t\\t$(\\'#cse\\').html(content.info);\\t\\r\\n\\t\\t\\t\\r\\n\\t\\t\\t\\t\\r\\n\\t\\t\\t\\t$(\\'#tstavg\\').html(content.testingaverage);\\t\\r\\n\\t\\t\\t\\t$(\\'#ppltst\\').html(content.peopletested);\\t\\r\\n\\t\\t\\t\\t$(\\'#pos\\').html(content.positivity);\\t\\r\\n\\t\\t\\t\\t$(\\'#hosp\\').html(content.hospitalizations);\\r\\n\\t\\t\\t\\r\\n\\t\\t\\t\\t\\t\\t\\t\\r\\n\\r\\n\\r\\n});\\r\\n\\r\\n\\r\\n\\r\\n'"
      ]
     },
     "execution_count": 20,
     "metadata": {},
     "output_type": "execute_result"
    }
   ],
   "source": [
    "date_page"
   ]
  },
  {
   "cell_type": "code",
   "execution_count": 21,
   "metadata": {
    "execution": {
     "iopub.execute_input": "2023-01-06T16:19:35.559661Z",
     "iopub.status.busy": "2023-01-06T16:19:35.559231Z",
     "iopub.status.idle": "2023-01-06T16:19:35.562145Z",
     "shell.execute_reply": "2023-01-06T16:19:35.561773Z"
    }
   },
   "outputs": [],
   "source": [
    "# date_text = re.search(r\"([0-9][0-9]/[0-9][0-9])\", date_page).group(1)\n",
    "# date_text = date_text + \"/\" + str(date.today().year)"
   ]
  },
  {
   "cell_type": "code",
   "execution_count": 22,
   "metadata": {
    "execution": {
     "iopub.execute_input": "2023-01-06T16:19:35.567175Z",
     "iopub.status.busy": "2023-01-06T16:19:35.566606Z",
     "iopub.status.idle": "2023-01-06T16:19:35.569159Z",
     "shell.execute_reply": "2023-01-06T16:19:35.569735Z"
    }
   },
   "outputs": [],
   "source": [
    "date_text = re.search(r\"through (.+?)\\\"\", date_page).group(1)"
   ]
  },
  {
   "cell_type": "code",
   "execution_count": 23,
   "metadata": {
    "execution": {
     "iopub.execute_input": "2023-01-06T16:19:35.574038Z",
     "iopub.status.busy": "2023-01-06T16:19:35.573462Z",
     "iopub.status.idle": "2023-01-06T16:19:35.576420Z",
     "shell.execute_reply": "2023-01-06T16:19:35.576974Z"
    }
   },
   "outputs": [],
   "source": [
    "date_text = date_text.split(\"m \")[0]"
   ]
  },
  {
   "cell_type": "code",
   "execution_count": 24,
   "metadata": {
    "execution": {
     "iopub.execute_input": "2023-01-06T16:19:35.582065Z",
     "iopub.status.busy": "2023-01-06T16:19:35.581486Z",
     "iopub.status.idle": "2023-01-06T16:19:35.584800Z",
     "shell.execute_reply": "2023-01-06T16:19:35.584012Z"
    }
   },
   "outputs": [],
   "source": [
    "latest_date = pd.to_datetime(date_text).date()"
   ]
  },
  {
   "cell_type": "code",
   "execution_count": 25,
   "metadata": {
    "execution": {
     "iopub.execute_input": "2023-01-06T16:19:35.588804Z",
     "iopub.status.busy": "2023-01-06T16:19:35.588202Z",
     "iopub.status.idle": "2023-01-06T16:19:35.592170Z",
     "shell.execute_reply": "2023-01-06T16:19:35.591793Z"
    }
   },
   "outputs": [],
   "source": [
    "df[\"county_date\"] = latest_date"
   ]
  },
  {
   "cell_type": "code",
   "execution_count": 26,
   "metadata": {
    "execution": {
     "iopub.execute_input": "2023-01-06T16:19:35.596673Z",
     "iopub.status.busy": "2023-01-06T16:19:35.595968Z",
     "iopub.status.idle": "2023-01-06T16:19:35.600496Z",
     "shell.execute_reply": "2023-01-06T16:19:35.600107Z"
    }
   },
   "outputs": [],
   "source": [
    "df.loc[df.area == \"-  Under Investigation\", \"area\"] = \"Under Investigation\""
   ]
  },
  {
   "cell_type": "code",
   "execution_count": 27,
   "metadata": {
    "execution": {
     "iopub.execute_input": "2023-01-06T16:19:35.604727Z",
     "iopub.status.busy": "2023-01-06T16:19:35.604142Z",
     "iopub.status.idle": "2023-01-06T16:19:35.608931Z",
     "shell.execute_reply": "2023-01-06T16:19:35.608289Z"
    }
   },
   "outputs": [],
   "source": [
    "df.loc[df.area == \"- Under Investigation\", \"area\"] = \"Under Investigation\""
   ]
  },
  {
   "cell_type": "markdown",
   "metadata": {},
   "source": [
    "## Vet"
   ]
  },
  {
   "cell_type": "code",
   "execution_count": 28,
   "metadata": {
    "execution": {
     "iopub.execute_input": "2023-01-06T16:19:35.613517Z",
     "iopub.status.busy": "2023-01-06T16:19:35.611932Z",
     "iopub.status.idle": "2023-01-06T16:19:35.616357Z",
     "shell.execute_reply": "2023-01-06T16:19:35.615743Z"
    }
   },
   "outputs": [],
   "source": [
    "try:\n",
    "    assert not len(df) > 342\n",
    "except AssertionError:\n",
    "    raise AssertionError(\"L.A. County's scraper has extra rows\")"
   ]
  },
  {
   "cell_type": "code",
   "execution_count": 29,
   "metadata": {
    "execution": {
     "iopub.execute_input": "2023-01-06T16:19:35.620138Z",
     "iopub.status.busy": "2023-01-06T16:19:35.618985Z",
     "iopub.status.idle": "2023-01-06T16:19:35.739417Z",
     "shell.execute_reply": "2023-01-06T16:19:35.738050Z"
    }
   },
   "outputs": [
    {
     "ename": "AssertionError",
     "evalue": "L.A. County's scraper is missing rows",
     "output_type": "error",
     "traceback": [
      "\u001b[0;31m---------------------------------------------------------------------------\u001b[0m",
      "\u001b[0;31mAssertionError\u001b[0m                            Traceback (most recent call last)",
      "\u001b[0;32m/tmp/ipykernel_2185/2999864733.py\u001b[0m in \u001b[0;36m<module>\u001b[0;34m\u001b[0m\n\u001b[1;32m      1\u001b[0m \u001b[0;32mtry\u001b[0m\u001b[0;34m:\u001b[0m\u001b[0;34m\u001b[0m\u001b[0;34m\u001b[0m\u001b[0m\n\u001b[0;32m----> 2\u001b[0;31m     \u001b[0;32massert\u001b[0m \u001b[0;32mnot\u001b[0m \u001b[0mlen\u001b[0m\u001b[0;34m(\u001b[0m\u001b[0mdf\u001b[0m\u001b[0;34m)\u001b[0m \u001b[0;34m<\u001b[0m \u001b[0;36m342\u001b[0m\u001b[0;34m\u001b[0m\u001b[0;34m\u001b[0m\u001b[0m\n\u001b[0m\u001b[1;32m      3\u001b[0m \u001b[0;32mexcept\u001b[0m \u001b[0mAssertionError\u001b[0m\u001b[0;34m:\u001b[0m\u001b[0;34m\u001b[0m\u001b[0;34m\u001b[0m\u001b[0m\n",
      "\u001b[0;31mAssertionError\u001b[0m: ",
      "\nDuring handling of the above exception, another exception occurred:\n",
      "\u001b[0;31mAssertionError\u001b[0m                            Traceback (most recent call last)",
      "\u001b[0;32m/tmp/ipykernel_2185/2999864733.py\u001b[0m in \u001b[0;36m<module>\u001b[0;34m\u001b[0m\n\u001b[1;32m      2\u001b[0m     \u001b[0;32massert\u001b[0m \u001b[0;32mnot\u001b[0m \u001b[0mlen\u001b[0m\u001b[0;34m(\u001b[0m\u001b[0mdf\u001b[0m\u001b[0;34m)\u001b[0m \u001b[0;34m<\u001b[0m \u001b[0;36m342\u001b[0m\u001b[0;34m\u001b[0m\u001b[0;34m\u001b[0m\u001b[0m\n\u001b[1;32m      3\u001b[0m \u001b[0;32mexcept\u001b[0m \u001b[0mAssertionError\u001b[0m\u001b[0;34m:\u001b[0m\u001b[0;34m\u001b[0m\u001b[0;34m\u001b[0m\u001b[0m\n\u001b[0;32m----> 4\u001b[0;31m     \u001b[0;32mraise\u001b[0m \u001b[0mAssertionError\u001b[0m\u001b[0;34m(\u001b[0m\u001b[0;34m\"L.A. County's scraper is missing rows\"\u001b[0m\u001b[0;34m)\u001b[0m\u001b[0;34m\u001b[0m\u001b[0;34m\u001b[0m\u001b[0m\n\u001b[0m",
      "\u001b[0;31mAssertionError\u001b[0m: L.A. County's scraper is missing rows"
     ]
    }
   ],
   "source": [
    "try:\n",
    "    assert not len(df) < 342\n",
    "except AssertionError:\n",
    "    raise AssertionError(\"L.A. County's scraper is missing rows\")"
   ]
  },
  {
   "cell_type": "markdown",
   "metadata": {},
   "source": [
    "## Export"
   ]
  },
  {
   "cell_type": "markdown",
   "metadata": {},
   "source": [
    "Set the date"
   ]
  },
  {
   "cell_type": "code",
   "execution_count": 67,
   "metadata": {},
   "outputs": [],
   "source": [
    "tz = pytz.timezone(\"America/Los_Angeles\")"
   ]
  },
  {
   "cell_type": "code",
   "execution_count": 68,
   "metadata": {},
   "outputs": [],
   "source": [
    "today = datetime.now(tz).date()"
   ]
  },
  {
   "cell_type": "code",
   "execution_count": 69,
   "metadata": {},
   "outputs": [],
   "source": [
    "slug = \"los-angeles\""
   ]
  },
  {
   "cell_type": "code",
   "execution_count": 70,
   "metadata": {},
   "outputs": [],
   "source": [
    "df.to_csv(data_dir / slug / f\"{today}.csv\", index=False)"
   ]
  },
  {
   "cell_type": "markdown",
   "metadata": {},
   "source": [
    "## Combine"
   ]
  },
  {
   "cell_type": "code",
   "execution_count": 71,
   "metadata": {},
   "outputs": [],
   "source": [
    "csv_list = [\n",
    "    i\n",
    "    for i in glob.glob(str(data_dir / slug / \"*.csv\"))\n",
    "    if not str(i).endswith(\"timeseries.csv\")\n",
    "]"
   ]
  },
  {
   "cell_type": "code",
   "execution_count": 72,
   "metadata": {},
   "outputs": [],
   "source": [
    "df_list = []\n",
    "for csv in csv_list:\n",
    "    if \"manual\" in csv:\n",
    "        df = pd.read_csv(csv, parse_dates=[\"date\"])\n",
    "    else:\n",
    "        file_date = csv.split(\"/\")[-1].replace(\".csv\", \"\")\n",
    "        df = pd.read_csv(csv, parse_dates=[\"county_date\"])\n",
    "        df[\"date\"] = file_date\n",
    "    df_list.append(df)"
   ]
  },
  {
   "cell_type": "code",
   "execution_count": 73,
   "metadata": {},
   "outputs": [],
   "source": [
    "df = pd.concat(df_list).sort_values([\"date\", \"area\"])"
   ]
  },
  {
   "cell_type": "code",
   "execution_count": 74,
   "metadata": {},
   "outputs": [],
   "source": [
    "df.to_csv(data_dir / slug / \"timeseries.csv\", index=False)"
   ]
  },
  {
   "cell_type": "code",
   "execution_count": null,
   "metadata": {},
   "outputs": [],
   "source": []
  },
  {
   "cell_type": "code",
   "execution_count": null,
   "metadata": {},
   "outputs": [],
   "source": []
  }
 ],
 "metadata": {
  "kernelspec": {
   "display_name": "Python 3 (ipykernel)",
   "language": "python",
   "name": "python3"
  },
  "language_info": {
   "codemirror_mode": {
    "name": "ipython",
    "version": 3
   },
   "file_extension": ".py",
   "mimetype": "text/x-python",
   "name": "python",
   "nbconvert_exporter": "python",
   "pygments_lexer": "ipython3",
   "version": "3.8.15"
  }
 },
 "nbformat": 4,
 "nbformat_minor": 4
}
