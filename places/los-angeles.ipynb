{
 "cells": [
  {
   "cell_type": "markdown",
   "metadata": {
    "tags": []
   },
   "source": [
    "## Configuration\n",
    "_Initial steps to get the notebook ready to play nice with our repository. Do not delete this section._"
   ]
  },
  {
   "cell_type": "markdown",
   "metadata": {},
   "source": [
    "Code formatting with [black](https://pypi.org/project/nb-black/)."
   ]
  },
  {
   "cell_type": "code",
   "execution_count": null,
   "metadata": {},
   "outputs": [],
   "source": []
  },
  {
   "cell_type": "code",
   "execution_count": 1,
   "metadata": {
    "execution": {
     "iopub.execute_input": "2023-03-07T12:17:15.204688Z",
     "iopub.status.busy": "2023-03-07T12:17:15.204346Z",
     "iopub.status.idle": "2023-03-07T12:17:15.212562Z",
     "shell.execute_reply": "2023-03-07T12:17:15.211672Z"
    }
   },
   "outputs": [],
   "source": [
    "import os\n",
    "import pathlib"
   ]
  },
  {
   "cell_type": "code",
   "execution_count": 2,
   "metadata": {
    "execution": {
     "iopub.execute_input": "2023-03-07T12:17:15.217038Z",
     "iopub.status.busy": "2023-03-07T12:17:15.216505Z",
     "iopub.status.idle": "2023-03-07T12:17:15.220994Z",
     "shell.execute_reply": "2023-03-07T12:17:15.220173Z"
    }
   },
   "outputs": [],
   "source": [
    "this_dir = pathlib.Path(os.path.abspath(\"\"))"
   ]
  },
  {
   "cell_type": "code",
   "execution_count": 3,
   "metadata": {
    "execution": {
     "iopub.execute_input": "2023-03-07T12:17:15.225240Z",
     "iopub.status.busy": "2023-03-07T12:17:15.224934Z",
     "iopub.status.idle": "2023-03-07T12:17:15.228789Z",
     "shell.execute_reply": "2023-03-07T12:17:15.228109Z"
    }
   },
   "outputs": [],
   "source": [
    "data_dir = this_dir / \"data\""
   ]
  },
  {
   "cell_type": "code",
   "execution_count": 4,
   "metadata": {
    "execution": {
     "iopub.execute_input": "2023-03-07T12:17:15.232133Z",
     "iopub.status.busy": "2023-03-07T12:17:15.231641Z",
     "iopub.status.idle": "2023-03-07T12:17:16.322480Z",
     "shell.execute_reply": "2023-03-07T12:17:16.321522Z"
    }
   },
   "outputs": [],
   "source": [
    "import re\n",
    "import pytz\n",
    "import glob\n",
    "import requests\n",
    "import unicodedata\n",
    "import pandas as pd\n",
    "from slugify import slugify\n",
    "from bs4 import BeautifulSoup\n",
    "from datetime import datetime, date"
   ]
  },
  {
   "cell_type": "markdown",
   "metadata": {},
   "source": [
    "## Download"
   ]
  },
  {
   "cell_type": "markdown",
   "metadata": {},
   "source": [
    "Retrieve the page"
   ]
  },
  {
   "cell_type": "code",
   "execution_count": 5,
   "metadata": {
    "execution": {
     "iopub.execute_input": "2023-03-07T12:17:16.327330Z",
     "iopub.status.busy": "2023-03-07T12:17:16.326680Z",
     "iopub.status.idle": "2023-03-07T12:17:16.332324Z",
     "shell.execute_reply": "2023-03-07T12:17:16.331408Z"
    }
   },
   "outputs": [],
   "source": [
    "url = \"http://publichealth.lacounty.gov/media/Coronavirus/locations.htm\""
   ]
  },
  {
   "cell_type": "code",
   "execution_count": 6,
   "metadata": {
    "execution": {
     "iopub.execute_input": "2023-03-07T12:17:16.336136Z",
     "iopub.status.busy": "2023-03-07T12:17:16.335611Z",
     "iopub.status.idle": "2023-03-07T12:17:16.778713Z",
     "shell.execute_reply": "2023-03-07T12:17:16.777808Z"
    }
   },
   "outputs": [],
   "source": [
    "page = requests.get(url)"
   ]
  },
  {
   "cell_type": "markdown",
   "metadata": {},
   "source": [
    "## Parse"
   ]
  },
  {
   "cell_type": "code",
   "execution_count": 7,
   "metadata": {
    "execution": {
     "iopub.execute_input": "2023-03-07T12:17:16.782919Z",
     "iopub.status.busy": "2023-03-07T12:17:16.782386Z",
     "iopub.status.idle": "2023-03-07T12:17:16.995688Z",
     "shell.execute_reply": "2023-03-07T12:17:16.994850Z"
    }
   },
   "outputs": [],
   "source": [
    "soup = BeautifulSoup(page.content, \"html.parser\")"
   ]
  },
  {
   "cell_type": "markdown",
   "metadata": {},
   "source": [
    "Get content well"
   ]
  },
  {
   "cell_type": "code",
   "execution_count": 8,
   "metadata": {
    "execution": {
     "iopub.execute_input": "2023-03-07T12:17:17.000381Z",
     "iopub.status.busy": "2023-03-07T12:17:16.999543Z",
     "iopub.status.idle": "2023-03-07T12:17:17.006656Z",
     "shell.execute_reply": "2023-03-07T12:17:17.005848Z"
    }
   },
   "outputs": [],
   "source": [
    "content = soup.find(\"div\", {\"id\": \"content\"})"
   ]
  },
  {
   "cell_type": "markdown",
   "metadata": {},
   "source": [
    "Get table"
   ]
  },
  {
   "cell_type": "code",
   "execution_count": 9,
   "metadata": {
    "execution": {
     "iopub.execute_input": "2023-03-07T12:17:17.011313Z",
     "iopub.status.busy": "2023-03-07T12:17:17.010539Z",
     "iopub.status.idle": "2023-03-07T12:17:17.025577Z",
     "shell.execute_reply": "2023-03-07T12:17:17.024887Z"
    }
   },
   "outputs": [
    {
     "name": "stderr",
     "output_type": "stream",
     "text": [
      "/tmp/ipykernel_1790/719696481.py:1: DeprecationWarning: The 'text' argument to find()-type methods is deprecated. Use 'string' instead.\n",
      "  for tag in content.find_all(text=re.compile(\"CITY/COMMUNITY\")):\n"
     ]
    }
   ],
   "source": [
    "for tag in content.find_all(text=re.compile(\"CITY/COMMUNITY\")):\n",
    "    table = tag.findParent(\"table\")"
   ]
  },
  {
   "cell_type": "code",
   "execution_count": 10,
   "metadata": {
    "execution": {
     "iopub.execute_input": "2023-03-07T12:17:17.072101Z",
     "iopub.status.busy": "2023-03-07T12:17:17.071501Z",
     "iopub.status.idle": "2023-03-07T12:17:17.077169Z",
     "shell.execute_reply": "2023-03-07T12:17:17.076401Z"
    }
   },
   "outputs": [],
   "source": [
    "tbody = soup.tbody"
   ]
  },
  {
   "cell_type": "code",
   "execution_count": 11,
   "metadata": {
    "execution": {
     "iopub.execute_input": "2023-03-07T12:17:17.080313Z",
     "iopub.status.busy": "2023-03-07T12:17:17.079853Z",
     "iopub.status.idle": "2023-03-07T12:17:17.085655Z",
     "shell.execute_reply": "2023-03-07T12:17:17.084884Z"
    }
   },
   "outputs": [],
   "source": [
    "row_list = tbody.find_all(\"tr\")"
   ]
  },
  {
   "cell_type": "code",
   "execution_count": 12,
   "metadata": {
    "execution": {
     "iopub.execute_input": "2023-03-07T12:17:17.089127Z",
     "iopub.status.busy": "2023-03-07T12:17:17.088651Z",
     "iopub.status.idle": "2023-03-07T12:17:17.092483Z",
     "shell.execute_reply": "2023-03-07T12:17:17.091702Z"
    }
   },
   "outputs": [],
   "source": [
    "dict_list = []"
   ]
  },
  {
   "cell_type": "code",
   "execution_count": 13,
   "metadata": {
    "execution": {
     "iopub.execute_input": "2023-03-07T12:17:17.095677Z",
     "iopub.status.busy": "2023-03-07T12:17:17.095146Z",
     "iopub.status.idle": "2023-03-07T12:17:17.099103Z",
     "shell.execute_reply": "2023-03-07T12:17:17.098439Z"
    }
   },
   "outputs": [],
   "source": [
    "def safetxt(element):\n",
    "    v = element.text.strip()\n",
    "    v = v.replace(\"\\u200b\", \"\")\n",
    "    return v"
   ]
  },
  {
   "cell_type": "code",
   "execution_count": 14,
   "metadata": {
    "execution": {
     "iopub.execute_input": "2023-03-07T12:17:17.102173Z",
     "iopub.status.busy": "2023-03-07T12:17:17.101641Z",
     "iopub.status.idle": "2023-03-07T12:17:17.105741Z",
     "shell.execute_reply": "2023-03-07T12:17:17.105115Z"
    }
   },
   "outputs": [],
   "source": [
    "def safenumber(element):\n",
    "    v = safetxt(element)\n",
    "    v = v.replace(\",\", \"\")\n",
    "    v = v.replace(\" \", \"\")\n",
    "    return v"
   ]
  },
  {
   "cell_type": "code",
   "execution_count": 15,
   "metadata": {
    "execution": {
     "iopub.execute_input": "2023-03-07T12:17:17.108844Z",
     "iopub.status.busy": "2023-03-07T12:17:17.108305Z",
     "iopub.status.idle": "2023-03-07T12:17:17.120677Z",
     "shell.execute_reply": "2023-03-07T12:17:17.119774Z"
    }
   },
   "outputs": [],
   "source": [
    "for row in row_list:\n",
    "    cell_content = row.find_all(\"td\")\n",
    "    d = dict(\n",
    "        county=\"Los Angeles\",\n",
    "        area=safetxt(cell_content[0]),\n",
    "        confirmed_cases=safenumber(cell_content[1]),\n",
    "        confirmed_deaths=safenumber(cell_content[3]),\n",
    "    )\n",
    "    dict_list.append(d)"
   ]
  },
  {
   "cell_type": "code",
   "execution_count": 16,
   "metadata": {
    "execution": {
     "iopub.execute_input": "2023-03-07T12:17:17.124631Z",
     "iopub.status.busy": "2023-03-07T12:17:17.124028Z",
     "iopub.status.idle": "2023-03-07T12:17:17.129806Z",
     "shell.execute_reply": "2023-03-07T12:17:17.128924Z"
    }
   },
   "outputs": [],
   "source": [
    "df = pd.DataFrame(dict_list)"
   ]
  },
  {
   "cell_type": "markdown",
   "metadata": {},
   "source": [
    "Get timestamp"
   ]
  },
  {
   "cell_type": "code",
   "execution_count": 17,
   "metadata": {
    "execution": {
     "iopub.execute_input": "2023-03-07T12:17:17.133302Z",
     "iopub.status.busy": "2023-03-07T12:17:17.132812Z",
     "iopub.status.idle": "2023-03-07T12:17:17.136665Z",
     "shell.execute_reply": "2023-03-07T12:17:17.135869Z"
    }
   },
   "outputs": [],
   "source": [
    "date_url = \"http://publichealth.lacounty.gov/media/Coronavirus/js/casecounter.js\""
   ]
  },
  {
   "cell_type": "code",
   "execution_count": 18,
   "metadata": {
    "execution": {
     "iopub.execute_input": "2023-03-07T12:17:17.139876Z",
     "iopub.status.busy": "2023-03-07T12:17:17.139429Z",
     "iopub.status.idle": "2023-03-07T12:17:17.582388Z",
     "shell.execute_reply": "2023-03-07T12:17:17.581439Z"
    }
   },
   "outputs": [],
   "source": [
    "response = requests.get(date_url)\n",
    "date_page = response.text"
   ]
  },
  {
   "cell_type": "code",
   "execution_count": 19,
   "metadata": {
    "execution": {
     "iopub.execute_input": "2023-03-07T12:17:17.586791Z",
     "iopub.status.busy": "2023-03-07T12:17:17.586216Z",
     "iopub.status.idle": "2023-03-07T12:17:17.593715Z",
     "shell.execute_reply": "2023-03-07T12:17:17.593082Z"
    }
   },
   "outputs": [
    {
     "data": {
      "text/plain": [
       "'$( document ).ready(function() {\\r\\n    var data = {\\r\\n\\t\\t\\t\\t    \"content\": { \\r\\n\\t\\t\\r\\n\\t\\t\\t\"count\": \"3,709,883\",\\r\\n\\r\\n\\r\\n\\t\\t\\t\"death\": \"35,771\",\\r\\n\\r\\n\\t\\t\\t\"dailycount\": \"1,893\",\\r\\n\\r\\n\\r\\n\\t\\t\\t\"dailydeath\": \"37\",\\r\\n\\t\\t\\t\"hospitalizationsever\": \"173,616\",\\r\\n\\r\\n\\r\\n\\t\\t\\t\"date\": \"03/06/23\",\\r\\n\\t\\t\\t\"info\": \"through 12:00pm 03/05/2023\",\\r\\n\\r\\n\\t\\t\\t\"testingaverage\": \"19,104\",\\r\\n\\r\\n\\t\\t\\t\"peopletested\": \"12,951,938\",\\r\\n\\r\\n\\t\\t\\t\"positivity\": \"5.29%\",\\r\\n\\r\\n\\t\\t\\t\"hospitalizations\": \"649\",\\r\\n\\t\\t\\t\"datehospitalizations\": \"3/3/23\"\\r\\n\\r\\n\\t\\t\\t\\t}       \\r\\n\\t\\t\\t\\t};\\t\\r\\n\\t\\t\\t\\t\\r\\n\\t\\t\\t\\t\\r\\n\\t\\t\\t\\tvar content = data.content;\\r\\n\\t\\t\\t\\t\\r\\n\\t\\t\\t\\t$(\\'#ctn\\').html(content.count);\\r\\n\\t\\t\\t\\t$(\\'#det\\').html(content.death);\\r\\n\\t\\t\\t\\t$(\\'#dctn\\').html(content.dailycount);\\r\\n\\t\\t\\t\\t$(\\'#ddet\\').html(content.dailydeath);\\r\\n\\t\\t\\t\\t$(\\'#hosp_1\\').html(content.hospitalizationsever);\\r\\n\\t\\t\\t\\t$(\\'#dte\\').html(content.date);\\r\\n\\t\\t\\t\\t$(\\'#dte_1\\').html(content.date);\\r\\n\\t\\t\\t\\t$(\\'#dte_2\\').html(content.date);\\r\\n\\t\\t\\t\\t$(\\'#dte_3\\').html(content.datehospitalizations);\\r\\n\\t\\t\\t\\t$(\\'#cse\\').html(content.info);\\t\\r\\n\\t\\t\\t\\r\\n\\t\\t\\t\\t\\r\\n\\t\\t\\t\\t$(\\'#tstavg\\').html(content.testingaverage);\\t\\r\\n\\t\\t\\t\\t$(\\'#ppltst\\').html(content.peopletested);\\t\\r\\n\\t\\t\\t\\t$(\\'#pos\\').html(content.positivity);\\t\\r\\n\\t\\t\\t\\t$(\\'#hosp\\').html(content.hospitalizations);\\r\\n\\t\\t\\t\\r\\n\\t\\t\\t\\t\\t\\t\\t\\r\\n\\r\\n\\r\\n});\\r\\n\\r\\n\\r\\n\\r\\n'"
      ]
     },
     "execution_count": 19,
     "metadata": {},
     "output_type": "execute_result"
    }
   ],
   "source": [
    "date_page"
   ]
  },
  {
   "cell_type": "code",
   "execution_count": 20,
   "metadata": {
    "execution": {
     "iopub.execute_input": "2023-03-07T12:17:17.597794Z",
     "iopub.status.busy": "2023-03-07T12:17:17.597148Z",
     "iopub.status.idle": "2023-03-07T12:17:17.600927Z",
     "shell.execute_reply": "2023-03-07T12:17:17.600061Z"
    }
   },
   "outputs": [],
   "source": [
    "# date_text = re.search(r\"([0-9][0-9]/[0-9][0-9])\", date_page).group(1)\n",
    "# date_text = date_text + \"/\" + str(date.today().year)"
   ]
  },
  {
   "cell_type": "code",
   "execution_count": 21,
   "metadata": {
    "execution": {
     "iopub.execute_input": "2023-03-07T12:17:17.604447Z",
     "iopub.status.busy": "2023-03-07T12:17:17.603960Z",
     "iopub.status.idle": "2023-03-07T12:17:17.608179Z",
     "shell.execute_reply": "2023-03-07T12:17:17.607365Z"
    }
   },
   "outputs": [],
   "source": [
    "date_text = re.search(r\"through (.+?)\\\"\", date_page).group(1)"
   ]
  },
  {
   "cell_type": "code",
   "execution_count": 22,
   "metadata": {
    "execution": {
     "iopub.execute_input": "2023-03-07T12:17:17.611839Z",
     "iopub.status.busy": "2023-03-07T12:17:17.611293Z",
     "iopub.status.idle": "2023-03-07T12:17:17.615499Z",
     "shell.execute_reply": "2023-03-07T12:17:17.614697Z"
    }
   },
   "outputs": [],
   "source": [
    "date_text = date_text.split(\"m \")[0]"
   ]
  },
  {
   "cell_type": "code",
   "execution_count": 23,
   "metadata": {
    "execution": {
     "iopub.execute_input": "2023-03-07T12:17:17.619099Z",
     "iopub.status.busy": "2023-03-07T12:17:17.618351Z",
     "iopub.status.idle": "2023-03-07T12:17:17.624038Z",
     "shell.execute_reply": "2023-03-07T12:17:17.623305Z"
    }
   },
   "outputs": [],
   "source": [
    "latest_date = pd.to_datetime(date_text).date()"
   ]
  },
  {
   "cell_type": "code",
   "execution_count": 24,
   "metadata": {
    "execution": {
     "iopub.execute_input": "2023-03-07T12:17:17.627784Z",
     "iopub.status.busy": "2023-03-07T12:17:17.627278Z",
     "iopub.status.idle": "2023-03-07T12:17:17.634067Z",
     "shell.execute_reply": "2023-03-07T12:17:17.633001Z"
    }
   },
   "outputs": [],
   "source": [
    "df[\"county_date\"] = latest_date"
   ]
  },
  {
   "cell_type": "code",
   "execution_count": 25,
   "metadata": {
    "execution": {
     "iopub.execute_input": "2023-03-07T12:17:17.638219Z",
     "iopub.status.busy": "2023-03-07T12:17:17.637601Z",
     "iopub.status.idle": "2023-03-07T12:17:17.644635Z",
     "shell.execute_reply": "2023-03-07T12:17:17.643811Z"
    }
   },
   "outputs": [],
   "source": [
    "df.loc[df.area == \"-  Under Investigation\", \"area\"] = \"Under Investigation\""
   ]
  },
  {
   "cell_type": "code",
   "execution_count": 26,
   "metadata": {
    "execution": {
     "iopub.execute_input": "2023-03-07T12:17:17.648978Z",
     "iopub.status.busy": "2023-03-07T12:17:17.648477Z",
     "iopub.status.idle": "2023-03-07T12:17:17.655354Z",
     "shell.execute_reply": "2023-03-07T12:17:17.654548Z"
    }
   },
   "outputs": [],
   "source": [
    "df.loc[df.area == \"- Under Investigation\", \"area\"] = \"Under Investigation\""
   ]
  },
  {
   "cell_type": "markdown",
   "metadata": {},
   "source": [
    "## Vet"
   ]
  },
  {
   "cell_type": "code",
   "execution_count": 27,
   "metadata": {
    "execution": {
     "iopub.execute_input": "2023-03-07T12:17:17.659512Z",
     "iopub.status.busy": "2023-03-07T12:17:17.658978Z",
     "iopub.status.idle": "2023-03-07T12:17:17.667457Z",
     "shell.execute_reply": "2023-03-07T12:17:17.666632Z"
    }
   },
   "outputs": [
    {
     "data": {
      "text/plain": [
       "342"
      ]
     },
     "execution_count": 27,
     "metadata": {},
     "output_type": "execute_result"
    }
   ],
   "source": [
    "len(df)"
   ]
  },
  {
   "cell_type": "code",
   "execution_count": 28,
   "metadata": {
    "execution": {
     "iopub.execute_input": "2023-03-07T12:17:17.672460Z",
     "iopub.status.busy": "2023-03-07T12:17:17.670923Z",
     "iopub.status.idle": "2023-03-07T12:17:17.868609Z",
     "shell.execute_reply": "2023-03-07T12:17:17.866370Z"
    }
   },
   "outputs": [
    {
     "ename": "AssertionError",
     "evalue": "L.A. County's scraper has extra rows",
     "output_type": "error",
     "traceback": [
      "\u001b[0;31m---------------------------------------------------------------------------\u001b[0m",
      "\u001b[0;31mAssertionError\u001b[0m                            Traceback (most recent call last)",
      "Cell \u001b[0;32mIn[28], line 2\u001b[0m\n\u001b[1;32m      1\u001b[0m \u001b[38;5;28;01mtry\u001b[39;00m:\n\u001b[0;32m----> 2\u001b[0m     \u001b[38;5;28;01massert\u001b[39;00m \u001b[38;5;129;01mnot\u001b[39;00m \u001b[38;5;28mlen\u001b[39m(df) \u001b[38;5;241m>\u001b[39m \u001b[38;5;241m340\u001b[39m\n\u001b[1;32m      3\u001b[0m \u001b[38;5;28;01mexcept\u001b[39;00m \u001b[38;5;167;01mAssertionError\u001b[39;00m:\n",
      "\u001b[0;31mAssertionError\u001b[0m: ",
      "\nDuring handling of the above exception, another exception occurred:\n",
      "\u001b[0;31mAssertionError\u001b[0m                            Traceback (most recent call last)",
      "Cell \u001b[0;32mIn[28], line 4\u001b[0m\n\u001b[1;32m      2\u001b[0m     \u001b[38;5;28;01massert\u001b[39;00m \u001b[38;5;129;01mnot\u001b[39;00m \u001b[38;5;28mlen\u001b[39m(df) \u001b[38;5;241m>\u001b[39m \u001b[38;5;241m340\u001b[39m\n\u001b[1;32m      3\u001b[0m \u001b[38;5;28;01mexcept\u001b[39;00m \u001b[38;5;167;01mAssertionError\u001b[39;00m:\n\u001b[0;32m----> 4\u001b[0m     \u001b[38;5;28;01mraise\u001b[39;00m \u001b[38;5;167;01mAssertionError\u001b[39;00m(\u001b[38;5;124m\"\u001b[39m\u001b[38;5;124mL.A. County\u001b[39m\u001b[38;5;124m'\u001b[39m\u001b[38;5;124ms scraper has extra rows\u001b[39m\u001b[38;5;124m\"\u001b[39m)\n",
      "\u001b[0;31mAssertionError\u001b[0m: L.A. County's scraper has extra rows"
     ]
    }
   ],
   "source": [
    "try:\n",
    "    assert not len(df) > 340\n",
    "except AssertionError:\n",
    "    raise AssertionError(\"L.A. County's scraper has extra rows\")"
   ]
  },
  {
   "cell_type": "code",
   "execution_count": 31,
   "metadata": {},
   "outputs": [],
   "source": [
    "try:\n",
    "    assert not len(df) < 340\n",
    "except AssertionError:\n",
    "    raise AssertionError(\"L.A. County's scraper is missing rows\")"
   ]
  },
  {
   "cell_type": "markdown",
   "metadata": {},
   "source": [
    "## Export"
   ]
  },
  {
   "cell_type": "markdown",
   "metadata": {},
   "source": [
    "Set the date"
   ]
  },
  {
   "cell_type": "code",
   "execution_count": 32,
   "metadata": {},
   "outputs": [],
   "source": [
    "tz = pytz.timezone(\"America/Los_Angeles\")"
   ]
  },
  {
   "cell_type": "code",
   "execution_count": 33,
   "metadata": {},
   "outputs": [],
   "source": [
    "today = datetime.now(tz).date()"
   ]
  },
  {
   "cell_type": "code",
   "execution_count": 34,
   "metadata": {},
   "outputs": [],
   "source": [
    "slug = \"los-angeles\""
   ]
  },
  {
   "cell_type": "code",
   "execution_count": 35,
   "metadata": {},
   "outputs": [],
   "source": [
    "df.to_csv(data_dir / slug / f\"{today}.csv\", index=False)"
   ]
  },
  {
   "cell_type": "markdown",
   "metadata": {},
   "source": [
    "## Combine"
   ]
  },
  {
   "cell_type": "code",
   "execution_count": 36,
   "metadata": {},
   "outputs": [],
   "source": [
    "csv_list = [\n",
    "    i\n",
    "    for i in glob.glob(str(data_dir / slug / \"*.csv\"))\n",
    "    if not str(i).endswith(\"timeseries.csv\")\n",
    "]"
   ]
  },
  {
   "cell_type": "code",
   "execution_count": 37,
   "metadata": {},
   "outputs": [],
   "source": [
    "df_list = []\n",
    "for csv in csv_list:\n",
    "    if \"manual\" in csv:\n",
    "        df = pd.read_csv(csv, parse_dates=[\"date\"])\n",
    "    else:\n",
    "        file_date = csv.split(\"/\")[-1].replace(\".csv\", \"\")\n",
    "        df = pd.read_csv(csv, parse_dates=[\"county_date\"])\n",
    "        df[\"date\"] = file_date\n",
    "    df_list.append(df)"
   ]
  },
  {
   "cell_type": "code",
   "execution_count": 38,
   "metadata": {},
   "outputs": [],
   "source": [
    "df = pd.concat(df_list).sort_values([\"date\", \"area\"])"
   ]
  },
  {
   "cell_type": "code",
   "execution_count": 39,
   "metadata": {},
   "outputs": [],
   "source": [
    "df.to_csv(data_dir / slug / \"timeseries.csv\", index=False)"
   ]
  },
  {
   "cell_type": "code",
   "execution_count": null,
   "metadata": {},
   "outputs": [],
   "source": []
  },
  {
   "cell_type": "code",
   "execution_count": null,
   "metadata": {},
   "outputs": [],
   "source": []
  }
 ],
 "metadata": {
  "kernelspec": {
   "display_name": "Python 3 (ipykernel)",
   "language": "python",
   "name": "python3"
  },
  "language_info": {
   "codemirror_mode": {
    "name": "ipython",
    "version": 3
   },
   "file_extension": ".py",
   "mimetype": "text/x-python",
   "name": "python",
   "nbconvert_exporter": "python",
   "pygments_lexer": "ipython3",
   "version": "3.8.16"
  }
 },
 "nbformat": 4,
 "nbformat_minor": 4
}
