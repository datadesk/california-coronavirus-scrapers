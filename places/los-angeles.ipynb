{
 "cells": [
  {
   "cell_type": "markdown",
   "metadata": {
    "tags": []
   },
   "source": [
    "## Configuration\n",
    "_Initial steps to get the notebook ready to play nice with our repository. Do not delete this section._"
   ]
  },
  {
   "cell_type": "markdown",
   "metadata": {},
   "source": [
    "Code formatting with [black](https://pypi.org/project/nb-black/)."
   ]
  },
  {
   "cell_type": "code",
   "execution_count": 1,
   "metadata": {
    "execution": {
     "iopub.execute_input": "2022-12-25T00:28:59.247216Z",
     "iopub.status.busy": "2022-12-25T00:28:59.241628Z",
     "iopub.status.idle": "2022-12-25T00:28:59.384000Z",
     "shell.execute_reply": "2022-12-25T00:28:59.383091Z"
    }
   },
   "outputs": [],
   "source": [
    "%load_ext lab_black"
   ]
  },
  {
   "cell_type": "code",
   "execution_count": 2,
   "metadata": {
    "execution": {
     "iopub.execute_input": "2022-12-25T00:28:59.388205Z",
     "iopub.status.busy": "2022-12-25T00:28:59.387770Z",
     "iopub.status.idle": "2022-12-25T00:28:59.390590Z",
     "shell.execute_reply": "2022-12-25T00:28:59.390219Z"
    }
   },
   "outputs": [],
   "source": [
    "import os\n",
    "import pathlib"
   ]
  },
  {
   "cell_type": "code",
   "execution_count": 3,
   "metadata": {
    "execution": {
     "iopub.execute_input": "2022-12-25T00:28:59.396545Z",
     "iopub.status.busy": "2022-12-25T00:28:59.396078Z",
     "iopub.status.idle": "2022-12-25T00:28:59.398998Z",
     "shell.execute_reply": "2022-12-25T00:28:59.398586Z"
    }
   },
   "outputs": [],
   "source": [
    "this_dir = pathlib.Path(os.path.abspath(\"\"))"
   ]
  },
  {
   "cell_type": "code",
   "execution_count": 4,
   "metadata": {
    "execution": {
     "iopub.execute_input": "2022-12-25T00:28:59.403248Z",
     "iopub.status.busy": "2022-12-25T00:28:59.402812Z",
     "iopub.status.idle": "2022-12-25T00:28:59.405418Z",
     "shell.execute_reply": "2022-12-25T00:28:59.405769Z"
    }
   },
   "outputs": [],
   "source": [
    "data_dir = this_dir / \"data\""
   ]
  },
  {
   "cell_type": "code",
   "execution_count": 5,
   "metadata": {
    "execution": {
     "iopub.execute_input": "2022-12-25T00:28:59.409776Z",
     "iopub.status.busy": "2022-12-25T00:28:59.408987Z",
     "iopub.status.idle": "2022-12-25T00:28:59.790041Z",
     "shell.execute_reply": "2022-12-25T00:28:59.789275Z"
    }
   },
   "outputs": [],
   "source": [
    "import re\n",
    "import pytz\n",
    "import glob\n",
    "import requests\n",
    "import unicodedata\n",
    "import pandas as pd\n",
    "from slugify import slugify\n",
    "from bs4 import BeautifulSoup\n",
    "from datetime import datetime, date"
   ]
  },
  {
   "cell_type": "markdown",
   "metadata": {},
   "source": [
    "## Download"
   ]
  },
  {
   "cell_type": "markdown",
   "metadata": {},
   "source": [
    "Retrieve the page"
   ]
  },
  {
   "cell_type": "code",
   "execution_count": 6,
   "metadata": {
    "execution": {
     "iopub.execute_input": "2022-12-25T00:28:59.794477Z",
     "iopub.status.busy": "2022-12-25T00:28:59.794044Z",
     "iopub.status.idle": "2022-12-25T00:28:59.796539Z",
     "shell.execute_reply": "2022-12-25T00:28:59.796896Z"
    }
   },
   "outputs": [],
   "source": [
    "url = \"http://publichealth.lacounty.gov/media/Coronavirus/locations.htm\""
   ]
  },
  {
   "cell_type": "code",
   "execution_count": 7,
   "metadata": {
    "execution": {
     "iopub.execute_input": "2022-12-25T00:28:59.803625Z",
     "iopub.status.busy": "2022-12-25T00:28:59.799795Z",
     "iopub.status.idle": "2022-12-25T00:29:00.325954Z",
     "shell.execute_reply": "2022-12-25T00:29:00.325140Z"
    }
   },
   "outputs": [],
   "source": [
    "page = requests.get(url)"
   ]
  },
  {
   "cell_type": "markdown",
   "metadata": {},
   "source": [
    "## Parse"
   ]
  },
  {
   "cell_type": "code",
   "execution_count": 8,
   "metadata": {
    "execution": {
     "iopub.execute_input": "2022-12-25T00:29:00.338468Z",
     "iopub.status.busy": "2022-12-25T00:29:00.333261Z",
     "iopub.status.idle": "2022-12-25T00:29:00.512557Z",
     "shell.execute_reply": "2022-12-25T00:29:00.512122Z"
    }
   },
   "outputs": [],
   "source": [
    "soup = BeautifulSoup(page.content, \"html.parser\")"
   ]
  },
  {
   "cell_type": "markdown",
   "metadata": {},
   "source": [
    "Get content well"
   ]
  },
  {
   "cell_type": "code",
   "execution_count": 9,
   "metadata": {
    "execution": {
     "iopub.execute_input": "2022-12-25T00:29:00.514839Z",
     "iopub.status.busy": "2022-12-25T00:29:00.514435Z",
     "iopub.status.idle": "2022-12-25T00:29:00.519498Z",
     "shell.execute_reply": "2022-12-25T00:29:00.519895Z"
    }
   },
   "outputs": [],
   "source": [
    "content = soup.find(\"div\", {\"id\": \"content\"})"
   ]
  },
  {
   "cell_type": "markdown",
   "metadata": {},
   "source": [
    "Get table"
   ]
  },
  {
   "cell_type": "code",
   "execution_count": 10,
   "metadata": {
    "execution": {
     "iopub.execute_input": "2022-12-25T00:29:00.526986Z",
     "iopub.status.busy": "2022-12-25T00:29:00.521596Z",
     "iopub.status.idle": "2022-12-25T00:29:00.539140Z",
     "shell.execute_reply": "2022-12-25T00:29:00.538761Z"
    }
   },
   "outputs": [],
   "source": [
    "for tag in content.find_all(text=re.compile(\"CITY/COMMUNITY\")):\n",
    "    table = tag.findParent(\"table\")"
   ]
  },
  {
   "cell_type": "code",
   "execution_count": 11,
   "metadata": {
    "execution": {
     "iopub.execute_input": "2022-12-25T00:29:00.543615Z",
     "iopub.status.busy": "2022-12-25T00:29:00.543214Z",
     "iopub.status.idle": "2022-12-25T00:29:00.546292Z",
     "shell.execute_reply": "2022-12-25T00:29:00.545936Z"
    }
   },
   "outputs": [],
   "source": [
    "tbody = soup.tbody"
   ]
  },
  {
   "cell_type": "code",
   "execution_count": 12,
   "metadata": {
    "execution": {
     "iopub.execute_input": "2022-12-25T00:29:00.550892Z",
     "iopub.status.busy": "2022-12-25T00:29:00.550480Z",
     "iopub.status.idle": "2022-12-25T00:29:00.553352Z",
     "shell.execute_reply": "2022-12-25T00:29:00.553014Z"
    }
   },
   "outputs": [],
   "source": [
    "row_list = tbody.find_all(\"tr\")"
   ]
  },
  {
   "cell_type": "code",
   "execution_count": 13,
   "metadata": {
    "execution": {
     "iopub.execute_input": "2022-12-25T00:29:00.556976Z",
     "iopub.status.busy": "2022-12-25T00:29:00.556008Z",
     "iopub.status.idle": "2022-12-25T00:29:00.558674Z",
     "shell.execute_reply": "2022-12-25T00:29:00.558332Z"
    }
   },
   "outputs": [],
   "source": [
    "dict_list = []"
   ]
  },
  {
   "cell_type": "code",
   "execution_count": 14,
   "metadata": {
    "execution": {
     "iopub.execute_input": "2022-12-25T00:29:00.562371Z",
     "iopub.status.busy": "2022-12-25T00:29:00.561942Z",
     "iopub.status.idle": "2022-12-25T00:29:00.566028Z",
     "shell.execute_reply": "2022-12-25T00:29:00.565683Z"
    }
   },
   "outputs": [],
   "source": [
    "def safetxt(element):\n",
    "    v = element.text.strip()\n",
    "    v = v.replace(\"\\u200b\", \"\")\n",
    "    return v"
   ]
  },
  {
   "cell_type": "code",
   "execution_count": 15,
   "metadata": {
    "execution": {
     "iopub.execute_input": "2022-12-25T00:29:00.572686Z",
     "iopub.status.busy": "2022-12-25T00:29:00.572232Z",
     "iopub.status.idle": "2022-12-25T00:29:00.574146Z",
     "shell.execute_reply": "2022-12-25T00:29:00.573776Z"
    }
   },
   "outputs": [],
   "source": [
    "def safenumber(element):\n",
    "    v = safetxt(element)\n",
    "    v = v.replace(\",\", \"\")\n",
    "    v = v.replace(\" \", \"\")\n",
    "    return v"
   ]
  },
  {
   "cell_type": "code",
   "execution_count": 16,
   "metadata": {
    "execution": {
     "iopub.execute_input": "2022-12-25T00:29:00.584216Z",
     "iopub.status.busy": "2022-12-25T00:29:00.580807Z",
     "iopub.status.idle": "2022-12-25T00:29:00.591052Z",
     "shell.execute_reply": "2022-12-25T00:29:00.591386Z"
    }
   },
   "outputs": [],
   "source": [
    "for row in row_list:\n",
    "    cell_content = row.find_all(\"td\")\n",
    "    d = dict(\n",
    "        county=\"Los Angeles\",\n",
    "        area=safetxt(cell_content[0]),\n",
    "        confirmed_cases=safenumber(cell_content[1]),\n",
    "        confirmed_deaths=safenumber(cell_content[3]),\n",
    "    )\n",
    "    dict_list.append(d)"
   ]
  },
  {
   "cell_type": "code",
   "execution_count": 17,
   "metadata": {
    "execution": {
     "iopub.execute_input": "2022-12-25T00:29:00.595353Z",
     "iopub.status.busy": "2022-12-25T00:29:00.594946Z",
     "iopub.status.idle": "2022-12-25T00:29:00.597940Z",
     "shell.execute_reply": "2022-12-25T00:29:00.597600Z"
    }
   },
   "outputs": [],
   "source": [
    "df = pd.DataFrame(dict_list)"
   ]
  },
  {
   "cell_type": "markdown",
   "metadata": {},
   "source": [
    "Get timestamp"
   ]
  },
  {
   "cell_type": "code",
   "execution_count": 18,
   "metadata": {
    "execution": {
     "iopub.execute_input": "2022-12-25T00:29:00.600952Z",
     "iopub.status.busy": "2022-12-25T00:29:00.600526Z",
     "iopub.status.idle": "2022-12-25T00:29:00.603221Z",
     "shell.execute_reply": "2022-12-25T00:29:00.602882Z"
    }
   },
   "outputs": [],
   "source": [
    "date_url = \"http://publichealth.lacounty.gov/media/Coronavirus/js/casecounter.js\""
   ]
  },
  {
   "cell_type": "code",
   "execution_count": 19,
   "metadata": {
    "execution": {
     "iopub.execute_input": "2022-12-25T00:29:00.608768Z",
     "iopub.status.busy": "2022-12-25T00:29:00.608335Z",
     "iopub.status.idle": "2022-12-25T00:29:00.836693Z",
     "shell.execute_reply": "2022-12-25T00:29:00.835913Z"
    }
   },
   "outputs": [],
   "source": [
    "response = requests.get(date_url)\n",
    "date_page = response.text"
   ]
  },
  {
   "cell_type": "code",
   "execution_count": 20,
   "metadata": {
    "execution": {
     "iopub.execute_input": "2022-12-25T00:29:00.845062Z",
     "iopub.status.busy": "2022-12-25T00:29:00.844601Z",
     "iopub.status.idle": "2022-12-25T00:29:00.848270Z",
     "shell.execute_reply": "2022-12-25T00:29:00.847908Z"
    }
   },
   "outputs": [
    {
     "data": {
      "text/plain": [
       "'$( document ).ready(function() {\\r\\n    var data = {\\r\\n\\t\\t\\t\\t    \"content\": { \\r\\n\\t\\t\\r\\n\\t\\t\\t\"count\": \"3,615,292\",\\r\\n\\r\\n\\r\\n\\t\\t\\t\"death\": \"34,561\",\\r\\n\\r\\n\\t\\t\\t\"dailycount\": \"3,006\",\\r\\n\\r\\n\\r\\n\\t\\t\\t\"dailydeath\": \"23\",\\r\\n\\t\\t\\t\"hospitalizationsever\": \"164,905\",\\r\\n\\r\\n\\r\\n\\t\\t\\t\"date\": \"12/23\",\\r\\n\\t\\t\\t\"info\": \"through 12:00pm 12/22/2022\",\\r\\n\\r\\n\\t\\t\\t\"testingaverage\": \"28,859\",\\r\\n\\r\\n\\t\\t\\t\"peopletested\": \"12,805,439\",\\r\\n\\r\\n\\t\\t\\t\"positivity\": \"10.22%\",\\r\\n\\r\\n\\t\\t\\t\"hospitalizations\": \"1,201\",\\r\\n\\t\\t\\t\"datehospitalizations\": \"12/22\"\\r\\n\\r\\n\\t\\t\\t\\t}       \\r\\n\\t\\t\\t\\t};\\t\\r\\n\\t\\t\\t\\t\\r\\n\\t\\t\\t\\t\\r\\n\\t\\t\\t\\tvar content = data.content;\\r\\n\\t\\t\\t\\t\\r\\n\\t\\t\\t\\t$(\\'#ctn\\').html(content.count);\\r\\n\\t\\t\\t\\t$(\\'#det\\').html(content.death);\\r\\n\\t\\t\\t\\t$(\\'#dctn\\').html(content.dailycount);\\r\\n\\t\\t\\t\\t$(\\'#ddet\\').html(content.dailydeath);\\r\\n\\t\\t\\t\\t$(\\'#hosp_1\\').html(content.hospitalizationsever);\\r\\n\\t\\t\\t\\t$(\\'#dte\\').html(content.date);\\r\\n\\t\\t\\t\\t$(\\'#dte_1\\').html(content.date);\\r\\n\\t\\t\\t\\t$(\\'#dte_2\\').html(content.date);\\r\\n\\t\\t\\t\\t$(\\'#dte_3\\').html(content.datehospitalizations);\\r\\n\\t\\t\\t\\t$(\\'#cse\\').html(content.info);\\t\\r\\n\\t\\t\\t\\r\\n\\t\\t\\t\\t\\r\\n\\t\\t\\t\\t$(\\'#tstavg\\').html(content.testingaverage);\\t\\r\\n\\t\\t\\t\\t$(\\'#ppltst\\').html(content.peopletested);\\t\\r\\n\\t\\t\\t\\t$(\\'#pos\\').html(content.positivity);\\t\\r\\n\\t\\t\\t\\t$(\\'#hosp\\').html(content.hospitalizations);\\r\\n\\t\\t\\t\\r\\n\\t\\t\\t\\t\\t\\t\\t\\r\\n\\r\\n\\r\\n});\\r\\n\\r\\n\\r\\n\\r\\n'"
      ]
     },
     "execution_count": 20,
     "metadata": {},
     "output_type": "execute_result"
    }
   ],
   "source": [
    "date_page"
   ]
  },
  {
   "cell_type": "code",
   "execution_count": 21,
   "metadata": {
    "execution": {
     "iopub.execute_input": "2022-12-25T00:29:00.852148Z",
     "iopub.status.busy": "2022-12-25T00:29:00.851450Z",
     "iopub.status.idle": "2022-12-25T00:29:00.853327Z",
     "shell.execute_reply": "2022-12-25T00:29:00.852900Z"
    }
   },
   "outputs": [],
   "source": [
    "# date_text = re.search(r\"([0-9][0-9]/[0-9][0-9])\", date_page).group(1)\n",
    "# date_text = date_text + \"/\" + str(date.today().year)"
   ]
  },
  {
   "cell_type": "code",
   "execution_count": 22,
   "metadata": {
    "execution": {
     "iopub.execute_input": "2022-12-25T00:29:00.858731Z",
     "iopub.status.busy": "2022-12-25T00:29:00.857997Z",
     "iopub.status.idle": "2022-12-25T00:29:00.859729Z",
     "shell.execute_reply": "2022-12-25T00:29:00.859391Z"
    }
   },
   "outputs": [],
   "source": [
    "date_text = re.search(r\"through (.+?)\\\"\", date_page).group(1)"
   ]
  },
  {
   "cell_type": "code",
   "execution_count": 23,
   "metadata": {
    "execution": {
     "iopub.execute_input": "2022-12-25T00:29:00.862971Z",
     "iopub.status.busy": "2022-12-25T00:29:00.862561Z",
     "iopub.status.idle": "2022-12-25T00:29:00.865647Z",
     "shell.execute_reply": "2022-12-25T00:29:00.865298Z"
    }
   },
   "outputs": [],
   "source": [
    "date_text = date_text.split(\"m \")[0]"
   ]
  },
  {
   "cell_type": "code",
   "execution_count": 24,
   "metadata": {
    "execution": {
     "iopub.execute_input": "2022-12-25T00:29:00.869150Z",
     "iopub.status.busy": "2022-12-25T00:29:00.868739Z",
     "iopub.status.idle": "2022-12-25T00:29:00.871857Z",
     "shell.execute_reply": "2022-12-25T00:29:00.871507Z"
    }
   },
   "outputs": [],
   "source": [
    "latest_date = pd.to_datetime(date_text).date()"
   ]
  },
  {
   "cell_type": "code",
   "execution_count": 25,
   "metadata": {
    "execution": {
     "iopub.execute_input": "2022-12-25T00:29:00.876640Z",
     "iopub.status.busy": "2022-12-25T00:29:00.876144Z",
     "iopub.status.idle": "2022-12-25T00:29:00.878179Z",
     "shell.execute_reply": "2022-12-25T00:29:00.877811Z"
    }
   },
   "outputs": [],
   "source": [
    "df[\"county_date\"] = latest_date"
   ]
  },
  {
   "cell_type": "code",
   "execution_count": 26,
   "metadata": {
    "execution": {
     "iopub.execute_input": "2022-12-25T00:29:00.884745Z",
     "iopub.status.busy": "2022-12-25T00:29:00.884283Z",
     "iopub.status.idle": "2022-12-25T00:29:00.886265Z",
     "shell.execute_reply": "2022-12-25T00:29:00.885901Z"
    }
   },
   "outputs": [],
   "source": [
    "df.loc[df.area == \"-  Under Investigation\", \"area\"] = \"Under Investigation\""
   ]
  },
  {
   "cell_type": "code",
   "execution_count": 27,
   "metadata": {
    "execution": {
     "iopub.execute_input": "2022-12-25T00:29:00.890032Z",
     "iopub.status.busy": "2022-12-25T00:29:00.889629Z",
     "iopub.status.idle": "2022-12-25T00:29:00.892988Z",
     "shell.execute_reply": "2022-12-25T00:29:00.892619Z"
    }
   },
   "outputs": [],
   "source": [
    "df.loc[df.area == \"- Under Investigation\", \"area\"] = \"Under Investigation\""
   ]
  },
  {
   "cell_type": "markdown",
   "metadata": {},
   "source": [
    "## Vet"
   ]
  },
  {
   "cell_type": "code",
   "execution_count": 28,
   "metadata": {
    "execution": {
     "iopub.execute_input": "2022-12-25T00:29:00.896166Z",
     "iopub.status.busy": "2022-12-25T00:29:00.895773Z",
     "iopub.status.idle": "2022-12-25T00:29:00.898903Z",
     "shell.execute_reply": "2022-12-25T00:29:00.898530Z"
    }
   },
   "outputs": [
    {
     "data": {
      "text/plain": [
       "341"
      ]
     },
     "execution_count": 28,
     "metadata": {},
     "output_type": "execute_result"
    }
   ],
   "source": [
    "len(df)"
   ]
  },
  {
   "cell_type": "code",
   "execution_count": 29,
   "metadata": {
    "execution": {
     "iopub.execute_input": "2022-12-25T00:29:00.902144Z",
     "iopub.status.busy": "2022-12-25T00:29:00.901733Z",
     "iopub.status.idle": "2022-12-25T00:29:00.906697Z",
     "shell.execute_reply": "2022-12-25T00:29:00.906337Z"
    }
   },
   "outputs": [],
   "source": [
    "try:\n",
    "    assert not len(df) > 342\n",
    "except AssertionError:\n",
    "    raise AssertionError(\"L.A. County's scraper has extra rows\")"
   ]
  },
  {
   "cell_type": "raw",
   "metadata": {},
   "source": [
    "older = pd.read_csv(\"data/los-angeles/2022-12-06.csv\")"
   ]
  },
  {
   "cell_type": "raw",
   "metadata": {},
   "source": [
    "list(set(older.area.tolist()).difference(df.area.tolist()))"
   ]
  },
  {
   "cell_type": "raw",
   "metadata": {},
   "source": [
    "older[older.area == \"Unincorporated - Rosewood\"]"
   ]
  },
  {
   "cell_type": "code",
   "execution_count": 30,
   "metadata": {
    "execution": {
     "iopub.execute_input": "2022-12-25T00:29:00.910053Z",
     "iopub.status.busy": "2022-12-25T00:29:00.909617Z",
     "iopub.status.idle": "2022-12-25T00:29:01.031089Z",
     "shell.execute_reply": "2022-12-25T00:29:01.030471Z"
    }
   },
   "outputs": [
    {
     "ename": "AssertionError",
     "evalue": "L.A. County's scraper is missing rows",
     "output_type": "error",
     "traceback": [
      "\u001b[0;31m---------------------------------------------------------------------------\u001b[0m",
      "\u001b[0;31mAssertionError\u001b[0m                            Traceback (most recent call last)",
      "\u001b[0;32m/tmp/ipykernel_2320/2999864733.py\u001b[0m in \u001b[0;36m<module>\u001b[0;34m\u001b[0m\n\u001b[1;32m      1\u001b[0m \u001b[0;32mtry\u001b[0m\u001b[0;34m:\u001b[0m\u001b[0;34m\u001b[0m\u001b[0;34m\u001b[0m\u001b[0m\n\u001b[0;32m----> 2\u001b[0;31m     \u001b[0;32massert\u001b[0m \u001b[0;32mnot\u001b[0m \u001b[0mlen\u001b[0m\u001b[0;34m(\u001b[0m\u001b[0mdf\u001b[0m\u001b[0;34m)\u001b[0m \u001b[0;34m<\u001b[0m \u001b[0;36m342\u001b[0m\u001b[0;34m\u001b[0m\u001b[0;34m\u001b[0m\u001b[0m\n\u001b[0m\u001b[1;32m      3\u001b[0m \u001b[0;32mexcept\u001b[0m \u001b[0mAssertionError\u001b[0m\u001b[0;34m:\u001b[0m\u001b[0;34m\u001b[0m\u001b[0;34m\u001b[0m\u001b[0m\n",
      "\u001b[0;31mAssertionError\u001b[0m: ",
      "\nDuring handling of the above exception, another exception occurred:\n",
      "\u001b[0;31mAssertionError\u001b[0m                            Traceback (most recent call last)",
      "\u001b[0;32m/tmp/ipykernel_2320/2999864733.py\u001b[0m in \u001b[0;36m<module>\u001b[0;34m\u001b[0m\n\u001b[1;32m      2\u001b[0m     \u001b[0;32massert\u001b[0m \u001b[0;32mnot\u001b[0m \u001b[0mlen\u001b[0m\u001b[0;34m(\u001b[0m\u001b[0mdf\u001b[0m\u001b[0;34m)\u001b[0m \u001b[0;34m<\u001b[0m \u001b[0;36m342\u001b[0m\u001b[0;34m\u001b[0m\u001b[0;34m\u001b[0m\u001b[0m\n\u001b[1;32m      3\u001b[0m \u001b[0;32mexcept\u001b[0m \u001b[0mAssertionError\u001b[0m\u001b[0;34m:\u001b[0m\u001b[0;34m\u001b[0m\u001b[0;34m\u001b[0m\u001b[0m\n\u001b[0;32m----> 4\u001b[0;31m     \u001b[0;32mraise\u001b[0m \u001b[0mAssertionError\u001b[0m\u001b[0;34m(\u001b[0m\u001b[0;34m\"L.A. County's scraper is missing rows\"\u001b[0m\u001b[0;34m)\u001b[0m\u001b[0;34m\u001b[0m\u001b[0;34m\u001b[0m\u001b[0m\n\u001b[0m",
      "\u001b[0;31mAssertionError\u001b[0m: L.A. County's scraper is missing rows"
     ]
    }
   ],
   "source": [
    "try:\n",
    "    assert not len(df) < 342\n",
    "except AssertionError:\n",
    "    raise AssertionError(\"L.A. County's scraper is missing rows\")"
   ]
  },
  {
   "cell_type": "markdown",
   "metadata": {},
   "source": [
    "## Export"
   ]
  },
  {
   "cell_type": "markdown",
   "metadata": {},
   "source": [
    "Set the date"
   ]
  },
  {
   "cell_type": "code",
   "execution_count": 33,
   "metadata": {},
   "outputs": [],
   "source": [
    "tz = pytz.timezone(\"America/Los_Angeles\")"
   ]
  },
  {
   "cell_type": "code",
   "execution_count": 34,
   "metadata": {},
   "outputs": [],
   "source": [
    "today = datetime.now(tz).date()"
   ]
  },
  {
   "cell_type": "code",
   "execution_count": 35,
   "metadata": {},
   "outputs": [],
   "source": [
    "slug = \"los-angeles\""
   ]
  },
  {
   "cell_type": "code",
   "execution_count": 36,
   "metadata": {},
   "outputs": [],
   "source": [
    "df.to_csv(data_dir / slug / f\"{today}.csv\", index=False)"
   ]
  },
  {
   "cell_type": "markdown",
   "metadata": {},
   "source": [
    "## Combine"
   ]
  },
  {
   "cell_type": "code",
   "execution_count": 37,
   "metadata": {},
   "outputs": [],
   "source": [
    "csv_list = [\n",
    "    i\n",
    "    for i in glob.glob(str(data_dir / slug / \"*.csv\"))\n",
    "    if not str(i).endswith(\"timeseries.csv\")\n",
    "]"
   ]
  },
  {
   "cell_type": "code",
   "execution_count": 38,
   "metadata": {},
   "outputs": [],
   "source": [
    "df_list = []\n",
    "for csv in csv_list:\n",
    "    if \"manual\" in csv:\n",
    "        df = pd.read_csv(csv, parse_dates=[\"date\"])\n",
    "    else:\n",
    "        file_date = csv.split(\"/\")[-1].replace(\".csv\", \"\")\n",
    "        df = pd.read_csv(csv, parse_dates=[\"county_date\"])\n",
    "        df[\"date\"] = file_date\n",
    "    df_list.append(df)"
   ]
  },
  {
   "cell_type": "code",
   "execution_count": 39,
   "metadata": {},
   "outputs": [],
   "source": [
    "df = pd.concat(df_list).sort_values([\"date\", \"area\"])"
   ]
  },
  {
   "cell_type": "code",
   "execution_count": 40,
   "metadata": {},
   "outputs": [],
   "source": [
    "df.to_csv(data_dir / slug / \"timeseries.csv\", index=False)"
   ]
  },
  {
   "cell_type": "code",
   "execution_count": null,
   "metadata": {},
   "outputs": [],
   "source": []
  },
  {
   "cell_type": "code",
   "execution_count": null,
   "metadata": {},
   "outputs": [],
   "source": []
  }
 ],
 "metadata": {
  "kernelspec": {
   "display_name": "Python 3 (ipykernel)",
   "language": "python",
   "name": "python3"
  },
  "language_info": {
   "codemirror_mode": {
    "name": "ipython",
    "version": 3
   },
   "file_extension": ".py",
   "mimetype": "text/x-python",
   "name": "python",
   "nbconvert_exporter": "python",
   "pygments_lexer": "ipython3",
   "version": "3.8.15"
  }
 },
 "nbformat": 4,
 "nbformat_minor": 4
}
