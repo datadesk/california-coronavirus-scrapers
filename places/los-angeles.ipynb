{
 "cells": [
  {
   "cell_type": "markdown",
   "metadata": {
    "tags": []
   },
   "source": [
    "## Configuration\n",
    "_Initial steps to get the notebook ready to play nice with our repository. Do not delete this section._"
   ]
  },
  {
   "cell_type": "markdown",
   "metadata": {},
   "source": [
    "Code formatting with [black](https://pypi.org/project/nb-black/)."
   ]
  },
  {
   "cell_type": "code",
   "execution_count": 1,
   "metadata": {
    "execution": {
     "iopub.execute_input": "2022-12-09T16:19:47.363419Z",
     "iopub.status.busy": "2022-12-09T16:19:47.363002Z",
     "iopub.status.idle": "2022-12-09T16:19:47.516358Z",
     "shell.execute_reply": "2022-12-09T16:19:47.515764Z"
    }
   },
   "outputs": [],
   "source": [
    "%load_ext lab_black"
   ]
  },
  {
   "cell_type": "code",
   "execution_count": 2,
   "metadata": {
    "execution": {
     "iopub.execute_input": "2022-12-09T16:19:47.520748Z",
     "iopub.status.busy": "2022-12-09T16:19:47.520201Z",
     "iopub.status.idle": "2022-12-09T16:19:47.522373Z",
     "shell.execute_reply": "2022-12-09T16:19:47.522715Z"
    }
   },
   "outputs": [],
   "source": [
    "import os\n",
    "import pathlib"
   ]
  },
  {
   "cell_type": "code",
   "execution_count": 3,
   "metadata": {
    "execution": {
     "iopub.execute_input": "2022-12-09T16:19:47.526173Z",
     "iopub.status.busy": "2022-12-09T16:19:47.525709Z",
     "iopub.status.idle": "2022-12-09T16:19:47.530513Z",
     "shell.execute_reply": "2022-12-09T16:19:47.530122Z"
    }
   },
   "outputs": [],
   "source": [
    "this_dir = pathlib.Path(os.path.abspath(\"\"))"
   ]
  },
  {
   "cell_type": "code",
   "execution_count": 4,
   "metadata": {
    "execution": {
     "iopub.execute_input": "2022-12-09T16:19:47.535299Z",
     "iopub.status.busy": "2022-12-09T16:19:47.534515Z",
     "iopub.status.idle": "2022-12-09T16:19:47.536088Z",
     "shell.execute_reply": "2022-12-09T16:19:47.536459Z"
    }
   },
   "outputs": [],
   "source": [
    "data_dir = this_dir / \"data\""
   ]
  },
  {
   "cell_type": "code",
   "execution_count": 5,
   "metadata": {
    "execution": {
     "iopub.execute_input": "2022-12-09T16:19:47.539969Z",
     "iopub.status.busy": "2022-12-09T16:19:47.539542Z",
     "iopub.status.idle": "2022-12-09T16:19:47.943001Z",
     "shell.execute_reply": "2022-12-09T16:19:47.942521Z"
    }
   },
   "outputs": [],
   "source": [
    "import re\n",
    "import pytz\n",
    "import glob\n",
    "import requests\n",
    "import unicodedata\n",
    "import pandas as pd\n",
    "from slugify import slugify\n",
    "from bs4 import BeautifulSoup\n",
    "from datetime import datetime, date"
   ]
  },
  {
   "cell_type": "markdown",
   "metadata": {},
   "source": [
    "## Download"
   ]
  },
  {
   "cell_type": "markdown",
   "metadata": {},
   "source": [
    "Retrieve the page"
   ]
  },
  {
   "cell_type": "code",
   "execution_count": 6,
   "metadata": {
    "execution": {
     "iopub.execute_input": "2022-12-09T16:19:47.947624Z",
     "iopub.status.busy": "2022-12-09T16:19:47.947109Z",
     "iopub.status.idle": "2022-12-09T16:19:47.950241Z",
     "shell.execute_reply": "2022-12-09T16:19:47.949862Z"
    }
   },
   "outputs": [],
   "source": [
    "url = \"http://publichealth.lacounty.gov/media/Coronavirus/locations.htm\""
   ]
  },
  {
   "cell_type": "code",
   "execution_count": 7,
   "metadata": {
    "execution": {
     "iopub.execute_input": "2022-12-09T16:19:47.956789Z",
     "iopub.status.busy": "2022-12-09T16:19:47.953315Z",
     "iopub.status.idle": "2022-12-09T16:19:48.355627Z",
     "shell.execute_reply": "2022-12-09T16:19:48.355113Z"
    }
   },
   "outputs": [],
   "source": [
    "page = requests.get(url)"
   ]
  },
  {
   "cell_type": "markdown",
   "metadata": {},
   "source": [
    "## Parse"
   ]
  },
  {
   "cell_type": "code",
   "execution_count": 8,
   "metadata": {
    "execution": {
     "iopub.execute_input": "2022-12-09T16:19:48.400600Z",
     "iopub.status.busy": "2022-12-09T16:19:48.363783Z",
     "iopub.status.idle": "2022-12-09T16:19:48.560326Z",
     "shell.execute_reply": "2022-12-09T16:19:48.559884Z"
    }
   },
   "outputs": [],
   "source": [
    "soup = BeautifulSoup(page.content, \"html.parser\")"
   ]
  },
  {
   "cell_type": "markdown",
   "metadata": {},
   "source": [
    "Get content well"
   ]
  },
  {
   "cell_type": "code",
   "execution_count": 9,
   "metadata": {
    "execution": {
     "iopub.execute_input": "2022-12-09T16:19:48.567190Z",
     "iopub.status.busy": "2022-12-09T16:19:48.566737Z",
     "iopub.status.idle": "2022-12-09T16:19:48.569845Z",
     "shell.execute_reply": "2022-12-09T16:19:48.569440Z"
    }
   },
   "outputs": [],
   "source": [
    "content = soup.find(\"div\", {\"id\": \"content\"})"
   ]
  },
  {
   "cell_type": "markdown",
   "metadata": {},
   "source": [
    "Get table"
   ]
  },
  {
   "cell_type": "code",
   "execution_count": 10,
   "metadata": {
    "execution": {
     "iopub.execute_input": "2022-12-09T16:19:48.582780Z",
     "iopub.status.busy": "2022-12-09T16:19:48.571816Z",
     "iopub.status.idle": "2022-12-09T16:19:48.589665Z",
     "shell.execute_reply": "2022-12-09T16:19:48.590015Z"
    }
   },
   "outputs": [],
   "source": [
    "for tag in content.find_all(text=re.compile(\"CITY/COMMUNITY\")):\n",
    "    table = tag.findParent(\"table\")"
   ]
  },
  {
   "cell_type": "code",
   "execution_count": 11,
   "metadata": {
    "execution": {
     "iopub.execute_input": "2022-12-09T16:19:48.595198Z",
     "iopub.status.busy": "2022-12-09T16:19:48.594253Z",
     "iopub.status.idle": "2022-12-09T16:19:48.597744Z",
     "shell.execute_reply": "2022-12-09T16:19:48.597344Z"
    }
   },
   "outputs": [],
   "source": [
    "tbody = soup.tbody"
   ]
  },
  {
   "cell_type": "code",
   "execution_count": 12,
   "metadata": {
    "execution": {
     "iopub.execute_input": "2022-12-09T16:19:48.603662Z",
     "iopub.status.busy": "2022-12-09T16:19:48.603224Z",
     "iopub.status.idle": "2022-12-09T16:19:48.606147Z",
     "shell.execute_reply": "2022-12-09T16:19:48.605758Z"
    }
   },
   "outputs": [],
   "source": [
    "row_list = tbody.find_all(\"tr\")"
   ]
  },
  {
   "cell_type": "code",
   "execution_count": 13,
   "metadata": {
    "execution": {
     "iopub.execute_input": "2022-12-09T16:19:48.610584Z",
     "iopub.status.busy": "2022-12-09T16:19:48.609813Z",
     "iopub.status.idle": "2022-12-09T16:19:48.611348Z",
     "shell.execute_reply": "2022-12-09T16:19:48.611708Z"
    }
   },
   "outputs": [],
   "source": [
    "dict_list = []"
   ]
  },
  {
   "cell_type": "code",
   "execution_count": 14,
   "metadata": {
    "execution": {
     "iopub.execute_input": "2022-12-09T16:19:48.617811Z",
     "iopub.status.busy": "2022-12-09T16:19:48.617340Z",
     "iopub.status.idle": "2022-12-09T16:19:48.619557Z",
     "shell.execute_reply": "2022-12-09T16:19:48.619180Z"
    }
   },
   "outputs": [],
   "source": [
    "def safetxt(element):\n",
    "    v = element.text.strip()\n",
    "    v = v.replace(\"\\u200b\", \"\")\n",
    "    return v"
   ]
  },
  {
   "cell_type": "code",
   "execution_count": 15,
   "metadata": {
    "execution": {
     "iopub.execute_input": "2022-12-09T16:19:48.623184Z",
     "iopub.status.busy": "2022-12-09T16:19:48.622748Z",
     "iopub.status.idle": "2022-12-09T16:19:48.627731Z",
     "shell.execute_reply": "2022-12-09T16:19:48.627371Z"
    }
   },
   "outputs": [],
   "source": [
    "def safenumber(element):\n",
    "    v = safetxt(element)\n",
    "    v = v.replace(\",\", \"\")\n",
    "    v = v.replace(\" \", \"\")\n",
    "    return v"
   ]
  },
  {
   "cell_type": "code",
   "execution_count": 16,
   "metadata": {
    "execution": {
     "iopub.execute_input": "2022-12-09T16:19:48.638669Z",
     "iopub.status.busy": "2022-12-09T16:19:48.638189Z",
     "iopub.status.idle": "2022-12-09T16:19:48.645443Z",
     "shell.execute_reply": "2022-12-09T16:19:48.645803Z"
    }
   },
   "outputs": [],
   "source": [
    "for row in row_list:\n",
    "    cell_content = row.find_all(\"td\")\n",
    "    d = dict(\n",
    "        county=\"Los Angeles\",\n",
    "        area=safetxt(cell_content[0]),\n",
    "        confirmed_cases=safenumber(cell_content[1]),\n",
    "        confirmed_deaths=safenumber(cell_content[3]),\n",
    "    )\n",
    "    dict_list.append(d)"
   ]
  },
  {
   "cell_type": "code",
   "execution_count": 17,
   "metadata": {
    "execution": {
     "iopub.execute_input": "2022-12-09T16:19:48.650414Z",
     "iopub.status.busy": "2022-12-09T16:19:48.649980Z",
     "iopub.status.idle": "2022-12-09T16:19:48.653126Z",
     "shell.execute_reply": "2022-12-09T16:19:48.652757Z"
    }
   },
   "outputs": [],
   "source": [
    "df = pd.DataFrame(dict_list)"
   ]
  },
  {
   "cell_type": "markdown",
   "metadata": {},
   "source": [
    "Get timestamp"
   ]
  },
  {
   "cell_type": "code",
   "execution_count": 18,
   "metadata": {
    "execution": {
     "iopub.execute_input": "2022-12-09T16:19:48.656506Z",
     "iopub.status.busy": "2022-12-09T16:19:48.656062Z",
     "iopub.status.idle": "2022-12-09T16:19:48.658646Z",
     "shell.execute_reply": "2022-12-09T16:19:48.658985Z"
    }
   },
   "outputs": [],
   "source": [
    "date_url = \"http://publichealth.lacounty.gov/media/Coronavirus/js/casecounter.js\""
   ]
  },
  {
   "cell_type": "code",
   "execution_count": 19,
   "metadata": {
    "execution": {
     "iopub.execute_input": "2022-12-09T16:19:48.664755Z",
     "iopub.status.busy": "2022-12-09T16:19:48.664313Z",
     "iopub.status.idle": "2022-12-09T16:19:49.010425Z",
     "shell.execute_reply": "2022-12-09T16:19:49.009991Z"
    }
   },
   "outputs": [],
   "source": [
    "response = requests.get(date_url)\n",
    "date_page = response.text"
   ]
  },
  {
   "cell_type": "code",
   "execution_count": 20,
   "metadata": {
    "execution": {
     "iopub.execute_input": "2022-12-09T16:19:49.019891Z",
     "iopub.status.busy": "2022-12-09T16:19:49.018126Z",
     "iopub.status.idle": "2022-12-09T16:19:49.025826Z",
     "shell.execute_reply": "2022-12-09T16:19:49.024995Z"
    }
   },
   "outputs": [
    {
     "data": {
      "text/plain": [
       "'$( document ).ready(function() {\\r\\n    var data = {\\r\\n\\t\\t\\t\\t    \"content\": { \\r\\n\\t\\t\\r\\n\\t\\t\\t\"count\": \"3,573,950\",\\r\\n\\r\\n\\r\\n\\t\\t\\t\"death\": \"34,279\",\\r\\n\\r\\n\\t\\t\\t\"dailycount\": \"3,450\",\\r\\n\\r\\n\\r\\n\\t\\t\\t\"dailydeath\": \"17\",\\r\\n\\t\\t\\t\"hospitalizationsever\": \"162,281\",\\r\\n\\r\\n\\r\\n\\t\\t\\t\"date\": \"12/8\",\\r\\n\\t\\t\\t\"info\": \"through 12:00pm 12/7/2022\",\\r\\n\\r\\n\\t\\t\\t\"testingaverage\": \"33,032\",\\r\\n\\r\\n\\t\\t\\t\"peopletested\": \"12,757,098\",\\r\\n\\r\\n\\t\\t\\t\"positivity\": \"12.55%\",\\r\\n\\r\\n\\t\\t\\t\"hospitalizations\": \"1,306\",\\r\\n\\t\\t\\t\"datehospitalizations\": \"12/7\"\\r\\n\\r\\n\\t\\t\\t\\t}       \\r\\n\\t\\t\\t\\t};\\t\\r\\n\\t\\t\\t\\t\\r\\n\\t\\t\\t\\t\\r\\n\\t\\t\\t\\tvar content = data.content;\\r\\n\\t\\t\\t\\t\\r\\n\\t\\t\\t\\t$(\\'#ctn\\').html(content.count);\\r\\n\\t\\t\\t\\t$(\\'#det\\').html(content.death);\\r\\n\\t\\t\\t\\t$(\\'#dctn\\').html(content.dailycount);\\r\\n\\t\\t\\t\\t$(\\'#ddet\\').html(content.dailydeath);\\r\\n\\t\\t\\t\\t$(\\'#hosp_1\\').html(content.hospitalizationsever);\\r\\n\\t\\t\\t\\t$(\\'#dte\\').html(content.date);\\r\\n\\t\\t\\t\\t$(\\'#dte_1\\').html(content.date);\\r\\n\\t\\t\\t\\t$(\\'#dte_2\\').html(content.date);\\r\\n\\t\\t\\t\\t$(\\'#dte_3\\').html(content.datehospitalizations);\\r\\n\\t\\t\\t\\t$(\\'#cse\\').html(content.info);\\t\\r\\n\\t\\t\\t\\r\\n\\t\\t\\t\\t\\r\\n\\t\\t\\t\\t$(\\'#tstavg\\').html(content.testingaverage);\\t\\r\\n\\t\\t\\t\\t$(\\'#ppltst\\').html(content.peopletested);\\t\\r\\n\\t\\t\\t\\t$(\\'#pos\\').html(content.positivity);\\t\\r\\n\\t\\t\\t\\t$(\\'#hosp\\').html(content.hospitalizations);\\r\\n\\t\\t\\t\\r\\n\\t\\t\\t\\t\\t\\t\\t\\r\\n\\r\\n\\r\\n});\\r\\n\\r\\n\\r\\n\\r\\n'"
      ]
     },
     "execution_count": 20,
     "metadata": {},
     "output_type": "execute_result"
    }
   ],
   "source": [
    "date_page"
   ]
  },
  {
   "cell_type": "code",
   "execution_count": 21,
   "metadata": {
    "execution": {
     "iopub.execute_input": "2022-12-09T16:19:49.030039Z",
     "iopub.status.busy": "2022-12-09T16:19:49.028902Z",
     "iopub.status.idle": "2022-12-09T16:19:49.032551Z",
     "shell.execute_reply": "2022-12-09T16:19:49.032163Z"
    }
   },
   "outputs": [],
   "source": [
    "# date_text = re.search(r\"([0-9][0-9]/[0-9][0-9])\", date_page).group(1)\n",
    "# date_text = date_text + \"/\" + str(date.today().year)"
   ]
  },
  {
   "cell_type": "code",
   "execution_count": 22,
   "metadata": {
    "execution": {
     "iopub.execute_input": "2022-12-09T16:19:49.038164Z",
     "iopub.status.busy": "2022-12-09T16:19:49.037560Z",
     "iopub.status.idle": "2022-12-09T16:19:49.040683Z",
     "shell.execute_reply": "2022-12-09T16:19:49.040297Z"
    }
   },
   "outputs": [],
   "source": [
    "date_text = re.search(r\"through (.+?)\\\"\", date_page).group(1)"
   ]
  },
  {
   "cell_type": "code",
   "execution_count": 23,
   "metadata": {
    "execution": {
     "iopub.execute_input": "2022-12-09T16:19:49.044833Z",
     "iopub.status.busy": "2022-12-09T16:19:49.044147Z",
     "iopub.status.idle": "2022-12-09T16:19:49.048301Z",
     "shell.execute_reply": "2022-12-09T16:19:49.047887Z"
    }
   },
   "outputs": [],
   "source": [
    "date_text = date_text.split(\"m \")[0]"
   ]
  },
  {
   "cell_type": "code",
   "execution_count": 24,
   "metadata": {
    "execution": {
     "iopub.execute_input": "2022-12-09T16:19:49.053595Z",
     "iopub.status.busy": "2022-12-09T16:19:49.053131Z",
     "iopub.status.idle": "2022-12-09T16:19:49.056123Z",
     "shell.execute_reply": "2022-12-09T16:19:49.055736Z"
    }
   },
   "outputs": [],
   "source": [
    "latest_date = pd.to_datetime(date_text).date()"
   ]
  },
  {
   "cell_type": "code",
   "execution_count": 25,
   "metadata": {
    "execution": {
     "iopub.execute_input": "2022-12-09T16:19:49.060754Z",
     "iopub.status.busy": "2022-12-09T16:19:49.059914Z",
     "iopub.status.idle": "2022-12-09T16:19:49.064771Z",
     "shell.execute_reply": "2022-12-09T16:19:49.063913Z"
    }
   },
   "outputs": [],
   "source": [
    "df[\"county_date\"] = latest_date"
   ]
  },
  {
   "cell_type": "code",
   "execution_count": 26,
   "metadata": {
    "execution": {
     "iopub.execute_input": "2022-12-09T16:19:49.071600Z",
     "iopub.status.busy": "2022-12-09T16:19:49.071166Z",
     "iopub.status.idle": "2022-12-09T16:19:49.073516Z",
     "shell.execute_reply": "2022-12-09T16:19:49.073105Z"
    }
   },
   "outputs": [],
   "source": [
    "df.loc[df.area == \"-  Under Investigation\", \"area\"] = \"Under Investigation\""
   ]
  },
  {
   "cell_type": "code",
   "execution_count": 27,
   "metadata": {
    "execution": {
     "iopub.execute_input": "2022-12-09T16:19:49.079321Z",
     "iopub.status.busy": "2022-12-09T16:19:49.078556Z",
     "iopub.status.idle": "2022-12-09T16:19:49.081555Z",
     "shell.execute_reply": "2022-12-09T16:19:49.081900Z"
    }
   },
   "outputs": [],
   "source": [
    "df.loc[df.area == \"- Under Investigation\", \"area\"] = \"Under Investigation\""
   ]
  },
  {
   "cell_type": "markdown",
   "metadata": {},
   "source": [
    "## Vet"
   ]
  },
  {
   "cell_type": "code",
   "execution_count": 28,
   "metadata": {
    "execution": {
     "iopub.execute_input": "2022-12-09T16:19:49.085448Z",
     "iopub.status.busy": "2022-12-09T16:19:49.084994Z",
     "iopub.status.idle": "2022-12-09T16:19:49.088835Z",
     "shell.execute_reply": "2022-12-09T16:19:49.088469Z"
    }
   },
   "outputs": [],
   "source": [
    "try:\n",
    "    assert not len(df) > 342\n",
    "except AssertionError:\n",
    "    raise AssertionError(\"L.A. County's scraper has extra rows\")"
   ]
  },
  {
   "cell_type": "code",
   "execution_count": 29,
   "metadata": {
    "execution": {
     "iopub.execute_input": "2022-12-09T16:19:49.093359Z",
     "iopub.status.busy": "2022-12-09T16:19:49.091685Z",
     "iopub.status.idle": "2022-12-09T16:19:49.214645Z",
     "shell.execute_reply": "2022-12-09T16:19:49.213572Z"
    }
   },
   "outputs": [
    {
     "ename": "AssertionError",
     "evalue": "L.A. County's scraper is missing rows",
     "output_type": "error",
     "traceback": [
      "\u001b[0;31m---------------------------------------------------------------------------\u001b[0m",
      "\u001b[0;31mAssertionError\u001b[0m                            Traceback (most recent call last)",
      "\u001b[0;32m/tmp/ipykernel_2169/2999864733.py\u001b[0m in \u001b[0;36m<module>\u001b[0;34m\u001b[0m\n\u001b[1;32m      1\u001b[0m \u001b[0;32mtry\u001b[0m\u001b[0;34m:\u001b[0m\u001b[0;34m\u001b[0m\u001b[0;34m\u001b[0m\u001b[0m\n\u001b[0;32m----> 2\u001b[0;31m     \u001b[0;32massert\u001b[0m \u001b[0;32mnot\u001b[0m \u001b[0mlen\u001b[0m\u001b[0;34m(\u001b[0m\u001b[0mdf\u001b[0m\u001b[0;34m)\u001b[0m \u001b[0;34m<\u001b[0m \u001b[0;36m342\u001b[0m\u001b[0;34m\u001b[0m\u001b[0;34m\u001b[0m\u001b[0m\n\u001b[0m\u001b[1;32m      3\u001b[0m \u001b[0;32mexcept\u001b[0m \u001b[0mAssertionError\u001b[0m\u001b[0;34m:\u001b[0m\u001b[0;34m\u001b[0m\u001b[0;34m\u001b[0m\u001b[0m\n",
      "\u001b[0;31mAssertionError\u001b[0m: ",
      "\nDuring handling of the above exception, another exception occurred:\n",
      "\u001b[0;31mAssertionError\u001b[0m                            Traceback (most recent call last)",
      "\u001b[0;32m/tmp/ipykernel_2169/2999864733.py\u001b[0m in \u001b[0;36m<module>\u001b[0;34m\u001b[0m\n\u001b[1;32m      2\u001b[0m     \u001b[0;32massert\u001b[0m \u001b[0;32mnot\u001b[0m \u001b[0mlen\u001b[0m\u001b[0;34m(\u001b[0m\u001b[0mdf\u001b[0m\u001b[0;34m)\u001b[0m \u001b[0;34m<\u001b[0m \u001b[0;36m342\u001b[0m\u001b[0;34m\u001b[0m\u001b[0;34m\u001b[0m\u001b[0m\n\u001b[1;32m      3\u001b[0m \u001b[0;32mexcept\u001b[0m \u001b[0mAssertionError\u001b[0m\u001b[0;34m:\u001b[0m\u001b[0;34m\u001b[0m\u001b[0;34m\u001b[0m\u001b[0m\n\u001b[0;32m----> 4\u001b[0;31m     \u001b[0;32mraise\u001b[0m \u001b[0mAssertionError\u001b[0m\u001b[0;34m(\u001b[0m\u001b[0;34m\"L.A. County's scraper is missing rows\"\u001b[0m\u001b[0;34m)\u001b[0m\u001b[0;34m\u001b[0m\u001b[0;34m\u001b[0m\u001b[0m\n\u001b[0m",
      "\u001b[0;31mAssertionError\u001b[0m: L.A. County's scraper is missing rows"
     ]
    }
   ],
   "source": [
    "try:\n",
    "    assert not len(df) < 342\n",
    "except AssertionError:\n",
    "    raise AssertionError(\"L.A. County's scraper is missing rows\")"
   ]
  },
  {
   "cell_type": "markdown",
   "metadata": {},
   "source": [
    "## Export"
   ]
  },
  {
   "cell_type": "markdown",
   "metadata": {},
   "source": [
    "Set the date"
   ]
  },
  {
   "cell_type": "code",
   "execution_count": 30,
   "metadata": {},
   "outputs": [],
   "source": [
    "tz = pytz.timezone(\"America/Los_Angeles\")"
   ]
  },
  {
   "cell_type": "code",
   "execution_count": 31,
   "metadata": {},
   "outputs": [],
   "source": [
    "today = datetime.now(tz).date()"
   ]
  },
  {
   "cell_type": "code",
   "execution_count": 32,
   "metadata": {},
   "outputs": [],
   "source": [
    "slug = \"los-angeles\""
   ]
  },
  {
   "cell_type": "code",
   "execution_count": 33,
   "metadata": {},
   "outputs": [],
   "source": [
    "df.to_csv(data_dir / slug / f\"{today}.csv\", index=False)"
   ]
  },
  {
   "cell_type": "markdown",
   "metadata": {},
   "source": [
    "## Combine"
   ]
  },
  {
   "cell_type": "code",
   "execution_count": 34,
   "metadata": {},
   "outputs": [],
   "source": [
    "csv_list = [\n",
    "    i\n",
    "    for i in glob.glob(str(data_dir / slug / \"*.csv\"))\n",
    "    if not str(i).endswith(\"timeseries.csv\")\n",
    "]"
   ]
  },
  {
   "cell_type": "code",
   "execution_count": 35,
   "metadata": {},
   "outputs": [],
   "source": [
    "df_list = []\n",
    "for csv in csv_list:\n",
    "    if \"manual\" in csv:\n",
    "        df = pd.read_csv(csv, parse_dates=[\"date\"])\n",
    "    else:\n",
    "        file_date = csv.split(\"/\")[-1].replace(\".csv\", \"\")\n",
    "        df = pd.read_csv(csv, parse_dates=[\"county_date\"])\n",
    "        df[\"date\"] = file_date\n",
    "    df_list.append(df)"
   ]
  },
  {
   "cell_type": "code",
   "execution_count": 36,
   "metadata": {},
   "outputs": [],
   "source": [
    "df = pd.concat(df_list).sort_values([\"date\", \"area\"])"
   ]
  },
  {
   "cell_type": "code",
   "execution_count": 37,
   "metadata": {},
   "outputs": [],
   "source": [
    "df.to_csv(data_dir / slug / \"timeseries.csv\", index=False)"
   ]
  },
  {
   "cell_type": "code",
   "execution_count": null,
   "metadata": {},
   "outputs": [],
   "source": []
  },
  {
   "cell_type": "code",
   "execution_count": null,
   "metadata": {},
   "outputs": [],
   "source": []
  }
 ],
 "metadata": {
  "kernelspec": {
   "display_name": "Python 3 (ipykernel)",
   "language": "python",
   "name": "python3"
  },
  "language_info": {
   "codemirror_mode": {
    "name": "ipython",
    "version": 3
   },
   "file_extension": ".py",
   "mimetype": "text/x-python",
   "name": "python",
   "nbconvert_exporter": "python",
   "pygments_lexer": "ipython3",
   "version": "3.8.15"
  }
 },
 "nbformat": 4,
 "nbformat_minor": 4
}
