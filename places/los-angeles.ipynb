{
 "cells": [
  {
   "cell_type": "markdown",
   "metadata": {
    "tags": []
   },
   "source": [
    "## Configuration\n",
    "_Initial steps to get the notebook ready to play nice with our repository. Do not delete this section._"
   ]
  },
  {
   "cell_type": "markdown",
   "metadata": {},
   "source": [
    "Code formatting with [black](https://pypi.org/project/nb-black/)."
   ]
  },
  {
   "cell_type": "code",
   "execution_count": 1,
   "metadata": {
    "execution": {
     "iopub.execute_input": "2022-12-04T12:20:33.333805Z",
     "iopub.status.busy": "2022-12-04T12:20:33.333225Z",
     "iopub.status.idle": "2022-12-04T12:20:33.505225Z",
     "shell.execute_reply": "2022-12-04T12:20:33.504625Z"
    }
   },
   "outputs": [],
   "source": [
    "%load_ext lab_black"
   ]
  },
  {
   "cell_type": "code",
   "execution_count": 2,
   "metadata": {
    "execution": {
     "iopub.execute_input": "2022-12-04T12:20:33.510182Z",
     "iopub.status.busy": "2022-12-04T12:20:33.509581Z",
     "iopub.status.idle": "2022-12-04T12:20:33.511835Z",
     "shell.execute_reply": "2022-12-04T12:20:33.512300Z"
    }
   },
   "outputs": [],
   "source": [
    "import os\n",
    "import pathlib"
   ]
  },
  {
   "cell_type": "code",
   "execution_count": 3,
   "metadata": {
    "execution": {
     "iopub.execute_input": "2022-12-04T12:20:33.520470Z",
     "iopub.status.busy": "2022-12-04T12:20:33.519081Z",
     "iopub.status.idle": "2022-12-04T12:20:33.521148Z",
     "shell.execute_reply": "2022-12-04T12:20:33.521656Z"
    }
   },
   "outputs": [],
   "source": [
    "this_dir = pathlib.Path(os.path.abspath(\"\"))"
   ]
  },
  {
   "cell_type": "code",
   "execution_count": 4,
   "metadata": {
    "execution": {
     "iopub.execute_input": "2022-12-04T12:20:33.527777Z",
     "iopub.status.busy": "2022-12-04T12:20:33.526412Z",
     "iopub.status.idle": "2022-12-04T12:20:33.528424Z",
     "shell.execute_reply": "2022-12-04T12:20:33.528941Z"
    }
   },
   "outputs": [],
   "source": [
    "data_dir = this_dir / \"data\""
   ]
  },
  {
   "cell_type": "code",
   "execution_count": 5,
   "metadata": {
    "execution": {
     "iopub.execute_input": "2022-12-04T12:20:33.533949Z",
     "iopub.status.busy": "2022-12-04T12:20:33.533333Z",
     "iopub.status.idle": "2022-12-04T12:20:34.002374Z",
     "shell.execute_reply": "2022-12-04T12:20:34.003017Z"
    }
   },
   "outputs": [],
   "source": [
    "import re\n",
    "import pytz\n",
    "import glob\n",
    "import requests\n",
    "import unicodedata\n",
    "import pandas as pd\n",
    "from slugify import slugify\n",
    "from bs4 import BeautifulSoup\n",
    "from datetime import datetime, date"
   ]
  },
  {
   "cell_type": "markdown",
   "metadata": {},
   "source": [
    "## Download"
   ]
  },
  {
   "cell_type": "markdown",
   "metadata": {},
   "source": [
    "Retrieve the page"
   ]
  },
  {
   "cell_type": "code",
   "execution_count": 6,
   "metadata": {
    "execution": {
     "iopub.execute_input": "2022-12-04T12:20:34.008631Z",
     "iopub.status.busy": "2022-12-04T12:20:34.008060Z",
     "iopub.status.idle": "2022-12-04T12:20:34.011964Z",
     "shell.execute_reply": "2022-12-04T12:20:34.011154Z"
    }
   },
   "outputs": [],
   "source": [
    "url = \"http://publichealth.lacounty.gov/media/Coronavirus/locations.htm\""
   ]
  },
  {
   "cell_type": "code",
   "execution_count": 7,
   "metadata": {
    "execution": {
     "iopub.execute_input": "2022-12-04T12:20:34.019360Z",
     "iopub.status.busy": "2022-12-04T12:20:34.015388Z",
     "iopub.status.idle": "2022-12-04T12:20:34.248248Z",
     "shell.execute_reply": "2022-12-04T12:20:34.248701Z"
    }
   },
   "outputs": [],
   "source": [
    "page = requests.get(url)"
   ]
  },
  {
   "cell_type": "markdown",
   "metadata": {},
   "source": [
    "## Parse"
   ]
  },
  {
   "cell_type": "code",
   "execution_count": 8,
   "metadata": {
    "execution": {
     "iopub.execute_input": "2022-12-04T12:20:34.266819Z",
     "iopub.status.busy": "2022-12-04T12:20:34.261271Z",
     "iopub.status.idle": "2022-12-04T12:20:34.475650Z",
     "shell.execute_reply": "2022-12-04T12:20:34.476127Z"
    }
   },
   "outputs": [],
   "source": [
    "soup = BeautifulSoup(page.content, \"html.parser\")"
   ]
  },
  {
   "cell_type": "markdown",
   "metadata": {},
   "source": [
    "Get content well"
   ]
  },
  {
   "cell_type": "code",
   "execution_count": 9,
   "metadata": {
    "execution": {
     "iopub.execute_input": "2022-12-04T12:20:34.482277Z",
     "iopub.status.busy": "2022-12-04T12:20:34.481694Z",
     "iopub.status.idle": "2022-12-04T12:20:34.486233Z",
     "shell.execute_reply": "2022-12-04T12:20:34.485682Z"
    }
   },
   "outputs": [],
   "source": [
    "content = soup.find(\"div\", {\"id\": \"content\"})"
   ]
  },
  {
   "cell_type": "markdown",
   "metadata": {},
   "source": [
    "Get table"
   ]
  },
  {
   "cell_type": "code",
   "execution_count": 10,
   "metadata": {
    "execution": {
     "iopub.execute_input": "2022-12-04T12:20:34.494234Z",
     "iopub.status.busy": "2022-12-04T12:20:34.493658Z",
     "iopub.status.idle": "2022-12-04T12:20:34.507605Z",
     "shell.execute_reply": "2022-12-04T12:20:34.508155Z"
    }
   },
   "outputs": [],
   "source": [
    "for tag in content.find_all(text=re.compile(\"CITY/COMMUNITY\")):\n",
    "    table = tag.findParent(\"table\")"
   ]
  },
  {
   "cell_type": "code",
   "execution_count": 11,
   "metadata": {
    "execution": {
     "iopub.execute_input": "2022-12-04T12:20:34.515127Z",
     "iopub.status.busy": "2022-12-04T12:20:34.514493Z",
     "iopub.status.idle": "2022-12-04T12:20:34.517240Z",
     "shell.execute_reply": "2022-12-04T12:20:34.516725Z"
    }
   },
   "outputs": [],
   "source": [
    "tbody = soup.tbody"
   ]
  },
  {
   "cell_type": "code",
   "execution_count": 12,
   "metadata": {
    "execution": {
     "iopub.execute_input": "2022-12-04T12:20:34.525374Z",
     "iopub.status.busy": "2022-12-04T12:20:34.524024Z",
     "iopub.status.idle": "2022-12-04T12:20:34.526034Z",
     "shell.execute_reply": "2022-12-04T12:20:34.526470Z"
    }
   },
   "outputs": [],
   "source": [
    "row_list = tbody.find_all(\"tr\")"
   ]
  },
  {
   "cell_type": "code",
   "execution_count": 13,
   "metadata": {
    "execution": {
     "iopub.execute_input": "2022-12-04T12:20:34.530496Z",
     "iopub.status.busy": "2022-12-04T12:20:34.529906Z",
     "iopub.status.idle": "2022-12-04T12:20:34.534930Z",
     "shell.execute_reply": "2022-12-04T12:20:34.534373Z"
    }
   },
   "outputs": [],
   "source": [
    "dict_list = []"
   ]
  },
  {
   "cell_type": "code",
   "execution_count": 14,
   "metadata": {
    "execution": {
     "iopub.execute_input": "2022-12-04T12:20:34.541220Z",
     "iopub.status.busy": "2022-12-04T12:20:34.540613Z",
     "iopub.status.idle": "2022-12-04T12:20:34.545172Z",
     "shell.execute_reply": "2022-12-04T12:20:34.545683Z"
    }
   },
   "outputs": [],
   "source": [
    "def safetxt(element):\n",
    "    v = element.text.strip()\n",
    "    v = v.replace(\"\\u200b\", \"\")\n",
    "    return v"
   ]
  },
  {
   "cell_type": "code",
   "execution_count": 15,
   "metadata": {
    "execution": {
     "iopub.execute_input": "2022-12-04T12:20:34.550516Z",
     "iopub.status.busy": "2022-12-04T12:20:34.549818Z",
     "iopub.status.idle": "2022-12-04T12:20:34.556388Z",
     "shell.execute_reply": "2022-12-04T12:20:34.555881Z"
    }
   },
   "outputs": [],
   "source": [
    "def safenumber(element):\n",
    "    v = safetxt(element)\n",
    "    v = v.replace(\",\", \"\")\n",
    "    v = v.replace(\" \", \"\")\n",
    "    return v"
   ]
  },
  {
   "cell_type": "code",
   "execution_count": 16,
   "metadata": {
    "execution": {
     "iopub.execute_input": "2022-12-04T12:20:34.569647Z",
     "iopub.status.busy": "2022-12-04T12:20:34.569077Z",
     "iopub.status.idle": "2022-12-04T12:20:34.578814Z",
     "shell.execute_reply": "2022-12-04T12:20:34.578188Z"
    }
   },
   "outputs": [],
   "source": [
    "for row in row_list:\n",
    "    cell_content = row.find_all(\"td\")\n",
    "    d = dict(\n",
    "        county=\"Los Angeles\",\n",
    "        area=safetxt(cell_content[0]),\n",
    "        confirmed_cases=safenumber(cell_content[1]),\n",
    "        confirmed_deaths=safenumber(cell_content[3]),\n",
    "    )\n",
    "    dict_list.append(d)"
   ]
  },
  {
   "cell_type": "code",
   "execution_count": 17,
   "metadata": {
    "execution": {
     "iopub.execute_input": "2022-12-04T12:20:34.584681Z",
     "iopub.status.busy": "2022-12-04T12:20:34.583620Z",
     "iopub.status.idle": "2022-12-04T12:20:34.587412Z",
     "shell.execute_reply": "2022-12-04T12:20:34.586935Z"
    }
   },
   "outputs": [],
   "source": [
    "df = pd.DataFrame(dict_list)"
   ]
  },
  {
   "cell_type": "markdown",
   "metadata": {},
   "source": [
    "Get timestamp"
   ]
  },
  {
   "cell_type": "code",
   "execution_count": 18,
   "metadata": {
    "execution": {
     "iopub.execute_input": "2022-12-04T12:20:34.592493Z",
     "iopub.status.busy": "2022-12-04T12:20:34.591048Z",
     "iopub.status.idle": "2022-12-04T12:20:34.594742Z",
     "shell.execute_reply": "2022-12-04T12:20:34.594267Z"
    }
   },
   "outputs": [],
   "source": [
    "date_url = \"http://publichealth.lacounty.gov/media/Coronavirus/js/casecounter.js\""
   ]
  },
  {
   "cell_type": "code",
   "execution_count": 19,
   "metadata": {
    "execution": {
     "iopub.execute_input": "2022-12-04T12:20:34.601995Z",
     "iopub.status.busy": "2022-12-04T12:20:34.601360Z",
     "iopub.status.idle": "2022-12-04T12:20:34.672890Z",
     "shell.execute_reply": "2022-12-04T12:20:34.673442Z"
    }
   },
   "outputs": [],
   "source": [
    "response = requests.get(date_url)\n",
    "date_page = response.text"
   ]
  },
  {
   "cell_type": "code",
   "execution_count": 20,
   "metadata": {
    "execution": {
     "iopub.execute_input": "2022-12-04T12:20:34.684824Z",
     "iopub.status.busy": "2022-12-04T12:20:34.683664Z",
     "iopub.status.idle": "2022-12-04T12:20:34.687987Z",
     "shell.execute_reply": "2022-12-04T12:20:34.688433Z"
    }
   },
   "outputs": [
    {
     "data": {
      "text/plain": [
       "'$( document ).ready(function() {\\r\\n    var data = {\\r\\n\\t\\t\\t\\t    \"content\": { \\r\\n\\t\\t\\r\\n\\t\\t\\t\"count\": \"3,552,019\",\\r\\n\\r\\n\\r\\n\\t\\t\\t\"death\": \"34,213\",\\r\\n\\r\\n\\t\\t\\t\"dailycount\": \"4,394\",\\r\\n\\r\\n\\r\\n\\t\\t\\t\"dailydeath\": \"14\",\\r\\n\\t\\t\\t\"hospitalizationsever\": \"161,042\",\\r\\n\\r\\n\\r\\n\\t\\t\\t\"date\": \"12/2\",\\r\\n\\t\\t\\t\"info\": \"through 12:00pm 12/1/2022\",\\r\\n\\r\\n\\t\\t\\t\"testingaverage\": \"20,676\",\\r\\n\\r\\n\\t\\t\\t\"peopletested\": \"12,736,245\",\\r\\n\\r\\n\\t\\t\\t\"positivity\": \"11.91%\",\\r\\n\\r\\n\\t\\t\\t\"hospitalizations\": \"1,171\",\\r\\n\\t\\t\\t\"datehospitalizations\": \"12/1\"\\r\\n\\r\\n\\t\\t\\t\\t}       \\r\\n\\t\\t\\t\\t};\\t\\r\\n\\t\\t\\t\\t\\r\\n\\t\\t\\t\\t\\r\\n\\t\\t\\t\\tvar content = data.content;\\r\\n\\t\\t\\t\\t\\r\\n\\t\\t\\t\\t$(\\'#ctn\\').html(content.count);\\r\\n\\t\\t\\t\\t$(\\'#det\\').html(content.death);\\r\\n\\t\\t\\t\\t$(\\'#dctn\\').html(content.dailycount);\\r\\n\\t\\t\\t\\t$(\\'#ddet\\').html(content.dailydeath);\\r\\n\\t\\t\\t\\t$(\\'#hosp_1\\').html(content.hospitalizationsever);\\r\\n\\t\\t\\t\\t$(\\'#dte\\').html(content.date);\\r\\n\\t\\t\\t\\t$(\\'#dte_1\\').html(content.date);\\r\\n\\t\\t\\t\\t$(\\'#dte_2\\').html(content.date);\\r\\n\\t\\t\\t\\t$(\\'#dte_3\\').html(content.datehospitalizations);\\r\\n\\t\\t\\t\\t$(\\'#cse\\').html(content.info);\\t\\r\\n\\t\\t\\t\\r\\n\\t\\t\\t\\t\\r\\n\\t\\t\\t\\t$(\\'#tstavg\\').html(content.testingaverage);\\t\\r\\n\\t\\t\\t\\t$(\\'#ppltst\\').html(content.peopletested);\\t\\r\\n\\t\\t\\t\\t$(\\'#pos\\').html(content.positivity);\\t\\r\\n\\t\\t\\t\\t$(\\'#hosp\\').html(content.hospitalizations);\\r\\n\\t\\t\\t\\r\\n\\t\\t\\t\\t\\t\\t\\t\\r\\n\\r\\n\\r\\n});\\r\\n\\r\\n\\r\\n\\r\\n'"
      ]
     },
     "execution_count": 20,
     "metadata": {},
     "output_type": "execute_result"
    }
   ],
   "source": [
    "date_page"
   ]
  },
  {
   "cell_type": "code",
   "execution_count": 21,
   "metadata": {
    "execution": {
     "iopub.execute_input": "2022-12-04T12:20:34.692665Z",
     "iopub.status.busy": "2022-12-04T12:20:34.692115Z",
     "iopub.status.idle": "2022-12-04T12:20:34.695114Z",
     "shell.execute_reply": "2022-12-04T12:20:34.694542Z"
    }
   },
   "outputs": [],
   "source": [
    "# date_text = re.search(r\"([0-9][0-9]/[0-9][0-9])\", date_page).group(1)\n",
    "# date_text = date_text + \"/\" + str(date.today().year)"
   ]
  },
  {
   "cell_type": "code",
   "execution_count": 22,
   "metadata": {
    "execution": {
     "iopub.execute_input": "2022-12-04T12:20:34.699484Z",
     "iopub.status.busy": "2022-12-04T12:20:34.698936Z",
     "iopub.status.idle": "2022-12-04T12:20:34.703359Z",
     "shell.execute_reply": "2022-12-04T12:20:34.702872Z"
    }
   },
   "outputs": [],
   "source": [
    "date_text = re.search(r\"through (.+?)\\\"\", date_page).group(1)"
   ]
  },
  {
   "cell_type": "code",
   "execution_count": 23,
   "metadata": {
    "execution": {
     "iopub.execute_input": "2022-12-04T12:20:34.708606Z",
     "iopub.status.busy": "2022-12-04T12:20:34.708090Z",
     "iopub.status.idle": "2022-12-04T12:20:34.712229Z",
     "shell.execute_reply": "2022-12-04T12:20:34.711613Z"
    }
   },
   "outputs": [],
   "source": [
    "date_text = date_text.split(\"m \")[0]"
   ]
  },
  {
   "cell_type": "code",
   "execution_count": 24,
   "metadata": {
    "execution": {
     "iopub.execute_input": "2022-12-04T12:20:34.718490Z",
     "iopub.status.busy": "2022-12-04T12:20:34.717767Z",
     "iopub.status.idle": "2022-12-04T12:20:34.722003Z",
     "shell.execute_reply": "2022-12-04T12:20:34.721450Z"
    }
   },
   "outputs": [],
   "source": [
    "latest_date = pd.to_datetime(date_text).date()"
   ]
  },
  {
   "cell_type": "code",
   "execution_count": 25,
   "metadata": {
    "execution": {
     "iopub.execute_input": "2022-12-04T12:20:34.728300Z",
     "iopub.status.busy": "2022-12-04T12:20:34.727137Z",
     "iopub.status.idle": "2022-12-04T12:20:34.731809Z",
     "shell.execute_reply": "2022-12-04T12:20:34.731298Z"
    }
   },
   "outputs": [],
   "source": [
    "df[\"county_date\"] = latest_date"
   ]
  },
  {
   "cell_type": "code",
   "execution_count": 26,
   "metadata": {
    "execution": {
     "iopub.execute_input": "2022-12-04T12:20:34.739591Z",
     "iopub.status.busy": "2022-12-04T12:20:34.738426Z",
     "iopub.status.idle": "2022-12-04T12:20:34.743130Z",
     "shell.execute_reply": "2022-12-04T12:20:34.742567Z"
    }
   },
   "outputs": [],
   "source": [
    "df.loc[df.area == \"-  Under Investigation\", \"area\"] = \"Under Investigation\""
   ]
  },
  {
   "cell_type": "code",
   "execution_count": 27,
   "metadata": {
    "execution": {
     "iopub.execute_input": "2022-12-04T12:20:34.749960Z",
     "iopub.status.busy": "2022-12-04T12:20:34.749221Z",
     "iopub.status.idle": "2022-12-04T12:20:34.753346Z",
     "shell.execute_reply": "2022-12-04T12:20:34.752847Z"
    }
   },
   "outputs": [],
   "source": [
    "df.loc[df.area == \"- Under Investigation\", \"area\"] = \"Under Investigation\""
   ]
  },
  {
   "cell_type": "markdown",
   "metadata": {},
   "source": [
    "## Vet"
   ]
  },
  {
   "cell_type": "code",
   "execution_count": 28,
   "metadata": {
    "execution": {
     "iopub.execute_input": "2022-12-04T12:20:34.759390Z",
     "iopub.status.busy": "2022-12-04T12:20:34.757678Z",
     "iopub.status.idle": "2022-12-04T12:20:34.762334Z",
     "shell.execute_reply": "2022-12-04T12:20:34.762854Z"
    }
   },
   "outputs": [],
   "source": [
    "try:\n",
    "    assert not len(df) > 342\n",
    "except AssertionError:\n",
    "    raise AssertionError(\"L.A. County's scraper has extra rows\")"
   ]
  },
  {
   "cell_type": "code",
   "execution_count": 29,
   "metadata": {
    "execution": {
     "iopub.execute_input": "2022-12-04T12:20:34.767618Z",
     "iopub.status.busy": "2022-12-04T12:20:34.766767Z",
     "iopub.status.idle": "2022-12-04T12:20:34.914531Z",
     "shell.execute_reply": "2022-12-04T12:20:34.913924Z"
    }
   },
   "outputs": [
    {
     "ename": "AssertionError",
     "evalue": "L.A. County's scraper is missing rows",
     "output_type": "error",
     "traceback": [
      "\u001b[0;31m---------------------------------------------------------------------------\u001b[0m",
      "\u001b[0;31mAssertionError\u001b[0m                            Traceback (most recent call last)",
      "\u001b[0;32m/tmp/ipykernel_2225/2999864733.py\u001b[0m in \u001b[0;36m<module>\u001b[0;34m\u001b[0m\n\u001b[1;32m      1\u001b[0m \u001b[0;32mtry\u001b[0m\u001b[0;34m:\u001b[0m\u001b[0;34m\u001b[0m\u001b[0;34m\u001b[0m\u001b[0m\n\u001b[0;32m----> 2\u001b[0;31m     \u001b[0;32massert\u001b[0m \u001b[0;32mnot\u001b[0m \u001b[0mlen\u001b[0m\u001b[0;34m(\u001b[0m\u001b[0mdf\u001b[0m\u001b[0;34m)\u001b[0m \u001b[0;34m<\u001b[0m \u001b[0;36m342\u001b[0m\u001b[0;34m\u001b[0m\u001b[0;34m\u001b[0m\u001b[0m\n\u001b[0m\u001b[1;32m      3\u001b[0m \u001b[0;32mexcept\u001b[0m \u001b[0mAssertionError\u001b[0m\u001b[0;34m:\u001b[0m\u001b[0;34m\u001b[0m\u001b[0;34m\u001b[0m\u001b[0m\n",
      "\u001b[0;31mAssertionError\u001b[0m: ",
      "\nDuring handling of the above exception, another exception occurred:\n",
      "\u001b[0;31mAssertionError\u001b[0m                            Traceback (most recent call last)",
      "\u001b[0;32m/tmp/ipykernel_2225/2999864733.py\u001b[0m in \u001b[0;36m<module>\u001b[0;34m\u001b[0m\n\u001b[1;32m      2\u001b[0m     \u001b[0;32massert\u001b[0m \u001b[0;32mnot\u001b[0m \u001b[0mlen\u001b[0m\u001b[0;34m(\u001b[0m\u001b[0mdf\u001b[0m\u001b[0;34m)\u001b[0m \u001b[0;34m<\u001b[0m \u001b[0;36m342\u001b[0m\u001b[0;34m\u001b[0m\u001b[0;34m\u001b[0m\u001b[0m\n\u001b[1;32m      3\u001b[0m \u001b[0;32mexcept\u001b[0m \u001b[0mAssertionError\u001b[0m\u001b[0;34m:\u001b[0m\u001b[0;34m\u001b[0m\u001b[0;34m\u001b[0m\u001b[0m\n\u001b[0;32m----> 4\u001b[0;31m     \u001b[0;32mraise\u001b[0m \u001b[0mAssertionError\u001b[0m\u001b[0;34m(\u001b[0m\u001b[0;34m\"L.A. County's scraper is missing rows\"\u001b[0m\u001b[0;34m)\u001b[0m\u001b[0;34m\u001b[0m\u001b[0;34m\u001b[0m\u001b[0m\n\u001b[0m",
      "\u001b[0;31mAssertionError\u001b[0m: L.A. County's scraper is missing rows"
     ]
    }
   ],
   "source": [
    "try:\n",
    "    assert not len(df) < 342\n",
    "except AssertionError:\n",
    "    raise AssertionError(\"L.A. County's scraper is missing rows\")"
   ]
  },
  {
   "cell_type": "markdown",
   "metadata": {},
   "source": [
    "## Export"
   ]
  },
  {
   "cell_type": "markdown",
   "metadata": {},
   "source": [
    "Set the date"
   ]
  },
  {
   "cell_type": "code",
   "execution_count": 30,
   "metadata": {},
   "outputs": [],
   "source": [
    "tz = pytz.timezone(\"America/Los_Angeles\")"
   ]
  },
  {
   "cell_type": "code",
   "execution_count": 31,
   "metadata": {},
   "outputs": [],
   "source": [
    "today = datetime.now(tz).date()"
   ]
  },
  {
   "cell_type": "code",
   "execution_count": 32,
   "metadata": {},
   "outputs": [],
   "source": [
    "slug = \"los-angeles\""
   ]
  },
  {
   "cell_type": "code",
   "execution_count": 33,
   "metadata": {},
   "outputs": [],
   "source": [
    "df.to_csv(data_dir / slug / f\"{today}.csv\", index=False)"
   ]
  },
  {
   "cell_type": "markdown",
   "metadata": {},
   "source": [
    "## Combine"
   ]
  },
  {
   "cell_type": "code",
   "execution_count": 34,
   "metadata": {},
   "outputs": [],
   "source": [
    "csv_list = [\n",
    "    i\n",
    "    for i in glob.glob(str(data_dir / slug / \"*.csv\"))\n",
    "    if not str(i).endswith(\"timeseries.csv\")\n",
    "]"
   ]
  },
  {
   "cell_type": "code",
   "execution_count": 35,
   "metadata": {},
   "outputs": [],
   "source": [
    "df_list = []\n",
    "for csv in csv_list:\n",
    "    if \"manual\" in csv:\n",
    "        df = pd.read_csv(csv, parse_dates=[\"date\"])\n",
    "    else:\n",
    "        file_date = csv.split(\"/\")[-1].replace(\".csv\", \"\")\n",
    "        df = pd.read_csv(csv, parse_dates=[\"county_date\"])\n",
    "        df[\"date\"] = file_date\n",
    "    df_list.append(df)"
   ]
  },
  {
   "cell_type": "code",
   "execution_count": 36,
   "metadata": {},
   "outputs": [],
   "source": [
    "df = pd.concat(df_list).sort_values([\"date\", \"area\"])"
   ]
  },
  {
   "cell_type": "code",
   "execution_count": 37,
   "metadata": {},
   "outputs": [],
   "source": [
    "df.to_csv(data_dir / slug / \"timeseries.csv\", index=False)"
   ]
  },
  {
   "cell_type": "code",
   "execution_count": null,
   "metadata": {},
   "outputs": [],
   "source": []
  },
  {
   "cell_type": "code",
   "execution_count": null,
   "metadata": {},
   "outputs": [],
   "source": []
  }
 ],
 "metadata": {
  "kernelspec": {
   "display_name": "Python 3 (ipykernel)",
   "language": "python",
   "name": "python3"
  },
  "language_info": {
   "codemirror_mode": {
    "name": "ipython",
    "version": 3
   },
   "file_extension": ".py",
   "mimetype": "text/x-python",
   "name": "python",
   "nbconvert_exporter": "python",
   "pygments_lexer": "ipython3",
   "version": "3.8.14"
  }
 },
 "nbformat": 4,
 "nbformat_minor": 4
}
