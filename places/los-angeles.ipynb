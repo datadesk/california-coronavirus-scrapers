{
 "cells": [
  {
   "cell_type": "markdown",
   "metadata": {
    "tags": []
   },
   "source": [
    "## Configuration\n",
    "_Initial steps to get the notebook ready to play nice with our repository. Do not delete this section._"
   ]
  },
  {
   "cell_type": "markdown",
   "metadata": {},
   "source": [
    "Code formatting with [black](https://pypi.org/project/nb-black/)."
   ]
  },
  {
   "cell_type": "code",
   "execution_count": 1,
   "metadata": {
    "execution": {
     "iopub.execute_input": "2022-12-10T20:18:21.981264Z",
     "iopub.status.busy": "2022-12-10T20:18:21.980831Z",
     "iopub.status.idle": "2022-12-10T20:18:22.112667Z",
     "shell.execute_reply": "2022-12-10T20:18:22.113014Z"
    }
   },
   "outputs": [],
   "source": [
    "%load_ext lab_black"
   ]
  },
  {
   "cell_type": "code",
   "execution_count": 2,
   "metadata": {
    "execution": {
     "iopub.execute_input": "2022-12-10T20:18:22.117439Z",
     "iopub.status.busy": "2022-12-10T20:18:22.116476Z",
     "iopub.status.idle": "2022-12-10T20:18:22.117937Z",
     "shell.execute_reply": "2022-12-10T20:18:22.118277Z"
    }
   },
   "outputs": [],
   "source": [
    "import os\n",
    "import pathlib"
   ]
  },
  {
   "cell_type": "code",
   "execution_count": 3,
   "metadata": {
    "execution": {
     "iopub.execute_input": "2022-12-10T20:18:22.123965Z",
     "iopub.status.busy": "2022-12-10T20:18:22.123258Z",
     "iopub.status.idle": "2022-12-10T20:18:22.124694Z",
     "shell.execute_reply": "2022-12-10T20:18:22.125039Z"
    }
   },
   "outputs": [],
   "source": [
    "this_dir = pathlib.Path(os.path.abspath(\"\"))"
   ]
  },
  {
   "cell_type": "code",
   "execution_count": 4,
   "metadata": {
    "execution": {
     "iopub.execute_input": "2022-12-10T20:18:22.129259Z",
     "iopub.status.busy": "2022-12-10T20:18:22.128560Z",
     "iopub.status.idle": "2022-12-10T20:18:22.129901Z",
     "shell.execute_reply": "2022-12-10T20:18:22.130261Z"
    }
   },
   "outputs": [],
   "source": [
    "data_dir = this_dir / \"data\""
   ]
  },
  {
   "cell_type": "code",
   "execution_count": 5,
   "metadata": {
    "execution": {
     "iopub.execute_input": "2022-12-10T20:18:22.133514Z",
     "iopub.status.busy": "2022-12-10T20:18:22.133105Z",
     "iopub.status.idle": "2022-12-10T20:18:22.501831Z",
     "shell.execute_reply": "2022-12-10T20:18:22.501018Z"
    }
   },
   "outputs": [],
   "source": [
    "import re\n",
    "import pytz\n",
    "import glob\n",
    "import requests\n",
    "import unicodedata\n",
    "import pandas as pd\n",
    "from slugify import slugify\n",
    "from bs4 import BeautifulSoup\n",
    "from datetime import datetime, date"
   ]
  },
  {
   "cell_type": "markdown",
   "metadata": {},
   "source": [
    "## Download"
   ]
  },
  {
   "cell_type": "markdown",
   "metadata": {},
   "source": [
    "Retrieve the page"
   ]
  },
  {
   "cell_type": "code",
   "execution_count": 6,
   "metadata": {
    "execution": {
     "iopub.execute_input": "2022-12-10T20:18:22.506272Z",
     "iopub.status.busy": "2022-12-10T20:18:22.504750Z",
     "iopub.status.idle": "2022-12-10T20:18:22.508729Z",
     "shell.execute_reply": "2022-12-10T20:18:22.508374Z"
    }
   },
   "outputs": [],
   "source": [
    "url = \"http://publichealth.lacounty.gov/media/Coronavirus/locations.htm\""
   ]
  },
  {
   "cell_type": "code",
   "execution_count": 7,
   "metadata": {
    "execution": {
     "iopub.execute_input": "2022-12-10T20:18:22.515346Z",
     "iopub.status.busy": "2022-12-10T20:18:22.511590Z",
     "iopub.status.idle": "2022-12-10T20:18:22.973175Z",
     "shell.execute_reply": "2022-12-10T20:18:22.973560Z"
    }
   },
   "outputs": [],
   "source": [
    "page = requests.get(url)"
   ]
  },
  {
   "cell_type": "markdown",
   "metadata": {},
   "source": [
    "## Parse"
   ]
  },
  {
   "cell_type": "code",
   "execution_count": 8,
   "metadata": {
    "execution": {
     "iopub.execute_input": "2022-12-10T20:18:22.991214Z",
     "iopub.status.busy": "2022-12-10T20:18:22.980928Z",
     "iopub.status.idle": "2022-12-10T20:18:23.164171Z",
     "shell.execute_reply": "2022-12-10T20:18:23.163296Z"
    }
   },
   "outputs": [],
   "source": [
    "soup = BeautifulSoup(page.content, \"html.parser\")"
   ]
  },
  {
   "cell_type": "markdown",
   "metadata": {},
   "source": [
    "Get content well"
   ]
  },
  {
   "cell_type": "code",
   "execution_count": 9,
   "metadata": {
    "execution": {
     "iopub.execute_input": "2022-12-10T20:18:23.169039Z",
     "iopub.status.busy": "2022-12-10T20:18:23.168357Z",
     "iopub.status.idle": "2022-12-10T20:18:23.173777Z",
     "shell.execute_reply": "2022-12-10T20:18:23.173089Z"
    }
   },
   "outputs": [],
   "source": [
    "content = soup.find(\"div\", {\"id\": \"content\"})"
   ]
  },
  {
   "cell_type": "markdown",
   "metadata": {},
   "source": [
    "Get table"
   ]
  },
  {
   "cell_type": "code",
   "execution_count": 10,
   "metadata": {
    "execution": {
     "iopub.execute_input": "2022-12-10T20:18:23.189320Z",
     "iopub.status.busy": "2022-12-10T20:18:23.180755Z",
     "iopub.status.idle": "2022-12-10T20:18:23.194599Z",
     "shell.execute_reply": "2022-12-10T20:18:23.194227Z"
    }
   },
   "outputs": [],
   "source": [
    "for tag in content.find_all(text=re.compile(\"CITY/COMMUNITY\")):\n",
    "    table = tag.findParent(\"table\")"
   ]
  },
  {
   "cell_type": "code",
   "execution_count": 11,
   "metadata": {
    "execution": {
     "iopub.execute_input": "2022-12-10T20:18:23.199775Z",
     "iopub.status.busy": "2022-12-10T20:18:23.199346Z",
     "iopub.status.idle": "2022-12-10T20:18:23.202481Z",
     "shell.execute_reply": "2022-12-10T20:18:23.202996Z"
    }
   },
   "outputs": [],
   "source": [
    "tbody = soup.tbody"
   ]
  },
  {
   "cell_type": "code",
   "execution_count": 12,
   "metadata": {
    "execution": {
     "iopub.execute_input": "2022-12-10T20:18:23.208841Z",
     "iopub.status.busy": "2022-12-10T20:18:23.208270Z",
     "iopub.status.idle": "2022-12-10T20:18:23.211258Z",
     "shell.execute_reply": "2022-12-10T20:18:23.211826Z"
    }
   },
   "outputs": [],
   "source": [
    "row_list = tbody.find_all(\"tr\")"
   ]
  },
  {
   "cell_type": "code",
   "execution_count": 13,
   "metadata": {
    "execution": {
     "iopub.execute_input": "2022-12-10T20:18:23.215903Z",
     "iopub.status.busy": "2022-12-10T20:18:23.213578Z",
     "iopub.status.idle": "2022-12-10T20:18:23.217905Z",
     "shell.execute_reply": "2022-12-10T20:18:23.217346Z"
    }
   },
   "outputs": [],
   "source": [
    "dict_list = []"
   ]
  },
  {
   "cell_type": "code",
   "execution_count": 14,
   "metadata": {
    "execution": {
     "iopub.execute_input": "2022-12-10T20:18:23.222848Z",
     "iopub.status.busy": "2022-12-10T20:18:23.220814Z",
     "iopub.status.idle": "2022-12-10T20:18:23.226083Z",
     "shell.execute_reply": "2022-12-10T20:18:23.225739Z"
    }
   },
   "outputs": [],
   "source": [
    "def safetxt(element):\n",
    "    v = element.text.strip()\n",
    "    v = v.replace(\"\\u200b\", \"\")\n",
    "    return v"
   ]
  },
  {
   "cell_type": "code",
   "execution_count": 15,
   "metadata": {
    "execution": {
     "iopub.execute_input": "2022-12-10T20:18:23.232364Z",
     "iopub.status.busy": "2022-12-10T20:18:23.231942Z",
     "iopub.status.idle": "2022-12-10T20:18:23.234928Z",
     "shell.execute_reply": "2022-12-10T20:18:23.235245Z"
    }
   },
   "outputs": [],
   "source": [
    "def safenumber(element):\n",
    "    v = safetxt(element)\n",
    "    v = v.replace(\",\", \"\")\n",
    "    v = v.replace(\" \", \"\")\n",
    "    return v"
   ]
  },
  {
   "cell_type": "code",
   "execution_count": 16,
   "metadata": {
    "execution": {
     "iopub.execute_input": "2022-12-10T20:18:23.245724Z",
     "iopub.status.busy": "2022-12-10T20:18:23.242122Z",
     "iopub.status.idle": "2022-12-10T20:18:23.253418Z",
     "shell.execute_reply": "2022-12-10T20:18:23.253785Z"
    }
   },
   "outputs": [],
   "source": [
    "for row in row_list:\n",
    "    cell_content = row.find_all(\"td\")\n",
    "    d = dict(\n",
    "        county=\"Los Angeles\",\n",
    "        area=safetxt(cell_content[0]),\n",
    "        confirmed_cases=safenumber(cell_content[1]),\n",
    "        confirmed_deaths=safenumber(cell_content[3]),\n",
    "    )\n",
    "    dict_list.append(d)"
   ]
  },
  {
   "cell_type": "code",
   "execution_count": 17,
   "metadata": {
    "execution": {
     "iopub.execute_input": "2022-12-10T20:18:23.258297Z",
     "iopub.status.busy": "2022-12-10T20:18:23.257581Z",
     "iopub.status.idle": "2022-12-10T20:18:23.261270Z",
     "shell.execute_reply": "2022-12-10T20:18:23.261665Z"
    }
   },
   "outputs": [],
   "source": [
    "df = pd.DataFrame(dict_list)"
   ]
  },
  {
   "cell_type": "markdown",
   "metadata": {},
   "source": [
    "Get timestamp"
   ]
  },
  {
   "cell_type": "code",
   "execution_count": 18,
   "metadata": {
    "execution": {
     "iopub.execute_input": "2022-12-10T20:18:23.265583Z",
     "iopub.status.busy": "2022-12-10T20:18:23.264380Z",
     "iopub.status.idle": "2022-12-10T20:18:23.268864Z",
     "shell.execute_reply": "2022-12-10T20:18:23.268492Z"
    }
   },
   "outputs": [],
   "source": [
    "date_url = \"http://publichealth.lacounty.gov/media/Coronavirus/js/casecounter.js\""
   ]
  },
  {
   "cell_type": "code",
   "execution_count": 19,
   "metadata": {
    "execution": {
     "iopub.execute_input": "2022-12-10T20:18:23.274973Z",
     "iopub.status.busy": "2022-12-10T20:18:23.271554Z",
     "iopub.status.idle": "2022-12-10T20:18:23.690123Z",
     "shell.execute_reply": "2022-12-10T20:18:23.689273Z"
    }
   },
   "outputs": [],
   "source": [
    "response = requests.get(date_url)\n",
    "date_page = response.text"
   ]
  },
  {
   "cell_type": "code",
   "execution_count": 20,
   "metadata": {
    "execution": {
     "iopub.execute_input": "2022-12-10T20:18:23.698438Z",
     "iopub.status.busy": "2022-12-10T20:18:23.698009Z",
     "iopub.status.idle": "2022-12-10T20:18:23.703596Z",
     "shell.execute_reply": "2022-12-10T20:18:23.703212Z"
    }
   },
   "outputs": [
    {
     "data": {
      "text/plain": [
       "'$( document ).ready(function() {\\r\\n    var data = {\\r\\n\\t\\t\\t\\t    \"content\": { \\r\\n\\t\\t\\r\\n\\t\\t\\t\"count\": \"3,577,685\",\\r\\n\\r\\n\\r\\n\\t\\t\\t\"death\": \"34,296\",\\r\\n\\r\\n\\t\\t\\t\"dailycount\": \"3,756\",\\r\\n\\r\\n\\r\\n\\t\\t\\t\"dailydeath\": \"17\",\\r\\n\\t\\t\\t\"hospitalizationsever\": \"162,287\",\\r\\n\\r\\n\\r\\n\\t\\t\\t\"date\": \"12/9\",\\r\\n\\t\\t\\t\"info\": \"through 12:00pm 12/8/2022\",\\r\\n\\r\\n\\t\\t\\t\"testingaverage\": \"34,807\",\\r\\n\\r\\n\\t\\t\\t\"peopletested\": \"12,761,505\",\\r\\n\\r\\n\\t\\t\\t\"positivity\": \"12.22%\",\\r\\n\\r\\n\\t\\t\\t\"hospitalizations\": \"1,243\",\\r\\n\\t\\t\\t\"datehospitalizations\": \"12/8\"\\r\\n\\r\\n\\t\\t\\t\\t}       \\r\\n\\t\\t\\t\\t};\\t\\r\\n\\t\\t\\t\\t\\r\\n\\t\\t\\t\\t\\r\\n\\t\\t\\t\\tvar content = data.content;\\r\\n\\t\\t\\t\\t\\r\\n\\t\\t\\t\\t$(\\'#ctn\\').html(content.count);\\r\\n\\t\\t\\t\\t$(\\'#det\\').html(content.death);\\r\\n\\t\\t\\t\\t$(\\'#dctn\\').html(content.dailycount);\\r\\n\\t\\t\\t\\t$(\\'#ddet\\').html(content.dailydeath);\\r\\n\\t\\t\\t\\t$(\\'#hosp_1\\').html(content.hospitalizationsever);\\r\\n\\t\\t\\t\\t$(\\'#dte\\').html(content.date);\\r\\n\\t\\t\\t\\t$(\\'#dte_1\\').html(content.date);\\r\\n\\t\\t\\t\\t$(\\'#dte_2\\').html(content.date);\\r\\n\\t\\t\\t\\t$(\\'#dte_3\\').html(content.datehospitalizations);\\r\\n\\t\\t\\t\\t$(\\'#cse\\').html(content.info);\\t\\r\\n\\t\\t\\t\\r\\n\\t\\t\\t\\t\\r\\n\\t\\t\\t\\t$(\\'#tstavg\\').html(content.testingaverage);\\t\\r\\n\\t\\t\\t\\t$(\\'#ppltst\\').html(content.peopletested);\\t\\r\\n\\t\\t\\t\\t$(\\'#pos\\').html(content.positivity);\\t\\r\\n\\t\\t\\t\\t$(\\'#hosp\\').html(content.hospitalizations);\\r\\n\\t\\t\\t\\r\\n\\t\\t\\t\\t\\t\\t\\t\\r\\n\\r\\n\\r\\n});\\r\\n\\r\\n\\r\\n\\r\\n'"
      ]
     },
     "execution_count": 20,
     "metadata": {},
     "output_type": "execute_result"
    }
   ],
   "source": [
    "date_page"
   ]
  },
  {
   "cell_type": "code",
   "execution_count": 21,
   "metadata": {
    "execution": {
     "iopub.execute_input": "2022-12-10T20:18:23.707326Z",
     "iopub.status.busy": "2022-12-10T20:18:23.706890Z",
     "iopub.status.idle": "2022-12-10T20:18:23.709851Z",
     "shell.execute_reply": "2022-12-10T20:18:23.710393Z"
    }
   },
   "outputs": [],
   "source": [
    "# date_text = re.search(r\"([0-9][0-9]/[0-9][0-9])\", date_page).group(1)\n",
    "# date_text = date_text + \"/\" + str(date.today().year)"
   ]
  },
  {
   "cell_type": "code",
   "execution_count": 22,
   "metadata": {
    "execution": {
     "iopub.execute_input": "2022-12-10T20:18:23.715765Z",
     "iopub.status.busy": "2022-12-10T20:18:23.712307Z",
     "iopub.status.idle": "2022-12-10T20:18:23.718513Z",
     "shell.execute_reply": "2022-12-10T20:18:23.717815Z"
    }
   },
   "outputs": [],
   "source": [
    "date_text = re.search(r\"through (.+?)\\\"\", date_page).group(1)"
   ]
  },
  {
   "cell_type": "code",
   "execution_count": 23,
   "metadata": {
    "execution": {
     "iopub.execute_input": "2022-12-10T20:18:23.722610Z",
     "iopub.status.busy": "2022-12-10T20:18:23.722173Z",
     "iopub.status.idle": "2022-12-10T20:18:23.726007Z",
     "shell.execute_reply": "2022-12-10T20:18:23.725380Z"
    }
   },
   "outputs": [],
   "source": [
    "date_text = date_text.split(\"m \")[0]"
   ]
  },
  {
   "cell_type": "code",
   "execution_count": 24,
   "metadata": {
    "execution": {
     "iopub.execute_input": "2022-12-10T20:18:23.730710Z",
     "iopub.status.busy": "2022-12-10T20:18:23.730290Z",
     "iopub.status.idle": "2022-12-10T20:18:23.732665Z",
     "shell.execute_reply": "2022-12-10T20:18:23.733013Z"
    }
   },
   "outputs": [],
   "source": [
    "latest_date = pd.to_datetime(date_text).date()"
   ]
  },
  {
   "cell_type": "code",
   "execution_count": 25,
   "metadata": {
    "execution": {
     "iopub.execute_input": "2022-12-10T20:18:23.737790Z",
     "iopub.status.busy": "2022-12-10T20:18:23.736866Z",
     "iopub.status.idle": "2022-12-10T20:18:23.740206Z",
     "shell.execute_reply": "2022-12-10T20:18:23.739810Z"
    }
   },
   "outputs": [],
   "source": [
    "df[\"county_date\"] = latest_date"
   ]
  },
  {
   "cell_type": "code",
   "execution_count": 26,
   "metadata": {
    "execution": {
     "iopub.execute_input": "2022-12-10T20:18:23.745897Z",
     "iopub.status.busy": "2022-12-10T20:18:23.744364Z",
     "iopub.status.idle": "2022-12-10T20:18:23.748253Z",
     "shell.execute_reply": "2022-12-10T20:18:23.747878Z"
    }
   },
   "outputs": [],
   "source": [
    "df.loc[df.area == \"-  Under Investigation\", \"area\"] = \"Under Investigation\""
   ]
  },
  {
   "cell_type": "code",
   "execution_count": 27,
   "metadata": {
    "execution": {
     "iopub.execute_input": "2022-12-10T20:18:23.753437Z",
     "iopub.status.busy": "2022-12-10T20:18:23.753010Z",
     "iopub.status.idle": "2022-12-10T20:18:23.755552Z",
     "shell.execute_reply": "2022-12-10T20:18:23.755886Z"
    }
   },
   "outputs": [],
   "source": [
    "df.loc[df.area == \"- Under Investigation\", \"area\"] = \"Under Investigation\""
   ]
  },
  {
   "cell_type": "markdown",
   "metadata": {},
   "source": [
    "## Vet"
   ]
  },
  {
   "cell_type": "code",
   "execution_count": 28,
   "metadata": {
    "execution": {
     "iopub.execute_input": "2022-12-10T20:18:23.759718Z",
     "iopub.status.busy": "2022-12-10T20:18:23.759273Z",
     "iopub.status.idle": "2022-12-10T20:18:23.764065Z",
     "shell.execute_reply": "2022-12-10T20:18:23.763464Z"
    }
   },
   "outputs": [],
   "source": [
    "try:\n",
    "    assert not len(df) > 342\n",
    "except AssertionError:\n",
    "    raise AssertionError(\"L.A. County's scraper has extra rows\")"
   ]
  },
  {
   "cell_type": "code",
   "execution_count": 29,
   "metadata": {
    "execution": {
     "iopub.execute_input": "2022-12-10T20:18:23.766991Z",
     "iopub.status.busy": "2022-12-10T20:18:23.766586Z",
     "iopub.status.idle": "2022-12-10T20:18:23.885198Z",
     "shell.execute_reply": "2022-12-10T20:18:23.884179Z"
    }
   },
   "outputs": [
    {
     "ename": "AssertionError",
     "evalue": "L.A. County's scraper is missing rows",
     "output_type": "error",
     "traceback": [
      "\u001b[0;31m---------------------------------------------------------------------------\u001b[0m",
      "\u001b[0;31mAssertionError\u001b[0m                            Traceback (most recent call last)",
      "\u001b[0;32m/tmp/ipykernel_2285/2999864733.py\u001b[0m in \u001b[0;36m<module>\u001b[0;34m\u001b[0m\n\u001b[1;32m      1\u001b[0m \u001b[0;32mtry\u001b[0m\u001b[0;34m:\u001b[0m\u001b[0;34m\u001b[0m\u001b[0;34m\u001b[0m\u001b[0m\n\u001b[0;32m----> 2\u001b[0;31m     \u001b[0;32massert\u001b[0m \u001b[0;32mnot\u001b[0m \u001b[0mlen\u001b[0m\u001b[0;34m(\u001b[0m\u001b[0mdf\u001b[0m\u001b[0;34m)\u001b[0m \u001b[0;34m<\u001b[0m \u001b[0;36m342\u001b[0m\u001b[0;34m\u001b[0m\u001b[0;34m\u001b[0m\u001b[0m\n\u001b[0m\u001b[1;32m      3\u001b[0m \u001b[0;32mexcept\u001b[0m \u001b[0mAssertionError\u001b[0m\u001b[0;34m:\u001b[0m\u001b[0;34m\u001b[0m\u001b[0;34m\u001b[0m\u001b[0m\n",
      "\u001b[0;31mAssertionError\u001b[0m: ",
      "\nDuring handling of the above exception, another exception occurred:\n",
      "\u001b[0;31mAssertionError\u001b[0m                            Traceback (most recent call last)",
      "\u001b[0;32m/tmp/ipykernel_2285/2999864733.py\u001b[0m in \u001b[0;36m<module>\u001b[0;34m\u001b[0m\n\u001b[1;32m      2\u001b[0m     \u001b[0;32massert\u001b[0m \u001b[0;32mnot\u001b[0m \u001b[0mlen\u001b[0m\u001b[0;34m(\u001b[0m\u001b[0mdf\u001b[0m\u001b[0;34m)\u001b[0m \u001b[0;34m<\u001b[0m \u001b[0;36m342\u001b[0m\u001b[0;34m\u001b[0m\u001b[0;34m\u001b[0m\u001b[0m\n\u001b[1;32m      3\u001b[0m \u001b[0;32mexcept\u001b[0m \u001b[0mAssertionError\u001b[0m\u001b[0;34m:\u001b[0m\u001b[0;34m\u001b[0m\u001b[0;34m\u001b[0m\u001b[0m\n\u001b[0;32m----> 4\u001b[0;31m     \u001b[0;32mraise\u001b[0m \u001b[0mAssertionError\u001b[0m\u001b[0;34m(\u001b[0m\u001b[0;34m\"L.A. County's scraper is missing rows\"\u001b[0m\u001b[0;34m)\u001b[0m\u001b[0;34m\u001b[0m\u001b[0;34m\u001b[0m\u001b[0m\n\u001b[0m",
      "\u001b[0;31mAssertionError\u001b[0m: L.A. County's scraper is missing rows"
     ]
    }
   ],
   "source": [
    "try:\n",
    "    assert not len(df) < 342\n",
    "except AssertionError:\n",
    "    raise AssertionError(\"L.A. County's scraper is missing rows\")"
   ]
  },
  {
   "cell_type": "markdown",
   "metadata": {},
   "source": [
    "## Export"
   ]
  },
  {
   "cell_type": "markdown",
   "metadata": {},
   "source": [
    "Set the date"
   ]
  },
  {
   "cell_type": "code",
   "execution_count": 30,
   "metadata": {},
   "outputs": [],
   "source": [
    "tz = pytz.timezone(\"America/Los_Angeles\")"
   ]
  },
  {
   "cell_type": "code",
   "execution_count": 31,
   "metadata": {},
   "outputs": [],
   "source": [
    "today = datetime.now(tz).date()"
   ]
  },
  {
   "cell_type": "code",
   "execution_count": 32,
   "metadata": {},
   "outputs": [],
   "source": [
    "slug = \"los-angeles\""
   ]
  },
  {
   "cell_type": "code",
   "execution_count": 33,
   "metadata": {},
   "outputs": [],
   "source": [
    "df.to_csv(data_dir / slug / f\"{today}.csv\", index=False)"
   ]
  },
  {
   "cell_type": "markdown",
   "metadata": {},
   "source": [
    "## Combine"
   ]
  },
  {
   "cell_type": "code",
   "execution_count": 34,
   "metadata": {},
   "outputs": [],
   "source": [
    "csv_list = [\n",
    "    i\n",
    "    for i in glob.glob(str(data_dir / slug / \"*.csv\"))\n",
    "    if not str(i).endswith(\"timeseries.csv\")\n",
    "]"
   ]
  },
  {
   "cell_type": "code",
   "execution_count": 35,
   "metadata": {},
   "outputs": [],
   "source": [
    "df_list = []\n",
    "for csv in csv_list:\n",
    "    if \"manual\" in csv:\n",
    "        df = pd.read_csv(csv, parse_dates=[\"date\"])\n",
    "    else:\n",
    "        file_date = csv.split(\"/\")[-1].replace(\".csv\", \"\")\n",
    "        df = pd.read_csv(csv, parse_dates=[\"county_date\"])\n",
    "        df[\"date\"] = file_date\n",
    "    df_list.append(df)"
   ]
  },
  {
   "cell_type": "code",
   "execution_count": 36,
   "metadata": {},
   "outputs": [],
   "source": [
    "df = pd.concat(df_list).sort_values([\"date\", \"area\"])"
   ]
  },
  {
   "cell_type": "code",
   "execution_count": 37,
   "metadata": {},
   "outputs": [],
   "source": [
    "df.to_csv(data_dir / slug / \"timeseries.csv\", index=False)"
   ]
  },
  {
   "cell_type": "code",
   "execution_count": null,
   "metadata": {},
   "outputs": [],
   "source": []
  },
  {
   "cell_type": "code",
   "execution_count": null,
   "metadata": {},
   "outputs": [],
   "source": []
  }
 ],
 "metadata": {
  "kernelspec": {
   "display_name": "Python 3 (ipykernel)",
   "language": "python",
   "name": "python3"
  },
  "language_info": {
   "codemirror_mode": {
    "name": "ipython",
    "version": 3
   },
   "file_extension": ".py",
   "mimetype": "text/x-python",
   "name": "python",
   "nbconvert_exporter": "python",
   "pygments_lexer": "ipython3",
   "version": "3.8.15"
  }
 },
 "nbformat": 4,
 "nbformat_minor": 4
}
