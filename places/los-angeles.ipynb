{
 "cells": [
  {
   "cell_type": "markdown",
   "metadata": {
    "tags": []
   },
   "source": [
    "## Configuration\n",
    "_Initial steps to get the notebook ready to play nice with our repository. Do not delete this section._"
   ]
  },
  {
   "cell_type": "markdown",
   "metadata": {},
   "source": [
    "Code formatting with [black](https://pypi.org/project/nb-black/)."
   ]
  },
  {
   "cell_type": "code",
   "execution_count": 1,
   "metadata": {
    "execution": {
     "iopub.execute_input": "2023-01-16T01:50:29.379868Z",
     "iopub.status.busy": "2023-01-16T01:50:29.375303Z",
     "iopub.status.idle": "2023-01-16T01:50:29.516394Z",
     "shell.execute_reply": "2023-01-16T01:50:29.515905Z"
    }
   },
   "outputs": [],
   "source": [
    "%load_ext lab_black"
   ]
  },
  {
   "cell_type": "code",
   "execution_count": 2,
   "metadata": {
    "execution": {
     "iopub.execute_input": "2023-01-16T01:50:29.520033Z",
     "iopub.status.busy": "2023-01-16T01:50:29.519226Z",
     "iopub.status.idle": "2023-01-16T01:50:29.521756Z",
     "shell.execute_reply": "2023-01-16T01:50:29.521404Z"
    }
   },
   "outputs": [],
   "source": [
    "import os\n",
    "import pathlib"
   ]
  },
  {
   "cell_type": "code",
   "execution_count": 3,
   "metadata": {
    "execution": {
     "iopub.execute_input": "2023-01-16T01:50:29.525302Z",
     "iopub.status.busy": "2023-01-16T01:50:29.524872Z",
     "iopub.status.idle": "2023-01-16T01:50:29.528815Z",
     "shell.execute_reply": "2023-01-16T01:50:29.528461Z"
    }
   },
   "outputs": [],
   "source": [
    "this_dir = pathlib.Path(os.path.abspath(\"\"))"
   ]
  },
  {
   "cell_type": "code",
   "execution_count": 4,
   "metadata": {
    "execution": {
     "iopub.execute_input": "2023-01-16T01:50:29.532367Z",
     "iopub.status.busy": "2023-01-16T01:50:29.531971Z",
     "iopub.status.idle": "2023-01-16T01:50:29.534380Z",
     "shell.execute_reply": "2023-01-16T01:50:29.534015Z"
    }
   },
   "outputs": [],
   "source": [
    "data_dir = this_dir / \"data\""
   ]
  },
  {
   "cell_type": "code",
   "execution_count": 5,
   "metadata": {
    "execution": {
     "iopub.execute_input": "2023-01-16T01:50:29.537841Z",
     "iopub.status.busy": "2023-01-16T01:50:29.537419Z",
     "iopub.status.idle": "2023-01-16T01:50:29.911884Z",
     "shell.execute_reply": "2023-01-16T01:50:29.911083Z"
    }
   },
   "outputs": [],
   "source": [
    "import re\n",
    "import pytz\n",
    "import glob\n",
    "import requests\n",
    "import unicodedata\n",
    "import pandas as pd\n",
    "from slugify import slugify\n",
    "from bs4 import BeautifulSoup\n",
    "from datetime import datetime, date"
   ]
  },
  {
   "cell_type": "markdown",
   "metadata": {},
   "source": [
    "## Download"
   ]
  },
  {
   "cell_type": "markdown",
   "metadata": {},
   "source": [
    "Retrieve the page"
   ]
  },
  {
   "cell_type": "code",
   "execution_count": 6,
   "metadata": {
    "execution": {
     "iopub.execute_input": "2023-01-16T01:50:29.915599Z",
     "iopub.status.busy": "2023-01-16T01:50:29.914881Z",
     "iopub.status.idle": "2023-01-16T01:50:29.919112Z",
     "shell.execute_reply": "2023-01-16T01:50:29.918376Z"
    }
   },
   "outputs": [],
   "source": [
    "url = \"http://publichealth.lacounty.gov/media/Coronavirus/locations.htm\""
   ]
  },
  {
   "cell_type": "code",
   "execution_count": 7,
   "metadata": {
    "execution": {
     "iopub.execute_input": "2023-01-16T01:50:29.925821Z",
     "iopub.status.busy": "2023-01-16T01:50:29.921961Z",
     "iopub.status.idle": "2023-01-16T01:50:30.342911Z",
     "shell.execute_reply": "2023-01-16T01:50:30.342463Z"
    }
   },
   "outputs": [],
   "source": [
    "page = requests.get(url)"
   ]
  },
  {
   "cell_type": "markdown",
   "metadata": {},
   "source": [
    "## Parse"
   ]
  },
  {
   "cell_type": "code",
   "execution_count": 8,
   "metadata": {
    "execution": {
     "iopub.execute_input": "2023-01-16T01:50:30.356015Z",
     "iopub.status.busy": "2023-01-16T01:50:30.355571Z",
     "iopub.status.idle": "2023-01-16T01:50:30.495765Z",
     "shell.execute_reply": "2023-01-16T01:50:30.496155Z"
    }
   },
   "outputs": [],
   "source": [
    "soup = BeautifulSoup(page.content, \"html.parser\")"
   ]
  },
  {
   "cell_type": "markdown",
   "metadata": {},
   "source": [
    "Get content well"
   ]
  },
  {
   "cell_type": "code",
   "execution_count": 9,
   "metadata": {
    "execution": {
     "iopub.execute_input": "2023-01-16T01:50:30.502842Z",
     "iopub.status.busy": "2023-01-16T01:50:30.501943Z",
     "iopub.status.idle": "2023-01-16T01:50:30.505607Z",
     "shell.execute_reply": "2023-01-16T01:50:30.505235Z"
    }
   },
   "outputs": [],
   "source": [
    "content = soup.find(\"div\", {\"id\": \"content\"})"
   ]
  },
  {
   "cell_type": "markdown",
   "metadata": {},
   "source": [
    "Get table"
   ]
  },
  {
   "cell_type": "code",
   "execution_count": 10,
   "metadata": {
    "execution": {
     "iopub.execute_input": "2023-01-16T01:50:30.517976Z",
     "iopub.status.busy": "2023-01-16T01:50:30.512787Z",
     "iopub.status.idle": "2023-01-16T01:50:30.524127Z",
     "shell.execute_reply": "2023-01-16T01:50:30.523780Z"
    }
   },
   "outputs": [],
   "source": [
    "for tag in content.find_all(text=re.compile(\"CITY/COMMUNITY\")):\n",
    "    table = tag.findParent(\"table\")"
   ]
  },
  {
   "cell_type": "code",
   "execution_count": 11,
   "metadata": {
    "execution": {
     "iopub.execute_input": "2023-01-16T01:50:30.528934Z",
     "iopub.status.busy": "2023-01-16T01:50:30.527987Z",
     "iopub.status.idle": "2023-01-16T01:50:30.531388Z",
     "shell.execute_reply": "2023-01-16T01:50:30.531011Z"
    }
   },
   "outputs": [],
   "source": [
    "tbody = soup.tbody"
   ]
  },
  {
   "cell_type": "code",
   "execution_count": 12,
   "metadata": {
    "execution": {
     "iopub.execute_input": "2023-01-16T01:50:30.537346Z",
     "iopub.status.busy": "2023-01-16T01:50:30.536448Z",
     "iopub.status.idle": "2023-01-16T01:50:30.539784Z",
     "shell.execute_reply": "2023-01-16T01:50:30.539403Z"
    }
   },
   "outputs": [],
   "source": [
    "row_list = tbody.find_all(\"tr\")"
   ]
  },
  {
   "cell_type": "code",
   "execution_count": 13,
   "metadata": {
    "execution": {
     "iopub.execute_input": "2023-01-16T01:50:30.544070Z",
     "iopub.status.busy": "2023-01-16T01:50:30.543503Z",
     "iopub.status.idle": "2023-01-16T01:50:30.546576Z",
     "shell.execute_reply": "2023-01-16T01:50:30.546054Z"
    }
   },
   "outputs": [],
   "source": [
    "dict_list = []"
   ]
  },
  {
   "cell_type": "code",
   "execution_count": 14,
   "metadata": {
    "execution": {
     "iopub.execute_input": "2023-01-16T01:50:30.552968Z",
     "iopub.status.busy": "2023-01-16T01:50:30.551785Z",
     "iopub.status.idle": "2023-01-16T01:50:30.555739Z",
     "shell.execute_reply": "2023-01-16T01:50:30.554948Z"
    }
   },
   "outputs": [],
   "source": [
    "def safetxt(element):\n",
    "    v = element.text.strip()\n",
    "    v = v.replace(\"\\u200b\", \"\")\n",
    "    return v"
   ]
  },
  {
   "cell_type": "code",
   "execution_count": 15,
   "metadata": {
    "execution": {
     "iopub.execute_input": "2023-01-16T01:50:30.563016Z",
     "iopub.status.busy": "2023-01-16T01:50:30.559039Z",
     "iopub.status.idle": "2023-01-16T01:50:30.565506Z",
     "shell.execute_reply": "2023-01-16T01:50:30.565123Z"
    }
   },
   "outputs": [],
   "source": [
    "def safenumber(element):\n",
    "    v = safetxt(element)\n",
    "    v = v.replace(\",\", \"\")\n",
    "    v = v.replace(\" \", \"\")\n",
    "    return v"
   ]
  },
  {
   "cell_type": "code",
   "execution_count": 16,
   "metadata": {
    "execution": {
     "iopub.execute_input": "2023-01-16T01:50:30.578091Z",
     "iopub.status.busy": "2023-01-16T01:50:30.572665Z",
     "iopub.status.idle": "2023-01-16T01:50:30.584686Z",
     "shell.execute_reply": "2023-01-16T01:50:30.584300Z"
    }
   },
   "outputs": [],
   "source": [
    "for row in row_list:\n",
    "    cell_content = row.find_all(\"td\")\n",
    "    d = dict(\n",
    "        county=\"Los Angeles\",\n",
    "        area=safetxt(cell_content[0]),\n",
    "        confirmed_cases=safenumber(cell_content[1]),\n",
    "        confirmed_deaths=safenumber(cell_content[3]),\n",
    "    )\n",
    "    dict_list.append(d)"
   ]
  },
  {
   "cell_type": "code",
   "execution_count": 17,
   "metadata": {
    "execution": {
     "iopub.execute_input": "2023-01-16T01:50:30.590133Z",
     "iopub.status.busy": "2023-01-16T01:50:30.589513Z",
     "iopub.status.idle": "2023-01-16T01:50:30.592205Z",
     "shell.execute_reply": "2023-01-16T01:50:30.592557Z"
    }
   },
   "outputs": [],
   "source": [
    "df = pd.DataFrame(dict_list)"
   ]
  },
  {
   "cell_type": "markdown",
   "metadata": {},
   "source": [
    "Get timestamp"
   ]
  },
  {
   "cell_type": "code",
   "execution_count": 18,
   "metadata": {
    "execution": {
     "iopub.execute_input": "2023-01-16T01:50:30.597550Z",
     "iopub.status.busy": "2023-01-16T01:50:30.596930Z",
     "iopub.status.idle": "2023-01-16T01:50:30.600022Z",
     "shell.execute_reply": "2023-01-16T01:50:30.599491Z"
    }
   },
   "outputs": [],
   "source": [
    "date_url = \"http://publichealth.lacounty.gov/media/Coronavirus/js/casecounter.js\""
   ]
  },
  {
   "cell_type": "code",
   "execution_count": 19,
   "metadata": {
    "execution": {
     "iopub.execute_input": "2023-01-16T01:50:30.605751Z",
     "iopub.status.busy": "2023-01-16T01:50:30.605327Z",
     "iopub.status.idle": "2023-01-16T01:50:30.781154Z",
     "shell.execute_reply": "2023-01-16T01:50:30.781502Z"
    }
   },
   "outputs": [],
   "source": [
    "response = requests.get(date_url)\n",
    "date_page = response.text"
   ]
  },
  {
   "cell_type": "code",
   "execution_count": 20,
   "metadata": {
    "execution": {
     "iopub.execute_input": "2023-01-16T01:50:30.789643Z",
     "iopub.status.busy": "2023-01-16T01:50:30.789207Z",
     "iopub.status.idle": "2023-01-16T01:50:30.794578Z",
     "shell.execute_reply": "2023-01-16T01:50:30.795111Z"
    }
   },
   "outputs": [
    {
     "data": {
      "text/plain": [
       "'$( document ).ready(function() {\\r\\n    var data = {\\r\\n\\t\\t\\t\\t    \"content\": { \\r\\n\\t\\t\\r\\n\\t\\t\\t\"count\": \"3,659,260\",\\r\\n\\r\\n\\r\\n\\t\\t\\t\"death\": \"34,969\",\\r\\n\\r\\n\\t\\t\\t\"dailycount\": \"1,534\",\\r\\n\\r\\n\\r\\n\\t\\t\\t\"dailydeath\": \"25\",\\r\\n\\t\\t\\t\"hospitalizationsever\": \"168,519\",\\r\\n\\r\\n\\r\\n\\t\\t\\t\"date\": \"01/13/23\",\\r\\n\\t\\t\\t\"info\": \"through 12:00pm 01/12/2023\",\\r\\n\\r\\n\\t\\t\\t\"testingaverage\": \"21,336\",\\r\\n\\r\\n\\t\\t\\t\"peopletested\": \"12,852,693\",\\r\\n\\r\\n\\t\\t\\t\"positivity\": \"9.43%\",\\r\\n\\r\\n\\t\\t\\t\"hospitalizations\": \"1,053\",\\r\\n\\t\\t\\t\"datehospitalizations\": \"01/12/23\"\\r\\n\\r\\n\\t\\t\\t\\t}       \\r\\n\\t\\t\\t\\t};\\t\\r\\n\\t\\t\\t\\t\\r\\n\\t\\t\\t\\t\\r\\n\\t\\t\\t\\tvar content = data.content;\\r\\n\\t\\t\\t\\t\\r\\n\\t\\t\\t\\t$(\\'#ctn\\').html(content.count);\\r\\n\\t\\t\\t\\t$(\\'#det\\').html(content.death);\\r\\n\\t\\t\\t\\t$(\\'#dctn\\').html(content.dailycount);\\r\\n\\t\\t\\t\\t$(\\'#ddet\\').html(content.dailydeath);\\r\\n\\t\\t\\t\\t$(\\'#hosp_1\\').html(content.hospitalizationsever);\\r\\n\\t\\t\\t\\t$(\\'#dte\\').html(content.date);\\r\\n\\t\\t\\t\\t$(\\'#dte_1\\').html(content.date);\\r\\n\\t\\t\\t\\t$(\\'#dte_2\\').html(content.date);\\r\\n\\t\\t\\t\\t$(\\'#dte_3\\').html(content.datehospitalizations);\\r\\n\\t\\t\\t\\t$(\\'#cse\\').html(content.info);\\t\\r\\n\\t\\t\\t\\r\\n\\t\\t\\t\\t\\r\\n\\t\\t\\t\\t$(\\'#tstavg\\').html(content.testingaverage);\\t\\r\\n\\t\\t\\t\\t$(\\'#ppltst\\').html(content.peopletested);\\t\\r\\n\\t\\t\\t\\t$(\\'#pos\\').html(content.positivity);\\t\\r\\n\\t\\t\\t\\t$(\\'#hosp\\').html(content.hospitalizations);\\r\\n\\t\\t\\t\\r\\n\\t\\t\\t\\t\\t\\t\\t\\r\\n\\r\\n\\r\\n});\\r\\n\\r\\n\\r\\n\\r\\n'"
      ]
     },
     "execution_count": 20,
     "metadata": {},
     "output_type": "execute_result"
    }
   ],
   "source": [
    "date_page"
   ]
  },
  {
   "cell_type": "code",
   "execution_count": 21,
   "metadata": {
    "execution": {
     "iopub.execute_input": "2023-01-16T01:50:30.798680Z",
     "iopub.status.busy": "2023-01-16T01:50:30.796964Z",
     "iopub.status.idle": "2023-01-16T01:50:30.801071Z",
     "shell.execute_reply": "2023-01-16T01:50:30.801429Z"
    }
   },
   "outputs": [],
   "source": [
    "# date_text = re.search(r\"([0-9][0-9]/[0-9][0-9])\", date_page).group(1)\n",
    "# date_text = date_text + \"/\" + str(date.today().year)"
   ]
  },
  {
   "cell_type": "code",
   "execution_count": 22,
   "metadata": {
    "execution": {
     "iopub.execute_input": "2023-01-16T01:50:30.805273Z",
     "iopub.status.busy": "2023-01-16T01:50:30.803312Z",
     "iopub.status.idle": "2023-01-16T01:50:30.808717Z",
     "shell.execute_reply": "2023-01-16T01:50:30.809083Z"
    }
   },
   "outputs": [],
   "source": [
    "date_text = re.search(r\"through (.+?)\\\"\", date_page).group(1)"
   ]
  },
  {
   "cell_type": "code",
   "execution_count": 23,
   "metadata": {
    "execution": {
     "iopub.execute_input": "2023-01-16T01:50:30.813805Z",
     "iopub.status.busy": "2023-01-16T01:50:30.812797Z",
     "iopub.status.idle": "2023-01-16T01:50:30.816250Z",
     "shell.execute_reply": "2023-01-16T01:50:30.815876Z"
    }
   },
   "outputs": [],
   "source": [
    "date_text = date_text.split(\"m \")[0]"
   ]
  },
  {
   "cell_type": "code",
   "execution_count": 24,
   "metadata": {
    "execution": {
     "iopub.execute_input": "2023-01-16T01:50:30.821455Z",
     "iopub.status.busy": "2023-01-16T01:50:30.819485Z",
     "iopub.status.idle": "2023-01-16T01:50:30.823878Z",
     "shell.execute_reply": "2023-01-16T01:50:30.823493Z"
    }
   },
   "outputs": [],
   "source": [
    "latest_date = pd.to_datetime(date_text).date()"
   ]
  },
  {
   "cell_type": "code",
   "execution_count": 25,
   "metadata": {
    "execution": {
     "iopub.execute_input": "2023-01-16T01:50:30.828841Z",
     "iopub.status.busy": "2023-01-16T01:50:30.828244Z",
     "iopub.status.idle": "2023-01-16T01:50:30.831339Z",
     "shell.execute_reply": "2023-01-16T01:50:30.830812Z"
    }
   },
   "outputs": [],
   "source": [
    "df[\"county_date\"] = latest_date"
   ]
  },
  {
   "cell_type": "code",
   "execution_count": 26,
   "metadata": {
    "execution": {
     "iopub.execute_input": "2023-01-16T01:50:30.837288Z",
     "iopub.status.busy": "2023-01-16T01:50:30.836129Z",
     "iopub.status.idle": "2023-01-16T01:50:30.839702Z",
     "shell.execute_reply": "2023-01-16T01:50:30.839327Z"
    }
   },
   "outputs": [],
   "source": [
    "df.loc[df.area == \"-  Under Investigation\", \"area\"] = \"Under Investigation\""
   ]
  },
  {
   "cell_type": "code",
   "execution_count": 27,
   "metadata": {
    "execution": {
     "iopub.execute_input": "2023-01-16T01:50:30.845189Z",
     "iopub.status.busy": "2023-01-16T01:50:30.843311Z",
     "iopub.status.idle": "2023-01-16T01:50:30.848143Z",
     "shell.execute_reply": "2023-01-16T01:50:30.847775Z"
    }
   },
   "outputs": [],
   "source": [
    "df.loc[df.area == \"- Under Investigation\", \"area\"] = \"Under Investigation\""
   ]
  },
  {
   "cell_type": "markdown",
   "metadata": {},
   "source": [
    "## Vet"
   ]
  },
  {
   "cell_type": "code",
   "execution_count": 28,
   "metadata": {
    "execution": {
     "iopub.execute_input": "2023-01-16T01:50:30.852339Z",
     "iopub.status.busy": "2023-01-16T01:50:30.851575Z",
     "iopub.status.idle": "2023-01-16T01:50:30.856602Z",
     "shell.execute_reply": "2023-01-16T01:50:30.855914Z"
    }
   },
   "outputs": [],
   "source": [
    "try:\n",
    "    assert not len(df) > 342\n",
    "except AssertionError:\n",
    "    raise AssertionError(\"L.A. County's scraper has extra rows\")"
   ]
  },
  {
   "cell_type": "code",
   "execution_count": 29,
   "metadata": {
    "execution": {
     "iopub.execute_input": "2023-01-16T01:50:30.859806Z",
     "iopub.status.busy": "2023-01-16T01:50:30.859375Z",
     "iopub.status.idle": "2023-01-16T01:50:30.979912Z",
     "shell.execute_reply": "2023-01-16T01:50:30.978528Z"
    }
   },
   "outputs": [
    {
     "ename": "AssertionError",
     "evalue": "L.A. County's scraper is missing rows",
     "output_type": "error",
     "traceback": [
      "\u001b[0;31m---------------------------------------------------------------------------\u001b[0m",
      "\u001b[0;31mAssertionError\u001b[0m                            Traceback (most recent call last)",
      "\u001b[0;32m/tmp/ipykernel_2233/2999864733.py\u001b[0m in \u001b[0;36m<module>\u001b[0;34m\u001b[0m\n\u001b[1;32m      1\u001b[0m \u001b[0;32mtry\u001b[0m\u001b[0;34m:\u001b[0m\u001b[0;34m\u001b[0m\u001b[0;34m\u001b[0m\u001b[0m\n\u001b[0;32m----> 2\u001b[0;31m     \u001b[0;32massert\u001b[0m \u001b[0;32mnot\u001b[0m \u001b[0mlen\u001b[0m\u001b[0;34m(\u001b[0m\u001b[0mdf\u001b[0m\u001b[0;34m)\u001b[0m \u001b[0;34m<\u001b[0m \u001b[0;36m342\u001b[0m\u001b[0;34m\u001b[0m\u001b[0;34m\u001b[0m\u001b[0m\n\u001b[0m\u001b[1;32m      3\u001b[0m \u001b[0;32mexcept\u001b[0m \u001b[0mAssertionError\u001b[0m\u001b[0;34m:\u001b[0m\u001b[0;34m\u001b[0m\u001b[0;34m\u001b[0m\u001b[0m\n",
      "\u001b[0;31mAssertionError\u001b[0m: ",
      "\nDuring handling of the above exception, another exception occurred:\n",
      "\u001b[0;31mAssertionError\u001b[0m                            Traceback (most recent call last)",
      "\u001b[0;32m/tmp/ipykernel_2233/2999864733.py\u001b[0m in \u001b[0;36m<module>\u001b[0;34m\u001b[0m\n\u001b[1;32m      2\u001b[0m     \u001b[0;32massert\u001b[0m \u001b[0;32mnot\u001b[0m \u001b[0mlen\u001b[0m\u001b[0;34m(\u001b[0m\u001b[0mdf\u001b[0m\u001b[0;34m)\u001b[0m \u001b[0;34m<\u001b[0m \u001b[0;36m342\u001b[0m\u001b[0;34m\u001b[0m\u001b[0;34m\u001b[0m\u001b[0m\n\u001b[1;32m      3\u001b[0m \u001b[0;32mexcept\u001b[0m \u001b[0mAssertionError\u001b[0m\u001b[0;34m:\u001b[0m\u001b[0;34m\u001b[0m\u001b[0;34m\u001b[0m\u001b[0m\n\u001b[0;32m----> 4\u001b[0;31m     \u001b[0;32mraise\u001b[0m \u001b[0mAssertionError\u001b[0m\u001b[0;34m(\u001b[0m\u001b[0;34m\"L.A. County's scraper is missing rows\"\u001b[0m\u001b[0;34m)\u001b[0m\u001b[0;34m\u001b[0m\u001b[0;34m\u001b[0m\u001b[0m\n\u001b[0m",
      "\u001b[0;31mAssertionError\u001b[0m: L.A. County's scraper is missing rows"
     ]
    }
   ],
   "source": [
    "try:\n",
    "    assert not len(df) < 342\n",
    "except AssertionError:\n",
    "    raise AssertionError(\"L.A. County's scraper is missing rows\")"
   ]
  },
  {
   "cell_type": "markdown",
   "metadata": {},
   "source": [
    "## Export"
   ]
  },
  {
   "cell_type": "markdown",
   "metadata": {},
   "source": [
    "Set the date"
   ]
  },
  {
   "cell_type": "code",
   "execution_count": 67,
   "metadata": {},
   "outputs": [],
   "source": [
    "tz = pytz.timezone(\"America/Los_Angeles\")"
   ]
  },
  {
   "cell_type": "code",
   "execution_count": 68,
   "metadata": {},
   "outputs": [],
   "source": [
    "today = datetime.now(tz).date()"
   ]
  },
  {
   "cell_type": "code",
   "execution_count": 69,
   "metadata": {},
   "outputs": [],
   "source": [
    "slug = \"los-angeles\""
   ]
  },
  {
   "cell_type": "code",
   "execution_count": 70,
   "metadata": {},
   "outputs": [],
   "source": [
    "df.to_csv(data_dir / slug / f\"{today}.csv\", index=False)"
   ]
  },
  {
   "cell_type": "markdown",
   "metadata": {},
   "source": [
    "## Combine"
   ]
  },
  {
   "cell_type": "code",
   "execution_count": 71,
   "metadata": {},
   "outputs": [],
   "source": [
    "csv_list = [\n",
    "    i\n",
    "    for i in glob.glob(str(data_dir / slug / \"*.csv\"))\n",
    "    if not str(i).endswith(\"timeseries.csv\")\n",
    "]"
   ]
  },
  {
   "cell_type": "code",
   "execution_count": 72,
   "metadata": {},
   "outputs": [],
   "source": [
    "df_list = []\n",
    "for csv in csv_list:\n",
    "    if \"manual\" in csv:\n",
    "        df = pd.read_csv(csv, parse_dates=[\"date\"])\n",
    "    else:\n",
    "        file_date = csv.split(\"/\")[-1].replace(\".csv\", \"\")\n",
    "        df = pd.read_csv(csv, parse_dates=[\"county_date\"])\n",
    "        df[\"date\"] = file_date\n",
    "    df_list.append(df)"
   ]
  },
  {
   "cell_type": "code",
   "execution_count": 73,
   "metadata": {},
   "outputs": [],
   "source": [
    "df = pd.concat(df_list).sort_values([\"date\", \"area\"])"
   ]
  },
  {
   "cell_type": "code",
   "execution_count": 74,
   "metadata": {},
   "outputs": [],
   "source": [
    "df.to_csv(data_dir / slug / \"timeseries.csv\", index=False)"
   ]
  },
  {
   "cell_type": "code",
   "execution_count": null,
   "metadata": {},
   "outputs": [],
   "source": []
  },
  {
   "cell_type": "code",
   "execution_count": null,
   "metadata": {},
   "outputs": [],
   "source": []
  }
 ],
 "metadata": {
  "kernelspec": {
   "display_name": "Python 3 (ipykernel)",
   "language": "python",
   "name": "python3"
  },
  "language_info": {
   "codemirror_mode": {
    "name": "ipython",
    "version": 3
   },
   "file_extension": ".py",
   "mimetype": "text/x-python",
   "name": "python",
   "nbconvert_exporter": "python",
   "pygments_lexer": "ipython3",
   "version": "3.8.15"
  }
 },
 "nbformat": 4,
 "nbformat_minor": 4
}
