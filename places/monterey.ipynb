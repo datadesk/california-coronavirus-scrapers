{
 "cells": [
  {
   "cell_type": "markdown",
   "metadata": {},
   "source": [
    "## Configuration\n",
    "_Initial steps to get the notebook ready to play nice with our repository. Do not delete this section._"
   ]
  },
  {
   "cell_type": "markdown",
   "metadata": {},
   "source": [
    "Code formatting with [black](https://pypi.org/project/nb-black/)."
   ]
  },
  {
   "cell_type": "code",
   "execution_count": 1,
   "metadata": {
    "tags": []
   },
   "outputs": [],
   "source": [
    "%load_ext lab_black"
   ]
  },
  {
   "cell_type": "code",
   "execution_count": 2,
   "metadata": {
    "tags": []
   },
   "outputs": [],
   "source": [
    "import os\n",
    "import pathlib"
   ]
  },
  {
   "cell_type": "code",
   "execution_count": 3,
   "metadata": {
    "tags": []
   },
   "outputs": [],
   "source": [
    "this_dir = pathlib.Path(os.path.abspath(\"\"))"
   ]
  },
  {
   "cell_type": "code",
   "execution_count": 4,
   "metadata": {},
   "outputs": [],
   "source": [
    "data_dir = this_dir / \"data\""
   ]
  },
  {
   "cell_type": "code",
   "execution_count": 5,
   "metadata": {
    "tags": []
   },
   "outputs": [],
   "source": [
    "import pytz\n",
    "import glob\n",
    "import json\n",
    "import requests\n",
    "import pandas as pd\n",
    "from datetime import datetime, date"
   ]
  },
  {
   "cell_type": "markdown",
   "metadata": {},
   "source": [
    "## Download"
   ]
  },
  {
   "cell_type": "code",
   "execution_count": 6,
   "metadata": {
    "tags": []
   },
   "outputs": [],
   "source": [
    "POWER_BI_QUERY_URL = (\n",
    "    \"https://wabi-us-gov-iowa-api.analysis.usgovcloudapi.net/public/reports/querydata\"\n",
    ")\n",
    "REQUEST_PARAMS = ((\"synchronous\", \"true\"),)\n",
    "REQUEST_BODY = '{\"version\":\"1.0.0\",\"queries\":[{\"Query\":{\"Commands\":[{\"SemanticQueryDataShapeCommand\":{\"Query\":{\"Version\":2,\"From\":[{\"Name\":\"r\",\"Entity\":\"Region_Zip_Count\",\"Type\":0}],\"Select\":[{\"Column\":{\"Expression\":{\"SourceRef\":{\"Source\":\"r\"}},\"Property\":\"Region\"},\"Name\":\"Region_Zip_Count.Region\"},{\"Aggregation\":{\"Expression\":{\"Column\":{\"Expression\":{\"SourceRef\":{\"Source\":\"r\"}},\"Property\":\"Case_Count\"}},\"Function\":0},\"Name\":\"Sum(Region_Zip_Count.Case_Count)\"},{\"Arithmetic\":{\"Left\":{\"Aggregation\":{\"Expression\":{\"Column\":{\"Expression\":{\"SourceRef\":{\"Source\":\"r\"}},\"Property\":\"Case_Count\"}},\"Function\":0}},\"Right\":{\"ScopedEval\":{\"Expression\":{\"Aggregation\":{\"Expression\":{\"Column\":{\"Expression\":{\"SourceRef\":{\"Source\":\"r\"}},\"Property\":\"Case_Count\"}},\"Function\":0}},\"Scope\":[]}},\"Operator\":3},\"Name\":\"Divide(Sum(Region_Zip_Count.Case_Count), ScopedEval(Sum(Region_Zip_Count.Case_Count), []))\"},{\"Column\":{\"Expression\":{\"SourceRef\":{\"Source\":\"r\"}},\"Property\":\"Zip_Code\"},\"Name\":\"Region_Zip_Count.Zip_Code\"},{\"Aggregation\":{\"Expression\":{\"Column\":{\"Expression\":{\"SourceRef\":{\"Source\":\"r\"}},\"Property\":\"Change_Previous_Date\"}},\"Function\":0},\"Name\":\"Sum(Region_Zip_Count.Change_Previous_Date)\"},{\"Aggregation\":{\"Expression\":{\"Column\":{\"Expression\":{\"SourceRef\":{\"Source\":\"r\"}},\"Property\":\"Recovered_Count\"}},\"Function\":0},\"Name\":\"Sum(Region_Zip_Count.Recovered_Count)\"},{\"Measure\":{\"Expression\":{\"SourceRef\":{\"Source\":\"r\"}},\"Property\":\"Recovered_Rate\"},\"Name\":\"Region_Zip_Count.Recovered_Rate\"},{\"Measure\":{\"Expression\":{\"SourceRef\":{\"Source\":\"r\"}},\"Property\":\"Recovered_Rate_Change\"},\"Name\":\"Region_Zip_Count.Recovered_Rate_Change\"}],\"OrderBy\":[{\"Direction\":1,\"Expression\":{\"Column\":{\"Expression\":{\"SourceRef\":{\"Source\":\"r\"}},\"Property\":\"Region\"}}}]},\"Binding\":{\"Primary\":{\"Groupings\":[{\"Projections\":[0]},{\"Projections\":[1,2,3,4,5,6,7],\"Subtotal\":2}]},\"DataReduction\":{\"DataVolume\":3,\"Primary\":{\"Window\":{\"Count\":500}}},\"Version\":1}}}]},\"CacheKey\":\"{\\\\\"Commands\\\\\":[{\\\\\"SemanticQueryDataShapeCommand\\\\\":{\\\\\"Query\\\\\":{\\\\\"Version\\\\\":2,\\\\\"From\\\\\":[{\\\\\"Name\\\\\":\\\\\"r\\\\\",\\\\\"Entity\\\\\":\\\\\"Region_Zip_Count\\\\\",\\\\\"Type\\\\\":0}],\\\\\"Select\\\\\":[{\\\\\"Column\\\\\":{\\\\\"Expression\\\\\":{\\\\\"SourceRef\\\\\":{\\\\\"Source\\\\\":\\\\\"r\\\\\"}},\\\\\"Property\\\\\":\\\\\"Region\\\\\"},\\\\\"Name\\\\\":\\\\\"Region_Zip_Count.Region\\\\\"},{\\\\\"Aggregation\\\\\":{\\\\\"Expression\\\\\":{\\\\\"Column\\\\\":{\\\\\"Expression\\\\\":{\\\\\"SourceRef\\\\\":{\\\\\"Source\\\\\":\\\\\"r\\\\\"}},\\\\\"Property\\\\\":\\\\\"Case_Count\\\\\"}},\\\\\"Function\\\\\":0},\\\\\"Name\\\\\":\\\\\"Sum(Region_Zip_Count.Case_Count)\\\\\"},{\\\\\"Arithmetic\\\\\":{\\\\\"Left\\\\\":{\\\\\"Aggregation\\\\\":{\\\\\"Expression\\\\\":{\\\\\"Column\\\\\":{\\\\\"Expression\\\\\":{\\\\\"SourceRef\\\\\":{\\\\\"Source\\\\\":\\\\\"r\\\\\"}},\\\\\"Property\\\\\":\\\\\"Case_Count\\\\\"}},\\\\\"Function\\\\\":0}},\\\\\"Right\\\\\":{\\\\\"ScopedEval\\\\\":{\\\\\"Expression\\\\\":{\\\\\"Aggregation\\\\\":{\\\\\"Expression\\\\\":{\\\\\"Column\\\\\":{\\\\\"Expression\\\\\":{\\\\\"SourceRef\\\\\":{\\\\\"Source\\\\\":\\\\\"r\\\\\"}},\\\\\"Property\\\\\":\\\\\"Case_Count\\\\\"}},\\\\\"Function\\\\\":0}},\\\\\"Scope\\\\\":[]}},\\\\\"Operator\\\\\":3},\\\\\"Name\\\\\":\\\\\"Divide(Sum(Region_Zip_Count.Case_Count), ScopedEval(Sum(Region_Zip_Count.Case_Count), []))\\\\\"},{\\\\\"Column\\\\\":{\\\\\"Expression\\\\\":{\\\\\"SourceRef\\\\\":{\\\\\"Source\\\\\":\\\\\"r\\\\\"}},\\\\\"Property\\\\\":\\\\\"Zip_Code\\\\\"},\\\\\"Name\\\\\":\\\\\"Region_Zip_Count.Zip_Code\\\\\"},{\\\\\"Aggregation\\\\\":{\\\\\"Expression\\\\\":{\\\\\"Column\\\\\":{\\\\\"Expression\\\\\":{\\\\\"SourceRef\\\\\":{\\\\\"Source\\\\\":\\\\\"r\\\\\"}},\\\\\"Property\\\\\":\\\\\"Change_Previous_Date\\\\\"}},\\\\\"Function\\\\\":0},\\\\\"Name\\\\\":\\\\\"Sum(Region_Zip_Count.Change_Previous_Date)\\\\\"},{\\\\\"Aggregation\\\\\":{\\\\\"Expression\\\\\":{\\\\\"Column\\\\\":{\\\\\"Expression\\\\\":{\\\\\"SourceRef\\\\\":{\\\\\"Source\\\\\":\\\\\"r\\\\\"}},\\\\\"Property\\\\\":\\\\\"Recovered_Count\\\\\"}},\\\\\"Function\\\\\":0},\\\\\"Name\\\\\":\\\\\"Sum(Region_Zip_Count.Recovered_Count)\\\\\"},{\\\\\"Measure\\\\\":{\\\\\"Expression\\\\\":{\\\\\"SourceRef\\\\\":{\\\\\"Source\\\\\":\\\\\"r\\\\\"}},\\\\\"Property\\\\\":\\\\\"Recovered_Rate\\\\\"},\\\\\"Name\\\\\":\\\\\"Region_Zip_Count.Recovered_Rate\\\\\"},{\\\\\"Measure\\\\\":{\\\\\"Expression\\\\\":{\\\\\"SourceRef\\\\\":{\\\\\"Source\\\\\":\\\\\"r\\\\\"}},\\\\\"Property\\\\\":\\\\\"Recovered_Rate_Change\\\\\"},\\\\\"Name\\\\\":\\\\\"Region_Zip_Count.Recovered_Rate_Change\\\\\"}],\\\\\"OrderBy\\\\\":[{\\\\\"Direction\\\\\":1,\\\\\"Expression\\\\\":{\\\\\"Column\\\\\":{\\\\\"Expression\\\\\":{\\\\\"SourceRef\\\\\":{\\\\\"Source\\\\\":\\\\\"r\\\\\"}},\\\\\"Property\\\\\":\\\\\"Region\\\\\"}}}]},\\\\\"Binding\\\\\":{\\\\\"Primary\\\\\":{\\\\\"Groupings\\\\\":[{\\\\\"Projections\\\\\":[0]},{\\\\\"Projections\\\\\":[1,2,3,4,5,6,7],\\\\\"Subtotal\\\\\":2}]},\\\\\"DataReduction\\\\\":{\\\\\"DataVolume\\\\\":3,\\\\\"Primary\\\\\":{\\\\\"Window\\\\\":{\\\\\"Count\\\\\":500}}},\\\\\"Version\\\\\":1}}}]}\",\"QueryId\":\"\",\"ApplicationContext\":{\"DatasetId\":\"f4cfdb16-2900-473c-912e-f4ae9e29a467\",\"Sources\":[{\"ReportId\":\"132ae928-07b3-4efa-865e-9c8c7f4602e4\",\"VisualId\":\"85a3d3c805c6d81321ea\"}]}}],\"cancelQueries\":[],\"modelId\":282655}'"
   ]
  },
  {
   "cell_type": "code",
   "execution_count": 7,
   "metadata": {},
   "outputs": [],
   "source": [
    "headers = {\n",
    "    \"Accept\": \"application/json, text/plain, */*\",\n",
    "    \"Accept-Encoding\": \"gzip, deflate, br\",\n",
    "    \"Accept-Language\": \"en-US,en;q=0.9,da;q=0.8\",\n",
    "    \"ActivityId\": \"eb83be65-f925-1b74-eab2-c44e42f84faa\",\n",
    "    \"Cache-Control\": \"no-cache\",\n",
    "    \"Connection\": \"keep-alive\",\n",
    "    \"Content-Length\": \"4309\",\n",
    "    \"Content-Type\": \"application/json;charset=UTF-8\",\n",
    "    \"DNT\": \"1\",\n",
    "    \"Host\": \"wabi-us-gov-iowa-api.analysis.usgovcloudapi.net\",\n",
    "    \"Origin\": \"https://app.powerbigov.us\",\n",
    "    \"Pragma\": \"no-cache\",\n",
    "    \"Referer\": \"https://app.powerbigov.us/\",\n",
    "    \"RequestId\": \"51f1f9e4-8633-2419-778d-a7668ee8b56e\",\n",
    "    # \"sec-ch-ua\": \" Not A;Brand\";v=\"99\", \"Chromium\";v=\"90\", \"Google Chrome\";v=\"90\"\n",
    "    # \"sec-ch-ua-mobile\": ?0\n",
    "    \"Sec-Fetch-Dest\": \"empty\",\n",
    "    \"Sec-Fetch-Mode\": \"cors\",\n",
    "    \"Sec-Fetch-Site\": \"cross-site\",\n",
    "    \"User-Agent\": \"Mozilla/5.0 (Macintosh; Intel Mac OS X 10_13_6) AppleWebKit/537.36 (KHTML, like Gecko) Chrome/90.0.4430.93 Safari/537.36\",\n",
    "    \"X-PowerBI-ResourceKey\": \"fca0e553-4f29-4989-a8f0-aa88080c3c8a\",\n",
    "}\n",
    "json_data = json.loads(REQUEST_BODY)"
   ]
  },
  {
   "cell_type": "code",
   "execution_count": 8,
   "metadata": {
    "tags": []
   },
   "outputs": [
    {
     "name": "stderr",
     "output_type": "stream",
     "text": [
      "/Users/pdo/.local/share/virtualenvs/california-coronavirus-scrapers-l_auzzjX/lib/python3.8/site-packages/urllib3/connectionpool.py:1013: InsecureRequestWarning: Unverified HTTPS request is being made to host 'wabi-us-gov-iowa-api.analysis.usgovcloudapi.net'. Adding certificate verification is strongly advised. See: https://urllib3.readthedocs.io/en/1.26.x/advanced-usage.html#ssl-warnings\n",
      "  warnings.warn(\n"
     ]
    }
   ],
   "source": [
    "response = requests.post(\n",
    "    POWER_BI_QUERY_URL,\n",
    "    params=REQUEST_PARAMS,\n",
    "    headers=headers,\n",
    "    json=json_data,\n",
    "    verify=False,\n",
    ")"
   ]
  },
  {
   "cell_type": "code",
   "execution_count": 9,
   "metadata": {},
   "outputs": [],
   "source": [
    "data = response.json()"
   ]
  },
  {
   "cell_type": "markdown",
   "metadata": {},
   "source": [
    "## Parse"
   ]
  },
  {
   "cell_type": "code",
   "execution_count": 10,
   "metadata": {},
   "outputs": [],
   "source": [
    "timestamp = response.headers[\"Date\"]"
   ]
  },
  {
   "cell_type": "code",
   "execution_count": 11,
   "metadata": {},
   "outputs": [],
   "source": [
    "ds = data[\"results\"][0][\"result\"][\"data\"][\"dsr\"][\"DS\"][0]"
   ]
  },
  {
   "cell_type": "code",
   "execution_count": 12,
   "metadata": {},
   "outputs": [],
   "source": [
    "zip_codes = ds[\"ValueDicts\"][\"D0\"]"
   ]
  },
  {
   "cell_type": "code",
   "execution_count": 13,
   "metadata": {},
   "outputs": [],
   "source": [
    "rows = ds[\"PH\"][0][\"DM0\"]"
   ]
  },
  {
   "cell_type": "code",
   "execution_count": 14,
   "metadata": {},
   "outputs": [],
   "source": [
    "confirmed_cases = []\n",
    "\n",
    "cases = 0\n",
    "\n",
    "for row in rows:\n",
    "    # in some cases, data are encoded in separate keys\n",
    "\n",
    "    # pull out grouping and the list containing values\n",
    "    grouping = row[\"G0\"]\n",
    "    cells = row[\"M\"][0][\"DM1\"]\n",
    "\n",
    "    # loop through the list of values\n",
    "    for cell in cells:\n",
    "        keys = cell.keys()\n",
    "        index = cell[\"C\"][0]\n",
    "\n",
    "        # if the list of values is one, that means it contains identical numbers to the row previous\n",
    "        if len(cell[\"C\"]) == 1:\n",
    "            pass\n",
    "        else:\n",
    "            cases = cell[\"C\"][1]\n",
    "        confirmed_cases.append(\n",
    "            (\n",
    "                index,\n",
    "                cases,\n",
    "                grouping,\n",
    "            )\n",
    "        )"
   ]
  },
  {
   "cell_type": "code",
   "execution_count": 15,
   "metadata": {},
   "outputs": [],
   "source": [
    "matched = [\n",
    "    (grouping, zip_codes[index], cases) for index, cases, grouping in confirmed_cases\n",
    "]"
   ]
  },
  {
   "cell_type": "code",
   "execution_count": 16,
   "metadata": {},
   "outputs": [],
   "source": [
    "df = pd.DataFrame(matched, columns=[\"area\", \"zip_code\", \"confirmed_cases\"])"
   ]
  },
  {
   "cell_type": "markdown",
   "metadata": {},
   "source": [
    "Match up place names with zip codes"
   ]
  },
  {
   "cell_type": "code",
   "execution_count": 17,
   "metadata": {},
   "outputs": [],
   "source": [
    "df = df.loc[df.zip_code != \"Other\"]"
   ]
  },
  {
   "cell_type": "code",
   "execution_count": 18,
   "metadata": {},
   "outputs": [],
   "source": [
    "zip_code_names = {\n",
    "    \"93902\": \"Prunedale\",\n",
    "    \"93907\": \"Salinas\",\n",
    "    \"95004\": \"Aromas\",\n",
    "    \"95012\": \"Castroville\",\n",
    "    \"95039\": \"Moss Landing\",\n",
    "    \"95076\": \"Watsonville\",\n",
    "    \"93920\": \"Big Sur\",\n",
    "    \"93921\": \"Carmel\",\n",
    "    \"93923\": \"Carmel\",\n",
    "    \"93924\": \"Carmel Valley\",\n",
    "    \"93933\": \"Marina\",\n",
    "    \"93940\": \"Monterey\",\n",
    "    \"93942\": \"Monterey\",\n",
    "    \"93950\": \"Pacific Grove\",\n",
    "    \"93953\": \"Pebble Beach\",\n",
    "    \"93955\": \"Seaside\",\n",
    "    \"93901\": \"Salinas\",\n",
    "    \"93905\": \"Salinas\",\n",
    "    \"93906\": \"Salinas\",\n",
    "    \"93908\": \"Salinas\",\n",
    "    \"93912\": \"Boronda\",\n",
    "    \"93915\": \"Salinas\",\n",
    "    \"93962\": \"Spreckels\",\n",
    "    \"93450\": \"San Ardo\",\n",
    "    \"93925\": \"Chualar\",\n",
    "    \"93926\": \"Gonzales\",\n",
    "    \"93927\": \"Greenfield\",\n",
    "    \"93930\": \"King City\",\n",
    "    \"93954\": \"San Lucas\",\n",
    "    \"93960\": \"Soledad\",\n",
    "    \"93922\": \"Carmel\",\n",
    "    \"93426\": \"Bradley\",\n",
    "    \"93451\": \"San Miguel\",\n",
    "}"
   ]
  },
  {
   "cell_type": "code",
   "execution_count": 19,
   "metadata": {},
   "outputs": [],
   "source": [
    "df[\"area_name\"] = df.zip_code.map(zip_code_names)"
   ]
  },
  {
   "cell_type": "code",
   "execution_count": 20,
   "metadata": {},
   "outputs": [],
   "source": [
    "df[\"area_name\"] = df[\"zip_code\"] + \": \" + df[\"area_name\"]"
   ]
  },
  {
   "cell_type": "code",
   "execution_count": 21,
   "metadata": {},
   "outputs": [],
   "source": [
    "df = df[df.zip_code != \"Unknown\"]"
   ]
  },
  {
   "cell_type": "markdown",
   "metadata": {},
   "source": [
    "Set column with county date"
   ]
  },
  {
   "cell_type": "code",
   "execution_count": 22,
   "metadata": {},
   "outputs": [],
   "source": [
    "df[\"county_date\"] = pd.to_datetime(timestamp)"
   ]
  },
  {
   "cell_type": "code",
   "execution_count": 23,
   "metadata": {},
   "outputs": [],
   "source": [
    "df[\"county_date\"] = df[\"county_date\"].dt.tz_convert(\"US/Pacific\")"
   ]
  },
  {
   "cell_type": "code",
   "execution_count": 24,
   "metadata": {},
   "outputs": [],
   "source": [
    "df[\"county_date\"] = df[\"county_date\"].dt.strftime(\"%Y-%m-%d\")"
   ]
  },
  {
   "cell_type": "code",
   "execution_count": 25,
   "metadata": {},
   "outputs": [],
   "source": [
    "df.insert(0, \"county\", \"Monterey\")"
   ]
  },
  {
   "cell_type": "markdown",
   "metadata": {},
   "source": [
    "Clean up for export"
   ]
  },
  {
   "cell_type": "code",
   "execution_count": 26,
   "metadata": {},
   "outputs": [],
   "source": [
    "export_df = df[\n",
    "    [\"county\", \"area_name\", \"confirmed_cases\", \"county_date\", \"zip_code\"]\n",
    "].rename(columns={\"area_name\": \"area\", \"zip_code\": \"zip\"})"
   ]
  },
  {
   "cell_type": "code",
   "execution_count": 37,
   "metadata": {},
   "outputs": [
    {
     "data": {
      "text/html": [
       "<div>\n",
       "<style scoped>\n",
       "    .dataframe tbody tr th:only-of-type {\n",
       "        vertical-align: middle;\n",
       "    }\n",
       "\n",
       "    .dataframe tbody tr th {\n",
       "        vertical-align: top;\n",
       "    }\n",
       "\n",
       "    .dataframe thead th {\n",
       "        text-align: right;\n",
       "    }\n",
       "</style>\n",
       "<table border=\"1\" class=\"dataframe\">\n",
       "  <thead>\n",
       "    <tr style=\"text-align: right;\">\n",
       "      <th></th>\n",
       "      <th>county</th>\n",
       "      <th>area</th>\n",
       "      <th>confirmed_cases</th>\n",
       "      <th>county_date</th>\n",
       "      <th>zip</th>\n",
       "    </tr>\n",
       "  </thead>\n",
       "  <tbody>\n",
       "    <tr>\n",
       "      <th>0</th>\n",
       "      <td>Monterey</td>\n",
       "      <td>93902: Prunedale</td>\n",
       "      <td>68</td>\n",
       "      <td>2021-10-21</td>\n",
       "      <td>93902</td>\n",
       "    </tr>\n",
       "    <tr>\n",
       "      <th>1</th>\n",
       "      <td>Monterey</td>\n",
       "      <td>93907: Salinas</td>\n",
       "      <td>1993</td>\n",
       "      <td>2021-10-21</td>\n",
       "      <td>93907</td>\n",
       "    </tr>\n",
       "    <tr>\n",
       "      <th>2</th>\n",
       "      <td>Monterey</td>\n",
       "      <td>95004: Aromas</td>\n",
       "      <td>145</td>\n",
       "      <td>2021-10-21</td>\n",
       "      <td>95004</td>\n",
       "    </tr>\n",
       "    <tr>\n",
       "      <th>3</th>\n",
       "      <td>Monterey</td>\n",
       "      <td>95012: Castroville</td>\n",
       "      <td>1595</td>\n",
       "      <td>2021-10-21</td>\n",
       "      <td>95012</td>\n",
       "    </tr>\n",
       "    <tr>\n",
       "      <th>4</th>\n",
       "      <td>Monterey</td>\n",
       "      <td>95039: Moss Landing</td>\n",
       "      <td>145</td>\n",
       "      <td>2021-10-21</td>\n",
       "      <td>95039</td>\n",
       "    </tr>\n",
       "    <tr>\n",
       "      <th>5</th>\n",
       "      <td>Monterey</td>\n",
       "      <td>95076: Watsonville</td>\n",
       "      <td>1447</td>\n",
       "      <td>2021-10-21</td>\n",
       "      <td>95076</td>\n",
       "    </tr>\n",
       "    <tr>\n",
       "      <th>6</th>\n",
       "      <td>Monterey</td>\n",
       "      <td>93920: Big Sur</td>\n",
       "      <td>61</td>\n",
       "      <td>2021-10-21</td>\n",
       "      <td>93920</td>\n",
       "    </tr>\n",
       "    <tr>\n",
       "      <th>7</th>\n",
       "      <td>Monterey</td>\n",
       "      <td>93921: Carmel</td>\n",
       "      <td>58</td>\n",
       "      <td>2021-10-21</td>\n",
       "      <td>93921</td>\n",
       "    </tr>\n",
       "    <tr>\n",
       "      <th>8</th>\n",
       "      <td>Monterey</td>\n",
       "      <td>93922: Carmel</td>\n",
       "      <td>31</td>\n",
       "      <td>2021-10-21</td>\n",
       "      <td>93922</td>\n",
       "    </tr>\n",
       "    <tr>\n",
       "      <th>9</th>\n",
       "      <td>Monterey</td>\n",
       "      <td>93923: Carmel</td>\n",
       "      <td>321</td>\n",
       "      <td>2021-10-21</td>\n",
       "      <td>93923</td>\n",
       "    </tr>\n",
       "    <tr>\n",
       "      <th>10</th>\n",
       "      <td>Monterey</td>\n",
       "      <td>93924: Carmel Valley</td>\n",
       "      <td>191</td>\n",
       "      <td>2021-10-21</td>\n",
       "      <td>93924</td>\n",
       "    </tr>\n",
       "    <tr>\n",
       "      <th>11</th>\n",
       "      <td>Monterey</td>\n",
       "      <td>93933: Marina</td>\n",
       "      <td>1613</td>\n",
       "      <td>2021-10-21</td>\n",
       "      <td>93933</td>\n",
       "    </tr>\n",
       "    <tr>\n",
       "      <th>12</th>\n",
       "      <td>Monterey</td>\n",
       "      <td>93940: Monterey</td>\n",
       "      <td>1298</td>\n",
       "      <td>2021-10-21</td>\n",
       "      <td>93940</td>\n",
       "    </tr>\n",
       "    <tr>\n",
       "      <th>13</th>\n",
       "      <td>Monterey</td>\n",
       "      <td>93942: Monterey</td>\n",
       "      <td>39</td>\n",
       "      <td>2021-10-21</td>\n",
       "      <td>93942</td>\n",
       "    </tr>\n",
       "    <tr>\n",
       "      <th>14</th>\n",
       "      <td>Monterey</td>\n",
       "      <td>93950: Pacific Grove</td>\n",
       "      <td>485</td>\n",
       "      <td>2021-10-21</td>\n",
       "      <td>93950</td>\n",
       "    </tr>\n",
       "    <tr>\n",
       "      <th>15</th>\n",
       "      <td>Monterey</td>\n",
       "      <td>93953: Pebble Beach</td>\n",
       "      <td>91</td>\n",
       "      <td>2021-10-21</td>\n",
       "      <td>93953</td>\n",
       "    </tr>\n",
       "    <tr>\n",
       "      <th>16</th>\n",
       "      <td>Monterey</td>\n",
       "      <td>93955: Seaside</td>\n",
       "      <td>3049</td>\n",
       "      <td>2021-10-21</td>\n",
       "      <td>93955</td>\n",
       "    </tr>\n",
       "    <tr>\n",
       "      <th>18</th>\n",
       "      <td>Monterey</td>\n",
       "      <td>93901: Salinas</td>\n",
       "      <td>3000</td>\n",
       "      <td>2021-10-21</td>\n",
       "      <td>93901</td>\n",
       "    </tr>\n",
       "    <tr>\n",
       "      <th>19</th>\n",
       "      <td>Monterey</td>\n",
       "      <td>93905: Salinas</td>\n",
       "      <td>9694</td>\n",
       "      <td>2021-10-21</td>\n",
       "      <td>93905</td>\n",
       "    </tr>\n",
       "    <tr>\n",
       "      <th>20</th>\n",
       "      <td>Monterey</td>\n",
       "      <td>93906: Salinas</td>\n",
       "      <td>8585</td>\n",
       "      <td>2021-10-21</td>\n",
       "      <td>93906</td>\n",
       "    </tr>\n",
       "    <tr>\n",
       "      <th>21</th>\n",
       "      <td>Monterey</td>\n",
       "      <td>93908: Salinas</td>\n",
       "      <td>670</td>\n",
       "      <td>2021-10-21</td>\n",
       "      <td>93908</td>\n",
       "    </tr>\n",
       "    <tr>\n",
       "      <th>22</th>\n",
       "      <td>Monterey</td>\n",
       "      <td>93912: Boronda</td>\n",
       "      <td>144</td>\n",
       "      <td>2021-10-21</td>\n",
       "      <td>93912</td>\n",
       "    </tr>\n",
       "    <tr>\n",
       "      <th>23</th>\n",
       "      <td>Monterey</td>\n",
       "      <td>93915: Salinas</td>\n",
       "      <td>77</td>\n",
       "      <td>2021-10-21</td>\n",
       "      <td>93915</td>\n",
       "    </tr>\n",
       "    <tr>\n",
       "      <th>24</th>\n",
       "      <td>Monterey</td>\n",
       "      <td>93962: Spreckels</td>\n",
       "      <td>34</td>\n",
       "      <td>2021-10-21</td>\n",
       "      <td>93962</td>\n",
       "    </tr>\n",
       "    <tr>\n",
       "      <th>25</th>\n",
       "      <td>Monterey</td>\n",
       "      <td>93426: Bradley</td>\n",
       "      <td>47</td>\n",
       "      <td>2021-10-21</td>\n",
       "      <td>93426</td>\n",
       "    </tr>\n",
       "    <tr>\n",
       "      <th>26</th>\n",
       "      <td>Monterey</td>\n",
       "      <td>93450: San Ardo</td>\n",
       "      <td>122</td>\n",
       "      <td>2021-10-21</td>\n",
       "      <td>93450</td>\n",
       "    </tr>\n",
       "    <tr>\n",
       "      <th>27</th>\n",
       "      <td>Monterey</td>\n",
       "      <td>93451: San Miguel</td>\n",
       "      <td>33</td>\n",
       "      <td>2021-10-21</td>\n",
       "      <td>93451</td>\n",
       "    </tr>\n",
       "    <tr>\n",
       "      <th>28</th>\n",
       "      <td>Monterey</td>\n",
       "      <td>93925: Chualar</td>\n",
       "      <td>225</td>\n",
       "      <td>2021-10-21</td>\n",
       "      <td>93925</td>\n",
       "    </tr>\n",
       "    <tr>\n",
       "      <th>29</th>\n",
       "      <td>Monterey</td>\n",
       "      <td>93926: Gonzales</td>\n",
       "      <td>1456</td>\n",
       "      <td>2021-10-21</td>\n",
       "      <td>93926</td>\n",
       "    </tr>\n",
       "    <tr>\n",
       "      <th>30</th>\n",
       "      <td>Monterey</td>\n",
       "      <td>93927: Greenfield</td>\n",
       "      <td>2900</td>\n",
       "      <td>2021-10-21</td>\n",
       "      <td>93927</td>\n",
       "    </tr>\n",
       "    <tr>\n",
       "      <th>31</th>\n",
       "      <td>Monterey</td>\n",
       "      <td>93930: King City</td>\n",
       "      <td>2399</td>\n",
       "      <td>2021-10-21</td>\n",
       "      <td>93930</td>\n",
       "    </tr>\n",
       "    <tr>\n",
       "      <th>32</th>\n",
       "      <td>Monterey</td>\n",
       "      <td>93954: San Lucas</td>\n",
       "      <td>67</td>\n",
       "      <td>2021-10-21</td>\n",
       "      <td>93954</td>\n",
       "    </tr>\n",
       "    <tr>\n",
       "      <th>33</th>\n",
       "      <td>Monterey</td>\n",
       "      <td>93960: Soledad</td>\n",
       "      <td>6287</td>\n",
       "      <td>2021-10-21</td>\n",
       "      <td>93960</td>\n",
       "    </tr>\n",
       "  </tbody>\n",
       "</table>\n",
       "</div>"
      ],
      "text/plain": [
       "      county                  area  confirmed_cases county_date    zip\n",
       "0   Monterey      93902: Prunedale               68  2021-10-21  93902\n",
       "1   Monterey        93907: Salinas             1993  2021-10-21  93907\n",
       "2   Monterey         95004: Aromas              145  2021-10-21  95004\n",
       "3   Monterey    95012: Castroville             1595  2021-10-21  95012\n",
       "4   Monterey   95039: Moss Landing              145  2021-10-21  95039\n",
       "5   Monterey    95076: Watsonville             1447  2021-10-21  95076\n",
       "6   Monterey        93920: Big Sur               61  2021-10-21  93920\n",
       "7   Monterey         93921: Carmel               58  2021-10-21  93921\n",
       "8   Monterey         93922: Carmel               31  2021-10-21  93922\n",
       "9   Monterey         93923: Carmel              321  2021-10-21  93923\n",
       "10  Monterey  93924: Carmel Valley              191  2021-10-21  93924\n",
       "11  Monterey         93933: Marina             1613  2021-10-21  93933\n",
       "12  Monterey       93940: Monterey             1298  2021-10-21  93940\n",
       "13  Monterey       93942: Monterey               39  2021-10-21  93942\n",
       "14  Monterey  93950: Pacific Grove              485  2021-10-21  93950\n",
       "15  Monterey   93953: Pebble Beach               91  2021-10-21  93953\n",
       "16  Monterey        93955: Seaside             3049  2021-10-21  93955\n",
       "18  Monterey        93901: Salinas             3000  2021-10-21  93901\n",
       "19  Monterey        93905: Salinas             9694  2021-10-21  93905\n",
       "20  Monterey        93906: Salinas             8585  2021-10-21  93906\n",
       "21  Monterey        93908: Salinas              670  2021-10-21  93908\n",
       "22  Monterey        93912: Boronda              144  2021-10-21  93912\n",
       "23  Monterey        93915: Salinas               77  2021-10-21  93915\n",
       "24  Monterey      93962: Spreckels               34  2021-10-21  93962\n",
       "25  Monterey        93426: Bradley               47  2021-10-21  93426\n",
       "26  Monterey       93450: San Ardo              122  2021-10-21  93450\n",
       "27  Monterey     93451: San Miguel               33  2021-10-21  93451\n",
       "28  Monterey        93925: Chualar              225  2021-10-21  93925\n",
       "29  Monterey       93926: Gonzales             1456  2021-10-21  93926\n",
       "30  Monterey     93927: Greenfield             2900  2021-10-21  93927\n",
       "31  Monterey      93930: King City             2399  2021-10-21  93930\n",
       "32  Monterey      93954: San Lucas               67  2021-10-21  93954\n",
       "33  Monterey        93960: Soledad             6287  2021-10-21  93960"
      ]
     },
     "execution_count": 37,
     "metadata": {},
     "output_type": "execute_result"
    }
   ],
   "source": [
    "export_df"
   ]
  },
  {
   "cell_type": "markdown",
   "metadata": {},
   "source": [
    "## Vet"
   ]
  },
  {
   "cell_type": "code",
   "execution_count": 27,
   "metadata": {},
   "outputs": [],
   "source": [
    "try:\n",
    "    assert not len(export_df) < 33\n",
    "except AssertionError:\n",
    "    raise AssertionError(\"Monterey County's zip code scraper is missing rows\")"
   ]
  },
  {
   "cell_type": "code",
   "execution_count": 28,
   "metadata": {},
   "outputs": [],
   "source": [
    "try:\n",
    "    assert not len(export_df) > 33\n",
    "except AssertionError:\n",
    "    raise AssertionError(\"Monterey County's zip code scraper has more rows than before\")"
   ]
  },
  {
   "cell_type": "markdown",
   "metadata": {},
   "source": [
    "## Export"
   ]
  },
  {
   "cell_type": "markdown",
   "metadata": {},
   "source": [
    "Set date"
   ]
  },
  {
   "cell_type": "code",
   "execution_count": 29,
   "metadata": {},
   "outputs": [],
   "source": [
    "tz = pytz.timezone(\"America/Los_Angeles\")"
   ]
  },
  {
   "cell_type": "code",
   "execution_count": 30,
   "metadata": {},
   "outputs": [],
   "source": [
    "today = datetime.now(tz).date()"
   ]
  },
  {
   "cell_type": "code",
   "execution_count": 31,
   "metadata": {},
   "outputs": [],
   "source": [
    "slug = \"monterey\""
   ]
  },
  {
   "cell_type": "code",
   "execution_count": 32,
   "metadata": {},
   "outputs": [],
   "source": [
    "export_df.to_csv(data_dir / slug / f\"{today}.csv\", index=False)"
   ]
  },
  {
   "cell_type": "markdown",
   "metadata": {},
   "source": [
    "## Combine"
   ]
  },
  {
   "cell_type": "code",
   "execution_count": 33,
   "metadata": {},
   "outputs": [],
   "source": [
    "csv_list = [\n",
    "    i\n",
    "    for i in glob.glob(str(data_dir / slug / \"*.csv\"))\n",
    "    if not str(i).endswith(\"timeseries.csv\")\n",
    "]"
   ]
  },
  {
   "cell_type": "code",
   "execution_count": 34,
   "metadata": {},
   "outputs": [],
   "source": [
    "df_list = []\n",
    "for csv in csv_list:\n",
    "    if \"manual\" in csv:\n",
    "        df = pd.read_csv(csv, parse_dates=[\"date\"])\n",
    "    else:\n",
    "        file_date = csv.split(\"/\")[-1].replace(\".csv\", \"\")\n",
    "        df = pd.read_csv(csv, parse_dates=[\"county_date\"])\n",
    "        df[\"date\"] = file_date\n",
    "    df_list.append(df)"
   ]
  },
  {
   "cell_type": "code",
   "execution_count": 35,
   "metadata": {},
   "outputs": [],
   "source": [
    "df = pd.concat(df_list).sort_values([\"date\", \"area\"])"
   ]
  },
  {
   "cell_type": "code",
   "execution_count": 36,
   "metadata": {},
   "outputs": [],
   "source": [
    "df.to_csv(data_dir / slug / \"timeseries.csv\", index=False)"
   ]
  }
 ],
 "metadata": {
  "kernelspec": {
   "display_name": "Python 3 (ipykernel)",
   "language": "python",
   "name": "python3"
  },
  "language_info": {
   "codemirror_mode": {
    "name": "ipython",
    "version": 3
   },
   "file_extension": ".py",
   "mimetype": "text/x-python",
   "name": "python",
   "nbconvert_exporter": "python",
   "pygments_lexer": "ipython3",
   "version": "3.8.5"
  }
 },
 "nbformat": 4,
 "nbformat_minor": 4
}
