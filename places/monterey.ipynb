{
 "cells": [
  {
   "cell_type": "markdown",
   "metadata": {},
   "source": [
    "## Configuration\n",
    "_Initial steps to get the notebook ready to play nice with our repository. Do not delete this section._"
   ]
  },
  {
   "cell_type": "markdown",
   "metadata": {},
   "source": [
    "Code formatting with [black](https://pypi.org/project/nb-black/)."
   ]
  },
  {
   "cell_type": "code",
   "execution_count": 1,
   "metadata": {
    "execution": {
     "iopub.execute_input": "2022-12-03T00:25:58.840818Z",
     "iopub.status.busy": "2022-12-03T00:25:58.839850Z",
     "iopub.status.idle": "2022-12-03T00:25:58.997226Z",
     "shell.execute_reply": "2022-12-03T00:25:58.996262Z"
    },
    "tags": []
   },
   "outputs": [],
   "source": [
    "%load_ext lab_black"
   ]
  },
  {
   "cell_type": "code",
   "execution_count": 2,
   "metadata": {
    "execution": {
     "iopub.execute_input": "2022-12-03T00:25:59.002000Z",
     "iopub.status.busy": "2022-12-03T00:25:59.001490Z",
     "iopub.status.idle": "2022-12-03T00:25:59.004771Z",
     "shell.execute_reply": "2022-12-03T00:25:59.004320Z"
    },
    "tags": []
   },
   "outputs": [],
   "source": [
    "import os\n",
    "import pathlib"
   ]
  },
  {
   "cell_type": "code",
   "execution_count": 3,
   "metadata": {
    "execution": {
     "iopub.execute_input": "2022-12-03T00:25:59.012812Z",
     "iopub.status.busy": "2022-12-03T00:25:59.012290Z",
     "iopub.status.idle": "2022-12-03T00:25:59.015612Z",
     "shell.execute_reply": "2022-12-03T00:25:59.015175Z"
    },
    "tags": []
   },
   "outputs": [],
   "source": [
    "this_dir = pathlib.Path(os.path.abspath(\"\"))"
   ]
  },
  {
   "cell_type": "code",
   "execution_count": 4,
   "metadata": {
    "execution": {
     "iopub.execute_input": "2022-12-03T00:25:59.020596Z",
     "iopub.status.busy": "2022-12-03T00:25:59.020098Z",
     "iopub.status.idle": "2022-12-03T00:25:59.023349Z",
     "shell.execute_reply": "2022-12-03T00:25:59.022926Z"
    }
   },
   "outputs": [],
   "source": [
    "data_dir = this_dir / \"data\""
   ]
  },
  {
   "cell_type": "code",
   "execution_count": 5,
   "metadata": {
    "execution": {
     "iopub.execute_input": "2022-12-03T00:25:59.027391Z",
     "iopub.status.busy": "2022-12-03T00:25:59.026874Z",
     "iopub.status.idle": "2022-12-03T00:25:59.356713Z",
     "shell.execute_reply": "2022-12-03T00:25:59.355792Z"
    },
    "tags": []
   },
   "outputs": [],
   "source": [
    "import pytz\n",
    "import glob\n",
    "import json\n",
    "import requests\n",
    "import pandas as pd\n",
    "from datetime import datetime, date"
   ]
  },
  {
   "cell_type": "markdown",
   "metadata": {},
   "source": [
    "## Download"
   ]
  },
  {
   "cell_type": "code",
   "execution_count": 6,
   "metadata": {
    "execution": {
     "iopub.execute_input": "2022-12-03T00:25:59.362777Z",
     "iopub.status.busy": "2022-12-03T00:25:59.359255Z",
     "iopub.status.idle": "2022-12-03T00:25:59.370340Z",
     "shell.execute_reply": "2022-12-03T00:25:59.369384Z"
    },
    "tags": []
   },
   "outputs": [],
   "source": [
    "POWER_BI_QUERY_URL = (\n",
    "    \"https://wabi-us-gov-iowa-api.analysis.usgovcloudapi.net/public/reports/querydata\"\n",
    ")\n",
    "REQUEST_PARAMS = ((\"synchronous\", \"true\"),)\n",
    "REQUEST_BODY = '{\"version\":\"1.0.0\",\"queries\":[{\"Query\":{\"Commands\":[{\"SemanticQueryDataShapeCommand\":{\"Query\":{\"Version\":2,\"From\":[{\"Name\":\"d\",\"Entity\":\"demo_region_count\",\"Type\":0},{\"Name\":\"r\",\"Entity\":\"region_lastmonth\",\"Type\":0}],\"Select\":[{\"Column\":{\"Expression\":{\"SourceRef\":{\"Source\":\"d\"}},\"Property\":\"mregion\"},\"Name\":\"demo_region_count.mregion\"},{\"Aggregation\":{\"Expression\":{\"Column\":{\"Expression\":{\"SourceRef\":{\"Source\":\"d\"}},\"Property\":\"case_count\"}},\"Function\":0},\"Name\":\"Sum(demo_region_count.case_count)\"},{\"Column\":{\"Expression\":{\"SourceRef\":{\"Source\":\"d\"}},\"Property\":\"zip2\"},\"Name\":\"demo_region_count.zip2\"},{\"Aggregation\":{\"Expression\":{\"Column\":{\"Expression\":{\"SourceRef\":{\"Source\":\"r\"}},\"Property\":\"case_count\"}},\"Function\":0},\"Name\":\"Sum(region_lastmonth.case_count)\"}],\"Where\":[{\"Condition\":{\"Not\":{\"Expression\":{\"In\":{\"Expressions\":[{\"Column\":{\"Expression\":{\"SourceRef\":{\"Source\":\"r\"}},\"Property\":\"zip2\"}}],\"Values\":[[{\"Literal\":{\"Value\":\"null\"}}]]}}}}},{\"Condition\":{\"Not\":{\"Expression\":{\"In\":{\"Expressions\":[{\"Column\":{\"Expression\":{\"SourceRef\":{\"Source\":\"d\"}},\"Property\":\"mregion\"}}],\"Values\":[[{\"Literal\":{\"Value\":\"\\'Unknown\\'\"}}]]}}}}}],\"OrderBy\":[{\"Direction\":2,\"Expression\":{\"Aggregation\":{\"Expression\":{\"Column\":{\"Expression\":{\"SourceRef\":{\"Source\":\"d\"}},\"Property\":\"case_count\"}},\"Function\":0}}}]},\"Binding\":{\"Primary\":{\"Groupings\":[{\"Projections\":[0,1,2,3]}]},\"DataReduction\":{\"DataVolume\":3,\"Primary\":{\"Window\":{\"Count\":500}}},\"Version\":1},\"ExecutionMetricsKind\":1}}]},\"QueryId\":\"\",\"ApplicationContext\":{\"DatasetId\":\"2e66a584-6b5f-4c9f-bffd-12d35d2b8442\",\"Sources\":[{\"ReportId\":\"40085a43-f04a-4a8b-ae72-c38ca32531a5\",\"VisualId\":\"136278efd4c6f694b9b7\"}]}}],\"cancelQueries\":[],\"modelId\":358821}'"
   ]
  },
  {
   "cell_type": "code",
   "execution_count": 7,
   "metadata": {
    "execution": {
     "iopub.execute_input": "2022-12-03T00:25:59.376367Z",
     "iopub.status.busy": "2022-12-03T00:25:59.375577Z",
     "iopub.status.idle": "2022-12-03T00:25:59.386695Z",
     "shell.execute_reply": "2022-12-03T00:25:59.387161Z"
    }
   },
   "outputs": [],
   "source": [
    "headers = {\n",
    "    \"accept\": \"application/json, text/plain, */*\",\n",
    "    \"accept-language\": \"en-US,en;q=0.9,da;q=0.8\",\n",
    "    \"activityid\": \"07a2f3cb-ea39-4519-8ee0-b5605aa78145\",\n",
    "    \"content-type\": \"application/json;charset=UTF-8\",\n",
    "    \"requestid\": \"a5565ffd-b522-00a7-afe8-5c4f3a3ce843\",\n",
    "    \"sec-ch-ua\": '\" Not A;Brand\";v=\"99\", \"Chromium\";v=\"100\", \"Google Chrome\";v=\"100\"',\n",
    "    \"sec-ch-ua-mobile\": \"?0\",\n",
    "    \"sec-ch-ua-platform\": '\"macOS\"',\n",
    "    \"sec-fetch-dest\": \"empty\",\n",
    "    \"sec-fetch-mode\": \"cors\",\n",
    "    \"sec-fetch-site\": \"cross-site\",\n",
    "    \"x-powerbi-resourcekey\": \"69a5588e-f8a1-4aef-aac5-ca27ee543007\",\n",
    "    \"Referer\": \"https://app.powerbigov.us/\",\n",
    "    \"Referrer-Policy\": \"strict-origin-when-cross-origin\",\n",
    "}\n",
    "json_data = json.loads(REQUEST_BODY)"
   ]
  },
  {
   "cell_type": "code",
   "execution_count": 8,
   "metadata": {
    "execution": {
     "iopub.execute_input": "2022-12-03T00:25:59.391835Z",
     "iopub.status.busy": "2022-12-03T00:25:59.389448Z",
     "iopub.status.idle": "2022-12-03T00:26:00.056070Z",
     "shell.execute_reply": "2022-12-03T00:26:00.055574Z"
    },
    "tags": []
   },
   "outputs": [
    {
     "name": "stderr",
     "output_type": "stream",
     "text": [
      "/home/runner/.local/share/virtualenvs/california-coronavirus-scrapers-dxuBXRsm/lib/python3.8/site-packages/urllib3/connectionpool.py:1013: InsecureRequestWarning: Unverified HTTPS request is being made to host 'wabi-us-gov-iowa-api.analysis.usgovcloudapi.net'. Adding certificate verification is strongly advised. See: https://urllib3.readthedocs.io/en/1.26.x/advanced-usage.html#ssl-warnings\n",
      "  warnings.warn(\n"
     ]
    }
   ],
   "source": [
    "response = requests.post(\n",
    "    POWER_BI_QUERY_URL,\n",
    "    params=REQUEST_PARAMS,\n",
    "    headers=headers,\n",
    "    json=json_data,\n",
    "    verify=False,\n",
    ")"
   ]
  },
  {
   "cell_type": "code",
   "execution_count": 9,
   "metadata": {
    "execution": {
     "iopub.execute_input": "2022-12-03T00:26:00.061556Z",
     "iopub.status.busy": "2022-12-03T00:26:00.061033Z",
     "iopub.status.idle": "2022-12-03T00:26:00.064061Z",
     "shell.execute_reply": "2022-12-03T00:26:00.063251Z"
    }
   },
   "outputs": [],
   "source": [
    "data = response.json()"
   ]
  },
  {
   "cell_type": "markdown",
   "metadata": {},
   "source": [
    "## Parse"
   ]
  },
  {
   "cell_type": "code",
   "execution_count": 10,
   "metadata": {
    "execution": {
     "iopub.execute_input": "2022-12-03T00:26:00.068272Z",
     "iopub.status.busy": "2022-12-03T00:26:00.066140Z",
     "iopub.status.idle": "2022-12-03T00:26:00.072902Z",
     "shell.execute_reply": "2022-12-03T00:26:00.071935Z"
    }
   },
   "outputs": [],
   "source": [
    "timestamp = response.headers[\"Date\"]"
   ]
  },
  {
   "cell_type": "code",
   "execution_count": 11,
   "metadata": {
    "execution": {
     "iopub.execute_input": "2022-12-03T00:26:00.082601Z",
     "iopub.status.busy": "2022-12-03T00:26:00.081877Z",
     "iopub.status.idle": "2022-12-03T00:26:00.084964Z",
     "shell.execute_reply": "2022-12-03T00:26:00.085418Z"
    }
   },
   "outputs": [
    {
     "data": {
      "text/plain": [
       "'Sat, 03 Dec 2022 00:25:59 GMT'"
      ]
     },
     "execution_count": 11,
     "metadata": {},
     "output_type": "execute_result"
    }
   ],
   "source": [
    "timestamp"
   ]
  },
  {
   "cell_type": "code",
   "execution_count": 12,
   "metadata": {
    "execution": {
     "iopub.execute_input": "2022-12-03T00:26:00.091559Z",
     "iopub.status.busy": "2022-12-03T00:26:00.090526Z",
     "iopub.status.idle": "2022-12-03T00:26:00.095035Z",
     "shell.execute_reply": "2022-12-03T00:26:00.094620Z"
    }
   },
   "outputs": [],
   "source": [
    "ds = data[\"results\"][0][\"result\"][\"data\"][\"dsr\"][\"DS\"][0]"
   ]
  },
  {
   "cell_type": "code",
   "execution_count": 13,
   "metadata": {
    "execution": {
     "iopub.execute_input": "2022-12-03T00:26:00.098700Z",
     "iopub.status.busy": "2022-12-03T00:26:00.098192Z",
     "iopub.status.idle": "2022-12-03T00:26:00.232495Z",
     "shell.execute_reply": "2022-12-03T00:26:00.231294Z"
    }
   },
   "outputs": [
    {
     "ename": "KeyError",
     "evalue": "'ValueDicts'",
     "output_type": "error",
     "traceback": [
      "\u001b[0;31m---------------------------------------------------------------------------\u001b[0m",
      "\u001b[0;31mKeyError\u001b[0m                                  Traceback (most recent call last)",
      "\u001b[0;32m/tmp/ipykernel_2282/185388545.py\u001b[0m in \u001b[0;36m<module>\u001b[0;34m\u001b[0m\n\u001b[0;32m----> 1\u001b[0;31m \u001b[0mzip_codes\u001b[0m \u001b[0;34m=\u001b[0m \u001b[0mds\u001b[0m\u001b[0;34m[\u001b[0m\u001b[0;34m\"ValueDicts\"\u001b[0m\u001b[0;34m]\u001b[0m\u001b[0;34m[\u001b[0m\u001b[0;34m\"D1\"\u001b[0m\u001b[0;34m]\u001b[0m\u001b[0;34m\u001b[0m\u001b[0;34m\u001b[0m\u001b[0m\n\u001b[0m",
      "\u001b[0;31mKeyError\u001b[0m: 'ValueDicts'"
     ]
    }
   ],
   "source": [
    "zip_codes = ds[\"ValueDicts\"][\"D1\"]"
   ]
  },
  {
   "cell_type": "code",
   "execution_count": 16,
   "metadata": {},
   "outputs": [],
   "source": [
    "rows = ds[\"PH\"][0][\"DM0\"]"
   ]
  },
  {
   "cell_type": "code",
   "execution_count": 17,
   "metadata": {},
   "outputs": [
    {
     "data": {
      "text/plain": [
       "[{'S': [{'N': 'G0', 'T': 1, 'DN': 'D0'},\n",
       "   {'N': 'G1', 'T': 1, 'DN': 'D1'},\n",
       "   {'N': 'M0', 'T': 4},\n",
       "   {'N': 'M1', 'T': 4}],\n",
       "  'C': [0, 0, 15555, 411]},\n",
       " {'C': [1, 15524, 433], 'R': 1},\n",
       " {'C': [1, 2, 10021, 408]},\n",
       " {'C': [2, 3, 6989, 211]},\n",
       " {'C': [0, 4, 6460, 204]},\n",
       " {'C': [1, 5, 4731, 122]},\n",
       " {'C': [2, 6, 4598, 138]},\n",
       " {'C': [3, 7, 4150, 127]},\n",
       " {'C': [1, 8, 4022, 92]},\n",
       " {'C': [2, 9, 4009, 147]},\n",
       " {'C': [3, 10, 3562, 169]},\n",
       " {'C': [11, 2896, 71], 'R': 1},\n",
       " {'C': [1, 12, 2192, 49]},\n",
       " {'C': [2, 13, 1711, 69]},\n",
       " {'C': [0, 14, 1669, 49]},\n",
       " {'C': [2, 15, 984, 38]},\n",
       " {'C': [16, 561, 18], 'R': 1},\n",
       " {'C': [3, 17, 436, 8]},\n",
       " {'C': [2, 18, 406, 17]},\n",
       " {'C': [1, 19, 351, 8]},\n",
       " {'C': [3, 20, 301, 18]},\n",
       " {'C': [0, 21, 287, 11]},\n",
       " {'C': [2, 22, 233, 17]},\n",
       " {'C': [23, 220, 3], 'R': 1},\n",
       " {'C': [1, 24, 189, 2]},\n",
       " {'C': [0, 25, 153, 3]},\n",
       " {'C': [3, 26, 142, 4]},\n",
       " {'C': [1, 27, 123, 3]},\n",
       " {'C': [2, 28, 116, 1]},\n",
       " {'C': [1, 29, 110, 3]},\n",
       " {'C': [0, 30, 101], 'R': 8},\n",
       " {'C': [2, 31, 94, 4]},\n",
       " {'C': [1, 32, 92], 'R': 8},\n",
       " {'C': [2, 33, 86, 5]}]"
      ]
     },
     "execution_count": 17,
     "metadata": {},
     "output_type": "execute_result"
    }
   ],
   "source": [
    "rows"
   ]
  },
  {
   "cell_type": "code",
   "execution_count": 18,
   "metadata": {},
   "outputs": [],
   "source": [
    "confirmed_cases = []\n",
    "\n",
    "cases = 0\n",
    "\n",
    "for row in rows:\n",
    "    # in some cases, data are encoded in separate keys\n",
    "    keys = row.keys()\n",
    "    # pull out the list containing values for most rows\n",
    "    cells = row[\"C\"]\n",
    "    # second value in the list is expected to be an iterator/index\n",
    "    index = cells[1]\n",
    "    # if this key is present, the value for this place is identical to the previous row\n",
    "    if \"R\" in keys:\n",
    "        if row[\"R\"] == 1:\n",
    "            cases = cells[1]\n",
    "            index = cells[0]\n",
    "        else:\n",
    "            if len(cells) > 2:\n",
    "                cases = cells[2]\n",
    "                index = cells[1]\n",
    "            else:\n",
    "                cases = cells[1]\n",
    "                index = cells[0]\n",
    "    # every other row has its value in the third position of the list\n",
    "    else:\n",
    "        cases = cells[2]\n",
    "    # append values to master list\n",
    "    confirmed_cases.append(\n",
    "        (\n",
    "            index,\n",
    "            cases,\n",
    "        )\n",
    "    )"
   ]
  },
  {
   "cell_type": "code",
   "execution_count": 19,
   "metadata": {},
   "outputs": [],
   "source": [
    "matched = [(zip_codes[index], cases) for index, cases in confirmed_cases]"
   ]
  },
  {
   "cell_type": "code",
   "execution_count": 20,
   "metadata": {},
   "outputs": [],
   "source": [
    "df = pd.DataFrame(matched, columns=[\"zip_code\", \"confirmed_cases\"])"
   ]
  },
  {
   "cell_type": "code",
   "execution_count": 21,
   "metadata": {},
   "outputs": [
    {
     "data": {
      "text/html": [
       "<div>\n",
       "<style scoped>\n",
       "    .dataframe tbody tr th:only-of-type {\n",
       "        vertical-align: middle;\n",
       "    }\n",
       "\n",
       "    .dataframe tbody tr th {\n",
       "        vertical-align: top;\n",
       "    }\n",
       "\n",
       "    .dataframe thead th {\n",
       "        text-align: right;\n",
       "    }\n",
       "</style>\n",
       "<table border=\"1\" class=\"dataframe\">\n",
       "  <thead>\n",
       "    <tr style=\"text-align: right;\">\n",
       "      <th></th>\n",
       "      <th>zip_code</th>\n",
       "      <th>confirmed_cases</th>\n",
       "    </tr>\n",
       "  </thead>\n",
       "  <tbody>\n",
       "    <tr>\n",
       "      <th>0</th>\n",
       "      <td>93906</td>\n",
       "      <td>15555</td>\n",
       "    </tr>\n",
       "    <tr>\n",
       "      <th>1</th>\n",
       "      <td>93905</td>\n",
       "      <td>15524</td>\n",
       "    </tr>\n",
       "    <tr>\n",
       "      <th>2</th>\n",
       "      <td>93960</td>\n",
       "      <td>10021</td>\n",
       "    </tr>\n",
       "    <tr>\n",
       "      <th>3</th>\n",
       "      <td>93955</td>\n",
       "      <td>6989</td>\n",
       "    </tr>\n",
       "    <tr>\n",
       "      <th>4</th>\n",
       "      <td>93901</td>\n",
       "      <td>6460</td>\n",
       "    </tr>\n",
       "    <tr>\n",
       "      <th>5</th>\n",
       "      <td>93927</td>\n",
       "      <td>4731</td>\n",
       "    </tr>\n",
       "    <tr>\n",
       "      <th>6</th>\n",
       "      <td>93933</td>\n",
       "      <td>4598</td>\n",
       "    </tr>\n",
       "    <tr>\n",
       "      <th>7</th>\n",
       "      <td>93907</td>\n",
       "      <td>4150</td>\n",
       "    </tr>\n",
       "    <tr>\n",
       "      <th>8</th>\n",
       "      <td>93930</td>\n",
       "      <td>4022</td>\n",
       "    </tr>\n",
       "    <tr>\n",
       "      <th>9</th>\n",
       "      <td>93940</td>\n",
       "      <td>4009</td>\n",
       "    </tr>\n",
       "    <tr>\n",
       "      <th>10</th>\n",
       "      <td>95076</td>\n",
       "      <td>3562</td>\n",
       "    </tr>\n",
       "    <tr>\n",
       "      <th>11</th>\n",
       "      <td>95012</td>\n",
       "      <td>2896</td>\n",
       "    </tr>\n",
       "    <tr>\n",
       "      <th>12</th>\n",
       "      <td>93926</td>\n",
       "      <td>2192</td>\n",
       "    </tr>\n",
       "    <tr>\n",
       "      <th>13</th>\n",
       "      <td>93950</td>\n",
       "      <td>1711</td>\n",
       "    </tr>\n",
       "    <tr>\n",
       "      <th>14</th>\n",
       "      <td>93908</td>\n",
       "      <td>1669</td>\n",
       "    </tr>\n",
       "    <tr>\n",
       "      <th>15</th>\n",
       "      <td>93923</td>\n",
       "      <td>984</td>\n",
       "    </tr>\n",
       "    <tr>\n",
       "      <th>16</th>\n",
       "      <td>93924</td>\n",
       "      <td>561</td>\n",
       "    </tr>\n",
       "    <tr>\n",
       "      <th>17</th>\n",
       "      <td>95004</td>\n",
       "      <td>436</td>\n",
       "    </tr>\n",
       "    <tr>\n",
       "      <th>18</th>\n",
       "      <td>93953</td>\n",
       "      <td>406</td>\n",
       "    </tr>\n",
       "    <tr>\n",
       "      <th>19</th>\n",
       "      <td>93925</td>\n",
       "      <td>351</td>\n",
       "    </tr>\n",
       "    <tr>\n",
       "      <th>20</th>\n",
       "      <td>95039</td>\n",
       "      <td>301</td>\n",
       "    </tr>\n",
       "    <tr>\n",
       "      <th>21</th>\n",
       "      <td>93912</td>\n",
       "      <td>287</td>\n",
       "    </tr>\n",
       "    <tr>\n",
       "      <th>22</th>\n",
       "      <td>93921</td>\n",
       "      <td>233</td>\n",
       "    </tr>\n",
       "    <tr>\n",
       "      <th>23</th>\n",
       "      <td>OtherPBS</td>\n",
       "      <td>220</td>\n",
       "    </tr>\n",
       "    <tr>\n",
       "      <th>24</th>\n",
       "      <td>93450</td>\n",
       "      <td>189</td>\n",
       "    </tr>\n",
       "    <tr>\n",
       "      <th>25</th>\n",
       "      <td>93915</td>\n",
       "      <td>153</td>\n",
       "    </tr>\n",
       "    <tr>\n",
       "      <th>26</th>\n",
       "      <td>93902</td>\n",
       "      <td>142</td>\n",
       "    </tr>\n",
       "    <tr>\n",
       "      <th>27</th>\n",
       "      <td>OtherSC</td>\n",
       "      <td>123</td>\n",
       "    </tr>\n",
       "    <tr>\n",
       "      <th>28</th>\n",
       "      <td>93920</td>\n",
       "      <td>116</td>\n",
       "    </tr>\n",
       "    <tr>\n",
       "      <th>29</th>\n",
       "      <td>93954</td>\n",
       "      <td>110</td>\n",
       "    </tr>\n",
       "    <tr>\n",
       "      <th>30</th>\n",
       "      <td>93962</td>\n",
       "      <td>101</td>\n",
       "    </tr>\n",
       "    <tr>\n",
       "      <th>31</th>\n",
       "      <td>93922</td>\n",
       "      <td>94</td>\n",
       "    </tr>\n",
       "    <tr>\n",
       "      <th>32</th>\n",
       "      <td>93426</td>\n",
       "      <td>92</td>\n",
       "    </tr>\n",
       "    <tr>\n",
       "      <th>33</th>\n",
       "      <td>93942</td>\n",
       "      <td>86</td>\n",
       "    </tr>\n",
       "  </tbody>\n",
       "</table>\n",
       "</div>"
      ],
      "text/plain": [
       "    zip_code  confirmed_cases\n",
       "0      93906            15555\n",
       "1      93905            15524\n",
       "2      93960            10021\n",
       "3      93955             6989\n",
       "4      93901             6460\n",
       "5      93927             4731\n",
       "6      93933             4598\n",
       "7      93907             4150\n",
       "8      93930             4022\n",
       "9      93940             4009\n",
       "10     95076             3562\n",
       "11     95012             2896\n",
       "12     93926             2192\n",
       "13     93950             1711\n",
       "14     93908             1669\n",
       "15     93923              984\n",
       "16     93924              561\n",
       "17     95004              436\n",
       "18     93953              406\n",
       "19     93925              351\n",
       "20     95039              301\n",
       "21     93912              287\n",
       "22     93921              233\n",
       "23  OtherPBS              220\n",
       "24     93450              189\n",
       "25     93915              153\n",
       "26     93902              142\n",
       "27   OtherSC              123\n",
       "28     93920              116\n",
       "29     93954              110\n",
       "30     93962              101\n",
       "31     93922               94\n",
       "32     93426               92\n",
       "33     93942               86"
      ]
     },
     "execution_count": 21,
     "metadata": {},
     "output_type": "execute_result"
    }
   ],
   "source": [
    "df"
   ]
  },
  {
   "cell_type": "code",
   "execution_count": 22,
   "metadata": {},
   "outputs": [
    {
     "data": {
      "text/html": [
       "<div>\n",
       "<style scoped>\n",
       "    .dataframe tbody tr th:only-of-type {\n",
       "        vertical-align: middle;\n",
       "    }\n",
       "\n",
       "    .dataframe tbody tr th {\n",
       "        vertical-align: top;\n",
       "    }\n",
       "\n",
       "    .dataframe thead th {\n",
       "        text-align: right;\n",
       "    }\n",
       "</style>\n",
       "<table border=\"1\" class=\"dataframe\">\n",
       "  <thead>\n",
       "    <tr style=\"text-align: right;\">\n",
       "      <th></th>\n",
       "      <th>zip_code</th>\n",
       "      <th>confirmed_cases</th>\n",
       "    </tr>\n",
       "  </thead>\n",
       "  <tbody>\n",
       "    <tr>\n",
       "      <th>0</th>\n",
       "      <td>93906</td>\n",
       "      <td>15555</td>\n",
       "    </tr>\n",
       "    <tr>\n",
       "      <th>1</th>\n",
       "      <td>93905</td>\n",
       "      <td>15524</td>\n",
       "    </tr>\n",
       "    <tr>\n",
       "      <th>2</th>\n",
       "      <td>93960</td>\n",
       "      <td>10021</td>\n",
       "    </tr>\n",
       "    <tr>\n",
       "      <th>3</th>\n",
       "      <td>93955</td>\n",
       "      <td>6989</td>\n",
       "    </tr>\n",
       "    <tr>\n",
       "      <th>4</th>\n",
       "      <td>93901</td>\n",
       "      <td>6460</td>\n",
       "    </tr>\n",
       "    <tr>\n",
       "      <th>5</th>\n",
       "      <td>93927</td>\n",
       "      <td>4731</td>\n",
       "    </tr>\n",
       "    <tr>\n",
       "      <th>6</th>\n",
       "      <td>93933</td>\n",
       "      <td>4598</td>\n",
       "    </tr>\n",
       "    <tr>\n",
       "      <th>7</th>\n",
       "      <td>93907</td>\n",
       "      <td>4150</td>\n",
       "    </tr>\n",
       "    <tr>\n",
       "      <th>8</th>\n",
       "      <td>93930</td>\n",
       "      <td>4022</td>\n",
       "    </tr>\n",
       "    <tr>\n",
       "      <th>9</th>\n",
       "      <td>93940</td>\n",
       "      <td>4009</td>\n",
       "    </tr>\n",
       "    <tr>\n",
       "      <th>10</th>\n",
       "      <td>95076</td>\n",
       "      <td>3562</td>\n",
       "    </tr>\n",
       "    <tr>\n",
       "      <th>11</th>\n",
       "      <td>95012</td>\n",
       "      <td>2896</td>\n",
       "    </tr>\n",
       "    <tr>\n",
       "      <th>12</th>\n",
       "      <td>93926</td>\n",
       "      <td>2192</td>\n",
       "    </tr>\n",
       "    <tr>\n",
       "      <th>13</th>\n",
       "      <td>93950</td>\n",
       "      <td>1711</td>\n",
       "    </tr>\n",
       "    <tr>\n",
       "      <th>14</th>\n",
       "      <td>93908</td>\n",
       "      <td>1669</td>\n",
       "    </tr>\n",
       "    <tr>\n",
       "      <th>15</th>\n",
       "      <td>93923</td>\n",
       "      <td>984</td>\n",
       "    </tr>\n",
       "    <tr>\n",
       "      <th>16</th>\n",
       "      <td>93924</td>\n",
       "      <td>561</td>\n",
       "    </tr>\n",
       "    <tr>\n",
       "      <th>17</th>\n",
       "      <td>95004</td>\n",
       "      <td>436</td>\n",
       "    </tr>\n",
       "    <tr>\n",
       "      <th>18</th>\n",
       "      <td>93953</td>\n",
       "      <td>406</td>\n",
       "    </tr>\n",
       "    <tr>\n",
       "      <th>19</th>\n",
       "      <td>93925</td>\n",
       "      <td>351</td>\n",
       "    </tr>\n",
       "    <tr>\n",
       "      <th>20</th>\n",
       "      <td>95039</td>\n",
       "      <td>301</td>\n",
       "    </tr>\n",
       "    <tr>\n",
       "      <th>21</th>\n",
       "      <td>93912</td>\n",
       "      <td>287</td>\n",
       "    </tr>\n",
       "    <tr>\n",
       "      <th>22</th>\n",
       "      <td>93921</td>\n",
       "      <td>233</td>\n",
       "    </tr>\n",
       "    <tr>\n",
       "      <th>23</th>\n",
       "      <td>OtherPBS</td>\n",
       "      <td>220</td>\n",
       "    </tr>\n",
       "    <tr>\n",
       "      <th>24</th>\n",
       "      <td>93450</td>\n",
       "      <td>189</td>\n",
       "    </tr>\n",
       "    <tr>\n",
       "      <th>25</th>\n",
       "      <td>93915</td>\n",
       "      <td>153</td>\n",
       "    </tr>\n",
       "    <tr>\n",
       "      <th>26</th>\n",
       "      <td>93902</td>\n",
       "      <td>142</td>\n",
       "    </tr>\n",
       "    <tr>\n",
       "      <th>27</th>\n",
       "      <td>OtherSC</td>\n",
       "      <td>123</td>\n",
       "    </tr>\n",
       "    <tr>\n",
       "      <th>28</th>\n",
       "      <td>93920</td>\n",
       "      <td>116</td>\n",
       "    </tr>\n",
       "    <tr>\n",
       "      <th>29</th>\n",
       "      <td>93954</td>\n",
       "      <td>110</td>\n",
       "    </tr>\n",
       "    <tr>\n",
       "      <th>30</th>\n",
       "      <td>93962</td>\n",
       "      <td>101</td>\n",
       "    </tr>\n",
       "    <tr>\n",
       "      <th>31</th>\n",
       "      <td>93922</td>\n",
       "      <td>94</td>\n",
       "    </tr>\n",
       "    <tr>\n",
       "      <th>32</th>\n",
       "      <td>93426</td>\n",
       "      <td>92</td>\n",
       "    </tr>\n",
       "    <tr>\n",
       "      <th>33</th>\n",
       "      <td>93942</td>\n",
       "      <td>86</td>\n",
       "    </tr>\n",
       "  </tbody>\n",
       "</table>\n",
       "</div>"
      ],
      "text/plain": [
       "    zip_code  confirmed_cases\n",
       "0      93906            15555\n",
       "1      93905            15524\n",
       "2      93960            10021\n",
       "3      93955             6989\n",
       "4      93901             6460\n",
       "5      93927             4731\n",
       "6      93933             4598\n",
       "7      93907             4150\n",
       "8      93930             4022\n",
       "9      93940             4009\n",
       "10     95076             3562\n",
       "11     95012             2896\n",
       "12     93926             2192\n",
       "13     93950             1711\n",
       "14     93908             1669\n",
       "15     93923              984\n",
       "16     93924              561\n",
       "17     95004              436\n",
       "18     93953              406\n",
       "19     93925              351\n",
       "20     95039              301\n",
       "21     93912              287\n",
       "22     93921              233\n",
       "23  OtherPBS              220\n",
       "24     93450              189\n",
       "25     93915              153\n",
       "26     93902              142\n",
       "27   OtherSC              123\n",
       "28     93920              116\n",
       "29     93954              110\n",
       "30     93962              101\n",
       "31     93922               94\n",
       "32     93426               92\n",
       "33     93942               86"
      ]
     },
     "execution_count": 22,
     "metadata": {},
     "output_type": "execute_result"
    }
   ],
   "source": [
    "df"
   ]
  },
  {
   "cell_type": "markdown",
   "metadata": {},
   "source": [
    "Match up place names with zip codes"
   ]
  },
  {
   "cell_type": "code",
   "execution_count": 23,
   "metadata": {},
   "outputs": [],
   "source": [
    "df = df.loc[~df.zip_code.str.contains(\"Other\")]"
   ]
  },
  {
   "cell_type": "code",
   "execution_count": 24,
   "metadata": {},
   "outputs": [],
   "source": [
    "zip_code_names = {\n",
    "    \"93902\": \"Prunedale\",\n",
    "    \"93907\": \"Salinas\",\n",
    "    \"95004\": \"Aromas\",\n",
    "    \"95012\": \"Castroville\",\n",
    "    \"95039\": \"Moss Landing\",\n",
    "    \"95076\": \"Watsonville\",\n",
    "    \"93920\": \"Big Sur\",\n",
    "    \"93921\": \"Carmel\",\n",
    "    \"93923\": \"Carmel\",\n",
    "    \"93924\": \"Carmel Valley\",\n",
    "    \"93933\": \"Marina\",\n",
    "    \"93940\": \"Monterey\",\n",
    "    \"93942\": \"Monterey\",\n",
    "    \"93950\": \"Pacific Grove\",\n",
    "    \"93953\": \"Pebble Beach\",\n",
    "    \"93955\": \"Seaside\",\n",
    "    \"93901\": \"Salinas\",\n",
    "    \"93905\": \"Salinas\",\n",
    "    \"93906\": \"Salinas\",\n",
    "    \"93908\": \"Salinas\",\n",
    "    \"93912\": \"Boronda\",\n",
    "    \"93915\": \"Salinas\",\n",
    "    \"93962\": \"Spreckels\",\n",
    "    \"93450\": \"San Ardo\",\n",
    "    \"93925\": \"Chualar\",\n",
    "    \"93926\": \"Gonzales\",\n",
    "    \"93927\": \"Greenfield\",\n",
    "    \"93930\": \"King City\",\n",
    "    \"93954\": \"San Lucas\",\n",
    "    \"93960\": \"Soledad\",\n",
    "    \"93922\": \"Carmel\",\n",
    "    \"93426\": \"Bradley\",\n",
    "    \"93451\": \"San Miguel\",\n",
    "}"
   ]
  },
  {
   "cell_type": "code",
   "execution_count": 25,
   "metadata": {},
   "outputs": [
    {
     "name": "stderr",
     "output_type": "stream",
     "text": [
      "/var/folders/zd/yxs_1mzx1pn4j9kd8cq39n4r0000gn/T/ipykernel_46418/640265091.py:1: SettingWithCopyWarning: \n",
      "A value is trying to be set on a copy of a slice from a DataFrame.\n",
      "Try using .loc[row_indexer,col_indexer] = value instead\n",
      "\n",
      "See the caveats in the documentation: https://pandas.pydata.org/pandas-docs/stable/user_guide/indexing.html#returning-a-view-versus-a-copy\n",
      "  df[\"area_name\"] = df.zip_code.map(zip_code_names)\n"
     ]
    }
   ],
   "source": [
    "df[\"area_name\"] = df.zip_code.map(zip_code_names)"
   ]
  },
  {
   "cell_type": "code",
   "execution_count": 26,
   "metadata": {},
   "outputs": [
    {
     "name": "stderr",
     "output_type": "stream",
     "text": [
      "/var/folders/zd/yxs_1mzx1pn4j9kd8cq39n4r0000gn/T/ipykernel_46418/3669557735.py:1: SettingWithCopyWarning: \n",
      "A value is trying to be set on a copy of a slice from a DataFrame.\n",
      "Try using .loc[row_indexer,col_indexer] = value instead\n",
      "\n",
      "See the caveats in the documentation: https://pandas.pydata.org/pandas-docs/stable/user_guide/indexing.html#returning-a-view-versus-a-copy\n",
      "  df[\"area_name\"] = df[\"zip_code\"] + \": \" + df[\"area_name\"]\n"
     ]
    }
   ],
   "source": [
    "df[\"area_name\"] = df[\"zip_code\"] + \": \" + df[\"area_name\"]"
   ]
  },
  {
   "cell_type": "code",
   "execution_count": 27,
   "metadata": {},
   "outputs": [],
   "source": [
    "df = df[(df.zip_code != \"OtherPBS\")]"
   ]
  },
  {
   "cell_type": "markdown",
   "metadata": {},
   "source": [
    "Set column with county date"
   ]
  },
  {
   "cell_type": "code",
   "execution_count": 28,
   "metadata": {},
   "outputs": [],
   "source": [
    "df[\"county_date\"] = pd.to_datetime(timestamp)"
   ]
  },
  {
   "cell_type": "code",
   "execution_count": 29,
   "metadata": {},
   "outputs": [],
   "source": [
    "df[\"county_date\"] = df[\"county_date\"].dt.tz_convert(\"US/Pacific\")"
   ]
  },
  {
   "cell_type": "code",
   "execution_count": 30,
   "metadata": {},
   "outputs": [],
   "source": [
    "df[\"county_date\"] = df[\"county_date\"].dt.strftime(\"%Y-%m-%d\")"
   ]
  },
  {
   "cell_type": "code",
   "execution_count": 31,
   "metadata": {},
   "outputs": [],
   "source": [
    "df.insert(0, \"county\", \"Monterey\")"
   ]
  },
  {
   "cell_type": "markdown",
   "metadata": {},
   "source": [
    "Clean up for export"
   ]
  },
  {
   "cell_type": "code",
   "execution_count": 32,
   "metadata": {},
   "outputs": [],
   "source": [
    "export_df = df[\n",
    "    [\"county\", \"area_name\", \"confirmed_cases\", \"county_date\", \"zip_code\"]\n",
    "].rename(columns={\"area_name\": \"area\", \"zip_code\": \"zip\"})"
   ]
  },
  {
   "cell_type": "markdown",
   "metadata": {},
   "source": [
    "## Vet"
   ]
  },
  {
   "cell_type": "code",
   "execution_count": 33,
   "metadata": {},
   "outputs": [
    {
     "data": {
      "text/plain": [
       "True"
      ]
     },
     "execution_count": 33,
     "metadata": {},
     "output_type": "execute_result"
    }
   ],
   "source": [
    "len(export_df) < 33"
   ]
  },
  {
   "cell_type": "code",
   "execution_count": 34,
   "metadata": {},
   "outputs": [],
   "source": [
    "try:\n",
    "    assert len(export_df) < 33\n",
    "except AssertionError:\n",
    "    raise AssertionError(\"Monterey County's zip code scraper is missing rows\")"
   ]
  },
  {
   "cell_type": "code",
   "execution_count": 35,
   "metadata": {},
   "outputs": [],
   "source": [
    "try:\n",
    "    assert not len(export_df) > 33\n",
    "except AssertionError:\n",
    "    raise AssertionError(\n",
    "        f\"Monterey County's zip code scraper has {len(export_df)-29} more rows than before\"\n",
    "    )"
   ]
  },
  {
   "cell_type": "markdown",
   "metadata": {},
   "source": [
    "## Export"
   ]
  },
  {
   "cell_type": "markdown",
   "metadata": {},
   "source": [
    "Set date"
   ]
  },
  {
   "cell_type": "code",
   "execution_count": 36,
   "metadata": {},
   "outputs": [],
   "source": [
    "tz = pytz.timezone(\"America/Los_Angeles\")"
   ]
  },
  {
   "cell_type": "code",
   "execution_count": 37,
   "metadata": {},
   "outputs": [],
   "source": [
    "today = datetime.now(tz).date()"
   ]
  },
  {
   "cell_type": "code",
   "execution_count": 38,
   "metadata": {},
   "outputs": [],
   "source": [
    "slug = \"monterey\""
   ]
  },
  {
   "cell_type": "code",
   "execution_count": 39,
   "metadata": {},
   "outputs": [],
   "source": [
    "export_df.to_csv(data_dir / slug / f\"{today}.csv\", index=False)"
   ]
  },
  {
   "cell_type": "markdown",
   "metadata": {},
   "source": [
    "## Combine"
   ]
  },
  {
   "cell_type": "code",
   "execution_count": 40,
   "metadata": {},
   "outputs": [],
   "source": [
    "csv_list = [\n",
    "    i\n",
    "    for i in glob.glob(str(data_dir / slug / \"*.csv\"))\n",
    "    if not str(i).endswith(\"timeseries.csv\")\n",
    "]"
   ]
  },
  {
   "cell_type": "code",
   "execution_count": 41,
   "metadata": {},
   "outputs": [],
   "source": [
    "df_list = []\n",
    "for csv in csv_list:\n",
    "    if \"manual\" in csv:\n",
    "        df = pd.read_csv(csv, parse_dates=[\"date\"])\n",
    "    else:\n",
    "        file_date = csv.split(\"/\")[-1].replace(\".csv\", \"\")\n",
    "        df = pd.read_csv(csv, parse_dates=[\"county_date\"])\n",
    "        df[\"date\"] = file_date\n",
    "    df_list.append(df)"
   ]
  },
  {
   "cell_type": "code",
   "execution_count": 42,
   "metadata": {},
   "outputs": [],
   "source": [
    "df = pd.concat(df_list).sort_values([\"date\", \"area\"])"
   ]
  },
  {
   "cell_type": "code",
   "execution_count": 43,
   "metadata": {},
   "outputs": [],
   "source": [
    "df.to_csv(data_dir / slug / \"timeseries.csv\", index=False)"
   ]
  },
  {
   "cell_type": "code",
   "execution_count": null,
   "metadata": {},
   "outputs": [],
   "source": []
  }
 ],
 "metadata": {
  "kernelspec": {
   "display_name": "Python 3 (ipykernel)",
   "language": "python",
   "name": "python3"
  },
  "language_info": {
   "codemirror_mode": {
    "name": "ipython",
    "version": 3
   },
   "file_extension": ".py",
   "mimetype": "text/x-python",
   "name": "python",
   "nbconvert_exporter": "python",
   "pygments_lexer": "ipython3",
   "version": "3.8.14"
  }
 },
 "nbformat": 4,
 "nbformat_minor": 4
}
