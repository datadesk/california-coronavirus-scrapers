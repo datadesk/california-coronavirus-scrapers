{
 "cells": [
  {
   "cell_type": "markdown",
   "metadata": {},
   "source": [
    "## Configuration\n",
    "_Initial steps to get the notebook ready to play nice with our repository. Do not delete this section._"
   ]
  },
  {
   "cell_type": "markdown",
   "metadata": {},
   "source": [
    "Code formatting with [black](https://pypi.org/project/nb-black/)."
   ]
  },
  {
   "cell_type": "code",
   "execution_count": 1,
   "metadata": {
    "execution": {
     "iopub.execute_input": "2022-06-10T00:30:16.941112Z",
     "iopub.status.busy": "2022-06-10T00:30:16.940725Z",
     "iopub.status.idle": "2022-06-10T00:30:17.017520Z",
     "shell.execute_reply": "2022-06-10T00:30:17.017967Z"
    },
    "tags": []
   },
   "outputs": [],
   "source": [
    "%load_ext lab_black"
   ]
  },
  {
   "cell_type": "code",
   "execution_count": 2,
   "metadata": {
    "execution": {
     "iopub.execute_input": "2022-06-10T00:30:17.023660Z",
     "iopub.status.busy": "2022-06-10T00:30:17.022403Z",
     "iopub.status.idle": "2022-06-10T00:30:17.024242Z",
     "shell.execute_reply": "2022-06-10T00:30:17.024667Z"
    },
    "tags": []
   },
   "outputs": [],
   "source": [
    "import os\n",
    "import pathlib"
   ]
  },
  {
   "cell_type": "code",
   "execution_count": 3,
   "metadata": {
    "execution": {
     "iopub.execute_input": "2022-06-10T00:30:17.030172Z",
     "iopub.status.busy": "2022-06-10T00:30:17.029771Z",
     "iopub.status.idle": "2022-06-10T00:30:17.031584Z",
     "shell.execute_reply": "2022-06-10T00:30:17.031897Z"
    },
    "tags": []
   },
   "outputs": [],
   "source": [
    "this_dir = pathlib.Path(os.path.abspath(\"\"))"
   ]
  },
  {
   "cell_type": "code",
   "execution_count": 4,
   "metadata": {
    "execution": {
     "iopub.execute_input": "2022-06-10T00:30:17.035593Z",
     "iopub.status.busy": "2022-06-10T00:30:17.034831Z",
     "iopub.status.idle": "2022-06-10T00:30:17.037791Z",
     "shell.execute_reply": "2022-06-10T00:30:17.037402Z"
    }
   },
   "outputs": [],
   "source": [
    "data_dir = this_dir / \"data\""
   ]
  },
  {
   "cell_type": "code",
   "execution_count": 5,
   "metadata": {
    "execution": {
     "iopub.execute_input": "2022-06-10T00:30:17.041053Z",
     "iopub.status.busy": "2022-06-10T00:30:17.040645Z",
     "iopub.status.idle": "2022-06-10T00:30:17.336101Z",
     "shell.execute_reply": "2022-06-10T00:30:17.335201Z"
    },
    "tags": []
   },
   "outputs": [],
   "source": [
    "import pytz\n",
    "import glob\n",
    "import json\n",
    "import requests\n",
    "import pandas as pd\n",
    "from datetime import datetime, date"
   ]
  },
  {
   "cell_type": "markdown",
   "metadata": {},
   "source": [
    "## Download"
   ]
  },
  {
   "cell_type": "code",
   "execution_count": 6,
   "metadata": {
    "execution": {
     "iopub.execute_input": "2022-06-10T00:30:17.341728Z",
     "iopub.status.busy": "2022-06-10T00:30:17.341205Z",
     "iopub.status.idle": "2022-06-10T00:30:17.346115Z",
     "shell.execute_reply": "2022-06-10T00:30:17.346558Z"
    },
    "tags": []
   },
   "outputs": [],
   "source": [
    "POWER_BI_QUERY_URL = (\n",
    "    \"https://wabi-us-gov-iowa-api.analysis.usgovcloudapi.net/public/reports/querydata\"\n",
    ")\n",
    "REQUEST_PARAMS = ((\"synchronous\", \"true\"),)\n",
    "REQUEST_BODY = '{\"version\":\"1.0.0\",\"queries\":[{\"Query\":{\"Commands\":[{\"SemanticQueryDataShapeCommand\":{\"Query\":{\"Version\":2,\"From\":[{\"Name\":\"d\",\"Entity\":\"demo_region_count\",\"Type\":0},{\"Name\":\"r\",\"Entity\":\"region_lastmonth\",\"Type\":0}],\"Select\":[{\"Column\":{\"Expression\":{\"SourceRef\":{\"Source\":\"d\"}},\"Property\":\"mregion\"},\"Name\":\"demo_region_count.mregion\"},{\"Aggregation\":{\"Expression\":{\"Column\":{\"Expression\":{\"SourceRef\":{\"Source\":\"d\"}},\"Property\":\"case_count\"}},\"Function\":0},\"Name\":\"Sum(demo_region_count.case_count)\"},{\"Column\":{\"Expression\":{\"SourceRef\":{\"Source\":\"d\"}},\"Property\":\"zip2\"},\"Name\":\"demo_region_count.zip2\"},{\"Aggregation\":{\"Expression\":{\"Column\":{\"Expression\":{\"SourceRef\":{\"Source\":\"r\"}},\"Property\":\"case_count\"}},\"Function\":0},\"Name\":\"Sum(region_lastmonth.case_count)\"}],\"Where\":[{\"Condition\":{\"Not\":{\"Expression\":{\"In\":{\"Expressions\":[{\"Column\":{\"Expression\":{\"SourceRef\":{\"Source\":\"r\"}},\"Property\":\"zip2\"}}],\"Values\":[[{\"Literal\":{\"Value\":\"null\"}}]]}}}}},{\"Condition\":{\"Not\":{\"Expression\":{\"In\":{\"Expressions\":[{\"Column\":{\"Expression\":{\"SourceRef\":{\"Source\":\"d\"}},\"Property\":\"mregion\"}}],\"Values\":[[{\"Literal\":{\"Value\":\"\\'Unknown\\'\"}}]]}}}}}],\"OrderBy\":[{\"Direction\":2,\"Expression\":{\"Aggregation\":{\"Expression\":{\"Column\":{\"Expression\":{\"SourceRef\":{\"Source\":\"d\"}},\"Property\":\"case_count\"}},\"Function\":0}}}]},\"Binding\":{\"Primary\":{\"Groupings\":[{\"Projections\":[0,1,2,3]}]},\"DataReduction\":{\"DataVolume\":3,\"Primary\":{\"Window\":{\"Count\":500}}},\"Version\":1},\"ExecutionMetricsKind\":1}}]},\"QueryId\":\"\",\"ApplicationContext\":{\"DatasetId\":\"2e66a584-6b5f-4c9f-bffd-12d35d2b8442\",\"Sources\":[{\"ReportId\":\"40085a43-f04a-4a8b-ae72-c38ca32531a5\",\"VisualId\":\"136278efd4c6f694b9b7\"}]}}],\"cancelQueries\":[],\"modelId\":358821}'"
   ]
  },
  {
   "cell_type": "code",
   "execution_count": 7,
   "metadata": {
    "execution": {
     "iopub.execute_input": "2022-06-10T00:30:17.351377Z",
     "iopub.status.busy": "2022-06-10T00:30:17.350899Z",
     "iopub.status.idle": "2022-06-10T00:30:17.359135Z",
     "shell.execute_reply": "2022-06-10T00:30:17.358719Z"
    }
   },
   "outputs": [],
   "source": [
    "headers = {\n",
    "    \"accept\": \"application/json, text/plain, */*\",\n",
    "    \"accept-language\": \"en-US,en;q=0.9,da;q=0.8\",\n",
    "    \"activityid\": \"07a2f3cb-ea39-4519-8ee0-b5605aa78145\",\n",
    "    \"content-type\": \"application/json;charset=UTF-8\",\n",
    "    \"requestid\": \"a5565ffd-b522-00a7-afe8-5c4f3a3ce843\",\n",
    "    \"sec-ch-ua\": '\" Not A;Brand\";v=\"99\", \"Chromium\";v=\"100\", \"Google Chrome\";v=\"100\"',\n",
    "    \"sec-ch-ua-mobile\": \"?0\",\n",
    "    \"sec-ch-ua-platform\": '\"macOS\"',\n",
    "    \"sec-fetch-dest\": \"empty\",\n",
    "    \"sec-fetch-mode\": \"cors\",\n",
    "    \"sec-fetch-site\": \"cross-site\",\n",
    "    \"x-powerbi-resourcekey\": \"69a5588e-f8a1-4aef-aac5-ca27ee543007\",\n",
    "    \"Referer\": \"https://app.powerbigov.us/\",\n",
    "    \"Referrer-Policy\": \"strict-origin-when-cross-origin\",\n",
    "}\n",
    "json_data = json.loads(REQUEST_BODY)"
   ]
  },
  {
   "cell_type": "code",
   "execution_count": 8,
   "metadata": {
    "execution": {
     "iopub.execute_input": "2022-06-10T00:30:17.362782Z",
     "iopub.status.busy": "2022-06-10T00:30:17.362290Z",
     "iopub.status.idle": "2022-06-10T00:30:18.168655Z",
     "shell.execute_reply": "2022-06-10T00:30:18.168135Z"
    },
    "tags": []
   },
   "outputs": [
    {
     "name": "stderr",
     "output_type": "stream",
     "text": [
      "/home/runner/.local/share/virtualenvs/california-coronavirus-scrapers-dxuBXRsm/lib/python3.8/site-packages/urllib3/connectionpool.py:1013: InsecureRequestWarning: Unverified HTTPS request is being made to host 'wabi-us-gov-iowa-api.analysis.usgovcloudapi.net'. Adding certificate verification is strongly advised. See: https://urllib3.readthedocs.io/en/1.26.x/advanced-usage.html#ssl-warnings\n",
      "  warnings.warn(\n"
     ]
    }
   ],
   "source": [
    "response = requests.post(\n",
    "    POWER_BI_QUERY_URL,\n",
    "    params=REQUEST_PARAMS,\n",
    "    headers=headers,\n",
    "    json=json_data,\n",
    "    verify=False,\n",
    ")"
   ]
  },
  {
   "cell_type": "code",
   "execution_count": 9,
   "metadata": {
    "execution": {
     "iopub.execute_input": "2022-06-10T00:30:18.173434Z",
     "iopub.status.busy": "2022-06-10T00:30:18.172990Z",
     "iopub.status.idle": "2022-06-10T00:30:18.175916Z",
     "shell.execute_reply": "2022-06-10T00:30:18.175387Z"
    }
   },
   "outputs": [],
   "source": [
    "data = response.json()"
   ]
  },
  {
   "cell_type": "markdown",
   "metadata": {},
   "source": [
    "## Parse"
   ]
  },
  {
   "cell_type": "code",
   "execution_count": 10,
   "metadata": {
    "execution": {
     "iopub.execute_input": "2022-06-10T00:30:18.180253Z",
     "iopub.status.busy": "2022-06-10T00:30:18.177746Z",
     "iopub.status.idle": "2022-06-10T00:30:18.183279Z",
     "shell.execute_reply": "2022-06-10T00:30:18.182619Z"
    }
   },
   "outputs": [],
   "source": [
    "timestamp = response.headers[\"Date\"]"
   ]
  },
  {
   "cell_type": "code",
   "execution_count": 11,
   "metadata": {
    "execution": {
     "iopub.execute_input": "2022-06-10T00:30:18.190744Z",
     "iopub.status.busy": "2022-06-10T00:30:18.190307Z",
     "iopub.status.idle": "2022-06-10T00:30:18.194067Z",
     "shell.execute_reply": "2022-06-10T00:30:18.193160Z"
    }
   },
   "outputs": [
    {
     "data": {
      "text/plain": [
       "'Fri, 10 Jun 2022 00:30:18 GMT'"
      ]
     },
     "execution_count": 11,
     "metadata": {},
     "output_type": "execute_result"
    }
   ],
   "source": [
    "timestamp"
   ]
  },
  {
   "cell_type": "code",
   "execution_count": 12,
   "metadata": {
    "execution": {
     "iopub.execute_input": "2022-06-10T00:30:18.198098Z",
     "iopub.status.busy": "2022-06-10T00:30:18.197479Z",
     "iopub.status.idle": "2022-06-10T00:30:18.201710Z",
     "shell.execute_reply": "2022-06-10T00:30:18.201380Z"
    }
   },
   "outputs": [],
   "source": [
    "ds = data[\"results\"][0][\"result\"][\"data\"][\"dsr\"][\"DS\"][0]"
   ]
  },
  {
   "cell_type": "code",
   "execution_count": 13,
   "metadata": {
    "execution": {
     "iopub.execute_input": "2022-06-10T00:30:18.204991Z",
     "iopub.status.busy": "2022-06-10T00:30:18.204300Z",
     "iopub.status.idle": "2022-06-10T00:30:18.208685Z",
     "shell.execute_reply": "2022-06-10T00:30:18.208069Z"
    }
   },
   "outputs": [],
   "source": [
    "zip_codes = ds[\"ValueDicts\"][\"D1\"]"
   ]
  },
  {
   "cell_type": "code",
   "execution_count": 14,
   "metadata": {
    "execution": {
     "iopub.execute_input": "2022-06-10T00:30:18.213165Z",
     "iopub.status.busy": "2022-06-10T00:30:18.212518Z",
     "iopub.status.idle": "2022-06-10T00:30:18.215539Z",
     "shell.execute_reply": "2022-06-10T00:30:18.215191Z"
    }
   },
   "outputs": [],
   "source": [
    "rows = ds[\"PH\"][0][\"DM0\"]"
   ]
  },
  {
   "cell_type": "code",
   "execution_count": 15,
   "metadata": {
    "execution": {
     "iopub.execute_input": "2022-06-10T00:30:18.222121Z",
     "iopub.status.busy": "2022-06-10T00:30:18.217281Z",
     "iopub.status.idle": "2022-06-10T00:30:18.226764Z",
     "shell.execute_reply": "2022-06-10T00:30:18.226231Z"
    }
   },
   "outputs": [
    {
     "data": {
      "text/plain": [
       "[{'S': [{'N': 'G0', 'T': 1, 'DN': 'D0'},\n",
       "   {'N': 'G1', 'T': 1, 'DN': 'D1'},\n",
       "   {'N': 'M0', 'T': 4},\n",
       "   {'N': 'M1', 'T': 4}],\n",
       "  'C': [0, 0, 14268, 195]},\n",
       " {'C': [1, 14147, 318], 'R': 1},\n",
       " {'C': [1, 2, 9148, 105]},\n",
       " {'C': [2, 3, 6226, 291]},\n",
       " {'C': [0, 4, 5653, 160]},\n",
       " {'C': [1, 5, 4397, 45]},\n",
       " {'C': [2, 6, 3951, 232]},\n",
       " {'C': [1, 7, 3712, 33]},\n",
       " {'C': [3, 8, 3684, 113]},\n",
       " {'C': [2, 9, 3276, 232]},\n",
       " {'C': [3, 10, 3137, 45]},\n",
       " {'C': [11, 2649, 49], 'R': 1},\n",
       " {'C': [1, 12, 2037, 23]},\n",
       " {'C': [0, 13, 1484, 75]},\n",
       " {'C': [2, 14, 1340, 124]},\n",
       " {'C': [15, 777, 46], 'R': 1},\n",
       " {'C': [16, 476, 20], 'R': 1},\n",
       " {'C': [3, 17, 399, 19]},\n",
       " {'C': [2, 18, 327, 49]},\n",
       " {'C': [1, 19, 322, 1]},\n",
       " {'C': [3, 20, 266, 7]},\n",
       " {'C': [0, 21, 254], 'R': 8},\n",
       " {'C': [2, 22, 177, 41]},\n",
       " {'C': [1, 23, 174, 4]},\n",
       " {'C': [2, 24, 170, 26]},\n",
       " {'C': [0, 25, 142, 4]},\n",
       " {'C': [3, 26, 129, 5]},\n",
       " {'C': [1, 27, 112, 7]},\n",
       " {'C': [28, 104, 1], 'R': 1},\n",
       " {'C': [0, 29, 88, 2]},\n",
       " {'C': [1, 30, 85], 'R': 8},\n",
       " {'C': [2, 31, 79, 10]},\n",
       " {'C': [32, 67, 4], 'R': 1},\n",
       " {'C': [1, 33, 58], 'R': 8}]"
      ]
     },
     "execution_count": 15,
     "metadata": {},
     "output_type": "execute_result"
    }
   ],
   "source": [
    "rows"
   ]
  },
  {
   "cell_type": "code",
   "execution_count": 16,
   "metadata": {
    "execution": {
     "iopub.execute_input": "2022-06-10T00:30:18.235049Z",
     "iopub.status.busy": "2022-06-10T00:30:18.228528Z",
     "iopub.status.idle": "2022-06-10T00:30:18.242524Z",
     "shell.execute_reply": "2022-06-10T00:30:18.242874Z"
    }
   },
   "outputs": [],
   "source": [
    "confirmed_cases = []\n",
    "\n",
    "cases = 0\n",
    "\n",
    "for row in rows:\n",
    "    # in some cases, data are encoded in separate keys\n",
    "    keys = row.keys()\n",
    "    # pull out the list containing values for most rows\n",
    "    cells = row[\"C\"]\n",
    "    # second value in the list is expected to be an iterator/index\n",
    "    index = cells[1]\n",
    "    # if this key is present, the value for this place is identical to the previous row\n",
    "    if \"R\" in keys:\n",
    "        if row[\"R\"] == 1:\n",
    "            cases = cells[1]\n",
    "            index = cells[0]\n",
    "        else:\n",
    "            cases = cells[2]\n",
    "            index = cells[1]\n",
    "    # every other row has its value in the third position of the list\n",
    "    else:\n",
    "        cases = cells[2]\n",
    "    # append values to master list\n",
    "    confirmed_cases.append(\n",
    "        (\n",
    "            index,\n",
    "            cases,\n",
    "        )\n",
    "    )"
   ]
  },
  {
   "cell_type": "code",
   "execution_count": 17,
   "metadata": {
    "execution": {
     "iopub.execute_input": "2022-06-10T00:30:18.247429Z",
     "iopub.status.busy": "2022-06-10T00:30:18.247032Z",
     "iopub.status.idle": "2022-06-10T00:30:18.249429Z",
     "shell.execute_reply": "2022-06-10T00:30:18.249778Z"
    }
   },
   "outputs": [],
   "source": [
    "matched = [(zip_codes[index], cases) for index, cases in confirmed_cases]"
   ]
  },
  {
   "cell_type": "code",
   "execution_count": 18,
   "metadata": {
    "execution": {
     "iopub.execute_input": "2022-06-10T00:30:18.253778Z",
     "iopub.status.busy": "2022-06-10T00:30:18.253373Z",
     "iopub.status.idle": "2022-06-10T00:30:18.257498Z",
     "shell.execute_reply": "2022-06-10T00:30:18.257105Z"
    }
   },
   "outputs": [],
   "source": [
    "df = pd.DataFrame(matched, columns=[\"zip_code\", \"confirmed_cases\"])"
   ]
  },
  {
   "cell_type": "code",
   "execution_count": 19,
   "metadata": {
    "execution": {
     "iopub.execute_input": "2022-06-10T00:30:18.261047Z",
     "iopub.status.busy": "2022-06-10T00:30:18.260317Z",
     "iopub.status.idle": "2022-06-10T00:30:18.270504Z",
     "shell.execute_reply": "2022-06-10T00:30:18.270125Z"
    }
   },
   "outputs": [
    {
     "data": {
      "text/html": [
       "<div>\n",
       "<style scoped>\n",
       "    .dataframe tbody tr th:only-of-type {\n",
       "        vertical-align: middle;\n",
       "    }\n",
       "\n",
       "    .dataframe tbody tr th {\n",
       "        vertical-align: top;\n",
       "    }\n",
       "\n",
       "    .dataframe thead th {\n",
       "        text-align: right;\n",
       "    }\n",
       "</style>\n",
       "<table border=\"1\" class=\"dataframe\">\n",
       "  <thead>\n",
       "    <tr style=\"text-align: right;\">\n",
       "      <th></th>\n",
       "      <th>zip_code</th>\n",
       "      <th>confirmed_cases</th>\n",
       "    </tr>\n",
       "  </thead>\n",
       "  <tbody>\n",
       "    <tr>\n",
       "      <th>0</th>\n",
       "      <td>93905</td>\n",
       "      <td>14268</td>\n",
       "    </tr>\n",
       "    <tr>\n",
       "      <th>1</th>\n",
       "      <td>93906</td>\n",
       "      <td>14147</td>\n",
       "    </tr>\n",
       "    <tr>\n",
       "      <th>2</th>\n",
       "      <td>93960</td>\n",
       "      <td>9148</td>\n",
       "    </tr>\n",
       "    <tr>\n",
       "      <th>3</th>\n",
       "      <td>93955</td>\n",
       "      <td>6226</td>\n",
       "    </tr>\n",
       "    <tr>\n",
       "      <th>4</th>\n",
       "      <td>93901</td>\n",
       "      <td>5653</td>\n",
       "    </tr>\n",
       "    <tr>\n",
       "      <th>5</th>\n",
       "      <td>93927</td>\n",
       "      <td>4397</td>\n",
       "    </tr>\n",
       "    <tr>\n",
       "      <th>6</th>\n",
       "      <td>93933</td>\n",
       "      <td>3951</td>\n",
       "    </tr>\n",
       "    <tr>\n",
       "      <th>7</th>\n",
       "      <td>93930</td>\n",
       "      <td>3712</td>\n",
       "    </tr>\n",
       "    <tr>\n",
       "      <th>8</th>\n",
       "      <td>93907</td>\n",
       "      <td>3684</td>\n",
       "    </tr>\n",
       "    <tr>\n",
       "      <th>9</th>\n",
       "      <td>93940</td>\n",
       "      <td>3276</td>\n",
       "    </tr>\n",
       "    <tr>\n",
       "      <th>10</th>\n",
       "      <td>95076</td>\n",
       "      <td>3137</td>\n",
       "    </tr>\n",
       "    <tr>\n",
       "      <th>11</th>\n",
       "      <td>95012</td>\n",
       "      <td>2649</td>\n",
       "    </tr>\n",
       "    <tr>\n",
       "      <th>12</th>\n",
       "      <td>93926</td>\n",
       "      <td>2037</td>\n",
       "    </tr>\n",
       "    <tr>\n",
       "      <th>13</th>\n",
       "      <td>93908</td>\n",
       "      <td>1484</td>\n",
       "    </tr>\n",
       "    <tr>\n",
       "      <th>14</th>\n",
       "      <td>93950</td>\n",
       "      <td>1340</td>\n",
       "    </tr>\n",
       "    <tr>\n",
       "      <th>15</th>\n",
       "      <td>93923</td>\n",
       "      <td>777</td>\n",
       "    </tr>\n",
       "    <tr>\n",
       "      <th>16</th>\n",
       "      <td>93924</td>\n",
       "      <td>476</td>\n",
       "    </tr>\n",
       "    <tr>\n",
       "      <th>17</th>\n",
       "      <td>95004</td>\n",
       "      <td>399</td>\n",
       "    </tr>\n",
       "    <tr>\n",
       "      <th>18</th>\n",
       "      <td>93953</td>\n",
       "      <td>327</td>\n",
       "    </tr>\n",
       "    <tr>\n",
       "      <th>19</th>\n",
       "      <td>93925</td>\n",
       "      <td>322</td>\n",
       "    </tr>\n",
       "    <tr>\n",
       "      <th>20</th>\n",
       "      <td>95039</td>\n",
       "      <td>266</td>\n",
       "    </tr>\n",
       "    <tr>\n",
       "      <th>21</th>\n",
       "      <td>93912</td>\n",
       "      <td>254</td>\n",
       "    </tr>\n",
       "    <tr>\n",
       "      <th>22</th>\n",
       "      <td>OtherPBS</td>\n",
       "      <td>177</td>\n",
       "    </tr>\n",
       "    <tr>\n",
       "      <th>23</th>\n",
       "      <td>93450</td>\n",
       "      <td>174</td>\n",
       "    </tr>\n",
       "    <tr>\n",
       "      <th>24</th>\n",
       "      <td>93921</td>\n",
       "      <td>170</td>\n",
       "    </tr>\n",
       "    <tr>\n",
       "      <th>25</th>\n",
       "      <td>93915</td>\n",
       "      <td>142</td>\n",
       "    </tr>\n",
       "    <tr>\n",
       "      <th>26</th>\n",
       "      <td>93902</td>\n",
       "      <td>129</td>\n",
       "    </tr>\n",
       "    <tr>\n",
       "      <th>27</th>\n",
       "      <td>OtherSC</td>\n",
       "      <td>112</td>\n",
       "    </tr>\n",
       "    <tr>\n",
       "      <th>28</th>\n",
       "      <td>93954</td>\n",
       "      <td>104</td>\n",
       "    </tr>\n",
       "    <tr>\n",
       "      <th>29</th>\n",
       "      <td>93962</td>\n",
       "      <td>88</td>\n",
       "    </tr>\n",
       "    <tr>\n",
       "      <th>30</th>\n",
       "      <td>93426</td>\n",
       "      <td>85</td>\n",
       "    </tr>\n",
       "    <tr>\n",
       "      <th>31</th>\n",
       "      <td>93922</td>\n",
       "      <td>79</td>\n",
       "    </tr>\n",
       "    <tr>\n",
       "      <th>32</th>\n",
       "      <td>93942</td>\n",
       "      <td>67</td>\n",
       "    </tr>\n",
       "    <tr>\n",
       "      <th>33</th>\n",
       "      <td>93451</td>\n",
       "      <td>58</td>\n",
       "    </tr>\n",
       "  </tbody>\n",
       "</table>\n",
       "</div>"
      ],
      "text/plain": [
       "    zip_code  confirmed_cases\n",
       "0      93905            14268\n",
       "1      93906            14147\n",
       "2      93960             9148\n",
       "3      93955             6226\n",
       "4      93901             5653\n",
       "5      93927             4397\n",
       "6      93933             3951\n",
       "7      93930             3712\n",
       "8      93907             3684\n",
       "9      93940             3276\n",
       "10     95076             3137\n",
       "11     95012             2649\n",
       "12     93926             2037\n",
       "13     93908             1484\n",
       "14     93950             1340\n",
       "15     93923              777\n",
       "16     93924              476\n",
       "17     95004              399\n",
       "18     93953              327\n",
       "19     93925              322\n",
       "20     95039              266\n",
       "21     93912              254\n",
       "22  OtherPBS              177\n",
       "23     93450              174\n",
       "24     93921              170\n",
       "25     93915              142\n",
       "26     93902              129\n",
       "27   OtherSC              112\n",
       "28     93954              104\n",
       "29     93962               88\n",
       "30     93426               85\n",
       "31     93922               79\n",
       "32     93942               67\n",
       "33     93451               58"
      ]
     },
     "execution_count": 19,
     "metadata": {},
     "output_type": "execute_result"
    }
   ],
   "source": [
    "df"
   ]
  },
  {
   "cell_type": "markdown",
   "metadata": {},
   "source": [
    "Match up place names with zip codes"
   ]
  },
  {
   "cell_type": "code",
   "execution_count": 20,
   "metadata": {
    "execution": {
     "iopub.execute_input": "2022-06-10T00:30:18.276301Z",
     "iopub.status.busy": "2022-06-10T00:30:18.275594Z",
     "iopub.status.idle": "2022-06-10T00:30:18.278807Z",
     "shell.execute_reply": "2022-06-10T00:30:18.278413Z"
    }
   },
   "outputs": [],
   "source": [
    "df = df.loc[~df.zip_code.str.contains(\"Other\")]"
   ]
  },
  {
   "cell_type": "code",
   "execution_count": 21,
   "metadata": {
    "execution": {
     "iopub.execute_input": "2022-06-10T00:30:18.288030Z",
     "iopub.status.busy": "2022-06-10T00:30:18.280555Z",
     "iopub.status.idle": "2022-06-10T00:30:18.300368Z",
     "shell.execute_reply": "2022-06-10T00:30:18.299974Z"
    }
   },
   "outputs": [],
   "source": [
    "zip_code_names = {\n",
    "    \"93902\": \"Prunedale\",\n",
    "    \"93907\": \"Salinas\",\n",
    "    \"95004\": \"Aromas\",\n",
    "    \"95012\": \"Castroville\",\n",
    "    \"95039\": \"Moss Landing\",\n",
    "    \"95076\": \"Watsonville\",\n",
    "    \"93920\": \"Big Sur\",\n",
    "    \"93921\": \"Carmel\",\n",
    "    \"93923\": \"Carmel\",\n",
    "    \"93924\": \"Carmel Valley\",\n",
    "    \"93933\": \"Marina\",\n",
    "    \"93940\": \"Monterey\",\n",
    "    \"93942\": \"Monterey\",\n",
    "    \"93950\": \"Pacific Grove\",\n",
    "    \"93953\": \"Pebble Beach\",\n",
    "    \"93955\": \"Seaside\",\n",
    "    \"93901\": \"Salinas\",\n",
    "    \"93905\": \"Salinas\",\n",
    "    \"93906\": \"Salinas\",\n",
    "    \"93908\": \"Salinas\",\n",
    "    \"93912\": \"Boronda\",\n",
    "    \"93915\": \"Salinas\",\n",
    "    \"93962\": \"Spreckels\",\n",
    "    \"93450\": \"San Ardo\",\n",
    "    \"93925\": \"Chualar\",\n",
    "    \"93926\": \"Gonzales\",\n",
    "    \"93927\": \"Greenfield\",\n",
    "    \"93930\": \"King City\",\n",
    "    \"93954\": \"San Lucas\",\n",
    "    \"93960\": \"Soledad\",\n",
    "    \"93922\": \"Carmel\",\n",
    "    \"93426\": \"Bradley\",\n",
    "    \"93451\": \"San Miguel\",\n",
    "}"
   ]
  },
  {
   "cell_type": "code",
   "execution_count": 22,
   "metadata": {
    "execution": {
     "iopub.execute_input": "2022-06-10T00:30:18.305843Z",
     "iopub.status.busy": "2022-06-10T00:30:18.304798Z",
     "iopub.status.idle": "2022-06-10T00:30:18.308123Z",
     "shell.execute_reply": "2022-06-10T00:30:18.307671Z"
    }
   },
   "outputs": [
    {
     "name": "stderr",
     "output_type": "stream",
     "text": [
      "/tmp/ipykernel_2315/640265091.py:1: SettingWithCopyWarning: \n",
      "A value is trying to be set on a copy of a slice from a DataFrame.\n",
      "Try using .loc[row_indexer,col_indexer] = value instead\n",
      "\n",
      "See the caveats in the documentation: https://pandas.pydata.org/pandas-docs/stable/user_guide/indexing.html#returning-a-view-versus-a-copy\n",
      "  df[\"area_name\"] = df.zip_code.map(zip_code_names)\n"
     ]
    }
   ],
   "source": [
    "df[\"area_name\"] = df.zip_code.map(zip_code_names)"
   ]
  },
  {
   "cell_type": "code",
   "execution_count": 23,
   "metadata": {
    "execution": {
     "iopub.execute_input": "2022-06-10T00:30:18.312255Z",
     "iopub.status.busy": "2022-06-10T00:30:18.309716Z",
     "iopub.status.idle": "2022-06-10T00:30:18.315949Z",
     "shell.execute_reply": "2022-06-10T00:30:18.316292Z"
    }
   },
   "outputs": [
    {
     "name": "stderr",
     "output_type": "stream",
     "text": [
      "/tmp/ipykernel_2315/3669557735.py:1: SettingWithCopyWarning: \n",
      "A value is trying to be set on a copy of a slice from a DataFrame.\n",
      "Try using .loc[row_indexer,col_indexer] = value instead\n",
      "\n",
      "See the caveats in the documentation: https://pandas.pydata.org/pandas-docs/stable/user_guide/indexing.html#returning-a-view-versus-a-copy\n",
      "  df[\"area_name\"] = df[\"zip_code\"] + \": \" + df[\"area_name\"]\n"
     ]
    }
   ],
   "source": [
    "df[\"area_name\"] = df[\"zip_code\"] + \": \" + df[\"area_name\"]"
   ]
  },
  {
   "cell_type": "code",
   "execution_count": 24,
   "metadata": {
    "execution": {
     "iopub.execute_input": "2022-06-10T00:30:18.320531Z",
     "iopub.status.busy": "2022-06-10T00:30:18.319543Z",
     "iopub.status.idle": "2022-06-10T00:30:18.323396Z",
     "shell.execute_reply": "2022-06-10T00:30:18.322792Z"
    }
   },
   "outputs": [],
   "source": [
    "df = df[(df.zip_code != \"OtherPBS\")]"
   ]
  },
  {
   "cell_type": "markdown",
   "metadata": {},
   "source": [
    "Set column with county date"
   ]
  },
  {
   "cell_type": "code",
   "execution_count": 25,
   "metadata": {
    "execution": {
     "iopub.execute_input": "2022-06-10T00:30:18.328058Z",
     "iopub.status.busy": "2022-06-10T00:30:18.327664Z",
     "iopub.status.idle": "2022-06-10T00:30:18.331505Z",
     "shell.execute_reply": "2022-06-10T00:30:18.331841Z"
    }
   },
   "outputs": [],
   "source": [
    "df[\"county_date\"] = pd.to_datetime(timestamp)"
   ]
  },
  {
   "cell_type": "code",
   "execution_count": 26,
   "metadata": {
    "execution": {
     "iopub.execute_input": "2022-06-10T00:30:18.335086Z",
     "iopub.status.busy": "2022-06-10T00:30:18.334691Z",
     "iopub.status.idle": "2022-06-10T00:30:18.351345Z",
     "shell.execute_reply": "2022-06-10T00:30:18.350639Z"
    }
   },
   "outputs": [],
   "source": [
    "df[\"county_date\"] = df[\"county_date\"].dt.tz_convert(\"US/Pacific\")"
   ]
  },
  {
   "cell_type": "code",
   "execution_count": 27,
   "metadata": {
    "execution": {
     "iopub.execute_input": "2022-06-10T00:30:18.357452Z",
     "iopub.status.busy": "2022-06-10T00:30:18.356607Z",
     "iopub.status.idle": "2022-06-10T00:30:18.360250Z",
     "shell.execute_reply": "2022-06-10T00:30:18.359856Z"
    }
   },
   "outputs": [],
   "source": [
    "df[\"county_date\"] = df[\"county_date\"].dt.strftime(\"%Y-%m-%d\")"
   ]
  },
  {
   "cell_type": "code",
   "execution_count": 28,
   "metadata": {
    "execution": {
     "iopub.execute_input": "2022-06-10T00:30:18.365090Z",
     "iopub.status.busy": "2022-06-10T00:30:18.364217Z",
     "iopub.status.idle": "2022-06-10T00:30:18.367460Z",
     "shell.execute_reply": "2022-06-10T00:30:18.367113Z"
    }
   },
   "outputs": [],
   "source": [
    "df.insert(0, \"county\", \"Monterey\")"
   ]
  },
  {
   "cell_type": "markdown",
   "metadata": {},
   "source": [
    "Clean up for export"
   ]
  },
  {
   "cell_type": "code",
   "execution_count": 29,
   "metadata": {
    "execution": {
     "iopub.execute_input": "2022-06-10T00:30:18.373919Z",
     "iopub.status.busy": "2022-06-10T00:30:18.373211Z",
     "iopub.status.idle": "2022-06-10T00:30:18.377748Z",
     "shell.execute_reply": "2022-06-10T00:30:18.377401Z"
    }
   },
   "outputs": [],
   "source": [
    "export_df = df[\n",
    "    [\"county\", \"area_name\", \"confirmed_cases\", \"county_date\", \"zip_code\"]\n",
    "].rename(columns={\"area_name\": \"area\", \"zip_code\": \"zip\"})"
   ]
  },
  {
   "cell_type": "markdown",
   "metadata": {},
   "source": [
    "## Vet"
   ]
  },
  {
   "cell_type": "code",
   "execution_count": 30,
   "metadata": {
    "execution": {
     "iopub.execute_input": "2022-06-10T00:30:18.383084Z",
     "iopub.status.busy": "2022-06-10T00:30:18.382233Z",
     "iopub.status.idle": "2022-06-10T00:30:18.385449Z",
     "shell.execute_reply": "2022-06-10T00:30:18.385100Z"
    }
   },
   "outputs": [],
   "source": [
    "try:\n",
    "    assert not len(export_df) < 31\n",
    "except AssertionError:\n",
    "    raise AssertionError(\"Monterey County's zip code scraper is missing rows\")"
   ]
  },
  {
   "cell_type": "code",
   "execution_count": 31,
   "metadata": {
    "execution": {
     "iopub.execute_input": "2022-06-10T00:30:18.388817Z",
     "iopub.status.busy": "2022-06-10T00:30:18.388264Z",
     "iopub.status.idle": "2022-06-10T00:30:18.488655Z",
     "shell.execute_reply": "2022-06-10T00:30:18.487308Z"
    }
   },
   "outputs": [
    {
     "ename": "AssertionError",
     "evalue": "Monterey County's zip code scraper has 3 more rows than before",
     "output_type": "error",
     "traceback": [
      "\u001b[0;31m---------------------------------------------------------------------------\u001b[0m",
      "\u001b[0;31mAssertionError\u001b[0m                            Traceback (most recent call last)",
      "\u001b[0;32m/tmp/ipykernel_2315/1845628085.py\u001b[0m in \u001b[0;36m<module>\u001b[0;34m\u001b[0m\n\u001b[1;32m      1\u001b[0m \u001b[0;32mtry\u001b[0m\u001b[0;34m:\u001b[0m\u001b[0;34m\u001b[0m\u001b[0;34m\u001b[0m\u001b[0m\n\u001b[0;32m----> 2\u001b[0;31m     \u001b[0;32massert\u001b[0m \u001b[0;32mnot\u001b[0m \u001b[0mlen\u001b[0m\u001b[0;34m(\u001b[0m\u001b[0mexport_df\u001b[0m\u001b[0;34m)\u001b[0m \u001b[0;34m>\u001b[0m \u001b[0;36m31\u001b[0m\u001b[0;34m\u001b[0m\u001b[0;34m\u001b[0m\u001b[0m\n\u001b[0m\u001b[1;32m      3\u001b[0m \u001b[0;32mexcept\u001b[0m \u001b[0mAssertionError\u001b[0m\u001b[0;34m:\u001b[0m\u001b[0;34m\u001b[0m\u001b[0;34m\u001b[0m\u001b[0m\n",
      "\u001b[0;31mAssertionError\u001b[0m: ",
      "\nDuring handling of the above exception, another exception occurred:\n",
      "\u001b[0;31mAssertionError\u001b[0m                            Traceback (most recent call last)",
      "\u001b[0;32m/tmp/ipykernel_2315/1845628085.py\u001b[0m in \u001b[0;36m<module>\u001b[0;34m\u001b[0m\n\u001b[1;32m      2\u001b[0m     \u001b[0;32massert\u001b[0m \u001b[0;32mnot\u001b[0m \u001b[0mlen\u001b[0m\u001b[0;34m(\u001b[0m\u001b[0mexport_df\u001b[0m\u001b[0;34m)\u001b[0m \u001b[0;34m>\u001b[0m \u001b[0;36m31\u001b[0m\u001b[0;34m\u001b[0m\u001b[0;34m\u001b[0m\u001b[0m\n\u001b[1;32m      3\u001b[0m \u001b[0;32mexcept\u001b[0m \u001b[0mAssertionError\u001b[0m\u001b[0;34m:\u001b[0m\u001b[0;34m\u001b[0m\u001b[0;34m\u001b[0m\u001b[0m\n\u001b[0;32m----> 4\u001b[0;31m     raise AssertionError(\n\u001b[0m\u001b[1;32m      5\u001b[0m         \u001b[0;34mf\"Monterey County's zip code scraper has {len(export_df)-29} more rows than before\"\u001b[0m\u001b[0;34m\u001b[0m\u001b[0;34m\u001b[0m\u001b[0m\n\u001b[1;32m      6\u001b[0m     )\n",
      "\u001b[0;31mAssertionError\u001b[0m: Monterey County's zip code scraper has 3 more rows than before"
     ]
    }
   ],
   "source": [
    "try:\n",
    "    assert not len(export_df) > 31\n",
    "except AssertionError:\n",
    "    raise AssertionError(\n",
    "        f\"Monterey County's zip code scraper has {len(export_df)-29} more rows than before\"\n",
    "    )"
   ]
  },
  {
   "cell_type": "markdown",
   "metadata": {},
   "source": [
    "## Export"
   ]
  },
  {
   "cell_type": "markdown",
   "metadata": {},
   "source": [
    "Set date"
   ]
  },
  {
   "cell_type": "code",
   "execution_count": 71,
   "metadata": {},
   "outputs": [],
   "source": [
    "tz = pytz.timezone(\"America/Los_Angeles\")"
   ]
  },
  {
   "cell_type": "code",
   "execution_count": 72,
   "metadata": {},
   "outputs": [],
   "source": [
    "today = datetime.now(tz).date()"
   ]
  },
  {
   "cell_type": "code",
   "execution_count": 73,
   "metadata": {},
   "outputs": [],
   "source": [
    "slug = \"monterey\""
   ]
  },
  {
   "cell_type": "code",
   "execution_count": 74,
   "metadata": {},
   "outputs": [],
   "source": [
    "export_df.to_csv(data_dir / slug / f\"{today}.csv\", index=False)"
   ]
  },
  {
   "cell_type": "markdown",
   "metadata": {},
   "source": [
    "## Combine"
   ]
  },
  {
   "cell_type": "code",
   "execution_count": 75,
   "metadata": {},
   "outputs": [],
   "source": [
    "csv_list = [\n",
    "    i\n",
    "    for i in glob.glob(str(data_dir / slug / \"*.csv\"))\n",
    "    if not str(i).endswith(\"timeseries.csv\")\n",
    "]"
   ]
  },
  {
   "cell_type": "code",
   "execution_count": 76,
   "metadata": {},
   "outputs": [],
   "source": [
    "df_list = []\n",
    "for csv in csv_list:\n",
    "    if \"manual\" in csv:\n",
    "        df = pd.read_csv(csv, parse_dates=[\"date\"])\n",
    "    else:\n",
    "        file_date = csv.split(\"/\")[-1].replace(\".csv\", \"\")\n",
    "        df = pd.read_csv(csv, parse_dates=[\"county_date\"])\n",
    "        df[\"date\"] = file_date\n",
    "    df_list.append(df)"
   ]
  },
  {
   "cell_type": "code",
   "execution_count": 77,
   "metadata": {},
   "outputs": [],
   "source": [
    "df = pd.concat(df_list).sort_values([\"date\", \"area\"])"
   ]
  },
  {
   "cell_type": "code",
   "execution_count": 78,
   "metadata": {},
   "outputs": [],
   "source": [
    "df.to_csv(data_dir / slug / \"timeseries.csv\", index=False)"
   ]
  }
 ],
 "metadata": {
  "kernelspec": {
   "display_name": "Python 3 (ipykernel)",
   "language": "python",
   "name": "python3"
  },
  "language_info": {
   "codemirror_mode": {
    "name": "ipython",
    "version": 3
   },
   "file_extension": ".py",
   "mimetype": "text/x-python",
   "name": "python",
   "nbconvert_exporter": "python",
   "pygments_lexer": "ipython3",
   "version": "3.8.12"
  }
 },
 "nbformat": 4,
 "nbformat_minor": 4
}
