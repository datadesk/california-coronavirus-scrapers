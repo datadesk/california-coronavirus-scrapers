{
 "cells": [
  {
   "cell_type": "markdown",
   "metadata": {},
   "source": [
    "## Configuration\n",
    "_Initial steps to get the notebook ready to play nice with our repository. Do not delete this section._"
   ]
  },
  {
   "cell_type": "markdown",
   "metadata": {},
   "source": [
    "Code formatting with [black](https://pypi.org/project/nb-black/)."
   ]
  },
  {
   "cell_type": "code",
   "execution_count": 1,
   "metadata": {
    "execution": {
     "iopub.execute_input": "2022-05-06T04:19:59.852729Z",
     "iopub.status.busy": "2022-05-06T04:19:59.852300Z",
     "iopub.status.idle": "2022-05-06T04:19:59.968189Z",
     "shell.execute_reply": "2022-05-06T04:19:59.967619Z"
    },
    "tags": []
   },
   "outputs": [],
   "source": [
    "%load_ext lab_black"
   ]
  },
  {
   "cell_type": "code",
   "execution_count": 2,
   "metadata": {
    "execution": {
     "iopub.execute_input": "2022-05-06T04:20:00.008472Z",
     "iopub.status.busy": "2022-05-06T04:20:00.007632Z",
     "iopub.status.idle": "2022-05-06T04:20:00.008891Z",
     "shell.execute_reply": "2022-05-06T04:20:00.008042Z"
    },
    "tags": []
   },
   "outputs": [],
   "source": [
    "import os\n",
    "import pathlib"
   ]
  },
  {
   "cell_type": "code",
   "execution_count": 3,
   "metadata": {
    "execution": {
     "iopub.execute_input": "2022-05-06T04:20:00.013342Z",
     "iopub.status.busy": "2022-05-06T04:20:00.012873Z",
     "iopub.status.idle": "2022-05-06T04:20:00.017450Z",
     "shell.execute_reply": "2022-05-06T04:20:00.017037Z"
    },
    "tags": []
   },
   "outputs": [],
   "source": [
    "this_dir = pathlib.Path(os.path.abspath(\"\"))"
   ]
  },
  {
   "cell_type": "code",
   "execution_count": 4,
   "metadata": {
    "execution": {
     "iopub.execute_input": "2022-05-06T04:20:00.020885Z",
     "iopub.status.busy": "2022-05-06T04:20:00.020440Z",
     "iopub.status.idle": "2022-05-06T04:20:00.023586Z",
     "shell.execute_reply": "2022-05-06T04:20:00.023197Z"
    }
   },
   "outputs": [],
   "source": [
    "data_dir = this_dir / \"data\""
   ]
  },
  {
   "cell_type": "code",
   "execution_count": 5,
   "metadata": {
    "execution": {
     "iopub.execute_input": "2022-05-06T04:20:00.026782Z",
     "iopub.status.busy": "2022-05-06T04:20:00.026342Z",
     "iopub.status.idle": "2022-05-06T04:20:00.315000Z",
     "shell.execute_reply": "2022-05-06T04:20:00.314523Z"
    },
    "tags": []
   },
   "outputs": [],
   "source": [
    "import pytz\n",
    "import glob\n",
    "import json\n",
    "import requests\n",
    "import pandas as pd\n",
    "from datetime import datetime, date"
   ]
  },
  {
   "cell_type": "markdown",
   "metadata": {},
   "source": [
    "## Download"
   ]
  },
  {
   "cell_type": "code",
   "execution_count": 6,
   "metadata": {
    "execution": {
     "iopub.execute_input": "2022-05-06T04:20:00.320254Z",
     "iopub.status.busy": "2022-05-06T04:20:00.319723Z",
     "iopub.status.idle": "2022-05-06T04:20:00.326289Z",
     "shell.execute_reply": "2022-05-06T04:20:00.325908Z"
    },
    "tags": []
   },
   "outputs": [],
   "source": [
    "POWER_BI_QUERY_URL = (\n",
    "    \"https://wabi-us-gov-iowa-api.analysis.usgovcloudapi.net/public/reports/querydata\"\n",
    ")\n",
    "REQUEST_PARAMS = ((\"synchronous\", \"true\"),)\n",
    "REQUEST_BODY = '{\"version\":\"1.0.0\",\"queries\":[{\"Query\":{\"Commands\":[{\"SemanticQueryDataShapeCommand\":{\"Query\":{\"Version\":2,\"From\":[{\"Name\":\"d\",\"Entity\":\"demo_region_count\",\"Type\":0},{\"Name\":\"r\",\"Entity\":\"region_lastmonth\",\"Type\":0}],\"Select\":[{\"Column\":{\"Expression\":{\"SourceRef\":{\"Source\":\"d\"}},\"Property\":\"mregion\"},\"Name\":\"demo_region_count.mregion\"},{\"Aggregation\":{\"Expression\":{\"Column\":{\"Expression\":{\"SourceRef\":{\"Source\":\"d\"}},\"Property\":\"case_count\"}},\"Function\":0},\"Name\":\"Sum(demo_region_count.case_count)\"},{\"Column\":{\"Expression\":{\"SourceRef\":{\"Source\":\"d\"}},\"Property\":\"zip2\"},\"Name\":\"demo_region_count.zip2\"},{\"Aggregation\":{\"Expression\":{\"Column\":{\"Expression\":{\"SourceRef\":{\"Source\":\"r\"}},\"Property\":\"case_count\"}},\"Function\":0},\"Name\":\"Sum(region_lastmonth.case_count)\"}],\"Where\":[{\"Condition\":{\"Not\":{\"Expression\":{\"In\":{\"Expressions\":[{\"Column\":{\"Expression\":{\"SourceRef\":{\"Source\":\"r\"}},\"Property\":\"zip2\"}}],\"Values\":[[{\"Literal\":{\"Value\":\"null\"}}]]}}}}},{\"Condition\":{\"Not\":{\"Expression\":{\"In\":{\"Expressions\":[{\"Column\":{\"Expression\":{\"SourceRef\":{\"Source\":\"d\"}},\"Property\":\"mregion\"}}],\"Values\":[[{\"Literal\":{\"Value\":\"\\'Unknown\\'\"}}]]}}}}}],\"OrderBy\":[{\"Direction\":2,\"Expression\":{\"Aggregation\":{\"Expression\":{\"Column\":{\"Expression\":{\"SourceRef\":{\"Source\":\"d\"}},\"Property\":\"case_count\"}},\"Function\":0}}}]},\"Binding\":{\"Primary\":{\"Groupings\":[{\"Projections\":[0,1,2,3]}]},\"DataReduction\":{\"DataVolume\":3,\"Primary\":{\"Window\":{\"Count\":500}}},\"Version\":1},\"ExecutionMetricsKind\":1}}]},\"QueryId\":\"\",\"ApplicationContext\":{\"DatasetId\":\"2e66a584-6b5f-4c9f-bffd-12d35d2b8442\",\"Sources\":[{\"ReportId\":\"40085a43-f04a-4a8b-ae72-c38ca32531a5\",\"VisualId\":\"136278efd4c6f694b9b7\"}]}}],\"cancelQueries\":[],\"modelId\":358821}'"
   ]
  },
  {
   "cell_type": "code",
   "execution_count": 7,
   "metadata": {
    "execution": {
     "iopub.execute_input": "2022-05-06T04:20:00.331503Z",
     "iopub.status.busy": "2022-05-06T04:20:00.331033Z",
     "iopub.status.idle": "2022-05-06T04:20:00.339876Z",
     "shell.execute_reply": "2022-05-06T04:20:00.339460Z"
    }
   },
   "outputs": [],
   "source": [
    "headers = {\n",
    "    \"accept\": \"application/json, text/plain, */*\",\n",
    "    \"accept-language\": \"en-US,en;q=0.9,da;q=0.8\",\n",
    "    \"activityid\": \"07a2f3cb-ea39-4519-8ee0-b5605aa78145\",\n",
    "    \"content-type\": \"application/json;charset=UTF-8\",\n",
    "    \"requestid\": \"a5565ffd-b522-00a7-afe8-5c4f3a3ce843\",\n",
    "    \"sec-ch-ua\": '\" Not A;Brand\";v=\"99\", \"Chromium\";v=\"100\", \"Google Chrome\";v=\"100\"',\n",
    "    \"sec-ch-ua-mobile\": \"?0\",\n",
    "    \"sec-ch-ua-platform\": '\"macOS\"',\n",
    "    \"sec-fetch-dest\": \"empty\",\n",
    "    \"sec-fetch-mode\": \"cors\",\n",
    "    \"sec-fetch-site\": \"cross-site\",\n",
    "    \"x-powerbi-resourcekey\": \"69a5588e-f8a1-4aef-aac5-ca27ee543007\",\n",
    "    \"Referer\": \"https://app.powerbigov.us/\",\n",
    "    \"Referrer-Policy\": \"strict-origin-when-cross-origin\",\n",
    "}\n",
    "json_data = json.loads(REQUEST_BODY)"
   ]
  },
  {
   "cell_type": "code",
   "execution_count": 8,
   "metadata": {
    "execution": {
     "iopub.execute_input": "2022-05-06T04:20:00.343669Z",
     "iopub.status.busy": "2022-05-06T04:20:00.343228Z",
     "iopub.status.idle": "2022-05-06T04:20:01.252341Z",
     "shell.execute_reply": "2022-05-06T04:20:01.251850Z"
    },
    "tags": []
   },
   "outputs": [
    {
     "name": "stderr",
     "output_type": "stream",
     "text": [
      "/home/runner/.local/share/virtualenvs/california-coronavirus-scrapers-dxuBXRsm/lib/python3.8/site-packages/urllib3/connectionpool.py:1013: InsecureRequestWarning: Unverified HTTPS request is being made to host 'wabi-us-gov-iowa-api.analysis.usgovcloudapi.net'. Adding certificate verification is strongly advised. See: https://urllib3.readthedocs.io/en/1.26.x/advanced-usage.html#ssl-warnings\n",
      "  warnings.warn(\n"
     ]
    }
   ],
   "source": [
    "response = requests.post(\n",
    "    POWER_BI_QUERY_URL,\n",
    "    params=REQUEST_PARAMS,\n",
    "    headers=headers,\n",
    "    json=json_data,\n",
    "    verify=False,\n",
    ")"
   ]
  },
  {
   "cell_type": "code",
   "execution_count": 9,
   "metadata": {
    "execution": {
     "iopub.execute_input": "2022-05-06T04:20:01.256633Z",
     "iopub.status.busy": "2022-05-06T04:20:01.256174Z",
     "iopub.status.idle": "2022-05-06T04:20:01.260585Z",
     "shell.execute_reply": "2022-05-06T04:20:01.259712Z"
    }
   },
   "outputs": [],
   "source": [
    "data = response.json()"
   ]
  },
  {
   "cell_type": "markdown",
   "metadata": {},
   "source": [
    "## Parse"
   ]
  },
  {
   "cell_type": "code",
   "execution_count": 10,
   "metadata": {
    "execution": {
     "iopub.execute_input": "2022-05-06T04:20:01.264700Z",
     "iopub.status.busy": "2022-05-06T04:20:01.263821Z",
     "iopub.status.idle": "2022-05-06T04:20:01.268309Z",
     "shell.execute_reply": "2022-05-06T04:20:01.267893Z"
    }
   },
   "outputs": [],
   "source": [
    "timestamp = response.headers[\"Date\"]"
   ]
  },
  {
   "cell_type": "code",
   "execution_count": 11,
   "metadata": {
    "execution": {
     "iopub.execute_input": "2022-05-06T04:20:01.277153Z",
     "iopub.status.busy": "2022-05-06T04:20:01.276709Z",
     "iopub.status.idle": "2022-05-06T04:20:01.281916Z",
     "shell.execute_reply": "2022-05-06T04:20:01.282292Z"
    }
   },
   "outputs": [
    {
     "data": {
      "text/plain": [
       "'Fri, 06 May 2022 04:20:01 GMT'"
      ]
     },
     "execution_count": 11,
     "metadata": {},
     "output_type": "execute_result"
    }
   ],
   "source": [
    "timestamp"
   ]
  },
  {
   "cell_type": "code",
   "execution_count": 12,
   "metadata": {
    "execution": {
     "iopub.execute_input": "2022-05-06T04:20:01.288078Z",
     "iopub.status.busy": "2022-05-06T04:20:01.286028Z",
     "iopub.status.idle": "2022-05-06T04:20:01.291370Z",
     "shell.execute_reply": "2022-05-06T04:20:01.290977Z"
    }
   },
   "outputs": [],
   "source": [
    "ds = data[\"results\"][0][\"result\"][\"data\"][\"dsr\"][\"DS\"][0]"
   ]
  },
  {
   "cell_type": "code",
   "execution_count": 13,
   "metadata": {
    "execution": {
     "iopub.execute_input": "2022-05-06T04:20:01.296304Z",
     "iopub.status.busy": "2022-05-06T04:20:01.295262Z",
     "iopub.status.idle": "2022-05-06T04:20:01.298933Z",
     "shell.execute_reply": "2022-05-06T04:20:01.298349Z"
    }
   },
   "outputs": [],
   "source": [
    "zip_codes = ds[\"ValueDicts\"][\"D1\"]"
   ]
  },
  {
   "cell_type": "code",
   "execution_count": 14,
   "metadata": {
    "execution": {
     "iopub.execute_input": "2022-05-06T04:20:01.302601Z",
     "iopub.status.busy": "2022-05-06T04:20:01.301930Z",
     "iopub.status.idle": "2022-05-06T04:20:01.306569Z",
     "shell.execute_reply": "2022-05-06T04:20:01.306186Z"
    }
   },
   "outputs": [],
   "source": [
    "rows = ds[\"PH\"][0][\"DM0\"]"
   ]
  },
  {
   "cell_type": "code",
   "execution_count": 15,
   "metadata": {
    "execution": {
     "iopub.execute_input": "2022-05-06T04:20:01.314398Z",
     "iopub.status.busy": "2022-05-06T04:20:01.313648Z",
     "iopub.status.idle": "2022-05-06T04:20:01.321917Z",
     "shell.execute_reply": "2022-05-06T04:20:01.322308Z"
    }
   },
   "outputs": [],
   "source": [
    "confirmed_cases = []\n",
    "\n",
    "cases = 0\n",
    "\n",
    "for row in rows:\n",
    "    # in some cases, data are encoded in separate keys\n",
    "    keys = row.keys()\n",
    "    # pull out the list containing values for most rows\n",
    "    cells = row[\"C\"]\n",
    "    # second value in the list is expected to be an iterator/index\n",
    "    index = cells[1]\n",
    "    # if this key is present, the value for this place is identical to the previous row\n",
    "    if \"R\" in keys:\n",
    "        cases = cells[1]\n",
    "        index = cells[0]\n",
    "    # every other row has its value in the third position of the list\n",
    "    else:\n",
    "        cases = cells[2]\n",
    "    # append values to master list\n",
    "    confirmed_cases.append(\n",
    "        (\n",
    "            index,\n",
    "            cases,\n",
    "        )\n",
    "    )"
   ]
  },
  {
   "cell_type": "code",
   "execution_count": 16,
   "metadata": {
    "execution": {
     "iopub.execute_input": "2022-05-06T04:20:01.327793Z",
     "iopub.status.busy": "2022-05-06T04:20:01.327179Z",
     "iopub.status.idle": "2022-05-06T04:20:01.330433Z",
     "shell.execute_reply": "2022-05-06T04:20:01.329859Z"
    }
   },
   "outputs": [],
   "source": [
    "matched = [(zip_codes[index], cases) for index, cases in confirmed_cases]"
   ]
  },
  {
   "cell_type": "code",
   "execution_count": 17,
   "metadata": {
    "execution": {
     "iopub.execute_input": "2022-05-06T04:20:01.336485Z",
     "iopub.status.busy": "2022-05-06T04:20:01.334372Z",
     "iopub.status.idle": "2022-05-06T04:20:01.339107Z",
     "shell.execute_reply": "2022-05-06T04:20:01.339481Z"
    }
   },
   "outputs": [],
   "source": [
    "df = pd.DataFrame(matched, columns=[\"zip_code\", \"confirmed_cases\"])"
   ]
  },
  {
   "cell_type": "markdown",
   "metadata": {},
   "source": [
    "Match up place names with zip codes"
   ]
  },
  {
   "cell_type": "code",
   "execution_count": 18,
   "metadata": {
    "execution": {
     "iopub.execute_input": "2022-05-06T04:20:01.344406Z",
     "iopub.status.busy": "2022-05-06T04:20:01.341455Z",
     "iopub.status.idle": "2022-05-06T04:20:01.348333Z",
     "shell.execute_reply": "2022-05-06T04:20:01.347948Z"
    }
   },
   "outputs": [],
   "source": [
    "df = df.loc[(df.zip_code != \"Other\")]"
   ]
  },
  {
   "cell_type": "code",
   "execution_count": 19,
   "metadata": {
    "execution": {
     "iopub.execute_input": "2022-05-06T04:20:01.360735Z",
     "iopub.status.busy": "2022-05-06T04:20:01.359819Z",
     "iopub.status.idle": "2022-05-06T04:20:01.368479Z",
     "shell.execute_reply": "2022-05-06T04:20:01.368860Z"
    }
   },
   "outputs": [],
   "source": [
    "zip_code_names = {\n",
    "    \"93902\": \"Prunedale\",\n",
    "    \"93907\": \"Salinas\",\n",
    "    \"95004\": \"Aromas\",\n",
    "    \"95012\": \"Castroville\",\n",
    "    \"95039\": \"Moss Landing\",\n",
    "    \"95076\": \"Watsonville\",\n",
    "    \"93920\": \"Big Sur\",\n",
    "    \"93921\": \"Carmel\",\n",
    "    \"93923\": \"Carmel\",\n",
    "    \"93924\": \"Carmel Valley\",\n",
    "    \"93933\": \"Marina\",\n",
    "    \"93940\": \"Monterey\",\n",
    "    \"93942\": \"Monterey\",\n",
    "    \"93950\": \"Pacific Grove\",\n",
    "    \"93953\": \"Pebble Beach\",\n",
    "    \"93955\": \"Seaside\",\n",
    "    \"93901\": \"Salinas\",\n",
    "    \"93905\": \"Salinas\",\n",
    "    \"93906\": \"Salinas\",\n",
    "    \"93908\": \"Salinas\",\n",
    "    \"93912\": \"Boronda\",\n",
    "    \"93915\": \"Salinas\",\n",
    "    \"93962\": \"Spreckels\",\n",
    "    \"93450\": \"San Ardo\",\n",
    "    \"93925\": \"Chualar\",\n",
    "    \"93926\": \"Gonzales\",\n",
    "    \"93927\": \"Greenfield\",\n",
    "    \"93930\": \"King City\",\n",
    "    \"93954\": \"San Lucas\",\n",
    "    \"93960\": \"Soledad\",\n",
    "    \"93922\": \"Carmel\",\n",
    "    \"93426\": \"Bradley\",\n",
    "    \"93451\": \"San Miguel\",\n",
    "}"
   ]
  },
  {
   "cell_type": "code",
   "execution_count": 20,
   "metadata": {
    "execution": {
     "iopub.execute_input": "2022-05-06T04:20:01.375155Z",
     "iopub.status.busy": "2022-05-06T04:20:01.374709Z",
     "iopub.status.idle": "2022-05-06T04:20:01.378375Z",
     "shell.execute_reply": "2022-05-06T04:20:01.377568Z"
    }
   },
   "outputs": [],
   "source": [
    "df[\"area_name\"] = df.zip_code.map(zip_code_names)"
   ]
  },
  {
   "cell_type": "code",
   "execution_count": 21,
   "metadata": {
    "execution": {
     "iopub.execute_input": "2022-05-06T04:20:01.384869Z",
     "iopub.status.busy": "2022-05-06T04:20:01.383370Z",
     "iopub.status.idle": "2022-05-06T04:20:01.388211Z",
     "shell.execute_reply": "2022-05-06T04:20:01.388591Z"
    }
   },
   "outputs": [],
   "source": [
    "df[\"area_name\"] = df[\"zip_code\"] + \": \" + df[\"area_name\"]"
   ]
  },
  {
   "cell_type": "code",
   "execution_count": 22,
   "metadata": {
    "execution": {
     "iopub.execute_input": "2022-05-06T04:20:01.396461Z",
     "iopub.status.busy": "2022-05-06T04:20:01.395502Z",
     "iopub.status.idle": "2022-05-06T04:20:01.399005Z",
     "shell.execute_reply": "2022-05-06T04:20:01.398602Z"
    }
   },
   "outputs": [],
   "source": [
    "df = df[(df.zip_code != \"OtherPBS\")]"
   ]
  },
  {
   "cell_type": "markdown",
   "metadata": {},
   "source": [
    "Set column with county date"
   ]
  },
  {
   "cell_type": "code",
   "execution_count": 23,
   "metadata": {
    "execution": {
     "iopub.execute_input": "2022-05-06T04:20:01.406719Z",
     "iopub.status.busy": "2022-05-06T04:20:01.406072Z",
     "iopub.status.idle": "2022-05-06T04:20:01.409337Z",
     "shell.execute_reply": "2022-05-06T04:20:01.408728Z"
    }
   },
   "outputs": [],
   "source": [
    "df[\"county_date\"] = pd.to_datetime(timestamp)"
   ]
  },
  {
   "cell_type": "code",
   "execution_count": 24,
   "metadata": {
    "execution": {
     "iopub.execute_input": "2022-05-06T04:20:01.413380Z",
     "iopub.status.busy": "2022-05-06T04:20:01.412906Z",
     "iopub.status.idle": "2022-05-06T04:20:01.432686Z",
     "shell.execute_reply": "2022-05-06T04:20:01.432209Z"
    }
   },
   "outputs": [],
   "source": [
    "df[\"county_date\"] = df[\"county_date\"].dt.tz_convert(\"US/Pacific\")"
   ]
  },
  {
   "cell_type": "code",
   "execution_count": 25,
   "metadata": {
    "execution": {
     "iopub.execute_input": "2022-05-06T04:20:01.439223Z",
     "iopub.status.busy": "2022-05-06T04:20:01.438710Z",
     "iopub.status.idle": "2022-05-06T04:20:01.442365Z",
     "shell.execute_reply": "2022-05-06T04:20:01.441908Z"
    }
   },
   "outputs": [],
   "source": [
    "df[\"county_date\"] = df[\"county_date\"].dt.strftime(\"%Y-%m-%d\")"
   ]
  },
  {
   "cell_type": "code",
   "execution_count": 26,
   "metadata": {
    "execution": {
     "iopub.execute_input": "2022-05-06T04:20:01.446695Z",
     "iopub.status.busy": "2022-05-06T04:20:01.446247Z",
     "iopub.status.idle": "2022-05-06T04:20:01.449967Z",
     "shell.execute_reply": "2022-05-06T04:20:01.449555Z"
    }
   },
   "outputs": [],
   "source": [
    "df.insert(0, \"county\", \"Monterey\")"
   ]
  },
  {
   "cell_type": "markdown",
   "metadata": {},
   "source": [
    "Clean up for export"
   ]
  },
  {
   "cell_type": "code",
   "execution_count": 27,
   "metadata": {
    "execution": {
     "iopub.execute_input": "2022-05-06T04:20:01.457894Z",
     "iopub.status.busy": "2022-05-06T04:20:01.455180Z",
     "iopub.status.idle": "2022-05-06T04:20:01.462234Z",
     "shell.execute_reply": "2022-05-06T04:20:01.461834Z"
    }
   },
   "outputs": [],
   "source": [
    "export_df = df[\n",
    "    [\"county\", \"area_name\", \"confirmed_cases\", \"county_date\", \"zip_code\"]\n",
    "].rename(columns={\"area_name\": \"area\", \"zip_code\": \"zip\"})"
   ]
  },
  {
   "cell_type": "markdown",
   "metadata": {},
   "source": [
    "## Vet"
   ]
  },
  {
   "cell_type": "code",
   "execution_count": 28,
   "metadata": {
    "execution": {
     "iopub.execute_input": "2022-05-06T04:20:01.468238Z",
     "iopub.status.busy": "2022-05-06T04:20:01.464304Z",
     "iopub.status.idle": "2022-05-06T04:20:01.470780Z",
     "shell.execute_reply": "2022-05-06T04:20:01.471162Z"
    }
   },
   "outputs": [],
   "source": [
    "try:\n",
    "    assert not len(export_df) < 25\n",
    "except AssertionError:\n",
    "    raise AssertionError(\"Monterey County's zip code scraper is missing rows\")"
   ]
  },
  {
   "cell_type": "code",
   "execution_count": 29,
   "metadata": {
    "execution": {
     "iopub.execute_input": "2022-05-06T04:20:01.474826Z",
     "iopub.status.busy": "2022-05-06T04:20:01.474387Z",
     "iopub.status.idle": "2022-05-06T04:20:01.588926Z",
     "shell.execute_reply": "2022-05-06T04:20:01.587366Z"
    }
   },
   "outputs": [
    {
     "ename": "AssertionError",
     "evalue": "Monterey County's zip code scraper has more rows than before",
     "output_type": "error",
     "traceback": [
      "\u001b[0;31m---------------------------------------------------------------------------\u001b[0m",
      "\u001b[0;31mAssertionError\u001b[0m                            Traceback (most recent call last)",
      "\u001b[0;32m/tmp/ipykernel_2328/1368716828.py\u001b[0m in \u001b[0;36m<module>\u001b[0;34m\u001b[0m\n\u001b[1;32m      1\u001b[0m \u001b[0;32mtry\u001b[0m\u001b[0;34m:\u001b[0m\u001b[0;34m\u001b[0m\u001b[0;34m\u001b[0m\u001b[0m\n\u001b[0;32m----> 2\u001b[0;31m     \u001b[0;32massert\u001b[0m \u001b[0;32mnot\u001b[0m \u001b[0mlen\u001b[0m\u001b[0;34m(\u001b[0m\u001b[0mexport_df\u001b[0m\u001b[0;34m)\u001b[0m \u001b[0;34m>\u001b[0m \u001b[0;36m25\u001b[0m\u001b[0;34m\u001b[0m\u001b[0;34m\u001b[0m\u001b[0m\n\u001b[0m\u001b[1;32m      3\u001b[0m \u001b[0;32mexcept\u001b[0m \u001b[0mAssertionError\u001b[0m\u001b[0;34m:\u001b[0m\u001b[0;34m\u001b[0m\u001b[0;34m\u001b[0m\u001b[0m\n",
      "\u001b[0;31mAssertionError\u001b[0m: ",
      "\nDuring handling of the above exception, another exception occurred:\n",
      "\u001b[0;31mAssertionError\u001b[0m                            Traceback (most recent call last)",
      "\u001b[0;32m/tmp/ipykernel_2328/1368716828.py\u001b[0m in \u001b[0;36m<module>\u001b[0;34m\u001b[0m\n\u001b[1;32m      2\u001b[0m     \u001b[0;32massert\u001b[0m \u001b[0;32mnot\u001b[0m \u001b[0mlen\u001b[0m\u001b[0;34m(\u001b[0m\u001b[0mexport_df\u001b[0m\u001b[0;34m)\u001b[0m \u001b[0;34m>\u001b[0m \u001b[0;36m25\u001b[0m\u001b[0;34m\u001b[0m\u001b[0;34m\u001b[0m\u001b[0m\n\u001b[1;32m      3\u001b[0m \u001b[0;32mexcept\u001b[0m \u001b[0mAssertionError\u001b[0m\u001b[0;34m:\u001b[0m\u001b[0;34m\u001b[0m\u001b[0;34m\u001b[0m\u001b[0m\n\u001b[0;32m----> 4\u001b[0;31m     \u001b[0;32mraise\u001b[0m \u001b[0mAssertionError\u001b[0m\u001b[0;34m(\u001b[0m\u001b[0;34m\"Monterey County's zip code scraper has more rows than before\"\u001b[0m\u001b[0;34m)\u001b[0m\u001b[0;34m\u001b[0m\u001b[0;34m\u001b[0m\u001b[0m\n\u001b[0m",
      "\u001b[0;31mAssertionError\u001b[0m: Monterey County's zip code scraper has more rows than before"
     ]
    }
   ],
   "source": [
    "try:\n",
    "    assert not len(export_df) > 25\n",
    "except AssertionError:\n",
    "    raise AssertionError(\"Monterey County's zip code scraper has more rows than before\")"
   ]
  },
  {
   "cell_type": "markdown",
   "metadata": {},
   "source": [
    "## Export"
   ]
  },
  {
   "cell_type": "markdown",
   "metadata": {},
   "source": [
    "Set date"
   ]
  },
  {
   "cell_type": "code",
   "execution_count": 102,
   "metadata": {},
   "outputs": [],
   "source": [
    "tz = pytz.timezone(\"America/Los_Angeles\")"
   ]
  },
  {
   "cell_type": "code",
   "execution_count": 103,
   "metadata": {},
   "outputs": [],
   "source": [
    "today = datetime.now(tz).date()"
   ]
  },
  {
   "cell_type": "code",
   "execution_count": 104,
   "metadata": {},
   "outputs": [],
   "source": [
    "slug = \"monterey\""
   ]
  },
  {
   "cell_type": "code",
   "execution_count": 105,
   "metadata": {},
   "outputs": [],
   "source": [
    "export_df.to_csv(data_dir / slug / f\"{today}.csv\", index=False)"
   ]
  },
  {
   "cell_type": "markdown",
   "metadata": {},
   "source": [
    "## Combine"
   ]
  },
  {
   "cell_type": "code",
   "execution_count": 106,
   "metadata": {},
   "outputs": [],
   "source": [
    "csv_list = [\n",
    "    i\n",
    "    for i in glob.glob(str(data_dir / slug / \"*.csv\"))\n",
    "    if not str(i).endswith(\"timeseries.csv\")\n",
    "]"
   ]
  },
  {
   "cell_type": "code",
   "execution_count": 107,
   "metadata": {},
   "outputs": [],
   "source": [
    "df_list = []\n",
    "for csv in csv_list:\n",
    "    if \"manual\" in csv:\n",
    "        df = pd.read_csv(csv, parse_dates=[\"date\"])\n",
    "    else:\n",
    "        file_date = csv.split(\"/\")[-1].replace(\".csv\", \"\")\n",
    "        df = pd.read_csv(csv, parse_dates=[\"county_date\"])\n",
    "        df[\"date\"] = file_date\n",
    "    df_list.append(df)"
   ]
  },
  {
   "cell_type": "code",
   "execution_count": 108,
   "metadata": {},
   "outputs": [],
   "source": [
    "df = pd.concat(df_list).sort_values([\"date\", \"area\"])"
   ]
  },
  {
   "cell_type": "code",
   "execution_count": 109,
   "metadata": {},
   "outputs": [],
   "source": [
    "df.to_csv(data_dir / slug / \"timeseries.csv\", index=False)"
   ]
  }
 ],
 "metadata": {
  "kernelspec": {
   "display_name": "Python 3 (ipykernel)",
   "language": "python",
   "name": "python3"
  },
  "language_info": {
   "codemirror_mode": {
    "name": "ipython",
    "version": 3
   },
   "file_extension": ".py",
   "mimetype": "text/x-python",
   "name": "python",
   "nbconvert_exporter": "python",
   "pygments_lexer": "ipython3",
   "version": "3.8.12"
  }
 },
 "nbformat": 4,
 "nbformat_minor": 4
}
