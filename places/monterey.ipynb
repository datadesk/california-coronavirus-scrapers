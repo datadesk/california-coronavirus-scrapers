{
 "cells": [
  {
   "cell_type": "markdown",
   "metadata": {},
   "source": [
    "## Configuration\n",
    "_Initial steps to get the notebook ready to play nice with our repository. Do not delete this section._"
   ]
  },
  {
   "cell_type": "markdown",
   "metadata": {},
   "source": [
    "Code formatting with [black](https://pypi.org/project/nb-black/)."
   ]
  },
  {
   "cell_type": "code",
   "execution_count": 1,
   "metadata": {
    "execution": {
     "iopub.execute_input": "2022-06-22T00:32:38.360045Z",
     "iopub.status.busy": "2022-06-22T00:32:38.359352Z",
     "iopub.status.idle": "2022-06-22T00:32:38.430472Z",
     "shell.execute_reply": "2022-06-22T00:32:38.430838Z"
    },
    "tags": []
   },
   "outputs": [],
   "source": [
    "%load_ext lab_black"
   ]
  },
  {
   "cell_type": "code",
   "execution_count": 2,
   "metadata": {
    "execution": {
     "iopub.execute_input": "2022-06-22T00:32:38.435586Z",
     "iopub.status.busy": "2022-06-22T00:32:38.434861Z",
     "iopub.status.idle": "2022-06-22T00:32:38.438251Z",
     "shell.execute_reply": "2022-06-22T00:32:38.437629Z"
    },
    "tags": []
   },
   "outputs": [],
   "source": [
    "import os\n",
    "import pathlib"
   ]
  },
  {
   "cell_type": "code",
   "execution_count": 3,
   "metadata": {
    "execution": {
     "iopub.execute_input": "2022-06-22T00:32:38.442998Z",
     "iopub.status.busy": "2022-06-22T00:32:38.442295Z",
     "iopub.status.idle": "2022-06-22T00:32:38.446822Z",
     "shell.execute_reply": "2022-06-22T00:32:38.447143Z"
    },
    "tags": []
   },
   "outputs": [],
   "source": [
    "this_dir = pathlib.Path(os.path.abspath(\"\"))"
   ]
  },
  {
   "cell_type": "code",
   "execution_count": 4,
   "metadata": {
    "execution": {
     "iopub.execute_input": "2022-06-22T00:32:38.451749Z",
     "iopub.status.busy": "2022-06-22T00:32:38.451034Z",
     "iopub.status.idle": "2022-06-22T00:32:38.454110Z",
     "shell.execute_reply": "2022-06-22T00:32:38.454431Z"
    }
   },
   "outputs": [],
   "source": [
    "data_dir = this_dir / \"data\""
   ]
  },
  {
   "cell_type": "code",
   "execution_count": 5,
   "metadata": {
    "execution": {
     "iopub.execute_input": "2022-06-22T00:32:38.459111Z",
     "iopub.status.busy": "2022-06-22T00:32:38.458360Z",
     "iopub.status.idle": "2022-06-22T00:32:38.821072Z",
     "shell.execute_reply": "2022-06-22T00:32:38.820675Z"
    },
    "tags": []
   },
   "outputs": [],
   "source": [
    "import pytz\n",
    "import glob\n",
    "import json\n",
    "import requests\n",
    "import pandas as pd\n",
    "from datetime import datetime, date"
   ]
  },
  {
   "cell_type": "markdown",
   "metadata": {},
   "source": [
    "## Download"
   ]
  },
  {
   "cell_type": "code",
   "execution_count": 6,
   "metadata": {
    "execution": {
     "iopub.execute_input": "2022-06-22T00:32:38.828771Z",
     "iopub.status.busy": "2022-06-22T00:32:38.826261Z",
     "iopub.status.idle": "2022-06-22T00:32:38.833079Z",
     "shell.execute_reply": "2022-06-22T00:32:38.832442Z"
    },
    "tags": []
   },
   "outputs": [],
   "source": [
    "POWER_BI_QUERY_URL = (\n",
    "    \"https://wabi-us-gov-iowa-api.analysis.usgovcloudapi.net/public/reports/querydata\"\n",
    ")\n",
    "REQUEST_PARAMS = ((\"synchronous\", \"true\"),)\n",
    "REQUEST_BODY = '{\"version\":\"1.0.0\",\"queries\":[{\"Query\":{\"Commands\":[{\"SemanticQueryDataShapeCommand\":{\"Query\":{\"Version\":2,\"From\":[{\"Name\":\"d\",\"Entity\":\"demo_region_count\",\"Type\":0},{\"Name\":\"r\",\"Entity\":\"region_lastmonth\",\"Type\":0}],\"Select\":[{\"Column\":{\"Expression\":{\"SourceRef\":{\"Source\":\"d\"}},\"Property\":\"mregion\"},\"Name\":\"demo_region_count.mregion\"},{\"Aggregation\":{\"Expression\":{\"Column\":{\"Expression\":{\"SourceRef\":{\"Source\":\"d\"}},\"Property\":\"case_count\"}},\"Function\":0},\"Name\":\"Sum(demo_region_count.case_count)\"},{\"Column\":{\"Expression\":{\"SourceRef\":{\"Source\":\"d\"}},\"Property\":\"zip2\"},\"Name\":\"demo_region_count.zip2\"},{\"Aggregation\":{\"Expression\":{\"Column\":{\"Expression\":{\"SourceRef\":{\"Source\":\"r\"}},\"Property\":\"case_count\"}},\"Function\":0},\"Name\":\"Sum(region_lastmonth.case_count)\"}],\"Where\":[{\"Condition\":{\"Not\":{\"Expression\":{\"In\":{\"Expressions\":[{\"Column\":{\"Expression\":{\"SourceRef\":{\"Source\":\"r\"}},\"Property\":\"zip2\"}}],\"Values\":[[{\"Literal\":{\"Value\":\"null\"}}]]}}}}},{\"Condition\":{\"Not\":{\"Expression\":{\"In\":{\"Expressions\":[{\"Column\":{\"Expression\":{\"SourceRef\":{\"Source\":\"d\"}},\"Property\":\"mregion\"}}],\"Values\":[[{\"Literal\":{\"Value\":\"\\'Unknown\\'\"}}]]}}}}}],\"OrderBy\":[{\"Direction\":2,\"Expression\":{\"Aggregation\":{\"Expression\":{\"Column\":{\"Expression\":{\"SourceRef\":{\"Source\":\"d\"}},\"Property\":\"case_count\"}},\"Function\":0}}}]},\"Binding\":{\"Primary\":{\"Groupings\":[{\"Projections\":[0,1,2,3]}]},\"DataReduction\":{\"DataVolume\":3,\"Primary\":{\"Window\":{\"Count\":500}}},\"Version\":1},\"ExecutionMetricsKind\":1}}]},\"QueryId\":\"\",\"ApplicationContext\":{\"DatasetId\":\"2e66a584-6b5f-4c9f-bffd-12d35d2b8442\",\"Sources\":[{\"ReportId\":\"40085a43-f04a-4a8b-ae72-c38ca32531a5\",\"VisualId\":\"136278efd4c6f694b9b7\"}]}}],\"cancelQueries\":[],\"modelId\":358821}'"
   ]
  },
  {
   "cell_type": "code",
   "execution_count": 7,
   "metadata": {
    "execution": {
     "iopub.execute_input": "2022-06-22T00:32:38.839439Z",
     "iopub.status.busy": "2022-06-22T00:32:38.838693Z",
     "iopub.status.idle": "2022-06-22T00:32:38.848109Z",
     "shell.execute_reply": "2022-06-22T00:32:38.847690Z"
    }
   },
   "outputs": [],
   "source": [
    "headers = {\n",
    "    \"accept\": \"application/json, text/plain, */*\",\n",
    "    \"accept-language\": \"en-US,en;q=0.9,da;q=0.8\",\n",
    "    \"activityid\": \"07a2f3cb-ea39-4519-8ee0-b5605aa78145\",\n",
    "    \"content-type\": \"application/json;charset=UTF-8\",\n",
    "    \"requestid\": \"a5565ffd-b522-00a7-afe8-5c4f3a3ce843\",\n",
    "    \"sec-ch-ua\": '\" Not A;Brand\";v=\"99\", \"Chromium\";v=\"100\", \"Google Chrome\";v=\"100\"',\n",
    "    \"sec-ch-ua-mobile\": \"?0\",\n",
    "    \"sec-ch-ua-platform\": '\"macOS\"',\n",
    "    \"sec-fetch-dest\": \"empty\",\n",
    "    \"sec-fetch-mode\": \"cors\",\n",
    "    \"sec-fetch-site\": \"cross-site\",\n",
    "    \"x-powerbi-resourcekey\": \"69a5588e-f8a1-4aef-aac5-ca27ee543007\",\n",
    "    \"Referer\": \"https://app.powerbigov.us/\",\n",
    "    \"Referrer-Policy\": \"strict-origin-when-cross-origin\",\n",
    "}\n",
    "json_data = json.loads(REQUEST_BODY)"
   ]
  },
  {
   "cell_type": "code",
   "execution_count": 8,
   "metadata": {
    "execution": {
     "iopub.execute_input": "2022-06-22T00:32:38.853192Z",
     "iopub.status.busy": "2022-06-22T00:32:38.852388Z",
     "iopub.status.idle": "2022-06-22T00:32:39.170655Z",
     "shell.execute_reply": "2022-06-22T00:32:39.171009Z"
    },
    "tags": []
   },
   "outputs": [
    {
     "name": "stderr",
     "output_type": "stream",
     "text": [
      "/home/runner/.local/share/virtualenvs/california-coronavirus-scrapers-dxuBXRsm/lib/python3.8/site-packages/urllib3/connectionpool.py:1013: InsecureRequestWarning: Unverified HTTPS request is being made to host 'wabi-us-gov-iowa-api.analysis.usgovcloudapi.net'. Adding certificate verification is strongly advised. See: https://urllib3.readthedocs.io/en/1.26.x/advanced-usage.html#ssl-warnings\n",
      "  warnings.warn(\n"
     ]
    }
   ],
   "source": [
    "response = requests.post(\n",
    "    POWER_BI_QUERY_URL,\n",
    "    params=REQUEST_PARAMS,\n",
    "    headers=headers,\n",
    "    json=json_data,\n",
    "    verify=False,\n",
    ")"
   ]
  },
  {
   "cell_type": "code",
   "execution_count": 9,
   "metadata": {
    "execution": {
     "iopub.execute_input": "2022-06-22T00:32:39.175635Z",
     "iopub.status.busy": "2022-06-22T00:32:39.173431Z",
     "iopub.status.idle": "2022-06-22T00:32:39.179066Z",
     "shell.execute_reply": "2022-06-22T00:32:39.178685Z"
    }
   },
   "outputs": [],
   "source": [
    "data = response.json()"
   ]
  },
  {
   "cell_type": "markdown",
   "metadata": {},
   "source": [
    "## Parse"
   ]
  },
  {
   "cell_type": "code",
   "execution_count": 10,
   "metadata": {
    "execution": {
     "iopub.execute_input": "2022-06-22T00:32:39.184849Z",
     "iopub.status.busy": "2022-06-22T00:32:39.184021Z",
     "iopub.status.idle": "2022-06-22T00:32:39.188597Z",
     "shell.execute_reply": "2022-06-22T00:32:39.188103Z"
    }
   },
   "outputs": [],
   "source": [
    "timestamp = response.headers[\"Date\"]"
   ]
  },
  {
   "cell_type": "code",
   "execution_count": 11,
   "metadata": {
    "execution": {
     "iopub.execute_input": "2022-06-22T00:32:39.198600Z",
     "iopub.status.busy": "2022-06-22T00:32:39.197533Z",
     "iopub.status.idle": "2022-06-22T00:32:39.201232Z",
     "shell.execute_reply": "2022-06-22T00:32:39.201571Z"
    }
   },
   "outputs": [
    {
     "data": {
      "text/plain": [
       "'Wed, 22 Jun 2022 00:32:39 GMT'"
      ]
     },
     "execution_count": 11,
     "metadata": {},
     "output_type": "execute_result"
    }
   ],
   "source": [
    "timestamp"
   ]
  },
  {
   "cell_type": "code",
   "execution_count": 12,
   "metadata": {
    "execution": {
     "iopub.execute_input": "2022-06-22T00:32:39.205694Z",
     "iopub.status.busy": "2022-06-22T00:32:39.205267Z",
     "iopub.status.idle": "2022-06-22T00:32:39.211452Z",
     "shell.execute_reply": "2022-06-22T00:32:39.210664Z"
    }
   },
   "outputs": [],
   "source": [
    "ds = data[\"results\"][0][\"result\"][\"data\"][\"dsr\"][\"DS\"][0]"
   ]
  },
  {
   "cell_type": "code",
   "execution_count": 13,
   "metadata": {
    "execution": {
     "iopub.execute_input": "2022-06-22T00:32:39.217715Z",
     "iopub.status.busy": "2022-06-22T00:32:39.216558Z",
     "iopub.status.idle": "2022-06-22T00:32:39.220228Z",
     "shell.execute_reply": "2022-06-22T00:32:39.219882Z"
    }
   },
   "outputs": [],
   "source": [
    "zip_codes = ds[\"ValueDicts\"][\"D1\"]"
   ]
  },
  {
   "cell_type": "code",
   "execution_count": 14,
   "metadata": {
    "execution": {
     "iopub.execute_input": "2022-06-22T00:32:39.224903Z",
     "iopub.status.busy": "2022-06-22T00:32:39.224169Z",
     "iopub.status.idle": "2022-06-22T00:32:39.228510Z",
     "shell.execute_reply": "2022-06-22T00:32:39.228110Z"
    }
   },
   "outputs": [],
   "source": [
    "rows = ds[\"PH\"][0][\"DM0\"]"
   ]
  },
  {
   "cell_type": "code",
   "execution_count": 15,
   "metadata": {
    "execution": {
     "iopub.execute_input": "2022-06-22T00:32:39.237048Z",
     "iopub.status.busy": "2022-06-22T00:32:39.235940Z",
     "iopub.status.idle": "2022-06-22T00:32:39.239763Z",
     "shell.execute_reply": "2022-06-22T00:32:39.240097Z"
    }
   },
   "outputs": [
    {
     "data": {
      "text/plain": [
       "[{'S': [{'N': 'G0', 'T': 1, 'DN': 'D0'},\n",
       "   {'N': 'G1', 'T': 1, 'DN': 'D1'},\n",
       "   {'N': 'M0', 'T': 4},\n",
       "   {'N': 'M1', 'T': 4}],\n",
       "  'C': [0, 0, 14368, 236]},\n",
       " {'C': [1, 14321, 409], 'R': 1},\n",
       " {'C': [1, 2, 9251, 180]},\n",
       " {'C': [2, 3, 6330, 327]},\n",
       " {'C': [0, 4, 5753, 213]},\n",
       " {'C': [1, 5, 4422, 56]},\n",
       " {'C': [2, 6, 4056, 265]},\n",
       " {'C': [3, 7, 3748, 158]},\n",
       " {'C': [1, 8, 3729, 35]},\n",
       " {'C': [2, 9, 3385, 265]},\n",
       " {'C': [3, 10, 3189, 90]},\n",
       " {'C': [11, 2672, 62], 'R': 1},\n",
       " {'C': [1, 12, 2054, 30]},\n",
       " {'C': [0, 13, 1507, 79]},\n",
       " {'C': [2, 14, 1388, 135]},\n",
       " {'C': [15, 806, 64], 'R': 1},\n",
       " {'C': [16, 485, 26], 'R': 1},\n",
       " {'C': [3, 17, 406, 21]},\n",
       " {'C': [2, 18, 339, 49]},\n",
       " {'C': [1, 19, 323, 2]},\n",
       " {'C': [3, 20, 274, 10]},\n",
       " {'C': [0, 21, 257, 8]},\n",
       " {'C': [2, 22, 183, 35]},\n",
       " {'C': [23, 178, 19], 'R': 1},\n",
       " {'C': [1, 24, 176, 6]},\n",
       " {'C': [0, 25, 144], 'R': 8},\n",
       " {'C': [3, 26, 130, 4]},\n",
       " {'C': [1, 27, 113, 6]},\n",
       " {'C': [2, 28, 108, 4]},\n",
       " {'C': [1, 29, 106, 3]},\n",
       " {'C': [0, 30, 89], 'R': 8},\n",
       " {'C': [1, 31, 85, 2]},\n",
       " {'C': [2, 32, 84, 13]},\n",
       " {'C': [33, 69, 6], 'R': 1},\n",
       " {'C': [1, 34, 58, 3]}]"
      ]
     },
     "execution_count": 15,
     "metadata": {},
     "output_type": "execute_result"
    }
   ],
   "source": [
    "rows"
   ]
  },
  {
   "cell_type": "code",
   "execution_count": 16,
   "metadata": {
    "execution": {
     "iopub.execute_input": "2022-06-22T00:32:39.246768Z",
     "iopub.status.busy": "2022-06-22T00:32:39.246041Z",
     "iopub.status.idle": "2022-06-22T00:32:39.257852Z",
     "shell.execute_reply": "2022-06-22T00:32:39.258213Z"
    }
   },
   "outputs": [],
   "source": [
    "confirmed_cases = []\n",
    "\n",
    "cases = 0\n",
    "\n",
    "for row in rows:\n",
    "    # in some cases, data are encoded in separate keys\n",
    "    keys = row.keys()\n",
    "    # pull out the list containing values for most rows\n",
    "    cells = row[\"C\"]\n",
    "    # second value in the list is expected to be an iterator/index\n",
    "    index = cells[1]\n",
    "    # if this key is present, the value for this place is identical to the previous row\n",
    "    if \"R\" in keys:\n",
    "        if row[\"R\"] == 1:\n",
    "            cases = cells[1]\n",
    "            index = cells[0]\n",
    "        else:\n",
    "            cases = cells[2]\n",
    "            index = cells[1]\n",
    "    # every other row has its value in the third position of the list\n",
    "    else:\n",
    "        cases = cells[2]\n",
    "    # append values to master list\n",
    "    confirmed_cases.append(\n",
    "        (\n",
    "            index,\n",
    "            cases,\n",
    "        )\n",
    "    )"
   ]
  },
  {
   "cell_type": "code",
   "execution_count": 17,
   "metadata": {
    "execution": {
     "iopub.execute_input": "2022-06-22T00:32:39.263435Z",
     "iopub.status.busy": "2022-06-22T00:32:39.262738Z",
     "iopub.status.idle": "2022-06-22T00:32:39.267080Z",
     "shell.execute_reply": "2022-06-22T00:32:39.266686Z"
    }
   },
   "outputs": [],
   "source": [
    "matched = [(zip_codes[index], cases) for index, cases in confirmed_cases]"
   ]
  },
  {
   "cell_type": "code",
   "execution_count": 18,
   "metadata": {
    "execution": {
     "iopub.execute_input": "2022-06-22T00:32:39.273556Z",
     "iopub.status.busy": "2022-06-22T00:32:39.272819Z",
     "iopub.status.idle": "2022-06-22T00:32:39.277117Z",
     "shell.execute_reply": "2022-06-22T00:32:39.276755Z"
    }
   },
   "outputs": [],
   "source": [
    "df = pd.DataFrame(matched, columns=[\"zip_code\", \"confirmed_cases\"])"
   ]
  },
  {
   "cell_type": "code",
   "execution_count": 19,
   "metadata": {
    "execution": {
     "iopub.execute_input": "2022-06-22T00:32:39.282268Z",
     "iopub.status.busy": "2022-06-22T00:32:39.281552Z",
     "iopub.status.idle": "2022-06-22T00:32:39.291504Z",
     "shell.execute_reply": "2022-06-22T00:32:39.291843Z"
    }
   },
   "outputs": [
    {
     "data": {
      "text/html": [
       "<div>\n",
       "<style scoped>\n",
       "    .dataframe tbody tr th:only-of-type {\n",
       "        vertical-align: middle;\n",
       "    }\n",
       "\n",
       "    .dataframe tbody tr th {\n",
       "        vertical-align: top;\n",
       "    }\n",
       "\n",
       "    .dataframe thead th {\n",
       "        text-align: right;\n",
       "    }\n",
       "</style>\n",
       "<table border=\"1\" class=\"dataframe\">\n",
       "  <thead>\n",
       "    <tr style=\"text-align: right;\">\n",
       "      <th></th>\n",
       "      <th>zip_code</th>\n",
       "      <th>confirmed_cases</th>\n",
       "    </tr>\n",
       "  </thead>\n",
       "  <tbody>\n",
       "    <tr>\n",
       "      <th>0</th>\n",
       "      <td>93905</td>\n",
       "      <td>14368</td>\n",
       "    </tr>\n",
       "    <tr>\n",
       "      <th>1</th>\n",
       "      <td>93906</td>\n",
       "      <td>14321</td>\n",
       "    </tr>\n",
       "    <tr>\n",
       "      <th>2</th>\n",
       "      <td>93960</td>\n",
       "      <td>9251</td>\n",
       "    </tr>\n",
       "    <tr>\n",
       "      <th>3</th>\n",
       "      <td>93955</td>\n",
       "      <td>6330</td>\n",
       "    </tr>\n",
       "    <tr>\n",
       "      <th>4</th>\n",
       "      <td>93901</td>\n",
       "      <td>5753</td>\n",
       "    </tr>\n",
       "    <tr>\n",
       "      <th>5</th>\n",
       "      <td>93927</td>\n",
       "      <td>4422</td>\n",
       "    </tr>\n",
       "    <tr>\n",
       "      <th>6</th>\n",
       "      <td>93933</td>\n",
       "      <td>4056</td>\n",
       "    </tr>\n",
       "    <tr>\n",
       "      <th>7</th>\n",
       "      <td>93907</td>\n",
       "      <td>3748</td>\n",
       "    </tr>\n",
       "    <tr>\n",
       "      <th>8</th>\n",
       "      <td>93930</td>\n",
       "      <td>3729</td>\n",
       "    </tr>\n",
       "    <tr>\n",
       "      <th>9</th>\n",
       "      <td>93940</td>\n",
       "      <td>3385</td>\n",
       "    </tr>\n",
       "    <tr>\n",
       "      <th>10</th>\n",
       "      <td>95076</td>\n",
       "      <td>3189</td>\n",
       "    </tr>\n",
       "    <tr>\n",
       "      <th>11</th>\n",
       "      <td>95012</td>\n",
       "      <td>2672</td>\n",
       "    </tr>\n",
       "    <tr>\n",
       "      <th>12</th>\n",
       "      <td>93926</td>\n",
       "      <td>2054</td>\n",
       "    </tr>\n",
       "    <tr>\n",
       "      <th>13</th>\n",
       "      <td>93908</td>\n",
       "      <td>1507</td>\n",
       "    </tr>\n",
       "    <tr>\n",
       "      <th>14</th>\n",
       "      <td>93950</td>\n",
       "      <td>1388</td>\n",
       "    </tr>\n",
       "    <tr>\n",
       "      <th>15</th>\n",
       "      <td>93923</td>\n",
       "      <td>806</td>\n",
       "    </tr>\n",
       "    <tr>\n",
       "      <th>16</th>\n",
       "      <td>93924</td>\n",
       "      <td>485</td>\n",
       "    </tr>\n",
       "    <tr>\n",
       "      <th>17</th>\n",
       "      <td>95004</td>\n",
       "      <td>406</td>\n",
       "    </tr>\n",
       "    <tr>\n",
       "      <th>18</th>\n",
       "      <td>93953</td>\n",
       "      <td>339</td>\n",
       "    </tr>\n",
       "    <tr>\n",
       "      <th>19</th>\n",
       "      <td>93925</td>\n",
       "      <td>323</td>\n",
       "    </tr>\n",
       "    <tr>\n",
       "      <th>20</th>\n",
       "      <td>95039</td>\n",
       "      <td>274</td>\n",
       "    </tr>\n",
       "    <tr>\n",
       "      <th>21</th>\n",
       "      <td>93912</td>\n",
       "      <td>257</td>\n",
       "    </tr>\n",
       "    <tr>\n",
       "      <th>22</th>\n",
       "      <td>OtherPBS</td>\n",
       "      <td>183</td>\n",
       "    </tr>\n",
       "    <tr>\n",
       "      <th>23</th>\n",
       "      <td>93921</td>\n",
       "      <td>178</td>\n",
       "    </tr>\n",
       "    <tr>\n",
       "      <th>24</th>\n",
       "      <td>93450</td>\n",
       "      <td>176</td>\n",
       "    </tr>\n",
       "    <tr>\n",
       "      <th>25</th>\n",
       "      <td>93915</td>\n",
       "      <td>144</td>\n",
       "    </tr>\n",
       "    <tr>\n",
       "      <th>26</th>\n",
       "      <td>93902</td>\n",
       "      <td>130</td>\n",
       "    </tr>\n",
       "    <tr>\n",
       "      <th>27</th>\n",
       "      <td>OtherSC</td>\n",
       "      <td>113</td>\n",
       "    </tr>\n",
       "    <tr>\n",
       "      <th>28</th>\n",
       "      <td>93920</td>\n",
       "      <td>108</td>\n",
       "    </tr>\n",
       "    <tr>\n",
       "      <th>29</th>\n",
       "      <td>93954</td>\n",
       "      <td>106</td>\n",
       "    </tr>\n",
       "    <tr>\n",
       "      <th>30</th>\n",
       "      <td>93962</td>\n",
       "      <td>89</td>\n",
       "    </tr>\n",
       "    <tr>\n",
       "      <th>31</th>\n",
       "      <td>93426</td>\n",
       "      <td>85</td>\n",
       "    </tr>\n",
       "    <tr>\n",
       "      <th>32</th>\n",
       "      <td>93922</td>\n",
       "      <td>84</td>\n",
       "    </tr>\n",
       "    <tr>\n",
       "      <th>33</th>\n",
       "      <td>93942</td>\n",
       "      <td>69</td>\n",
       "    </tr>\n",
       "    <tr>\n",
       "      <th>34</th>\n",
       "      <td>93451</td>\n",
       "      <td>58</td>\n",
       "    </tr>\n",
       "  </tbody>\n",
       "</table>\n",
       "</div>"
      ],
      "text/plain": [
       "    zip_code  confirmed_cases\n",
       "0      93905            14368\n",
       "1      93906            14321\n",
       "2      93960             9251\n",
       "3      93955             6330\n",
       "4      93901             5753\n",
       "5      93927             4422\n",
       "6      93933             4056\n",
       "7      93907             3748\n",
       "8      93930             3729\n",
       "9      93940             3385\n",
       "10     95076             3189\n",
       "11     95012             2672\n",
       "12     93926             2054\n",
       "13     93908             1507\n",
       "14     93950             1388\n",
       "15     93923              806\n",
       "16     93924              485\n",
       "17     95004              406\n",
       "18     93953              339\n",
       "19     93925              323\n",
       "20     95039              274\n",
       "21     93912              257\n",
       "22  OtherPBS              183\n",
       "23     93921              178\n",
       "24     93450              176\n",
       "25     93915              144\n",
       "26     93902              130\n",
       "27   OtherSC              113\n",
       "28     93920              108\n",
       "29     93954              106\n",
       "30     93962               89\n",
       "31     93426               85\n",
       "32     93922               84\n",
       "33     93942               69\n",
       "34     93451               58"
      ]
     },
     "execution_count": 19,
     "metadata": {},
     "output_type": "execute_result"
    }
   ],
   "source": [
    "df"
   ]
  },
  {
   "cell_type": "markdown",
   "metadata": {},
   "source": [
    "Match up place names with zip codes"
   ]
  },
  {
   "cell_type": "code",
   "execution_count": 20,
   "metadata": {
    "execution": {
     "iopub.execute_input": "2022-06-22T00:32:39.298127Z",
     "iopub.status.busy": "2022-06-22T00:32:39.297427Z",
     "iopub.status.idle": "2022-06-22T00:32:39.301808Z",
     "shell.execute_reply": "2022-06-22T00:32:39.301454Z"
    }
   },
   "outputs": [],
   "source": [
    "df = df.loc[~df.zip_code.str.contains(\"Other\")]"
   ]
  },
  {
   "cell_type": "code",
   "execution_count": 21,
   "metadata": {
    "execution": {
     "iopub.execute_input": "2022-06-22T00:32:39.309774Z",
     "iopub.status.busy": "2022-06-22T00:32:39.308934Z",
     "iopub.status.idle": "2022-06-22T00:32:39.323736Z",
     "shell.execute_reply": "2022-06-22T00:32:39.323353Z"
    }
   },
   "outputs": [],
   "source": [
    "zip_code_names = {\n",
    "    \"93902\": \"Prunedale\",\n",
    "    \"93907\": \"Salinas\",\n",
    "    \"95004\": \"Aromas\",\n",
    "    \"95012\": \"Castroville\",\n",
    "    \"95039\": \"Moss Landing\",\n",
    "    \"95076\": \"Watsonville\",\n",
    "    \"93920\": \"Big Sur\",\n",
    "    \"93921\": \"Carmel\",\n",
    "    \"93923\": \"Carmel\",\n",
    "    \"93924\": \"Carmel Valley\",\n",
    "    \"93933\": \"Marina\",\n",
    "    \"93940\": \"Monterey\",\n",
    "    \"93942\": \"Monterey\",\n",
    "    \"93950\": \"Pacific Grove\",\n",
    "    \"93953\": \"Pebble Beach\",\n",
    "    \"93955\": \"Seaside\",\n",
    "    \"93901\": \"Salinas\",\n",
    "    \"93905\": \"Salinas\",\n",
    "    \"93906\": \"Salinas\",\n",
    "    \"93908\": \"Salinas\",\n",
    "    \"93912\": \"Boronda\",\n",
    "    \"93915\": \"Salinas\",\n",
    "    \"93962\": \"Spreckels\",\n",
    "    \"93450\": \"San Ardo\",\n",
    "    \"93925\": \"Chualar\",\n",
    "    \"93926\": \"Gonzales\",\n",
    "    \"93927\": \"Greenfield\",\n",
    "    \"93930\": \"King City\",\n",
    "    \"93954\": \"San Lucas\",\n",
    "    \"93960\": \"Soledad\",\n",
    "    \"93922\": \"Carmel\",\n",
    "    \"93426\": \"Bradley\",\n",
    "    \"93451\": \"San Miguel\",\n",
    "}"
   ]
  },
  {
   "cell_type": "code",
   "execution_count": 22,
   "metadata": {
    "execution": {
     "iopub.execute_input": "2022-06-22T00:32:39.330001Z",
     "iopub.status.busy": "2022-06-22T00:32:39.329459Z",
     "iopub.status.idle": "2022-06-22T00:32:39.334344Z",
     "shell.execute_reply": "2022-06-22T00:32:39.334687Z"
    }
   },
   "outputs": [
    {
     "name": "stderr",
     "output_type": "stream",
     "text": [
      "/tmp/ipykernel_2295/640265091.py:1: SettingWithCopyWarning: \n",
      "A value is trying to be set on a copy of a slice from a DataFrame.\n",
      "Try using .loc[row_indexer,col_indexer] = value instead\n",
      "\n",
      "See the caveats in the documentation: https://pandas.pydata.org/pandas-docs/stable/user_guide/indexing.html#returning-a-view-versus-a-copy\n",
      "  df[\"area_name\"] = df.zip_code.map(zip_code_names)\n"
     ]
    }
   ],
   "source": [
    "df[\"area_name\"] = df.zip_code.map(zip_code_names)"
   ]
  },
  {
   "cell_type": "code",
   "execution_count": 23,
   "metadata": {
    "execution": {
     "iopub.execute_input": "2022-06-22T00:32:39.340876Z",
     "iopub.status.busy": "2022-06-22T00:32:39.340150Z",
     "iopub.status.idle": "2022-06-22T00:32:39.344388Z",
     "shell.execute_reply": "2022-06-22T00:32:39.344772Z"
    }
   },
   "outputs": [
    {
     "name": "stderr",
     "output_type": "stream",
     "text": [
      "/tmp/ipykernel_2295/3669557735.py:1: SettingWithCopyWarning: \n",
      "A value is trying to be set on a copy of a slice from a DataFrame.\n",
      "Try using .loc[row_indexer,col_indexer] = value instead\n",
      "\n",
      "See the caveats in the documentation: https://pandas.pydata.org/pandas-docs/stable/user_guide/indexing.html#returning-a-view-versus-a-copy\n",
      "  df[\"area_name\"] = df[\"zip_code\"] + \": \" + df[\"area_name\"]\n"
     ]
    }
   ],
   "source": [
    "df[\"area_name\"] = df[\"zip_code\"] + \": \" + df[\"area_name\"]"
   ]
  },
  {
   "cell_type": "code",
   "execution_count": 24,
   "metadata": {
    "execution": {
     "iopub.execute_input": "2022-06-22T00:32:39.351251Z",
     "iopub.status.busy": "2022-06-22T00:32:39.350511Z",
     "iopub.status.idle": "2022-06-22T00:32:39.354403Z",
     "shell.execute_reply": "2022-06-22T00:32:39.354728Z"
    }
   },
   "outputs": [],
   "source": [
    "df = df[(df.zip_code != \"OtherPBS\")]"
   ]
  },
  {
   "cell_type": "markdown",
   "metadata": {},
   "source": [
    "Set column with county date"
   ]
  },
  {
   "cell_type": "code",
   "execution_count": 25,
   "metadata": {
    "execution": {
     "iopub.execute_input": "2022-06-22T00:32:39.362070Z",
     "iopub.status.busy": "2022-06-22T00:32:39.361323Z",
     "iopub.status.idle": "2022-06-22T00:32:39.365853Z",
     "shell.execute_reply": "2022-06-22T00:32:39.365488Z"
    }
   },
   "outputs": [],
   "source": [
    "df[\"county_date\"] = pd.to_datetime(timestamp)"
   ]
  },
  {
   "cell_type": "code",
   "execution_count": 26,
   "metadata": {
    "execution": {
     "iopub.execute_input": "2022-06-22T00:32:39.376352Z",
     "iopub.status.busy": "2022-06-22T00:32:39.373987Z",
     "iopub.status.idle": "2022-06-22T00:32:39.390362Z",
     "shell.execute_reply": "2022-06-22T00:32:39.390966Z"
    }
   },
   "outputs": [],
   "source": [
    "df[\"county_date\"] = df[\"county_date\"].dt.tz_convert(\"US/Pacific\")"
   ]
  },
  {
   "cell_type": "code",
   "execution_count": 27,
   "metadata": {
    "execution": {
     "iopub.execute_input": "2022-06-22T00:32:39.399110Z",
     "iopub.status.busy": "2022-06-22T00:32:39.393435Z",
     "iopub.status.idle": "2022-06-22T00:32:39.404414Z",
     "shell.execute_reply": "2022-06-22T00:32:39.404016Z"
    }
   },
   "outputs": [],
   "source": [
    "df[\"county_date\"] = df[\"county_date\"].dt.strftime(\"%Y-%m-%d\")"
   ]
  },
  {
   "cell_type": "code",
   "execution_count": 28,
   "metadata": {
    "execution": {
     "iopub.execute_input": "2022-06-22T00:32:39.409951Z",
     "iopub.status.busy": "2022-06-22T00:32:39.409243Z",
     "iopub.status.idle": "2022-06-22T00:32:39.413674Z",
     "shell.execute_reply": "2022-06-22T00:32:39.414447Z"
    }
   },
   "outputs": [],
   "source": [
    "df.insert(0, \"county\", \"Monterey\")"
   ]
  },
  {
   "cell_type": "markdown",
   "metadata": {},
   "source": [
    "Clean up for export"
   ]
  },
  {
   "cell_type": "code",
   "execution_count": 29,
   "metadata": {
    "execution": {
     "iopub.execute_input": "2022-06-22T00:32:39.427254Z",
     "iopub.status.busy": "2022-06-22T00:32:39.426595Z",
     "iopub.status.idle": "2022-06-22T00:32:39.428978Z",
     "shell.execute_reply": "2022-06-22T00:32:39.428624Z"
    }
   },
   "outputs": [],
   "source": [
    "export_df = df[\n",
    "    [\"county\", \"area_name\", \"confirmed_cases\", \"county_date\", \"zip_code\"]\n",
    "].rename(columns={\"area_name\": \"area\", \"zip_code\": \"zip\"})"
   ]
  },
  {
   "cell_type": "markdown",
   "metadata": {},
   "source": [
    "## Vet"
   ]
  },
  {
   "cell_type": "code",
   "execution_count": 30,
   "metadata": {
    "execution": {
     "iopub.execute_input": "2022-06-22T00:32:39.433925Z",
     "iopub.status.busy": "2022-06-22T00:32:39.433236Z",
     "iopub.status.idle": "2022-06-22T00:32:39.438071Z",
     "shell.execute_reply": "2022-06-22T00:32:39.437709Z"
    }
   },
   "outputs": [],
   "source": [
    "try:\n",
    "    assert not len(export_df) < 33\n",
    "except AssertionError:\n",
    "    raise AssertionError(\"Monterey County's zip code scraper is missing rows\")"
   ]
  },
  {
   "cell_type": "code",
   "execution_count": 31,
   "metadata": {
    "execution": {
     "iopub.execute_input": "2022-06-22T00:32:39.443562Z",
     "iopub.status.busy": "2022-06-22T00:32:39.442866Z",
     "iopub.status.idle": "2022-06-22T00:32:39.447806Z",
     "shell.execute_reply": "2022-06-22T00:32:39.447450Z"
    }
   },
   "outputs": [],
   "source": [
    "try:\n",
    "    assert not len(export_df) > 33\n",
    "except AssertionError:\n",
    "    raise AssertionError(\n",
    "        f\"Monterey County's zip code scraper has {len(export_df)-29} more rows than before\"\n",
    "    )"
   ]
  },
  {
   "cell_type": "code",
   "execution_count": 32,
   "metadata": {
    "execution": {
     "iopub.execute_input": "2022-06-22T00:32:39.453288Z",
     "iopub.status.busy": "2022-06-22T00:32:39.452535Z",
     "iopub.status.idle": "2022-06-22T00:32:39.556942Z",
     "shell.execute_reply": "2022-06-22T00:32:39.557308Z"
    }
   },
   "outputs": [
    {
     "ename": "NameError",
     "evalue": "name 'old' is not defined",
     "output_type": "error",
     "traceback": [
      "\u001b[0;31m---------------------------------------------------------------------------\u001b[0m",
      "\u001b[0;31mNameError\u001b[0m                                 Traceback (most recent call last)",
      "\u001b[0;32m/tmp/ipykernel_2295/639327890.py\u001b[0m in \u001b[0;36m<module>\u001b[0;34m\u001b[0m\n\u001b[0;32m----> 1\u001b[0;31m \u001b[0mexport_df\u001b[0m\u001b[0;34m[\u001b[0m\u001b[0;34m~\u001b[0m\u001b[0mexport_df\u001b[0m\u001b[0;34m.\u001b[0m\u001b[0marea\u001b[0m\u001b[0;34m.\u001b[0m\u001b[0misin\u001b[0m\u001b[0;34m(\u001b[0m\u001b[0mold\u001b[0m\u001b[0;34m.\u001b[0m\u001b[0marea\u001b[0m\u001b[0;34m)\u001b[0m\u001b[0;34m]\u001b[0m\u001b[0;34m\u001b[0m\u001b[0;34m\u001b[0m\u001b[0m\n\u001b[0m",
      "\u001b[0;31mNameError\u001b[0m: name 'old' is not defined"
     ]
    }
   ],
   "source": [
    "export_df[~export_df.area.isin(old.area)]"
   ]
  },
  {
   "cell_type": "code",
   "execution_count": 56,
   "metadata": {},
   "outputs": [
    {
     "data": {
      "text/html": [
       "<div>\n",
       "<style scoped>\n",
       "    .dataframe tbody tr th:only-of-type {\n",
       "        vertical-align: middle;\n",
       "    }\n",
       "\n",
       "    .dataframe tbody tr th {\n",
       "        vertical-align: top;\n",
       "    }\n",
       "\n",
       "    .dataframe thead th {\n",
       "        text-align: right;\n",
       "    }\n",
       "</style>\n",
       "<table border=\"1\" class=\"dataframe\">\n",
       "  <thead>\n",
       "    <tr style=\"text-align: right;\">\n",
       "      <th></th>\n",
       "      <th>county</th>\n",
       "      <th>area</th>\n",
       "      <th>confirmed_cases</th>\n",
       "      <th>county_date</th>\n",
       "      <th>zip</th>\n",
       "    </tr>\n",
       "  </thead>\n",
       "  <tbody>\n",
       "    <tr>\n",
       "      <th>0</th>\n",
       "      <td>Monterey</td>\n",
       "      <td>93905: Salinas</td>\n",
       "      <td>14323</td>\n",
       "      <td>2022-06-16</td>\n",
       "      <td>93905</td>\n",
       "    </tr>\n",
       "    <tr>\n",
       "      <th>1</th>\n",
       "      <td>Monterey</td>\n",
       "      <td>93906: Salinas</td>\n",
       "      <td>14249</td>\n",
       "      <td>2022-06-16</td>\n",
       "      <td>93906</td>\n",
       "    </tr>\n",
       "    <tr>\n",
       "      <th>2</th>\n",
       "      <td>Monterey</td>\n",
       "      <td>93960: Soledad</td>\n",
       "      <td>9219</td>\n",
       "      <td>2022-06-16</td>\n",
       "      <td>93960</td>\n",
       "    </tr>\n",
       "    <tr>\n",
       "      <th>3</th>\n",
       "      <td>Monterey</td>\n",
       "      <td>93955: Seaside</td>\n",
       "      <td>6290</td>\n",
       "      <td>2022-06-16</td>\n",
       "      <td>93955</td>\n",
       "    </tr>\n",
       "    <tr>\n",
       "      <th>4</th>\n",
       "      <td>Monterey</td>\n",
       "      <td>93901: Salinas</td>\n",
       "      <td>5715</td>\n",
       "      <td>2022-06-16</td>\n",
       "      <td>93901</td>\n",
       "    </tr>\n",
       "    <tr>\n",
       "      <th>5</th>\n",
       "      <td>Monterey</td>\n",
       "      <td>93927: Greenfield</td>\n",
       "      <td>4412</td>\n",
       "      <td>2022-06-16</td>\n",
       "      <td>93927</td>\n",
       "    </tr>\n",
       "    <tr>\n",
       "      <th>6</th>\n",
       "      <td>Monterey</td>\n",
       "      <td>93933: Marina</td>\n",
       "      <td>4019</td>\n",
       "      <td>2022-06-16</td>\n",
       "      <td>93933</td>\n",
       "    </tr>\n",
       "    <tr>\n",
       "      <th>7</th>\n",
       "      <td>Monterey</td>\n",
       "      <td>93907: Salinas</td>\n",
       "      <td>3724</td>\n",
       "      <td>2022-06-16</td>\n",
       "      <td>93907</td>\n",
       "    </tr>\n",
       "    <tr>\n",
       "      <th>8</th>\n",
       "      <td>Monterey</td>\n",
       "      <td>93930: King City</td>\n",
       "      <td>30</td>\n",
       "      <td>2022-06-16</td>\n",
       "      <td>93930</td>\n",
       "    </tr>\n",
       "    <tr>\n",
       "      <th>9</th>\n",
       "      <td>Monterey</td>\n",
       "      <td>93940: Monterey</td>\n",
       "      <td>3349</td>\n",
       "      <td>2022-06-16</td>\n",
       "      <td>93940</td>\n",
       "    </tr>\n",
       "    <tr>\n",
       "      <th>10</th>\n",
       "      <td>Monterey</td>\n",
       "      <td>95076: Watsonville</td>\n",
       "      <td>3172</td>\n",
       "      <td>2022-06-16</td>\n",
       "      <td>95076</td>\n",
       "    </tr>\n",
       "    <tr>\n",
       "      <th>11</th>\n",
       "      <td>Monterey</td>\n",
       "      <td>95012: Castroville</td>\n",
       "      <td>2663</td>\n",
       "      <td>2022-06-16</td>\n",
       "      <td>95012</td>\n",
       "    </tr>\n",
       "    <tr>\n",
       "      <th>12</th>\n",
       "      <td>Monterey</td>\n",
       "      <td>93926: Gonzales</td>\n",
       "      <td>2050</td>\n",
       "      <td>2022-06-16</td>\n",
       "      <td>93926</td>\n",
       "    </tr>\n",
       "    <tr>\n",
       "      <th>13</th>\n",
       "      <td>Monterey</td>\n",
       "      <td>93908: Salinas</td>\n",
       "      <td>1504</td>\n",
       "      <td>2022-06-16</td>\n",
       "      <td>93908</td>\n",
       "    </tr>\n",
       "    <tr>\n",
       "      <th>14</th>\n",
       "      <td>Monterey</td>\n",
       "      <td>93950: Pacific Grove</td>\n",
       "      <td>1376</td>\n",
       "      <td>2022-06-16</td>\n",
       "      <td>93950</td>\n",
       "    </tr>\n",
       "    <tr>\n",
       "      <th>15</th>\n",
       "      <td>Monterey</td>\n",
       "      <td>93923: Carmel</td>\n",
       "      <td>796</td>\n",
       "      <td>2022-06-16</td>\n",
       "      <td>93923</td>\n",
       "    </tr>\n",
       "    <tr>\n",
       "      <th>16</th>\n",
       "      <td>Monterey</td>\n",
       "      <td>93924: Carmel Valley</td>\n",
       "      <td>483</td>\n",
       "      <td>2022-06-16</td>\n",
       "      <td>93924</td>\n",
       "    </tr>\n",
       "    <tr>\n",
       "      <th>17</th>\n",
       "      <td>Monterey</td>\n",
       "      <td>95004: Aromas</td>\n",
       "      <td>403</td>\n",
       "      <td>2022-06-16</td>\n",
       "      <td>95004</td>\n",
       "    </tr>\n",
       "    <tr>\n",
       "      <th>18</th>\n",
       "      <td>Monterey</td>\n",
       "      <td>93953: Pebble Beach</td>\n",
       "      <td>335</td>\n",
       "      <td>2022-06-16</td>\n",
       "      <td>93953</td>\n",
       "    </tr>\n",
       "    <tr>\n",
       "      <th>19</th>\n",
       "      <td>Monterey</td>\n",
       "      <td>93925: Chualar</td>\n",
       "      <td>322</td>\n",
       "      <td>2022-06-16</td>\n",
       "      <td>93925</td>\n",
       "    </tr>\n",
       "    <tr>\n",
       "      <th>20</th>\n",
       "      <td>Monterey</td>\n",
       "      <td>95039: Moss Landing</td>\n",
       "      <td>273</td>\n",
       "      <td>2022-06-16</td>\n",
       "      <td>95039</td>\n",
       "    </tr>\n",
       "    <tr>\n",
       "      <th>21</th>\n",
       "      <td>Monterey</td>\n",
       "      <td>93912: Boronda</td>\n",
       "      <td>257</td>\n",
       "      <td>2022-06-16</td>\n",
       "      <td>93912</td>\n",
       "    </tr>\n",
       "    <tr>\n",
       "      <th>23</th>\n",
       "      <td>Monterey</td>\n",
       "      <td>93921: Carmel</td>\n",
       "      <td>175</td>\n",
       "      <td>2022-06-16</td>\n",
       "      <td>93921</td>\n",
       "    </tr>\n",
       "    <tr>\n",
       "      <th>24</th>\n",
       "      <td>Monterey</td>\n",
       "      <td>93450: San Ardo</td>\n",
       "      <td>5</td>\n",
       "      <td>2022-06-16</td>\n",
       "      <td>93450</td>\n",
       "    </tr>\n",
       "    <tr>\n",
       "      <th>25</th>\n",
       "      <td>Monterey</td>\n",
       "      <td>93915: Salinas</td>\n",
       "      <td>144</td>\n",
       "      <td>2022-06-16</td>\n",
       "      <td>93915</td>\n",
       "    </tr>\n",
       "    <tr>\n",
       "      <th>26</th>\n",
       "      <td>Monterey</td>\n",
       "      <td>93902: Prunedale</td>\n",
       "      <td>130</td>\n",
       "      <td>2022-06-16</td>\n",
       "      <td>93902</td>\n",
       "    </tr>\n",
       "    <tr>\n",
       "      <th>28</th>\n",
       "      <td>Monterey</td>\n",
       "      <td>93920: Big Sur</td>\n",
       "      <td>107</td>\n",
       "      <td>2022-06-16</td>\n",
       "      <td>93920</td>\n",
       "    </tr>\n",
       "    <tr>\n",
       "      <th>29</th>\n",
       "      <td>Monterey</td>\n",
       "      <td>93954: San Lucas</td>\n",
       "      <td>104</td>\n",
       "      <td>2022-06-16</td>\n",
       "      <td>93954</td>\n",
       "    </tr>\n",
       "    <tr>\n",
       "      <th>30</th>\n",
       "      <td>Monterey</td>\n",
       "      <td>93962: Spreckels</td>\n",
       "      <td>89</td>\n",
       "      <td>2022-06-16</td>\n",
       "      <td>93962</td>\n",
       "    </tr>\n",
       "    <tr>\n",
       "      <th>31</th>\n",
       "      <td>Monterey</td>\n",
       "      <td>93426: Bradley</td>\n",
       "      <td>86</td>\n",
       "      <td>2022-06-16</td>\n",
       "      <td>93426</td>\n",
       "    </tr>\n",
       "    <tr>\n",
       "      <th>32</th>\n",
       "      <td>Monterey</td>\n",
       "      <td>93922: Carmel</td>\n",
       "      <td>83</td>\n",
       "      <td>2022-06-16</td>\n",
       "      <td>93922</td>\n",
       "    </tr>\n",
       "    <tr>\n",
       "      <th>33</th>\n",
       "      <td>Monterey</td>\n",
       "      <td>93942: Monterey</td>\n",
       "      <td>68</td>\n",
       "      <td>2022-06-16</td>\n",
       "      <td>93942</td>\n",
       "    </tr>\n",
       "    <tr>\n",
       "      <th>34</th>\n",
       "      <td>Monterey</td>\n",
       "      <td>93451: San Miguel</td>\n",
       "      <td>58</td>\n",
       "      <td>2022-06-16</td>\n",
       "      <td>93451</td>\n",
       "    </tr>\n",
       "  </tbody>\n",
       "</table>\n",
       "</div>"
      ],
      "text/plain": [
       "      county                  area  confirmed_cases county_date    zip\n",
       "0   Monterey        93905: Salinas            14323  2022-06-16  93905\n",
       "1   Monterey        93906: Salinas            14249  2022-06-16  93906\n",
       "2   Monterey        93960: Soledad             9219  2022-06-16  93960\n",
       "3   Monterey        93955: Seaside             6290  2022-06-16  93955\n",
       "4   Monterey        93901: Salinas             5715  2022-06-16  93901\n",
       "5   Monterey     93927: Greenfield             4412  2022-06-16  93927\n",
       "6   Monterey         93933: Marina             4019  2022-06-16  93933\n",
       "7   Monterey        93907: Salinas             3724  2022-06-16  93907\n",
       "8   Monterey      93930: King City               30  2022-06-16  93930\n",
       "9   Monterey       93940: Monterey             3349  2022-06-16  93940\n",
       "10  Monterey    95076: Watsonville             3172  2022-06-16  95076\n",
       "11  Monterey    95012: Castroville             2663  2022-06-16  95012\n",
       "12  Monterey       93926: Gonzales             2050  2022-06-16  93926\n",
       "13  Monterey        93908: Salinas             1504  2022-06-16  93908\n",
       "14  Monterey  93950: Pacific Grove             1376  2022-06-16  93950\n",
       "15  Monterey         93923: Carmel              796  2022-06-16  93923\n",
       "16  Monterey  93924: Carmel Valley              483  2022-06-16  93924\n",
       "17  Monterey         95004: Aromas              403  2022-06-16  95004\n",
       "18  Monterey   93953: Pebble Beach              335  2022-06-16  93953\n",
       "19  Monterey        93925: Chualar              322  2022-06-16  93925\n",
       "20  Monterey   95039: Moss Landing              273  2022-06-16  95039\n",
       "21  Monterey        93912: Boronda              257  2022-06-16  93912\n",
       "23  Monterey         93921: Carmel              175  2022-06-16  93921\n",
       "24  Monterey       93450: San Ardo                5  2022-06-16  93450\n",
       "25  Monterey        93915: Salinas              144  2022-06-16  93915\n",
       "26  Monterey      93902: Prunedale              130  2022-06-16  93902\n",
       "28  Monterey        93920: Big Sur              107  2022-06-16  93920\n",
       "29  Monterey      93954: San Lucas              104  2022-06-16  93954\n",
       "30  Monterey      93962: Spreckels               89  2022-06-16  93962\n",
       "31  Monterey        93426: Bradley               86  2022-06-16  93426\n",
       "32  Monterey         93922: Carmel               83  2022-06-16  93922\n",
       "33  Monterey       93942: Monterey               68  2022-06-16  93942\n",
       "34  Monterey     93451: San Miguel               58  2022-06-16  93451"
      ]
     },
     "execution_count": 56,
     "metadata": {},
     "output_type": "execute_result"
    }
   ],
   "source": [
    "export_df"
   ]
  },
  {
   "cell_type": "markdown",
   "metadata": {},
   "source": [
    "## Export"
   ]
  },
  {
   "cell_type": "markdown",
   "metadata": {},
   "source": [
    "Set date"
   ]
  },
  {
   "cell_type": "code",
   "execution_count": 57,
   "metadata": {},
   "outputs": [],
   "source": [
    "tz = pytz.timezone(\"America/Los_Angeles\")"
   ]
  },
  {
   "cell_type": "code",
   "execution_count": 58,
   "metadata": {},
   "outputs": [],
   "source": [
    "today = datetime.now(tz).date()"
   ]
  },
  {
   "cell_type": "code",
   "execution_count": 59,
   "metadata": {},
   "outputs": [],
   "source": [
    "slug = \"monterey\""
   ]
  },
  {
   "cell_type": "code",
   "execution_count": 60,
   "metadata": {},
   "outputs": [],
   "source": [
    "export_df.to_csv(data_dir / slug / f\"{today}.csv\", index=False)"
   ]
  },
  {
   "cell_type": "markdown",
   "metadata": {},
   "source": [
    "## Combine"
   ]
  },
  {
   "cell_type": "code",
   "execution_count": 61,
   "metadata": {},
   "outputs": [],
   "source": [
    "csv_list = [\n",
    "    i\n",
    "    for i in glob.glob(str(data_dir / slug / \"*.csv\"))\n",
    "    if not str(i).endswith(\"timeseries.csv\")\n",
    "]"
   ]
  },
  {
   "cell_type": "code",
   "execution_count": 62,
   "metadata": {},
   "outputs": [],
   "source": [
    "df_list = []\n",
    "for csv in csv_list:\n",
    "    if \"manual\" in csv:\n",
    "        df = pd.read_csv(csv, parse_dates=[\"date\"])\n",
    "    else:\n",
    "        file_date = csv.split(\"/\")[-1].replace(\".csv\", \"\")\n",
    "        df = pd.read_csv(csv, parse_dates=[\"county_date\"])\n",
    "        df[\"date\"] = file_date\n",
    "    df_list.append(df)"
   ]
  },
  {
   "cell_type": "code",
   "execution_count": 63,
   "metadata": {},
   "outputs": [],
   "source": [
    "df = pd.concat(df_list).sort_values([\"date\", \"area\"])"
   ]
  },
  {
   "cell_type": "code",
   "execution_count": 64,
   "metadata": {},
   "outputs": [],
   "source": [
    "df.to_csv(data_dir / slug / \"timeseries.csv\", index=False)"
   ]
  },
  {
   "cell_type": "code",
   "execution_count": null,
   "metadata": {},
   "outputs": [],
   "source": []
  }
 ],
 "metadata": {
  "kernelspec": {
   "display_name": "Python 3 (ipykernel)",
   "language": "python",
   "name": "python3"
  },
  "language_info": {
   "codemirror_mode": {
    "name": "ipython",
    "version": 3
   },
   "file_extension": ".py",
   "mimetype": "text/x-python",
   "name": "python",
   "nbconvert_exporter": "python",
   "pygments_lexer": "ipython3",
   "version": "3.8.12"
  }
 },
 "nbformat": 4,
 "nbformat_minor": 4
}
