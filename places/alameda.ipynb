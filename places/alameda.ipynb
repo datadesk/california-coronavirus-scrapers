{
 "cells": [
  {
   "cell_type": "markdown",
   "metadata": {},
   "source": [
    "## Configuration\n",
    "_Initial steps to get the notebook ready to play nice with our repository. Do not delete this section._"
   ]
  },
  {
   "cell_type": "markdown",
   "metadata": {},
   "source": [
    "Code formatting with [black](https://pypi.org/project/nb-black/)."
   ]
  },
  {
   "cell_type": "code",
   "execution_count": 1,
   "metadata": {
    "execution": {
     "iopub.execute_input": "2022-06-13T08:18:41.786703Z",
     "iopub.status.busy": "2022-06-13T08:18:41.786013Z",
     "iopub.status.idle": "2022-06-13T08:18:42.038556Z",
     "shell.execute_reply": "2022-06-13T08:18:42.039069Z"
    }
   },
   "outputs": [],
   "source": [
    "%load_ext lab_black"
   ]
  },
  {
   "cell_type": "markdown",
   "metadata": {},
   "source": [
    "Add our `utils` directory to the system's `$PATH` so we can import Python files from sibling directories."
   ]
  },
  {
   "cell_type": "code",
   "execution_count": 2,
   "metadata": {
    "execution": {
     "iopub.execute_input": "2022-06-13T08:18:42.046206Z",
     "iopub.status.busy": "2022-06-13T08:18:42.044497Z",
     "iopub.status.idle": "2022-06-13T08:18:42.047839Z",
     "shell.execute_reply": "2022-06-13T08:18:42.048272Z"
    }
   },
   "outputs": [],
   "source": [
    "import os\n",
    "import pathlib"
   ]
  },
  {
   "cell_type": "code",
   "execution_count": 3,
   "metadata": {
    "execution": {
     "iopub.execute_input": "2022-06-13T08:18:42.052727Z",
     "iopub.status.busy": "2022-06-13T08:18:42.052199Z",
     "iopub.status.idle": "2022-06-13T08:18:42.059054Z",
     "shell.execute_reply": "2022-06-13T08:18:42.057955Z"
    }
   },
   "outputs": [],
   "source": [
    "this_dir = pathlib.Path(os.path.abspath(\"\"))"
   ]
  },
  {
   "cell_type": "code",
   "execution_count": 4,
   "metadata": {
    "execution": {
     "iopub.execute_input": "2022-06-13T08:18:42.064740Z",
     "iopub.status.busy": "2022-06-13T08:18:42.062770Z",
     "iopub.status.idle": "2022-06-13T08:18:42.069229Z",
     "shell.execute_reply": "2022-06-13T08:18:42.069653Z"
    }
   },
   "outputs": [],
   "source": [
    "data_dir = this_dir / \"data\""
   ]
  },
  {
   "cell_type": "code",
   "execution_count": 5,
   "metadata": {
    "execution": {
     "iopub.execute_input": "2022-06-13T08:18:42.076271Z",
     "iopub.status.busy": "2022-06-13T08:18:42.074710Z",
     "iopub.status.idle": "2022-06-13T08:18:42.446926Z",
     "shell.execute_reply": "2022-06-13T08:18:42.446000Z"
    }
   },
   "outputs": [],
   "source": [
    "import pytz\n",
    "import glob\n",
    "import requests\n",
    "import pandas as pd\n",
    "from slugify import slugify\n",
    "from datetime import datetime, date"
   ]
  },
  {
   "cell_type": "markdown",
   "metadata": {},
   "source": [
    "## Download"
   ]
  },
  {
   "cell_type": "code",
   "execution_count": 6,
   "metadata": {
    "execution": {
     "iopub.execute_input": "2022-06-13T08:18:42.453298Z",
     "iopub.status.busy": "2022-06-13T08:18:42.451814Z",
     "iopub.status.idle": "2022-06-13T08:18:42.456777Z",
     "shell.execute_reply": "2022-06-13T08:18:42.456214Z"
    }
   },
   "outputs": [],
   "source": [
    "url = \"https://services5.arcgis.com/ROBnTHSNjoZ2Wm1P/arcgis/rest/services/COVID_19_Case_Rates_by_Zip_Code/FeatureServer/0/query?where=1%3D1&objectIds=&time=&geometry=&geometryType=esriGeometryEnvelope&inSR=&spatialRel=esriSpatialRelIntersects&resultType=none&distance=0.0&units=esriSRUnit_Meter&returnGeodetic=false&outFields=*&returnGeometry=true&returnCentroid=false&featureEncoding=esriDefault&multipatchOption=xyFootprint&maxAllowableOffset=&geometryPrecision=&outSR=&datumTransformation=&applyVCSProjection=false&returnIdsOnly=false&returnUniqueIdsOnly=false&returnCountOnly=false&returnExtentOnly=false&returnQueryGeometry=false&returnDistinctValues=false&cacheHint=false&orderByFields=&groupByFieldsForStatistics=&outStatistics=&having=&resultOffset=&resultRecordCount=&returnZ=false&returnM=false&returnExceededLimitFeatures=true&quantizationParameters=&sqlFormat=none&f=pjson&token=\""
   ]
  },
  {
   "cell_type": "code",
   "execution_count": 7,
   "metadata": {
    "execution": {
     "iopub.execute_input": "2022-06-13T08:18:42.466403Z",
     "iopub.status.busy": "2022-06-13T08:18:42.460569Z",
     "iopub.status.idle": "2022-06-13T08:18:42.811234Z",
     "shell.execute_reply": "2022-06-13T08:18:42.810631Z"
    }
   },
   "outputs": [],
   "source": [
    "r = requests.get(url)"
   ]
  },
  {
   "cell_type": "code",
   "execution_count": 8,
   "metadata": {
    "execution": {
     "iopub.execute_input": "2022-06-13T08:18:42.816631Z",
     "iopub.status.busy": "2022-06-13T08:18:42.813786Z",
     "iopub.status.idle": "2022-06-13T08:18:42.820747Z",
     "shell.execute_reply": "2022-06-13T08:18:42.821745Z"
    }
   },
   "outputs": [],
   "source": [
    "data = r.json()"
   ]
  },
  {
   "cell_type": "markdown",
   "metadata": {},
   "source": [
    "## Parse"
   ]
  },
  {
   "cell_type": "code",
   "execution_count": 9,
   "metadata": {
    "execution": {
     "iopub.execute_input": "2022-06-13T08:18:42.826741Z",
     "iopub.status.busy": "2022-06-13T08:18:42.826132Z",
     "iopub.status.idle": "2022-06-13T08:18:42.831232Z",
     "shell.execute_reply": "2022-06-13T08:18:42.831724Z"
    }
   },
   "outputs": [],
   "source": [
    "values = []"
   ]
  },
  {
   "cell_type": "code",
   "execution_count": 10,
   "metadata": {
    "execution": {
     "iopub.execute_input": "2022-06-13T08:18:42.836310Z",
     "iopub.status.busy": "2022-06-13T08:18:42.835692Z",
     "iopub.status.idle": "2022-06-13T08:18:42.970322Z",
     "shell.execute_reply": "2022-06-13T08:18:42.968256Z"
    }
   },
   "outputs": [
    {
     "ename": "KeyError",
     "evalue": "'features'",
     "output_type": "error",
     "traceback": [
      "\u001b[0;31m---------------------------------------------------------------------------\u001b[0m",
      "\u001b[0;31mKeyError\u001b[0m                                  Traceback (most recent call last)",
      "\u001b[0;32m/tmp/ipykernel_1748/1960864854.py\u001b[0m in \u001b[0;36m<module>\u001b[0;34m\u001b[0m\n\u001b[0;32m----> 1\u001b[0;31m \u001b[0;32mfor\u001b[0m \u001b[0mf\u001b[0m \u001b[0;32min\u001b[0m \u001b[0mdata\u001b[0m\u001b[0;34m[\u001b[0m\u001b[0;34m\"features\"\u001b[0m\u001b[0;34m]\u001b[0m\u001b[0;34m:\u001b[0m\u001b[0;34m\u001b[0m\u001b[0;34m\u001b[0m\u001b[0m\n\u001b[0m\u001b[1;32m      2\u001b[0m     \u001b[0mrow\u001b[0m \u001b[0;34m=\u001b[0m \u001b[0mf\u001b[0m\u001b[0;34m[\u001b[0m\u001b[0;34m\"attributes\"\u001b[0m\u001b[0;34m]\u001b[0m\u001b[0;34m.\u001b[0m\u001b[0mvalues\u001b[0m\u001b[0;34m(\u001b[0m\u001b[0;34m)\u001b[0m\u001b[0;34m\u001b[0m\u001b[0;34m\u001b[0m\u001b[0m\n\u001b[1;32m      3\u001b[0m     \u001b[0mvalues\u001b[0m\u001b[0;34m.\u001b[0m\u001b[0mappend\u001b[0m\u001b[0;34m(\u001b[0m\u001b[0mrow\u001b[0m\u001b[0;34m)\u001b[0m\u001b[0;34m\u001b[0m\u001b[0;34m\u001b[0m\u001b[0m\n",
      "\u001b[0;31mKeyError\u001b[0m: 'features'"
     ]
    }
   ],
   "source": [
    "for f in data[\"features\"]:\n",
    "    row = f[\"attributes\"].values()\n",
    "    values.append(row)"
   ]
  },
  {
   "cell_type": "code",
   "execution_count": 11,
   "metadata": {},
   "outputs": [],
   "source": [
    "cols = list(data[\"features\"][0][\"attributes\"].keys())"
   ]
  },
  {
   "cell_type": "markdown",
   "metadata": {},
   "source": [
    "Convert to dataframe"
   ]
  },
  {
   "cell_type": "code",
   "execution_count": 12,
   "metadata": {},
   "outputs": [],
   "source": [
    "df = pd.DataFrame(values, columns=cols)"
   ]
  },
  {
   "cell_type": "markdown",
   "metadata": {},
   "source": [
    "Get timestamp"
   ]
  },
  {
   "cell_type": "code",
   "execution_count": 13,
   "metadata": {},
   "outputs": [],
   "source": [
    "date_url = \"https://services5.arcgis.com/ROBnTHSNjoZ2Wm1P/ArcGIS/rest/services/COVID_19_Case_Rates_by_Zip_Code/FeatureServer/0/?f=json\""
   ]
  },
  {
   "cell_type": "code",
   "execution_count": 14,
   "metadata": {},
   "outputs": [],
   "source": [
    "date_r = requests.get(date_url)"
   ]
  },
  {
   "cell_type": "code",
   "execution_count": 15,
   "metadata": {},
   "outputs": [],
   "source": [
    "date_data = date_r.json()"
   ]
  },
  {
   "cell_type": "code",
   "execution_count": 16,
   "metadata": {},
   "outputs": [],
   "source": [
    "timestamp = date_data[\"editingInfo\"][\"lastEditDate\"]"
   ]
  },
  {
   "cell_type": "code",
   "execution_count": 17,
   "metadata": {},
   "outputs": [],
   "source": [
    "timestamp = datetime.fromtimestamp((timestamp / 1000))"
   ]
  },
  {
   "cell_type": "code",
   "execution_count": 18,
   "metadata": {},
   "outputs": [],
   "source": [
    "update_date = pd.to_datetime(timestamp).date()"
   ]
  },
  {
   "cell_type": "markdown",
   "metadata": {},
   "source": [
    "Add the timestamp to the dataframe"
   ]
  },
  {
   "cell_type": "code",
   "execution_count": 19,
   "metadata": {},
   "outputs": [],
   "source": [
    "df[\"county_date\"] = update_date"
   ]
  },
  {
   "cell_type": "markdown",
   "metadata": {},
   "source": [
    "Rename and trim"
   ]
  },
  {
   "cell_type": "code",
   "execution_count": 20,
   "metadata": {},
   "outputs": [],
   "source": [
    "clean_df = df[[\"Zip_Alpha\", \"Cases\", \"county_date\"]].rename(\n",
    "    columns={\"Zip_Alpha\": \"zip\", \"Cases\": \"confirmed_cases\"}\n",
    ")"
   ]
  },
  {
   "cell_type": "markdown",
   "metadata": {},
   "source": [
    "Match city names to zips"
   ]
  },
  {
   "cell_type": "code",
   "execution_count": 21,
   "metadata": {},
   "outputs": [],
   "source": [
    "zips = [\n",
    "    \"94502\",\n",
    "    \"94577\",\n",
    "    \"94579\",\n",
    "    \"94603\",\n",
    "    \"94605\",\n",
    "    \"94621\",\n",
    "    \"94501\",\n",
    "    \"94606\",\n",
    "    \"94607\",\n",
    "    \"94610\",\n",
    "    \"94612\",\n",
    "    \"94608\",\n",
    "    \"94609\",\n",
    "    \"94618\",\n",
    "    \"94702\",\n",
    "    \"94703\",\n",
    "    \"94704\",\n",
    "    \"94705\",\n",
    "    \"94709\",\n",
    "    \"94710\",\n",
    "    \"94720\",\n",
    "    \"94601\",\n",
    "    \"94602\",\n",
    "    \"94611\",\n",
    "    \"94613\",\n",
    "    \"94619\",\n",
    "    \"94706\",\n",
    "    \"94707\",\n",
    "    \"94708\",\n",
    "    \"94538\",\n",
    "    \"94555\",\n",
    "    \"94560\",\n",
    "    \"94539\",\n",
    "    \"94550\",\n",
    "    \"94536\",\n",
    "    \"94542\",\n",
    "    \"94544\",\n",
    "    \"94545\",\n",
    "    \"94587\",\n",
    "    \"94541\",\n",
    "    \"94546\",\n",
    "    \"94552\",\n",
    "    \"94578\",\n",
    "    \"94580\",\n",
    "    \"94566\",\n",
    "    \"94568\",\n",
    "    \"94586\",\n",
    "    \"94588\",\n",
    "    \"94551\",\n",
    "    \"95391\",\n",
    "    \"94514\",\n",
    "    \"94505\",\n",
    "    \"95377\",\n",
    "]"
   ]
  },
  {
   "cell_type": "code",
   "execution_count": 22,
   "metadata": {},
   "outputs": [],
   "source": [
    "cities = [\n",
    "    \"Alameda\",\n",
    "    \"San Leandro\",\n",
    "    \"San Leandro\",\n",
    "    \"Oakland\",\n",
    "    \"Oakland\",\n",
    "    \"Oakland\",\n",
    "    \"Alameda\",\n",
    "    \"Oakland\",\n",
    "    \"Oakland\",\n",
    "    \"Oakland\",\n",
    "    \"Oakland\",\n",
    "    \"Emeryville\",\n",
    "    \"Oakland\",\n",
    "    \"Oakland\",\n",
    "    \"Berkeley\",\n",
    "    \"Berkeley\",\n",
    "    \"Berkeley\",\n",
    "    \"Berkeley\",\n",
    "    \"Berkeley\",\n",
    "    \"Berkeley\",\n",
    "    \"Berkeley\",\n",
    "    \"Oakland\",\n",
    "    \"Oakland\",\n",
    "    \"Oakland\",\n",
    "    \"Oakland\",\n",
    "    \"Oakland\",\n",
    "    \"Albany\",\n",
    "    \"Berkeley\",\n",
    "    \"Berkeley\",\n",
    "    \"Fremont\",\n",
    "    \"Fremont\",\n",
    "    \"Newark\",\n",
    "    \"Fremont\",\n",
    "    \"Livermore\",\n",
    "    \"Fremont\",\n",
    "    \"Hayward\",\n",
    "    \"Hayward\",\n",
    "    \"Hayward\",\n",
    "    \"Union City\",\n",
    "    \"Hayward\",\n",
    "    \"Castro Valley\",\n",
    "    \"Castro Valley\",\n",
    "    \"San Leandro\",\n",
    "    \"San Lorenzo\",\n",
    "    \"Pleasanton\",\n",
    "    \"Dublin\",\n",
    "    \"Sunol\",\n",
    "    \"Pleasanton\",\n",
    "    \"Livermore\",\n",
    "    \"Mountain House\",\n",
    "    \"Byron\",\n",
    "    \"Discovery Bay\",\n",
    "    \"Tracy\",\n",
    "]"
   ]
  },
  {
   "cell_type": "code",
   "execution_count": 23,
   "metadata": {},
   "outputs": [],
   "source": [
    "d = {\"zip\": zips, \"city\": cities}"
   ]
  },
  {
   "cell_type": "code",
   "execution_count": 24,
   "metadata": {},
   "outputs": [],
   "source": [
    "matchup_df = pd.DataFrame(d)"
   ]
  },
  {
   "cell_type": "code",
   "execution_count": 25,
   "metadata": {},
   "outputs": [],
   "source": [
    "merge_df = pd.merge(clean_df, matchup_df, how=\"left\", on=\"zip\")"
   ]
  },
  {
   "cell_type": "code",
   "execution_count": 26,
   "metadata": {},
   "outputs": [],
   "source": [
    "merge_df[\"area\"] = merge_df[\"zip\"] + \": \" + merge_df[\"city\"]"
   ]
  },
  {
   "cell_type": "markdown",
   "metadata": {},
   "source": [
    "Clean up"
   ]
  },
  {
   "cell_type": "code",
   "execution_count": 27,
   "metadata": {},
   "outputs": [],
   "source": [
    "merge_df[\"county\"] = \"Alameda\""
   ]
  },
  {
   "cell_type": "code",
   "execution_count": 28,
   "metadata": {},
   "outputs": [],
   "source": [
    "merge_df = merge_df[[\"county\", \"area\", \"county_date\", \"confirmed_cases\"]]"
   ]
  },
  {
   "cell_type": "markdown",
   "metadata": {},
   "source": [
    "Drop mysterious blank rows"
   ]
  },
  {
   "cell_type": "code",
   "execution_count": 29,
   "metadata": {},
   "outputs": [],
   "source": [
    "filter_df = merge_df.dropna(subset=[\"area\"])"
   ]
  },
  {
   "cell_type": "markdown",
   "metadata": {},
   "source": [
    "Fill empty cases with 0"
   ]
  },
  {
   "cell_type": "code",
   "execution_count": 30,
   "metadata": {},
   "outputs": [],
   "source": [
    "filter_df[\"confirmed_cases\"] = filter_df.confirmed_cases.fillna(0)"
   ]
  },
  {
   "cell_type": "markdown",
   "metadata": {},
   "source": [
    "Filter down to the latest date"
   ]
  },
  {
   "cell_type": "code",
   "execution_count": 31,
   "metadata": {},
   "outputs": [],
   "source": [
    "export_df = filter_df[filter_df.county_date == filter_df.county_date.max()]"
   ]
  },
  {
   "cell_type": "markdown",
   "metadata": {},
   "source": [
    "## Vet"
   ]
  },
  {
   "cell_type": "code",
   "execution_count": 32,
   "metadata": {},
   "outputs": [],
   "source": [
    "try:\n",
    "    assert not len(export_df) > 53\n",
    "except AssertionError:\n",
    "    raise AssertionError(\"Alameda scraper has additional rows than before\")"
   ]
  },
  {
   "cell_type": "code",
   "execution_count": 33,
   "metadata": {},
   "outputs": [],
   "source": [
    "try:\n",
    "    assert not len(export_df) < 53\n",
    "except AssertionError:\n",
    "    raise AssertionError(\"Alameda County scraper is missing rows\")"
   ]
  },
  {
   "cell_type": "markdown",
   "metadata": {},
   "source": [
    "## Export"
   ]
  },
  {
   "cell_type": "markdown",
   "metadata": {},
   "source": [
    "Mark the current date"
   ]
  },
  {
   "cell_type": "code",
   "execution_count": 34,
   "metadata": {},
   "outputs": [],
   "source": [
    "tz = pytz.timezone(\"America/Los_Angeles\")"
   ]
  },
  {
   "cell_type": "code",
   "execution_count": 35,
   "metadata": {},
   "outputs": [],
   "source": [
    "today = datetime.now(tz).date()"
   ]
  },
  {
   "cell_type": "code",
   "execution_count": 36,
   "metadata": {},
   "outputs": [],
   "source": [
    "slug = slugify(\"Alameda\")"
   ]
  },
  {
   "cell_type": "code",
   "execution_count": 37,
   "metadata": {},
   "outputs": [],
   "source": [
    "export_df.to_csv(data_dir / slug / f\"{today}.csv\", index=False)"
   ]
  },
  {
   "cell_type": "markdown",
   "metadata": {
    "tags": []
   },
   "source": [
    "## Combine"
   ]
  },
  {
   "cell_type": "code",
   "execution_count": 38,
   "metadata": {},
   "outputs": [],
   "source": [
    "csv_list = [\n",
    "    i\n",
    "    for i in glob.glob(str(data_dir / slug / \"*.csv\"))\n",
    "    if not str(i).endswith(\"timeseries.csv\")\n",
    "]"
   ]
  },
  {
   "cell_type": "code",
   "execution_count": 39,
   "metadata": {},
   "outputs": [],
   "source": [
    "df_list = []\n",
    "for csv in csv_list:\n",
    "    if \"manual\" in csv:\n",
    "        df = pd.read_csv(csv, parse_dates=[\"date\"])\n",
    "    else:\n",
    "        file_date = csv.split(\"/\")[-1].replace(\".csv\", \"\")\n",
    "        df = pd.read_csv(csv, parse_dates=[\"county_date\"])\n",
    "        df[\"date\"] = file_date\n",
    "    df_list.append(df)"
   ]
  },
  {
   "cell_type": "code",
   "execution_count": 40,
   "metadata": {},
   "outputs": [],
   "source": [
    "df = pd.concat(df_list).sort_values([\"date\", \"area\"])"
   ]
  },
  {
   "cell_type": "code",
   "execution_count": 41,
   "metadata": {},
   "outputs": [],
   "source": [
    "df.to_csv(os.path.join(data_dir / slug / \"timeseries.csv\"), index=False)"
   ]
  }
 ],
 "metadata": {
  "kernelspec": {
   "display_name": "Python 3 (ipykernel)",
   "language": "python",
   "name": "python3"
  },
  "language_info": {
   "codemirror_mode": {
    "name": "ipython",
    "version": 3
   },
   "file_extension": ".py",
   "mimetype": "text/x-python",
   "name": "python",
   "nbconvert_exporter": "python",
   "pygments_lexer": "ipython3",
   "version": "3.8.12"
  }
 },
 "nbformat": 4,
 "nbformat_minor": 4
}
