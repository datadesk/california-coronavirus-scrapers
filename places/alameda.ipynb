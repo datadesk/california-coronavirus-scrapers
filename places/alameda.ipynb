{
 "cells": [
  {
   "cell_type": "markdown",
   "metadata": {},
   "source": [
    "## Configuration\n",
    "_Initial steps to get the notebook ready to play nice with our repository. Do not delete this section._"
   ]
  },
  {
   "cell_type": "markdown",
   "metadata": {},
   "source": [
    "Code formatting with [black](https://pypi.org/project/nb-black/)."
   ]
  },
  {
   "cell_type": "code",
   "execution_count": 1,
   "metadata": {
    "execution": {
     "iopub.execute_input": "2023-01-12T16:55:10.842946Z",
     "iopub.status.busy": "2023-01-12T16:55:10.842189Z",
     "iopub.status.idle": "2023-01-12T16:55:11.033995Z",
     "shell.execute_reply": "2023-01-12T16:55:11.033274Z"
    }
   },
   "outputs": [],
   "source": [
    "%load_ext lab_black"
   ]
  },
  {
   "cell_type": "markdown",
   "metadata": {},
   "source": [
    "Add our `utils` directory to the system's `$PATH` so we can import Python files from sibling directories."
   ]
  },
  {
   "cell_type": "code",
   "execution_count": 2,
   "metadata": {
    "execution": {
     "iopub.execute_input": "2023-01-12T16:55:11.038607Z",
     "iopub.status.busy": "2023-01-12T16:55:11.037996Z",
     "iopub.status.idle": "2023-01-12T16:55:11.040567Z",
     "shell.execute_reply": "2023-01-12T16:55:11.040119Z"
    }
   },
   "outputs": [],
   "source": [
    "import os\n",
    "import pathlib"
   ]
  },
  {
   "cell_type": "code",
   "execution_count": 3,
   "metadata": {
    "execution": {
     "iopub.execute_input": "2023-01-12T16:55:11.049807Z",
     "iopub.status.busy": "2023-01-12T16:55:11.048550Z",
     "iopub.status.idle": "2023-01-12T16:55:11.050410Z",
     "shell.execute_reply": "2023-01-12T16:55:11.050883Z"
    }
   },
   "outputs": [],
   "source": [
    "this_dir = pathlib.Path(os.path.abspath(\"\"))"
   ]
  },
  {
   "cell_type": "code",
   "execution_count": 4,
   "metadata": {
    "execution": {
     "iopub.execute_input": "2023-01-12T16:55:11.054864Z",
     "iopub.status.busy": "2023-01-12T16:55:11.054325Z",
     "iopub.status.idle": "2023-01-12T16:55:11.057206Z",
     "shell.execute_reply": "2023-01-12T16:55:11.057588Z"
    }
   },
   "outputs": [],
   "source": [
    "data_dir = this_dir / \"data\""
   ]
  },
  {
   "cell_type": "code",
   "execution_count": 5,
   "metadata": {
    "execution": {
     "iopub.execute_input": "2023-01-12T16:55:11.061832Z",
     "iopub.status.busy": "2023-01-12T16:55:11.061303Z",
     "iopub.status.idle": "2023-01-12T16:55:11.377961Z",
     "shell.execute_reply": "2023-01-12T16:55:11.377353Z"
    }
   },
   "outputs": [],
   "source": [
    "import pytz\n",
    "import glob\n",
    "import requests\n",
    "import pandas as pd\n",
    "from slugify import slugify\n",
    "from datetime import datetime, date"
   ]
  },
  {
   "cell_type": "markdown",
   "metadata": {},
   "source": [
    "## Download"
   ]
  },
  {
   "cell_type": "code",
   "execution_count": 6,
   "metadata": {
    "execution": {
     "iopub.execute_input": "2023-01-12T16:55:11.381915Z",
     "iopub.status.busy": "2023-01-12T16:55:11.381270Z",
     "iopub.status.idle": "2023-01-12T16:55:11.389745Z",
     "shell.execute_reply": "2023-01-12T16:55:11.389277Z"
    }
   },
   "outputs": [],
   "source": [
    "url = \"https://services5.arcgis.com/ROBnTHSNjoZ2Wm1P/ArcGIS/rest/services/COVID_19_Case_Rates_by_Zip_Code_WM/FeatureServer/0/query?where=1%3D1&objectIds=&time=&geometry=&geometryType=esriGeometryEnvelope&inSR=&spatialRel=esriSpatialRelIntersects&resultType=none&distance=0.0&units=esriSRUnit_Meter&returnGeodetic=false&outFields=*&returnGeometry=true&returnCentroid=false&featureEncoding=esriDefault&multipatchOption=xyFootprint&maxAllowableOffset=&geometryPrecision=&outSR=&datumTransformation=&applyVCSProjection=false&returnIdsOnly=false&returnUniqueIdsOnly=false&returnCountOnly=false&returnExtentOnly=false&returnQueryGeometry=false&returnDistinctValues=false&cacheHint=false&orderByFields=&groupByFieldsForStatistics=&outStatistics=&having=&resultOffset=&resultRecordCount=&returnZ=false&returnM=false&returnExceededLimitFeatures=true&quantizationParameters=&sqlFormat=none&f=pjson&token=\""
   ]
  },
  {
   "cell_type": "code",
   "execution_count": 7,
   "metadata": {
    "execution": {
     "iopub.execute_input": "2023-01-12T16:55:11.394392Z",
     "iopub.status.busy": "2023-01-12T16:55:11.393866Z",
     "iopub.status.idle": "2023-01-12T16:55:12.092709Z",
     "shell.execute_reply": "2023-01-12T16:55:12.092109Z"
    }
   },
   "outputs": [],
   "source": [
    "r = requests.get(url)"
   ]
  },
  {
   "cell_type": "code",
   "execution_count": 8,
   "metadata": {
    "execution": {
     "iopub.execute_input": "2023-01-12T16:55:12.097295Z",
     "iopub.status.busy": "2023-01-12T16:55:12.096649Z",
     "iopub.status.idle": "2023-01-12T16:55:12.099624Z",
     "shell.execute_reply": "2023-01-12T16:55:12.100093Z"
    }
   },
   "outputs": [],
   "source": [
    "data = r.json()"
   ]
  },
  {
   "cell_type": "markdown",
   "metadata": {},
   "source": [
    "## Parse"
   ]
  },
  {
   "cell_type": "code",
   "execution_count": 9,
   "metadata": {
    "execution": {
     "iopub.execute_input": "2023-01-12T16:55:12.105768Z",
     "iopub.status.busy": "2023-01-12T16:55:12.104608Z",
     "iopub.status.idle": "2023-01-12T16:55:12.106407Z",
     "shell.execute_reply": "2023-01-12T16:55:12.106886Z"
    }
   },
   "outputs": [],
   "source": [
    "values = []"
   ]
  },
  {
   "cell_type": "code",
   "execution_count": 10,
   "metadata": {
    "execution": {
     "iopub.execute_input": "2023-01-12T16:55:12.112950Z",
     "iopub.status.busy": "2023-01-12T16:55:12.112367Z",
     "iopub.status.idle": "2023-01-12T16:55:12.251654Z",
     "shell.execute_reply": "2023-01-12T16:55:12.252145Z"
    }
   },
   "outputs": [
    {
     "ename": "KeyError",
     "evalue": "'features'",
     "output_type": "error",
     "traceback": [
      "\u001b[0;31m---------------------------------------------------------------------------\u001b[0m",
      "\u001b[0;31mKeyError\u001b[0m                                  Traceback (most recent call last)",
      "\u001b[0;32m/tmp/ipykernel_1806/1960864854.py\u001b[0m in \u001b[0;36m<module>\u001b[0;34m\u001b[0m\n\u001b[0;32m----> 1\u001b[0;31m \u001b[0;32mfor\u001b[0m \u001b[0mf\u001b[0m \u001b[0;32min\u001b[0m \u001b[0mdata\u001b[0m\u001b[0;34m[\u001b[0m\u001b[0;34m\"features\"\u001b[0m\u001b[0;34m]\u001b[0m\u001b[0;34m:\u001b[0m\u001b[0;34m\u001b[0m\u001b[0;34m\u001b[0m\u001b[0m\n\u001b[0m\u001b[1;32m      2\u001b[0m     \u001b[0mrow\u001b[0m \u001b[0;34m=\u001b[0m \u001b[0mf\u001b[0m\u001b[0;34m[\u001b[0m\u001b[0;34m\"attributes\"\u001b[0m\u001b[0;34m]\u001b[0m\u001b[0;34m.\u001b[0m\u001b[0mvalues\u001b[0m\u001b[0;34m(\u001b[0m\u001b[0;34m)\u001b[0m\u001b[0;34m\u001b[0m\u001b[0;34m\u001b[0m\u001b[0m\n\u001b[1;32m      3\u001b[0m     \u001b[0mvalues\u001b[0m\u001b[0;34m.\u001b[0m\u001b[0mappend\u001b[0m\u001b[0;34m(\u001b[0m\u001b[0mrow\u001b[0m\u001b[0;34m)\u001b[0m\u001b[0;34m\u001b[0m\u001b[0;34m\u001b[0m\u001b[0m\n",
      "\u001b[0;31mKeyError\u001b[0m: 'features'"
     ]
    }
   ],
   "source": [
    "for f in data[\"features\"]:\n",
    "    row = f[\"attributes\"].values()\n",
    "    values.append(row)"
   ]
  },
  {
   "cell_type": "code",
   "execution_count": 54,
   "metadata": {},
   "outputs": [],
   "source": [
    "cols = list(data[\"features\"][0][\"attributes\"].keys())"
   ]
  },
  {
   "cell_type": "markdown",
   "metadata": {},
   "source": [
    "Convert to dataframe"
   ]
  },
  {
   "cell_type": "code",
   "execution_count": 55,
   "metadata": {},
   "outputs": [],
   "source": [
    "df = pd.DataFrame(values, columns=cols)"
   ]
  },
  {
   "cell_type": "markdown",
   "metadata": {},
   "source": [
    "Get timestamp"
   ]
  },
  {
   "cell_type": "code",
   "execution_count": 56,
   "metadata": {},
   "outputs": [],
   "source": [
    "date_url = \"https://services5.arcgis.com/ROBnTHSNjoZ2Wm1P/ArcGIS/rest/services/COVID_19_Case_Rates_by_Zip_Code_WM/FeatureServer/0/?f=json\""
   ]
  },
  {
   "cell_type": "code",
   "execution_count": 57,
   "metadata": {},
   "outputs": [],
   "source": [
    "date_r = requests.get(date_url)"
   ]
  },
  {
   "cell_type": "code",
   "execution_count": 58,
   "metadata": {},
   "outputs": [],
   "source": [
    "date_data = date_r.json()"
   ]
  },
  {
   "cell_type": "code",
   "execution_count": 59,
   "metadata": {},
   "outputs": [],
   "source": [
    "timestamp = date_data[\"editingInfo\"][\"lastEditDate\"]"
   ]
  },
  {
   "cell_type": "code",
   "execution_count": 60,
   "metadata": {},
   "outputs": [],
   "source": [
    "timestamp = datetime.fromtimestamp((timestamp / 1000))"
   ]
  },
  {
   "cell_type": "code",
   "execution_count": 61,
   "metadata": {},
   "outputs": [],
   "source": [
    "update_date = pd.to_datetime(timestamp).date()"
   ]
  },
  {
   "cell_type": "markdown",
   "metadata": {},
   "source": [
    "Add the timestamp to the dataframe"
   ]
  },
  {
   "cell_type": "code",
   "execution_count": 62,
   "metadata": {},
   "outputs": [],
   "source": [
    "df[\"county_date\"] = update_date"
   ]
  },
  {
   "cell_type": "markdown",
   "metadata": {},
   "source": [
    "Rename and trim"
   ]
  },
  {
   "cell_type": "code",
   "execution_count": 63,
   "metadata": {},
   "outputs": [],
   "source": [
    "clean_df = df[[\"Zip_Alpha\", \"Cases\", \"county_date\"]].rename(\n",
    "    columns={\"Zip_Alpha\": \"zip\", \"Cases\": \"confirmed_cases\"}\n",
    ")"
   ]
  },
  {
   "cell_type": "markdown",
   "metadata": {},
   "source": [
    "Match city names to zips"
   ]
  },
  {
   "cell_type": "code",
   "execution_count": 64,
   "metadata": {},
   "outputs": [],
   "source": [
    "zips = [\n",
    "    \"94502\",\n",
    "    \"94577\",\n",
    "    \"94579\",\n",
    "    \"94603\",\n",
    "    \"94605\",\n",
    "    \"94621\",\n",
    "    \"94501\",\n",
    "    \"94606\",\n",
    "    \"94607\",\n",
    "    \"94610\",\n",
    "    \"94612\",\n",
    "    \"94608\",\n",
    "    \"94609\",\n",
    "    \"94618\",\n",
    "    \"94702\",\n",
    "    \"94703\",\n",
    "    \"94704\",\n",
    "    \"94705\",\n",
    "    \"94709\",\n",
    "    \"94710\",\n",
    "    \"94720\",\n",
    "    \"94601\",\n",
    "    \"94602\",\n",
    "    \"94611\",\n",
    "    \"94613\",\n",
    "    \"94619\",\n",
    "    \"94706\",\n",
    "    \"94707\",\n",
    "    \"94708\",\n",
    "    \"94538\",\n",
    "    \"94555\",\n",
    "    \"94560\",\n",
    "    \"94539\",\n",
    "    \"94550\",\n",
    "    \"94536\",\n",
    "    \"94542\",\n",
    "    \"94544\",\n",
    "    \"94545\",\n",
    "    \"94587\",\n",
    "    \"94541\",\n",
    "    \"94546\",\n",
    "    \"94552\",\n",
    "    \"94578\",\n",
    "    \"94580\",\n",
    "    \"94566\",\n",
    "    \"94568\",\n",
    "    \"94586\",\n",
    "    \"94588\",\n",
    "    \"94551\",\n",
    "    \"95391\",\n",
    "    \"94514\",\n",
    "    \"94505\",\n",
    "    \"95377\",\n",
    "]"
   ]
  },
  {
   "cell_type": "code",
   "execution_count": 65,
   "metadata": {},
   "outputs": [],
   "source": [
    "cities = [\n",
    "    \"Alameda\",\n",
    "    \"San Leandro\",\n",
    "    \"San Leandro\",\n",
    "    \"Oakland\",\n",
    "    \"Oakland\",\n",
    "    \"Oakland\",\n",
    "    \"Alameda\",\n",
    "    \"Oakland\",\n",
    "    \"Oakland\",\n",
    "    \"Oakland\",\n",
    "    \"Oakland\",\n",
    "    \"Emeryville\",\n",
    "    \"Oakland\",\n",
    "    \"Oakland\",\n",
    "    \"Berkeley\",\n",
    "    \"Berkeley\",\n",
    "    \"Berkeley\",\n",
    "    \"Berkeley\",\n",
    "    \"Berkeley\",\n",
    "    \"Berkeley\",\n",
    "    \"Berkeley\",\n",
    "    \"Oakland\",\n",
    "    \"Oakland\",\n",
    "    \"Oakland\",\n",
    "    \"Oakland\",\n",
    "    \"Oakland\",\n",
    "    \"Albany\",\n",
    "    \"Berkeley\",\n",
    "    \"Berkeley\",\n",
    "    \"Fremont\",\n",
    "    \"Fremont\",\n",
    "    \"Newark\",\n",
    "    \"Fremont\",\n",
    "    \"Livermore\",\n",
    "    \"Fremont\",\n",
    "    \"Hayward\",\n",
    "    \"Hayward\",\n",
    "    \"Hayward\",\n",
    "    \"Union City\",\n",
    "    \"Hayward\",\n",
    "    \"Castro Valley\",\n",
    "    \"Castro Valley\",\n",
    "    \"San Leandro\",\n",
    "    \"San Lorenzo\",\n",
    "    \"Pleasanton\",\n",
    "    \"Dublin\",\n",
    "    \"Sunol\",\n",
    "    \"Pleasanton\",\n",
    "    \"Livermore\",\n",
    "    \"Mountain House\",\n",
    "    \"Byron\",\n",
    "    \"Discovery Bay\",\n",
    "    \"Tracy\",\n",
    "]"
   ]
  },
  {
   "cell_type": "code",
   "execution_count": 66,
   "metadata": {},
   "outputs": [],
   "source": [
    "d = {\"zip\": zips, \"city\": cities}"
   ]
  },
  {
   "cell_type": "code",
   "execution_count": 67,
   "metadata": {},
   "outputs": [],
   "source": [
    "matchup_df = pd.DataFrame(d)"
   ]
  },
  {
   "cell_type": "code",
   "execution_count": 68,
   "metadata": {},
   "outputs": [],
   "source": [
    "merge_df = pd.merge(clean_df, matchup_df, how=\"left\", on=\"zip\")"
   ]
  },
  {
   "cell_type": "code",
   "execution_count": 69,
   "metadata": {},
   "outputs": [],
   "source": [
    "merge_df[\"area\"] = merge_df[\"zip\"] + \": \" + merge_df[\"city\"]"
   ]
  },
  {
   "cell_type": "markdown",
   "metadata": {},
   "source": [
    "Clean up"
   ]
  },
  {
   "cell_type": "code",
   "execution_count": 70,
   "metadata": {},
   "outputs": [],
   "source": [
    "merge_df[\"county\"] = \"Alameda\""
   ]
  },
  {
   "cell_type": "code",
   "execution_count": 71,
   "metadata": {},
   "outputs": [],
   "source": [
    "merge_df = merge_df[[\"county\", \"area\", \"county_date\", \"confirmed_cases\"]]"
   ]
  },
  {
   "cell_type": "markdown",
   "metadata": {},
   "source": [
    "Drop mysterious blank rows"
   ]
  },
  {
   "cell_type": "code",
   "execution_count": 72,
   "metadata": {},
   "outputs": [],
   "source": [
    "filter_df = merge_df.dropna(subset=[\"area\"])"
   ]
  },
  {
   "cell_type": "markdown",
   "metadata": {},
   "source": [
    "Fill empty cases with 0"
   ]
  },
  {
   "cell_type": "code",
   "execution_count": 73,
   "metadata": {},
   "outputs": [],
   "source": [
    "filter_df[\"confirmed_cases\"] = filter_df.confirmed_cases.fillna(0)"
   ]
  },
  {
   "cell_type": "markdown",
   "metadata": {},
   "source": [
    "Filter down to the latest date"
   ]
  },
  {
   "cell_type": "code",
   "execution_count": 74,
   "metadata": {},
   "outputs": [],
   "source": [
    "export_df = filter_df[filter_df.county_date == filter_df.county_date.max()]"
   ]
  },
  {
   "cell_type": "markdown",
   "metadata": {},
   "source": [
    "## Vet"
   ]
  },
  {
   "cell_type": "code",
   "execution_count": 75,
   "metadata": {},
   "outputs": [],
   "source": [
    "try:\n",
    "    assert not len(export_df) > 53\n",
    "except AssertionError:\n",
    "    raise AssertionError(\"Alameda scraper has additional rows than before\")"
   ]
  },
  {
   "cell_type": "code",
   "execution_count": 76,
   "metadata": {},
   "outputs": [],
   "source": [
    "try:\n",
    "    assert not len(export_df) < 53\n",
    "except AssertionError:\n",
    "    raise AssertionError(\"Alameda County scraper is missing rows\")"
   ]
  },
  {
   "cell_type": "code",
   "execution_count": 77,
   "metadata": {},
   "outputs": [
    {
     "data": {
      "text/html": [
       "<div>\n",
       "<style scoped>\n",
       "    .dataframe tbody tr th:only-of-type {\n",
       "        vertical-align: middle;\n",
       "    }\n",
       "\n",
       "    .dataframe tbody tr th {\n",
       "        vertical-align: top;\n",
       "    }\n",
       "\n",
       "    .dataframe thead th {\n",
       "        text-align: right;\n",
       "    }\n",
       "</style>\n",
       "<table border=\"1\" class=\"dataframe\">\n",
       "  <thead>\n",
       "    <tr style=\"text-align: right;\">\n",
       "      <th></th>\n",
       "      <th>county</th>\n",
       "      <th>area</th>\n",
       "      <th>county_date</th>\n",
       "      <th>confirmed_cases</th>\n",
       "    </tr>\n",
       "  </thead>\n",
       "  <tbody>\n",
       "    <tr>\n",
       "      <th>0</th>\n",
       "      <td>Alameda</td>\n",
       "      <td>94502: Alameda</td>\n",
       "      <td>2022-06-16</td>\n",
       "      <td>1520</td>\n",
       "    </tr>\n",
       "    <tr>\n",
       "      <th>1</th>\n",
       "      <td>Alameda</td>\n",
       "      <td>94706: Albany</td>\n",
       "      <td>2022-06-16</td>\n",
       "      <td>2042</td>\n",
       "    </tr>\n",
       "    <tr>\n",
       "      <th>2</th>\n",
       "      <td>Alameda</td>\n",
       "      <td>94709: Berkeley</td>\n",
       "      <td>2022-06-16</td>\n",
       "      <td>1335</td>\n",
       "    </tr>\n",
       "    <tr>\n",
       "      <th>3</th>\n",
       "      <td>Alameda</td>\n",
       "      <td>94710: Berkeley</td>\n",
       "      <td>2022-06-16</td>\n",
       "      <td>1675</td>\n",
       "    </tr>\n",
       "    <tr>\n",
       "      <th>4</th>\n",
       "      <td>Alameda</td>\n",
       "      <td>94587: Union City</td>\n",
       "      <td>2022-06-16</td>\n",
       "      <td>13078</td>\n",
       "    </tr>\n",
       "    <tr>\n",
       "      <th>5</th>\n",
       "      <td>Alameda</td>\n",
       "      <td>94577: San Leandro</td>\n",
       "      <td>2022-06-16</td>\n",
       "      <td>9594</td>\n",
       "    </tr>\n",
       "    <tr>\n",
       "      <th>6</th>\n",
       "      <td>Alameda</td>\n",
       "      <td>94605: Oakland</td>\n",
       "      <td>2022-06-16</td>\n",
       "      <td>9075</td>\n",
       "    </tr>\n",
       "    <tr>\n",
       "      <th>7</th>\n",
       "      <td>Alameda</td>\n",
       "      <td>94606: Oakland</td>\n",
       "      <td>2022-06-16</td>\n",
       "      <td>7126</td>\n",
       "    </tr>\n",
       "    <tr>\n",
       "      <th>8</th>\n",
       "      <td>Alameda</td>\n",
       "      <td>94608: Emeryville</td>\n",
       "      <td>2022-06-16</td>\n",
       "      <td>5735</td>\n",
       "    </tr>\n",
       "    <tr>\n",
       "      <th>9</th>\n",
       "      <td>Alameda</td>\n",
       "      <td>94610: Oakland</td>\n",
       "      <td>2022-06-16</td>\n",
       "      <td>4364</td>\n",
       "    </tr>\n",
       "    <tr>\n",
       "      <th>10</th>\n",
       "      <td>Alameda</td>\n",
       "      <td>94702: Berkeley</td>\n",
       "      <td>2022-06-16</td>\n",
       "      <td>2613</td>\n",
       "    </tr>\n",
       "    <tr>\n",
       "      <th>11</th>\n",
       "      <td>Alameda</td>\n",
       "      <td>94703: Berkeley</td>\n",
       "      <td>2022-06-16</td>\n",
       "      <td>2873</td>\n",
       "    </tr>\n",
       "    <tr>\n",
       "      <th>12</th>\n",
       "      <td>Alameda</td>\n",
       "      <td>94704: Berkeley</td>\n",
       "      <td>2022-06-16</td>\n",
       "      <td>4519</td>\n",
       "    </tr>\n",
       "    <tr>\n",
       "      <th>13</th>\n",
       "      <td>Alameda</td>\n",
       "      <td>94705: Berkeley</td>\n",
       "      <td>2022-06-16</td>\n",
       "      <td>1587</td>\n",
       "    </tr>\n",
       "    <tr>\n",
       "      <th>14</th>\n",
       "      <td>Alameda</td>\n",
       "      <td>94720: Berkeley</td>\n",
       "      <td>2022-06-16</td>\n",
       "      <td>969</td>\n",
       "    </tr>\n",
       "    <tr>\n",
       "      <th>15</th>\n",
       "      <td>Alameda</td>\n",
       "      <td>94568: Dublin</td>\n",
       "      <td>2022-06-16</td>\n",
       "      <td>10997</td>\n",
       "    </tr>\n",
       "    <tr>\n",
       "      <th>16</th>\n",
       "      <td>Alameda</td>\n",
       "      <td>94707: Berkeley</td>\n",
       "      <td>2022-06-16</td>\n",
       "      <td>851</td>\n",
       "    </tr>\n",
       "    <tr>\n",
       "      <th>17</th>\n",
       "      <td>Alameda</td>\n",
       "      <td>94501: Alameda</td>\n",
       "      <td>2022-06-16</td>\n",
       "      <td>9314</td>\n",
       "    </tr>\n",
       "    <tr>\n",
       "      <th>18</th>\n",
       "      <td>Alameda</td>\n",
       "      <td>94619: Oakland</td>\n",
       "      <td>2022-06-16</td>\n",
       "      <td>4226</td>\n",
       "    </tr>\n",
       "    <tr>\n",
       "      <th>19</th>\n",
       "      <td>Alameda</td>\n",
       "      <td>94607: Oakland</td>\n",
       "      <td>2022-06-16</td>\n",
       "      <td>5732</td>\n",
       "    </tr>\n",
       "    <tr>\n",
       "      <th>20</th>\n",
       "      <td>Alameda</td>\n",
       "      <td>94609: Oakland</td>\n",
       "      <td>2022-06-16</td>\n",
       "      <td>4076</td>\n",
       "    </tr>\n",
       "    <tr>\n",
       "      <th>21</th>\n",
       "      <td>Alameda</td>\n",
       "      <td>94612: Oakland</td>\n",
       "      <td>2022-06-16</td>\n",
       "      <td>3358</td>\n",
       "    </tr>\n",
       "    <tr>\n",
       "      <th>22</th>\n",
       "      <td>Alameda</td>\n",
       "      <td>94618: Oakland</td>\n",
       "      <td>2022-06-16</td>\n",
       "      <td>1774</td>\n",
       "    </tr>\n",
       "    <tr>\n",
       "      <th>23</th>\n",
       "      <td>Alameda</td>\n",
       "      <td>94601: Oakland</td>\n",
       "      <td>2022-06-16</td>\n",
       "      <td>14495</td>\n",
       "    </tr>\n",
       "    <tr>\n",
       "      <th>24</th>\n",
       "      <td>Alameda</td>\n",
       "      <td>94602: Oakland</td>\n",
       "      <td>2022-06-16</td>\n",
       "      <td>4713</td>\n",
       "    </tr>\n",
       "    <tr>\n",
       "      <th>25</th>\n",
       "      <td>Alameda</td>\n",
       "      <td>94611: Oakland</td>\n",
       "      <td>2022-06-16</td>\n",
       "      <td>4901</td>\n",
       "    </tr>\n",
       "    <tr>\n",
       "      <th>26</th>\n",
       "      <td>Alameda</td>\n",
       "      <td>94603: Oakland</td>\n",
       "      <td>2022-06-16</td>\n",
       "      <td>10116</td>\n",
       "    </tr>\n",
       "    <tr>\n",
       "      <th>27</th>\n",
       "      <td>Alameda</td>\n",
       "      <td>94621: Oakland</td>\n",
       "      <td>2022-06-16</td>\n",
       "      <td>9844</td>\n",
       "    </tr>\n",
       "    <tr>\n",
       "      <th>28</th>\n",
       "      <td>Alameda</td>\n",
       "      <td>94588: Pleasanton</td>\n",
       "      <td>2022-06-16</td>\n",
       "      <td>4387</td>\n",
       "    </tr>\n",
       "    <tr>\n",
       "      <th>29</th>\n",
       "      <td>Alameda</td>\n",
       "      <td>94536: Fremont</td>\n",
       "      <td>2022-06-16</td>\n",
       "      <td>10491</td>\n",
       "    </tr>\n",
       "    <tr>\n",
       "      <th>30</th>\n",
       "      <td>Alameda</td>\n",
       "      <td>94555: Fremont</td>\n",
       "      <td>2022-06-16</td>\n",
       "      <td>4584</td>\n",
       "    </tr>\n",
       "    <tr>\n",
       "      <th>31</th>\n",
       "      <td>Alameda</td>\n",
       "      <td>94551: Livermore</td>\n",
       "      <td>2022-06-16</td>\n",
       "      <td>7330</td>\n",
       "    </tr>\n",
       "    <tr>\n",
       "      <th>32</th>\n",
       "      <td>Alameda</td>\n",
       "      <td>94566: Pleasanton</td>\n",
       "      <td>2022-06-16</td>\n",
       "      <td>5511</td>\n",
       "    </tr>\n",
       "    <tr>\n",
       "      <th>33</th>\n",
       "      <td>Alameda</td>\n",
       "      <td>94550: Livermore</td>\n",
       "      <td>2022-06-16</td>\n",
       "      <td>7781</td>\n",
       "    </tr>\n",
       "    <tr>\n",
       "      <th>34</th>\n",
       "      <td>Alameda</td>\n",
       "      <td>94541: Hayward</td>\n",
       "      <td>2022-06-16</td>\n",
       "      <td>16122</td>\n",
       "    </tr>\n",
       "    <tr>\n",
       "      <th>35</th>\n",
       "      <td>Alameda</td>\n",
       "      <td>94542: Hayward</td>\n",
       "      <td>2022-06-16</td>\n",
       "      <td>2437</td>\n",
       "    </tr>\n",
       "    <tr>\n",
       "      <th>36</th>\n",
       "      <td>Alameda</td>\n",
       "      <td>94544: Hayward</td>\n",
       "      <td>2022-06-16</td>\n",
       "      <td>19577</td>\n",
       "    </tr>\n",
       "    <tr>\n",
       "      <th>37</th>\n",
       "      <td>Alameda</td>\n",
       "      <td>94545: Hayward</td>\n",
       "      <td>2022-06-16</td>\n",
       "      <td>7421</td>\n",
       "    </tr>\n",
       "    <tr>\n",
       "      <th>38</th>\n",
       "      <td>Alameda</td>\n",
       "      <td>94552: Castro Valley</td>\n",
       "      <td>2022-06-16</td>\n",
       "      <td>1841</td>\n",
       "    </tr>\n",
       "    <tr>\n",
       "      <th>39</th>\n",
       "      <td>Alameda</td>\n",
       "      <td>94578: San Leandro</td>\n",
       "      <td>2022-06-16</td>\n",
       "      <td>9137</td>\n",
       "    </tr>\n",
       "    <tr>\n",
       "      <th>40</th>\n",
       "      <td>Alameda</td>\n",
       "      <td>94579: San Leandro</td>\n",
       "      <td>2022-06-16</td>\n",
       "      <td>4261</td>\n",
       "    </tr>\n",
       "    <tr>\n",
       "      <th>41</th>\n",
       "      <td>Alameda</td>\n",
       "      <td>94580: San Lorenzo</td>\n",
       "      <td>2022-06-16</td>\n",
       "      <td>6433</td>\n",
       "    </tr>\n",
       "    <tr>\n",
       "      <th>42</th>\n",
       "      <td>Alameda</td>\n",
       "      <td>94546: Castro Valley</td>\n",
       "      <td>2022-06-16</td>\n",
       "      <td>7597</td>\n",
       "    </tr>\n",
       "    <tr>\n",
       "      <th>43</th>\n",
       "      <td>Alameda</td>\n",
       "      <td>94560: Newark</td>\n",
       "      <td>2022-06-16</td>\n",
       "      <td>9315</td>\n",
       "    </tr>\n",
       "    <tr>\n",
       "      <th>44</th>\n",
       "      <td>Alameda</td>\n",
       "      <td>94538: Fremont</td>\n",
       "      <td>2022-06-16</td>\n",
       "      <td>11146</td>\n",
       "    </tr>\n",
       "    <tr>\n",
       "      <th>45</th>\n",
       "      <td>Alameda</td>\n",
       "      <td>94708: Berkeley</td>\n",
       "      <td>2022-06-16</td>\n",
       "      <td>802</td>\n",
       "    </tr>\n",
       "    <tr>\n",
       "      <th>46</th>\n",
       "      <td>Alameda</td>\n",
       "      <td>94539: Fremont</td>\n",
       "      <td>2022-06-16</td>\n",
       "      <td>5727</td>\n",
       "    </tr>\n",
       "    <tr>\n",
       "      <th>47</th>\n",
       "      <td>Alameda</td>\n",
       "      <td>94586: Sunol</td>\n",
       "      <td>2022-06-16</td>\n",
       "      <td>110</td>\n",
       "    </tr>\n",
       "    <tr>\n",
       "      <th>48</th>\n",
       "      <td>Alameda</td>\n",
       "      <td>95391: Mountain House</td>\n",
       "      <td>2022-06-16</td>\n",
       "      <td>3</td>\n",
       "    </tr>\n",
       "    <tr>\n",
       "      <th>49</th>\n",
       "      <td>Alameda</td>\n",
       "      <td>94613: Oakland</td>\n",
       "      <td>2022-06-16</td>\n",
       "      <td>4</td>\n",
       "    </tr>\n",
       "    <tr>\n",
       "      <th>50</th>\n",
       "      <td>Alameda</td>\n",
       "      <td>94514: Byron</td>\n",
       "      <td>2022-06-16</td>\n",
       "      <td>3</td>\n",
       "    </tr>\n",
       "    <tr>\n",
       "      <th>51</th>\n",
       "      <td>Alameda</td>\n",
       "      <td>94505: Discovery Bay</td>\n",
       "      <td>2022-06-16</td>\n",
       "      <td>4</td>\n",
       "    </tr>\n",
       "    <tr>\n",
       "      <th>52</th>\n",
       "      <td>Alameda</td>\n",
       "      <td>95377: Tracy</td>\n",
       "      <td>2022-06-16</td>\n",
       "      <td>1</td>\n",
       "    </tr>\n",
       "  </tbody>\n",
       "</table>\n",
       "</div>"
      ],
      "text/plain": [
       "     county                   area county_date  confirmed_cases\n",
       "0   Alameda         94502: Alameda  2022-06-16             1520\n",
       "1   Alameda          94706: Albany  2022-06-16             2042\n",
       "2   Alameda        94709: Berkeley  2022-06-16             1335\n",
       "3   Alameda        94710: Berkeley  2022-06-16             1675\n",
       "4   Alameda      94587: Union City  2022-06-16            13078\n",
       "5   Alameda     94577: San Leandro  2022-06-16             9594\n",
       "6   Alameda         94605: Oakland  2022-06-16             9075\n",
       "7   Alameda         94606: Oakland  2022-06-16             7126\n",
       "8   Alameda      94608: Emeryville  2022-06-16             5735\n",
       "9   Alameda         94610: Oakland  2022-06-16             4364\n",
       "10  Alameda        94702: Berkeley  2022-06-16             2613\n",
       "11  Alameda        94703: Berkeley  2022-06-16             2873\n",
       "12  Alameda        94704: Berkeley  2022-06-16             4519\n",
       "13  Alameda        94705: Berkeley  2022-06-16             1587\n",
       "14  Alameda        94720: Berkeley  2022-06-16              969\n",
       "15  Alameda          94568: Dublin  2022-06-16            10997\n",
       "16  Alameda        94707: Berkeley  2022-06-16              851\n",
       "17  Alameda         94501: Alameda  2022-06-16             9314\n",
       "18  Alameda         94619: Oakland  2022-06-16             4226\n",
       "19  Alameda         94607: Oakland  2022-06-16             5732\n",
       "20  Alameda         94609: Oakland  2022-06-16             4076\n",
       "21  Alameda         94612: Oakland  2022-06-16             3358\n",
       "22  Alameda         94618: Oakland  2022-06-16             1774\n",
       "23  Alameda         94601: Oakland  2022-06-16            14495\n",
       "24  Alameda         94602: Oakland  2022-06-16             4713\n",
       "25  Alameda         94611: Oakland  2022-06-16             4901\n",
       "26  Alameda         94603: Oakland  2022-06-16            10116\n",
       "27  Alameda         94621: Oakland  2022-06-16             9844\n",
       "28  Alameda      94588: Pleasanton  2022-06-16             4387\n",
       "29  Alameda         94536: Fremont  2022-06-16            10491\n",
       "30  Alameda         94555: Fremont  2022-06-16             4584\n",
       "31  Alameda       94551: Livermore  2022-06-16             7330\n",
       "32  Alameda      94566: Pleasanton  2022-06-16             5511\n",
       "33  Alameda       94550: Livermore  2022-06-16             7781\n",
       "34  Alameda         94541: Hayward  2022-06-16            16122\n",
       "35  Alameda         94542: Hayward  2022-06-16             2437\n",
       "36  Alameda         94544: Hayward  2022-06-16            19577\n",
       "37  Alameda         94545: Hayward  2022-06-16             7421\n",
       "38  Alameda   94552: Castro Valley  2022-06-16             1841\n",
       "39  Alameda     94578: San Leandro  2022-06-16             9137\n",
       "40  Alameda     94579: San Leandro  2022-06-16             4261\n",
       "41  Alameda     94580: San Lorenzo  2022-06-16             6433\n",
       "42  Alameda   94546: Castro Valley  2022-06-16             7597\n",
       "43  Alameda          94560: Newark  2022-06-16             9315\n",
       "44  Alameda         94538: Fremont  2022-06-16            11146\n",
       "45  Alameda        94708: Berkeley  2022-06-16              802\n",
       "46  Alameda         94539: Fremont  2022-06-16             5727\n",
       "47  Alameda           94586: Sunol  2022-06-16              110\n",
       "48  Alameda  95391: Mountain House  2022-06-16                3\n",
       "49  Alameda         94613: Oakland  2022-06-16                4\n",
       "50  Alameda           94514: Byron  2022-06-16                3\n",
       "51  Alameda   94505: Discovery Bay  2022-06-16                4\n",
       "52  Alameda           95377: Tracy  2022-06-16                1"
      ]
     },
     "execution_count": 77,
     "metadata": {},
     "output_type": "execute_result"
    }
   ],
   "source": [
    "export_df"
   ]
  },
  {
   "cell_type": "markdown",
   "metadata": {},
   "source": [
    "## Export"
   ]
  },
  {
   "cell_type": "markdown",
   "metadata": {},
   "source": [
    "Mark the current date"
   ]
  },
  {
   "cell_type": "code",
   "execution_count": 78,
   "metadata": {},
   "outputs": [],
   "source": [
    "tz = pytz.timezone(\"America/Los_Angeles\")"
   ]
  },
  {
   "cell_type": "code",
   "execution_count": 79,
   "metadata": {},
   "outputs": [],
   "source": [
    "today = datetime.now(tz).date()"
   ]
  },
  {
   "cell_type": "code",
   "execution_count": 80,
   "metadata": {},
   "outputs": [],
   "source": [
    "slug = slugify(\"Alameda\")"
   ]
  },
  {
   "cell_type": "code",
   "execution_count": 81,
   "metadata": {},
   "outputs": [],
   "source": [
    "export_df.to_csv(data_dir / slug / f\"{today}.csv\", index=False)"
   ]
  },
  {
   "cell_type": "markdown",
   "metadata": {
    "tags": []
   },
   "source": [
    "## Combine"
   ]
  },
  {
   "cell_type": "code",
   "execution_count": 82,
   "metadata": {},
   "outputs": [],
   "source": [
    "csv_list = [\n",
    "    i\n",
    "    for i in glob.glob(str(data_dir / slug / \"*.csv\"))\n",
    "    if not str(i).endswith(\"timeseries.csv\")\n",
    "]"
   ]
  },
  {
   "cell_type": "code",
   "execution_count": 83,
   "metadata": {},
   "outputs": [],
   "source": [
    "df_list = []\n",
    "for csv in csv_list:\n",
    "    if \"manual\" in csv:\n",
    "        df = pd.read_csv(csv, parse_dates=[\"date\"])\n",
    "    else:\n",
    "        file_date = csv.split(\"/\")[-1].replace(\".csv\", \"\")\n",
    "        df = pd.read_csv(csv, parse_dates=[\"county_date\"])\n",
    "        df[\"date\"] = file_date\n",
    "    df_list.append(df)"
   ]
  },
  {
   "cell_type": "code",
   "execution_count": 84,
   "metadata": {},
   "outputs": [],
   "source": [
    "df = pd.concat(df_list).sort_values([\"date\", \"area\"])"
   ]
  },
  {
   "cell_type": "code",
   "execution_count": 85,
   "metadata": {},
   "outputs": [],
   "source": [
    "df.to_csv(os.path.join(data_dir / slug / \"timeseries.csv\"), index=False)"
   ]
  },
  {
   "cell_type": "code",
   "execution_count": null,
   "metadata": {},
   "outputs": [],
   "source": []
  }
 ],
 "metadata": {
  "kernelspec": {
   "display_name": "Python 3 (ipykernel)",
   "language": "python",
   "name": "python3"
  },
  "language_info": {
   "codemirror_mode": {
    "name": "ipython",
    "version": 3
   },
   "file_extension": ".py",
   "mimetype": "text/x-python",
   "name": "python",
   "nbconvert_exporter": "python",
   "pygments_lexer": "ipython3",
   "version": "3.8.15"
  }
 },
 "nbformat": 4,
 "nbformat_minor": 4
}
