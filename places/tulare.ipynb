{
 "cells": [
  {
   "cell_type": "markdown",
   "metadata": {},
   "source": [
    "## Configuration\n",
    "_Initial steps to get the notebook ready to play nice with our repository. Do not delete this section._"
   ]
  },
  {
   "cell_type": "markdown",
   "metadata": {},
   "source": [
    "Code formatting with [black](https://pypi.org/project/nb-black/)."
   ]
  },
  {
   "cell_type": "code",
   "execution_count": 1,
   "metadata": {
    "execution": {
     "iopub.execute_input": "2021-09-10T17:32:28.035189Z",
     "iopub.status.busy": "2021-09-10T17:32:28.034618Z",
     "iopub.status.idle": "2021-09-10T17:32:28.172418Z",
     "shell.execute_reply": "2021-09-10T17:32:28.171840Z"
    }
   },
   "outputs": [],
   "source": [
    "%load_ext lab_black"
   ]
  },
  {
   "cell_type": "code",
   "execution_count": 2,
   "metadata": {
    "execution": {
     "iopub.execute_input": "2021-09-10T17:32:28.177282Z",
     "iopub.status.busy": "2021-09-10T17:32:28.176417Z",
     "iopub.status.idle": "2021-09-10T17:32:28.184660Z",
     "shell.execute_reply": "2021-09-10T17:32:28.185192Z"
    }
   },
   "outputs": [],
   "source": [
    "import os\n",
    "import pytz\n",
    "import glob\n",
    "import pathlib\n",
    "\n",
    "this_dir = pathlib.Path(os.path.abspath(\"\"))\n",
    "data_dir = this_dir / \"data\""
   ]
  },
  {
   "cell_type": "code",
   "execution_count": 3,
   "metadata": {
    "execution": {
     "iopub.execute_input": "2021-09-10T17:32:28.188841Z",
     "iopub.status.busy": "2021-09-10T17:32:28.188268Z",
     "iopub.status.idle": "2021-09-10T17:32:28.515125Z",
     "shell.execute_reply": "2021-09-10T17:32:28.515607Z"
    }
   },
   "outputs": [],
   "source": [
    "import requests\n",
    "import pandas as pd\n",
    "import json\n",
    "from datetime import datetime"
   ]
  },
  {
   "cell_type": "markdown",
   "metadata": {},
   "source": [
    "## Download"
   ]
  },
  {
   "cell_type": "markdown",
   "metadata": {},
   "source": [
    "Retrieve the page"
   ]
  },
  {
   "cell_type": "code",
   "execution_count": 4,
   "metadata": {
    "execution": {
     "iopub.execute_input": "2021-09-10T17:32:28.520931Z",
     "iopub.status.busy": "2021-09-10T17:32:28.519904Z",
     "iopub.status.idle": "2021-09-10T17:32:28.523835Z",
     "shell.execute_reply": "2021-09-10T17:32:28.523376Z"
    }
   },
   "outputs": [],
   "source": [
    "url = \"https://services2.arcgis.com/bYBANhmQGwSSLC0l/arcgis/rest/services/AllZipCodePoints___TEST_TEST/FeatureServer/0//query?where=1%3D1&objectIds=&time=&geometry=&geometryType=esriGeometryEnvelope&inSR=&spatialRel=esriSpatialRelIntersects&resultType=none&distance=0.0&units=esriSRUnit_Meter&returnGeodetic=false&outFields=*&returnGeometry=true&featureEncoding=esriDefault&multipatchOption=xyFootprint&maxAllowableOffset=&geometryPrecision=&outSR=&datumTransformation=&applyVCSProjection=false&returnIdsOnly=false&returnUniqueIdsOnly=false&returnCountOnly=false&returnExtentOnly=false&returnQueryGeometry=false&returnDistinctValues=false&cacheHint=false&orderByFields=&groupByFieldsForStatistics=&outStatistics=&having=&resultOffset=&resultRecordCount=&returnZ=false&returnM=false&returnExceededLimitFeatures=true&quantizationParameters=&sqlFormat=none&f=pjson&token=\""
   ]
  },
  {
   "cell_type": "code",
   "execution_count": 5,
   "metadata": {
    "execution": {
     "iopub.execute_input": "2021-09-10T17:32:28.531783Z",
     "iopub.status.busy": "2021-09-10T17:32:28.526961Z",
     "iopub.status.idle": "2021-09-10T17:32:28.635226Z",
     "shell.execute_reply": "2021-09-10T17:32:28.635648Z"
    }
   },
   "outputs": [],
   "source": [
    "r = requests.get(url)"
   ]
  },
  {
   "cell_type": "code",
   "execution_count": 6,
   "metadata": {
    "execution": {
     "iopub.execute_input": "2021-09-10T17:32:28.640501Z",
     "iopub.status.busy": "2021-09-10T17:32:28.639948Z",
     "iopub.status.idle": "2021-09-10T17:32:28.643000Z",
     "shell.execute_reply": "2021-09-10T17:32:28.643414Z"
    }
   },
   "outputs": [],
   "source": [
    "data = r.json()"
   ]
  },
  {
   "cell_type": "markdown",
   "metadata": {},
   "source": [
    "## Parse"
   ]
  },
  {
   "cell_type": "code",
   "execution_count": 7,
   "metadata": {
    "execution": {
     "iopub.execute_input": "2021-09-10T17:32:28.648971Z",
     "iopub.status.busy": "2021-09-10T17:32:28.648045Z",
     "iopub.status.idle": "2021-09-10T17:32:28.649951Z",
     "shell.execute_reply": "2021-09-10T17:32:28.650382Z"
    }
   },
   "outputs": [],
   "source": [
    "dict_list = []"
   ]
  },
  {
   "cell_type": "code",
   "execution_count": 8,
   "metadata": {
    "execution": {
     "iopub.execute_input": "2021-09-10T17:32:28.655341Z",
     "iopub.status.busy": "2021-09-10T17:32:28.654764Z",
     "iopub.status.idle": "2021-09-10T17:32:28.664946Z",
     "shell.execute_reply": "2021-09-10T17:32:28.664476Z"
    }
   },
   "outputs": [],
   "source": [
    "for item in data[\"features\"]:\n",
    "    zip_code = item[\"attributes\"][\"ZIP_CODE\"]\n",
    "    city = item[\"attributes\"][\"City\"]\n",
    "    d = dict(\n",
    "        county=\"Tulare\",\n",
    "        area=zip_code,\n",
    "        zip_code=zip_code,\n",
    "        city=city,\n",
    "        confirmed_cases=item[\"attributes\"][\"Cases\"],\n",
    "    )\n",
    "    dict_list.append(d)"
   ]
  },
  {
   "cell_type": "code",
   "execution_count": 9,
   "metadata": {
    "execution": {
     "iopub.execute_input": "2021-09-10T17:32:28.670933Z",
     "iopub.status.busy": "2021-09-10T17:32:28.670425Z",
     "iopub.status.idle": "2021-09-10T17:32:28.674226Z",
     "shell.execute_reply": "2021-09-10T17:32:28.673671Z"
    }
   },
   "outputs": [],
   "source": [
    "df = pd.DataFrame(dict_list)"
   ]
  },
  {
   "cell_type": "markdown",
   "metadata": {},
   "source": [
    "Clean names"
   ]
  },
  {
   "cell_type": "code",
   "execution_count": 10,
   "metadata": {
    "execution": {
     "iopub.execute_input": "2021-09-10T17:32:28.684611Z",
     "iopub.status.busy": "2021-09-10T17:32:28.683774Z",
     "iopub.status.idle": "2021-09-10T17:32:28.690314Z",
     "shell.execute_reply": "2021-09-10T17:32:28.689456Z"
    }
   },
   "outputs": [],
   "source": [
    "df.loc[df.zip_code == \"93212\", \"city\"] = \"Corcoran, Angiola\"\n",
    "df.loc[df.zip_code == \"93646\", \"city\"] = \"Traver\"\n",
    "df.loc[df.zip_code == \"93654\", \"city\"] = \"Orosi\""
   ]
  },
  {
   "cell_type": "code",
   "execution_count": 11,
   "metadata": {
    "execution": {
     "iopub.execute_input": "2021-09-10T17:32:28.698208Z",
     "iopub.status.busy": "2021-09-10T17:32:28.694990Z",
     "iopub.status.idle": "2021-09-10T17:32:28.704514Z",
     "shell.execute_reply": "2021-09-10T17:32:28.704019Z"
    }
   },
   "outputs": [],
   "source": [
    "df[\"area\"] = df[\"city\"] + \": \" + df[\"zip_code\"]"
   ]
  },
  {
   "cell_type": "markdown",
   "metadata": {},
   "source": [
    "Get timestamp"
   ]
  },
  {
   "cell_type": "code",
   "execution_count": 12,
   "metadata": {
    "execution": {
     "iopub.execute_input": "2021-09-10T17:32:28.713215Z",
     "iopub.status.busy": "2021-09-10T17:32:28.712566Z",
     "iopub.status.idle": "2021-09-10T17:32:28.835737Z",
     "shell.execute_reply": "2021-09-10T17:32:28.835273Z"
    }
   },
   "outputs": [],
   "source": [
    "date_url = \"https://services2.arcgis.com/bYBANhmQGwSSLC0l/arcgis/rest/services/ZipCodeAreas__Test/FeatureServer/0?f=json\"\n",
    "date_r = requests.get(date_url)\n",
    "date_data = date_r.json()"
   ]
  },
  {
   "cell_type": "code",
   "execution_count": 13,
   "metadata": {
    "execution": {
     "iopub.execute_input": "2021-09-10T17:32:28.840200Z",
     "iopub.status.busy": "2021-09-10T17:32:28.839693Z",
     "iopub.status.idle": "2021-09-10T17:32:28.843973Z",
     "shell.execute_reply": "2021-09-10T17:32:28.844378Z"
    }
   },
   "outputs": [],
   "source": [
    "timestamp = date_data[\"editingInfo\"][\"lastEditDate\"]"
   ]
  },
  {
   "cell_type": "code",
   "execution_count": 14,
   "metadata": {
    "execution": {
     "iopub.execute_input": "2021-09-10T17:32:28.848628Z",
     "iopub.status.busy": "2021-09-10T17:32:28.847726Z",
     "iopub.status.idle": "2021-09-10T17:32:28.852937Z",
     "shell.execute_reply": "2021-09-10T17:32:28.852407Z"
    }
   },
   "outputs": [],
   "source": [
    "timestamp = datetime.fromtimestamp((timestamp / 1000))"
   ]
  },
  {
   "cell_type": "code",
   "execution_count": 15,
   "metadata": {
    "execution": {
     "iopub.execute_input": "2021-09-10T17:32:28.858080Z",
     "iopub.status.busy": "2021-09-10T17:32:28.854785Z",
     "iopub.status.idle": "2021-09-10T17:32:28.861298Z",
     "shell.execute_reply": "2021-09-10T17:32:28.861756Z"
    }
   },
   "outputs": [],
   "source": [
    "latest_date = pd.to_datetime(timestamp).date()"
   ]
  },
  {
   "cell_type": "code",
   "execution_count": 16,
   "metadata": {
    "execution": {
     "iopub.execute_input": "2021-09-10T17:32:28.867199Z",
     "iopub.status.busy": "2021-09-10T17:32:28.865539Z",
     "iopub.status.idle": "2021-09-10T17:32:28.869994Z",
     "shell.execute_reply": "2021-09-10T17:32:28.870433Z"
    }
   },
   "outputs": [],
   "source": [
    "df[\"county_date\"] = latest_date"
   ]
  },
  {
   "cell_type": "markdown",
   "metadata": {},
   "source": [
    "Prep for export"
   ]
  },
  {
   "cell_type": "code",
   "execution_count": 17,
   "metadata": {
    "execution": {
     "iopub.execute_input": "2021-09-10T17:32:28.879401Z",
     "iopub.status.busy": "2021-09-10T17:32:28.875540Z",
     "iopub.status.idle": "2021-09-10T17:32:28.883805Z",
     "shell.execute_reply": "2021-09-10T17:32:28.883286Z"
    }
   },
   "outputs": [],
   "source": [
    "export_df = df[[\"county\", \"area\", \"confirmed_cases\", \"county_date\", \"zip_code\"]].rename(\n",
    "    columns={\"zip_code\": \"zip\"}\n",
    ")"
   ]
  },
  {
   "cell_type": "code",
   "execution_count": 18,
   "metadata": {
    "execution": {
     "iopub.execute_input": "2021-09-10T17:32:28.891976Z",
     "iopub.status.busy": "2021-09-10T17:32:28.890431Z",
     "iopub.status.idle": "2021-09-10T17:32:28.895501Z",
     "shell.execute_reply": "2021-09-10T17:32:28.894615Z"
    }
   },
   "outputs": [],
   "source": [
    "export_df = export_df.dropna(axis=0, subset=[\"area\"])"
   ]
  },
  {
   "cell_type": "code",
   "execution_count": 19,
   "metadata": {
    "execution": {
     "iopub.execute_input": "2021-09-10T17:32:28.902032Z",
     "iopub.status.busy": "2021-09-10T17:32:28.901498Z",
     "iopub.status.idle": "2021-09-10T17:32:28.905376Z",
     "shell.execute_reply": "2021-09-10T17:32:28.904643Z"
    }
   },
   "outputs": [],
   "source": [
    "export_df.loc[(export_df.area == \"TerraBella: 93270\"), \"area\"] = \"Terra Bella: 93270\""
   ]
  },
  {
   "cell_type": "markdown",
   "metadata": {},
   "source": [
    "## Vet"
   ]
  },
  {
   "cell_type": "code",
   "execution_count": 20,
   "metadata": {
    "execution": {
     "iopub.execute_input": "2021-09-10T17:32:28.912390Z",
     "iopub.status.busy": "2021-09-10T17:32:28.911368Z",
     "iopub.status.idle": "2021-09-10T17:32:28.915539Z",
     "shell.execute_reply": "2021-09-10T17:32:28.914801Z"
    }
   },
   "outputs": [],
   "source": [
    "try:\n",
    "    assert not len(export_df) > 28\n",
    "except AssertionError:\n",
    "    raise AssertionError(\"Tulare County's scraper has extra rows\")"
   ]
  },
  {
   "cell_type": "code",
   "execution_count": 21,
   "metadata": {
    "execution": {
     "iopub.execute_input": "2021-09-10T17:32:28.920647Z",
     "iopub.status.busy": "2021-09-10T17:32:28.919404Z",
     "iopub.status.idle": "2021-09-10T17:32:28.925205Z",
     "shell.execute_reply": "2021-09-10T17:32:28.924680Z"
    }
   },
   "outputs": [],
   "source": [
    "try:\n",
    "    assert not len(export_df) < 28\n",
    "except AssertionError:\n",
    "    raise AssertionError(\"Tulare County's scraper is missing rows\")"
   ]
  },
  {
   "cell_type": "markdown",
   "metadata": {},
   "source": [
    "## Export"
   ]
  },
  {
   "cell_type": "markdown",
   "metadata": {},
   "source": [
    "Set date"
   ]
  },
  {
   "cell_type": "code",
   "execution_count": 22,
   "metadata": {
    "execution": {
     "iopub.execute_input": "2021-09-10T17:32:28.928807Z",
     "iopub.status.busy": "2021-09-10T17:32:28.928195Z",
     "iopub.status.idle": "2021-09-10T17:32:28.949337Z",
     "shell.execute_reply": "2021-09-10T17:32:28.948734Z"
    }
   },
   "outputs": [],
   "source": [
    "tz = pytz.timezone(\"America/Los_Angeles\")"
   ]
  },
  {
   "cell_type": "code",
   "execution_count": 23,
   "metadata": {
    "execution": {
     "iopub.execute_input": "2021-09-10T17:32:28.954747Z",
     "iopub.status.busy": "2021-09-10T17:32:28.952723Z",
     "iopub.status.idle": "2021-09-10T17:32:28.957979Z",
     "shell.execute_reply": "2021-09-10T17:32:28.957472Z"
    }
   },
   "outputs": [],
   "source": [
    "today = datetime.now(tz).date()"
   ]
  },
  {
   "cell_type": "code",
   "execution_count": 24,
   "metadata": {
    "execution": {
     "iopub.execute_input": "2021-09-10T17:32:28.963270Z",
     "iopub.status.busy": "2021-09-10T17:32:28.962746Z",
     "iopub.status.idle": "2021-09-10T17:32:28.966418Z",
     "shell.execute_reply": "2021-09-10T17:32:28.965770Z"
    }
   },
   "outputs": [],
   "source": [
    "slug = \"tulare\""
   ]
  },
  {
   "cell_type": "code",
   "execution_count": 25,
   "metadata": {
    "execution": {
     "iopub.execute_input": "2021-09-10T17:32:28.972215Z",
     "iopub.status.busy": "2021-09-10T17:32:28.969809Z",
     "iopub.status.idle": "2021-09-10T17:32:28.977656Z",
     "shell.execute_reply": "2021-09-10T17:32:28.977212Z"
    }
   },
   "outputs": [],
   "source": [
    "export_df.to_csv(data_dir / slug / f\"{today}.csv\", index=False)"
   ]
  },
  {
   "cell_type": "markdown",
   "metadata": {},
   "source": [
    "## Combine"
   ]
  },
  {
   "cell_type": "code",
   "execution_count": 26,
   "metadata": {
    "execution": {
     "iopub.execute_input": "2021-09-10T17:32:28.986702Z",
     "iopub.status.busy": "2021-09-10T17:32:28.981351Z",
     "iopub.status.idle": "2021-09-10T17:32:28.990360Z",
     "shell.execute_reply": "2021-09-10T17:32:28.989547Z"
    }
   },
   "outputs": [],
   "source": [
    "csv_list = [\n",
    "    i\n",
    "    for i in glob.glob(str(data_dir / slug / \"*.csv\"))\n",
    "    if not str(i).endswith(\"timeseries.csv\")\n",
    "]"
   ]
  },
  {
   "cell_type": "code",
   "execution_count": 27,
   "metadata": {
    "execution": {
     "iopub.execute_input": "2021-09-10T17:32:28.997847Z",
     "iopub.status.busy": "2021-09-10T17:32:28.994387Z",
     "iopub.status.idle": "2021-09-10T17:32:29.674118Z",
     "shell.execute_reply": "2021-09-10T17:32:29.673638Z"
    }
   },
   "outputs": [],
   "source": [
    "df_list = []\n",
    "for csv in csv_list:\n",
    "    if \"manual\" in csv:\n",
    "        df = pd.read_csv(csv, parse_dates=[\"date\"])\n",
    "    else:\n",
    "        file_date = csv.split(\"/\")[-1].replace(\".csv\", \"\")\n",
    "        df = pd.read_csv(csv, parse_dates=[\"county_date\"])\n",
    "        df[\"date\"] = file_date\n",
    "    df_list.append(df)"
   ]
  },
  {
   "cell_type": "code",
   "execution_count": 28,
   "metadata": {
    "execution": {
     "iopub.execute_input": "2021-09-10T17:32:29.720906Z",
     "iopub.status.busy": "2021-09-10T17:32:29.681210Z",
     "iopub.status.idle": "2021-09-10T17:32:29.816905Z",
     "shell.execute_reply": "2021-09-10T17:32:29.816163Z"
    }
   },
   "outputs": [],
   "source": [
    "df = pd.concat(df_list).sort_values([\"date\", \"area\"])"
   ]
  },
  {
   "cell_type": "code",
   "execution_count": 29,
   "metadata": {
    "execution": {
     "iopub.execute_input": "2021-09-10T17:32:29.821698Z",
     "iopub.status.busy": "2021-09-10T17:32:29.821159Z",
     "iopub.status.idle": "2021-09-10T17:32:29.928014Z",
     "shell.execute_reply": "2021-09-10T17:32:29.927477Z"
    }
   },
   "outputs": [],
   "source": [
    "df.to_csv(data_dir / slug / \"timeseries.csv\", index=False)"
   ]
  },
  {
   "cell_type": "markdown",
   "metadata": {},
   "source": [
    "Set date"
   ]
  },
  {
   "cell_type": "code",
   "execution_count": 30,
   "metadata": {
    "execution": {
     "iopub.execute_input": "2021-09-10T17:32:29.932645Z",
     "iopub.status.busy": "2021-09-10T17:32:29.932026Z",
     "iopub.status.idle": "2021-09-10T17:32:30.062313Z",
     "shell.execute_reply": "2021-09-10T17:32:30.060116Z"
    }
   },
   "outputs": [
    {
     "ename": "NameError",
     "evalue": "name 'env' is not defined",
     "output_type": "error",
     "traceback": [
      "\u001b[0;31m---------------------------------------------------------------------------\u001b[0m",
      "\u001b[0;31mNameError\u001b[0m                                 Traceback (most recent call last)",
      "\u001b[0;32m/tmp/ipykernel_3631/2951808261.py\u001b[0m in \u001b[0;36m<module>\u001b[0;34m\u001b[0m\n\u001b[0;32m----> 1\u001b[0;31m \u001b[0mnow\u001b[0m \u001b[0;34m=\u001b[0m \u001b[0menv\u001b[0m\u001b[0;34m.\u001b[0m\u001b[0mget_today\u001b[0m\u001b[0;34m(\u001b[0m\u001b[0;34m)\u001b[0m\u001b[0;34m\u001b[0m\u001b[0;34m\u001b[0m\u001b[0m\n\u001b[0m",
      "\u001b[0;31mNameError\u001b[0m: name 'env' is not defined"
     ]
    }
   ],
   "source": [
    "now = env.get_today()"
   ]
  },
  {
   "cell_type": "code",
   "execution_count": null,
   "metadata": {},
   "outputs": [],
   "source": [
    "writer.to_csv(export_df, f\"places-scrapers/tulare/{now}.csv\")"
   ]
  },
  {
   "cell_type": "code",
   "execution_count": null,
   "metadata": {},
   "outputs": [],
   "source": [
    "export_df"
   ]
  },
  {
   "cell_type": "code",
   "execution_count": null,
   "metadata": {},
   "outputs": [],
   "source": []
  }
 ],
 "metadata": {
  "kernelspec": {
   "display_name": "Python 3 (ipykernel)",
   "language": "python",
   "name": "python3"
  },
  "language_info": {
   "codemirror_mode": {
    "name": "ipython",
    "version": 3
   },
   "file_extension": ".py",
   "mimetype": "text/x-python",
   "name": "python",
   "nbconvert_exporter": "python",
   "pygments_lexer": "ipython3",
   "version": "3.8.11"
  }
 },
 "nbformat": 4,
 "nbformat_minor": 4
}
