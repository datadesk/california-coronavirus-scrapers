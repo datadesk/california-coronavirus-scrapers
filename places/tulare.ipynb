{
 "cells": [
  {
   "cell_type": "markdown",
   "metadata": {},
   "source": [
    "## Configuration\n",
    "_Initial steps to get the notebook ready to play nice with our repository. Do not delete this section._"
   ]
  },
  {
   "cell_type": "markdown",
   "metadata": {},
   "source": [
    "Code formatting with [black](https://pypi.org/project/nb-black/)."
   ]
  },
  {
   "cell_type": "code",
   "execution_count": 1,
   "metadata": {
    "execution": {
     "iopub.execute_input": "2021-09-10T17:52:16.232778Z",
     "iopub.status.busy": "2021-09-10T17:52:16.232235Z",
     "iopub.status.idle": "2021-09-10T17:52:16.371064Z",
     "shell.execute_reply": "2021-09-10T17:52:16.370381Z"
    }
   },
   "outputs": [],
   "source": [
    "%load_ext lab_black"
   ]
  },
  {
   "cell_type": "code",
   "execution_count": 2,
   "metadata": {
    "execution": {
     "iopub.execute_input": "2021-09-10T17:52:16.376391Z",
     "iopub.status.busy": "2021-09-10T17:52:16.375520Z",
     "iopub.status.idle": "2021-09-10T17:52:16.384408Z",
     "shell.execute_reply": "2021-09-10T17:52:16.384896Z"
    }
   },
   "outputs": [],
   "source": [
    "import os\n",
    "import pytz\n",
    "import glob\n",
    "import pathlib\n",
    "\n",
    "this_dir = pathlib.Path(os.path.abspath(\"\"))\n",
    "data_dir = this_dir / \"data\""
   ]
  },
  {
   "cell_type": "code",
   "execution_count": 3,
   "metadata": {
    "execution": {
     "iopub.execute_input": "2021-09-10T17:52:16.389257Z",
     "iopub.status.busy": "2021-09-10T17:52:16.388639Z",
     "iopub.status.idle": "2021-09-10T17:52:16.724419Z",
     "shell.execute_reply": "2021-09-10T17:52:16.723452Z"
    }
   },
   "outputs": [],
   "source": [
    "import requests\n",
    "import pandas as pd\n",
    "import json\n",
    "from datetime import datetime"
   ]
  },
  {
   "cell_type": "markdown",
   "metadata": {},
   "source": [
    "## Download"
   ]
  },
  {
   "cell_type": "markdown",
   "metadata": {},
   "source": [
    "Retrieve the page"
   ]
  },
  {
   "cell_type": "code",
   "execution_count": 4,
   "metadata": {
    "execution": {
     "iopub.execute_input": "2021-09-10T17:52:16.731291Z",
     "iopub.status.busy": "2021-09-10T17:52:16.730548Z",
     "iopub.status.idle": "2021-09-10T17:52:16.734027Z",
     "shell.execute_reply": "2021-09-10T17:52:16.734569Z"
    }
   },
   "outputs": [],
   "source": [
    "url = \"https://services2.arcgis.com/bYBANhmQGwSSLC0l/arcgis/rest/services/AllZipCodePoints___TEST_TEST/FeatureServer/0//query?where=1%3D1&objectIds=&time=&geometry=&geometryType=esriGeometryEnvelope&inSR=&spatialRel=esriSpatialRelIntersects&resultType=none&distance=0.0&units=esriSRUnit_Meter&returnGeodetic=false&outFields=*&returnGeometry=true&featureEncoding=esriDefault&multipatchOption=xyFootprint&maxAllowableOffset=&geometryPrecision=&outSR=&datumTransformation=&applyVCSProjection=false&returnIdsOnly=false&returnUniqueIdsOnly=false&returnCountOnly=false&returnExtentOnly=false&returnQueryGeometry=false&returnDistinctValues=false&cacheHint=false&orderByFields=&groupByFieldsForStatistics=&outStatistics=&having=&resultOffset=&resultRecordCount=&returnZ=false&returnM=false&returnExceededLimitFeatures=true&quantizationParameters=&sqlFormat=none&f=pjson&token=\""
   ]
  },
  {
   "cell_type": "code",
   "execution_count": 5,
   "metadata": {
    "execution": {
     "iopub.execute_input": "2021-09-10T17:52:16.743760Z",
     "iopub.status.busy": "2021-09-10T17:52:16.742850Z",
     "iopub.status.idle": "2021-09-10T17:52:16.869790Z",
     "shell.execute_reply": "2021-09-10T17:52:16.869224Z"
    }
   },
   "outputs": [],
   "source": [
    "r = requests.get(url)"
   ]
  },
  {
   "cell_type": "code",
   "execution_count": 6,
   "metadata": {
    "execution": {
     "iopub.execute_input": "2021-09-10T17:52:16.875240Z",
     "iopub.status.busy": "2021-09-10T17:52:16.872052Z",
     "iopub.status.idle": "2021-09-10T17:52:16.878520Z",
     "shell.execute_reply": "2021-09-10T17:52:16.878088Z"
    }
   },
   "outputs": [],
   "source": [
    "data = r.json()"
   ]
  },
  {
   "cell_type": "markdown",
   "metadata": {},
   "source": [
    "## Parse"
   ]
  },
  {
   "cell_type": "code",
   "execution_count": 7,
   "metadata": {
    "execution": {
     "iopub.execute_input": "2021-09-10T17:52:16.883981Z",
     "iopub.status.busy": "2021-09-10T17:52:16.882756Z",
     "iopub.status.idle": "2021-09-10T17:52:16.886390Z",
     "shell.execute_reply": "2021-09-10T17:52:16.885903Z"
    }
   },
   "outputs": [],
   "source": [
    "dict_list = []"
   ]
  },
  {
   "cell_type": "code",
   "execution_count": 8,
   "metadata": {
    "execution": {
     "iopub.execute_input": "2021-09-10T17:52:16.893482Z",
     "iopub.status.busy": "2021-09-10T17:52:16.892887Z",
     "iopub.status.idle": "2021-09-10T17:52:16.903569Z",
     "shell.execute_reply": "2021-09-10T17:52:16.902963Z"
    }
   },
   "outputs": [],
   "source": [
    "for item in data[\"features\"]:\n",
    "    zip_code = item[\"attributes\"][\"ZIP_CODE\"]\n",
    "    city = item[\"attributes\"][\"City\"]\n",
    "    d = dict(\n",
    "        county=\"Tulare\",\n",
    "        area=zip_code,\n",
    "        zip_code=zip_code,\n",
    "        city=city,\n",
    "        confirmed_cases=item[\"attributes\"][\"Cases\"],\n",
    "    )\n",
    "    dict_list.append(d)"
   ]
  },
  {
   "cell_type": "code",
   "execution_count": 9,
   "metadata": {
    "execution": {
     "iopub.execute_input": "2021-09-10T17:52:16.909755Z",
     "iopub.status.busy": "2021-09-10T17:52:16.908526Z",
     "iopub.status.idle": "2021-09-10T17:52:16.912673Z",
     "shell.execute_reply": "2021-09-10T17:52:16.912014Z"
    }
   },
   "outputs": [],
   "source": [
    "df = pd.DataFrame(dict_list)"
   ]
  },
  {
   "cell_type": "markdown",
   "metadata": {},
   "source": [
    "Clean names"
   ]
  },
  {
   "cell_type": "code",
   "execution_count": 10,
   "metadata": {
    "execution": {
     "iopub.execute_input": "2021-09-10T17:52:16.920866Z",
     "iopub.status.busy": "2021-09-10T17:52:16.920259Z",
     "iopub.status.idle": "2021-09-10T17:52:16.926707Z",
     "shell.execute_reply": "2021-09-10T17:52:16.927192Z"
    }
   },
   "outputs": [],
   "source": [
    "df.loc[df.zip_code == \"93212\", \"city\"] = \"Corcoran, Angiola\"\n",
    "df.loc[df.zip_code == \"93646\", \"city\"] = \"Traver\"\n",
    "df.loc[df.zip_code == \"93654\", \"city\"] = \"Orosi\""
   ]
  },
  {
   "cell_type": "code",
   "execution_count": 11,
   "metadata": {
    "execution": {
     "iopub.execute_input": "2021-09-10T17:52:16.933329Z",
     "iopub.status.busy": "2021-09-10T17:52:16.932683Z",
     "iopub.status.idle": "2021-09-10T17:52:16.936338Z",
     "shell.execute_reply": "2021-09-10T17:52:16.937003Z"
    }
   },
   "outputs": [],
   "source": [
    "df[\"area\"] = df[\"city\"] + \": \" + df[\"zip_code\"]"
   ]
  },
  {
   "cell_type": "markdown",
   "metadata": {},
   "source": [
    "Get timestamp"
   ]
  },
  {
   "cell_type": "code",
   "execution_count": 12,
   "metadata": {
    "execution": {
     "iopub.execute_input": "2021-09-10T17:52:16.943844Z",
     "iopub.status.busy": "2021-09-10T17:52:16.943075Z",
     "iopub.status.idle": "2021-09-10T17:52:17.076416Z",
     "shell.execute_reply": "2021-09-10T17:52:17.076899Z"
    }
   },
   "outputs": [],
   "source": [
    "date_url = \"https://services2.arcgis.com/bYBANhmQGwSSLC0l/arcgis/rest/services/ZipCodeAreas__Test/FeatureServer/0?f=json\"\n",
    "date_r = requests.get(date_url)\n",
    "date_data = date_r.json()"
   ]
  },
  {
   "cell_type": "code",
   "execution_count": 13,
   "metadata": {
    "execution": {
     "iopub.execute_input": "2021-09-10T17:52:17.083179Z",
     "iopub.status.busy": "2021-09-10T17:52:17.081277Z",
     "iopub.status.idle": "2021-09-10T17:52:17.086565Z",
     "shell.execute_reply": "2021-09-10T17:52:17.087021Z"
    }
   },
   "outputs": [],
   "source": [
    "timestamp = date_data[\"editingInfo\"][\"lastEditDate\"]"
   ]
  },
  {
   "cell_type": "code",
   "execution_count": 14,
   "metadata": {
    "execution": {
     "iopub.execute_input": "2021-09-10T17:52:17.093305Z",
     "iopub.status.busy": "2021-09-10T17:52:17.092588Z",
     "iopub.status.idle": "2021-09-10T17:52:17.096959Z",
     "shell.execute_reply": "2021-09-10T17:52:17.096063Z"
    }
   },
   "outputs": [],
   "source": [
    "timestamp = datetime.fromtimestamp((timestamp / 1000))"
   ]
  },
  {
   "cell_type": "code",
   "execution_count": 15,
   "metadata": {
    "execution": {
     "iopub.execute_input": "2021-09-10T17:52:17.102986Z",
     "iopub.status.busy": "2021-09-10T17:52:17.102446Z",
     "iopub.status.idle": "2021-09-10T17:52:17.106336Z",
     "shell.execute_reply": "2021-09-10T17:52:17.105600Z"
    }
   },
   "outputs": [],
   "source": [
    "latest_date = pd.to_datetime(timestamp).date()"
   ]
  },
  {
   "cell_type": "code",
   "execution_count": 16,
   "metadata": {
    "execution": {
     "iopub.execute_input": "2021-09-10T17:52:17.112638Z",
     "iopub.status.busy": "2021-09-10T17:52:17.111994Z",
     "iopub.status.idle": "2021-09-10T17:52:17.116322Z",
     "shell.execute_reply": "2021-09-10T17:52:17.115812Z"
    }
   },
   "outputs": [],
   "source": [
    "df[\"county_date\"] = latest_date"
   ]
  },
  {
   "cell_type": "markdown",
   "metadata": {},
   "source": [
    "Prep for export"
   ]
  },
  {
   "cell_type": "code",
   "execution_count": 17,
   "metadata": {
    "execution": {
     "iopub.execute_input": "2021-09-10T17:52:17.122587Z",
     "iopub.status.busy": "2021-09-10T17:52:17.122047Z",
     "iopub.status.idle": "2021-09-10T17:52:17.129101Z",
     "shell.execute_reply": "2021-09-10T17:52:17.129830Z"
    }
   },
   "outputs": [],
   "source": [
    "export_df = df[[\"county\", \"area\", \"confirmed_cases\", \"county_date\", \"zip_code\"]].rename(\n",
    "    columns={\"zip_code\": \"zip\"}\n",
    ")"
   ]
  },
  {
   "cell_type": "code",
   "execution_count": 18,
   "metadata": {
    "execution": {
     "iopub.execute_input": "2021-09-10T17:52:17.138270Z",
     "iopub.status.busy": "2021-09-10T17:52:17.137731Z",
     "iopub.status.idle": "2021-09-10T17:52:17.141059Z",
     "shell.execute_reply": "2021-09-10T17:52:17.141500Z"
    }
   },
   "outputs": [],
   "source": [
    "export_df = export_df.dropna(axis=0, subset=[\"area\"])"
   ]
  },
  {
   "cell_type": "code",
   "execution_count": 19,
   "metadata": {
    "execution": {
     "iopub.execute_input": "2021-09-10T17:52:17.149309Z",
     "iopub.status.busy": "2021-09-10T17:52:17.147095Z",
     "iopub.status.idle": "2021-09-10T17:52:17.152745Z",
     "shell.execute_reply": "2021-09-10T17:52:17.152271Z"
    }
   },
   "outputs": [],
   "source": [
    "export_df.loc[(export_df.area == \"TerraBella: 93270\"), \"area\"] = \"Terra Bella: 93270\""
   ]
  },
  {
   "cell_type": "markdown",
   "metadata": {},
   "source": [
    "## Vet"
   ]
  },
  {
   "cell_type": "code",
   "execution_count": 20,
   "metadata": {
    "execution": {
     "iopub.execute_input": "2021-09-10T17:52:17.157885Z",
     "iopub.status.busy": "2021-09-10T17:52:17.156614Z",
     "iopub.status.idle": "2021-09-10T17:52:17.163164Z",
     "shell.execute_reply": "2021-09-10T17:52:17.163607Z"
    }
   },
   "outputs": [],
   "source": [
    "try:\n",
    "    assert not len(export_df) > 28\n",
    "except AssertionError:\n",
    "    raise AssertionError(\"Tulare County's scraper has extra rows\")"
   ]
  },
  {
   "cell_type": "code",
   "execution_count": 21,
   "metadata": {
    "execution": {
     "iopub.execute_input": "2021-09-10T17:52:17.170419Z",
     "iopub.status.busy": "2021-09-10T17:52:17.169855Z",
     "iopub.status.idle": "2021-09-10T17:52:17.174630Z",
     "shell.execute_reply": "2021-09-10T17:52:17.174172Z"
    }
   },
   "outputs": [],
   "source": [
    "try:\n",
    "    assert not len(export_df) < 28\n",
    "except AssertionError:\n",
    "    raise AssertionError(\"Tulare County's scraper is missing rows\")"
   ]
  },
  {
   "cell_type": "markdown",
   "metadata": {},
   "source": [
    "## Export"
   ]
  },
  {
   "cell_type": "markdown",
   "metadata": {},
   "source": [
    "Set date"
   ]
  },
  {
   "cell_type": "code",
   "execution_count": 22,
   "metadata": {
    "execution": {
     "iopub.execute_input": "2021-09-10T17:52:17.178015Z",
     "iopub.status.busy": "2021-09-10T17:52:17.176792Z",
     "iopub.status.idle": "2021-09-10T17:52:17.200368Z",
     "shell.execute_reply": "2021-09-10T17:52:17.200940Z"
    }
   },
   "outputs": [],
   "source": [
    "tz = pytz.timezone(\"America/Los_Angeles\")"
   ]
  },
  {
   "cell_type": "code",
   "execution_count": 23,
   "metadata": {
    "execution": {
     "iopub.execute_input": "2021-09-10T17:52:17.206446Z",
     "iopub.status.busy": "2021-09-10T17:52:17.204672Z",
     "iopub.status.idle": "2021-09-10T17:52:17.209358Z",
     "shell.execute_reply": "2021-09-10T17:52:17.209879Z"
    }
   },
   "outputs": [],
   "source": [
    "today = datetime.now(tz).date()"
   ]
  },
  {
   "cell_type": "code",
   "execution_count": 24,
   "metadata": {
    "execution": {
     "iopub.execute_input": "2021-09-10T17:52:17.214439Z",
     "iopub.status.busy": "2021-09-10T17:52:17.213906Z",
     "iopub.status.idle": "2021-09-10T17:52:17.217755Z",
     "shell.execute_reply": "2021-09-10T17:52:17.217236Z"
    }
   },
   "outputs": [],
   "source": [
    "slug = \"tulare\""
   ]
  },
  {
   "cell_type": "code",
   "execution_count": 25,
   "metadata": {
    "execution": {
     "iopub.execute_input": "2021-09-10T17:52:17.222956Z",
     "iopub.status.busy": "2021-09-10T17:52:17.222423Z",
     "iopub.status.idle": "2021-09-10T17:52:17.229618Z",
     "shell.execute_reply": "2021-09-10T17:52:17.228630Z"
    }
   },
   "outputs": [],
   "source": [
    "export_df.to_csv(data_dir / slug / f\"{today}.csv\", index=False)"
   ]
  },
  {
   "cell_type": "markdown",
   "metadata": {},
   "source": [
    "## Combine"
   ]
  },
  {
   "cell_type": "code",
   "execution_count": 26,
   "metadata": {
    "execution": {
     "iopub.execute_input": "2021-09-10T17:52:17.234641Z",
     "iopub.status.busy": "2021-09-10T17:52:17.233724Z",
     "iopub.status.idle": "2021-09-10T17:52:17.243033Z",
     "shell.execute_reply": "2021-09-10T17:52:17.242504Z"
    }
   },
   "outputs": [],
   "source": [
    "csv_list = [\n",
    "    i\n",
    "    for i in glob.glob(str(data_dir / slug / \"*.csv\"))\n",
    "    if not str(i).endswith(\"timeseries.csv\")\n",
    "]"
   ]
  },
  {
   "cell_type": "code",
   "execution_count": 27,
   "metadata": {
    "execution": {
     "iopub.execute_input": "2021-09-10T17:52:17.251899Z",
     "iopub.status.busy": "2021-09-10T17:52:17.247851Z",
     "iopub.status.idle": "2021-09-10T17:52:17.940062Z",
     "shell.execute_reply": "2021-09-10T17:52:17.939450Z"
    }
   },
   "outputs": [],
   "source": [
    "df_list = []\n",
    "for csv in csv_list:\n",
    "    if \"manual\" in csv:\n",
    "        df = pd.read_csv(csv, parse_dates=[\"date\"])\n",
    "    else:\n",
    "        file_date = csv.split(\"/\")[-1].replace(\".csv\", \"\")\n",
    "        df = pd.read_csv(csv, parse_dates=[\"county_date\"])\n",
    "        df[\"date\"] = file_date\n",
    "    df_list.append(df)"
   ]
  },
  {
   "cell_type": "code",
   "execution_count": 28,
   "metadata": {
    "execution": {
     "iopub.execute_input": "2021-09-10T17:52:17.959088Z",
     "iopub.status.busy": "2021-09-10T17:52:17.946814Z",
     "iopub.status.idle": "2021-09-10T17:52:18.076125Z",
     "shell.execute_reply": "2021-09-10T17:52:18.075383Z"
    }
   },
   "outputs": [],
   "source": [
    "df = pd.concat(df_list).sort_values([\"date\", \"area\"])"
   ]
  },
  {
   "cell_type": "code",
   "execution_count": 29,
   "metadata": {
    "execution": {
     "iopub.execute_input": "2021-09-10T17:52:18.083935Z",
     "iopub.status.busy": "2021-09-10T17:52:18.082704Z",
     "iopub.status.idle": "2021-09-10T17:52:18.190212Z",
     "shell.execute_reply": "2021-09-10T17:52:18.189706Z"
    }
   },
   "outputs": [],
   "source": [
    "df.to_csv(data_dir / slug / \"timeseries.csv\", index=False)"
   ]
  },
  {
   "cell_type": "markdown",
   "metadata": {},
   "source": [
    "Set date"
   ]
  },
  {
   "cell_type": "code",
   "execution_count": 30,
   "metadata": {
    "execution": {
     "iopub.execute_input": "2021-09-10T17:52:18.195051Z",
     "iopub.status.busy": "2021-09-10T17:52:18.194468Z",
     "iopub.status.idle": "2021-09-10T17:52:18.319470Z",
     "shell.execute_reply": "2021-09-10T17:52:18.318867Z"
    }
   },
   "outputs": [
    {
     "ename": "NameError",
     "evalue": "name 'env' is not defined",
     "output_type": "error",
     "traceback": [
      "\u001b[0;31m---------------------------------------------------------------------------\u001b[0m",
      "\u001b[0;31mNameError\u001b[0m                                 Traceback (most recent call last)",
      "\u001b[0;32m/tmp/ipykernel_3613/2951808261.py\u001b[0m in \u001b[0;36m<module>\u001b[0;34m\u001b[0m\n\u001b[0;32m----> 1\u001b[0;31m \u001b[0mnow\u001b[0m \u001b[0;34m=\u001b[0m \u001b[0menv\u001b[0m\u001b[0;34m.\u001b[0m\u001b[0mget_today\u001b[0m\u001b[0;34m(\u001b[0m\u001b[0;34m)\u001b[0m\u001b[0;34m\u001b[0m\u001b[0;34m\u001b[0m\u001b[0m\n\u001b[0m",
      "\u001b[0;31mNameError\u001b[0m: name 'env' is not defined"
     ]
    }
   ],
   "source": [
    "now = env.get_today()"
   ]
  },
  {
   "cell_type": "code",
   "execution_count": null,
   "metadata": {},
   "outputs": [],
   "source": [
    "writer.to_csv(export_df, f\"places-scrapers/tulare/{now}.csv\")"
   ]
  },
  {
   "cell_type": "code",
   "execution_count": null,
   "metadata": {},
   "outputs": [],
   "source": [
    "export_df"
   ]
  },
  {
   "cell_type": "code",
   "execution_count": null,
   "metadata": {},
   "outputs": [],
   "source": []
  }
 ],
 "metadata": {
  "kernelspec": {
   "display_name": "Python 3 (ipykernel)",
   "language": "python",
   "name": "python3"
  },
  "language_info": {
   "codemirror_mode": {
    "name": "ipython",
    "version": 3
   },
   "file_extension": ".py",
   "mimetype": "text/x-python",
   "name": "python",
   "nbconvert_exporter": "python",
   "pygments_lexer": "ipython3",
   "version": "3.8.11"
  }
 },
 "nbformat": 4,
 "nbformat_minor": 4
}
