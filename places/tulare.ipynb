{
 "cells": [
  {
   "cell_type": "markdown",
   "metadata": {},
   "source": [
    "## Configuration\n",
    "_Initial steps to get the notebook ready to play nice with our repository. Do not delete this section._"
   ]
  },
  {
   "cell_type": "markdown",
   "metadata": {},
   "source": [
    "Code formatting with [black](https://pypi.org/project/nb-black/)."
   ]
  },
  {
   "cell_type": "code",
   "execution_count": 1,
   "metadata": {
    "execution": {
     "iopub.execute_input": "2021-09-10T17:23:49.889835Z",
     "iopub.status.busy": "2021-09-10T17:23:49.889314Z",
     "iopub.status.idle": "2021-09-10T17:23:50.001717Z",
     "shell.execute_reply": "2021-09-10T17:23:50.001099Z"
    }
   },
   "outputs": [],
   "source": [
    "%load_ext lab_black"
   ]
  },
  {
   "cell_type": "code",
   "execution_count": 2,
   "metadata": {
    "execution": {
     "iopub.execute_input": "2021-09-10T17:23:50.005742Z",
     "iopub.status.busy": "2021-09-10T17:23:50.005205Z",
     "iopub.status.idle": "2021-09-10T17:23:50.012882Z",
     "shell.execute_reply": "2021-09-10T17:23:50.012510Z"
    }
   },
   "outputs": [],
   "source": [
    "import os\n",
    "import pytz\n",
    "import glob\n",
    "import pathlib\n",
    "\n",
    "this_dir = pathlib.Path(os.path.abspath(\"\"))\n",
    "data_dir = this_dir / \"data\""
   ]
  },
  {
   "cell_type": "code",
   "execution_count": 3,
   "metadata": {
    "execution": {
     "iopub.execute_input": "2021-09-10T17:23:50.016073Z",
     "iopub.status.busy": "2021-09-10T17:23:50.015612Z",
     "iopub.status.idle": "2021-09-10T17:23:50.299972Z",
     "shell.execute_reply": "2021-09-10T17:23:50.299472Z"
    }
   },
   "outputs": [],
   "source": [
    "import requests\n",
    "import pandas as pd\n",
    "import json\n",
    "from datetime import datetime"
   ]
  },
  {
   "cell_type": "markdown",
   "metadata": {},
   "source": [
    "## Download"
   ]
  },
  {
   "cell_type": "markdown",
   "metadata": {},
   "source": [
    "Retrieve the page"
   ]
  },
  {
   "cell_type": "code",
   "execution_count": 4,
   "metadata": {
    "execution": {
     "iopub.execute_input": "2021-09-10T17:23:50.305038Z",
     "iopub.status.busy": "2021-09-10T17:23:50.304203Z",
     "iopub.status.idle": "2021-09-10T17:23:50.307259Z",
     "shell.execute_reply": "2021-09-10T17:23:50.307609Z"
    }
   },
   "outputs": [],
   "source": [
    "url = \"https://services2.arcgis.com/bYBANhmQGwSSLC0l/arcgis/rest/services/AllZipCodePoints___TEST_TEST/FeatureServer/0//query?where=1%3D1&objectIds=&time=&geometry=&geometryType=esriGeometryEnvelope&inSR=&spatialRel=esriSpatialRelIntersects&resultType=none&distance=0.0&units=esriSRUnit_Meter&returnGeodetic=false&outFields=*&returnGeometry=true&featureEncoding=esriDefault&multipatchOption=xyFootprint&maxAllowableOffset=&geometryPrecision=&outSR=&datumTransformation=&applyVCSProjection=false&returnIdsOnly=false&returnUniqueIdsOnly=false&returnCountOnly=false&returnExtentOnly=false&returnQueryGeometry=false&returnDistinctValues=false&cacheHint=false&orderByFields=&groupByFieldsForStatistics=&outStatistics=&having=&resultOffset=&resultRecordCount=&returnZ=false&returnM=false&returnExceededLimitFeatures=true&quantizationParameters=&sqlFormat=none&f=pjson&token=\""
   ]
  },
  {
   "cell_type": "code",
   "execution_count": 5,
   "metadata": {
    "execution": {
     "iopub.execute_input": "2021-09-10T17:23:50.310917Z",
     "iopub.status.busy": "2021-09-10T17:23:50.310482Z",
     "iopub.status.idle": "2021-09-10T17:23:50.644741Z",
     "shell.execute_reply": "2021-09-10T17:23:50.644316Z"
    }
   },
   "outputs": [],
   "source": [
    "r = requests.get(url)"
   ]
  },
  {
   "cell_type": "code",
   "execution_count": 6,
   "metadata": {
    "execution": {
     "iopub.execute_input": "2021-09-10T17:23:50.649186Z",
     "iopub.status.busy": "2021-09-10T17:23:50.648156Z",
     "iopub.status.idle": "2021-09-10T17:23:50.650733Z",
     "shell.execute_reply": "2021-09-10T17:23:50.651095Z"
    }
   },
   "outputs": [],
   "source": [
    "data = r.json()"
   ]
  },
  {
   "cell_type": "markdown",
   "metadata": {},
   "source": [
    "## Parse"
   ]
  },
  {
   "cell_type": "code",
   "execution_count": 7,
   "metadata": {
    "execution": {
     "iopub.execute_input": "2021-09-10T17:23:50.654828Z",
     "iopub.status.busy": "2021-09-10T17:23:50.653959Z",
     "iopub.status.idle": "2021-09-10T17:23:50.656663Z",
     "shell.execute_reply": "2021-09-10T17:23:50.656303Z"
    }
   },
   "outputs": [],
   "source": [
    "dict_list = []"
   ]
  },
  {
   "cell_type": "code",
   "execution_count": 8,
   "metadata": {
    "execution": {
     "iopub.execute_input": "2021-09-10T17:23:50.661482Z",
     "iopub.status.busy": "2021-09-10T17:23:50.660858Z",
     "iopub.status.idle": "2021-09-10T17:23:50.668815Z",
     "shell.execute_reply": "2021-09-10T17:23:50.668419Z"
    }
   },
   "outputs": [],
   "source": [
    "for item in data[\"features\"]:\n",
    "    zip_code = item[\"attributes\"][\"ZIP_CODE\"]\n",
    "    city = item[\"attributes\"][\"City\"]\n",
    "    d = dict(\n",
    "        county=\"Tulare\",\n",
    "        area=zip_code,\n",
    "        zip_code=zip_code,\n",
    "        city=city,\n",
    "        confirmed_cases=item[\"attributes\"][\"Cases\"],\n",
    "    )\n",
    "    dict_list.append(d)"
   ]
  },
  {
   "cell_type": "code",
   "execution_count": 9,
   "metadata": {
    "execution": {
     "iopub.execute_input": "2021-09-10T17:23:50.674319Z",
     "iopub.status.busy": "2021-09-10T17:23:50.673546Z",
     "iopub.status.idle": "2021-09-10T17:23:50.675138Z",
     "shell.execute_reply": "2021-09-10T17:23:50.675507Z"
    }
   },
   "outputs": [],
   "source": [
    "df = pd.DataFrame(dict_list)"
   ]
  },
  {
   "cell_type": "markdown",
   "metadata": {},
   "source": [
    "Clean names"
   ]
  },
  {
   "cell_type": "code",
   "execution_count": 10,
   "metadata": {
    "execution": {
     "iopub.execute_input": "2021-09-10T17:23:50.681619Z",
     "iopub.status.busy": "2021-09-10T17:23:50.681181Z",
     "iopub.status.idle": "2021-09-10T17:23:50.686768Z",
     "shell.execute_reply": "2021-09-10T17:23:50.686385Z"
    }
   },
   "outputs": [],
   "source": [
    "df.loc[df.zip_code == \"93212\", \"city\"] = \"Corcoran, Angiola\"\n",
    "df.loc[df.zip_code == \"93646\", \"city\"] = \"Traver\"\n",
    "df.loc[df.zip_code == \"93654\", \"city\"] = \"Orosi\""
   ]
  },
  {
   "cell_type": "code",
   "execution_count": 11,
   "metadata": {
    "execution": {
     "iopub.execute_input": "2021-09-10T17:23:50.691754Z",
     "iopub.status.busy": "2021-09-10T17:23:50.690720Z",
     "iopub.status.idle": "2021-09-10T17:23:50.694022Z",
     "shell.execute_reply": "2021-09-10T17:23:50.693615Z"
    }
   },
   "outputs": [],
   "source": [
    "df[\"area\"] = df[\"city\"] + \": \" + df[\"zip_code\"]"
   ]
  },
  {
   "cell_type": "markdown",
   "metadata": {},
   "source": [
    "Get timestamp"
   ]
  },
  {
   "cell_type": "code",
   "execution_count": 12,
   "metadata": {
    "execution": {
     "iopub.execute_input": "2021-09-10T17:23:50.699947Z",
     "iopub.status.busy": "2021-09-10T17:23:50.699494Z",
     "iopub.status.idle": "2021-09-10T17:23:50.866261Z",
     "shell.execute_reply": "2021-09-10T17:23:50.866690Z"
    }
   },
   "outputs": [],
   "source": [
    "date_url = \"https://services2.arcgis.com/bYBANhmQGwSSLC0l/arcgis/rest/services/ZipCodeAreas__Test/FeatureServer/0?f=json\"\n",
    "date_r = requests.get(date_url)\n",
    "date_data = date_r.json()"
   ]
  },
  {
   "cell_type": "code",
   "execution_count": 13,
   "metadata": {
    "execution": {
     "iopub.execute_input": "2021-09-10T17:23:50.871313Z",
     "iopub.status.busy": "2021-09-10T17:23:50.868823Z",
     "iopub.status.idle": "2021-09-10T17:23:50.873423Z",
     "shell.execute_reply": "2021-09-10T17:23:50.873057Z"
    }
   },
   "outputs": [],
   "source": [
    "timestamp = date_data[\"editingInfo\"][\"lastEditDate\"]"
   ]
  },
  {
   "cell_type": "code",
   "execution_count": 14,
   "metadata": {
    "execution": {
     "iopub.execute_input": "2021-09-10T17:23:50.877603Z",
     "iopub.status.busy": "2021-09-10T17:23:50.876549Z",
     "iopub.status.idle": "2021-09-10T17:23:50.879476Z",
     "shell.execute_reply": "2021-09-10T17:23:50.879087Z"
    }
   },
   "outputs": [],
   "source": [
    "timestamp = datetime.fromtimestamp((timestamp / 1000))"
   ]
  },
  {
   "cell_type": "code",
   "execution_count": 15,
   "metadata": {
    "execution": {
     "iopub.execute_input": "2021-09-10T17:23:50.884719Z",
     "iopub.status.busy": "2021-09-10T17:23:50.883946Z",
     "iopub.status.idle": "2021-09-10T17:23:50.885413Z",
     "shell.execute_reply": "2021-09-10T17:23:50.885801Z"
    }
   },
   "outputs": [],
   "source": [
    "latest_date = pd.to_datetime(timestamp).date()"
   ]
  },
  {
   "cell_type": "code",
   "execution_count": 16,
   "metadata": {
    "execution": {
     "iopub.execute_input": "2021-09-10T17:23:50.890063Z",
     "iopub.status.busy": "2021-09-10T17:23:50.887396Z",
     "iopub.status.idle": "2021-09-10T17:23:50.892020Z",
     "shell.execute_reply": "2021-09-10T17:23:50.891590Z"
    }
   },
   "outputs": [],
   "source": [
    "df[\"county_date\"] = latest_date"
   ]
  },
  {
   "cell_type": "markdown",
   "metadata": {},
   "source": [
    "Prep for export"
   ]
  },
  {
   "cell_type": "code",
   "execution_count": 17,
   "metadata": {
    "execution": {
     "iopub.execute_input": "2021-09-10T17:23:50.895809Z",
     "iopub.status.busy": "2021-09-10T17:23:50.895371Z",
     "iopub.status.idle": "2021-09-10T17:23:50.901100Z",
     "shell.execute_reply": "2021-09-10T17:23:50.900714Z"
    }
   },
   "outputs": [],
   "source": [
    "export_df = df[[\"county\", \"area\", \"confirmed_cases\", \"county_date\", \"zip_code\"]].rename(\n",
    "    columns={\"zip_code\": \"zip\"}\n",
    ")"
   ]
  },
  {
   "cell_type": "code",
   "execution_count": 18,
   "metadata": {
    "execution": {
     "iopub.execute_input": "2021-09-10T17:23:50.906456Z",
     "iopub.status.busy": "2021-09-10T17:23:50.906008Z",
     "iopub.status.idle": "2021-09-10T17:23:50.909051Z",
     "shell.execute_reply": "2021-09-10T17:23:50.908690Z"
    }
   },
   "outputs": [],
   "source": [
    "export_df = export_df.dropna(axis=0, subset=[\"area\"])"
   ]
  },
  {
   "cell_type": "code",
   "execution_count": 19,
   "metadata": {
    "execution": {
     "iopub.execute_input": "2021-09-10T17:23:50.912883Z",
     "iopub.status.busy": "2021-09-10T17:23:50.912451Z",
     "iopub.status.idle": "2021-09-10T17:23:50.916029Z",
     "shell.execute_reply": "2021-09-10T17:23:50.915645Z"
    }
   },
   "outputs": [],
   "source": [
    "export_df.loc[(export_df.area == \"TerraBella: 93270\"), \"area\"] = \"Terra Bella: 93270\""
   ]
  },
  {
   "cell_type": "code",
   "execution_count": 20,
   "metadata": {
    "execution": {
     "iopub.execute_input": "2021-09-10T17:23:50.926345Z",
     "iopub.status.busy": "2021-09-10T17:23:50.925867Z",
     "iopub.status.idle": "2021-09-10T17:23:50.929223Z",
     "shell.execute_reply": "2021-09-10T17:23:50.928775Z"
    }
   },
   "outputs": [
    {
     "data": {
      "text/plain": [
       "28"
      ]
     },
     "execution_count": 20,
     "metadata": {},
     "output_type": "execute_result"
    }
   ],
   "source": [
    "len(export_df.area)"
   ]
  },
  {
   "cell_type": "markdown",
   "metadata": {},
   "source": [
    "## Vet"
   ]
  },
  {
   "cell_type": "code",
   "execution_count": 21,
   "metadata": {
    "execution": {
     "iopub.execute_input": "2021-09-10T17:23:50.933032Z",
     "iopub.status.busy": "2021-09-10T17:23:50.932598Z",
     "iopub.status.idle": "2021-09-10T17:23:50.936014Z",
     "shell.execute_reply": "2021-09-10T17:23:50.935652Z"
    }
   },
   "outputs": [],
   "source": [
    "try:\n",
    "    assert not len(export_df) > 28\n",
    "except AssertionError:\n",
    "    raise AssertionError(\"Tulare County's scraper has extra rows\")"
   ]
  },
  {
   "cell_type": "code",
   "execution_count": 22,
   "metadata": {
    "execution": {
     "iopub.execute_input": "2021-09-10T17:23:50.939285Z",
     "iopub.status.busy": "2021-09-10T17:23:50.938822Z",
     "iopub.status.idle": "2021-09-10T17:23:50.942715Z",
     "shell.execute_reply": "2021-09-10T17:23:50.942329Z"
    }
   },
   "outputs": [],
   "source": [
    "try:\n",
    "    assert not len(export_df) < 28\n",
    "except AssertionError:\n",
    "    raise AssertionError(\"Tulare County's scraper is missing rows\")"
   ]
  },
  {
   "cell_type": "markdown",
   "metadata": {},
   "source": [
    "## Export"
   ]
  },
  {
   "cell_type": "markdown",
   "metadata": {},
   "source": [
    "Set date"
   ]
  },
  {
   "cell_type": "code",
   "execution_count": 23,
   "metadata": {
    "execution": {
     "iopub.execute_input": "2021-09-10T17:23:50.945648Z",
     "iopub.status.busy": "2021-09-10T17:23:50.945217Z",
     "iopub.status.idle": "2021-09-10T17:23:50.961419Z",
     "shell.execute_reply": "2021-09-10T17:23:50.961030Z"
    }
   },
   "outputs": [],
   "source": [
    "tz = pytz.timezone(\"America/Los_Angeles\")"
   ]
  },
  {
   "cell_type": "code",
   "execution_count": 24,
   "metadata": {
    "execution": {
     "iopub.execute_input": "2021-09-10T17:23:50.966430Z",
     "iopub.status.busy": "2021-09-10T17:23:50.965600Z",
     "iopub.status.idle": "2021-09-10T17:23:50.967167Z",
     "shell.execute_reply": "2021-09-10T17:23:50.967535Z"
    }
   },
   "outputs": [],
   "source": [
    "today = datetime.now(tz).date()"
   ]
  },
  {
   "cell_type": "code",
   "execution_count": 25,
   "metadata": {
    "execution": {
     "iopub.execute_input": "2021-09-10T17:23:50.971668Z",
     "iopub.status.busy": "2021-09-10T17:23:50.970862Z",
     "iopub.status.idle": "2021-09-10T17:23:50.972384Z",
     "shell.execute_reply": "2021-09-10T17:23:50.972779Z"
    }
   },
   "outputs": [],
   "source": [
    "slug = \"tulare\""
   ]
  },
  {
   "cell_type": "code",
   "execution_count": 26,
   "metadata": {
    "execution": {
     "iopub.execute_input": "2021-09-10T17:23:50.976157Z",
     "iopub.status.busy": "2021-09-10T17:23:50.975723Z",
     "iopub.status.idle": "2021-09-10T17:23:50.981045Z",
     "shell.execute_reply": "2021-09-10T17:23:50.980673Z"
    }
   },
   "outputs": [],
   "source": [
    "export_df.to_csv(data_dir / slug / f\"{today}.csv\", index=False)"
   ]
  },
  {
   "cell_type": "markdown",
   "metadata": {},
   "source": [
    "## Combine"
   ]
  },
  {
   "cell_type": "code",
   "execution_count": 27,
   "metadata": {
    "execution": {
     "iopub.execute_input": "2021-09-10T17:23:50.984186Z",
     "iopub.status.busy": "2021-09-10T17:23:50.983752Z",
     "iopub.status.idle": "2021-09-10T17:23:50.990196Z",
     "shell.execute_reply": "2021-09-10T17:23:50.989814Z"
    }
   },
   "outputs": [],
   "source": [
    "csv_list = [\n",
    "    i\n",
    "    for i in glob.glob(str(data_dir / slug / \"*.csv\"))\n",
    "    if not str(i).endswith(\"timeseries.csv\")\n",
    "]"
   ]
  },
  {
   "cell_type": "code",
   "execution_count": 28,
   "metadata": {
    "execution": {
     "iopub.execute_input": "2021-09-10T17:23:50.994565Z",
     "iopub.status.busy": "2021-09-10T17:23:50.994114Z",
     "iopub.status.idle": "2021-09-10T17:23:51.485004Z",
     "shell.execute_reply": "2021-09-10T17:23:51.484514Z"
    }
   },
   "outputs": [],
   "source": [
    "df_list = []\n",
    "for csv in csv_list:\n",
    "    if \"manual\" in csv:\n",
    "        df = pd.read_csv(csv, parse_dates=[\"date\"])\n",
    "    else:\n",
    "        file_date = csv.split(\"/\")[-1].replace(\".csv\", \"\")\n",
    "        df = pd.read_csv(csv, parse_dates=[\"county_date\"])\n",
    "        df[\"date\"] = file_date\n",
    "    df_list.append(df)"
   ]
  },
  {
   "cell_type": "code",
   "execution_count": 29,
   "metadata": {
    "execution": {
     "iopub.execute_input": "2021-09-10T17:23:51.491638Z",
     "iopub.status.busy": "2021-09-10T17:23:51.491187Z",
     "iopub.status.idle": "2021-09-10T17:23:51.583963Z",
     "shell.execute_reply": "2021-09-10T17:23:51.583457Z"
    }
   },
   "outputs": [],
   "source": [
    "df = pd.concat(df_list).sort_values([\"date\", \"area\"])"
   ]
  },
  {
   "cell_type": "code",
   "execution_count": 30,
   "metadata": {
    "execution": {
     "iopub.execute_input": "2021-09-10T17:23:51.587987Z",
     "iopub.status.busy": "2021-09-10T17:23:51.587493Z",
     "iopub.status.idle": "2021-09-10T17:23:51.676037Z",
     "shell.execute_reply": "2021-09-10T17:23:51.676476Z"
    }
   },
   "outputs": [],
   "source": [
    "df.to_csv(data_dir / slug / \"timeseries.csv\", index=False)"
   ]
  },
  {
   "cell_type": "markdown",
   "metadata": {},
   "source": [
    "Set date"
   ]
  },
  {
   "cell_type": "code",
   "execution_count": 31,
   "metadata": {
    "execution": {
     "iopub.execute_input": "2021-09-10T17:23:51.680504Z",
     "iopub.status.busy": "2021-09-10T17:23:51.679867Z",
     "iopub.status.idle": "2021-09-10T17:23:51.779840Z",
     "shell.execute_reply": "2021-09-10T17:23:51.779285Z"
    }
   },
   "outputs": [
    {
     "ename": "NameError",
     "evalue": "name 'env' is not defined",
     "output_type": "error",
     "traceback": [
      "\u001b[0;31m---------------------------------------------------------------------------\u001b[0m",
      "\u001b[0;31mNameError\u001b[0m                                 Traceback (most recent call last)",
      "\u001b[0;32m/tmp/ipykernel_3637/2951808261.py\u001b[0m in \u001b[0;36m<module>\u001b[0;34m\u001b[0m\n\u001b[0;32m----> 1\u001b[0;31m \u001b[0mnow\u001b[0m \u001b[0;34m=\u001b[0m \u001b[0menv\u001b[0m\u001b[0;34m.\u001b[0m\u001b[0mget_today\u001b[0m\u001b[0;34m(\u001b[0m\u001b[0;34m)\u001b[0m\u001b[0;34m\u001b[0m\u001b[0;34m\u001b[0m\u001b[0m\n\u001b[0m",
      "\u001b[0;31mNameError\u001b[0m: name 'env' is not defined"
     ]
    }
   ],
   "source": [
    "now = env.get_today()"
   ]
  },
  {
   "cell_type": "code",
   "execution_count": null,
   "metadata": {},
   "outputs": [],
   "source": [
    "writer.to_csv(export_df, f\"places-scrapers/tulare/{now}.csv\")"
   ]
  },
  {
   "cell_type": "code",
   "execution_count": null,
   "metadata": {},
   "outputs": [],
   "source": [
    "export_df"
   ]
  },
  {
   "cell_type": "code",
   "execution_count": null,
   "metadata": {},
   "outputs": [],
   "source": []
  }
 ],
 "metadata": {
  "kernelspec": {
   "display_name": "Python 3 (ipykernel)",
   "language": "python",
   "name": "python3"
  },
  "language_info": {
   "codemirror_mode": {
    "name": "ipython",
    "version": 3
   },
   "file_extension": ".py",
   "mimetype": "text/x-python",
   "name": "python",
   "nbconvert_exporter": "python",
   "pygments_lexer": "ipython3",
   "version": "3.8.11"
  }
 },
 "nbformat": 4,
 "nbformat_minor": 4
}
