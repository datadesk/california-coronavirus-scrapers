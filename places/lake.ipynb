{
 "cells": [
  {
   "cell_type": "markdown",
   "metadata": {},
   "source": [
    "## Configuration\n",
    "_Initial steps to get the notebook ready to play nice with our repository. Do not delete this section._"
   ]
  },
  {
   "cell_type": "markdown",
   "metadata": {},
   "source": [
    "Code formatting with [black](https://pypi.org/project/nb-black/)."
   ]
  },
  {
   "cell_type": "code",
   "execution_count": 1,
   "metadata": {
    "execution": {
     "iopub.execute_input": "2021-10-21T20:20:14.578779Z",
     "iopub.status.busy": "2021-10-21T20:20:14.577849Z",
     "iopub.status.idle": "2021-10-21T20:20:14.718766Z",
     "shell.execute_reply": "2021-10-21T20:20:14.717782Z"
    }
   },
   "outputs": [],
   "source": [
    "%load_ext lab_black"
   ]
  },
  {
   "cell_type": "code",
   "execution_count": 2,
   "metadata": {
    "execution": {
     "iopub.execute_input": "2021-10-21T20:20:14.724549Z",
     "iopub.status.busy": "2021-10-21T20:20:14.723351Z",
     "iopub.status.idle": "2021-10-21T20:20:14.725149Z",
     "shell.execute_reply": "2021-10-21T20:20:14.725604Z"
    }
   },
   "outputs": [],
   "source": [
    "import os\n",
    "import pathlib"
   ]
  },
  {
   "cell_type": "code",
   "execution_count": 3,
   "metadata": {
    "execution": {
     "iopub.execute_input": "2021-10-21T20:20:14.733554Z",
     "iopub.status.busy": "2021-10-21T20:20:14.732186Z",
     "iopub.status.idle": "2021-10-21T20:20:14.734166Z",
     "shell.execute_reply": "2021-10-21T20:20:14.734592Z"
    }
   },
   "outputs": [],
   "source": [
    "this_dir = pathlib.Path(os.path.abspath(\"\"))"
   ]
  },
  {
   "cell_type": "code",
   "execution_count": 4,
   "metadata": {
    "execution": {
     "iopub.execute_input": "2021-10-21T20:20:14.739363Z",
     "iopub.status.busy": "2021-10-21T20:20:14.738823Z",
     "iopub.status.idle": "2021-10-21T20:20:14.741066Z",
     "shell.execute_reply": "2021-10-21T20:20:14.740630Z"
    }
   },
   "outputs": [],
   "source": [
    "data_dir = this_dir / \"data\""
   ]
  },
  {
   "cell_type": "code",
   "execution_count": 5,
   "metadata": {
    "execution": {
     "iopub.execute_input": "2021-10-21T20:20:14.745628Z",
     "iopub.status.busy": "2021-10-21T20:20:14.745053Z",
     "iopub.status.idle": "2021-10-21T20:20:15.173741Z",
     "shell.execute_reply": "2021-10-21T20:20:15.174520Z"
    }
   },
   "outputs": [],
   "source": [
    "import re\n",
    "import pytz\n",
    "import glob\n",
    "import requests\n",
    "import unicodedata\n",
    "import json\n",
    "import pandas as pd\n",
    "from datetime import datetime\n",
    "from bs4 import BeautifulSoup"
   ]
  },
  {
   "cell_type": "markdown",
   "metadata": {},
   "source": [
    "### Download / retrieve the page"
   ]
  },
  {
   "cell_type": "markdown",
   "metadata": {},
   "source": [
    "Lake County's [dashboard](http://health.co.lake.ca.us/Coronavirus/COVID-19_Data.htm) uses Datawrapper to display cases by ZIP Code. To make sure we get the latest, we'll hit the chart page on Datawrapper's website, then get the iframe URL."
   ]
  },
  {
   "cell_type": "code",
   "execution_count": 6,
   "metadata": {
    "execution": {
     "iopub.execute_input": "2021-10-21T20:20:15.180370Z",
     "iopub.status.busy": "2021-10-21T20:20:15.179827Z",
     "iopub.status.idle": "2021-10-21T20:20:15.182962Z",
     "shell.execute_reply": "2021-10-21T20:20:15.183370Z"
    }
   },
   "outputs": [],
   "source": [
    "url = \"https://www.datawrapper.de/_/D1RaA/\""
   ]
  },
  {
   "cell_type": "code",
   "execution_count": 7,
   "metadata": {
    "execution": {
     "iopub.execute_input": "2021-10-21T20:20:15.187487Z",
     "iopub.status.busy": "2021-10-21T20:20:15.186935Z",
     "iopub.status.idle": "2021-10-21T20:20:15.338187Z",
     "shell.execute_reply": "2021-10-21T20:20:15.337371Z"
    }
   },
   "outputs": [],
   "source": [
    "page = requests.get(url)"
   ]
  },
  {
   "cell_type": "markdown",
   "metadata": {},
   "source": [
    "### Parse with BeautifulSoup"
   ]
  },
  {
   "cell_type": "code",
   "execution_count": 8,
   "metadata": {
    "execution": {
     "iopub.execute_input": "2021-10-21T20:20:15.345221Z",
     "iopub.status.busy": "2021-10-21T20:20:15.344236Z",
     "iopub.status.idle": "2021-10-21T20:20:15.347811Z",
     "shell.execute_reply": "2021-10-21T20:20:15.347350Z"
    }
   },
   "outputs": [],
   "source": [
    "soup = BeautifulSoup(page.content, \"html.parser\")"
   ]
  },
  {
   "cell_type": "code",
   "execution_count": 9,
   "metadata": {
    "execution": {
     "iopub.execute_input": "2021-10-21T20:20:15.352090Z",
     "iopub.status.busy": "2021-10-21T20:20:15.351588Z",
     "iopub.status.idle": "2021-10-21T20:20:15.355491Z",
     "shell.execute_reply": "2021-10-21T20:20:15.355062Z"
    }
   },
   "outputs": [],
   "source": [
    "meta = soup.find(\"meta\", {\"property\": \"og:url\"})"
   ]
  },
  {
   "cell_type": "code",
   "execution_count": 10,
   "metadata": {
    "execution": {
     "iopub.execute_input": "2021-10-21T20:20:15.359984Z",
     "iopub.status.busy": "2021-10-21T20:20:15.359005Z",
     "iopub.status.idle": "2021-10-21T20:20:15.362333Z",
     "shell.execute_reply": "2021-10-21T20:20:15.361892Z"
    }
   },
   "outputs": [],
   "source": [
    "dw_url = meta[\"content\"]"
   ]
  },
  {
   "cell_type": "markdown",
   "metadata": {},
   "source": [
    "### Parse Datawrapper"
   ]
  },
  {
   "cell_type": "code",
   "execution_count": 11,
   "metadata": {
    "execution": {
     "iopub.execute_input": "2021-10-21T20:20:15.366911Z",
     "iopub.status.busy": "2021-10-21T20:20:15.364518Z",
     "iopub.status.idle": "2021-10-21T20:20:15.369129Z",
     "shell.execute_reply": "2021-10-21T20:20:15.368692Z"
    }
   },
   "outputs": [],
   "source": [
    "dataset_url = dw_url + \"dataset.csv\""
   ]
  },
  {
   "cell_type": "code",
   "execution_count": 12,
   "metadata": {
    "execution": {
     "iopub.execute_input": "2021-10-21T20:20:15.372999Z",
     "iopub.status.busy": "2021-10-21T20:20:15.372489Z",
     "iopub.status.idle": "2021-10-21T20:20:15.472882Z",
     "shell.execute_reply": "2021-10-21T20:20:15.471987Z"
    }
   },
   "outputs": [],
   "source": [
    "dw_r = requests.get(dataset_url)"
   ]
  },
  {
   "cell_type": "code",
   "execution_count": 13,
   "metadata": {
    "execution": {
     "iopub.execute_input": "2021-10-21T20:20:15.482086Z",
     "iopub.status.busy": "2021-10-21T20:20:15.481066Z",
     "iopub.status.idle": "2021-10-21T20:20:15.484743Z",
     "shell.execute_reply": "2021-10-21T20:20:15.484238Z"
    }
   },
   "outputs": [],
   "source": [
    "string = dw_r.text"
   ]
  },
  {
   "cell_type": "code",
   "execution_count": 14,
   "metadata": {
    "execution": {
     "iopub.execute_input": "2021-10-21T20:20:15.488648Z",
     "iopub.status.busy": "2021-10-21T20:20:15.488132Z",
     "iopub.status.idle": "2021-10-21T20:20:15.491430Z",
     "shell.execute_reply": "2021-10-21T20:20:15.491835Z"
    }
   },
   "outputs": [],
   "source": [
    "parsed = string.split(\"\\r\\n\")"
   ]
  },
  {
   "cell_type": "code",
   "execution_count": 15,
   "metadata": {
    "execution": {
     "iopub.execute_input": "2021-10-21T20:20:15.496369Z",
     "iopub.status.busy": "2021-10-21T20:20:15.495847Z",
     "iopub.status.idle": "2021-10-21T20:20:15.501087Z",
     "shell.execute_reply": "2021-10-21T20:20:15.500629Z"
    }
   },
   "outputs": [],
   "source": [
    "data_list = []\n",
    "for row in parsed:\n",
    "    cell = row.split(\",\")\n",
    "    data_list.append(cell)"
   ]
  },
  {
   "cell_type": "code",
   "execution_count": 16,
   "metadata": {
    "execution": {
     "iopub.execute_input": "2021-10-21T20:20:15.511855Z",
     "iopub.status.busy": "2021-10-21T20:20:15.508621Z",
     "iopub.status.idle": "2021-10-21T20:20:15.516131Z",
     "shell.execute_reply": "2021-10-21T20:20:15.515643Z"
    }
   },
   "outputs": [
    {
     "data": {
      "text/plain": [
       "[['Supervisorial District', 'District Total', 'Zip Code', 'Zip Code Total'],\n",
       " ['District 1', '771', '95457', '261'],\n",
       " ['', '', '95467', '344'],\n",
       " ['', '', '95461', '166'],\n",
       " ['District 2', '1647', '95422', '1627'],\n",
       " ['', '', '95424', '20'],\n",
       " ['District 3', '1100', '95423', '256'],\n",
       " ['', '', '95458', '271'],\n",
       " ['', '', '95464', '261'],\n",
       " ['', '', '95485', '291'],\n",
       " ['', '', '95493', '11'],\n",
       " ['', '', '95443', '10'],\n",
       " ['District 4', '1434', '95453', '1388'],\n",
       " ['', '', '95435', '46'],\n",
       " ['District 5', '1150', '95426', '62'],\n",
       " ['', '', '95451', '1088'],\n",
       " ['Unknown or Other', '99', 'Unknown/other', '99']]"
      ]
     },
     "execution_count": 16,
     "metadata": {},
     "output_type": "execute_result"
    }
   ],
   "source": [
    "data_list"
   ]
  },
  {
   "cell_type": "code",
   "execution_count": 17,
   "metadata": {
    "execution": {
     "iopub.execute_input": "2021-10-21T20:20:15.523104Z",
     "iopub.status.busy": "2021-10-21T20:20:15.522530Z",
     "iopub.status.idle": "2021-10-21T20:20:15.525204Z",
     "shell.execute_reply": "2021-10-21T20:20:15.524771Z"
    }
   },
   "outputs": [],
   "source": [
    "df = pd.DataFrame(data_list[1:], columns=data_list[0])"
   ]
  },
  {
   "cell_type": "markdown",
   "metadata": {},
   "source": [
    "### Get timestamp"
   ]
  },
  {
   "cell_type": "code",
   "execution_count": 18,
   "metadata": {
    "execution": {
     "iopub.execute_input": "2021-10-21T20:20:15.532746Z",
     "iopub.status.busy": "2021-10-21T20:20:15.532213Z",
     "iopub.status.idle": "2021-10-21T20:20:15.534517Z",
     "shell.execute_reply": "2021-10-21T20:20:15.534050Z"
    }
   },
   "outputs": [],
   "source": [
    "title_tag = soup.find(\"meta\", {\"property\": \"og:title\"})"
   ]
  },
  {
   "cell_type": "code",
   "execution_count": 19,
   "metadata": {
    "execution": {
     "iopub.execute_input": "2021-10-21T20:20:15.540245Z",
     "iopub.status.busy": "2021-10-21T20:20:15.539034Z",
     "iopub.status.idle": "2021-10-21T20:20:15.540847Z",
     "shell.execute_reply": "2021-10-21T20:20:15.541272Z"
    }
   },
   "outputs": [],
   "source": [
    "title_str = title_tag[\"content\"]"
   ]
  },
  {
   "cell_type": "code",
   "execution_count": 20,
   "metadata": {
    "execution": {
     "iopub.execute_input": "2021-10-21T20:20:15.546063Z",
     "iopub.status.busy": "2021-10-21T20:20:15.545013Z",
     "iopub.status.idle": "2021-10-21T20:20:15.548141Z",
     "shell.execute_reply": "2021-10-21T20:20:15.548578Z"
    }
   },
   "outputs": [
    {
     "data": {
      "text/plain": [
       "'Lake County COVID-19 cases, by district and zip code, through 9/30/21 | Created with Datawrapper'"
      ]
     },
     "execution_count": 20,
     "metadata": {},
     "output_type": "execute_result"
    }
   ],
   "source": [
    "title_str"
   ]
  },
  {
   "cell_type": "code",
   "execution_count": 21,
   "metadata": {
    "execution": {
     "iopub.execute_input": "2021-10-21T20:20:15.554818Z",
     "iopub.status.busy": "2021-10-21T20:20:15.553613Z",
     "iopub.status.idle": "2021-10-21T20:20:15.555422Z",
     "shell.execute_reply": "2021-10-21T20:20:15.555850Z"
    }
   },
   "outputs": [],
   "source": [
    "date_regex = re.search(r\"(\\d+/\\d+/\\d+)\", title_str)"
   ]
  },
  {
   "cell_type": "code",
   "execution_count": 22,
   "metadata": {
    "execution": {
     "iopub.execute_input": "2021-10-21T20:20:15.559581Z",
     "iopub.status.busy": "2021-10-21T20:20:15.559056Z",
     "iopub.status.idle": "2021-10-21T20:20:15.562690Z",
     "shell.execute_reply": "2021-10-21T20:20:15.562254Z"
    }
   },
   "outputs": [],
   "source": [
    "date_str = date_regex.group(1)"
   ]
  },
  {
   "cell_type": "code",
   "execution_count": 23,
   "metadata": {
    "execution": {
     "iopub.execute_input": "2021-10-21T20:20:15.568032Z",
     "iopub.status.busy": "2021-10-21T20:20:15.567515Z",
     "iopub.status.idle": "2021-10-21T20:20:15.571042Z",
     "shell.execute_reply": "2021-10-21T20:20:15.570570Z"
    }
   },
   "outputs": [],
   "source": [
    "latest_date = pd.to_datetime(date_str).date()"
   ]
  },
  {
   "cell_type": "code",
   "execution_count": 24,
   "metadata": {
    "execution": {
     "iopub.execute_input": "2021-10-21T20:20:15.575017Z",
     "iopub.status.busy": "2021-10-21T20:20:15.573107Z",
     "iopub.status.idle": "2021-10-21T20:20:15.578614Z",
     "shell.execute_reply": "2021-10-21T20:20:15.578172Z"
    }
   },
   "outputs": [],
   "source": [
    "df[\"county_date\"] = latest_date"
   ]
  },
  {
   "cell_type": "markdown",
   "metadata": {},
   "source": [
    "### Rename and drop columns"
   ]
  },
  {
   "cell_type": "code",
   "execution_count": 25,
   "metadata": {
    "execution": {
     "iopub.execute_input": "2021-10-21T20:20:15.582714Z",
     "iopub.status.busy": "2021-10-21T20:20:15.582191Z",
     "iopub.status.idle": "2021-10-21T20:20:15.585837Z",
     "shell.execute_reply": "2021-10-21T20:20:15.585375Z"
    }
   },
   "outputs": [],
   "source": [
    "cols = {\"Zip Code\": \"area\", \"Zip Code Total\": \"confirmed_cases\"}"
   ]
  },
  {
   "cell_type": "code",
   "execution_count": 26,
   "metadata": {
    "execution": {
     "iopub.execute_input": "2021-10-21T20:20:15.592601Z",
     "iopub.status.busy": "2021-10-21T20:20:15.592094Z",
     "iopub.status.idle": "2021-10-21T20:20:15.596301Z",
     "shell.execute_reply": "2021-10-21T20:20:15.595863Z"
    }
   },
   "outputs": [],
   "source": [
    "export_df = df.rename(columns=cols)[[\"area\", \"confirmed_cases\", \"county_date\"]]"
   ]
  },
  {
   "cell_type": "code",
   "execution_count": 27,
   "metadata": {
    "execution": {
     "iopub.execute_input": "2021-10-21T20:20:15.601170Z",
     "iopub.status.busy": "2021-10-21T20:20:15.600115Z",
     "iopub.status.idle": "2021-10-21T20:20:15.603278Z",
     "shell.execute_reply": "2021-10-21T20:20:15.603743Z"
    }
   },
   "outputs": [
    {
     "data": {
      "text/plain": [
       "16"
      ]
     },
     "execution_count": 27,
     "metadata": {},
     "output_type": "execute_result"
    }
   ],
   "source": [
    "len(export_df)"
   ]
  },
  {
   "cell_type": "markdown",
   "metadata": {},
   "source": [
    "### Vet"
   ]
  },
  {
   "cell_type": "markdown",
   "metadata": {},
   "source": [
    "Lake County has 16 ZIP code areas, including \"Unknown\""
   ]
  },
  {
   "cell_type": "code",
   "execution_count": 28,
   "metadata": {
    "execution": {
     "iopub.execute_input": "2021-10-21T20:20:15.607329Z",
     "iopub.status.busy": "2021-10-21T20:20:15.606810Z",
     "iopub.status.idle": "2021-10-21T20:20:15.609482Z",
     "shell.execute_reply": "2021-10-21T20:20:15.609920Z"
    }
   },
   "outputs": [],
   "source": [
    "lake_len = 16"
   ]
  },
  {
   "cell_type": "code",
   "execution_count": 29,
   "metadata": {
    "execution": {
     "iopub.execute_input": "2021-10-21T20:20:15.614726Z",
     "iopub.status.busy": "2021-10-21T20:20:15.614203Z",
     "iopub.status.idle": "2021-10-21T20:20:15.618345Z",
     "shell.execute_reply": "2021-10-21T20:20:15.617910Z"
    }
   },
   "outputs": [],
   "source": [
    "try:\n",
    "    assert not len(export_df) > lake_len\n",
    "except AssertionError:\n",
    "    raise AssertionError(\n",
    "        \"Lake County scraper: spreadsheet has additional zip code(s) than previous\"\n",
    "    )"
   ]
  },
  {
   "cell_type": "code",
   "execution_count": 30,
   "metadata": {
    "execution": {
     "iopub.execute_input": "2021-10-21T20:20:15.624075Z",
     "iopub.status.busy": "2021-10-21T20:20:15.623546Z",
     "iopub.status.idle": "2021-10-21T20:20:15.627460Z",
     "shell.execute_reply": "2021-10-21T20:20:15.627036Z"
    }
   },
   "outputs": [],
   "source": [
    "try:\n",
    "    assert not len(export_df) < lake_len\n",
    "except AssertionError:\n",
    "    raise AssertionError(\"Lake County scraper: spreadsheet is missing row(s)\")"
   ]
  },
  {
   "cell_type": "markdown",
   "metadata": {},
   "source": [
    "### Export csv file"
   ]
  },
  {
   "cell_type": "markdown",
   "metadata": {},
   "source": [
    "Write csv file timestamped with today's date"
   ]
  },
  {
   "cell_type": "code",
   "execution_count": 31,
   "metadata": {
    "execution": {
     "iopub.execute_input": "2021-10-21T20:20:15.632053Z",
     "iopub.status.busy": "2021-10-21T20:20:15.631531Z",
     "iopub.status.idle": "2021-10-21T20:20:15.635390Z",
     "shell.execute_reply": "2021-10-21T20:20:15.634434Z"
    }
   },
   "outputs": [],
   "source": [
    "slug = \"lake\""
   ]
  },
  {
   "cell_type": "code",
   "execution_count": 32,
   "metadata": {
    "execution": {
     "iopub.execute_input": "2021-10-21T20:20:15.639138Z",
     "iopub.status.busy": "2021-10-21T20:20:15.638604Z",
     "iopub.status.idle": "2021-10-21T20:20:15.764902Z",
     "shell.execute_reply": "2021-10-21T20:20:15.763235Z"
    }
   },
   "outputs": [
    {
     "ename": "NameError",
     "evalue": "name 'today' is not defined",
     "output_type": "error",
     "traceback": [
      "\u001b[0;31m---------------------------------------------------------------------------\u001b[0m",
      "\u001b[0;31mNameError\u001b[0m                                 Traceback (most recent call last)",
      "\u001b[0;32m/tmp/ipykernel_3399/2436362009.py\u001b[0m in \u001b[0;36m<module>\u001b[0;34m\u001b[0m\n\u001b[0;32m----> 1\u001b[0;31m \u001b[0mexport_df\u001b[0m\u001b[0;34m.\u001b[0m\u001b[0mto_csv\u001b[0m\u001b[0;34m(\u001b[0m\u001b[0mdata_dir\u001b[0m \u001b[0;34m/\u001b[0m \u001b[0mslug\u001b[0m \u001b[0;34m/\u001b[0m \u001b[0;34mf\"{today}.csv\"\u001b[0m\u001b[0;34m,\u001b[0m \u001b[0mindex\u001b[0m\u001b[0;34m=\u001b[0m\u001b[0;32mFalse\u001b[0m\u001b[0;34m)\u001b[0m\u001b[0;34m\u001b[0m\u001b[0;34m\u001b[0m\u001b[0m\n\u001b[0m",
      "\u001b[0;31mNameError\u001b[0m: name 'today' is not defined"
     ]
    }
   ],
   "source": [
    "export_df.to_csv(data_dir / slug / f\"{today}.csv\", index=False)"
   ]
  },
  {
   "cell_type": "markdown",
   "metadata": {},
   "source": [
    "## Combine"
   ]
  },
  {
   "cell_type": "code",
   "execution_count": 260,
   "metadata": {},
   "outputs": [],
   "source": [
    "csv_list = [\n",
    "    i\n",
    "    for i in glob.glob(str(data_dir / slug / \"*.csv\"))\n",
    "    if not str(i).endswith(\"timeseries.csv\")\n",
    "]"
   ]
  },
  {
   "cell_type": "code",
   "execution_count": 261,
   "metadata": {},
   "outputs": [],
   "source": [
    "df_list = []\n",
    "for csv in csv_list:\n",
    "    if \"manual\" in csv:\n",
    "        df = pd.read_csv(csv, parse_dates=[\"date\"])\n",
    "    else:\n",
    "        file_date = csv.split(\"/\")[-1].replace(\".csv\", \"\")\n",
    "        df = pd.read_csv(csv, parse_dates=[\"county_date\"])\n",
    "        df[\"date\"] = file_date\n",
    "    df_list.append(df)"
   ]
  },
  {
   "cell_type": "code",
   "execution_count": 262,
   "metadata": {},
   "outputs": [],
   "source": [
    "df = pd.concat(df_list).sort_values([\"date\", \"area\"])"
   ]
  },
  {
   "cell_type": "code",
   "execution_count": 263,
   "metadata": {},
   "outputs": [],
   "source": [
    "df.to_csv(data_dir / slug / \"timeseries.csv\", index=False)"
   ]
  }
 ],
 "metadata": {
  "kernelspec": {
   "display_name": "Python 3 (ipykernel)",
   "language": "python",
   "name": "python3"
  },
  "language_info": {
   "codemirror_mode": {
    "name": "ipython",
    "version": 3
   },
   "file_extension": ".py",
   "mimetype": "text/x-python",
   "name": "python",
   "nbconvert_exporter": "python",
   "pygments_lexer": "ipython3",
   "version": "3.8.12"
  }
 },
 "nbformat": 4,
 "nbformat_minor": 4
}
