{
 "cells": [
  {
   "cell_type": "markdown",
   "metadata": {},
   "source": [
    "## Configuration\n",
    "_Initial steps to get the notebook ready to play nice with our repository. Do not delete this section._"
   ]
  },
  {
   "cell_type": "markdown",
   "metadata": {},
   "source": [
    "Code formatting with [black](https://pypi.org/project/nb-black/)."
   ]
  },
  {
   "cell_type": "code",
   "execution_count": 1,
   "metadata": {
    "execution": {
     "iopub.execute_input": "2021-10-21T04:20:52.421136Z",
     "iopub.status.busy": "2021-10-21T04:20:52.418579Z",
     "iopub.status.idle": "2021-10-21T04:20:52.561367Z",
     "shell.execute_reply": "2021-10-21T04:20:52.560727Z"
    }
   },
   "outputs": [],
   "source": [
    "%load_ext lab_black"
   ]
  },
  {
   "cell_type": "code",
   "execution_count": 2,
   "metadata": {
    "execution": {
     "iopub.execute_input": "2021-10-21T04:20:52.565792Z",
     "iopub.status.busy": "2021-10-21T04:20:52.565165Z",
     "iopub.status.idle": "2021-10-21T04:20:52.571410Z",
     "shell.execute_reply": "2021-10-21T04:20:52.573063Z"
    }
   },
   "outputs": [],
   "source": [
    "import os\n",
    "import pathlib"
   ]
  },
  {
   "cell_type": "code",
   "execution_count": 3,
   "metadata": {
    "execution": {
     "iopub.execute_input": "2021-10-21T04:20:52.579579Z",
     "iopub.status.busy": "2021-10-21T04:20:52.578464Z",
     "iopub.status.idle": "2021-10-21T04:20:52.585858Z",
     "shell.execute_reply": "2021-10-21T04:20:52.584833Z"
    }
   },
   "outputs": [],
   "source": [
    "this_dir = pathlib.Path(os.path.abspath(\"\"))"
   ]
  },
  {
   "cell_type": "code",
   "execution_count": 4,
   "metadata": {
    "execution": {
     "iopub.execute_input": "2021-10-21T04:20:52.592161Z",
     "iopub.status.busy": "2021-10-21T04:20:52.590966Z",
     "iopub.status.idle": "2021-10-21T04:20:52.595702Z",
     "shell.execute_reply": "2021-10-21T04:20:52.595028Z"
    }
   },
   "outputs": [],
   "source": [
    "data_dir = this_dir / \"data\""
   ]
  },
  {
   "cell_type": "code",
   "execution_count": 5,
   "metadata": {
    "execution": {
     "iopub.execute_input": "2021-10-21T04:20:52.603107Z",
     "iopub.status.busy": "2021-10-21T04:20:52.602480Z",
     "iopub.status.idle": "2021-10-21T04:20:53.062884Z",
     "shell.execute_reply": "2021-10-21T04:20:53.061811Z"
    }
   },
   "outputs": [],
   "source": [
    "import re\n",
    "import pytz\n",
    "import glob\n",
    "import requests\n",
    "import unicodedata\n",
    "import json\n",
    "import pandas as pd\n",
    "from datetime import datetime\n",
    "from bs4 import BeautifulSoup"
   ]
  },
  {
   "cell_type": "markdown",
   "metadata": {},
   "source": [
    "### Download / retrieve the page"
   ]
  },
  {
   "cell_type": "markdown",
   "metadata": {},
   "source": [
    "Lake County's [dashboard](http://health.co.lake.ca.us/Coronavirus/COVID-19_Data.htm) uses Datawrapper to display cases by ZIP Code. To make sure we get the latest, we'll hit the chart page on Datawrapper's website, then get the iframe URL."
   ]
  },
  {
   "cell_type": "code",
   "execution_count": 6,
   "metadata": {
    "execution": {
     "iopub.execute_input": "2021-10-21T04:20:53.067746Z",
     "iopub.status.busy": "2021-10-21T04:20:53.067112Z",
     "iopub.status.idle": "2021-10-21T04:20:53.070219Z",
     "shell.execute_reply": "2021-10-21T04:20:53.070682Z"
    }
   },
   "outputs": [],
   "source": [
    "url = \"https://www.datawrapper.de/_/D1RaA/\""
   ]
  },
  {
   "cell_type": "code",
   "execution_count": 7,
   "metadata": {
    "execution": {
     "iopub.execute_input": "2021-10-21T04:20:53.074643Z",
     "iopub.status.busy": "2021-10-21T04:20:53.073028Z",
     "iopub.status.idle": "2021-10-21T04:20:53.275770Z",
     "shell.execute_reply": "2021-10-21T04:20:53.275182Z"
    }
   },
   "outputs": [],
   "source": [
    "page = requests.get(url)"
   ]
  },
  {
   "cell_type": "markdown",
   "metadata": {},
   "source": [
    "### Parse with BeautifulSoup"
   ]
  },
  {
   "cell_type": "code",
   "execution_count": 8,
   "metadata": {
    "execution": {
     "iopub.execute_input": "2021-10-21T04:20:53.283312Z",
     "iopub.status.busy": "2021-10-21T04:20:53.281928Z",
     "iopub.status.idle": "2021-10-21T04:20:53.285854Z",
     "shell.execute_reply": "2021-10-21T04:20:53.286359Z"
    }
   },
   "outputs": [],
   "source": [
    "soup = BeautifulSoup(page.content, \"html.parser\")"
   ]
  },
  {
   "cell_type": "code",
   "execution_count": 9,
   "metadata": {
    "execution": {
     "iopub.execute_input": "2021-10-21T04:20:53.291535Z",
     "iopub.status.busy": "2021-10-21T04:20:53.290868Z",
     "iopub.status.idle": "2021-10-21T04:20:53.295396Z",
     "shell.execute_reply": "2021-10-21T04:20:53.294769Z"
    }
   },
   "outputs": [],
   "source": [
    "meta = soup.find(\"meta\", {\"property\": \"og:url\"})"
   ]
  },
  {
   "cell_type": "code",
   "execution_count": 10,
   "metadata": {
    "execution": {
     "iopub.execute_input": "2021-10-21T04:20:53.301049Z",
     "iopub.status.busy": "2021-10-21T04:20:53.299923Z",
     "iopub.status.idle": "2021-10-21T04:20:53.303058Z",
     "shell.execute_reply": "2021-10-21T04:20:53.303561Z"
    }
   },
   "outputs": [],
   "source": [
    "dw_url = meta[\"content\"]"
   ]
  },
  {
   "cell_type": "markdown",
   "metadata": {},
   "source": [
    "### Parse Datawrapper"
   ]
  },
  {
   "cell_type": "code",
   "execution_count": 11,
   "metadata": {
    "execution": {
     "iopub.execute_input": "2021-10-21T04:20:53.309107Z",
     "iopub.status.busy": "2021-10-21T04:20:53.308459Z",
     "iopub.status.idle": "2021-10-21T04:20:53.311443Z",
     "shell.execute_reply": "2021-10-21T04:20:53.310876Z"
    }
   },
   "outputs": [],
   "source": [
    "dataset_url = dw_url + \"dataset.csv\""
   ]
  },
  {
   "cell_type": "code",
   "execution_count": 12,
   "metadata": {
    "execution": {
     "iopub.execute_input": "2021-10-21T04:20:53.318705Z",
     "iopub.status.busy": "2021-10-21T04:20:53.318090Z",
     "iopub.status.idle": "2021-10-21T04:20:53.454571Z",
     "shell.execute_reply": "2021-10-21T04:20:53.453364Z"
    }
   },
   "outputs": [],
   "source": [
    "dw_r = requests.get(dataset_url)"
   ]
  },
  {
   "cell_type": "code",
   "execution_count": 13,
   "metadata": {
    "execution": {
     "iopub.execute_input": "2021-10-21T04:20:53.463085Z",
     "iopub.status.busy": "2021-10-21T04:20:53.462474Z",
     "iopub.status.idle": "2021-10-21T04:20:53.469084Z",
     "shell.execute_reply": "2021-10-21T04:20:53.468006Z"
    }
   },
   "outputs": [],
   "source": [
    "string = dw_r.text"
   ]
  },
  {
   "cell_type": "code",
   "execution_count": 14,
   "metadata": {
    "execution": {
     "iopub.execute_input": "2021-10-21T04:20:53.474832Z",
     "iopub.status.busy": "2021-10-21T04:20:53.474218Z",
     "iopub.status.idle": "2021-10-21T04:20:53.477902Z",
     "shell.execute_reply": "2021-10-21T04:20:53.478426Z"
    }
   },
   "outputs": [],
   "source": [
    "parsed = string.split(\"\\r\\n\")"
   ]
  },
  {
   "cell_type": "code",
   "execution_count": 15,
   "metadata": {
    "execution": {
     "iopub.execute_input": "2021-10-21T04:20:53.487113Z",
     "iopub.status.busy": "2021-10-21T04:20:53.483124Z",
     "iopub.status.idle": "2021-10-21T04:20:53.490690Z",
     "shell.execute_reply": "2021-10-21T04:20:53.491210Z"
    }
   },
   "outputs": [],
   "source": [
    "data_list = []\n",
    "for row in parsed:\n",
    "    cell = row.split(\",\")\n",
    "    data_list.append(cell)"
   ]
  },
  {
   "cell_type": "code",
   "execution_count": 16,
   "metadata": {
    "execution": {
     "iopub.execute_input": "2021-10-21T04:20:53.499844Z",
     "iopub.status.busy": "2021-10-21T04:20:53.499174Z",
     "iopub.status.idle": "2021-10-21T04:20:53.510673Z",
     "shell.execute_reply": "2021-10-21T04:20:53.510140Z"
    }
   },
   "outputs": [
    {
     "data": {
      "text/plain": [
       "[['Supervisorial District', 'District Total', 'Zip Code', 'Zip Code Total'],\n",
       " ['District 1', '771', '95457', '261'],\n",
       " ['', '', '95467', '344'],\n",
       " ['', '', '95461', '166'],\n",
       " ['District 2', '1647', '95422', '1627'],\n",
       " ['', '', '95424', '20'],\n",
       " ['District 3', '1100', '95423', '256'],\n",
       " ['', '', '95458', '271'],\n",
       " ['', '', '95464', '261'],\n",
       " ['', '', '95485', '291'],\n",
       " ['', '', '95493', '11'],\n",
       " ['', '', '95443', '10'],\n",
       " ['District 4', '1434', '95453', '1388'],\n",
       " ['', '', '95435', '46'],\n",
       " ['District 5', '1150', '95426', '62'],\n",
       " ['', '', '95451', '1088'],\n",
       " ['Unknown or Other', '99', 'Unknown/other', '99']]"
      ]
     },
     "execution_count": 16,
     "metadata": {},
     "output_type": "execute_result"
    }
   ],
   "source": [
    "data_list"
   ]
  },
  {
   "cell_type": "code",
   "execution_count": 17,
   "metadata": {
    "execution": {
     "iopub.execute_input": "2021-10-21T04:20:53.518945Z",
     "iopub.status.busy": "2021-10-21T04:20:53.516130Z",
     "iopub.status.idle": "2021-10-21T04:20:53.521802Z",
     "shell.execute_reply": "2021-10-21T04:20:53.522305Z"
    }
   },
   "outputs": [],
   "source": [
    "df = pd.DataFrame(data_list[1:], columns=data_list[0])"
   ]
  },
  {
   "cell_type": "markdown",
   "metadata": {},
   "source": [
    "### Get timestamp"
   ]
  },
  {
   "cell_type": "code",
   "execution_count": 18,
   "metadata": {
    "execution": {
     "iopub.execute_input": "2021-10-21T04:20:53.528862Z",
     "iopub.status.busy": "2021-10-21T04:20:53.526378Z",
     "iopub.status.idle": "2021-10-21T04:20:53.532303Z",
     "shell.execute_reply": "2021-10-21T04:20:53.532776Z"
    }
   },
   "outputs": [],
   "source": [
    "title_tag = soup.find(\"meta\", {\"property\": \"og:title\"})"
   ]
  },
  {
   "cell_type": "code",
   "execution_count": 19,
   "metadata": {
    "execution": {
     "iopub.execute_input": "2021-10-21T04:20:53.538585Z",
     "iopub.status.busy": "2021-10-21T04:20:53.536388Z",
     "iopub.status.idle": "2021-10-21T04:20:53.541952Z",
     "shell.execute_reply": "2021-10-21T04:20:53.541408Z"
    }
   },
   "outputs": [],
   "source": [
    "title_str = title_tag[\"content\"]"
   ]
  },
  {
   "cell_type": "code",
   "execution_count": 20,
   "metadata": {
    "execution": {
     "iopub.execute_input": "2021-10-21T04:20:53.546702Z",
     "iopub.status.busy": "2021-10-21T04:20:53.545893Z",
     "iopub.status.idle": "2021-10-21T04:20:53.552367Z",
     "shell.execute_reply": "2021-10-21T04:20:53.552871Z"
    }
   },
   "outputs": [
    {
     "data": {
      "text/plain": [
       "'Lake County COVID-19 cases, by district and zip code, through 9/30/21 | Created with Datawrapper'"
      ]
     },
     "execution_count": 20,
     "metadata": {},
     "output_type": "execute_result"
    }
   ],
   "source": [
    "title_str"
   ]
  },
  {
   "cell_type": "code",
   "execution_count": 21,
   "metadata": {
    "execution": {
     "iopub.execute_input": "2021-10-21T04:20:53.559466Z",
     "iopub.status.busy": "2021-10-21T04:20:53.557262Z",
     "iopub.status.idle": "2021-10-21T04:20:53.562053Z",
     "shell.execute_reply": "2021-10-21T04:20:53.562522Z"
    }
   },
   "outputs": [],
   "source": [
    "date_regex = re.search(r\"(\\d+/\\d+/\\d+)\", title_str)"
   ]
  },
  {
   "cell_type": "code",
   "execution_count": 22,
   "metadata": {
    "execution": {
     "iopub.execute_input": "2021-10-21T04:20:53.566927Z",
     "iopub.status.busy": "2021-10-21T04:20:53.566323Z",
     "iopub.status.idle": "2021-10-21T04:20:53.571524Z",
     "shell.execute_reply": "2021-10-21T04:20:53.570895Z"
    }
   },
   "outputs": [],
   "source": [
    "date_str = date_regex.group(1)"
   ]
  },
  {
   "cell_type": "code",
   "execution_count": 23,
   "metadata": {
    "execution": {
     "iopub.execute_input": "2021-10-21T04:20:53.578870Z",
     "iopub.status.busy": "2021-10-21T04:20:53.573694Z",
     "iopub.status.idle": "2021-10-21T04:20:53.582422Z",
     "shell.execute_reply": "2021-10-21T04:20:53.581586Z"
    }
   },
   "outputs": [],
   "source": [
    "latest_date = pd.to_datetime(date_str).date()"
   ]
  },
  {
   "cell_type": "code",
   "execution_count": 24,
   "metadata": {
    "execution": {
     "iopub.execute_input": "2021-10-21T04:20:53.589329Z",
     "iopub.status.busy": "2021-10-21T04:20:53.588054Z",
     "iopub.status.idle": "2021-10-21T04:20:53.592982Z",
     "shell.execute_reply": "2021-10-21T04:20:53.592181Z"
    }
   },
   "outputs": [],
   "source": [
    "df[\"county_date\"] = latest_date"
   ]
  },
  {
   "cell_type": "markdown",
   "metadata": {},
   "source": [
    "### Rename and drop columns"
   ]
  },
  {
   "cell_type": "code",
   "execution_count": 25,
   "metadata": {
    "execution": {
     "iopub.execute_input": "2021-10-21T04:20:53.599630Z",
     "iopub.status.busy": "2021-10-21T04:20:53.595483Z",
     "iopub.status.idle": "2021-10-21T04:20:53.603196Z",
     "shell.execute_reply": "2021-10-21T04:20:53.602407Z"
    }
   },
   "outputs": [],
   "source": [
    "cols = {\"Zip Code\": \"area\", \"Zip Code Total\": \"confirmed_cases\"}"
   ]
  },
  {
   "cell_type": "code",
   "execution_count": 26,
   "metadata": {
    "execution": {
     "iopub.execute_input": "2021-10-21T04:20:53.614290Z",
     "iopub.status.busy": "2021-10-21T04:20:53.606604Z",
     "iopub.status.idle": "2021-10-21T04:20:53.619108Z",
     "shell.execute_reply": "2021-10-21T04:20:53.618093Z"
    }
   },
   "outputs": [],
   "source": [
    "export_df = df.rename(columns=cols)[[\"area\", \"confirmed_cases\", \"county_date\"]]"
   ]
  },
  {
   "cell_type": "code",
   "execution_count": 27,
   "metadata": {
    "execution": {
     "iopub.execute_input": "2021-10-21T04:20:53.624111Z",
     "iopub.status.busy": "2021-10-21T04:20:53.623497Z",
     "iopub.status.idle": "2021-10-21T04:20:53.628783Z",
     "shell.execute_reply": "2021-10-21T04:20:53.627642Z"
    }
   },
   "outputs": [
    {
     "data": {
      "text/plain": [
       "16"
      ]
     },
     "execution_count": 27,
     "metadata": {},
     "output_type": "execute_result"
    }
   ],
   "source": [
    "len(export_df)"
   ]
  },
  {
   "cell_type": "markdown",
   "metadata": {},
   "source": [
    "### Vet"
   ]
  },
  {
   "cell_type": "markdown",
   "metadata": {},
   "source": [
    "Lake County has 16 ZIP code areas, including \"Unknown\""
   ]
  },
  {
   "cell_type": "code",
   "execution_count": 28,
   "metadata": {
    "execution": {
     "iopub.execute_input": "2021-10-21T04:20:53.633534Z",
     "iopub.status.busy": "2021-10-21T04:20:53.631912Z",
     "iopub.status.idle": "2021-10-21T04:20:53.637329Z",
     "shell.execute_reply": "2021-10-21T04:20:53.636793Z"
    }
   },
   "outputs": [],
   "source": [
    "lake_len = 16"
   ]
  },
  {
   "cell_type": "code",
   "execution_count": 29,
   "metadata": {
    "execution": {
     "iopub.execute_input": "2021-10-21T04:20:53.645456Z",
     "iopub.status.busy": "2021-10-21T04:20:53.642363Z",
     "iopub.status.idle": "2021-10-21T04:20:53.649114Z",
     "shell.execute_reply": "2021-10-21T04:20:53.648548Z"
    }
   },
   "outputs": [],
   "source": [
    "try:\n",
    "    assert not len(export_df) > lake_len\n",
    "except AssertionError:\n",
    "    raise AssertionError(\n",
    "        \"Lake County scraper: spreadsheet has additional zip code(s) than previous\"\n",
    "    )"
   ]
  },
  {
   "cell_type": "code",
   "execution_count": 30,
   "metadata": {
    "execution": {
     "iopub.execute_input": "2021-10-21T04:20:53.656028Z",
     "iopub.status.busy": "2021-10-21T04:20:53.653921Z",
     "iopub.status.idle": "2021-10-21T04:20:53.659464Z",
     "shell.execute_reply": "2021-10-21T04:20:53.660000Z"
    }
   },
   "outputs": [],
   "source": [
    "try:\n",
    "    assert not len(export_df) < lake_len\n",
    "except AssertionError:\n",
    "    raise AssertionError(\"Lake County scraper: spreadsheet is missing row(s)\")"
   ]
  },
  {
   "cell_type": "markdown",
   "metadata": {},
   "source": [
    "### Export csv file"
   ]
  },
  {
   "cell_type": "markdown",
   "metadata": {},
   "source": [
    "Write csv file timestamped with today's date"
   ]
  },
  {
   "cell_type": "code",
   "execution_count": 31,
   "metadata": {
    "execution": {
     "iopub.execute_input": "2021-10-21T04:20:53.664230Z",
     "iopub.status.busy": "2021-10-21T04:20:53.663610Z",
     "iopub.status.idle": "2021-10-21T04:20:53.667395Z",
     "shell.execute_reply": "2021-10-21T04:20:53.667926Z"
    }
   },
   "outputs": [],
   "source": [
    "slug = \"lake\""
   ]
  },
  {
   "cell_type": "code",
   "execution_count": 32,
   "metadata": {
    "execution": {
     "iopub.execute_input": "2021-10-21T04:20:53.677837Z",
     "iopub.status.busy": "2021-10-21T04:20:53.676858Z",
     "iopub.status.idle": "2021-10-21T04:20:53.816610Z",
     "shell.execute_reply": "2021-10-21T04:20:53.815945Z"
    }
   },
   "outputs": [
    {
     "ename": "NameError",
     "evalue": "name 'today' is not defined",
     "output_type": "error",
     "traceback": [
      "\u001b[0;31m---------------------------------------------------------------------------\u001b[0m",
      "\u001b[0;31mNameError\u001b[0m                                 Traceback (most recent call last)",
      "\u001b[0;32m/tmp/ipykernel_3079/2436362009.py\u001b[0m in \u001b[0;36m<module>\u001b[0;34m\u001b[0m\n\u001b[0;32m----> 1\u001b[0;31m \u001b[0mexport_df\u001b[0m\u001b[0;34m.\u001b[0m\u001b[0mto_csv\u001b[0m\u001b[0;34m(\u001b[0m\u001b[0mdata_dir\u001b[0m \u001b[0;34m/\u001b[0m \u001b[0mslug\u001b[0m \u001b[0;34m/\u001b[0m \u001b[0;34mf\"{today}.csv\"\u001b[0m\u001b[0;34m,\u001b[0m \u001b[0mindex\u001b[0m\u001b[0;34m=\u001b[0m\u001b[0;32mFalse\u001b[0m\u001b[0;34m)\u001b[0m\u001b[0;34m\u001b[0m\u001b[0;34m\u001b[0m\u001b[0m\n\u001b[0m",
      "\u001b[0;31mNameError\u001b[0m: name 'today' is not defined"
     ]
    }
   ],
   "source": [
    "export_df.to_csv(data_dir / slug / f\"{today}.csv\", index=False)"
   ]
  },
  {
   "cell_type": "markdown",
   "metadata": {},
   "source": [
    "## Combine"
   ]
  },
  {
   "cell_type": "code",
   "execution_count": 260,
   "metadata": {},
   "outputs": [],
   "source": [
    "csv_list = [\n",
    "    i\n",
    "    for i in glob.glob(str(data_dir / slug / \"*.csv\"))\n",
    "    if not str(i).endswith(\"timeseries.csv\")\n",
    "]"
   ]
  },
  {
   "cell_type": "code",
   "execution_count": 261,
   "metadata": {},
   "outputs": [],
   "source": [
    "df_list = []\n",
    "for csv in csv_list:\n",
    "    if \"manual\" in csv:\n",
    "        df = pd.read_csv(csv, parse_dates=[\"date\"])\n",
    "    else:\n",
    "        file_date = csv.split(\"/\")[-1].replace(\".csv\", \"\")\n",
    "        df = pd.read_csv(csv, parse_dates=[\"county_date\"])\n",
    "        df[\"date\"] = file_date\n",
    "    df_list.append(df)"
   ]
  },
  {
   "cell_type": "code",
   "execution_count": 262,
   "metadata": {},
   "outputs": [],
   "source": [
    "df = pd.concat(df_list).sort_values([\"date\", \"area\"])"
   ]
  },
  {
   "cell_type": "code",
   "execution_count": 263,
   "metadata": {},
   "outputs": [],
   "source": [
    "df.to_csv(data_dir / slug / \"timeseries.csv\", index=False)"
   ]
  }
 ],
 "metadata": {
  "kernelspec": {
   "display_name": "Python 3 (ipykernel)",
   "language": "python",
   "name": "python3"
  },
  "language_info": {
   "codemirror_mode": {
    "name": "ipython",
    "version": 3
   },
   "file_extension": ".py",
   "mimetype": "text/x-python",
   "name": "python",
   "nbconvert_exporter": "python",
   "pygments_lexer": "ipython3",
   "version": "3.8.12"
  }
 },
 "nbformat": 4,
 "nbformat_minor": 4
}
