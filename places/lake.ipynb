{
 "cells": [
  {
   "cell_type": "markdown",
   "metadata": {},
   "source": [
    "## Configuration\n",
    "_Initial steps to get the notebook ready to play nice with our repository. Do not delete this section._"
   ]
  },
  {
   "cell_type": "markdown",
   "metadata": {},
   "source": [
    "Code formatting with [black](https://pypi.org/project/nb-black/)."
   ]
  },
  {
   "cell_type": "code",
   "execution_count": 1,
   "metadata": {
    "execution": {
     "iopub.execute_input": "2021-10-14T20:19:49.931440Z",
     "iopub.status.busy": "2021-10-14T20:19:49.931049Z",
     "iopub.status.idle": "2021-10-14T20:19:50.049052Z",
     "shell.execute_reply": "2021-10-14T20:19:50.048446Z"
    }
   },
   "outputs": [],
   "source": [
    "%load_ext lab_black"
   ]
  },
  {
   "cell_type": "code",
   "execution_count": 2,
   "metadata": {
    "execution": {
     "iopub.execute_input": "2021-10-14T20:19:50.054601Z",
     "iopub.status.busy": "2021-10-14T20:19:50.053762Z",
     "iopub.status.idle": "2021-10-14T20:19:50.058387Z",
     "shell.execute_reply": "2021-10-14T20:19:50.058737Z"
    }
   },
   "outputs": [],
   "source": [
    "import os\n",
    "import pathlib"
   ]
  },
  {
   "cell_type": "code",
   "execution_count": 3,
   "metadata": {
    "execution": {
     "iopub.execute_input": "2021-10-14T20:19:50.065001Z",
     "iopub.status.busy": "2021-10-14T20:19:50.063981Z",
     "iopub.status.idle": "2021-10-14T20:19:50.065518Z",
     "shell.execute_reply": "2021-10-14T20:19:50.065883Z"
    }
   },
   "outputs": [],
   "source": [
    "this_dir = pathlib.Path(os.path.abspath(\"\"))"
   ]
  },
  {
   "cell_type": "code",
   "execution_count": 4,
   "metadata": {
    "execution": {
     "iopub.execute_input": "2021-10-14T20:19:50.070351Z",
     "iopub.status.busy": "2021-10-14T20:19:50.069367Z",
     "iopub.status.idle": "2021-10-14T20:19:50.070865Z",
     "shell.execute_reply": "2021-10-14T20:19:50.071227Z"
    }
   },
   "outputs": [],
   "source": [
    "data_dir = this_dir / \"data\""
   ]
  },
  {
   "cell_type": "code",
   "execution_count": 5,
   "metadata": {
    "execution": {
     "iopub.execute_input": "2021-10-14T20:19:50.074341Z",
     "iopub.status.busy": "2021-10-14T20:19:50.073936Z",
     "iopub.status.idle": "2021-10-14T20:19:50.443187Z",
     "shell.execute_reply": "2021-10-14T20:19:50.442683Z"
    }
   },
   "outputs": [],
   "source": [
    "import re\n",
    "import pytz\n",
    "import glob\n",
    "import requests\n",
    "import unicodedata\n",
    "import pandas as pd\n",
    "from datetime import datetime\n",
    "from bs4 import BeautifulSoup"
   ]
  },
  {
   "cell_type": "markdown",
   "metadata": {},
   "source": [
    "### Download / retrieve the page"
   ]
  },
  {
   "cell_type": "code",
   "execution_count": 6,
   "metadata": {
    "execution": {
     "iopub.execute_input": "2021-10-14T20:19:50.448097Z",
     "iopub.status.busy": "2021-10-14T20:19:50.447626Z",
     "iopub.status.idle": "2021-10-14T20:19:50.450199Z",
     "shell.execute_reply": "2021-10-14T20:19:50.450509Z"
    }
   },
   "outputs": [],
   "source": [
    "url = \"http://health.co.lake.ca.us/Coronavirus/COVID-19_Data.htm\""
   ]
  },
  {
   "cell_type": "code",
   "execution_count": 7,
   "metadata": {
    "execution": {
     "iopub.execute_input": "2021-10-14T20:19:50.453634Z",
     "iopub.status.busy": "2021-10-14T20:19:50.453242Z",
     "iopub.status.idle": "2021-10-14T20:19:50.855648Z",
     "shell.execute_reply": "2021-10-14T20:19:50.856193Z"
    }
   },
   "outputs": [],
   "source": [
    "page = requests.get(url)"
   ]
  },
  {
   "cell_type": "markdown",
   "metadata": {},
   "source": [
    "### Parse with BeautifulSoup"
   ]
  },
  {
   "cell_type": "code",
   "execution_count": 8,
   "metadata": {
    "execution": {
     "iopub.execute_input": "2021-10-14T20:19:50.865509Z",
     "iopub.status.busy": "2021-10-14T20:19:50.865089Z",
     "iopub.status.idle": "2021-10-14T20:19:50.890514Z",
     "shell.execute_reply": "2021-10-14T20:19:50.890921Z"
    }
   },
   "outputs": [],
   "source": [
    "soup = BeautifulSoup(page.content, \"html.parser\")"
   ]
  },
  {
   "cell_type": "markdown",
   "metadata": {},
   "source": [
    "### Get content well"
   ]
  },
  {
   "cell_type": "code",
   "execution_count": 9,
   "metadata": {
    "execution": {
     "iopub.execute_input": "2021-10-14T20:19:50.897581Z",
     "iopub.status.busy": "2021-10-14T20:19:50.896841Z",
     "iopub.status.idle": "2021-10-14T20:19:50.898329Z",
     "shell.execute_reply": "2021-10-14T20:19:50.898660Z"
    }
   },
   "outputs": [],
   "source": [
    "content = soup.find(\"div\", class_=\"content container\")"
   ]
  },
  {
   "cell_type": "markdown",
   "metadata": {},
   "source": [
    "### Extract timestamp from content"
   ]
  },
  {
   "cell_type": "markdown",
   "metadata": {},
   "source": [
    "Finding h3 after h2 demographics head"
   ]
  },
  {
   "cell_type": "code",
   "execution_count": 10,
   "metadata": {
    "execution": {
     "iopub.execute_input": "2021-10-14T20:19:50.903017Z",
     "iopub.status.busy": "2021-10-14T20:19:50.902116Z",
     "iopub.status.idle": "2021-10-14T20:19:50.905322Z",
     "shell.execute_reply": "2021-10-14T20:19:50.904942Z"
    }
   },
   "outputs": [],
   "source": [
    "prev_tag = content.find_all(\"h2\")[3]"
   ]
  },
  {
   "cell_type": "markdown",
   "metadata": {},
   "source": [
    "Find next h3"
   ]
  },
  {
   "cell_type": "code",
   "execution_count": 11,
   "metadata": {
    "execution": {
     "iopub.execute_input": "2021-10-14T20:19:50.909019Z",
     "iopub.status.busy": "2021-10-14T20:19:50.908218Z",
     "iopub.status.idle": "2021-10-14T20:19:50.911144Z",
     "shell.execute_reply": "2021-10-14T20:19:50.910816Z"
    }
   },
   "outputs": [],
   "source": [
    "next_tag = prev_tag.find_next(\"p\").text"
   ]
  },
  {
   "cell_type": "code",
   "execution_count": 12,
   "metadata": {
    "execution": {
     "iopub.execute_input": "2021-10-14T20:19:50.914435Z",
     "iopub.status.busy": "2021-10-14T20:19:50.914046Z",
     "iopub.status.idle": "2021-10-14T20:19:50.917627Z",
     "shell.execute_reply": "2021-10-14T20:19:50.917280Z"
    }
   },
   "outputs": [],
   "source": [
    "date = next_tag.replace(\"Last Update: \", \"\").split(\",\")[0]"
   ]
  },
  {
   "cell_type": "markdown",
   "metadata": {},
   "source": [
    "### Convert timestamp to python date obj"
   ]
  },
  {
   "cell_type": "code",
   "execution_count": 13,
   "metadata": {
    "execution": {
     "iopub.execute_input": "2021-10-14T20:19:50.920557Z",
     "iopub.status.busy": "2021-10-14T20:19:50.920127Z",
     "iopub.status.idle": "2021-10-14T20:19:50.936504Z",
     "shell.execute_reply": "2021-10-14T20:19:50.936138Z"
    }
   },
   "outputs": [],
   "source": [
    "tz = pytz.timezone(\"America/Los_Angeles\")"
   ]
  },
  {
   "cell_type": "code",
   "execution_count": 14,
   "metadata": {
    "execution": {
     "iopub.execute_input": "2021-10-14T20:19:50.939966Z",
     "iopub.status.busy": "2021-10-14T20:19:50.939242Z",
     "iopub.status.idle": "2021-10-14T20:19:50.942171Z",
     "shell.execute_reply": "2021-10-14T20:19:50.941832Z"
    }
   },
   "outputs": [],
   "source": [
    "today = datetime.now(tz).date()"
   ]
  },
  {
   "cell_type": "code",
   "execution_count": 15,
   "metadata": {
    "execution": {
     "iopub.execute_input": "2021-10-14T20:19:50.946593Z",
     "iopub.status.busy": "2021-10-14T20:19:50.946182Z",
     "iopub.status.idle": "2021-10-14T20:19:50.947864Z",
     "shell.execute_reply": "2021-10-14T20:19:50.948189Z"
    }
   },
   "outputs": [],
   "source": [
    "date = date + \", \" + str(today.year)"
   ]
  },
  {
   "cell_type": "code",
   "execution_count": 16,
   "metadata": {
    "execution": {
     "iopub.execute_input": "2021-10-14T20:19:50.954246Z",
     "iopub.status.busy": "2021-10-14T20:19:50.953524Z",
     "iopub.status.idle": "2021-10-14T20:19:50.955014Z",
     "shell.execute_reply": "2021-10-14T20:19:50.955341Z"
    }
   },
   "outputs": [],
   "source": [
    "latest_date = pd.to_datetime(date).date()"
   ]
  },
  {
   "cell_type": "markdown",
   "metadata": {},
   "source": [
    "### Get table"
   ]
  },
  {
   "cell_type": "code",
   "execution_count": 17,
   "metadata": {
    "execution": {
     "iopub.execute_input": "2021-10-14T20:19:50.960302Z",
     "iopub.status.busy": "2021-10-14T20:19:50.959908Z",
     "iopub.status.idle": "2021-10-14T20:19:51.065542Z",
     "shell.execute_reply": "2021-10-14T20:19:51.064980Z"
    }
   },
   "outputs": [
    {
     "ename": "IndexError",
     "evalue": "list index out of range",
     "output_type": "error",
     "traceback": [
      "\u001b[0;31m---------------------------------------------------------------------------\u001b[0m",
      "\u001b[0;31mIndexError\u001b[0m                                Traceback (most recent call last)",
      "\u001b[0;32m/tmp/ipykernel_3133/193282191.py\u001b[0m in \u001b[0;36m<module>\u001b[0;34m\u001b[0m\n\u001b[0;32m----> 1\u001b[0;31m \u001b[0mtable\u001b[0m \u001b[0;34m=\u001b[0m \u001b[0mcontent\u001b[0m\u001b[0;34m.\u001b[0m\u001b[0mfind_all\u001b[0m\u001b[0;34m(\u001b[0m\u001b[0mtext\u001b[0m\u001b[0;34m=\u001b[0m\u001b[0mre\u001b[0m\u001b[0;34m.\u001b[0m\u001b[0mcompile\u001b[0m\u001b[0;34m(\u001b[0m\u001b[0;34m\"Zip Code\"\u001b[0m\u001b[0;34m)\u001b[0m\u001b[0;34m)\u001b[0m\u001b[0;34m[\u001b[0m\u001b[0;36m0\u001b[0m\u001b[0;34m]\u001b[0m\u001b[0;34m.\u001b[0m\u001b[0mfindParent\u001b[0m\u001b[0;34m(\u001b[0m\u001b[0;34m\"table\"\u001b[0m\u001b[0;34m)\u001b[0m\u001b[0;34m\u001b[0m\u001b[0;34m\u001b[0m\u001b[0m\n\u001b[0m",
      "\u001b[0;31mIndexError\u001b[0m: list index out of range"
     ]
    }
   ],
   "source": [
    "table = content.find_all(text=re.compile(\"Zip Code\"))[0].findParent(\"table\")"
   ]
  },
  {
   "cell_type": "code",
   "execution_count": 78,
   "metadata": {},
   "outputs": [],
   "source": [
    "tbody = table.tbody"
   ]
  },
  {
   "cell_type": "code",
   "execution_count": 79,
   "metadata": {},
   "outputs": [],
   "source": [
    "row_list = tbody.find_all(\"tr\")"
   ]
  },
  {
   "cell_type": "code",
   "execution_count": 80,
   "metadata": {},
   "outputs": [],
   "source": [
    "def safetxt(element):\n",
    "    v = element.text.strip()\n",
    "    v = v.replace(\"\\u200b\", \"\")\n",
    "    return v"
   ]
  },
  {
   "cell_type": "code",
   "execution_count": 81,
   "metadata": {},
   "outputs": [],
   "source": [
    "def safenumber(element):\n",
    "    v = safetxt(element)\n",
    "    v = v.replace(\",\", \"\")\n",
    "    v = v.replace(\" \", \"\")\n",
    "    return v"
   ]
  },
  {
   "cell_type": "code",
   "execution_count": 82,
   "metadata": {},
   "outputs": [],
   "source": [
    "dict_list = []\n",
    "for row in row_list:\n",
    "    zip_codes = row.find_all(\"td\")[-2].text\n",
    "    totals = row.find_all(\"td\")[-1]\n",
    "    # col_one = cell_list.select(\"td\")[1].select(\"td\")[0]\n",
    "    # zip_codes = cell_list.find_all(\"td\", text=re.compile(\"^\\d{5}(?:[-\\s]\\d{4})?$\"))\n",
    "    d = dict(\n",
    "        county=\"Lake\",\n",
    "        area=zip_codes,\n",
    "        confirmed_cases=safetxt(totals),\n",
    "    )\n",
    "    dict_list.append(d)"
   ]
  },
  {
   "cell_type": "code",
   "execution_count": 83,
   "metadata": {},
   "outputs": [],
   "source": [
    "df = pd.DataFrame(dict_list)"
   ]
  },
  {
   "cell_type": "code",
   "execution_count": 84,
   "metadata": {},
   "outputs": [],
   "source": [
    "df.drop(df[df[\"area\"] == \"Zip Code\"].index, inplace=True)"
   ]
  },
  {
   "cell_type": "code",
   "execution_count": 85,
   "metadata": {},
   "outputs": [],
   "source": [
    "df[\"county_date\"] = latest_date"
   ]
  },
  {
   "cell_type": "markdown",
   "metadata": {},
   "source": [
    "### Vet"
   ]
  },
  {
   "cell_type": "markdown",
   "metadata": {},
   "source": [
    "Lake County has 16 ZIP code areas, including \"Unknown\""
   ]
  },
  {
   "cell_type": "code",
   "execution_count": 86,
   "metadata": {},
   "outputs": [],
   "source": [
    "default_lake_len = 16"
   ]
  },
  {
   "cell_type": "markdown",
   "metadata": {},
   "source": [
    "Replacing with two assertion tests"
   ]
  },
  {
   "cell_type": "code",
   "execution_count": 87,
   "metadata": {},
   "outputs": [],
   "source": [
    "try:\n",
    "    assert not len(df) > default_lake_len\n",
    "except AssertionError:\n",
    "    raise AssertionError(\n",
    "        \"Lake County scraper: spreadsheet has additional zip code(s) than previous\"\n",
    "    )"
   ]
  },
  {
   "cell_type": "code",
   "execution_count": 88,
   "metadata": {},
   "outputs": [],
   "source": [
    "try:\n",
    "    assert not len(df) < default_lake_len\n",
    "except AssertionError:\n",
    "    raise AssertionError(\"Lake County scraper: spreadsheet is missing row(s)\")"
   ]
  },
  {
   "cell_type": "markdown",
   "metadata": {},
   "source": [
    "### Export csv file"
   ]
  },
  {
   "cell_type": "markdown",
   "metadata": {},
   "source": [
    "Write csv file timestamped with today's date"
   ]
  },
  {
   "cell_type": "code",
   "execution_count": 89,
   "metadata": {},
   "outputs": [],
   "source": [
    "slug = \"lake\""
   ]
  },
  {
   "cell_type": "code",
   "execution_count": 90,
   "metadata": {},
   "outputs": [],
   "source": [
    "df.to_csv(data_dir / slug / f\"{today}.csv\", index=False)"
   ]
  },
  {
   "cell_type": "markdown",
   "metadata": {},
   "source": [
    "## Combine"
   ]
  },
  {
   "cell_type": "code",
   "execution_count": 91,
   "metadata": {},
   "outputs": [],
   "source": [
    "csv_list = [\n",
    "    i\n",
    "    for i in glob.glob(str(data_dir / slug / \"*.csv\"))\n",
    "    if not str(i).endswith(\"timeseries.csv\")\n",
    "]"
   ]
  },
  {
   "cell_type": "code",
   "execution_count": 92,
   "metadata": {},
   "outputs": [],
   "source": [
    "df_list = []\n",
    "for csv in csv_list:\n",
    "    if \"manual\" in csv:\n",
    "        df = pd.read_csv(csv, parse_dates=[\"date\"])\n",
    "    else:\n",
    "        file_date = csv.split(\"/\")[-1].replace(\".csv\", \"\")\n",
    "        df = pd.read_csv(csv, parse_dates=[\"county_date\"])\n",
    "        df[\"date\"] = file_date\n",
    "    df_list.append(df)"
   ]
  },
  {
   "cell_type": "code",
   "execution_count": 93,
   "metadata": {},
   "outputs": [],
   "source": [
    "df = pd.concat(df_list).sort_values([\"date\", \"area\"])"
   ]
  },
  {
   "cell_type": "code",
   "execution_count": 94,
   "metadata": {},
   "outputs": [],
   "source": [
    "df.to_csv(data_dir / slug / \"timeseries.csv\", index=False)"
   ]
  }
 ],
 "metadata": {
  "kernelspec": {
   "display_name": "Python 3 (ipykernel)",
   "language": "python",
   "name": "python3"
  },
  "language_info": {
   "codemirror_mode": {
    "name": "ipython",
    "version": 3
   },
   "file_extension": ".py",
   "mimetype": "text/x-python",
   "name": "python",
   "nbconvert_exporter": "python",
   "pygments_lexer": "ipython3",
   "version": "3.8.12"
  }
 },
 "nbformat": 4,
 "nbformat_minor": 4
}
