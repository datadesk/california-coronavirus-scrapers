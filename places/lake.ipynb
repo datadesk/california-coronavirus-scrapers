{
 "cells": [
  {
   "cell_type": "markdown",
   "metadata": {},
   "source": [
    "## Configuration\n",
    "_Initial steps to get the notebook ready to play nice with our repository. Do not delete this section._"
   ]
  },
  {
   "cell_type": "markdown",
   "metadata": {},
   "source": [
    "Code formatting with [black](https://pypi.org/project/nb-black/)."
   ]
  },
  {
   "cell_type": "code",
   "execution_count": 1,
   "metadata": {
    "execution": {
     "iopub.execute_input": "2021-10-24T00:22:54.337044Z",
     "iopub.status.busy": "2021-10-24T00:22:54.336163Z",
     "iopub.status.idle": "2021-10-24T00:22:54.489623Z",
     "shell.execute_reply": "2021-10-24T00:22:54.488971Z"
    }
   },
   "outputs": [],
   "source": [
    "%load_ext lab_black"
   ]
  },
  {
   "cell_type": "code",
   "execution_count": 2,
   "metadata": {
    "execution": {
     "iopub.execute_input": "2021-10-24T00:22:54.495012Z",
     "iopub.status.busy": "2021-10-24T00:22:54.493926Z",
     "iopub.status.idle": "2021-10-24T00:22:54.497731Z",
     "shell.execute_reply": "2021-10-24T00:22:54.498212Z"
    }
   },
   "outputs": [],
   "source": [
    "import os\n",
    "import pathlib"
   ]
  },
  {
   "cell_type": "code",
   "execution_count": 3,
   "metadata": {
    "execution": {
     "iopub.execute_input": "2021-10-24T00:22:54.503536Z",
     "iopub.status.busy": "2021-10-24T00:22:54.502904Z",
     "iopub.status.idle": "2021-10-24T00:22:54.509055Z",
     "shell.execute_reply": "2021-10-24T00:22:54.509569Z"
    }
   },
   "outputs": [],
   "source": [
    "this_dir = pathlib.Path(os.path.abspath(\"\"))"
   ]
  },
  {
   "cell_type": "code",
   "execution_count": 4,
   "metadata": {
    "execution": {
     "iopub.execute_input": "2021-10-24T00:22:54.515042Z",
     "iopub.status.busy": "2021-10-24T00:22:54.514237Z",
     "iopub.status.idle": "2021-10-24T00:22:54.518848Z",
     "shell.execute_reply": "2021-10-24T00:22:54.518313Z"
    }
   },
   "outputs": [],
   "source": [
    "data_dir = this_dir / \"data\""
   ]
  },
  {
   "cell_type": "code",
   "execution_count": 5,
   "metadata": {
    "execution": {
     "iopub.execute_input": "2021-10-24T00:22:54.523633Z",
     "iopub.status.busy": "2021-10-24T00:22:54.523023Z",
     "iopub.status.idle": "2021-10-24T00:22:55.011443Z",
     "shell.execute_reply": "2021-10-24T00:22:55.010449Z"
    }
   },
   "outputs": [],
   "source": [
    "import re\n",
    "import pytz\n",
    "import glob\n",
    "import requests\n",
    "import unicodedata\n",
    "import json\n",
    "import pandas as pd\n",
    "from datetime import datetime\n",
    "from bs4 import BeautifulSoup"
   ]
  },
  {
   "cell_type": "markdown",
   "metadata": {},
   "source": [
    "### Download / retrieve the page"
   ]
  },
  {
   "cell_type": "markdown",
   "metadata": {},
   "source": [
    "Lake County's [dashboard](http://health.co.lake.ca.us/Coronavirus/COVID-19_Data.htm) uses Datawrapper to display cases by ZIP Code. To make sure we get the latest, we'll hit the chart page on Datawrapper's website, then get the iframe URL."
   ]
  },
  {
   "cell_type": "code",
   "execution_count": 6,
   "metadata": {
    "execution": {
     "iopub.execute_input": "2021-10-24T00:22:55.016628Z",
     "iopub.status.busy": "2021-10-24T00:22:55.015507Z",
     "iopub.status.idle": "2021-10-24T00:22:55.019185Z",
     "shell.execute_reply": "2021-10-24T00:22:55.019878Z"
    }
   },
   "outputs": [],
   "source": [
    "url = \"https://www.datawrapper.de/_/D1RaA/\""
   ]
  },
  {
   "cell_type": "code",
   "execution_count": 7,
   "metadata": {
    "execution": {
     "iopub.execute_input": "2021-10-24T00:22:55.027831Z",
     "iopub.status.busy": "2021-10-24T00:22:55.023991Z",
     "iopub.status.idle": "2021-10-24T00:22:55.297085Z",
     "shell.execute_reply": "2021-10-24T00:22:55.295777Z"
    }
   },
   "outputs": [],
   "source": [
    "page = requests.get(url)"
   ]
  },
  {
   "cell_type": "markdown",
   "metadata": {},
   "source": [
    "### Parse with BeautifulSoup"
   ]
  },
  {
   "cell_type": "code",
   "execution_count": 8,
   "metadata": {
    "execution": {
     "iopub.execute_input": "2021-10-24T00:22:55.304051Z",
     "iopub.status.busy": "2021-10-24T00:22:55.303456Z",
     "iopub.status.idle": "2021-10-24T00:22:55.308922Z",
     "shell.execute_reply": "2021-10-24T00:22:55.308366Z"
    }
   },
   "outputs": [],
   "source": [
    "soup = BeautifulSoup(page.content, \"html.parser\")"
   ]
  },
  {
   "cell_type": "code",
   "execution_count": 9,
   "metadata": {
    "execution": {
     "iopub.execute_input": "2021-10-24T00:22:55.314646Z",
     "iopub.status.busy": "2021-10-24T00:22:55.311317Z",
     "iopub.status.idle": "2021-10-24T00:22:55.317739Z",
     "shell.execute_reply": "2021-10-24T00:22:55.318203Z"
    }
   },
   "outputs": [],
   "source": [
    "meta = soup.find(\"meta\", {\"property\": \"og:url\"})"
   ]
  },
  {
   "cell_type": "code",
   "execution_count": 10,
   "metadata": {
    "execution": {
     "iopub.execute_input": "2021-10-24T00:22:55.323958Z",
     "iopub.status.busy": "2021-10-24T00:22:55.323281Z",
     "iopub.status.idle": "2021-10-24T00:22:55.326921Z",
     "shell.execute_reply": "2021-10-24T00:22:55.327406Z"
    }
   },
   "outputs": [],
   "source": [
    "dw_url = meta[\"content\"]"
   ]
  },
  {
   "cell_type": "markdown",
   "metadata": {},
   "source": [
    "### Parse Datawrapper"
   ]
  },
  {
   "cell_type": "code",
   "execution_count": 11,
   "metadata": {
    "execution": {
     "iopub.execute_input": "2021-10-24T00:22:55.332851Z",
     "iopub.status.busy": "2021-10-24T00:22:55.331658Z",
     "iopub.status.idle": "2021-10-24T00:22:55.335224Z",
     "shell.execute_reply": "2021-10-24T00:22:55.335668Z"
    }
   },
   "outputs": [],
   "source": [
    "dataset_url = dw_url + \"dataset.csv\""
   ]
  },
  {
   "cell_type": "code",
   "execution_count": 12,
   "metadata": {
    "execution": {
     "iopub.execute_input": "2021-10-24T00:22:55.344122Z",
     "iopub.status.busy": "2021-10-24T00:22:55.343448Z",
     "iopub.status.idle": "2021-10-24T00:22:55.423318Z",
     "shell.execute_reply": "2021-10-24T00:22:55.422727Z"
    }
   },
   "outputs": [],
   "source": [
    "dw_r = requests.get(dataset_url)"
   ]
  },
  {
   "cell_type": "code",
   "execution_count": 13,
   "metadata": {
    "execution": {
     "iopub.execute_input": "2021-10-24T00:22:55.432864Z",
     "iopub.status.busy": "2021-10-24T00:22:55.431817Z",
     "iopub.status.idle": "2021-10-24T00:22:55.437226Z",
     "shell.execute_reply": "2021-10-24T00:22:55.436707Z"
    }
   },
   "outputs": [],
   "source": [
    "string = dw_r.text"
   ]
  },
  {
   "cell_type": "code",
   "execution_count": 14,
   "metadata": {
    "execution": {
     "iopub.execute_input": "2021-10-24T00:22:55.442939Z",
     "iopub.status.busy": "2021-10-24T00:22:55.441301Z",
     "iopub.status.idle": "2021-10-24T00:22:55.446364Z",
     "shell.execute_reply": "2021-10-24T00:22:55.446869Z"
    }
   },
   "outputs": [],
   "source": [
    "parsed = string.split(\"\\r\\n\")"
   ]
  },
  {
   "cell_type": "code",
   "execution_count": 15,
   "metadata": {
    "execution": {
     "iopub.execute_input": "2021-10-24T00:22:55.456260Z",
     "iopub.status.busy": "2021-10-24T00:22:55.451764Z",
     "iopub.status.idle": "2021-10-24T00:22:55.459580Z",
     "shell.execute_reply": "2021-10-24T00:22:55.459080Z"
    }
   },
   "outputs": [],
   "source": [
    "data_list = []\n",
    "for row in parsed:\n",
    "    cell = row.split(\",\")\n",
    "    data_list.append(cell)"
   ]
  },
  {
   "cell_type": "code",
   "execution_count": 16,
   "metadata": {
    "execution": {
     "iopub.execute_input": "2021-10-24T00:22:55.468171Z",
     "iopub.status.busy": "2021-10-24T00:22:55.467559Z",
     "iopub.status.idle": "2021-10-24T00:22:55.478055Z",
     "shell.execute_reply": "2021-10-24T00:22:55.477235Z"
    }
   },
   "outputs": [
    {
     "data": {
      "text/plain": [
       "[['Supervisorial District', 'District Total', 'Zip Code', 'Zip Code Total'],\n",
       " ['District 1', '771', '95457', '261'],\n",
       " ['', '', '95467', '344'],\n",
       " ['', '', '95461', '166'],\n",
       " ['District 2', '1647', '95422', '1627'],\n",
       " ['', '', '95424', '20'],\n",
       " ['District 3', '1100', '95423', '256'],\n",
       " ['', '', '95458', '271'],\n",
       " ['', '', '95464', '261'],\n",
       " ['', '', '95485', '291'],\n",
       " ['', '', '95493', '11'],\n",
       " ['', '', '95443', '10'],\n",
       " ['District 4', '1434', '95453', '1388'],\n",
       " ['', '', '95435', '46'],\n",
       " ['District 5', '1150', '95426', '62'],\n",
       " ['', '', '95451', '1088'],\n",
       " ['Unknown or Other', '99', 'Unknown/other', '99']]"
      ]
     },
     "execution_count": 16,
     "metadata": {},
     "output_type": "execute_result"
    }
   ],
   "source": [
    "data_list"
   ]
  },
  {
   "cell_type": "code",
   "execution_count": 17,
   "metadata": {
    "execution": {
     "iopub.execute_input": "2021-10-24T00:22:55.486850Z",
     "iopub.status.busy": "2021-10-24T00:22:55.486004Z",
     "iopub.status.idle": "2021-10-24T00:22:55.489329Z",
     "shell.execute_reply": "2021-10-24T00:22:55.489794Z"
    }
   },
   "outputs": [],
   "source": [
    "df = pd.DataFrame(data_list[1:], columns=data_list[0])"
   ]
  },
  {
   "cell_type": "markdown",
   "metadata": {},
   "source": [
    "### Get timestamp"
   ]
  },
  {
   "cell_type": "code",
   "execution_count": 18,
   "metadata": {
    "execution": {
     "iopub.execute_input": "2021-10-24T00:22:55.495619Z",
     "iopub.status.busy": "2021-10-24T00:22:55.494315Z",
     "iopub.status.idle": "2021-10-24T00:22:55.498777Z",
     "shell.execute_reply": "2021-10-24T00:22:55.499568Z"
    }
   },
   "outputs": [],
   "source": [
    "title_tag = soup.find(\"meta\", {\"property\": \"og:title\"})"
   ]
  },
  {
   "cell_type": "code",
   "execution_count": 19,
   "metadata": {
    "execution": {
     "iopub.execute_input": "2021-10-24T00:22:55.504942Z",
     "iopub.status.busy": "2021-10-24T00:22:55.503775Z",
     "iopub.status.idle": "2021-10-24T00:22:55.508079Z",
     "shell.execute_reply": "2021-10-24T00:22:55.508593Z"
    }
   },
   "outputs": [],
   "source": [
    "title_str = title_tag[\"content\"]"
   ]
  },
  {
   "cell_type": "code",
   "execution_count": 20,
   "metadata": {
    "execution": {
     "iopub.execute_input": "2021-10-24T00:22:55.513952Z",
     "iopub.status.busy": "2021-10-24T00:22:55.513312Z",
     "iopub.status.idle": "2021-10-24T00:22:55.519029Z",
     "shell.execute_reply": "2021-10-24T00:22:55.518255Z"
    }
   },
   "outputs": [
    {
     "data": {
      "text/plain": [
       "'Lake County COVID-19 cases, by district and zip code, through 9/30/21 | Created with Datawrapper'"
      ]
     },
     "execution_count": 20,
     "metadata": {},
     "output_type": "execute_result"
    }
   ],
   "source": [
    "title_str"
   ]
  },
  {
   "cell_type": "code",
   "execution_count": 21,
   "metadata": {
    "execution": {
     "iopub.execute_input": "2021-10-24T00:22:55.524369Z",
     "iopub.status.busy": "2021-10-24T00:22:55.522788Z",
     "iopub.status.idle": "2021-10-24T00:22:55.526778Z",
     "shell.execute_reply": "2021-10-24T00:22:55.527367Z"
    }
   },
   "outputs": [],
   "source": [
    "date_regex = re.search(r\"(\\d+/\\d+/\\d+)\", title_str)"
   ]
  },
  {
   "cell_type": "code",
   "execution_count": 22,
   "metadata": {
    "execution": {
     "iopub.execute_input": "2021-10-24T00:22:55.532693Z",
     "iopub.status.busy": "2021-10-24T00:22:55.531196Z",
     "iopub.status.idle": "2021-10-24T00:22:55.535779Z",
     "shell.execute_reply": "2021-10-24T00:22:55.534832Z"
    }
   },
   "outputs": [],
   "source": [
    "date_str = date_regex.group(1)"
   ]
  },
  {
   "cell_type": "code",
   "execution_count": 23,
   "metadata": {
    "execution": {
     "iopub.execute_input": "2021-10-24T00:22:55.544239Z",
     "iopub.status.busy": "2021-10-24T00:22:55.542766Z",
     "iopub.status.idle": "2021-10-24T00:22:55.544927Z",
     "shell.execute_reply": "2021-10-24T00:22:55.545433Z"
    }
   },
   "outputs": [],
   "source": [
    "latest_date = pd.to_datetime(date_str).date()"
   ]
  },
  {
   "cell_type": "code",
   "execution_count": 24,
   "metadata": {
    "execution": {
     "iopub.execute_input": "2021-10-24T00:22:55.552561Z",
     "iopub.status.busy": "2021-10-24T00:22:55.551918Z",
     "iopub.status.idle": "2021-10-24T00:22:55.556041Z",
     "shell.execute_reply": "2021-10-24T00:22:55.555358Z"
    }
   },
   "outputs": [],
   "source": [
    "df[\"county_date\"] = latest_date"
   ]
  },
  {
   "cell_type": "markdown",
   "metadata": {},
   "source": [
    "### Rename and drop columns"
   ]
  },
  {
   "cell_type": "code",
   "execution_count": 25,
   "metadata": {
    "execution": {
     "iopub.execute_input": "2021-10-24T00:22:55.560591Z",
     "iopub.status.busy": "2021-10-24T00:22:55.559926Z",
     "iopub.status.idle": "2021-10-24T00:22:55.565083Z",
     "shell.execute_reply": "2021-10-24T00:22:55.564536Z"
    }
   },
   "outputs": [],
   "source": [
    "cols = {\"Zip Code\": \"area\", \"Zip Code Total\": \"confirmed_cases\"}"
   ]
  },
  {
   "cell_type": "code",
   "execution_count": 26,
   "metadata": {
    "execution": {
     "iopub.execute_input": "2021-10-24T00:22:55.575600Z",
     "iopub.status.busy": "2021-10-24T00:22:55.574499Z",
     "iopub.status.idle": "2021-10-24T00:22:55.578242Z",
     "shell.execute_reply": "2021-10-24T00:22:55.577182Z"
    }
   },
   "outputs": [],
   "source": [
    "export_df = df.rename(columns=cols)[[\"area\", \"confirmed_cases\", \"county_date\"]]"
   ]
  },
  {
   "cell_type": "code",
   "execution_count": 27,
   "metadata": {
    "execution": {
     "iopub.execute_input": "2021-10-24T00:22:55.584328Z",
     "iopub.status.busy": "2021-10-24T00:22:55.583181Z",
     "iopub.status.idle": "2021-10-24T00:22:55.586913Z",
     "shell.execute_reply": "2021-10-24T00:22:55.587445Z"
    }
   },
   "outputs": [
    {
     "data": {
      "text/plain": [
       "16"
      ]
     },
     "execution_count": 27,
     "metadata": {},
     "output_type": "execute_result"
    }
   ],
   "source": [
    "len(export_df)"
   ]
  },
  {
   "cell_type": "markdown",
   "metadata": {},
   "source": [
    "### Vet"
   ]
  },
  {
   "cell_type": "markdown",
   "metadata": {},
   "source": [
    "Lake County has 16 ZIP code areas, including \"Unknown\""
   ]
  },
  {
   "cell_type": "code",
   "execution_count": 28,
   "metadata": {
    "execution": {
     "iopub.execute_input": "2021-10-24T00:22:55.592026Z",
     "iopub.status.busy": "2021-10-24T00:22:55.590880Z",
     "iopub.status.idle": "2021-10-24T00:22:55.594674Z",
     "shell.execute_reply": "2021-10-24T00:22:55.594119Z"
    }
   },
   "outputs": [],
   "source": [
    "lake_len = 16"
   ]
  },
  {
   "cell_type": "code",
   "execution_count": 29,
   "metadata": {
    "execution": {
     "iopub.execute_input": "2021-10-24T00:22:55.599184Z",
     "iopub.status.busy": "2021-10-24T00:22:55.597003Z",
     "iopub.status.idle": "2021-10-24T00:22:55.603842Z",
     "shell.execute_reply": "2021-10-24T00:22:55.604345Z"
    }
   },
   "outputs": [],
   "source": [
    "try:\n",
    "    assert not len(export_df) > lake_len\n",
    "except AssertionError:\n",
    "    raise AssertionError(\n",
    "        \"Lake County scraper: spreadsheet has additional zip code(s) than previous\"\n",
    "    )"
   ]
  },
  {
   "cell_type": "code",
   "execution_count": 30,
   "metadata": {
    "execution": {
     "iopub.execute_input": "2021-10-24T00:22:55.609401Z",
     "iopub.status.busy": "2021-10-24T00:22:55.608745Z",
     "iopub.status.idle": "2021-10-24T00:22:55.613770Z",
     "shell.execute_reply": "2021-10-24T00:22:55.613158Z"
    }
   },
   "outputs": [],
   "source": [
    "try:\n",
    "    assert not len(export_df) < lake_len\n",
    "except AssertionError:\n",
    "    raise AssertionError(\"Lake County scraper: spreadsheet is missing row(s)\")"
   ]
  },
  {
   "cell_type": "markdown",
   "metadata": {},
   "source": [
    "### Export csv file"
   ]
  },
  {
   "cell_type": "markdown",
   "metadata": {},
   "source": [
    "Write csv file timestamped with today's date"
   ]
  },
  {
   "cell_type": "code",
   "execution_count": 31,
   "metadata": {
    "execution": {
     "iopub.execute_input": "2021-10-24T00:22:55.617812Z",
     "iopub.status.busy": "2021-10-24T00:22:55.617227Z",
     "iopub.status.idle": "2021-10-24T00:22:55.621416Z",
     "shell.execute_reply": "2021-10-24T00:22:55.621869Z"
    }
   },
   "outputs": [],
   "source": [
    "slug = \"lake\""
   ]
  },
  {
   "cell_type": "code",
   "execution_count": 32,
   "metadata": {
    "execution": {
     "iopub.execute_input": "2021-10-24T00:22:55.628361Z",
     "iopub.status.busy": "2021-10-24T00:22:55.627621Z",
     "iopub.status.idle": "2021-10-24T00:22:55.760073Z",
     "shell.execute_reply": "2021-10-24T00:22:55.759402Z"
    }
   },
   "outputs": [
    {
     "ename": "NameError",
     "evalue": "name 'today' is not defined",
     "output_type": "error",
     "traceback": [
      "\u001b[0;31m---------------------------------------------------------------------------\u001b[0m",
      "\u001b[0;31mNameError\u001b[0m                                 Traceback (most recent call last)",
      "\u001b[0;32m/tmp/ipykernel_3476/2436362009.py\u001b[0m in \u001b[0;36m<module>\u001b[0;34m\u001b[0m\n\u001b[0;32m----> 1\u001b[0;31m \u001b[0mexport_df\u001b[0m\u001b[0;34m.\u001b[0m\u001b[0mto_csv\u001b[0m\u001b[0;34m(\u001b[0m\u001b[0mdata_dir\u001b[0m \u001b[0;34m/\u001b[0m \u001b[0mslug\u001b[0m \u001b[0;34m/\u001b[0m \u001b[0;34mf\"{today}.csv\"\u001b[0m\u001b[0;34m,\u001b[0m \u001b[0mindex\u001b[0m\u001b[0;34m=\u001b[0m\u001b[0;32mFalse\u001b[0m\u001b[0;34m)\u001b[0m\u001b[0;34m\u001b[0m\u001b[0;34m\u001b[0m\u001b[0m\n\u001b[0m",
      "\u001b[0;31mNameError\u001b[0m: name 'today' is not defined"
     ]
    }
   ],
   "source": [
    "export_df.to_csv(data_dir / slug / f\"{today}.csv\", index=False)"
   ]
  },
  {
   "cell_type": "markdown",
   "metadata": {},
   "source": [
    "## Combine"
   ]
  },
  {
   "cell_type": "code",
   "execution_count": 260,
   "metadata": {},
   "outputs": [],
   "source": [
    "csv_list = [\n",
    "    i\n",
    "    for i in glob.glob(str(data_dir / slug / \"*.csv\"))\n",
    "    if not str(i).endswith(\"timeseries.csv\")\n",
    "]"
   ]
  },
  {
   "cell_type": "code",
   "execution_count": 261,
   "metadata": {},
   "outputs": [],
   "source": [
    "df_list = []\n",
    "for csv in csv_list:\n",
    "    if \"manual\" in csv:\n",
    "        df = pd.read_csv(csv, parse_dates=[\"date\"])\n",
    "    else:\n",
    "        file_date = csv.split(\"/\")[-1].replace(\".csv\", \"\")\n",
    "        df = pd.read_csv(csv, parse_dates=[\"county_date\"])\n",
    "        df[\"date\"] = file_date\n",
    "    df_list.append(df)"
   ]
  },
  {
   "cell_type": "code",
   "execution_count": 262,
   "metadata": {},
   "outputs": [],
   "source": [
    "df = pd.concat(df_list).sort_values([\"date\", \"area\"])"
   ]
  },
  {
   "cell_type": "code",
   "execution_count": 263,
   "metadata": {},
   "outputs": [],
   "source": [
    "df.to_csv(data_dir / slug / \"timeseries.csv\", index=False)"
   ]
  }
 ],
 "metadata": {
  "kernelspec": {
   "display_name": "Python 3 (ipykernel)",
   "language": "python",
   "name": "python3"
  },
  "language_info": {
   "codemirror_mode": {
    "name": "ipython",
    "version": 3
   },
   "file_extension": ".py",
   "mimetype": "text/x-python",
   "name": "python",
   "nbconvert_exporter": "python",
   "pygments_lexer": "ipython3",
   "version": "3.8.12"
  }
 },
 "nbformat": 4,
 "nbformat_minor": 4
}
