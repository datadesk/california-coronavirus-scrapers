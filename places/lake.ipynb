{
 "cells": [
  {
   "cell_type": "markdown",
   "metadata": {},
   "source": [
    "## Configuration\n",
    "_Initial steps to get the notebook ready to play nice with our repository. Do not delete this section._"
   ]
  },
  {
   "cell_type": "markdown",
   "metadata": {},
   "source": [
    "Code formatting with [black](https://pypi.org/project/nb-black/)."
   ]
  },
  {
   "cell_type": "code",
   "execution_count": 1,
   "metadata": {
    "execution": {
     "iopub.execute_input": "2021-10-23T20:19:40.042451Z",
     "iopub.status.busy": "2021-10-23T20:19:40.041823Z",
     "iopub.status.idle": "2021-10-23T20:19:40.170890Z",
     "shell.execute_reply": "2021-10-23T20:19:40.171316Z"
    }
   },
   "outputs": [],
   "source": [
    "%load_ext lab_black"
   ]
  },
  {
   "cell_type": "code",
   "execution_count": 2,
   "metadata": {
    "execution": {
     "iopub.execute_input": "2021-10-23T20:19:40.175631Z",
     "iopub.status.busy": "2021-10-23T20:19:40.174925Z",
     "iopub.status.idle": "2021-10-23T20:19:40.180014Z",
     "shell.execute_reply": "2021-10-23T20:19:40.179553Z"
    }
   },
   "outputs": [],
   "source": [
    "import os\n",
    "import pathlib"
   ]
  },
  {
   "cell_type": "code",
   "execution_count": 3,
   "metadata": {
    "execution": {
     "iopub.execute_input": "2021-10-23T20:19:40.184525Z",
     "iopub.status.busy": "2021-10-23T20:19:40.183866Z",
     "iopub.status.idle": "2021-10-23T20:19:40.188499Z",
     "shell.execute_reply": "2021-10-23T20:19:40.188941Z"
    }
   },
   "outputs": [],
   "source": [
    "this_dir = pathlib.Path(os.path.abspath(\"\"))"
   ]
  },
  {
   "cell_type": "code",
   "execution_count": 4,
   "metadata": {
    "execution": {
     "iopub.execute_input": "2021-10-23T20:19:40.194911Z",
     "iopub.status.busy": "2021-10-23T20:19:40.193492Z",
     "iopub.status.idle": "2021-10-23T20:19:40.195689Z",
     "shell.execute_reply": "2021-10-23T20:19:40.196228Z"
    }
   },
   "outputs": [],
   "source": [
    "data_dir = this_dir / \"data\""
   ]
  },
  {
   "cell_type": "code",
   "execution_count": 5,
   "metadata": {
    "execution": {
     "iopub.execute_input": "2021-10-23T20:19:40.200427Z",
     "iopub.status.busy": "2021-10-23T20:19:40.199876Z",
     "iopub.status.idle": "2021-10-23T20:19:40.582775Z",
     "shell.execute_reply": "2021-10-23T20:19:40.581993Z"
    }
   },
   "outputs": [],
   "source": [
    "import re\n",
    "import pytz\n",
    "import glob\n",
    "import requests\n",
    "import unicodedata\n",
    "import json\n",
    "import pandas as pd\n",
    "from datetime import datetime\n",
    "from bs4 import BeautifulSoup"
   ]
  },
  {
   "cell_type": "markdown",
   "metadata": {},
   "source": [
    "### Download / retrieve the page"
   ]
  },
  {
   "cell_type": "markdown",
   "metadata": {},
   "source": [
    "Lake County's [dashboard](http://health.co.lake.ca.us/Coronavirus/COVID-19_Data.htm) uses Datawrapper to display cases by ZIP Code. To make sure we get the latest, we'll hit the chart page on Datawrapper's website, then get the iframe URL."
   ]
  },
  {
   "cell_type": "code",
   "execution_count": 6,
   "metadata": {
    "execution": {
     "iopub.execute_input": "2021-10-23T20:19:40.586650Z",
     "iopub.status.busy": "2021-10-23T20:19:40.586149Z",
     "iopub.status.idle": "2021-10-23T20:19:40.591315Z",
     "shell.execute_reply": "2021-10-23T20:19:40.590353Z"
    }
   },
   "outputs": [],
   "source": [
    "url = \"https://www.datawrapper.de/_/D1RaA/\""
   ]
  },
  {
   "cell_type": "code",
   "execution_count": 7,
   "metadata": {
    "execution": {
     "iopub.execute_input": "2021-10-23T20:19:40.598387Z",
     "iopub.status.busy": "2021-10-23T20:19:40.594536Z",
     "iopub.status.idle": "2021-10-23T20:19:41.222639Z",
     "shell.execute_reply": "2021-10-23T20:19:41.223066Z"
    }
   },
   "outputs": [],
   "source": [
    "page = requests.get(url)"
   ]
  },
  {
   "cell_type": "markdown",
   "metadata": {},
   "source": [
    "### Parse with BeautifulSoup"
   ]
  },
  {
   "cell_type": "code",
   "execution_count": 8,
   "metadata": {
    "execution": {
     "iopub.execute_input": "2021-10-23T20:19:41.229444Z",
     "iopub.status.busy": "2021-10-23T20:19:41.228920Z",
     "iopub.status.idle": "2021-10-23T20:19:41.232242Z",
     "shell.execute_reply": "2021-10-23T20:19:41.232661Z"
    }
   },
   "outputs": [],
   "source": [
    "soup = BeautifulSoup(page.content, \"html.parser\")"
   ]
  },
  {
   "cell_type": "code",
   "execution_count": 9,
   "metadata": {
    "execution": {
     "iopub.execute_input": "2021-10-23T20:19:41.236955Z",
     "iopub.status.busy": "2021-10-23T20:19:41.236439Z",
     "iopub.status.idle": "2021-10-23T20:19:41.241912Z",
     "shell.execute_reply": "2021-10-23T20:19:41.241235Z"
    }
   },
   "outputs": [],
   "source": [
    "meta = soup.find(\"meta\", {\"property\": \"og:url\"})"
   ]
  },
  {
   "cell_type": "code",
   "execution_count": 10,
   "metadata": {
    "execution": {
     "iopub.execute_input": "2021-10-23T20:19:41.246677Z",
     "iopub.status.busy": "2021-10-23T20:19:41.246077Z",
     "iopub.status.idle": "2021-10-23T20:19:41.250943Z",
     "shell.execute_reply": "2021-10-23T20:19:41.250360Z"
    }
   },
   "outputs": [],
   "source": [
    "dw_url = meta[\"content\"]"
   ]
  },
  {
   "cell_type": "markdown",
   "metadata": {},
   "source": [
    "### Parse Datawrapper"
   ]
  },
  {
   "cell_type": "code",
   "execution_count": 11,
   "metadata": {
    "execution": {
     "iopub.execute_input": "2021-10-23T20:19:41.256328Z",
     "iopub.status.busy": "2021-10-23T20:19:41.255381Z",
     "iopub.status.idle": "2021-10-23T20:19:41.259446Z",
     "shell.execute_reply": "2021-10-23T20:19:41.260212Z"
    }
   },
   "outputs": [],
   "source": [
    "dataset_url = dw_url + \"dataset.csv\""
   ]
  },
  {
   "cell_type": "code",
   "execution_count": 12,
   "metadata": {
    "execution": {
     "iopub.execute_input": "2021-10-23T20:19:41.266288Z",
     "iopub.status.busy": "2021-10-23T20:19:41.265807Z",
     "iopub.status.idle": "2021-10-23T20:19:41.389974Z",
     "shell.execute_reply": "2021-10-23T20:19:41.388702Z"
    }
   },
   "outputs": [],
   "source": [
    "dw_r = requests.get(dataset_url)"
   ]
  },
  {
   "cell_type": "code",
   "execution_count": 13,
   "metadata": {
    "execution": {
     "iopub.execute_input": "2021-10-23T20:19:41.397751Z",
     "iopub.status.busy": "2021-10-23T20:19:41.397277Z",
     "iopub.status.idle": "2021-10-23T20:19:41.400518Z",
     "shell.execute_reply": "2021-10-23T20:19:41.401081Z"
    }
   },
   "outputs": [],
   "source": [
    "string = dw_r.text"
   ]
  },
  {
   "cell_type": "code",
   "execution_count": 14,
   "metadata": {
    "execution": {
     "iopub.execute_input": "2021-10-23T20:19:41.406270Z",
     "iopub.status.busy": "2021-10-23T20:19:41.405120Z",
     "iopub.status.idle": "2021-10-23T20:19:41.410702Z",
     "shell.execute_reply": "2021-10-23T20:19:41.411177Z"
    }
   },
   "outputs": [],
   "source": [
    "parsed = string.split(\"\\r\\n\")"
   ]
  },
  {
   "cell_type": "code",
   "execution_count": 15,
   "metadata": {
    "execution": {
     "iopub.execute_input": "2021-10-23T20:19:41.415844Z",
     "iopub.status.busy": "2021-10-23T20:19:41.415366Z",
     "iopub.status.idle": "2021-10-23T20:19:41.421130Z",
     "shell.execute_reply": "2021-10-23T20:19:41.421510Z"
    }
   },
   "outputs": [],
   "source": [
    "data_list = []\n",
    "for row in parsed:\n",
    "    cell = row.split(\",\")\n",
    "    data_list.append(cell)"
   ]
  },
  {
   "cell_type": "code",
   "execution_count": 16,
   "metadata": {
    "execution": {
     "iopub.execute_input": "2021-10-23T20:19:41.432552Z",
     "iopub.status.busy": "2021-10-23T20:19:41.431974Z",
     "iopub.status.idle": "2021-10-23T20:19:41.435986Z",
     "shell.execute_reply": "2021-10-23T20:19:41.435238Z"
    }
   },
   "outputs": [
    {
     "data": {
      "text/plain": [
       "[['Supervisorial District', 'District Total', 'Zip Code', 'Zip Code Total'],\n",
       " ['District 1', '771', '95457', '261'],\n",
       " ['', '', '95467', '344'],\n",
       " ['', '', '95461', '166'],\n",
       " ['District 2', '1647', '95422', '1627'],\n",
       " ['', '', '95424', '20'],\n",
       " ['District 3', '1100', '95423', '256'],\n",
       " ['', '', '95458', '271'],\n",
       " ['', '', '95464', '261'],\n",
       " ['', '', '95485', '291'],\n",
       " ['', '', '95493', '11'],\n",
       " ['', '', '95443', '10'],\n",
       " ['District 4', '1434', '95453', '1388'],\n",
       " ['', '', '95435', '46'],\n",
       " ['District 5', '1150', '95426', '62'],\n",
       " ['', '', '95451', '1088'],\n",
       " ['Unknown or Other', '99', 'Unknown/other', '99']]"
      ]
     },
     "execution_count": 16,
     "metadata": {},
     "output_type": "execute_result"
    }
   ],
   "source": [
    "data_list"
   ]
  },
  {
   "cell_type": "code",
   "execution_count": 17,
   "metadata": {
    "execution": {
     "iopub.execute_input": "2021-10-23T20:19:41.442966Z",
     "iopub.status.busy": "2021-10-23T20:19:41.440492Z",
     "iopub.status.idle": "2021-10-23T20:19:41.446229Z",
     "shell.execute_reply": "2021-10-23T20:19:41.445557Z"
    }
   },
   "outputs": [],
   "source": [
    "df = pd.DataFrame(data_list[1:], columns=data_list[0])"
   ]
  },
  {
   "cell_type": "markdown",
   "metadata": {},
   "source": [
    "### Get timestamp"
   ]
  },
  {
   "cell_type": "code",
   "execution_count": 18,
   "metadata": {
    "execution": {
     "iopub.execute_input": "2021-10-23T20:19:41.451556Z",
     "iopub.status.busy": "2021-10-23T20:19:41.450294Z",
     "iopub.status.idle": "2021-10-23T20:19:41.454660Z",
     "shell.execute_reply": "2021-10-23T20:19:41.454260Z"
    }
   },
   "outputs": [],
   "source": [
    "title_tag = soup.find(\"meta\", {\"property\": \"og:title\"})"
   ]
  },
  {
   "cell_type": "code",
   "execution_count": 19,
   "metadata": {
    "execution": {
     "iopub.execute_input": "2021-10-23T20:19:41.458393Z",
     "iopub.status.busy": "2021-10-23T20:19:41.457781Z",
     "iopub.status.idle": "2021-10-23T20:19:41.462137Z",
     "shell.execute_reply": "2021-10-23T20:19:41.462853Z"
    }
   },
   "outputs": [],
   "source": [
    "title_str = title_tag[\"content\"]"
   ]
  },
  {
   "cell_type": "code",
   "execution_count": 20,
   "metadata": {
    "execution": {
     "iopub.execute_input": "2021-10-23T20:19:41.467131Z",
     "iopub.status.busy": "2021-10-23T20:19:41.464994Z",
     "iopub.status.idle": "2021-10-23T20:19:41.472143Z",
     "shell.execute_reply": "2021-10-23T20:19:41.471539Z"
    }
   },
   "outputs": [
    {
     "data": {
      "text/plain": [
       "'Lake County COVID-19 cases, by district and zip code, through 9/30/21 | Created with Datawrapper'"
      ]
     },
     "execution_count": 20,
     "metadata": {},
     "output_type": "execute_result"
    }
   ],
   "source": [
    "title_str"
   ]
  },
  {
   "cell_type": "code",
   "execution_count": 21,
   "metadata": {
    "execution": {
     "iopub.execute_input": "2021-10-23T20:19:41.476331Z",
     "iopub.status.busy": "2021-10-23T20:19:41.475698Z",
     "iopub.status.idle": "2021-10-23T20:19:41.479891Z",
     "shell.execute_reply": "2021-10-23T20:19:41.480471Z"
    }
   },
   "outputs": [],
   "source": [
    "date_regex = re.search(r\"(\\d+/\\d+/\\d+)\", title_str)"
   ]
  },
  {
   "cell_type": "code",
   "execution_count": 22,
   "metadata": {
    "execution": {
     "iopub.execute_input": "2021-10-23T20:19:41.484919Z",
     "iopub.status.busy": "2021-10-23T20:19:41.484025Z",
     "iopub.status.idle": "2021-10-23T20:19:41.488372Z",
     "shell.execute_reply": "2021-10-23T20:19:41.488835Z"
    }
   },
   "outputs": [],
   "source": [
    "date_str = date_regex.group(1)"
   ]
  },
  {
   "cell_type": "code",
   "execution_count": 23,
   "metadata": {
    "execution": {
     "iopub.execute_input": "2021-10-23T20:19:41.494705Z",
     "iopub.status.busy": "2021-10-23T20:19:41.494073Z",
     "iopub.status.idle": "2021-10-23T20:19:41.499056Z",
     "shell.execute_reply": "2021-10-23T20:19:41.498555Z"
    }
   },
   "outputs": [],
   "source": [
    "latest_date = pd.to_datetime(date_str).date()"
   ]
  },
  {
   "cell_type": "code",
   "execution_count": 24,
   "metadata": {
    "execution": {
     "iopub.execute_input": "2021-10-23T20:19:41.504984Z",
     "iopub.status.busy": "2021-10-23T20:19:41.504318Z",
     "iopub.status.idle": "2021-10-23T20:19:41.506551Z",
     "shell.execute_reply": "2021-10-23T20:19:41.506942Z"
    }
   },
   "outputs": [],
   "source": [
    "df[\"county_date\"] = latest_date"
   ]
  },
  {
   "cell_type": "markdown",
   "metadata": {},
   "source": [
    "### Rename and drop columns"
   ]
  },
  {
   "cell_type": "code",
   "execution_count": 25,
   "metadata": {
    "execution": {
     "iopub.execute_input": "2021-10-23T20:19:41.511355Z",
     "iopub.status.busy": "2021-10-23T20:19:41.510756Z",
     "iopub.status.idle": "2021-10-23T20:19:41.516110Z",
     "shell.execute_reply": "2021-10-23T20:19:41.515639Z"
    }
   },
   "outputs": [],
   "source": [
    "cols = {\"Zip Code\": \"area\", \"Zip Code Total\": \"confirmed_cases\"}"
   ]
  },
  {
   "cell_type": "code",
   "execution_count": 26,
   "metadata": {
    "execution": {
     "iopub.execute_input": "2021-10-23T20:19:41.523800Z",
     "iopub.status.busy": "2021-10-23T20:19:41.521729Z",
     "iopub.status.idle": "2021-10-23T20:19:41.527019Z",
     "shell.execute_reply": "2021-10-23T20:19:41.527410Z"
    }
   },
   "outputs": [],
   "source": [
    "export_df = df.rename(columns=cols)[[\"area\", \"confirmed_cases\", \"county_date\"]]"
   ]
  },
  {
   "cell_type": "code",
   "execution_count": 27,
   "metadata": {
    "execution": {
     "iopub.execute_input": "2021-10-23T20:19:41.532088Z",
     "iopub.status.busy": "2021-10-23T20:19:41.531337Z",
     "iopub.status.idle": "2021-10-23T20:19:41.537121Z",
     "shell.execute_reply": "2021-10-23T20:19:41.537516Z"
    }
   },
   "outputs": [
    {
     "data": {
      "text/plain": [
       "16"
      ]
     },
     "execution_count": 27,
     "metadata": {},
     "output_type": "execute_result"
    }
   ],
   "source": [
    "len(export_df)"
   ]
  },
  {
   "cell_type": "markdown",
   "metadata": {},
   "source": [
    "### Vet"
   ]
  },
  {
   "cell_type": "markdown",
   "metadata": {},
   "source": [
    "Lake County has 16 ZIP code areas, including \"Unknown\""
   ]
  },
  {
   "cell_type": "code",
   "execution_count": 28,
   "metadata": {
    "execution": {
     "iopub.execute_input": "2021-10-23T20:19:41.541627Z",
     "iopub.status.busy": "2021-10-23T20:19:41.541141Z",
     "iopub.status.idle": "2021-10-23T20:19:41.545535Z",
     "shell.execute_reply": "2021-10-23T20:19:41.545099Z"
    }
   },
   "outputs": [],
   "source": [
    "lake_len = 16"
   ]
  },
  {
   "cell_type": "code",
   "execution_count": 29,
   "metadata": {
    "execution": {
     "iopub.execute_input": "2021-10-23T20:19:41.552265Z",
     "iopub.status.busy": "2021-10-23T20:19:41.551266Z",
     "iopub.status.idle": "2021-10-23T20:19:41.555278Z",
     "shell.execute_reply": "2021-10-23T20:19:41.554891Z"
    }
   },
   "outputs": [],
   "source": [
    "try:\n",
    "    assert not len(export_df) > lake_len\n",
    "except AssertionError:\n",
    "    raise AssertionError(\n",
    "        \"Lake County scraper: spreadsheet has additional zip code(s) than previous\"\n",
    "    )"
   ]
  },
  {
   "cell_type": "code",
   "execution_count": 30,
   "metadata": {
    "execution": {
     "iopub.execute_input": "2021-10-23T20:19:41.560447Z",
     "iopub.status.busy": "2021-10-23T20:19:41.558301Z",
     "iopub.status.idle": "2021-10-23T20:19:41.562581Z",
     "shell.execute_reply": "2021-10-23T20:19:41.562961Z"
    }
   },
   "outputs": [],
   "source": [
    "try:\n",
    "    assert not len(export_df) < lake_len\n",
    "except AssertionError:\n",
    "    raise AssertionError(\"Lake County scraper: spreadsheet is missing row(s)\")"
   ]
  },
  {
   "cell_type": "markdown",
   "metadata": {},
   "source": [
    "### Export csv file"
   ]
  },
  {
   "cell_type": "markdown",
   "metadata": {},
   "source": [
    "Write csv file timestamped with today's date"
   ]
  },
  {
   "cell_type": "code",
   "execution_count": 31,
   "metadata": {
    "execution": {
     "iopub.execute_input": "2021-10-23T20:19:41.566316Z",
     "iopub.status.busy": "2021-10-23T20:19:41.565834Z",
     "iopub.status.idle": "2021-10-23T20:19:41.569440Z",
     "shell.execute_reply": "2021-10-23T20:19:41.569964Z"
    }
   },
   "outputs": [],
   "source": [
    "slug = \"lake\""
   ]
  },
  {
   "cell_type": "code",
   "execution_count": 32,
   "metadata": {
    "execution": {
     "iopub.execute_input": "2021-10-23T20:19:41.575498Z",
     "iopub.status.busy": "2021-10-23T20:19:41.573397Z",
     "iopub.status.idle": "2021-10-23T20:19:41.685971Z",
     "shell.execute_reply": "2021-10-23T20:19:41.684251Z"
    }
   },
   "outputs": [
    {
     "ename": "NameError",
     "evalue": "name 'today' is not defined",
     "output_type": "error",
     "traceback": [
      "\u001b[0;31m---------------------------------------------------------------------------\u001b[0m",
      "\u001b[0;31mNameError\u001b[0m                                 Traceback (most recent call last)",
      "\u001b[0;32m/tmp/ipykernel_3450/2436362009.py\u001b[0m in \u001b[0;36m<module>\u001b[0;34m\u001b[0m\n\u001b[0;32m----> 1\u001b[0;31m \u001b[0mexport_df\u001b[0m\u001b[0;34m.\u001b[0m\u001b[0mto_csv\u001b[0m\u001b[0;34m(\u001b[0m\u001b[0mdata_dir\u001b[0m \u001b[0;34m/\u001b[0m \u001b[0mslug\u001b[0m \u001b[0;34m/\u001b[0m \u001b[0;34mf\"{today}.csv\"\u001b[0m\u001b[0;34m,\u001b[0m \u001b[0mindex\u001b[0m\u001b[0;34m=\u001b[0m\u001b[0;32mFalse\u001b[0m\u001b[0;34m)\u001b[0m\u001b[0;34m\u001b[0m\u001b[0;34m\u001b[0m\u001b[0m\n\u001b[0m",
      "\u001b[0;31mNameError\u001b[0m: name 'today' is not defined"
     ]
    }
   ],
   "source": [
    "export_df.to_csv(data_dir / slug / f\"{today}.csv\", index=False)"
   ]
  },
  {
   "cell_type": "markdown",
   "metadata": {},
   "source": [
    "## Combine"
   ]
  },
  {
   "cell_type": "code",
   "execution_count": 260,
   "metadata": {},
   "outputs": [],
   "source": [
    "csv_list = [\n",
    "    i\n",
    "    for i in glob.glob(str(data_dir / slug / \"*.csv\"))\n",
    "    if not str(i).endswith(\"timeseries.csv\")\n",
    "]"
   ]
  },
  {
   "cell_type": "code",
   "execution_count": 261,
   "metadata": {},
   "outputs": [],
   "source": [
    "df_list = []\n",
    "for csv in csv_list:\n",
    "    if \"manual\" in csv:\n",
    "        df = pd.read_csv(csv, parse_dates=[\"date\"])\n",
    "    else:\n",
    "        file_date = csv.split(\"/\")[-1].replace(\".csv\", \"\")\n",
    "        df = pd.read_csv(csv, parse_dates=[\"county_date\"])\n",
    "        df[\"date\"] = file_date\n",
    "    df_list.append(df)"
   ]
  },
  {
   "cell_type": "code",
   "execution_count": 262,
   "metadata": {},
   "outputs": [],
   "source": [
    "df = pd.concat(df_list).sort_values([\"date\", \"area\"])"
   ]
  },
  {
   "cell_type": "code",
   "execution_count": 263,
   "metadata": {},
   "outputs": [],
   "source": [
    "df.to_csv(data_dir / slug / \"timeseries.csv\", index=False)"
   ]
  }
 ],
 "metadata": {
  "kernelspec": {
   "display_name": "Python 3 (ipykernel)",
   "language": "python",
   "name": "python3"
  },
  "language_info": {
   "codemirror_mode": {
    "name": "ipython",
    "version": 3
   },
   "file_extension": ".py",
   "mimetype": "text/x-python",
   "name": "python",
   "nbconvert_exporter": "python",
   "pygments_lexer": "ipython3",
   "version": "3.8.12"
  }
 },
 "nbformat": 4,
 "nbformat_minor": 4
}
