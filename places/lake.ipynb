{
 "cells": [
  {
   "cell_type": "markdown",
   "metadata": {},
   "source": [
    "## Configuration\n",
    "_Initial steps to get the notebook ready to play nice with our repository. Do not delete this section._"
   ]
  },
  {
   "cell_type": "markdown",
   "metadata": {},
   "source": [
    "Code formatting with [black](https://pypi.org/project/nb-black/)."
   ]
  },
  {
   "cell_type": "code",
   "execution_count": 1,
   "metadata": {
    "execution": {
     "iopub.execute_input": "2021-10-21T08:20:20.590550Z",
     "iopub.status.busy": "2021-10-21T08:20:20.589967Z",
     "iopub.status.idle": "2021-10-21T08:20:20.732784Z",
     "shell.execute_reply": "2021-10-21T08:20:20.732163Z"
    }
   },
   "outputs": [],
   "source": [
    "%load_ext lab_black"
   ]
  },
  {
   "cell_type": "code",
   "execution_count": 2,
   "metadata": {
    "execution": {
     "iopub.execute_input": "2021-10-21T08:20:20.737015Z",
     "iopub.status.busy": "2021-10-21T08:20:20.736396Z",
     "iopub.status.idle": "2021-10-21T08:20:20.739648Z",
     "shell.execute_reply": "2021-10-21T08:20:20.740114Z"
    }
   },
   "outputs": [],
   "source": [
    "import os\n",
    "import pathlib"
   ]
  },
  {
   "cell_type": "code",
   "execution_count": 3,
   "metadata": {
    "execution": {
     "iopub.execute_input": "2021-10-21T08:20:20.748498Z",
     "iopub.status.busy": "2021-10-21T08:20:20.747097Z",
     "iopub.status.idle": "2021-10-21T08:20:20.749149Z",
     "shell.execute_reply": "2021-10-21T08:20:20.749651Z"
    }
   },
   "outputs": [],
   "source": [
    "this_dir = pathlib.Path(os.path.abspath(\"\"))"
   ]
  },
  {
   "cell_type": "code",
   "execution_count": 4,
   "metadata": {
    "execution": {
     "iopub.execute_input": "2021-10-21T08:20:20.754545Z",
     "iopub.status.busy": "2021-10-21T08:20:20.753420Z",
     "iopub.status.idle": "2021-10-21T08:20:20.756704Z",
     "shell.execute_reply": "2021-10-21T08:20:20.757171Z"
    }
   },
   "outputs": [],
   "source": [
    "data_dir = this_dir / \"data\""
   ]
  },
  {
   "cell_type": "code",
   "execution_count": 5,
   "metadata": {
    "execution": {
     "iopub.execute_input": "2021-10-21T08:20:20.762032Z",
     "iopub.status.busy": "2021-10-21T08:20:20.761391Z",
     "iopub.status.idle": "2021-10-21T08:20:21.222654Z",
     "shell.execute_reply": "2021-10-21T08:20:21.222130Z"
    }
   },
   "outputs": [],
   "source": [
    "import re\n",
    "import pytz\n",
    "import glob\n",
    "import requests\n",
    "import unicodedata\n",
    "import json\n",
    "import pandas as pd\n",
    "from datetime import datetime\n",
    "from bs4 import BeautifulSoup"
   ]
  },
  {
   "cell_type": "markdown",
   "metadata": {},
   "source": [
    "### Download / retrieve the page"
   ]
  },
  {
   "cell_type": "markdown",
   "metadata": {},
   "source": [
    "Lake County's [dashboard](http://health.co.lake.ca.us/Coronavirus/COVID-19_Data.htm) uses Datawrapper to display cases by ZIP Code. To make sure we get the latest, we'll hit the chart page on Datawrapper's website, then get the iframe URL."
   ]
  },
  {
   "cell_type": "code",
   "execution_count": 6,
   "metadata": {
    "execution": {
     "iopub.execute_input": "2021-10-21T08:20:21.227785Z",
     "iopub.status.busy": "2021-10-21T08:20:21.226461Z",
     "iopub.status.idle": "2021-10-21T08:20:21.229554Z",
     "shell.execute_reply": "2021-10-21T08:20:21.230029Z"
    }
   },
   "outputs": [],
   "source": [
    "url = \"https://www.datawrapper.de/_/D1RaA/\""
   ]
  },
  {
   "cell_type": "code",
   "execution_count": 7,
   "metadata": {
    "execution": {
     "iopub.execute_input": "2021-10-21T08:20:21.237728Z",
     "iopub.status.busy": "2021-10-21T08:20:21.233609Z",
     "iopub.status.idle": "2021-10-21T08:20:21.549334Z",
     "shell.execute_reply": "2021-10-21T08:20:21.548820Z"
    }
   },
   "outputs": [],
   "source": [
    "page = requests.get(url)"
   ]
  },
  {
   "cell_type": "markdown",
   "metadata": {},
   "source": [
    "### Parse with BeautifulSoup"
   ]
  },
  {
   "cell_type": "code",
   "execution_count": 8,
   "metadata": {
    "execution": {
     "iopub.execute_input": "2021-10-21T08:20:21.555947Z",
     "iopub.status.busy": "2021-10-21T08:20:21.555366Z",
     "iopub.status.idle": "2021-10-21T08:20:21.559609Z",
     "shell.execute_reply": "2021-10-21T08:20:21.559069Z"
    }
   },
   "outputs": [],
   "source": [
    "soup = BeautifulSoup(page.content, \"html.parser\")"
   ]
  },
  {
   "cell_type": "code",
   "execution_count": 9,
   "metadata": {
    "execution": {
     "iopub.execute_input": "2021-10-21T08:20:21.564741Z",
     "iopub.status.busy": "2021-10-21T08:20:21.564160Z",
     "iopub.status.idle": "2021-10-21T08:20:21.568091Z",
     "shell.execute_reply": "2021-10-21T08:20:21.568588Z"
    }
   },
   "outputs": [],
   "source": [
    "meta = soup.find(\"meta\", {\"property\": \"og:url\"})"
   ]
  },
  {
   "cell_type": "code",
   "execution_count": 10,
   "metadata": {
    "execution": {
     "iopub.execute_input": "2021-10-21T08:20:21.573402Z",
     "iopub.status.busy": "2021-10-21T08:20:21.572308Z",
     "iopub.status.idle": "2021-10-21T08:20:21.575762Z",
     "shell.execute_reply": "2021-10-21T08:20:21.576259Z"
    }
   },
   "outputs": [],
   "source": [
    "dw_url = meta[\"content\"]"
   ]
  },
  {
   "cell_type": "markdown",
   "metadata": {},
   "source": [
    "### Parse Datawrapper"
   ]
  },
  {
   "cell_type": "code",
   "execution_count": 11,
   "metadata": {
    "execution": {
     "iopub.execute_input": "2021-10-21T08:20:21.580693Z",
     "iopub.status.busy": "2021-10-21T08:20:21.580106Z",
     "iopub.status.idle": "2021-10-21T08:20:21.584289Z",
     "shell.execute_reply": "2021-10-21T08:20:21.583767Z"
    }
   },
   "outputs": [],
   "source": [
    "dataset_url = dw_url + \"dataset.csv\""
   ]
  },
  {
   "cell_type": "code",
   "execution_count": 12,
   "metadata": {
    "execution": {
     "iopub.execute_input": "2021-10-21T08:20:21.593308Z",
     "iopub.status.busy": "2021-10-21T08:20:21.592715Z",
     "iopub.status.idle": "2021-10-21T08:20:21.697153Z",
     "shell.execute_reply": "2021-10-21T08:20:21.696600Z"
    }
   },
   "outputs": [],
   "source": [
    "dw_r = requests.get(dataset_url)"
   ]
  },
  {
   "cell_type": "code",
   "execution_count": 13,
   "metadata": {
    "execution": {
     "iopub.execute_input": "2021-10-21T08:20:21.706088Z",
     "iopub.status.busy": "2021-10-21T08:20:21.705457Z",
     "iopub.status.idle": "2021-10-21T08:20:21.710372Z",
     "shell.execute_reply": "2021-10-21T08:20:21.709830Z"
    }
   },
   "outputs": [],
   "source": [
    "string = dw_r.text"
   ]
  },
  {
   "cell_type": "code",
   "execution_count": 14,
   "metadata": {
    "execution": {
     "iopub.execute_input": "2021-10-21T08:20:21.715099Z",
     "iopub.status.busy": "2021-10-21T08:20:21.714288Z",
     "iopub.status.idle": "2021-10-21T08:20:21.718057Z",
     "shell.execute_reply": "2021-10-21T08:20:21.718528Z"
    }
   },
   "outputs": [],
   "source": [
    "parsed = string.split(\"\\r\\n\")"
   ]
  },
  {
   "cell_type": "code",
   "execution_count": 15,
   "metadata": {
    "execution": {
     "iopub.execute_input": "2021-10-21T08:20:21.723061Z",
     "iopub.status.busy": "2021-10-21T08:20:21.722463Z",
     "iopub.status.idle": "2021-10-21T08:20:21.728895Z",
     "shell.execute_reply": "2021-10-21T08:20:21.729350Z"
    }
   },
   "outputs": [],
   "source": [
    "data_list = []\n",
    "for row in parsed:\n",
    "    cell = row.split(\",\")\n",
    "    data_list.append(cell)"
   ]
  },
  {
   "cell_type": "code",
   "execution_count": 16,
   "metadata": {
    "execution": {
     "iopub.execute_input": "2021-10-21T08:20:21.743614Z",
     "iopub.status.busy": "2021-10-21T08:20:21.742443Z",
     "iopub.status.idle": "2021-10-21T08:20:21.746261Z",
     "shell.execute_reply": "2021-10-21T08:20:21.746772Z"
    }
   },
   "outputs": [
    {
     "data": {
      "text/plain": [
       "[['Supervisorial District', 'District Total', 'Zip Code', 'Zip Code Total'],\n",
       " ['District 1', '771', '95457', '261'],\n",
       " ['', '', '95467', '344'],\n",
       " ['', '', '95461', '166'],\n",
       " ['District 2', '1647', '95422', '1627'],\n",
       " ['', '', '95424', '20'],\n",
       " ['District 3', '1100', '95423', '256'],\n",
       " ['', '', '95458', '271'],\n",
       " ['', '', '95464', '261'],\n",
       " ['', '', '95485', '291'],\n",
       " ['', '', '95493', '11'],\n",
       " ['', '', '95443', '10'],\n",
       " ['District 4', '1434', '95453', '1388'],\n",
       " ['', '', '95435', '46'],\n",
       " ['District 5', '1150', '95426', '62'],\n",
       " ['', '', '95451', '1088'],\n",
       " ['Unknown or Other', '99', 'Unknown/other', '99']]"
      ]
     },
     "execution_count": 16,
     "metadata": {},
     "output_type": "execute_result"
    }
   ],
   "source": [
    "data_list"
   ]
  },
  {
   "cell_type": "code",
   "execution_count": 17,
   "metadata": {
    "execution": {
     "iopub.execute_input": "2021-10-21T08:20:21.752437Z",
     "iopub.status.busy": "2021-10-21T08:20:21.751845Z",
     "iopub.status.idle": "2021-10-21T08:20:21.756653Z",
     "shell.execute_reply": "2021-10-21T08:20:21.756123Z"
    }
   },
   "outputs": [],
   "source": [
    "df = pd.DataFrame(data_list[1:], columns=data_list[0])"
   ]
  },
  {
   "cell_type": "markdown",
   "metadata": {},
   "source": [
    "### Get timestamp"
   ]
  },
  {
   "cell_type": "code",
   "execution_count": 18,
   "metadata": {
    "execution": {
     "iopub.execute_input": "2021-10-21T08:20:21.762442Z",
     "iopub.status.busy": "2021-10-21T08:20:21.761805Z",
     "iopub.status.idle": "2021-10-21T08:20:21.764799Z",
     "shell.execute_reply": "2021-10-21T08:20:21.765282Z"
    }
   },
   "outputs": [],
   "source": [
    "title_tag = soup.find(\"meta\", {\"property\": \"og:title\"})"
   ]
  },
  {
   "cell_type": "code",
   "execution_count": 19,
   "metadata": {
    "execution": {
     "iopub.execute_input": "2021-10-21T08:20:21.769531Z",
     "iopub.status.busy": "2021-10-21T08:20:21.768921Z",
     "iopub.status.idle": "2021-10-21T08:20:21.772315Z",
     "shell.execute_reply": "2021-10-21T08:20:21.772786Z"
    }
   },
   "outputs": [],
   "source": [
    "title_str = title_tag[\"content\"]"
   ]
  },
  {
   "cell_type": "code",
   "execution_count": 20,
   "metadata": {
    "execution": {
     "iopub.execute_input": "2021-10-21T08:20:21.777267Z",
     "iopub.status.busy": "2021-10-21T08:20:21.774949Z",
     "iopub.status.idle": "2021-10-21T08:20:21.780599Z",
     "shell.execute_reply": "2021-10-21T08:20:21.781106Z"
    }
   },
   "outputs": [
    {
     "data": {
      "text/plain": [
       "'Lake County COVID-19 cases, by district and zip code, through 9/30/21 | Created with Datawrapper'"
      ]
     },
     "execution_count": 20,
     "metadata": {},
     "output_type": "execute_result"
    }
   ],
   "source": [
    "title_str"
   ]
  },
  {
   "cell_type": "code",
   "execution_count": 21,
   "metadata": {
    "execution": {
     "iopub.execute_input": "2021-10-21T08:20:21.785395Z",
     "iopub.status.busy": "2021-10-21T08:20:21.783286Z",
     "iopub.status.idle": "2021-10-21T08:20:21.790538Z",
     "shell.execute_reply": "2021-10-21T08:20:21.791051Z"
    }
   },
   "outputs": [],
   "source": [
    "date_regex = re.search(r\"(\\d+/\\d+/\\d+)\", title_str)"
   ]
  },
  {
   "cell_type": "code",
   "execution_count": 22,
   "metadata": {
    "execution": {
     "iopub.execute_input": "2021-10-21T08:20:21.796223Z",
     "iopub.status.busy": "2021-10-21T08:20:21.795622Z",
     "iopub.status.idle": "2021-10-21T08:20:21.799166Z",
     "shell.execute_reply": "2021-10-21T08:20:21.799680Z"
    }
   },
   "outputs": [],
   "source": [
    "date_str = date_regex.group(1)"
   ]
  },
  {
   "cell_type": "code",
   "execution_count": 23,
   "metadata": {
    "execution": {
     "iopub.execute_input": "2021-10-21T08:20:21.807237Z",
     "iopub.status.busy": "2021-10-21T08:20:21.804966Z",
     "iopub.status.idle": "2021-10-21T08:20:21.809984Z",
     "shell.execute_reply": "2021-10-21T08:20:21.810489Z"
    }
   },
   "outputs": [],
   "source": [
    "latest_date = pd.to_datetime(date_str).date()"
   ]
  },
  {
   "cell_type": "code",
   "execution_count": 24,
   "metadata": {
    "execution": {
     "iopub.execute_input": "2021-10-21T08:20:21.816442Z",
     "iopub.status.busy": "2021-10-21T08:20:21.815075Z",
     "iopub.status.idle": "2021-10-21T08:20:21.820610Z",
     "shell.execute_reply": "2021-10-21T08:20:21.821360Z"
    }
   },
   "outputs": [],
   "source": [
    "df[\"county_date\"] = latest_date"
   ]
  },
  {
   "cell_type": "markdown",
   "metadata": {},
   "source": [
    "### Rename and drop columns"
   ]
  },
  {
   "cell_type": "code",
   "execution_count": 25,
   "metadata": {
    "execution": {
     "iopub.execute_input": "2021-10-21T08:20:21.826078Z",
     "iopub.status.busy": "2021-10-21T08:20:21.824960Z",
     "iopub.status.idle": "2021-10-21T08:20:21.830347Z",
     "shell.execute_reply": "2021-10-21T08:20:21.830837Z"
    }
   },
   "outputs": [],
   "source": [
    "cols = {\"Zip Code\": \"area\", \"Zip Code Total\": \"confirmed_cases\"}"
   ]
  },
  {
   "cell_type": "code",
   "execution_count": 26,
   "metadata": {
    "execution": {
     "iopub.execute_input": "2021-10-21T08:20:21.838469Z",
     "iopub.status.busy": "2021-10-21T08:20:21.837863Z",
     "iopub.status.idle": "2021-10-21T08:20:21.842077Z",
     "shell.execute_reply": "2021-10-21T08:20:21.842838Z"
    }
   },
   "outputs": [],
   "source": [
    "export_df = df.rename(columns=cols)[[\"area\", \"confirmed_cases\", \"county_date\"]]"
   ]
  },
  {
   "cell_type": "code",
   "execution_count": 27,
   "metadata": {
    "execution": {
     "iopub.execute_input": "2021-10-21T08:20:21.847593Z",
     "iopub.status.busy": "2021-10-21T08:20:21.845060Z",
     "iopub.status.idle": "2021-10-21T08:20:21.853439Z",
     "shell.execute_reply": "2021-10-21T08:20:21.852929Z"
    }
   },
   "outputs": [
    {
     "data": {
      "text/plain": [
       "16"
      ]
     },
     "execution_count": 27,
     "metadata": {},
     "output_type": "execute_result"
    }
   ],
   "source": [
    "len(export_df)"
   ]
  },
  {
   "cell_type": "markdown",
   "metadata": {},
   "source": [
    "### Vet"
   ]
  },
  {
   "cell_type": "markdown",
   "metadata": {},
   "source": [
    "Lake County has 16 ZIP code areas, including \"Unknown\""
   ]
  },
  {
   "cell_type": "code",
   "execution_count": 28,
   "metadata": {
    "execution": {
     "iopub.execute_input": "2021-10-21T08:20:21.858163Z",
     "iopub.status.busy": "2021-10-21T08:20:21.857138Z",
     "iopub.status.idle": "2021-10-21T08:20:21.861385Z",
     "shell.execute_reply": "2021-10-21T08:20:21.860866Z"
    }
   },
   "outputs": [],
   "source": [
    "lake_len = 16"
   ]
  },
  {
   "cell_type": "code",
   "execution_count": 29,
   "metadata": {
    "execution": {
     "iopub.execute_input": "2021-10-21T08:20:21.868958Z",
     "iopub.status.busy": "2021-10-21T08:20:21.867644Z",
     "iopub.status.idle": "2021-10-21T08:20:21.871671Z",
     "shell.execute_reply": "2021-10-21T08:20:21.872185Z"
    }
   },
   "outputs": [],
   "source": [
    "try:\n",
    "    assert not len(export_df) > lake_len\n",
    "except AssertionError:\n",
    "    raise AssertionError(\n",
    "        \"Lake County scraper: spreadsheet has additional zip code(s) than previous\"\n",
    "    )"
   ]
  },
  {
   "cell_type": "code",
   "execution_count": 30,
   "metadata": {
    "execution": {
     "iopub.execute_input": "2021-10-21T08:20:21.879478Z",
     "iopub.status.busy": "2021-10-21T08:20:21.878553Z",
     "iopub.status.idle": "2021-10-21T08:20:21.883201Z",
     "shell.execute_reply": "2021-10-21T08:20:21.883744Z"
    }
   },
   "outputs": [],
   "source": [
    "try:\n",
    "    assert not len(export_df) < lake_len\n",
    "except AssertionError:\n",
    "    raise AssertionError(\"Lake County scraper: spreadsheet is missing row(s)\")"
   ]
  },
  {
   "cell_type": "markdown",
   "metadata": {},
   "source": [
    "### Export csv file"
   ]
  },
  {
   "cell_type": "markdown",
   "metadata": {},
   "source": [
    "Write csv file timestamped with today's date"
   ]
  },
  {
   "cell_type": "code",
   "execution_count": 31,
   "metadata": {
    "execution": {
     "iopub.execute_input": "2021-10-21T08:20:21.888627Z",
     "iopub.status.busy": "2021-10-21T08:20:21.887682Z",
     "iopub.status.idle": "2021-10-21T08:20:21.891496Z",
     "shell.execute_reply": "2021-10-21T08:20:21.891991Z"
    }
   },
   "outputs": [],
   "source": [
    "slug = \"lake\""
   ]
  },
  {
   "cell_type": "code",
   "execution_count": 32,
   "metadata": {
    "execution": {
     "iopub.execute_input": "2021-10-21T08:20:21.899730Z",
     "iopub.status.busy": "2021-10-21T08:20:21.898850Z",
     "iopub.status.idle": "2021-10-21T08:20:22.050010Z",
     "shell.execute_reply": "2021-10-21T08:20:22.047583Z"
    }
   },
   "outputs": [
    {
     "ename": "NameError",
     "evalue": "name 'today' is not defined",
     "output_type": "error",
     "traceback": [
      "\u001b[0;31m---------------------------------------------------------------------------\u001b[0m",
      "\u001b[0;31mNameError\u001b[0m                                 Traceback (most recent call last)",
      "\u001b[0;32m/tmp/ipykernel_3034/2436362009.py\u001b[0m in \u001b[0;36m<module>\u001b[0;34m\u001b[0m\n\u001b[0;32m----> 1\u001b[0;31m \u001b[0mexport_df\u001b[0m\u001b[0;34m.\u001b[0m\u001b[0mto_csv\u001b[0m\u001b[0;34m(\u001b[0m\u001b[0mdata_dir\u001b[0m \u001b[0;34m/\u001b[0m \u001b[0mslug\u001b[0m \u001b[0;34m/\u001b[0m \u001b[0;34mf\"{today}.csv\"\u001b[0m\u001b[0;34m,\u001b[0m \u001b[0mindex\u001b[0m\u001b[0;34m=\u001b[0m\u001b[0;32mFalse\u001b[0m\u001b[0;34m)\u001b[0m\u001b[0;34m\u001b[0m\u001b[0;34m\u001b[0m\u001b[0m\n\u001b[0m",
      "\u001b[0;31mNameError\u001b[0m: name 'today' is not defined"
     ]
    }
   ],
   "source": [
    "export_df.to_csv(data_dir / slug / f\"{today}.csv\", index=False)"
   ]
  },
  {
   "cell_type": "markdown",
   "metadata": {},
   "source": [
    "## Combine"
   ]
  },
  {
   "cell_type": "code",
   "execution_count": 260,
   "metadata": {},
   "outputs": [],
   "source": [
    "csv_list = [\n",
    "    i\n",
    "    for i in glob.glob(str(data_dir / slug / \"*.csv\"))\n",
    "    if not str(i).endswith(\"timeseries.csv\")\n",
    "]"
   ]
  },
  {
   "cell_type": "code",
   "execution_count": 261,
   "metadata": {},
   "outputs": [],
   "source": [
    "df_list = []\n",
    "for csv in csv_list:\n",
    "    if \"manual\" in csv:\n",
    "        df = pd.read_csv(csv, parse_dates=[\"date\"])\n",
    "    else:\n",
    "        file_date = csv.split(\"/\")[-1].replace(\".csv\", \"\")\n",
    "        df = pd.read_csv(csv, parse_dates=[\"county_date\"])\n",
    "        df[\"date\"] = file_date\n",
    "    df_list.append(df)"
   ]
  },
  {
   "cell_type": "code",
   "execution_count": 262,
   "metadata": {},
   "outputs": [],
   "source": [
    "df = pd.concat(df_list).sort_values([\"date\", \"area\"])"
   ]
  },
  {
   "cell_type": "code",
   "execution_count": 263,
   "metadata": {},
   "outputs": [],
   "source": [
    "df.to_csv(data_dir / slug / \"timeseries.csv\", index=False)"
   ]
  }
 ],
 "metadata": {
  "kernelspec": {
   "display_name": "Python 3 (ipykernel)",
   "language": "python",
   "name": "python3"
  },
  "language_info": {
   "codemirror_mode": {
    "name": "ipython",
    "version": 3
   },
   "file_extension": ".py",
   "mimetype": "text/x-python",
   "name": "python",
   "nbconvert_exporter": "python",
   "pygments_lexer": "ipython3",
   "version": "3.8.12"
  }
 },
 "nbformat": 4,
 "nbformat_minor": 4
}
