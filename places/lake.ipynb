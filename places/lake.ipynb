{
 "cells": [
  {
   "cell_type": "markdown",
   "metadata": {},
   "source": [
    "## Configuration\n",
    "_Initial steps to get the notebook ready to play nice with our repository. Do not delete this section._"
   ]
  },
  {
   "cell_type": "markdown",
   "metadata": {},
   "source": [
    "Code formatting with [black](https://pypi.org/project/nb-black/)."
   ]
  },
  {
   "cell_type": "code",
   "execution_count": 1,
   "metadata": {
    "execution": {
     "iopub.execute_input": "2021-11-22T08:20:49.229271Z",
     "iopub.status.busy": "2021-11-22T08:20:49.228694Z",
     "iopub.status.idle": "2021-11-22T08:20:49.361525Z",
     "shell.execute_reply": "2021-11-22T08:20:49.360643Z"
    }
   },
   "outputs": [],
   "source": [
    "%load_ext lab_black"
   ]
  },
  {
   "cell_type": "code",
   "execution_count": 2,
   "metadata": {
    "execution": {
     "iopub.execute_input": "2021-11-22T08:20:49.365879Z",
     "iopub.status.busy": "2021-11-22T08:20:49.364955Z",
     "iopub.status.idle": "2021-11-22T08:20:49.368201Z",
     "shell.execute_reply": "2021-11-22T08:20:49.367762Z"
    }
   },
   "outputs": [],
   "source": [
    "import os\n",
    "import pathlib"
   ]
  },
  {
   "cell_type": "code",
   "execution_count": 3,
   "metadata": {
    "execution": {
     "iopub.execute_input": "2021-11-22T08:20:49.374200Z",
     "iopub.status.busy": "2021-11-22T08:20:49.373671Z",
     "iopub.status.idle": "2021-11-22T08:20:49.377609Z",
     "shell.execute_reply": "2021-11-22T08:20:49.377174Z"
    }
   },
   "outputs": [],
   "source": [
    "this_dir = pathlib.Path(os.path.abspath(\"\"))"
   ]
  },
  {
   "cell_type": "code",
   "execution_count": 4,
   "metadata": {
    "execution": {
     "iopub.execute_input": "2021-11-22T08:20:49.381976Z",
     "iopub.status.busy": "2021-11-22T08:20:49.379570Z",
     "iopub.status.idle": "2021-11-22T08:20:49.384039Z",
     "shell.execute_reply": "2021-11-22T08:20:49.383608Z"
    }
   },
   "outputs": [],
   "source": [
    "data_dir = this_dir / \"data\""
   ]
  },
  {
   "cell_type": "code",
   "execution_count": 5,
   "metadata": {
    "execution": {
     "iopub.execute_input": "2021-11-22T08:20:49.387572Z",
     "iopub.status.busy": "2021-11-22T08:20:49.385955Z",
     "iopub.status.idle": "2021-11-22T08:20:49.805339Z",
     "shell.execute_reply": "2021-11-22T08:20:49.804231Z"
    }
   },
   "outputs": [],
   "source": [
    "import re\n",
    "import pytz\n",
    "import glob\n",
    "import requests\n",
    "import unicodedata\n",
    "import json\n",
    "import pandas as pd\n",
    "from datetime import datetime\n",
    "from bs4 import BeautifulSoup"
   ]
  },
  {
   "cell_type": "markdown",
   "metadata": {},
   "source": [
    "### Download / retrieve the page"
   ]
  },
  {
   "cell_type": "markdown",
   "metadata": {},
   "source": [
    "Lake County's [dashboard](http://health.co.lake.ca.us/Coronavirus/COVID-19_Data.htm) uses Datawrapper to display cases by ZIP Code. To make sure we get the latest, we'll hit the chart page on Datawrapper's website, then get the iframe URL."
   ]
  },
  {
   "cell_type": "code",
   "execution_count": 6,
   "metadata": {
    "execution": {
     "iopub.execute_input": "2021-11-22T08:20:49.810532Z",
     "iopub.status.busy": "2021-11-22T08:20:49.809955Z",
     "iopub.status.idle": "2021-11-22T08:20:49.813010Z",
     "shell.execute_reply": "2021-11-22T08:20:49.812587Z"
    }
   },
   "outputs": [],
   "source": [
    "url = \"https://www.datawrapper.de/_/D1RaA/\""
   ]
  },
  {
   "cell_type": "code",
   "execution_count": 7,
   "metadata": {
    "execution": {
     "iopub.execute_input": "2021-11-22T08:20:49.816548Z",
     "iopub.status.busy": "2021-11-22T08:20:49.816067Z",
     "iopub.status.idle": "2021-11-22T08:20:50.025958Z",
     "shell.execute_reply": "2021-11-22T08:20:50.025393Z"
    }
   },
   "outputs": [],
   "source": [
    "page = requests.get(url)"
   ]
  },
  {
   "cell_type": "markdown",
   "metadata": {},
   "source": [
    "### Parse with BeautifulSoup"
   ]
  },
  {
   "cell_type": "code",
   "execution_count": 8,
   "metadata": {
    "execution": {
     "iopub.execute_input": "2021-11-22T08:20:50.033852Z",
     "iopub.status.busy": "2021-11-22T08:20:50.032539Z",
     "iopub.status.idle": "2021-11-22T08:20:50.034451Z",
     "shell.execute_reply": "2021-11-22T08:20:50.034856Z"
    }
   },
   "outputs": [],
   "source": [
    "soup = BeautifulSoup(page.content, \"html.parser\")"
   ]
  },
  {
   "cell_type": "code",
   "execution_count": 9,
   "metadata": {
    "execution": {
     "iopub.execute_input": "2021-11-22T08:20:50.041209Z",
     "iopub.status.busy": "2021-11-22T08:20:50.040060Z",
     "iopub.status.idle": "2021-11-22T08:20:50.041812Z",
     "shell.execute_reply": "2021-11-22T08:20:50.042242Z"
    }
   },
   "outputs": [],
   "source": [
    "meta = soup.find(\"meta\", {\"property\": \"og:url\"})"
   ]
  },
  {
   "cell_type": "code",
   "execution_count": 10,
   "metadata": {
    "execution": {
     "iopub.execute_input": "2021-11-22T08:20:50.046676Z",
     "iopub.status.busy": "2021-11-22T08:20:50.044235Z",
     "iopub.status.idle": "2021-11-22T08:20:50.048187Z",
     "shell.execute_reply": "2021-11-22T08:20:50.048568Z"
    }
   },
   "outputs": [],
   "source": [
    "dw_url = meta[\"content\"]"
   ]
  },
  {
   "cell_type": "markdown",
   "metadata": {},
   "source": [
    "### Parse Datawrapper"
   ]
  },
  {
   "cell_type": "code",
   "execution_count": 11,
   "metadata": {
    "execution": {
     "iopub.execute_input": "2021-11-22T08:20:50.052093Z",
     "iopub.status.busy": "2021-11-22T08:20:50.051570Z",
     "iopub.status.idle": "2021-11-22T08:20:50.055181Z",
     "shell.execute_reply": "2021-11-22T08:20:50.054751Z"
    }
   },
   "outputs": [],
   "source": [
    "dataset_url = dw_url + \"dataset.csv\""
   ]
  },
  {
   "cell_type": "code",
   "execution_count": 12,
   "metadata": {
    "execution": {
     "iopub.execute_input": "2021-11-22T08:20:50.061380Z",
     "iopub.status.busy": "2021-11-22T08:20:50.058228Z",
     "iopub.status.idle": "2021-11-22T08:20:50.146738Z",
     "shell.execute_reply": "2021-11-22T08:20:50.145398Z"
    }
   },
   "outputs": [],
   "source": [
    "dw_r = requests.get(dataset_url)"
   ]
  },
  {
   "cell_type": "code",
   "execution_count": 13,
   "metadata": {
    "execution": {
     "iopub.execute_input": "2021-11-22T08:20:50.156990Z",
     "iopub.status.busy": "2021-11-22T08:20:50.156507Z",
     "iopub.status.idle": "2021-11-22T08:20:50.159784Z",
     "shell.execute_reply": "2021-11-22T08:20:50.159362Z"
    }
   },
   "outputs": [],
   "source": [
    "string = dw_r.text"
   ]
  },
  {
   "cell_type": "code",
   "execution_count": 14,
   "metadata": {
    "execution": {
     "iopub.execute_input": "2021-11-22T08:20:50.164704Z",
     "iopub.status.busy": "2021-11-22T08:20:50.164173Z",
     "iopub.status.idle": "2021-11-22T08:20:50.167695Z",
     "shell.execute_reply": "2021-11-22T08:20:50.167245Z"
    }
   },
   "outputs": [],
   "source": [
    "parsed = string.split(\"\\r\\n\")"
   ]
  },
  {
   "cell_type": "code",
   "execution_count": 15,
   "metadata": {
    "execution": {
     "iopub.execute_input": "2021-11-22T08:20:50.172423Z",
     "iopub.status.busy": "2021-11-22T08:20:50.171937Z",
     "iopub.status.idle": "2021-11-22T08:20:50.176926Z",
     "shell.execute_reply": "2021-11-22T08:20:50.176153Z"
    }
   },
   "outputs": [],
   "source": [
    "data_list = []\n",
    "for row in parsed:\n",
    "    cell = row.split(\",\")\n",
    "    data_list.append(cell)"
   ]
  },
  {
   "cell_type": "code",
   "execution_count": 16,
   "metadata": {
    "execution": {
     "iopub.execute_input": "2021-11-22T08:20:50.187015Z",
     "iopub.status.busy": "2021-11-22T08:20:50.184161Z",
     "iopub.status.idle": "2021-11-22T08:20:50.194071Z",
     "shell.execute_reply": "2021-11-22T08:20:50.193614Z"
    }
   },
   "outputs": [
    {
     "data": {
      "text/plain": [
       "[['Supervisorial District', 'District Total', 'Zip Code', 'Zip Code Total'],\n",
       " ['District 1', '863', '95457', '290'],\n",
       " ['', '', '95467', '387'],\n",
       " ['', '', '95461', '186'],\n",
       " ['District 2', '1844', '95422', '1819'],\n",
       " ['', '', '95424', '25'],\n",
       " ['District 3', '1183', '95423', '274'],\n",
       " ['', '', '95458', '290'],\n",
       " ['', '', '95464', '278'],\n",
       " ['', '', '95485', '315'],\n",
       " ['', '', '95493', '12'],\n",
       " ['', '', '95443', '14'],\n",
       " ['District 4', '1500', '95453', '1452'],\n",
       " ['', '', '95435', '48'],\n",
       " ['District 5', '1240', '95426', '72'],\n",
       " ['', '', '95451', '1168'],\n",
       " ['Unknown or Other', '97', 'Unknown/other', '97']]"
      ]
     },
     "execution_count": 16,
     "metadata": {},
     "output_type": "execute_result"
    }
   ],
   "source": [
    "data_list"
   ]
  },
  {
   "cell_type": "code",
   "execution_count": 17,
   "metadata": {
    "execution": {
     "iopub.execute_input": "2021-11-22T08:20:50.201306Z",
     "iopub.status.busy": "2021-11-22T08:20:50.196265Z",
     "iopub.status.idle": "2021-11-22T08:20:50.204587Z",
     "shell.execute_reply": "2021-11-22T08:20:50.204136Z"
    }
   },
   "outputs": [],
   "source": [
    "df = pd.DataFrame(data_list[1:], columns=data_list[0])"
   ]
  },
  {
   "cell_type": "markdown",
   "metadata": {},
   "source": [
    "### Get timestamp"
   ]
  },
  {
   "cell_type": "code",
   "execution_count": 18,
   "metadata": {
    "execution": {
     "iopub.execute_input": "2021-11-22T08:20:50.210757Z",
     "iopub.status.busy": "2021-11-22T08:20:50.209329Z",
     "iopub.status.idle": "2021-11-22T08:20:50.213633Z",
     "shell.execute_reply": "2021-11-22T08:20:50.214072Z"
    }
   },
   "outputs": [],
   "source": [
    "title_tag = soup.find(\"meta\", {\"property\": \"og:title\"})"
   ]
  },
  {
   "cell_type": "code",
   "execution_count": 19,
   "metadata": {
    "execution": {
     "iopub.execute_input": "2021-11-22T08:20:50.218912Z",
     "iopub.status.busy": "2021-11-22T08:20:50.218387Z",
     "iopub.status.idle": "2021-11-22T08:20:50.221394Z",
     "shell.execute_reply": "2021-11-22T08:20:50.220941Z"
    }
   },
   "outputs": [],
   "source": [
    "title_str = title_tag[\"content\"]"
   ]
  },
  {
   "cell_type": "code",
   "execution_count": 20,
   "metadata": {
    "execution": {
     "iopub.execute_input": "2021-11-22T08:20:50.225670Z",
     "iopub.status.busy": "2021-11-22T08:20:50.224788Z",
     "iopub.status.idle": "2021-11-22T08:20:50.231641Z",
     "shell.execute_reply": "2021-11-22T08:20:50.231240Z"
    }
   },
   "outputs": [
    {
     "data": {
      "text/plain": [
       "'Lake County COVID-19 cases, by district and zip code | Created with Datawrapper'"
      ]
     },
     "execution_count": 20,
     "metadata": {},
     "output_type": "execute_result"
    }
   ],
   "source": [
    "title_str"
   ]
  },
  {
   "cell_type": "code",
   "execution_count": 21,
   "metadata": {
    "execution": {
     "iopub.execute_input": "2021-11-22T08:20:50.236385Z",
     "iopub.status.busy": "2021-11-22T08:20:50.233661Z",
     "iopub.status.idle": "2021-11-22T08:20:50.240243Z",
     "shell.execute_reply": "2021-11-22T08:20:50.239815Z"
    }
   },
   "outputs": [],
   "source": [
    "date_regex = re.search(r\"(\\d+/\\d+/\\d+)\", title_str)"
   ]
  },
  {
   "cell_type": "code",
   "execution_count": 22,
   "metadata": {
    "execution": {
     "iopub.execute_input": "2021-11-22T08:20:50.244919Z",
     "iopub.status.busy": "2021-11-22T08:20:50.244405Z",
     "iopub.status.idle": "2021-11-22T08:20:50.370320Z",
     "shell.execute_reply": "2021-11-22T08:20:50.368531Z"
    }
   },
   "outputs": [
    {
     "ename": "AttributeError",
     "evalue": "'NoneType' object has no attribute 'group'",
     "output_type": "error",
     "traceback": [
      "\u001b[0;31m---------------------------------------------------------------------------\u001b[0m",
      "\u001b[0;31mAttributeError\u001b[0m                            Traceback (most recent call last)",
      "\u001b[0;32m/tmp/ipykernel_3170/1864350042.py\u001b[0m in \u001b[0;36m<module>\u001b[0;34m\u001b[0m\n\u001b[0;32m----> 1\u001b[0;31m \u001b[0mdate_str\u001b[0m \u001b[0;34m=\u001b[0m \u001b[0mdate_regex\u001b[0m\u001b[0;34m.\u001b[0m\u001b[0mgroup\u001b[0m\u001b[0;34m(\u001b[0m\u001b[0;36m1\u001b[0m\u001b[0;34m)\u001b[0m\u001b[0;34m\u001b[0m\u001b[0;34m\u001b[0m\u001b[0m\n\u001b[0m",
      "\u001b[0;31mAttributeError\u001b[0m: 'NoneType' object has no attribute 'group'"
     ]
    }
   ],
   "source": [
    "date_str = date_regex.group(1)"
   ]
  },
  {
   "cell_type": "code",
   "execution_count": 64,
   "metadata": {},
   "outputs": [],
   "source": [
    "latest_date = pd.to_datetime(date_str).date()"
   ]
  },
  {
   "cell_type": "code",
   "execution_count": 65,
   "metadata": {},
   "outputs": [],
   "source": [
    "df[\"county_date\"] = latest_date"
   ]
  },
  {
   "cell_type": "code",
   "execution_count": 66,
   "metadata": {},
   "outputs": [],
   "source": [
    "df[\"county\"] = \"Lake\""
   ]
  },
  {
   "cell_type": "markdown",
   "metadata": {},
   "source": [
    "### Rename and drop columns"
   ]
  },
  {
   "cell_type": "code",
   "execution_count": 67,
   "metadata": {},
   "outputs": [],
   "source": [
    "cols = {\"Zip Code\": \"area\", \"Zip Code Total\": \"confirmed_cases\"}"
   ]
  },
  {
   "cell_type": "code",
   "execution_count": 68,
   "metadata": {},
   "outputs": [],
   "source": [
    "export_df = df.rename(columns=cols)[\n",
    "    [\"county\", \"area\", \"confirmed_cases\", \"county_date\"]\n",
    "]"
   ]
  },
  {
   "cell_type": "code",
   "execution_count": 69,
   "metadata": {},
   "outputs": [
    {
     "data": {
      "text/plain": [
       "16"
      ]
     },
     "execution_count": 69,
     "metadata": {},
     "output_type": "execute_result"
    }
   ],
   "source": [
    "len(export_df)"
   ]
  },
  {
   "cell_type": "markdown",
   "metadata": {},
   "source": [
    "### Vet"
   ]
  },
  {
   "cell_type": "markdown",
   "metadata": {},
   "source": [
    "Lake County has 16 ZIP code areas, including \"Unknown\""
   ]
  },
  {
   "cell_type": "code",
   "execution_count": 70,
   "metadata": {},
   "outputs": [],
   "source": [
    "lake_len = 16"
   ]
  },
  {
   "cell_type": "code",
   "execution_count": 71,
   "metadata": {},
   "outputs": [],
   "source": [
    "try:\n",
    "    assert not len(export_df) > lake_len\n",
    "except AssertionError:\n",
    "    raise AssertionError(\n",
    "        \"Lake County scraper: spreadsheet has additional zip code(s) than previous\"\n",
    "    )"
   ]
  },
  {
   "cell_type": "code",
   "execution_count": 72,
   "metadata": {},
   "outputs": [],
   "source": [
    "try:\n",
    "    assert not len(export_df) < lake_len\n",
    "except AssertionError:\n",
    "    raise AssertionError(\"Lake County scraper: spreadsheet is missing row(s)\")"
   ]
  },
  {
   "cell_type": "markdown",
   "metadata": {},
   "source": [
    "### Export csv file"
   ]
  },
  {
   "cell_type": "markdown",
   "metadata": {},
   "source": [
    "Write csv file timestamped with today's date"
   ]
  },
  {
   "cell_type": "code",
   "execution_count": 73,
   "metadata": {},
   "outputs": [],
   "source": [
    "slug = \"lake\""
   ]
  },
  {
   "cell_type": "code",
   "execution_count": 74,
   "metadata": {},
   "outputs": [],
   "source": [
    "tz = pytz.timezone(\"America/Los_Angeles\")"
   ]
  },
  {
   "cell_type": "code",
   "execution_count": 75,
   "metadata": {},
   "outputs": [],
   "source": [
    "today = datetime.now(tz).date()"
   ]
  },
  {
   "cell_type": "code",
   "execution_count": 76,
   "metadata": {},
   "outputs": [],
   "source": [
    "export_df.to_csv(data_dir / slug / f\"{today}.csv\", index=False)"
   ]
  },
  {
   "cell_type": "markdown",
   "metadata": {},
   "source": [
    "## Combine"
   ]
  },
  {
   "cell_type": "code",
   "execution_count": 77,
   "metadata": {},
   "outputs": [],
   "source": [
    "csv_list = [\n",
    "    i\n",
    "    for i in glob.glob(str(data_dir / slug / \"*.csv\"))\n",
    "    if not str(i).endswith(\"timeseries.csv\")\n",
    "]"
   ]
  },
  {
   "cell_type": "code",
   "execution_count": 78,
   "metadata": {},
   "outputs": [],
   "source": [
    "df_list = []\n",
    "for csv in csv_list:\n",
    "    if \"manual\" in csv:\n",
    "        df = pd.read_csv(csv, parse_dates=[\"date\"])\n",
    "    else:\n",
    "        file_date = csv.split(\"/\")[-1].replace(\".csv\", \"\")\n",
    "        df = pd.read_csv(csv, parse_dates=[\"county_date\"])\n",
    "        df[\"date\"] = file_date\n",
    "    df_list.append(df)"
   ]
  },
  {
   "cell_type": "code",
   "execution_count": 79,
   "metadata": {},
   "outputs": [],
   "source": [
    "df = pd.concat(df_list).sort_values([\"date\", \"area\"])"
   ]
  },
  {
   "cell_type": "code",
   "execution_count": 80,
   "metadata": {},
   "outputs": [],
   "source": [
    "df.to_csv(data_dir / slug / \"timeseries.csv\", index=False)"
   ]
  }
 ],
 "metadata": {
  "kernelspec": {
   "display_name": "Python 3 (ipykernel)",
   "language": "python",
   "name": "python3"
  },
  "language_info": {
   "codemirror_mode": {
    "name": "ipython",
    "version": 3
   },
   "file_extension": ".py",
   "mimetype": "text/x-python",
   "name": "python",
   "nbconvert_exporter": "python",
   "pygments_lexer": "ipython3",
   "version": "3.8.12"
  }
 },
 "nbformat": 4,
 "nbformat_minor": 4
}
