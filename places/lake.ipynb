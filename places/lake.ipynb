{
 "cells": [
  {
   "cell_type": "markdown",
   "metadata": {},
   "source": [
    "## Configuration\n",
    "_Initial steps to get the notebook ready to play nice with our repository. Do not delete this section._"
   ]
  },
  {
   "cell_type": "markdown",
   "metadata": {},
   "source": [
    "Code formatting with [black](https://pypi.org/project/nb-black/)."
   ]
  },
  {
   "cell_type": "code",
   "execution_count": 1,
   "metadata": {
    "execution": {
     "iopub.execute_input": "2021-10-22T12:20:48.818624Z",
     "iopub.status.busy": "2021-10-22T12:20:48.818081Z",
     "iopub.status.idle": "2021-10-22T12:20:48.939974Z",
     "shell.execute_reply": "2021-10-22T12:20:48.939377Z"
    }
   },
   "outputs": [],
   "source": [
    "%load_ext lab_black"
   ]
  },
  {
   "cell_type": "code",
   "execution_count": 2,
   "metadata": {
    "execution": {
     "iopub.execute_input": "2021-10-22T12:20:48.944251Z",
     "iopub.status.busy": "2021-10-22T12:20:48.943750Z",
     "iopub.status.idle": "2021-10-22T12:20:48.946157Z",
     "shell.execute_reply": "2021-10-22T12:20:48.945779Z"
    }
   },
   "outputs": [],
   "source": [
    "import os\n",
    "import pathlib"
   ]
  },
  {
   "cell_type": "code",
   "execution_count": 3,
   "metadata": {
    "execution": {
     "iopub.execute_input": "2021-10-22T12:20:48.952969Z",
     "iopub.status.busy": "2021-10-22T12:20:48.951907Z",
     "iopub.status.idle": "2021-10-22T12:20:48.953570Z",
     "shell.execute_reply": "2021-10-22T12:20:48.953943Z"
    }
   },
   "outputs": [],
   "source": [
    "this_dir = pathlib.Path(os.path.abspath(\"\"))"
   ]
  },
  {
   "cell_type": "code",
   "execution_count": 4,
   "metadata": {
    "execution": {
     "iopub.execute_input": "2021-10-22T12:20:48.958904Z",
     "iopub.status.busy": "2021-10-22T12:20:48.957792Z",
     "iopub.status.idle": "2021-10-22T12:20:48.959437Z",
     "shell.execute_reply": "2021-10-22T12:20:48.959812Z"
    }
   },
   "outputs": [],
   "source": [
    "data_dir = this_dir / \"data\""
   ]
  },
  {
   "cell_type": "code",
   "execution_count": 5,
   "metadata": {
    "execution": {
     "iopub.execute_input": "2021-10-22T12:20:48.963269Z",
     "iopub.status.busy": "2021-10-22T12:20:48.962818Z",
     "iopub.status.idle": "2021-10-22T12:20:49.352281Z",
     "shell.execute_reply": "2021-10-22T12:20:49.351330Z"
    }
   },
   "outputs": [],
   "source": [
    "import re\n",
    "import pytz\n",
    "import glob\n",
    "import requests\n",
    "import unicodedata\n",
    "import json\n",
    "import pandas as pd\n",
    "from datetime import datetime\n",
    "from bs4 import BeautifulSoup"
   ]
  },
  {
   "cell_type": "markdown",
   "metadata": {},
   "source": [
    "### Download / retrieve the page"
   ]
  },
  {
   "cell_type": "markdown",
   "metadata": {},
   "source": [
    "Lake County's [dashboard](http://health.co.lake.ca.us/Coronavirus/COVID-19_Data.htm) uses Datawrapper to display cases by ZIP Code. To make sure we get the latest, we'll hit the chart page on Datawrapper's website, then get the iframe URL."
   ]
  },
  {
   "cell_type": "code",
   "execution_count": 6,
   "metadata": {
    "execution": {
     "iopub.execute_input": "2021-10-22T12:20:49.357634Z",
     "iopub.status.busy": "2021-10-22T12:20:49.356512Z",
     "iopub.status.idle": "2021-10-22T12:20:49.359920Z",
     "shell.execute_reply": "2021-10-22T12:20:49.360309Z"
    }
   },
   "outputs": [],
   "source": [
    "url = \"https://www.datawrapper.de/_/D1RaA/\""
   ]
  },
  {
   "cell_type": "code",
   "execution_count": 7,
   "metadata": {
    "execution": {
     "iopub.execute_input": "2021-10-22T12:20:49.367901Z",
     "iopub.status.busy": "2021-10-22T12:20:49.363880Z",
     "iopub.status.idle": "2021-10-22T12:20:49.545420Z",
     "shell.execute_reply": "2021-10-22T12:20:49.544938Z"
    }
   },
   "outputs": [],
   "source": [
    "page = requests.get(url)"
   ]
  },
  {
   "cell_type": "markdown",
   "metadata": {},
   "source": [
    "### Parse with BeautifulSoup"
   ]
  },
  {
   "cell_type": "code",
   "execution_count": 8,
   "metadata": {
    "execution": {
     "iopub.execute_input": "2021-10-22T12:20:49.552057Z",
     "iopub.status.busy": "2021-10-22T12:20:49.551152Z",
     "iopub.status.idle": "2021-10-22T12:20:49.554916Z",
     "shell.execute_reply": "2021-10-22T12:20:49.554530Z"
    }
   },
   "outputs": [],
   "source": [
    "soup = BeautifulSoup(page.content, \"html.parser\")"
   ]
  },
  {
   "cell_type": "code",
   "execution_count": 9,
   "metadata": {
    "execution": {
     "iopub.execute_input": "2021-10-22T12:20:49.559010Z",
     "iopub.status.busy": "2021-10-22T12:20:49.558531Z",
     "iopub.status.idle": "2021-10-22T12:20:49.562038Z",
     "shell.execute_reply": "2021-10-22T12:20:49.561660Z"
    }
   },
   "outputs": [],
   "source": [
    "meta = soup.find(\"meta\", {\"property\": \"og:url\"})"
   ]
  },
  {
   "cell_type": "code",
   "execution_count": 10,
   "metadata": {
    "execution": {
     "iopub.execute_input": "2021-10-22T12:20:49.566498Z",
     "iopub.status.busy": "2021-10-22T12:20:49.565993Z",
     "iopub.status.idle": "2021-10-22T12:20:49.569225Z",
     "shell.execute_reply": "2021-10-22T12:20:49.568803Z"
    }
   },
   "outputs": [],
   "source": [
    "dw_url = meta[\"content\"]"
   ]
  },
  {
   "cell_type": "markdown",
   "metadata": {},
   "source": [
    "### Parse Datawrapper"
   ]
  },
  {
   "cell_type": "code",
   "execution_count": 11,
   "metadata": {
    "execution": {
     "iopub.execute_input": "2021-10-22T12:20:49.573794Z",
     "iopub.status.busy": "2021-10-22T12:20:49.573329Z",
     "iopub.status.idle": "2021-10-22T12:20:49.575469Z",
     "shell.execute_reply": "2021-10-22T12:20:49.575075Z"
    }
   },
   "outputs": [],
   "source": [
    "dataset_url = dw_url + \"dataset.csv\""
   ]
  },
  {
   "cell_type": "code",
   "execution_count": 12,
   "metadata": {
    "execution": {
     "iopub.execute_input": "2021-10-22T12:20:49.581128Z",
     "iopub.status.busy": "2021-10-22T12:20:49.580683Z",
     "iopub.status.idle": "2021-10-22T12:20:49.673115Z",
     "shell.execute_reply": "2021-10-22T12:20:49.672630Z"
    }
   },
   "outputs": [],
   "source": [
    "dw_r = requests.get(dataset_url)"
   ]
  },
  {
   "cell_type": "code",
   "execution_count": 13,
   "metadata": {
    "execution": {
     "iopub.execute_input": "2021-10-22T12:20:49.682168Z",
     "iopub.status.busy": "2021-10-22T12:20:49.681696Z",
     "iopub.status.idle": "2021-10-22T12:20:49.685046Z",
     "shell.execute_reply": "2021-10-22T12:20:49.684641Z"
    }
   },
   "outputs": [],
   "source": [
    "string = dw_r.text"
   ]
  },
  {
   "cell_type": "code",
   "execution_count": 14,
   "metadata": {
    "execution": {
     "iopub.execute_input": "2021-10-22T12:20:49.689989Z",
     "iopub.status.busy": "2021-10-22T12:20:49.688331Z",
     "iopub.status.idle": "2021-10-22T12:20:49.692936Z",
     "shell.execute_reply": "2021-10-22T12:20:49.692516Z"
    }
   },
   "outputs": [],
   "source": [
    "parsed = string.split(\"\\r\\n\")"
   ]
  },
  {
   "cell_type": "code",
   "execution_count": 15,
   "metadata": {
    "execution": {
     "iopub.execute_input": "2021-10-22T12:20:49.699576Z",
     "iopub.status.busy": "2021-10-22T12:20:49.699131Z",
     "iopub.status.idle": "2021-10-22T12:20:49.702185Z",
     "shell.execute_reply": "2021-10-22T12:20:49.701788Z"
    }
   },
   "outputs": [],
   "source": [
    "data_list = []\n",
    "for row in parsed:\n",
    "    cell = row.split(\",\")\n",
    "    data_list.append(cell)"
   ]
  },
  {
   "cell_type": "code",
   "execution_count": 16,
   "metadata": {
    "execution": {
     "iopub.execute_input": "2021-10-22T12:20:49.712166Z",
     "iopub.status.busy": "2021-10-22T12:20:49.711706Z",
     "iopub.status.idle": "2021-10-22T12:20:49.717565Z",
     "shell.execute_reply": "2021-10-22T12:20:49.717154Z"
    }
   },
   "outputs": [
    {
     "data": {
      "text/plain": [
       "[['Supervisorial District', 'District Total', 'Zip Code', 'Zip Code Total'],\n",
       " ['District 1', '771', '95457', '261'],\n",
       " ['', '', '95467', '344'],\n",
       " ['', '', '95461', '166'],\n",
       " ['District 2', '1647', '95422', '1627'],\n",
       " ['', '', '95424', '20'],\n",
       " ['District 3', '1100', '95423', '256'],\n",
       " ['', '', '95458', '271'],\n",
       " ['', '', '95464', '261'],\n",
       " ['', '', '95485', '291'],\n",
       " ['', '', '95493', '11'],\n",
       " ['', '', '95443', '10'],\n",
       " ['District 4', '1434', '95453', '1388'],\n",
       " ['', '', '95435', '46'],\n",
       " ['District 5', '1150', '95426', '62'],\n",
       " ['', '', '95451', '1088'],\n",
       " ['Unknown or Other', '99', 'Unknown/other', '99']]"
      ]
     },
     "execution_count": 16,
     "metadata": {},
     "output_type": "execute_result"
    }
   ],
   "source": [
    "data_list"
   ]
  },
  {
   "cell_type": "code",
   "execution_count": 17,
   "metadata": {
    "execution": {
     "iopub.execute_input": "2021-10-22T12:20:49.722742Z",
     "iopub.status.busy": "2021-10-22T12:20:49.722235Z",
     "iopub.status.idle": "2021-10-22T12:20:49.726045Z",
     "shell.execute_reply": "2021-10-22T12:20:49.725643Z"
    }
   },
   "outputs": [],
   "source": [
    "df = pd.DataFrame(data_list[1:], columns=data_list[0])"
   ]
  },
  {
   "cell_type": "markdown",
   "metadata": {},
   "source": [
    "### Get timestamp"
   ]
  },
  {
   "cell_type": "code",
   "execution_count": 18,
   "metadata": {
    "execution": {
     "iopub.execute_input": "2021-10-22T12:20:49.731272Z",
     "iopub.status.busy": "2021-10-22T12:20:49.730425Z",
     "iopub.status.idle": "2021-10-22T12:20:49.734000Z",
     "shell.execute_reply": "2021-10-22T12:20:49.733620Z"
    }
   },
   "outputs": [],
   "source": [
    "title_tag = soup.find(\"meta\", {\"property\": \"og:title\"})"
   ]
  },
  {
   "cell_type": "code",
   "execution_count": 19,
   "metadata": {
    "execution": {
     "iopub.execute_input": "2021-10-22T12:20:49.738442Z",
     "iopub.status.busy": "2021-10-22T12:20:49.737936Z",
     "iopub.status.idle": "2021-10-22T12:20:49.740743Z",
     "shell.execute_reply": "2021-10-22T12:20:49.740344Z"
    }
   },
   "outputs": [],
   "source": [
    "title_str = title_tag[\"content\"]"
   ]
  },
  {
   "cell_type": "code",
   "execution_count": 20,
   "metadata": {
    "execution": {
     "iopub.execute_input": "2021-10-22T12:20:49.744003Z",
     "iopub.status.busy": "2021-10-22T12:20:49.742536Z",
     "iopub.status.idle": "2021-10-22T12:20:49.748224Z",
     "shell.execute_reply": "2021-10-22T12:20:49.747515Z"
    }
   },
   "outputs": [
    {
     "data": {
      "text/plain": [
       "'Lake County COVID-19 cases, by district and zip code, through 9/30/21 | Created with Datawrapper'"
      ]
     },
     "execution_count": 20,
     "metadata": {},
     "output_type": "execute_result"
    }
   ],
   "source": [
    "title_str"
   ]
  },
  {
   "cell_type": "code",
   "execution_count": 21,
   "metadata": {
    "execution": {
     "iopub.execute_input": "2021-10-22T12:20:49.752286Z",
     "iopub.status.busy": "2021-10-22T12:20:49.751817Z",
     "iopub.status.idle": "2021-10-22T12:20:49.756168Z",
     "shell.execute_reply": "2021-10-22T12:20:49.755763Z"
    }
   },
   "outputs": [],
   "source": [
    "date_regex = re.search(r\"(\\d+/\\d+/\\d+)\", title_str)"
   ]
  },
  {
   "cell_type": "code",
   "execution_count": 22,
   "metadata": {
    "execution": {
     "iopub.execute_input": "2021-10-22T12:20:49.761075Z",
     "iopub.status.busy": "2021-10-22T12:20:49.759527Z",
     "iopub.status.idle": "2021-10-22T12:20:49.763287Z",
     "shell.execute_reply": "2021-10-22T12:20:49.763901Z"
    }
   },
   "outputs": [],
   "source": [
    "date_str = date_regex.group(1)"
   ]
  },
  {
   "cell_type": "code",
   "execution_count": 23,
   "metadata": {
    "execution": {
     "iopub.execute_input": "2021-10-22T12:20:49.770146Z",
     "iopub.status.busy": "2021-10-22T12:20:49.769699Z",
     "iopub.status.idle": "2021-10-22T12:20:49.772772Z",
     "shell.execute_reply": "2021-10-22T12:20:49.772343Z"
    }
   },
   "outputs": [],
   "source": [
    "latest_date = pd.to_datetime(date_str).date()"
   ]
  },
  {
   "cell_type": "code",
   "execution_count": 24,
   "metadata": {
    "execution": {
     "iopub.execute_input": "2021-10-22T12:20:49.777628Z",
     "iopub.status.busy": "2021-10-22T12:20:49.776827Z",
     "iopub.status.idle": "2021-10-22T12:20:49.780881Z",
     "shell.execute_reply": "2021-10-22T12:20:49.781264Z"
    }
   },
   "outputs": [],
   "source": [
    "df[\"county_date\"] = latest_date"
   ]
  },
  {
   "cell_type": "markdown",
   "metadata": {},
   "source": [
    "### Rename and drop columns"
   ]
  },
  {
   "cell_type": "code",
   "execution_count": 25,
   "metadata": {
    "execution": {
     "iopub.execute_input": "2021-10-22T12:20:49.787779Z",
     "iopub.status.busy": "2021-10-22T12:20:49.784543Z",
     "iopub.status.idle": "2021-10-22T12:20:49.790032Z",
     "shell.execute_reply": "2021-10-22T12:20:49.790463Z"
    }
   },
   "outputs": [],
   "source": [
    "cols = {\"Zip Code\": \"area\", \"Zip Code Total\": \"confirmed_cases\"}"
   ]
  },
  {
   "cell_type": "code",
   "execution_count": 26,
   "metadata": {
    "execution": {
     "iopub.execute_input": "2021-10-22T12:20:49.797698Z",
     "iopub.status.busy": "2021-10-22T12:20:49.795386Z",
     "iopub.status.idle": "2021-10-22T12:20:49.800961Z",
     "shell.execute_reply": "2021-10-22T12:20:49.800337Z"
    }
   },
   "outputs": [],
   "source": [
    "export_df = df.rename(columns=cols)[[\"area\", \"confirmed_cases\", \"county_date\"]]"
   ]
  },
  {
   "cell_type": "code",
   "execution_count": 27,
   "metadata": {
    "execution": {
     "iopub.execute_input": "2021-10-22T12:20:49.805220Z",
     "iopub.status.busy": "2021-10-22T12:20:49.804393Z",
     "iopub.status.idle": "2021-10-22T12:20:49.808246Z",
     "shell.execute_reply": "2021-10-22T12:20:49.808606Z"
    }
   },
   "outputs": [
    {
     "data": {
      "text/plain": [
       "16"
      ]
     },
     "execution_count": 27,
     "metadata": {},
     "output_type": "execute_result"
    }
   ],
   "source": [
    "len(export_df)"
   ]
  },
  {
   "cell_type": "markdown",
   "metadata": {},
   "source": [
    "### Vet"
   ]
  },
  {
   "cell_type": "markdown",
   "metadata": {},
   "source": [
    "Lake County has 16 ZIP code areas, including \"Unknown\""
   ]
  },
  {
   "cell_type": "code",
   "execution_count": 28,
   "metadata": {
    "execution": {
     "iopub.execute_input": "2021-10-22T12:20:49.812290Z",
     "iopub.status.busy": "2021-10-22T12:20:49.811467Z",
     "iopub.status.idle": "2021-10-22T12:20:49.814440Z",
     "shell.execute_reply": "2021-10-22T12:20:49.814021Z"
    }
   },
   "outputs": [],
   "source": [
    "lake_len = 16"
   ]
  },
  {
   "cell_type": "code",
   "execution_count": 29,
   "metadata": {
    "execution": {
     "iopub.execute_input": "2021-10-22T12:20:49.819521Z",
     "iopub.status.busy": "2021-10-22T12:20:49.818452Z",
     "iopub.status.idle": "2021-10-22T12:20:49.821932Z",
     "shell.execute_reply": "2021-10-22T12:20:49.822322Z"
    }
   },
   "outputs": [],
   "source": [
    "try:\n",
    "    assert not len(export_df) > lake_len\n",
    "except AssertionError:\n",
    "    raise AssertionError(\n",
    "        \"Lake County scraper: spreadsheet has additional zip code(s) than previous\"\n",
    "    )"
   ]
  },
  {
   "cell_type": "code",
   "execution_count": 30,
   "metadata": {
    "execution": {
     "iopub.execute_input": "2021-10-22T12:20:49.827621Z",
     "iopub.status.busy": "2021-10-22T12:20:49.824287Z",
     "iopub.status.idle": "2021-10-22T12:20:49.829860Z",
     "shell.execute_reply": "2021-10-22T12:20:49.830247Z"
    }
   },
   "outputs": [],
   "source": [
    "try:\n",
    "    assert not len(export_df) < lake_len\n",
    "except AssertionError:\n",
    "    raise AssertionError(\"Lake County scraper: spreadsheet is missing row(s)\")"
   ]
  },
  {
   "cell_type": "markdown",
   "metadata": {},
   "source": [
    "### Export csv file"
   ]
  },
  {
   "cell_type": "markdown",
   "metadata": {},
   "source": [
    "Write csv file timestamped with today's date"
   ]
  },
  {
   "cell_type": "code",
   "execution_count": 31,
   "metadata": {
    "execution": {
     "iopub.execute_input": "2021-10-22T12:20:49.834387Z",
     "iopub.status.busy": "2021-10-22T12:20:49.833535Z",
     "iopub.status.idle": "2021-10-22T12:20:49.836905Z",
     "shell.execute_reply": "2021-10-22T12:20:49.836505Z"
    }
   },
   "outputs": [],
   "source": [
    "slug = \"lake\""
   ]
  },
  {
   "cell_type": "code",
   "execution_count": 32,
   "metadata": {
    "execution": {
     "iopub.execute_input": "2021-10-22T12:20:49.840053Z",
     "iopub.status.busy": "2021-10-22T12:20:49.838658Z",
     "iopub.status.idle": "2021-10-22T12:20:49.948084Z",
     "shell.execute_reply": "2021-10-22T12:20:49.947555Z"
    }
   },
   "outputs": [
    {
     "ename": "NameError",
     "evalue": "name 'today' is not defined",
     "output_type": "error",
     "traceback": [
      "\u001b[0;31m---------------------------------------------------------------------------\u001b[0m",
      "\u001b[0;31mNameError\u001b[0m                                 Traceback (most recent call last)",
      "\u001b[0;32m/tmp/ipykernel_3447/2436362009.py\u001b[0m in \u001b[0;36m<module>\u001b[0;34m\u001b[0m\n\u001b[0;32m----> 1\u001b[0;31m \u001b[0mexport_df\u001b[0m\u001b[0;34m.\u001b[0m\u001b[0mto_csv\u001b[0m\u001b[0;34m(\u001b[0m\u001b[0mdata_dir\u001b[0m \u001b[0;34m/\u001b[0m \u001b[0mslug\u001b[0m \u001b[0;34m/\u001b[0m \u001b[0;34mf\"{today}.csv\"\u001b[0m\u001b[0;34m,\u001b[0m \u001b[0mindex\u001b[0m\u001b[0;34m=\u001b[0m\u001b[0;32mFalse\u001b[0m\u001b[0;34m)\u001b[0m\u001b[0;34m\u001b[0m\u001b[0;34m\u001b[0m\u001b[0m\n\u001b[0m",
      "\u001b[0;31mNameError\u001b[0m: name 'today' is not defined"
     ]
    }
   ],
   "source": [
    "export_df.to_csv(data_dir / slug / f\"{today}.csv\", index=False)"
   ]
  },
  {
   "cell_type": "markdown",
   "metadata": {},
   "source": [
    "## Combine"
   ]
  },
  {
   "cell_type": "code",
   "execution_count": 260,
   "metadata": {},
   "outputs": [],
   "source": [
    "csv_list = [\n",
    "    i\n",
    "    for i in glob.glob(str(data_dir / slug / \"*.csv\"))\n",
    "    if not str(i).endswith(\"timeseries.csv\")\n",
    "]"
   ]
  },
  {
   "cell_type": "code",
   "execution_count": 261,
   "metadata": {},
   "outputs": [],
   "source": [
    "df_list = []\n",
    "for csv in csv_list:\n",
    "    if \"manual\" in csv:\n",
    "        df = pd.read_csv(csv, parse_dates=[\"date\"])\n",
    "    else:\n",
    "        file_date = csv.split(\"/\")[-1].replace(\".csv\", \"\")\n",
    "        df = pd.read_csv(csv, parse_dates=[\"county_date\"])\n",
    "        df[\"date\"] = file_date\n",
    "    df_list.append(df)"
   ]
  },
  {
   "cell_type": "code",
   "execution_count": 262,
   "metadata": {},
   "outputs": [],
   "source": [
    "df = pd.concat(df_list).sort_values([\"date\", \"area\"])"
   ]
  },
  {
   "cell_type": "code",
   "execution_count": 263,
   "metadata": {},
   "outputs": [],
   "source": [
    "df.to_csv(data_dir / slug / \"timeseries.csv\", index=False)"
   ]
  }
 ],
 "metadata": {
  "kernelspec": {
   "display_name": "Python 3 (ipykernel)",
   "language": "python",
   "name": "python3"
  },
  "language_info": {
   "codemirror_mode": {
    "name": "ipython",
    "version": 3
   },
   "file_extension": ".py",
   "mimetype": "text/x-python",
   "name": "python",
   "nbconvert_exporter": "python",
   "pygments_lexer": "ipython3",
   "version": "3.8.12"
  }
 },
 "nbformat": 4,
 "nbformat_minor": 4
}
