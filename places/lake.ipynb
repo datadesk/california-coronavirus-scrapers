{
 "cells": [
  {
   "cell_type": "markdown",
   "metadata": {},
   "source": [
    "## Configuration\n",
    "_Initial steps to get the notebook ready to play nice with our repository. Do not delete this section._"
   ]
  },
  {
   "cell_type": "markdown",
   "metadata": {},
   "source": [
    "Code formatting with [black](https://pypi.org/project/nb-black/)."
   ]
  },
  {
   "cell_type": "code",
   "execution_count": 1,
   "metadata": {
    "execution": {
     "iopub.execute_input": "2021-10-23T00:22:48.269577Z",
     "iopub.status.busy": "2021-10-23T00:22:48.268940Z",
     "iopub.status.idle": "2021-10-23T00:22:48.418304Z",
     "shell.execute_reply": "2021-10-23T00:22:48.418800Z"
    }
   },
   "outputs": [],
   "source": [
    "%load_ext lab_black"
   ]
  },
  {
   "cell_type": "code",
   "execution_count": 2,
   "metadata": {
    "execution": {
     "iopub.execute_input": "2021-10-23T00:22:48.425473Z",
     "iopub.status.busy": "2021-10-23T00:22:48.424301Z",
     "iopub.status.idle": "2021-10-23T00:22:48.426956Z",
     "shell.execute_reply": "2021-10-23T00:22:48.427443Z"
    }
   },
   "outputs": [],
   "source": [
    "import os\n",
    "import pathlib"
   ]
  },
  {
   "cell_type": "code",
   "execution_count": 3,
   "metadata": {
    "execution": {
     "iopub.execute_input": "2021-10-23T00:22:48.432515Z",
     "iopub.status.busy": "2021-10-23T00:22:48.431858Z",
     "iopub.status.idle": "2021-10-23T00:22:48.437031Z",
     "shell.execute_reply": "2021-10-23T00:22:48.437617Z"
    }
   },
   "outputs": [],
   "source": [
    "this_dir = pathlib.Path(os.path.abspath(\"\"))"
   ]
  },
  {
   "cell_type": "code",
   "execution_count": 4,
   "metadata": {
    "execution": {
     "iopub.execute_input": "2021-10-23T00:22:48.442944Z",
     "iopub.status.busy": "2021-10-23T00:22:48.441634Z",
     "iopub.status.idle": "2021-10-23T00:22:48.445090Z",
     "shell.execute_reply": "2021-10-23T00:22:48.445531Z"
    }
   },
   "outputs": [],
   "source": [
    "data_dir = this_dir / \"data\""
   ]
  },
  {
   "cell_type": "code",
   "execution_count": 5,
   "metadata": {
    "execution": {
     "iopub.execute_input": "2021-10-23T00:22:48.449882Z",
     "iopub.status.busy": "2021-10-23T00:22:48.449290Z",
     "iopub.status.idle": "2021-10-23T00:22:48.935323Z",
     "shell.execute_reply": "2021-10-23T00:22:48.934646Z"
    }
   },
   "outputs": [],
   "source": [
    "import re\n",
    "import pytz\n",
    "import glob\n",
    "import requests\n",
    "import unicodedata\n",
    "import json\n",
    "import pandas as pd\n",
    "from datetime import datetime\n",
    "from bs4 import BeautifulSoup"
   ]
  },
  {
   "cell_type": "markdown",
   "metadata": {},
   "source": [
    "### Download / retrieve the page"
   ]
  },
  {
   "cell_type": "markdown",
   "metadata": {},
   "source": [
    "Lake County's [dashboard](http://health.co.lake.ca.us/Coronavirus/COVID-19_Data.htm) uses Datawrapper to display cases by ZIP Code. To make sure we get the latest, we'll hit the chart page on Datawrapper's website, then get the iframe URL."
   ]
  },
  {
   "cell_type": "code",
   "execution_count": 6,
   "metadata": {
    "execution": {
     "iopub.execute_input": "2021-10-23T00:22:48.941693Z",
     "iopub.status.busy": "2021-10-23T00:22:48.940469Z",
     "iopub.status.idle": "2021-10-23T00:22:48.945359Z",
     "shell.execute_reply": "2021-10-23T00:22:48.944831Z"
    }
   },
   "outputs": [],
   "source": [
    "url = \"https://www.datawrapper.de/_/D1RaA/\""
   ]
  },
  {
   "cell_type": "code",
   "execution_count": 7,
   "metadata": {
    "execution": {
     "iopub.execute_input": "2021-10-23T00:22:48.950233Z",
     "iopub.status.busy": "2021-10-23T00:22:48.948020Z",
     "iopub.status.idle": "2021-10-23T00:22:49.231394Z",
     "shell.execute_reply": "2021-10-23T00:22:49.230274Z"
    }
   },
   "outputs": [],
   "source": [
    "page = requests.get(url)"
   ]
  },
  {
   "cell_type": "markdown",
   "metadata": {},
   "source": [
    "### Parse with BeautifulSoup"
   ]
  },
  {
   "cell_type": "code",
   "execution_count": 8,
   "metadata": {
    "execution": {
     "iopub.execute_input": "2021-10-23T00:22:49.239063Z",
     "iopub.status.busy": "2021-10-23T00:22:49.233878Z",
     "iopub.status.idle": "2021-10-23T00:22:49.241919Z",
     "shell.execute_reply": "2021-10-23T00:22:49.241409Z"
    }
   },
   "outputs": [],
   "source": [
    "soup = BeautifulSoup(page.content, \"html.parser\")"
   ]
  },
  {
   "cell_type": "code",
   "execution_count": 9,
   "metadata": {
    "execution": {
     "iopub.execute_input": "2021-10-23T00:22:49.247134Z",
     "iopub.status.busy": "2021-10-23T00:22:49.246497Z",
     "iopub.status.idle": "2021-10-23T00:22:49.250576Z",
     "shell.execute_reply": "2021-10-23T00:22:49.251230Z"
    }
   },
   "outputs": [],
   "source": [
    "meta = soup.find(\"meta\", {\"property\": \"og:url\"})"
   ]
  },
  {
   "cell_type": "code",
   "execution_count": 10,
   "metadata": {
    "execution": {
     "iopub.execute_input": "2021-10-23T00:22:49.255998Z",
     "iopub.status.busy": "2021-10-23T00:22:49.255380Z",
     "iopub.status.idle": "2021-10-23T00:22:49.260700Z",
     "shell.execute_reply": "2021-10-23T00:22:49.261166Z"
    }
   },
   "outputs": [],
   "source": [
    "dw_url = meta[\"content\"]"
   ]
  },
  {
   "cell_type": "markdown",
   "metadata": {},
   "source": [
    "### Parse Datawrapper"
   ]
  },
  {
   "cell_type": "code",
   "execution_count": 11,
   "metadata": {
    "execution": {
     "iopub.execute_input": "2021-10-23T00:22:49.267350Z",
     "iopub.status.busy": "2021-10-23T00:22:49.266614Z",
     "iopub.status.idle": "2021-10-23T00:22:49.271068Z",
     "shell.execute_reply": "2021-10-23T00:22:49.270504Z"
    }
   },
   "outputs": [],
   "source": [
    "dataset_url = dw_url + \"dataset.csv\""
   ]
  },
  {
   "cell_type": "code",
   "execution_count": 12,
   "metadata": {
    "execution": {
     "iopub.execute_input": "2021-10-23T00:22:49.279423Z",
     "iopub.status.busy": "2021-10-23T00:22:49.278802Z",
     "iopub.status.idle": "2021-10-23T00:22:49.355880Z",
     "shell.execute_reply": "2021-10-23T00:22:49.355286Z"
    }
   },
   "outputs": [],
   "source": [
    "dw_r = requests.get(dataset_url)"
   ]
  },
  {
   "cell_type": "code",
   "execution_count": 13,
   "metadata": {
    "execution": {
     "iopub.execute_input": "2021-10-23T00:22:49.365474Z",
     "iopub.status.busy": "2021-10-23T00:22:49.358863Z",
     "iopub.status.idle": "2021-10-23T00:22:49.371441Z",
     "shell.execute_reply": "2021-10-23T00:22:49.370232Z"
    }
   },
   "outputs": [],
   "source": [
    "string = dw_r.text"
   ]
  },
  {
   "cell_type": "code",
   "execution_count": 14,
   "metadata": {
    "execution": {
     "iopub.execute_input": "2021-10-23T00:22:49.378705Z",
     "iopub.status.busy": "2021-10-23T00:22:49.378016Z",
     "iopub.status.idle": "2021-10-23T00:22:49.387334Z",
     "shell.execute_reply": "2021-10-23T00:22:49.384825Z"
    }
   },
   "outputs": [],
   "source": [
    "parsed = string.split(\"\\r\\n\")"
   ]
  },
  {
   "cell_type": "code",
   "execution_count": 15,
   "metadata": {
    "execution": {
     "iopub.execute_input": "2021-10-23T00:22:49.396902Z",
     "iopub.status.busy": "2021-10-23T00:22:49.396251Z",
     "iopub.status.idle": "2021-10-23T00:22:49.399211Z",
     "shell.execute_reply": "2021-10-23T00:22:49.398544Z"
    }
   },
   "outputs": [],
   "source": [
    "data_list = []\n",
    "for row in parsed:\n",
    "    cell = row.split(\",\")\n",
    "    data_list.append(cell)"
   ]
  },
  {
   "cell_type": "code",
   "execution_count": 16,
   "metadata": {
    "execution": {
     "iopub.execute_input": "2021-10-23T00:22:49.408381Z",
     "iopub.status.busy": "2021-10-23T00:22:49.407713Z",
     "iopub.status.idle": "2021-10-23T00:22:49.418243Z",
     "shell.execute_reply": "2021-10-23T00:22:49.418789Z"
    }
   },
   "outputs": [
    {
     "data": {
      "text/plain": [
       "[['Supervisorial District', 'District Total', 'Zip Code', 'Zip Code Total'],\n",
       " ['District 1', '771', '95457', '261'],\n",
       " ['', '', '95467', '344'],\n",
       " ['', '', '95461', '166'],\n",
       " ['District 2', '1647', '95422', '1627'],\n",
       " ['', '', '95424', '20'],\n",
       " ['District 3', '1100', '95423', '256'],\n",
       " ['', '', '95458', '271'],\n",
       " ['', '', '95464', '261'],\n",
       " ['', '', '95485', '291'],\n",
       " ['', '', '95493', '11'],\n",
       " ['', '', '95443', '10'],\n",
       " ['District 4', '1434', '95453', '1388'],\n",
       " ['', '', '95435', '46'],\n",
       " ['District 5', '1150', '95426', '62'],\n",
       " ['', '', '95451', '1088'],\n",
       " ['Unknown or Other', '99', 'Unknown/other', '99']]"
      ]
     },
     "execution_count": 16,
     "metadata": {},
     "output_type": "execute_result"
    }
   ],
   "source": [
    "data_list"
   ]
  },
  {
   "cell_type": "code",
   "execution_count": 17,
   "metadata": {
    "execution": {
     "iopub.execute_input": "2021-10-23T00:22:49.426344Z",
     "iopub.status.busy": "2021-10-23T00:22:49.425685Z",
     "iopub.status.idle": "2021-10-23T00:22:49.431222Z",
     "shell.execute_reply": "2021-10-23T00:22:49.430623Z"
    }
   },
   "outputs": [],
   "source": [
    "df = pd.DataFrame(data_list[1:], columns=data_list[0])"
   ]
  },
  {
   "cell_type": "markdown",
   "metadata": {},
   "source": [
    "### Get timestamp"
   ]
  },
  {
   "cell_type": "code",
   "execution_count": 18,
   "metadata": {
    "execution": {
     "iopub.execute_input": "2021-10-23T00:22:49.438755Z",
     "iopub.status.busy": "2021-10-23T00:22:49.438102Z",
     "iopub.status.idle": "2021-10-23T00:22:49.441276Z",
     "shell.execute_reply": "2021-10-23T00:22:49.440709Z"
    }
   },
   "outputs": [],
   "source": [
    "title_tag = soup.find(\"meta\", {\"property\": \"og:title\"})"
   ]
  },
  {
   "cell_type": "code",
   "execution_count": 19,
   "metadata": {
    "execution": {
     "iopub.execute_input": "2021-10-23T00:22:49.446072Z",
     "iopub.status.busy": "2021-10-23T00:22:49.445412Z",
     "iopub.status.idle": "2021-10-23T00:22:49.449215Z",
     "shell.execute_reply": "2021-10-23T00:22:49.449757Z"
    }
   },
   "outputs": [],
   "source": [
    "title_str = title_tag[\"content\"]"
   ]
  },
  {
   "cell_type": "code",
   "execution_count": 20,
   "metadata": {
    "execution": {
     "iopub.execute_input": "2021-10-23T00:22:49.454914Z",
     "iopub.status.busy": "2021-10-23T00:22:49.454157Z",
     "iopub.status.idle": "2021-10-23T00:22:49.459636Z",
     "shell.execute_reply": "2021-10-23T00:22:49.460133Z"
    }
   },
   "outputs": [
    {
     "data": {
      "text/plain": [
       "'Lake County COVID-19 cases, by district and zip code, through 9/30/21 | Created with Datawrapper'"
      ]
     },
     "execution_count": 20,
     "metadata": {},
     "output_type": "execute_result"
    }
   ],
   "source": [
    "title_str"
   ]
  },
  {
   "cell_type": "code",
   "execution_count": 21,
   "metadata": {
    "execution": {
     "iopub.execute_input": "2021-10-23T00:22:49.464640Z",
     "iopub.status.busy": "2021-10-23T00:22:49.463939Z",
     "iopub.status.idle": "2021-10-23T00:22:49.470058Z",
     "shell.execute_reply": "2021-10-23T00:22:49.469523Z"
    }
   },
   "outputs": [],
   "source": [
    "date_regex = re.search(r\"(\\d+/\\d+/\\d+)\", title_str)"
   ]
  },
  {
   "cell_type": "code",
   "execution_count": 22,
   "metadata": {
    "execution": {
     "iopub.execute_input": "2021-10-23T00:22:49.474731Z",
     "iopub.status.busy": "2021-10-23T00:22:49.473949Z",
     "iopub.status.idle": "2021-10-23T00:22:49.478696Z",
     "shell.execute_reply": "2021-10-23T00:22:49.478152Z"
    }
   },
   "outputs": [],
   "source": [
    "date_str = date_regex.group(1)"
   ]
  },
  {
   "cell_type": "code",
   "execution_count": 23,
   "metadata": {
    "execution": {
     "iopub.execute_input": "2021-10-23T00:22:49.486929Z",
     "iopub.status.busy": "2021-10-23T00:22:49.486326Z",
     "iopub.status.idle": "2021-10-23T00:22:49.489688Z",
     "shell.execute_reply": "2021-10-23T00:22:49.490208Z"
    }
   },
   "outputs": [],
   "source": [
    "latest_date = pd.to_datetime(date_str).date()"
   ]
  },
  {
   "cell_type": "code",
   "execution_count": 24,
   "metadata": {
    "execution": {
     "iopub.execute_input": "2021-10-23T00:22:49.498165Z",
     "iopub.status.busy": "2021-10-23T00:22:49.495043Z",
     "iopub.status.idle": "2021-10-23T00:22:49.504273Z",
     "shell.execute_reply": "2021-10-23T00:22:49.505593Z"
    }
   },
   "outputs": [],
   "source": [
    "df[\"county_date\"] = latest_date"
   ]
  },
  {
   "cell_type": "markdown",
   "metadata": {},
   "source": [
    "### Rename and drop columns"
   ]
  },
  {
   "cell_type": "code",
   "execution_count": 25,
   "metadata": {
    "execution": {
     "iopub.execute_input": "2021-10-23T00:22:49.512878Z",
     "iopub.status.busy": "2021-10-23T00:22:49.512255Z",
     "iopub.status.idle": "2021-10-23T00:22:49.514336Z",
     "shell.execute_reply": "2021-10-23T00:22:49.515073Z"
    }
   },
   "outputs": [],
   "source": [
    "cols = {\"Zip Code\": \"area\", \"Zip Code Total\": \"confirmed_cases\"}"
   ]
  },
  {
   "cell_type": "code",
   "execution_count": 26,
   "metadata": {
    "execution": {
     "iopub.execute_input": "2021-10-23T00:22:49.520055Z",
     "iopub.status.busy": "2021-10-23T00:22:49.519450Z",
     "iopub.status.idle": "2021-10-23T00:22:49.528078Z",
     "shell.execute_reply": "2021-10-23T00:22:49.527543Z"
    }
   },
   "outputs": [],
   "source": [
    "export_df = df.rename(columns=cols)[[\"area\", \"confirmed_cases\", \"county_date\"]]"
   ]
  },
  {
   "cell_type": "code",
   "execution_count": 27,
   "metadata": {
    "execution": {
     "iopub.execute_input": "2021-10-23T00:22:49.533672Z",
     "iopub.status.busy": "2021-10-23T00:22:49.532934Z",
     "iopub.status.idle": "2021-10-23T00:22:49.537847Z",
     "shell.execute_reply": "2021-10-23T00:22:49.537129Z"
    }
   },
   "outputs": [
    {
     "data": {
      "text/plain": [
       "16"
      ]
     },
     "execution_count": 27,
     "metadata": {},
     "output_type": "execute_result"
    }
   ],
   "source": [
    "len(export_df)"
   ]
  },
  {
   "cell_type": "markdown",
   "metadata": {},
   "source": [
    "### Vet"
   ]
  },
  {
   "cell_type": "markdown",
   "metadata": {},
   "source": [
    "Lake County has 16 ZIP code areas, including \"Unknown\""
   ]
  },
  {
   "cell_type": "code",
   "execution_count": 28,
   "metadata": {
    "execution": {
     "iopub.execute_input": "2021-10-23T00:22:49.543093Z",
     "iopub.status.busy": "2021-10-23T00:22:49.541945Z",
     "iopub.status.idle": "2021-10-23T00:22:49.546041Z",
     "shell.execute_reply": "2021-10-23T00:22:49.545401Z"
    }
   },
   "outputs": [],
   "source": [
    "lake_len = 16"
   ]
  },
  {
   "cell_type": "code",
   "execution_count": 29,
   "metadata": {
    "execution": {
     "iopub.execute_input": "2021-10-23T00:22:49.551992Z",
     "iopub.status.busy": "2021-10-23T00:22:49.551371Z",
     "iopub.status.idle": "2021-10-23T00:22:49.557846Z",
     "shell.execute_reply": "2021-10-23T00:22:49.557261Z"
    }
   },
   "outputs": [],
   "source": [
    "try:\n",
    "    assert not len(export_df) > lake_len\n",
    "except AssertionError:\n",
    "    raise AssertionError(\n",
    "        \"Lake County scraper: spreadsheet has additional zip code(s) than previous\"\n",
    "    )"
   ]
  },
  {
   "cell_type": "code",
   "execution_count": 30,
   "metadata": {
    "execution": {
     "iopub.execute_input": "2021-10-23T00:22:49.563718Z",
     "iopub.status.busy": "2021-10-23T00:22:49.562523Z",
     "iopub.status.idle": "2021-10-23T00:22:49.570583Z",
     "shell.execute_reply": "2021-10-23T00:22:49.569914Z"
    }
   },
   "outputs": [],
   "source": [
    "try:\n",
    "    assert not len(export_df) < lake_len\n",
    "except AssertionError:\n",
    "    raise AssertionError(\"Lake County scraper: spreadsheet is missing row(s)\")"
   ]
  },
  {
   "cell_type": "markdown",
   "metadata": {},
   "source": [
    "### Export csv file"
   ]
  },
  {
   "cell_type": "markdown",
   "metadata": {},
   "source": [
    "Write csv file timestamped with today's date"
   ]
  },
  {
   "cell_type": "code",
   "execution_count": 31,
   "metadata": {
    "execution": {
     "iopub.execute_input": "2021-10-23T00:22:49.576972Z",
     "iopub.status.busy": "2021-10-23T00:22:49.575737Z",
     "iopub.status.idle": "2021-10-23T00:22:49.580055Z",
     "shell.execute_reply": "2021-10-23T00:22:49.580636Z"
    }
   },
   "outputs": [],
   "source": [
    "slug = \"lake\""
   ]
  },
  {
   "cell_type": "code",
   "execution_count": 32,
   "metadata": {
    "execution": {
     "iopub.execute_input": "2021-10-23T00:22:49.586864Z",
     "iopub.status.busy": "2021-10-23T00:22:49.584984Z",
     "iopub.status.idle": "2021-10-23T00:22:49.731985Z",
     "shell.execute_reply": "2021-10-23T00:22:49.731330Z"
    }
   },
   "outputs": [
    {
     "ename": "NameError",
     "evalue": "name 'today' is not defined",
     "output_type": "error",
     "traceback": [
      "\u001b[0;31m---------------------------------------------------------------------------\u001b[0m",
      "\u001b[0;31mNameError\u001b[0m                                 Traceback (most recent call last)",
      "\u001b[0;32m/tmp/ipykernel_3501/2436362009.py\u001b[0m in \u001b[0;36m<module>\u001b[0;34m\u001b[0m\n\u001b[0;32m----> 1\u001b[0;31m \u001b[0mexport_df\u001b[0m\u001b[0;34m.\u001b[0m\u001b[0mto_csv\u001b[0m\u001b[0;34m(\u001b[0m\u001b[0mdata_dir\u001b[0m \u001b[0;34m/\u001b[0m \u001b[0mslug\u001b[0m \u001b[0;34m/\u001b[0m \u001b[0;34mf\"{today}.csv\"\u001b[0m\u001b[0;34m,\u001b[0m \u001b[0mindex\u001b[0m\u001b[0;34m=\u001b[0m\u001b[0;32mFalse\u001b[0m\u001b[0;34m)\u001b[0m\u001b[0;34m\u001b[0m\u001b[0;34m\u001b[0m\u001b[0m\n\u001b[0m",
      "\u001b[0;31mNameError\u001b[0m: name 'today' is not defined"
     ]
    }
   ],
   "source": [
    "export_df.to_csv(data_dir / slug / f\"{today}.csv\", index=False)"
   ]
  },
  {
   "cell_type": "markdown",
   "metadata": {},
   "source": [
    "## Combine"
   ]
  },
  {
   "cell_type": "code",
   "execution_count": 260,
   "metadata": {},
   "outputs": [],
   "source": [
    "csv_list = [\n",
    "    i\n",
    "    for i in glob.glob(str(data_dir / slug / \"*.csv\"))\n",
    "    if not str(i).endswith(\"timeseries.csv\")\n",
    "]"
   ]
  },
  {
   "cell_type": "code",
   "execution_count": 261,
   "metadata": {},
   "outputs": [],
   "source": [
    "df_list = []\n",
    "for csv in csv_list:\n",
    "    if \"manual\" in csv:\n",
    "        df = pd.read_csv(csv, parse_dates=[\"date\"])\n",
    "    else:\n",
    "        file_date = csv.split(\"/\")[-1].replace(\".csv\", \"\")\n",
    "        df = pd.read_csv(csv, parse_dates=[\"county_date\"])\n",
    "        df[\"date\"] = file_date\n",
    "    df_list.append(df)"
   ]
  },
  {
   "cell_type": "code",
   "execution_count": 262,
   "metadata": {},
   "outputs": [],
   "source": [
    "df = pd.concat(df_list).sort_values([\"date\", \"area\"])"
   ]
  },
  {
   "cell_type": "code",
   "execution_count": 263,
   "metadata": {},
   "outputs": [],
   "source": [
    "df.to_csv(data_dir / slug / \"timeseries.csv\", index=False)"
   ]
  }
 ],
 "metadata": {
  "kernelspec": {
   "display_name": "Python 3 (ipykernel)",
   "language": "python",
   "name": "python3"
  },
  "language_info": {
   "codemirror_mode": {
    "name": "ipython",
    "version": 3
   },
   "file_extension": ".py",
   "mimetype": "text/x-python",
   "name": "python",
   "nbconvert_exporter": "python",
   "pygments_lexer": "ipython3",
   "version": "3.8.12"
  }
 },
 "nbformat": 4,
 "nbformat_minor": 4
}
