{
 "cells": [
  {
   "cell_type": "markdown",
   "metadata": {},
   "source": [
    "## Configuration\n",
    "_Initial steps to get the notebook ready to play nice with our repository. Do not delete this section._"
   ]
  },
  {
   "cell_type": "markdown",
   "metadata": {},
   "source": [
    "Code formatting with [black](https://pypi.org/project/nb-black/)."
   ]
  },
  {
   "cell_type": "code",
   "execution_count": 1,
   "metadata": {
    "execution": {
     "iopub.execute_input": "2021-11-22T20:20:11.515076Z",
     "iopub.status.busy": "2021-11-22T20:20:11.514616Z",
     "iopub.status.idle": "2021-11-22T20:20:11.631461Z",
     "shell.execute_reply": "2021-11-22T20:20:11.630873Z"
    }
   },
   "outputs": [],
   "source": [
    "%load_ext lab_black"
   ]
  },
  {
   "cell_type": "code",
   "execution_count": 2,
   "metadata": {
    "execution": {
     "iopub.execute_input": "2021-11-22T20:20:11.636799Z",
     "iopub.status.busy": "2021-11-22T20:20:11.635635Z",
     "iopub.status.idle": "2021-11-22T20:20:11.637350Z",
     "shell.execute_reply": "2021-11-22T20:20:11.637711Z"
    }
   },
   "outputs": [],
   "source": [
    "import os\n",
    "import pathlib"
   ]
  },
  {
   "cell_type": "code",
   "execution_count": 3,
   "metadata": {
    "execution": {
     "iopub.execute_input": "2021-11-22T20:20:11.641349Z",
     "iopub.status.busy": "2021-11-22T20:20:11.640904Z",
     "iopub.status.idle": "2021-11-22T20:20:11.644587Z",
     "shell.execute_reply": "2021-11-22T20:20:11.644935Z"
    }
   },
   "outputs": [],
   "source": [
    "this_dir = pathlib.Path(os.path.abspath(\"\"))"
   ]
  },
  {
   "cell_type": "code",
   "execution_count": 4,
   "metadata": {
    "execution": {
     "iopub.execute_input": "2021-11-22T20:20:11.649246Z",
     "iopub.status.busy": "2021-11-22T20:20:11.648798Z",
     "iopub.status.idle": "2021-11-22T20:20:11.651875Z",
     "shell.execute_reply": "2021-11-22T20:20:11.651428Z"
    }
   },
   "outputs": [],
   "source": [
    "data_dir = this_dir / \"data\""
   ]
  },
  {
   "cell_type": "code",
   "execution_count": 5,
   "metadata": {
    "execution": {
     "iopub.execute_input": "2021-11-22T20:20:11.655246Z",
     "iopub.status.busy": "2021-11-22T20:20:11.654804Z",
     "iopub.status.idle": "2021-11-22T20:20:12.038393Z",
     "shell.execute_reply": "2021-11-22T20:20:12.037901Z"
    }
   },
   "outputs": [],
   "source": [
    "import re\n",
    "import pytz\n",
    "import glob\n",
    "import requests\n",
    "import unicodedata\n",
    "import json\n",
    "import pandas as pd\n",
    "from datetime import datetime\n",
    "from bs4 import BeautifulSoup"
   ]
  },
  {
   "cell_type": "markdown",
   "metadata": {},
   "source": [
    "### Download / retrieve the page"
   ]
  },
  {
   "cell_type": "markdown",
   "metadata": {},
   "source": [
    "Lake County's [dashboard](http://health.co.lake.ca.us/Coronavirus/COVID-19_Data.htm) uses Datawrapper to display cases by ZIP Code. To make sure we get the latest, we'll hit the chart page on Datawrapper's website, then get the iframe URL."
   ]
  },
  {
   "cell_type": "code",
   "execution_count": 6,
   "metadata": {
    "execution": {
     "iopub.execute_input": "2021-11-22T20:20:12.043372Z",
     "iopub.status.busy": "2021-11-22T20:20:12.042383Z",
     "iopub.status.idle": "2021-11-22T20:20:12.045945Z",
     "shell.execute_reply": "2021-11-22T20:20:12.045576Z"
    }
   },
   "outputs": [],
   "source": [
    "url = \"https://www.datawrapper.de/_/D1RaA/\""
   ]
  },
  {
   "cell_type": "code",
   "execution_count": 7,
   "metadata": {
    "execution": {
     "iopub.execute_input": "2021-11-22T20:20:12.049392Z",
     "iopub.status.busy": "2021-11-22T20:20:12.048955Z",
     "iopub.status.idle": "2021-11-22T20:20:12.137883Z",
     "shell.execute_reply": "2021-11-22T20:20:12.137344Z"
    }
   },
   "outputs": [],
   "source": [
    "page = requests.get(url)"
   ]
  },
  {
   "cell_type": "markdown",
   "metadata": {},
   "source": [
    "### Parse with BeautifulSoup"
   ]
  },
  {
   "cell_type": "code",
   "execution_count": 8,
   "metadata": {
    "execution": {
     "iopub.execute_input": "2021-11-22T20:20:12.145796Z",
     "iopub.status.busy": "2021-11-22T20:20:12.144515Z",
     "iopub.status.idle": "2021-11-22T20:20:12.146318Z",
     "shell.execute_reply": "2021-11-22T20:20:12.146677Z"
    }
   },
   "outputs": [],
   "source": [
    "soup = BeautifulSoup(page.content, \"html.parser\")"
   ]
  },
  {
   "cell_type": "code",
   "execution_count": 9,
   "metadata": {
    "execution": {
     "iopub.execute_input": "2021-11-22T20:20:12.150507Z",
     "iopub.status.busy": "2021-11-22T20:20:12.150059Z",
     "iopub.status.idle": "2021-11-22T20:20:12.153431Z",
     "shell.execute_reply": "2021-11-22T20:20:12.153067Z"
    }
   },
   "outputs": [],
   "source": [
    "meta = soup.find(\"meta\", {\"property\": \"og:url\"})"
   ]
  },
  {
   "cell_type": "code",
   "execution_count": 10,
   "metadata": {
    "execution": {
     "iopub.execute_input": "2021-11-22T20:20:12.157953Z",
     "iopub.status.busy": "2021-11-22T20:20:12.157153Z",
     "iopub.status.idle": "2021-11-22T20:20:12.159290Z",
     "shell.execute_reply": "2021-11-22T20:20:12.158877Z"
    }
   },
   "outputs": [],
   "source": [
    "dw_url = meta[\"content\"]"
   ]
  },
  {
   "cell_type": "markdown",
   "metadata": {},
   "source": [
    "### Parse Datawrapper"
   ]
  },
  {
   "cell_type": "code",
   "execution_count": 11,
   "metadata": {
    "execution": {
     "iopub.execute_input": "2021-11-22T20:20:12.163101Z",
     "iopub.status.busy": "2021-11-22T20:20:12.162658Z",
     "iopub.status.idle": "2021-11-22T20:20:12.164828Z",
     "shell.execute_reply": "2021-11-22T20:20:12.165172Z"
    }
   },
   "outputs": [],
   "source": [
    "dataset_url = dw_url + \"dataset.csv\""
   ]
  },
  {
   "cell_type": "code",
   "execution_count": 12,
   "metadata": {
    "execution": {
     "iopub.execute_input": "2021-11-22T20:20:12.167864Z",
     "iopub.status.busy": "2021-11-22T20:20:12.166890Z",
     "iopub.status.idle": "2021-11-22T20:20:12.317286Z",
     "shell.execute_reply": "2021-11-22T20:20:12.317724Z"
    }
   },
   "outputs": [],
   "source": [
    "dw_r = requests.get(dataset_url)"
   ]
  },
  {
   "cell_type": "code",
   "execution_count": 13,
   "metadata": {
    "execution": {
     "iopub.execute_input": "2021-11-22T20:20:12.327532Z",
     "iopub.status.busy": "2021-11-22T20:20:12.326352Z",
     "iopub.status.idle": "2021-11-22T20:20:12.328049Z",
     "shell.execute_reply": "2021-11-22T20:20:12.328450Z"
    }
   },
   "outputs": [],
   "source": [
    "string = dw_r.text"
   ]
  },
  {
   "cell_type": "code",
   "execution_count": 14,
   "metadata": {
    "execution": {
     "iopub.execute_input": "2021-11-22T20:20:12.332466Z",
     "iopub.status.busy": "2021-11-22T20:20:12.331630Z",
     "iopub.status.idle": "2021-11-22T20:20:12.334760Z",
     "shell.execute_reply": "2021-11-22T20:20:12.334374Z"
    }
   },
   "outputs": [],
   "source": [
    "parsed = string.split(\"\\r\\n\")"
   ]
  },
  {
   "cell_type": "code",
   "execution_count": 15,
   "metadata": {
    "execution": {
     "iopub.execute_input": "2021-11-22T20:20:12.341961Z",
     "iopub.status.busy": "2021-11-22T20:20:12.340867Z",
     "iopub.status.idle": "2021-11-22T20:20:12.342491Z",
     "shell.execute_reply": "2021-11-22T20:20:12.342862Z"
    }
   },
   "outputs": [],
   "source": [
    "data_list = []\n",
    "for row in parsed:\n",
    "    cell = row.split(\",\")\n",
    "    data_list.append(cell)"
   ]
  },
  {
   "cell_type": "code",
   "execution_count": 16,
   "metadata": {
    "execution": {
     "iopub.execute_input": "2021-11-22T20:20:12.352634Z",
     "iopub.status.busy": "2021-11-22T20:20:12.350168Z",
     "iopub.status.idle": "2021-11-22T20:20:12.355910Z",
     "shell.execute_reply": "2021-11-22T20:20:12.356301Z"
    }
   },
   "outputs": [
    {
     "data": {
      "text/plain": [
       "[['Supervisorial District', 'District Total', 'Zip Code', 'Zip Code Total'],\n",
       " ['District 1', '863', '95457', '290'],\n",
       " ['', '', '95467', '387'],\n",
       " ['', '', '95461', '186'],\n",
       " ['District 2', '1844', '95422', '1819'],\n",
       " ['', '', '95424', '25'],\n",
       " ['District 3', '1183', '95423', '274'],\n",
       " ['', '', '95458', '290'],\n",
       " ['', '', '95464', '278'],\n",
       " ['', '', '95485', '315'],\n",
       " ['', '', '95493', '12'],\n",
       " ['', '', '95443', '14'],\n",
       " ['District 4', '1500', '95453', '1452'],\n",
       " ['', '', '95435', '48'],\n",
       " ['District 5', '1240', '95426', '72'],\n",
       " ['', '', '95451', '1168'],\n",
       " ['Unknown or Other', '97', 'Unknown/other', '97']]"
      ]
     },
     "execution_count": 16,
     "metadata": {},
     "output_type": "execute_result"
    }
   ],
   "source": [
    "data_list"
   ]
  },
  {
   "cell_type": "code",
   "execution_count": 17,
   "metadata": {
    "execution": {
     "iopub.execute_input": "2021-11-22T20:20:12.361299Z",
     "iopub.status.busy": "2021-11-22T20:20:12.360846Z",
     "iopub.status.idle": "2021-11-22T20:20:12.364391Z",
     "shell.execute_reply": "2021-11-22T20:20:12.363999Z"
    }
   },
   "outputs": [],
   "source": [
    "df = pd.DataFrame(data_list[1:], columns=data_list[0])"
   ]
  },
  {
   "cell_type": "markdown",
   "metadata": {},
   "source": [
    "### Get timestamp"
   ]
  },
  {
   "cell_type": "code",
   "execution_count": 18,
   "metadata": {
    "execution": {
     "iopub.execute_input": "2021-11-22T20:20:12.369472Z",
     "iopub.status.busy": "2021-11-22T20:20:12.368997Z",
     "iopub.status.idle": "2021-11-22T20:20:12.370686Z",
     "shell.execute_reply": "2021-11-22T20:20:12.371028Z"
    }
   },
   "outputs": [],
   "source": [
    "title_tag = soup.find(\"meta\", {\"property\": \"og:title\"})"
   ]
  },
  {
   "cell_type": "code",
   "execution_count": 19,
   "metadata": {
    "execution": {
     "iopub.execute_input": "2021-11-22T20:20:12.375488Z",
     "iopub.status.busy": "2021-11-22T20:20:12.374703Z",
     "iopub.status.idle": "2021-11-22T20:20:12.376370Z",
     "shell.execute_reply": "2021-11-22T20:20:12.376715Z"
    }
   },
   "outputs": [],
   "source": [
    "title_str = title_tag[\"content\"]"
   ]
  },
  {
   "cell_type": "code",
   "execution_count": 20,
   "metadata": {
    "execution": {
     "iopub.execute_input": "2021-11-22T20:20:12.379929Z",
     "iopub.status.busy": "2021-11-22T20:20:12.378374Z",
     "iopub.status.idle": "2021-11-22T20:20:12.382796Z",
     "shell.execute_reply": "2021-11-22T20:20:12.383171Z"
    }
   },
   "outputs": [
    {
     "data": {
      "text/plain": [
       "'Lake County COVID-19 cases, by district and zip code | Created with Datawrapper'"
      ]
     },
     "execution_count": 20,
     "metadata": {},
     "output_type": "execute_result"
    }
   ],
   "source": [
    "title_str"
   ]
  },
  {
   "cell_type": "code",
   "execution_count": 21,
   "metadata": {
    "execution": {
     "iopub.execute_input": "2021-11-22T20:20:12.388524Z",
     "iopub.status.busy": "2021-11-22T20:20:12.387672Z",
     "iopub.status.idle": "2021-11-22T20:20:12.390753Z",
     "shell.execute_reply": "2021-11-22T20:20:12.390341Z"
    }
   },
   "outputs": [],
   "source": [
    "date_regex = re.search(r\"(\\d+/\\d+/\\d+)\", title_str)"
   ]
  },
  {
   "cell_type": "code",
   "execution_count": 22,
   "metadata": {
    "execution": {
     "iopub.execute_input": "2021-11-22T20:20:12.393981Z",
     "iopub.status.busy": "2021-11-22T20:20:12.393542Z",
     "iopub.status.idle": "2021-11-22T20:20:12.502801Z",
     "shell.execute_reply": "2021-11-22T20:20:12.502211Z"
    }
   },
   "outputs": [
    {
     "ename": "AttributeError",
     "evalue": "'NoneType' object has no attribute 'group'",
     "output_type": "error",
     "traceback": [
      "\u001b[0;31m---------------------------------------------------------------------------\u001b[0m",
      "\u001b[0;31mAttributeError\u001b[0m                            Traceback (most recent call last)",
      "\u001b[0;32m/tmp/ipykernel_3011/1864350042.py\u001b[0m in \u001b[0;36m<module>\u001b[0;34m\u001b[0m\n\u001b[0;32m----> 1\u001b[0;31m \u001b[0mdate_str\u001b[0m \u001b[0;34m=\u001b[0m \u001b[0mdate_regex\u001b[0m\u001b[0;34m.\u001b[0m\u001b[0mgroup\u001b[0m\u001b[0;34m(\u001b[0m\u001b[0;36m1\u001b[0m\u001b[0;34m)\u001b[0m\u001b[0;34m\u001b[0m\u001b[0;34m\u001b[0m\u001b[0m\n\u001b[0m",
      "\u001b[0;31mAttributeError\u001b[0m: 'NoneType' object has no attribute 'group'"
     ]
    }
   ],
   "source": [
    "date_str = date_regex.group(1)"
   ]
  },
  {
   "cell_type": "code",
   "execution_count": 64,
   "metadata": {},
   "outputs": [],
   "source": [
    "latest_date = pd.to_datetime(date_str).date()"
   ]
  },
  {
   "cell_type": "code",
   "execution_count": 65,
   "metadata": {},
   "outputs": [],
   "source": [
    "df[\"county_date\"] = latest_date"
   ]
  },
  {
   "cell_type": "code",
   "execution_count": 66,
   "metadata": {},
   "outputs": [],
   "source": [
    "df[\"county\"] = \"Lake\""
   ]
  },
  {
   "cell_type": "markdown",
   "metadata": {},
   "source": [
    "### Rename and drop columns"
   ]
  },
  {
   "cell_type": "code",
   "execution_count": 67,
   "metadata": {},
   "outputs": [],
   "source": [
    "cols = {\"Zip Code\": \"area\", \"Zip Code Total\": \"confirmed_cases\"}"
   ]
  },
  {
   "cell_type": "code",
   "execution_count": 68,
   "metadata": {},
   "outputs": [],
   "source": [
    "export_df = df.rename(columns=cols)[\n",
    "    [\"county\", \"area\", \"confirmed_cases\", \"county_date\"]\n",
    "]"
   ]
  },
  {
   "cell_type": "code",
   "execution_count": 69,
   "metadata": {},
   "outputs": [
    {
     "data": {
      "text/plain": [
       "16"
      ]
     },
     "execution_count": 69,
     "metadata": {},
     "output_type": "execute_result"
    }
   ],
   "source": [
    "len(export_df)"
   ]
  },
  {
   "cell_type": "markdown",
   "metadata": {},
   "source": [
    "### Vet"
   ]
  },
  {
   "cell_type": "markdown",
   "metadata": {},
   "source": [
    "Lake County has 16 ZIP code areas, including \"Unknown\""
   ]
  },
  {
   "cell_type": "code",
   "execution_count": 70,
   "metadata": {},
   "outputs": [],
   "source": [
    "lake_len = 16"
   ]
  },
  {
   "cell_type": "code",
   "execution_count": 71,
   "metadata": {},
   "outputs": [],
   "source": [
    "try:\n",
    "    assert not len(export_df) > lake_len\n",
    "except AssertionError:\n",
    "    raise AssertionError(\n",
    "        \"Lake County scraper: spreadsheet has additional zip code(s) than previous\"\n",
    "    )"
   ]
  },
  {
   "cell_type": "code",
   "execution_count": 72,
   "metadata": {},
   "outputs": [],
   "source": [
    "try:\n",
    "    assert not len(export_df) < lake_len\n",
    "except AssertionError:\n",
    "    raise AssertionError(\"Lake County scraper: spreadsheet is missing row(s)\")"
   ]
  },
  {
   "cell_type": "markdown",
   "metadata": {},
   "source": [
    "### Export csv file"
   ]
  },
  {
   "cell_type": "markdown",
   "metadata": {},
   "source": [
    "Write csv file timestamped with today's date"
   ]
  },
  {
   "cell_type": "code",
   "execution_count": 73,
   "metadata": {},
   "outputs": [],
   "source": [
    "slug = \"lake\""
   ]
  },
  {
   "cell_type": "code",
   "execution_count": 74,
   "metadata": {},
   "outputs": [],
   "source": [
    "tz = pytz.timezone(\"America/Los_Angeles\")"
   ]
  },
  {
   "cell_type": "code",
   "execution_count": 75,
   "metadata": {},
   "outputs": [],
   "source": [
    "today = datetime.now(tz).date()"
   ]
  },
  {
   "cell_type": "code",
   "execution_count": 76,
   "metadata": {},
   "outputs": [],
   "source": [
    "export_df.to_csv(data_dir / slug / f\"{today}.csv\", index=False)"
   ]
  },
  {
   "cell_type": "markdown",
   "metadata": {},
   "source": [
    "## Combine"
   ]
  },
  {
   "cell_type": "code",
   "execution_count": 77,
   "metadata": {},
   "outputs": [],
   "source": [
    "csv_list = [\n",
    "    i\n",
    "    for i in glob.glob(str(data_dir / slug / \"*.csv\"))\n",
    "    if not str(i).endswith(\"timeseries.csv\")\n",
    "]"
   ]
  },
  {
   "cell_type": "code",
   "execution_count": 78,
   "metadata": {},
   "outputs": [],
   "source": [
    "df_list = []\n",
    "for csv in csv_list:\n",
    "    if \"manual\" in csv:\n",
    "        df = pd.read_csv(csv, parse_dates=[\"date\"])\n",
    "    else:\n",
    "        file_date = csv.split(\"/\")[-1].replace(\".csv\", \"\")\n",
    "        df = pd.read_csv(csv, parse_dates=[\"county_date\"])\n",
    "        df[\"date\"] = file_date\n",
    "    df_list.append(df)"
   ]
  },
  {
   "cell_type": "code",
   "execution_count": 79,
   "metadata": {},
   "outputs": [],
   "source": [
    "df = pd.concat(df_list).sort_values([\"date\", \"area\"])"
   ]
  },
  {
   "cell_type": "code",
   "execution_count": 80,
   "metadata": {},
   "outputs": [],
   "source": [
    "df.to_csv(data_dir / slug / \"timeseries.csv\", index=False)"
   ]
  }
 ],
 "metadata": {
  "kernelspec": {
   "display_name": "Python 3 (ipykernel)",
   "language": "python",
   "name": "python3"
  },
  "language_info": {
   "codemirror_mode": {
    "name": "ipython",
    "version": 3
   },
   "file_extension": ".py",
   "mimetype": "text/x-python",
   "name": "python",
   "nbconvert_exporter": "python",
   "pygments_lexer": "ipython3",
   "version": "3.8.12"
  }
 },
 "nbformat": 4,
 "nbformat_minor": 4
}
