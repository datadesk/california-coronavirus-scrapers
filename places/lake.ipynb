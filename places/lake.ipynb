{
 "cells": [
  {
   "cell_type": "markdown",
   "metadata": {},
   "source": [
    "## Configuration\n",
    "_Initial steps to get the notebook ready to play nice with our repository. Do not delete this section._"
   ]
  },
  {
   "cell_type": "markdown",
   "metadata": {},
   "source": [
    "Code formatting with [black](https://pypi.org/project/nb-black/)."
   ]
  },
  {
   "cell_type": "code",
   "execution_count": 1,
   "metadata": {
    "execution": {
     "iopub.execute_input": "2021-10-22T20:20:26.332362Z",
     "iopub.status.busy": "2021-10-22T20:20:26.331800Z",
     "iopub.status.idle": "2021-10-22T20:20:26.478964Z",
     "shell.execute_reply": "2021-10-22T20:20:26.478309Z"
    }
   },
   "outputs": [],
   "source": [
    "%load_ext lab_black"
   ]
  },
  {
   "cell_type": "code",
   "execution_count": 2,
   "metadata": {
    "execution": {
     "iopub.execute_input": "2021-10-22T20:20:26.483545Z",
     "iopub.status.busy": "2021-10-22T20:20:26.482940Z",
     "iopub.status.idle": "2021-10-22T20:20:26.487776Z",
     "shell.execute_reply": "2021-10-22T20:20:26.487282Z"
    }
   },
   "outputs": [],
   "source": [
    "import os\n",
    "import pathlib"
   ]
  },
  {
   "cell_type": "code",
   "execution_count": 3,
   "metadata": {
    "execution": {
     "iopub.execute_input": "2021-10-22T20:20:26.492857Z",
     "iopub.status.busy": "2021-10-22T20:20:26.492276Z",
     "iopub.status.idle": "2021-10-22T20:20:26.498274Z",
     "shell.execute_reply": "2021-10-22T20:20:26.497765Z"
    }
   },
   "outputs": [],
   "source": [
    "this_dir = pathlib.Path(os.path.abspath(\"\"))"
   ]
  },
  {
   "cell_type": "code",
   "execution_count": 4,
   "metadata": {
    "execution": {
     "iopub.execute_input": "2021-10-22T20:20:26.504600Z",
     "iopub.status.busy": "2021-10-22T20:20:26.503192Z",
     "iopub.status.idle": "2021-10-22T20:20:26.505401Z",
     "shell.execute_reply": "2021-10-22T20:20:26.505891Z"
    }
   },
   "outputs": [],
   "source": [
    "data_dir = this_dir / \"data\""
   ]
  },
  {
   "cell_type": "code",
   "execution_count": 5,
   "metadata": {
    "execution": {
     "iopub.execute_input": "2021-10-22T20:20:26.511746Z",
     "iopub.status.busy": "2021-10-22T20:20:26.509964Z",
     "iopub.status.idle": "2021-10-22T20:20:26.976798Z",
     "shell.execute_reply": "2021-10-22T20:20:26.976217Z"
    }
   },
   "outputs": [],
   "source": [
    "import re\n",
    "import pytz\n",
    "import glob\n",
    "import requests\n",
    "import unicodedata\n",
    "import json\n",
    "import pandas as pd\n",
    "from datetime import datetime\n",
    "from bs4 import BeautifulSoup"
   ]
  },
  {
   "cell_type": "markdown",
   "metadata": {},
   "source": [
    "### Download / retrieve the page"
   ]
  },
  {
   "cell_type": "markdown",
   "metadata": {},
   "source": [
    "Lake County's [dashboard](http://health.co.lake.ca.us/Coronavirus/COVID-19_Data.htm) uses Datawrapper to display cases by ZIP Code. To make sure we get the latest, we'll hit the chart page on Datawrapper's website, then get the iframe URL."
   ]
  },
  {
   "cell_type": "code",
   "execution_count": 6,
   "metadata": {
    "execution": {
     "iopub.execute_input": "2021-10-22T20:20:26.980286Z",
     "iopub.status.busy": "2021-10-22T20:20:26.979661Z",
     "iopub.status.idle": "2021-10-22T20:20:26.984675Z",
     "shell.execute_reply": "2021-10-22T20:20:26.984203Z"
    }
   },
   "outputs": [],
   "source": [
    "url = \"https://www.datawrapper.de/_/D1RaA/\""
   ]
  },
  {
   "cell_type": "code",
   "execution_count": 7,
   "metadata": {
    "execution": {
     "iopub.execute_input": "2021-10-22T20:20:26.989180Z",
     "iopub.status.busy": "2021-10-22T20:20:26.988550Z",
     "iopub.status.idle": "2021-10-22T20:20:27.287924Z",
     "shell.execute_reply": "2021-10-22T20:20:27.288528Z"
    }
   },
   "outputs": [],
   "source": [
    "page = requests.get(url)"
   ]
  },
  {
   "cell_type": "markdown",
   "metadata": {},
   "source": [
    "### Parse with BeautifulSoup"
   ]
  },
  {
   "cell_type": "code",
   "execution_count": 8,
   "metadata": {
    "execution": {
     "iopub.execute_input": "2021-10-22T20:20:27.296501Z",
     "iopub.status.busy": "2021-10-22T20:20:27.295931Z",
     "iopub.status.idle": "2021-10-22T20:20:27.300001Z",
     "shell.execute_reply": "2021-10-22T20:20:27.300446Z"
    }
   },
   "outputs": [],
   "source": [
    "soup = BeautifulSoup(page.content, \"html.parser\")"
   ]
  },
  {
   "cell_type": "code",
   "execution_count": 9,
   "metadata": {
    "execution": {
     "iopub.execute_input": "2021-10-22T20:20:27.305740Z",
     "iopub.status.busy": "2021-10-22T20:20:27.304603Z",
     "iopub.status.idle": "2021-10-22T20:20:27.310394Z",
     "shell.execute_reply": "2021-10-22T20:20:27.309925Z"
    }
   },
   "outputs": [],
   "source": [
    "meta = soup.find(\"meta\", {\"property\": \"og:url\"})"
   ]
  },
  {
   "cell_type": "code",
   "execution_count": 10,
   "metadata": {
    "execution": {
     "iopub.execute_input": "2021-10-22T20:20:27.315735Z",
     "iopub.status.busy": "2021-10-22T20:20:27.314557Z",
     "iopub.status.idle": "2021-10-22T20:20:27.318452Z",
     "shell.execute_reply": "2021-10-22T20:20:27.317896Z"
    }
   },
   "outputs": [],
   "source": [
    "dw_url = meta[\"content\"]"
   ]
  },
  {
   "cell_type": "markdown",
   "metadata": {},
   "source": [
    "### Parse Datawrapper"
   ]
  },
  {
   "cell_type": "code",
   "execution_count": 11,
   "metadata": {
    "execution": {
     "iopub.execute_input": "2021-10-22T20:20:27.324141Z",
     "iopub.status.busy": "2021-10-22T20:20:27.323452Z",
     "iopub.status.idle": "2021-10-22T20:20:27.327748Z",
     "shell.execute_reply": "2021-10-22T20:20:27.327200Z"
    }
   },
   "outputs": [],
   "source": [
    "dataset_url = dw_url + \"dataset.csv\""
   ]
  },
  {
   "cell_type": "code",
   "execution_count": 12,
   "metadata": {
    "execution": {
     "iopub.execute_input": "2021-10-22T20:20:27.335503Z",
     "iopub.status.busy": "2021-10-22T20:20:27.331696Z",
     "iopub.status.idle": "2021-10-22T20:20:27.526375Z",
     "shell.execute_reply": "2021-10-22T20:20:27.525701Z"
    }
   },
   "outputs": [],
   "source": [
    "dw_r = requests.get(dataset_url)"
   ]
  },
  {
   "cell_type": "code",
   "execution_count": 13,
   "metadata": {
    "execution": {
     "iopub.execute_input": "2021-10-22T20:20:27.534648Z",
     "iopub.status.busy": "2021-10-22T20:20:27.528846Z",
     "iopub.status.idle": "2021-10-22T20:20:27.538278Z",
     "shell.execute_reply": "2021-10-22T20:20:27.537775Z"
    }
   },
   "outputs": [],
   "source": [
    "string = dw_r.text"
   ]
  },
  {
   "cell_type": "code",
   "execution_count": 14,
   "metadata": {
    "execution": {
     "iopub.execute_input": "2021-10-22T20:20:27.543791Z",
     "iopub.status.busy": "2021-10-22T20:20:27.542816Z",
     "iopub.status.idle": "2021-10-22T20:20:27.547176Z",
     "shell.execute_reply": "2021-10-22T20:20:27.546691Z"
    }
   },
   "outputs": [],
   "source": [
    "parsed = string.split(\"\\r\\n\")"
   ]
  },
  {
   "cell_type": "code",
   "execution_count": 15,
   "metadata": {
    "execution": {
     "iopub.execute_input": "2021-10-22T20:20:27.554108Z",
     "iopub.status.busy": "2021-10-22T20:20:27.551192Z",
     "iopub.status.idle": "2021-10-22T20:20:27.557584Z",
     "shell.execute_reply": "2021-10-22T20:20:27.556927Z"
    }
   },
   "outputs": [],
   "source": [
    "data_list = []\n",
    "for row in parsed:\n",
    "    cell = row.split(\",\")\n",
    "    data_list.append(cell)"
   ]
  },
  {
   "cell_type": "code",
   "execution_count": 16,
   "metadata": {
    "execution": {
     "iopub.execute_input": "2021-10-22T20:20:27.570486Z",
     "iopub.status.busy": "2021-10-22T20:20:27.569991Z",
     "iopub.status.idle": "2021-10-22T20:20:27.576779Z",
     "shell.execute_reply": "2021-10-22T20:20:27.576318Z"
    }
   },
   "outputs": [
    {
     "data": {
      "text/plain": [
       "[['Supervisorial District', 'District Total', 'Zip Code', 'Zip Code Total'],\n",
       " ['District 1', '771', '95457', '261'],\n",
       " ['', '', '95467', '344'],\n",
       " ['', '', '95461', '166'],\n",
       " ['District 2', '1647', '95422', '1627'],\n",
       " ['', '', '95424', '20'],\n",
       " ['District 3', '1100', '95423', '256'],\n",
       " ['', '', '95458', '271'],\n",
       " ['', '', '95464', '261'],\n",
       " ['', '', '95485', '291'],\n",
       " ['', '', '95493', '11'],\n",
       " ['', '', '95443', '10'],\n",
       " ['District 4', '1434', '95453', '1388'],\n",
       " ['', '', '95435', '46'],\n",
       " ['District 5', '1150', '95426', '62'],\n",
       " ['', '', '95451', '1088'],\n",
       " ['Unknown or Other', '99', 'Unknown/other', '99']]"
      ]
     },
     "execution_count": 16,
     "metadata": {},
     "output_type": "execute_result"
    }
   ],
   "source": [
    "data_list"
   ]
  },
  {
   "cell_type": "code",
   "execution_count": 17,
   "metadata": {
    "execution": {
     "iopub.execute_input": "2021-10-22T20:20:27.585085Z",
     "iopub.status.busy": "2021-10-22T20:20:27.583868Z",
     "iopub.status.idle": "2021-10-22T20:20:27.585701Z",
     "shell.execute_reply": "2021-10-22T20:20:27.586111Z"
    }
   },
   "outputs": [],
   "source": [
    "df = pd.DataFrame(data_list[1:], columns=data_list[0])"
   ]
  },
  {
   "cell_type": "markdown",
   "metadata": {},
   "source": [
    "### Get timestamp"
   ]
  },
  {
   "cell_type": "code",
   "execution_count": 18,
   "metadata": {
    "execution": {
     "iopub.execute_input": "2021-10-22T20:20:27.591451Z",
     "iopub.status.busy": "2021-10-22T20:20:27.590861Z",
     "iopub.status.idle": "2021-10-22T20:20:27.595701Z",
     "shell.execute_reply": "2021-10-22T20:20:27.595210Z"
    }
   },
   "outputs": [],
   "source": [
    "title_tag = soup.find(\"meta\", {\"property\": \"og:title\"})"
   ]
  },
  {
   "cell_type": "code",
   "execution_count": 19,
   "metadata": {
    "execution": {
     "iopub.execute_input": "2021-10-22T20:20:27.599950Z",
     "iopub.status.busy": "2021-10-22T20:20:27.599364Z",
     "iopub.status.idle": "2021-10-22T20:20:27.603084Z",
     "shell.execute_reply": "2021-10-22T20:20:27.603669Z"
    }
   },
   "outputs": [],
   "source": [
    "title_str = title_tag[\"content\"]"
   ]
  },
  {
   "cell_type": "code",
   "execution_count": 20,
   "metadata": {
    "execution": {
     "iopub.execute_input": "2021-10-22T20:20:27.608784Z",
     "iopub.status.busy": "2021-10-22T20:20:27.607661Z",
     "iopub.status.idle": "2021-10-22T20:20:27.611079Z",
     "shell.execute_reply": "2021-10-22T20:20:27.611644Z"
    }
   },
   "outputs": [
    {
     "data": {
      "text/plain": [
       "'Lake County COVID-19 cases, by district and zip code, through 9/30/21 | Created with Datawrapper'"
      ]
     },
     "execution_count": 20,
     "metadata": {},
     "output_type": "execute_result"
    }
   ],
   "source": [
    "title_str"
   ]
  },
  {
   "cell_type": "code",
   "execution_count": 21,
   "metadata": {
    "execution": {
     "iopub.execute_input": "2021-10-22T20:20:27.615857Z",
     "iopub.status.busy": "2021-10-22T20:20:27.615246Z",
     "iopub.status.idle": "2021-10-22T20:20:27.619051Z",
     "shell.execute_reply": "2021-10-22T20:20:27.619523Z"
    }
   },
   "outputs": [],
   "source": [
    "date_regex = re.search(r\"(\\d+/\\d+/\\d+)\", title_str)"
   ]
  },
  {
   "cell_type": "code",
   "execution_count": 22,
   "metadata": {
    "execution": {
     "iopub.execute_input": "2021-10-22T20:20:27.625161Z",
     "iopub.status.busy": "2021-10-22T20:20:27.624545Z",
     "iopub.status.idle": "2021-10-22T20:20:27.628176Z",
     "shell.execute_reply": "2021-10-22T20:20:27.627637Z"
    }
   },
   "outputs": [],
   "source": [
    "date_str = date_regex.group(1)"
   ]
  },
  {
   "cell_type": "code",
   "execution_count": 23,
   "metadata": {
    "execution": {
     "iopub.execute_input": "2021-10-22T20:20:27.634059Z",
     "iopub.status.busy": "2021-10-22T20:20:27.633521Z",
     "iopub.status.idle": "2021-10-22T20:20:27.637005Z",
     "shell.execute_reply": "2021-10-22T20:20:27.637500Z"
    }
   },
   "outputs": [],
   "source": [
    "latest_date = pd.to_datetime(date_str).date()"
   ]
  },
  {
   "cell_type": "code",
   "execution_count": 24,
   "metadata": {
    "execution": {
     "iopub.execute_input": "2021-10-22T20:20:27.643409Z",
     "iopub.status.busy": "2021-10-22T20:20:27.642060Z",
     "iopub.status.idle": "2021-10-22T20:20:27.646092Z",
     "shell.execute_reply": "2021-10-22T20:20:27.646555Z"
    }
   },
   "outputs": [],
   "source": [
    "df[\"county_date\"] = latest_date"
   ]
  },
  {
   "cell_type": "markdown",
   "metadata": {},
   "source": [
    "### Rename and drop columns"
   ]
  },
  {
   "cell_type": "code",
   "execution_count": 25,
   "metadata": {
    "execution": {
     "iopub.execute_input": "2021-10-22T20:20:27.652527Z",
     "iopub.status.busy": "2021-10-22T20:20:27.648831Z",
     "iopub.status.idle": "2021-10-22T20:20:27.655210Z",
     "shell.execute_reply": "2021-10-22T20:20:27.654685Z"
    }
   },
   "outputs": [],
   "source": [
    "cols = {\"Zip Code\": \"area\", \"Zip Code Total\": \"confirmed_cases\"}"
   ]
  },
  {
   "cell_type": "code",
   "execution_count": 26,
   "metadata": {
    "execution": {
     "iopub.execute_input": "2021-10-22T20:20:27.658866Z",
     "iopub.status.busy": "2021-10-22T20:20:27.657459Z",
     "iopub.status.idle": "2021-10-22T20:20:27.666654Z",
     "shell.execute_reply": "2021-10-22T20:20:27.666058Z"
    }
   },
   "outputs": [],
   "source": [
    "export_df = df.rename(columns=cols)[[\"area\", \"confirmed_cases\", \"county_date\"]]"
   ]
  },
  {
   "cell_type": "code",
   "execution_count": 27,
   "metadata": {
    "execution": {
     "iopub.execute_input": "2021-10-22T20:20:27.672200Z",
     "iopub.status.busy": "2021-10-22T20:20:27.671048Z",
     "iopub.status.idle": "2021-10-22T20:20:27.675035Z",
     "shell.execute_reply": "2021-10-22T20:20:27.675535Z"
    }
   },
   "outputs": [
    {
     "data": {
      "text/plain": [
       "16"
      ]
     },
     "execution_count": 27,
     "metadata": {},
     "output_type": "execute_result"
    }
   ],
   "source": [
    "len(export_df)"
   ]
  },
  {
   "cell_type": "markdown",
   "metadata": {},
   "source": [
    "### Vet"
   ]
  },
  {
   "cell_type": "markdown",
   "metadata": {},
   "source": [
    "Lake County has 16 ZIP code areas, including \"Unknown\""
   ]
  },
  {
   "cell_type": "code",
   "execution_count": 28,
   "metadata": {
    "execution": {
     "iopub.execute_input": "2021-10-22T20:20:27.680363Z",
     "iopub.status.busy": "2021-10-22T20:20:27.679832Z",
     "iopub.status.idle": "2021-10-22T20:20:27.682573Z",
     "shell.execute_reply": "2021-10-22T20:20:27.681840Z"
    }
   },
   "outputs": [],
   "source": [
    "lake_len = 16"
   ]
  },
  {
   "cell_type": "code",
   "execution_count": 29,
   "metadata": {
    "execution": {
     "iopub.execute_input": "2021-10-22T20:20:27.690377Z",
     "iopub.status.busy": "2021-10-22T20:20:27.689025Z",
     "iopub.status.idle": "2021-10-22T20:20:27.691041Z",
     "shell.execute_reply": "2021-10-22T20:20:27.691597Z"
    }
   },
   "outputs": [],
   "source": [
    "try:\n",
    "    assert not len(export_df) > lake_len\n",
    "except AssertionError:\n",
    "    raise AssertionError(\n",
    "        \"Lake County scraper: spreadsheet has additional zip code(s) than previous\"\n",
    "    )"
   ]
  },
  {
   "cell_type": "code",
   "execution_count": 30,
   "metadata": {
    "execution": {
     "iopub.execute_input": "2021-10-22T20:20:27.696269Z",
     "iopub.status.busy": "2021-10-22T20:20:27.695730Z",
     "iopub.status.idle": "2021-10-22T20:20:27.699805Z",
     "shell.execute_reply": "2021-10-22T20:20:27.700246Z"
    }
   },
   "outputs": [],
   "source": [
    "try:\n",
    "    assert not len(export_df) < lake_len\n",
    "except AssertionError:\n",
    "    raise AssertionError(\"Lake County scraper: spreadsheet is missing row(s)\")"
   ]
  },
  {
   "cell_type": "markdown",
   "metadata": {},
   "source": [
    "### Export csv file"
   ]
  },
  {
   "cell_type": "markdown",
   "metadata": {},
   "source": [
    "Write csv file timestamped with today's date"
   ]
  },
  {
   "cell_type": "code",
   "execution_count": 31,
   "metadata": {
    "execution": {
     "iopub.execute_input": "2021-10-22T20:20:27.704737Z",
     "iopub.status.busy": "2021-10-22T20:20:27.703996Z",
     "iopub.status.idle": "2021-10-22T20:20:27.708784Z",
     "shell.execute_reply": "2021-10-22T20:20:27.709258Z"
    }
   },
   "outputs": [],
   "source": [
    "slug = \"lake\""
   ]
  },
  {
   "cell_type": "code",
   "execution_count": 32,
   "metadata": {
    "execution": {
     "iopub.execute_input": "2021-10-22T20:20:27.715427Z",
     "iopub.status.busy": "2021-10-22T20:20:27.714472Z",
     "iopub.status.idle": "2021-10-22T20:20:27.849396Z",
     "shell.execute_reply": "2021-10-22T20:20:27.847445Z"
    }
   },
   "outputs": [
    {
     "ename": "NameError",
     "evalue": "name 'today' is not defined",
     "output_type": "error",
     "traceback": [
      "\u001b[0;31m---------------------------------------------------------------------------\u001b[0m",
      "\u001b[0;31mNameError\u001b[0m                                 Traceback (most recent call last)",
      "\u001b[0;32m/tmp/ipykernel_3466/2436362009.py\u001b[0m in \u001b[0;36m<module>\u001b[0;34m\u001b[0m\n\u001b[0;32m----> 1\u001b[0;31m \u001b[0mexport_df\u001b[0m\u001b[0;34m.\u001b[0m\u001b[0mto_csv\u001b[0m\u001b[0;34m(\u001b[0m\u001b[0mdata_dir\u001b[0m \u001b[0;34m/\u001b[0m \u001b[0mslug\u001b[0m \u001b[0;34m/\u001b[0m \u001b[0;34mf\"{today}.csv\"\u001b[0m\u001b[0;34m,\u001b[0m \u001b[0mindex\u001b[0m\u001b[0;34m=\u001b[0m\u001b[0;32mFalse\u001b[0m\u001b[0;34m)\u001b[0m\u001b[0;34m\u001b[0m\u001b[0;34m\u001b[0m\u001b[0m\n\u001b[0m",
      "\u001b[0;31mNameError\u001b[0m: name 'today' is not defined"
     ]
    }
   ],
   "source": [
    "export_df.to_csv(data_dir / slug / f\"{today}.csv\", index=False)"
   ]
  },
  {
   "cell_type": "markdown",
   "metadata": {},
   "source": [
    "## Combine"
   ]
  },
  {
   "cell_type": "code",
   "execution_count": 260,
   "metadata": {},
   "outputs": [],
   "source": [
    "csv_list = [\n",
    "    i\n",
    "    for i in glob.glob(str(data_dir / slug / \"*.csv\"))\n",
    "    if not str(i).endswith(\"timeseries.csv\")\n",
    "]"
   ]
  },
  {
   "cell_type": "code",
   "execution_count": 261,
   "metadata": {},
   "outputs": [],
   "source": [
    "df_list = []\n",
    "for csv in csv_list:\n",
    "    if \"manual\" in csv:\n",
    "        df = pd.read_csv(csv, parse_dates=[\"date\"])\n",
    "    else:\n",
    "        file_date = csv.split(\"/\")[-1].replace(\".csv\", \"\")\n",
    "        df = pd.read_csv(csv, parse_dates=[\"county_date\"])\n",
    "        df[\"date\"] = file_date\n",
    "    df_list.append(df)"
   ]
  },
  {
   "cell_type": "code",
   "execution_count": 262,
   "metadata": {},
   "outputs": [],
   "source": [
    "df = pd.concat(df_list).sort_values([\"date\", \"area\"])"
   ]
  },
  {
   "cell_type": "code",
   "execution_count": 263,
   "metadata": {},
   "outputs": [],
   "source": [
    "df.to_csv(data_dir / slug / \"timeseries.csv\", index=False)"
   ]
  }
 ],
 "metadata": {
  "kernelspec": {
   "display_name": "Python 3 (ipykernel)",
   "language": "python",
   "name": "python3"
  },
  "language_info": {
   "codemirror_mode": {
    "name": "ipython",
    "version": 3
   },
   "file_extension": ".py",
   "mimetype": "text/x-python",
   "name": "python",
   "nbconvert_exporter": "python",
   "pygments_lexer": "ipython3",
   "version": "3.8.12"
  }
 },
 "nbformat": 4,
 "nbformat_minor": 4
}
