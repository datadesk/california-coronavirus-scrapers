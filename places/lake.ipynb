{
 "cells": [
  {
   "cell_type": "markdown",
   "metadata": {},
   "source": [
    "## Configuration\n",
    "_Initial steps to get the notebook ready to play nice with our repository. Do not delete this section._"
   ]
  },
  {
   "cell_type": "markdown",
   "metadata": {},
   "source": [
    "Code formatting with [black](https://pypi.org/project/nb-black/)."
   ]
  },
  {
   "cell_type": "code",
   "execution_count": 1,
   "metadata": {
    "execution": {
     "iopub.execute_input": "2021-10-22T08:20:27.376400Z",
     "iopub.status.busy": "2021-10-22T08:20:27.375801Z",
     "iopub.status.idle": "2021-10-22T08:20:27.520980Z",
     "shell.execute_reply": "2021-10-22T08:20:27.520334Z"
    }
   },
   "outputs": [],
   "source": [
    "%load_ext lab_black"
   ]
  },
  {
   "cell_type": "code",
   "execution_count": 2,
   "metadata": {
    "execution": {
     "iopub.execute_input": "2021-10-22T08:20:27.525318Z",
     "iopub.status.busy": "2021-10-22T08:20:27.524720Z",
     "iopub.status.idle": "2021-10-22T08:20:27.527754Z",
     "shell.execute_reply": "2021-10-22T08:20:27.528232Z"
    }
   },
   "outputs": [],
   "source": [
    "import os\n",
    "import pathlib"
   ]
  },
  {
   "cell_type": "code",
   "execution_count": 3,
   "metadata": {
    "execution": {
     "iopub.execute_input": "2021-10-22T08:20:27.533138Z",
     "iopub.status.busy": "2021-10-22T08:20:27.532534Z",
     "iopub.status.idle": "2021-10-22T08:20:27.537555Z",
     "shell.execute_reply": "2021-10-22T08:20:27.538023Z"
    }
   },
   "outputs": [],
   "source": [
    "this_dir = pathlib.Path(os.path.abspath(\"\"))"
   ]
  },
  {
   "cell_type": "code",
   "execution_count": 4,
   "metadata": {
    "execution": {
     "iopub.execute_input": "2021-10-22T08:20:27.542998Z",
     "iopub.status.busy": "2021-10-22T08:20:27.541810Z",
     "iopub.status.idle": "2021-10-22T08:20:27.545425Z",
     "shell.execute_reply": "2021-10-22T08:20:27.544917Z"
    }
   },
   "outputs": [],
   "source": [
    "data_dir = this_dir / \"data\""
   ]
  },
  {
   "cell_type": "code",
   "execution_count": 5,
   "metadata": {
    "execution": {
     "iopub.execute_input": "2021-10-22T08:20:27.550293Z",
     "iopub.status.busy": "2021-10-22T08:20:27.549706Z",
     "iopub.status.idle": "2021-10-22T08:20:28.007984Z",
     "shell.execute_reply": "2021-10-22T08:20:28.006373Z"
    }
   },
   "outputs": [],
   "source": [
    "import re\n",
    "import pytz\n",
    "import glob\n",
    "import requests\n",
    "import unicodedata\n",
    "import json\n",
    "import pandas as pd\n",
    "from datetime import datetime\n",
    "from bs4 import BeautifulSoup"
   ]
  },
  {
   "cell_type": "markdown",
   "metadata": {},
   "source": [
    "### Download / retrieve the page"
   ]
  },
  {
   "cell_type": "markdown",
   "metadata": {},
   "source": [
    "Lake County's [dashboard](http://health.co.lake.ca.us/Coronavirus/COVID-19_Data.htm) uses Datawrapper to display cases by ZIP Code. To make sure we get the latest, we'll hit the chart page on Datawrapper's website, then get the iframe URL."
   ]
  },
  {
   "cell_type": "code",
   "execution_count": 6,
   "metadata": {
    "execution": {
     "iopub.execute_input": "2021-10-22T08:20:28.016393Z",
     "iopub.status.busy": "2021-10-22T08:20:28.015309Z",
     "iopub.status.idle": "2021-10-22T08:20:28.019571Z",
     "shell.execute_reply": "2021-10-22T08:20:28.020298Z"
    }
   },
   "outputs": [],
   "source": [
    "url = \"https://www.datawrapper.de/_/D1RaA/\""
   ]
  },
  {
   "cell_type": "code",
   "execution_count": 7,
   "metadata": {
    "execution": {
     "iopub.execute_input": "2021-10-22T08:20:28.028500Z",
     "iopub.status.busy": "2021-10-22T08:20:28.024326Z",
     "iopub.status.idle": "2021-10-22T08:20:28.876787Z",
     "shell.execute_reply": "2021-10-22T08:20:28.877293Z"
    }
   },
   "outputs": [],
   "source": [
    "page = requests.get(url)"
   ]
  },
  {
   "cell_type": "markdown",
   "metadata": {},
   "source": [
    "### Parse with BeautifulSoup"
   ]
  },
  {
   "cell_type": "code",
   "execution_count": 8,
   "metadata": {
    "execution": {
     "iopub.execute_input": "2021-10-22T08:20:28.885600Z",
     "iopub.status.busy": "2021-10-22T08:20:28.880031Z",
     "iopub.status.idle": "2021-10-22T08:20:28.889803Z",
     "shell.execute_reply": "2021-10-22T08:20:28.888798Z"
    }
   },
   "outputs": [],
   "source": [
    "soup = BeautifulSoup(page.content, \"html.parser\")"
   ]
  },
  {
   "cell_type": "code",
   "execution_count": 9,
   "metadata": {
    "execution": {
     "iopub.execute_input": "2021-10-22T08:20:28.896292Z",
     "iopub.status.busy": "2021-10-22T08:20:28.895347Z",
     "iopub.status.idle": "2021-10-22T08:20:28.900140Z",
     "shell.execute_reply": "2021-10-22T08:20:28.899569Z"
    }
   },
   "outputs": [],
   "source": [
    "meta = soup.find(\"meta\", {\"property\": \"og:url\"})"
   ]
  },
  {
   "cell_type": "code",
   "execution_count": 10,
   "metadata": {
    "execution": {
     "iopub.execute_input": "2021-10-22T08:20:28.906342Z",
     "iopub.status.busy": "2021-10-22T08:20:28.905004Z",
     "iopub.status.idle": "2021-10-22T08:20:28.909501Z",
     "shell.execute_reply": "2021-10-22T08:20:28.910300Z"
    }
   },
   "outputs": [],
   "source": [
    "dw_url = meta[\"content\"]"
   ]
  },
  {
   "cell_type": "markdown",
   "metadata": {},
   "source": [
    "### Parse Datawrapper"
   ]
  },
  {
   "cell_type": "code",
   "execution_count": 11,
   "metadata": {
    "execution": {
     "iopub.execute_input": "2021-10-22T08:20:28.915677Z",
     "iopub.status.busy": "2021-10-22T08:20:28.914369Z",
     "iopub.status.idle": "2021-10-22T08:20:28.919441Z",
     "shell.execute_reply": "2021-10-22T08:20:28.918634Z"
    }
   },
   "outputs": [],
   "source": [
    "dataset_url = dw_url + \"dataset.csv\""
   ]
  },
  {
   "cell_type": "code",
   "execution_count": 12,
   "metadata": {
    "execution": {
     "iopub.execute_input": "2021-10-22T08:20:28.926966Z",
     "iopub.status.busy": "2021-10-22T08:20:28.926251Z",
     "iopub.status.idle": "2021-10-22T08:20:28.979136Z",
     "shell.execute_reply": "2021-10-22T08:20:28.978553Z"
    }
   },
   "outputs": [],
   "source": [
    "dw_r = requests.get(dataset_url)"
   ]
  },
  {
   "cell_type": "code",
   "execution_count": 13,
   "metadata": {
    "execution": {
     "iopub.execute_input": "2021-10-22T08:20:28.989014Z",
     "iopub.status.busy": "2021-10-22T08:20:28.988399Z",
     "iopub.status.idle": "2021-10-22T08:20:28.991427Z",
     "shell.execute_reply": "2021-10-22T08:20:28.990866Z"
    }
   },
   "outputs": [],
   "source": [
    "string = dw_r.text"
   ]
  },
  {
   "cell_type": "code",
   "execution_count": 14,
   "metadata": {
    "execution": {
     "iopub.execute_input": "2021-10-22T08:20:28.996364Z",
     "iopub.status.busy": "2021-10-22T08:20:28.995154Z",
     "iopub.status.idle": "2021-10-22T08:20:28.998386Z",
     "shell.execute_reply": "2021-10-22T08:20:28.998883Z"
    }
   },
   "outputs": [],
   "source": [
    "parsed = string.split(\"\\r\\n\")"
   ]
  },
  {
   "cell_type": "code",
   "execution_count": 15,
   "metadata": {
    "execution": {
     "iopub.execute_input": "2021-10-22T08:20:29.004489Z",
     "iopub.status.busy": "2021-10-22T08:20:29.003906Z",
     "iopub.status.idle": "2021-10-22T08:20:29.008406Z",
     "shell.execute_reply": "2021-10-22T08:20:29.008884Z"
    }
   },
   "outputs": [],
   "source": [
    "data_list = []\n",
    "for row in parsed:\n",
    "    cell = row.split(\",\")\n",
    "    data_list.append(cell)"
   ]
  },
  {
   "cell_type": "code",
   "execution_count": 16,
   "metadata": {
    "execution": {
     "iopub.execute_input": "2021-10-22T08:20:29.021834Z",
     "iopub.status.busy": "2021-10-22T08:20:29.020690Z",
     "iopub.status.idle": "2021-10-22T08:20:29.026752Z",
     "shell.execute_reply": "2021-10-22T08:20:29.026200Z"
    }
   },
   "outputs": [
    {
     "data": {
      "text/plain": [
       "[['Supervisorial District', 'District Total', 'Zip Code', 'Zip Code Total'],\n",
       " ['District 1', '771', '95457', '261'],\n",
       " ['', '', '95467', '344'],\n",
       " ['', '', '95461', '166'],\n",
       " ['District 2', '1647', '95422', '1627'],\n",
       " ['', '', '95424', '20'],\n",
       " ['District 3', '1100', '95423', '256'],\n",
       " ['', '', '95458', '271'],\n",
       " ['', '', '95464', '261'],\n",
       " ['', '', '95485', '291'],\n",
       " ['', '', '95493', '11'],\n",
       " ['', '', '95443', '10'],\n",
       " ['District 4', '1434', '95453', '1388'],\n",
       " ['', '', '95435', '46'],\n",
       " ['District 5', '1150', '95426', '62'],\n",
       " ['', '', '95451', '1088'],\n",
       " ['Unknown or Other', '99', 'Unknown/other', '99']]"
      ]
     },
     "execution_count": 16,
     "metadata": {},
     "output_type": "execute_result"
    }
   ],
   "source": [
    "data_list"
   ]
  },
  {
   "cell_type": "code",
   "execution_count": 17,
   "metadata": {
    "execution": {
     "iopub.execute_input": "2021-10-22T08:20:29.032387Z",
     "iopub.status.busy": "2021-10-22T08:20:29.031804Z",
     "iopub.status.idle": "2021-10-22T08:20:29.036144Z",
     "shell.execute_reply": "2021-10-22T08:20:29.036638Z"
    }
   },
   "outputs": [],
   "source": [
    "df = pd.DataFrame(data_list[1:], columns=data_list[0])"
   ]
  },
  {
   "cell_type": "markdown",
   "metadata": {},
   "source": [
    "### Get timestamp"
   ]
  },
  {
   "cell_type": "code",
   "execution_count": 18,
   "metadata": {
    "execution": {
     "iopub.execute_input": "2021-10-22T08:20:29.041136Z",
     "iopub.status.busy": "2021-10-22T08:20:29.040545Z",
     "iopub.status.idle": "2021-10-22T08:20:29.044925Z",
     "shell.execute_reply": "2021-10-22T08:20:29.044416Z"
    }
   },
   "outputs": [],
   "source": [
    "title_tag = soup.find(\"meta\", {\"property\": \"og:title\"})"
   ]
  },
  {
   "cell_type": "code",
   "execution_count": 19,
   "metadata": {
    "execution": {
     "iopub.execute_input": "2021-10-22T08:20:29.050587Z",
     "iopub.status.busy": "2021-10-22T08:20:29.049485Z",
     "iopub.status.idle": "2021-10-22T08:20:29.051525Z",
     "shell.execute_reply": "2021-10-22T08:20:29.052097Z"
    }
   },
   "outputs": [],
   "source": [
    "title_str = title_tag[\"content\"]"
   ]
  },
  {
   "cell_type": "code",
   "execution_count": 20,
   "metadata": {
    "execution": {
     "iopub.execute_input": "2021-10-22T08:20:29.056661Z",
     "iopub.status.busy": "2021-10-22T08:20:29.056073Z",
     "iopub.status.idle": "2021-10-22T08:20:29.060077Z",
     "shell.execute_reply": "2021-10-22T08:20:29.059535Z"
    }
   },
   "outputs": [
    {
     "data": {
      "text/plain": [
       "'Lake County COVID-19 cases, by district and zip code, through 9/30/21 | Created with Datawrapper'"
      ]
     },
     "execution_count": 20,
     "metadata": {},
     "output_type": "execute_result"
    }
   ],
   "source": [
    "title_str"
   ]
  },
  {
   "cell_type": "code",
   "execution_count": 21,
   "metadata": {
    "execution": {
     "iopub.execute_input": "2021-10-22T08:20:29.065629Z",
     "iopub.status.busy": "2021-10-22T08:20:29.064061Z",
     "iopub.status.idle": "2021-10-22T08:20:29.067954Z",
     "shell.execute_reply": "2021-10-22T08:20:29.067469Z"
    }
   },
   "outputs": [],
   "source": [
    "date_regex = re.search(r\"(\\d+/\\d+/\\d+)\", title_str)"
   ]
  },
  {
   "cell_type": "code",
   "execution_count": 22,
   "metadata": {
    "execution": {
     "iopub.execute_input": "2021-10-22T08:20:29.074131Z",
     "iopub.status.busy": "2021-10-22T08:20:29.072689Z",
     "iopub.status.idle": "2021-10-22T08:20:29.074801Z",
     "shell.execute_reply": "2021-10-22T08:20:29.075327Z"
    }
   },
   "outputs": [],
   "source": [
    "date_str = date_regex.group(1)"
   ]
  },
  {
   "cell_type": "code",
   "execution_count": 23,
   "metadata": {
    "execution": {
     "iopub.execute_input": "2021-10-22T08:20:29.081551Z",
     "iopub.status.busy": "2021-10-22T08:20:29.080463Z",
     "iopub.status.idle": "2021-10-22T08:20:29.084051Z",
     "shell.execute_reply": "2021-10-22T08:20:29.084510Z"
    }
   },
   "outputs": [],
   "source": [
    "latest_date = pd.to_datetime(date_str).date()"
   ]
  },
  {
   "cell_type": "code",
   "execution_count": 24,
   "metadata": {
    "execution": {
     "iopub.execute_input": "2021-10-22T08:20:29.091580Z",
     "iopub.status.busy": "2021-10-22T08:20:29.090164Z",
     "iopub.status.idle": "2021-10-22T08:20:29.092227Z",
     "shell.execute_reply": "2021-10-22T08:20:29.092723Z"
    }
   },
   "outputs": [],
   "source": [
    "df[\"county_date\"] = latest_date"
   ]
  },
  {
   "cell_type": "markdown",
   "metadata": {},
   "source": [
    "### Rename and drop columns"
   ]
  },
  {
   "cell_type": "code",
   "execution_count": 25,
   "metadata": {
    "execution": {
     "iopub.execute_input": "2021-10-22T08:20:29.100287Z",
     "iopub.status.busy": "2021-10-22T08:20:29.099024Z",
     "iopub.status.idle": "2021-10-22T08:20:29.101371Z",
     "shell.execute_reply": "2021-10-22T08:20:29.101852Z"
    }
   },
   "outputs": [],
   "source": [
    "cols = {\"Zip Code\": \"area\", \"Zip Code Total\": \"confirmed_cases\"}"
   ]
  },
  {
   "cell_type": "code",
   "execution_count": 26,
   "metadata": {
    "execution": {
     "iopub.execute_input": "2021-10-22T08:20:29.108213Z",
     "iopub.status.busy": "2021-10-22T08:20:29.107619Z",
     "iopub.status.idle": "2021-10-22T08:20:29.111725Z",
     "shell.execute_reply": "2021-10-22T08:20:29.112172Z"
    }
   },
   "outputs": [],
   "source": [
    "export_df = df.rename(columns=cols)[[\"area\", \"confirmed_cases\", \"county_date\"]]"
   ]
  },
  {
   "cell_type": "code",
   "execution_count": 27,
   "metadata": {
    "execution": {
     "iopub.execute_input": "2021-10-22T08:20:29.117639Z",
     "iopub.status.busy": "2021-10-22T08:20:29.116553Z",
     "iopub.status.idle": "2021-10-22T08:20:29.120118Z",
     "shell.execute_reply": "2021-10-22T08:20:29.120629Z"
    }
   },
   "outputs": [
    {
     "data": {
      "text/plain": [
       "16"
      ]
     },
     "execution_count": 27,
     "metadata": {},
     "output_type": "execute_result"
    }
   ],
   "source": [
    "len(export_df)"
   ]
  },
  {
   "cell_type": "markdown",
   "metadata": {},
   "source": [
    "### Vet"
   ]
  },
  {
   "cell_type": "markdown",
   "metadata": {},
   "source": [
    "Lake County has 16 ZIP code areas, including \"Unknown\""
   ]
  },
  {
   "cell_type": "code",
   "execution_count": 28,
   "metadata": {
    "execution": {
     "iopub.execute_input": "2021-10-22T08:20:29.129437Z",
     "iopub.status.busy": "2021-10-22T08:20:29.122778Z",
     "iopub.status.idle": "2021-10-22T08:20:29.132501Z",
     "shell.execute_reply": "2021-10-22T08:20:29.132949Z"
    }
   },
   "outputs": [],
   "source": [
    "lake_len = 16"
   ]
  },
  {
   "cell_type": "code",
   "execution_count": 29,
   "metadata": {
    "execution": {
     "iopub.execute_input": "2021-10-22T08:20:29.138800Z",
     "iopub.status.busy": "2021-10-22T08:20:29.138211Z",
     "iopub.status.idle": "2021-10-22T08:20:29.141987Z",
     "shell.execute_reply": "2021-10-22T08:20:29.142487Z"
    }
   },
   "outputs": [],
   "source": [
    "try:\n",
    "    assert not len(export_df) > lake_len\n",
    "except AssertionError:\n",
    "    raise AssertionError(\n",
    "        \"Lake County scraper: spreadsheet has additional zip code(s) than previous\"\n",
    "    )"
   ]
  },
  {
   "cell_type": "code",
   "execution_count": 30,
   "metadata": {
    "execution": {
     "iopub.execute_input": "2021-10-22T08:20:29.146878Z",
     "iopub.status.busy": "2021-10-22T08:20:29.146296Z",
     "iopub.status.idle": "2021-10-22T08:20:29.150743Z",
     "shell.execute_reply": "2021-10-22T08:20:29.151226Z"
    }
   },
   "outputs": [],
   "source": [
    "try:\n",
    "    assert not len(export_df) < lake_len\n",
    "except AssertionError:\n",
    "    raise AssertionError(\"Lake County scraper: spreadsheet is missing row(s)\")"
   ]
  },
  {
   "cell_type": "markdown",
   "metadata": {},
   "source": [
    "### Export csv file"
   ]
  },
  {
   "cell_type": "markdown",
   "metadata": {},
   "source": [
    "Write csv file timestamped with today's date"
   ]
  },
  {
   "cell_type": "code",
   "execution_count": 31,
   "metadata": {
    "execution": {
     "iopub.execute_input": "2021-10-22T08:20:29.155943Z",
     "iopub.status.busy": "2021-10-22T08:20:29.153356Z",
     "iopub.status.idle": "2021-10-22T08:20:29.158491Z",
     "shell.execute_reply": "2021-10-22T08:20:29.157878Z"
    }
   },
   "outputs": [],
   "source": [
    "slug = \"lake\""
   ]
  },
  {
   "cell_type": "code",
   "execution_count": 32,
   "metadata": {
    "execution": {
     "iopub.execute_input": "2021-10-22T08:20:29.163120Z",
     "iopub.status.busy": "2021-10-22T08:20:29.162496Z",
     "iopub.status.idle": "2021-10-22T08:20:29.290443Z",
     "shell.execute_reply": "2021-10-22T08:20:29.289818Z"
    }
   },
   "outputs": [
    {
     "ename": "NameError",
     "evalue": "name 'today' is not defined",
     "output_type": "error",
     "traceback": [
      "\u001b[0;31m---------------------------------------------------------------------------\u001b[0m",
      "\u001b[0;31mNameError\u001b[0m                                 Traceback (most recent call last)",
      "\u001b[0;32m/tmp/ipykernel_3374/2436362009.py\u001b[0m in \u001b[0;36m<module>\u001b[0;34m\u001b[0m\n\u001b[0;32m----> 1\u001b[0;31m \u001b[0mexport_df\u001b[0m\u001b[0;34m.\u001b[0m\u001b[0mto_csv\u001b[0m\u001b[0;34m(\u001b[0m\u001b[0mdata_dir\u001b[0m \u001b[0;34m/\u001b[0m \u001b[0mslug\u001b[0m \u001b[0;34m/\u001b[0m \u001b[0;34mf\"{today}.csv\"\u001b[0m\u001b[0;34m,\u001b[0m \u001b[0mindex\u001b[0m\u001b[0;34m=\u001b[0m\u001b[0;32mFalse\u001b[0m\u001b[0;34m)\u001b[0m\u001b[0;34m\u001b[0m\u001b[0;34m\u001b[0m\u001b[0m\n\u001b[0m",
      "\u001b[0;31mNameError\u001b[0m: name 'today' is not defined"
     ]
    }
   ],
   "source": [
    "export_df.to_csv(data_dir / slug / f\"{today}.csv\", index=False)"
   ]
  },
  {
   "cell_type": "markdown",
   "metadata": {},
   "source": [
    "## Combine"
   ]
  },
  {
   "cell_type": "code",
   "execution_count": 260,
   "metadata": {},
   "outputs": [],
   "source": [
    "csv_list = [\n",
    "    i\n",
    "    for i in glob.glob(str(data_dir / slug / \"*.csv\"))\n",
    "    if not str(i).endswith(\"timeseries.csv\")\n",
    "]"
   ]
  },
  {
   "cell_type": "code",
   "execution_count": 261,
   "metadata": {},
   "outputs": [],
   "source": [
    "df_list = []\n",
    "for csv in csv_list:\n",
    "    if \"manual\" in csv:\n",
    "        df = pd.read_csv(csv, parse_dates=[\"date\"])\n",
    "    else:\n",
    "        file_date = csv.split(\"/\")[-1].replace(\".csv\", \"\")\n",
    "        df = pd.read_csv(csv, parse_dates=[\"county_date\"])\n",
    "        df[\"date\"] = file_date\n",
    "    df_list.append(df)"
   ]
  },
  {
   "cell_type": "code",
   "execution_count": 262,
   "metadata": {},
   "outputs": [],
   "source": [
    "df = pd.concat(df_list).sort_values([\"date\", \"area\"])"
   ]
  },
  {
   "cell_type": "code",
   "execution_count": 263,
   "metadata": {},
   "outputs": [],
   "source": [
    "df.to_csv(data_dir / slug / \"timeseries.csv\", index=False)"
   ]
  }
 ],
 "metadata": {
  "kernelspec": {
   "display_name": "Python 3 (ipykernel)",
   "language": "python",
   "name": "python3"
  },
  "language_info": {
   "codemirror_mode": {
    "name": "ipython",
    "version": 3
   },
   "file_extension": ".py",
   "mimetype": "text/x-python",
   "name": "python",
   "nbconvert_exporter": "python",
   "pygments_lexer": "ipython3",
   "version": "3.8.12"
  }
 },
 "nbformat": 4,
 "nbformat_minor": 4
}
