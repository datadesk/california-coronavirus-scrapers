{
 "cells": [
  {
   "cell_type": "markdown",
   "metadata": {},
   "source": [
    "## Configuration\n",
    "_Initial steps to get the notebook ready to play nice with our repository. Do not delete this section._"
   ]
  },
  {
   "cell_type": "markdown",
   "metadata": {},
   "source": [
    "Code formatting with [black](https://pypi.org/project/nb-black/)."
   ]
  },
  {
   "cell_type": "code",
   "execution_count": 1,
   "metadata": {
    "execution": {
     "iopub.execute_input": "2021-10-17T12:21:15.799044Z",
     "iopub.status.busy": "2021-10-17T12:21:15.798449Z",
     "iopub.status.idle": "2021-10-17T12:21:15.953561Z",
     "shell.execute_reply": "2021-10-17T12:21:15.952788Z"
    }
   },
   "outputs": [],
   "source": [
    "%load_ext lab_black"
   ]
  },
  {
   "cell_type": "code",
   "execution_count": 2,
   "metadata": {
    "execution": {
     "iopub.execute_input": "2021-10-17T12:21:15.958683Z",
     "iopub.status.busy": "2021-10-17T12:21:15.957935Z",
     "iopub.status.idle": "2021-10-17T12:21:15.960589Z",
     "shell.execute_reply": "2021-10-17T12:21:15.960994Z"
    }
   },
   "outputs": [],
   "source": [
    "import os\n",
    "import pathlib"
   ]
  },
  {
   "cell_type": "code",
   "execution_count": 3,
   "metadata": {
    "execution": {
     "iopub.execute_input": "2021-10-17T12:21:15.966298Z",
     "iopub.status.busy": "2021-10-17T12:21:15.965733Z",
     "iopub.status.idle": "2021-10-17T12:21:15.971536Z",
     "shell.execute_reply": "2021-10-17T12:21:15.970686Z"
    }
   },
   "outputs": [],
   "source": [
    "this_dir = pathlib.Path(os.path.abspath(\"\"))"
   ]
  },
  {
   "cell_type": "code",
   "execution_count": 4,
   "metadata": {
    "execution": {
     "iopub.execute_input": "2021-10-17T12:21:15.977985Z",
     "iopub.status.busy": "2021-10-17T12:21:15.976639Z",
     "iopub.status.idle": "2021-10-17T12:21:15.981036Z",
     "shell.execute_reply": "2021-10-17T12:21:15.980534Z"
    }
   },
   "outputs": [],
   "source": [
    "data_dir = this_dir / \"data\""
   ]
  },
  {
   "cell_type": "code",
   "execution_count": 5,
   "metadata": {
    "execution": {
     "iopub.execute_input": "2021-10-17T12:21:15.985999Z",
     "iopub.status.busy": "2021-10-17T12:21:15.985358Z",
     "iopub.status.idle": "2021-10-17T12:21:16.480673Z",
     "shell.execute_reply": "2021-10-17T12:21:16.480099Z"
    }
   },
   "outputs": [],
   "source": [
    "import re\n",
    "import pytz\n",
    "import glob\n",
    "import requests\n",
    "import unicodedata\n",
    "import pandas as pd\n",
    "from datetime import datetime\n",
    "from bs4 import BeautifulSoup"
   ]
  },
  {
   "cell_type": "markdown",
   "metadata": {},
   "source": [
    "### Download / retrieve the page"
   ]
  },
  {
   "cell_type": "code",
   "execution_count": 6,
   "metadata": {
    "execution": {
     "iopub.execute_input": "2021-10-17T12:21:16.487343Z",
     "iopub.status.busy": "2021-10-17T12:21:16.486641Z",
     "iopub.status.idle": "2021-10-17T12:21:16.490104Z",
     "shell.execute_reply": "2021-10-17T12:21:16.490604Z"
    }
   },
   "outputs": [],
   "source": [
    "url = \"http://health.co.lake.ca.us/Coronavirus/COVID-19_Data.htm\""
   ]
  },
  {
   "cell_type": "code",
   "execution_count": 7,
   "metadata": {
    "execution": {
     "iopub.execute_input": "2021-10-17T12:21:16.497833Z",
     "iopub.status.busy": "2021-10-17T12:21:16.497211Z",
     "iopub.status.idle": "2021-10-17T12:21:16.690402Z",
     "shell.execute_reply": "2021-10-17T12:21:16.690915Z"
    }
   },
   "outputs": [],
   "source": [
    "page = requests.get(url)"
   ]
  },
  {
   "cell_type": "markdown",
   "metadata": {},
   "source": [
    "### Parse with BeautifulSoup"
   ]
  },
  {
   "cell_type": "code",
   "execution_count": 8,
   "metadata": {
    "execution": {
     "iopub.execute_input": "2021-10-17T12:21:16.700214Z",
     "iopub.status.busy": "2021-10-17T12:21:16.699557Z",
     "iopub.status.idle": "2021-10-17T12:21:16.738473Z",
     "shell.execute_reply": "2021-10-17T12:21:16.737886Z"
    }
   },
   "outputs": [],
   "source": [
    "soup = BeautifulSoup(page.content, \"html.parser\")"
   ]
  },
  {
   "cell_type": "markdown",
   "metadata": {},
   "source": [
    "### Get content well"
   ]
  },
  {
   "cell_type": "code",
   "execution_count": 9,
   "metadata": {
    "execution": {
     "iopub.execute_input": "2021-10-17T12:21:16.746877Z",
     "iopub.status.busy": "2021-10-17T12:21:16.745671Z",
     "iopub.status.idle": "2021-10-17T12:21:16.750027Z",
     "shell.execute_reply": "2021-10-17T12:21:16.749454Z"
    }
   },
   "outputs": [],
   "source": [
    "content = soup.find(\"div\", class_=\"content container\")"
   ]
  },
  {
   "cell_type": "markdown",
   "metadata": {},
   "source": [
    "### Extract timestamp from content"
   ]
  },
  {
   "cell_type": "markdown",
   "metadata": {},
   "source": [
    "Finding h3 after h2 demographics head"
   ]
  },
  {
   "cell_type": "code",
   "execution_count": 10,
   "metadata": {
    "execution": {
     "iopub.execute_input": "2021-10-17T12:21:16.758648Z",
     "iopub.status.busy": "2021-10-17T12:21:16.757987Z",
     "iopub.status.idle": "2021-10-17T12:21:16.763488Z",
     "shell.execute_reply": "2021-10-17T12:21:16.762862Z"
    }
   },
   "outputs": [],
   "source": [
    "prev_tag = content.find_all(\"h2\")[3]"
   ]
  },
  {
   "cell_type": "markdown",
   "metadata": {},
   "source": [
    "Find next h3"
   ]
  },
  {
   "cell_type": "code",
   "execution_count": 11,
   "metadata": {
    "execution": {
     "iopub.execute_input": "2021-10-17T12:21:16.769865Z",
     "iopub.status.busy": "2021-10-17T12:21:16.769217Z",
     "iopub.status.idle": "2021-10-17T12:21:16.776032Z",
     "shell.execute_reply": "2021-10-17T12:21:16.775347Z"
    }
   },
   "outputs": [],
   "source": [
    "next_tag = prev_tag.find_next(\"p\").text"
   ]
  },
  {
   "cell_type": "code",
   "execution_count": 12,
   "metadata": {
    "execution": {
     "iopub.execute_input": "2021-10-17T12:21:16.782427Z",
     "iopub.status.busy": "2021-10-17T12:21:16.781773Z",
     "iopub.status.idle": "2021-10-17T12:21:16.786964Z",
     "shell.execute_reply": "2021-10-17T12:21:16.786378Z"
    }
   },
   "outputs": [],
   "source": [
    "date = next_tag.replace(\"Last Update: \", \"\").split(\",\")[0]"
   ]
  },
  {
   "cell_type": "markdown",
   "metadata": {},
   "source": [
    "### Convert timestamp to python date obj"
   ]
  },
  {
   "cell_type": "code",
   "execution_count": 13,
   "metadata": {
    "execution": {
     "iopub.execute_input": "2021-10-17T12:21:16.793487Z",
     "iopub.status.busy": "2021-10-17T12:21:16.792782Z",
     "iopub.status.idle": "2021-10-17T12:21:16.819431Z",
     "shell.execute_reply": "2021-10-17T12:21:16.818725Z"
    }
   },
   "outputs": [],
   "source": [
    "tz = pytz.timezone(\"America/Los_Angeles\")"
   ]
  },
  {
   "cell_type": "code",
   "execution_count": 14,
   "metadata": {
    "execution": {
     "iopub.execute_input": "2021-10-17T12:21:16.824554Z",
     "iopub.status.busy": "2021-10-17T12:21:16.823929Z",
     "iopub.status.idle": "2021-10-17T12:21:16.830183Z",
     "shell.execute_reply": "2021-10-17T12:21:16.829589Z"
    }
   },
   "outputs": [],
   "source": [
    "today = datetime.now(tz).date()"
   ]
  },
  {
   "cell_type": "code",
   "execution_count": 15,
   "metadata": {
    "execution": {
     "iopub.execute_input": "2021-10-17T12:21:16.838500Z",
     "iopub.status.busy": "2021-10-17T12:21:16.835011Z",
     "iopub.status.idle": "2021-10-17T12:21:16.842137Z",
     "shell.execute_reply": "2021-10-17T12:21:16.841608Z"
    }
   },
   "outputs": [],
   "source": [
    "date = date + \", \" + str(today.year)"
   ]
  },
  {
   "cell_type": "code",
   "execution_count": 16,
   "metadata": {
    "execution": {
     "iopub.execute_input": "2021-10-17T12:21:16.851029Z",
     "iopub.status.busy": "2021-10-17T12:21:16.850398Z",
     "iopub.status.idle": "2021-10-17T12:21:16.852840Z",
     "shell.execute_reply": "2021-10-17T12:21:16.852274Z"
    }
   },
   "outputs": [],
   "source": [
    "latest_date = pd.to_datetime(date).date()"
   ]
  },
  {
   "cell_type": "markdown",
   "metadata": {},
   "source": [
    "### Get table"
   ]
  },
  {
   "cell_type": "code",
   "execution_count": 17,
   "metadata": {
    "execution": {
     "iopub.execute_input": "2021-10-17T12:21:16.859727Z",
     "iopub.status.busy": "2021-10-17T12:21:16.859022Z",
     "iopub.status.idle": "2021-10-17T12:21:16.999274Z",
     "shell.execute_reply": "2021-10-17T12:21:16.998629Z"
    }
   },
   "outputs": [
    {
     "ename": "IndexError",
     "evalue": "list index out of range",
     "output_type": "error",
     "traceback": [
      "\u001b[0;31m---------------------------------------------------------------------------\u001b[0m",
      "\u001b[0;31mIndexError\u001b[0m                                Traceback (most recent call last)",
      "\u001b[0;32m/tmp/ipykernel_3190/193282191.py\u001b[0m in \u001b[0;36m<module>\u001b[0;34m\u001b[0m\n\u001b[0;32m----> 1\u001b[0;31m \u001b[0mtable\u001b[0m \u001b[0;34m=\u001b[0m \u001b[0mcontent\u001b[0m\u001b[0;34m.\u001b[0m\u001b[0mfind_all\u001b[0m\u001b[0;34m(\u001b[0m\u001b[0mtext\u001b[0m\u001b[0;34m=\u001b[0m\u001b[0mre\u001b[0m\u001b[0;34m.\u001b[0m\u001b[0mcompile\u001b[0m\u001b[0;34m(\u001b[0m\u001b[0;34m\"Zip Code\"\u001b[0m\u001b[0;34m)\u001b[0m\u001b[0;34m)\u001b[0m\u001b[0;34m[\u001b[0m\u001b[0;36m0\u001b[0m\u001b[0;34m]\u001b[0m\u001b[0;34m.\u001b[0m\u001b[0mfindParent\u001b[0m\u001b[0;34m(\u001b[0m\u001b[0;34m\"table\"\u001b[0m\u001b[0;34m)\u001b[0m\u001b[0;34m\u001b[0m\u001b[0;34m\u001b[0m\u001b[0m\n\u001b[0m",
      "\u001b[0;31mIndexError\u001b[0m: list index out of range"
     ]
    }
   ],
   "source": [
    "table = content.find_all(text=re.compile(\"Zip Code\"))[0].findParent(\"table\")"
   ]
  },
  {
   "cell_type": "code",
   "execution_count": 78,
   "metadata": {},
   "outputs": [],
   "source": [
    "tbody = table.tbody"
   ]
  },
  {
   "cell_type": "code",
   "execution_count": 79,
   "metadata": {},
   "outputs": [],
   "source": [
    "row_list = tbody.find_all(\"tr\")"
   ]
  },
  {
   "cell_type": "code",
   "execution_count": 80,
   "metadata": {},
   "outputs": [],
   "source": [
    "def safetxt(element):\n",
    "    v = element.text.strip()\n",
    "    v = v.replace(\"\\u200b\", \"\")\n",
    "    return v"
   ]
  },
  {
   "cell_type": "code",
   "execution_count": 81,
   "metadata": {},
   "outputs": [],
   "source": [
    "def safenumber(element):\n",
    "    v = safetxt(element)\n",
    "    v = v.replace(\",\", \"\")\n",
    "    v = v.replace(\" \", \"\")\n",
    "    return v"
   ]
  },
  {
   "cell_type": "code",
   "execution_count": 82,
   "metadata": {},
   "outputs": [],
   "source": [
    "dict_list = []\n",
    "for row in row_list:\n",
    "    zip_codes = row.find_all(\"td\")[-2].text\n",
    "    totals = row.find_all(\"td\")[-1]\n",
    "    # col_one = cell_list.select(\"td\")[1].select(\"td\")[0]\n",
    "    # zip_codes = cell_list.find_all(\"td\", text=re.compile(\"^\\d{5}(?:[-\\s]\\d{4})?$\"))\n",
    "    d = dict(\n",
    "        county=\"Lake\",\n",
    "        area=zip_codes,\n",
    "        confirmed_cases=safetxt(totals),\n",
    "    )\n",
    "    dict_list.append(d)"
   ]
  },
  {
   "cell_type": "code",
   "execution_count": 83,
   "metadata": {},
   "outputs": [],
   "source": [
    "df = pd.DataFrame(dict_list)"
   ]
  },
  {
   "cell_type": "code",
   "execution_count": 84,
   "metadata": {},
   "outputs": [],
   "source": [
    "df.drop(df[df[\"area\"] == \"Zip Code\"].index, inplace=True)"
   ]
  },
  {
   "cell_type": "code",
   "execution_count": 85,
   "metadata": {},
   "outputs": [],
   "source": [
    "df[\"county_date\"] = latest_date"
   ]
  },
  {
   "cell_type": "markdown",
   "metadata": {},
   "source": [
    "### Vet"
   ]
  },
  {
   "cell_type": "markdown",
   "metadata": {},
   "source": [
    "Lake County has 16 ZIP code areas, including \"Unknown\""
   ]
  },
  {
   "cell_type": "code",
   "execution_count": 86,
   "metadata": {},
   "outputs": [],
   "source": [
    "default_lake_len = 16"
   ]
  },
  {
   "cell_type": "markdown",
   "metadata": {},
   "source": [
    "Replacing with two assertion tests"
   ]
  },
  {
   "cell_type": "code",
   "execution_count": 87,
   "metadata": {},
   "outputs": [],
   "source": [
    "try:\n",
    "    assert not len(df) > default_lake_len\n",
    "except AssertionError:\n",
    "    raise AssertionError(\n",
    "        \"Lake County scraper: spreadsheet has additional zip code(s) than previous\"\n",
    "    )"
   ]
  },
  {
   "cell_type": "code",
   "execution_count": 88,
   "metadata": {},
   "outputs": [],
   "source": [
    "try:\n",
    "    assert not len(df) < default_lake_len\n",
    "except AssertionError:\n",
    "    raise AssertionError(\"Lake County scraper: spreadsheet is missing row(s)\")"
   ]
  },
  {
   "cell_type": "markdown",
   "metadata": {},
   "source": [
    "### Export csv file"
   ]
  },
  {
   "cell_type": "markdown",
   "metadata": {},
   "source": [
    "Write csv file timestamped with today's date"
   ]
  },
  {
   "cell_type": "code",
   "execution_count": 89,
   "metadata": {},
   "outputs": [],
   "source": [
    "slug = \"lake\""
   ]
  },
  {
   "cell_type": "code",
   "execution_count": 90,
   "metadata": {},
   "outputs": [],
   "source": [
    "df.to_csv(data_dir / slug / f\"{today}.csv\", index=False)"
   ]
  },
  {
   "cell_type": "markdown",
   "metadata": {},
   "source": [
    "## Combine"
   ]
  },
  {
   "cell_type": "code",
   "execution_count": 91,
   "metadata": {},
   "outputs": [],
   "source": [
    "csv_list = [\n",
    "    i\n",
    "    for i in glob.glob(str(data_dir / slug / \"*.csv\"))\n",
    "    if not str(i).endswith(\"timeseries.csv\")\n",
    "]"
   ]
  },
  {
   "cell_type": "code",
   "execution_count": 92,
   "metadata": {},
   "outputs": [],
   "source": [
    "df_list = []\n",
    "for csv in csv_list:\n",
    "    if \"manual\" in csv:\n",
    "        df = pd.read_csv(csv, parse_dates=[\"date\"])\n",
    "    else:\n",
    "        file_date = csv.split(\"/\")[-1].replace(\".csv\", \"\")\n",
    "        df = pd.read_csv(csv, parse_dates=[\"county_date\"])\n",
    "        df[\"date\"] = file_date\n",
    "    df_list.append(df)"
   ]
  },
  {
   "cell_type": "code",
   "execution_count": 93,
   "metadata": {},
   "outputs": [],
   "source": [
    "df = pd.concat(df_list).sort_values([\"date\", \"area\"])"
   ]
  },
  {
   "cell_type": "code",
   "execution_count": 94,
   "metadata": {},
   "outputs": [],
   "source": [
    "df.to_csv(data_dir / slug / \"timeseries.csv\", index=False)"
   ]
  }
 ],
 "metadata": {
  "kernelspec": {
   "display_name": "Python 3 (ipykernel)",
   "language": "python",
   "name": "python3"
  },
  "language_info": {
   "codemirror_mode": {
    "name": "ipython",
    "version": 3
   },
   "file_extension": ".py",
   "mimetype": "text/x-python",
   "name": "python",
   "nbconvert_exporter": "python",
   "pygments_lexer": "ipython3",
   "version": "3.8.12"
  }
 },
 "nbformat": 4,
 "nbformat_minor": 4
}
