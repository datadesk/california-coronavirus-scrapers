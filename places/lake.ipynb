{
 "cells": [
  {
   "cell_type": "markdown",
   "metadata": {},
   "source": [
    "## Configuration\n",
    "_Initial steps to get the notebook ready to play nice with our repository. Do not delete this section._"
   ]
  },
  {
   "cell_type": "markdown",
   "metadata": {},
   "source": [
    "Code formatting with [black](https://pypi.org/project/nb-black/)."
   ]
  },
  {
   "cell_type": "code",
   "execution_count": 1,
   "metadata": {
    "execution": {
     "iopub.execute_input": "2021-10-21T16:22:18.608985Z",
     "iopub.status.busy": "2021-10-21T16:22:18.608081Z",
     "iopub.status.idle": "2021-10-21T16:22:18.734250Z",
     "shell.execute_reply": "2021-10-21T16:22:18.733285Z"
    }
   },
   "outputs": [],
   "source": [
    "%load_ext lab_black"
   ]
  },
  {
   "cell_type": "code",
   "execution_count": 2,
   "metadata": {
    "execution": {
     "iopub.execute_input": "2021-10-21T16:22:18.739202Z",
     "iopub.status.busy": "2021-10-21T16:22:18.738686Z",
     "iopub.status.idle": "2021-10-21T16:22:18.742526Z",
     "shell.execute_reply": "2021-10-21T16:22:18.742082Z"
    }
   },
   "outputs": [],
   "source": [
    "import os\n",
    "import pathlib"
   ]
  },
  {
   "cell_type": "code",
   "execution_count": 3,
   "metadata": {
    "execution": {
     "iopub.execute_input": "2021-10-21T16:22:18.748318Z",
     "iopub.status.busy": "2021-10-21T16:22:18.747050Z",
     "iopub.status.idle": "2021-10-21T16:22:18.751054Z",
     "shell.execute_reply": "2021-10-21T16:22:18.750631Z"
    }
   },
   "outputs": [],
   "source": [
    "this_dir = pathlib.Path(os.path.abspath(\"\"))"
   ]
  },
  {
   "cell_type": "code",
   "execution_count": 4,
   "metadata": {
    "execution": {
     "iopub.execute_input": "2021-10-21T16:22:18.755466Z",
     "iopub.status.busy": "2021-10-21T16:22:18.754615Z",
     "iopub.status.idle": "2021-10-21T16:22:18.758345Z",
     "shell.execute_reply": "2021-10-21T16:22:18.757964Z"
    }
   },
   "outputs": [],
   "source": [
    "data_dir = this_dir / \"data\""
   ]
  },
  {
   "cell_type": "code",
   "execution_count": 5,
   "metadata": {
    "execution": {
     "iopub.execute_input": "2021-10-21T16:22:18.761448Z",
     "iopub.status.busy": "2021-10-21T16:22:18.759999Z",
     "iopub.status.idle": "2021-10-21T16:22:19.159299Z",
     "shell.execute_reply": "2021-10-21T16:22:19.158290Z"
    }
   },
   "outputs": [],
   "source": [
    "import re\n",
    "import pytz\n",
    "import glob\n",
    "import requests\n",
    "import unicodedata\n",
    "import json\n",
    "import pandas as pd\n",
    "from datetime import datetime\n",
    "from bs4 import BeautifulSoup"
   ]
  },
  {
   "cell_type": "markdown",
   "metadata": {},
   "source": [
    "### Download / retrieve the page"
   ]
  },
  {
   "cell_type": "markdown",
   "metadata": {},
   "source": [
    "Lake County's [dashboard](http://health.co.lake.ca.us/Coronavirus/COVID-19_Data.htm) uses Datawrapper to display cases by ZIP Code. To make sure we get the latest, we'll hit the chart page on Datawrapper's website, then get the iframe URL."
   ]
  },
  {
   "cell_type": "code",
   "execution_count": 6,
   "metadata": {
    "execution": {
     "iopub.execute_input": "2021-10-21T16:22:19.164382Z",
     "iopub.status.busy": "2021-10-21T16:22:19.163948Z",
     "iopub.status.idle": "2021-10-21T16:22:19.167650Z",
     "shell.execute_reply": "2021-10-21T16:22:19.167188Z"
    }
   },
   "outputs": [],
   "source": [
    "url = \"https://www.datawrapper.de/_/D1RaA/\""
   ]
  },
  {
   "cell_type": "code",
   "execution_count": 7,
   "metadata": {
    "execution": {
     "iopub.execute_input": "2021-10-21T16:22:19.173759Z",
     "iopub.status.busy": "2021-10-21T16:22:19.170503Z",
     "iopub.status.idle": "2021-10-21T16:22:19.676167Z",
     "shell.execute_reply": "2021-10-21T16:22:19.676687Z"
    }
   },
   "outputs": [],
   "source": [
    "page = requests.get(url)"
   ]
  },
  {
   "cell_type": "markdown",
   "metadata": {},
   "source": [
    "### Parse with BeautifulSoup"
   ]
  },
  {
   "cell_type": "code",
   "execution_count": 8,
   "metadata": {
    "execution": {
     "iopub.execute_input": "2021-10-21T16:22:19.684459Z",
     "iopub.status.busy": "2021-10-21T16:22:19.683364Z",
     "iopub.status.idle": "2021-10-21T16:22:19.687782Z",
     "shell.execute_reply": "2021-10-21T16:22:19.687340Z"
    }
   },
   "outputs": [],
   "source": [
    "soup = BeautifulSoup(page.content, \"html.parser\")"
   ]
  },
  {
   "cell_type": "code",
   "execution_count": 9,
   "metadata": {
    "execution": {
     "iopub.execute_input": "2021-10-21T16:22:19.693345Z",
     "iopub.status.busy": "2021-10-21T16:22:19.692425Z",
     "iopub.status.idle": "2021-10-21T16:22:19.696565Z",
     "shell.execute_reply": "2021-10-21T16:22:19.696086Z"
    }
   },
   "outputs": [],
   "source": [
    "meta = soup.find(\"meta\", {\"property\": \"og:url\"})"
   ]
  },
  {
   "cell_type": "code",
   "execution_count": 10,
   "metadata": {
    "execution": {
     "iopub.execute_input": "2021-10-21T16:22:19.701125Z",
     "iopub.status.busy": "2021-10-21T16:22:19.700634Z",
     "iopub.status.idle": "2021-10-21T16:22:19.703671Z",
     "shell.execute_reply": "2021-10-21T16:22:19.702860Z"
    }
   },
   "outputs": [],
   "source": [
    "dw_url = meta[\"content\"]"
   ]
  },
  {
   "cell_type": "markdown",
   "metadata": {},
   "source": [
    "### Parse Datawrapper"
   ]
  },
  {
   "cell_type": "code",
   "execution_count": 11,
   "metadata": {
    "execution": {
     "iopub.execute_input": "2021-10-21T16:22:19.708436Z",
     "iopub.status.busy": "2021-10-21T16:22:19.707605Z",
     "iopub.status.idle": "2021-10-21T16:22:19.711103Z",
     "shell.execute_reply": "2021-10-21T16:22:19.710702Z"
    }
   },
   "outputs": [],
   "source": [
    "dataset_url = dw_url + \"dataset.csv\""
   ]
  },
  {
   "cell_type": "code",
   "execution_count": 12,
   "metadata": {
    "execution": {
     "iopub.execute_input": "2021-10-21T16:22:19.717297Z",
     "iopub.status.busy": "2021-10-21T16:22:19.716768Z",
     "iopub.status.idle": "2021-10-21T16:22:19.782247Z",
     "shell.execute_reply": "2021-10-21T16:22:19.781471Z"
    }
   },
   "outputs": [],
   "source": [
    "dw_r = requests.get(dataset_url)"
   ]
  },
  {
   "cell_type": "code",
   "execution_count": 13,
   "metadata": {
    "execution": {
     "iopub.execute_input": "2021-10-21T16:22:19.790975Z",
     "iopub.status.busy": "2021-10-21T16:22:19.790569Z",
     "iopub.status.idle": "2021-10-21T16:22:19.794313Z",
     "shell.execute_reply": "2021-10-21T16:22:19.793567Z"
    }
   },
   "outputs": [],
   "source": [
    "string = dw_r.text"
   ]
  },
  {
   "cell_type": "code",
   "execution_count": 14,
   "metadata": {
    "execution": {
     "iopub.execute_input": "2021-10-21T16:22:19.799161Z",
     "iopub.status.busy": "2021-10-21T16:22:19.798639Z",
     "iopub.status.idle": "2021-10-21T16:22:19.802797Z",
     "shell.execute_reply": "2021-10-21T16:22:19.802083Z"
    }
   },
   "outputs": [],
   "source": [
    "parsed = string.split(\"\\r\\n\")"
   ]
  },
  {
   "cell_type": "code",
   "execution_count": 15,
   "metadata": {
    "execution": {
     "iopub.execute_input": "2021-10-21T16:22:19.809303Z",
     "iopub.status.busy": "2021-10-21T16:22:19.807010Z",
     "iopub.status.idle": "2021-10-21T16:22:19.811639Z",
     "shell.execute_reply": "2021-10-21T16:22:19.812324Z"
    }
   },
   "outputs": [],
   "source": [
    "data_list = []\n",
    "for row in parsed:\n",
    "    cell = row.split(\",\")\n",
    "    data_list.append(cell)"
   ]
  },
  {
   "cell_type": "code",
   "execution_count": 16,
   "metadata": {
    "execution": {
     "iopub.execute_input": "2021-10-21T16:22:19.822731Z",
     "iopub.status.busy": "2021-10-21T16:22:19.819679Z",
     "iopub.status.idle": "2021-10-21T16:22:19.828159Z",
     "shell.execute_reply": "2021-10-21T16:22:19.827700Z"
    }
   },
   "outputs": [
    {
     "data": {
      "text/plain": [
       "[['Supervisorial District', 'District Total', 'Zip Code', 'Zip Code Total'],\n",
       " ['District 1', '771', '95457', '261'],\n",
       " ['', '', '95467', '344'],\n",
       " ['', '', '95461', '166'],\n",
       " ['District 2', '1647', '95422', '1627'],\n",
       " ['', '', '95424', '20'],\n",
       " ['District 3', '1100', '95423', '256'],\n",
       " ['', '', '95458', '271'],\n",
       " ['', '', '95464', '261'],\n",
       " ['', '', '95485', '291'],\n",
       " ['', '', '95493', '11'],\n",
       " ['', '', '95443', '10'],\n",
       " ['District 4', '1434', '95453', '1388'],\n",
       " ['', '', '95435', '46'],\n",
       " ['District 5', '1150', '95426', '62'],\n",
       " ['', '', '95451', '1088'],\n",
       " ['Unknown or Other', '99', 'Unknown/other', '99']]"
      ]
     },
     "execution_count": 16,
     "metadata": {},
     "output_type": "execute_result"
    }
   ],
   "source": [
    "data_list"
   ]
  },
  {
   "cell_type": "code",
   "execution_count": 17,
   "metadata": {
    "execution": {
     "iopub.execute_input": "2021-10-21T16:22:19.835303Z",
     "iopub.status.busy": "2021-10-21T16:22:19.834787Z",
     "iopub.status.idle": "2021-10-21T16:22:19.838764Z",
     "shell.execute_reply": "2021-10-21T16:22:19.838306Z"
    }
   },
   "outputs": [],
   "source": [
    "df = pd.DataFrame(data_list[1:], columns=data_list[0])"
   ]
  },
  {
   "cell_type": "markdown",
   "metadata": {},
   "source": [
    "### Get timestamp"
   ]
  },
  {
   "cell_type": "code",
   "execution_count": 18,
   "metadata": {
    "execution": {
     "iopub.execute_input": "2021-10-21T16:22:19.844229Z",
     "iopub.status.busy": "2021-10-21T16:22:19.843712Z",
     "iopub.status.idle": "2021-10-21T16:22:19.847444Z",
     "shell.execute_reply": "2021-10-21T16:22:19.847071Z"
    }
   },
   "outputs": [],
   "source": [
    "title_tag = soup.find(\"meta\", {\"property\": \"og:title\"})"
   ]
  },
  {
   "cell_type": "code",
   "execution_count": 19,
   "metadata": {
    "execution": {
     "iopub.execute_input": "2021-10-21T16:22:19.851340Z",
     "iopub.status.busy": "2021-10-21T16:22:19.850482Z",
     "iopub.status.idle": "2021-10-21T16:22:19.855167Z",
     "shell.execute_reply": "2021-10-21T16:22:19.854717Z"
    }
   },
   "outputs": [],
   "source": [
    "title_str = title_tag[\"content\"]"
   ]
  },
  {
   "cell_type": "code",
   "execution_count": 20,
   "metadata": {
    "execution": {
     "iopub.execute_input": "2021-10-21T16:22:19.858895Z",
     "iopub.status.busy": "2021-10-21T16:22:19.858371Z",
     "iopub.status.idle": "2021-10-21T16:22:19.863953Z",
     "shell.execute_reply": "2021-10-21T16:22:19.863528Z"
    }
   },
   "outputs": [
    {
     "data": {
      "text/plain": [
       "'Lake County COVID-19 cases, by district and zip code, through 9/30/21 | Created with Datawrapper'"
      ]
     },
     "execution_count": 20,
     "metadata": {},
     "output_type": "execute_result"
    }
   ],
   "source": [
    "title_str"
   ]
  },
  {
   "cell_type": "code",
   "execution_count": 21,
   "metadata": {
    "execution": {
     "iopub.execute_input": "2021-10-21T16:22:19.869424Z",
     "iopub.status.busy": "2021-10-21T16:22:19.868907Z",
     "iopub.status.idle": "2021-10-21T16:22:19.872879Z",
     "shell.execute_reply": "2021-10-21T16:22:19.872433Z"
    }
   },
   "outputs": [],
   "source": [
    "date_regex = re.search(r\"(\\d+/\\d+/\\d+)\", title_str)"
   ]
  },
  {
   "cell_type": "code",
   "execution_count": 22,
   "metadata": {
    "execution": {
     "iopub.execute_input": "2021-10-21T16:22:19.877498Z",
     "iopub.status.busy": "2021-10-21T16:22:19.874893Z",
     "iopub.status.idle": "2021-10-21T16:22:19.881108Z",
     "shell.execute_reply": "2021-10-21T16:22:19.880640Z"
    }
   },
   "outputs": [],
   "source": [
    "date_str = date_regex.group(1)"
   ]
  },
  {
   "cell_type": "code",
   "execution_count": 23,
   "metadata": {
    "execution": {
     "iopub.execute_input": "2021-10-21T16:22:19.887187Z",
     "iopub.status.busy": "2021-10-21T16:22:19.886769Z",
     "iopub.status.idle": "2021-10-21T16:22:19.889685Z",
     "shell.execute_reply": "2021-10-21T16:22:19.890093Z"
    }
   },
   "outputs": [],
   "source": [
    "latest_date = pd.to_datetime(date_str).date()"
   ]
  },
  {
   "cell_type": "code",
   "execution_count": 24,
   "metadata": {
    "execution": {
     "iopub.execute_input": "2021-10-21T16:22:19.894975Z",
     "iopub.status.busy": "2021-10-21T16:22:19.893543Z",
     "iopub.status.idle": "2021-10-21T16:22:19.898046Z",
     "shell.execute_reply": "2021-10-21T16:22:19.897645Z"
    }
   },
   "outputs": [],
   "source": [
    "df[\"county_date\"] = latest_date"
   ]
  },
  {
   "cell_type": "markdown",
   "metadata": {},
   "source": [
    "### Rename and drop columns"
   ]
  },
  {
   "cell_type": "code",
   "execution_count": 25,
   "metadata": {
    "execution": {
     "iopub.execute_input": "2021-10-21T16:22:19.904485Z",
     "iopub.status.busy": "2021-10-21T16:22:19.903127Z",
     "iopub.status.idle": "2021-10-21T16:22:19.907463Z",
     "shell.execute_reply": "2021-10-21T16:22:19.907870Z"
    }
   },
   "outputs": [],
   "source": [
    "cols = {\"Zip Code\": \"area\", \"Zip Code Total\": \"confirmed_cases\"}"
   ]
  },
  {
   "cell_type": "code",
   "execution_count": 26,
   "metadata": {
    "execution": {
     "iopub.execute_input": "2021-10-21T16:22:19.911464Z",
     "iopub.status.busy": "2021-10-21T16:22:19.911044Z",
     "iopub.status.idle": "2021-10-21T16:22:19.917508Z",
     "shell.execute_reply": "2021-10-21T16:22:19.917953Z"
    }
   },
   "outputs": [],
   "source": [
    "export_df = df.rename(columns=cols)[[\"area\", \"confirmed_cases\", \"county_date\"]]"
   ]
  },
  {
   "cell_type": "code",
   "execution_count": 27,
   "metadata": {
    "execution": {
     "iopub.execute_input": "2021-10-21T16:22:19.922084Z",
     "iopub.status.busy": "2021-10-21T16:22:19.921477Z",
     "iopub.status.idle": "2021-10-21T16:22:19.927499Z",
     "shell.execute_reply": "2021-10-21T16:22:19.927920Z"
    }
   },
   "outputs": [
    {
     "data": {
      "text/plain": [
       "16"
      ]
     },
     "execution_count": 27,
     "metadata": {},
     "output_type": "execute_result"
    }
   ],
   "source": [
    "len(export_df)"
   ]
  },
  {
   "cell_type": "markdown",
   "metadata": {},
   "source": [
    "### Vet"
   ]
  },
  {
   "cell_type": "markdown",
   "metadata": {},
   "source": [
    "Lake County has 16 ZIP code areas, including \"Unknown\""
   ]
  },
  {
   "cell_type": "code",
   "execution_count": 28,
   "metadata": {
    "execution": {
     "iopub.execute_input": "2021-10-21T16:22:19.932632Z",
     "iopub.status.busy": "2021-10-21T16:22:19.931231Z",
     "iopub.status.idle": "2021-10-21T16:22:19.934976Z",
     "shell.execute_reply": "2021-10-21T16:22:19.935378Z"
    }
   },
   "outputs": [],
   "source": [
    "lake_len = 16"
   ]
  },
  {
   "cell_type": "code",
   "execution_count": 29,
   "metadata": {
    "execution": {
     "iopub.execute_input": "2021-10-21T16:22:19.941262Z",
     "iopub.status.busy": "2021-10-21T16:22:19.939530Z",
     "iopub.status.idle": "2021-10-21T16:22:19.944066Z",
     "shell.execute_reply": "2021-10-21T16:22:19.943420Z"
    }
   },
   "outputs": [],
   "source": [
    "try:\n",
    "    assert not len(export_df) > lake_len\n",
    "except AssertionError:\n",
    "    raise AssertionError(\n",
    "        \"Lake County scraper: spreadsheet has additional zip code(s) than previous\"\n",
    "    )"
   ]
  },
  {
   "cell_type": "code",
   "execution_count": 30,
   "metadata": {
    "execution": {
     "iopub.execute_input": "2021-10-21T16:22:19.949874Z",
     "iopub.status.busy": "2021-10-21T16:22:19.948907Z",
     "iopub.status.idle": "2021-10-21T16:22:19.952943Z",
     "shell.execute_reply": "2021-10-21T16:22:19.952521Z"
    }
   },
   "outputs": [],
   "source": [
    "try:\n",
    "    assert not len(export_df) < lake_len\n",
    "except AssertionError:\n",
    "    raise AssertionError(\"Lake County scraper: spreadsheet is missing row(s)\")"
   ]
  },
  {
   "cell_type": "markdown",
   "metadata": {},
   "source": [
    "### Export csv file"
   ]
  },
  {
   "cell_type": "markdown",
   "metadata": {},
   "source": [
    "Write csv file timestamped with today's date"
   ]
  },
  {
   "cell_type": "code",
   "execution_count": 31,
   "metadata": {
    "execution": {
     "iopub.execute_input": "2021-10-21T16:22:19.956899Z",
     "iopub.status.busy": "2021-10-21T16:22:19.954695Z",
     "iopub.status.idle": "2021-10-21T16:22:19.960546Z",
     "shell.execute_reply": "2021-10-21T16:22:19.959863Z"
    }
   },
   "outputs": [],
   "source": [
    "slug = \"lake\""
   ]
  },
  {
   "cell_type": "code",
   "execution_count": 32,
   "metadata": {
    "execution": {
     "iopub.execute_input": "2021-10-21T16:22:19.964489Z",
     "iopub.status.busy": "2021-10-21T16:22:19.962644Z",
     "iopub.status.idle": "2021-10-21T16:22:20.085683Z",
     "shell.execute_reply": "2021-10-21T16:22:20.083843Z"
    }
   },
   "outputs": [
    {
     "ename": "NameError",
     "evalue": "name 'today' is not defined",
     "output_type": "error",
     "traceback": [
      "\u001b[0;31m---------------------------------------------------------------------------\u001b[0m",
      "\u001b[0;31mNameError\u001b[0m                                 Traceback (most recent call last)",
      "\u001b[0;32m/tmp/ipykernel_3388/2436362009.py\u001b[0m in \u001b[0;36m<module>\u001b[0;34m\u001b[0m\n\u001b[0;32m----> 1\u001b[0;31m \u001b[0mexport_df\u001b[0m\u001b[0;34m.\u001b[0m\u001b[0mto_csv\u001b[0m\u001b[0;34m(\u001b[0m\u001b[0mdata_dir\u001b[0m \u001b[0;34m/\u001b[0m \u001b[0mslug\u001b[0m \u001b[0;34m/\u001b[0m \u001b[0;34mf\"{today}.csv\"\u001b[0m\u001b[0;34m,\u001b[0m \u001b[0mindex\u001b[0m\u001b[0;34m=\u001b[0m\u001b[0;32mFalse\u001b[0m\u001b[0;34m)\u001b[0m\u001b[0;34m\u001b[0m\u001b[0;34m\u001b[0m\u001b[0m\n\u001b[0m",
      "\u001b[0;31mNameError\u001b[0m: name 'today' is not defined"
     ]
    }
   ],
   "source": [
    "export_df.to_csv(data_dir / slug / f\"{today}.csv\", index=False)"
   ]
  },
  {
   "cell_type": "markdown",
   "metadata": {},
   "source": [
    "## Combine"
   ]
  },
  {
   "cell_type": "code",
   "execution_count": 260,
   "metadata": {},
   "outputs": [],
   "source": [
    "csv_list = [\n",
    "    i\n",
    "    for i in glob.glob(str(data_dir / slug / \"*.csv\"))\n",
    "    if not str(i).endswith(\"timeseries.csv\")\n",
    "]"
   ]
  },
  {
   "cell_type": "code",
   "execution_count": 261,
   "metadata": {},
   "outputs": [],
   "source": [
    "df_list = []\n",
    "for csv in csv_list:\n",
    "    if \"manual\" in csv:\n",
    "        df = pd.read_csv(csv, parse_dates=[\"date\"])\n",
    "    else:\n",
    "        file_date = csv.split(\"/\")[-1].replace(\".csv\", \"\")\n",
    "        df = pd.read_csv(csv, parse_dates=[\"county_date\"])\n",
    "        df[\"date\"] = file_date\n",
    "    df_list.append(df)"
   ]
  },
  {
   "cell_type": "code",
   "execution_count": 262,
   "metadata": {},
   "outputs": [],
   "source": [
    "df = pd.concat(df_list).sort_values([\"date\", \"area\"])"
   ]
  },
  {
   "cell_type": "code",
   "execution_count": 263,
   "metadata": {},
   "outputs": [],
   "source": [
    "df.to_csv(data_dir / slug / \"timeseries.csv\", index=False)"
   ]
  }
 ],
 "metadata": {
  "kernelspec": {
   "display_name": "Python 3 (ipykernel)",
   "language": "python",
   "name": "python3"
  },
  "language_info": {
   "codemirror_mode": {
    "name": "ipython",
    "version": 3
   },
   "file_extension": ".py",
   "mimetype": "text/x-python",
   "name": "python",
   "nbconvert_exporter": "python",
   "pygments_lexer": "ipython3",
   "version": "3.8.12"
  }
 },
 "nbformat": 4,
 "nbformat_minor": 4
}
