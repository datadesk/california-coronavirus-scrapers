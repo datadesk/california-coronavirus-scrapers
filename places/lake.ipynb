{
 "cells": [
  {
   "cell_type": "markdown",
   "metadata": {},
   "source": [
    "## Configuration\n",
    "_Initial steps to get the notebook ready to play nice with our repository. Do not delete this section._"
   ]
  },
  {
   "cell_type": "markdown",
   "metadata": {},
   "source": [
    "Code formatting with [black](https://pypi.org/project/nb-black/)."
   ]
  },
  {
   "cell_type": "code",
   "execution_count": 1,
   "metadata": {
    "execution": {
     "iopub.execute_input": "2021-10-22T04:20:32.156686Z",
     "iopub.status.busy": "2021-10-22T04:20:32.156116Z",
     "iopub.status.idle": "2021-10-22T04:20:32.294945Z",
     "shell.execute_reply": "2021-10-22T04:20:32.294214Z"
    }
   },
   "outputs": [],
   "source": [
    "%load_ext lab_black"
   ]
  },
  {
   "cell_type": "code",
   "execution_count": 2,
   "metadata": {
    "execution": {
     "iopub.execute_input": "2021-10-22T04:20:32.299077Z",
     "iopub.status.busy": "2021-10-22T04:20:32.298525Z",
     "iopub.status.idle": "2021-10-22T04:20:32.303149Z",
     "shell.execute_reply": "2021-10-22T04:20:32.302680Z"
    }
   },
   "outputs": [],
   "source": [
    "import os\n",
    "import pathlib"
   ]
  },
  {
   "cell_type": "code",
   "execution_count": 3,
   "metadata": {
    "execution": {
     "iopub.execute_input": "2021-10-22T04:20:32.310947Z",
     "iopub.status.busy": "2021-10-22T04:20:32.309666Z",
     "iopub.status.idle": "2021-10-22T04:20:32.311554Z",
     "shell.execute_reply": "2021-10-22T04:20:32.311993Z"
    }
   },
   "outputs": [],
   "source": [
    "this_dir = pathlib.Path(os.path.abspath(\"\"))"
   ]
  },
  {
   "cell_type": "code",
   "execution_count": 4,
   "metadata": {
    "execution": {
     "iopub.execute_input": "2021-10-22T04:20:32.315805Z",
     "iopub.status.busy": "2021-10-22T04:20:32.315290Z",
     "iopub.status.idle": "2021-10-22T04:20:32.318770Z",
     "shell.execute_reply": "2021-10-22T04:20:32.318315Z"
    }
   },
   "outputs": [],
   "source": [
    "data_dir = this_dir / \"data\""
   ]
  },
  {
   "cell_type": "code",
   "execution_count": 5,
   "metadata": {
    "execution": {
     "iopub.execute_input": "2021-10-22T04:20:32.323207Z",
     "iopub.status.busy": "2021-10-22T04:20:32.322658Z",
     "iopub.status.idle": "2021-10-22T04:20:32.740506Z",
     "shell.execute_reply": "2021-10-22T04:20:32.739539Z"
    }
   },
   "outputs": [],
   "source": [
    "import re\n",
    "import pytz\n",
    "import glob\n",
    "import requests\n",
    "import unicodedata\n",
    "import json\n",
    "import pandas as pd\n",
    "from datetime import datetime\n",
    "from bs4 import BeautifulSoup"
   ]
  },
  {
   "cell_type": "markdown",
   "metadata": {},
   "source": [
    "### Download / retrieve the page"
   ]
  },
  {
   "cell_type": "markdown",
   "metadata": {},
   "source": [
    "Lake County's [dashboard](http://health.co.lake.ca.us/Coronavirus/COVID-19_Data.htm) uses Datawrapper to display cases by ZIP Code. To make sure we get the latest, we'll hit the chart page on Datawrapper's website, then get the iframe URL."
   ]
  },
  {
   "cell_type": "code",
   "execution_count": 6,
   "metadata": {
    "execution": {
     "iopub.execute_input": "2021-10-22T04:20:32.745859Z",
     "iopub.status.busy": "2021-10-22T04:20:32.745331Z",
     "iopub.status.idle": "2021-10-22T04:20:32.748885Z",
     "shell.execute_reply": "2021-10-22T04:20:32.748394Z"
    }
   },
   "outputs": [],
   "source": [
    "url = \"https://www.datawrapper.de/_/D1RaA/\""
   ]
  },
  {
   "cell_type": "code",
   "execution_count": 7,
   "metadata": {
    "execution": {
     "iopub.execute_input": "2021-10-22T04:20:32.756857Z",
     "iopub.status.busy": "2021-10-22T04:20:32.752435Z",
     "iopub.status.idle": "2021-10-22T04:20:32.955742Z",
     "shell.execute_reply": "2021-10-22T04:20:32.955197Z"
    }
   },
   "outputs": [],
   "source": [
    "page = requests.get(url)"
   ]
  },
  {
   "cell_type": "markdown",
   "metadata": {},
   "source": [
    "### Parse with BeautifulSoup"
   ]
  },
  {
   "cell_type": "code",
   "execution_count": 8,
   "metadata": {
    "execution": {
     "iopub.execute_input": "2021-10-22T04:20:32.963411Z",
     "iopub.status.busy": "2021-10-22T04:20:32.962352Z",
     "iopub.status.idle": "2021-10-22T04:20:32.966228Z",
     "shell.execute_reply": "2021-10-22T04:20:32.965816Z"
    }
   },
   "outputs": [],
   "source": [
    "soup = BeautifulSoup(page.content, \"html.parser\")"
   ]
  },
  {
   "cell_type": "code",
   "execution_count": 9,
   "metadata": {
    "execution": {
     "iopub.execute_input": "2021-10-22T04:20:32.972156Z",
     "iopub.status.busy": "2021-10-22T04:20:32.971152Z",
     "iopub.status.idle": "2021-10-22T04:20:32.975847Z",
     "shell.execute_reply": "2021-10-22T04:20:32.975012Z"
    }
   },
   "outputs": [],
   "source": [
    "meta = soup.find(\"meta\", {\"property\": \"og:url\"})"
   ]
  },
  {
   "cell_type": "code",
   "execution_count": 10,
   "metadata": {
    "execution": {
     "iopub.execute_input": "2021-10-22T04:20:32.980904Z",
     "iopub.status.busy": "2021-10-22T04:20:32.979810Z",
     "iopub.status.idle": "2021-10-22T04:20:32.983771Z",
     "shell.execute_reply": "2021-10-22T04:20:32.983313Z"
    }
   },
   "outputs": [],
   "source": [
    "dw_url = meta[\"content\"]"
   ]
  },
  {
   "cell_type": "markdown",
   "metadata": {},
   "source": [
    "### Parse Datawrapper"
   ]
  },
  {
   "cell_type": "code",
   "execution_count": 11,
   "metadata": {
    "execution": {
     "iopub.execute_input": "2021-10-22T04:20:32.988853Z",
     "iopub.status.busy": "2021-10-22T04:20:32.988304Z",
     "iopub.status.idle": "2021-10-22T04:20:32.991567Z",
     "shell.execute_reply": "2021-10-22T04:20:32.990866Z"
    }
   },
   "outputs": [],
   "source": [
    "dataset_url = dw_url + \"dataset.csv\""
   ]
  },
  {
   "cell_type": "code",
   "execution_count": 12,
   "metadata": {
    "execution": {
     "iopub.execute_input": "2021-10-22T04:20:32.996293Z",
     "iopub.status.busy": "2021-10-22T04:20:32.995788Z",
     "iopub.status.idle": "2021-10-22T04:20:33.128315Z",
     "shell.execute_reply": "2021-10-22T04:20:33.127792Z"
    }
   },
   "outputs": [],
   "source": [
    "dw_r = requests.get(dataset_url)"
   ]
  },
  {
   "cell_type": "code",
   "execution_count": 13,
   "metadata": {
    "execution": {
     "iopub.execute_input": "2021-10-22T04:20:33.138070Z",
     "iopub.status.busy": "2021-10-22T04:20:33.137548Z",
     "iopub.status.idle": "2021-10-22T04:20:33.140665Z",
     "shell.execute_reply": "2021-10-22T04:20:33.141114Z"
    }
   },
   "outputs": [],
   "source": [
    "string = dw_r.text"
   ]
  },
  {
   "cell_type": "code",
   "execution_count": 14,
   "metadata": {
    "execution": {
     "iopub.execute_input": "2021-10-22T04:20:33.146491Z",
     "iopub.status.busy": "2021-10-22T04:20:33.144540Z",
     "iopub.status.idle": "2021-10-22T04:20:33.149084Z",
     "shell.execute_reply": "2021-10-22T04:20:33.148062Z"
    }
   },
   "outputs": [],
   "source": [
    "parsed = string.split(\"\\r\\n\")"
   ]
  },
  {
   "cell_type": "code",
   "execution_count": 15,
   "metadata": {
    "execution": {
     "iopub.execute_input": "2021-10-22T04:20:33.155912Z",
     "iopub.status.busy": "2021-10-22T04:20:33.155392Z",
     "iopub.status.idle": "2021-10-22T04:20:33.159067Z",
     "shell.execute_reply": "2021-10-22T04:20:33.158615Z"
    }
   },
   "outputs": [],
   "source": [
    "data_list = []\n",
    "for row in parsed:\n",
    "    cell = row.split(\",\")\n",
    "    data_list.append(cell)"
   ]
  },
  {
   "cell_type": "code",
   "execution_count": 16,
   "metadata": {
    "execution": {
     "iopub.execute_input": "2021-10-22T04:20:33.169599Z",
     "iopub.status.busy": "2021-10-22T04:20:33.166218Z",
     "iopub.status.idle": "2021-10-22T04:20:33.175287Z",
     "shell.execute_reply": "2021-10-22T04:20:33.174851Z"
    }
   },
   "outputs": [
    {
     "data": {
      "text/plain": [
       "[['Supervisorial District', 'District Total', 'Zip Code', 'Zip Code Total'],\n",
       " ['District 1', '771', '95457', '261'],\n",
       " ['', '', '95467', '344'],\n",
       " ['', '', '95461', '166'],\n",
       " ['District 2', '1647', '95422', '1627'],\n",
       " ['', '', '95424', '20'],\n",
       " ['District 3', '1100', '95423', '256'],\n",
       " ['', '', '95458', '271'],\n",
       " ['', '', '95464', '261'],\n",
       " ['', '', '95485', '291'],\n",
       " ['', '', '95493', '11'],\n",
       " ['', '', '95443', '10'],\n",
       " ['District 4', '1434', '95453', '1388'],\n",
       " ['', '', '95435', '46'],\n",
       " ['District 5', '1150', '95426', '62'],\n",
       " ['', '', '95451', '1088'],\n",
       " ['Unknown or Other', '99', 'Unknown/other', '99']]"
      ]
     },
     "execution_count": 16,
     "metadata": {},
     "output_type": "execute_result"
    }
   ],
   "source": [
    "data_list"
   ]
  },
  {
   "cell_type": "code",
   "execution_count": 17,
   "metadata": {
    "execution": {
     "iopub.execute_input": "2021-10-22T04:20:33.182289Z",
     "iopub.status.busy": "2021-10-22T04:20:33.181770Z",
     "iopub.status.idle": "2021-10-22T04:20:33.185322Z",
     "shell.execute_reply": "2021-10-22T04:20:33.184859Z"
    }
   },
   "outputs": [],
   "source": [
    "df = pd.DataFrame(data_list[1:], columns=data_list[0])"
   ]
  },
  {
   "cell_type": "markdown",
   "metadata": {},
   "source": [
    "### Get timestamp"
   ]
  },
  {
   "cell_type": "code",
   "execution_count": 18,
   "metadata": {
    "execution": {
     "iopub.execute_input": "2021-10-22T04:20:33.190724Z",
     "iopub.status.busy": "2021-10-22T04:20:33.190209Z",
     "iopub.status.idle": "2021-10-22T04:20:33.194291Z",
     "shell.execute_reply": "2021-10-22T04:20:33.193805Z"
    }
   },
   "outputs": [],
   "source": [
    "title_tag = soup.find(\"meta\", {\"property\": \"og:title\"})"
   ]
  },
  {
   "cell_type": "code",
   "execution_count": 19,
   "metadata": {
    "execution": {
     "iopub.execute_input": "2021-10-22T04:20:33.199478Z",
     "iopub.status.busy": "2021-10-22T04:20:33.198416Z",
     "iopub.status.idle": "2021-10-22T04:20:33.201872Z",
     "shell.execute_reply": "2021-10-22T04:20:33.202529Z"
    }
   },
   "outputs": [],
   "source": [
    "title_str = title_tag[\"content\"]"
   ]
  },
  {
   "cell_type": "code",
   "execution_count": 20,
   "metadata": {
    "execution": {
     "iopub.execute_input": "2021-10-22T04:20:33.206678Z",
     "iopub.status.busy": "2021-10-22T04:20:33.206167Z",
     "iopub.status.idle": "2021-10-22T04:20:33.212044Z",
     "shell.execute_reply": "2021-10-22T04:20:33.211591Z"
    }
   },
   "outputs": [
    {
     "data": {
      "text/plain": [
       "'Lake County COVID-19 cases, by district and zip code, through 9/30/21 | Created with Datawrapper'"
      ]
     },
     "execution_count": 20,
     "metadata": {},
     "output_type": "execute_result"
    }
   ],
   "source": [
    "title_str"
   ]
  },
  {
   "cell_type": "code",
   "execution_count": 21,
   "metadata": {
    "execution": {
     "iopub.execute_input": "2021-10-22T04:20:33.216854Z",
     "iopub.status.busy": "2021-10-22T04:20:33.215955Z",
     "iopub.status.idle": "2021-10-22T04:20:33.220937Z",
     "shell.execute_reply": "2021-10-22T04:20:33.220421Z"
    }
   },
   "outputs": [],
   "source": [
    "date_regex = re.search(r\"(\\d+/\\d+/\\d+)\", title_str)"
   ]
  },
  {
   "cell_type": "code",
   "execution_count": 22,
   "metadata": {
    "execution": {
     "iopub.execute_input": "2021-10-22T04:20:33.225453Z",
     "iopub.status.busy": "2021-10-22T04:20:33.224937Z",
     "iopub.status.idle": "2021-10-22T04:20:33.228394Z",
     "shell.execute_reply": "2021-10-22T04:20:33.227943Z"
    }
   },
   "outputs": [],
   "source": [
    "date_str = date_regex.group(1)"
   ]
  },
  {
   "cell_type": "code",
   "execution_count": 23,
   "metadata": {
    "execution": {
     "iopub.execute_input": "2021-10-22T04:20:33.234334Z",
     "iopub.status.busy": "2021-10-22T04:20:33.233034Z",
     "iopub.status.idle": "2021-10-22T04:20:33.237368Z",
     "shell.execute_reply": "2021-10-22T04:20:33.236934Z"
    }
   },
   "outputs": [],
   "source": [
    "latest_date = pd.to_datetime(date_str).date()"
   ]
  },
  {
   "cell_type": "code",
   "execution_count": 24,
   "metadata": {
    "execution": {
     "iopub.execute_input": "2021-10-22T04:20:33.243323Z",
     "iopub.status.busy": "2021-10-22T04:20:33.241742Z",
     "iopub.status.idle": "2021-10-22T04:20:33.246544Z",
     "shell.execute_reply": "2021-10-22T04:20:33.245705Z"
    }
   },
   "outputs": [],
   "source": [
    "df[\"county_date\"] = latest_date"
   ]
  },
  {
   "cell_type": "markdown",
   "metadata": {},
   "source": [
    "### Rename and drop columns"
   ]
  },
  {
   "cell_type": "code",
   "execution_count": 25,
   "metadata": {
    "execution": {
     "iopub.execute_input": "2021-10-22T04:20:33.252880Z",
     "iopub.status.busy": "2021-10-22T04:20:33.249831Z",
     "iopub.status.idle": "2021-10-22T04:20:33.256113Z",
     "shell.execute_reply": "2021-10-22T04:20:33.255659Z"
    }
   },
   "outputs": [],
   "source": [
    "cols = {\"Zip Code\": \"area\", \"Zip Code Total\": \"confirmed_cases\"}"
   ]
  },
  {
   "cell_type": "code",
   "execution_count": 26,
   "metadata": {
    "execution": {
     "iopub.execute_input": "2021-10-22T04:20:33.260354Z",
     "iopub.status.busy": "2021-10-22T04:20:33.258260Z",
     "iopub.status.idle": "2021-10-22T04:20:33.266837Z",
     "shell.execute_reply": "2021-10-22T04:20:33.266383Z"
    }
   },
   "outputs": [],
   "source": [
    "export_df = df.rename(columns=cols)[[\"area\", \"confirmed_cases\", \"county_date\"]]"
   ]
  },
  {
   "cell_type": "code",
   "execution_count": 27,
   "metadata": {
    "execution": {
     "iopub.execute_input": "2021-10-22T04:20:33.271157Z",
     "iopub.status.busy": "2021-10-22T04:20:33.270431Z",
     "iopub.status.idle": "2021-10-22T04:20:33.276575Z",
     "shell.execute_reply": "2021-10-22T04:20:33.275601Z"
    }
   },
   "outputs": [
    {
     "data": {
      "text/plain": [
       "16"
      ]
     },
     "execution_count": 27,
     "metadata": {},
     "output_type": "execute_result"
    }
   ],
   "source": [
    "len(export_df)"
   ]
  },
  {
   "cell_type": "markdown",
   "metadata": {},
   "source": [
    "### Vet"
   ]
  },
  {
   "cell_type": "markdown",
   "metadata": {},
   "source": [
    "Lake County has 16 ZIP code areas, including \"Unknown\""
   ]
  },
  {
   "cell_type": "code",
   "execution_count": 28,
   "metadata": {
    "execution": {
     "iopub.execute_input": "2021-10-22T04:20:33.280241Z",
     "iopub.status.busy": "2021-10-22T04:20:33.279378Z",
     "iopub.status.idle": "2021-10-22T04:20:33.283005Z",
     "shell.execute_reply": "2021-10-22T04:20:33.281991Z"
    }
   },
   "outputs": [],
   "source": [
    "lake_len = 16"
   ]
  },
  {
   "cell_type": "code",
   "execution_count": 29,
   "metadata": {
    "execution": {
     "iopub.execute_input": "2021-10-22T04:20:33.289139Z",
     "iopub.status.busy": "2021-10-22T04:20:33.286745Z",
     "iopub.status.idle": "2021-10-22T04:20:33.291632Z",
     "shell.execute_reply": "2021-10-22T04:20:33.290895Z"
    }
   },
   "outputs": [],
   "source": [
    "try:\n",
    "    assert not len(export_df) > lake_len\n",
    "except AssertionError:\n",
    "    raise AssertionError(\n",
    "        \"Lake County scraper: spreadsheet has additional zip code(s) than previous\"\n",
    "    )"
   ]
  },
  {
   "cell_type": "code",
   "execution_count": 30,
   "metadata": {
    "execution": {
     "iopub.execute_input": "2021-10-22T04:20:33.297541Z",
     "iopub.status.busy": "2021-10-22T04:20:33.296682Z",
     "iopub.status.idle": "2021-10-22T04:20:33.301017Z",
     "shell.execute_reply": "2021-10-22T04:20:33.300520Z"
    }
   },
   "outputs": [],
   "source": [
    "try:\n",
    "    assert not len(export_df) < lake_len\n",
    "except AssertionError:\n",
    "    raise AssertionError(\"Lake County scraper: spreadsheet is missing row(s)\")"
   ]
  },
  {
   "cell_type": "markdown",
   "metadata": {},
   "source": [
    "### Export csv file"
   ]
  },
  {
   "cell_type": "markdown",
   "metadata": {},
   "source": [
    "Write csv file timestamped with today's date"
   ]
  },
  {
   "cell_type": "code",
   "execution_count": 31,
   "metadata": {
    "execution": {
     "iopub.execute_input": "2021-10-22T04:20:33.305325Z",
     "iopub.status.busy": "2021-10-22T04:20:33.304806Z",
     "iopub.status.idle": "2021-10-22T04:20:33.307747Z",
     "shell.execute_reply": "2021-10-22T04:20:33.308145Z"
    }
   },
   "outputs": [],
   "source": [
    "slug = \"lake\""
   ]
  },
  {
   "cell_type": "code",
   "execution_count": 32,
   "metadata": {
    "execution": {
     "iopub.execute_input": "2021-10-22T04:20:33.311838Z",
     "iopub.status.busy": "2021-10-22T04:20:33.311323Z",
     "iopub.status.idle": "2021-10-22T04:20:33.431613Z",
     "shell.execute_reply": "2021-10-22T04:20:33.431027Z"
    }
   },
   "outputs": [
    {
     "ename": "NameError",
     "evalue": "name 'today' is not defined",
     "output_type": "error",
     "traceback": [
      "\u001b[0;31m---------------------------------------------------------------------------\u001b[0m",
      "\u001b[0;31mNameError\u001b[0m                                 Traceback (most recent call last)",
      "\u001b[0;32m/tmp/ipykernel_3452/2436362009.py\u001b[0m in \u001b[0;36m<module>\u001b[0;34m\u001b[0m\n\u001b[0;32m----> 1\u001b[0;31m \u001b[0mexport_df\u001b[0m\u001b[0;34m.\u001b[0m\u001b[0mto_csv\u001b[0m\u001b[0;34m(\u001b[0m\u001b[0mdata_dir\u001b[0m \u001b[0;34m/\u001b[0m \u001b[0mslug\u001b[0m \u001b[0;34m/\u001b[0m \u001b[0;34mf\"{today}.csv\"\u001b[0m\u001b[0;34m,\u001b[0m \u001b[0mindex\u001b[0m\u001b[0;34m=\u001b[0m\u001b[0;32mFalse\u001b[0m\u001b[0;34m)\u001b[0m\u001b[0;34m\u001b[0m\u001b[0;34m\u001b[0m\u001b[0m\n\u001b[0m",
      "\u001b[0;31mNameError\u001b[0m: name 'today' is not defined"
     ]
    }
   ],
   "source": [
    "export_df.to_csv(data_dir / slug / f\"{today}.csv\", index=False)"
   ]
  },
  {
   "cell_type": "markdown",
   "metadata": {},
   "source": [
    "## Combine"
   ]
  },
  {
   "cell_type": "code",
   "execution_count": 260,
   "metadata": {},
   "outputs": [],
   "source": [
    "csv_list = [\n",
    "    i\n",
    "    for i in glob.glob(str(data_dir / slug / \"*.csv\"))\n",
    "    if not str(i).endswith(\"timeseries.csv\")\n",
    "]"
   ]
  },
  {
   "cell_type": "code",
   "execution_count": 261,
   "metadata": {},
   "outputs": [],
   "source": [
    "df_list = []\n",
    "for csv in csv_list:\n",
    "    if \"manual\" in csv:\n",
    "        df = pd.read_csv(csv, parse_dates=[\"date\"])\n",
    "    else:\n",
    "        file_date = csv.split(\"/\")[-1].replace(\".csv\", \"\")\n",
    "        df = pd.read_csv(csv, parse_dates=[\"county_date\"])\n",
    "        df[\"date\"] = file_date\n",
    "    df_list.append(df)"
   ]
  },
  {
   "cell_type": "code",
   "execution_count": 262,
   "metadata": {},
   "outputs": [],
   "source": [
    "df = pd.concat(df_list).sort_values([\"date\", \"area\"])"
   ]
  },
  {
   "cell_type": "code",
   "execution_count": 263,
   "metadata": {},
   "outputs": [],
   "source": [
    "df.to_csv(data_dir / slug / \"timeseries.csv\", index=False)"
   ]
  }
 ],
 "metadata": {
  "kernelspec": {
   "display_name": "Python 3 (ipykernel)",
   "language": "python",
   "name": "python3"
  },
  "language_info": {
   "codemirror_mode": {
    "name": "ipython",
    "version": 3
   },
   "file_extension": ".py",
   "mimetype": "text/x-python",
   "name": "python",
   "nbconvert_exporter": "python",
   "pygments_lexer": "ipython3",
   "version": "3.8.12"
  }
 },
 "nbformat": 4,
 "nbformat_minor": 4
}
