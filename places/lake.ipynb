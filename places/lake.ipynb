{
 "cells": [
  {
   "cell_type": "markdown",
   "metadata": {},
   "source": [
    "## Configuration\n",
    "_Initial steps to get the notebook ready to play nice with our repository. Do not delete this section._"
   ]
  },
  {
   "cell_type": "markdown",
   "metadata": {},
   "source": [
    "Code formatting with [black](https://pypi.org/project/nb-black/)."
   ]
  },
  {
   "cell_type": "code",
   "execution_count": 1,
   "metadata": {
    "execution": {
     "iopub.execute_input": "2021-10-21T00:22:42.790437Z",
     "iopub.status.busy": "2021-10-21T00:22:42.789005Z",
     "iopub.status.idle": "2021-10-21T00:22:42.946838Z",
     "shell.execute_reply": "2021-10-21T00:22:42.946120Z"
    }
   },
   "outputs": [],
   "source": [
    "%load_ext lab_black"
   ]
  },
  {
   "cell_type": "code",
   "execution_count": 2,
   "metadata": {
    "execution": {
     "iopub.execute_input": "2021-10-21T00:22:42.951895Z",
     "iopub.status.busy": "2021-10-21T00:22:42.950862Z",
     "iopub.status.idle": "2021-10-21T00:22:42.954860Z",
     "shell.execute_reply": "2021-10-21T00:22:42.954066Z"
    }
   },
   "outputs": [],
   "source": [
    "import os\n",
    "import pathlib"
   ]
  },
  {
   "cell_type": "code",
   "execution_count": 3,
   "metadata": {
    "execution": {
     "iopub.execute_input": "2021-10-21T00:22:42.961859Z",
     "iopub.status.busy": "2021-10-21T00:22:42.958908Z",
     "iopub.status.idle": "2021-10-21T00:22:42.966415Z",
     "shell.execute_reply": "2021-10-21T00:22:42.965315Z"
    }
   },
   "outputs": [],
   "source": [
    "this_dir = pathlib.Path(os.path.abspath(\"\"))"
   ]
  },
  {
   "cell_type": "code",
   "execution_count": 4,
   "metadata": {
    "execution": {
     "iopub.execute_input": "2021-10-21T00:22:42.972200Z",
     "iopub.status.busy": "2021-10-21T00:22:42.970891Z",
     "iopub.status.idle": "2021-10-21T00:22:42.974997Z",
     "shell.execute_reply": "2021-10-21T00:22:42.974034Z"
    }
   },
   "outputs": [],
   "source": [
    "data_dir = this_dir / \"data\""
   ]
  },
  {
   "cell_type": "code",
   "execution_count": 5,
   "metadata": {
    "execution": {
     "iopub.execute_input": "2021-10-21T00:22:42.980317Z",
     "iopub.status.busy": "2021-10-21T00:22:42.979676Z",
     "iopub.status.idle": "2021-10-21T00:22:43.567299Z",
     "shell.execute_reply": "2021-10-21T00:22:43.566403Z"
    }
   },
   "outputs": [],
   "source": [
    "import re\n",
    "import pytz\n",
    "import glob\n",
    "import requests\n",
    "import unicodedata\n",
    "import json\n",
    "import pandas as pd\n",
    "from datetime import datetime\n",
    "from bs4 import BeautifulSoup"
   ]
  },
  {
   "cell_type": "markdown",
   "metadata": {},
   "source": [
    "### Download / retrieve the page"
   ]
  },
  {
   "cell_type": "markdown",
   "metadata": {},
   "source": [
    "Lake County's [dashboard](http://health.co.lake.ca.us/Coronavirus/COVID-19_Data.htm) uses Datawrapper to display cases by ZIP Code. To make sure we get the latest, we'll hit the chart page on Datawrapper's website, then get the iframe URL."
   ]
  },
  {
   "cell_type": "code",
   "execution_count": 6,
   "metadata": {
    "execution": {
     "iopub.execute_input": "2021-10-21T00:22:43.575308Z",
     "iopub.status.busy": "2021-10-21T00:22:43.570954Z",
     "iopub.status.idle": "2021-10-21T00:22:43.580216Z",
     "shell.execute_reply": "2021-10-21T00:22:43.581271Z"
    }
   },
   "outputs": [],
   "source": [
    "url = \"https://www.datawrapper.de/_/D1RaA/\""
   ]
  },
  {
   "cell_type": "code",
   "execution_count": 7,
   "metadata": {
    "execution": {
     "iopub.execute_input": "2021-10-21T00:22:43.588352Z",
     "iopub.status.busy": "2021-10-21T00:22:43.587180Z",
     "iopub.status.idle": "2021-10-21T00:22:43.793611Z",
     "shell.execute_reply": "2021-10-21T00:22:43.792937Z"
    }
   },
   "outputs": [],
   "source": [
    "page = requests.get(url)"
   ]
  },
  {
   "cell_type": "markdown",
   "metadata": {},
   "source": [
    "### Parse with BeautifulSoup"
   ]
  },
  {
   "cell_type": "code",
   "execution_count": 8,
   "metadata": {
    "execution": {
     "iopub.execute_input": "2021-10-21T00:22:43.805274Z",
     "iopub.status.busy": "2021-10-21T00:22:43.803003Z",
     "iopub.status.idle": "2021-10-21T00:22:43.809832Z",
     "shell.execute_reply": "2021-10-21T00:22:43.809207Z"
    }
   },
   "outputs": [],
   "source": [
    "soup = BeautifulSoup(page.content, \"html.parser\")"
   ]
  },
  {
   "cell_type": "code",
   "execution_count": 9,
   "metadata": {
    "execution": {
     "iopub.execute_input": "2021-10-21T00:22:43.816509Z",
     "iopub.status.busy": "2021-10-21T00:22:43.815818Z",
     "iopub.status.idle": "2021-10-21T00:22:43.822968Z",
     "shell.execute_reply": "2021-10-21T00:22:43.823554Z"
    }
   },
   "outputs": [],
   "source": [
    "meta = soup.find(\"meta\", {\"property\": \"og:url\"})"
   ]
  },
  {
   "cell_type": "code",
   "execution_count": 10,
   "metadata": {
    "execution": {
     "iopub.execute_input": "2021-10-21T00:22:43.831691Z",
     "iopub.status.busy": "2021-10-21T00:22:43.828914Z",
     "iopub.status.idle": "2021-10-21T00:22:43.835892Z",
     "shell.execute_reply": "2021-10-21T00:22:43.835247Z"
    }
   },
   "outputs": [],
   "source": [
    "dw_url = meta[\"content\"]"
   ]
  },
  {
   "cell_type": "markdown",
   "metadata": {},
   "source": [
    "### Parse Datawrapper"
   ]
  },
  {
   "cell_type": "code",
   "execution_count": 11,
   "metadata": {
    "execution": {
     "iopub.execute_input": "2021-10-21T00:22:43.842637Z",
     "iopub.status.busy": "2021-10-21T00:22:43.841868Z",
     "iopub.status.idle": "2021-10-21T00:22:43.846207Z",
     "shell.execute_reply": "2021-10-21T00:22:43.845651Z"
    }
   },
   "outputs": [],
   "source": [
    "dataset_url = dw_url + \"dataset.csv\""
   ]
  },
  {
   "cell_type": "code",
   "execution_count": 12,
   "metadata": {
    "execution": {
     "iopub.execute_input": "2021-10-21T00:22:43.856699Z",
     "iopub.status.busy": "2021-10-21T00:22:43.855987Z",
     "iopub.status.idle": "2021-10-21T00:22:43.959792Z",
     "shell.execute_reply": "2021-10-21T00:22:43.959092Z"
    }
   },
   "outputs": [],
   "source": [
    "dw_r = requests.get(dataset_url)"
   ]
  },
  {
   "cell_type": "code",
   "execution_count": 13,
   "metadata": {
    "execution": {
     "iopub.execute_input": "2021-10-21T00:22:43.972544Z",
     "iopub.status.busy": "2021-10-21T00:22:43.971886Z",
     "iopub.status.idle": "2021-10-21T00:22:43.979121Z",
     "shell.execute_reply": "2021-10-21T00:22:43.978492Z"
    }
   },
   "outputs": [],
   "source": [
    "string = dw_r.text"
   ]
  },
  {
   "cell_type": "code",
   "execution_count": 14,
   "metadata": {
    "execution": {
     "iopub.execute_input": "2021-10-21T00:22:43.988494Z",
     "iopub.status.busy": "2021-10-21T00:22:43.986761Z",
     "iopub.status.idle": "2021-10-21T00:22:43.990683Z",
     "shell.execute_reply": "2021-10-21T00:22:43.990071Z"
    }
   },
   "outputs": [],
   "source": [
    "parsed = string.split(\"\\r\\n\")"
   ]
  },
  {
   "cell_type": "code",
   "execution_count": 15,
   "metadata": {
    "execution": {
     "iopub.execute_input": "2021-10-21T00:22:43.999304Z",
     "iopub.status.busy": "2021-10-21T00:22:43.998322Z",
     "iopub.status.idle": "2021-10-21T00:22:44.006533Z",
     "shell.execute_reply": "2021-10-21T00:22:44.005007Z"
    }
   },
   "outputs": [],
   "source": [
    "data_list = []\n",
    "for row in parsed:\n",
    "    cell = row.split(\",\")\n",
    "    data_list.append(cell)"
   ]
  },
  {
   "cell_type": "code",
   "execution_count": 16,
   "metadata": {
    "execution": {
     "iopub.execute_input": "2021-10-21T00:22:44.021690Z",
     "iopub.status.busy": "2021-10-21T00:22:44.020942Z",
     "iopub.status.idle": "2021-10-21T00:22:44.030521Z",
     "shell.execute_reply": "2021-10-21T00:22:44.029858Z"
    }
   },
   "outputs": [
    {
     "data": {
      "text/plain": [
       "[['Supervisorial District', 'District Total', 'Zip Code', 'Zip Code Total'],\n",
       " ['District 1', '771', '95457', '261'],\n",
       " ['', '', '95467', '344'],\n",
       " ['', '', '95461', '166'],\n",
       " ['District 2', '1647', '95422', '1627'],\n",
       " ['', '', '95424', '20'],\n",
       " ['District 3', '1100', '95423', '256'],\n",
       " ['', '', '95458', '271'],\n",
       " ['', '', '95464', '261'],\n",
       " ['', '', '95485', '291'],\n",
       " ['', '', '95493', '11'],\n",
       " ['', '', '95443', '10'],\n",
       " ['District 4', '1434', '95453', '1388'],\n",
       " ['', '', '95435', '46'],\n",
       " ['District 5', '1150', '95426', '62'],\n",
       " ['', '', '95451', '1088'],\n",
       " ['Unknown or Other', '99', 'Unknown/other', '99']]"
      ]
     },
     "execution_count": 16,
     "metadata": {},
     "output_type": "execute_result"
    }
   ],
   "source": [
    "data_list"
   ]
  },
  {
   "cell_type": "code",
   "execution_count": 17,
   "metadata": {
    "execution": {
     "iopub.execute_input": "2021-10-21T00:22:44.039697Z",
     "iopub.status.busy": "2021-10-21T00:22:44.038908Z",
     "iopub.status.idle": "2021-10-21T00:22:44.044281Z",
     "shell.execute_reply": "2021-10-21T00:22:44.045000Z"
    }
   },
   "outputs": [],
   "source": [
    "df = pd.DataFrame(data_list[1:], columns=data_list[0])"
   ]
  },
  {
   "cell_type": "markdown",
   "metadata": {},
   "source": [
    "### Get timestamp"
   ]
  },
  {
   "cell_type": "code",
   "execution_count": 18,
   "metadata": {
    "execution": {
     "iopub.execute_input": "2021-10-21T00:22:44.051920Z",
     "iopub.status.busy": "2021-10-21T00:22:44.051241Z",
     "iopub.status.idle": "2021-10-21T00:22:44.058979Z",
     "shell.execute_reply": "2021-10-21T00:22:44.058322Z"
    }
   },
   "outputs": [],
   "source": [
    "title_tag = soup.find(\"meta\", {\"property\": \"og:title\"})"
   ]
  },
  {
   "cell_type": "code",
   "execution_count": 19,
   "metadata": {
    "execution": {
     "iopub.execute_input": "2021-10-21T00:22:44.065986Z",
     "iopub.status.busy": "2021-10-21T00:22:44.064736Z",
     "iopub.status.idle": "2021-10-21T00:22:44.069589Z",
     "shell.execute_reply": "2021-10-21T00:22:44.069001Z"
    }
   },
   "outputs": [],
   "source": [
    "title_str = title_tag[\"content\"]"
   ]
  },
  {
   "cell_type": "code",
   "execution_count": 20,
   "metadata": {
    "execution": {
     "iopub.execute_input": "2021-10-21T00:22:44.079510Z",
     "iopub.status.busy": "2021-10-21T00:22:44.078818Z",
     "iopub.status.idle": "2021-10-21T00:22:44.081519Z",
     "shell.execute_reply": "2021-10-21T00:22:44.082059Z"
    }
   },
   "outputs": [
    {
     "data": {
      "text/plain": [
       "'Lake County COVID-19 cases, by district and zip code, through 9/30/21 | Created with Datawrapper'"
      ]
     },
     "execution_count": 20,
     "metadata": {},
     "output_type": "execute_result"
    }
   ],
   "source": [
    "title_str"
   ]
  },
  {
   "cell_type": "code",
   "execution_count": 21,
   "metadata": {
    "execution": {
     "iopub.execute_input": "2021-10-21T00:22:44.089094Z",
     "iopub.status.busy": "2021-10-21T00:22:44.088085Z",
     "iopub.status.idle": "2021-10-21T00:22:44.092872Z",
     "shell.execute_reply": "2021-10-21T00:22:44.092286Z"
    }
   },
   "outputs": [],
   "source": [
    "date_regex = re.search(r\"(\\d+/\\d+/\\d+)\", title_str)"
   ]
  },
  {
   "cell_type": "code",
   "execution_count": 22,
   "metadata": {
    "execution": {
     "iopub.execute_input": "2021-10-21T00:22:44.099465Z",
     "iopub.status.busy": "2021-10-21T00:22:44.098799Z",
     "iopub.status.idle": "2021-10-21T00:22:44.103668Z",
     "shell.execute_reply": "2021-10-21T00:22:44.104229Z"
    }
   },
   "outputs": [],
   "source": [
    "date_str = date_regex.group(1)"
   ]
  },
  {
   "cell_type": "code",
   "execution_count": 23,
   "metadata": {
    "execution": {
     "iopub.execute_input": "2021-10-21T00:22:44.113171Z",
     "iopub.status.busy": "2021-10-21T00:22:44.111873Z",
     "iopub.status.idle": "2021-10-21T00:22:44.117018Z",
     "shell.execute_reply": "2021-10-21T00:22:44.116271Z"
    }
   },
   "outputs": [],
   "source": [
    "latest_date = pd.to_datetime(date_str).date()"
   ]
  },
  {
   "cell_type": "code",
   "execution_count": 24,
   "metadata": {
    "execution": {
     "iopub.execute_input": "2021-10-21T00:22:44.125694Z",
     "iopub.status.busy": "2021-10-21T00:22:44.124465Z",
     "iopub.status.idle": "2021-10-21T00:22:44.128312Z",
     "shell.execute_reply": "2021-10-21T00:22:44.127733Z"
    }
   },
   "outputs": [],
   "source": [
    "df[\"county_date\"] = latest_date"
   ]
  },
  {
   "cell_type": "markdown",
   "metadata": {},
   "source": [
    "### Rename and drop columns"
   ]
  },
  {
   "cell_type": "code",
   "execution_count": 25,
   "metadata": {
    "execution": {
     "iopub.execute_input": "2021-10-21T00:22:44.134577Z",
     "iopub.status.busy": "2021-10-21T00:22:44.133893Z",
     "iopub.status.idle": "2021-10-21T00:22:44.138986Z",
     "shell.execute_reply": "2021-10-21T00:22:44.138409Z"
    }
   },
   "outputs": [],
   "source": [
    "cols = {\"Zip Code\": \"area\", \"Zip Code Total\": \"confirmed_cases\"}"
   ]
  },
  {
   "cell_type": "code",
   "execution_count": 26,
   "metadata": {
    "execution": {
     "iopub.execute_input": "2021-10-21T00:22:44.149043Z",
     "iopub.status.busy": "2021-10-21T00:22:44.148049Z",
     "iopub.status.idle": "2021-10-21T00:22:44.154504Z",
     "shell.execute_reply": "2021-10-21T00:22:44.153448Z"
    }
   },
   "outputs": [],
   "source": [
    "export_df = df.rename(columns=cols)[[\"area\", \"confirmed_cases\", \"county_date\"]]"
   ]
  },
  {
   "cell_type": "code",
   "execution_count": 27,
   "metadata": {
    "execution": {
     "iopub.execute_input": "2021-10-21T00:22:44.165809Z",
     "iopub.status.busy": "2021-10-21T00:22:44.163620Z",
     "iopub.status.idle": "2021-10-21T00:22:44.170122Z",
     "shell.execute_reply": "2021-10-21T00:22:44.170938Z"
    }
   },
   "outputs": [
    {
     "data": {
      "text/plain": [
       "16"
      ]
     },
     "execution_count": 27,
     "metadata": {},
     "output_type": "execute_result"
    }
   ],
   "source": [
    "len(export_df)"
   ]
  },
  {
   "cell_type": "markdown",
   "metadata": {},
   "source": [
    "### Vet"
   ]
  },
  {
   "cell_type": "markdown",
   "metadata": {},
   "source": [
    "Lake County has 16 ZIP code areas, including \"Unknown\""
   ]
  },
  {
   "cell_type": "code",
   "execution_count": 28,
   "metadata": {
    "execution": {
     "iopub.execute_input": "2021-10-21T00:22:44.183188Z",
     "iopub.status.busy": "2021-10-21T00:22:44.182037Z",
     "iopub.status.idle": "2021-10-21T00:22:44.188542Z",
     "shell.execute_reply": "2021-10-21T00:22:44.187609Z"
    }
   },
   "outputs": [],
   "source": [
    "lake_len = 16"
   ]
  },
  {
   "cell_type": "code",
   "execution_count": 29,
   "metadata": {
    "execution": {
     "iopub.execute_input": "2021-10-21T00:22:44.197705Z",
     "iopub.status.busy": "2021-10-21T00:22:44.196796Z",
     "iopub.status.idle": "2021-10-21T00:22:44.205340Z",
     "shell.execute_reply": "2021-10-21T00:22:44.204597Z"
    }
   },
   "outputs": [],
   "source": [
    "try:\n",
    "    assert not len(export_df) > lake_len\n",
    "except AssertionError:\n",
    "    raise AssertionError(\n",
    "        \"Lake County scraper: spreadsheet has additional zip code(s) than previous\"\n",
    "    )"
   ]
  },
  {
   "cell_type": "code",
   "execution_count": 30,
   "metadata": {
    "execution": {
     "iopub.execute_input": "2021-10-21T00:22:44.214348Z",
     "iopub.status.busy": "2021-10-21T00:22:44.213647Z",
     "iopub.status.idle": "2021-10-21T00:22:44.218667Z",
     "shell.execute_reply": "2021-10-21T00:22:44.219182Z"
    }
   },
   "outputs": [],
   "source": [
    "try:\n",
    "    assert not len(export_df) < lake_len\n",
    "except AssertionError:\n",
    "    raise AssertionError(\"Lake County scraper: spreadsheet is missing row(s)\")"
   ]
  },
  {
   "cell_type": "markdown",
   "metadata": {},
   "source": [
    "### Export csv file"
   ]
  },
  {
   "cell_type": "markdown",
   "metadata": {},
   "source": [
    "Write csv file timestamped with today's date"
   ]
  },
  {
   "cell_type": "code",
   "execution_count": 31,
   "metadata": {
    "execution": {
     "iopub.execute_input": "2021-10-21T00:22:44.224978Z",
     "iopub.status.busy": "2021-10-21T00:22:44.224323Z",
     "iopub.status.idle": "2021-10-21T00:22:44.229496Z",
     "shell.execute_reply": "2021-10-21T00:22:44.228905Z"
    }
   },
   "outputs": [],
   "source": [
    "slug = \"lake\""
   ]
  },
  {
   "cell_type": "code",
   "execution_count": 32,
   "metadata": {
    "execution": {
     "iopub.execute_input": "2021-10-21T00:22:44.240917Z",
     "iopub.status.busy": "2021-10-21T00:22:44.239861Z",
     "iopub.status.idle": "2021-10-21T00:22:44.382562Z",
     "shell.execute_reply": "2021-10-21T00:22:44.380063Z"
    }
   },
   "outputs": [
    {
     "ename": "NameError",
     "evalue": "name 'today' is not defined",
     "output_type": "error",
     "traceback": [
      "\u001b[0;31m---------------------------------------------------------------------------\u001b[0m",
      "\u001b[0;31mNameError\u001b[0m                                 Traceback (most recent call last)",
      "\u001b[0;32m/tmp/ipykernel_3052/2436362009.py\u001b[0m in \u001b[0;36m<module>\u001b[0;34m\u001b[0m\n\u001b[0;32m----> 1\u001b[0;31m \u001b[0mexport_df\u001b[0m\u001b[0;34m.\u001b[0m\u001b[0mto_csv\u001b[0m\u001b[0;34m(\u001b[0m\u001b[0mdata_dir\u001b[0m \u001b[0;34m/\u001b[0m \u001b[0mslug\u001b[0m \u001b[0;34m/\u001b[0m \u001b[0;34mf\"{today}.csv\"\u001b[0m\u001b[0;34m,\u001b[0m \u001b[0mindex\u001b[0m\u001b[0;34m=\u001b[0m\u001b[0;32mFalse\u001b[0m\u001b[0;34m)\u001b[0m\u001b[0;34m\u001b[0m\u001b[0;34m\u001b[0m\u001b[0m\n\u001b[0m",
      "\u001b[0;31mNameError\u001b[0m: name 'today' is not defined"
     ]
    }
   ],
   "source": [
    "export_df.to_csv(data_dir / slug / f\"{today}.csv\", index=False)"
   ]
  },
  {
   "cell_type": "markdown",
   "metadata": {},
   "source": [
    "## Combine"
   ]
  },
  {
   "cell_type": "code",
   "execution_count": 260,
   "metadata": {},
   "outputs": [],
   "source": [
    "csv_list = [\n",
    "    i\n",
    "    for i in glob.glob(str(data_dir / slug / \"*.csv\"))\n",
    "    if not str(i).endswith(\"timeseries.csv\")\n",
    "]"
   ]
  },
  {
   "cell_type": "code",
   "execution_count": 261,
   "metadata": {},
   "outputs": [],
   "source": [
    "df_list = []\n",
    "for csv in csv_list:\n",
    "    if \"manual\" in csv:\n",
    "        df = pd.read_csv(csv, parse_dates=[\"date\"])\n",
    "    else:\n",
    "        file_date = csv.split(\"/\")[-1].replace(\".csv\", \"\")\n",
    "        df = pd.read_csv(csv, parse_dates=[\"county_date\"])\n",
    "        df[\"date\"] = file_date\n",
    "    df_list.append(df)"
   ]
  },
  {
   "cell_type": "code",
   "execution_count": 262,
   "metadata": {},
   "outputs": [],
   "source": [
    "df = pd.concat(df_list).sort_values([\"date\", \"area\"])"
   ]
  },
  {
   "cell_type": "code",
   "execution_count": 263,
   "metadata": {},
   "outputs": [],
   "source": [
    "df.to_csv(data_dir / slug / \"timeseries.csv\", index=False)"
   ]
  }
 ],
 "metadata": {
  "kernelspec": {
   "display_name": "Python 3 (ipykernel)",
   "language": "python",
   "name": "python3"
  },
  "language_info": {
   "codemirror_mode": {
    "name": "ipython",
    "version": 3
   },
   "file_extension": ".py",
   "mimetype": "text/x-python",
   "name": "python",
   "nbconvert_exporter": "python",
   "pygments_lexer": "ipython3",
   "version": "3.8.12"
  }
 },
 "nbformat": 4,
 "nbformat_minor": 4
}
