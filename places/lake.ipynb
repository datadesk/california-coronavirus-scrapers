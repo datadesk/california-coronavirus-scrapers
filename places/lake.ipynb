{
 "cells": [
  {
   "cell_type": "markdown",
   "metadata": {},
   "source": [
    "## Configuration\n",
    "_Initial steps to get the notebook ready to play nice with our repository. Do not delete this section._"
   ]
  },
  {
   "cell_type": "markdown",
   "metadata": {},
   "source": [
    "Code formatting with [black](https://pypi.org/project/nb-black/)."
   ]
  },
  {
   "cell_type": "code",
   "execution_count": 1,
   "metadata": {
    "execution": {
     "iopub.execute_input": "2021-10-23T04:20:35.185648Z",
     "iopub.status.busy": "2021-10-23T04:20:35.185048Z",
     "iopub.status.idle": "2021-10-23T04:20:35.332003Z",
     "shell.execute_reply": "2021-10-23T04:20:35.331354Z"
    }
   },
   "outputs": [],
   "source": [
    "%load_ext lab_black"
   ]
  },
  {
   "cell_type": "code",
   "execution_count": 2,
   "metadata": {
    "execution": {
     "iopub.execute_input": "2021-10-23T04:20:35.345556Z",
     "iopub.status.busy": "2021-10-23T04:20:35.338685Z",
     "iopub.status.idle": "2021-10-23T04:20:35.348866Z",
     "shell.execute_reply": "2021-10-23T04:20:35.348342Z"
    }
   },
   "outputs": [],
   "source": [
    "import os\n",
    "import pathlib"
   ]
  },
  {
   "cell_type": "code",
   "execution_count": 3,
   "metadata": {
    "execution": {
     "iopub.execute_input": "2021-10-23T04:20:35.355951Z",
     "iopub.status.busy": "2021-10-23T04:20:35.352977Z",
     "iopub.status.idle": "2021-10-23T04:20:35.359222Z",
     "shell.execute_reply": "2021-10-23T04:20:35.358677Z"
    }
   },
   "outputs": [],
   "source": [
    "this_dir = pathlib.Path(os.path.abspath(\"\"))"
   ]
  },
  {
   "cell_type": "code",
   "execution_count": 4,
   "metadata": {
    "execution": {
     "iopub.execute_input": "2021-10-23T04:20:35.365270Z",
     "iopub.status.busy": "2021-10-23T04:20:35.364677Z",
     "iopub.status.idle": "2021-10-23T04:20:35.368464Z",
     "shell.execute_reply": "2021-10-23T04:20:35.367864Z"
    }
   },
   "outputs": [],
   "source": [
    "data_dir = this_dir / \"data\""
   ]
  },
  {
   "cell_type": "code",
   "execution_count": 5,
   "metadata": {
    "execution": {
     "iopub.execute_input": "2021-10-23T04:20:35.373243Z",
     "iopub.status.busy": "2021-10-23T04:20:35.372640Z",
     "iopub.status.idle": "2021-10-23T04:20:35.828420Z",
     "shell.execute_reply": "2021-10-23T04:20:35.827845Z"
    }
   },
   "outputs": [],
   "source": [
    "import re\n",
    "import pytz\n",
    "import glob\n",
    "import requests\n",
    "import unicodedata\n",
    "import json\n",
    "import pandas as pd\n",
    "from datetime import datetime\n",
    "from bs4 import BeautifulSoup"
   ]
  },
  {
   "cell_type": "markdown",
   "metadata": {},
   "source": [
    "### Download / retrieve the page"
   ]
  },
  {
   "cell_type": "markdown",
   "metadata": {},
   "source": [
    "Lake County's [dashboard](http://health.co.lake.ca.us/Coronavirus/COVID-19_Data.htm) uses Datawrapper to display cases by ZIP Code. To make sure we get the latest, we'll hit the chart page on Datawrapper's website, then get the iframe URL."
   ]
  },
  {
   "cell_type": "code",
   "execution_count": 6,
   "metadata": {
    "execution": {
     "iopub.execute_input": "2021-10-23T04:20:35.833101Z",
     "iopub.status.busy": "2021-10-23T04:20:35.832521Z",
     "iopub.status.idle": "2021-10-23T04:20:35.835460Z",
     "shell.execute_reply": "2021-10-23T04:20:35.835879Z"
    }
   },
   "outputs": [],
   "source": [
    "url = \"https://www.datawrapper.de/_/D1RaA/\""
   ]
  },
  {
   "cell_type": "code",
   "execution_count": 7,
   "metadata": {
    "execution": {
     "iopub.execute_input": "2021-10-23T04:20:35.843550Z",
     "iopub.status.busy": "2021-10-23T04:20:35.839603Z",
     "iopub.status.idle": "2021-10-23T04:20:36.376557Z",
     "shell.execute_reply": "2021-10-23T04:20:36.377059Z"
    }
   },
   "outputs": [],
   "source": [
    "page = requests.get(url)"
   ]
  },
  {
   "cell_type": "markdown",
   "metadata": {},
   "source": [
    "### Parse with BeautifulSoup"
   ]
  },
  {
   "cell_type": "code",
   "execution_count": 8,
   "metadata": {
    "execution": {
     "iopub.execute_input": "2021-10-23T04:20:36.384263Z",
     "iopub.status.busy": "2021-10-23T04:20:36.383167Z",
     "iopub.status.idle": "2021-10-23T04:20:36.386602Z",
     "shell.execute_reply": "2021-10-23T04:20:36.387112Z"
    }
   },
   "outputs": [],
   "source": [
    "soup = BeautifulSoup(page.content, \"html.parser\")"
   ]
  },
  {
   "cell_type": "code",
   "execution_count": 9,
   "metadata": {
    "execution": {
     "iopub.execute_input": "2021-10-23T04:20:36.391673Z",
     "iopub.status.busy": "2021-10-23T04:20:36.391036Z",
     "iopub.status.idle": "2021-10-23T04:20:36.396376Z",
     "shell.execute_reply": "2021-10-23T04:20:36.396889Z"
    }
   },
   "outputs": [],
   "source": [
    "meta = soup.find(\"meta\", {\"property\": \"og:url\"})"
   ]
  },
  {
   "cell_type": "code",
   "execution_count": 10,
   "metadata": {
    "execution": {
     "iopub.execute_input": "2021-10-23T04:20:36.402787Z",
     "iopub.status.busy": "2021-10-23T04:20:36.401569Z",
     "iopub.status.idle": "2021-10-23T04:20:36.405509Z",
     "shell.execute_reply": "2021-10-23T04:20:36.406349Z"
    }
   },
   "outputs": [],
   "source": [
    "dw_url = meta[\"content\"]"
   ]
  },
  {
   "cell_type": "markdown",
   "metadata": {},
   "source": [
    "### Parse Datawrapper"
   ]
  },
  {
   "cell_type": "code",
   "execution_count": 11,
   "metadata": {
    "execution": {
     "iopub.execute_input": "2021-10-23T04:20:36.410759Z",
     "iopub.status.busy": "2021-10-23T04:20:36.410178Z",
     "iopub.status.idle": "2021-10-23T04:20:36.414212Z",
     "shell.execute_reply": "2021-10-23T04:20:36.413263Z"
    }
   },
   "outputs": [],
   "source": [
    "dataset_url = dw_url + \"dataset.csv\""
   ]
  },
  {
   "cell_type": "code",
   "execution_count": 12,
   "metadata": {
    "execution": {
     "iopub.execute_input": "2021-10-23T04:20:36.422347Z",
     "iopub.status.busy": "2021-10-23T04:20:36.421626Z",
     "iopub.status.idle": "2021-10-23T04:20:36.510190Z",
     "shell.execute_reply": "2021-10-23T04:20:36.509544Z"
    }
   },
   "outputs": [],
   "source": [
    "dw_r = requests.get(dataset_url)"
   ]
  },
  {
   "cell_type": "code",
   "execution_count": 13,
   "metadata": {
    "execution": {
     "iopub.execute_input": "2021-10-23T04:20:36.518828Z",
     "iopub.status.busy": "2021-10-23T04:20:36.517817Z",
     "iopub.status.idle": "2021-10-23T04:20:36.522400Z",
     "shell.execute_reply": "2021-10-23T04:20:36.521825Z"
    }
   },
   "outputs": [],
   "source": [
    "string = dw_r.text"
   ]
  },
  {
   "cell_type": "code",
   "execution_count": 14,
   "metadata": {
    "execution": {
     "iopub.execute_input": "2021-10-23T04:20:36.528827Z",
     "iopub.status.busy": "2021-10-23T04:20:36.527725Z",
     "iopub.status.idle": "2021-10-23T04:20:36.529767Z",
     "shell.execute_reply": "2021-10-23T04:20:36.530312Z"
    }
   },
   "outputs": [],
   "source": [
    "parsed = string.split(\"\\r\\n\")"
   ]
  },
  {
   "cell_type": "code",
   "execution_count": 15,
   "metadata": {
    "execution": {
     "iopub.execute_input": "2021-10-23T04:20:36.535142Z",
     "iopub.status.busy": "2021-10-23T04:20:36.534572Z",
     "iopub.status.idle": "2021-10-23T04:20:36.539585Z",
     "shell.execute_reply": "2021-10-23T04:20:36.540046Z"
    }
   },
   "outputs": [],
   "source": [
    "data_list = []\n",
    "for row in parsed:\n",
    "    cell = row.split(\",\")\n",
    "    data_list.append(cell)"
   ]
  },
  {
   "cell_type": "code",
   "execution_count": 16,
   "metadata": {
    "execution": {
     "iopub.execute_input": "2021-10-23T04:20:36.553557Z",
     "iopub.status.busy": "2021-10-23T04:20:36.552329Z",
     "iopub.status.idle": "2021-10-23T04:20:36.556004Z",
     "shell.execute_reply": "2021-10-23T04:20:36.556546Z"
    }
   },
   "outputs": [
    {
     "data": {
      "text/plain": [
       "[['Supervisorial District', 'District Total', 'Zip Code', 'Zip Code Total'],\n",
       " ['District 1', '771', '95457', '261'],\n",
       " ['', '', '95467', '344'],\n",
       " ['', '', '95461', '166'],\n",
       " ['District 2', '1647', '95422', '1627'],\n",
       " ['', '', '95424', '20'],\n",
       " ['District 3', '1100', '95423', '256'],\n",
       " ['', '', '95458', '271'],\n",
       " ['', '', '95464', '261'],\n",
       " ['', '', '95485', '291'],\n",
       " ['', '', '95493', '11'],\n",
       " ['', '', '95443', '10'],\n",
       " ['District 4', '1434', '95453', '1388'],\n",
       " ['', '', '95435', '46'],\n",
       " ['District 5', '1150', '95426', '62'],\n",
       " ['', '', '95451', '1088'],\n",
       " ['Unknown or Other', '99', 'Unknown/other', '99']]"
      ]
     },
     "execution_count": 16,
     "metadata": {},
     "output_type": "execute_result"
    }
   ],
   "source": [
    "data_list"
   ]
  },
  {
   "cell_type": "code",
   "execution_count": 17,
   "metadata": {
    "execution": {
     "iopub.execute_input": "2021-10-23T04:20:36.562464Z",
     "iopub.status.busy": "2021-10-23T04:20:36.561860Z",
     "iopub.status.idle": "2021-10-23T04:20:36.566493Z",
     "shell.execute_reply": "2021-10-23T04:20:36.565961Z"
    }
   },
   "outputs": [],
   "source": [
    "df = pd.DataFrame(data_list[1:], columns=data_list[0])"
   ]
  },
  {
   "cell_type": "markdown",
   "metadata": {},
   "source": [
    "### Get timestamp"
   ]
  },
  {
   "cell_type": "code",
   "execution_count": 18,
   "metadata": {
    "execution": {
     "iopub.execute_input": "2021-10-23T04:20:36.571042Z",
     "iopub.status.busy": "2021-10-23T04:20:36.570454Z",
     "iopub.status.idle": "2021-10-23T04:20:36.577018Z",
     "shell.execute_reply": "2021-10-23T04:20:36.577522Z"
    }
   },
   "outputs": [],
   "source": [
    "title_tag = soup.find(\"meta\", {\"property\": \"og:title\"})"
   ]
  },
  {
   "cell_type": "code",
   "execution_count": 19,
   "metadata": {
    "execution": {
     "iopub.execute_input": "2021-10-23T04:20:36.581941Z",
     "iopub.status.busy": "2021-10-23T04:20:36.581350Z",
     "iopub.status.idle": "2021-10-23T04:20:36.584952Z",
     "shell.execute_reply": "2021-10-23T04:20:36.585385Z"
    }
   },
   "outputs": [],
   "source": [
    "title_str = title_tag[\"content\"]"
   ]
  },
  {
   "cell_type": "code",
   "execution_count": 20,
   "metadata": {
    "execution": {
     "iopub.execute_input": "2021-10-23T04:20:36.590785Z",
     "iopub.status.busy": "2021-10-23T04:20:36.589659Z",
     "iopub.status.idle": "2021-10-23T04:20:36.593007Z",
     "shell.execute_reply": "2021-10-23T04:20:36.593468Z"
    }
   },
   "outputs": [
    {
     "data": {
      "text/plain": [
       "'Lake County COVID-19 cases, by district and zip code, through 9/30/21 | Created with Datawrapper'"
      ]
     },
     "execution_count": 20,
     "metadata": {},
     "output_type": "execute_result"
    }
   ],
   "source": [
    "title_str"
   ]
  },
  {
   "cell_type": "code",
   "execution_count": 21,
   "metadata": {
    "execution": {
     "iopub.execute_input": "2021-10-23T04:20:36.597861Z",
     "iopub.status.busy": "2021-10-23T04:20:36.597280Z",
     "iopub.status.idle": "2021-10-23T04:20:36.600794Z",
     "shell.execute_reply": "2021-10-23T04:20:36.601260Z"
    }
   },
   "outputs": [],
   "source": [
    "date_regex = re.search(r\"(\\d+/\\d+/\\d+)\", title_str)"
   ]
  },
  {
   "cell_type": "code",
   "execution_count": 22,
   "metadata": {
    "execution": {
     "iopub.execute_input": "2021-10-23T04:20:36.606129Z",
     "iopub.status.busy": "2021-10-23T04:20:36.605056Z",
     "iopub.status.idle": "2021-10-23T04:20:36.608567Z",
     "shell.execute_reply": "2021-10-23T04:20:36.608998Z"
    }
   },
   "outputs": [],
   "source": [
    "date_str = date_regex.group(1)"
   ]
  },
  {
   "cell_type": "code",
   "execution_count": 23,
   "metadata": {
    "execution": {
     "iopub.execute_input": "2021-10-23T04:20:36.617066Z",
     "iopub.status.busy": "2021-10-23T04:20:36.615709Z",
     "iopub.status.idle": "2021-10-23T04:20:36.617732Z",
     "shell.execute_reply": "2021-10-23T04:20:36.618266Z"
    }
   },
   "outputs": [],
   "source": [
    "latest_date = pd.to_datetime(date_str).date()"
   ]
  },
  {
   "cell_type": "code",
   "execution_count": 24,
   "metadata": {
    "execution": {
     "iopub.execute_input": "2021-10-23T04:20:36.624410Z",
     "iopub.status.busy": "2021-10-23T04:20:36.623375Z",
     "iopub.status.idle": "2021-10-23T04:20:36.628388Z",
     "shell.execute_reply": "2021-10-23T04:20:36.628869Z"
    }
   },
   "outputs": [],
   "source": [
    "df[\"county_date\"] = latest_date"
   ]
  },
  {
   "cell_type": "markdown",
   "metadata": {},
   "source": [
    "### Rename and drop columns"
   ]
  },
  {
   "cell_type": "code",
   "execution_count": 25,
   "metadata": {
    "execution": {
     "iopub.execute_input": "2021-10-23T04:20:36.635622Z",
     "iopub.status.busy": "2021-10-23T04:20:36.635058Z",
     "iopub.status.idle": "2021-10-23T04:20:36.640547Z",
     "shell.execute_reply": "2021-10-23T04:20:36.639570Z"
    }
   },
   "outputs": [],
   "source": [
    "cols = {\"Zip Code\": \"area\", \"Zip Code Total\": \"confirmed_cases\"}"
   ]
  },
  {
   "cell_type": "code",
   "execution_count": 26,
   "metadata": {
    "execution": {
     "iopub.execute_input": "2021-10-23T04:20:36.649904Z",
     "iopub.status.busy": "2021-10-23T04:20:36.648682Z",
     "iopub.status.idle": "2021-10-23T04:20:36.652773Z",
     "shell.execute_reply": "2021-10-23T04:20:36.653264Z"
    }
   },
   "outputs": [],
   "source": [
    "export_df = df.rename(columns=cols)[[\"area\", \"confirmed_cases\", \"county_date\"]]"
   ]
  },
  {
   "cell_type": "code",
   "execution_count": 27,
   "metadata": {
    "execution": {
     "iopub.execute_input": "2021-10-23T04:20:36.657951Z",
     "iopub.status.busy": "2021-10-23T04:20:36.657343Z",
     "iopub.status.idle": "2021-10-23T04:20:36.663519Z",
     "shell.execute_reply": "2021-10-23T04:20:36.664077Z"
    }
   },
   "outputs": [
    {
     "data": {
      "text/plain": [
       "16"
      ]
     },
     "execution_count": 27,
     "metadata": {},
     "output_type": "execute_result"
    }
   ],
   "source": [
    "len(export_df)"
   ]
  },
  {
   "cell_type": "markdown",
   "metadata": {},
   "source": [
    "### Vet"
   ]
  },
  {
   "cell_type": "markdown",
   "metadata": {},
   "source": [
    "Lake County has 16 ZIP code areas, including \"Unknown\""
   ]
  },
  {
   "cell_type": "code",
   "execution_count": 28,
   "metadata": {
    "execution": {
     "iopub.execute_input": "2021-10-23T04:20:36.669484Z",
     "iopub.status.busy": "2021-10-23T04:20:36.668890Z",
     "iopub.status.idle": "2021-10-23T04:20:36.672559Z",
     "shell.execute_reply": "2021-10-23T04:20:36.673324Z"
    }
   },
   "outputs": [],
   "source": [
    "lake_len = 16"
   ]
  },
  {
   "cell_type": "code",
   "execution_count": 29,
   "metadata": {
    "execution": {
     "iopub.execute_input": "2021-10-23T04:20:36.681882Z",
     "iopub.status.busy": "2021-10-23T04:20:36.679783Z",
     "iopub.status.idle": "2021-10-23T04:20:36.684773Z",
     "shell.execute_reply": "2021-10-23T04:20:36.683904Z"
    }
   },
   "outputs": [],
   "source": [
    "try:\n",
    "    assert not len(export_df) > lake_len\n",
    "except AssertionError:\n",
    "    raise AssertionError(\n",
    "        \"Lake County scraper: spreadsheet has additional zip code(s) than previous\"\n",
    "    )"
   ]
  },
  {
   "cell_type": "code",
   "execution_count": 30,
   "metadata": {
    "execution": {
     "iopub.execute_input": "2021-10-23T04:20:36.690588Z",
     "iopub.status.busy": "2021-10-23T04:20:36.689086Z",
     "iopub.status.idle": "2021-10-23T04:20:36.693434Z",
     "shell.execute_reply": "2021-10-23T04:20:36.693938Z"
    }
   },
   "outputs": [],
   "source": [
    "try:\n",
    "    assert not len(export_df) < lake_len\n",
    "except AssertionError:\n",
    "    raise AssertionError(\"Lake County scraper: spreadsheet is missing row(s)\")"
   ]
  },
  {
   "cell_type": "markdown",
   "metadata": {},
   "source": [
    "### Export csv file"
   ]
  },
  {
   "cell_type": "markdown",
   "metadata": {},
   "source": [
    "Write csv file timestamped with today's date"
   ]
  },
  {
   "cell_type": "code",
   "execution_count": 31,
   "metadata": {
    "execution": {
     "iopub.execute_input": "2021-10-23T04:20:36.699019Z",
     "iopub.status.busy": "2021-10-23T04:20:36.697911Z",
     "iopub.status.idle": "2021-10-23T04:20:36.702274Z",
     "shell.execute_reply": "2021-10-23T04:20:36.701726Z"
    }
   },
   "outputs": [],
   "source": [
    "slug = \"lake\""
   ]
  },
  {
   "cell_type": "code",
   "execution_count": 32,
   "metadata": {
    "execution": {
     "iopub.execute_input": "2021-10-23T04:20:36.707007Z",
     "iopub.status.busy": "2021-10-23T04:20:36.705430Z",
     "iopub.status.idle": "2021-10-23T04:20:36.835729Z",
     "shell.execute_reply": "2021-10-23T04:20:36.834594Z"
    }
   },
   "outputs": [
    {
     "ename": "NameError",
     "evalue": "name 'today' is not defined",
     "output_type": "error",
     "traceback": [
      "\u001b[0;31m---------------------------------------------------------------------------\u001b[0m",
      "\u001b[0;31mNameError\u001b[0m                                 Traceback (most recent call last)",
      "\u001b[0;32m/tmp/ipykernel_3487/2436362009.py\u001b[0m in \u001b[0;36m<module>\u001b[0;34m\u001b[0m\n\u001b[0;32m----> 1\u001b[0;31m \u001b[0mexport_df\u001b[0m\u001b[0;34m.\u001b[0m\u001b[0mto_csv\u001b[0m\u001b[0;34m(\u001b[0m\u001b[0mdata_dir\u001b[0m \u001b[0;34m/\u001b[0m \u001b[0mslug\u001b[0m \u001b[0;34m/\u001b[0m \u001b[0;34mf\"{today}.csv\"\u001b[0m\u001b[0;34m,\u001b[0m \u001b[0mindex\u001b[0m\u001b[0;34m=\u001b[0m\u001b[0;32mFalse\u001b[0m\u001b[0;34m)\u001b[0m\u001b[0;34m\u001b[0m\u001b[0;34m\u001b[0m\u001b[0m\n\u001b[0m",
      "\u001b[0;31mNameError\u001b[0m: name 'today' is not defined"
     ]
    }
   ],
   "source": [
    "export_df.to_csv(data_dir / slug / f\"{today}.csv\", index=False)"
   ]
  },
  {
   "cell_type": "markdown",
   "metadata": {},
   "source": [
    "## Combine"
   ]
  },
  {
   "cell_type": "code",
   "execution_count": 260,
   "metadata": {},
   "outputs": [],
   "source": [
    "csv_list = [\n",
    "    i\n",
    "    for i in glob.glob(str(data_dir / slug / \"*.csv\"))\n",
    "    if not str(i).endswith(\"timeseries.csv\")\n",
    "]"
   ]
  },
  {
   "cell_type": "code",
   "execution_count": 261,
   "metadata": {},
   "outputs": [],
   "source": [
    "df_list = []\n",
    "for csv in csv_list:\n",
    "    if \"manual\" in csv:\n",
    "        df = pd.read_csv(csv, parse_dates=[\"date\"])\n",
    "    else:\n",
    "        file_date = csv.split(\"/\")[-1].replace(\".csv\", \"\")\n",
    "        df = pd.read_csv(csv, parse_dates=[\"county_date\"])\n",
    "        df[\"date\"] = file_date\n",
    "    df_list.append(df)"
   ]
  },
  {
   "cell_type": "code",
   "execution_count": 262,
   "metadata": {},
   "outputs": [],
   "source": [
    "df = pd.concat(df_list).sort_values([\"date\", \"area\"])"
   ]
  },
  {
   "cell_type": "code",
   "execution_count": 263,
   "metadata": {},
   "outputs": [],
   "source": [
    "df.to_csv(data_dir / slug / \"timeseries.csv\", index=False)"
   ]
  }
 ],
 "metadata": {
  "kernelspec": {
   "display_name": "Python 3 (ipykernel)",
   "language": "python",
   "name": "python3"
  },
  "language_info": {
   "codemirror_mode": {
    "name": "ipython",
    "version": 3
   },
   "file_extension": ".py",
   "mimetype": "text/x-python",
   "name": "python",
   "nbconvert_exporter": "python",
   "pygments_lexer": "ipython3",
   "version": "3.8.12"
  }
 },
 "nbformat": 4,
 "nbformat_minor": 4
}
