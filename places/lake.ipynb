{
 "cells": [
  {
   "cell_type": "markdown",
   "metadata": {},
   "source": [
    "## Configuration\n",
    "_Initial steps to get the notebook ready to play nice with our repository. Do not delete this section._"
   ]
  },
  {
   "cell_type": "markdown",
   "metadata": {},
   "source": [
    "Code formatting with [black](https://pypi.org/project/nb-black/)."
   ]
  },
  {
   "cell_type": "code",
   "execution_count": 1,
   "metadata": {
    "execution": {
     "iopub.execute_input": "2021-10-22T16:20:32.176617Z",
     "iopub.status.busy": "2021-10-22T16:20:32.175721Z",
     "iopub.status.idle": "2021-10-22T16:20:32.292352Z",
     "shell.execute_reply": "2021-10-22T16:20:32.291581Z"
    }
   },
   "outputs": [],
   "source": [
    "%load_ext lab_black"
   ]
  },
  {
   "cell_type": "code",
   "execution_count": 2,
   "metadata": {
    "execution": {
     "iopub.execute_input": "2021-10-22T16:20:32.298474Z",
     "iopub.status.busy": "2021-10-22T16:20:32.297085Z",
     "iopub.status.idle": "2021-10-22T16:20:32.299778Z",
     "shell.execute_reply": "2021-10-22T16:20:32.299196Z"
    }
   },
   "outputs": [],
   "source": [
    "import os\n",
    "import pathlib"
   ]
  },
  {
   "cell_type": "code",
   "execution_count": 3,
   "metadata": {
    "execution": {
     "iopub.execute_input": "2021-10-22T16:20:32.306479Z",
     "iopub.status.busy": "2021-10-22T16:20:32.305178Z",
     "iopub.status.idle": "2021-10-22T16:20:32.307009Z",
     "shell.execute_reply": "2021-10-22T16:20:32.307312Z"
    }
   },
   "outputs": [],
   "source": [
    "this_dir = pathlib.Path(os.path.abspath(\"\"))"
   ]
  },
  {
   "cell_type": "code",
   "execution_count": 4,
   "metadata": {
    "execution": {
     "iopub.execute_input": "2021-10-22T16:20:32.312212Z",
     "iopub.status.busy": "2021-10-22T16:20:32.311012Z",
     "iopub.status.idle": "2021-10-22T16:20:32.312750Z",
     "shell.execute_reply": "2021-10-22T16:20:32.313084Z"
    }
   },
   "outputs": [],
   "source": [
    "data_dir = this_dir / \"data\""
   ]
  },
  {
   "cell_type": "code",
   "execution_count": 5,
   "metadata": {
    "execution": {
     "iopub.execute_input": "2021-10-22T16:20:32.316056Z",
     "iopub.status.busy": "2021-10-22T16:20:32.315638Z",
     "iopub.status.idle": "2021-10-22T16:20:32.677076Z",
     "shell.execute_reply": "2021-10-22T16:20:32.676093Z"
    }
   },
   "outputs": [],
   "source": [
    "import re\n",
    "import pytz\n",
    "import glob\n",
    "import requests\n",
    "import unicodedata\n",
    "import json\n",
    "import pandas as pd\n",
    "from datetime import datetime\n",
    "from bs4 import BeautifulSoup"
   ]
  },
  {
   "cell_type": "markdown",
   "metadata": {},
   "source": [
    "### Download / retrieve the page"
   ]
  },
  {
   "cell_type": "markdown",
   "metadata": {},
   "source": [
    "Lake County's [dashboard](http://health.co.lake.ca.us/Coronavirus/COVID-19_Data.htm) uses Datawrapper to display cases by ZIP Code. To make sure we get the latest, we'll hit the chart page on Datawrapper's website, then get the iframe URL."
   ]
  },
  {
   "cell_type": "code",
   "execution_count": 6,
   "metadata": {
    "execution": {
     "iopub.execute_input": "2021-10-22T16:20:32.681803Z",
     "iopub.status.busy": "2021-10-22T16:20:32.681267Z",
     "iopub.status.idle": "2021-10-22T16:20:32.684376Z",
     "shell.execute_reply": "2021-10-22T16:20:32.684038Z"
    }
   },
   "outputs": [],
   "source": [
    "url = \"https://www.datawrapper.de/_/D1RaA/\""
   ]
  },
  {
   "cell_type": "code",
   "execution_count": 7,
   "metadata": {
    "execution": {
     "iopub.execute_input": "2021-10-22T16:20:32.687728Z",
     "iopub.status.busy": "2021-10-22T16:20:32.687307Z",
     "iopub.status.idle": "2021-10-22T16:20:32.810524Z",
     "shell.execute_reply": "2021-10-22T16:20:32.810884Z"
    }
   },
   "outputs": [],
   "source": [
    "page = requests.get(url)"
   ]
  },
  {
   "cell_type": "markdown",
   "metadata": {},
   "source": [
    "### Parse with BeautifulSoup"
   ]
  },
  {
   "cell_type": "code",
   "execution_count": 8,
   "metadata": {
    "execution": {
     "iopub.execute_input": "2021-10-22T16:20:32.818951Z",
     "iopub.status.busy": "2021-10-22T16:20:32.817498Z",
     "iopub.status.idle": "2021-10-22T16:20:32.821832Z",
     "shell.execute_reply": "2021-10-22T16:20:32.821370Z"
    }
   },
   "outputs": [],
   "source": [
    "soup = BeautifulSoup(page.content, \"html.parser\")"
   ]
  },
  {
   "cell_type": "code",
   "execution_count": 9,
   "metadata": {
    "execution": {
     "iopub.execute_input": "2021-10-22T16:20:32.827863Z",
     "iopub.status.busy": "2021-10-22T16:20:32.826556Z",
     "iopub.status.idle": "2021-10-22T16:20:32.830909Z",
     "shell.execute_reply": "2021-10-22T16:20:32.830533Z"
    }
   },
   "outputs": [],
   "source": [
    "meta = soup.find(\"meta\", {\"property\": \"og:url\"})"
   ]
  },
  {
   "cell_type": "code",
   "execution_count": 10,
   "metadata": {
    "execution": {
     "iopub.execute_input": "2021-10-22T16:20:32.835271Z",
     "iopub.status.busy": "2021-10-22T16:20:32.834821Z",
     "iopub.status.idle": "2021-10-22T16:20:32.838846Z",
     "shell.execute_reply": "2021-10-22T16:20:32.838395Z"
    }
   },
   "outputs": [],
   "source": [
    "dw_url = meta[\"content\"]"
   ]
  },
  {
   "cell_type": "markdown",
   "metadata": {},
   "source": [
    "### Parse Datawrapper"
   ]
  },
  {
   "cell_type": "code",
   "execution_count": 11,
   "metadata": {
    "execution": {
     "iopub.execute_input": "2021-10-22T16:20:32.843561Z",
     "iopub.status.busy": "2021-10-22T16:20:32.842577Z",
     "iopub.status.idle": "2021-10-22T16:20:32.846120Z",
     "shell.execute_reply": "2021-10-22T16:20:32.845728Z"
    }
   },
   "outputs": [],
   "source": [
    "dataset_url = dw_url + \"dataset.csv\""
   ]
  },
  {
   "cell_type": "code",
   "execution_count": 12,
   "metadata": {
    "execution": {
     "iopub.execute_input": "2021-10-22T16:20:32.852273Z",
     "iopub.status.busy": "2021-10-22T16:20:32.851864Z",
     "iopub.status.idle": "2021-10-22T16:20:32.944694Z",
     "shell.execute_reply": "2021-10-22T16:20:32.943816Z"
    }
   },
   "outputs": [],
   "source": [
    "dw_r = requests.get(dataset_url)"
   ]
  },
  {
   "cell_type": "code",
   "execution_count": 13,
   "metadata": {
    "execution": {
     "iopub.execute_input": "2021-10-22T16:20:32.952491Z",
     "iopub.status.busy": "2021-10-22T16:20:32.952067Z",
     "iopub.status.idle": "2021-10-22T16:20:32.955975Z",
     "shell.execute_reply": "2021-10-22T16:20:32.955605Z"
    }
   },
   "outputs": [],
   "source": [
    "string = dw_r.text"
   ]
  },
  {
   "cell_type": "code",
   "execution_count": 14,
   "metadata": {
    "execution": {
     "iopub.execute_input": "2021-10-22T16:20:32.960331Z",
     "iopub.status.busy": "2021-10-22T16:20:32.959438Z",
     "iopub.status.idle": "2021-10-22T16:20:32.962785Z",
     "shell.execute_reply": "2021-10-22T16:20:32.963172Z"
    }
   },
   "outputs": [],
   "source": [
    "parsed = string.split(\"\\r\\n\")"
   ]
  },
  {
   "cell_type": "code",
   "execution_count": 15,
   "metadata": {
    "execution": {
     "iopub.execute_input": "2021-10-22T16:20:32.967992Z",
     "iopub.status.busy": "2021-10-22T16:20:32.965902Z",
     "iopub.status.idle": "2021-10-22T16:20:32.971190Z",
     "shell.execute_reply": "2021-10-22T16:20:32.970776Z"
    }
   },
   "outputs": [],
   "source": [
    "data_list = []\n",
    "for row in parsed:\n",
    "    cell = row.split(\",\")\n",
    "    data_list.append(cell)"
   ]
  },
  {
   "cell_type": "code",
   "execution_count": 16,
   "metadata": {
    "execution": {
     "iopub.execute_input": "2021-10-22T16:20:32.980670Z",
     "iopub.status.busy": "2021-10-22T16:20:32.978511Z",
     "iopub.status.idle": "2021-10-22T16:20:32.985449Z",
     "shell.execute_reply": "2021-10-22T16:20:32.985091Z"
    }
   },
   "outputs": [
    {
     "data": {
      "text/plain": [
       "[['Supervisorial District', 'District Total', 'Zip Code', 'Zip Code Total'],\n",
       " ['District 1', '771', '95457', '261'],\n",
       " ['', '', '95467', '344'],\n",
       " ['', '', '95461', '166'],\n",
       " ['District 2', '1647', '95422', '1627'],\n",
       " ['', '', '95424', '20'],\n",
       " ['District 3', '1100', '95423', '256'],\n",
       " ['', '', '95458', '271'],\n",
       " ['', '', '95464', '261'],\n",
       " ['', '', '95485', '291'],\n",
       " ['', '', '95493', '11'],\n",
       " ['', '', '95443', '10'],\n",
       " ['District 4', '1434', '95453', '1388'],\n",
       " ['', '', '95435', '46'],\n",
       " ['District 5', '1150', '95426', '62'],\n",
       " ['', '', '95451', '1088'],\n",
       " ['Unknown or Other', '99', 'Unknown/other', '99']]"
      ]
     },
     "execution_count": 16,
     "metadata": {},
     "output_type": "execute_result"
    }
   ],
   "source": [
    "data_list"
   ]
  },
  {
   "cell_type": "code",
   "execution_count": 17,
   "metadata": {
    "execution": {
     "iopub.execute_input": "2021-10-22T16:20:32.989669Z",
     "iopub.status.busy": "2021-10-22T16:20:32.989125Z",
     "iopub.status.idle": "2021-10-22T16:20:32.994669Z",
     "shell.execute_reply": "2021-10-22T16:20:32.994208Z"
    }
   },
   "outputs": [],
   "source": [
    "df = pd.DataFrame(data_list[1:], columns=data_list[0])"
   ]
  },
  {
   "cell_type": "markdown",
   "metadata": {},
   "source": [
    "### Get timestamp"
   ]
  },
  {
   "cell_type": "code",
   "execution_count": 18,
   "metadata": {
    "execution": {
     "iopub.execute_input": "2021-10-22T16:20:32.999257Z",
     "iopub.status.busy": "2021-10-22T16:20:32.998246Z",
     "iopub.status.idle": "2021-10-22T16:20:33.002916Z",
     "shell.execute_reply": "2021-10-22T16:20:33.002444Z"
    }
   },
   "outputs": [],
   "source": [
    "title_tag = soup.find(\"meta\", {\"property\": \"og:title\"})"
   ]
  },
  {
   "cell_type": "code",
   "execution_count": 19,
   "metadata": {
    "execution": {
     "iopub.execute_input": "2021-10-22T16:20:33.007503Z",
     "iopub.status.busy": "2021-10-22T16:20:33.005881Z",
     "iopub.status.idle": "2021-10-22T16:20:33.010258Z",
     "shell.execute_reply": "2021-10-22T16:20:33.009880Z"
    }
   },
   "outputs": [],
   "source": [
    "title_str = title_tag[\"content\"]"
   ]
  },
  {
   "cell_type": "code",
   "execution_count": 20,
   "metadata": {
    "execution": {
     "iopub.execute_input": "2021-10-22T16:20:33.013893Z",
     "iopub.status.busy": "2021-10-22T16:20:33.013462Z",
     "iopub.status.idle": "2021-10-22T16:20:33.018796Z",
     "shell.execute_reply": "2021-10-22T16:20:33.017900Z"
    }
   },
   "outputs": [
    {
     "data": {
      "text/plain": [
       "'Lake County COVID-19 cases, by district and zip code, through 9/30/21 | Created with Datawrapper'"
      ]
     },
     "execution_count": 20,
     "metadata": {},
     "output_type": "execute_result"
    }
   ],
   "source": [
    "title_str"
   ]
  },
  {
   "cell_type": "code",
   "execution_count": 21,
   "metadata": {
    "execution": {
     "iopub.execute_input": "2021-10-22T16:20:33.023996Z",
     "iopub.status.busy": "2021-10-22T16:20:33.023557Z",
     "iopub.status.idle": "2021-10-22T16:20:33.026722Z",
     "shell.execute_reply": "2021-10-22T16:20:33.026351Z"
    }
   },
   "outputs": [],
   "source": [
    "date_regex = re.search(r\"(\\d+/\\d+/\\d+)\", title_str)"
   ]
  },
  {
   "cell_type": "code",
   "execution_count": 22,
   "metadata": {
    "execution": {
     "iopub.execute_input": "2021-10-22T16:20:33.031055Z",
     "iopub.status.busy": "2021-10-22T16:20:33.028556Z",
     "iopub.status.idle": "2021-10-22T16:20:33.034195Z",
     "shell.execute_reply": "2021-10-22T16:20:33.033821Z"
    }
   },
   "outputs": [],
   "source": [
    "date_str = date_regex.group(1)"
   ]
  },
  {
   "cell_type": "code",
   "execution_count": 23,
   "metadata": {
    "execution": {
     "iopub.execute_input": "2021-10-22T16:20:33.039159Z",
     "iopub.status.busy": "2021-10-22T16:20:33.038461Z",
     "iopub.status.idle": "2021-10-22T16:20:33.043005Z",
     "shell.execute_reply": "2021-10-22T16:20:33.042546Z"
    }
   },
   "outputs": [],
   "source": [
    "latest_date = pd.to_datetime(date_str).date()"
   ]
  },
  {
   "cell_type": "code",
   "execution_count": 24,
   "metadata": {
    "execution": {
     "iopub.execute_input": "2021-10-22T16:20:33.047877Z",
     "iopub.status.busy": "2021-10-22T16:20:33.047489Z",
     "iopub.status.idle": "2021-10-22T16:20:33.050517Z",
     "shell.execute_reply": "2021-10-22T16:20:33.050876Z"
    }
   },
   "outputs": [],
   "source": [
    "df[\"county_date\"] = latest_date"
   ]
  },
  {
   "cell_type": "markdown",
   "metadata": {},
   "source": [
    "### Rename and drop columns"
   ]
  },
  {
   "cell_type": "code",
   "execution_count": 25,
   "metadata": {
    "execution": {
     "iopub.execute_input": "2021-10-22T16:20:33.057517Z",
     "iopub.status.busy": "2021-10-22T16:20:33.056569Z",
     "iopub.status.idle": "2021-10-22T16:20:33.060105Z",
     "shell.execute_reply": "2021-10-22T16:20:33.059665Z"
    }
   },
   "outputs": [],
   "source": [
    "cols = {\"Zip Code\": \"area\", \"Zip Code Total\": \"confirmed_cases\"}"
   ]
  },
  {
   "cell_type": "code",
   "execution_count": 26,
   "metadata": {
    "execution": {
     "iopub.execute_input": "2021-10-22T16:20:33.066979Z",
     "iopub.status.busy": "2021-10-22T16:20:33.066498Z",
     "iopub.status.idle": "2021-10-22T16:20:33.070408Z",
     "shell.execute_reply": "2021-10-22T16:20:33.069988Z"
    }
   },
   "outputs": [],
   "source": [
    "export_df = df.rename(columns=cols)[[\"area\", \"confirmed_cases\", \"county_date\"]]"
   ]
  },
  {
   "cell_type": "code",
   "execution_count": 27,
   "metadata": {
    "execution": {
     "iopub.execute_input": "2021-10-22T16:20:33.074206Z",
     "iopub.status.busy": "2021-10-22T16:20:33.073718Z",
     "iopub.status.idle": "2021-10-22T16:20:33.079409Z",
     "shell.execute_reply": "2021-10-22T16:20:33.079763Z"
    }
   },
   "outputs": [
    {
     "data": {
      "text/plain": [
       "16"
      ]
     },
     "execution_count": 27,
     "metadata": {},
     "output_type": "execute_result"
    }
   ],
   "source": [
    "len(export_df)"
   ]
  },
  {
   "cell_type": "markdown",
   "metadata": {},
   "source": [
    "### Vet"
   ]
  },
  {
   "cell_type": "markdown",
   "metadata": {},
   "source": [
    "Lake County has 16 ZIP code areas, including \"Unknown\""
   ]
  },
  {
   "cell_type": "code",
   "execution_count": 28,
   "metadata": {
    "execution": {
     "iopub.execute_input": "2021-10-22T16:20:33.083884Z",
     "iopub.status.busy": "2021-10-22T16:20:33.081897Z",
     "iopub.status.idle": "2021-10-22T16:20:33.087671Z",
     "shell.execute_reply": "2021-10-22T16:20:33.086751Z"
    }
   },
   "outputs": [],
   "source": [
    "lake_len = 16"
   ]
  },
  {
   "cell_type": "code",
   "execution_count": 29,
   "metadata": {
    "execution": {
     "iopub.execute_input": "2021-10-22T16:20:33.094396Z",
     "iopub.status.busy": "2021-10-22T16:20:33.093296Z",
     "iopub.status.idle": "2021-10-22T16:20:33.097123Z",
     "shell.execute_reply": "2021-10-22T16:20:33.096697Z"
    }
   },
   "outputs": [],
   "source": [
    "try:\n",
    "    assert not len(export_df) > lake_len\n",
    "except AssertionError:\n",
    "    raise AssertionError(\n",
    "        \"Lake County scraper: spreadsheet has additional zip code(s) than previous\"\n",
    "    )"
   ]
  },
  {
   "cell_type": "code",
   "execution_count": 30,
   "metadata": {
    "execution": {
     "iopub.execute_input": "2021-10-22T16:20:33.103048Z",
     "iopub.status.busy": "2021-10-22T16:20:33.102315Z",
     "iopub.status.idle": "2021-10-22T16:20:33.106325Z",
     "shell.execute_reply": "2021-10-22T16:20:33.105873Z"
    }
   },
   "outputs": [],
   "source": [
    "try:\n",
    "    assert not len(export_df) < lake_len\n",
    "except AssertionError:\n",
    "    raise AssertionError(\"Lake County scraper: spreadsheet is missing row(s)\")"
   ]
  },
  {
   "cell_type": "markdown",
   "metadata": {},
   "source": [
    "### Export csv file"
   ]
  },
  {
   "cell_type": "markdown",
   "metadata": {},
   "source": [
    "Write csv file timestamped with today's date"
   ]
  },
  {
   "cell_type": "code",
   "execution_count": 31,
   "metadata": {
    "execution": {
     "iopub.execute_input": "2021-10-22T16:20:33.110282Z",
     "iopub.status.busy": "2021-10-22T16:20:33.109857Z",
     "iopub.status.idle": "2021-10-22T16:20:33.113224Z",
     "shell.execute_reply": "2021-10-22T16:20:33.113584Z"
    }
   },
   "outputs": [],
   "source": [
    "slug = \"lake\""
   ]
  },
  {
   "cell_type": "code",
   "execution_count": 32,
   "metadata": {
    "execution": {
     "iopub.execute_input": "2021-10-22T16:20:33.118004Z",
     "iopub.status.busy": "2021-10-22T16:20:33.116725Z",
     "iopub.status.idle": "2021-10-22T16:20:33.222286Z",
     "shell.execute_reply": "2021-10-22T16:20:33.221621Z"
    }
   },
   "outputs": [
    {
     "ename": "NameError",
     "evalue": "name 'today' is not defined",
     "output_type": "error",
     "traceback": [
      "\u001b[0;31m---------------------------------------------------------------------------\u001b[0m",
      "\u001b[0;31mNameError\u001b[0m                                 Traceback (most recent call last)",
      "\u001b[0;32m/tmp/ipykernel_3388/2436362009.py\u001b[0m in \u001b[0;36m<module>\u001b[0;34m\u001b[0m\n\u001b[0;32m----> 1\u001b[0;31m \u001b[0mexport_df\u001b[0m\u001b[0;34m.\u001b[0m\u001b[0mto_csv\u001b[0m\u001b[0;34m(\u001b[0m\u001b[0mdata_dir\u001b[0m \u001b[0;34m/\u001b[0m \u001b[0mslug\u001b[0m \u001b[0;34m/\u001b[0m \u001b[0;34mf\"{today}.csv\"\u001b[0m\u001b[0;34m,\u001b[0m \u001b[0mindex\u001b[0m\u001b[0;34m=\u001b[0m\u001b[0;32mFalse\u001b[0m\u001b[0;34m)\u001b[0m\u001b[0;34m\u001b[0m\u001b[0;34m\u001b[0m\u001b[0m\n\u001b[0m",
      "\u001b[0;31mNameError\u001b[0m: name 'today' is not defined"
     ]
    }
   ],
   "source": [
    "export_df.to_csv(data_dir / slug / f\"{today}.csv\", index=False)"
   ]
  },
  {
   "cell_type": "markdown",
   "metadata": {},
   "source": [
    "## Combine"
   ]
  },
  {
   "cell_type": "code",
   "execution_count": 260,
   "metadata": {},
   "outputs": [],
   "source": [
    "csv_list = [\n",
    "    i\n",
    "    for i in glob.glob(str(data_dir / slug / \"*.csv\"))\n",
    "    if not str(i).endswith(\"timeseries.csv\")\n",
    "]"
   ]
  },
  {
   "cell_type": "code",
   "execution_count": 261,
   "metadata": {},
   "outputs": [],
   "source": [
    "df_list = []\n",
    "for csv in csv_list:\n",
    "    if \"manual\" in csv:\n",
    "        df = pd.read_csv(csv, parse_dates=[\"date\"])\n",
    "    else:\n",
    "        file_date = csv.split(\"/\")[-1].replace(\".csv\", \"\")\n",
    "        df = pd.read_csv(csv, parse_dates=[\"county_date\"])\n",
    "        df[\"date\"] = file_date\n",
    "    df_list.append(df)"
   ]
  },
  {
   "cell_type": "code",
   "execution_count": 262,
   "metadata": {},
   "outputs": [],
   "source": [
    "df = pd.concat(df_list).sort_values([\"date\", \"area\"])"
   ]
  },
  {
   "cell_type": "code",
   "execution_count": 263,
   "metadata": {},
   "outputs": [],
   "source": [
    "df.to_csv(data_dir / slug / \"timeseries.csv\", index=False)"
   ]
  }
 ],
 "metadata": {
  "kernelspec": {
   "display_name": "Python 3 (ipykernel)",
   "language": "python",
   "name": "python3"
  },
  "language_info": {
   "codemirror_mode": {
    "name": "ipython",
    "version": 3
   },
   "file_extension": ".py",
   "mimetype": "text/x-python",
   "name": "python",
   "nbconvert_exporter": "python",
   "pygments_lexer": "ipython3",
   "version": "3.8.12"
  }
 },
 "nbformat": 4,
 "nbformat_minor": 4
}
