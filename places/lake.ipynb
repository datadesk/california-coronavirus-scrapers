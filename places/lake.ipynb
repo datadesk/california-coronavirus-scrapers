{
 "cells": [
  {
   "cell_type": "markdown",
   "metadata": {},
   "source": [
    "## Configuration\n",
    "_Initial steps to get the notebook ready to play nice with our repository. Do not delete this section._"
   ]
  },
  {
   "cell_type": "markdown",
   "metadata": {},
   "source": [
    "Code formatting with [black](https://pypi.org/project/nb-black/)."
   ]
  },
  {
   "cell_type": "code",
   "execution_count": 1,
   "metadata": {
    "execution": {
     "iopub.execute_input": "2021-11-22T12:21:40.774988Z",
     "iopub.status.busy": "2021-11-22T12:21:40.774357Z",
     "iopub.status.idle": "2021-11-22T12:21:40.914825Z",
     "shell.execute_reply": "2021-11-22T12:21:40.914058Z"
    }
   },
   "outputs": [],
   "source": [
    "%load_ext lab_black"
   ]
  },
  {
   "cell_type": "code",
   "execution_count": 2,
   "metadata": {
    "execution": {
     "iopub.execute_input": "2021-11-22T12:21:40.919693Z",
     "iopub.status.busy": "2021-11-22T12:21:40.918286Z",
     "iopub.status.idle": "2021-11-22T12:21:40.921974Z",
     "shell.execute_reply": "2021-11-22T12:21:40.921496Z"
    }
   },
   "outputs": [],
   "source": [
    "import os\n",
    "import pathlib"
   ]
  },
  {
   "cell_type": "code",
   "execution_count": 3,
   "metadata": {
    "execution": {
     "iopub.execute_input": "2021-11-22T12:21:40.930052Z",
     "iopub.status.busy": "2021-11-22T12:21:40.928416Z",
     "iopub.status.idle": "2021-11-22T12:21:40.930909Z",
     "shell.execute_reply": "2021-11-22T12:21:40.931516Z"
    }
   },
   "outputs": [],
   "source": [
    "this_dir = pathlib.Path(os.path.abspath(\"\"))"
   ]
  },
  {
   "cell_type": "code",
   "execution_count": 4,
   "metadata": {
    "execution": {
     "iopub.execute_input": "2021-11-22T12:21:40.936100Z",
     "iopub.status.busy": "2021-11-22T12:21:40.935046Z",
     "iopub.status.idle": "2021-11-22T12:21:40.937845Z",
     "shell.execute_reply": "2021-11-22T12:21:40.938408Z"
    }
   },
   "outputs": [],
   "source": [
    "data_dir = this_dir / \"data\""
   ]
  },
  {
   "cell_type": "code",
   "execution_count": 5,
   "metadata": {
    "execution": {
     "iopub.execute_input": "2021-11-22T12:21:40.943064Z",
     "iopub.status.busy": "2021-11-22T12:21:40.942499Z",
     "iopub.status.idle": "2021-11-22T12:21:41.460401Z",
     "shell.execute_reply": "2021-11-22T12:21:41.459234Z"
    }
   },
   "outputs": [],
   "source": [
    "import re\n",
    "import pytz\n",
    "import glob\n",
    "import requests\n",
    "import unicodedata\n",
    "import json\n",
    "import pandas as pd\n",
    "from datetime import datetime\n",
    "from bs4 import BeautifulSoup"
   ]
  },
  {
   "cell_type": "markdown",
   "metadata": {},
   "source": [
    "### Download / retrieve the page"
   ]
  },
  {
   "cell_type": "markdown",
   "metadata": {},
   "source": [
    "Lake County's [dashboard](http://health.co.lake.ca.us/Coronavirus/COVID-19_Data.htm) uses Datawrapper to display cases by ZIP Code. To make sure we get the latest, we'll hit the chart page on Datawrapper's website, then get the iframe URL."
   ]
  },
  {
   "cell_type": "code",
   "execution_count": 6,
   "metadata": {
    "execution": {
     "iopub.execute_input": "2021-11-22T12:21:41.465571Z",
     "iopub.status.busy": "2021-11-22T12:21:41.464984Z",
     "iopub.status.idle": "2021-11-22T12:21:41.470671Z",
     "shell.execute_reply": "2021-11-22T12:21:41.469403Z"
    }
   },
   "outputs": [],
   "source": [
    "url = \"https://www.datawrapper.de/_/D1RaA/\""
   ]
  },
  {
   "cell_type": "code",
   "execution_count": 7,
   "metadata": {
    "execution": {
     "iopub.execute_input": "2021-11-22T12:21:41.479779Z",
     "iopub.status.busy": "2021-11-22T12:21:41.475061Z",
     "iopub.status.idle": "2021-11-22T12:21:41.582796Z",
     "shell.execute_reply": "2021-11-22T12:21:41.582130Z"
    }
   },
   "outputs": [],
   "source": [
    "page = requests.get(url)"
   ]
  },
  {
   "cell_type": "markdown",
   "metadata": {},
   "source": [
    "### Parse with BeautifulSoup"
   ]
  },
  {
   "cell_type": "code",
   "execution_count": 8,
   "metadata": {
    "execution": {
     "iopub.execute_input": "2021-11-22T12:21:41.585727Z",
     "iopub.status.busy": "2021-11-22T12:21:41.585117Z",
     "iopub.status.idle": "2021-11-22T12:21:41.592488Z",
     "shell.execute_reply": "2021-11-22T12:21:41.592981Z"
    }
   },
   "outputs": [],
   "source": [
    "soup = BeautifulSoup(page.content, \"html.parser\")"
   ]
  },
  {
   "cell_type": "code",
   "execution_count": 9,
   "metadata": {
    "execution": {
     "iopub.execute_input": "2021-11-22T12:21:41.597494Z",
     "iopub.status.busy": "2021-11-22T12:21:41.596924Z",
     "iopub.status.idle": "2021-11-22T12:21:41.600572Z",
     "shell.execute_reply": "2021-11-22T12:21:41.601027Z"
    }
   },
   "outputs": [],
   "source": [
    "meta = soup.find(\"meta\", {\"property\": \"og:url\"})"
   ]
  },
  {
   "cell_type": "code",
   "execution_count": 10,
   "metadata": {
    "execution": {
     "iopub.execute_input": "2021-11-22T12:21:41.605716Z",
     "iopub.status.busy": "2021-11-22T12:21:41.605206Z",
     "iopub.status.idle": "2021-11-22T12:21:41.610522Z",
     "shell.execute_reply": "2021-11-22T12:21:41.609876Z"
    }
   },
   "outputs": [],
   "source": [
    "dw_url = meta[\"content\"]"
   ]
  },
  {
   "cell_type": "markdown",
   "metadata": {},
   "source": [
    "### Parse Datawrapper"
   ]
  },
  {
   "cell_type": "code",
   "execution_count": 11,
   "metadata": {
    "execution": {
     "iopub.execute_input": "2021-11-22T12:21:41.614441Z",
     "iopub.status.busy": "2021-11-22T12:21:41.612843Z",
     "iopub.status.idle": "2021-11-22T12:21:41.617931Z",
     "shell.execute_reply": "2021-11-22T12:21:41.618391Z"
    }
   },
   "outputs": [],
   "source": [
    "dataset_url = dw_url + \"dataset.csv\""
   ]
  },
  {
   "cell_type": "code",
   "execution_count": 12,
   "metadata": {
    "execution": {
     "iopub.execute_input": "2021-11-22T12:21:41.626021Z",
     "iopub.status.busy": "2021-11-22T12:21:41.625410Z",
     "iopub.status.idle": "2021-11-22T12:21:41.771121Z",
     "shell.execute_reply": "2021-11-22T12:21:41.770463Z"
    }
   },
   "outputs": [],
   "source": [
    "dw_r = requests.get(dataset_url)"
   ]
  },
  {
   "cell_type": "code",
   "execution_count": 13,
   "metadata": {
    "execution": {
     "iopub.execute_input": "2021-11-22T12:21:41.781114Z",
     "iopub.status.busy": "2021-11-22T12:21:41.780368Z",
     "iopub.status.idle": "2021-11-22T12:21:41.784638Z",
     "shell.execute_reply": "2021-11-22T12:21:41.783629Z"
    }
   },
   "outputs": [],
   "source": [
    "string = dw_r.text"
   ]
  },
  {
   "cell_type": "code",
   "execution_count": 14,
   "metadata": {
    "execution": {
     "iopub.execute_input": "2021-11-22T12:21:41.790885Z",
     "iopub.status.busy": "2021-11-22T12:21:41.788327Z",
     "iopub.status.idle": "2021-11-22T12:21:41.794064Z",
     "shell.execute_reply": "2021-11-22T12:21:41.793564Z"
    }
   },
   "outputs": [],
   "source": [
    "parsed = string.split(\"\\r\\n\")"
   ]
  },
  {
   "cell_type": "code",
   "execution_count": 15,
   "metadata": {
    "execution": {
     "iopub.execute_input": "2021-11-22T12:21:41.800660Z",
     "iopub.status.busy": "2021-11-22T12:21:41.796804Z",
     "iopub.status.idle": "2021-11-22T12:21:41.806844Z",
     "shell.execute_reply": "2021-11-22T12:21:41.806363Z"
    }
   },
   "outputs": [],
   "source": [
    "data_list = []\n",
    "for row in parsed:\n",
    "    cell = row.split(\",\")\n",
    "    data_list.append(cell)"
   ]
  },
  {
   "cell_type": "code",
   "execution_count": 16,
   "metadata": {
    "execution": {
     "iopub.execute_input": "2021-11-22T12:21:41.818039Z",
     "iopub.status.busy": "2021-11-22T12:21:41.814046Z",
     "iopub.status.idle": "2021-11-22T12:21:41.824707Z",
     "shell.execute_reply": "2021-11-22T12:21:41.825350Z"
    }
   },
   "outputs": [
    {
     "data": {
      "text/plain": [
       "[['Supervisorial District', 'District Total', 'Zip Code', 'Zip Code Total'],\n",
       " ['District 1', '863', '95457', '290'],\n",
       " ['', '', '95467', '387'],\n",
       " ['', '', '95461', '186'],\n",
       " ['District 2', '1844', '95422', '1819'],\n",
       " ['', '', '95424', '25'],\n",
       " ['District 3', '1183', '95423', '274'],\n",
       " ['', '', '95458', '290'],\n",
       " ['', '', '95464', '278'],\n",
       " ['', '', '95485', '315'],\n",
       " ['', '', '95493', '12'],\n",
       " ['', '', '95443', '14'],\n",
       " ['District 4', '1500', '95453', '1452'],\n",
       " ['', '', '95435', '48'],\n",
       " ['District 5', '1240', '95426', '72'],\n",
       " ['', '', '95451', '1168'],\n",
       " ['Unknown or Other', '97', 'Unknown/other', '97']]"
      ]
     },
     "execution_count": 16,
     "metadata": {},
     "output_type": "execute_result"
    }
   ],
   "source": [
    "data_list"
   ]
  },
  {
   "cell_type": "code",
   "execution_count": 17,
   "metadata": {
    "execution": {
     "iopub.execute_input": "2021-11-22T12:21:41.831311Z",
     "iopub.status.busy": "2021-11-22T12:21:41.830782Z",
     "iopub.status.idle": "2021-11-22T12:21:41.836967Z",
     "shell.execute_reply": "2021-11-22T12:21:41.836351Z"
    }
   },
   "outputs": [],
   "source": [
    "df = pd.DataFrame(data_list[1:], columns=data_list[0])"
   ]
  },
  {
   "cell_type": "markdown",
   "metadata": {},
   "source": [
    "### Get timestamp"
   ]
  },
  {
   "cell_type": "code",
   "execution_count": 18,
   "metadata": {
    "execution": {
     "iopub.execute_input": "2021-11-22T12:21:41.841925Z",
     "iopub.status.busy": "2021-11-22T12:21:41.841319Z",
     "iopub.status.idle": "2021-11-22T12:21:41.846840Z",
     "shell.execute_reply": "2021-11-22T12:21:41.846327Z"
    }
   },
   "outputs": [],
   "source": [
    "title_tag = soup.find(\"meta\", {\"property\": \"og:title\"})"
   ]
  },
  {
   "cell_type": "code",
   "execution_count": 19,
   "metadata": {
    "execution": {
     "iopub.execute_input": "2021-11-22T12:21:41.852256Z",
     "iopub.status.busy": "2021-11-22T12:21:41.848798Z",
     "iopub.status.idle": "2021-11-22T12:21:41.855722Z",
     "shell.execute_reply": "2021-11-22T12:21:41.855253Z"
    }
   },
   "outputs": [],
   "source": [
    "title_str = title_tag[\"content\"]"
   ]
  },
  {
   "cell_type": "code",
   "execution_count": 20,
   "metadata": {
    "execution": {
     "iopub.execute_input": "2021-11-22T12:21:41.860015Z",
     "iopub.status.busy": "2021-11-22T12:21:41.859470Z",
     "iopub.status.idle": "2021-11-22T12:21:41.866886Z",
     "shell.execute_reply": "2021-11-22T12:21:41.866421Z"
    }
   },
   "outputs": [
    {
     "data": {
      "text/plain": [
       "'Lake County COVID-19 cases, by district and zip code | Created with Datawrapper'"
      ]
     },
     "execution_count": 20,
     "metadata": {},
     "output_type": "execute_result"
    }
   ],
   "source": [
    "title_str"
   ]
  },
  {
   "cell_type": "code",
   "execution_count": 21,
   "metadata": {
    "execution": {
     "iopub.execute_input": "2021-11-22T12:21:41.873686Z",
     "iopub.status.busy": "2021-11-22T12:21:41.870875Z",
     "iopub.status.idle": "2021-11-22T12:21:41.876991Z",
     "shell.execute_reply": "2021-11-22T12:21:41.875825Z"
    }
   },
   "outputs": [],
   "source": [
    "date_regex = re.search(r\"(\\d+/\\d+/\\d+)\", title_str)"
   ]
  },
  {
   "cell_type": "code",
   "execution_count": 22,
   "metadata": {
    "execution": {
     "iopub.execute_input": "2021-11-22T12:21:41.880908Z",
     "iopub.status.busy": "2021-11-22T12:21:41.880384Z",
     "iopub.status.idle": "2021-11-22T12:21:42.017303Z",
     "shell.execute_reply": "2021-11-22T12:21:42.015192Z"
    }
   },
   "outputs": [
    {
     "ename": "AttributeError",
     "evalue": "'NoneType' object has no attribute 'group'",
     "output_type": "error",
     "traceback": [
      "\u001b[0;31m---------------------------------------------------------------------------\u001b[0m",
      "\u001b[0;31mAttributeError\u001b[0m                            Traceback (most recent call last)",
      "\u001b[0;32m/tmp/ipykernel_2977/1864350042.py\u001b[0m in \u001b[0;36m<module>\u001b[0;34m\u001b[0m\n\u001b[0;32m----> 1\u001b[0;31m \u001b[0mdate_str\u001b[0m \u001b[0;34m=\u001b[0m \u001b[0mdate_regex\u001b[0m\u001b[0;34m.\u001b[0m\u001b[0mgroup\u001b[0m\u001b[0;34m(\u001b[0m\u001b[0;36m1\u001b[0m\u001b[0;34m)\u001b[0m\u001b[0;34m\u001b[0m\u001b[0;34m\u001b[0m\u001b[0m\n\u001b[0m",
      "\u001b[0;31mAttributeError\u001b[0m: 'NoneType' object has no attribute 'group'"
     ]
    }
   ],
   "source": [
    "date_str = date_regex.group(1)"
   ]
  },
  {
   "cell_type": "code",
   "execution_count": 64,
   "metadata": {},
   "outputs": [],
   "source": [
    "latest_date = pd.to_datetime(date_str).date()"
   ]
  },
  {
   "cell_type": "code",
   "execution_count": 65,
   "metadata": {},
   "outputs": [],
   "source": [
    "df[\"county_date\"] = latest_date"
   ]
  },
  {
   "cell_type": "code",
   "execution_count": 66,
   "metadata": {},
   "outputs": [],
   "source": [
    "df[\"county\"] = \"Lake\""
   ]
  },
  {
   "cell_type": "markdown",
   "metadata": {},
   "source": [
    "### Rename and drop columns"
   ]
  },
  {
   "cell_type": "code",
   "execution_count": 67,
   "metadata": {},
   "outputs": [],
   "source": [
    "cols = {\"Zip Code\": \"area\", \"Zip Code Total\": \"confirmed_cases\"}"
   ]
  },
  {
   "cell_type": "code",
   "execution_count": 68,
   "metadata": {},
   "outputs": [],
   "source": [
    "export_df = df.rename(columns=cols)[\n",
    "    [\"county\", \"area\", \"confirmed_cases\", \"county_date\"]\n",
    "]"
   ]
  },
  {
   "cell_type": "code",
   "execution_count": 69,
   "metadata": {},
   "outputs": [
    {
     "data": {
      "text/plain": [
       "16"
      ]
     },
     "execution_count": 69,
     "metadata": {},
     "output_type": "execute_result"
    }
   ],
   "source": [
    "len(export_df)"
   ]
  },
  {
   "cell_type": "markdown",
   "metadata": {},
   "source": [
    "### Vet"
   ]
  },
  {
   "cell_type": "markdown",
   "metadata": {},
   "source": [
    "Lake County has 16 ZIP code areas, including \"Unknown\""
   ]
  },
  {
   "cell_type": "code",
   "execution_count": 70,
   "metadata": {},
   "outputs": [],
   "source": [
    "lake_len = 16"
   ]
  },
  {
   "cell_type": "code",
   "execution_count": 71,
   "metadata": {},
   "outputs": [],
   "source": [
    "try:\n",
    "    assert not len(export_df) > lake_len\n",
    "except AssertionError:\n",
    "    raise AssertionError(\n",
    "        \"Lake County scraper: spreadsheet has additional zip code(s) than previous\"\n",
    "    )"
   ]
  },
  {
   "cell_type": "code",
   "execution_count": 72,
   "metadata": {},
   "outputs": [],
   "source": [
    "try:\n",
    "    assert not len(export_df) < lake_len\n",
    "except AssertionError:\n",
    "    raise AssertionError(\"Lake County scraper: spreadsheet is missing row(s)\")"
   ]
  },
  {
   "cell_type": "markdown",
   "metadata": {},
   "source": [
    "### Export csv file"
   ]
  },
  {
   "cell_type": "markdown",
   "metadata": {},
   "source": [
    "Write csv file timestamped with today's date"
   ]
  },
  {
   "cell_type": "code",
   "execution_count": 73,
   "metadata": {},
   "outputs": [],
   "source": [
    "slug = \"lake\""
   ]
  },
  {
   "cell_type": "code",
   "execution_count": 74,
   "metadata": {},
   "outputs": [],
   "source": [
    "tz = pytz.timezone(\"America/Los_Angeles\")"
   ]
  },
  {
   "cell_type": "code",
   "execution_count": 75,
   "metadata": {},
   "outputs": [],
   "source": [
    "today = datetime.now(tz).date()"
   ]
  },
  {
   "cell_type": "code",
   "execution_count": 76,
   "metadata": {},
   "outputs": [],
   "source": [
    "export_df.to_csv(data_dir / slug / f\"{today}.csv\", index=False)"
   ]
  },
  {
   "cell_type": "markdown",
   "metadata": {},
   "source": [
    "## Combine"
   ]
  },
  {
   "cell_type": "code",
   "execution_count": 77,
   "metadata": {},
   "outputs": [],
   "source": [
    "csv_list = [\n",
    "    i\n",
    "    for i in glob.glob(str(data_dir / slug / \"*.csv\"))\n",
    "    if not str(i).endswith(\"timeseries.csv\")\n",
    "]"
   ]
  },
  {
   "cell_type": "code",
   "execution_count": 78,
   "metadata": {},
   "outputs": [],
   "source": [
    "df_list = []\n",
    "for csv in csv_list:\n",
    "    if \"manual\" in csv:\n",
    "        df = pd.read_csv(csv, parse_dates=[\"date\"])\n",
    "    else:\n",
    "        file_date = csv.split(\"/\")[-1].replace(\".csv\", \"\")\n",
    "        df = pd.read_csv(csv, parse_dates=[\"county_date\"])\n",
    "        df[\"date\"] = file_date\n",
    "    df_list.append(df)"
   ]
  },
  {
   "cell_type": "code",
   "execution_count": 79,
   "metadata": {},
   "outputs": [],
   "source": [
    "df = pd.concat(df_list).sort_values([\"date\", \"area\"])"
   ]
  },
  {
   "cell_type": "code",
   "execution_count": 80,
   "metadata": {},
   "outputs": [],
   "source": [
    "df.to_csv(data_dir / slug / \"timeseries.csv\", index=False)"
   ]
  }
 ],
 "metadata": {
  "kernelspec": {
   "display_name": "Python 3 (ipykernel)",
   "language": "python",
   "name": "python3"
  },
  "language_info": {
   "codemirror_mode": {
    "name": "ipython",
    "version": 3
   },
   "file_extension": ".py",
   "mimetype": "text/x-python",
   "name": "python",
   "nbconvert_exporter": "python",
   "pygments_lexer": "ipython3",
   "version": "3.8.12"
  }
 },
 "nbformat": 4,
 "nbformat_minor": 4
}
