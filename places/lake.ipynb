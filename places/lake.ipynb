{
 "cells": [
  {
   "cell_type": "markdown",
   "metadata": {},
   "source": [
    "## Configuration\n",
    "_Initial steps to get the notebook ready to play nice with our repository. Do not delete this section._"
   ]
  },
  {
   "cell_type": "markdown",
   "metadata": {},
   "source": [
    "Code formatting with [black](https://pypi.org/project/nb-black/)."
   ]
  },
  {
   "cell_type": "code",
   "execution_count": 1,
   "metadata": {
    "execution": {
     "iopub.execute_input": "2021-10-21T12:20:57.005183Z",
     "iopub.status.busy": "2021-10-21T12:20:57.004726Z",
     "iopub.status.idle": "2021-10-21T12:20:57.117799Z",
     "shell.execute_reply": "2021-10-21T12:20:57.117256Z"
    }
   },
   "outputs": [],
   "source": [
    "%load_ext lab_black"
   ]
  },
  {
   "cell_type": "code",
   "execution_count": 2,
   "metadata": {
    "execution": {
     "iopub.execute_input": "2021-10-21T12:20:57.122397Z",
     "iopub.status.busy": "2021-10-21T12:20:57.121378Z",
     "iopub.status.idle": "2021-10-21T12:20:57.122922Z",
     "shell.execute_reply": "2021-10-21T12:20:57.123284Z"
    }
   },
   "outputs": [],
   "source": [
    "import os\n",
    "import pathlib"
   ]
  },
  {
   "cell_type": "code",
   "execution_count": 3,
   "metadata": {
    "execution": {
     "iopub.execute_input": "2021-10-21T12:20:57.129621Z",
     "iopub.status.busy": "2021-10-21T12:20:57.128633Z",
     "iopub.status.idle": "2021-10-21T12:20:57.130139Z",
     "shell.execute_reply": "2021-10-21T12:20:57.130501Z"
    }
   },
   "outputs": [],
   "source": [
    "this_dir = pathlib.Path(os.path.abspath(\"\"))"
   ]
  },
  {
   "cell_type": "code",
   "execution_count": 4,
   "metadata": {
    "execution": {
     "iopub.execute_input": "2021-10-21T12:20:57.134501Z",
     "iopub.status.busy": "2021-10-21T12:20:57.134057Z",
     "iopub.status.idle": "2021-10-21T12:20:57.136948Z",
     "shell.execute_reply": "2021-10-21T12:20:57.137288Z"
    }
   },
   "outputs": [],
   "source": [
    "data_dir = this_dir / \"data\""
   ]
  },
  {
   "cell_type": "code",
   "execution_count": 5,
   "metadata": {
    "execution": {
     "iopub.execute_input": "2021-10-21T12:20:57.140872Z",
     "iopub.status.busy": "2021-10-21T12:20:57.140412Z",
     "iopub.status.idle": "2021-10-21T12:20:57.510216Z",
     "shell.execute_reply": "2021-10-21T12:20:57.509193Z"
    }
   },
   "outputs": [],
   "source": [
    "import re\n",
    "import pytz\n",
    "import glob\n",
    "import requests\n",
    "import unicodedata\n",
    "import json\n",
    "import pandas as pd\n",
    "from datetime import datetime\n",
    "from bs4 import BeautifulSoup"
   ]
  },
  {
   "cell_type": "markdown",
   "metadata": {},
   "source": [
    "### Download / retrieve the page"
   ]
  },
  {
   "cell_type": "markdown",
   "metadata": {},
   "source": [
    "Lake County's [dashboard](http://health.co.lake.ca.us/Coronavirus/COVID-19_Data.htm) uses Datawrapper to display cases by ZIP Code. To make sure we get the latest, we'll hit the chart page on Datawrapper's website, then get the iframe URL."
   ]
  },
  {
   "cell_type": "code",
   "execution_count": 6,
   "metadata": {
    "execution": {
     "iopub.execute_input": "2021-10-21T12:20:57.514971Z",
     "iopub.status.busy": "2021-10-21T12:20:57.513874Z",
     "iopub.status.idle": "2021-10-21T12:20:57.517208Z",
     "shell.execute_reply": "2021-10-21T12:20:57.516513Z"
    }
   },
   "outputs": [],
   "source": [
    "url = \"https://www.datawrapper.de/_/D1RaA/\""
   ]
  },
  {
   "cell_type": "code",
   "execution_count": 7,
   "metadata": {
    "execution": {
     "iopub.execute_input": "2021-10-21T12:20:57.524039Z",
     "iopub.status.busy": "2021-10-21T12:20:57.520318Z",
     "iopub.status.idle": "2021-10-21T12:20:58.035586Z",
     "shell.execute_reply": "2021-10-21T12:20:58.034444Z"
    }
   },
   "outputs": [],
   "source": [
    "page = requests.get(url)"
   ]
  },
  {
   "cell_type": "markdown",
   "metadata": {},
   "source": [
    "### Parse with BeautifulSoup"
   ]
  },
  {
   "cell_type": "code",
   "execution_count": 8,
   "metadata": {
    "execution": {
     "iopub.execute_input": "2021-10-21T12:20:58.042512Z",
     "iopub.status.busy": "2021-10-21T12:20:58.041583Z",
     "iopub.status.idle": "2021-10-21T12:20:58.045074Z",
     "shell.execute_reply": "2021-10-21T12:20:58.044676Z"
    }
   },
   "outputs": [],
   "source": [
    "soup = BeautifulSoup(page.content, \"html.parser\")"
   ]
  },
  {
   "cell_type": "code",
   "execution_count": 9,
   "metadata": {
    "execution": {
     "iopub.execute_input": "2021-10-21T12:20:58.050463Z",
     "iopub.status.busy": "2021-10-21T12:20:58.049424Z",
     "iopub.status.idle": "2021-10-21T12:20:58.053299Z",
     "shell.execute_reply": "2021-10-21T12:20:58.052921Z"
    }
   },
   "outputs": [],
   "source": [
    "meta = soup.find(\"meta\", {\"property\": \"og:url\"})"
   ]
  },
  {
   "cell_type": "code",
   "execution_count": 10,
   "metadata": {
    "execution": {
     "iopub.execute_input": "2021-10-21T12:20:58.057533Z",
     "iopub.status.busy": "2021-10-21T12:20:58.057093Z",
     "iopub.status.idle": "2021-10-21T12:20:58.060416Z",
     "shell.execute_reply": "2021-10-21T12:20:58.059822Z"
    }
   },
   "outputs": [],
   "source": [
    "dw_url = meta[\"content\"]"
   ]
  },
  {
   "cell_type": "markdown",
   "metadata": {},
   "source": [
    "### Parse Datawrapper"
   ]
  },
  {
   "cell_type": "code",
   "execution_count": 11,
   "metadata": {
    "execution": {
     "iopub.execute_input": "2021-10-21T12:20:58.063916Z",
     "iopub.status.busy": "2021-10-21T12:20:58.063216Z",
     "iopub.status.idle": "2021-10-21T12:20:58.067722Z",
     "shell.execute_reply": "2021-10-21T12:20:58.066917Z"
    }
   },
   "outputs": [],
   "source": [
    "dataset_url = dw_url + \"dataset.csv\""
   ]
  },
  {
   "cell_type": "code",
   "execution_count": 12,
   "metadata": {
    "execution": {
     "iopub.execute_input": "2021-10-21T12:20:58.073894Z",
     "iopub.status.busy": "2021-10-21T12:20:58.073450Z",
     "iopub.status.idle": "2021-10-21T12:20:58.165785Z",
     "shell.execute_reply": "2021-10-21T12:20:58.165330Z"
    }
   },
   "outputs": [],
   "source": [
    "dw_r = requests.get(dataset_url)"
   ]
  },
  {
   "cell_type": "code",
   "execution_count": 13,
   "metadata": {
    "execution": {
     "iopub.execute_input": "2021-10-21T12:20:58.173579Z",
     "iopub.status.busy": "2021-10-21T12:20:58.173139Z",
     "iopub.status.idle": "2021-10-21T12:20:58.176350Z",
     "shell.execute_reply": "2021-10-21T12:20:58.175945Z"
    }
   },
   "outputs": [],
   "source": [
    "string = dw_r.text"
   ]
  },
  {
   "cell_type": "code",
   "execution_count": 14,
   "metadata": {
    "execution": {
     "iopub.execute_input": "2021-10-21T12:20:58.180173Z",
     "iopub.status.busy": "2021-10-21T12:20:58.179425Z",
     "iopub.status.idle": "2021-10-21T12:20:58.184584Z",
     "shell.execute_reply": "2021-10-21T12:20:58.184124Z"
    }
   },
   "outputs": [],
   "source": [
    "parsed = string.split(\"\\r\\n\")"
   ]
  },
  {
   "cell_type": "code",
   "execution_count": 15,
   "metadata": {
    "execution": {
     "iopub.execute_input": "2021-10-21T12:20:58.190945Z",
     "iopub.status.busy": "2021-10-21T12:20:58.190501Z",
     "iopub.status.idle": "2021-10-21T12:20:58.194392Z",
     "shell.execute_reply": "2021-10-21T12:20:58.193992Z"
    }
   },
   "outputs": [],
   "source": [
    "data_list = []\n",
    "for row in parsed:\n",
    "    cell = row.split(\",\")\n",
    "    data_list.append(cell)"
   ]
  },
  {
   "cell_type": "code",
   "execution_count": 16,
   "metadata": {
    "execution": {
     "iopub.execute_input": "2021-10-21T12:20:58.203980Z",
     "iopub.status.busy": "2021-10-21T12:20:58.203177Z",
     "iopub.status.idle": "2021-10-21T12:20:58.206740Z",
     "shell.execute_reply": "2021-10-21T12:20:58.207081Z"
    }
   },
   "outputs": [
    {
     "data": {
      "text/plain": [
       "[['Supervisorial District', 'District Total', 'Zip Code', 'Zip Code Total'],\n",
       " ['District 1', '771', '95457', '261'],\n",
       " ['', '', '95467', '344'],\n",
       " ['', '', '95461', '166'],\n",
       " ['District 2', '1647', '95422', '1627'],\n",
       " ['', '', '95424', '20'],\n",
       " ['District 3', '1100', '95423', '256'],\n",
       " ['', '', '95458', '271'],\n",
       " ['', '', '95464', '261'],\n",
       " ['', '', '95485', '291'],\n",
       " ['', '', '95493', '11'],\n",
       " ['', '', '95443', '10'],\n",
       " ['District 4', '1434', '95453', '1388'],\n",
       " ['', '', '95435', '46'],\n",
       " ['District 5', '1150', '95426', '62'],\n",
       " ['', '', '95451', '1088'],\n",
       " ['Unknown or Other', '99', 'Unknown/other', '99']]"
      ]
     },
     "execution_count": 16,
     "metadata": {},
     "output_type": "execute_result"
    }
   ],
   "source": [
    "data_list"
   ]
  },
  {
   "cell_type": "code",
   "execution_count": 17,
   "metadata": {
    "execution": {
     "iopub.execute_input": "2021-10-21T12:20:58.211702Z",
     "iopub.status.busy": "2021-10-21T12:20:58.211234Z",
     "iopub.status.idle": "2021-10-21T12:20:58.215020Z",
     "shell.execute_reply": "2021-10-21T12:20:58.215391Z"
    }
   },
   "outputs": [],
   "source": [
    "df = pd.DataFrame(data_list[1:], columns=data_list[0])"
   ]
  },
  {
   "cell_type": "markdown",
   "metadata": {},
   "source": [
    "### Get timestamp"
   ]
  },
  {
   "cell_type": "code",
   "execution_count": 18,
   "metadata": {
    "execution": {
     "iopub.execute_input": "2021-10-21T12:20:58.219703Z",
     "iopub.status.busy": "2021-10-21T12:20:58.219218Z",
     "iopub.status.idle": "2021-10-21T12:20:58.221789Z",
     "shell.execute_reply": "2021-10-21T12:20:58.221401Z"
    }
   },
   "outputs": [],
   "source": [
    "title_tag = soup.find(\"meta\", {\"property\": \"og:title\"})"
   ]
  },
  {
   "cell_type": "code",
   "execution_count": 19,
   "metadata": {
    "execution": {
     "iopub.execute_input": "2021-10-21T12:20:58.225663Z",
     "iopub.status.busy": "2021-10-21T12:20:58.225221Z",
     "iopub.status.idle": "2021-10-21T12:20:58.227362Z",
     "shell.execute_reply": "2021-10-21T12:20:58.226973Z"
    }
   },
   "outputs": [],
   "source": [
    "title_str = title_tag[\"content\"]"
   ]
  },
  {
   "cell_type": "code",
   "execution_count": 20,
   "metadata": {
    "execution": {
     "iopub.execute_input": "2021-10-21T12:20:58.230643Z",
     "iopub.status.busy": "2021-10-21T12:20:58.230205Z",
     "iopub.status.idle": "2021-10-21T12:20:58.233264Z",
     "shell.execute_reply": "2021-10-21T12:20:58.232874Z"
    }
   },
   "outputs": [
    {
     "data": {
      "text/plain": [
       "'Lake County COVID-19 cases, by district and zip code, through 9/30/21 | Created with Datawrapper'"
      ]
     },
     "execution_count": 20,
     "metadata": {},
     "output_type": "execute_result"
    }
   ],
   "source": [
    "title_str"
   ]
  },
  {
   "cell_type": "code",
   "execution_count": 21,
   "metadata": {
    "execution": {
     "iopub.execute_input": "2021-10-21T12:20:58.236549Z",
     "iopub.status.busy": "2021-10-21T12:20:58.236107Z",
     "iopub.status.idle": "2021-10-21T12:20:58.239522Z",
     "shell.execute_reply": "2021-10-21T12:20:58.239133Z"
    }
   },
   "outputs": [],
   "source": [
    "date_regex = re.search(r\"(\\d+/\\d+/\\d+)\", title_str)"
   ]
  },
  {
   "cell_type": "code",
   "execution_count": 22,
   "metadata": {
    "execution": {
     "iopub.execute_input": "2021-10-21T12:20:58.243863Z",
     "iopub.status.busy": "2021-10-21T12:20:58.243397Z",
     "iopub.status.idle": "2021-10-21T12:20:58.244876Z",
     "shell.execute_reply": "2021-10-21T12:20:58.245240Z"
    }
   },
   "outputs": [],
   "source": [
    "date_str = date_regex.group(1)"
   ]
  },
  {
   "cell_type": "code",
   "execution_count": 23,
   "metadata": {
    "execution": {
     "iopub.execute_input": "2021-10-21T12:20:58.251388Z",
     "iopub.status.busy": "2021-10-21T12:20:58.250400Z",
     "iopub.status.idle": "2021-10-21T12:20:58.251944Z",
     "shell.execute_reply": "2021-10-21T12:20:58.252315Z"
    }
   },
   "outputs": [],
   "source": [
    "latest_date = pd.to_datetime(date_str).date()"
   ]
  },
  {
   "cell_type": "code",
   "execution_count": 24,
   "metadata": {
    "execution": {
     "iopub.execute_input": "2021-10-21T12:20:58.256504Z",
     "iopub.status.busy": "2021-10-21T12:20:58.255675Z",
     "iopub.status.idle": "2021-10-21T12:20:58.259341Z",
     "shell.execute_reply": "2021-10-21T12:20:58.258966Z"
    }
   },
   "outputs": [],
   "source": [
    "df[\"county_date\"] = latest_date"
   ]
  },
  {
   "cell_type": "markdown",
   "metadata": {},
   "source": [
    "### Rename and drop columns"
   ]
  },
  {
   "cell_type": "code",
   "execution_count": 25,
   "metadata": {
    "execution": {
     "iopub.execute_input": "2021-10-21T12:20:58.262670Z",
     "iopub.status.busy": "2021-10-21T12:20:58.262228Z",
     "iopub.status.idle": "2021-10-21T12:20:58.265714Z",
     "shell.execute_reply": "2021-10-21T12:20:58.265340Z"
    }
   },
   "outputs": [],
   "source": [
    "cols = {\"Zip Code\": \"area\", \"Zip Code Total\": \"confirmed_cases\"}"
   ]
  },
  {
   "cell_type": "code",
   "execution_count": 26,
   "metadata": {
    "execution": {
     "iopub.execute_input": "2021-10-21T12:20:58.269721Z",
     "iopub.status.busy": "2021-10-21T12:20:58.269279Z",
     "iopub.status.idle": "2021-10-21T12:20:58.274366Z",
     "shell.execute_reply": "2021-10-21T12:20:58.273990Z"
    }
   },
   "outputs": [],
   "source": [
    "export_df = df.rename(columns=cols)[[\"area\", \"confirmed_cases\", \"county_date\"]]"
   ]
  },
  {
   "cell_type": "code",
   "execution_count": 27,
   "metadata": {
    "execution": {
     "iopub.execute_input": "2021-10-21T12:20:58.277851Z",
     "iopub.status.busy": "2021-10-21T12:20:58.276056Z",
     "iopub.status.idle": "2021-10-21T12:20:58.281918Z",
     "shell.execute_reply": "2021-10-21T12:20:58.281501Z"
    }
   },
   "outputs": [
    {
     "data": {
      "text/plain": [
       "16"
      ]
     },
     "execution_count": 27,
     "metadata": {},
     "output_type": "execute_result"
    }
   ],
   "source": [
    "len(export_df)"
   ]
  },
  {
   "cell_type": "markdown",
   "metadata": {},
   "source": [
    "### Vet"
   ]
  },
  {
   "cell_type": "markdown",
   "metadata": {},
   "source": [
    "Lake County has 16 ZIP code areas, including \"Unknown\""
   ]
  },
  {
   "cell_type": "code",
   "execution_count": 28,
   "metadata": {
    "execution": {
     "iopub.execute_input": "2021-10-21T12:20:58.285384Z",
     "iopub.status.busy": "2021-10-21T12:20:58.284571Z",
     "iopub.status.idle": "2021-10-21T12:20:58.287157Z",
     "shell.execute_reply": "2021-10-21T12:20:58.286768Z"
    }
   },
   "outputs": [],
   "source": [
    "lake_len = 16"
   ]
  },
  {
   "cell_type": "code",
   "execution_count": 29,
   "metadata": {
    "execution": {
     "iopub.execute_input": "2021-10-21T12:20:58.292359Z",
     "iopub.status.busy": "2021-10-21T12:20:58.291912Z",
     "iopub.status.idle": "2021-10-21T12:20:58.294478Z",
     "shell.execute_reply": "2021-10-21T12:20:58.294829Z"
    }
   },
   "outputs": [],
   "source": [
    "try:\n",
    "    assert not len(export_df) > lake_len\n",
    "except AssertionError:\n",
    "    raise AssertionError(\n",
    "        \"Lake County scraper: spreadsheet has additional zip code(s) than previous\"\n",
    "    )"
   ]
  },
  {
   "cell_type": "code",
   "execution_count": 30,
   "metadata": {
    "execution": {
     "iopub.execute_input": "2021-10-21T12:20:58.300508Z",
     "iopub.status.busy": "2021-10-21T12:20:58.299689Z",
     "iopub.status.idle": "2021-10-21T12:20:58.301348Z",
     "shell.execute_reply": "2021-10-21T12:20:58.301692Z"
    }
   },
   "outputs": [],
   "source": [
    "try:\n",
    "    assert not len(export_df) < lake_len\n",
    "except AssertionError:\n",
    "    raise AssertionError(\"Lake County scraper: spreadsheet is missing row(s)\")"
   ]
  },
  {
   "cell_type": "markdown",
   "metadata": {},
   "source": [
    "### Export csv file"
   ]
  },
  {
   "cell_type": "markdown",
   "metadata": {},
   "source": [
    "Write csv file timestamped with today's date"
   ]
  },
  {
   "cell_type": "code",
   "execution_count": 31,
   "metadata": {
    "execution": {
     "iopub.execute_input": "2021-10-21T12:20:58.304733Z",
     "iopub.status.busy": "2021-10-21T12:20:58.304296Z",
     "iopub.status.idle": "2021-10-21T12:20:58.308564Z",
     "shell.execute_reply": "2021-10-21T12:20:58.308154Z"
    }
   },
   "outputs": [],
   "source": [
    "slug = \"lake\""
   ]
  },
  {
   "cell_type": "code",
   "execution_count": 32,
   "metadata": {
    "execution": {
     "iopub.execute_input": "2021-10-21T12:20:58.313009Z",
     "iopub.status.busy": "2021-10-21T12:20:58.312565Z",
     "iopub.status.idle": "2021-10-21T12:20:58.420273Z",
     "shell.execute_reply": "2021-10-21T12:20:58.418901Z"
    }
   },
   "outputs": [
    {
     "ename": "NameError",
     "evalue": "name 'today' is not defined",
     "output_type": "error",
     "traceback": [
      "\u001b[0;31m---------------------------------------------------------------------------\u001b[0m",
      "\u001b[0;31mNameError\u001b[0m                                 Traceback (most recent call last)",
      "\u001b[0;32m/tmp/ipykernel_3438/2436362009.py\u001b[0m in \u001b[0;36m<module>\u001b[0;34m\u001b[0m\n\u001b[0;32m----> 1\u001b[0;31m \u001b[0mexport_df\u001b[0m\u001b[0;34m.\u001b[0m\u001b[0mto_csv\u001b[0m\u001b[0;34m(\u001b[0m\u001b[0mdata_dir\u001b[0m \u001b[0;34m/\u001b[0m \u001b[0mslug\u001b[0m \u001b[0;34m/\u001b[0m \u001b[0;34mf\"{today}.csv\"\u001b[0m\u001b[0;34m,\u001b[0m \u001b[0mindex\u001b[0m\u001b[0;34m=\u001b[0m\u001b[0;32mFalse\u001b[0m\u001b[0;34m)\u001b[0m\u001b[0;34m\u001b[0m\u001b[0;34m\u001b[0m\u001b[0m\n\u001b[0m",
      "\u001b[0;31mNameError\u001b[0m: name 'today' is not defined"
     ]
    }
   ],
   "source": [
    "export_df.to_csv(data_dir / slug / f\"{today}.csv\", index=False)"
   ]
  },
  {
   "cell_type": "markdown",
   "metadata": {},
   "source": [
    "## Combine"
   ]
  },
  {
   "cell_type": "code",
   "execution_count": 260,
   "metadata": {},
   "outputs": [],
   "source": [
    "csv_list = [\n",
    "    i\n",
    "    for i in glob.glob(str(data_dir / slug / \"*.csv\"))\n",
    "    if not str(i).endswith(\"timeseries.csv\")\n",
    "]"
   ]
  },
  {
   "cell_type": "code",
   "execution_count": 261,
   "metadata": {},
   "outputs": [],
   "source": [
    "df_list = []\n",
    "for csv in csv_list:\n",
    "    if \"manual\" in csv:\n",
    "        df = pd.read_csv(csv, parse_dates=[\"date\"])\n",
    "    else:\n",
    "        file_date = csv.split(\"/\")[-1].replace(\".csv\", \"\")\n",
    "        df = pd.read_csv(csv, parse_dates=[\"county_date\"])\n",
    "        df[\"date\"] = file_date\n",
    "    df_list.append(df)"
   ]
  },
  {
   "cell_type": "code",
   "execution_count": 262,
   "metadata": {},
   "outputs": [],
   "source": [
    "df = pd.concat(df_list).sort_values([\"date\", \"area\"])"
   ]
  },
  {
   "cell_type": "code",
   "execution_count": 263,
   "metadata": {},
   "outputs": [],
   "source": [
    "df.to_csv(data_dir / slug / \"timeseries.csv\", index=False)"
   ]
  }
 ],
 "metadata": {
  "kernelspec": {
   "display_name": "Python 3 (ipykernel)",
   "language": "python",
   "name": "python3"
  },
  "language_info": {
   "codemirror_mode": {
    "name": "ipython",
    "version": 3
   },
   "file_extension": ".py",
   "mimetype": "text/x-python",
   "name": "python",
   "nbconvert_exporter": "python",
   "pygments_lexer": "ipython3",
   "version": "3.8.12"
  }
 },
 "nbformat": 4,
 "nbformat_minor": 4
}
