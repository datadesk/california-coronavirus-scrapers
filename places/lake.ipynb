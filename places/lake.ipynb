{
 "cells": [
  {
   "cell_type": "markdown",
   "metadata": {},
   "source": [
    "## Configuration\n",
    "_Initial steps to get the notebook ready to play nice with our repository. Do not delete this section._"
   ]
  },
  {
   "cell_type": "markdown",
   "metadata": {},
   "source": [
    "Code formatting with [black](https://pypi.org/project/nb-black/)."
   ]
  },
  {
   "cell_type": "code",
   "execution_count": 1,
   "metadata": {
    "execution": {
     "iopub.execute_input": "2021-11-22T04:20:34.299452Z",
     "iopub.status.busy": "2021-11-22T04:20:34.299023Z",
     "iopub.status.idle": "2021-11-22T04:20:34.446640Z",
     "shell.execute_reply": "2021-11-22T04:20:34.447081Z"
    }
   },
   "outputs": [],
   "source": [
    "%load_ext lab_black"
   ]
  },
  {
   "cell_type": "code",
   "execution_count": 2,
   "metadata": {
    "execution": {
     "iopub.execute_input": "2021-11-22T04:20:34.452329Z",
     "iopub.status.busy": "2021-11-22T04:20:34.451307Z",
     "iopub.status.idle": "2021-11-22T04:20:34.452871Z",
     "shell.execute_reply": "2021-11-22T04:20:34.453240Z"
    }
   },
   "outputs": [],
   "source": [
    "import os\n",
    "import pathlib"
   ]
  },
  {
   "cell_type": "code",
   "execution_count": 3,
   "metadata": {
    "execution": {
     "iopub.execute_input": "2021-11-22T04:20:34.456926Z",
     "iopub.status.busy": "2021-11-22T04:20:34.456446Z",
     "iopub.status.idle": "2021-11-22T04:20:34.460784Z",
     "shell.execute_reply": "2021-11-22T04:20:34.460368Z"
    }
   },
   "outputs": [],
   "source": [
    "this_dir = pathlib.Path(os.path.abspath(\"\"))"
   ]
  },
  {
   "cell_type": "code",
   "execution_count": 4,
   "metadata": {
    "execution": {
     "iopub.execute_input": "2021-11-22T04:20:34.465873Z",
     "iopub.status.busy": "2021-11-22T04:20:34.464789Z",
     "iopub.status.idle": "2021-11-22T04:20:34.466390Z",
     "shell.execute_reply": "2021-11-22T04:20:34.466754Z"
    }
   },
   "outputs": [],
   "source": [
    "data_dir = this_dir / \"data\""
   ]
  },
  {
   "cell_type": "code",
   "execution_count": 5,
   "metadata": {
    "execution": {
     "iopub.execute_input": "2021-11-22T04:20:34.470386Z",
     "iopub.status.busy": "2021-11-22T04:20:34.469923Z",
     "iopub.status.idle": "2021-11-22T04:20:34.853869Z",
     "shell.execute_reply": "2021-11-22T04:20:34.853075Z"
    }
   },
   "outputs": [],
   "source": [
    "import re\n",
    "import pytz\n",
    "import glob\n",
    "import requests\n",
    "import unicodedata\n",
    "import json\n",
    "import pandas as pd\n",
    "from datetime import datetime\n",
    "from bs4 import BeautifulSoup"
   ]
  },
  {
   "cell_type": "markdown",
   "metadata": {},
   "source": [
    "### Download / retrieve the page"
   ]
  },
  {
   "cell_type": "markdown",
   "metadata": {},
   "source": [
    "Lake County's [dashboard](http://health.co.lake.ca.us/Coronavirus/COVID-19_Data.htm) uses Datawrapper to display cases by ZIP Code. To make sure we get the latest, we'll hit the chart page on Datawrapper's website, then get the iframe URL."
   ]
  },
  {
   "cell_type": "code",
   "execution_count": 6,
   "metadata": {
    "execution": {
     "iopub.execute_input": "2021-11-22T04:20:34.858197Z",
     "iopub.status.busy": "2021-11-22T04:20:34.857328Z",
     "iopub.status.idle": "2021-11-22T04:20:34.860904Z",
     "shell.execute_reply": "2021-11-22T04:20:34.860459Z"
    }
   },
   "outputs": [],
   "source": [
    "url = \"https://www.datawrapper.de/_/D1RaA/\""
   ]
  },
  {
   "cell_type": "code",
   "execution_count": 7,
   "metadata": {
    "execution": {
     "iopub.execute_input": "2021-11-22T04:20:34.864206Z",
     "iopub.status.busy": "2021-11-22T04:20:34.863769Z",
     "iopub.status.idle": "2021-11-22T04:20:35.051812Z",
     "shell.execute_reply": "2021-11-22T04:20:35.051338Z"
    }
   },
   "outputs": [],
   "source": [
    "page = requests.get(url)"
   ]
  },
  {
   "cell_type": "markdown",
   "metadata": {},
   "source": [
    "### Parse with BeautifulSoup"
   ]
  },
  {
   "cell_type": "code",
   "execution_count": 8,
   "metadata": {
    "execution": {
     "iopub.execute_input": "2021-11-22T04:20:35.059400Z",
     "iopub.status.busy": "2021-11-22T04:20:35.058156Z",
     "iopub.status.idle": "2021-11-22T04:20:35.059976Z",
     "shell.execute_reply": "2021-11-22T04:20:35.060342Z"
    }
   },
   "outputs": [],
   "source": [
    "soup = BeautifulSoup(page.content, \"html.parser\")"
   ]
  },
  {
   "cell_type": "code",
   "execution_count": 9,
   "metadata": {
    "execution": {
     "iopub.execute_input": "2021-11-22T04:20:35.064323Z",
     "iopub.status.busy": "2021-11-22T04:20:35.063882Z",
     "iopub.status.idle": "2021-11-22T04:20:35.067130Z",
     "shell.execute_reply": "2021-11-22T04:20:35.067502Z"
    }
   },
   "outputs": [],
   "source": [
    "meta = soup.find(\"meta\", {\"property\": \"og:url\"})"
   ]
  },
  {
   "cell_type": "code",
   "execution_count": 10,
   "metadata": {
    "execution": {
     "iopub.execute_input": "2021-11-22T04:20:35.071850Z",
     "iopub.status.busy": "2021-11-22T04:20:35.071389Z",
     "iopub.status.idle": "2021-11-22T04:20:35.073102Z",
     "shell.execute_reply": "2021-11-22T04:20:35.073477Z"
    }
   },
   "outputs": [],
   "source": [
    "dw_url = meta[\"content\"]"
   ]
  },
  {
   "cell_type": "markdown",
   "metadata": {},
   "source": [
    "### Parse Datawrapper"
   ]
  },
  {
   "cell_type": "code",
   "execution_count": 11,
   "metadata": {
    "execution": {
     "iopub.execute_input": "2021-11-22T04:20:35.076766Z",
     "iopub.status.busy": "2021-11-22T04:20:35.076303Z",
     "iopub.status.idle": "2021-11-22T04:20:35.079416Z",
     "shell.execute_reply": "2021-11-22T04:20:35.079045Z"
    }
   },
   "outputs": [],
   "source": [
    "dataset_url = dw_url + \"dataset.csv\""
   ]
  },
  {
   "cell_type": "code",
   "execution_count": 12,
   "metadata": {
    "execution": {
     "iopub.execute_input": "2021-11-22T04:20:35.084864Z",
     "iopub.status.busy": "2021-11-22T04:20:35.081951Z",
     "iopub.status.idle": "2021-11-22T04:20:35.238719Z",
     "shell.execute_reply": "2021-11-22T04:20:35.238202Z"
    }
   },
   "outputs": [],
   "source": [
    "dw_r = requests.get(dataset_url)"
   ]
  },
  {
   "cell_type": "code",
   "execution_count": 13,
   "metadata": {
    "execution": {
     "iopub.execute_input": "2021-11-22T04:20:35.247319Z",
     "iopub.status.busy": "2021-11-22T04:20:35.246537Z",
     "iopub.status.idle": "2021-11-22T04:20:35.250947Z",
     "shell.execute_reply": "2021-11-22T04:20:35.250555Z"
    }
   },
   "outputs": [],
   "source": [
    "string = dw_r.text"
   ]
  },
  {
   "cell_type": "code",
   "execution_count": 14,
   "metadata": {
    "execution": {
     "iopub.execute_input": "2021-11-22T04:20:35.255893Z",
     "iopub.status.busy": "2021-11-22T04:20:35.254883Z",
     "iopub.status.idle": "2021-11-22T04:20:35.258064Z",
     "shell.execute_reply": "2021-11-22T04:20:35.258446Z"
    }
   },
   "outputs": [],
   "source": [
    "parsed = string.split(\"\\r\\n\")"
   ]
  },
  {
   "cell_type": "code",
   "execution_count": 15,
   "metadata": {
    "execution": {
     "iopub.execute_input": "2021-11-22T04:20:35.265117Z",
     "iopub.status.busy": "2021-11-22T04:20:35.264471Z",
     "iopub.status.idle": "2021-11-22T04:20:35.267309Z",
     "shell.execute_reply": "2021-11-22T04:20:35.267679Z"
    }
   },
   "outputs": [],
   "source": [
    "data_list = []\n",
    "for row in parsed:\n",
    "    cell = row.split(\",\")\n",
    "    data_list.append(cell)"
   ]
  },
  {
   "cell_type": "code",
   "execution_count": 16,
   "metadata": {
    "execution": {
     "iopub.execute_input": "2021-11-22T04:20:35.277926Z",
     "iopub.status.busy": "2021-11-22T04:20:35.275110Z",
     "iopub.status.idle": "2021-11-22T04:20:35.283539Z",
     "shell.execute_reply": "2021-11-22T04:20:35.282931Z"
    }
   },
   "outputs": [
    {
     "data": {
      "text/plain": [
       "[['Supervisorial District', 'District Total', 'Zip Code', 'Zip Code Total'],\n",
       " ['District 1', '863', '95457', '290'],\n",
       " ['', '', '95467', '387'],\n",
       " ['', '', '95461', '186'],\n",
       " ['District 2', '1844', '95422', '1819'],\n",
       " ['', '', '95424', '25'],\n",
       " ['District 3', '1183', '95423', '274'],\n",
       " ['', '', '95458', '290'],\n",
       " ['', '', '95464', '278'],\n",
       " ['', '', '95485', '315'],\n",
       " ['', '', '95493', '12'],\n",
       " ['', '', '95443', '14'],\n",
       " ['District 4', '1500', '95453', '1452'],\n",
       " ['', '', '95435', '48'],\n",
       " ['District 5', '1240', '95426', '72'],\n",
       " ['', '', '95451', '1168'],\n",
       " ['Unknown or Other', '97', 'Unknown/other', '97']]"
      ]
     },
     "execution_count": 16,
     "metadata": {},
     "output_type": "execute_result"
    }
   ],
   "source": [
    "data_list"
   ]
  },
  {
   "cell_type": "code",
   "execution_count": 17,
   "metadata": {
    "execution": {
     "iopub.execute_input": "2021-11-22T04:20:35.289614Z",
     "iopub.status.busy": "2021-11-22T04:20:35.287913Z",
     "iopub.status.idle": "2021-11-22T04:20:35.292167Z",
     "shell.execute_reply": "2021-11-22T04:20:35.291773Z"
    }
   },
   "outputs": [],
   "source": [
    "df = pd.DataFrame(data_list[1:], columns=data_list[0])"
   ]
  },
  {
   "cell_type": "markdown",
   "metadata": {},
   "source": [
    "### Get timestamp"
   ]
  },
  {
   "cell_type": "code",
   "execution_count": 18,
   "metadata": {
    "execution": {
     "iopub.execute_input": "2021-11-22T04:20:35.297256Z",
     "iopub.status.busy": "2021-11-22T04:20:35.296630Z",
     "iopub.status.idle": "2021-11-22T04:20:35.299844Z",
     "shell.execute_reply": "2021-11-22T04:20:35.299237Z"
    }
   },
   "outputs": [],
   "source": [
    "title_tag = soup.find(\"meta\", {\"property\": \"og:title\"})"
   ]
  },
  {
   "cell_type": "code",
   "execution_count": 19,
   "metadata": {
    "execution": {
     "iopub.execute_input": "2021-11-22T04:20:35.303949Z",
     "iopub.status.busy": "2021-11-22T04:20:35.302857Z",
     "iopub.status.idle": "2021-11-22T04:20:35.306507Z",
     "shell.execute_reply": "2021-11-22T04:20:35.306120Z"
    }
   },
   "outputs": [],
   "source": [
    "title_str = title_tag[\"content\"]"
   ]
  },
  {
   "cell_type": "code",
   "execution_count": 20,
   "metadata": {
    "execution": {
     "iopub.execute_input": "2021-11-22T04:20:35.310029Z",
     "iopub.status.busy": "2021-11-22T04:20:35.309597Z",
     "iopub.status.idle": "2021-11-22T04:20:35.314814Z",
     "shell.execute_reply": "2021-11-22T04:20:35.315180Z"
    }
   },
   "outputs": [
    {
     "data": {
      "text/plain": [
       "'Lake County COVID-19 cases, by district and zip code | Created with Datawrapper'"
      ]
     },
     "execution_count": 20,
     "metadata": {},
     "output_type": "execute_result"
    }
   ],
   "source": [
    "title_str"
   ]
  },
  {
   "cell_type": "code",
   "execution_count": 21,
   "metadata": {
    "execution": {
     "iopub.execute_input": "2021-11-22T04:20:35.319008Z",
     "iopub.status.busy": "2021-11-22T04:20:35.318327Z",
     "iopub.status.idle": "2021-11-22T04:20:35.322304Z",
     "shell.execute_reply": "2021-11-22T04:20:35.322673Z"
    }
   },
   "outputs": [],
   "source": [
    "date_regex = re.search(r\"(\\d+/\\d+/\\d+)\", title_str)"
   ]
  },
  {
   "cell_type": "code",
   "execution_count": 22,
   "metadata": {
    "execution": {
     "iopub.execute_input": "2021-11-22T04:20:35.327342Z",
     "iopub.status.busy": "2021-11-22T04:20:35.325456Z",
     "iopub.status.idle": "2021-11-22T04:20:35.435162Z",
     "shell.execute_reply": "2021-11-22T04:20:35.434399Z"
    }
   },
   "outputs": [
    {
     "ename": "AttributeError",
     "evalue": "'NoneType' object has no attribute 'group'",
     "output_type": "error",
     "traceback": [
      "\u001b[0;31m---------------------------------------------------------------------------\u001b[0m",
      "\u001b[0;31mAttributeError\u001b[0m                            Traceback (most recent call last)",
      "\u001b[0;32m/tmp/ipykernel_3160/1864350042.py\u001b[0m in \u001b[0;36m<module>\u001b[0;34m\u001b[0m\n\u001b[0;32m----> 1\u001b[0;31m \u001b[0mdate_str\u001b[0m \u001b[0;34m=\u001b[0m \u001b[0mdate_regex\u001b[0m\u001b[0;34m.\u001b[0m\u001b[0mgroup\u001b[0m\u001b[0;34m(\u001b[0m\u001b[0;36m1\u001b[0m\u001b[0;34m)\u001b[0m\u001b[0;34m\u001b[0m\u001b[0;34m\u001b[0m\u001b[0m\n\u001b[0m",
      "\u001b[0;31mAttributeError\u001b[0m: 'NoneType' object has no attribute 'group'"
     ]
    }
   ],
   "source": [
    "date_str = date_regex.group(1)"
   ]
  },
  {
   "cell_type": "code",
   "execution_count": 64,
   "metadata": {},
   "outputs": [],
   "source": [
    "latest_date = pd.to_datetime(date_str).date()"
   ]
  },
  {
   "cell_type": "code",
   "execution_count": 65,
   "metadata": {},
   "outputs": [],
   "source": [
    "df[\"county_date\"] = latest_date"
   ]
  },
  {
   "cell_type": "code",
   "execution_count": 66,
   "metadata": {},
   "outputs": [],
   "source": [
    "df[\"county\"] = \"Lake\""
   ]
  },
  {
   "cell_type": "markdown",
   "metadata": {},
   "source": [
    "### Rename and drop columns"
   ]
  },
  {
   "cell_type": "code",
   "execution_count": 67,
   "metadata": {},
   "outputs": [],
   "source": [
    "cols = {\"Zip Code\": \"area\", \"Zip Code Total\": \"confirmed_cases\"}"
   ]
  },
  {
   "cell_type": "code",
   "execution_count": 68,
   "metadata": {},
   "outputs": [],
   "source": [
    "export_df = df.rename(columns=cols)[\n",
    "    [\"county\", \"area\", \"confirmed_cases\", \"county_date\"]\n",
    "]"
   ]
  },
  {
   "cell_type": "code",
   "execution_count": 69,
   "metadata": {},
   "outputs": [
    {
     "data": {
      "text/plain": [
       "16"
      ]
     },
     "execution_count": 69,
     "metadata": {},
     "output_type": "execute_result"
    }
   ],
   "source": [
    "len(export_df)"
   ]
  },
  {
   "cell_type": "markdown",
   "metadata": {},
   "source": [
    "### Vet"
   ]
  },
  {
   "cell_type": "markdown",
   "metadata": {},
   "source": [
    "Lake County has 16 ZIP code areas, including \"Unknown\""
   ]
  },
  {
   "cell_type": "code",
   "execution_count": 70,
   "metadata": {},
   "outputs": [],
   "source": [
    "lake_len = 16"
   ]
  },
  {
   "cell_type": "code",
   "execution_count": 71,
   "metadata": {},
   "outputs": [],
   "source": [
    "try:\n",
    "    assert not len(export_df) > lake_len\n",
    "except AssertionError:\n",
    "    raise AssertionError(\n",
    "        \"Lake County scraper: spreadsheet has additional zip code(s) than previous\"\n",
    "    )"
   ]
  },
  {
   "cell_type": "code",
   "execution_count": 72,
   "metadata": {},
   "outputs": [],
   "source": [
    "try:\n",
    "    assert not len(export_df) < lake_len\n",
    "except AssertionError:\n",
    "    raise AssertionError(\"Lake County scraper: spreadsheet is missing row(s)\")"
   ]
  },
  {
   "cell_type": "markdown",
   "metadata": {},
   "source": [
    "### Export csv file"
   ]
  },
  {
   "cell_type": "markdown",
   "metadata": {},
   "source": [
    "Write csv file timestamped with today's date"
   ]
  },
  {
   "cell_type": "code",
   "execution_count": 73,
   "metadata": {},
   "outputs": [],
   "source": [
    "slug = \"lake\""
   ]
  },
  {
   "cell_type": "code",
   "execution_count": 74,
   "metadata": {},
   "outputs": [],
   "source": [
    "tz = pytz.timezone(\"America/Los_Angeles\")"
   ]
  },
  {
   "cell_type": "code",
   "execution_count": 75,
   "metadata": {},
   "outputs": [],
   "source": [
    "today = datetime.now(tz).date()"
   ]
  },
  {
   "cell_type": "code",
   "execution_count": 76,
   "metadata": {},
   "outputs": [],
   "source": [
    "export_df.to_csv(data_dir / slug / f\"{today}.csv\", index=False)"
   ]
  },
  {
   "cell_type": "markdown",
   "metadata": {},
   "source": [
    "## Combine"
   ]
  },
  {
   "cell_type": "code",
   "execution_count": 77,
   "metadata": {},
   "outputs": [],
   "source": [
    "csv_list = [\n",
    "    i\n",
    "    for i in glob.glob(str(data_dir / slug / \"*.csv\"))\n",
    "    if not str(i).endswith(\"timeseries.csv\")\n",
    "]"
   ]
  },
  {
   "cell_type": "code",
   "execution_count": 78,
   "metadata": {},
   "outputs": [],
   "source": [
    "df_list = []\n",
    "for csv in csv_list:\n",
    "    if \"manual\" in csv:\n",
    "        df = pd.read_csv(csv, parse_dates=[\"date\"])\n",
    "    else:\n",
    "        file_date = csv.split(\"/\")[-1].replace(\".csv\", \"\")\n",
    "        df = pd.read_csv(csv, parse_dates=[\"county_date\"])\n",
    "        df[\"date\"] = file_date\n",
    "    df_list.append(df)"
   ]
  },
  {
   "cell_type": "code",
   "execution_count": 79,
   "metadata": {},
   "outputs": [],
   "source": [
    "df = pd.concat(df_list).sort_values([\"date\", \"area\"])"
   ]
  },
  {
   "cell_type": "code",
   "execution_count": 80,
   "metadata": {},
   "outputs": [],
   "source": [
    "df.to_csv(data_dir / slug / \"timeseries.csv\", index=False)"
   ]
  }
 ],
 "metadata": {
  "kernelspec": {
   "display_name": "Python 3 (ipykernel)",
   "language": "python",
   "name": "python3"
  },
  "language_info": {
   "codemirror_mode": {
    "name": "ipython",
    "version": 3
   },
   "file_extension": ".py",
   "mimetype": "text/x-python",
   "name": "python",
   "nbconvert_exporter": "python",
   "pygments_lexer": "ipython3",
   "version": "3.8.12"
  }
 },
 "nbformat": 4,
 "nbformat_minor": 4
}
