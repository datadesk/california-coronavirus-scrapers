{
 "cells": [
  {
   "cell_type": "markdown",
   "metadata": {},
   "source": [
    "## Configuration\n",
    "_Initial steps to get the notebook ready to play nice with our repository. Do not delete this section._"
   ]
  },
  {
   "cell_type": "markdown",
   "metadata": {},
   "source": [
    "Code formatting with [black](https://pypi.org/project/nb-black/)."
   ]
  },
  {
   "cell_type": "code",
   "execution_count": 1,
   "metadata": {
    "execution": {
     "iopub.execute_input": "2021-10-20T23:30:37.510646Z",
     "iopub.status.busy": "2021-10-20T23:30:37.510032Z",
     "iopub.status.idle": "2021-10-20T23:30:37.646354Z",
     "shell.execute_reply": "2021-10-20T23:30:37.645720Z"
    }
   },
   "outputs": [],
   "source": [
    "%load_ext lab_black"
   ]
  },
  {
   "cell_type": "code",
   "execution_count": 2,
   "metadata": {
    "execution": {
     "iopub.execute_input": "2021-10-20T23:30:37.651530Z",
     "iopub.status.busy": "2021-10-20T23:30:37.650963Z",
     "iopub.status.idle": "2021-10-20T23:30:37.653913Z",
     "shell.execute_reply": "2021-10-20T23:30:37.653465Z"
    }
   },
   "outputs": [],
   "source": [
    "import os\n",
    "import pathlib"
   ]
  },
  {
   "cell_type": "code",
   "execution_count": 3,
   "metadata": {
    "execution": {
     "iopub.execute_input": "2021-10-20T23:30:37.662457Z",
     "iopub.status.busy": "2021-10-20T23:30:37.661010Z",
     "iopub.status.idle": "2021-10-20T23:30:37.663145Z",
     "shell.execute_reply": "2021-10-20T23:30:37.663601Z"
    }
   },
   "outputs": [],
   "source": [
    "this_dir = pathlib.Path(os.path.abspath(\"\"))"
   ]
  },
  {
   "cell_type": "code",
   "execution_count": 4,
   "metadata": {
    "execution": {
     "iopub.execute_input": "2021-10-20T23:30:37.669073Z",
     "iopub.status.busy": "2021-10-20T23:30:37.667712Z",
     "iopub.status.idle": "2021-10-20T23:30:37.672704Z",
     "shell.execute_reply": "2021-10-20T23:30:37.673487Z"
    }
   },
   "outputs": [],
   "source": [
    "data_dir = this_dir / \"data\""
   ]
  },
  {
   "cell_type": "code",
   "execution_count": 5,
   "metadata": {
    "execution": {
     "iopub.execute_input": "2021-10-20T23:30:37.678411Z",
     "iopub.status.busy": "2021-10-20T23:30:37.677781Z",
     "iopub.status.idle": "2021-10-20T23:30:38.152879Z",
     "shell.execute_reply": "2021-10-20T23:30:38.151974Z"
    }
   },
   "outputs": [],
   "source": [
    "import re\n",
    "import pytz\n",
    "import glob\n",
    "import requests\n",
    "import unicodedata\n",
    "import json\n",
    "import pandas as pd\n",
    "from datetime import datetime\n",
    "from bs4 import BeautifulSoup"
   ]
  },
  {
   "cell_type": "markdown",
   "metadata": {},
   "source": [
    "### Download / retrieve the page"
   ]
  },
  {
   "cell_type": "markdown",
   "metadata": {},
   "source": [
    "Lake County's [dashboard](http://health.co.lake.ca.us/Coronavirus/COVID-19_Data.htm) uses Datawrapper to display cases by ZIP Code. To make sure we get the latest, we'll hit the chart page on Datawrapper's website, then get the iframe URL."
   ]
  },
  {
   "cell_type": "code",
   "execution_count": 6,
   "metadata": {
    "execution": {
     "iopub.execute_input": "2021-10-20T23:30:38.159404Z",
     "iopub.status.busy": "2021-10-20T23:30:38.158134Z",
     "iopub.status.idle": "2021-10-20T23:30:38.163223Z",
     "shell.execute_reply": "2021-10-20T23:30:38.164800Z"
    }
   },
   "outputs": [],
   "source": [
    "url = \"https://www.datawrapper.de/_/D1RaA/\""
   ]
  },
  {
   "cell_type": "code",
   "execution_count": 7,
   "metadata": {
    "execution": {
     "iopub.execute_input": "2021-10-20T23:30:38.170865Z",
     "iopub.status.busy": "2021-10-20T23:30:38.168056Z",
     "iopub.status.idle": "2021-10-20T23:30:38.681901Z",
     "shell.execute_reply": "2021-10-20T23:30:38.681378Z"
    }
   },
   "outputs": [],
   "source": [
    "page = requests.get(url)"
   ]
  },
  {
   "cell_type": "markdown",
   "metadata": {},
   "source": [
    "### Parse with BeautifulSoup"
   ]
  },
  {
   "cell_type": "code",
   "execution_count": 8,
   "metadata": {
    "execution": {
     "iopub.execute_input": "2021-10-20T23:30:38.690749Z",
     "iopub.status.busy": "2021-10-20T23:30:38.690124Z",
     "iopub.status.idle": "2021-10-20T23:30:38.692524Z",
     "shell.execute_reply": "2021-10-20T23:30:38.693037Z"
    }
   },
   "outputs": [],
   "source": [
    "soup = BeautifulSoup(page.content, \"html.parser\")"
   ]
  },
  {
   "cell_type": "code",
   "execution_count": 9,
   "metadata": {
    "execution": {
     "iopub.execute_input": "2021-10-20T23:30:38.699349Z",
     "iopub.status.busy": "2021-10-20T23:30:38.698626Z",
     "iopub.status.idle": "2021-10-20T23:30:38.701547Z",
     "shell.execute_reply": "2021-10-20T23:30:38.702021Z"
    }
   },
   "outputs": [],
   "source": [
    "meta = soup.find(\"meta\", {\"property\": \"og:url\"})"
   ]
  },
  {
   "cell_type": "code",
   "execution_count": 10,
   "metadata": {
    "execution": {
     "iopub.execute_input": "2021-10-20T23:30:38.707386Z",
     "iopub.status.busy": "2021-10-20T23:30:38.706310Z",
     "iopub.status.idle": "2021-10-20T23:30:38.710504Z",
     "shell.execute_reply": "2021-10-20T23:30:38.711173Z"
    }
   },
   "outputs": [],
   "source": [
    "dw_url = meta[\"content\"]"
   ]
  },
  {
   "cell_type": "markdown",
   "metadata": {},
   "source": [
    "### Parse Datawrapper"
   ]
  },
  {
   "cell_type": "code",
   "execution_count": 11,
   "metadata": {
    "execution": {
     "iopub.execute_input": "2021-10-20T23:30:38.717304Z",
     "iopub.status.busy": "2021-10-20T23:30:38.716688Z",
     "iopub.status.idle": "2021-10-20T23:30:38.720115Z",
     "shell.execute_reply": "2021-10-20T23:30:38.719511Z"
    }
   },
   "outputs": [],
   "source": [
    "dataset_url = dw_url + \"dataset.csv\""
   ]
  },
  {
   "cell_type": "code",
   "execution_count": 12,
   "metadata": {
    "execution": {
     "iopub.execute_input": "2021-10-20T23:30:38.728641Z",
     "iopub.status.busy": "2021-10-20T23:30:38.728099Z",
     "iopub.status.idle": "2021-10-20T23:30:38.793494Z",
     "shell.execute_reply": "2021-10-20T23:30:38.793994Z"
    }
   },
   "outputs": [],
   "source": [
    "dw_r = requests.get(dataset_url)"
   ]
  },
  {
   "cell_type": "code",
   "execution_count": 13,
   "metadata": {
    "execution": {
     "iopub.execute_input": "2021-10-20T23:30:38.802027Z",
     "iopub.status.busy": "2021-10-20T23:30:38.801466Z",
     "iopub.status.idle": "2021-10-20T23:30:38.805068Z",
     "shell.execute_reply": "2021-10-20T23:30:38.804509Z"
    }
   },
   "outputs": [],
   "source": [
    "string = dw_r.text"
   ]
  },
  {
   "cell_type": "code",
   "execution_count": 14,
   "metadata": {
    "execution": {
     "iopub.execute_input": "2021-10-20T23:30:38.809695Z",
     "iopub.status.busy": "2021-10-20T23:30:38.808455Z",
     "iopub.status.idle": "2021-10-20T23:30:38.811867Z",
     "shell.execute_reply": "2021-10-20T23:30:38.812393Z"
    }
   },
   "outputs": [],
   "source": [
    "parsed = string.split(\"\\r\\n\")"
   ]
  },
  {
   "cell_type": "code",
   "execution_count": 15,
   "metadata": {
    "execution": {
     "iopub.execute_input": "2021-10-20T23:30:38.821404Z",
     "iopub.status.busy": "2021-10-20T23:30:38.818871Z",
     "iopub.status.idle": "2021-10-20T23:30:38.823187Z",
     "shell.execute_reply": "2021-10-20T23:30:38.823655Z"
    }
   },
   "outputs": [],
   "source": [
    "data_list = []\n",
    "for row in parsed:\n",
    "    cell = row.split(\",\")\n",
    "    data_list.append(cell)"
   ]
  },
  {
   "cell_type": "code",
   "execution_count": 16,
   "metadata": {
    "execution": {
     "iopub.execute_input": "2021-10-20T23:30:38.831859Z",
     "iopub.status.busy": "2021-10-20T23:30:38.831065Z",
     "iopub.status.idle": "2021-10-20T23:30:38.839873Z",
     "shell.execute_reply": "2021-10-20T23:30:38.840368Z"
    }
   },
   "outputs": [
    {
     "data": {
      "text/plain": [
       "[['Supervisorial District', 'District Total', 'Zip Code', 'Zip Code Total'],\n",
       " ['District 1', '771', '95457', '261'],\n",
       " ['', '', '95467', '344'],\n",
       " ['', '', '95461', '166'],\n",
       " ['District 2', '1647', '95422', '1627'],\n",
       " ['', '', '95424', '20'],\n",
       " ['District 3', '1100', '95423', '256'],\n",
       " ['', '', '95458', '271'],\n",
       " ['', '', '95464', '261'],\n",
       " ['', '', '95485', '291'],\n",
       " ['', '', '95493', '11'],\n",
       " ['', '', '95443', '10'],\n",
       " ['District 4', '1434', '95453', '1388'],\n",
       " ['', '', '95435', '46'],\n",
       " ['District 5', '1150', '95426', '62'],\n",
       " ['', '', '95451', '1088'],\n",
       " ['Unknown or Other', '99', 'Unknown/other', '99']]"
      ]
     },
     "execution_count": 16,
     "metadata": {},
     "output_type": "execute_result"
    }
   ],
   "source": [
    "data_list"
   ]
  },
  {
   "cell_type": "code",
   "execution_count": 17,
   "metadata": {
    "execution": {
     "iopub.execute_input": "2021-10-20T23:30:38.846135Z",
     "iopub.status.busy": "2021-10-20T23:30:38.845321Z",
     "iopub.status.idle": "2021-10-20T23:30:38.850428Z",
     "shell.execute_reply": "2021-10-20T23:30:38.849882Z"
    }
   },
   "outputs": [],
   "source": [
    "df = pd.DataFrame(data_list[1:], columns=data_list[0])"
   ]
  },
  {
   "cell_type": "markdown",
   "metadata": {},
   "source": [
    "### Get timestamp"
   ]
  },
  {
   "cell_type": "code",
   "execution_count": 18,
   "metadata": {
    "execution": {
     "iopub.execute_input": "2021-10-20T23:30:38.854977Z",
     "iopub.status.busy": "2021-10-20T23:30:38.854284Z",
     "iopub.status.idle": "2021-10-20T23:30:38.858710Z",
     "shell.execute_reply": "2021-10-20T23:30:38.858210Z"
    }
   },
   "outputs": [],
   "source": [
    "title_tag = soup.find(\"meta\", {\"property\": \"og:title\"})"
   ]
  },
  {
   "cell_type": "code",
   "execution_count": 19,
   "metadata": {
    "execution": {
     "iopub.execute_input": "2021-10-20T23:30:38.862650Z",
     "iopub.status.busy": "2021-10-20T23:30:38.862077Z",
     "iopub.status.idle": "2021-10-20T23:30:38.865203Z",
     "shell.execute_reply": "2021-10-20T23:30:38.865679Z"
    }
   },
   "outputs": [],
   "source": [
    "title_str = title_tag[\"content\"]"
   ]
  },
  {
   "cell_type": "code",
   "execution_count": 20,
   "metadata": {
    "execution": {
     "iopub.execute_input": "2021-10-20T23:30:38.871089Z",
     "iopub.status.busy": "2021-10-20T23:30:38.869776Z",
     "iopub.status.idle": "2021-10-20T23:30:38.873240Z",
     "shell.execute_reply": "2021-10-20T23:30:38.873805Z"
    }
   },
   "outputs": [
    {
     "data": {
      "text/plain": [
       "'Lake County COVID-19 cases, by district and zip code, through 9/30/21 | Created with Datawrapper'"
      ]
     },
     "execution_count": 20,
     "metadata": {},
     "output_type": "execute_result"
    }
   ],
   "source": [
    "title_str"
   ]
  },
  {
   "cell_type": "code",
   "execution_count": 21,
   "metadata": {
    "execution": {
     "iopub.execute_input": "2021-10-20T23:30:38.880477Z",
     "iopub.status.busy": "2021-10-20T23:30:38.879123Z",
     "iopub.status.idle": "2021-10-20T23:30:38.881257Z",
     "shell.execute_reply": "2021-10-20T23:30:38.881797Z"
    }
   },
   "outputs": [],
   "source": [
    "date_regex = re.search(r\"(\\d+/\\d+/\\d+)\", title_str)"
   ]
  },
  {
   "cell_type": "code",
   "execution_count": 22,
   "metadata": {
    "execution": {
     "iopub.execute_input": "2021-10-20T23:30:38.888835Z",
     "iopub.status.busy": "2021-10-20T23:30:38.887393Z",
     "iopub.status.idle": "2021-10-20T23:30:38.889480Z",
     "shell.execute_reply": "2021-10-20T23:30:38.889976Z"
    }
   },
   "outputs": [],
   "source": [
    "date_str = date_regex.group(1)"
   ]
  },
  {
   "cell_type": "code",
   "execution_count": 23,
   "metadata": {
    "execution": {
     "iopub.execute_input": "2021-10-20T23:30:38.899196Z",
     "iopub.status.busy": "2021-10-20T23:30:38.897692Z",
     "iopub.status.idle": "2021-10-20T23:30:38.899797Z",
     "shell.execute_reply": "2021-10-20T23:30:38.900254Z"
    }
   },
   "outputs": [],
   "source": [
    "latest_date = pd.to_datetime(date_str).date()"
   ]
  },
  {
   "cell_type": "code",
   "execution_count": 24,
   "metadata": {
    "execution": {
     "iopub.execute_input": "2021-10-20T23:30:38.904782Z",
     "iopub.status.busy": "2021-10-20T23:30:38.902496Z",
     "iopub.status.idle": "2021-10-20T23:30:38.908033Z",
     "shell.execute_reply": "2021-10-20T23:30:38.908472Z"
    }
   },
   "outputs": [],
   "source": [
    "df[\"county_date\"] = latest_date"
   ]
  },
  {
   "cell_type": "markdown",
   "metadata": {},
   "source": [
    "### Rename and drop columns"
   ]
  },
  {
   "cell_type": "code",
   "execution_count": 25,
   "metadata": {
    "execution": {
     "iopub.execute_input": "2021-10-20T23:30:38.914770Z",
     "iopub.status.busy": "2021-10-20T23:30:38.913515Z",
     "iopub.status.idle": "2021-10-20T23:30:38.916374Z",
     "shell.execute_reply": "2021-10-20T23:30:38.915848Z"
    }
   },
   "outputs": [],
   "source": [
    "cols = {\"Zip Code\": \"area\", \"Zip Code Total\": \"confirmed_cases\"}"
   ]
  },
  {
   "cell_type": "code",
   "execution_count": 26,
   "metadata": {
    "execution": {
     "iopub.execute_input": "2021-10-20T23:30:38.926822Z",
     "iopub.status.busy": "2021-10-20T23:30:38.925595Z",
     "iopub.status.idle": "2021-10-20T23:30:38.928501Z",
     "shell.execute_reply": "2021-10-20T23:30:38.928019Z"
    }
   },
   "outputs": [],
   "source": [
    "export_df = df.rename(columns=cols)[[\"area\", \"confirmed_cases\", \"county_date\"]]"
   ]
  },
  {
   "cell_type": "code",
   "execution_count": 27,
   "metadata": {
    "execution": {
     "iopub.execute_input": "2021-10-20T23:30:38.932936Z",
     "iopub.status.busy": "2021-10-20T23:30:38.930768Z",
     "iopub.status.idle": "2021-10-20T23:30:38.937011Z",
     "shell.execute_reply": "2021-10-20T23:30:38.936289Z"
    }
   },
   "outputs": [
    {
     "data": {
      "text/plain": [
       "16"
      ]
     },
     "execution_count": 27,
     "metadata": {},
     "output_type": "execute_result"
    }
   ],
   "source": [
    "len(export_df)"
   ]
  },
  {
   "cell_type": "markdown",
   "metadata": {},
   "source": [
    "### Vet"
   ]
  },
  {
   "cell_type": "markdown",
   "metadata": {},
   "source": [
    "Lake County has 16 ZIP code areas, including \"Unknown\""
   ]
  },
  {
   "cell_type": "code",
   "execution_count": 28,
   "metadata": {
    "execution": {
     "iopub.execute_input": "2021-10-20T23:30:38.941776Z",
     "iopub.status.busy": "2021-10-20T23:30:38.940775Z",
     "iopub.status.idle": "2021-10-20T23:30:38.943479Z",
     "shell.execute_reply": "2021-10-20T23:30:38.943923Z"
    }
   },
   "outputs": [],
   "source": [
    "lake_len = 16"
   ]
  },
  {
   "cell_type": "code",
   "execution_count": 29,
   "metadata": {
    "execution": {
     "iopub.execute_input": "2021-10-20T23:30:38.951578Z",
     "iopub.status.busy": "2021-10-20T23:30:38.951017Z",
     "iopub.status.idle": "2021-10-20T23:30:38.953228Z",
     "shell.execute_reply": "2021-10-20T23:30:38.953709Z"
    }
   },
   "outputs": [],
   "source": [
    "try:\n",
    "    assert not len(export_df) > lake_len\n",
    "except AssertionError:\n",
    "    raise AssertionError(\n",
    "        \"Lake County scraper: spreadsheet has additional zip code(s) than previous\"\n",
    "    )"
   ]
  },
  {
   "cell_type": "code",
   "execution_count": 30,
   "metadata": {
    "execution": {
     "iopub.execute_input": "2021-10-20T23:30:38.958153Z",
     "iopub.status.busy": "2021-10-20T23:30:38.957572Z",
     "iopub.status.idle": "2021-10-20T23:30:38.963344Z",
     "shell.execute_reply": "2021-10-20T23:30:38.962859Z"
    }
   },
   "outputs": [],
   "source": [
    "try:\n",
    "    assert not len(export_df) < lake_len\n",
    "except AssertionError:\n",
    "    raise AssertionError(\"Lake County scraper: spreadsheet is missing row(s)\")"
   ]
  },
  {
   "cell_type": "markdown",
   "metadata": {},
   "source": [
    "### Export csv file"
   ]
  },
  {
   "cell_type": "markdown",
   "metadata": {},
   "source": [
    "Write csv file timestamped with today's date"
   ]
  },
  {
   "cell_type": "code",
   "execution_count": 31,
   "metadata": {
    "execution": {
     "iopub.execute_input": "2021-10-20T23:30:38.968164Z",
     "iopub.status.busy": "2021-10-20T23:30:38.965575Z",
     "iopub.status.idle": "2021-10-20T23:30:38.970783Z",
     "shell.execute_reply": "2021-10-20T23:30:38.970296Z"
    }
   },
   "outputs": [],
   "source": [
    "slug = \"lake\""
   ]
  },
  {
   "cell_type": "code",
   "execution_count": 32,
   "metadata": {
    "execution": {
     "iopub.execute_input": "2021-10-20T23:30:38.976443Z",
     "iopub.status.busy": "2021-10-20T23:30:38.975109Z",
     "iopub.status.idle": "2021-10-20T23:30:39.108369Z",
     "shell.execute_reply": "2021-10-20T23:30:39.107553Z"
    }
   },
   "outputs": [
    {
     "ename": "NameError",
     "evalue": "name 'today' is not defined",
     "output_type": "error",
     "traceback": [
      "\u001b[0;31m---------------------------------------------------------------------------\u001b[0m",
      "\u001b[0;31mNameError\u001b[0m                                 Traceback (most recent call last)",
      "\u001b[0;32m/tmp/ipykernel_3110/2436362009.py\u001b[0m in \u001b[0;36m<module>\u001b[0;34m\u001b[0m\n\u001b[0;32m----> 1\u001b[0;31m \u001b[0mexport_df\u001b[0m\u001b[0;34m.\u001b[0m\u001b[0mto_csv\u001b[0m\u001b[0;34m(\u001b[0m\u001b[0mdata_dir\u001b[0m \u001b[0;34m/\u001b[0m \u001b[0mslug\u001b[0m \u001b[0;34m/\u001b[0m \u001b[0;34mf\"{today}.csv\"\u001b[0m\u001b[0;34m,\u001b[0m \u001b[0mindex\u001b[0m\u001b[0;34m=\u001b[0m\u001b[0;32mFalse\u001b[0m\u001b[0;34m)\u001b[0m\u001b[0;34m\u001b[0m\u001b[0;34m\u001b[0m\u001b[0m\n\u001b[0m",
      "\u001b[0;31mNameError\u001b[0m: name 'today' is not defined"
     ]
    }
   ],
   "source": [
    "export_df.to_csv(data_dir / slug / f\"{today}.csv\", index=False)"
   ]
  },
  {
   "cell_type": "markdown",
   "metadata": {},
   "source": [
    "## Combine"
   ]
  },
  {
   "cell_type": "code",
   "execution_count": 260,
   "metadata": {},
   "outputs": [],
   "source": [
    "csv_list = [\n",
    "    i\n",
    "    for i in glob.glob(str(data_dir / slug / \"*.csv\"))\n",
    "    if not str(i).endswith(\"timeseries.csv\")\n",
    "]"
   ]
  },
  {
   "cell_type": "code",
   "execution_count": 261,
   "metadata": {},
   "outputs": [],
   "source": [
    "df_list = []\n",
    "for csv in csv_list:\n",
    "    if \"manual\" in csv:\n",
    "        df = pd.read_csv(csv, parse_dates=[\"date\"])\n",
    "    else:\n",
    "        file_date = csv.split(\"/\")[-1].replace(\".csv\", \"\")\n",
    "        df = pd.read_csv(csv, parse_dates=[\"county_date\"])\n",
    "        df[\"date\"] = file_date\n",
    "    df_list.append(df)"
   ]
  },
  {
   "cell_type": "code",
   "execution_count": 262,
   "metadata": {},
   "outputs": [],
   "source": [
    "df = pd.concat(df_list).sort_values([\"date\", \"area\"])"
   ]
  },
  {
   "cell_type": "code",
   "execution_count": 263,
   "metadata": {},
   "outputs": [],
   "source": [
    "df.to_csv(data_dir / slug / \"timeseries.csv\", index=False)"
   ]
  }
 ],
 "metadata": {
  "kernelspec": {
   "display_name": "Python 3 (ipykernel)",
   "language": "python",
   "name": "python3"
  },
  "language_info": {
   "codemirror_mode": {
    "name": "ipython",
    "version": 3
   },
   "file_extension": ".py",
   "mimetype": "text/x-python",
   "name": "python",
   "nbconvert_exporter": "python",
   "pygments_lexer": "ipython3",
   "version": "3.8.12"
  }
 },
 "nbformat": 4,
 "nbformat_minor": 4
}
