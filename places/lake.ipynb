{
 "cells": [
  {
   "cell_type": "markdown",
   "metadata": {},
   "source": [
    "## Configuration\n",
    "_Initial steps to get the notebook ready to play nice with our repository. Do not delete this section._"
   ]
  },
  {
   "cell_type": "markdown",
   "metadata": {},
   "source": [
    "Code formatting with [black](https://pypi.org/project/nb-black/)."
   ]
  },
  {
   "cell_type": "code",
   "execution_count": 1,
   "metadata": {
    "execution": {
     "iopub.execute_input": "2021-10-23T16:20:41.450000Z",
     "iopub.status.busy": "2021-10-23T16:20:41.449446Z",
     "iopub.status.idle": "2021-10-23T16:20:41.586993Z",
     "shell.execute_reply": "2021-10-23T16:20:41.586332Z"
    }
   },
   "outputs": [],
   "source": [
    "%load_ext lab_black"
   ]
  },
  {
   "cell_type": "code",
   "execution_count": 2,
   "metadata": {
    "execution": {
     "iopub.execute_input": "2021-10-23T16:20:41.592854Z",
     "iopub.status.busy": "2021-10-23T16:20:41.591637Z",
     "iopub.status.idle": "2021-10-23T16:20:41.593460Z",
     "shell.execute_reply": "2021-10-23T16:20:41.593889Z"
    }
   },
   "outputs": [],
   "source": [
    "import os\n",
    "import pathlib"
   ]
  },
  {
   "cell_type": "code",
   "execution_count": 3,
   "metadata": {
    "execution": {
     "iopub.execute_input": "2021-10-23T16:20:41.598653Z",
     "iopub.status.busy": "2021-10-23T16:20:41.598073Z",
     "iopub.status.idle": "2021-10-23T16:20:41.603418Z",
     "shell.execute_reply": "2021-10-23T16:20:41.602933Z"
    }
   },
   "outputs": [],
   "source": [
    "this_dir = pathlib.Path(os.path.abspath(\"\"))"
   ]
  },
  {
   "cell_type": "code",
   "execution_count": 4,
   "metadata": {
    "execution": {
     "iopub.execute_input": "2021-10-23T16:20:41.608259Z",
     "iopub.status.busy": "2021-10-23T16:20:41.605637Z",
     "iopub.status.idle": "2021-10-23T16:20:41.610746Z",
     "shell.execute_reply": "2021-10-23T16:20:41.610241Z"
    }
   },
   "outputs": [],
   "source": [
    "data_dir = this_dir / \"data\""
   ]
  },
  {
   "cell_type": "code",
   "execution_count": 5,
   "metadata": {
    "execution": {
     "iopub.execute_input": "2021-10-23T16:20:41.615417Z",
     "iopub.status.busy": "2021-10-23T16:20:41.614886Z",
     "iopub.status.idle": "2021-10-23T16:20:42.087419Z",
     "shell.execute_reply": "2021-10-23T16:20:42.086246Z"
    }
   },
   "outputs": [],
   "source": [
    "import re\n",
    "import pytz\n",
    "import glob\n",
    "import requests\n",
    "import unicodedata\n",
    "import json\n",
    "import pandas as pd\n",
    "from datetime import datetime\n",
    "from bs4 import BeautifulSoup"
   ]
  },
  {
   "cell_type": "markdown",
   "metadata": {},
   "source": [
    "### Download / retrieve the page"
   ]
  },
  {
   "cell_type": "markdown",
   "metadata": {},
   "source": [
    "Lake County's [dashboard](http://health.co.lake.ca.us/Coronavirus/COVID-19_Data.htm) uses Datawrapper to display cases by ZIP Code. To make sure we get the latest, we'll hit the chart page on Datawrapper's website, then get the iframe URL."
   ]
  },
  {
   "cell_type": "code",
   "execution_count": 6,
   "metadata": {
    "execution": {
     "iopub.execute_input": "2021-10-23T16:20:42.092232Z",
     "iopub.status.busy": "2021-10-23T16:20:42.091193Z",
     "iopub.status.idle": "2021-10-23T16:20:42.094805Z",
     "shell.execute_reply": "2021-10-23T16:20:42.095221Z"
    }
   },
   "outputs": [],
   "source": [
    "url = \"https://www.datawrapper.de/_/D1RaA/\""
   ]
  },
  {
   "cell_type": "code",
   "execution_count": 7,
   "metadata": {
    "execution": {
     "iopub.execute_input": "2021-10-23T16:20:42.102475Z",
     "iopub.status.busy": "2021-10-23T16:20:42.098812Z",
     "iopub.status.idle": "2021-10-23T16:20:42.321810Z",
     "shell.execute_reply": "2021-10-23T16:20:42.320772Z"
    }
   },
   "outputs": [],
   "source": [
    "page = requests.get(url)"
   ]
  },
  {
   "cell_type": "markdown",
   "metadata": {},
   "source": [
    "### Parse with BeautifulSoup"
   ]
  },
  {
   "cell_type": "code",
   "execution_count": 8,
   "metadata": {
    "execution": {
     "iopub.execute_input": "2021-10-23T16:20:42.330084Z",
     "iopub.status.busy": "2021-10-23T16:20:42.329412Z",
     "iopub.status.idle": "2021-10-23T16:20:42.332643Z",
     "shell.execute_reply": "2021-10-23T16:20:42.333090Z"
    }
   },
   "outputs": [],
   "source": [
    "soup = BeautifulSoup(page.content, \"html.parser\")"
   ]
  },
  {
   "cell_type": "code",
   "execution_count": 9,
   "metadata": {
    "execution": {
     "iopub.execute_input": "2021-10-23T16:20:42.339354Z",
     "iopub.status.busy": "2021-10-23T16:20:42.338660Z",
     "iopub.status.idle": "2021-10-23T16:20:42.341813Z",
     "shell.execute_reply": "2021-10-23T16:20:42.342253Z"
    }
   },
   "outputs": [],
   "source": [
    "meta = soup.find(\"meta\", {\"property\": \"og:url\"})"
   ]
  },
  {
   "cell_type": "code",
   "execution_count": 10,
   "metadata": {
    "execution": {
     "iopub.execute_input": "2021-10-23T16:20:42.347635Z",
     "iopub.status.busy": "2021-10-23T16:20:42.347116Z",
     "iopub.status.idle": "2021-10-23T16:20:42.350513Z",
     "shell.execute_reply": "2021-10-23T16:20:42.350065Z"
    }
   },
   "outputs": [],
   "source": [
    "dw_url = meta[\"content\"]"
   ]
  },
  {
   "cell_type": "markdown",
   "metadata": {},
   "source": [
    "### Parse Datawrapper"
   ]
  },
  {
   "cell_type": "code",
   "execution_count": 11,
   "metadata": {
    "execution": {
     "iopub.execute_input": "2021-10-23T16:20:42.355722Z",
     "iopub.status.busy": "2021-10-23T16:20:42.355064Z",
     "iopub.status.idle": "2021-10-23T16:20:42.359421Z",
     "shell.execute_reply": "2021-10-23T16:20:42.358932Z"
    }
   },
   "outputs": [],
   "source": [
    "dataset_url = dw_url + \"dataset.csv\""
   ]
  },
  {
   "cell_type": "code",
   "execution_count": 12,
   "metadata": {
    "execution": {
     "iopub.execute_input": "2021-10-23T16:20:42.365455Z",
     "iopub.status.busy": "2021-10-23T16:20:42.362506Z",
     "iopub.status.idle": "2021-10-23T16:20:42.463753Z",
     "shell.execute_reply": "2021-10-23T16:20:42.464631Z"
    }
   },
   "outputs": [],
   "source": [
    "dw_r = requests.get(dataset_url)"
   ]
  },
  {
   "cell_type": "code",
   "execution_count": 13,
   "metadata": {
    "execution": {
     "iopub.execute_input": "2021-10-23T16:20:42.468424Z",
     "iopub.status.busy": "2021-10-23T16:20:42.467289Z",
     "iopub.status.idle": "2021-10-23T16:20:42.477303Z",
     "shell.execute_reply": "2021-10-23T16:20:42.478080Z"
    }
   },
   "outputs": [],
   "source": [
    "string = dw_r.text"
   ]
  },
  {
   "cell_type": "code",
   "execution_count": 14,
   "metadata": {
    "execution": {
     "iopub.execute_input": "2021-10-23T16:20:42.484122Z",
     "iopub.status.busy": "2021-10-23T16:20:42.482884Z",
     "iopub.status.idle": "2021-10-23T16:20:42.486491Z",
     "shell.execute_reply": "2021-10-23T16:20:42.486968Z"
    }
   },
   "outputs": [],
   "source": [
    "parsed = string.split(\"\\r\\n\")"
   ]
  },
  {
   "cell_type": "code",
   "execution_count": 15,
   "metadata": {
    "execution": {
     "iopub.execute_input": "2021-10-23T16:20:42.494540Z",
     "iopub.status.busy": "2021-10-23T16:20:42.494019Z",
     "iopub.status.idle": "2021-10-23T16:20:42.497040Z",
     "shell.execute_reply": "2021-10-23T16:20:42.497448Z"
    }
   },
   "outputs": [],
   "source": [
    "data_list = []\n",
    "for row in parsed:\n",
    "    cell = row.split(\",\")\n",
    "    data_list.append(cell)"
   ]
  },
  {
   "cell_type": "code",
   "execution_count": 16,
   "metadata": {
    "execution": {
     "iopub.execute_input": "2021-10-23T16:20:42.508948Z",
     "iopub.status.busy": "2021-10-23T16:20:42.508199Z",
     "iopub.status.idle": "2021-10-23T16:20:42.514336Z",
     "shell.execute_reply": "2021-10-23T16:20:42.513610Z"
    }
   },
   "outputs": [
    {
     "data": {
      "text/plain": [
       "[['Supervisorial District', 'District Total', 'Zip Code', 'Zip Code Total'],\n",
       " ['District 1', '771', '95457', '261'],\n",
       " ['', '', '95467', '344'],\n",
       " ['', '', '95461', '166'],\n",
       " ['District 2', '1647', '95422', '1627'],\n",
       " ['', '', '95424', '20'],\n",
       " ['District 3', '1100', '95423', '256'],\n",
       " ['', '', '95458', '271'],\n",
       " ['', '', '95464', '261'],\n",
       " ['', '', '95485', '291'],\n",
       " ['', '', '95493', '11'],\n",
       " ['', '', '95443', '10'],\n",
       " ['District 4', '1434', '95453', '1388'],\n",
       " ['', '', '95435', '46'],\n",
       " ['District 5', '1150', '95426', '62'],\n",
       " ['', '', '95451', '1088'],\n",
       " ['Unknown or Other', '99', 'Unknown/other', '99']]"
      ]
     },
     "execution_count": 16,
     "metadata": {},
     "output_type": "execute_result"
    }
   ],
   "source": [
    "data_list"
   ]
  },
  {
   "cell_type": "code",
   "execution_count": 17,
   "metadata": {
    "execution": {
     "iopub.execute_input": "2021-10-23T16:20:42.519420Z",
     "iopub.status.busy": "2021-10-23T16:20:42.516613Z",
     "iopub.status.idle": "2021-10-23T16:20:42.523741Z",
     "shell.execute_reply": "2021-10-23T16:20:42.523304Z"
    }
   },
   "outputs": [],
   "source": [
    "df = pd.DataFrame(data_list[1:], columns=data_list[0])"
   ]
  },
  {
   "cell_type": "markdown",
   "metadata": {},
   "source": [
    "### Get timestamp"
   ]
  },
  {
   "cell_type": "code",
   "execution_count": 18,
   "metadata": {
    "execution": {
     "iopub.execute_input": "2021-10-23T16:20:42.528915Z",
     "iopub.status.busy": "2021-10-23T16:20:42.527488Z",
     "iopub.status.idle": "2021-10-23T16:20:42.532057Z",
     "shell.execute_reply": "2021-10-23T16:20:42.531622Z"
    }
   },
   "outputs": [],
   "source": [
    "title_tag = soup.find(\"meta\", {\"property\": \"og:title\"})"
   ]
  },
  {
   "cell_type": "code",
   "execution_count": 19,
   "metadata": {
    "execution": {
     "iopub.execute_input": "2021-10-23T16:20:42.536477Z",
     "iopub.status.busy": "2021-10-23T16:20:42.534275Z",
     "iopub.status.idle": "2021-10-23T16:20:42.539157Z",
     "shell.execute_reply": "2021-10-23T16:20:42.539565Z"
    }
   },
   "outputs": [],
   "source": [
    "title_str = title_tag[\"content\"]"
   ]
  },
  {
   "cell_type": "code",
   "execution_count": 20,
   "metadata": {
    "execution": {
     "iopub.execute_input": "2021-10-23T16:20:42.544916Z",
     "iopub.status.busy": "2021-10-23T16:20:42.543787Z",
     "iopub.status.idle": "2021-10-23T16:20:42.547046Z",
     "shell.execute_reply": "2021-10-23T16:20:42.547483Z"
    }
   },
   "outputs": [
    {
     "data": {
      "text/plain": [
       "'Lake County COVID-19 cases, by district and zip code, through 9/30/21 | Created with Datawrapper'"
      ]
     },
     "execution_count": 20,
     "metadata": {},
     "output_type": "execute_result"
    }
   ],
   "source": [
    "title_str"
   ]
  },
  {
   "cell_type": "code",
   "execution_count": 21,
   "metadata": {
    "execution": {
     "iopub.execute_input": "2021-10-23T16:20:42.551942Z",
     "iopub.status.busy": "2021-10-23T16:20:42.551420Z",
     "iopub.status.idle": "2021-10-23T16:20:42.554983Z",
     "shell.execute_reply": "2021-10-23T16:20:42.554483Z"
    }
   },
   "outputs": [],
   "source": [
    "date_regex = re.search(r\"(\\d+/\\d+/\\d+)\", title_str)"
   ]
  },
  {
   "cell_type": "code",
   "execution_count": 22,
   "metadata": {
    "execution": {
     "iopub.execute_input": "2021-10-23T16:20:42.559404Z",
     "iopub.status.busy": "2021-10-23T16:20:42.558395Z",
     "iopub.status.idle": "2021-10-23T16:20:42.561716Z",
     "shell.execute_reply": "2021-10-23T16:20:42.561279Z"
    }
   },
   "outputs": [],
   "source": [
    "date_str = date_regex.group(1)"
   ]
  },
  {
   "cell_type": "code",
   "execution_count": 23,
   "metadata": {
    "execution": {
     "iopub.execute_input": "2021-10-23T16:20:42.567004Z",
     "iopub.status.busy": "2021-10-23T16:20:42.566449Z",
     "iopub.status.idle": "2021-10-23T16:20:42.570291Z",
     "shell.execute_reply": "2021-10-23T16:20:42.569830Z"
    }
   },
   "outputs": [],
   "source": [
    "latest_date = pd.to_datetime(date_str).date()"
   ]
  },
  {
   "cell_type": "code",
   "execution_count": 24,
   "metadata": {
    "execution": {
     "iopub.execute_input": "2021-10-23T16:20:42.574189Z",
     "iopub.status.busy": "2021-10-23T16:20:42.572279Z",
     "iopub.status.idle": "2021-10-23T16:20:42.577939Z",
     "shell.execute_reply": "2021-10-23T16:20:42.577508Z"
    }
   },
   "outputs": [],
   "source": [
    "df[\"county_date\"] = latest_date"
   ]
  },
  {
   "cell_type": "markdown",
   "metadata": {},
   "source": [
    "### Rename and drop columns"
   ]
  },
  {
   "cell_type": "code",
   "execution_count": 25,
   "metadata": {
    "execution": {
     "iopub.execute_input": "2021-10-23T16:20:42.583931Z",
     "iopub.status.busy": "2021-10-23T16:20:42.579950Z",
     "iopub.status.idle": "2021-10-23T16:20:42.585840Z",
     "shell.execute_reply": "2021-10-23T16:20:42.586247Z"
    }
   },
   "outputs": [],
   "source": [
    "cols = {\"Zip Code\": \"area\", \"Zip Code Total\": \"confirmed_cases\"}"
   ]
  },
  {
   "cell_type": "code",
   "execution_count": 26,
   "metadata": {
    "execution": {
     "iopub.execute_input": "2021-10-23T16:20:42.591868Z",
     "iopub.status.busy": "2021-10-23T16:20:42.591347Z",
     "iopub.status.idle": "2021-10-23T16:20:42.595798Z",
     "shell.execute_reply": "2021-10-23T16:20:42.595334Z"
    }
   },
   "outputs": [],
   "source": [
    "export_df = df.rename(columns=cols)[[\"area\", \"confirmed_cases\", \"county_date\"]]"
   ]
  },
  {
   "cell_type": "code",
   "execution_count": 27,
   "metadata": {
    "execution": {
     "iopub.execute_input": "2021-10-23T16:20:42.599795Z",
     "iopub.status.busy": "2021-10-23T16:20:42.599268Z",
     "iopub.status.idle": "2021-10-23T16:20:42.604445Z",
     "shell.execute_reply": "2021-10-23T16:20:42.603982Z"
    }
   },
   "outputs": [
    {
     "data": {
      "text/plain": [
       "16"
      ]
     },
     "execution_count": 27,
     "metadata": {},
     "output_type": "execute_result"
    }
   ],
   "source": [
    "len(export_df)"
   ]
  },
  {
   "cell_type": "markdown",
   "metadata": {},
   "source": [
    "### Vet"
   ]
  },
  {
   "cell_type": "markdown",
   "metadata": {},
   "source": [
    "Lake County has 16 ZIP code areas, including \"Unknown\""
   ]
  },
  {
   "cell_type": "code",
   "execution_count": 28,
   "metadata": {
    "execution": {
     "iopub.execute_input": "2021-10-23T16:20:42.607769Z",
     "iopub.status.busy": "2021-10-23T16:20:42.606448Z",
     "iopub.status.idle": "2021-10-23T16:20:42.610864Z",
     "shell.execute_reply": "2021-10-23T16:20:42.610403Z"
    }
   },
   "outputs": [],
   "source": [
    "lake_len = 16"
   ]
  },
  {
   "cell_type": "code",
   "execution_count": 29,
   "metadata": {
    "execution": {
     "iopub.execute_input": "2021-10-23T16:20:42.615354Z",
     "iopub.status.busy": "2021-10-23T16:20:42.614821Z",
     "iopub.status.idle": "2021-10-23T16:20:42.619941Z",
     "shell.execute_reply": "2021-10-23T16:20:42.619469Z"
    }
   },
   "outputs": [],
   "source": [
    "try:\n",
    "    assert not len(export_df) > lake_len\n",
    "except AssertionError:\n",
    "    raise AssertionError(\n",
    "        \"Lake County scraper: spreadsheet has additional zip code(s) than previous\"\n",
    "    )"
   ]
  },
  {
   "cell_type": "code",
   "execution_count": 30,
   "metadata": {
    "execution": {
     "iopub.execute_input": "2021-10-23T16:20:42.626137Z",
     "iopub.status.busy": "2021-10-23T16:20:42.625617Z",
     "iopub.status.idle": "2021-10-23T16:20:42.627824Z",
     "shell.execute_reply": "2021-10-23T16:20:42.628230Z"
    }
   },
   "outputs": [],
   "source": [
    "try:\n",
    "    assert not len(export_df) < lake_len\n",
    "except AssertionError:\n",
    "    raise AssertionError(\"Lake County scraper: spreadsheet is missing row(s)\")"
   ]
  },
  {
   "cell_type": "markdown",
   "metadata": {},
   "source": [
    "### Export csv file"
   ]
  },
  {
   "cell_type": "markdown",
   "metadata": {},
   "source": [
    "Write csv file timestamped with today's date"
   ]
  },
  {
   "cell_type": "code",
   "execution_count": 31,
   "metadata": {
    "execution": {
     "iopub.execute_input": "2021-10-23T16:20:42.633173Z",
     "iopub.status.busy": "2021-10-23T16:20:42.632188Z",
     "iopub.status.idle": "2021-10-23T16:20:42.635390Z",
     "shell.execute_reply": "2021-10-23T16:20:42.635794Z"
    }
   },
   "outputs": [],
   "source": [
    "slug = \"lake\""
   ]
  },
  {
   "cell_type": "code",
   "execution_count": 32,
   "metadata": {
    "execution": {
     "iopub.execute_input": "2021-10-23T16:20:42.640741Z",
     "iopub.status.busy": "2021-10-23T16:20:42.639326Z",
     "iopub.status.idle": "2021-10-23T16:20:42.767262Z",
     "shell.execute_reply": "2021-10-23T16:20:42.766665Z"
    }
   },
   "outputs": [
    {
     "ename": "NameError",
     "evalue": "name 'today' is not defined",
     "output_type": "error",
     "traceback": [
      "\u001b[0;31m---------------------------------------------------------------------------\u001b[0m",
      "\u001b[0;31mNameError\u001b[0m                                 Traceback (most recent call last)",
      "\u001b[0;32m/tmp/ipykernel_3489/2436362009.py\u001b[0m in \u001b[0;36m<module>\u001b[0;34m\u001b[0m\n\u001b[0;32m----> 1\u001b[0;31m \u001b[0mexport_df\u001b[0m\u001b[0;34m.\u001b[0m\u001b[0mto_csv\u001b[0m\u001b[0;34m(\u001b[0m\u001b[0mdata_dir\u001b[0m \u001b[0;34m/\u001b[0m \u001b[0mslug\u001b[0m \u001b[0;34m/\u001b[0m \u001b[0;34mf\"{today}.csv\"\u001b[0m\u001b[0;34m,\u001b[0m \u001b[0mindex\u001b[0m\u001b[0;34m=\u001b[0m\u001b[0;32mFalse\u001b[0m\u001b[0;34m)\u001b[0m\u001b[0;34m\u001b[0m\u001b[0;34m\u001b[0m\u001b[0m\n\u001b[0m",
      "\u001b[0;31mNameError\u001b[0m: name 'today' is not defined"
     ]
    }
   ],
   "source": [
    "export_df.to_csv(data_dir / slug / f\"{today}.csv\", index=False)"
   ]
  },
  {
   "cell_type": "markdown",
   "metadata": {},
   "source": [
    "## Combine"
   ]
  },
  {
   "cell_type": "code",
   "execution_count": 260,
   "metadata": {},
   "outputs": [],
   "source": [
    "csv_list = [\n",
    "    i\n",
    "    for i in glob.glob(str(data_dir / slug / \"*.csv\"))\n",
    "    if not str(i).endswith(\"timeseries.csv\")\n",
    "]"
   ]
  },
  {
   "cell_type": "code",
   "execution_count": 261,
   "metadata": {},
   "outputs": [],
   "source": [
    "df_list = []\n",
    "for csv in csv_list:\n",
    "    if \"manual\" in csv:\n",
    "        df = pd.read_csv(csv, parse_dates=[\"date\"])\n",
    "    else:\n",
    "        file_date = csv.split(\"/\")[-1].replace(\".csv\", \"\")\n",
    "        df = pd.read_csv(csv, parse_dates=[\"county_date\"])\n",
    "        df[\"date\"] = file_date\n",
    "    df_list.append(df)"
   ]
  },
  {
   "cell_type": "code",
   "execution_count": 262,
   "metadata": {},
   "outputs": [],
   "source": [
    "df = pd.concat(df_list).sort_values([\"date\", \"area\"])"
   ]
  },
  {
   "cell_type": "code",
   "execution_count": 263,
   "metadata": {},
   "outputs": [],
   "source": [
    "df.to_csv(data_dir / slug / \"timeseries.csv\", index=False)"
   ]
  }
 ],
 "metadata": {
  "kernelspec": {
   "display_name": "Python 3 (ipykernel)",
   "language": "python",
   "name": "python3"
  },
  "language_info": {
   "codemirror_mode": {
    "name": "ipython",
    "version": 3
   },
   "file_extension": ".py",
   "mimetype": "text/x-python",
   "name": "python",
   "nbconvert_exporter": "python",
   "pygments_lexer": "ipython3",
   "version": "3.8.12"
  }
 },
 "nbformat": 4,
 "nbformat_minor": 4
}
