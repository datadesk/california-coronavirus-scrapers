{
 "cells": [
  {
   "cell_type": "markdown",
   "metadata": {},
   "source": [
    "## Configuration\n",
    "_Initial steps to get the notebook ready to play nice with our repository. Do not delete this section._"
   ]
  },
  {
   "cell_type": "markdown",
   "metadata": {},
   "source": [
    "Code formatting with [black](https://pypi.org/project/nb-black/)."
   ]
  },
  {
   "cell_type": "code",
   "execution_count": 1,
   "metadata": {
    "execution": {
     "iopub.execute_input": "2021-10-23T12:20:42.370541Z",
     "iopub.status.busy": "2021-10-23T12:20:42.369994Z",
     "iopub.status.idle": "2021-10-23T12:20:42.508298Z",
     "shell.execute_reply": "2021-10-23T12:20:42.507809Z"
    }
   },
   "outputs": [],
   "source": [
    "%load_ext lab_black"
   ]
  },
  {
   "cell_type": "code",
   "execution_count": 2,
   "metadata": {
    "execution": {
     "iopub.execute_input": "2021-10-23T12:20:42.513378Z",
     "iopub.status.busy": "2021-10-23T12:20:42.512231Z",
     "iopub.status.idle": "2021-10-23T12:20:42.514000Z",
     "shell.execute_reply": "2021-10-23T12:20:42.514462Z"
    }
   },
   "outputs": [],
   "source": [
    "import os\n",
    "import pathlib"
   ]
  },
  {
   "cell_type": "code",
   "execution_count": 3,
   "metadata": {
    "execution": {
     "iopub.execute_input": "2021-10-23T12:20:42.520783Z",
     "iopub.status.busy": "2021-10-23T12:20:42.518908Z",
     "iopub.status.idle": "2021-10-23T12:20:42.522709Z",
     "shell.execute_reply": "2021-10-23T12:20:42.522222Z"
    }
   },
   "outputs": [],
   "source": [
    "this_dir = pathlib.Path(os.path.abspath(\"\"))"
   ]
  },
  {
   "cell_type": "code",
   "execution_count": 4,
   "metadata": {
    "execution": {
     "iopub.execute_input": "2021-10-23T12:20:42.527859Z",
     "iopub.status.busy": "2021-10-23T12:20:42.526814Z",
     "iopub.status.idle": "2021-10-23T12:20:42.528291Z",
     "shell.execute_reply": "2021-10-23T12:20:42.528593Z"
    }
   },
   "outputs": [],
   "source": [
    "data_dir = this_dir / \"data\""
   ]
  },
  {
   "cell_type": "code",
   "execution_count": 5,
   "metadata": {
    "execution": {
     "iopub.execute_input": "2021-10-23T12:20:42.531670Z",
     "iopub.status.busy": "2021-10-23T12:20:42.531298Z",
     "iopub.status.idle": "2021-10-23T12:20:42.905171Z",
     "shell.execute_reply": "2021-10-23T12:20:42.904210Z"
    }
   },
   "outputs": [],
   "source": [
    "import re\n",
    "import pytz\n",
    "import glob\n",
    "import requests\n",
    "import unicodedata\n",
    "import json\n",
    "import pandas as pd\n",
    "from datetime import datetime\n",
    "from bs4 import BeautifulSoup"
   ]
  },
  {
   "cell_type": "markdown",
   "metadata": {},
   "source": [
    "### Download / retrieve the page"
   ]
  },
  {
   "cell_type": "markdown",
   "metadata": {},
   "source": [
    "Lake County's [dashboard](http://health.co.lake.ca.us/Coronavirus/COVID-19_Data.htm) uses Datawrapper to display cases by ZIP Code. To make sure we get the latest, we'll hit the chart page on Datawrapper's website, then get the iframe URL."
   ]
  },
  {
   "cell_type": "code",
   "execution_count": 6,
   "metadata": {
    "execution": {
     "iopub.execute_input": "2021-10-23T12:20:42.909181Z",
     "iopub.status.busy": "2021-10-23T12:20:42.908799Z",
     "iopub.status.idle": "2021-10-23T12:20:42.912790Z",
     "shell.execute_reply": "2021-10-23T12:20:42.912408Z"
    }
   },
   "outputs": [],
   "source": [
    "url = \"https://www.datawrapper.de/_/D1RaA/\""
   ]
  },
  {
   "cell_type": "code",
   "execution_count": 7,
   "metadata": {
    "execution": {
     "iopub.execute_input": "2021-10-23T12:20:42.916826Z",
     "iopub.status.busy": "2021-10-23T12:20:42.914813Z",
     "iopub.status.idle": "2021-10-23T12:20:43.142320Z",
     "shell.execute_reply": "2021-10-23T12:20:43.141155Z"
    }
   },
   "outputs": [],
   "source": [
    "page = requests.get(url)"
   ]
  },
  {
   "cell_type": "markdown",
   "metadata": {},
   "source": [
    "### Parse with BeautifulSoup"
   ]
  },
  {
   "cell_type": "code",
   "execution_count": 8,
   "metadata": {
    "execution": {
     "iopub.execute_input": "2021-10-23T12:20:43.148799Z",
     "iopub.status.busy": "2021-10-23T12:20:43.147884Z",
     "iopub.status.idle": "2021-10-23T12:20:43.152971Z",
     "shell.execute_reply": "2021-10-23T12:20:43.152636Z"
    }
   },
   "outputs": [],
   "source": [
    "soup = BeautifulSoup(page.content, \"html.parser\")"
   ]
  },
  {
   "cell_type": "code",
   "execution_count": 9,
   "metadata": {
    "execution": {
     "iopub.execute_input": "2021-10-23T12:20:43.159077Z",
     "iopub.status.busy": "2021-10-23T12:20:43.158082Z",
     "iopub.status.idle": "2021-10-23T12:20:43.162353Z",
     "shell.execute_reply": "2021-10-23T12:20:43.161604Z"
    }
   },
   "outputs": [],
   "source": [
    "meta = soup.find(\"meta\", {\"property\": \"og:url\"})"
   ]
  },
  {
   "cell_type": "code",
   "execution_count": 10,
   "metadata": {
    "execution": {
     "iopub.execute_input": "2021-10-23T12:20:43.166914Z",
     "iopub.status.busy": "2021-10-23T12:20:43.166429Z",
     "iopub.status.idle": "2021-10-23T12:20:43.169764Z",
     "shell.execute_reply": "2021-10-23T12:20:43.169356Z"
    }
   },
   "outputs": [],
   "source": [
    "dw_url = meta[\"content\"]"
   ]
  },
  {
   "cell_type": "markdown",
   "metadata": {},
   "source": [
    "### Parse Datawrapper"
   ]
  },
  {
   "cell_type": "code",
   "execution_count": 11,
   "metadata": {
    "execution": {
     "iopub.execute_input": "2021-10-23T12:20:43.174449Z",
     "iopub.status.busy": "2021-10-23T12:20:43.173891Z",
     "iopub.status.idle": "2021-10-23T12:20:43.177099Z",
     "shell.execute_reply": "2021-10-23T12:20:43.176775Z"
    }
   },
   "outputs": [],
   "source": [
    "dataset_url = dw_url + \"dataset.csv\""
   ]
  },
  {
   "cell_type": "code",
   "execution_count": 12,
   "metadata": {
    "execution": {
     "iopub.execute_input": "2021-10-23T12:20:43.183182Z",
     "iopub.status.busy": "2021-10-23T12:20:43.182685Z",
     "iopub.status.idle": "2021-10-23T12:20:43.249411Z",
     "shell.execute_reply": "2021-10-23T12:20:43.248441Z"
    }
   },
   "outputs": [],
   "source": [
    "dw_r = requests.get(dataset_url)"
   ]
  },
  {
   "cell_type": "code",
   "execution_count": 13,
   "metadata": {
    "execution": {
     "iopub.execute_input": "2021-10-23T12:20:43.258791Z",
     "iopub.status.busy": "2021-10-23T12:20:43.258218Z",
     "iopub.status.idle": "2021-10-23T12:20:43.261084Z",
     "shell.execute_reply": "2021-10-23T12:20:43.260326Z"
    }
   },
   "outputs": [],
   "source": [
    "string = dw_r.text"
   ]
  },
  {
   "cell_type": "code",
   "execution_count": 14,
   "metadata": {
    "execution": {
     "iopub.execute_input": "2021-10-23T12:20:43.264816Z",
     "iopub.status.busy": "2021-10-23T12:20:43.264408Z",
     "iopub.status.idle": "2021-10-23T12:20:43.268493Z",
     "shell.execute_reply": "2021-10-23T12:20:43.267733Z"
    }
   },
   "outputs": [],
   "source": [
    "parsed = string.split(\"\\r\\n\")"
   ]
  },
  {
   "cell_type": "code",
   "execution_count": 15,
   "metadata": {
    "execution": {
     "iopub.execute_input": "2021-10-23T12:20:43.274617Z",
     "iopub.status.busy": "2021-10-23T12:20:43.274093Z",
     "iopub.status.idle": "2021-10-23T12:20:43.277546Z",
     "shell.execute_reply": "2021-10-23T12:20:43.276843Z"
    }
   },
   "outputs": [],
   "source": [
    "data_list = []\n",
    "for row in parsed:\n",
    "    cell = row.split(\",\")\n",
    "    data_list.append(cell)"
   ]
  },
  {
   "cell_type": "code",
   "execution_count": 16,
   "metadata": {
    "execution": {
     "iopub.execute_input": "2021-10-23T12:20:43.286691Z",
     "iopub.status.busy": "2021-10-23T12:20:43.284591Z",
     "iopub.status.idle": "2021-10-23T12:20:43.289992Z",
     "shell.execute_reply": "2021-10-23T12:20:43.289618Z"
    }
   },
   "outputs": [
    {
     "data": {
      "text/plain": [
       "[['Supervisorial District', 'District Total', 'Zip Code', 'Zip Code Total'],\n",
       " ['District 1', '771', '95457', '261'],\n",
       " ['', '', '95467', '344'],\n",
       " ['', '', '95461', '166'],\n",
       " ['District 2', '1647', '95422', '1627'],\n",
       " ['', '', '95424', '20'],\n",
       " ['District 3', '1100', '95423', '256'],\n",
       " ['', '', '95458', '271'],\n",
       " ['', '', '95464', '261'],\n",
       " ['', '', '95485', '291'],\n",
       " ['', '', '95493', '11'],\n",
       " ['', '', '95443', '10'],\n",
       " ['District 4', '1434', '95453', '1388'],\n",
       " ['', '', '95435', '46'],\n",
       " ['District 5', '1150', '95426', '62'],\n",
       " ['', '', '95451', '1088'],\n",
       " ['Unknown or Other', '99', 'Unknown/other', '99']]"
      ]
     },
     "execution_count": 16,
     "metadata": {},
     "output_type": "execute_result"
    }
   ],
   "source": [
    "data_list"
   ]
  },
  {
   "cell_type": "code",
   "execution_count": 17,
   "metadata": {
    "execution": {
     "iopub.execute_input": "2021-10-23T12:20:43.294321Z",
     "iopub.status.busy": "2021-10-23T12:20:43.293797Z",
     "iopub.status.idle": "2021-10-23T12:20:43.297527Z",
     "shell.execute_reply": "2021-10-23T12:20:43.297196Z"
    }
   },
   "outputs": [],
   "source": [
    "df = pd.DataFrame(data_list[1:], columns=data_list[0])"
   ]
  },
  {
   "cell_type": "markdown",
   "metadata": {},
   "source": [
    "### Get timestamp"
   ]
  },
  {
   "cell_type": "code",
   "execution_count": 18,
   "metadata": {
    "execution": {
     "iopub.execute_input": "2021-10-23T12:20:43.302488Z",
     "iopub.status.busy": "2021-10-23T12:20:43.301429Z",
     "iopub.status.idle": "2021-10-23T12:20:43.304750Z",
     "shell.execute_reply": "2021-10-23T12:20:43.304299Z"
    }
   },
   "outputs": [],
   "source": [
    "title_tag = soup.find(\"meta\", {\"property\": \"og:title\"})"
   ]
  },
  {
   "cell_type": "code",
   "execution_count": 19,
   "metadata": {
    "execution": {
     "iopub.execute_input": "2021-10-23T12:20:43.309144Z",
     "iopub.status.busy": "2021-10-23T12:20:43.308635Z",
     "iopub.status.idle": "2021-10-23T12:20:43.313186Z",
     "shell.execute_reply": "2021-10-23T12:20:43.312730Z"
    }
   },
   "outputs": [],
   "source": [
    "title_str = title_tag[\"content\"]"
   ]
  },
  {
   "cell_type": "code",
   "execution_count": 20,
   "metadata": {
    "execution": {
     "iopub.execute_input": "2021-10-23T12:20:43.317140Z",
     "iopub.status.busy": "2021-10-23T12:20:43.316603Z",
     "iopub.status.idle": "2021-10-23T12:20:43.322200Z",
     "shell.execute_reply": "2021-10-23T12:20:43.321743Z"
    }
   },
   "outputs": [
    {
     "data": {
      "text/plain": [
       "'Lake County COVID-19 cases, by district and zip code, through 9/30/21 | Created with Datawrapper'"
      ]
     },
     "execution_count": 20,
     "metadata": {},
     "output_type": "execute_result"
    }
   ],
   "source": [
    "title_str"
   ]
  },
  {
   "cell_type": "code",
   "execution_count": 21,
   "metadata": {
    "execution": {
     "iopub.execute_input": "2021-10-23T12:20:43.327369Z",
     "iopub.status.busy": "2021-10-23T12:20:43.326847Z",
     "iopub.status.idle": "2021-10-23T12:20:43.330433Z",
     "shell.execute_reply": "2021-10-23T12:20:43.329941Z"
    }
   },
   "outputs": [],
   "source": [
    "date_regex = re.search(r\"(\\d+/\\d+/\\d+)\", title_str)"
   ]
  },
  {
   "cell_type": "code",
   "execution_count": 22,
   "metadata": {
    "execution": {
     "iopub.execute_input": "2021-10-23T12:20:43.334555Z",
     "iopub.status.busy": "2021-10-23T12:20:43.334151Z",
     "iopub.status.idle": "2021-10-23T12:20:43.336434Z",
     "shell.execute_reply": "2021-10-23T12:20:43.336835Z"
    }
   },
   "outputs": [],
   "source": [
    "date_str = date_regex.group(1)"
   ]
  },
  {
   "cell_type": "code",
   "execution_count": 23,
   "metadata": {
    "execution": {
     "iopub.execute_input": "2021-10-23T12:20:43.342399Z",
     "iopub.status.busy": "2021-10-23T12:20:43.341873Z",
     "iopub.status.idle": "2021-10-23T12:20:43.343992Z",
     "shell.execute_reply": "2021-10-23T12:20:43.343325Z"
    }
   },
   "outputs": [],
   "source": [
    "latest_date = pd.to_datetime(date_str).date()"
   ]
  },
  {
   "cell_type": "code",
   "execution_count": 24,
   "metadata": {
    "execution": {
     "iopub.execute_input": "2021-10-23T12:20:43.349087Z",
     "iopub.status.busy": "2021-10-23T12:20:43.348586Z",
     "iopub.status.idle": "2021-10-23T12:20:43.351363Z",
     "shell.execute_reply": "2021-10-23T12:20:43.351770Z"
    }
   },
   "outputs": [],
   "source": [
    "df[\"county_date\"] = latest_date"
   ]
  },
  {
   "cell_type": "markdown",
   "metadata": {},
   "source": [
    "### Rename and drop columns"
   ]
  },
  {
   "cell_type": "code",
   "execution_count": 25,
   "metadata": {
    "execution": {
     "iopub.execute_input": "2021-10-23T12:20:43.356493Z",
     "iopub.status.busy": "2021-10-23T12:20:43.355986Z",
     "iopub.status.idle": "2021-10-23T12:20:43.358429Z",
     "shell.execute_reply": "2021-10-23T12:20:43.358833Z"
    }
   },
   "outputs": [],
   "source": [
    "cols = {\"Zip Code\": \"area\", \"Zip Code Total\": \"confirmed_cases\"}"
   ]
  },
  {
   "cell_type": "code",
   "execution_count": 26,
   "metadata": {
    "execution": {
     "iopub.execute_input": "2021-10-23T12:20:43.364189Z",
     "iopub.status.busy": "2021-10-23T12:20:43.363825Z",
     "iopub.status.idle": "2021-10-23T12:20:43.367253Z",
     "shell.execute_reply": "2021-10-23T12:20:43.366800Z"
    }
   },
   "outputs": [],
   "source": [
    "export_df = df.rename(columns=cols)[[\"area\", \"confirmed_cases\", \"county_date\"]]"
   ]
  },
  {
   "cell_type": "code",
   "execution_count": 27,
   "metadata": {
    "execution": {
     "iopub.execute_input": "2021-10-23T12:20:43.371221Z",
     "iopub.status.busy": "2021-10-23T12:20:43.370489Z",
     "iopub.status.idle": "2021-10-23T12:20:43.373439Z",
     "shell.execute_reply": "2021-10-23T12:20:43.373841Z"
    }
   },
   "outputs": [
    {
     "data": {
      "text/plain": [
       "16"
      ]
     },
     "execution_count": 27,
     "metadata": {},
     "output_type": "execute_result"
    }
   ],
   "source": [
    "len(export_df)"
   ]
  },
  {
   "cell_type": "markdown",
   "metadata": {},
   "source": [
    "### Vet"
   ]
  },
  {
   "cell_type": "markdown",
   "metadata": {},
   "source": [
    "Lake County has 16 ZIP code areas, including \"Unknown\""
   ]
  },
  {
   "cell_type": "code",
   "execution_count": 28,
   "metadata": {
    "execution": {
     "iopub.execute_input": "2021-10-23T12:20:43.377810Z",
     "iopub.status.busy": "2021-10-23T12:20:43.377242Z",
     "iopub.status.idle": "2021-10-23T12:20:43.379067Z",
     "shell.execute_reply": "2021-10-23T12:20:43.379353Z"
    }
   },
   "outputs": [],
   "source": [
    "lake_len = 16"
   ]
  },
  {
   "cell_type": "code",
   "execution_count": 29,
   "metadata": {
    "execution": {
     "iopub.execute_input": "2021-10-23T12:20:43.385127Z",
     "iopub.status.busy": "2021-10-23T12:20:43.384729Z",
     "iopub.status.idle": "2021-10-23T12:20:43.386536Z",
     "shell.execute_reply": "2021-10-23T12:20:43.386877Z"
    }
   },
   "outputs": [],
   "source": [
    "try:\n",
    "    assert not len(export_df) > lake_len\n",
    "except AssertionError:\n",
    "    raise AssertionError(\n",
    "        \"Lake County scraper: spreadsheet has additional zip code(s) than previous\"\n",
    "    )"
   ]
  },
  {
   "cell_type": "code",
   "execution_count": 30,
   "metadata": {
    "execution": {
     "iopub.execute_input": "2021-10-23T12:20:43.392184Z",
     "iopub.status.busy": "2021-10-23T12:20:43.391673Z",
     "iopub.status.idle": "2021-10-23T12:20:43.395485Z",
     "shell.execute_reply": "2021-10-23T12:20:43.395145Z"
    }
   },
   "outputs": [],
   "source": [
    "try:\n",
    "    assert not len(export_df) < lake_len\n",
    "except AssertionError:\n",
    "    raise AssertionError(\"Lake County scraper: spreadsheet is missing row(s)\")"
   ]
  },
  {
   "cell_type": "markdown",
   "metadata": {},
   "source": [
    "### Export csv file"
   ]
  },
  {
   "cell_type": "markdown",
   "metadata": {},
   "source": [
    "Write csv file timestamped with today's date"
   ]
  },
  {
   "cell_type": "code",
   "execution_count": 31,
   "metadata": {
    "execution": {
     "iopub.execute_input": "2021-10-23T12:20:43.399167Z",
     "iopub.status.busy": "2021-10-23T12:20:43.398347Z",
     "iopub.status.idle": "2021-10-23T12:20:43.401292Z",
     "shell.execute_reply": "2021-10-23T12:20:43.400864Z"
    }
   },
   "outputs": [],
   "source": [
    "slug = \"lake\""
   ]
  },
  {
   "cell_type": "code",
   "execution_count": 32,
   "metadata": {
    "execution": {
     "iopub.execute_input": "2021-10-23T12:20:43.406112Z",
     "iopub.status.busy": "2021-10-23T12:20:43.405595Z",
     "iopub.status.idle": "2021-10-23T12:20:43.519065Z",
     "shell.execute_reply": "2021-10-23T12:20:43.518385Z"
    }
   },
   "outputs": [
    {
     "ename": "NameError",
     "evalue": "name 'today' is not defined",
     "output_type": "error",
     "traceback": [
      "\u001b[0;31m---------------------------------------------------------------------------\u001b[0m",
      "\u001b[0;31mNameError\u001b[0m                                 Traceback (most recent call last)",
      "\u001b[0;32m/tmp/ipykernel_3428/2436362009.py\u001b[0m in \u001b[0;36m<module>\u001b[0;34m\u001b[0m\n\u001b[0;32m----> 1\u001b[0;31m \u001b[0mexport_df\u001b[0m\u001b[0;34m.\u001b[0m\u001b[0mto_csv\u001b[0m\u001b[0;34m(\u001b[0m\u001b[0mdata_dir\u001b[0m \u001b[0;34m/\u001b[0m \u001b[0mslug\u001b[0m \u001b[0;34m/\u001b[0m \u001b[0;34mf\"{today}.csv\"\u001b[0m\u001b[0;34m,\u001b[0m \u001b[0mindex\u001b[0m\u001b[0;34m=\u001b[0m\u001b[0;32mFalse\u001b[0m\u001b[0;34m)\u001b[0m\u001b[0;34m\u001b[0m\u001b[0;34m\u001b[0m\u001b[0m\n\u001b[0m",
      "\u001b[0;31mNameError\u001b[0m: name 'today' is not defined"
     ]
    }
   ],
   "source": [
    "export_df.to_csv(data_dir / slug / f\"{today}.csv\", index=False)"
   ]
  },
  {
   "cell_type": "markdown",
   "metadata": {},
   "source": [
    "## Combine"
   ]
  },
  {
   "cell_type": "code",
   "execution_count": 260,
   "metadata": {},
   "outputs": [],
   "source": [
    "csv_list = [\n",
    "    i\n",
    "    for i in glob.glob(str(data_dir / slug / \"*.csv\"))\n",
    "    if not str(i).endswith(\"timeseries.csv\")\n",
    "]"
   ]
  },
  {
   "cell_type": "code",
   "execution_count": 261,
   "metadata": {},
   "outputs": [],
   "source": [
    "df_list = []\n",
    "for csv in csv_list:\n",
    "    if \"manual\" in csv:\n",
    "        df = pd.read_csv(csv, parse_dates=[\"date\"])\n",
    "    else:\n",
    "        file_date = csv.split(\"/\")[-1].replace(\".csv\", \"\")\n",
    "        df = pd.read_csv(csv, parse_dates=[\"county_date\"])\n",
    "        df[\"date\"] = file_date\n",
    "    df_list.append(df)"
   ]
  },
  {
   "cell_type": "code",
   "execution_count": 262,
   "metadata": {},
   "outputs": [],
   "source": [
    "df = pd.concat(df_list).sort_values([\"date\", \"area\"])"
   ]
  },
  {
   "cell_type": "code",
   "execution_count": 263,
   "metadata": {},
   "outputs": [],
   "source": [
    "df.to_csv(data_dir / slug / \"timeseries.csv\", index=False)"
   ]
  }
 ],
 "metadata": {
  "kernelspec": {
   "display_name": "Python 3 (ipykernel)",
   "language": "python",
   "name": "python3"
  },
  "language_info": {
   "codemirror_mode": {
    "name": "ipython",
    "version": 3
   },
   "file_extension": ".py",
   "mimetype": "text/x-python",
   "name": "python",
   "nbconvert_exporter": "python",
   "pygments_lexer": "ipython3",
   "version": "3.8.12"
  }
 },
 "nbformat": 4,
 "nbformat_minor": 4
}
