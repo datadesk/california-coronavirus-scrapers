{
 "cells": [
  {
   "cell_type": "markdown",
   "metadata": {},
   "source": [
    "## Configuration\n",
    "_Initial steps to get the notebook ready to play nice with our repository. Do not delete this section._"
   ]
  },
  {
   "cell_type": "markdown",
   "metadata": {},
   "source": [
    "Code formatting with [black](https://pypi.org/project/nb-black/)."
   ]
  },
  {
   "cell_type": "code",
   "execution_count": 1,
   "metadata": {
    "execution": {
     "iopub.execute_input": "2021-10-23T08:20:25.407641Z",
     "iopub.status.busy": "2021-10-23T08:20:25.407091Z",
     "iopub.status.idle": "2021-10-23T08:20:25.540193Z",
     "shell.execute_reply": "2021-10-23T08:20:25.539185Z"
    }
   },
   "outputs": [],
   "source": [
    "%load_ext lab_black"
   ]
  },
  {
   "cell_type": "code",
   "execution_count": 2,
   "metadata": {
    "execution": {
     "iopub.execute_input": "2021-10-23T08:20:25.545954Z",
     "iopub.status.busy": "2021-10-23T08:20:25.544777Z",
     "iopub.status.idle": "2021-10-23T08:20:25.546583Z",
     "shell.execute_reply": "2021-10-23T08:20:25.547025Z"
    }
   },
   "outputs": [],
   "source": [
    "import os\n",
    "import pathlib"
   ]
  },
  {
   "cell_type": "code",
   "execution_count": 3,
   "metadata": {
    "execution": {
     "iopub.execute_input": "2021-10-23T08:20:25.551119Z",
     "iopub.status.busy": "2021-10-23T08:20:25.550579Z",
     "iopub.status.idle": "2021-10-23T08:20:25.555841Z",
     "shell.execute_reply": "2021-10-23T08:20:25.555398Z"
    }
   },
   "outputs": [],
   "source": [
    "this_dir = pathlib.Path(os.path.abspath(\"\"))"
   ]
  },
  {
   "cell_type": "code",
   "execution_count": 4,
   "metadata": {
    "execution": {
     "iopub.execute_input": "2021-10-23T08:20:25.560486Z",
     "iopub.status.busy": "2021-10-23T08:20:25.559503Z",
     "iopub.status.idle": "2021-10-23T08:20:25.562866Z",
     "shell.execute_reply": "2021-10-23T08:20:25.562425Z"
    }
   },
   "outputs": [],
   "source": [
    "data_dir = this_dir / \"data\""
   ]
  },
  {
   "cell_type": "code",
   "execution_count": 5,
   "metadata": {
    "execution": {
     "iopub.execute_input": "2021-10-23T08:20:25.566971Z",
     "iopub.status.busy": "2021-10-23T08:20:25.566472Z",
     "iopub.status.idle": "2021-10-23T08:20:25.998015Z",
     "shell.execute_reply": "2021-10-23T08:20:25.996902Z"
    }
   },
   "outputs": [],
   "source": [
    "import re\n",
    "import pytz\n",
    "import glob\n",
    "import requests\n",
    "import unicodedata\n",
    "import json\n",
    "import pandas as pd\n",
    "from datetime import datetime\n",
    "from bs4 import BeautifulSoup"
   ]
  },
  {
   "cell_type": "markdown",
   "metadata": {},
   "source": [
    "### Download / retrieve the page"
   ]
  },
  {
   "cell_type": "markdown",
   "metadata": {},
   "source": [
    "Lake County's [dashboard](http://health.co.lake.ca.us/Coronavirus/COVID-19_Data.htm) uses Datawrapper to display cases by ZIP Code. To make sure we get the latest, we'll hit the chart page on Datawrapper's website, then get the iframe URL."
   ]
  },
  {
   "cell_type": "code",
   "execution_count": 6,
   "metadata": {
    "execution": {
     "iopub.execute_input": "2021-10-23T08:20:26.003034Z",
     "iopub.status.busy": "2021-10-23T08:20:26.001917Z",
     "iopub.status.idle": "2021-10-23T08:20:26.005855Z",
     "shell.execute_reply": "2021-10-23T08:20:26.005358Z"
    }
   },
   "outputs": [],
   "source": [
    "url = \"https://www.datawrapper.de/_/D1RaA/\""
   ]
  },
  {
   "cell_type": "code",
   "execution_count": 7,
   "metadata": {
    "execution": {
     "iopub.execute_input": "2021-10-23T08:20:26.013313Z",
     "iopub.status.busy": "2021-10-23T08:20:26.009546Z",
     "iopub.status.idle": "2021-10-23T08:20:26.190077Z",
     "shell.execute_reply": "2021-10-23T08:20:26.189560Z"
    }
   },
   "outputs": [],
   "source": [
    "page = requests.get(url)"
   ]
  },
  {
   "cell_type": "markdown",
   "metadata": {},
   "source": [
    "### Parse with BeautifulSoup"
   ]
  },
  {
   "cell_type": "code",
   "execution_count": 8,
   "metadata": {
    "execution": {
     "iopub.execute_input": "2021-10-23T08:20:26.197726Z",
     "iopub.status.busy": "2021-10-23T08:20:26.197154Z",
     "iopub.status.idle": "2021-10-23T08:20:26.200732Z",
     "shell.execute_reply": "2021-10-23T08:20:26.200261Z"
    }
   },
   "outputs": [],
   "source": [
    "soup = BeautifulSoup(page.content, \"html.parser\")"
   ]
  },
  {
   "cell_type": "code",
   "execution_count": 9,
   "metadata": {
    "execution": {
     "iopub.execute_input": "2021-10-23T08:20:26.207514Z",
     "iopub.status.busy": "2021-10-23T08:20:26.206536Z",
     "iopub.status.idle": "2021-10-23T08:20:26.209019Z",
     "shell.execute_reply": "2021-10-23T08:20:26.208563Z"
    }
   },
   "outputs": [],
   "source": [
    "meta = soup.find(\"meta\", {\"property\": \"og:url\"})"
   ]
  },
  {
   "cell_type": "code",
   "execution_count": 10,
   "metadata": {
    "execution": {
     "iopub.execute_input": "2021-10-23T08:20:26.215116Z",
     "iopub.status.busy": "2021-10-23T08:20:26.213822Z",
     "iopub.status.idle": "2021-10-23T08:20:26.215733Z",
     "shell.execute_reply": "2021-10-23T08:20:26.216171Z"
    }
   },
   "outputs": [],
   "source": [
    "dw_url = meta[\"content\"]"
   ]
  },
  {
   "cell_type": "markdown",
   "metadata": {},
   "source": [
    "### Parse Datawrapper"
   ]
  },
  {
   "cell_type": "code",
   "execution_count": 11,
   "metadata": {
    "execution": {
     "iopub.execute_input": "2021-10-23T08:20:26.221091Z",
     "iopub.status.busy": "2021-10-23T08:20:26.220566Z",
     "iopub.status.idle": "2021-10-23T08:20:26.223053Z",
     "shell.execute_reply": "2021-10-23T08:20:26.222588Z"
    }
   },
   "outputs": [],
   "source": [
    "dataset_url = dw_url + \"dataset.csv\""
   ]
  },
  {
   "cell_type": "code",
   "execution_count": 12,
   "metadata": {
    "execution": {
     "iopub.execute_input": "2021-10-23T08:20:26.230414Z",
     "iopub.status.busy": "2021-10-23T08:20:26.229837Z",
     "iopub.status.idle": "2021-10-23T08:20:26.370750Z",
     "shell.execute_reply": "2021-10-23T08:20:26.369804Z"
    }
   },
   "outputs": [],
   "source": [
    "dw_r = requests.get(dataset_url)"
   ]
  },
  {
   "cell_type": "code",
   "execution_count": 13,
   "metadata": {
    "execution": {
     "iopub.execute_input": "2021-10-23T08:20:26.379095Z",
     "iopub.status.busy": "2021-10-23T08:20:26.378549Z",
     "iopub.status.idle": "2021-10-23T08:20:26.382543Z",
     "shell.execute_reply": "2021-10-23T08:20:26.382101Z"
    }
   },
   "outputs": [],
   "source": [
    "string = dw_r.text"
   ]
  },
  {
   "cell_type": "code",
   "execution_count": 14,
   "metadata": {
    "execution": {
     "iopub.execute_input": "2021-10-23T08:20:26.388493Z",
     "iopub.status.busy": "2021-10-23T08:20:26.387565Z",
     "iopub.status.idle": "2021-10-23T08:20:26.389918Z",
     "shell.execute_reply": "2021-10-23T08:20:26.389472Z"
    }
   },
   "outputs": [],
   "source": [
    "parsed = string.split(\"\\r\\n\")"
   ]
  },
  {
   "cell_type": "code",
   "execution_count": 15,
   "metadata": {
    "execution": {
     "iopub.execute_input": "2021-10-23T08:20:26.397252Z",
     "iopub.status.busy": "2021-10-23T08:20:26.392138Z",
     "iopub.status.idle": "2021-10-23T08:20:26.399272Z",
     "shell.execute_reply": "2021-10-23T08:20:26.398865Z"
    }
   },
   "outputs": [],
   "source": [
    "data_list = []\n",
    "for row in parsed:\n",
    "    cell = row.split(\",\")\n",
    "    data_list.append(cell)"
   ]
  },
  {
   "cell_type": "code",
   "execution_count": 16,
   "metadata": {
    "execution": {
     "iopub.execute_input": "2021-10-23T08:20:26.411100Z",
     "iopub.status.busy": "2021-10-23T08:20:26.410499Z",
     "iopub.status.idle": "2021-10-23T08:20:26.417037Z",
     "shell.execute_reply": "2021-10-23T08:20:26.416562Z"
    }
   },
   "outputs": [
    {
     "data": {
      "text/plain": [
       "[['Supervisorial District', 'District Total', 'Zip Code', 'Zip Code Total'],\n",
       " ['District 1', '771', '95457', '261'],\n",
       " ['', '', '95467', '344'],\n",
       " ['', '', '95461', '166'],\n",
       " ['District 2', '1647', '95422', '1627'],\n",
       " ['', '', '95424', '20'],\n",
       " ['District 3', '1100', '95423', '256'],\n",
       " ['', '', '95458', '271'],\n",
       " ['', '', '95464', '261'],\n",
       " ['', '', '95485', '291'],\n",
       " ['', '', '95493', '11'],\n",
       " ['', '', '95443', '10'],\n",
       " ['District 4', '1434', '95453', '1388'],\n",
       " ['', '', '95435', '46'],\n",
       " ['District 5', '1150', '95426', '62'],\n",
       " ['', '', '95451', '1088'],\n",
       " ['Unknown or Other', '99', 'Unknown/other', '99']]"
      ]
     },
     "execution_count": 16,
     "metadata": {},
     "output_type": "execute_result"
    }
   ],
   "source": [
    "data_list"
   ]
  },
  {
   "cell_type": "code",
   "execution_count": 17,
   "metadata": {
    "execution": {
     "iopub.execute_input": "2021-10-23T08:20:26.424762Z",
     "iopub.status.busy": "2021-10-23T08:20:26.424237Z",
     "iopub.status.idle": "2021-10-23T08:20:26.427859Z",
     "shell.execute_reply": "2021-10-23T08:20:26.427148Z"
    }
   },
   "outputs": [],
   "source": [
    "df = pd.DataFrame(data_list[1:], columns=data_list[0])"
   ]
  },
  {
   "cell_type": "markdown",
   "metadata": {},
   "source": [
    "### Get timestamp"
   ]
  },
  {
   "cell_type": "code",
   "execution_count": 18,
   "metadata": {
    "execution": {
     "iopub.execute_input": "2021-10-23T08:20:26.434564Z",
     "iopub.status.busy": "2021-10-23T08:20:26.433400Z",
     "iopub.status.idle": "2021-10-23T08:20:26.437044Z",
     "shell.execute_reply": "2021-10-23T08:20:26.437491Z"
    }
   },
   "outputs": [],
   "source": [
    "title_tag = soup.find(\"meta\", {\"property\": \"og:title\"})"
   ]
  },
  {
   "cell_type": "code",
   "execution_count": 19,
   "metadata": {
    "execution": {
     "iopub.execute_input": "2021-10-23T08:20:26.443137Z",
     "iopub.status.busy": "2021-10-23T08:20:26.439927Z",
     "iopub.status.idle": "2021-10-23T08:20:26.445662Z",
     "shell.execute_reply": "2021-10-23T08:20:26.446376Z"
    }
   },
   "outputs": [],
   "source": [
    "title_str = title_tag[\"content\"]"
   ]
  },
  {
   "cell_type": "code",
   "execution_count": 20,
   "metadata": {
    "execution": {
     "iopub.execute_input": "2021-10-23T08:20:26.450807Z",
     "iopub.status.busy": "2021-10-23T08:20:26.450276Z",
     "iopub.status.idle": "2021-10-23T08:20:26.456275Z",
     "shell.execute_reply": "2021-10-23T08:20:26.455810Z"
    }
   },
   "outputs": [
    {
     "data": {
      "text/plain": [
       "'Lake County COVID-19 cases, by district and zip code, through 9/30/21 | Created with Datawrapper'"
      ]
     },
     "execution_count": 20,
     "metadata": {},
     "output_type": "execute_result"
    }
   ],
   "source": [
    "title_str"
   ]
  },
  {
   "cell_type": "code",
   "execution_count": 21,
   "metadata": {
    "execution": {
     "iopub.execute_input": "2021-10-23T08:20:26.461290Z",
     "iopub.status.busy": "2021-10-23T08:20:26.460373Z",
     "iopub.status.idle": "2021-10-23T08:20:26.464833Z",
     "shell.execute_reply": "2021-10-23T08:20:26.465279Z"
    }
   },
   "outputs": [],
   "source": [
    "date_regex = re.search(r\"(\\d+/\\d+/\\d+)\", title_str)"
   ]
  },
  {
   "cell_type": "code",
   "execution_count": 22,
   "metadata": {
    "execution": {
     "iopub.execute_input": "2021-10-23T08:20:26.470159Z",
     "iopub.status.busy": "2021-10-23T08:20:26.469352Z",
     "iopub.status.idle": "2021-10-23T08:20:26.474283Z",
     "shell.execute_reply": "2021-10-23T08:20:26.473493Z"
    }
   },
   "outputs": [],
   "source": [
    "date_str = date_regex.group(1)"
   ]
  },
  {
   "cell_type": "code",
   "execution_count": 23,
   "metadata": {
    "execution": {
     "iopub.execute_input": "2021-10-23T08:20:26.481333Z",
     "iopub.status.busy": "2021-10-23T08:20:26.480506Z",
     "iopub.status.idle": "2021-10-23T08:20:26.483990Z",
     "shell.execute_reply": "2021-10-23T08:20:26.484403Z"
    }
   },
   "outputs": [],
   "source": [
    "latest_date = pd.to_datetime(date_str).date()"
   ]
  },
  {
   "cell_type": "code",
   "execution_count": 24,
   "metadata": {
    "execution": {
     "iopub.execute_input": "2021-10-23T08:20:26.489763Z",
     "iopub.status.busy": "2021-10-23T08:20:26.488465Z",
     "iopub.status.idle": "2021-10-23T08:20:26.492708Z",
     "shell.execute_reply": "2021-10-23T08:20:26.492243Z"
    }
   },
   "outputs": [],
   "source": [
    "df[\"county_date\"] = latest_date"
   ]
  },
  {
   "cell_type": "markdown",
   "metadata": {},
   "source": [
    "### Rename and drop columns"
   ]
  },
  {
   "cell_type": "code",
   "execution_count": 25,
   "metadata": {
    "execution": {
     "iopub.execute_input": "2021-10-23T08:20:26.498118Z",
     "iopub.status.busy": "2021-10-23T08:20:26.497592Z",
     "iopub.status.idle": "2021-10-23T08:20:26.501239Z",
     "shell.execute_reply": "2021-10-23T08:20:26.501685Z"
    }
   },
   "outputs": [],
   "source": [
    "cols = {\"Zip Code\": \"area\", \"Zip Code Total\": \"confirmed_cases\"}"
   ]
  },
  {
   "cell_type": "code",
   "execution_count": 26,
   "metadata": {
    "execution": {
     "iopub.execute_input": "2021-10-23T08:20:26.510783Z",
     "iopub.status.busy": "2021-10-23T08:20:26.510241Z",
     "iopub.status.idle": "2021-10-23T08:20:26.513107Z",
     "shell.execute_reply": "2021-10-23T08:20:26.512384Z"
    }
   },
   "outputs": [],
   "source": [
    "export_df = df.rename(columns=cols)[[\"area\", \"confirmed_cases\", \"county_date\"]]"
   ]
  },
  {
   "cell_type": "code",
   "execution_count": 27,
   "metadata": {
    "execution": {
     "iopub.execute_input": "2021-10-23T08:20:26.517344Z",
     "iopub.status.busy": "2021-10-23T08:20:26.516823Z",
     "iopub.status.idle": "2021-10-23T08:20:26.522430Z",
     "shell.execute_reply": "2021-10-23T08:20:26.522884Z"
    }
   },
   "outputs": [
    {
     "data": {
      "text/plain": [
       "16"
      ]
     },
     "execution_count": 27,
     "metadata": {},
     "output_type": "execute_result"
    }
   ],
   "source": [
    "len(export_df)"
   ]
  },
  {
   "cell_type": "markdown",
   "metadata": {},
   "source": [
    "### Vet"
   ]
  },
  {
   "cell_type": "markdown",
   "metadata": {},
   "source": [
    "Lake County has 16 ZIP code areas, including \"Unknown\""
   ]
  },
  {
   "cell_type": "code",
   "execution_count": 28,
   "metadata": {
    "execution": {
     "iopub.execute_input": "2021-10-23T08:20:26.526659Z",
     "iopub.status.busy": "2021-10-23T08:20:26.526103Z",
     "iopub.status.idle": "2021-10-23T08:20:26.529682Z",
     "shell.execute_reply": "2021-10-23T08:20:26.529207Z"
    }
   },
   "outputs": [],
   "source": [
    "lake_len = 16"
   ]
  },
  {
   "cell_type": "code",
   "execution_count": 29,
   "metadata": {
    "execution": {
     "iopub.execute_input": "2021-10-23T08:20:26.534277Z",
     "iopub.status.busy": "2021-10-23T08:20:26.533721Z",
     "iopub.status.idle": "2021-10-23T08:20:26.538468Z",
     "shell.execute_reply": "2021-10-23T08:20:26.537995Z"
    }
   },
   "outputs": [],
   "source": [
    "try:\n",
    "    assert not len(export_df) > lake_len\n",
    "except AssertionError:\n",
    "    raise AssertionError(\n",
    "        \"Lake County scraper: spreadsheet has additional zip code(s) than previous\"\n",
    "    )"
   ]
  },
  {
   "cell_type": "code",
   "execution_count": 30,
   "metadata": {
    "execution": {
     "iopub.execute_input": "2021-10-23T08:20:26.545283Z",
     "iopub.status.busy": "2021-10-23T08:20:26.544111Z",
     "iopub.status.idle": "2021-10-23T08:20:26.545889Z",
     "shell.execute_reply": "2021-10-23T08:20:26.546423Z"
    }
   },
   "outputs": [],
   "source": [
    "try:\n",
    "    assert not len(export_df) < lake_len\n",
    "except AssertionError:\n",
    "    raise AssertionError(\"Lake County scraper: spreadsheet is missing row(s)\")"
   ]
  },
  {
   "cell_type": "markdown",
   "metadata": {},
   "source": [
    "### Export csv file"
   ]
  },
  {
   "cell_type": "markdown",
   "metadata": {},
   "source": [
    "Write csv file timestamped with today's date"
   ]
  },
  {
   "cell_type": "code",
   "execution_count": 31,
   "metadata": {
    "execution": {
     "iopub.execute_input": "2021-10-23T08:20:26.549844Z",
     "iopub.status.busy": "2021-10-23T08:20:26.548525Z",
     "iopub.status.idle": "2021-10-23T08:20:26.552967Z",
     "shell.execute_reply": "2021-10-23T08:20:26.552528Z"
    }
   },
   "outputs": [],
   "source": [
    "slug = \"lake\""
   ]
  },
  {
   "cell_type": "code",
   "execution_count": 32,
   "metadata": {
    "execution": {
     "iopub.execute_input": "2021-10-23T08:20:26.558060Z",
     "iopub.status.busy": "2021-10-23T08:20:26.557472Z",
     "iopub.status.idle": "2021-10-23T08:20:26.682760Z",
     "shell.execute_reply": "2021-10-23T08:20:26.682132Z"
    }
   },
   "outputs": [
    {
     "ename": "NameError",
     "evalue": "name 'today' is not defined",
     "output_type": "error",
     "traceback": [
      "\u001b[0;31m---------------------------------------------------------------------------\u001b[0m",
      "\u001b[0;31mNameError\u001b[0m                                 Traceback (most recent call last)",
      "\u001b[0;32m/tmp/ipykernel_3479/2436362009.py\u001b[0m in \u001b[0;36m<module>\u001b[0;34m\u001b[0m\n\u001b[0;32m----> 1\u001b[0;31m \u001b[0mexport_df\u001b[0m\u001b[0;34m.\u001b[0m\u001b[0mto_csv\u001b[0m\u001b[0;34m(\u001b[0m\u001b[0mdata_dir\u001b[0m \u001b[0;34m/\u001b[0m \u001b[0mslug\u001b[0m \u001b[0;34m/\u001b[0m \u001b[0;34mf\"{today}.csv\"\u001b[0m\u001b[0;34m,\u001b[0m \u001b[0mindex\u001b[0m\u001b[0;34m=\u001b[0m\u001b[0;32mFalse\u001b[0m\u001b[0;34m)\u001b[0m\u001b[0;34m\u001b[0m\u001b[0;34m\u001b[0m\u001b[0m\n\u001b[0m",
      "\u001b[0;31mNameError\u001b[0m: name 'today' is not defined"
     ]
    }
   ],
   "source": [
    "export_df.to_csv(data_dir / slug / f\"{today}.csv\", index=False)"
   ]
  },
  {
   "cell_type": "markdown",
   "metadata": {},
   "source": [
    "## Combine"
   ]
  },
  {
   "cell_type": "code",
   "execution_count": 260,
   "metadata": {},
   "outputs": [],
   "source": [
    "csv_list = [\n",
    "    i\n",
    "    for i in glob.glob(str(data_dir / slug / \"*.csv\"))\n",
    "    if not str(i).endswith(\"timeseries.csv\")\n",
    "]"
   ]
  },
  {
   "cell_type": "code",
   "execution_count": 261,
   "metadata": {},
   "outputs": [],
   "source": [
    "df_list = []\n",
    "for csv in csv_list:\n",
    "    if \"manual\" in csv:\n",
    "        df = pd.read_csv(csv, parse_dates=[\"date\"])\n",
    "    else:\n",
    "        file_date = csv.split(\"/\")[-1].replace(\".csv\", \"\")\n",
    "        df = pd.read_csv(csv, parse_dates=[\"county_date\"])\n",
    "        df[\"date\"] = file_date\n",
    "    df_list.append(df)"
   ]
  },
  {
   "cell_type": "code",
   "execution_count": 262,
   "metadata": {},
   "outputs": [],
   "source": [
    "df = pd.concat(df_list).sort_values([\"date\", \"area\"])"
   ]
  },
  {
   "cell_type": "code",
   "execution_count": 263,
   "metadata": {},
   "outputs": [],
   "source": [
    "df.to_csv(data_dir / slug / \"timeseries.csv\", index=False)"
   ]
  }
 ],
 "metadata": {
  "kernelspec": {
   "display_name": "Python 3 (ipykernel)",
   "language": "python",
   "name": "python3"
  },
  "language_info": {
   "codemirror_mode": {
    "name": "ipython",
    "version": 3
   },
   "file_extension": ".py",
   "mimetype": "text/x-python",
   "name": "python",
   "nbconvert_exporter": "python",
   "pygments_lexer": "ipython3",
   "version": "3.8.12"
  }
 },
 "nbformat": 4,
 "nbformat_minor": 4
}
