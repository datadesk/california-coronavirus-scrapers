{
 "cells": [
  {
   "cell_type": "markdown",
   "metadata": {},
   "source": [
    "## Configuration\n",
    "_Initial steps to get the notebook ready to play nice with our repository. Do not delete this section._"
   ]
  },
  {
   "cell_type": "markdown",
   "metadata": {},
   "source": [
    "Code formatting with [black](https://pypi.org/project/nb-black/)."
   ]
  },
  {
   "cell_type": "code",
   "execution_count": 1,
   "metadata": {
    "execution": {
     "iopub.execute_input": "2021-10-22T00:22:19.331531Z",
     "iopub.status.busy": "2021-10-22T00:22:19.330894Z",
     "iopub.status.idle": "2021-10-22T00:22:19.467099Z",
     "shell.execute_reply": "2021-10-22T00:22:19.467644Z"
    }
   },
   "outputs": [],
   "source": [
    "%load_ext lab_black"
   ]
  },
  {
   "cell_type": "code",
   "execution_count": 2,
   "metadata": {
    "execution": {
     "iopub.execute_input": "2021-10-22T00:22:19.474453Z",
     "iopub.status.busy": "2021-10-22T00:22:19.473032Z",
     "iopub.status.idle": "2021-10-22T00:22:19.475083Z",
     "shell.execute_reply": "2021-10-22T00:22:19.475552Z"
    }
   },
   "outputs": [],
   "source": [
    "import os\n",
    "import pathlib"
   ]
  },
  {
   "cell_type": "code",
   "execution_count": 3,
   "metadata": {
    "execution": {
     "iopub.execute_input": "2021-10-22T00:22:19.484541Z",
     "iopub.status.busy": "2021-10-22T00:22:19.483034Z",
     "iopub.status.idle": "2021-10-22T00:22:19.485150Z",
     "shell.execute_reply": "2021-10-22T00:22:19.485642Z"
    }
   },
   "outputs": [],
   "source": [
    "this_dir = pathlib.Path(os.path.abspath(\"\"))"
   ]
  },
  {
   "cell_type": "code",
   "execution_count": 4,
   "metadata": {
    "execution": {
     "iopub.execute_input": "2021-10-22T00:22:19.491831Z",
     "iopub.status.busy": "2021-10-22T00:22:19.490524Z",
     "iopub.status.idle": "2021-10-22T00:22:19.492434Z",
     "shell.execute_reply": "2021-10-22T00:22:19.492884Z"
    }
   },
   "outputs": [],
   "source": [
    "data_dir = this_dir / \"data\""
   ]
  },
  {
   "cell_type": "code",
   "execution_count": 5,
   "metadata": {
    "execution": {
     "iopub.execute_input": "2021-10-22T00:22:19.497292Z",
     "iopub.status.busy": "2021-10-22T00:22:19.496709Z",
     "iopub.status.idle": "2021-10-22T00:22:19.935823Z",
     "shell.execute_reply": "2021-10-22T00:22:19.934838Z"
    }
   },
   "outputs": [],
   "source": [
    "import re\n",
    "import pytz\n",
    "import glob\n",
    "import requests\n",
    "import unicodedata\n",
    "import json\n",
    "import pandas as pd\n",
    "from datetime import datetime\n",
    "from bs4 import BeautifulSoup"
   ]
  },
  {
   "cell_type": "markdown",
   "metadata": {},
   "source": [
    "### Download / retrieve the page"
   ]
  },
  {
   "cell_type": "markdown",
   "metadata": {},
   "source": [
    "Lake County's [dashboard](http://health.co.lake.ca.us/Coronavirus/COVID-19_Data.htm) uses Datawrapper to display cases by ZIP Code. To make sure we get the latest, we'll hit the chart page on Datawrapper's website, then get the iframe URL."
   ]
  },
  {
   "cell_type": "code",
   "execution_count": 6,
   "metadata": {
    "execution": {
     "iopub.execute_input": "2021-10-22T00:22:19.942116Z",
     "iopub.status.busy": "2021-10-22T00:22:19.940402Z",
     "iopub.status.idle": "2021-10-22T00:22:19.945298Z",
     "shell.execute_reply": "2021-10-22T00:22:19.945897Z"
    }
   },
   "outputs": [],
   "source": [
    "url = \"https://www.datawrapper.de/_/D1RaA/\""
   ]
  },
  {
   "cell_type": "code",
   "execution_count": 7,
   "metadata": {
    "execution": {
     "iopub.execute_input": "2021-10-22T00:22:19.955299Z",
     "iopub.status.busy": "2021-10-22T00:22:19.950326Z",
     "iopub.status.idle": "2021-10-22T00:22:20.172171Z",
     "shell.execute_reply": "2021-10-22T00:22:20.171642Z"
    }
   },
   "outputs": [],
   "source": [
    "page = requests.get(url)"
   ]
  },
  {
   "cell_type": "markdown",
   "metadata": {},
   "source": [
    "### Parse with BeautifulSoup"
   ]
  },
  {
   "cell_type": "code",
   "execution_count": 8,
   "metadata": {
    "execution": {
     "iopub.execute_input": "2021-10-22T00:22:20.180175Z",
     "iopub.status.busy": "2021-10-22T00:22:20.178763Z",
     "iopub.status.idle": "2021-10-22T00:22:20.183429Z",
     "shell.execute_reply": "2021-10-22T00:22:20.182936Z"
    }
   },
   "outputs": [],
   "source": [
    "soup = BeautifulSoup(page.content, \"html.parser\")"
   ]
  },
  {
   "cell_type": "code",
   "execution_count": 9,
   "metadata": {
    "execution": {
     "iopub.execute_input": "2021-10-22T00:22:20.188280Z",
     "iopub.status.busy": "2021-10-22T00:22:20.187672Z",
     "iopub.status.idle": "2021-10-22T00:22:20.194094Z",
     "shell.execute_reply": "2021-10-22T00:22:20.193062Z"
    }
   },
   "outputs": [],
   "source": [
    "meta = soup.find(\"meta\", {\"property\": \"og:url\"})"
   ]
  },
  {
   "cell_type": "code",
   "execution_count": 10,
   "metadata": {
    "execution": {
     "iopub.execute_input": "2021-10-22T00:22:20.199691Z",
     "iopub.status.busy": "2021-10-22T00:22:20.198721Z",
     "iopub.status.idle": "2021-10-22T00:22:20.203154Z",
     "shell.execute_reply": "2021-10-22T00:22:20.201738Z"
    }
   },
   "outputs": [],
   "source": [
    "dw_url = meta[\"content\"]"
   ]
  },
  {
   "cell_type": "markdown",
   "metadata": {},
   "source": [
    "### Parse Datawrapper"
   ]
  },
  {
   "cell_type": "code",
   "execution_count": 11,
   "metadata": {
    "execution": {
     "iopub.execute_input": "2021-10-22T00:22:20.208609Z",
     "iopub.status.busy": "2021-10-22T00:22:20.207568Z",
     "iopub.status.idle": "2021-10-22T00:22:20.212058Z",
     "shell.execute_reply": "2021-10-22T00:22:20.211575Z"
    }
   },
   "outputs": [],
   "source": [
    "dataset_url = dw_url + \"dataset.csv\""
   ]
  },
  {
   "cell_type": "code",
   "execution_count": 12,
   "metadata": {
    "execution": {
     "iopub.execute_input": "2021-10-22T00:22:20.219675Z",
     "iopub.status.busy": "2021-10-22T00:22:20.219034Z",
     "iopub.status.idle": "2021-10-22T00:22:20.294742Z",
     "shell.execute_reply": "2021-10-22T00:22:20.294238Z"
    }
   },
   "outputs": [],
   "source": [
    "dw_r = requests.get(dataset_url)"
   ]
  },
  {
   "cell_type": "code",
   "execution_count": 13,
   "metadata": {
    "execution": {
     "iopub.execute_input": "2021-10-22T00:22:20.303646Z",
     "iopub.status.busy": "2021-10-22T00:22:20.302573Z",
     "iopub.status.idle": "2021-10-22T00:22:20.306322Z",
     "shell.execute_reply": "2021-10-22T00:22:20.305885Z"
    }
   },
   "outputs": [],
   "source": [
    "string = dw_r.text"
   ]
  },
  {
   "cell_type": "code",
   "execution_count": 14,
   "metadata": {
    "execution": {
     "iopub.execute_input": "2021-10-22T00:22:20.313256Z",
     "iopub.status.busy": "2021-10-22T00:22:20.311786Z",
     "iopub.status.idle": "2021-10-22T00:22:20.313942Z",
     "shell.execute_reply": "2021-10-22T00:22:20.314396Z"
    }
   },
   "outputs": [],
   "source": [
    "parsed = string.split(\"\\r\\n\")"
   ]
  },
  {
   "cell_type": "code",
   "execution_count": 15,
   "metadata": {
    "execution": {
     "iopub.execute_input": "2021-10-22T00:22:20.319704Z",
     "iopub.status.busy": "2021-10-22T00:22:20.319163Z",
     "iopub.status.idle": "2021-10-22T00:22:20.324293Z",
     "shell.execute_reply": "2021-10-22T00:22:20.324727Z"
    }
   },
   "outputs": [],
   "source": [
    "data_list = []\n",
    "for row in parsed:\n",
    "    cell = row.split(\",\")\n",
    "    data_list.append(cell)"
   ]
  },
  {
   "cell_type": "code",
   "execution_count": 16,
   "metadata": {
    "execution": {
     "iopub.execute_input": "2021-10-22T00:22:20.337620Z",
     "iopub.status.busy": "2021-10-22T00:22:20.336358Z",
     "iopub.status.idle": "2021-10-22T00:22:20.340285Z",
     "shell.execute_reply": "2021-10-22T00:22:20.340765Z"
    }
   },
   "outputs": [
    {
     "data": {
      "text/plain": [
       "[['Supervisorial District', 'District Total', 'Zip Code', 'Zip Code Total'],\n",
       " ['District 1', '771', '95457', '261'],\n",
       " ['', '', '95467', '344'],\n",
       " ['', '', '95461', '166'],\n",
       " ['District 2', '1647', '95422', '1627'],\n",
       " ['', '', '95424', '20'],\n",
       " ['District 3', '1100', '95423', '256'],\n",
       " ['', '', '95458', '271'],\n",
       " ['', '', '95464', '261'],\n",
       " ['', '', '95485', '291'],\n",
       " ['', '', '95493', '11'],\n",
       " ['', '', '95443', '10'],\n",
       " ['District 4', '1434', '95453', '1388'],\n",
       " ['', '', '95435', '46'],\n",
       " ['District 5', '1150', '95426', '62'],\n",
       " ['', '', '95451', '1088'],\n",
       " ['Unknown or Other', '99', 'Unknown/other', '99']]"
      ]
     },
     "execution_count": 16,
     "metadata": {},
     "output_type": "execute_result"
    }
   ],
   "source": [
    "data_list"
   ]
  },
  {
   "cell_type": "code",
   "execution_count": 17,
   "metadata": {
    "execution": {
     "iopub.execute_input": "2021-10-22T00:22:20.348885Z",
     "iopub.status.busy": "2021-10-22T00:22:20.348307Z",
     "iopub.status.idle": "2021-10-22T00:22:20.353909Z",
     "shell.execute_reply": "2021-10-22T00:22:20.354419Z"
    }
   },
   "outputs": [],
   "source": [
    "df = pd.DataFrame(data_list[1:], columns=data_list[0])"
   ]
  },
  {
   "cell_type": "markdown",
   "metadata": {},
   "source": [
    "### Get timestamp"
   ]
  },
  {
   "cell_type": "code",
   "execution_count": 18,
   "metadata": {
    "execution": {
     "iopub.execute_input": "2021-10-22T00:22:20.359950Z",
     "iopub.status.busy": "2021-10-22T00:22:20.359370Z",
     "iopub.status.idle": "2021-10-22T00:22:20.364761Z",
     "shell.execute_reply": "2021-10-22T00:22:20.363639Z"
    }
   },
   "outputs": [],
   "source": [
    "title_tag = soup.find(\"meta\", {\"property\": \"og:title\"})"
   ]
  },
  {
   "cell_type": "code",
   "execution_count": 19,
   "metadata": {
    "execution": {
     "iopub.execute_input": "2021-10-22T00:22:20.370470Z",
     "iopub.status.busy": "2021-10-22T00:22:20.369927Z",
     "iopub.status.idle": "2021-10-22T00:22:20.373534Z",
     "shell.execute_reply": "2021-10-22T00:22:20.374056Z"
    }
   },
   "outputs": [],
   "source": [
    "title_str = title_tag[\"content\"]"
   ]
  },
  {
   "cell_type": "code",
   "execution_count": 20,
   "metadata": {
    "execution": {
     "iopub.execute_input": "2021-10-22T00:22:20.378758Z",
     "iopub.status.busy": "2021-10-22T00:22:20.377734Z",
     "iopub.status.idle": "2021-10-22T00:22:20.381340Z",
     "shell.execute_reply": "2021-10-22T00:22:20.381834Z"
    }
   },
   "outputs": [
    {
     "data": {
      "text/plain": [
       "'Lake County COVID-19 cases, by district and zip code, through 9/30/21 | Created with Datawrapper'"
      ]
     },
     "execution_count": 20,
     "metadata": {},
     "output_type": "execute_result"
    }
   ],
   "source": [
    "title_str"
   ]
  },
  {
   "cell_type": "code",
   "execution_count": 21,
   "metadata": {
    "execution": {
     "iopub.execute_input": "2021-10-22T00:22:20.387239Z",
     "iopub.status.busy": "2021-10-22T00:22:20.386219Z",
     "iopub.status.idle": "2021-10-22T00:22:20.398033Z",
     "shell.execute_reply": "2021-10-22T00:22:20.397373Z"
    }
   },
   "outputs": [],
   "source": [
    "date_regex = re.search(r\"(\\d+/\\d+/\\d+)\", title_str)"
   ]
  },
  {
   "cell_type": "code",
   "execution_count": 22,
   "metadata": {
    "execution": {
     "iopub.execute_input": "2021-10-22T00:22:20.403370Z",
     "iopub.status.busy": "2021-10-22T00:22:20.402314Z",
     "iopub.status.idle": "2021-10-22T00:22:20.406812Z",
     "shell.execute_reply": "2021-10-22T00:22:20.406064Z"
    }
   },
   "outputs": [],
   "source": [
    "date_str = date_regex.group(1)"
   ]
  },
  {
   "cell_type": "code",
   "execution_count": 23,
   "metadata": {
    "execution": {
     "iopub.execute_input": "2021-10-22T00:22:20.416749Z",
     "iopub.status.busy": "2021-10-22T00:22:20.416106Z",
     "iopub.status.idle": "2021-10-22T00:22:20.417832Z",
     "shell.execute_reply": "2021-10-22T00:22:20.417289Z"
    }
   },
   "outputs": [],
   "source": [
    "latest_date = pd.to_datetime(date_str).date()"
   ]
  },
  {
   "cell_type": "code",
   "execution_count": 24,
   "metadata": {
    "execution": {
     "iopub.execute_input": "2021-10-22T00:22:20.425472Z",
     "iopub.status.busy": "2021-10-22T00:22:20.424833Z",
     "iopub.status.idle": "2021-10-22T00:22:20.427245Z",
     "shell.execute_reply": "2021-10-22T00:22:20.426740Z"
    }
   },
   "outputs": [],
   "source": [
    "df[\"county_date\"] = latest_date"
   ]
  },
  {
   "cell_type": "markdown",
   "metadata": {},
   "source": [
    "### Rename and drop columns"
   ]
  },
  {
   "cell_type": "code",
   "execution_count": 25,
   "metadata": {
    "execution": {
     "iopub.execute_input": "2021-10-22T00:22:20.431535Z",
     "iopub.status.busy": "2021-10-22T00:22:20.429697Z",
     "iopub.status.idle": "2021-10-22T00:22:20.435941Z",
     "shell.execute_reply": "2021-10-22T00:22:20.435405Z"
    }
   },
   "outputs": [],
   "source": [
    "cols = {\"Zip Code\": \"area\", \"Zip Code Total\": \"confirmed_cases\"}"
   ]
  },
  {
   "cell_type": "code",
   "execution_count": 26,
   "metadata": {
    "execution": {
     "iopub.execute_input": "2021-10-22T00:22:20.445224Z",
     "iopub.status.busy": "2021-10-22T00:22:20.444566Z",
     "iopub.status.idle": "2021-10-22T00:22:20.449395Z",
     "shell.execute_reply": "2021-10-22T00:22:20.448820Z"
    }
   },
   "outputs": [],
   "source": [
    "export_df = df.rename(columns=cols)[[\"area\", \"confirmed_cases\", \"county_date\"]]"
   ]
  },
  {
   "cell_type": "code",
   "execution_count": 27,
   "metadata": {
    "execution": {
     "iopub.execute_input": "2021-10-22T00:22:20.455081Z",
     "iopub.status.busy": "2021-10-22T00:22:20.453898Z",
     "iopub.status.idle": "2021-10-22T00:22:20.457572Z",
     "shell.execute_reply": "2021-10-22T00:22:20.458081Z"
    }
   },
   "outputs": [
    {
     "data": {
      "text/plain": [
       "16"
      ]
     },
     "execution_count": 27,
     "metadata": {},
     "output_type": "execute_result"
    }
   ],
   "source": [
    "len(export_df)"
   ]
  },
  {
   "cell_type": "markdown",
   "metadata": {},
   "source": [
    "### Vet"
   ]
  },
  {
   "cell_type": "markdown",
   "metadata": {},
   "source": [
    "Lake County has 16 ZIP code areas, including \"Unknown\""
   ]
  },
  {
   "cell_type": "code",
   "execution_count": 28,
   "metadata": {
    "execution": {
     "iopub.execute_input": "2021-10-22T00:22:20.462174Z",
     "iopub.status.busy": "2021-10-22T00:22:20.461561Z",
     "iopub.status.idle": "2021-10-22T00:22:20.465363Z",
     "shell.execute_reply": "2021-10-22T00:22:20.464855Z"
    }
   },
   "outputs": [],
   "source": [
    "lake_len = 16"
   ]
  },
  {
   "cell_type": "code",
   "execution_count": 29,
   "metadata": {
    "execution": {
     "iopub.execute_input": "2021-10-22T00:22:20.472564Z",
     "iopub.status.busy": "2021-10-22T00:22:20.467591Z",
     "iopub.status.idle": "2021-10-22T00:22:20.475258Z",
     "shell.execute_reply": "2021-10-22T00:22:20.474677Z"
    }
   },
   "outputs": [],
   "source": [
    "try:\n",
    "    assert not len(export_df) > lake_len\n",
    "except AssertionError:\n",
    "    raise AssertionError(\n",
    "        \"Lake County scraper: spreadsheet has additional zip code(s) than previous\"\n",
    "    )"
   ]
  },
  {
   "cell_type": "code",
   "execution_count": 30,
   "metadata": {
    "execution": {
     "iopub.execute_input": "2021-10-22T00:22:20.480538Z",
     "iopub.status.busy": "2021-10-22T00:22:20.477539Z",
     "iopub.status.idle": "2021-10-22T00:22:20.486391Z",
     "shell.execute_reply": "2021-10-22T00:22:20.485923Z"
    }
   },
   "outputs": [],
   "source": [
    "try:\n",
    "    assert not len(export_df) < lake_len\n",
    "except AssertionError:\n",
    "    raise AssertionError(\"Lake County scraper: spreadsheet is missing row(s)\")"
   ]
  },
  {
   "cell_type": "markdown",
   "metadata": {},
   "source": [
    "### Export csv file"
   ]
  },
  {
   "cell_type": "markdown",
   "metadata": {},
   "source": [
    "Write csv file timestamped with today's date"
   ]
  },
  {
   "cell_type": "code",
   "execution_count": 31,
   "metadata": {
    "execution": {
     "iopub.execute_input": "2021-10-22T00:22:20.490879Z",
     "iopub.status.busy": "2021-10-22T00:22:20.489736Z",
     "iopub.status.idle": "2021-10-22T00:22:20.493287Z",
     "shell.execute_reply": "2021-10-22T00:22:20.492715Z"
    }
   },
   "outputs": [],
   "source": [
    "slug = \"lake\""
   ]
  },
  {
   "cell_type": "code",
   "execution_count": 32,
   "metadata": {
    "execution": {
     "iopub.execute_input": "2021-10-22T00:22:20.497401Z",
     "iopub.status.busy": "2021-10-22T00:22:20.496831Z",
     "iopub.status.idle": "2021-10-22T00:22:20.620062Z",
     "shell.execute_reply": "2021-10-22T00:22:20.619435Z"
    }
   },
   "outputs": [
    {
     "ename": "NameError",
     "evalue": "name 'today' is not defined",
     "output_type": "error",
     "traceback": [
      "\u001b[0;31m---------------------------------------------------------------------------\u001b[0m",
      "\u001b[0;31mNameError\u001b[0m                                 Traceback (most recent call last)",
      "\u001b[0;32m/tmp/ipykernel_3407/2436362009.py\u001b[0m in \u001b[0;36m<module>\u001b[0;34m\u001b[0m\n\u001b[0;32m----> 1\u001b[0;31m \u001b[0mexport_df\u001b[0m\u001b[0;34m.\u001b[0m\u001b[0mto_csv\u001b[0m\u001b[0;34m(\u001b[0m\u001b[0mdata_dir\u001b[0m \u001b[0;34m/\u001b[0m \u001b[0mslug\u001b[0m \u001b[0;34m/\u001b[0m \u001b[0;34mf\"{today}.csv\"\u001b[0m\u001b[0;34m,\u001b[0m \u001b[0mindex\u001b[0m\u001b[0;34m=\u001b[0m\u001b[0;32mFalse\u001b[0m\u001b[0;34m)\u001b[0m\u001b[0;34m\u001b[0m\u001b[0;34m\u001b[0m\u001b[0m\n\u001b[0m",
      "\u001b[0;31mNameError\u001b[0m: name 'today' is not defined"
     ]
    }
   ],
   "source": [
    "export_df.to_csv(data_dir / slug / f\"{today}.csv\", index=False)"
   ]
  },
  {
   "cell_type": "markdown",
   "metadata": {},
   "source": [
    "## Combine"
   ]
  },
  {
   "cell_type": "code",
   "execution_count": 260,
   "metadata": {},
   "outputs": [],
   "source": [
    "csv_list = [\n",
    "    i\n",
    "    for i in glob.glob(str(data_dir / slug / \"*.csv\"))\n",
    "    if not str(i).endswith(\"timeseries.csv\")\n",
    "]"
   ]
  },
  {
   "cell_type": "code",
   "execution_count": 261,
   "metadata": {},
   "outputs": [],
   "source": [
    "df_list = []\n",
    "for csv in csv_list:\n",
    "    if \"manual\" in csv:\n",
    "        df = pd.read_csv(csv, parse_dates=[\"date\"])\n",
    "    else:\n",
    "        file_date = csv.split(\"/\")[-1].replace(\".csv\", \"\")\n",
    "        df = pd.read_csv(csv, parse_dates=[\"county_date\"])\n",
    "        df[\"date\"] = file_date\n",
    "    df_list.append(df)"
   ]
  },
  {
   "cell_type": "code",
   "execution_count": 262,
   "metadata": {},
   "outputs": [],
   "source": [
    "df = pd.concat(df_list).sort_values([\"date\", \"area\"])"
   ]
  },
  {
   "cell_type": "code",
   "execution_count": 263,
   "metadata": {},
   "outputs": [],
   "source": [
    "df.to_csv(data_dir / slug / \"timeseries.csv\", index=False)"
   ]
  }
 ],
 "metadata": {
  "kernelspec": {
   "display_name": "Python 3 (ipykernel)",
   "language": "python",
   "name": "python3"
  },
  "language_info": {
   "codemirror_mode": {
    "name": "ipython",
    "version": 3
   },
   "file_extension": ".py",
   "mimetype": "text/x-python",
   "name": "python",
   "nbconvert_exporter": "python",
   "pygments_lexer": "ipython3",
   "version": "3.8.12"
  }
 },
 "nbformat": 4,
 "nbformat_minor": 4
}
