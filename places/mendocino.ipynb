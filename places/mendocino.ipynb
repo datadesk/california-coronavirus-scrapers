{
 "cells": [
  {
   "cell_type": "markdown",
   "metadata": {},
   "source": [
    "## Configuration\n",
    "_Initial steps to get the notebook ready to play nice with our repository. Do not delete this section._"
   ]
  },
  {
   "cell_type": "markdown",
   "metadata": {},
   "source": [
    "Code formatting with [black](https://pypi.org/project/nb-black/)."
   ]
  },
  {
   "cell_type": "code",
   "execution_count": 1,
   "metadata": {
    "execution": {
     "iopub.execute_input": "2021-09-09T22:15:10.440017Z",
     "iopub.status.busy": "2021-09-09T22:15:10.434573Z",
     "iopub.status.idle": "2021-09-09T22:15:10.552610Z",
     "shell.execute_reply": "2021-09-09T22:15:10.553347Z"
    }
   },
   "outputs": [],
   "source": [
    "%load_ext lab_black"
   ]
  },
  {
   "cell_type": "code",
   "execution_count": 2,
   "metadata": {
    "execution": {
     "iopub.execute_input": "2021-09-09T22:15:10.556399Z",
     "iopub.status.busy": "2021-09-09T22:15:10.555476Z",
     "iopub.status.idle": "2021-09-09T22:15:10.559895Z",
     "shell.execute_reply": "2021-09-09T22:15:10.560526Z"
    }
   },
   "outputs": [],
   "source": [
    "import os\n",
    "import pathlib"
   ]
  },
  {
   "cell_type": "code",
   "execution_count": 3,
   "metadata": {
    "execution": {
     "iopub.execute_input": "2021-09-09T22:15:10.563352Z",
     "iopub.status.busy": "2021-09-09T22:15:10.562483Z",
     "iopub.status.idle": "2021-09-09T22:15:10.568636Z",
     "shell.execute_reply": "2021-09-09T22:15:10.569258Z"
    }
   },
   "outputs": [],
   "source": [
    "this_dir = pathlib.Path(os.path.abspath(\"\"))"
   ]
  },
  {
   "cell_type": "code",
   "execution_count": 4,
   "metadata": {
    "execution": {
     "iopub.execute_input": "2021-09-09T22:15:10.572034Z",
     "iopub.status.busy": "2021-09-09T22:15:10.571131Z",
     "iopub.status.idle": "2021-09-09T22:15:10.575617Z",
     "shell.execute_reply": "2021-09-09T22:15:10.576236Z"
    }
   },
   "outputs": [],
   "source": [
    "data_dir = this_dir / \"data\""
   ]
  },
  {
   "cell_type": "code",
   "execution_count": 5,
   "metadata": {
    "execution": {
     "iopub.execute_input": "2021-09-09T22:15:10.579003Z",
     "iopub.status.busy": "2021-09-09T22:15:10.578132Z",
     "iopub.status.idle": "2021-09-09T22:15:10.952970Z",
     "shell.execute_reply": "2021-09-09T22:15:10.953718Z"
    }
   },
   "outputs": [],
   "source": [
    "import pytz\n",
    "import glob\n",
    "import requests\n",
    "import pandas as pd\n",
    "from bs4 import BeautifulSoup\n",
    "import re\n",
    "import unicodedata\n",
    "from datetime import datetime"
   ]
  },
  {
   "cell_type": "markdown",
   "metadata": {},
   "source": [
    "## Download"
   ]
  },
  {
   "cell_type": "markdown",
   "metadata": {},
   "source": [
    "Retrieve the page"
   ]
  },
  {
   "cell_type": "code",
   "execution_count": 6,
   "metadata": {
    "execution": {
     "iopub.execute_input": "2021-09-09T22:15:10.956778Z",
     "iopub.status.busy": "2021-09-09T22:15:10.955896Z",
     "iopub.status.idle": "2021-09-09T22:15:10.960364Z",
     "shell.execute_reply": "2021-09-09T22:15:10.960974Z"
    }
   },
   "outputs": [],
   "source": [
    "url = \"https://www.mendocinocounty.org/community/novel-coronavirus/covid-19-case-data\""
   ]
  },
  {
   "cell_type": "code",
   "execution_count": 7,
   "metadata": {
    "execution": {
     "iopub.execute_input": "2021-09-09T22:15:10.963695Z",
     "iopub.status.busy": "2021-09-09T22:15:10.962815Z",
     "iopub.status.idle": "2021-09-09T22:15:11.340619Z",
     "shell.execute_reply": "2021-09-09T22:15:11.341344Z"
    }
   },
   "outputs": [],
   "source": [
    "page = requests.get(url)"
   ]
  },
  {
   "cell_type": "markdown",
   "metadata": {},
   "source": [
    "##  Parse"
   ]
  },
  {
   "cell_type": "code",
   "execution_count": 8,
   "metadata": {
    "execution": {
     "iopub.execute_input": "2021-09-09T22:15:11.344373Z",
     "iopub.status.busy": "2021-09-09T22:15:11.343459Z",
     "iopub.status.idle": "2021-09-09T22:15:11.389057Z",
     "shell.execute_reply": "2021-09-09T22:15:11.389735Z"
    }
   },
   "outputs": [],
   "source": [
    "soup = BeautifulSoup(page.content, \"html.parser\")"
   ]
  },
  {
   "cell_type": "markdown",
   "metadata": {},
   "source": [
    "Get content well"
   ]
  },
  {
   "cell_type": "code",
   "execution_count": 9,
   "metadata": {
    "execution": {
     "iopub.execute_input": "2021-09-09T22:15:11.392654Z",
     "iopub.status.busy": "2021-09-09T22:15:11.391772Z",
     "iopub.status.idle": "2021-09-09T22:15:11.398549Z",
     "shell.execute_reply": "2021-09-09T22:15:11.399175Z"
    }
   },
   "outputs": [],
   "source": [
    "content = soup.find(\"div\", {\"id\": \"widget_4_7164_4508\"})"
   ]
  },
  {
   "cell_type": "markdown",
   "metadata": {},
   "source": [
    "Get timestamp"
   ]
  },
  {
   "cell_type": "code",
   "execution_count": 10,
   "metadata": {
    "execution": {
     "iopub.execute_input": "2021-09-09T22:15:11.401949Z",
     "iopub.status.busy": "2021-09-09T22:15:11.401087Z",
     "iopub.status.idle": "2021-09-09T22:15:11.406560Z",
     "shell.execute_reply": "2021-09-09T22:15:11.407170Z"
    }
   },
   "outputs": [],
   "source": [
    "date_text = content.find(\"p\", text=re.compile(\"Last Updated\")).text"
   ]
  },
  {
   "cell_type": "code",
   "execution_count": 11,
   "metadata": {
    "execution": {
     "iopub.execute_input": "2021-09-09T22:15:11.409866Z",
     "iopub.status.busy": "2021-09-09T22:15:11.408996Z",
     "iopub.status.idle": "2021-09-09T22:15:11.413893Z",
     "shell.execute_reply": "2021-09-09T22:15:11.414498Z"
    }
   },
   "outputs": [],
   "source": [
    "date = re.sub(\"Last Updated:\", \"\", date_text)"
   ]
  },
  {
   "cell_type": "code",
   "execution_count": 12,
   "metadata": {
    "execution": {
     "iopub.execute_input": "2021-09-09T22:15:11.417159Z",
     "iopub.status.busy": "2021-09-09T22:15:11.416304Z",
     "iopub.status.idle": "2021-09-09T22:15:11.421107Z",
     "shell.execute_reply": "2021-09-09T22:15:11.421717Z"
    }
   },
   "outputs": [],
   "source": [
    "date = re.split(\"at\", date)"
   ]
  },
  {
   "cell_type": "code",
   "execution_count": 13,
   "metadata": {
    "execution": {
     "iopub.execute_input": "2021-09-09T22:15:11.424376Z",
     "iopub.status.busy": "2021-09-09T22:15:11.423516Z",
     "iopub.status.idle": "2021-09-09T22:15:11.428391Z",
     "shell.execute_reply": "2021-09-09T22:15:11.429000Z"
    }
   },
   "outputs": [],
   "source": [
    "date = re.split(\" - \", date[0])"
   ]
  },
  {
   "cell_type": "code",
   "execution_count": 14,
   "metadata": {
    "execution": {
     "iopub.execute_input": "2021-09-09T22:15:11.431685Z",
     "iopub.status.busy": "2021-09-09T22:15:11.430812Z",
     "iopub.status.idle": "2021-09-09T22:15:11.436889Z",
     "shell.execute_reply": "2021-09-09T22:15:11.437494Z"
    }
   },
   "outputs": [],
   "source": [
    "latest_date = pd.to_datetime(date[0]).date()"
   ]
  },
  {
   "cell_type": "markdown",
   "metadata": {},
   "source": [
    "Get table"
   ]
  },
  {
   "cell_type": "code",
   "execution_count": 15,
   "metadata": {
    "execution": {
     "iopub.execute_input": "2021-09-09T22:15:11.440177Z",
     "iopub.status.busy": "2021-09-09T22:15:11.439282Z",
     "iopub.status.idle": "2021-09-09T22:15:11.446349Z",
     "shell.execute_reply": "2021-09-09T22:15:11.446960Z"
    }
   },
   "outputs": [],
   "source": [
    "for tag in content.find_all(text=re.compile(\"Region\")):\n",
    "    table = tag.findParent(\"table\")"
   ]
  },
  {
   "cell_type": "code",
   "execution_count": 16,
   "metadata": {
    "execution": {
     "iopub.execute_input": "2021-09-09T22:15:11.449622Z",
     "iopub.status.busy": "2021-09-09T22:15:11.448765Z",
     "iopub.status.idle": "2021-09-09T22:15:11.452998Z",
     "shell.execute_reply": "2021-09-09T22:15:11.453609Z"
    }
   },
   "outputs": [],
   "source": [
    "tbody = table.tbody"
   ]
  },
  {
   "cell_type": "code",
   "execution_count": 17,
   "metadata": {
    "execution": {
     "iopub.execute_input": "2021-09-09T22:15:11.456275Z",
     "iopub.status.busy": "2021-09-09T22:15:11.455402Z",
     "iopub.status.idle": "2021-09-09T22:15:11.460277Z",
     "shell.execute_reply": "2021-09-09T22:15:11.460918Z"
    }
   },
   "outputs": [],
   "source": [
    "row_list = tbody.find_all(\"tr\")[1:]"
   ]
  },
  {
   "cell_type": "code",
   "execution_count": 18,
   "metadata": {
    "execution": {
     "iopub.execute_input": "2021-09-09T22:15:11.463594Z",
     "iopub.status.busy": "2021-09-09T22:15:11.462707Z",
     "iopub.status.idle": "2021-09-09T22:15:11.466873Z",
     "shell.execute_reply": "2021-09-09T22:15:11.467479Z"
    }
   },
   "outputs": [],
   "source": [
    "dict_list = []"
   ]
  },
  {
   "cell_type": "code",
   "execution_count": 19,
   "metadata": {
    "execution": {
     "iopub.execute_input": "2021-09-09T22:15:11.470127Z",
     "iopub.status.busy": "2021-09-09T22:15:11.469268Z",
     "iopub.status.idle": "2021-09-09T22:15:11.475613Z",
     "shell.execute_reply": "2021-09-09T22:15:11.476237Z"
    }
   },
   "outputs": [],
   "source": [
    "def safetxt(element):\n",
    "    v = element.text.strip()\n",
    "    v = v.replace(\"\\u200b\", \"\")\n",
    "    return v"
   ]
  },
  {
   "cell_type": "code",
   "execution_count": 20,
   "metadata": {
    "execution": {
     "iopub.execute_input": "2021-09-09T22:15:11.478868Z",
     "iopub.status.busy": "2021-09-09T22:15:11.478006Z",
     "iopub.status.idle": "2021-09-09T22:15:11.484864Z",
     "shell.execute_reply": "2021-09-09T22:15:11.485477Z"
    }
   },
   "outputs": [],
   "source": [
    "def safenumber(element):\n",
    "    v = safetxt(element)\n",
    "    v = v.replace(\",\", \"\")\n",
    "    v = v.replace(\" \", \"\")\n",
    "    return v"
   ]
  },
  {
   "cell_type": "code",
   "execution_count": 21,
   "metadata": {
    "execution": {
     "iopub.execute_input": "2021-09-09T22:15:11.488147Z",
     "iopub.status.busy": "2021-09-09T22:15:11.487266Z",
     "iopub.status.idle": "2021-09-09T22:15:11.496303Z",
     "shell.execute_reply": "2021-09-09T22:15:11.496916Z"
    }
   },
   "outputs": [],
   "source": [
    "for row in row_list:\n",
    "    cell_list = row.find_all(\"td\")\n",
    "    d = dict(\n",
    "        county=\"Mendocino\",\n",
    "        area=safetxt(cell_list[0]),\n",
    "        confirmed_cases=safenumber(cell_list[1]),\n",
    "    )\n",
    "    dict_list.append(d)"
   ]
  },
  {
   "cell_type": "code",
   "execution_count": 22,
   "metadata": {
    "execution": {
     "iopub.execute_input": "2021-09-09T22:15:11.499569Z",
     "iopub.status.busy": "2021-09-09T22:15:11.498694Z",
     "iopub.status.idle": "2021-09-09T22:15:11.503831Z",
     "shell.execute_reply": "2021-09-09T22:15:11.504449Z"
    }
   },
   "outputs": [],
   "source": [
    "df = pd.DataFrame(dict_list)"
   ]
  },
  {
   "cell_type": "code",
   "execution_count": 23,
   "metadata": {
    "execution": {
     "iopub.execute_input": "2021-09-09T22:15:11.507113Z",
     "iopub.status.busy": "2021-09-09T22:15:11.506252Z",
     "iopub.status.idle": "2021-09-09T22:15:11.511437Z",
     "shell.execute_reply": "2021-09-09T22:15:11.512086Z"
    }
   },
   "outputs": [],
   "source": [
    "df[\"county_date\"] = latest_date"
   ]
  },
  {
   "cell_type": "markdown",
   "metadata": {},
   "source": [
    "## Vet"
   ]
  },
  {
   "cell_type": "code",
   "execution_count": 24,
   "metadata": {
    "execution": {
     "iopub.execute_input": "2021-09-09T22:15:11.514774Z",
     "iopub.status.busy": "2021-09-09T22:15:11.513913Z",
     "iopub.status.idle": "2021-09-09T22:15:11.519605Z",
     "shell.execute_reply": "2021-09-09T22:15:11.520220Z"
    }
   },
   "outputs": [],
   "source": [
    "try:\n",
    "    assert not len(df) > 5\n",
    "except AssertionError:\n",
    "    raise AssertionError(\"Mendocino's area scraper has extra rows\")"
   ]
  },
  {
   "cell_type": "code",
   "execution_count": 25,
   "metadata": {
    "execution": {
     "iopub.execute_input": "2021-09-09T22:15:11.523132Z",
     "iopub.status.busy": "2021-09-09T22:15:11.522273Z",
     "iopub.status.idle": "2021-09-09T22:15:11.527773Z",
     "shell.execute_reply": "2021-09-09T22:15:11.528388Z"
    }
   },
   "outputs": [],
   "source": [
    "try:\n",
    "    assert not len(df) < 5\n",
    "except AssertionError:\n",
    "    raise AssertionError(\"Mendocino's area scraper is missing rows\")"
   ]
  },
  {
   "cell_type": "markdown",
   "metadata": {},
   "source": [
    "## Export"
   ]
  },
  {
   "cell_type": "markdown",
   "metadata": {},
   "source": [
    "Set date"
   ]
  },
  {
   "cell_type": "code",
   "execution_count": 26,
   "metadata": {
    "execution": {
     "iopub.execute_input": "2021-09-09T22:15:11.531050Z",
     "iopub.status.busy": "2021-09-09T22:15:11.530177Z",
     "iopub.status.idle": "2021-09-09T22:15:11.547812Z",
     "shell.execute_reply": "2021-09-09T22:15:11.548472Z"
    }
   },
   "outputs": [],
   "source": [
    "tz = pytz.timezone(\"America/Los_Angeles\")"
   ]
  },
  {
   "cell_type": "code",
   "execution_count": 27,
   "metadata": {
    "execution": {
     "iopub.execute_input": "2021-09-09T22:15:11.551318Z",
     "iopub.status.busy": "2021-09-09T22:15:11.550426Z",
     "iopub.status.idle": "2021-09-09T22:15:11.555219Z",
     "shell.execute_reply": "2021-09-09T22:15:11.555891Z"
    }
   },
   "outputs": [],
   "source": [
    "today = datetime.now(tz).date()"
   ]
  },
  {
   "cell_type": "code",
   "execution_count": 28,
   "metadata": {
    "execution": {
     "iopub.execute_input": "2021-09-09T22:15:11.558587Z",
     "iopub.status.busy": "2021-09-09T22:15:11.557730Z",
     "iopub.status.idle": "2021-09-09T22:15:11.562176Z",
     "shell.execute_reply": "2021-09-09T22:15:11.562783Z"
    }
   },
   "outputs": [],
   "source": [
    "slug = \"mendocino\""
   ]
  },
  {
   "cell_type": "code",
   "execution_count": 29,
   "metadata": {
    "execution": {
     "iopub.execute_input": "2021-09-09T22:15:11.565624Z",
     "iopub.status.busy": "2021-09-09T22:15:11.564763Z",
     "iopub.status.idle": "2021-09-09T22:15:11.571714Z",
     "shell.execute_reply": "2021-09-09T22:15:11.572343Z"
    }
   },
   "outputs": [],
   "source": [
    "df.to_csv(data_dir / slug / f\"{today}.csv\", index=False)"
   ]
  },
  {
   "cell_type": "markdown",
   "metadata": {},
   "source": [
    "## Combine"
   ]
  },
  {
   "cell_type": "code",
   "execution_count": 30,
   "metadata": {
    "execution": {
     "iopub.execute_input": "2021-09-09T22:15:11.575016Z",
     "iopub.status.busy": "2021-09-09T22:15:11.574151Z",
     "iopub.status.idle": "2021-09-09T22:15:11.582361Z",
     "shell.execute_reply": "2021-09-09T22:15:11.582983Z"
    }
   },
   "outputs": [],
   "source": [
    "csv_list = [\n",
    "    i\n",
    "    for i in glob.glob(str(data_dir / slug / \"*.csv\"))\n",
    "    if not str(i).endswith(\"timeseries.csv\")\n",
    "]"
   ]
  },
  {
   "cell_type": "code",
   "execution_count": 31,
   "metadata": {
    "execution": {
     "iopub.execute_input": "2021-09-09T22:15:11.585777Z",
     "iopub.status.busy": "2021-09-09T22:15:11.584814Z",
     "iopub.status.idle": "2021-09-09T22:15:12.073210Z",
     "shell.execute_reply": "2021-09-09T22:15:12.073949Z"
    }
   },
   "outputs": [],
   "source": [
    "df_list = []\n",
    "for csv in csv_list:\n",
    "    if \"manual\" in csv:\n",
    "        df = pd.read_csv(csv, parse_dates=[\"date\"])\n",
    "    else:\n",
    "        file_date = csv.split(\"/\")[-1].replace(\".csv\", \"\")\n",
    "        df = pd.read_csv(csv, parse_dates=[\"county_date\"])\n",
    "        df[\"date\"] = file_date\n",
    "    df_list.append(df)"
   ]
  },
  {
   "cell_type": "code",
   "execution_count": 32,
   "metadata": {
    "execution": {
     "iopub.execute_input": "2021-09-09T22:15:12.076960Z",
     "iopub.status.busy": "2021-09-09T22:15:12.076061Z",
     "iopub.status.idle": "2021-09-09T22:15:12.176332Z",
     "shell.execute_reply": "2021-09-09T22:15:12.177079Z"
    }
   },
   "outputs": [],
   "source": [
    "df = pd.concat(df_list).sort_values([\"date\", \"area\"])"
   ]
  },
  {
   "cell_type": "code",
   "execution_count": 33,
   "metadata": {
    "execution": {
     "iopub.execute_input": "2021-09-09T22:15:12.180091Z",
     "iopub.status.busy": "2021-09-09T22:15:12.179192Z",
     "iopub.status.idle": "2021-09-09T22:15:12.198320Z",
     "shell.execute_reply": "2021-09-09T22:15:12.198943Z"
    }
   },
   "outputs": [],
   "source": [
    "df.to_csv(data_dir / slug / \"timeseries.csv\", index=False)"
   ]
  },
  {
   "cell_type": "code",
   "execution_count": 34,
   "metadata": {
    "execution": {
     "iopub.execute_input": "2021-09-09T22:15:12.201798Z",
     "iopub.status.busy": "2021-09-09T22:15:12.200910Z",
     "iopub.status.idle": "2021-09-09T22:15:12.309792Z",
     "shell.execute_reply": "2021-09-09T22:15:12.308588Z"
    }
   },
   "outputs": [
    {
     "ename": "NameError",
     "evalue": "name 'env' is not defined",
     "output_type": "error",
     "traceback": [
      "\u001b[0;31m---------------------------------------------------------------------------\u001b[0m",
      "\u001b[0;31mNameError\u001b[0m                                 Traceback (most recent call last)",
      "\u001b[0;32m/tmp/ipykernel_3099/2951808261.py\u001b[0m in \u001b[0;36m<module>\u001b[0;34m\u001b[0m\n\u001b[0;32m----> 1\u001b[0;31m \u001b[0mnow\u001b[0m \u001b[0;34m=\u001b[0m \u001b[0menv\u001b[0m\u001b[0;34m.\u001b[0m\u001b[0mget_today\u001b[0m\u001b[0;34m(\u001b[0m\u001b[0;34m)\u001b[0m\u001b[0;34m\u001b[0m\u001b[0;34m\u001b[0m\u001b[0m\n\u001b[0m",
      "\u001b[0;31mNameError\u001b[0m: name 'env' is not defined"
     ]
    }
   ],
   "source": [
    "now = env.get_today()"
   ]
  },
  {
   "cell_type": "code",
   "execution_count": null,
   "metadata": {},
   "outputs": [],
   "source": [
    "writer.to_csv(df, f\"places-scrapers/mendocino/{now}.csv\")"
   ]
  },
  {
   "cell_type": "code",
   "execution_count": null,
   "metadata": {},
   "outputs": [],
   "source": []
  }
 ],
 "metadata": {
  "kernelspec": {
   "display_name": "Python 3 (ipykernel)",
   "language": "python",
   "name": "python3"
  },
  "language_info": {
   "codemirror_mode": {
    "name": "ipython",
    "version": 3
   },
   "file_extension": ".py",
   "mimetype": "text/x-python",
   "name": "python",
   "nbconvert_exporter": "python",
   "pygments_lexer": "ipython3",
   "version": "3.8.11"
  }
 },
 "nbformat": 4,
 "nbformat_minor": 4
}
