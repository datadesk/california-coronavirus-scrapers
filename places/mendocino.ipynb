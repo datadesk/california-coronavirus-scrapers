{
 "cells": [
  {
   "cell_type": "markdown",
   "metadata": {},
   "source": [
    "## Configuration\n",
    "_Initial steps to get the notebook ready to play nice with our repository. Do not delete this section._"
   ]
  },
  {
   "cell_type": "markdown",
   "metadata": {},
   "source": [
    "Code formatting with [black](https://pypi.org/project/nb-black/)."
   ]
  },
  {
   "cell_type": "code",
   "execution_count": 1,
   "metadata": {
    "execution": {
     "iopub.execute_input": "2022-04-18T08:20:32.628826Z",
     "iopub.status.busy": "2022-04-18T08:20:32.628221Z",
     "iopub.status.idle": "2022-04-18T08:20:32.772952Z",
     "shell.execute_reply": "2022-04-18T08:20:32.772330Z"
    }
   },
   "outputs": [],
   "source": [
    "%load_ext lab_black"
   ]
  },
  {
   "cell_type": "code",
   "execution_count": 2,
   "metadata": {
    "execution": {
     "iopub.execute_input": "2022-04-18T08:20:32.778131Z",
     "iopub.status.busy": "2022-04-18T08:20:32.777522Z",
     "iopub.status.idle": "2022-04-18T08:20:32.781239Z",
     "shell.execute_reply": "2022-04-18T08:20:32.780745Z"
    }
   },
   "outputs": [],
   "source": [
    "import os\n",
    "import pathlib"
   ]
  },
  {
   "cell_type": "code",
   "execution_count": 3,
   "metadata": {
    "execution": {
     "iopub.execute_input": "2022-04-18T08:20:32.790041Z",
     "iopub.status.busy": "2022-04-18T08:20:32.788092Z",
     "iopub.status.idle": "2022-04-18T08:20:32.790703Z",
     "shell.execute_reply": "2022-04-18T08:20:32.791199Z"
    }
   },
   "outputs": [],
   "source": [
    "this_dir = pathlib.Path(os.path.abspath(\"\"))"
   ]
  },
  {
   "cell_type": "code",
   "execution_count": 4,
   "metadata": {
    "execution": {
     "iopub.execute_input": "2022-04-18T08:20:32.795974Z",
     "iopub.status.busy": "2022-04-18T08:20:32.795300Z",
     "iopub.status.idle": "2022-04-18T08:20:32.799032Z",
     "shell.execute_reply": "2022-04-18T08:20:32.798547Z"
    }
   },
   "outputs": [],
   "source": [
    "data_dir = this_dir / \"data\""
   ]
  },
  {
   "cell_type": "code",
   "execution_count": 5,
   "metadata": {
    "execution": {
     "iopub.execute_input": "2022-04-18T08:20:32.803747Z",
     "iopub.status.busy": "2022-04-18T08:20:32.803126Z",
     "iopub.status.idle": "2022-04-18T08:20:33.289239Z",
     "shell.execute_reply": "2022-04-18T08:20:33.288712Z"
    }
   },
   "outputs": [],
   "source": [
    "import pytz\n",
    "import glob\n",
    "import requests\n",
    "import pandas as pd\n",
    "from bs4 import BeautifulSoup\n",
    "import re\n",
    "import unicodedata\n",
    "from datetime import datetime"
   ]
  },
  {
   "cell_type": "markdown",
   "metadata": {},
   "source": [
    "## Download"
   ]
  },
  {
   "cell_type": "markdown",
   "metadata": {},
   "source": [
    "Retrieve the page"
   ]
  },
  {
   "cell_type": "code",
   "execution_count": 6,
   "metadata": {
    "execution": {
     "iopub.execute_input": "2022-04-18T08:20:33.294178Z",
     "iopub.status.busy": "2022-04-18T08:20:33.293496Z",
     "iopub.status.idle": "2022-04-18T08:20:33.297538Z",
     "shell.execute_reply": "2022-04-18T08:20:33.298029Z"
    }
   },
   "outputs": [],
   "source": [
    "url = \"https://www.mendocinocounty.org/community/novel-coronavirus/covid-19-case-data\""
   ]
  },
  {
   "cell_type": "code",
   "execution_count": 7,
   "metadata": {
    "execution": {
     "iopub.execute_input": "2022-04-18T08:20:33.302508Z",
     "iopub.status.busy": "2022-04-18T08:20:33.301726Z",
     "iopub.status.idle": "2022-04-18T08:20:33.305527Z",
     "shell.execute_reply": "2022-04-18T08:20:33.304937Z"
    }
   },
   "outputs": [],
   "source": [
    "url = \"https://www.mendocinocounty.org/community/novel-coronavirus/covid-19-case-data/covid-dashboard-draft/cases-and-deaths-demographics\""
   ]
  },
  {
   "cell_type": "code",
   "execution_count": 8,
   "metadata": {
    "execution": {
     "iopub.execute_input": "2022-04-18T08:20:33.310071Z",
     "iopub.status.busy": "2022-04-18T08:20:33.309451Z",
     "iopub.status.idle": "2022-04-18T08:20:33.475856Z",
     "shell.execute_reply": "2022-04-18T08:20:33.474840Z"
    }
   },
   "outputs": [],
   "source": [
    "page = requests.get(url)"
   ]
  },
  {
   "cell_type": "markdown",
   "metadata": {},
   "source": [
    "##  Parse"
   ]
  },
  {
   "cell_type": "code",
   "execution_count": 9,
   "metadata": {
    "execution": {
     "iopub.execute_input": "2022-04-18T08:20:33.488858Z",
     "iopub.status.busy": "2022-04-18T08:20:33.483382Z",
     "iopub.status.idle": "2022-04-18T08:20:33.530736Z",
     "shell.execute_reply": "2022-04-18T08:20:33.531308Z"
    }
   },
   "outputs": [],
   "source": [
    "soup = BeautifulSoup(page.content, \"html.parser\")"
   ]
  },
  {
   "cell_type": "markdown",
   "metadata": {},
   "source": [
    "Get content well"
   ]
  },
  {
   "cell_type": "code",
   "execution_count": 10,
   "metadata": {
    "execution": {
     "iopub.execute_input": "2022-04-18T08:20:33.538445Z",
     "iopub.status.busy": "2022-04-18T08:20:33.537823Z",
     "iopub.status.idle": "2022-04-18T08:20:33.542190Z",
     "shell.execute_reply": "2022-04-18T08:20:33.542682Z"
    }
   },
   "outputs": [],
   "source": [
    "content = soup.find(\"div\", {\"id\": \"widget_4_7164_4508\"})"
   ]
  },
  {
   "cell_type": "code",
   "execution_count": 11,
   "metadata": {
    "execution": {
     "iopub.execute_input": "2022-04-18T08:20:33.547856Z",
     "iopub.status.busy": "2022-04-18T08:20:33.547223Z",
     "iopub.status.idle": "2022-04-18T08:20:33.552616Z",
     "shell.execute_reply": "2022-04-18T08:20:33.552126Z"
    }
   },
   "outputs": [],
   "source": [
    "content = soup.find_all(\"iframe\")"
   ]
  },
  {
   "cell_type": "code",
   "execution_count": 12,
   "metadata": {
    "execution": {
     "iopub.execute_input": "2022-04-18T08:20:33.559131Z",
     "iopub.status.busy": "2022-04-18T08:20:33.556903Z",
     "iopub.status.idle": "2022-04-18T08:20:33.562526Z",
     "shell.execute_reply": "2022-04-18T08:20:33.561992Z"
    }
   },
   "outputs": [],
   "source": [
    "source = content[1][\"src\"]"
   ]
  },
  {
   "cell_type": "code",
   "execution_count": 13,
   "metadata": {
    "execution": {
     "iopub.execute_input": "2022-04-18T08:20:33.570217Z",
     "iopub.status.busy": "2022-04-18T08:20:33.569577Z",
     "iopub.status.idle": "2022-04-18T08:20:33.792648Z",
     "shell.execute_reply": "2022-04-18T08:20:33.792116Z"
    }
   },
   "outputs": [],
   "source": [
    "newPage = requests.get(source)"
   ]
  },
  {
   "cell_type": "code",
   "execution_count": 14,
   "metadata": {
    "execution": {
     "iopub.execute_input": "2022-04-18T08:20:33.798328Z",
     "iopub.status.busy": "2022-04-18T08:20:33.797704Z",
     "iopub.status.idle": "2022-04-18T08:20:33.802643Z",
     "shell.execute_reply": "2022-04-18T08:20:33.802167Z"
    }
   },
   "outputs": [],
   "source": [
    "newSoup = BeautifulSoup(newPage.content, \"html.parser\")"
   ]
  },
  {
   "cell_type": "code",
   "execution_count": 15,
   "metadata": {
    "execution": {
     "iopub.execute_input": "2022-04-18T08:20:33.807281Z",
     "iopub.status.busy": "2022-04-18T08:20:33.806700Z",
     "iopub.status.idle": "2022-04-18T08:20:33.811639Z",
     "shell.execute_reply": "2022-04-18T08:20:33.811137Z"
    }
   },
   "outputs": [],
   "source": [
    "src = newSoup.find(\"meta\")[\"content\"].split(\"=\")[1]"
   ]
  },
  {
   "cell_type": "code",
   "execution_count": 16,
   "metadata": {
    "execution": {
     "iopub.execute_input": "2022-04-18T08:20:33.819312Z",
     "iopub.status.busy": "2022-04-18T08:20:33.818701Z",
     "iopub.status.idle": "2022-04-18T08:20:34.038545Z",
     "shell.execute_reply": "2022-04-18T08:20:34.037952Z"
    }
   },
   "outputs": [],
   "source": [
    "page2 = requests.get(src)"
   ]
  },
  {
   "cell_type": "code",
   "execution_count": 17,
   "metadata": {
    "execution": {
     "iopub.execute_input": "2022-04-18T08:20:34.048301Z",
     "iopub.status.busy": "2022-04-18T08:20:34.046831Z",
     "iopub.status.idle": "2022-04-18T08:20:34.052578Z",
     "shell.execute_reply": "2022-04-18T08:20:34.053484Z"
    }
   },
   "outputs": [],
   "source": [
    "soup2 = BeautifulSoup(page2.content, \"html.parser\")"
   ]
  },
  {
   "cell_type": "code",
   "execution_count": 18,
   "metadata": {
    "execution": {
     "iopub.execute_input": "2022-04-18T08:20:34.064583Z",
     "iopub.status.busy": "2022-04-18T08:20:34.061336Z",
     "iopub.status.idle": "2022-04-18T08:20:34.075552Z",
     "shell.execute_reply": "2022-04-18T08:20:34.074691Z"
    }
   },
   "outputs": [
    {
     "data": {
      "text/plain": [
       "'https://datawrapper.dwcdn.net/zj83H/9/'"
      ]
     },
     "execution_count": 18,
     "metadata": {},
     "output_type": "execute_result"
    }
   ],
   "source": [
    "src"
   ]
  },
  {
   "cell_type": "markdown",
   "metadata": {},
   "source": [
    "Get timestamp"
   ]
  },
  {
   "cell_type": "code",
   "execution_count": 19,
   "metadata": {
    "execution": {
     "iopub.execute_input": "2022-04-18T08:20:34.088602Z",
     "iopub.status.busy": "2022-04-18T08:20:34.086686Z",
     "iopub.status.idle": "2022-04-18T08:20:34.089179Z",
     "shell.execute_reply": "2022-04-18T08:20:34.087856Z"
    }
   },
   "outputs": [],
   "source": [
    "date_text = soup2.find(\"div\", {\"class\": \"dw-above-footer\"}).text"
   ]
  },
  {
   "cell_type": "code",
   "execution_count": 20,
   "metadata": {
    "execution": {
     "iopub.execute_input": "2022-04-18T08:20:34.094368Z",
     "iopub.status.busy": "2022-04-18T08:20:34.091769Z",
     "iopub.status.idle": "2022-04-18T08:20:34.101752Z",
     "shell.execute_reply": "2022-04-18T08:20:34.100895Z"
    }
   },
   "outputs": [
    {
     "data": {
      "text/plain": [
       "'\\nData as of 3/30/22 /Datos al 30/03/22. \\nUkiah area / Área de Ukiah: zip codes 95418, 95449, 95469, 95470, 95481, 95482.\\nNorth County / Condado Norte: zip codes 95417, 95428, 95429, 95454, 95490, 95585, 95587. \\nNorth Coast / Costa Norte: zip codes 95420, 95437, 95488. South County / Condado Sur: zip codes 95414, 95463, 95466, 95494. South Coast / Costa Sur: 95410, 95427, 95432, 95445, 95456, 95459, 95460, 95468. \\n'"
      ]
     },
     "execution_count": 20,
     "metadata": {},
     "output_type": "execute_result"
    }
   ],
   "source": [
    "date_text"
   ]
  },
  {
   "cell_type": "code",
   "execution_count": 21,
   "metadata": {
    "execution": {
     "iopub.execute_input": "2022-04-18T08:20:34.106530Z",
     "iopub.status.busy": "2022-04-18T08:20:34.105893Z",
     "iopub.status.idle": "2022-04-18T08:20:34.109986Z",
     "shell.execute_reply": "2022-04-18T08:20:34.110499Z"
    }
   },
   "outputs": [],
   "source": [
    "assert \"Data as of\" in date_text"
   ]
  },
  {
   "cell_type": "code",
   "execution_count": 22,
   "metadata": {
    "execution": {
     "iopub.execute_input": "2022-04-18T08:20:34.115571Z",
     "iopub.status.busy": "2022-04-18T08:20:34.114511Z",
     "iopub.status.idle": "2022-04-18T08:20:34.122500Z",
     "shell.execute_reply": "2022-04-18T08:20:34.121949Z"
    }
   },
   "outputs": [],
   "source": [
    "date = date_text.split(\"/Datos\")[0].replace(\"\\nData as of \", \"\")"
   ]
  },
  {
   "cell_type": "code",
   "execution_count": 23,
   "metadata": {
    "execution": {
     "iopub.execute_input": "2022-04-18T08:20:34.127371Z",
     "iopub.status.busy": "2022-04-18T08:20:34.126751Z",
     "iopub.status.idle": "2022-04-18T08:20:34.134249Z",
     "shell.execute_reply": "2022-04-18T08:20:34.134774Z"
    }
   },
   "outputs": [
    {
     "data": {
      "text/plain": [
       "'3/30/22 '"
      ]
     },
     "execution_count": 23,
     "metadata": {},
     "output_type": "execute_result"
    }
   ],
   "source": [
    "date"
   ]
  },
  {
   "cell_type": "code",
   "execution_count": 24,
   "metadata": {
    "execution": {
     "iopub.execute_input": "2022-04-18T08:20:34.141169Z",
     "iopub.status.busy": "2022-04-18T08:20:34.140132Z",
     "iopub.status.idle": "2022-04-18T08:20:34.146403Z",
     "shell.execute_reply": "2022-04-18T08:20:34.145884Z"
    }
   },
   "outputs": [],
   "source": [
    "latest_date = pd.to_datetime(date).date()"
   ]
  },
  {
   "cell_type": "markdown",
   "metadata": {},
   "source": [
    "Get table"
   ]
  },
  {
   "cell_type": "code",
   "execution_count": 25,
   "metadata": {
    "execution": {
     "iopub.execute_input": "2022-04-18T08:20:34.151465Z",
     "iopub.status.busy": "2022-04-18T08:20:34.148638Z",
     "iopub.status.idle": "2022-04-18T08:20:34.155070Z",
     "shell.execute_reply": "2022-04-18T08:20:34.154562Z"
    }
   },
   "outputs": [],
   "source": [
    "table = soup2.find(\"table\")"
   ]
  },
  {
   "cell_type": "code",
   "execution_count": 26,
   "metadata": {
    "execution": {
     "iopub.execute_input": "2022-04-18T08:20:34.163298Z",
     "iopub.status.busy": "2022-04-18T08:20:34.162695Z",
     "iopub.status.idle": "2022-04-18T08:20:34.173442Z",
     "shell.execute_reply": "2022-04-18T08:20:34.172897Z"
    }
   },
   "outputs": [
    {
     "data": {
      "text/plain": [
       "<!DOCTYPE html>\n",
       "<html lang=\"en\"><head><meta charset=\"utf-8\"/><meta content=\"noindex, indexifembedded, nofollow\" name=\"robots\"/><meta content=\"width=device-width, initial-scale=1.0\" name=\"viewport\"/><meta content=\"light dark\" name=\"color-scheme\"/><link href=\"../../lib/vis/tables.datawrapper-data.7ae92e8b.css\" id=\"css-light\" media=\"(prefers-color-scheme: light)\" rel=\"stylesheet\"/><link href=\"../../lib/vis/tables.datawrapper-data-dark.81e259da.css\" id=\"css-dark\" media=\"(prefers-color-scheme: dark)\" rel=\"stylesheet\"/><style id=\"hide-all\">* { opacity: 0 }</style>\n",
       "<link href=\"https://api.datawrapper.de/v3/oembed?url=https://datawrapper.dwcdn.net/zj83H/9/&amp;format=json\" rel=\"alternate\" title=\"oEmbed\" type=\"application/json+oembed\">\n",
       "<meta content=\"https://datawrapper.dwcdn.net/zj83H/plain-s.png?v=9\" property=\"og:image\"/>\n",
       "</link></head><body><div class=\"dw-chart chart vis-height-fixed theme-datawrapper-data vis-tables\" id=\"__svelte-dw\"><div class=\"dw-chart-header\" id=\"header\"><h1 class=\"block headline-block\">\n",
       "<span class=\"block-inner\">Confirmed COVID-19 cases, by place of residence, Mendocino County / Casos confirmados de COVID-19, por lugar de residencia, Condado de Mendocino</span>\n",
       "</h1></div>\n",
       "<div aria-hidden=\"false\" class=\"dw-chart-body content-below-chart\" id=\"chart\"></div>\n",
       "<div class=\"dw-above-footer\"><div class=\"block notes-block\" style=\"\">\n",
       "<span class=\"block-inner\">Data as of 3/30/22 /Datos al 30/03/22. \n",
       "Ukiah area / Área de Ukiah: zip codes 95418, 95449, 95469, 95470, 95481, 95482.\n",
       "North County / Condado Norte: zip codes 95417, 95428, 95429, 95454, 95490, 95585, 95587. \n",
       "North Coast / Costa Norte: zip codes 95420, 95437, 95488. South County / Condado Sur: zip codes 95414, 95463, 95466, 95494. South Coast / Costa Sur: 95410, 95427, 95432, 95445, 95456, 95459, 95460, 95468. </span>\n",
       "</div></div>\n",
       "<div class=\"dw-chart-footer\" id=\"footer\"><div class=\"footer-left\">\n",
       "<span class=\"footer-block source-block\">\n",
       "<span class=\"block-inner\"><span class=\"source-caption\">Source:</span>\n",
       "<span class=\"source\">CalREDIE</span></span>\n",
       "</span><span class=\"separator separator-before-get-the-data\"></span>\n",
       "<span class=\"footer-block get-the-data-block\">\n",
       "<span class=\"block-inner\"><a aria-label=\"Get the data: Confirmed COVID-19 cases, by place of residence, Mendocino County / Casos confirmados de COVID-19, por lugar de residencia, Condado de Mendocino\" class=\"dw-data-link\" href=\"javascript:void(0)\" target=\"_self\">Get the data</a></span>\n",
       "</span><span class=\"separator separator-before-embed\"></span>\n",
       "<span class=\"footer-block embed-block\">\n",
       "<span class=\"block-inner\"><a class=\"chart-action-embed\" href=\"#embed\">Embed</a>\n",
       "</span>\n",
       "</span>\n",
       "</div><div class=\"footer-center\">\n",
       "</div><div class=\"footer-right\">\n",
       "</div></div>\n",
       "<div class=\"dw-after-body\"></div>\n",
       "<script type=\"text/javascript\">\n",
       "    setTimeout(function() {\n",
       "        var img = document.createElement('img');\n",
       "        img.setAttribute('width', 1);\n",
       "        img.setAttribute('alt','');\n",
       "        img.setAttribute('aria-hidden','true');\n",
       "        img.setAttribute('height', 1);\n",
       "        img.style.position = \"absolute\";\n",
       "        img.style.top = \"0px\";\n",
       "        img.setAttribute('src', '//stats.datawrapper.de/zj83H/datawrapper.gif?r='+escape(document.referrer || ''));\n",
       "        document.body.appendChild(img);\n",
       "    },10);\n",
       "</script>\n",
       "</div><script>(function() {\n",
       "  var autoDark = !/[?&]dark=(1|true|0|false)/.test(window.location.search) && false;\n",
       "  var isDark = /[?&]dark=(1|true)/.test(window.location.search)\n",
       "    || (!/[?&]dark=(0|false)/.test(window.location.search)\n",
       "      && false && window.matchMedia && window.matchMedia('(prefers-color-scheme: dark)').matches);\n",
       "  if (isDark) document.getElementById('__svelte-dw').className += ' is-dark-mode';\n",
       "  function removeHideStyles() {\n",
       "    var st = document.getElementById('hide-all');\n",
       "    st.parentNode.removeChild(st);\n",
       "  }\n",
       "  if (autoDark) {\n",
       "    removeHideStyles();\n",
       "  } else {\n",
       "    if (isDark) {\n",
       "      document.getElementById('css-light').setAttribute('media', '--disabled--');\n",
       "      document.getElementById('css-dark').removeAttribute('media');\n",
       "      document.head.querySelector('meta[name=\"color-scheme\"]').content = 'dark';\n",
       "    } else {\n",
       "      document.getElementById('css-dark').setAttribute('media', '--disabled--');\n",
       "      document.getElementById('css-light').removeAttribute('media');\n",
       "      document.head.querySelector('meta[name=\"color-scheme\"]').content = 'light';\n",
       "    }\n",
       "    removeHideStyles();\n",
       "  }\n",
       "  window.__DW_SVELTE_PROPS__ = JSON.parse(\"{\\\"chart\\\":{\\\"publicId\\\":\\\"zj83H\\\",\\\"language\\\":\\\"en-US\\\",\\\"theme\\\":\\\"datawrapper-data\\\",\\\"id\\\":\\\"zj83H\\\",\\\"type\\\":\\\"tables\\\",\\\"title\\\":\\\"Confirmed COVID-19 cases, by place of residence, Mendocino County / Casos confirmados de COVID-19, por lugar de residencia, Condado de Mendocino\\\",\\\"lastEditStep\\\":5,\\\"publishedAt\\\":\\\"2022-03-24T14:39:04.000Z\\\",\\\"publicUrl\\\":\\\"https://datawrapper.dwcdn.net/zj83H/8/\\\",\\\"publicVersion\\\":8,\\\"forkable\\\":false,\\\"isFork\\\":false,\\\"metadata\\\":{\\\"data\\\":{\\\"transpose\\\":false,\\\"vertical-header\\\":true,\\\"horizontal-header\\\":true,\\\"upload-method\\\":\\\"google-spreadsheet\\\",\\\"google-spreadsheet\\\":\\\"https://docs.google.com/spreadsheets/d/1kWdbcznnldU4jRbQM3fMP6VEEDkDxN-qHaDlePbK4ec/edit#gid=0\\\",\\\"google-spreadsheet-src\\\":\\\"https://docs.google.com/spreadsheets/d/1kWdbcznnldU4jRbQM3fMP6VEEDkDxN-qHaDlePbK4ec/export?format=csv&id=1kWdbcznnldU4jRbQM3fMP6VEEDkDxN-qHaDlePbK4ec&gid=0\\\"},\\\"describe\\\":{\\\"source-name\\\":\\\"CalREDIE\\\",\\\"source-url\\\":\\\"\\\",\\\"intro\\\":\\\"\\\",\\\"byline\\\":\\\"\\\",\\\"aria-description\\\":\\\"\\\",\\\"number-format\\\":\\\"-\\\",\\\"number-divisor\\\":0,\\\"number-append\\\":\\\"\\\",\\\"number-prepend\\\":\\\"\\\"},\\\"visualize\\\":{\\\"highlighted-series\\\":[],\\\"highlighted-values\\\":[],\\\"rows\\\":{\\\"row--1\\\":{\\\"style\\\":{\\\"bold\\\":false,\\\"color\\\":false,\\\"italic\\\":false,\\\"fontSize\\\":1,\\\"underline\\\":false,\\\"background\\\":false},\\\"format\\\":\\\"0,0.[00]\\\",\\\"moveTo\\\":\\\"top\\\",\\\"sticky\\\":false,\\\"moveRow\\\":false,\\\"stickTo\\\":\\\"top\\\",\\\"borderTop\\\":\\\"none\\\",\\\"borderBottom\\\":\\\"none\\\",\\\"borderTopColor\\\":\\\"#333333\\\",\\\"overrideFormat\\\":false,\\\"borderBottomColor\\\":\\\"#333333\\\"}},\\\"rules\\\":false,\\\"thick\\\":false,\\\"header\\\":{\\\"style\\\":{\\\"bold\\\":true,\\\"color\\\":false,\\\"italic\\\":false,\\\"fontSize\\\":1.1,\\\"background\\\":false},\\\"borderTop\\\":\\\"none\\\",\\\"borderBottom\\\":\\\"2px\\\",\\\"borderTopColor\\\":\\\"#333333\\\",\\\"borderBottomColor\\\":\\\"#333333\\\"},\\\"legend\\\":{\\\"size\\\":170,\\\"title\\\":\\\"\\\",\\\"labels\\\":\\\"ranges\\\",\\\"enabled\\\":false,\\\"reverse\\\":false,\\\"labelMax\\\":\\\"high\\\",\\\"labelMin\\\":\\\"low\\\",\\\"position\\\":\\\"mt\\\",\\\"interactive\\\":false,\\\"labelCenter\\\":\\\"medium\\\",\\\"customLabels\\\":[]},\\\"sortBy\\\":\\\"# of cases\\\",\\\"x-grid\\\":\\\"off\\\",\\\"y-grid\\\":\\\"on\\\",\\\"columns\\\":{\\\"Number\\\":{\\\"style\\\":{\\\"bold\\\":false,\\\"color\\\":false,\\\"italic\\\":false,\\\"fontSize\\\":1,\\\"underline\\\":false,\\\"background\\\":false},\\\"width\\\":0.2,\\\"append\\\":\\\"\\\",\\\"format\\\":\\\"0,0\\\",\\\"heatmap\\\":{\\\"enabled\\\":false},\\\"prepend\\\":\\\"\\\",\\\"barColor\\\":0,\\\"barStyle\\\":\\\"normal\\\",\\\"minWidth\\\":30,\\\"sortable\\\":true,\\\"alignment\\\":\\\"auto\\\",\\\"flagStyle\\\":\\\"1x1\\\",\\\"showAsBar\\\":false,\\\"sparkline\\\":{\\\"area\\\":false,\\\"type\\\":\\\"line\\\",\\\"color\\\":0,\\\"title\\\":\\\"\\\",\\\"dotMax\\\":false,\\\"dotMin\\\":false,\\\"format\\\":\\\"0.[0]a\\\",\\\"height\\\":20,\\\"stroke\\\":2,\\\"dotLast\\\":true,\\\"enabled\\\":false,\\\"baseline\\\":false,\\\"colorNeg\\\":0,\\\"dotFirst\\\":true,\\\"rangeMax\\\":\\\"\\\",\\\"rangeMin\\\":\\\"\\\",\\\"labelDiff\\\":false,\\\"baselineAt\\\":0},\\\"borderLeft\\\":\\\"none\\\",\\\"fixedWidth\\\":false,\\\"barRangeMax\\\":\\\"\\\",\\\"barRangeMin\\\":\\\"\\\",\\\"borderRight\\\":\\\"none\\\",\\\"compactMode\\\":false,\\\"customColor\\\":false,\\\"replaceFlags\\\":false,\\\"showOnMobile\\\":true,\\\"customColorBy\\\":0,\\\"showOnDesktop\\\":true,\\\"customBarColor\\\":false,\\\"barNoBackground\\\":false,\\\"borderLeftColor\\\":\\\"#333333\\\",\\\"customColorText\\\":{\\\"__object\\\":true},\\\"barColorNegative\\\":false,\\\"customBarColorBy\\\":0,\\\"customColorBackground\\\":{\\\"__object\\\":true},\\\"customColorBarBackground\\\":{\\\"__object\\\":true}},\\\"Percent\\\":{\\\"style\\\":{\\\"bold\\\":false,\\\"color\\\":false,\\\"italic\\\":false,\\\"fontSize\\\":1,\\\"underline\\\":false,\\\"background\\\":false},\\\"width\\\":0.2,\\\"append\\\":\\\"\\\",\\\"format\\\":\\\"0%\\\",\\\"heatmap\\\":{\\\"enabled\\\":false},\\\"prepend\\\":\\\"\\\",\\\"barColor\\\":0,\\\"barStyle\\\":\\\"normal\\\",\\\"minWidth\\\":30,\\\"sortable\\\":true,\\\"alignment\\\":\\\"auto\\\",\\\"flagStyle\\\":\\\"1x1\\\",\\\"showAsBar\\\":true,\\\"sparkline\\\":{\\\"area\\\":false,\\\"type\\\":\\\"line\\\",\\\"color\\\":0,\\\"title\\\":\\\"\\\",\\\"dotMax\\\":false,\\\"dotMin\\\":false,\\\"format\\\":\\\"0.[0]a\\\",\\\"height\\\":20,\\\"stroke\\\":2,\\\"dotLast\\\":true,\\\"enabled\\\":false,\\\"baseline\\\":false,\\\"colorNeg\\\":0,\\\"dotFirst\\\":true,\\\"rangeMax\\\":\\\"\\\",\\\"rangeMin\\\":\\\"\\\",\\\"labelDiff\\\":false,\\\"baselineAt\\\":0},\\\"borderLeft\\\":\\\"none\\\",\\\"fixedWidth\\\":false,\\\"barRangeMax\\\":\\\"100\\\",\\\"barRangeMin\\\":\\\"0\\\",\\\"borderRight\\\":\\\"none\\\",\\\"compactMode\\\":false,\\\"customColor\\\":false,\\\"replaceFlags\\\":false,\\\"showOnMobile\\\":true,\\\"customColorBy\\\":0,\\\"showOnDesktop\\\":true,\\\"customBarColor\\\":false,\\\"barNoBackground\\\":false,\\\"borderLeftColor\\\":\\\"#333333\\\",\\\"customColorText\\\":{\\\"__object\\\":true},\\\"barColorNegative\\\":false,\\\"customBarColorBy\\\":0,\\\"customColorBackground\\\":{\\\"__object\\\":true},\\\"customColorBarBackground\\\":{\\\"__object\\\":true}},\\\"# of cases\\\":{\\\"style\\\":{\\\"bold\\\":false,\\\"color\\\":false,\\\"italic\\\":false,\\\"fontSize\\\":1,\\\"underline\\\":false,\\\"background\\\":false},\\\"width\\\":0.2,\\\"append\\\":\\\"\\\",\\\"format\\\":\\\"0,0\\\",\\\"heatmap\\\":{\\\"enabled\\\":false},\\\"prepend\\\":\\\"\\\",\\\"barColor\\\":0,\\\"barStyle\\\":\\\"normal\\\",\\\"minWidth\\\":30,\\\"sortable\\\":true,\\\"alignment\\\":\\\"auto\\\",\\\"flagStyle\\\":\\\"1x1\\\",\\\"showAsBar\\\":false,\\\"sparkline\\\":{\\\"area\\\":false,\\\"type\\\":\\\"line\\\",\\\"color\\\":0,\\\"title\\\":\\\"\\\",\\\"format\\\":\\\"0.[0]a\\\",\\\"height\\\":20,\\\"stroke\\\":2,\\\"dotLast\\\":true,\\\"enabled\\\":false,\\\"colorNeg\\\":0,\\\"dotFirst\\\":true,\\\"rangeMax\\\":\\\"\\\",\\\"rangeMin\\\":\\\"\\\",\\\"labelDiff\\\":false},\\\"borderLeft\\\":\\\"none\\\",\\\"fixedWidth\\\":true,\\\"barRangeMax\\\":\\\"\\\",\\\"barRangeMin\\\":\\\"\\\",\\\"borderRight\\\":\\\"none\\\",\\\"compactMode\\\":false,\\\"customColor\\\":false,\\\"replaceFlags\\\":false,\\\"showOnMobile\\\":true,\\\"customColorBy\\\":0,\\\"showOnDesktop\\\":true,\\\"customBarColor\\\":false,\\\"barNoBackground\\\":false,\\\"borderLeftColor\\\":\\\"#333333\\\",\\\"customColorText\\\":{\\\"__object\\\":true},\\\"barColorNegative\\\":false,\\\"customBarColorBy\\\":0,\\\"customColorBackground\\\":{\\\"__object\\\":true},\\\"customColorBarBackground\\\":{\\\"__object\\\":true}},\\\"% of cases\\\":{\\\"style\\\":{\\\"bold\\\":false,\\\"color\\\":false,\\\"italic\\\":false,\\\"fontSize\\\":1,\\\"underline\\\":false,\\\"background\\\":false},\\\"width\\\":0.2,\\\"append\\\":\\\"\\\",\\\"format\\\":\\\"0%\\\",\\\"heatmap\\\":{\\\"enabled\\\":false},\\\"prepend\\\":\\\"\\\",\\\"barColor\\\":4,\\\"barStyle\\\":\\\"normal\\\",\\\"minWidth\\\":30,\\\"sortable\\\":true,\\\"alignment\\\":\\\"auto\\\",\\\"flagStyle\\\":\\\"1x1\\\",\\\"showAsBar\\\":true,\\\"sparkline\\\":{\\\"area\\\":false,\\\"type\\\":\\\"line\\\",\\\"color\\\":0,\\\"title\\\":\\\"\\\",\\\"format\\\":\\\"0.[0]a\\\",\\\"height\\\":20,\\\"stroke\\\":2,\\\"dotLast\\\":true,\\\"enabled\\\":false,\\\"colorNeg\\\":0,\\\"dotFirst\\\":true,\\\"rangeMax\\\":\\\"\\\",\\\"rangeMin\\\":\\\"\\\",\\\"labelDiff\\\":false},\\\"borderLeft\\\":\\\"none\\\",\\\"fixedWidth\\\":false,\\\"barRangeMax\\\":\\\"100\\\",\\\"barRangeMin\\\":\\\"0\\\",\\\"borderRight\\\":\\\"none\\\",\\\"compactMode\\\":false,\\\"customColor\\\":false,\\\"replaceFlags\\\":false,\\\"showOnMobile\\\":true,\\\"customColorBy\\\":0,\\\"showOnDesktop\\\":true,\\\"customBarColor\\\":false,\\\"barNoBackground\\\":false,\\\"borderLeftColor\\\":\\\"#333333\\\",\\\"customColorText\\\":{\\\"__object\\\":true},\\\"barColorNegative\\\":false,\\\"customBarColorBy\\\":0,\\\"customColorBackground\\\":{\\\"__object\\\":true},\\\"customColorBarBackground\\\":{\\\"__object\\\":true}},\\\"% of total cases\\\":{\\\"style\\\":{\\\"bold\\\":false,\\\"color\\\":false,\\\"italic\\\":false,\\\"fontSize\\\":1,\\\"underline\\\":false,\\\"background\\\":false},\\\"width\\\":0.2,\\\"append\\\":\\\"\\\",\\\"format\\\":\\\"0%\\\",\\\"heatmap\\\":{\\\"enabled\\\":false},\\\"prepend\\\":\\\"\\\",\\\"barColor\\\":\\\"#28998b\\\",\\\"barStyle\\\":\\\"normal\\\",\\\"minWidth\\\":30,\\\"sortable\\\":true,\\\"alignment\\\":\\\"auto\\\",\\\"flagStyle\\\":\\\"1x1\\\",\\\"showAsBar\\\":true,\\\"sparkline\\\":{\\\"area\\\":false,\\\"type\\\":\\\"line\\\",\\\"color\\\":0,\\\"title\\\":\\\"\\\",\\\"format\\\":\\\"0.[0]a\\\",\\\"height\\\":20,\\\"stroke\\\":2,\\\"dotLast\\\":true,\\\"enabled\\\":false,\\\"colorNeg\\\":0,\\\"dotFirst\\\":true,\\\"rangeMax\\\":\\\"\\\",\\\"rangeMin\\\":\\\"\\\",\\\"labelDiff\\\":false},\\\"borderLeft\\\":\\\"none\\\",\\\"fixedWidth\\\":true,\\\"barRangeMax\\\":\\\"100\\\",\\\"barRangeMin\\\":\\\"0\\\",\\\"borderRight\\\":\\\"none\\\",\\\"compactMode\\\":false,\\\"customColor\\\":false,\\\"replaceFlags\\\":false,\\\"showOnMobile\\\":true,\\\"customColorBy\\\":0,\\\"showOnDesktop\\\":true,\\\"customBarColor\\\":false,\\\"barNoBackground\\\":true,\\\"borderLeftColor\\\":\\\"#333333\\\",\\\"customColorText\\\":{\\\"__object\\\":true},\\\"barColorNegative\\\":false,\\\"customBarColorBy\\\":0,\\\"customColorBackground\\\":{\\\"__object\\\":true},\\\"customColorBarBackground\\\":{\\\"__object\\\":true}},\\\"Age group (in years)\\\":{\\\"style\\\":{\\\"bold\\\":false,\\\"color\\\":false,\\\"italic\\\":false,\\\"fontSize\\\":1,\\\"underline\\\":false,\\\"background\\\":false},\\\"width\\\":0.2,\\\"append\\\":\\\"\\\",\\\"format\\\":\\\"0,0\\\",\\\"heatmap\\\":{\\\"enabled\\\":false},\\\"prepend\\\":\\\"\\\",\\\"barColor\\\":0,\\\"barStyle\\\":\\\"normal\\\",\\\"minWidth\\\":30,\\\"sortable\\\":true,\\\"alignment\\\":\\\"right\\\",\\\"flagStyle\\\":\\\"1x1\\\",\\\"showAsBar\\\":false,\\\"sparkline\\\":{\\\"area\\\":false,\\\"type\\\":\\\"line\\\",\\\"color\\\":0,\\\"title\\\":\\\"\\\",\\\"dotMax\\\":false,\\\"dotMin\\\":false,\\\"format\\\":\\\"0.[0]a\\\",\\\"height\\\":20,\\\"stroke\\\":2,\\\"dotLast\\\":true,\\\"enabled\\\":false,\\\"baseline\\\":false,\\\"colorNeg\\\":0,\\\"dotFirst\\\":true,\\\"rangeMax\\\":\\\"\\\",\\\"rangeMin\\\":\\\"\\\",\\\"labelDiff\\\":false,\\\"baselineAt\\\":0},\\\"borderLeft\\\":\\\"none\\\",\\\"fixedWidth\\\":false,\\\"barRangeMax\\\":\\\"\\\",\\\"barRangeMin\\\":\\\"\\\",\\\"borderRight\\\":\\\"none\\\",\\\"compactMode\\\":false,\\\"customColor\\\":false,\\\"replaceFlags\\\":false,\\\"showOnMobile\\\":true,\\\"customColorBy\\\":0,\\\"showOnDesktop\\\":true,\\\"customBarColor\\\":false,\\\"barNoBackground\\\":false,\\\"borderLeftColor\\\":\\\"#333333\\\",\\\"customColorText\\\":{\\\"__object\\\":true},\\\"barColorNegative\\\":false,\\\"customBarColorBy\\\":0,\\\"customColorBackground\\\":{\\\"__object\\\":true},\\\"customColorBarBackground\\\":{\\\"__object\\\":true}},\\\"% of county population\\\":{\\\"style\\\":{\\\"bold\\\":false,\\\"color\\\":false,\\\"italic\\\":false,\\\"fontSize\\\":1,\\\"underline\\\":false,\\\"background\\\":false},\\\"width\\\":0.2,\\\"append\\\":\\\"\\\",\\\"format\\\":\\\"0%\\\",\\\"heatmap\\\":{\\\"enabled\\\":false},\\\"prepend\\\":\\\"\\\",\\\"barColor\\\":\\\"#d0c492\\\",\\\"barStyle\\\":\\\"normal\\\",\\\"minWidth\\\":30,\\\"sortable\\\":true,\\\"alignment\\\":\\\"auto\\\",\\\"flagStyle\\\":\\\"1x1\\\",\\\"showAsBar\\\":true,\\\"sparkline\\\":{\\\"area\\\":false,\\\"type\\\":\\\"line\\\",\\\"color\\\":0,\\\"title\\\":\\\"\\\",\\\"dotMax\\\":false,\\\"dotMin\\\":false,\\\"format\\\":\\\"0.[0]a\\\",\\\"height\\\":20,\\\"stroke\\\":2,\\\"dotLast\\\":true,\\\"enabled\\\":false,\\\"baseline\\\":false,\\\"colorNeg\\\":0,\\\"dotFirst\\\":true,\\\"rangeMax\\\":\\\"\\\",\\\"rangeMin\\\":\\\"\\\",\\\"labelDiff\\\":false,\\\"baselineAt\\\":0},\\\"borderLeft\\\":\\\"none\\\",\\\"fixedWidth\\\":true,\\\"barRangeMax\\\":\\\"100\\\",\\\"barRangeMin\\\":\\\"0\\\",\\\"borderRight\\\":\\\"none\\\",\\\"compactMode\\\":false,\\\"customColor\\\":false,\\\"replaceFlags\\\":false,\\\"showOnMobile\\\":true,\\\"customColorBy\\\":0,\\\"showOnDesktop\\\":true,\\\"customBarColor\\\":false,\\\"barNoBackground\\\":true,\\\"borderLeftColor\\\":\\\"#333333\\\",\\\"customColorText\\\":{\\\"__object\\\":true},\\\"barColorNegative\\\":false,\\\"customBarColorBy\\\":0,\\\"customColorBackground\\\":{\\\"__object\\\":true},\\\"customColorBarBackground\\\":{\\\"__object\\\":true}},\\\"# of cases / # de casos\\\":{\\\"style\\\":{\\\"bold\\\":false,\\\"color\\\":false,\\\"italic\\\":false,\\\"fontSize\\\":1,\\\"underline\\\":false,\\\"background\\\":false},\\\"width\\\":0.2,\\\"append\\\":\\\"\\\",\\\"format\\\":\\\"0,0\\\",\\\"heatmap\\\":{\\\"enabled\\\":false},\\\"prepend\\\":\\\"\\\",\\\"barColor\\\":0,\\\"barStyle\\\":\\\"normal\\\",\\\"minWidth\\\":30,\\\"sortable\\\":true,\\\"alignment\\\":\\\"auto\\\",\\\"flagStyle\\\":\\\"1x1\\\",\\\"showAsBar\\\":false,\\\"sparkline\\\":{\\\"area\\\":false,\\\"type\\\":\\\"line\\\",\\\"color\\\":0,\\\"title\\\":\\\"\\\",\\\"format\\\":\\\"0.[0]a\\\",\\\"height\\\":20,\\\"stroke\\\":2,\\\"dotLast\\\":true,\\\"enabled\\\":false,\\\"colorNeg\\\":0,\\\"dotFirst\\\":true,\\\"rangeMax\\\":\\\"\\\",\\\"rangeMin\\\":\\\"\\\",\\\"labelDiff\\\":false},\\\"borderLeft\\\":\\\"none\\\",\\\"fixedWidth\\\":true,\\\"barRangeMax\\\":\\\"\\\",\\\"barRangeMin\\\":\\\"\\\",\\\"borderRight\\\":\\\"none\\\",\\\"compactMode\\\":false,\\\"customColor\\\":false,\\\"replaceFlags\\\":false,\\\"showOnMobile\\\":true,\\\"customColorBy\\\":0,\\\"showOnDesktop\\\":true,\\\"customBarColor\\\":false,\\\"barNoBackground\\\":false,\\\"borderLeftColor\\\":\\\"#333333\\\",\\\"customColorText\\\":{\\\"__object\\\":true},\\\"barColorNegative\\\":false,\\\"customBarColorBy\\\":0,\\\"customColorBackground\\\":{\\\"__object\\\":true},\\\"customColorBarBackground\\\":{\\\"__object\\\":true}},\\\"Place of residence (by region)\\\":{\\\"style\\\":{\\\"bold\\\":false,\\\"color\\\":false,\\\"italic\\\":false,\\\"fontSize\\\":1,\\\"underline\\\":false,\\\"background\\\":false},\\\"width\\\":0.46,\\\"append\\\":\\\"\\\",\\\"format\\\":\\\"0,0\\\",\\\"heatmap\\\":{\\\"enabled\\\":false},\\\"prepend\\\":\\\"\\\",\\\"barColor\\\":0,\\\"barStyle\\\":\\\"normal\\\",\\\"minWidth\\\":26,\\\"sortable\\\":true,\\\"alignment\\\":\\\"auto\\\",\\\"flagStyle\\\":\\\"1x1\\\",\\\"showAsBar\\\":false,\\\"sparkline\\\":{\\\"area\\\":false,\\\"type\\\":\\\"line\\\",\\\"color\\\":0,\\\"title\\\":\\\"\\\",\\\"dotMax\\\":false,\\\"dotMin\\\":false,\\\"format\\\":\\\"0.[0]a\\\",\\\"height\\\":20,\\\"stroke\\\":2,\\\"dotLast\\\":true,\\\"enabled\\\":false,\\\"baseline\\\":false,\\\"colorNeg\\\":0,\\\"dotFirst\\\":true,\\\"rangeMax\\\":\\\"\\\",\\\"rangeMin\\\":\\\"\\\",\\\"labelDiff\\\":false,\\\"baselineAt\\\":0},\\\"borderLeft\\\":\\\"none\\\",\\\"fixedWidth\\\":false,\\\"barRangeMax\\\":\\\"\\\",\\\"barRangeMin\\\":\\\"\\\",\\\"borderRight\\\":\\\"none\\\",\\\"compactMode\\\":false,\\\"customColor\\\":false,\\\"replaceFlags\\\":false,\\\"showOnMobile\\\":true,\\\"customColorBy\\\":0,\\\"showOnDesktop\\\":true,\\\"customBarColor\\\":false,\\\"barNoBackground\\\":false,\\\"borderLeftColor\\\":\\\"#333333\\\",\\\"customColorText\\\":{\\\"__object\\\":true},\\\"barColorNegative\\\":false,\\\"customBarColorBy\\\":0,\\\"customColorBackground\\\":{\\\"__object\\\":true},\\\"customColorBarBackground\\\":{\\\"__object\\\":true}},\\\"% of total cases / % del total de casos\\\":{\\\"style\\\":{\\\"bold\\\":false,\\\"color\\\":false,\\\"italic\\\":false,\\\"fontSize\\\":1,\\\"underline\\\":false,\\\"background\\\":false},\\\"width\\\":0.2,\\\"append\\\":\\\"\\\",\\\"format\\\":\\\"0%\\\",\\\"heatmap\\\":{\\\"enabled\\\":false},\\\"prepend\\\":\\\"\\\",\\\"barColor\\\":\\\"#28998b\\\",\\\"barStyle\\\":\\\"normal\\\",\\\"minWidth\\\":30,\\\"sortable\\\":true,\\\"alignment\\\":\\\"auto\\\",\\\"flagStyle\\\":\\\"1x1\\\",\\\"showAsBar\\\":true,\\\"sparkline\\\":{\\\"area\\\":false,\\\"type\\\":\\\"line\\\",\\\"color\\\":0,\\\"title\\\":\\\"\\\",\\\"format\\\":\\\"0.[0]a\\\",\\\"height\\\":20,\\\"stroke\\\":2,\\\"dotLast\\\":true,\\\"enabled\\\":false,\\\"colorNeg\\\":0,\\\"dotFirst\\\":true,\\\"rangeMax\\\":\\\"\\\",\\\"rangeMin\\\":\\\"\\\",\\\"labelDiff\\\":false},\\\"borderLeft\\\":\\\"none\\\",\\\"fixedWidth\\\":true,\\\"barRangeMax\\\":\\\"100\\\",\\\"barRangeMin\\\":\\\"0\\\",\\\"borderRight\\\":\\\"none\\\",\\\"compactMode\\\":false,\\\"customColor\\\":false,\\\"replaceFlags\\\":false,\\\"showOnMobile\\\":true,\\\"customColorBy\\\":0,\\\"showOnDesktop\\\":true,\\\"customBarColor\\\":false,\\\"barNoBackground\\\":false,\\\"borderLeftColor\\\":\\\"#333333\\\",\\\"customColorText\\\":{\\\"__object\\\":true},\\\"barColorNegative\\\":false,\\\"customBarColorBy\\\":0,\\\"customColorBackground\\\":{\\\"__object\\\":true},\\\"customColorBarBackground\\\":{\\\"__object\\\":true}},\\\"% of county population / % de la poblaci\\u00F3n del condado\\\":{\\\"style\\\":{\\\"bold\\\":false,\\\"color\\\":false,\\\"italic\\\":false,\\\"fontSize\\\":1,\\\"underline\\\":false,\\\"background\\\":false},\\\"width\\\":0.2,\\\"append\\\":\\\"\\\",\\\"format\\\":\\\"0%\\\",\\\"heatmap\\\":{\\\"enabled\\\":false},\\\"prepend\\\":\\\"\\\",\\\"barColor\\\":\\\"#d0c492\\\",\\\"barStyle\\\":\\\"normal\\\",\\\"minWidth\\\":30,\\\"sortable\\\":true,\\\"alignment\\\":\\\"auto\\\",\\\"flagStyle\\\":\\\"1x1\\\",\\\"showAsBar\\\":true,\\\"sparkline\\\":{\\\"area\\\":false,\\\"type\\\":\\\"line\\\",\\\"color\\\":0,\\\"title\\\":\\\"\\\",\\\"format\\\":\\\"0.[0]a\\\",\\\"height\\\":20,\\\"stroke\\\":2,\\\"dotLast\\\":true,\\\"enabled\\\":false,\\\"colorNeg\\\":0,\\\"dotFirst\\\":true,\\\"rangeMax\\\":\\\"\\\",\\\"rangeMin\\\":\\\"\\\",\\\"labelDiff\\\":false},\\\"borderLeft\\\":\\\"none\\\",\\\"fixedWidth\\\":true,\\\"barRangeMax\\\":\\\"100\\\",\\\"barRangeMin\\\":\\\"0\\\",\\\"borderRight\\\":\\\"none\\\",\\\"compactMode\\\":false,\\\"customColor\\\":false,\\\"replaceFlags\\\":false,\\\"showOnMobile\\\":true,\\\"customColorBy\\\":0,\\\"showOnDesktop\\\":true,\\\"customBarColor\\\":false,\\\"barNoBackground\\\":false,\\\"borderLeftColor\\\":\\\"#333333\\\",\\\"customColorText\\\":{\\\"__object\\\":true},\\\"barColorNegative\\\":false,\\\"customBarColorBy\\\":0,\\\"customColorBackground\\\":{\\\"__object\\\":true},\\\"customColorBarBackground\\\":{\\\"__object\\\":true}}},\\\"heatmap\\\":{\\\"map\\\":[],\\\"mode\\\":\\\"continuous\\\",\\\"stops\\\":\\\"equidistant\\\",\\\"colors\\\":[],\\\"palette\\\":0,\\\"rangeMax\\\":\\\"\\\",\\\"rangeMin\\\":\\\"\\\",\\\"stopCount\\\":5,\\\"hideValues\\\":false,\\\"customStops\\\":[],\\\"rangeCenter\\\":\\\"\\\",\\\"categoryOrder\\\":[],\\\"interpolation\\\":\\\"equidistant\\\",\\\"categoryLabels\\\":[]},\\\"perPage\\\":20,\\\"scale-y\\\":\\\"linear\\\",\\\"sharing\\\":{\\\"auto\\\":true,\\\"enabled\\\":true},\\\"striped\\\":false,\\\"labeling\\\":\\\"right\\\",\\\"markdown\\\":false,\\\"overlays\\\":[],\\\"showRank\\\":false,\\\"sort-bars\\\":false,\\\"sortTable\\\":true,\\\"background\\\":false,\\\"base-color\\\":0,\\\"fill-below\\\":false,\\\"force-grid\\\":false,\\\"pagination\\\":true,\\\"searchable\\\":false,\\\"showHeader\\\":true,\\\"compactMode\\\":false,\\\"line-dashes\\\":[],\\\"line-widths\\\":[],\\\"swap-labels\\\":false,\\\"block-labels\\\":false,\\\"custom-range\\\":[\\\"\\\",\\\"\\\"],\\\"fill-between\\\":false,\\\"label-colors\\\":false,\\\"label-margin\\\":0,\\\"line-symbols\\\":false,\\\"range-extent\\\":\\\"nice\\\",\\\"thick-arrows\\\":false,\\\"interpolation\\\":\\\"linear\\\",\\\"reverse-order\\\":false,\\\"show-tooltips\\\":true,\\\"sortDirection\\\":\\\"desc\\\",\\\"tick-position\\\":\\\"top\\\",\\\"x-tick-format\\\":\\\"auto\\\",\\\"y-grid-format\\\":\\\"auto\\\",\\\"y-grid-labels\\\":\\\"auto\\\",\\\"chart-type-set\\\":true,\\\"color-category\\\":{\\\"map\\\":[],\\\"categoryOrder\\\":[\\\"0 to 17\\\",\\\"18 to 49\\\",\\\"50 to 64\\\",\\\"65 and older\\\"],\\\"categoryLabels\\\":[]},\\\"custom-range-x\\\":[\\\"\\\",\\\"\\\"],\\\"custom-range-y\\\":[\\\"\\\",\\\"\\\"],\\\"custom-ticks-x\\\":\\\"\\\",\\\"custom-ticks-y\\\":\\\"\\\",\\\"mobileFallback\\\":false,\\\"show-color-key\\\":false,\\\"color-by-column\\\":false,\\\"connector-lines\\\":true,\\\"group-by-column\\\":false,\\\"label-alignment\\\":\\\"left\\\",\\\"line-symbols-on\\\":\\\"both\\\",\\\"mergeEmptyCells\\\":false,\\\"value-label-row\\\":false,\\\"firstRowIsHeader\\\":false,\\\"text-annotations\\\":[],\\\"tooltip-x-format\\\":\\\"ll\\\",\\\"y-grid-subdivide\\\":true,\\\"custom-area-fills\\\":[],\\\"custom-grid-lines\\\":\\\"\\\",\\\"date-label-format\\\":\\\"YYYY\\\",\\\"line-symbols-size\\\":3.5,\\\"line-value-labels\\\":false,\\\"range-annotations\\\":[],\\\"show-group-labels\\\":true,\\\"show-value-labels\\\":true,\\\"line-symbols-shape\\\":\\\"circle\\\",\\\"value-label-format\\\":\\\"0,0.[00]\\\",\\\"y-grid-label-align\\\":\\\"left\\\",\\\"compact-group-labels\\\":false,\\\"line-symbols-opacity\\\":1,\\\"show-category-labels\\\":true,\\\"area-fill-color-below\\\":\\\"#cccccc\\\",\\\"tooltip-number-format\\\":\\\"0,0.[00]\\\",\\\"value-label-alignment\\\":\\\"left\\\",\\\"value-label-visibility\\\":\\\"always\\\",\\\"area-fill-color-between\\\":\\\"#cccccc\\\",\\\"tooltip-use-custom-formats\\\":false,\\\"line-symbols-shape-multiple\\\":[]},\\\"publish\\\":{\\\"embed-width\\\":762,\\\"embed-height\\\":463,\\\"blocks\\\":{\\\"logo\\\":{\\\"enabled\\\":false},\\\"embed\\\":true,\\\"download-pdf\\\":false,\\\"download-svg\\\":false,\\\"get-the-data\\\":true,\\\"download-image\\\":true},\\\"embed-codes\\\":{\\\"embed-method-responsive\\\":\\\"<iframe title=\\\\\\\"Confirmed COVID-19 cases, by place of residence, Mendocino County / Casos confirmados de COVID-19, por lugar de residencia, Condado de Mendocino\\\\\\\" aria-label=\\\\\\\"Table\\\\\\\" id=\\\\\\\"datawrapper-chart-zj83H\\\\\\\" src=\\\\\\\"https://datawrapper.dwcdn.net/zj83H/9/\\\\\\\" scrolling=\\\\\\\"no\\\\\\\" frameborder=\\\\\\\"0\\\\\\\" style=\\\\\\\"width: 0; min-width: 100% !important; border: none;\\\\\\\" height=\\\\\\\"463\\\\\\\"></iframe><script type=\\\\\\\"text/javascript\\\\\\\">!function(){\\\\\\\"use strict\\\\\\\";window.addEventListener(\\\\\\\"message\\\\\\\",(function(e){if(void 0!==e.data[\\\\\\\"datawrapper-height\\\\\\\"]){var t=document.querySelectorAll(\\\\\\\"iframe\\\\\\\");for(var a in e.data[\\\\\\\"datawrapper-height\\\\\\\"])for(var r=0;r<t.length;r++){if(t[r].contentWindow===e.source)t[r].style.height=e.data[\\\\\\\"datawrapper-height\\\\\\\"][a]+\\\\\\\"px\\\\\\\"}}}))}();\\\\n<\\/script>\\\",\\\"embed-method-iframe\\\":\\\"<iframe title=\\\\\\\"Confirmed COVID-19 cases, by place of residence, Mendocino County / Casos confirmados de COVID-19, por lugar de residencia, Condado de Mendocino\\\\\\\" aria-label=\\\\\\\"Table\\\\\\\" id=\\\\\\\"datawrapper-chart-zj83H\\\\\\\" src=\\\\\\\"https://datawrapper.dwcdn.net/zj83H/9/\\\\\\\" scrolling=\\\\\\\"no\\\\\\\" frameborder=\\\\\\\"0\\\\\\\" style=\\\\\\\"border: none;\\\\\\\" width=\\\\\\\"762\\\\\\\" height=\\\\\\\"463\\\\\\\"></iframe>\\\"},\\\"autoDarkMode\\\":false,\\\"chart-height\\\":294.66668701171875},\\\"annotate\\\":{\\\"notes\\\":\\\"Data as of 3/30/22 /Datos al 30/03/22. \\\\nUkiah area / \\u00C1rea de Ukiah: zip codes 95418, 95449, 95469, 95470, 95481, 95482.\\\\nNorth County / Condado Norte: zip codes 95417, 95428, 95429, 95454, 95490, 95585, 95587. \\\\nNorth Coast / Costa Norte: zip codes 95420, 95437, 95488. South County / Condado Sur: zip codes 95414, 95463, 95466, 95494. South Coast / Costa Sur: 95410, 95427, 95432, 95445, 95456, 95459, 95460, 95468. \\\"},\\\"axes\\\":[],\\\"json_error\\\":null},\\\"externalData\\\":\\\"\\\",\\\"keywords\\\":\\\". . calredie. . data as of 3/30/22 /datos al 30/03/22. \\\\nukiah area / \\u00E1rea de ukiah: zip codes 95418, 95449, 95469, 95470, 95481, 95482.\\\\nnorth county / condado norte: zip codes 95417, 95428, 95429, 95454, 95490, 95585, 95587. \\\\nnorth coast / costa norte: zip codes 95420, 95437, 95488. south county / condado sur: zip codes 95414, 95463, 95466, 95494. south coast / costa sur: 95410, 95427, 95432, 95445, 95456, 95459, 95460, 95468. . \\\",\\\"createdAt\\\":\\\"2022-02-26T17:32:49.000Z\\\",\\\"lastModifiedAt\\\":\\\"2022-03-31T04:12:17.000Z\\\",\\\"forkedFrom\\\":\\\"b9OvW\\\",\\\"organizationId\\\":\\\"QytQVr6v\\\",\\\"authorId\\\":228841,\\\"folderId\\\":93683},\\\"visualization\\\":{\\\"id\\\":\\\"tables\\\",\\\"namespace\\\":\\\"table\\\",\\\"title\\\":\\\"table\\\",\\\"less\\\":\\\"/home/ubuntu/code/plugins/tables/less/tables.less\\\",\\\"script\\\":\\\"/home/ubuntu/code/plugins/tables/static/tables.js\\\",\\\"height\\\":\\\"fixed\\\",\\\"dependencies\\\":{\\\"jquery\\\":false,\\\"globalize\\\":false,\\\"numeral\\\":true,\\\"dayjs\\\":true},\\\"axes\\\":{\\\"columns\\\":{\\\"accepts\\\":[\\\"text\\\",\\\"date\\\",\\\"number\\\"],\\\"multiple\\\":true}},\\\"__plugin\\\":\\\"tables\\\",\\\"libraries\\\":[],\\\"svelte-workflow\\\":\\\"chart\\\",\\\"githead\\\":\\\"\\\",\\\"__title\\\":\\\"Table\\\"},\\\"theme\\\":{\\\"id\\\":\\\"datawrapper-data\\\",\\\"title\\\":\\\"Datawrapper (with data)\\\",\\\"data\\\":{\\\"vis\\\":{\\\"d3-bars\\\":{\\\"grid\\\":{\\\"horizontal\\\":{\\\"tickLabels\\\":{\\\"units\\\":\\\"all\\\"}}}},\\\"d3-dot-plot\\\":{\\\"grid\\\":{\\\"horizontal\\\":{\\\"baseLine\\\":{\\\"aboveChart\\\":false,\\\"blendBaseColorWithBg\\\":0.6}}}},\\\"column-chart\\\":{\\\"grid\\\":{\\\"vertical\\\":{\\\"tickLabels\\\":{\\\"hideZero\\\":true}}}},\\\"d3-maps-core\\\":{\\\"places\\\":{\\\"capital\\\":{\\\"label\\\":{\\\"fontWeight\\\":{\\\"normal\\\":700}}},\\\"general\\\":{\\\"label\\\":{\\\"color\\\":{\\\"normal\\\":\\\"#ffffff\\\",\\\"inverted\\\":\\\"#525252\\\"},\\\"buffer\\\":{\\\"color\\\":{\\\"normal\\\":\\\"#323232\\\",\\\"inverted\\\":\\\"#ffffff\\\"}},\\\"fontWeight\\\":{\\\"normal\\\":400}},\\\"symbol\\\":{\\\"fill\\\":{\\\"normal\\\":\\\"#ffffff\\\",\\\"inverted\\\":\\\"#525252\\\"},\\\"stroke\\\":{\\\"normal\\\":\\\"#323232\\\",\\\"inverted\\\":\\\"#ffffff\\\"}}}}},\\\"d3-arrow-plot\\\":{\\\"grid\\\":{\\\"vertical\\\":{\\\"gridLines\\\":{\\\"major\\\":{\\\"strokeDasharray\\\":\\\"dotted\\\"}}}}},\\\"d3-range-plot\\\":{\\\"grid\\\":{\\\"vertical\\\":{\\\"gridLines\\\":{\\\"major\\\":{\\\"strokeDasharray\\\":\\\"dotted\\\"}}}}},\\\"d3-bars-stacked\\\":{\\\"grid\\\":{\\\"horizontal\\\":{\\\"gridLines\\\":{\\\"aboveChart\\\":true}}}},\\\"d3-scatter-plot\\\":{\\\"grid\\\":{\\\"horizontal\\\":{\\\"tickLabels\\\":{\\\"units\\\":\\\"last\\\"}}}},\\\"d3-pies\\\":{\\\"labels\\\":{\\\"group\\\":{\\\"name\\\":{\\\"fontSize\\\":14}},\\\"center\\\":{\\\"fontSize\\\":14}}},\\\"d3-maps-symbols\\\":{\\\"regionFill\\\":\\\"#ededed\\\"}},\\\"style\\\":{\\\"body\\\":{\\\"padding\\\":\\\"0px\\\",\\\"background\\\":\\\"transparent\\\"},\\\"chart\\\":{\\\"grid\\\":{\\\"general\\\":{\\\"baseLine\\\":{\\\"aboveChart\\\":true},\\\"tickLines\\\":{\\\"aboveChart\\\":true},\\\"tickLabels\\\":{\\\"units\\\":\\\"first\\\",\\\"aboveChart\\\":true}}}},\\\"filter\\\":{\\\"tabs\\\":{\\\"color\\\":\\\"#666\\\",\\\"hover\\\":{\\\"color\\\":\\\"#222\\\"},\\\"active\\\":{\\\"color\\\":\\\"#000000\\\",\\\"border\\\":{\\\"bottom\\\":\\\"3px solid #555555\\\"}},\\\"border\\\":{\\\"bottom\\\":\\\"1px solid #cccccc\\\"}},\\\"point\\\":{\\\"line\\\":{\\\"color\\\":\\\"#ccc\\\"},\\\"buttons\\\":{\\\"hover\\\":{\\\"background\\\":\\\"#ebebeb\\\"},\\\"active\\\":{\\\"border\\\":\\\"1px solid #888\\\",\\\"background\\\":\\\"#ccc\\\"},\\\"border\\\":\\\"1px solid #ccc\\\"}},\\\"select\\\":{\\\"border\\\":\\\"1px solid #cccccc\\\",\\\"textColor\\\":\\\"#000\\\"}}},\\\"colors\\\":{\\\"picker\\\":{\\\"controls\\\":{\\\"hue\\\":true,\\\"lightness\\\":true,\\\"saturation\\\":true,\\\"hexEditable\\\":true},\\\"rowCount\\\":6},\\\"neutral\\\":\\\"#CCCCCC\\\",\\\"palette\\\":[\\\"#18a1cd\\\",\\\"#1d81a2\\\",\\\"#15607a\\\",\\\"#82f5cf\\\",\\\"#00dca6\\\",\\\"#09bb9f\\\",\\\"#c4c4c4\\\",\\\"#c71e1d\\\",\\\"#fa8c00\\\",\\\"#ffca76\\\",\\\"#ffe59c\\\"],\\\"negative\\\":\\\"#E31A1C\\\",\\\"positive\\\":\\\"#85B4D4\\\",\\\"gradients\\\":[[\\\"#f0f9e8\\\",\\\"#b6e3bb\\\",\\\"#75c8c5\\\",\\\"#4ba8c9\\\",\\\"#2989bd\\\",\\\"#0a6aad\\\",\\\"#254b8c\\\"],[\\\"#fcfcbe\\\",\\\"#fdc78d\\\",\\\"#fb8d67\\\",\\\"#e45563\\\",\\\"#ac337b\\\",\\\"#6b1f7b\\\",\\\"#2c1160\\\"],[\\\"#f0f723\\\",\\\"#fbbf2b\\\",\\\"#f38a47\\\",\\\"#d8586a\\\",\\\"#ac2790\\\",\\\"#6703a5\\\",\\\"#0d0787\\\"],[\\\"#fefaca\\\",\\\"#008b15\\\"],[\\\"#feebe2\\\",\\\"#fcc5c0\\\",\\\"#fa9fb5\\\",\\\"#f768a1\\\",\\\"#c51b8a\\\",\\\"#7a0177\\\"],[\\\"#ffffcc\\\",\\\"#c7e9b4\\\",\\\"#7fcdbb\\\",\\\"#41b6c4\\\",\\\"#2c7fb8\\\",\\\"#253494\\\"],[\\\"#8c510a\\\",\\\"#d8b365\\\",\\\"#f6e8c3\\\",\\\"#f5f7ea\\\",\\\"#c7eae5\\\",\\\"#5ab4ac\\\",\\\"#01665e\\\"],[\\\"#c51b7d\\\",\\\"#e9a3c9\\\",\\\"#fde0ef\\\",\\\"#faf6ea\\\",\\\"#e6f5d0\\\",\\\"#a1d76a\\\",\\\"#4d9221\\\"],[\\\"#b2182b\\\",\\\"#ef8a62\\\",\\\"#fddbc7\\\",\\\"#f8f6e9\\\",\\\"#d1e5f0\\\",\\\"#67a9cf\\\",\\\"#2166ac\\\"]],\\\"background\\\":\\\"#ffffff\\\",\\\"categories\\\":[[\\\"#F6D500\\\",\\\"#0B91A7\\\",\\\"#00CABD\\\",\\\"#C2C100\\\",\\\"#BA403E\\\",\\\"#EF7F36\\\",\\\"#2D4F84\\\",\\\"#85BDF4\\\",\\\"#9EF1BF\\\",\\\"#D3F3FD\\\"],[\\\"#7fc97f\\\",\\\"#beaed4\\\",\\\"#fdc086\\\",\\\"#ffff99\\\",\\\"#386cb0\\\",\\\"#f0027f\\\",\\\"#bf5b17\\\",\\\"#666666\\\"],[\\\"#fbb4ae\\\",\\\"#b3cde3\\\",\\\"#ccebc5\\\",\\\"#decbe4\\\",\\\"#fed9a6\\\",\\\"#ffffcc\\\",\\\"#e5d8bd\\\",\\\"#fddaec\\\",\\\"#f2f2f2\\\"],[\\\"#a6cee3\\\",\\\"#1f78b4\\\",\\\"#b2df8a\\\",\\\"#33a02c\\\",\\\"#fb9a99\\\",\\\"#e31a1c\\\",\\\"#fdbf6f\\\",\\\"#ff7f00\\\",\\\"#cab2d6\\\",\\\"#6a3d9a\\\",\\\"#ffff99\\\",\\\"#b15928\\\"]],\\\"bgBlendRatios\\\":{\\\"value\\\":0},\\\"chartContentBaseColor\\\":\\\"#181818\\\"},\\\"metadata\\\":{\\\"publish\\\":{\\\"blocks\\\":{\\\"logo\\\":{\\\"enabled\\\":false},\\\"embed\\\":false,\\\"download-pdf\\\":false,\\\"download-svg\\\":false,\\\"get-the-data\\\":true,\\\"download-image\\\":false}}},\\\"overrides\\\":[{\\\"type\\\":\\\"darkMode\\\",\\\"settings\\\":{\\\"colors.gradients\\\":[[\\\"#254b8c\\\",\\\"#0a6aad\\\",\\\"#2989bd\\\",\\\"#4ba8c9\\\",\\\"#75c8c5\\\",\\\"#b6e3bb\\\",\\\"#f0f9e8\\\"],[\\\"#2c1160\\\",\\\"#6b1f7b\\\",\\\"#ac337b\\\",\\\"#e45563\\\",\\\"#fb8d67\\\",\\\"#fcfcbe\\\",\\\"#fdc78d\\\"],[\\\"#0d0787\\\",\\\"#6703a5\\\",\\\"#ac2790\\\",\\\"#d8586a\\\",\\\"#f38a47\\\",\\\"#fbbf2b\\\",\\\"#f0f723\\\"],[\\\"#007001\\\",\\\"#f6f4a6\\\"],[\\\"#42342d\\\",\\\"#683c39\\\",\\\"#8f3e55\\\",\\\"#c73a78\\\",\\\"#ff6bca\\\",\\\"#ffcbff\\\"],[\\\"#253494\\\",\\\"#2c7fb8\\\",\\\"#41b6c4\\\",\\\"#7fcdbb\\\",\\\"#c7e9b4\\\",\\\"#ffffcc\\\"]],\\\"colors.background\\\":\\\"#252525\\\",\\\"vis.d3-maps-core.places.general.label.color.normal\\\":\\\"#000000\\\",\\\"vis.d3-maps-core.places.general.symbol.fill.normal\\\":\\\"#000000\\\",\\\"vis.d3-maps-core.places.general.label.color.inverted\\\":\\\"#e5e5e5\\\",\\\"vis.d3-maps-core.places.general.symbol.fill.inverted\\\":\\\"#e5e5e5\\\",\\\"vis.d3-maps-core.places.general.symbol.stroke.normal\\\":\\\"#bfbfbf\\\",\\\"vis.d3-maps-core.places.general.label.buffer.color.normal\\\":\\\"#bfbfbf\\\",\\\"vis.d3-dot-plot.grid.horizontal.baseLine.blendBaseColorWithBg\\\":0.85}},{\\\"type\\\":\\\"darkMode\\\",\\\"settings\\\":{\\\"vis.d3-maps-core.places.general.label.fontWeight.normal\\\":500,\\\"vis.d3-maps-core.places.general.label.fontWeight.inverted\\\":400}}],\\\"typography\\\":{\\\"chart\\\":{\\\"color\\\":\\\"#181818\\\",\\\"fontSize\\\":12,\\\"typeface\\\":\\\"Roboto,sans-serif\\\"},\\\"links\\\":{\\\"color\\\":\\\"#18a1cd\\\",\\\"cursive\\\":0,\\\"fontWeight\\\":\\\"normal\\\",\\\"underlined\\\":0,\\\"typeface\\\":\\\"Roboto,sans-serif\\\"},\\\"notes\\\":{\\\"cursive\\\":1,\\\"fontSize\\\":12,\\\"fontWeight\\\":\\\"normal\\\",\\\"underlined\\\":0,\\\"color\\\":\\\"#656565\\\",\\\"typeface\\\":\\\"Roboto,sans-serif\\\"},\\\"footer\\\":{\\\"color\\\":\\\"#888\\\",\\\"cursive\\\":0,\\\"fontSize\\\":11,\\\"fontWeight\\\":\\\"normal\\\",\\\"underlined\\\":0,\\\"typeface\\\":\\\"Roboto,sans-serif\\\"},\\\"headline\\\":{\\\"cursive\\\":0,\\\"fontSize\\\":22,\\\"fontWeight\\\":\\\"bold\\\",\\\"underlined\\\":0,\\\"color\\\":\\\"#000000\\\",\\\"typeface\\\":\\\"Roboto,sans-serif\\\"},\\\"description\\\":{\\\"cursive\\\":0,\\\"fontSize\\\":14,\\\"fontWeight\\\":\\\"normal\\\",\\\"lineHeight\\\":17,\\\"underlined\\\":0,\\\"typeface\\\":\\\"Roboto,sans-serif\\\"},\\\"fontFamilies\\\":{\\\"Roboto\\\":[{\\\"name\\\":\\\"Roboto Regular\\\",\\\"style\\\":\\\"normal\\\",\\\"weight\\\":400},{\\\"name\\\":\\\"Roboto Light\\\",\\\"style\\\":\\\"normal\\\",\\\"weight\\\":300}]}},\\\"export\\\":{\\\"pdf\\\":{\\\"fonts\\\":{\\\"Roboto Bold\\\":\\\"https://static.dwcdn.net/css/fonts/roboto/ttf/Roboto-Bold.ttf\\\",\\\"Roboto Light\\\":\\\"https://static.dwcdn.net/css/fonts/roboto/ttf/Roboto-Light.ttf\\\",\\\"Roboto Medium\\\":\\\"https://static.dwcdn.net/css/fonts/roboto/ttf/Roboto-Medium.ttf\\\",\\\"Roboto Regular\\\":\\\"https://static.dwcdn.net/css/fonts/roboto/ttf/Roboto-Regular.ttf\\\",\\\"Roboto Bold Italic\\\":\\\"https://static.dwcdn.net/css/fonts/roboto/ttf/Roboto-BoldItalic.ttf\\\",\\\"Roboto Light Italic\\\":\\\"https://static.dwcdn.net/css/fonts/roboto/ttf/Roboto-LightItalic.ttf\\\",\\\"Roboto Medium Italic\\\":\\\"https://static.dwcdn.net/css/fonts/roboto/ttf/Roboto-MediumItalic.ttf\\\",\\\"Roboto Regular Italic\\\":\\\"https://static.dwcdn.net/css/fonts/roboto/ttf/Roboto-Italic.ttf\\\"},\\\"cmykColors\\\":[],\\\"defaultFont\\\":\\\"Roboto Regular\\\"}},\\\"options\\\":{}},\\\"less\\\":\\\".free-texts tspan {\\\\n    fill:unset!important;\\\\n}\\\\n.vis-locator-map {\\\\n    .get-the-data-block, .separator-before-get-the-data {\\\\n        display:none!important;\\\\n    }\\\\n}\\\\n\\\\n/* .chart.png-export .footer-block.attribution { display: none; } */\\\\n.map-key {\\\\n    pointer-events:none;   \\\\n}\\\\n\\\\n\\\\n\\\",\\\"assets\\\":{\\\"Roboto\\\":{\\\"type\\\":\\\"font\\\",\\\"import\\\":\\\"https://static.dwcdn.net/css/roboto.css\\\",\\\"method\\\":\\\"import\\\"}},\\\"extend\\\":\\\"datawrapper\\\",\\\"url\\\":\\\"/v3/themes/datawrapper-data\\\",\\\"_computed\\\":{\\\"bgLight\\\":\\\"#ffffff\\\",\\\"bgDark\\\":\\\"#252525\\\",\\\"origGradients\\\":[[\\\"#f0f9e8\\\",\\\"#b6e3bb\\\",\\\"#75c8c5\\\",\\\"#4ba8c9\\\",\\\"#2989bd\\\",\\\"#0a6aad\\\",\\\"#254b8c\\\"],[\\\"#fcfcbe\\\",\\\"#fdc78d\\\",\\\"#fb8d67\\\",\\\"#e45563\\\",\\\"#ac337b\\\",\\\"#6b1f7b\\\",\\\"#2c1160\\\"],[\\\"#f0f723\\\",\\\"#fbbf2b\\\",\\\"#f38a47\\\",\\\"#d8586a\\\",\\\"#ac2790\\\",\\\"#6703a5\\\",\\\"#0d0787\\\"],[\\\"#fefaca\\\",\\\"#008b15\\\"],[\\\"#feebe2\\\",\\\"#fcc5c0\\\",\\\"#fa9fb5\\\",\\\"#f768a1\\\",\\\"#c51b8a\\\",\\\"#7a0177\\\"],[\\\"#ffffcc\\\",\\\"#c7e9b4\\\",\\\"#7fcdbb\\\",\\\"#41b6c4\\\",\\\"#2c7fb8\\\",\\\"#253494\\\"],[\\\"#8c510a\\\",\\\"#d8b365\\\",\\\"#f6e8c3\\\",\\\"#f5f7ea\\\",\\\"#c7eae5\\\",\\\"#5ab4ac\\\",\\\"#01665e\\\"],[\\\"#c51b7d\\\",\\\"#e9a3c9\\\",\\\"#fde0ef\\\",\\\"#faf6ea\\\",\\\"#e6f5d0\\\",\\\"#a1d76a\\\",\\\"#4d9221\\\"],[\\\"#b2182b\\\",\\\"#ef8a62\\\",\\\"#fddbc7\\\",\\\"#f8f6e9\\\",\\\"#d1e5f0\\\",\\\"#67a9cf\\\",\\\"#2166ac\\\"]]},\\\"fonts\\\":{\\\"Roboto\\\":{\\\"type\\\":\\\"font\\\",\\\"import\\\":\\\"https://static.dwcdn.net/css/roboto.css\\\",\\\"method\\\":\\\"import\\\"}}},\\\"chartAfterBodyHTML\\\":\\\"<script type=\\\\\\\"text/javascript\\\\\\\">\\\\n    setTimeout(function() {\\\\n        var img = document.createElement('img');\\\\n        img.setAttribute('width', 1);\\\\n        img.setAttribute('alt','');\\\\n        img.setAttribute('aria-hidden','true');\\\\n        img.setAttribute('height', 1);\\\\n        img.style.position = \\\\\\\"absolute\\\\\\\";\\\\n        img.style.top = \\\\\\\"0px\\\\\\\";\\\\n        img.setAttribute('src', '//stats.datawrapper.de/zj83H/datawrapper.gif?r='+escape(document.referrer || ''));\\\\n        document.body.appendChild(img);\\\\n    },10);\\\\n<\\/script>\\\\n\\\",\\\"chartAfterHeadHTML\\\":\\\"<link rel=\\\\\\\"alternate\\\\\\\" type=\\\\\\\"application/json+oembed\\\\\\\"\\\\n  href=\\\\\\\"https://api.datawrapper.de/v3/oembed?url=https://datawrapper.dwcdn.net/zj83H/9/&format=json\\\\\\\"\\\\n  title=\\\\\\\"oEmbed\\\\\\\" />\\\\n<meta property=\\\\\\\"og:image\\\\\\\" content=\\\\\\\"https://datawrapper.dwcdn.net/zj83H/plain-s.png?v=9\\\\\\\">\\\\n\\\",\\\"translations\\\":{\\\"xy-grid / axis-x-number\\\":\\\"Horizontal axis, ranging from %from% to %to%.\\\",\\\"xy-grid / axis-x-text\\\":\\\"Horizontal category axis, ranging from %from% to %to%.\\\",\\\"xy-grid / axis-y-number\\\":\\\"Vertical axis, ranging from %from% to %to%.\\\",\\\"xy-grid / axis-y-text\\\":\\\"Vertical category axis, ranging from %from% to %to%.\\\",\\\"xy-grid / axis-log\\\":\\\"Axis uses logarithmic scale.\\\",\\\"xy-grid / axis-y-date\\\":\\\"Vertical date axis, ranging from %from% to %to%.\\\",\\\"xy-grid / axis-x-date\\\":\\\"Horizontal date axis, ranging from %from% to %to%.\\\",\\\"area-chart / single\\\":\\\"Area chart with one area\\\",\\\"area-chart / multiple\\\":\\\"Area chart with %count% areas\\\",\\\"stacked-area-chart / multiple\\\":\\\"Stacked area chart with %count% areas\\\",\\\"stacked-area-chart / single\\\":\\\"Stacked area chart with one area\\\",\\\"line-chart / multiple\\\":\\\"Line chart with %count% lines\\\",\\\"line-chart / single\\\":\\\"Line chart with a single line\\\",\\\"annotations / single\\\":\\\"The chart has one annotation.\\\",\\\"annotations / multiple\\\":\\\"The chart has %count% annotations.\\\",\\\"line-values\\\":\\\"Line showing %count% values for \\\\\\\"%name%\\\\\\\".\\\",\\\"area-values\\\":\\\"Area showing %count% values for \\\\\\\"%name%\\\\\\\".\\\",\\\"xy-grid / axis-x-log\\\":\\\"Horizontal axis, ranging from %from% to %to%.\\\",\\\"xy-grid / axis-y-log\\\":\\\"Vertical axis, ranging from %from% to %to%.\\\",\\\"footer / map data\\\":\\\"Map data\\\",\\\"other\\\":\\\"Other\\\",\\\"total\\\":\\\"Total\\\",\\\"scatterplot\\\":\\\"Scatterplot with %count% symbols\\\",\\\"axis-labels\\\":\\\"The horizontal axis is labeled as \\\\\\\"%xlabel%\\\\\\\", the vertical axis is labeled as \\\\\\\"%ylabel%\\\\\\\".\\\",\\\"labels-more-than-7\\\":\\\"Some symbols are labelled, including %labels%, and %others% others.\\\",\\\"labels-less-than-7\\\":\\\"%count% symbols are labelled: %labels%, and \\\\\\\"%last%\\\\\\\".\\\",\\\"expanded-view-note\\\":\\\"This is the extended area for the inset map on mobile. You can disable this feature.\\\",\\\"show-more\\\":\\\"Show $0 more\\\",\\\"show-less\\\":\\\"Show less\\\",\\\"pagination\\\":\\\"Page $0 of $1\\\",\\\"search-placeholder\\\":\\\"Search in table\\\",\\\"no-results-found\\\":\\\"No matching records found\\\",\\\"accessibility / rank\\\":\\\"Rank\\\",\\\"accessibility / summary\\\":\\\"Table with $0 columns and $1 rows.\\\",\\\"accessibility / current-rows\\\":\\\"Currently displaying rows $0 to $1\\\",\\\"accessibility / current-rows / search-results\\\":\\\"of $0 results for search term \\\\\\\"$1\\\\\\\".\\\",\\\"accessibility / search-results\\\":\\\"Showing $0 results for search term \\\\\\\"$1\\\\\\\".\\\",\\\"accessibility / sticky-rows\\\":\\\"Including $0 sticky rows.\\\",\\\"accessibility / sparkline\\\":\\\"Small %chart_type% with $0 values, ranging from $1 to $2.\\\",\\\"accessibility / sparkline / type-line\\\":\\\"line chart\\\",\\\"accessibility / sparkline / type-columns\\\":\\\"column chart\\\",\\\"accessibility / pagination-button\\\":\\\"Go to page $0 of $1.\\\",\\\"accessibility / clear-search\\\":\\\"Clear search input.\\\",\\\"accessibility / sort-direction / ascending\\\":\\\"Sorted ascending\\\",\\\"accessibility / sort-direction / descending\\\":\\\"Sorted descending\\\",\\\"accessibility / sort-column\\\":\\\"by column \\\\\\\"$0\\\\\\\"\\\",\\\"accessibility / sparkline-no-values\\\":\\\"Small %chart_type% with no values.\\\",\\\"Chart:\\\":\\\"Chart:\\\",\\\"Map:\\\":\\\"Map:\\\",\\\"Table:\\\":\\\"Table:\\\",\\\"footer / based-on\\\":\\\"Based on\\\",\\\"Get the data\\\":\\\"Get the data\\\",\\\"Embed\\\":\\\"Embed\\\",\\\"Download Image\\\":\\\"Download image\\\",\\\"Source\\\":\\\"Source\\\",\\\"Created with\\\":\\\"Created with\\\",\\\"Download SVG\\\":\\\"Download SVG\\\",\\\"Download PDF\\\":\\\"Download PDF\\\",\\\"edit-in-datawrapper\\\":\\\"Create a copy\\\"},\\\"assets\\\":{\\\"dataset.csv\\\":{\\\"url\\\":\\\"dataset.csv\\\"}},\\\"externalDataUrl\\\":\\\"static.dwcdn.net/data\\\",\\\"blocks\\\":[{\\\"source\\\":{\\\"js\\\":\\\"../../lib/blocks/social-sharing.chart-blocks.e9c34cb5.js\\\",\\\"css\\\":\\\"../../lib/blocks/social-sharing.chart-blocks.32a348e9.css\\\"},\\\"blocks\\\":[{\\\"id\\\":\\\"social-sharing\\\",\\\"region\\\":\\\"afterBody\\\",\\\"priority\\\":1,\\\"component\\\":\\\"SocialSharing\\\"}]},{\\\"source\\\":{\\\"js\\\":\\\"../../lib/blocks/subscriptions.chart-blocks.67d89b1b.js\\\",\\\"css\\\":\\\"../../lib/blocks/subscriptions.chart-blocks.c4ec9364.css\\\"},\\\"blocks\\\":[{\\\"id\\\":\\\"attribution\\\",\\\"region\\\":\\\"footerLeft\\\",\\\"priority\\\":99,\\\"component\\\":\\\"CreatedWithDatawrapper\\\",\\\"data\\\":{\\\"userRequiresAttribution\\\":true}}]},{\\\"source\\\":{\\\"js\\\":\\\"../../lib/blocks/image-publishing.chart-blocks.ca35d5ff.js\\\",\\\"css\\\":\\\"../../lib/blocks/image-publishing.chart-blocks.c4ec9364.css\\\"},\\\"blocks\\\":[{\\\"id\\\":\\\"download-image\\\",\\\"region\\\":\\\"footerLeft\\\",\\\"priority\\\":50,\\\"data\\\":{\\\"imagePrefix\\\":\\\"https://datawrapper.dwcdn.net/\\\",\\\"apiDomain\\\":\\\"api.datawrapper.de\\\",\\\"downloadFormats\\\":{\\\"png\\\":{\\\"filename\\\":\\\"full\\\",\\\"zoom\\\":2,\\\"width\\\":600,\\\"height\\\":\\\"auto\\\",\\\"plain\\\":false,\\\"border\\\":{\\\"width\\\":10}}},\\\"downloadFilenameTemplate\\\":\\\"{{ LOWER(title) }}\\\",\\\"settings\\\":{\\\"folders\\\":\\\"expanded\\\",\\\"default\\\":{\\\"folder\\\":null,\\\"locale\\\":null},\\\"slack_webhook_url\\\":\\\"\\\",\\\"slack_enabled\\\":false,\\\"msteams_webhook_url\\\":\\\"\\\",\\\"msteams_enabled\\\":false,\\\"ga_enabled\\\":false,\\\"ga_id\\\":\\\"\\\",\\\"downloadImageFormat\\\":\\\"full\\\",\\\"downloadFilenameTemplate\\\":\\\"{{ LOWER(title) }}\\\",\\\"embed\\\":{\\\"preferred_embed\\\":\\\"responsive\\\",\\\"custom_embed\\\":{\\\"title\\\":\\\"\\\",\\\"text\\\":\\\"\\\",\\\"template\\\":\\\"\\\"}},\\\"customFields\\\":[],\\\"sso\\\":{\\\"openId\\\":{\\\"domain\\\":\\\"\\\",\\\"clientId\\\":\\\"\\\",\\\"clientSecret\\\":\\\"\\\"}},\\\"disableVisualizations\\\":{\\\"enabled\\\":false,\\\"visualizations\\\":{},\\\"allowAdmins\\\":false},\\\"pdfUpload\\\":{\\\"ftp\\\":{\\\"enabled\\\":false,\\\"server\\\":\\\"\\\",\\\"user\\\":\\\"\\\",\\\"password\\\":\\\"\\\",\\\"directory\\\":\\\"\\\",\\\"filename\\\":\\\"\\\"},\\\"s3\\\":{\\\"enabled\\\":false,\\\"bucket\\\":\\\"\\\",\\\"region\\\":\\\"\\\",\\\"accessKeyId\\\":\\\"\\\",\\\"secret\\\":\\\"\\\",\\\"prefix\\\":\\\"\\\",\\\"filename\\\":\\\"\\\"}},\\\"restrictDefaultThemes\\\":false,\\\"css\\\":\\\"\\\",\\\"flags\\\":{},\\\"displayLocale\\\":false,\\\"displayCustomField\\\":{\\\"enabled\\\":false,\\\"key\\\":\\\"\\\"}}},\\\"component\\\":\\\"DownloadImage\\\"}]}],\\\"isIframe\\\":true,\\\"isPreview\\\":false,\\\"locales\\\":{\\\"dayjs\\\":{\\\"base\\\":\\\"(function() {\\\\n    return {\\\\n        name: 'en',\\\\n        weekdays: 'Sunday_Monday_Tuesday_Wednesday_Thursday_Friday_Saturday'.split('_'),\\\\n        months: 'January_February_March_April_May_June_July_August_September_October_November_December'.split('_'),\\\\n        formats: {\\\\n            LTS: 'h:mm:ss A',\\\\n            LT: 'h:mm A',\\\\n            L: 'MM/DD/YYYY',\\\\n            LL: 'MMMM D, YYYY',\\\\n            LLL: 'MMMM D, YYYY h:mm A',\\\\n            LLLL: 'dddd, MMMM D, YYYY h:mm A'\\\\n        },\\\\n        ordinal: function(n) {\\\\n            var s = ['th', 'st', 'nd', 'rd'];\\\\n            var v = n % 100;\\\\n            return '[' + n + (s[(v - 20) % 10] || s[v] || s[0]) + ']';\\\\n        }\\\\n    };\\\\n})();\\\\n\\\",\\\"custom\\\":{}},\\\"numeral\\\":{\\\"base\\\":\\\"(function() {\\\\n    // numeral.js locale configuration\\\\n    // locale : American English\\\\n\\\\n    return {\\\\n        delimiters: {\\\\n            thousands: ',',\\\\n            decimal: '.'\\\\n        },\\\\n        abbreviations: {\\\\n            thousand: 'K',\\\\n            million: 'M',\\\\n            billion: 'B',\\\\n            trillion: 'T'\\\\n        },\\\\n        ordinal: function(number) {\\\\n            var b = number % 10;\\\\n            return ~~((number % 100) / 10) === 1 ? 'th' : b === 1 ? 'st' : b === 2 ? 'nd' : b === 3 ? 'rd' : 'th';\\\\n        },\\\\n        currency: {\\\\n            symbol: '$'\\\\n        }\\\\n    };\\\\n})();\\\\n\\\",\\\"custom\\\":{}}},\\\"polyfillUri\\\":\\\"../../lib/vendor\\\",\\\"teamPublicSettings\\\":{},\\\"themeDataDark\\\":{\\\"vis\\\":{\\\"d3-bars\\\":{\\\"grid\\\":{\\\"horizontal\\\":{\\\"tickLabels\\\":{\\\"units\\\":\\\"all\\\"}}}},\\\"d3-dot-plot\\\":{\\\"grid\\\":{\\\"horizontal\\\":{\\\"baseLine\\\":{\\\"aboveChart\\\":false,\\\"blendBaseColorWithBg\\\":0.85}}}},\\\"column-chart\\\":{\\\"grid\\\":{\\\"vertical\\\":{\\\"tickLabels\\\":{\\\"hideZero\\\":true}}}},\\\"d3-maps-core\\\":{\\\"places\\\":{\\\"capital\\\":{\\\"label\\\":{\\\"fontWeight\\\":{\\\"normal\\\":\\\"#ffdcff\\\"}}},\\\"general\\\":{\\\"label\\\":{\\\"color\\\":{\\\"normal\\\":\\\"#000000\\\",\\\"inverted\\\":\\\"#e5e5e5\\\"},\\\"buffer\\\":{\\\"color\\\":{\\\"normal\\\":\\\"#bfbfbf\\\",\\\"inverted\\\":\\\"#252525\\\"}},\\\"fontWeight\\\":{\\\"normal\\\":500,\\\"inverted\\\":400}},\\\"symbol\\\":{\\\"fill\\\":{\\\"normal\\\":\\\"#000000\\\",\\\"inverted\\\":\\\"#e5e5e5\\\"},\\\"stroke\\\":{\\\"normal\\\":\\\"#bfbfbf\\\",\\\"inverted\\\":\\\"#252525\\\"}}}}},\\\"d3-arrow-plot\\\":{\\\"grid\\\":{\\\"vertical\\\":{\\\"gridLines\\\":{\\\"major\\\":{\\\"strokeDasharray\\\":\\\"dotted\\\"}}}}},\\\"d3-range-plot\\\":{\\\"grid\\\":{\\\"vertical\\\":{\\\"gridLines\\\":{\\\"major\\\":{\\\"strokeDasharray\\\":\\\"dotted\\\"}}}}},\\\"d3-bars-stacked\\\":{\\\"grid\\\":{\\\"horizontal\\\":{\\\"gridLines\\\":{\\\"aboveChart\\\":true}}}},\\\"d3-scatter-plot\\\":{\\\"grid\\\":{\\\"horizontal\\\":{\\\"tickLabels\\\":{\\\"units\\\":\\\"last\\\"}}}},\\\"d3-pies\\\":{\\\"labels\\\":{\\\"group\\\":{\\\"name\\\":{\\\"fontSize\\\":14}},\\\"center\\\":{\\\"fontSize\\\":14}}},\\\"d3-maps-symbols\\\":{\\\"regionFill\\\":\\\"#3c3c3c\\\"}},\\\"style\\\":{\\\"body\\\":{\\\"padding\\\":\\\"0px\\\",\\\"background\\\":\\\"#252525\\\"},\\\"chart\\\":{\\\"grid\\\":{\\\"general\\\":{\\\"baseLine\\\":{\\\"aboveChart\\\":true},\\\"tickLines\\\":{\\\"aboveChart\\\":true},\\\"tickLabels\\\":{\\\"units\\\":\\\"first\\\",\\\"aboveChart\\\":true}}}},\\\"filter\\\":{\\\"tabs\\\":{\\\"color\\\":\\\"#aaaaaa\\\",\\\"hover\\\":{\\\"color\\\":\\\"#ffffff\\\"},\\\"active\\\":{\\\"color\\\":\\\"#ffffff\\\",\\\"border\\\":{\\\"bottom\\\":\\\"3px solid #bebebe\\\"}},\\\"border\\\":{\\\"bottom\\\":\\\"1px solid #535353\\\"}},\\\"point\\\":{\\\"line\\\":{\\\"color\\\":\\\"#535353\\\"},\\\"buttons\\\":{\\\"hover\\\":{\\\"background\\\":\\\"#3e3e3e\\\"},\\\"active\\\":{\\\"border\\\":\\\"1px solid #878787\\\",\\\"background\\\":\\\"#535353\\\"},\\\"border\\\":\\\"1px solid #535353\\\"}},\\\"select\\\":{\\\"border\\\":\\\"1px solid #535353\\\",\\\"textColor\\\":\\\"#ffffff\\\"}}},\\\"colors\\\":{\\\"picker\\\":{\\\"controls\\\":{\\\"hue\\\":true,\\\"lightness\\\":true,\\\"saturation\\\":true,\\\"hexEditable\\\":true},\\\"rowCount\\\":6},\\\"neutral\\\":\\\"#535353\\\",\\\"palette\\\":[\\\"#2584af\\\",\\\"#4aa1c3\\\",\\\"#84c2df\\\",\\\"#134f34\\\",\\\"#19673c\\\",\\\"#1e7c64\\\",\\\"#595959\\\",\\\"#ff8068\\\",\\\"#b15112\\\",\\\"#6b470f\\\",\\\"#4e400f\\\"],\\\"negative\\\":\\\"#ff5f4a\\\",\\\"positive\\\":\\\"#3d6e8b\\\",\\\"gradients\\\":[[\\\"#254b8c\\\",\\\"#0a6aad\\\",\\\"#2989bd\\\",\\\"#4ba8c9\\\",\\\"#75c8c5\\\",\\\"#b6e3bb\\\",\\\"#f0f9e8\\\"],[\\\"#2c1160\\\",\\\"#6b1f7b\\\",\\\"#ac337b\\\",\\\"#e45563\\\",\\\"#fb8d67\\\",\\\"#fcfcbe\\\",\\\"#fdc78d\\\"],[\\\"#0d0787\\\",\\\"#6703a5\\\",\\\"#ac2790\\\",\\\"#d8586a\\\",\\\"#f38a47\\\",\\\"#fbbf2b\\\",\\\"#f0f723\\\"],[\\\"#007001\\\",\\\"#f6f4a6\\\"],[\\\"#42342d\\\",\\\"#683c39\\\",\\\"#8f3e55\\\",\\\"#c73a78\\\",\\\"#ff6bca\\\",\\\"#ffcbff\\\"],[\\\"#253494\\\",\\\"#2c7fb8\\\",\\\"#41b6c4\\\",\\\"#7fcdbb\\\",\\\"#c7e9b4\\\",\\\"#ffffcc\\\"],[\\\"#eba25d\\\",\\\"#7a5e12\\\",\\\"#483f21\\\",\\\"#35372d\\\",\\\"#2b4945\\\",\\\"#1f7b75\\\",\\\"#75c6bc\\\"],[\\\"#ff6cbd\\\",\\\"#8c4d71\\\",\\\"#513a46\\\",\\\"#39362d\\\",\\\"#323f22\\\",\\\"#2b6311\\\",\\\"#599e2d\\\"],[\\\"#ff9791\\\",\\\"#b15531\\\",\\\"#583f2f\\\",\\\"#37362c\\\",\\\"#354750\\\",\\\"#31799d\\\",\\\"#7badfa\\\"]],\\\"background\\\":\\\"#252525\\\",\\\"categories\\\":[[\\\"#5d4b0f\\\",\\\"#2598ae\\\",\\\"#1c6f66\\\",\\\"#5d6412\\\",\\\"#ff7e75\\\",\\\"#be5713\\\",\\\"#acc5ff\\\",\\\"#216596\\\",\\\"#13512a\\\",\\\"#244149\\\"],[\\\"#24702d\\\",\\\"#6b5d80\\\",\\\"#764914\\\",\\\"#34370f\\\",\\\"#7aa5ee\\\",\\\"#ff3a96\\\",\\\"#e57a37\\\",\\\"#aaaaaa\\\"],[\\\"#834743\\\",\\\"#3f576a\\\",\\\"#314b2c\\\",\\\"#5a4a60\\\",\\\"#5b4216\\\",\\\"#32350f\\\",\\\"#534933\\\",\\\"#573b4a\\\",\\\"#393939\\\"],[\\\"#335b6d\\\",\\\"#59a2e1\\\",\\\"#2e5a0f\\\",\\\"#289824\\\",\\\"#9f494b\\\",\\\"#ff5f4a\\\",\\\"#774a0f\\\",\\\"#c04d12\\\",\\\"#6d5878\\\",\\\"#e1abff\\\",\\\"#34370f\\\",\\\"#e58551\\\"]],\\\"bgBlendRatios\\\":{\\\"value\\\":0},\\\"chartContentBaseColor\\\":\\\"#ffffff\\\"},\\\"metadata\\\":{\\\"publish\\\":{\\\"blocks\\\":{\\\"logo\\\":{\\\"enabled\\\":false},\\\"embed\\\":false,\\\"download-pdf\\\":false,\\\"download-svg\\\":false,\\\"get-the-data\\\":true,\\\"download-image\\\":false}}},\\\"overrides\\\":[{\\\"type\\\":\\\"darkMode\\\",\\\"settings\\\":{\\\"colors.gradients\\\":[[\\\"#254b8c\\\",\\\"#0a6aad\\\",\\\"#2989bd\\\",\\\"#4ba8c9\\\",\\\"#75c8c5\\\",\\\"#b6e3bb\\\",\\\"#f0f9e8\\\"],[\\\"#2c1160\\\",\\\"#6b1f7b\\\",\\\"#ac337b\\\",\\\"#e45563\\\",\\\"#fb8d67\\\",\\\"#fcfcbe\\\",\\\"#fdc78d\\\"],[\\\"#0d0787\\\",\\\"#6703a5\\\",\\\"#ac2790\\\",\\\"#d8586a\\\",\\\"#f38a47\\\",\\\"#fbbf2b\\\",\\\"#f0f723\\\"],[\\\"#007001\\\",\\\"#f6f4a6\\\"],[\\\"#42342d\\\",\\\"#683c39\\\",\\\"#8f3e55\\\",\\\"#c73a78\\\",\\\"#ff6bca\\\",\\\"#ffcbff\\\"],[\\\"#253494\\\",\\\"#2c7fb8\\\",\\\"#41b6c4\\\",\\\"#7fcdbb\\\",\\\"#c7e9b4\\\",\\\"#ffffcc\\\"]],\\\"colors.background\\\":\\\"#252525\\\",\\\"vis.d3-maps-core.places.general.label.color.normal\\\":\\\"#000000\\\",\\\"vis.d3-maps-core.places.general.symbol.fill.normal\\\":\\\"#000000\\\",\\\"vis.d3-maps-core.places.general.label.color.inverted\\\":\\\"#e5e5e5\\\",\\\"vis.d3-maps-core.places.general.symbol.fill.inverted\\\":\\\"#e5e5e5\\\",\\\"vis.d3-maps-core.places.general.symbol.stroke.normal\\\":\\\"#bfbfbf\\\",\\\"vis.d3-maps-core.places.general.label.buffer.color.normal\\\":\\\"#bfbfbf\\\",\\\"vis.d3-dot-plot.grid.horizontal.baseLine.blendBaseColorWithBg\\\":0.85}},{\\\"type\\\":\\\"darkMode\\\",\\\"settings\\\":{\\\"vis.d3-maps-core.places.general.label.fontWeight.normal\\\":500,\\\"vis.d3-maps-core.places.general.label.fontWeight.inverted\\\":400}}],\\\"typography\\\":{\\\"chart\\\":{\\\"color\\\":\\\"#ffffff\\\",\\\"fontSize\\\":12,\\\"typeface\\\":\\\"Roboto,sans-serif\\\"},\\\"links\\\":{\\\"color\\\":\\\"#459bc7\\\",\\\"cursive\\\":0,\\\"fontWeight\\\":\\\"normal\\\",\\\"underlined\\\":0,\\\"typeface\\\":\\\"Roboto,sans-serif\\\"},\\\"notes\\\":{\\\"cursive\\\":1,\\\"fontSize\\\":12,\\\"fontWeight\\\":\\\"normal\\\",\\\"underlined\\\":0,\\\"color\\\":\\\"#bcbcbc\\\",\\\"typeface\\\":\\\"Roboto,sans-serif\\\"},\\\"footer\\\":{\\\"color\\\":\\\"#9d9d9d\\\",\\\"cursive\\\":0,\\\"fontSize\\\":11,\\\"fontWeight\\\":\\\"normal\\\",\\\"underlined\\\":0,\\\"typeface\\\":\\\"Roboto,sans-serif\\\"},\\\"headline\\\":{\\\"cursive\\\":0,\\\"fontSize\\\":22,\\\"fontWeight\\\":\\\"bold\\\",\\\"underlined\\\":0,\\\"color\\\":\\\"#ffffff\\\",\\\"typeface\\\":\\\"Roboto,sans-serif\\\"},\\\"description\\\":{\\\"cursive\\\":0,\\\"fontSize\\\":14,\\\"fontWeight\\\":\\\"normal\\\",\\\"lineHeight\\\":17,\\\"underlined\\\":0,\\\"typeface\\\":\\\"Roboto,sans-serif\\\"},\\\"fontFamilies\\\":{\\\"Roboto\\\":[{\\\"name\\\":\\\"Roboto Regular\\\",\\\"style\\\":\\\"normal\\\",\\\"weight\\\":400},{\\\"name\\\":\\\"Roboto Light\\\",\\\"style\\\":\\\"normal\\\",\\\"weight\\\":300}]}},\\\"export\\\":{\\\"pdf\\\":{\\\"fonts\\\":{\\\"Roboto Bold\\\":\\\"https://static.dwcdn.net/css/fonts/roboto/ttf/Roboto-Bold.ttf\\\",\\\"Roboto Light\\\":\\\"https://static.dwcdn.net/css/fonts/roboto/ttf/Roboto-Light.ttf\\\",\\\"Roboto Medium\\\":\\\"https://static.dwcdn.net/css/fonts/roboto/ttf/Roboto-Medium.ttf\\\",\\\"Roboto Regular\\\":\\\"https://static.dwcdn.net/css/fonts/roboto/ttf/Roboto-Regular.ttf\\\",\\\"Roboto Bold Italic\\\":\\\"https://static.dwcdn.net/css/fonts/roboto/ttf/Roboto-BoldItalic.ttf\\\",\\\"Roboto Light Italic\\\":\\\"https://static.dwcdn.net/css/fonts/roboto/ttf/Roboto-LightItalic.ttf\\\",\\\"Roboto Medium Italic\\\":\\\"https://static.dwcdn.net/css/fonts/roboto/ttf/Roboto-MediumItalic.ttf\\\",\\\"Roboto Regular Italic\\\":\\\"https://static.dwcdn.net/css/fonts/roboto/ttf/Roboto-Italic.ttf\\\"},\\\"cmykColors\\\":[],\\\"defaultFont\\\":\\\"Roboto Regular\\\"}},\\\"options\\\":{}},\\\"themeDataLight\\\":{\\\"vis\\\":{\\\"d3-bars\\\":{\\\"grid\\\":{\\\"horizontal\\\":{\\\"tickLabels\\\":{\\\"units\\\":\\\"all\\\"}}}},\\\"d3-dot-plot\\\":{\\\"grid\\\":{\\\"horizontal\\\":{\\\"baseLine\\\":{\\\"aboveChart\\\":false,\\\"blendBaseColorWithBg\\\":0.6}}}},\\\"column-chart\\\":{\\\"grid\\\":{\\\"vertical\\\":{\\\"tickLabels\\\":{\\\"hideZero\\\":true}}}},\\\"d3-maps-core\\\":{\\\"places\\\":{\\\"capital\\\":{\\\"label\\\":{\\\"fontWeight\\\":{\\\"normal\\\":700}}},\\\"general\\\":{\\\"label\\\":{\\\"color\\\":{\\\"normal\\\":\\\"#ffffff\\\",\\\"inverted\\\":\\\"#525252\\\"},\\\"buffer\\\":{\\\"color\\\":{\\\"normal\\\":\\\"#323232\\\",\\\"inverted\\\":\\\"#ffffff\\\"}},\\\"fontWeight\\\":{\\\"normal\\\":400}},\\\"symbol\\\":{\\\"fill\\\":{\\\"normal\\\":\\\"#ffffff\\\",\\\"inverted\\\":\\\"#525252\\\"},\\\"stroke\\\":{\\\"normal\\\":\\\"#323232\\\",\\\"inverted\\\":\\\"#ffffff\\\"}}}}},\\\"d3-arrow-plot\\\":{\\\"grid\\\":{\\\"vertical\\\":{\\\"gridLines\\\":{\\\"major\\\":{\\\"strokeDasharray\\\":\\\"dotted\\\"}}}}},\\\"d3-range-plot\\\":{\\\"grid\\\":{\\\"vertical\\\":{\\\"gridLines\\\":{\\\"major\\\":{\\\"strokeDasharray\\\":\\\"dotted\\\"}}}}},\\\"d3-bars-stacked\\\":{\\\"grid\\\":{\\\"horizontal\\\":{\\\"gridLines\\\":{\\\"aboveChart\\\":true}}}},\\\"d3-scatter-plot\\\":{\\\"grid\\\":{\\\"horizontal\\\":{\\\"tickLabels\\\":{\\\"units\\\":\\\"last\\\"}}}},\\\"d3-pies\\\":{\\\"labels\\\":{\\\"group\\\":{\\\"name\\\":{\\\"fontSize\\\":14}},\\\"center\\\":{\\\"fontSize\\\":14}}},\\\"d3-maps-symbols\\\":{\\\"regionFill\\\":\\\"#ededed\\\"}},\\\"style\\\":{\\\"body\\\":{\\\"padding\\\":\\\"0px\\\",\\\"background\\\":\\\"transparent\\\"},\\\"chart\\\":{\\\"grid\\\":{\\\"general\\\":{\\\"baseLine\\\":{\\\"aboveChart\\\":true},\\\"tickLines\\\":{\\\"aboveChart\\\":true},\\\"tickLabels\\\":{\\\"units\\\":\\\"first\\\",\\\"aboveChart\\\":true}}}},\\\"filter\\\":{\\\"tabs\\\":{\\\"color\\\":\\\"#666\\\",\\\"hover\\\":{\\\"color\\\":\\\"#222\\\"},\\\"active\\\":{\\\"color\\\":\\\"#000000\\\",\\\"border\\\":{\\\"bottom\\\":\\\"3px solid #555555\\\"}},\\\"border\\\":{\\\"bottom\\\":\\\"1px solid #cccccc\\\"}},\\\"point\\\":{\\\"line\\\":{\\\"color\\\":\\\"#ccc\\\"},\\\"buttons\\\":{\\\"hover\\\":{\\\"background\\\":\\\"#ebebeb\\\"},\\\"active\\\":{\\\"border\\\":\\\"1px solid #888\\\",\\\"background\\\":\\\"#ccc\\\"},\\\"border\\\":\\\"1px solid #ccc\\\"}},\\\"select\\\":{\\\"border\\\":\\\"1px solid #cccccc\\\",\\\"textColor\\\":\\\"#000\\\"}}},\\\"colors\\\":{\\\"picker\\\":{\\\"controls\\\":{\\\"hue\\\":true,\\\"lightness\\\":true,\\\"saturation\\\":true,\\\"hexEditable\\\":true},\\\"rowCount\\\":6},\\\"neutral\\\":\\\"#CCCCCC\\\",\\\"palette\\\":[\\\"#18a1cd\\\",\\\"#1d81a2\\\",\\\"#15607a\\\",\\\"#82f5cf\\\",\\\"#00dca6\\\",\\\"#09bb9f\\\",\\\"#c4c4c4\\\",\\\"#c71e1d\\\",\\\"#fa8c00\\\",\\\"#ffca76\\\",\\\"#ffe59c\\\"],\\\"negative\\\":\\\"#E31A1C\\\",\\\"positive\\\":\\\"#85B4D4\\\",\\\"gradients\\\":[[\\\"#f0f9e8\\\",\\\"#b6e3bb\\\",\\\"#75c8c5\\\",\\\"#4ba8c9\\\",\\\"#2989bd\\\",\\\"#0a6aad\\\",\\\"#254b8c\\\"],[\\\"#fcfcbe\\\",\\\"#fdc78d\\\",\\\"#fb8d67\\\",\\\"#e45563\\\",\\\"#ac337b\\\",\\\"#6b1f7b\\\",\\\"#2c1160\\\"],[\\\"#f0f723\\\",\\\"#fbbf2b\\\",\\\"#f38a47\\\",\\\"#d8586a\\\",\\\"#ac2790\\\",\\\"#6703a5\\\",\\\"#0d0787\\\"],[\\\"#fefaca\\\",\\\"#008b15\\\"],[\\\"#feebe2\\\",\\\"#fcc5c0\\\",\\\"#fa9fb5\\\",\\\"#f768a1\\\",\\\"#c51b8a\\\",\\\"#7a0177\\\"],[\\\"#ffffcc\\\",\\\"#c7e9b4\\\",\\\"#7fcdbb\\\",\\\"#41b6c4\\\",\\\"#2c7fb8\\\",\\\"#253494\\\"],[\\\"#8c510a\\\",\\\"#d8b365\\\",\\\"#f6e8c3\\\",\\\"#f5f7ea\\\",\\\"#c7eae5\\\",\\\"#5ab4ac\\\",\\\"#01665e\\\"],[\\\"#c51b7d\\\",\\\"#e9a3c9\\\",\\\"#fde0ef\\\",\\\"#faf6ea\\\",\\\"#e6f5d0\\\",\\\"#a1d76a\\\",\\\"#4d9221\\\"],[\\\"#b2182b\\\",\\\"#ef8a62\\\",\\\"#fddbc7\\\",\\\"#f8f6e9\\\",\\\"#d1e5f0\\\",\\\"#67a9cf\\\",\\\"#2166ac\\\"]],\\\"background\\\":\\\"#ffffff\\\",\\\"categories\\\":[[\\\"#F6D500\\\",\\\"#0B91A7\\\",\\\"#00CABD\\\",\\\"#C2C100\\\",\\\"#BA403E\\\",\\\"#EF7F36\\\",\\\"#2D4F84\\\",\\\"#85BDF4\\\",\\\"#9EF1BF\\\",\\\"#D3F3FD\\\"],[\\\"#7fc97f\\\",\\\"#beaed4\\\",\\\"#fdc086\\\",\\\"#ffff99\\\",\\\"#386cb0\\\",\\\"#f0027f\\\",\\\"#bf5b17\\\",\\\"#666666\\\"],[\\\"#fbb4ae\\\",\\\"#b3cde3\\\",\\\"#ccebc5\\\",\\\"#decbe4\\\",\\\"#fed9a6\\\",\\\"#ffffcc\\\",\\\"#e5d8bd\\\",\\\"#fddaec\\\",\\\"#f2f2f2\\\"],[\\\"#a6cee3\\\",\\\"#1f78b4\\\",\\\"#b2df8a\\\",\\\"#33a02c\\\",\\\"#fb9a99\\\",\\\"#e31a1c\\\",\\\"#fdbf6f\\\",\\\"#ff7f00\\\",\\\"#cab2d6\\\",\\\"#6a3d9a\\\",\\\"#ffff99\\\",\\\"#b15928\\\"]],\\\"bgBlendRatios\\\":{\\\"value\\\":0},\\\"chartContentBaseColor\\\":\\\"#181818\\\"},\\\"metadata\\\":{\\\"publish\\\":{\\\"blocks\\\":{\\\"logo\\\":{\\\"enabled\\\":false},\\\"embed\\\":false,\\\"download-pdf\\\":false,\\\"download-svg\\\":false,\\\"get-the-data\\\":true,\\\"download-image\\\":false}}},\\\"overrides\\\":[{\\\"type\\\":\\\"darkMode\\\",\\\"settings\\\":{\\\"colors.gradients\\\":[[\\\"#254b8c\\\",\\\"#0a6aad\\\",\\\"#2989bd\\\",\\\"#4ba8c9\\\",\\\"#75c8c5\\\",\\\"#b6e3bb\\\",\\\"#f0f9e8\\\"],[\\\"#2c1160\\\",\\\"#6b1f7b\\\",\\\"#ac337b\\\",\\\"#e45563\\\",\\\"#fb8d67\\\",\\\"#fcfcbe\\\",\\\"#fdc78d\\\"],[\\\"#0d0787\\\",\\\"#6703a5\\\",\\\"#ac2790\\\",\\\"#d8586a\\\",\\\"#f38a47\\\",\\\"#fbbf2b\\\",\\\"#f0f723\\\"],[\\\"#007001\\\",\\\"#f6f4a6\\\"],[\\\"#42342d\\\",\\\"#683c39\\\",\\\"#8f3e55\\\",\\\"#c73a78\\\",\\\"#ff6bca\\\",\\\"#ffcbff\\\"],[\\\"#253494\\\",\\\"#2c7fb8\\\",\\\"#41b6c4\\\",\\\"#7fcdbb\\\",\\\"#c7e9b4\\\",\\\"#ffffcc\\\"]],\\\"colors.background\\\":\\\"#252525\\\",\\\"vis.d3-maps-core.places.general.label.color.normal\\\":\\\"#000000\\\",\\\"vis.d3-maps-core.places.general.symbol.fill.normal\\\":\\\"#000000\\\",\\\"vis.d3-maps-core.places.general.label.color.inverted\\\":\\\"#e5e5e5\\\",\\\"vis.d3-maps-core.places.general.symbol.fill.inverted\\\":\\\"#e5e5e5\\\",\\\"vis.d3-maps-core.places.general.symbol.stroke.normal\\\":\\\"#bfbfbf\\\",\\\"vis.d3-maps-core.places.general.label.buffer.color.normal\\\":\\\"#bfbfbf\\\",\\\"vis.d3-dot-plot.grid.horizontal.baseLine.blendBaseColorWithBg\\\":0.85}},{\\\"type\\\":\\\"darkMode\\\",\\\"settings\\\":{\\\"vis.d3-maps-core.places.general.label.fontWeight.normal\\\":500,\\\"vis.d3-maps-core.places.general.label.fontWeight.inverted\\\":400}}],\\\"typography\\\":{\\\"chart\\\":{\\\"color\\\":\\\"#181818\\\",\\\"fontSize\\\":12,\\\"typeface\\\":\\\"Roboto,sans-serif\\\"},\\\"links\\\":{\\\"color\\\":\\\"#18a1cd\\\",\\\"cursive\\\":0,\\\"fontWeight\\\":\\\"normal\\\",\\\"underlined\\\":0,\\\"typeface\\\":\\\"Roboto,sans-serif\\\"},\\\"notes\\\":{\\\"cursive\\\":1,\\\"fontSize\\\":12,\\\"fontWeight\\\":\\\"normal\\\",\\\"underlined\\\":0,\\\"color\\\":\\\"#656565\\\",\\\"typeface\\\":\\\"Roboto,sans-serif\\\"},\\\"footer\\\":{\\\"color\\\":\\\"#888\\\",\\\"cursive\\\":0,\\\"fontSize\\\":11,\\\"fontWeight\\\":\\\"normal\\\",\\\"underlined\\\":0,\\\"typeface\\\":\\\"Roboto,sans-serif\\\"},\\\"headline\\\":{\\\"cursive\\\":0,\\\"fontSize\\\":22,\\\"fontWeight\\\":\\\"bold\\\",\\\"underlined\\\":0,\\\"color\\\":\\\"#000000\\\",\\\"typeface\\\":\\\"Roboto,sans-serif\\\"},\\\"description\\\":{\\\"cursive\\\":0,\\\"fontSize\\\":14,\\\"fontWeight\\\":\\\"normal\\\",\\\"lineHeight\\\":17,\\\"underlined\\\":0,\\\"typeface\\\":\\\"Roboto,sans-serif\\\"},\\\"fontFamilies\\\":{\\\"Roboto\\\":[{\\\"name\\\":\\\"Roboto Regular\\\",\\\"style\\\":\\\"normal\\\",\\\"weight\\\":400},{\\\"name\\\":\\\"Roboto Light\\\",\\\"style\\\":\\\"normal\\\",\\\"weight\\\":300}]}},\\\"export\\\":{\\\"pdf\\\":{\\\"fonts\\\":{\\\"Roboto Bold\\\":\\\"https://static.dwcdn.net/css/fonts/roboto/ttf/Roboto-Bold.ttf\\\",\\\"Roboto Light\\\":\\\"https://static.dwcdn.net/css/fonts/roboto/ttf/Roboto-Light.ttf\\\",\\\"Roboto Medium\\\":\\\"https://static.dwcdn.net/css/fonts/roboto/ttf/Roboto-Medium.ttf\\\",\\\"Roboto Regular\\\":\\\"https://static.dwcdn.net/css/fonts/roboto/ttf/Roboto-Regular.ttf\\\",\\\"Roboto Bold Italic\\\":\\\"https://static.dwcdn.net/css/fonts/roboto/ttf/Roboto-BoldItalic.ttf\\\",\\\"Roboto Light Italic\\\":\\\"https://static.dwcdn.net/css/fonts/roboto/ttf/Roboto-LightItalic.ttf\\\",\\\"Roboto Medium Italic\\\":\\\"https://static.dwcdn.net/css/fonts/roboto/ttf/Roboto-MediumItalic.ttf\\\",\\\"Roboto Regular Italic\\\":\\\"https://static.dwcdn.net/css/fonts/roboto/ttf/Roboto-Italic.ttf\\\"},\\\"cmykColors\\\":[],\\\"defaultFont\\\":\\\"Roboto Regular\\\"}},\\\"options\\\":{}}}\");\n",
       "  window.__DW_SVELTE_PROPS__.isStylePlain = /[?&]plain=(1|true)/.test(window.location.search);\n",
       "  window.__DW_SVELTE_PROPS__.isStyleStatic = /[?&]static=(1|true)/.test(window.location.search);\n",
       "  window.__DW_SVELTE_PROPS__.isStyleDark = isDark;\n",
       "  window.__DW_SVELTE_PROPS__.isAutoDark = autoDark;\n",
       "})();\n",
       "</script><script src=\"../../lib/load-polyfills.8d683c3e.js\"></script><script src=\"../../lib/vendor/dw-2.0.min.210b2008.js\"></script><script src=\"../../lib/vis/tables.68b52423.js\"></script><script>window.parent.postMessage('datawrapper:vis:reload', '*');\n",
       "</script><script src=\"../../lib/main.314d884b.js\"></script></body></html>"
      ]
     },
     "execution_count": 26,
     "metadata": {},
     "output_type": "execute_result"
    }
   ],
   "source": [
    "soup2"
   ]
  },
  {
   "cell_type": "code",
   "execution_count": 27,
   "metadata": {
    "execution": {
     "iopub.execute_input": "2022-04-18T08:20:34.179340Z",
     "iopub.status.busy": "2022-04-18T08:20:34.178741Z",
     "iopub.status.idle": "2022-04-18T08:20:34.315181Z",
     "shell.execute_reply": "2022-04-18T08:20:34.314513Z"
    }
   },
   "outputs": [
    {
     "ename": "NameError",
     "evalue": "name 'tbody' is not defined",
     "output_type": "error",
     "traceback": [
      "\u001b[0;31m---------------------------------------------------------------------------\u001b[0m",
      "\u001b[0;31mNameError\u001b[0m                                 Traceback (most recent call last)",
      "\u001b[0;32m/tmp/ipykernel_2281/3021448514.py\u001b[0m in \u001b[0;36m<module>\u001b[0;34m\u001b[0m\n\u001b[0;32m----> 1\u001b[0;31m \u001b[0mrow_list\u001b[0m \u001b[0;34m=\u001b[0m \u001b[0mtbody\u001b[0m\u001b[0;34m.\u001b[0m\u001b[0mfind_all\u001b[0m\u001b[0;34m(\u001b[0m\u001b[0;34m\"tr\"\u001b[0m\u001b[0;34m)\u001b[0m\u001b[0;34m[\u001b[0m\u001b[0;36m1\u001b[0m\u001b[0;34m:\u001b[0m\u001b[0;34m]\u001b[0m\u001b[0;34m\u001b[0m\u001b[0;34m\u001b[0m\u001b[0m\n\u001b[0m",
      "\u001b[0;31mNameError\u001b[0m: name 'tbody' is not defined"
     ]
    }
   ],
   "source": [
    "row_list = tbody.find_all(\"tr\")[1:]"
   ]
  },
  {
   "cell_type": "code",
   "execution_count": null,
   "metadata": {},
   "outputs": [],
   "source": [
    "dict_list = []"
   ]
  },
  {
   "cell_type": "code",
   "execution_count": null,
   "metadata": {},
   "outputs": [],
   "source": [
    "def safetxt(element):\n",
    "    v = element.text.strip()\n",
    "    v = v.replace(\"\\u200b\", \"\")\n",
    "    return v"
   ]
  },
  {
   "cell_type": "code",
   "execution_count": null,
   "metadata": {},
   "outputs": [],
   "source": [
    "def safenumber(element):\n",
    "    v = safetxt(element)\n",
    "    v = v.replace(\",\", \"\")\n",
    "    v = v.replace(\" \", \"\")\n",
    "    return v"
   ]
  },
  {
   "cell_type": "code",
   "execution_count": null,
   "metadata": {},
   "outputs": [],
   "source": [
    "for row in row_list:\n",
    "    cell_list = row.find_all(\"td\")\n",
    "    d = dict(\n",
    "        county=\"Mendocino\",\n",
    "        area=safetxt(cell_list[0]),\n",
    "        confirmed_cases=safenumber(cell_list[1]),\n",
    "    )\n",
    "    dict_list.append(d)"
   ]
  },
  {
   "cell_type": "code",
   "execution_count": null,
   "metadata": {},
   "outputs": [],
   "source": [
    "df = pd.DataFrame(dict_list)"
   ]
  },
  {
   "cell_type": "code",
   "execution_count": null,
   "metadata": {},
   "outputs": [],
   "source": [
    "df[\"county_date\"] = latest_date"
   ]
  },
  {
   "cell_type": "markdown",
   "metadata": {},
   "source": [
    "## Vet"
   ]
  },
  {
   "cell_type": "code",
   "execution_count": null,
   "metadata": {},
   "outputs": [],
   "source": [
    "try:\n",
    "    assert not len(df) > 5\n",
    "except AssertionError:\n",
    "    raise AssertionError(\"Mendocino's area scraper has extra rows\")"
   ]
  },
  {
   "cell_type": "code",
   "execution_count": null,
   "metadata": {},
   "outputs": [],
   "source": [
    "try:\n",
    "    assert not len(df) < 5\n",
    "except AssertionError:\n",
    "    raise AssertionError(\"Mendocino's area scraper is missing rows\")"
   ]
  },
  {
   "cell_type": "markdown",
   "metadata": {},
   "source": [
    "## Export"
   ]
  },
  {
   "cell_type": "markdown",
   "metadata": {},
   "source": [
    "Set date"
   ]
  },
  {
   "cell_type": "code",
   "execution_count": null,
   "metadata": {},
   "outputs": [],
   "source": [
    "tz = pytz.timezone(\"America/Los_Angeles\")"
   ]
  },
  {
   "cell_type": "code",
   "execution_count": null,
   "metadata": {},
   "outputs": [],
   "source": [
    "today = datetime.now(tz).date()"
   ]
  },
  {
   "cell_type": "code",
   "execution_count": null,
   "metadata": {},
   "outputs": [],
   "source": [
    "slug = \"mendocino\""
   ]
  },
  {
   "cell_type": "code",
   "execution_count": null,
   "metadata": {},
   "outputs": [],
   "source": [
    "df.to_csv(data_dir / slug / f\"{today}.csv\", index=False)"
   ]
  },
  {
   "cell_type": "markdown",
   "metadata": {},
   "source": [
    "## Combine"
   ]
  },
  {
   "cell_type": "code",
   "execution_count": null,
   "metadata": {},
   "outputs": [],
   "source": [
    "csv_list = [\n",
    "    i\n",
    "    for i in glob.glob(str(data_dir / slug / \"*.csv\"))\n",
    "    if not str(i).endswith(\"timeseries.csv\")\n",
    "]"
   ]
  },
  {
   "cell_type": "code",
   "execution_count": null,
   "metadata": {},
   "outputs": [],
   "source": [
    "df_list = []\n",
    "for csv in csv_list:\n",
    "    if \"manual\" in csv:\n",
    "        df = pd.read_csv(csv, parse_dates=[\"date\"])\n",
    "    else:\n",
    "        file_date = csv.split(\"/\")[-1].replace(\".csv\", \"\")\n",
    "        df = pd.read_csv(csv, parse_dates=[\"county_date\"])\n",
    "        df[\"date\"] = file_date\n",
    "    df_list.append(df)"
   ]
  },
  {
   "cell_type": "code",
   "execution_count": null,
   "metadata": {},
   "outputs": [],
   "source": [
    "df = pd.concat(df_list).sort_values([\"date\", \"area\"])"
   ]
  },
  {
   "cell_type": "code",
   "execution_count": null,
   "metadata": {},
   "outputs": [],
   "source": [
    "df.to_csv(data_dir / slug / \"timeseries.csv\", index=False)"
   ]
  },
  {
   "cell_type": "code",
   "execution_count": null,
   "metadata": {},
   "outputs": [],
   "source": []
  },
  {
   "cell_type": "code",
   "execution_count": null,
   "metadata": {},
   "outputs": [],
   "source": []
  }
 ],
 "metadata": {
  "kernelspec": {
   "display_name": "Python 3 (ipykernel)",
   "language": "python",
   "name": "python3"
  },
  "language_info": {
   "codemirror_mode": {
    "name": "ipython",
    "version": 3
   },
   "file_extension": ".py",
   "mimetype": "text/x-python",
   "name": "python",
   "nbconvert_exporter": "python",
   "pygments_lexer": "ipython3",
   "version": "3.8.12"
  }
 },
 "nbformat": 4,
 "nbformat_minor": 4
}
