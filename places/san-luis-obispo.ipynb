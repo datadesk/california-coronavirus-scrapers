{
 "cells": [
  {
   "cell_type": "markdown",
   "metadata": {},
   "source": [
    "## Configuration\n",
    "_Initial steps to get the notebook ready to play nice with our repository. Do not delete this section._"
   ]
  },
  {
   "cell_type": "markdown",
   "metadata": {},
   "source": [
    "Code formatting with [black](https://pypi.org/project/nb-black/)."
   ]
  },
  {
   "cell_type": "code",
   "execution_count": 1,
   "metadata": {
    "execution": {
     "iopub.execute_input": "2022-01-27T12:24:30.068645Z",
     "iopub.status.busy": "2022-01-27T12:24:30.068137Z",
     "iopub.status.idle": "2022-01-27T12:24:30.177200Z",
     "shell.execute_reply": "2022-01-27T12:24:30.176522Z"
    }
   },
   "outputs": [],
   "source": [
    "%load_ext lab_black"
   ]
  },
  {
   "cell_type": "code",
   "execution_count": 2,
   "metadata": {
    "execution": {
     "iopub.execute_input": "2022-01-27T12:24:30.181493Z",
     "iopub.status.busy": "2022-01-27T12:24:30.180948Z",
     "iopub.status.idle": "2022-01-27T12:24:30.187911Z",
     "shell.execute_reply": "2022-01-27T12:24:30.187545Z"
    }
   },
   "outputs": [],
   "source": [
    "import os\n",
    "import pytz\n",
    "import glob\n",
    "import pathlib\n",
    "\n",
    "this_dir = pathlib.Path(os.path.abspath(\"\"))\n",
    "data_dir = this_dir / \"data\""
   ]
  },
  {
   "cell_type": "code",
   "execution_count": 3,
   "metadata": {
    "execution": {
     "iopub.execute_input": "2022-01-27T12:24:30.190146Z",
     "iopub.status.busy": "2022-01-27T12:24:30.189741Z",
     "iopub.status.idle": "2022-01-27T12:24:30.659299Z",
     "shell.execute_reply": "2022-01-27T12:24:30.659835Z"
    }
   },
   "outputs": [],
   "source": [
    "import requests\n",
    "import pandas as pd\n",
    "from bs4 import BeautifulSoup\n",
    "import json\n",
    "import re\n",
    "from datetime import datetime, date, timedelta\n",
    "from slugify import slugify\n",
    "from playwright.async_api import async_playwright"
   ]
  },
  {
   "cell_type": "markdown",
   "metadata": {},
   "source": [
    "## Download"
   ]
  },
  {
   "cell_type": "markdown",
   "metadata": {},
   "source": [
    "Retrieve the page"
   ]
  },
  {
   "cell_type": "code",
   "execution_count": 4,
   "metadata": {
    "execution": {
     "iopub.execute_input": "2022-01-27T12:24:30.664585Z",
     "iopub.status.busy": "2022-01-27T12:24:30.664155Z",
     "iopub.status.idle": "2022-01-27T12:24:30.666980Z",
     "shell.execute_reply": "2022-01-27T12:24:30.666642Z"
    }
   },
   "outputs": [],
   "source": [
    "url = \"https://e.infogram.com/1c8458d3-1302-4c47-bd47-24366f127b72?parent_url=https%3A%2F%2Fwww.emergencyslo.org%2Fen%2Fpositive-case-details.aspx&src=embed#\""
   ]
  },
  {
   "cell_type": "code",
   "execution_count": 5,
   "metadata": {
    "execution": {
     "iopub.execute_input": "2022-01-27T12:24:30.670559Z",
     "iopub.status.busy": "2022-01-27T12:24:30.669612Z",
     "iopub.status.idle": "2022-01-27T12:24:30.673006Z",
     "shell.execute_reply": "2022-01-27T12:24:30.672600Z"
    }
   },
   "outputs": [],
   "source": [
    "url = \"https://e.infogram.com/6d3c0cf1-4960-4340-9872-78dd22cb991a?parent_url=https%3A%2F%2Fwww.slocounty.ca.gov%2FCOVID-19%2FData.aspx&src=embed#\""
   ]
  },
  {
   "cell_type": "code",
   "execution_count": 6,
   "metadata": {
    "execution": {
     "iopub.execute_input": "2022-01-27T12:24:30.675863Z",
     "iopub.status.busy": "2022-01-27T12:24:30.675425Z",
     "iopub.status.idle": "2022-01-27T12:24:31.635596Z",
     "shell.execute_reply": "2022-01-27T12:24:31.635038Z"
    }
   },
   "outputs": [],
   "source": [
    "page = requests.get(url)"
   ]
  },
  {
   "cell_type": "code",
   "execution_count": 7,
   "metadata": {
    "execution": {
     "iopub.execute_input": "2022-01-27T12:24:31.645439Z",
     "iopub.status.busy": "2022-01-27T12:24:31.644273Z",
     "iopub.status.idle": "2022-01-27T12:24:31.645936Z",
     "shell.execute_reply": "2022-01-27T12:24:31.646270Z"
    }
   },
   "outputs": [],
   "source": [
    "soup = BeautifulSoup(page.content, \"html.parser\")"
   ]
  },
  {
   "cell_type": "markdown",
   "metadata": {},
   "source": [
    "## Parse"
   ]
  },
  {
   "cell_type": "markdown",
   "metadata": {},
   "source": [
    "Find script tag with the Infogram data"
   ]
  },
  {
   "cell_type": "code",
   "execution_count": 8,
   "metadata": {
    "execution": {
     "iopub.execute_input": "2022-01-27T12:24:31.652143Z",
     "iopub.status.busy": "2022-01-27T12:24:31.651343Z",
     "iopub.status.idle": "2022-01-27T12:24:31.652905Z",
     "shell.execute_reply": "2022-01-27T12:24:31.653243Z"
    }
   },
   "outputs": [],
   "source": [
    "for elem in soup(text=re.compile(r\"window.infographicData\")):\n",
    "    script = elem"
   ]
  },
  {
   "cell_type": "code",
   "execution_count": 9,
   "metadata": {
    "execution": {
     "iopub.execute_input": "2022-01-27T12:24:31.657097Z",
     "iopub.status.busy": "2022-01-27T12:24:31.656691Z",
     "iopub.status.idle": "2022-01-27T12:24:31.659686Z",
     "shell.execute_reply": "2022-01-27T12:24:31.659330Z"
    }
   },
   "outputs": [],
   "source": [
    "stripped_script = re.sub(\"window.infographicData=\", \"\", script)"
   ]
  },
  {
   "cell_type": "code",
   "execution_count": 10,
   "metadata": {
    "execution": {
     "iopub.execute_input": "2022-01-27T12:24:31.664080Z",
     "iopub.status.busy": "2022-01-27T12:24:31.663304Z",
     "iopub.status.idle": "2022-01-27T12:24:31.664649Z",
     "shell.execute_reply": "2022-01-27T12:24:31.665035Z"
    }
   },
   "outputs": [],
   "source": [
    "stripped_script = stripped_script.rstrip(\";\")"
   ]
  },
  {
   "cell_type": "code",
   "execution_count": 11,
   "metadata": {
    "execution": {
     "iopub.execute_input": "2022-01-27T12:24:31.675900Z",
     "iopub.status.busy": "2022-01-27T12:24:31.675153Z",
     "iopub.status.idle": "2022-01-27T12:24:31.676685Z",
     "shell.execute_reply": "2022-01-27T12:24:31.677025Z"
    }
   },
   "outputs": [],
   "source": [
    "data = json.loads(stripped_script)"
   ]
  },
  {
   "cell_type": "code",
   "execution_count": 12,
   "metadata": {
    "execution": {
     "iopub.execute_input": "2022-01-27T12:24:31.680999Z",
     "iopub.status.busy": "2022-01-27T12:24:31.680544Z",
     "iopub.status.idle": "2022-01-27T12:24:31.684807Z",
     "shell.execute_reply": "2022-01-27T12:24:31.684454Z"
    }
   },
   "outputs": [],
   "source": [
    "cities = [\n",
    "    x\n",
    "    for x in data[\"elements\"]\n",
    "    ##if x[\"object_id\"] == \"3695dc89-8a1c-4aa2-951b-11eb68e147ac\"\n",
    "    if x[\"object_id\"] == \"ebb96e22-3766-4a73-a776-90c533b379b5\"\n",
    "]\n",
    "\n",
    "# \"ebb96e22-3766-4a73-a776-90c533b379b5\"\n",
    "# \"e024d6eb-623f-48fc-8345-19a937721f7d\""
   ]
  },
  {
   "cell_type": "code",
   "execution_count": null,
   "metadata": {},
   "outputs": [],
   "source": []
  },
  {
   "cell_type": "code",
   "execution_count": 13,
   "metadata": {
    "execution": {
     "iopub.execute_input": "2022-01-27T12:24:31.688665Z",
     "iopub.status.busy": "2022-01-27T12:24:31.687566Z",
     "iopub.status.idle": "2022-01-27T12:24:31.690380Z",
     "shell.execute_reply": "2022-01-27T12:24:31.690051Z"
    }
   },
   "outputs": [],
   "source": [
    "city_list = cities[0][\"data\"][0]"
   ]
  },
  {
   "cell_type": "code",
   "execution_count": 14,
   "metadata": {
    "execution": {
     "iopub.execute_input": "2022-01-27T12:24:31.693665Z",
     "iopub.status.busy": "2022-01-27T12:24:31.693256Z",
     "iopub.status.idle": "2022-01-27T12:24:31.696431Z",
     "shell.execute_reply": "2022-01-27T12:24:31.696078Z"
    }
   },
   "outputs": [],
   "source": [
    "not_empty = [ele for ele in city_list if ele[0] != \"\"]"
   ]
  },
  {
   "cell_type": "code",
   "execution_count": 15,
   "metadata": {
    "execution": {
     "iopub.execute_input": "2022-01-27T12:24:31.700840Z",
     "iopub.status.busy": "2022-01-27T12:24:31.698761Z",
     "iopub.status.idle": "2022-01-27T12:24:31.703518Z",
     "shell.execute_reply": "2022-01-27T12:24:31.703168Z"
    }
   },
   "outputs": [],
   "source": [
    "df = pd.DataFrame(not_empty)"
   ]
  },
  {
   "cell_type": "code",
   "execution_count": 16,
   "metadata": {
    "execution": {
     "iopub.execute_input": "2022-01-27T12:24:31.707596Z",
     "iopub.status.busy": "2022-01-27T12:24:31.707170Z",
     "iopub.status.idle": "2022-01-27T12:24:31.710444Z",
     "shell.execute_reply": "2022-01-27T12:24:31.710071Z"
    }
   },
   "outputs": [],
   "source": [
    "df.columns = df.iloc[0]\n",
    "df = df[1:]"
   ]
  },
  {
   "cell_type": "code",
   "execution_count": 17,
   "metadata": {
    "execution": {
     "iopub.execute_input": "2022-01-27T12:24:31.718733Z",
     "iopub.status.busy": "2022-01-27T12:24:31.711952Z",
     "iopub.status.idle": "2022-01-27T12:24:31.738010Z",
     "shell.execute_reply": "2022-01-27T12:24:31.737648Z"
    }
   },
   "outputs": [
    {
     "data": {
      "text/html": [
       "<div>\n",
       "<style scoped>\n",
       "    .dataframe tbody tr th:only-of-type {\n",
       "        vertical-align: middle;\n",
       "    }\n",
       "\n",
       "    .dataframe tbody tr th {\n",
       "        vertical-align: top;\n",
       "    }\n",
       "\n",
       "    .dataframe thead th {\n",
       "        text-align: right;\n",
       "    }\n",
       "</style>\n",
       "<table border=\"1\" class=\"dataframe\">\n",
       "  <thead>\n",
       "    <tr style=\"text-align: right;\">\n",
       "      <th></th>\n",
       "      <th>Date</th>\n",
       "      <th>Arroyo Grande</th>\n",
       "      <th>Atascadero</th>\n",
       "      <th>Grover Beach</th>\n",
       "      <th>Nipomo</th>\n",
       "      <th>Paso Robles</th>\n",
       "      <th>San Luis Obispo</th>\n",
       "      <th>Templeton</th>\n",
       "      <th>CMC (Inmates)</th>\n",
       "      <th>Pismo Beach</th>\n",
       "      <th>...</th>\n",
       "      <th>Shandon</th>\n",
       "      <th>Cal Poly (campus residents)</th>\n",
       "      <th>Cayucos</th>\n",
       "      <th>Avila</th>\n",
       "      <th>Santa Margarita</th>\n",
       "      <th>Creston</th>\n",
       "      <th>San Simeon</th>\n",
       "      <th>Bradley</th>\n",
       "      <th>ASH (patients)</th>\n",
       "      <th>NaN</th>\n",
       "    </tr>\n",
       "  </thead>\n",
       "  <tbody>\n",
       "    <tr>\n",
       "      <th>1</th>\n",
       "      <td>3/14/2020</td>\n",
       "      <td></td>\n",
       "      <td></td>\n",
       "      <td></td>\n",
       "      <td></td>\n",
       "      <td></td>\n",
       "      <td></td>\n",
       "      <td></td>\n",
       "      <td></td>\n",
       "      <td></td>\n",
       "      <td>...</td>\n",
       "      <td></td>\n",
       "      <td></td>\n",
       "      <td></td>\n",
       "      <td></td>\n",
       "      <td></td>\n",
       "      <td></td>\n",
       "      <td></td>\n",
       "      <td></td>\n",
       "      <td></td>\n",
       "      <td>None</td>\n",
       "    </tr>\n",
       "    <tr>\n",
       "      <th>2</th>\n",
       "      <td>3/15/2020</td>\n",
       "      <td></td>\n",
       "      <td></td>\n",
       "      <td></td>\n",
       "      <td></td>\n",
       "      <td></td>\n",
       "      <td></td>\n",
       "      <td></td>\n",
       "      <td></td>\n",
       "      <td></td>\n",
       "      <td>...</td>\n",
       "      <td></td>\n",
       "      <td></td>\n",
       "      <td></td>\n",
       "      <td></td>\n",
       "      <td></td>\n",
       "      <td></td>\n",
       "      <td></td>\n",
       "      <td></td>\n",
       "      <td></td>\n",
       "      <td>None</td>\n",
       "    </tr>\n",
       "    <tr>\n",
       "      <th>3</th>\n",
       "      <td>3/16/2020</td>\n",
       "      <td></td>\n",
       "      <td></td>\n",
       "      <td></td>\n",
       "      <td></td>\n",
       "      <td></td>\n",
       "      <td></td>\n",
       "      <td></td>\n",
       "      <td></td>\n",
       "      <td></td>\n",
       "      <td>...</td>\n",
       "      <td></td>\n",
       "      <td></td>\n",
       "      <td></td>\n",
       "      <td></td>\n",
       "      <td></td>\n",
       "      <td></td>\n",
       "      <td></td>\n",
       "      <td></td>\n",
       "      <td></td>\n",
       "      <td>None</td>\n",
       "    </tr>\n",
       "    <tr>\n",
       "      <th>4</th>\n",
       "      <td>3/17/2020</td>\n",
       "      <td></td>\n",
       "      <td></td>\n",
       "      <td></td>\n",
       "      <td></td>\n",
       "      <td></td>\n",
       "      <td></td>\n",
       "      <td></td>\n",
       "      <td></td>\n",
       "      <td></td>\n",
       "      <td>...</td>\n",
       "      <td></td>\n",
       "      <td></td>\n",
       "      <td></td>\n",
       "      <td></td>\n",
       "      <td></td>\n",
       "      <td></td>\n",
       "      <td></td>\n",
       "      <td></td>\n",
       "      <td></td>\n",
       "      <td>None</td>\n",
       "    </tr>\n",
       "    <tr>\n",
       "      <th>5</th>\n",
       "      <td>3/18/2020</td>\n",
       "      <td></td>\n",
       "      <td></td>\n",
       "      <td></td>\n",
       "      <td></td>\n",
       "      <td></td>\n",
       "      <td></td>\n",
       "      <td></td>\n",
       "      <td></td>\n",
       "      <td></td>\n",
       "      <td>...</td>\n",
       "      <td></td>\n",
       "      <td></td>\n",
       "      <td></td>\n",
       "      <td></td>\n",
       "      <td></td>\n",
       "      <td></td>\n",
       "      <td></td>\n",
       "      <td></td>\n",
       "      <td></td>\n",
       "      <td>None</td>\n",
       "    </tr>\n",
       "    <tr>\n",
       "      <th>...</th>\n",
       "      <td>...</td>\n",
       "      <td>...</td>\n",
       "      <td>...</td>\n",
       "      <td>...</td>\n",
       "      <td>...</td>\n",
       "      <td>...</td>\n",
       "      <td>...</td>\n",
       "      <td>...</td>\n",
       "      <td>...</td>\n",
       "      <td>...</td>\n",
       "      <td>...</td>\n",
       "      <td>...</td>\n",
       "      <td>...</td>\n",
       "      <td>...</td>\n",
       "      <td>...</td>\n",
       "      <td>...</td>\n",
       "      <td>...</td>\n",
       "      <td>...</td>\n",
       "      <td>...</td>\n",
       "      <td>...</td>\n",
       "      <td>...</td>\n",
       "    </tr>\n",
       "    <tr>\n",
       "      <th>680</th>\n",
       "      <td>1/21/2022</td>\n",
       "      <td>3649</td>\n",
       "      <td>4496</td>\n",
       "      <td>1953</td>\n",
       "      <td>3315</td>\n",
       "      <td>7923</td>\n",
       "      <td>8235</td>\n",
       "      <td>1494</td>\n",
       "      <td>2549</td>\n",
       "      <td>863</td>\n",
       "      <td>...</td>\n",
       "      <td>312</td>\n",
       "      <td>849</td>\n",
       "      <td>236</td>\n",
       "      <td>85</td>\n",
       "      <td>317</td>\n",
       "      <td>175</td>\n",
       "      <td>64</td>\n",
       "      <td>36</td>\n",
       "      <td>249</td>\n",
       "      <td>None</td>\n",
       "    </tr>\n",
       "    <tr>\n",
       "      <th>681</th>\n",
       "      <td>1/22/2022</td>\n",
       "      <td>3661</td>\n",
       "      <td>4511</td>\n",
       "      <td>1959</td>\n",
       "      <td>3325</td>\n",
       "      <td>7983</td>\n",
       "      <td>8273</td>\n",
       "      <td>1501</td>\n",
       "      <td>2554</td>\n",
       "      <td>864</td>\n",
       "      <td>...</td>\n",
       "      <td>313</td>\n",
       "      <td>854</td>\n",
       "      <td>236</td>\n",
       "      <td>87</td>\n",
       "      <td>318</td>\n",
       "      <td>177</td>\n",
       "      <td>65</td>\n",
       "      <td>37</td>\n",
       "      <td>253</td>\n",
       "      <td>357</td>\n",
       "    </tr>\n",
       "    <tr>\n",
       "      <th>682</th>\n",
       "      <td>1/23/2022</td>\n",
       "      <td>3669</td>\n",
       "      <td>4528</td>\n",
       "      <td>1964</td>\n",
       "      <td>3338</td>\n",
       "      <td>8033</td>\n",
       "      <td>8290</td>\n",
       "      <td>1507</td>\n",
       "      <td>2559</td>\n",
       "      <td>866</td>\n",
       "      <td>...</td>\n",
       "      <td>314</td>\n",
       "      <td>855</td>\n",
       "      <td>233</td>\n",
       "      <td>88</td>\n",
       "      <td>319</td>\n",
       "      <td>179</td>\n",
       "      <td>65</td>\n",
       "      <td>37</td>\n",
       "      <td>253</td>\n",
       "      <td>353</td>\n",
       "    </tr>\n",
       "    <tr>\n",
       "      <th>683</th>\n",
       "      <td>1/24/2022</td>\n",
       "      <td>3734</td>\n",
       "      <td>4611</td>\n",
       "      <td>2008</td>\n",
       "      <td>3406</td>\n",
       "      <td>8190</td>\n",
       "      <td>8450</td>\n",
       "      <td>1527</td>\n",
       "      <td>2571</td>\n",
       "      <td>895</td>\n",
       "      <td>...</td>\n",
       "      <td>319</td>\n",
       "      <td>857</td>\n",
       "      <td>242</td>\n",
       "      <td>91</td>\n",
       "      <td>324</td>\n",
       "      <td>179</td>\n",
       "      <td>66</td>\n",
       "      <td>37</td>\n",
       "      <td>258</td>\n",
       "      <td>362</td>\n",
       "    </tr>\n",
       "    <tr>\n",
       "      <th>684</th>\n",
       "      <td>1/25/2022</td>\n",
       "      <td>3831</td>\n",
       "      <td>4710</td>\n",
       "      <td>2063</td>\n",
       "      <td>3518</td>\n",
       "      <td>8365</td>\n",
       "      <td>8676</td>\n",
       "      <td>1552</td>\n",
       "      <td>2575</td>\n",
       "      <td>919</td>\n",
       "      <td>...</td>\n",
       "      <td>323</td>\n",
       "      <td>868</td>\n",
       "      <td>246</td>\n",
       "      <td>94</td>\n",
       "      <td>332</td>\n",
       "      <td>182</td>\n",
       "      <td>66</td>\n",
       "      <td>38</td>\n",
       "      <td>266</td>\n",
       "      <td>374</td>\n",
       "    </tr>\n",
       "  </tbody>\n",
       "</table>\n",
       "<p>684 rows × 25 columns</p>\n",
       "</div>"
      ],
      "text/plain": [
       "0         Date Arroyo Grande Atascadero Grover Beach Nipomo Paso Robles  \\\n",
       "1    3/14/2020                                                            \n",
       "2    3/15/2020                                                            \n",
       "3    3/16/2020                                                            \n",
       "4    3/17/2020                                                            \n",
       "5    3/18/2020                                                            \n",
       "..         ...           ...        ...          ...    ...         ...   \n",
       "680  1/21/2022          3649       4496         1953   3315        7923   \n",
       "681  1/22/2022          3661       4511         1959   3325        7983   \n",
       "682  1/23/2022          3669       4528         1964   3338        8033   \n",
       "683  1/24/2022          3734       4611         2008   3406        8190   \n",
       "684  1/25/2022          3831       4710         2063   3518        8365   \n",
       "\n",
       "0   San Luis Obispo Templeton CMC (Inmates) Pismo Beach  ... Shandon  \\\n",
       "1                                                        ...           \n",
       "2                                                        ...           \n",
       "3                                                        ...           \n",
       "4                                                        ...           \n",
       "5                                                        ...           \n",
       "..              ...       ...           ...         ...  ...     ...   \n",
       "680            8235      1494          2549         863  ...     312   \n",
       "681            8273      1501          2554         864  ...     313   \n",
       "682            8290      1507          2559         866  ...     314   \n",
       "683            8450      1527          2571         895  ...     319   \n",
       "684            8676      1552          2575         919  ...     323   \n",
       "\n",
       "0   Cal Poly (campus residents) Cayucos Avila Santa Margarita Creston  \\\n",
       "1                                                                       \n",
       "2                                                                       \n",
       "3                                                                       \n",
       "4                                                                       \n",
       "5                                                                       \n",
       "..                          ...     ...   ...             ...     ...   \n",
       "680                         849     236    85             317     175   \n",
       "681                         854     236    87             318     177   \n",
       "682                         855     233    88             319     179   \n",
       "683                         857     242    91             324     179   \n",
       "684                         868     246    94             332     182   \n",
       "\n",
       "0   San Simeon Bradley ASH (patients)   NaN  \n",
       "1                                      None  \n",
       "2                                      None  \n",
       "3                                      None  \n",
       "4                                      None  \n",
       "5                                      None  \n",
       "..         ...     ...            ...   ...  \n",
       "680         64      36            249  None  \n",
       "681         65      37            253   357  \n",
       "682         65      37            253   353  \n",
       "683         66      37            258   362  \n",
       "684         66      38            266   374  \n",
       "\n",
       "[684 rows x 25 columns]"
      ]
     },
     "execution_count": 17,
     "metadata": {},
     "output_type": "execute_result"
    }
   ],
   "source": [
    "df"
   ]
  },
  {
   "cell_type": "markdown",
   "metadata": {},
   "source": [
    "Clean up the dataframe"
   ]
  },
  {
   "cell_type": "code",
   "execution_count": 18,
   "metadata": {
    "execution": {
     "iopub.execute_input": "2022-01-27T12:24:31.742320Z",
     "iopub.status.busy": "2022-01-27T12:24:31.741565Z",
     "iopub.status.idle": "2022-01-27T12:24:31.749991Z",
     "shell.execute_reply": "2022-01-27T12:24:31.749655Z"
    }
   },
   "outputs": [],
   "source": [
    "melt_df = pd.melt(\n",
    "    df, id_vars=[\"Date\"], var_name=\"area\", value_name=\"confirmed_cases\"\n",
    ").rename(columns={\"Date\": \"date\"})"
   ]
  },
  {
   "cell_type": "code",
   "execution_count": 19,
   "metadata": {
    "execution": {
     "iopub.execute_input": "2022-01-27T12:24:31.777961Z",
     "iopub.status.busy": "2022-01-27T12:24:31.762640Z",
     "iopub.status.idle": "2022-01-27T12:24:32.484906Z",
     "shell.execute_reply": "2022-01-27T12:24:32.485382Z"
    }
   },
   "outputs": [],
   "source": [
    "melt_df[\"date\"] = pd.to_datetime(melt_df[\"date\"])"
   ]
  },
  {
   "cell_type": "code",
   "execution_count": 20,
   "metadata": {
    "execution": {
     "iopub.execute_input": "2022-01-27T12:24:32.505758Z",
     "iopub.status.busy": "2022-01-27T12:24:32.494336Z",
     "iopub.status.idle": "2022-01-27T12:24:32.508872Z",
     "shell.execute_reply": "2022-01-27T12:24:32.509188Z"
    }
   },
   "outputs": [],
   "source": [
    "melt_df[\"confirmed_cases\"] = melt_df[\"confirmed_cases\"].replace(\",\", \"\", regex=True)"
   ]
  },
  {
   "cell_type": "code",
   "execution_count": 21,
   "metadata": {
    "execution": {
     "iopub.execute_input": "2022-01-27T12:24:32.514700Z",
     "iopub.status.busy": "2022-01-27T12:24:32.514294Z",
     "iopub.status.idle": "2022-01-27T12:24:32.518620Z",
     "shell.execute_reply": "2022-01-27T12:24:32.518948Z"
    }
   },
   "outputs": [],
   "source": [
    "filter_df = melt_df[(melt_df[\"confirmed_cases\"] != \"\") & (melt_df[\"area\"] != \"Bradley\")]"
   ]
  },
  {
   "cell_type": "code",
   "execution_count": 22,
   "metadata": {
    "execution": {
     "iopub.execute_input": "2022-01-27T12:24:32.522220Z",
     "iopub.status.busy": "2022-01-27T12:24:32.521818Z",
     "iopub.status.idle": "2022-01-27T12:24:32.529338Z",
     "shell.execute_reply": "2022-01-27T12:24:32.528958Z"
    }
   },
   "outputs": [],
   "source": [
    "sort_df = filter_df.sort_values([\"date\", \"area\"])"
   ]
  },
  {
   "cell_type": "code",
   "execution_count": 23,
   "metadata": {
    "execution": {
     "iopub.execute_input": "2022-01-27T12:24:32.533092Z",
     "iopub.status.busy": "2022-01-27T12:24:32.532691Z",
     "iopub.status.idle": "2022-01-27T12:24:32.642740Z",
     "shell.execute_reply": "2022-01-27T12:24:32.642158Z"
    }
   },
   "outputs": [
    {
     "ename": "AssertionError",
     "evalue": "",
     "output_type": "error",
     "traceback": [
      "\u001b[0;31m---------------------------------------------------------------------------\u001b[0m",
      "\u001b[0;31mAssertionError\u001b[0m                            Traceback (most recent call last)",
      "\u001b[0;32m/tmp/ipykernel_3433/4155764980.py\u001b[0m in \u001b[0;36m<module>\u001b[0;34m\u001b[0m\n\u001b[0;32m----> 1\u001b[0;31m \u001b[0;32massert\u001b[0m \u001b[0;32mnot\u001b[0m \u001b[0msort_df\u001b[0m\u001b[0;34m.\u001b[0m\u001b[0marea\u001b[0m\u001b[0;34m.\u001b[0m\u001b[0misnull\u001b[0m\u001b[0;34m(\u001b[0m\u001b[0;34m)\u001b[0m\u001b[0;34m.\u001b[0m\u001b[0many\u001b[0m\u001b[0;34m(\u001b[0m\u001b[0;34m)\u001b[0m\u001b[0;34m\u001b[0m\u001b[0;34m\u001b[0m\u001b[0m\n\u001b[0m",
      "\u001b[0;31mAssertionError\u001b[0m: "
     ]
    }
   ],
   "source": [
    "assert not sort_df.area.isnull().any()"
   ]
  },
  {
   "cell_type": "code",
   "execution_count": 60,
   "metadata": {},
   "outputs": [],
   "source": [
    "assert len(sort_df[sort_df.area == \"\"]) == 0"
   ]
  },
  {
   "cell_type": "markdown",
   "metadata": {},
   "source": [
    "Get timestamp"
   ]
  },
  {
   "cell_type": "code",
   "execution_count": 61,
   "metadata": {},
   "outputs": [],
   "source": [
    "text = data[\"elements\"]"
   ]
  },
  {
   "cell_type": "code",
   "execution_count": 62,
   "metadata": {},
   "outputs": [],
   "source": [
    "grafs = []\n",
    "for ele in data[\"elements\"]:\n",
    "    keys = ele.keys()\n",
    "    if \"text\" in keys:\n",
    "        text = ele[\"text\"]\n",
    "        grafs.append(text)"
   ]
  },
  {
   "cell_type": "code",
   "execution_count": 63,
   "metadata": {},
   "outputs": [],
   "source": [
    "regexDateGraf = re.compile(\"As of \\d{1,2}\\/\\d{1,2}\\/\\d{1,2}\")"
   ]
  },
  {
   "cell_type": "code",
   "execution_count": 64,
   "metadata": {},
   "outputs": [],
   "source": [
    "parsed_text = []\n",
    "for graf in grafs:\n",
    "    soup = BeautifulSoup(graf, \"html.parser\")\n",
    "    text = soup.text\n",
    "    parsed_text.append(text)"
   ]
  },
  {
   "cell_type": "code",
   "execution_count": 65,
   "metadata": {},
   "outputs": [],
   "source": [
    "date_graf = [\n",
    "    regexDateGraf.search(t)[0] for t in parsed_text if regexDateGraf.search(t) != None\n",
    "][0]"
   ]
  },
  {
   "cell_type": "code",
   "execution_count": 66,
   "metadata": {},
   "outputs": [],
   "source": [
    "date_graf_trim = date_graf.replace(\"As of \", \"\")"
   ]
  },
  {
   "cell_type": "code",
   "execution_count": 67,
   "metadata": {},
   "outputs": [],
   "source": [
    "latest_date = pd.to_datetime(date_graf_trim, format=\"%m/%d/%y\").date()"
   ]
  },
  {
   "cell_type": "code",
   "execution_count": 68,
   "metadata": {},
   "outputs": [],
   "source": [
    "sort_df[\"county_date\"] = latest_date"
   ]
  },
  {
   "cell_type": "code",
   "execution_count": 69,
   "metadata": {},
   "outputs": [],
   "source": [
    "sort_df.insert(0, \"county\", \"San Luis Obispo\")"
   ]
  },
  {
   "cell_type": "code",
   "execution_count": 70,
   "metadata": {},
   "outputs": [],
   "source": [
    "latest_df = sort_df[sort_df.date == sort_df.date.max()]"
   ]
  },
  {
   "cell_type": "markdown",
   "metadata": {},
   "source": [
    "## Vet"
   ]
  },
  {
   "cell_type": "markdown",
   "metadata": {},
   "source": [
    "Make sure everyone is here"
   ]
  },
  {
   "cell_type": "code",
   "execution_count": 71,
   "metadata": {},
   "outputs": [],
   "source": [
    "try:\n",
    "    assert not len(latest_df) > 22\n",
    "except AssertionError:\n",
    "    raise AssertionError(\"San Luis Obispo County's scraper has more rows than before\")"
   ]
  },
  {
   "cell_type": "code",
   "execution_count": 72,
   "metadata": {},
   "outputs": [],
   "source": [
    "try:\n",
    "    assert not len(latest_df) < 22\n",
    "except AssertionError:\n",
    "    raise AssertionError(\"San Luis Obispo County's scraper is missing rows\")"
   ]
  },
  {
   "cell_type": "code",
   "execution_count": 74,
   "metadata": {},
   "outputs": [
    {
     "data": {
      "text/html": [
       "<div>\n",
       "<style scoped>\n",
       "    .dataframe tbody tr th:only-of-type {\n",
       "        vertical-align: middle;\n",
       "    }\n",
       "\n",
       "    .dataframe tbody tr th {\n",
       "        vertical-align: top;\n",
       "    }\n",
       "\n",
       "    .dataframe thead th {\n",
       "        text-align: right;\n",
       "    }\n",
       "</style>\n",
       "<table border=\"1\" class=\"dataframe\">\n",
       "  <thead>\n",
       "    <tr style=\"text-align: right;\">\n",
       "      <th></th>\n",
       "      <th>county</th>\n",
       "      <th>date</th>\n",
       "      <th>area</th>\n",
       "      <th>confirmed_cases</th>\n",
       "      <th>county_date</th>\n",
       "    </tr>\n",
       "  </thead>\n",
       "  <tbody>\n",
       "    <tr>\n",
       "      <th>15570</th>\n",
       "      <td>San Luis Obispo</td>\n",
       "      <td>2022-01-18</td>\n",
       "      <td>ASH (patients)</td>\n",
       "      <td>240</td>\n",
       "      <td>2022-01-18</td>\n",
       "    </tr>\n",
       "    <tr>\n",
       "      <th>676</th>\n",
       "      <td>San Luis Obispo</td>\n",
       "      <td>2022-01-18</td>\n",
       "      <td>Arroyo Grande</td>\n",
       "      <td>3366</td>\n",
       "      <td>2022-01-18</td>\n",
       "    </tr>\n",
       "    <tr>\n",
       "      <th>1353</th>\n",
       "      <td>San Luis Obispo</td>\n",
       "      <td>2022-01-18</td>\n",
       "      <td>Atascadero</td>\n",
       "      <td>4259</td>\n",
       "      <td>2022-01-18</td>\n",
       "    </tr>\n",
       "    <tr>\n",
       "      <th>12185</th>\n",
       "      <td>San Luis Obispo</td>\n",
       "      <td>2022-01-18</td>\n",
       "      <td>Avila</td>\n",
       "      <td>78</td>\n",
       "      <td>2022-01-18</td>\n",
       "    </tr>\n",
       "    <tr>\n",
       "      <th>5415</th>\n",
       "      <td>San Luis Obispo</td>\n",
       "      <td>2022-01-18</td>\n",
       "      <td>CMC (Inmates)</td>\n",
       "      <td>2501</td>\n",
       "      <td>2022-01-18</td>\n",
       "    </tr>\n",
       "    <tr>\n",
       "      <th>10831</th>\n",
       "      <td>San Luis Obispo</td>\n",
       "      <td>2022-01-18</td>\n",
       "      <td>Cal Poly (campus residents)</td>\n",
       "      <td>817</td>\n",
       "      <td>2022-01-18</td>\n",
       "    </tr>\n",
       "    <tr>\n",
       "      <th>9477</th>\n",
       "      <td>San Luis Obispo</td>\n",
       "      <td>2022-01-18</td>\n",
       "      <td>Cambria</td>\n",
       "      <td>380</td>\n",
       "      <td>2022-01-18</td>\n",
       "    </tr>\n",
       "    <tr>\n",
       "      <th>11508</th>\n",
       "      <td>San Luis Obispo</td>\n",
       "      <td>2022-01-18</td>\n",
       "      <td>Cayucos</td>\n",
       "      <td>209</td>\n",
       "      <td>2022-01-18</td>\n",
       "    </tr>\n",
       "    <tr>\n",
       "      <th>13539</th>\n",
       "      <td>San Luis Obispo</td>\n",
       "      <td>2022-01-18</td>\n",
       "      <td>Creston</td>\n",
       "      <td>167</td>\n",
       "      <td>2022-01-18</td>\n",
       "    </tr>\n",
       "    <tr>\n",
       "      <th>2030</th>\n",
       "      <td>San Luis Obispo</td>\n",
       "      <td>2022-01-18</td>\n",
       "      <td>Grover Beach</td>\n",
       "      <td>1787</td>\n",
       "      <td>2022-01-18</td>\n",
       "    </tr>\n",
       "    <tr>\n",
       "      <th>7446</th>\n",
       "      <td>San Luis Obispo</td>\n",
       "      <td>2022-01-18</td>\n",
       "      <td>Los Osos</td>\n",
       "      <td>1158</td>\n",
       "      <td>2022-01-18</td>\n",
       "    </tr>\n",
       "    <tr>\n",
       "      <th>8800</th>\n",
       "      <td>San Luis Obispo</td>\n",
       "      <td>2022-01-18</td>\n",
       "      <td>Morro Bay</td>\n",
       "      <td>1007</td>\n",
       "      <td>2022-01-18</td>\n",
       "    </tr>\n",
       "    <tr>\n",
       "      <th>2707</th>\n",
       "      <td>San Luis Obispo</td>\n",
       "      <td>2022-01-18</td>\n",
       "      <td>Nipomo</td>\n",
       "      <td>3061</td>\n",
       "      <td>2022-01-18</td>\n",
       "    </tr>\n",
       "    <tr>\n",
       "      <th>8123</th>\n",
       "      <td>San Luis Obispo</td>\n",
       "      <td>2022-01-18</td>\n",
       "      <td>Oceano</td>\n",
       "      <td>1209</td>\n",
       "      <td>2022-01-18</td>\n",
       "    </tr>\n",
       "    <tr>\n",
       "      <th>3384</th>\n",
       "      <td>San Luis Obispo</td>\n",
       "      <td>2022-01-18</td>\n",
       "      <td>Paso Robles</td>\n",
       "      <td>7531</td>\n",
       "      <td>2022-01-18</td>\n",
       "    </tr>\n",
       "    <tr>\n",
       "      <th>6092</th>\n",
       "      <td>San Luis Obispo</td>\n",
       "      <td>2022-01-18</td>\n",
       "      <td>Pismo Beach</td>\n",
       "      <td>797</td>\n",
       "      <td>2022-01-18</td>\n",
       "    </tr>\n",
       "    <tr>\n",
       "      <th>4061</th>\n",
       "      <td>San Luis Obispo</td>\n",
       "      <td>2022-01-18</td>\n",
       "      <td>San Luis Obispo</td>\n",
       "      <td>7584</td>\n",
       "      <td>2022-01-18</td>\n",
       "    </tr>\n",
       "    <tr>\n",
       "      <th>6769</th>\n",
       "      <td>San Luis Obispo</td>\n",
       "      <td>2022-01-18</td>\n",
       "      <td>San Miguel</td>\n",
       "      <td>848</td>\n",
       "      <td>2022-01-18</td>\n",
       "    </tr>\n",
       "    <tr>\n",
       "      <th>14216</th>\n",
       "      <td>San Luis Obispo</td>\n",
       "      <td>2022-01-18</td>\n",
       "      <td>San Simeon</td>\n",
       "      <td>56</td>\n",
       "      <td>2022-01-18</td>\n",
       "    </tr>\n",
       "    <tr>\n",
       "      <th>12862</th>\n",
       "      <td>San Luis Obispo</td>\n",
       "      <td>2022-01-18</td>\n",
       "      <td>Santa Margarita</td>\n",
       "      <td>304</td>\n",
       "      <td>2022-01-18</td>\n",
       "    </tr>\n",
       "    <tr>\n",
       "      <th>10154</th>\n",
       "      <td>San Luis Obispo</td>\n",
       "      <td>2022-01-18</td>\n",
       "      <td>Shandon</td>\n",
       "      <td>292</td>\n",
       "      <td>2022-01-18</td>\n",
       "    </tr>\n",
       "    <tr>\n",
       "      <th>4738</th>\n",
       "      <td>San Luis Obispo</td>\n",
       "      <td>2022-01-18</td>\n",
       "      <td>Templeton</td>\n",
       "      <td>1402</td>\n",
       "      <td>2022-01-18</td>\n",
       "    </tr>\n",
       "  </tbody>\n",
       "</table>\n",
       "</div>"
      ],
      "text/plain": [
       "                county       date                         area  \\\n",
       "15570  San Luis Obispo 2022-01-18               ASH (patients)   \n",
       "676    San Luis Obispo 2022-01-18                Arroyo Grande   \n",
       "1353   San Luis Obispo 2022-01-18                   Atascadero   \n",
       "12185  San Luis Obispo 2022-01-18                        Avila   \n",
       "5415   San Luis Obispo 2022-01-18                CMC (Inmates)   \n",
       "10831  San Luis Obispo 2022-01-18  Cal Poly (campus residents)   \n",
       "9477   San Luis Obispo 2022-01-18                      Cambria   \n",
       "11508  San Luis Obispo 2022-01-18                      Cayucos   \n",
       "13539  San Luis Obispo 2022-01-18                      Creston   \n",
       "2030   San Luis Obispo 2022-01-18                 Grover Beach   \n",
       "7446   San Luis Obispo 2022-01-18                     Los Osos   \n",
       "8800   San Luis Obispo 2022-01-18                    Morro Bay   \n",
       "2707   San Luis Obispo 2022-01-18                       Nipomo   \n",
       "8123   San Luis Obispo 2022-01-18                       Oceano   \n",
       "3384   San Luis Obispo 2022-01-18                  Paso Robles   \n",
       "6092   San Luis Obispo 2022-01-18                  Pismo Beach   \n",
       "4061   San Luis Obispo 2022-01-18              San Luis Obispo   \n",
       "6769   San Luis Obispo 2022-01-18                   San Miguel   \n",
       "14216  San Luis Obispo 2022-01-18                   San Simeon   \n",
       "12862  San Luis Obispo 2022-01-18              Santa Margarita   \n",
       "10154  San Luis Obispo 2022-01-18                      Shandon   \n",
       "4738   San Luis Obispo 2022-01-18                    Templeton   \n",
       "\n",
       "      confirmed_cases county_date  \n",
       "15570             240  2022-01-18  \n",
       "676              3366  2022-01-18  \n",
       "1353             4259  2022-01-18  \n",
       "12185              78  2022-01-18  \n",
       "5415             2501  2022-01-18  \n",
       "10831             817  2022-01-18  \n",
       "9477              380  2022-01-18  \n",
       "11508             209  2022-01-18  \n",
       "13539             167  2022-01-18  \n",
       "2030             1787  2022-01-18  \n",
       "7446             1158  2022-01-18  \n",
       "8800             1007  2022-01-18  \n",
       "2707             3061  2022-01-18  \n",
       "8123             1209  2022-01-18  \n",
       "3384             7531  2022-01-18  \n",
       "6092              797  2022-01-18  \n",
       "4061             7584  2022-01-18  \n",
       "6769              848  2022-01-18  \n",
       "14216              56  2022-01-18  \n",
       "12862             304  2022-01-18  \n",
       "10154             292  2022-01-18  \n",
       "4738             1402  2022-01-18  "
      ]
     },
     "execution_count": 74,
     "metadata": {},
     "output_type": "execute_result"
    }
   ],
   "source": [
    "latest_df"
   ]
  },
  {
   "cell_type": "markdown",
   "metadata": {},
   "source": [
    "## Export"
   ]
  },
  {
   "cell_type": "markdown",
   "metadata": {},
   "source": [
    "Set date"
   ]
  },
  {
   "cell_type": "code",
   "execution_count": 75,
   "metadata": {},
   "outputs": [],
   "source": [
    "tz = pytz.timezone(\"America/Los_Angeles\")"
   ]
  },
  {
   "cell_type": "code",
   "execution_count": 76,
   "metadata": {},
   "outputs": [],
   "source": [
    "today = datetime.now(tz).date()"
   ]
  },
  {
   "cell_type": "code",
   "execution_count": 77,
   "metadata": {},
   "outputs": [],
   "source": [
    "slug = \"san-luis-obispo\""
   ]
  },
  {
   "cell_type": "code",
   "execution_count": 78,
   "metadata": {},
   "outputs": [],
   "source": [
    "latest_df.to_csv(data_dir / slug / f\"{today}.csv\", index=False)"
   ]
  },
  {
   "cell_type": "markdown",
   "metadata": {},
   "source": [
    "## Combine"
   ]
  },
  {
   "cell_type": "code",
   "execution_count": 79,
   "metadata": {},
   "outputs": [],
   "source": [
    "csv_list = [\n",
    "    i\n",
    "    for i in glob.glob(str(data_dir / slug / \"*.csv\"))\n",
    "    if not str(i).endswith(\"timeseries.csv\")\n",
    "]"
   ]
  },
  {
   "cell_type": "code",
   "execution_count": 80,
   "metadata": {},
   "outputs": [],
   "source": [
    "df_list = []\n",
    "for csv in csv_list:\n",
    "    if \"manual\" in csv:\n",
    "        df = pd.read_csv(csv, parse_dates=[\"date\"])\n",
    "    else:\n",
    "        file_date = csv.split(\"/\")[-1].replace(\".csv\", \"\")\n",
    "        df = pd.read_csv(csv, parse_dates=[\"county_date\"])\n",
    "        df[\"date\"] = file_date\n",
    "    df_list.append(df)"
   ]
  },
  {
   "cell_type": "code",
   "execution_count": 81,
   "metadata": {},
   "outputs": [],
   "source": [
    "df = pd.concat(df_list).sort_values([\"date\", \"area\"])"
   ]
  },
  {
   "cell_type": "code",
   "execution_count": 82,
   "metadata": {},
   "outputs": [],
   "source": [
    "df.to_csv(data_dir / slug / \"timeseries.csv\", index=False)"
   ]
  },
  {
   "cell_type": "code",
   "execution_count": null,
   "metadata": {},
   "outputs": [],
   "source": []
  }
 ],
 "metadata": {
  "kernelspec": {
   "display_name": "Python 3 (ipykernel)",
   "language": "python",
   "name": "python3"
  },
  "language_info": {
   "codemirror_mode": {
    "name": "ipython",
    "version": 3
   },
   "file_extension": ".py",
   "mimetype": "text/x-python",
   "name": "python",
   "nbconvert_exporter": "python",
   "pygments_lexer": "ipython3",
   "version": "3.8.12"
  }
 },
 "nbformat": 4,
 "nbformat_minor": 4
}
