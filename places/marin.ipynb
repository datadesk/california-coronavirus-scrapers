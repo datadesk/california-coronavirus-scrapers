{
 "cells": [
  {
   "cell_type": "markdown",
   "metadata": {},
   "source": [
    "## Configuration\n",
    "_Initial steps to get the notebook ready to play nice with our repository. Do not delete this section._"
   ]
  },
  {
   "cell_type": "markdown",
   "metadata": {},
   "source": [
    "Code formatting with [black](https://pypi.org/project/nb-black/)."
   ]
  },
  {
   "cell_type": "code",
   "execution_count": 1,
   "metadata": {
    "execution": {
     "iopub.execute_input": "2021-10-02T04:20:16.332427Z",
     "iopub.status.busy": "2021-10-02T04:20:16.331940Z",
     "iopub.status.idle": "2021-10-02T04:20:16.446170Z",
     "shell.execute_reply": "2021-10-02T04:20:16.445677Z"
    }
   },
   "outputs": [],
   "source": [
    "%load_ext lab_black"
   ]
  },
  {
   "cell_type": "code",
   "execution_count": 2,
   "metadata": {
    "execution": {
     "iopub.execute_input": "2021-10-02T04:20:16.450121Z",
     "iopub.status.busy": "2021-10-02T04:20:16.449576Z",
     "iopub.status.idle": "2021-10-02T04:20:16.452392Z",
     "shell.execute_reply": "2021-10-02T04:20:16.452779Z"
    }
   },
   "outputs": [],
   "source": [
    "import os\n",
    "import pathlib"
   ]
  },
  {
   "cell_type": "code",
   "execution_count": 3,
   "metadata": {
    "execution": {
     "iopub.execute_input": "2021-10-02T04:20:16.460097Z",
     "iopub.status.busy": "2021-10-02T04:20:16.458797Z",
     "iopub.status.idle": "2021-10-02T04:20:16.460648Z",
     "shell.execute_reply": "2021-10-02T04:20:16.461062Z"
    }
   },
   "outputs": [],
   "source": [
    "this_dir = pathlib.Path(os.path.abspath(\"\"))"
   ]
  },
  {
   "cell_type": "code",
   "execution_count": 4,
   "metadata": {
    "execution": {
     "iopub.execute_input": "2021-10-02T04:20:16.466130Z",
     "iopub.status.busy": "2021-10-02T04:20:16.465190Z",
     "iopub.status.idle": "2021-10-02T04:20:16.467013Z",
     "shell.execute_reply": "2021-10-02T04:20:16.467508Z"
    }
   },
   "outputs": [],
   "source": [
    "data_dir = this_dir / \"data\""
   ]
  },
  {
   "cell_type": "code",
   "execution_count": 5,
   "metadata": {
    "execution": {
     "iopub.execute_input": "2021-10-02T04:20:16.471421Z",
     "iopub.status.busy": "2021-10-02T04:20:16.470866Z",
     "iopub.status.idle": "2021-10-02T04:20:16.857198Z",
     "shell.execute_reply": "2021-10-02T04:20:16.856398Z"
    }
   },
   "outputs": [],
   "source": [
    "import pytz\n",
    "import glob\n",
    "import requests\n",
    "import pandas as pd\n",
    "import json\n",
    "from datetime import datetime, date\n",
    "from bs4 import BeautifulSoup\n",
    "import regex as re"
   ]
  },
  {
   "cell_type": "markdown",
   "metadata": {},
   "source": [
    "## Download"
   ]
  },
  {
   "cell_type": "markdown",
   "metadata": {},
   "source": [
    "Retrieve the page"
   ]
  },
  {
   "cell_type": "code",
   "execution_count": 6,
   "metadata": {
    "execution": {
     "iopub.execute_input": "2021-10-02T04:20:16.861604Z",
     "iopub.status.busy": "2021-10-02T04:20:16.861031Z",
     "iopub.status.idle": "2021-10-02T04:20:16.863849Z",
     "shell.execute_reply": "2021-10-02T04:20:16.864268Z"
    }
   },
   "outputs": [],
   "source": [
    "url = \"https://utility.arcgis.com/usrsvcs/servers/9ccc4670c77442f7b12b198a904f4a51/rest/services/HHS/Covid/MapServer/0/query?f=json&returnGeometry=false&outFields=*&where=1=1\""
   ]
  },
  {
   "cell_type": "code",
   "execution_count": 7,
   "metadata": {
    "execution": {
     "iopub.execute_input": "2021-10-02T04:20:16.870943Z",
     "iopub.status.busy": "2021-10-02T04:20:16.867521Z",
     "iopub.status.idle": "2021-10-02T04:20:17.684946Z",
     "shell.execute_reply": "2021-10-02T04:20:17.684027Z"
    }
   },
   "outputs": [],
   "source": [
    "r = requests.get(url)"
   ]
  },
  {
   "cell_type": "code",
   "execution_count": 8,
   "metadata": {
    "execution": {
     "iopub.execute_input": "2021-10-02T04:20:17.690767Z",
     "iopub.status.busy": "2021-10-02T04:20:17.690302Z",
     "iopub.status.idle": "2021-10-02T04:20:17.693714Z",
     "shell.execute_reply": "2021-10-02T04:20:17.693264Z"
    }
   },
   "outputs": [],
   "source": [
    "data = r.json()"
   ]
  },
  {
   "cell_type": "markdown",
   "metadata": {},
   "source": [
    "## Parse"
   ]
  },
  {
   "cell_type": "code",
   "execution_count": 9,
   "metadata": {
    "execution": {
     "iopub.execute_input": "2021-10-02T04:20:17.697621Z",
     "iopub.status.busy": "2021-10-02T04:20:17.695534Z",
     "iopub.status.idle": "2021-10-02T04:20:17.700463Z",
     "shell.execute_reply": "2021-10-02T04:20:17.700029Z"
    }
   },
   "outputs": [],
   "source": [
    "dict_list = []"
   ]
  },
  {
   "cell_type": "code",
   "execution_count": 10,
   "metadata": {
    "execution": {
     "iopub.execute_input": "2021-10-02T04:20:17.708329Z",
     "iopub.status.busy": "2021-10-02T04:20:17.705005Z",
     "iopub.status.idle": "2021-10-02T04:20:17.713441Z",
     "shell.execute_reply": "2021-10-02T04:20:17.712947Z"
    }
   },
   "outputs": [],
   "source": [
    "for item in data[\"features\"]:\n",
    "    d = dict(\n",
    "        county=\"Marin\",\n",
    "        area=item[\"attributes\"][\"Name\"],\n",
    "        confirmed_cases=item[\"attributes\"][\"CumulativePositives\"],\n",
    "    )\n",
    "    dict_list.append(d)"
   ]
  },
  {
   "cell_type": "code",
   "execution_count": 11,
   "metadata": {
    "execution": {
     "iopub.execute_input": "2021-10-02T04:20:17.718836Z",
     "iopub.status.busy": "2021-10-02T04:20:17.718353Z",
     "iopub.status.idle": "2021-10-02T04:20:17.722297Z",
     "shell.execute_reply": "2021-10-02T04:20:17.721417Z"
    }
   },
   "outputs": [],
   "source": [
    "df = pd.DataFrame(dict_list)"
   ]
  },
  {
   "cell_type": "markdown",
   "metadata": {},
   "source": [
    "Get timestamp"
   ]
  },
  {
   "cell_type": "code",
   "execution_count": 12,
   "metadata": {
    "execution": {
     "iopub.execute_input": "2021-10-02T04:20:17.726926Z",
     "iopub.status.busy": "2021-10-02T04:20:17.725493Z",
     "iopub.status.idle": "2021-10-02T04:20:17.730895Z",
     "shell.execute_reply": "2021-10-02T04:20:17.730110Z"
    }
   },
   "outputs": [],
   "source": [
    "headers = {\"User-Agent\": \"Mozilla/5.0\"}"
   ]
  },
  {
   "cell_type": "code",
   "execution_count": 13,
   "metadata": {
    "execution": {
     "iopub.execute_input": "2021-10-02T04:20:17.734554Z",
     "iopub.status.busy": "2021-10-02T04:20:17.733751Z",
     "iopub.status.idle": "2021-10-02T04:20:17.737596Z",
     "shell.execute_reply": "2021-10-02T04:20:17.737143Z"
    }
   },
   "outputs": [],
   "source": [
    "url = \"https://coronavirus.marinhhs.org/surveillance\""
   ]
  },
  {
   "cell_type": "code",
   "execution_count": 14,
   "metadata": {
    "execution": {
     "iopub.execute_input": "2021-10-02T04:20:17.743580Z",
     "iopub.status.busy": "2021-10-02T04:20:17.742711Z",
     "iopub.status.idle": "2021-10-02T04:20:18.550475Z",
     "shell.execute_reply": "2021-10-02T04:20:18.551006Z"
    }
   },
   "outputs": [],
   "source": [
    "page = requests.get(url, headers=headers)"
   ]
  },
  {
   "cell_type": "code",
   "execution_count": 15,
   "metadata": {
    "execution": {
     "iopub.execute_input": "2021-10-02T04:20:18.565026Z",
     "iopub.status.busy": "2021-10-02T04:20:18.559144Z",
     "iopub.status.idle": "2021-10-02T04:20:18.594990Z",
     "shell.execute_reply": "2021-10-02T04:20:18.594007Z"
    }
   },
   "outputs": [],
   "source": [
    "soup = BeautifulSoup(page.content, \"html.parser\")"
   ]
  },
  {
   "cell_type": "code",
   "execution_count": 16,
   "metadata": {
    "execution": {
     "iopub.execute_input": "2021-10-02T04:20:18.602162Z",
     "iopub.status.busy": "2021-10-02T04:20:18.600720Z",
     "iopub.status.idle": "2021-10-02T04:20:18.605979Z",
     "shell.execute_reply": "2021-10-02T04:20:18.605496Z"
    }
   },
   "outputs": [],
   "source": [
    "last_updated_sentence = soup.find(\"div\", {\"class\": \"last-updated\"}).text"
   ]
  },
  {
   "cell_type": "code",
   "execution_count": 17,
   "metadata": {
    "execution": {
     "iopub.execute_input": "2021-10-02T04:20:18.610591Z",
     "iopub.status.busy": "2021-10-02T04:20:18.609877Z",
     "iopub.status.idle": "2021-10-02T04:20:18.740617Z",
     "shell.execute_reply": "2021-10-02T04:20:18.739933Z"
    }
   },
   "outputs": [
    {
     "ename": "AttributeError",
     "evalue": "'NoneType' object has no attribute 'group'",
     "output_type": "error",
     "traceback": [
      "\u001b[0;31m---------------------------------------------------------------------------\u001b[0m",
      "\u001b[0;31mAttributeError\u001b[0m                            Traceback (most recent call last)",
      "\u001b[0;32m/tmp/ipykernel_3064/1914063018.py\u001b[0m in \u001b[0;36m<module>\u001b[0;34m\u001b[0m\n\u001b[0;32m----> 1\u001b[0;31m \u001b[0mdate\u001b[0m \u001b[0;34m=\u001b[0m \u001b[0mre\u001b[0m\u001b[0;34m.\u001b[0m\u001b[0msearch\u001b[0m\u001b[0;34m(\u001b[0m\u001b[0;34m\"0[0-9].[0-9][0-9].2[0-9]\"\u001b[0m\u001b[0;34m,\u001b[0m \u001b[0mlast_updated_sentence\u001b[0m\u001b[0;34m)\u001b[0m\u001b[0;34m.\u001b[0m\u001b[0mgroup\u001b[0m\u001b[0;34m(\u001b[0m\u001b[0;34m)\u001b[0m\u001b[0;34m\u001b[0m\u001b[0;34m\u001b[0m\u001b[0m\n\u001b[0m",
      "\u001b[0;31mAttributeError\u001b[0m: 'NoneType' object has no attribute 'group'"
     ]
    }
   ],
   "source": [
    "date = re.search(\"0[0-9].[0-9][0-9].2[0-9]\", last_updated_sentence).group()"
   ]
  },
  {
   "cell_type": "code",
   "execution_count": 47,
   "metadata": {},
   "outputs": [],
   "source": [
    "df[\"county_date\"] = pd.to_datetime(date).date()"
   ]
  },
  {
   "cell_type": "markdown",
   "metadata": {},
   "source": [
    "## Vet"
   ]
  },
  {
   "cell_type": "markdown",
   "metadata": {},
   "source": [
    "Ensure we're getting all 54 areas of Marin County"
   ]
  },
  {
   "cell_type": "code",
   "execution_count": 48,
   "metadata": {},
   "outputs": [],
   "source": [
    "try:\n",
    "    assert not len(df) > 54\n",
    "except AssertionError:\n",
    "    raise AssertionError(\"Marin County's scraper has more rows than before\")"
   ]
  },
  {
   "cell_type": "code",
   "execution_count": 49,
   "metadata": {},
   "outputs": [],
   "source": [
    "try:\n",
    "    assert not len(df) < 54\n",
    "except AssertionError:\n",
    "    raise AssertionError(\"Marin's scraper is missing rows\")"
   ]
  },
  {
   "cell_type": "markdown",
   "metadata": {},
   "source": [
    "## Export"
   ]
  },
  {
   "cell_type": "markdown",
   "metadata": {},
   "source": [
    "Set date"
   ]
  },
  {
   "cell_type": "code",
   "execution_count": 50,
   "metadata": {},
   "outputs": [],
   "source": [
    "tz = pytz.timezone(\"America/Los_Angeles\")"
   ]
  },
  {
   "cell_type": "code",
   "execution_count": 51,
   "metadata": {},
   "outputs": [],
   "source": [
    "today = datetime.now(tz).date()"
   ]
  },
  {
   "cell_type": "code",
   "execution_count": 52,
   "metadata": {},
   "outputs": [],
   "source": [
    "slug = \"marin\""
   ]
  },
  {
   "cell_type": "code",
   "execution_count": 53,
   "metadata": {},
   "outputs": [],
   "source": [
    "df.to_csv(data_dir / slug / f\"{today}.csv\", index=False)"
   ]
  },
  {
   "cell_type": "markdown",
   "metadata": {},
   "source": [
    "## Combine"
   ]
  },
  {
   "cell_type": "code",
   "execution_count": 54,
   "metadata": {},
   "outputs": [],
   "source": [
    "csv_list = [\n",
    "    i\n",
    "    for i in glob.glob(str(data_dir / slug / \"*.csv\"))\n",
    "    if not str(i).endswith(\"timeseries.csv\")\n",
    "]"
   ]
  },
  {
   "cell_type": "code",
   "execution_count": 55,
   "metadata": {},
   "outputs": [],
   "source": [
    "df_list = []\n",
    "for csv in csv_list:\n",
    "    if \"manual\" in csv:\n",
    "        df = pd.read_csv(csv, parse_dates=[\"date\"])\n",
    "    else:\n",
    "        file_date = csv.split(\"/\")[-1].replace(\".csv\", \"\")\n",
    "        df = pd.read_csv(csv, parse_dates=[\"county_date\"])\n",
    "        df[\"date\"] = file_date\n",
    "    df_list.append(df)"
   ]
  },
  {
   "cell_type": "code",
   "execution_count": 56,
   "metadata": {},
   "outputs": [],
   "source": [
    "df = pd.concat(df_list).sort_values([\"date\", \"area\"])"
   ]
  },
  {
   "cell_type": "code",
   "execution_count": 57,
   "metadata": {},
   "outputs": [],
   "source": [
    "df.to_csv(data_dir / slug / \"timeseries.csv\", index=False)"
   ]
  }
 ],
 "metadata": {
  "kernelspec": {
   "display_name": "Python 3 (ipykernel)",
   "language": "python",
   "name": "python3"
  },
  "language_info": {
   "codemirror_mode": {
    "name": "ipython",
    "version": 3
   },
   "file_extension": ".py",
   "mimetype": "text/x-python",
   "name": "python",
   "nbconvert_exporter": "python",
   "pygments_lexer": "ipython3",
   "version": "3.8.12"
  }
 },
 "nbformat": 4,
 "nbformat_minor": 4
}
