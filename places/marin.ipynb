{
 "cells": [
  {
   "cell_type": "markdown",
   "metadata": {},
   "source": [
    "## Configuration\n",
    "_Initial steps to get the notebook ready to play nice with our repository. Do not delete this section._"
   ]
  },
  {
   "cell_type": "markdown",
   "metadata": {},
   "source": [
    "Code formatting with [black](https://pypi.org/project/nb-black/)."
   ]
  },
  {
   "cell_type": "code",
   "execution_count": 1,
   "metadata": {
    "execution": {
     "iopub.execute_input": "2021-10-02T08:20:20.133683Z",
     "iopub.status.busy": "2021-10-02T08:20:20.133142Z",
     "iopub.status.idle": "2021-10-02T08:20:20.269322Z",
     "shell.execute_reply": "2021-10-02T08:20:20.268332Z"
    }
   },
   "outputs": [],
   "source": [
    "%load_ext lab_black"
   ]
  },
  {
   "cell_type": "code",
   "execution_count": 2,
   "metadata": {
    "execution": {
     "iopub.execute_input": "2021-10-02T08:20:20.275174Z",
     "iopub.status.busy": "2021-10-02T08:20:20.273987Z",
     "iopub.status.idle": "2021-10-02T08:20:20.275782Z",
     "shell.execute_reply": "2021-10-02T08:20:20.276210Z"
    }
   },
   "outputs": [],
   "source": [
    "import os\n",
    "import pathlib"
   ]
  },
  {
   "cell_type": "code",
   "execution_count": 3,
   "metadata": {
    "execution": {
     "iopub.execute_input": "2021-10-02T08:20:20.283975Z",
     "iopub.status.busy": "2021-10-02T08:20:20.282643Z",
     "iopub.status.idle": "2021-10-02T08:20:20.284584Z",
     "shell.execute_reply": "2021-10-02T08:20:20.284980Z"
    }
   },
   "outputs": [],
   "source": [
    "this_dir = pathlib.Path(os.path.abspath(\"\"))"
   ]
  },
  {
   "cell_type": "code",
   "execution_count": 4,
   "metadata": {
    "execution": {
     "iopub.execute_input": "2021-10-02T08:20:20.289274Z",
     "iopub.status.busy": "2021-10-02T08:20:20.288754Z",
     "iopub.status.idle": "2021-10-02T08:20:20.291563Z",
     "shell.execute_reply": "2021-10-02T08:20:20.291106Z"
    }
   },
   "outputs": [],
   "source": [
    "data_dir = this_dir / \"data\""
   ]
  },
  {
   "cell_type": "code",
   "execution_count": 5,
   "metadata": {
    "execution": {
     "iopub.execute_input": "2021-10-02T08:20:20.295493Z",
     "iopub.status.busy": "2021-10-02T08:20:20.294972Z",
     "iopub.status.idle": "2021-10-02T08:20:20.722924Z",
     "shell.execute_reply": "2021-10-02T08:20:20.722190Z"
    }
   },
   "outputs": [],
   "source": [
    "import pytz\n",
    "import glob\n",
    "import requests\n",
    "import pandas as pd\n",
    "import json\n",
    "from datetime import datetime, date\n",
    "from bs4 import BeautifulSoup\n",
    "import regex as re"
   ]
  },
  {
   "cell_type": "markdown",
   "metadata": {},
   "source": [
    "## Download"
   ]
  },
  {
   "cell_type": "markdown",
   "metadata": {},
   "source": [
    "Retrieve the page"
   ]
  },
  {
   "cell_type": "code",
   "execution_count": 6,
   "metadata": {
    "execution": {
     "iopub.execute_input": "2021-10-02T08:20:20.729201Z",
     "iopub.status.busy": "2021-10-02T08:20:20.728398Z",
     "iopub.status.idle": "2021-10-02T08:20:20.733471Z",
     "shell.execute_reply": "2021-10-02T08:20:20.732983Z"
    }
   },
   "outputs": [],
   "source": [
    "url = \"https://utility.arcgis.com/usrsvcs/servers/9ccc4670c77442f7b12b198a904f4a51/rest/services/HHS/Covid/MapServer/0/query?f=json&returnGeometry=false&outFields=*&where=1=1\""
   ]
  },
  {
   "cell_type": "code",
   "execution_count": 7,
   "metadata": {
    "execution": {
     "iopub.execute_input": "2021-10-02T08:20:20.742669Z",
     "iopub.status.busy": "2021-10-02T08:20:20.742076Z",
     "iopub.status.idle": "2021-10-02T08:20:21.526600Z",
     "shell.execute_reply": "2021-10-02T08:20:21.525772Z"
    }
   },
   "outputs": [],
   "source": [
    "r = requests.get(url)"
   ]
  },
  {
   "cell_type": "code",
   "execution_count": 8,
   "metadata": {
    "execution": {
     "iopub.execute_input": "2021-10-02T08:20:21.532976Z",
     "iopub.status.busy": "2021-10-02T08:20:21.532250Z",
     "iopub.status.idle": "2021-10-02T08:20:21.536495Z",
     "shell.execute_reply": "2021-10-02T08:20:21.535885Z"
    }
   },
   "outputs": [],
   "source": [
    "data = r.json()"
   ]
  },
  {
   "cell_type": "markdown",
   "metadata": {},
   "source": [
    "## Parse"
   ]
  },
  {
   "cell_type": "code",
   "execution_count": 9,
   "metadata": {
    "execution": {
     "iopub.execute_input": "2021-10-02T08:20:21.542956Z",
     "iopub.status.busy": "2021-10-02T08:20:21.541605Z",
     "iopub.status.idle": "2021-10-02T08:20:21.543556Z",
     "shell.execute_reply": "2021-10-02T08:20:21.543983Z"
    }
   },
   "outputs": [],
   "source": [
    "dict_list = []"
   ]
  },
  {
   "cell_type": "code",
   "execution_count": 10,
   "metadata": {
    "execution": {
     "iopub.execute_input": "2021-10-02T08:20:21.549171Z",
     "iopub.status.busy": "2021-10-02T08:20:21.548634Z",
     "iopub.status.idle": "2021-10-02T08:20:21.556177Z",
     "shell.execute_reply": "2021-10-02T08:20:21.555722Z"
    }
   },
   "outputs": [],
   "source": [
    "for item in data[\"features\"]:\n",
    "    d = dict(\n",
    "        county=\"Marin\",\n",
    "        area=item[\"attributes\"][\"Name\"],\n",
    "        confirmed_cases=item[\"attributes\"][\"CumulativePositives\"],\n",
    "    )\n",
    "    dict_list.append(d)"
   ]
  },
  {
   "cell_type": "code",
   "execution_count": 11,
   "metadata": {
    "execution": {
     "iopub.execute_input": "2021-10-02T08:20:21.561840Z",
     "iopub.status.busy": "2021-10-02T08:20:21.560841Z",
     "iopub.status.idle": "2021-10-02T08:20:21.564006Z",
     "shell.execute_reply": "2021-10-02T08:20:21.563565Z"
    }
   },
   "outputs": [],
   "source": [
    "df = pd.DataFrame(dict_list)"
   ]
  },
  {
   "cell_type": "markdown",
   "metadata": {},
   "source": [
    "Get timestamp"
   ]
  },
  {
   "cell_type": "code",
   "execution_count": 12,
   "metadata": {
    "execution": {
     "iopub.execute_input": "2021-10-02T08:20:21.569572Z",
     "iopub.status.busy": "2021-10-02T08:20:21.568582Z",
     "iopub.status.idle": "2021-10-02T08:20:21.570475Z",
     "shell.execute_reply": "2021-10-02T08:20:21.570909Z"
    }
   },
   "outputs": [],
   "source": [
    "headers = {\"User-Agent\": \"Mozilla/5.0\"}"
   ]
  },
  {
   "cell_type": "code",
   "execution_count": 13,
   "metadata": {
    "execution": {
     "iopub.execute_input": "2021-10-02T08:20:21.575222Z",
     "iopub.status.busy": "2021-10-02T08:20:21.574268Z",
     "iopub.status.idle": "2021-10-02T08:20:21.577493Z",
     "shell.execute_reply": "2021-10-02T08:20:21.577025Z"
    }
   },
   "outputs": [],
   "source": [
    "url = \"https://coronavirus.marinhhs.org/surveillance\""
   ]
  },
  {
   "cell_type": "code",
   "execution_count": 14,
   "metadata": {
    "execution": {
     "iopub.execute_input": "2021-10-02T08:20:21.583570Z",
     "iopub.status.busy": "2021-10-02T08:20:21.580622Z",
     "iopub.status.idle": "2021-10-02T08:20:22.048498Z",
     "shell.execute_reply": "2021-10-02T08:20:22.047975Z"
    }
   },
   "outputs": [],
   "source": [
    "page = requests.get(url, headers=headers)"
   ]
  },
  {
   "cell_type": "code",
   "execution_count": 15,
   "metadata": {
    "execution": {
     "iopub.execute_input": "2021-10-02T08:20:22.087930Z",
     "iopub.status.busy": "2021-10-02T08:20:22.072190Z",
     "iopub.status.idle": "2021-10-02T08:20:22.094050Z",
     "shell.execute_reply": "2021-10-02T08:20:22.092968Z"
    }
   },
   "outputs": [],
   "source": [
    "soup = BeautifulSoup(page.content, \"html.parser\")"
   ]
  },
  {
   "cell_type": "code",
   "execution_count": 16,
   "metadata": {
    "execution": {
     "iopub.execute_input": "2021-10-02T08:20:22.102440Z",
     "iopub.status.busy": "2021-10-02T08:20:22.100144Z",
     "iopub.status.idle": "2021-10-02T08:20:22.105401Z",
     "shell.execute_reply": "2021-10-02T08:20:22.104958Z"
    }
   },
   "outputs": [],
   "source": [
    "last_updated_sentence = soup.find(\"div\", {\"class\": \"last-updated\"}).text"
   ]
  },
  {
   "cell_type": "code",
   "execution_count": 17,
   "metadata": {
    "execution": {
     "iopub.execute_input": "2021-10-02T08:20:22.110726Z",
     "iopub.status.busy": "2021-10-02T08:20:22.109199Z",
     "iopub.status.idle": "2021-10-02T08:20:22.232903Z",
     "shell.execute_reply": "2021-10-02T08:20:22.231251Z"
    }
   },
   "outputs": [
    {
     "ename": "AttributeError",
     "evalue": "'NoneType' object has no attribute 'group'",
     "output_type": "error",
     "traceback": [
      "\u001b[0;31m---------------------------------------------------------------------------\u001b[0m",
      "\u001b[0;31mAttributeError\u001b[0m                            Traceback (most recent call last)",
      "\u001b[0;32m/tmp/ipykernel_3124/1914063018.py\u001b[0m in \u001b[0;36m<module>\u001b[0;34m\u001b[0m\n\u001b[0;32m----> 1\u001b[0;31m \u001b[0mdate\u001b[0m \u001b[0;34m=\u001b[0m \u001b[0mre\u001b[0m\u001b[0;34m.\u001b[0m\u001b[0msearch\u001b[0m\u001b[0;34m(\u001b[0m\u001b[0;34m\"0[0-9].[0-9][0-9].2[0-9]\"\u001b[0m\u001b[0;34m,\u001b[0m \u001b[0mlast_updated_sentence\u001b[0m\u001b[0;34m)\u001b[0m\u001b[0;34m.\u001b[0m\u001b[0mgroup\u001b[0m\u001b[0;34m(\u001b[0m\u001b[0;34m)\u001b[0m\u001b[0;34m\u001b[0m\u001b[0;34m\u001b[0m\u001b[0m\n\u001b[0m",
      "\u001b[0;31mAttributeError\u001b[0m: 'NoneType' object has no attribute 'group'"
     ]
    }
   ],
   "source": [
    "date = re.search(\"0[0-9].[0-9][0-9].2[0-9]\", last_updated_sentence).group()"
   ]
  },
  {
   "cell_type": "code",
   "execution_count": 47,
   "metadata": {},
   "outputs": [],
   "source": [
    "df[\"county_date\"] = pd.to_datetime(date).date()"
   ]
  },
  {
   "cell_type": "markdown",
   "metadata": {},
   "source": [
    "## Vet"
   ]
  },
  {
   "cell_type": "markdown",
   "metadata": {},
   "source": [
    "Ensure we're getting all 54 areas of Marin County"
   ]
  },
  {
   "cell_type": "code",
   "execution_count": 48,
   "metadata": {},
   "outputs": [],
   "source": [
    "try:\n",
    "    assert not len(df) > 54\n",
    "except AssertionError:\n",
    "    raise AssertionError(\"Marin County's scraper has more rows than before\")"
   ]
  },
  {
   "cell_type": "code",
   "execution_count": 49,
   "metadata": {},
   "outputs": [],
   "source": [
    "try:\n",
    "    assert not len(df) < 54\n",
    "except AssertionError:\n",
    "    raise AssertionError(\"Marin's scraper is missing rows\")"
   ]
  },
  {
   "cell_type": "markdown",
   "metadata": {},
   "source": [
    "## Export"
   ]
  },
  {
   "cell_type": "markdown",
   "metadata": {},
   "source": [
    "Set date"
   ]
  },
  {
   "cell_type": "code",
   "execution_count": 50,
   "metadata": {},
   "outputs": [],
   "source": [
    "tz = pytz.timezone(\"America/Los_Angeles\")"
   ]
  },
  {
   "cell_type": "code",
   "execution_count": 51,
   "metadata": {},
   "outputs": [],
   "source": [
    "today = datetime.now(tz).date()"
   ]
  },
  {
   "cell_type": "code",
   "execution_count": 52,
   "metadata": {},
   "outputs": [],
   "source": [
    "slug = \"marin\""
   ]
  },
  {
   "cell_type": "code",
   "execution_count": 53,
   "metadata": {},
   "outputs": [],
   "source": [
    "df.to_csv(data_dir / slug / f\"{today}.csv\", index=False)"
   ]
  },
  {
   "cell_type": "markdown",
   "metadata": {},
   "source": [
    "## Combine"
   ]
  },
  {
   "cell_type": "code",
   "execution_count": 54,
   "metadata": {},
   "outputs": [],
   "source": [
    "csv_list = [\n",
    "    i\n",
    "    for i in glob.glob(str(data_dir / slug / \"*.csv\"))\n",
    "    if not str(i).endswith(\"timeseries.csv\")\n",
    "]"
   ]
  },
  {
   "cell_type": "code",
   "execution_count": 55,
   "metadata": {},
   "outputs": [],
   "source": [
    "df_list = []\n",
    "for csv in csv_list:\n",
    "    if \"manual\" in csv:\n",
    "        df = pd.read_csv(csv, parse_dates=[\"date\"])\n",
    "    else:\n",
    "        file_date = csv.split(\"/\")[-1].replace(\".csv\", \"\")\n",
    "        df = pd.read_csv(csv, parse_dates=[\"county_date\"])\n",
    "        df[\"date\"] = file_date\n",
    "    df_list.append(df)"
   ]
  },
  {
   "cell_type": "code",
   "execution_count": 56,
   "metadata": {},
   "outputs": [],
   "source": [
    "df = pd.concat(df_list).sort_values([\"date\", \"area\"])"
   ]
  },
  {
   "cell_type": "code",
   "execution_count": 57,
   "metadata": {},
   "outputs": [],
   "source": [
    "df.to_csv(data_dir / slug / \"timeseries.csv\", index=False)"
   ]
  }
 ],
 "metadata": {
  "kernelspec": {
   "display_name": "Python 3 (ipykernel)",
   "language": "python",
   "name": "python3"
  },
  "language_info": {
   "codemirror_mode": {
    "name": "ipython",
    "version": 3
   },
   "file_extension": ".py",
   "mimetype": "text/x-python",
   "name": "python",
   "nbconvert_exporter": "python",
   "pygments_lexer": "ipython3",
   "version": "3.8.12"
  }
 },
 "nbformat": 4,
 "nbformat_minor": 4
}
