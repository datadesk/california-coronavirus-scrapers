{
 "cells": [
  {
   "cell_type": "markdown",
   "metadata": {},
   "source": [
    "## Configuration\n",
    "_Initial steps to get the notebook ready to play nice with our repository. Do not delete this section._"
   ]
  },
  {
   "cell_type": "markdown",
   "metadata": {},
   "source": [
    "Code formatting with [black](https://pypi.org/project/nb-black/)."
   ]
  },
  {
   "cell_type": "code",
   "execution_count": 1,
   "metadata": {
    "execution": {
     "iopub.execute_input": "2022-08-02T16:19:43.447858Z",
     "iopub.status.busy": "2022-08-02T16:19:43.447453Z",
     "iopub.status.idle": "2022-08-02T16:19:43.584258Z",
     "shell.execute_reply": "2022-08-02T16:19:43.583794Z"
    }
   },
   "outputs": [],
   "source": [
    "%load_ext lab_black"
   ]
  },
  {
   "cell_type": "code",
   "execution_count": 2,
   "metadata": {
    "execution": {
     "iopub.execute_input": "2022-08-02T16:19:43.587960Z",
     "iopub.status.busy": "2022-08-02T16:19:43.587371Z",
     "iopub.status.idle": "2022-08-02T16:19:43.589826Z",
     "shell.execute_reply": "2022-08-02T16:19:43.589411Z"
    }
   },
   "outputs": [],
   "source": [
    "import os\n",
    "import pathlib"
   ]
  },
  {
   "cell_type": "code",
   "execution_count": 3,
   "metadata": {
    "execution": {
     "iopub.execute_input": "2022-08-02T16:19:43.595682Z",
     "iopub.status.busy": "2022-08-02T16:19:43.594932Z",
     "iopub.status.idle": "2022-08-02T16:19:43.596449Z",
     "shell.execute_reply": "2022-08-02T16:19:43.596798Z"
    }
   },
   "outputs": [],
   "source": [
    "this_dir = pathlib.Path(os.path.abspath(\"\"))"
   ]
  },
  {
   "cell_type": "code",
   "execution_count": 4,
   "metadata": {
    "execution": {
     "iopub.execute_input": "2022-08-02T16:19:43.599787Z",
     "iopub.status.busy": "2022-08-02T16:19:43.599374Z",
     "iopub.status.idle": "2022-08-02T16:19:43.602725Z",
     "shell.execute_reply": "2022-08-02T16:19:43.602359Z"
    }
   },
   "outputs": [],
   "source": [
    "data_dir = this_dir / \"data\""
   ]
  },
  {
   "cell_type": "code",
   "execution_count": 5,
   "metadata": {
    "execution": {
     "iopub.execute_input": "2022-08-02T16:19:43.606166Z",
     "iopub.status.busy": "2022-08-02T16:19:43.605756Z",
     "iopub.status.idle": "2022-08-02T16:19:43.960223Z",
     "shell.execute_reply": "2022-08-02T16:19:43.959431Z"
    }
   },
   "outputs": [],
   "source": [
    "import requests\n",
    "from bs4 import BeautifulSoup\n",
    "\n",
    "import json\n",
    "import re\n",
    "\n",
    "import pandas as pd\n",
    "import numpy as np\n",
    "\n",
    "import pytz\n",
    "import glob\n",
    "from datetime import datetime\n",
    "from tableauscraper import TableauScraper as TS"
   ]
  },
  {
   "cell_type": "markdown",
   "metadata": {},
   "source": [
    "## Download"
   ]
  },
  {
   "cell_type": "markdown",
   "metadata": {},
   "source": [
    "Paths to Dashboard"
   ]
  },
  {
   "cell_type": "code",
   "execution_count": 6,
   "metadata": {
    "execution": {
     "iopub.execute_input": "2022-08-02T16:19:43.964916Z",
     "iopub.status.busy": "2022-08-02T16:19:43.964065Z",
     "iopub.status.idle": "2022-08-02T16:19:43.968329Z",
     "shell.execute_reply": "2022-08-02T16:19:43.967609Z"
    }
   },
   "outputs": [],
   "source": [
    "host_url = \"https://public.tableau.com\"\n",
    "path = \"/views/COVID_Case_Dashboard_English/Overview\""
   ]
  },
  {
   "cell_type": "markdown",
   "metadata": {},
   "source": [
    "Retrive Dashboard data"
   ]
  },
  {
   "cell_type": "code",
   "execution_count": 7,
   "metadata": {
    "execution": {
     "iopub.execute_input": "2022-08-02T16:19:43.972372Z",
     "iopub.status.busy": "2022-08-02T16:19:43.971044Z",
     "iopub.status.idle": "2022-08-02T16:19:43.974949Z",
     "shell.execute_reply": "2022-08-02T16:19:43.974399Z"
    }
   },
   "outputs": [],
   "source": [
    "url = f\"{host_url}{path}\""
   ]
  },
  {
   "cell_type": "code",
   "execution_count": 8,
   "metadata": {
    "execution": {
     "iopub.execute_input": "2022-08-02T16:19:43.978179Z",
     "iopub.status.busy": "2022-08-02T16:19:43.977736Z",
     "iopub.status.idle": "2022-08-02T16:19:45.766980Z",
     "shell.execute_reply": "2022-08-02T16:19:45.767376Z"
    }
   },
   "outputs": [],
   "source": [
    "ts = TS()\n",
    "ts.loads(url)"
   ]
  },
  {
   "cell_type": "code",
   "execution_count": 9,
   "metadata": {
    "execution": {
     "iopub.execute_input": "2022-08-02T16:19:45.807717Z",
     "iopub.status.busy": "2022-08-02T16:19:45.798126Z",
     "iopub.status.idle": "2022-08-02T16:19:46.003970Z",
     "shell.execute_reply": "2022-08-02T16:19:46.003576Z"
    }
   },
   "outputs": [],
   "source": [
    "workbook = ts.getWorkbook()"
   ]
  },
  {
   "cell_type": "code",
   "execution_count": 10,
   "metadata": {
    "execution": {
     "iopub.execute_input": "2022-08-02T16:19:46.009218Z",
     "iopub.status.busy": "2022-08-02T16:19:46.008768Z",
     "iopub.status.idle": "2022-08-02T16:19:46.010693Z",
     "shell.execute_reply": "2022-08-02T16:19:46.010345Z"
    }
   },
   "outputs": [],
   "source": [
    "sheet = next(w for w in workbook.worksheets if w.name == \"City\")"
   ]
  },
  {
   "cell_type": "code",
   "execution_count": 11,
   "metadata": {
    "execution": {
     "iopub.execute_input": "2022-08-02T16:19:46.014443Z",
     "iopub.status.busy": "2022-08-02T16:19:46.013990Z",
     "iopub.status.idle": "2022-08-02T16:19:46.017396Z",
     "shell.execute_reply": "2022-08-02T16:19:46.017018Z"
    }
   },
   "outputs": [],
   "source": [
    "df = sheet.data"
   ]
  },
  {
   "cell_type": "code",
   "execution_count": 12,
   "metadata": {
    "execution": {
     "iopub.execute_input": "2022-08-02T16:19:46.024486Z",
     "iopub.status.busy": "2022-08-02T16:19:46.023106Z",
     "iopub.status.idle": "2022-08-02T16:19:46.028729Z",
     "shell.execute_reply": "2022-08-02T16:19:46.028340Z"
    }
   },
   "outputs": [],
   "source": [
    "city_df = df[df[\"Measure Names-alias\"] == \"Cases\"][\n",
    "    [\n",
    "        \"City -value\",\n",
    "        \"Measure Values-alias\",\n",
    "    ]\n",
    "].rename(columns={\"City -value\": \"area\", \"Measure Values-alias\": \"confirmed_cases\"})"
   ]
  },
  {
   "cell_type": "code",
   "execution_count": 13,
   "metadata": {
    "execution": {
     "iopub.execute_input": "2022-08-02T16:19:46.038293Z",
     "iopub.status.busy": "2022-08-02T16:19:46.035575Z",
     "iopub.status.idle": "2022-08-02T16:19:46.046110Z",
     "shell.execute_reply": "2022-08-02T16:19:46.046646Z"
    }
   },
   "outputs": [
    {
     "data": {
      "text/html": [
       "<div>\n",
       "<style scoped>\n",
       "    .dataframe tbody tr th:only-of-type {\n",
       "        vertical-align: middle;\n",
       "    }\n",
       "\n",
       "    .dataframe tbody tr th {\n",
       "        vertical-align: top;\n",
       "    }\n",
       "\n",
       "    .dataframe thead th {\n",
       "        text-align: right;\n",
       "    }\n",
       "</style>\n",
       "<table border=\"1\" class=\"dataframe\">\n",
       "  <thead>\n",
       "    <tr style=\"text-align: right;\">\n",
       "      <th></th>\n",
       "      <th>area</th>\n",
       "      <th>confirmed_cases</th>\n",
       "    </tr>\n",
       "  </thead>\n",
       "  <tbody>\n",
       "    <tr>\n",
       "      <th>9</th>\n",
       "      <td>Kettleman City</td>\n",
       "      <td>446</td>\n",
       "    </tr>\n",
       "    <tr>\n",
       "      <th>10</th>\n",
       "      <td>Other Area</td>\n",
       "      <td>480</td>\n",
       "    </tr>\n",
       "    <tr>\n",
       "      <th>11</th>\n",
       "      <td>Stratford</td>\n",
       "      <td>499</td>\n",
       "    </tr>\n",
       "    <tr>\n",
       "      <th>12</th>\n",
       "      <td>%null%</td>\n",
       "      <td>815</td>\n",
       "    </tr>\n",
       "    <tr>\n",
       "      <th>13</th>\n",
       "      <td>Armona</td>\n",
       "      <td>1,622</td>\n",
       "    </tr>\n",
       "    <tr>\n",
       "      <th>14</th>\n",
       "      <td>Avenal</td>\n",
       "      <td>7,295</td>\n",
       "    </tr>\n",
       "    <tr>\n",
       "      <th>15</th>\n",
       "      <td>Corcoran</td>\n",
       "      <td>10,902</td>\n",
       "    </tr>\n",
       "    <tr>\n",
       "      <th>16</th>\n",
       "      <td>Lemoore</td>\n",
       "      <td>11,035</td>\n",
       "    </tr>\n",
       "    <tr>\n",
       "      <th>17</th>\n",
       "      <td>Hanford</td>\n",
       "      <td>23,579</td>\n",
       "    </tr>\n",
       "  </tbody>\n",
       "</table>\n",
       "</div>"
      ],
      "text/plain": [
       "              area confirmed_cases\n",
       "9   Kettleman City             446\n",
       "10      Other Area             480\n",
       "11       Stratford             499\n",
       "12          %null%             815\n",
       "13          Armona           1,622\n",
       "14          Avenal           7,295\n",
       "15        Corcoran          10,902\n",
       "16         Lemoore          11,035\n",
       "17         Hanford          23,579"
      ]
     },
     "execution_count": 13,
     "metadata": {},
     "output_type": "execute_result"
    }
   ],
   "source": [
    "city_df"
   ]
  },
  {
   "cell_type": "code",
   "execution_count": 14,
   "metadata": {
    "execution": {
     "iopub.execute_input": "2022-08-02T16:19:46.051535Z",
     "iopub.status.busy": "2022-08-02T16:19:46.051092Z",
     "iopub.status.idle": "2022-08-02T16:19:46.055231Z",
     "shell.execute_reply": "2022-08-02T16:19:46.054487Z"
    }
   },
   "outputs": [],
   "source": [
    "df2 = next(w for w in workbook.worksheets if w.name == \"Totals Cases & Deaths\").data"
   ]
  },
  {
   "cell_type": "code",
   "execution_count": 15,
   "metadata": {
    "execution": {
     "iopub.execute_input": "2022-08-02T16:19:46.062332Z",
     "iopub.status.busy": "2022-08-02T16:19:46.060988Z",
     "iopub.status.idle": "2022-08-02T16:19:46.070049Z",
     "shell.execute_reply": "2022-08-02T16:19:46.069207Z"
    }
   },
   "outputs": [],
   "source": [
    "prison_df = (\n",
    "    df2[\n",
    "        (df2[\"Measure Names-alias\"] == \"Cases\")\n",
    "        & (df2[\"type-alias\"] == \"State Correctional Facilities\")\n",
    "    ]\n",
    "    .rename(columns={\"type-alias\": \"area\", \"Measure Values-alias\": \"confirmed_cases\"})[\n",
    "        [\"area\", \"confirmed_cases\"]\n",
    "    ]\n",
    "    .replace(\"State Correctional Facilities\", \"Correctional facilities\")\n",
    ")"
   ]
  },
  {
   "cell_type": "code",
   "execution_count": 16,
   "metadata": {
    "execution": {
     "iopub.execute_input": "2022-08-02T16:19:46.075711Z",
     "iopub.status.busy": "2022-08-02T16:19:46.071762Z",
     "iopub.status.idle": "2022-08-02T16:19:46.080003Z",
     "shell.execute_reply": "2022-08-02T16:19:46.079436Z"
    }
   },
   "outputs": [
    {
     "data": {
      "text/html": [
       "<div>\n",
       "<style scoped>\n",
       "    .dataframe tbody tr th:only-of-type {\n",
       "        vertical-align: middle;\n",
       "    }\n",
       "\n",
       "    .dataframe tbody tr th {\n",
       "        vertical-align: top;\n",
       "    }\n",
       "\n",
       "    .dataframe thead th {\n",
       "        text-align: right;\n",
       "    }\n",
       "</style>\n",
       "<table border=\"1\" class=\"dataframe\">\n",
       "  <thead>\n",
       "    <tr style=\"text-align: right;\">\n",
       "      <th></th>\n",
       "      <th>area</th>\n",
       "      <th>confirmed_cases</th>\n",
       "    </tr>\n",
       "  </thead>\n",
       "  <tbody>\n",
       "    <tr>\n",
       "      <th>4</th>\n",
       "      <td>Correctional facilities</td>\n",
       "      <td>9,897</td>\n",
       "    </tr>\n",
       "  </tbody>\n",
       "</table>\n",
       "</div>"
      ],
      "text/plain": [
       "                      area confirmed_cases\n",
       "4  Correctional facilities           9,897"
      ]
     },
     "execution_count": 16,
     "metadata": {},
     "output_type": "execute_result"
    }
   ],
   "source": [
    "prison_df"
   ]
  },
  {
   "cell_type": "markdown",
   "metadata": {},
   "source": [
    "Reorder columns, Combine and add date, Kings County, and fix text"
   ]
  },
  {
   "cell_type": "code",
   "execution_count": 17,
   "metadata": {
    "execution": {
     "iopub.execute_input": "2022-08-02T16:19:46.084801Z",
     "iopub.status.busy": "2022-08-02T16:19:46.084386Z",
     "iopub.status.idle": "2022-08-02T16:19:46.087346Z",
     "shell.execute_reply": "2022-08-02T16:19:46.086978Z"
    }
   },
   "outputs": [],
   "source": [
    "df_final = pd.concat([city_df, prison_df])"
   ]
  },
  {
   "cell_type": "code",
   "execution_count": 18,
   "metadata": {
    "execution": {
     "iopub.execute_input": "2022-08-02T16:19:46.092827Z",
     "iopub.status.busy": "2022-08-02T16:19:46.091130Z",
     "iopub.status.idle": "2022-08-02T16:19:46.095291Z",
     "shell.execute_reply": "2022-08-02T16:19:46.094949Z"
    }
   },
   "outputs": [],
   "source": [
    "df_final[\"county\"] = \"Kings\"\n",
    "df_final = df_final[[\"county\", \"area\", \"confirmed_cases\"]]"
   ]
  },
  {
   "cell_type": "code",
   "execution_count": 19,
   "metadata": {
    "execution": {
     "iopub.execute_input": "2022-08-02T16:19:46.101808Z",
     "iopub.status.busy": "2022-08-02T16:19:46.101367Z",
     "iopub.status.idle": "2022-08-02T16:19:46.106289Z",
     "shell.execute_reply": "2022-08-02T16:19:46.105928Z"
    }
   },
   "outputs": [
    {
     "data": {
      "text/html": [
       "<div>\n",
       "<style scoped>\n",
       "    .dataframe tbody tr th:only-of-type {\n",
       "        vertical-align: middle;\n",
       "    }\n",
       "\n",
       "    .dataframe tbody tr th {\n",
       "        vertical-align: top;\n",
       "    }\n",
       "\n",
       "    .dataframe thead th {\n",
       "        text-align: right;\n",
       "    }\n",
       "</style>\n",
       "<table border=\"1\" class=\"dataframe\">\n",
       "  <thead>\n",
       "    <tr style=\"text-align: right;\">\n",
       "      <th></th>\n",
       "      <th>county</th>\n",
       "      <th>area</th>\n",
       "      <th>confirmed_cases</th>\n",
       "    </tr>\n",
       "  </thead>\n",
       "  <tbody>\n",
       "    <tr>\n",
       "      <th>9</th>\n",
       "      <td>Kings</td>\n",
       "      <td>Kettleman City</td>\n",
       "      <td>446</td>\n",
       "    </tr>\n",
       "    <tr>\n",
       "      <th>10</th>\n",
       "      <td>Kings</td>\n",
       "      <td>Other Area</td>\n",
       "      <td>480</td>\n",
       "    </tr>\n",
       "    <tr>\n",
       "      <th>11</th>\n",
       "      <td>Kings</td>\n",
       "      <td>Stratford</td>\n",
       "      <td>499</td>\n",
       "    </tr>\n",
       "    <tr>\n",
       "      <th>12</th>\n",
       "      <td>Kings</td>\n",
       "      <td>%null%</td>\n",
       "      <td>815</td>\n",
       "    </tr>\n",
       "    <tr>\n",
       "      <th>13</th>\n",
       "      <td>Kings</td>\n",
       "      <td>Armona</td>\n",
       "      <td>1,622</td>\n",
       "    </tr>\n",
       "    <tr>\n",
       "      <th>14</th>\n",
       "      <td>Kings</td>\n",
       "      <td>Avenal</td>\n",
       "      <td>7,295</td>\n",
       "    </tr>\n",
       "    <tr>\n",
       "      <th>15</th>\n",
       "      <td>Kings</td>\n",
       "      <td>Corcoran</td>\n",
       "      <td>10,902</td>\n",
       "    </tr>\n",
       "    <tr>\n",
       "      <th>16</th>\n",
       "      <td>Kings</td>\n",
       "      <td>Lemoore</td>\n",
       "      <td>11,035</td>\n",
       "    </tr>\n",
       "    <tr>\n",
       "      <th>17</th>\n",
       "      <td>Kings</td>\n",
       "      <td>Hanford</td>\n",
       "      <td>23,579</td>\n",
       "    </tr>\n",
       "    <tr>\n",
       "      <th>4</th>\n",
       "      <td>Kings</td>\n",
       "      <td>Correctional facilities</td>\n",
       "      <td>9,897</td>\n",
       "    </tr>\n",
       "  </tbody>\n",
       "</table>\n",
       "</div>"
      ],
      "text/plain": [
       "   county                     area confirmed_cases\n",
       "9   Kings           Kettleman City             446\n",
       "10  Kings               Other Area             480\n",
       "11  Kings                Stratford             499\n",
       "12  Kings                   %null%             815\n",
       "13  Kings                   Armona           1,622\n",
       "14  Kings                   Avenal           7,295\n",
       "15  Kings                 Corcoran          10,902\n",
       "16  Kings                  Lemoore          11,035\n",
       "17  Kings                  Hanford          23,579\n",
       "4   Kings  Correctional facilities           9,897"
      ]
     },
     "execution_count": 19,
     "metadata": {},
     "output_type": "execute_result"
    }
   ],
   "source": [
    "df_final"
   ]
  },
  {
   "cell_type": "markdown",
   "metadata": {},
   "source": [
    "Remove any commas from cases column"
   ]
  },
  {
   "cell_type": "code",
   "execution_count": 20,
   "metadata": {
    "execution": {
     "iopub.execute_input": "2022-08-02T16:19:46.111211Z",
     "iopub.status.busy": "2022-08-02T16:19:46.109527Z",
     "iopub.status.idle": "2022-08-02T16:19:46.113801Z",
     "shell.execute_reply": "2022-08-02T16:19:46.113415Z"
    }
   },
   "outputs": [],
   "source": [
    "df_final[\"confirmed_cases\"] = df_final.confirmed_cases.replace(\",\", \"\", regex=True)"
   ]
  },
  {
   "cell_type": "markdown",
   "metadata": {},
   "source": [
    "## Vet"
   ]
  },
  {
   "cell_type": "code",
   "execution_count": 21,
   "metadata": {
    "execution": {
     "iopub.execute_input": "2022-08-02T16:19:46.117487Z",
     "iopub.status.busy": "2022-08-02T16:19:46.117027Z",
     "iopub.status.idle": "2022-08-02T16:19:46.120874Z",
     "shell.execute_reply": "2022-08-02T16:19:46.120484Z"
    }
   },
   "outputs": [],
   "source": [
    "default_kings_len = 9"
   ]
  },
  {
   "cell_type": "code",
   "execution_count": 22,
   "metadata": {
    "execution": {
     "iopub.execute_input": "2022-08-02T16:19:46.125854Z",
     "iopub.status.busy": "2022-08-02T16:19:46.125396Z",
     "iopub.status.idle": "2022-08-02T16:19:46.244959Z",
     "shell.execute_reply": "2022-08-02T16:19:46.244507Z"
    }
   },
   "outputs": [
    {
     "ename": "AssertionError",
     "evalue": "Kings County has more rows than before",
     "output_type": "error",
     "traceback": [
      "\u001b[0;31m---------------------------------------------------------------------------\u001b[0m",
      "\u001b[0;31mAssertionError\u001b[0m                            Traceback (most recent call last)",
      "\u001b[0;32m/tmp/ipykernel_2222/2395346492.py\u001b[0m in \u001b[0;36m<module>\u001b[0;34m\u001b[0m\n\u001b[1;32m      1\u001b[0m \u001b[0;32mtry\u001b[0m\u001b[0;34m:\u001b[0m\u001b[0;34m\u001b[0m\u001b[0;34m\u001b[0m\u001b[0m\n\u001b[0;32m----> 2\u001b[0;31m     \u001b[0;32massert\u001b[0m \u001b[0;32mnot\u001b[0m \u001b[0mlen\u001b[0m\u001b[0;34m(\u001b[0m\u001b[0mdf_final\u001b[0m\u001b[0;34m)\u001b[0m \u001b[0;34m>\u001b[0m \u001b[0mdefault_kings_len\u001b[0m\u001b[0;34m\u001b[0m\u001b[0;34m\u001b[0m\u001b[0m\n\u001b[0m\u001b[1;32m      3\u001b[0m \u001b[0;32mexcept\u001b[0m \u001b[0mAssertionError\u001b[0m\u001b[0;34m:\u001b[0m\u001b[0;34m\u001b[0m\u001b[0;34m\u001b[0m\u001b[0m\n",
      "\u001b[0;31mAssertionError\u001b[0m: ",
      "\nDuring handling of the above exception, another exception occurred:\n",
      "\u001b[0;31mAssertionError\u001b[0m                            Traceback (most recent call last)",
      "\u001b[0;32m/tmp/ipykernel_2222/2395346492.py\u001b[0m in \u001b[0;36m<module>\u001b[0;34m\u001b[0m\n\u001b[1;32m      2\u001b[0m     \u001b[0;32massert\u001b[0m \u001b[0;32mnot\u001b[0m \u001b[0mlen\u001b[0m\u001b[0;34m(\u001b[0m\u001b[0mdf_final\u001b[0m\u001b[0;34m)\u001b[0m \u001b[0;34m>\u001b[0m \u001b[0mdefault_kings_len\u001b[0m\u001b[0;34m\u001b[0m\u001b[0;34m\u001b[0m\u001b[0m\n\u001b[1;32m      3\u001b[0m \u001b[0;32mexcept\u001b[0m \u001b[0mAssertionError\u001b[0m\u001b[0;34m:\u001b[0m\u001b[0;34m\u001b[0m\u001b[0;34m\u001b[0m\u001b[0m\n\u001b[0;32m----> 4\u001b[0;31m     \u001b[0;32mraise\u001b[0m \u001b[0mAssertionError\u001b[0m\u001b[0;34m(\u001b[0m\u001b[0;34m\"Kings County has more rows than before\"\u001b[0m\u001b[0;34m)\u001b[0m\u001b[0;34m\u001b[0m\u001b[0;34m\u001b[0m\u001b[0m\n\u001b[0m",
      "\u001b[0;31mAssertionError\u001b[0m: Kings County has more rows than before"
     ]
    }
   ],
   "source": [
    "try:\n",
    "    assert not len(df_final) > default_kings_len\n",
    "except AssertionError:\n",
    "    raise AssertionError(\"Kings County has more rows than before\")"
   ]
  },
  {
   "cell_type": "code",
   "execution_count": 23,
   "metadata": {},
   "outputs": [],
   "source": [
    "try:\n",
    "    assert not len(df_final) < default_kings_len\n",
    "except AssertionError:\n",
    "    raise AssertionError(\"Kings County has missing row(s)\")"
   ]
  },
  {
   "cell_type": "markdown",
   "metadata": {},
   "source": [
    "## Export"
   ]
  },
  {
   "cell_type": "markdown",
   "metadata": {},
   "source": [
    "Set the date"
   ]
  },
  {
   "cell_type": "code",
   "execution_count": 24,
   "metadata": {},
   "outputs": [],
   "source": [
    "tz = pytz.timezone(\"America/Los_Angeles\")"
   ]
  },
  {
   "cell_type": "code",
   "execution_count": 25,
   "metadata": {},
   "outputs": [],
   "source": [
    "today = datetime.now(tz).date()"
   ]
  },
  {
   "cell_type": "code",
   "execution_count": 26,
   "metadata": {},
   "outputs": [],
   "source": [
    "slug = \"kings\""
   ]
  },
  {
   "cell_type": "code",
   "execution_count": 27,
   "metadata": {},
   "outputs": [],
   "source": [
    "df_final[\"county_date\"] = today"
   ]
  },
  {
   "cell_type": "code",
   "execution_count": 28,
   "metadata": {},
   "outputs": [],
   "source": [
    "df_final.to_csv(data_dir / slug / f\"{today}.csv\", index=False)"
   ]
  },
  {
   "cell_type": "markdown",
   "metadata": {
    "tags": []
   },
   "source": [
    "## Combine"
   ]
  },
  {
   "cell_type": "code",
   "execution_count": 29,
   "metadata": {},
   "outputs": [],
   "source": [
    "csv_list = [\n",
    "    i\n",
    "    for i in glob.glob(str(data_dir / slug / \"*.csv\"))\n",
    "    if not str(i).endswith(\"timeseries.csv\")\n",
    "]"
   ]
  },
  {
   "cell_type": "code",
   "execution_count": 30,
   "metadata": {},
   "outputs": [],
   "source": [
    "df_list = []\n",
    "for csv in csv_list:\n",
    "    if \"manual\" in csv:\n",
    "        df = pd.read_csv(csv, parse_dates=[\"date\"])\n",
    "    else:\n",
    "        file_date = csv.split(\"/\")[-1].replace(\".csv\", \"\")\n",
    "        df = pd.read_csv(csv, parse_dates=[\"county_date\"])\n",
    "        df[\"date\"] = file_date\n",
    "    df_list.append(df)"
   ]
  },
  {
   "cell_type": "code",
   "execution_count": 31,
   "metadata": {},
   "outputs": [],
   "source": [
    "df = pd.concat(df_list).sort_values([\"date\", \"area\"]).drop_duplicates()"
   ]
  },
  {
   "cell_type": "code",
   "execution_count": 32,
   "metadata": {},
   "outputs": [],
   "source": [
    "df.to_csv(data_dir / slug / \"timeseries.csv\", index=False)"
   ]
  }
 ],
 "metadata": {
  "kernelspec": {
   "display_name": "Python 3 (ipykernel)",
   "language": "python",
   "name": "python3"
  },
  "language_info": {
   "codemirror_mode": {
    "name": "ipython",
    "version": 3
   },
   "file_extension": ".py",
   "mimetype": "text/x-python",
   "name": "python",
   "nbconvert_exporter": "python",
   "pygments_lexer": "ipython3",
   "version": "3.8.13"
  }
 },
 "nbformat": 4,
 "nbformat_minor": 4
}
