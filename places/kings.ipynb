{
 "cells": [
  {
   "cell_type": "markdown",
   "metadata": {},
   "source": [
    "## Configuration\n",
    "_Initial steps to get the notebook ready to play nice with our repository. Do not delete this section._"
   ]
  },
  {
   "cell_type": "markdown",
   "metadata": {},
   "source": [
    "Code formatting with [black](https://pypi.org/project/nb-black/)."
   ]
  },
  {
   "cell_type": "code",
   "execution_count": 1,
   "metadata": {
    "execution": {
     "iopub.execute_input": "2021-10-26T16:21:37.466138Z",
     "iopub.status.busy": "2021-10-26T16:21:37.465576Z",
     "iopub.status.idle": "2021-10-26T16:21:37.575261Z",
     "shell.execute_reply": "2021-10-26T16:21:37.575962Z"
    }
   },
   "outputs": [],
   "source": [
    "%load_ext lab_black"
   ]
  },
  {
   "cell_type": "code",
   "execution_count": 2,
   "metadata": {
    "execution": {
     "iopub.execute_input": "2021-10-26T16:21:37.579891Z",
     "iopub.status.busy": "2021-10-26T16:21:37.579216Z",
     "iopub.status.idle": "2021-10-26T16:21:37.581005Z",
     "shell.execute_reply": "2021-10-26T16:21:37.580601Z"
    }
   },
   "outputs": [],
   "source": [
    "import os\n",
    "import pathlib"
   ]
  },
  {
   "cell_type": "code",
   "execution_count": 3,
   "metadata": {
    "execution": {
     "iopub.execute_input": "2021-10-26T16:21:37.586556Z",
     "iopub.status.busy": "2021-10-26T16:21:37.585561Z",
     "iopub.status.idle": "2021-10-26T16:21:37.587663Z",
     "shell.execute_reply": "2021-10-26T16:21:37.587349Z"
    }
   },
   "outputs": [],
   "source": [
    "this_dir = pathlib.Path(os.path.abspath(\"\"))"
   ]
  },
  {
   "cell_type": "code",
   "execution_count": 4,
   "metadata": {
    "execution": {
     "iopub.execute_input": "2021-10-26T16:21:37.591645Z",
     "iopub.status.busy": "2021-10-26T16:21:37.590978Z",
     "iopub.status.idle": "2021-10-26T16:21:37.592744Z",
     "shell.execute_reply": "2021-10-26T16:21:37.592439Z"
    }
   },
   "outputs": [],
   "source": [
    "data_dir = this_dir / \"data\""
   ]
  },
  {
   "cell_type": "code",
   "execution_count": 5,
   "metadata": {
    "execution": {
     "iopub.execute_input": "2021-10-26T16:21:37.595648Z",
     "iopub.status.busy": "2021-10-26T16:21:37.595278Z",
     "iopub.status.idle": "2021-10-26T16:21:37.943639Z",
     "shell.execute_reply": "2021-10-26T16:21:37.944401Z"
    }
   },
   "outputs": [],
   "source": [
    "import requests\n",
    "from bs4 import BeautifulSoup\n",
    "\n",
    "import json\n",
    "import re\n",
    "\n",
    "import pandas as pd\n",
    "import numpy as np\n",
    "\n",
    "import pytz\n",
    "import glob\n",
    "from datetime import datetime"
   ]
  },
  {
   "cell_type": "markdown",
   "metadata": {},
   "source": [
    "## Download"
   ]
  },
  {
   "cell_type": "markdown",
   "metadata": {},
   "source": [
    "Paths to Dashboard"
   ]
  },
  {
   "cell_type": "code",
   "execution_count": 6,
   "metadata": {
    "execution": {
     "iopub.execute_input": "2021-10-26T16:21:37.949628Z",
     "iopub.status.busy": "2021-10-26T16:21:37.948359Z",
     "iopub.status.idle": "2021-10-26T16:21:37.953923Z",
     "shell.execute_reply": "2021-10-26T16:21:37.953488Z"
    }
   },
   "outputs": [],
   "source": [
    "host_url = \"https://public.tableau.com\"\n",
    "path = \"/views/TITLEDStorylinewithallinone/Storyline2\""
   ]
  },
  {
   "cell_type": "markdown",
   "metadata": {},
   "source": [
    "Retrive Dashboard data"
   ]
  },
  {
   "cell_type": "code",
   "execution_count": 7,
   "metadata": {
    "execution": {
     "iopub.execute_input": "2021-10-26T16:21:37.961196Z",
     "iopub.status.busy": "2021-10-26T16:21:37.958274Z",
     "iopub.status.idle": "2021-10-26T16:21:38.702315Z",
     "shell.execute_reply": "2021-10-26T16:21:38.701282Z"
    }
   },
   "outputs": [],
   "source": [
    "url = f\"{host_url}{path}\"\n",
    "\n",
    "r = requests.get(url, params={\":embed\": \"y\", \":showVizHome\": \"no\"})\n",
    "soup = BeautifulSoup(r.text, \"html.parser\")\n",
    "\n",
    "tableauData = json.loads(soup.find(\"textarea\", {\"id\": \"tsConfigContainer\"}).text)\n",
    "\n",
    "dataUrl = f'{host_url}{tableauData[\"vizql_root\"]}/bootstrapSession/sessions/{tableauData[\"sessionid\"]}'\n",
    "\n",
    "r = requests.post(\n",
    "    dataUrl,\n",
    "    data={\n",
    "        \"sheet_id\": tableauData[\"sheetId\"],\n",
    "    },\n",
    ")\n",
    "\n",
    "dataReg = re.search(\"\\d+;({.*})\\d+;({.*})\", r.text, re.MULTILINE)\n",
    "info = json.loads(dataReg.group(1))\n",
    "data = json.loads(dataReg.group(2))"
   ]
  },
  {
   "cell_type": "markdown",
   "metadata": {},
   "source": [
    "## Parse"
   ]
  },
  {
   "cell_type": "markdown",
   "metadata": {},
   "source": [
    "Filter out the cities data"
   ]
  },
  {
   "cell_type": "code",
   "execution_count": 8,
   "metadata": {
    "execution": {
     "iopub.execute_input": "2021-10-26T16:21:38.716163Z",
     "iopub.status.busy": "2021-10-26T16:21:38.710754Z",
     "iopub.status.idle": "2021-10-26T16:21:38.764600Z",
     "shell.execute_reply": "2021-10-26T16:21:38.764003Z"
    }
   },
   "outputs": [],
   "source": [
    "columnsData = info[\"worldUpdate\"][\"applicationPresModel\"][\"workbookPresModel\"][\n",
    "    \"dashboardPresModel\"\n",
    "][\"zones\"][\"5\"][\"presModelHolder\"][\"flipboard\"][\"storyPoints\"][\"1\"][\n",
    "    \"dashboardPresModel\"\n",
    "][\n",
    "    \"zones\"\n",
    "][\n",
    "    \"33\"\n",
    "][\n",
    "    \"presModelHolder\"\n",
    "][\n",
    "    \"visual\"\n",
    "][\n",
    "    \"vizData\"\n",
    "][\n",
    "    \"paneColumnsData\"\n",
    "]\n",
    "result = [\n",
    "    {\n",
    "        \"fieldCaption\": t.get(\"fieldCaption\", \"\"),\n",
    "        \"valueIndices\": columnsData[\"paneColumnsList\"][t[\"paneIndices\"][0]][\n",
    "            \"vizPaneColumns\"\n",
    "        ][t[\"columnIndices\"][0]][\"valueIndices\"],\n",
    "        \"aliasIndices\": columnsData[\"paneColumnsList\"][t[\"paneIndices\"][0]][\n",
    "            \"vizPaneColumns\"\n",
    "        ][t[\"columnIndices\"][0]][\"aliasIndices\"],\n",
    "        \"dataType\": t.get(\"dataType\"),\n",
    "        \"paneIndices\": t[\"paneIndices\"][0],\n",
    "        \"columnIndices\": t[\"columnIndices\"][0],\n",
    "    }\n",
    "    for t in columnsData[\"vizDataColumns\"]\n",
    "    if t.get(\"fieldCaption\")\n",
    "]\n",
    "dataFull = data[\"secondaryInfo\"][\"presModelMap\"][\"dataDictionary\"][\"presModelHolder\"][\n",
    "    \"genDataDictionaryPresModel\"\n",
    "][\"dataSegments\"][\"0\"][\"dataColumns\"]\n",
    "\n",
    "\n",
    "def onAlias(it, value, cstring):\n",
    "    return value[it] if (it >= 0) else cstring[\"dataValues\"][abs(it) - 1]\n",
    "\n",
    "\n",
    "frameData = {}\n",
    "cstring = [t for t in dataFull if t[\"dataType\"] == \"cstring\"][0]\n",
    "for t in dataFull:\n",
    "    for index in result:\n",
    "        if t[\"dataType\"] == index[\"dataType\"]:\n",
    "            if len(index[\"valueIndices\"]) > 0:\n",
    "                frameData[f'{index[\"fieldCaption\"]}-value'] = [\n",
    "                    t[\"dataValues\"][abs(it)] for it in index[\"valueIndices\"]\n",
    "                ]\n",
    "            if len(index[\"aliasIndices\"]) > 0:\n",
    "                filterOut = [\n",
    "                    onAlias(it, t[\"dataValues\"], cstring)\n",
    "                    for it in index[\"aliasIndices\"]\n",
    "                ]\n",
    "                try:\n",
    "                    if filterOut[0] > 1:\n",
    "                        frameData[f'{index[\"fieldCaption\"]}-alias'] = [\n",
    "                            onAlias(it, t[\"dataValues\"], cstring)\n",
    "                            for it in index[\"aliasIndices\"]\n",
    "                        ]\n",
    "                except:\n",
    "                    frameData[f'{index[\"fieldCaption\"]}-alias'] = [\n",
    "                        onAlias(it, t[\"dataValues\"], cstring)\n",
    "                        for it in index[\"aliasIndices\"]\n",
    "                    ]"
   ]
  },
  {
   "cell_type": "markdown",
   "metadata": {},
   "source": [
    "Get Correctional facilities data"
   ]
  },
  {
   "cell_type": "code",
   "execution_count": 9,
   "metadata": {
    "execution": {
     "iopub.execute_input": "2021-10-26T16:21:38.777482Z",
     "iopub.status.busy": "2021-10-26T16:21:38.772210Z",
     "iopub.status.idle": "2021-10-26T16:21:38.819807Z",
     "shell.execute_reply": "2021-10-26T16:21:38.819067Z"
    }
   },
   "outputs": [],
   "source": [
    "columnsData = info[\"worldUpdate\"][\"applicationPresModel\"][\"workbookPresModel\"][\n",
    "    \"dashboardPresModel\"\n",
    "][\"zones\"][\"5\"][\"presModelHolder\"][\"flipboard\"][\"storyPoints\"][\"1\"][\n",
    "    \"dashboardPresModel\"\n",
    "][\n",
    "    \"zones\"\n",
    "][\n",
    "    \"8\"\n",
    "][\n",
    "    \"presModelHolder\"\n",
    "][\n",
    "    \"visual\"\n",
    "][\n",
    "    \"vizData\"\n",
    "][\n",
    "    \"paneColumnsData\"\n",
    "]\n",
    "result = [\n",
    "    {\n",
    "        \"fieldCaption\": t.get(\"fieldCaption\", \"\"),\n",
    "        \"valueIndices\": columnsData[\"paneColumnsList\"][t[\"paneIndices\"][0]][\n",
    "            \"vizPaneColumns\"\n",
    "        ][t[\"columnIndices\"][0]][\"valueIndices\"],\n",
    "        \"aliasIndices\": columnsData[\"paneColumnsList\"][t[\"paneIndices\"][0]][\n",
    "            \"vizPaneColumns\"\n",
    "        ][t[\"columnIndices\"][0]][\"aliasIndices\"],\n",
    "        \"dataType\": t.get(\"dataType\"),\n",
    "        \"paneIndices\": t[\"paneIndices\"][0],\n",
    "        \"columnIndices\": t[\"columnIndices\"][0],\n",
    "    }\n",
    "    for t in columnsData[\"vizDataColumns\"]\n",
    "    if t.get(\"fieldCaption\")\n",
    "]\n",
    "dataFull = data[\"secondaryInfo\"][\"presModelMap\"][\"dataDictionary\"][\"presModelHolder\"][\n",
    "    \"genDataDictionaryPresModel\"\n",
    "][\"dataSegments\"][\"0\"][\"dataColumns\"]\n",
    "\n",
    "\n",
    "def onAlias(it, value, cstring):\n",
    "    return value[it] if (it >= 0) else cstring[\"dataValues\"][abs(it) - 1]\n",
    "\n",
    "\n",
    "frameData_2 = {}\n",
    "cstring = [t for t in dataFull if t[\"dataType\"] == \"cstring\"][0]\n",
    "for t in dataFull:\n",
    "    for index in result:\n",
    "        if t[\"dataType\"] == index[\"dataType\"]:\n",
    "            if len(index[\"valueIndices\"]) > 0:\n",
    "                frameData_2[f'{index[\"fieldCaption\"]}-value'] = [\n",
    "                    t[\"dataValues\"][abs(it)] for it in index[\"valueIndices\"]\n",
    "                ]\n",
    "            #                 print(frameData[f'{index[\"fieldCaption\"]}-value'])\n",
    "            if len(index[\"aliasIndices\"]) > 0:\n",
    "                filterOut = [\n",
    "                    onAlias(it, t[\"dataValues\"], cstring)\n",
    "                    for it in index[\"aliasIndices\"]\n",
    "                ]\n",
    "                try:\n",
    "                    if filterOut[0] > 1:\n",
    "                        frameData_2[f'{index[\"fieldCaption\"]}-alias'] = [\n",
    "                            onAlias(it, t[\"dataValues\"], cstring)\n",
    "                            for it in index[\"aliasIndices\"]\n",
    "                        ]\n",
    "                except:\n",
    "                    frameData_2[f'{index[\"fieldCaption\"]}-alias'] = [\n",
    "                        onAlias(it, t[\"dataValues\"], cstring)\n",
    "                        for it in index[\"aliasIndices\"]\n",
    "                    ]"
   ]
  },
  {
   "cell_type": "markdown",
   "metadata": {},
   "source": [
    "Turn both into DataFrames"
   ]
  },
  {
   "cell_type": "code",
   "execution_count": 10,
   "metadata": {
    "execution": {
     "iopub.execute_input": "2021-10-26T16:21:38.830329Z",
     "iopub.status.busy": "2021-10-26T16:21:38.826859Z",
     "iopub.status.idle": "2021-10-26T16:21:38.833288Z",
     "shell.execute_reply": "2021-10-26T16:21:38.832886Z"
    }
   },
   "outputs": [],
   "source": [
    "df = pd.DataFrame.from_dict(frameData, orient=\"index\").fillna(0).T\n",
    "df_2 = pd.DataFrame.from_dict(frameData_2, orient=\"index\").fillna(0).T"
   ]
  },
  {
   "cell_type": "markdown",
   "metadata": {},
   "source": [
    "Just get correctional facilities cases from second dataframe"
   ]
  },
  {
   "cell_type": "code",
   "execution_count": 11,
   "metadata": {
    "execution": {
     "iopub.execute_input": "2021-10-26T16:21:38.837203Z",
     "iopub.status.busy": "2021-10-26T16:21:38.835217Z",
     "iopub.status.idle": "2021-10-26T16:21:38.840514Z",
     "shell.execute_reply": "2021-10-26T16:21:38.840160Z"
    }
   },
   "outputs": [],
   "source": [
    "df_2 = df_2[df_2[\"Measure Names-alias\"] == \"Cases\"]"
   ]
  },
  {
   "cell_type": "code",
   "execution_count": 12,
   "metadata": {
    "execution": {
     "iopub.execute_input": "2021-10-26T16:21:38.844005Z",
     "iopub.status.busy": "2021-10-26T16:21:38.843566Z",
     "iopub.status.idle": "2021-10-26T16:21:38.956494Z",
     "shell.execute_reply": "2021-10-26T16:21:38.957314Z"
    }
   },
   "outputs": [
    {
     "ename": "KeyError",
     "evalue": "'Kings County-alias'",
     "output_type": "error",
     "traceback": [
      "\u001b[0;31m---------------------------------------------------------------------------\u001b[0m",
      "\u001b[0;31mKeyError\u001b[0m                                  Traceback (most recent call last)",
      "\u001b[0;32m~/.local/share/virtualenvs/california-coronavirus-scrapers-dxuBXRsm/lib/python3.8/site-packages/pandas/core/indexes/base.py\u001b[0m in \u001b[0;36mget_loc\u001b[0;34m(self, key, method, tolerance)\u001b[0m\n\u001b[1;32m   3360\u001b[0m             \u001b[0;32mtry\u001b[0m\u001b[0;34m:\u001b[0m\u001b[0;34m\u001b[0m\u001b[0;34m\u001b[0m\u001b[0m\n\u001b[0;32m-> 3361\u001b[0;31m                 \u001b[0;32mreturn\u001b[0m \u001b[0mself\u001b[0m\u001b[0;34m.\u001b[0m\u001b[0m_engine\u001b[0m\u001b[0;34m.\u001b[0m\u001b[0mget_loc\u001b[0m\u001b[0;34m(\u001b[0m\u001b[0mcasted_key\u001b[0m\u001b[0;34m)\u001b[0m\u001b[0;34m\u001b[0m\u001b[0;34m\u001b[0m\u001b[0m\n\u001b[0m\u001b[1;32m   3362\u001b[0m             \u001b[0;32mexcept\u001b[0m \u001b[0mKeyError\u001b[0m \u001b[0;32mas\u001b[0m \u001b[0merr\u001b[0m\u001b[0;34m:\u001b[0m\u001b[0;34m\u001b[0m\u001b[0;34m\u001b[0m\u001b[0m\n",
      "\u001b[0;32m~/.local/share/virtualenvs/california-coronavirus-scrapers-dxuBXRsm/lib/python3.8/site-packages/pandas/_libs/index.pyx\u001b[0m in \u001b[0;36mpandas._libs.index.IndexEngine.get_loc\u001b[0;34m()\u001b[0m\n",
      "\u001b[0;32m~/.local/share/virtualenvs/california-coronavirus-scrapers-dxuBXRsm/lib/python3.8/site-packages/pandas/_libs/index.pyx\u001b[0m in \u001b[0;36mpandas._libs.index.IndexEngine.get_loc\u001b[0;34m()\u001b[0m\n",
      "\u001b[0;32mpandas/_libs/hashtable_class_helper.pxi\u001b[0m in \u001b[0;36mpandas._libs.hashtable.PyObjectHashTable.get_item\u001b[0;34m()\u001b[0m\n",
      "\u001b[0;32mpandas/_libs/hashtable_class_helper.pxi\u001b[0m in \u001b[0;36mpandas._libs.hashtable.PyObjectHashTable.get_item\u001b[0;34m()\u001b[0m\n",
      "\u001b[0;31mKeyError\u001b[0m: 'Kings County-alias'",
      "\nThe above exception was the direct cause of the following exception:\n",
      "\u001b[0;31mKeyError\u001b[0m                                  Traceback (most recent call last)",
      "\u001b[0;32m/tmp/ipykernel_3374/3091981769.py\u001b[0m in \u001b[0;36m<module>\u001b[0;34m\u001b[0m\n\u001b[0;32m----> 1\u001b[0;31m \u001b[0mdf_2\u001b[0m \u001b[0;34m=\u001b[0m \u001b[0mdf_2\u001b[0m\u001b[0;34m[\u001b[0m\u001b[0mdf_2\u001b[0m\u001b[0;34m[\u001b[0m\u001b[0;34m\"Kings County-alias\"\u001b[0m\u001b[0;34m]\u001b[0m \u001b[0;34m==\u001b[0m \u001b[0;34m\"State Correctional Facility (Inmate)\"\u001b[0m\u001b[0;34m]\u001b[0m\u001b[0;34m\u001b[0m\u001b[0;34m\u001b[0m\u001b[0m\n\u001b[0m",
      "\u001b[0;32m~/.local/share/virtualenvs/california-coronavirus-scrapers-dxuBXRsm/lib/python3.8/site-packages/pandas/core/frame.py\u001b[0m in \u001b[0;36m__getitem__\u001b[0;34m(self, key)\u001b[0m\n\u001b[1;32m   3456\u001b[0m             \u001b[0;32mif\u001b[0m \u001b[0mself\u001b[0m\u001b[0;34m.\u001b[0m\u001b[0mcolumns\u001b[0m\u001b[0;34m.\u001b[0m\u001b[0mnlevels\u001b[0m \u001b[0;34m>\u001b[0m \u001b[0;36m1\u001b[0m\u001b[0;34m:\u001b[0m\u001b[0;34m\u001b[0m\u001b[0;34m\u001b[0m\u001b[0m\n\u001b[1;32m   3457\u001b[0m                 \u001b[0;32mreturn\u001b[0m \u001b[0mself\u001b[0m\u001b[0;34m.\u001b[0m\u001b[0m_getitem_multilevel\u001b[0m\u001b[0;34m(\u001b[0m\u001b[0mkey\u001b[0m\u001b[0;34m)\u001b[0m\u001b[0;34m\u001b[0m\u001b[0;34m\u001b[0m\u001b[0m\n\u001b[0;32m-> 3458\u001b[0;31m             \u001b[0mindexer\u001b[0m \u001b[0;34m=\u001b[0m \u001b[0mself\u001b[0m\u001b[0;34m.\u001b[0m\u001b[0mcolumns\u001b[0m\u001b[0;34m.\u001b[0m\u001b[0mget_loc\u001b[0m\u001b[0;34m(\u001b[0m\u001b[0mkey\u001b[0m\u001b[0;34m)\u001b[0m\u001b[0;34m\u001b[0m\u001b[0;34m\u001b[0m\u001b[0m\n\u001b[0m\u001b[1;32m   3459\u001b[0m             \u001b[0;32mif\u001b[0m \u001b[0mis_integer\u001b[0m\u001b[0;34m(\u001b[0m\u001b[0mindexer\u001b[0m\u001b[0;34m)\u001b[0m\u001b[0;34m:\u001b[0m\u001b[0;34m\u001b[0m\u001b[0;34m\u001b[0m\u001b[0m\n\u001b[1;32m   3460\u001b[0m                 \u001b[0mindexer\u001b[0m \u001b[0;34m=\u001b[0m \u001b[0;34m[\u001b[0m\u001b[0mindexer\u001b[0m\u001b[0;34m]\u001b[0m\u001b[0;34m\u001b[0m\u001b[0;34m\u001b[0m\u001b[0m\n",
      "\u001b[0;32m~/.local/share/virtualenvs/california-coronavirus-scrapers-dxuBXRsm/lib/python3.8/site-packages/pandas/core/indexes/base.py\u001b[0m in \u001b[0;36mget_loc\u001b[0;34m(self, key, method, tolerance)\u001b[0m\n\u001b[1;32m   3361\u001b[0m                 \u001b[0;32mreturn\u001b[0m \u001b[0mself\u001b[0m\u001b[0;34m.\u001b[0m\u001b[0m_engine\u001b[0m\u001b[0;34m.\u001b[0m\u001b[0mget_loc\u001b[0m\u001b[0;34m(\u001b[0m\u001b[0mcasted_key\u001b[0m\u001b[0;34m)\u001b[0m\u001b[0;34m\u001b[0m\u001b[0;34m\u001b[0m\u001b[0m\n\u001b[1;32m   3362\u001b[0m             \u001b[0;32mexcept\u001b[0m \u001b[0mKeyError\u001b[0m \u001b[0;32mas\u001b[0m \u001b[0merr\u001b[0m\u001b[0;34m:\u001b[0m\u001b[0;34m\u001b[0m\u001b[0;34m\u001b[0m\u001b[0m\n\u001b[0;32m-> 3363\u001b[0;31m                 \u001b[0;32mraise\u001b[0m \u001b[0mKeyError\u001b[0m\u001b[0;34m(\u001b[0m\u001b[0mkey\u001b[0m\u001b[0;34m)\u001b[0m \u001b[0;32mfrom\u001b[0m \u001b[0merr\u001b[0m\u001b[0;34m\u001b[0m\u001b[0;34m\u001b[0m\u001b[0m\n\u001b[0m\u001b[1;32m   3364\u001b[0m \u001b[0;34m\u001b[0m\u001b[0m\n\u001b[1;32m   3365\u001b[0m         \u001b[0;32mif\u001b[0m \u001b[0mis_scalar\u001b[0m\u001b[0;34m(\u001b[0m\u001b[0mkey\u001b[0m\u001b[0;34m)\u001b[0m \u001b[0;32mand\u001b[0m \u001b[0misna\u001b[0m\u001b[0;34m(\u001b[0m\u001b[0mkey\u001b[0m\u001b[0;34m)\u001b[0m \u001b[0;32mand\u001b[0m \u001b[0;32mnot\u001b[0m \u001b[0mself\u001b[0m\u001b[0;34m.\u001b[0m\u001b[0mhasnans\u001b[0m\u001b[0;34m:\u001b[0m\u001b[0;34m\u001b[0m\u001b[0;34m\u001b[0m\u001b[0m\n",
      "\u001b[0;31mKeyError\u001b[0m: 'Kings County-alias'"
     ]
    }
   ],
   "source": [
    "df_2 = df_2[df_2[\"Kings County-alias\"] == \"State Correctional Facility (Inmate)\"]"
   ]
  },
  {
   "cell_type": "code",
   "execution_count": 49,
   "metadata": {},
   "outputs": [],
   "source": [
    "df_2 = df_2[[\"Kings County-alias\", \"Measure Values-alias\"]]"
   ]
  },
  {
   "cell_type": "code",
   "execution_count": 50,
   "metadata": {},
   "outputs": [],
   "source": [
    "df_2 = df_2.rename(\n",
    "    columns={\"Kings County-alias\": \"area\", \"Measure Values-alias\": \"confirmed_cases\"}\n",
    ")"
   ]
  },
  {
   "cell_type": "markdown",
   "metadata": {},
   "source": [
    "Rename city dataframe columns"
   ]
  },
  {
   "cell_type": "code",
   "execution_count": 51,
   "metadata": {},
   "outputs": [],
   "source": [
    "df = df.rename(\n",
    "    columns={\"City-alias\": \"area\", \"SUM(Number of Cases)-alias\": \"confirmed_cases\"}\n",
    ")"
   ]
  },
  {
   "cell_type": "code",
   "execution_count": 52,
   "metadata": {},
   "outputs": [],
   "source": [
    "df = df[~df.area.isnull()]"
   ]
  },
  {
   "cell_type": "code",
   "execution_count": 53,
   "metadata": {},
   "outputs": [],
   "source": [
    "df_2.replace(\n",
    "    \"State Correctional Facility (Inmate)\", \"Correctional facilities\", inplace=True\n",
    ")"
   ]
  },
  {
   "cell_type": "markdown",
   "metadata": {},
   "source": [
    "Reorder columns, Combine and add date, Kings County, and fix text"
   ]
  },
  {
   "cell_type": "code",
   "execution_count": 54,
   "metadata": {},
   "outputs": [],
   "source": [
    "df_final = pd.concat([df, df_2])"
   ]
  },
  {
   "cell_type": "code",
   "execution_count": 55,
   "metadata": {},
   "outputs": [],
   "source": [
    "df_final[\"county\"] = \"Kings\"\n",
    "df_final = df_final[[\"county\", \"area\", \"confirmed_cases\"]]"
   ]
  },
  {
   "cell_type": "code",
   "execution_count": 56,
   "metadata": {},
   "outputs": [
    {
     "data": {
      "text/html": [
       "<div>\n",
       "<style scoped>\n",
       "    .dataframe tbody tr th:only-of-type {\n",
       "        vertical-align: middle;\n",
       "    }\n",
       "\n",
       "    .dataframe tbody tr th {\n",
       "        vertical-align: top;\n",
       "    }\n",
       "\n",
       "    .dataframe thead th {\n",
       "        text-align: right;\n",
       "    }\n",
       "</style>\n",
       "<table border=\"1\" class=\"dataframe\">\n",
       "  <thead>\n",
       "    <tr style=\"text-align: right;\">\n",
       "      <th></th>\n",
       "      <th>county</th>\n",
       "      <th>area</th>\n",
       "      <th>confirmed_cases</th>\n",
       "    </tr>\n",
       "  </thead>\n",
       "  <tbody>\n",
       "    <tr>\n",
       "      <th>0</th>\n",
       "      <td>Kings</td>\n",
       "      <td>Stratford</td>\n",
       "      <td>264</td>\n",
       "    </tr>\n",
       "    <tr>\n",
       "      <th>1</th>\n",
       "      <td>Kings</td>\n",
       "      <td>Other Area</td>\n",
       "      <td>321</td>\n",
       "    </tr>\n",
       "    <tr>\n",
       "      <th>2</th>\n",
       "      <td>Kings</td>\n",
       "      <td>Lemoore</td>\n",
       "      <td>5551</td>\n",
       "    </tr>\n",
       "    <tr>\n",
       "      <th>3</th>\n",
       "      <td>Kings</td>\n",
       "      <td>Kettleman City</td>\n",
       "      <td>229</td>\n",
       "    </tr>\n",
       "    <tr>\n",
       "      <th>4</th>\n",
       "      <td>Kings</td>\n",
       "      <td>Hanford</td>\n",
       "      <td>11946</td>\n",
       "    </tr>\n",
       "    <tr>\n",
       "      <th>5</th>\n",
       "      <td>Kings</td>\n",
       "      <td>Corcoran</td>\n",
       "      <td>2747</td>\n",
       "    </tr>\n",
       "    <tr>\n",
       "      <th>6</th>\n",
       "      <td>Kings</td>\n",
       "      <td>Avenal</td>\n",
       "      <td>1625</td>\n",
       "    </tr>\n",
       "    <tr>\n",
       "      <th>7</th>\n",
       "      <td>Kings</td>\n",
       "      <td>Armona</td>\n",
       "      <td>854</td>\n",
       "    </tr>\n",
       "    <tr>\n",
       "      <th>10</th>\n",
       "      <td>Kings</td>\n",
       "      <td>Correctional facilities</td>\n",
       "      <td>7,315</td>\n",
       "    </tr>\n",
       "  </tbody>\n",
       "</table>\n",
       "</div>"
      ],
      "text/plain": [
       "   county                     area confirmed_cases\n",
       "0   Kings                Stratford             264\n",
       "1   Kings               Other Area             321\n",
       "2   Kings                  Lemoore            5551\n",
       "3   Kings           Kettleman City             229\n",
       "4   Kings                  Hanford           11946\n",
       "5   Kings                 Corcoran            2747\n",
       "6   Kings                   Avenal            1625\n",
       "7   Kings                   Armona             854\n",
       "10  Kings  Correctional facilities           7,315"
      ]
     },
     "execution_count": 56,
     "metadata": {},
     "output_type": "execute_result"
    }
   ],
   "source": [
    "df_final"
   ]
  },
  {
   "cell_type": "markdown",
   "metadata": {},
   "source": [
    "Remove any commas from cases column"
   ]
  },
  {
   "cell_type": "code",
   "execution_count": 57,
   "metadata": {},
   "outputs": [],
   "source": [
    "df_final[\"confirmed_cases\"] = df_final.confirmed_cases.replace(\",\", \"\", regex=True)"
   ]
  },
  {
   "cell_type": "markdown",
   "metadata": {},
   "source": [
    "Dig up updated time"
   ]
  },
  {
   "cell_type": "code",
   "execution_count": 58,
   "metadata": {},
   "outputs": [],
   "source": [
    "date_sentence = info[\"worldUpdate\"][\"applicationPresModel\"][\"workbookPresModel\"][\n",
    "    \"dashboardPresModel\"\n",
    "][\"zones\"][\"5\"][\"presModelHolder\"][\"flipboard\"][\"storyPoints\"][\"1\"][\n",
    "    \"dashboardPresModel\"\n",
    "][\n",
    "    \"zones\"\n",
    "][\n",
    "    \"43\"\n",
    "][\n",
    "    \"zoneCommon\"\n",
    "][\n",
    "    \"name\"\n",
    "]"
   ]
  },
  {
   "cell_type": "code",
   "execution_count": 59,
   "metadata": {},
   "outputs": [],
   "source": [
    "date_strings = date_sentence.replace(\"Overview Last Updated on \", \"\").split(\" at \")"
   ]
  },
  {
   "cell_type": "code",
   "execution_count": 60,
   "metadata": {},
   "outputs": [],
   "source": [
    "date = date_strings[0]"
   ]
  },
  {
   "cell_type": "code",
   "execution_count": 61,
   "metadata": {},
   "outputs": [],
   "source": [
    "df_final[\"county_date\"] = pd.to_datetime(date)"
   ]
  },
  {
   "cell_type": "markdown",
   "metadata": {},
   "source": [
    "## Vet"
   ]
  },
  {
   "cell_type": "code",
   "execution_count": 62,
   "metadata": {},
   "outputs": [],
   "source": [
    "default_kings_len = 9"
   ]
  },
  {
   "cell_type": "code",
   "execution_count": 63,
   "metadata": {},
   "outputs": [],
   "source": [
    "try:\n",
    "    assert not len(df_final) > default_kings_len\n",
    "except AssertionError:\n",
    "    raise AssertionError(\"Kings County has more rows than before\")"
   ]
  },
  {
   "cell_type": "code",
   "execution_count": 64,
   "metadata": {},
   "outputs": [],
   "source": [
    "try:\n",
    "    assert not len(df_final) < default_kings_len\n",
    "except AssertionError:\n",
    "    raise AssertionError(\"Kings County has missing row(s)\")"
   ]
  },
  {
   "cell_type": "markdown",
   "metadata": {},
   "source": [
    "## Export"
   ]
  },
  {
   "cell_type": "markdown",
   "metadata": {},
   "source": [
    "Set the date"
   ]
  },
  {
   "cell_type": "code",
   "execution_count": 65,
   "metadata": {},
   "outputs": [],
   "source": [
    "tz = pytz.timezone(\"America/Los_Angeles\")"
   ]
  },
  {
   "cell_type": "code",
   "execution_count": 66,
   "metadata": {},
   "outputs": [],
   "source": [
    "today = datetime.now(tz).date()"
   ]
  },
  {
   "cell_type": "code",
   "execution_count": 67,
   "metadata": {},
   "outputs": [],
   "source": [
    "slug = \"kings\""
   ]
  },
  {
   "cell_type": "code",
   "execution_count": 68,
   "metadata": {},
   "outputs": [],
   "source": [
    "df_final.to_csv(data_dir / slug / f\"{today}.csv\", index=False)"
   ]
  },
  {
   "cell_type": "markdown",
   "metadata": {
    "tags": []
   },
   "source": [
    "## Combine"
   ]
  },
  {
   "cell_type": "code",
   "execution_count": 69,
   "metadata": {},
   "outputs": [],
   "source": [
    "csv_list = [\n",
    "    i\n",
    "    for i in glob.glob(str(data_dir / slug / \"*.csv\"))\n",
    "    if not str(i).endswith(\"timeseries.csv\")\n",
    "]"
   ]
  },
  {
   "cell_type": "code",
   "execution_count": 70,
   "metadata": {},
   "outputs": [],
   "source": [
    "df_list = []\n",
    "for csv in csv_list:\n",
    "    if \"manual\" in csv:\n",
    "        df = pd.read_csv(csv, parse_dates=[\"date\"])\n",
    "    else:\n",
    "        file_date = csv.split(\"/\")[-1].replace(\".csv\", \"\")\n",
    "        df = pd.read_csv(csv, parse_dates=[\"county_date\"])\n",
    "        df[\"date\"] = file_date\n",
    "    df_list.append(df)"
   ]
  },
  {
   "cell_type": "code",
   "execution_count": 71,
   "metadata": {},
   "outputs": [],
   "source": [
    "df = pd.concat(df_list).sort_values([\"date\", \"area\"])"
   ]
  },
  {
   "cell_type": "code",
   "execution_count": 72,
   "metadata": {},
   "outputs": [],
   "source": [
    "df.to_csv(data_dir / slug / \"timeseries.csv\", index=False)"
   ]
  }
 ],
 "metadata": {
  "kernelspec": {
   "display_name": "Python 3 (ipykernel)",
   "language": "python",
   "name": "python3"
  },
  "language_info": {
   "codemirror_mode": {
    "name": "ipython",
    "version": 3
   },
   "file_extension": ".py",
   "mimetype": "text/x-python",
   "name": "python",
   "nbconvert_exporter": "python",
   "pygments_lexer": "ipython3",
   "version": "3.8.12"
  }
 },
 "nbformat": 4,
 "nbformat_minor": 4
}
