{
 "cells": [
  {
   "cell_type": "markdown",
   "metadata": {},
   "source": [
    "## Configuration\n",
    "_Initial steps to get the notebook ready to play nice with our repository. Do not delete this section._"
   ]
  },
  {
   "cell_type": "markdown",
   "metadata": {},
   "source": [
    "Code formatting with [black](https://pypi.org/project/nb-black/)."
   ]
  },
  {
   "cell_type": "code",
   "execution_count": 1,
   "metadata": {
    "execution": {
     "iopub.execute_input": "2021-10-02T16:20:57.927424Z",
     "iopub.status.busy": "2021-10-02T16:20:57.926662Z",
     "iopub.status.idle": "2021-10-02T16:20:58.072837Z",
     "shell.execute_reply": "2021-10-02T16:20:58.072173Z"
    }
   },
   "outputs": [],
   "source": [
    "%load_ext lab_black"
   ]
  },
  {
   "cell_type": "code",
   "execution_count": 2,
   "metadata": {
    "execution": {
     "iopub.execute_input": "2021-10-02T16:20:58.078268Z",
     "iopub.status.busy": "2021-10-02T16:20:58.077285Z",
     "iopub.status.idle": "2021-10-02T16:20:58.080695Z",
     "shell.execute_reply": "2021-10-02T16:20:58.080167Z"
    }
   },
   "outputs": [],
   "source": [
    "import os\n",
    "import pathlib"
   ]
  },
  {
   "cell_type": "code",
   "execution_count": 3,
   "metadata": {
    "execution": {
     "iopub.execute_input": "2021-10-02T16:20:58.085819Z",
     "iopub.status.busy": "2021-10-02T16:20:58.085207Z",
     "iopub.status.idle": "2021-10-02T16:20:58.090219Z",
     "shell.execute_reply": "2021-10-02T16:20:58.090729Z"
    }
   },
   "outputs": [],
   "source": [
    "this_dir = pathlib.Path(os.path.abspath(\"\"))"
   ]
  },
  {
   "cell_type": "code",
   "execution_count": 4,
   "metadata": {
    "execution": {
     "iopub.execute_input": "2021-10-02T16:20:58.097368Z",
     "iopub.status.busy": "2021-10-02T16:20:58.095806Z",
     "iopub.status.idle": "2021-10-02T16:20:58.098096Z",
     "shell.execute_reply": "2021-10-02T16:20:58.098751Z"
    }
   },
   "outputs": [],
   "source": [
    "data_dir = this_dir / \"data\""
   ]
  },
  {
   "cell_type": "code",
   "execution_count": 5,
   "metadata": {
    "execution": {
     "iopub.execute_input": "2021-10-02T16:20:58.103306Z",
     "iopub.status.busy": "2021-10-02T16:20:58.102722Z",
     "iopub.status.idle": "2021-10-02T16:20:58.614316Z",
     "shell.execute_reply": "2021-10-02T16:20:58.613226Z"
    }
   },
   "outputs": [],
   "source": [
    "import requests\n",
    "from bs4 import BeautifulSoup\n",
    "\n",
    "import json\n",
    "import re\n",
    "\n",
    "import pandas as pd\n",
    "import numpy as np\n",
    "\n",
    "import pytz\n",
    "import glob\n",
    "from datetime import datetime"
   ]
  },
  {
   "cell_type": "markdown",
   "metadata": {},
   "source": [
    "## Download"
   ]
  },
  {
   "cell_type": "markdown",
   "metadata": {},
   "source": [
    "Paths to Dashboard"
   ]
  },
  {
   "cell_type": "code",
   "execution_count": 6,
   "metadata": {
    "execution": {
     "iopub.execute_input": "2021-10-02T16:20:58.618985Z",
     "iopub.status.busy": "2021-10-02T16:20:58.617002Z",
     "iopub.status.idle": "2021-10-02T16:20:58.623400Z",
     "shell.execute_reply": "2021-10-02T16:20:58.622867Z"
    }
   },
   "outputs": [],
   "source": [
    "host_url = \"https://public.tableau.com\"\n",
    "path = \"/views/TITLEDStorylinewithallinone/Storyline2\""
   ]
  },
  {
   "cell_type": "markdown",
   "metadata": {},
   "source": [
    "Retrive Dashboard data"
   ]
  },
  {
   "cell_type": "code",
   "execution_count": 7,
   "metadata": {
    "execution": {
     "iopub.execute_input": "2021-10-02T16:20:58.634778Z",
     "iopub.status.busy": "2021-10-02T16:20:58.630293Z",
     "iopub.status.idle": "2021-10-02T16:21:00.560327Z",
     "shell.execute_reply": "2021-10-02T16:21:00.559305Z"
    }
   },
   "outputs": [],
   "source": [
    "url = f\"{host_url}{path}\"\n",
    "\n",
    "r = requests.get(url, params={\":embed\": \"y\", \":showVizHome\": \"no\"})\n",
    "soup = BeautifulSoup(r.text, \"html.parser\")\n",
    "\n",
    "tableauData = json.loads(soup.find(\"textarea\", {\"id\": \"tsConfigContainer\"}).text)\n",
    "\n",
    "dataUrl = f'{host_url}{tableauData[\"vizql_root\"]}/bootstrapSession/sessions/{tableauData[\"sessionid\"]}'\n",
    "\n",
    "r = requests.post(\n",
    "    dataUrl,\n",
    "    data={\n",
    "        \"sheet_id\": tableauData[\"sheetId\"],\n",
    "    },\n",
    ")\n",
    "\n",
    "dataReg = re.search(\"\\d+;({.*})\\d+;({.*})\", r.text, re.MULTILINE)\n",
    "info = json.loads(dataReg.group(1))\n",
    "data = json.loads(dataReg.group(2))"
   ]
  },
  {
   "cell_type": "markdown",
   "metadata": {},
   "source": [
    "## Parse"
   ]
  },
  {
   "cell_type": "markdown",
   "metadata": {},
   "source": [
    "Filter out the cities data"
   ]
  },
  {
   "cell_type": "code",
   "execution_count": 8,
   "metadata": {
    "execution": {
     "iopub.execute_input": "2021-10-02T16:21:00.574249Z",
     "iopub.status.busy": "2021-10-02T16:21:00.563497Z",
     "iopub.status.idle": "2021-10-02T16:21:00.645498Z",
     "shell.execute_reply": "2021-10-02T16:21:00.644926Z"
    }
   },
   "outputs": [],
   "source": [
    "columnsData = info[\"worldUpdate\"][\"applicationPresModel\"][\"workbookPresModel\"][\n",
    "    \"dashboardPresModel\"\n",
    "][\"zones\"][\"5\"][\"presModelHolder\"][\"flipboard\"][\"storyPoints\"][\"1\"][\n",
    "    \"dashboardPresModel\"\n",
    "][\n",
    "    \"zones\"\n",
    "][\n",
    "    \"33\"\n",
    "][\n",
    "    \"presModelHolder\"\n",
    "][\n",
    "    \"visual\"\n",
    "][\n",
    "    \"vizData\"\n",
    "][\n",
    "    \"paneColumnsData\"\n",
    "]\n",
    "result = [\n",
    "    {\n",
    "        \"fieldCaption\": t.get(\"fieldCaption\", \"\"),\n",
    "        \"valueIndices\": columnsData[\"paneColumnsList\"][t[\"paneIndices\"][0]][\n",
    "            \"vizPaneColumns\"\n",
    "        ][t[\"columnIndices\"][0]][\"valueIndices\"],\n",
    "        \"aliasIndices\": columnsData[\"paneColumnsList\"][t[\"paneIndices\"][0]][\n",
    "            \"vizPaneColumns\"\n",
    "        ][t[\"columnIndices\"][0]][\"aliasIndices\"],\n",
    "        \"dataType\": t.get(\"dataType\"),\n",
    "        \"paneIndices\": t[\"paneIndices\"][0],\n",
    "        \"columnIndices\": t[\"columnIndices\"][0],\n",
    "    }\n",
    "    for t in columnsData[\"vizDataColumns\"]\n",
    "    if t.get(\"fieldCaption\")\n",
    "]\n",
    "dataFull = data[\"secondaryInfo\"][\"presModelMap\"][\"dataDictionary\"][\"presModelHolder\"][\n",
    "    \"genDataDictionaryPresModel\"\n",
    "][\"dataSegments\"][\"0\"][\"dataColumns\"]\n",
    "\n",
    "\n",
    "def onAlias(it, value, cstring):\n",
    "    return value[it] if (it >= 0) else cstring[\"dataValues\"][abs(it) - 1]\n",
    "\n",
    "\n",
    "frameData = {}\n",
    "cstring = [t for t in dataFull if t[\"dataType\"] == \"cstring\"][0]\n",
    "for t in dataFull:\n",
    "    for index in result:\n",
    "        if t[\"dataType\"] == index[\"dataType\"]:\n",
    "            if len(index[\"valueIndices\"]) > 0:\n",
    "                frameData[f'{index[\"fieldCaption\"]}-value'] = [\n",
    "                    t[\"dataValues\"][abs(it)] for it in index[\"valueIndices\"]\n",
    "                ]\n",
    "            if len(index[\"aliasIndices\"]) > 0:\n",
    "                filterOut = [\n",
    "                    onAlias(it, t[\"dataValues\"], cstring)\n",
    "                    for it in index[\"aliasIndices\"]\n",
    "                ]\n",
    "                try:\n",
    "                    if filterOut[0] > 1:\n",
    "                        frameData[f'{index[\"fieldCaption\"]}-alias'] = [\n",
    "                            onAlias(it, t[\"dataValues\"], cstring)\n",
    "                            for it in index[\"aliasIndices\"]\n",
    "                        ]\n",
    "                except:\n",
    "                    frameData[f'{index[\"fieldCaption\"]}-alias'] = [\n",
    "                        onAlias(it, t[\"dataValues\"], cstring)\n",
    "                        for it in index[\"aliasIndices\"]\n",
    "                    ]"
   ]
  },
  {
   "cell_type": "markdown",
   "metadata": {},
   "source": [
    "Get Correctional facilities data"
   ]
  },
  {
   "cell_type": "code",
   "execution_count": 9,
   "metadata": {
    "execution": {
     "iopub.execute_input": "2021-10-02T16:21:00.661894Z",
     "iopub.status.busy": "2021-10-02T16:21:00.658993Z",
     "iopub.status.idle": "2021-10-02T16:21:00.726955Z",
     "shell.execute_reply": "2021-10-02T16:21:00.725758Z"
    }
   },
   "outputs": [],
   "source": [
    "columnsData = info[\"worldUpdate\"][\"applicationPresModel\"][\"workbookPresModel\"][\n",
    "    \"dashboardPresModel\"\n",
    "][\"zones\"][\"5\"][\"presModelHolder\"][\"flipboard\"][\"storyPoints\"][\"1\"][\n",
    "    \"dashboardPresModel\"\n",
    "][\n",
    "    \"zones\"\n",
    "][\n",
    "    \"8\"\n",
    "][\n",
    "    \"presModelHolder\"\n",
    "][\n",
    "    \"visual\"\n",
    "][\n",
    "    \"vizData\"\n",
    "][\n",
    "    \"paneColumnsData\"\n",
    "]\n",
    "result = [\n",
    "    {\n",
    "        \"fieldCaption\": t.get(\"fieldCaption\", \"\"),\n",
    "        \"valueIndices\": columnsData[\"paneColumnsList\"][t[\"paneIndices\"][0]][\n",
    "            \"vizPaneColumns\"\n",
    "        ][t[\"columnIndices\"][0]][\"valueIndices\"],\n",
    "        \"aliasIndices\": columnsData[\"paneColumnsList\"][t[\"paneIndices\"][0]][\n",
    "            \"vizPaneColumns\"\n",
    "        ][t[\"columnIndices\"][0]][\"aliasIndices\"],\n",
    "        \"dataType\": t.get(\"dataType\"),\n",
    "        \"paneIndices\": t[\"paneIndices\"][0],\n",
    "        \"columnIndices\": t[\"columnIndices\"][0],\n",
    "    }\n",
    "    for t in columnsData[\"vizDataColumns\"]\n",
    "    if t.get(\"fieldCaption\")\n",
    "]\n",
    "dataFull = data[\"secondaryInfo\"][\"presModelMap\"][\"dataDictionary\"][\"presModelHolder\"][\n",
    "    \"genDataDictionaryPresModel\"\n",
    "][\"dataSegments\"][\"0\"][\"dataColumns\"]\n",
    "\n",
    "\n",
    "def onAlias(it, value, cstring):\n",
    "    return value[it] if (it >= 0) else cstring[\"dataValues\"][abs(it) - 1]\n",
    "\n",
    "\n",
    "frameData_2 = {}\n",
    "cstring = [t for t in dataFull if t[\"dataType\"] == \"cstring\"][0]\n",
    "for t in dataFull:\n",
    "    for index in result:\n",
    "        if t[\"dataType\"] == index[\"dataType\"]:\n",
    "            if len(index[\"valueIndices\"]) > 0:\n",
    "                frameData_2[f'{index[\"fieldCaption\"]}-value'] = [\n",
    "                    t[\"dataValues\"][abs(it)] for it in index[\"valueIndices\"]\n",
    "                ]\n",
    "            #                 print(frameData[f'{index[\"fieldCaption\"]}-value'])\n",
    "            if len(index[\"aliasIndices\"]) > 0:\n",
    "                filterOut = [\n",
    "                    onAlias(it, t[\"dataValues\"], cstring)\n",
    "                    for it in index[\"aliasIndices\"]\n",
    "                ]\n",
    "                try:\n",
    "                    if filterOut[0] > 1:\n",
    "                        frameData_2[f'{index[\"fieldCaption\"]}-alias'] = [\n",
    "                            onAlias(it, t[\"dataValues\"], cstring)\n",
    "                            for it in index[\"aliasIndices\"]\n",
    "                        ]\n",
    "                except:\n",
    "                    frameData_2[f'{index[\"fieldCaption\"]}-alias'] = [\n",
    "                        onAlias(it, t[\"dataValues\"], cstring)\n",
    "                        for it in index[\"aliasIndices\"]\n",
    "                    ]"
   ]
  },
  {
   "cell_type": "markdown",
   "metadata": {},
   "source": [
    "Turn both into DataFrames"
   ]
  },
  {
   "cell_type": "code",
   "execution_count": 10,
   "metadata": {
    "execution": {
     "iopub.execute_input": "2021-10-02T16:21:00.742581Z",
     "iopub.status.busy": "2021-10-02T16:21:00.737349Z",
     "iopub.status.idle": "2021-10-02T16:21:00.745488Z",
     "shell.execute_reply": "2021-10-02T16:21:00.746007Z"
    }
   },
   "outputs": [],
   "source": [
    "df = pd.DataFrame.from_dict(frameData, orient=\"index\").fillna(0).T\n",
    "df_2 = pd.DataFrame.from_dict(frameData_2, orient=\"index\").fillna(0).T"
   ]
  },
  {
   "cell_type": "markdown",
   "metadata": {},
   "source": [
    "Just get correctional facilities cases from second dataframe"
   ]
  },
  {
   "cell_type": "code",
   "execution_count": 11,
   "metadata": {
    "execution": {
     "iopub.execute_input": "2021-10-02T16:21:00.753110Z",
     "iopub.status.busy": "2021-10-02T16:21:00.751653Z",
     "iopub.status.idle": "2021-10-02T16:21:00.919926Z",
     "shell.execute_reply": "2021-10-02T16:21:00.918106Z"
    }
   },
   "outputs": [
    {
     "ename": "KeyError",
     "evalue": "'Kings County-alias'",
     "output_type": "error",
     "traceback": [
      "\u001b[0;31m---------------------------------------------------------------------------\u001b[0m",
      "\u001b[0;31mKeyError\u001b[0m                                  Traceback (most recent call last)",
      "\u001b[0;32m~/.local/share/virtualenvs/california-coronavirus-scrapers-dxuBXRsm/lib/python3.8/site-packages/pandas/core/indexes/base.py\u001b[0m in \u001b[0;36mget_loc\u001b[0;34m(self, key, method, tolerance)\u001b[0m\n\u001b[1;32m   3360\u001b[0m             \u001b[0;32mtry\u001b[0m\u001b[0;34m:\u001b[0m\u001b[0;34m\u001b[0m\u001b[0;34m\u001b[0m\u001b[0m\n\u001b[0;32m-> 3361\u001b[0;31m                 \u001b[0;32mreturn\u001b[0m \u001b[0mself\u001b[0m\u001b[0;34m.\u001b[0m\u001b[0m_engine\u001b[0m\u001b[0;34m.\u001b[0m\u001b[0mget_loc\u001b[0m\u001b[0;34m(\u001b[0m\u001b[0mcasted_key\u001b[0m\u001b[0;34m)\u001b[0m\u001b[0;34m\u001b[0m\u001b[0;34m\u001b[0m\u001b[0m\n\u001b[0m\u001b[1;32m   3362\u001b[0m             \u001b[0;32mexcept\u001b[0m \u001b[0mKeyError\u001b[0m \u001b[0;32mas\u001b[0m \u001b[0merr\u001b[0m\u001b[0;34m:\u001b[0m\u001b[0;34m\u001b[0m\u001b[0;34m\u001b[0m\u001b[0m\n",
      "\u001b[0;32m~/.local/share/virtualenvs/california-coronavirus-scrapers-dxuBXRsm/lib/python3.8/site-packages/pandas/_libs/index.pyx\u001b[0m in \u001b[0;36mpandas._libs.index.IndexEngine.get_loc\u001b[0;34m()\u001b[0m\n",
      "\u001b[0;32m~/.local/share/virtualenvs/california-coronavirus-scrapers-dxuBXRsm/lib/python3.8/site-packages/pandas/_libs/index.pyx\u001b[0m in \u001b[0;36mpandas._libs.index.IndexEngine.get_loc\u001b[0;34m()\u001b[0m\n",
      "\u001b[0;32mpandas/_libs/hashtable_class_helper.pxi\u001b[0m in \u001b[0;36mpandas._libs.hashtable.PyObjectHashTable.get_item\u001b[0;34m()\u001b[0m\n",
      "\u001b[0;32mpandas/_libs/hashtable_class_helper.pxi\u001b[0m in \u001b[0;36mpandas._libs.hashtable.PyObjectHashTable.get_item\u001b[0;34m()\u001b[0m\n",
      "\u001b[0;31mKeyError\u001b[0m: 'Kings County-alias'",
      "\nThe above exception was the direct cause of the following exception:\n",
      "\u001b[0;31mKeyError\u001b[0m                                  Traceback (most recent call last)",
      "\u001b[0;32m/tmp/ipykernel_3066/596180187.py\u001b[0m in \u001b[0;36m<module>\u001b[0;34m\u001b[0m\n\u001b[1;32m      1\u001b[0m \u001b[0mdf_2\u001b[0m \u001b[0;34m=\u001b[0m \u001b[0mdf_2\u001b[0m\u001b[0;34m[\u001b[0m\u001b[0mdf_2\u001b[0m\u001b[0;34m[\u001b[0m\u001b[0;34m\"Measure Names-alias\"\u001b[0m\u001b[0;34m]\u001b[0m \u001b[0;34m==\u001b[0m \u001b[0;34m\"Cases\"\u001b[0m\u001b[0;34m]\u001b[0m\u001b[0;34m\u001b[0m\u001b[0;34m\u001b[0m\u001b[0m\n\u001b[0;32m----> 2\u001b[0;31m \u001b[0mdf_2\u001b[0m \u001b[0;34m=\u001b[0m \u001b[0mdf_2\u001b[0m\u001b[0;34m[\u001b[0m\u001b[0mdf_2\u001b[0m\u001b[0;34m[\u001b[0m\u001b[0;34m\"Kings County-alias\"\u001b[0m\u001b[0;34m]\u001b[0m \u001b[0;34m==\u001b[0m \u001b[0;34m\"State Correctional Facility (Inmate)\"\u001b[0m\u001b[0;34m]\u001b[0m\u001b[0;34m\u001b[0m\u001b[0;34m\u001b[0m\u001b[0m\n\u001b[0m\u001b[1;32m      3\u001b[0m \u001b[0mdf_2\u001b[0m \u001b[0;34m=\u001b[0m \u001b[0mdf_2\u001b[0m\u001b[0;34m[\u001b[0m\u001b[0;34m[\u001b[0m\u001b[0;34m\"Kings County-value\"\u001b[0m\u001b[0;34m,\u001b[0m \u001b[0;34m\"Measure Values-alias\"\u001b[0m\u001b[0;34m]\u001b[0m\u001b[0;34m]\u001b[0m\u001b[0;34m\u001b[0m\u001b[0;34m\u001b[0m\u001b[0m\n\u001b[1;32m      4\u001b[0m df_2 = df_2.rename(\n\u001b[1;32m      5\u001b[0m     \u001b[0mcolumns\u001b[0m\u001b[0;34m=\u001b[0m\u001b[0;34m{\u001b[0m\u001b[0;34m\"Kings County-value\"\u001b[0m\u001b[0;34m:\u001b[0m \u001b[0;34m\"area\"\u001b[0m\u001b[0;34m,\u001b[0m \u001b[0;34m\"Measure Values-alias\"\u001b[0m\u001b[0;34m:\u001b[0m \u001b[0;34m\"confirmed_cases\"\u001b[0m\u001b[0;34m}\u001b[0m\u001b[0;34m\u001b[0m\u001b[0;34m\u001b[0m\u001b[0m\n",
      "\u001b[0;32m~/.local/share/virtualenvs/california-coronavirus-scrapers-dxuBXRsm/lib/python3.8/site-packages/pandas/core/frame.py\u001b[0m in \u001b[0;36m__getitem__\u001b[0;34m(self, key)\u001b[0m\n\u001b[1;32m   3456\u001b[0m             \u001b[0;32mif\u001b[0m \u001b[0mself\u001b[0m\u001b[0;34m.\u001b[0m\u001b[0mcolumns\u001b[0m\u001b[0;34m.\u001b[0m\u001b[0mnlevels\u001b[0m \u001b[0;34m>\u001b[0m \u001b[0;36m1\u001b[0m\u001b[0;34m:\u001b[0m\u001b[0;34m\u001b[0m\u001b[0;34m\u001b[0m\u001b[0m\n\u001b[1;32m   3457\u001b[0m                 \u001b[0;32mreturn\u001b[0m \u001b[0mself\u001b[0m\u001b[0;34m.\u001b[0m\u001b[0m_getitem_multilevel\u001b[0m\u001b[0;34m(\u001b[0m\u001b[0mkey\u001b[0m\u001b[0;34m)\u001b[0m\u001b[0;34m\u001b[0m\u001b[0;34m\u001b[0m\u001b[0m\n\u001b[0;32m-> 3458\u001b[0;31m             \u001b[0mindexer\u001b[0m \u001b[0;34m=\u001b[0m \u001b[0mself\u001b[0m\u001b[0;34m.\u001b[0m\u001b[0mcolumns\u001b[0m\u001b[0;34m.\u001b[0m\u001b[0mget_loc\u001b[0m\u001b[0;34m(\u001b[0m\u001b[0mkey\u001b[0m\u001b[0;34m)\u001b[0m\u001b[0;34m\u001b[0m\u001b[0;34m\u001b[0m\u001b[0m\n\u001b[0m\u001b[1;32m   3459\u001b[0m             \u001b[0;32mif\u001b[0m \u001b[0mis_integer\u001b[0m\u001b[0;34m(\u001b[0m\u001b[0mindexer\u001b[0m\u001b[0;34m)\u001b[0m\u001b[0;34m:\u001b[0m\u001b[0;34m\u001b[0m\u001b[0;34m\u001b[0m\u001b[0m\n\u001b[1;32m   3460\u001b[0m                 \u001b[0mindexer\u001b[0m \u001b[0;34m=\u001b[0m \u001b[0;34m[\u001b[0m\u001b[0mindexer\u001b[0m\u001b[0;34m]\u001b[0m\u001b[0;34m\u001b[0m\u001b[0;34m\u001b[0m\u001b[0m\n",
      "\u001b[0;32m~/.local/share/virtualenvs/california-coronavirus-scrapers-dxuBXRsm/lib/python3.8/site-packages/pandas/core/indexes/base.py\u001b[0m in \u001b[0;36mget_loc\u001b[0;34m(self, key, method, tolerance)\u001b[0m\n\u001b[1;32m   3361\u001b[0m                 \u001b[0;32mreturn\u001b[0m \u001b[0mself\u001b[0m\u001b[0;34m.\u001b[0m\u001b[0m_engine\u001b[0m\u001b[0;34m.\u001b[0m\u001b[0mget_loc\u001b[0m\u001b[0;34m(\u001b[0m\u001b[0mcasted_key\u001b[0m\u001b[0;34m)\u001b[0m\u001b[0;34m\u001b[0m\u001b[0;34m\u001b[0m\u001b[0m\n\u001b[1;32m   3362\u001b[0m             \u001b[0;32mexcept\u001b[0m \u001b[0mKeyError\u001b[0m \u001b[0;32mas\u001b[0m \u001b[0merr\u001b[0m\u001b[0;34m:\u001b[0m\u001b[0;34m\u001b[0m\u001b[0;34m\u001b[0m\u001b[0m\n\u001b[0;32m-> 3363\u001b[0;31m                 \u001b[0;32mraise\u001b[0m \u001b[0mKeyError\u001b[0m\u001b[0;34m(\u001b[0m\u001b[0mkey\u001b[0m\u001b[0;34m)\u001b[0m \u001b[0;32mfrom\u001b[0m \u001b[0merr\u001b[0m\u001b[0;34m\u001b[0m\u001b[0;34m\u001b[0m\u001b[0m\n\u001b[0m\u001b[1;32m   3364\u001b[0m \u001b[0;34m\u001b[0m\u001b[0m\n\u001b[1;32m   3365\u001b[0m         \u001b[0;32mif\u001b[0m \u001b[0mis_scalar\u001b[0m\u001b[0;34m(\u001b[0m\u001b[0mkey\u001b[0m\u001b[0;34m)\u001b[0m \u001b[0;32mand\u001b[0m \u001b[0misna\u001b[0m\u001b[0;34m(\u001b[0m\u001b[0mkey\u001b[0m\u001b[0;34m)\u001b[0m \u001b[0;32mand\u001b[0m \u001b[0;32mnot\u001b[0m \u001b[0mself\u001b[0m\u001b[0;34m.\u001b[0m\u001b[0mhasnans\u001b[0m\u001b[0;34m:\u001b[0m\u001b[0;34m\u001b[0m\u001b[0;34m\u001b[0m\u001b[0m\n",
      "\u001b[0;31mKeyError\u001b[0m: 'Kings County-alias'"
     ]
    }
   ],
   "source": [
    "df_2 = df_2[df_2[\"Measure Names-alias\"] == \"Cases\"]\n",
    "df_2 = df_2[df_2[\"Kings County-alias\"] == \"State Correctional Facility (Inmate)\"]\n",
    "df_2 = df_2[[\"Kings County-value\", \"Measure Values-alias\"]]\n",
    "df_2 = df_2.rename(\n",
    "    columns={\"Kings County-value\": \"area\", \"Measure Values-alias\": \"confirmed_cases\"}\n",
    ")"
   ]
  },
  {
   "cell_type": "markdown",
   "metadata": {},
   "source": [
    "Rename city dataframe columns"
   ]
  },
  {
   "cell_type": "code",
   "execution_count": 12,
   "metadata": {},
   "outputs": [],
   "source": [
    "df = df.rename(\n",
    "    columns={\"City-alias\": \"area\", \"SUM(Number of Cases)-alias\": \"confirmed_cases\"}\n",
    ")"
   ]
  },
  {
   "cell_type": "markdown",
   "metadata": {},
   "source": [
    "Reorder columns, Combine and add date, Kings County, and fix text"
   ]
  },
  {
   "cell_type": "code",
   "execution_count": 13,
   "metadata": {},
   "outputs": [],
   "source": [
    "df_final = pd.concat([df, df_2])"
   ]
  },
  {
   "cell_type": "code",
   "execution_count": 14,
   "metadata": {},
   "outputs": [],
   "source": [
    "df_final[\"county\"] = \"Kings\"\n",
    "df_final = df_final[[\"county\", \"area\", \"confirmed_cases\"]]\n",
    "df_final = df_final.replace(\n",
    "    \"State Correctional Facility (Inmate)\", \"Correctional facilities\"\n",
    ")"
   ]
  },
  {
   "cell_type": "markdown",
   "metadata": {},
   "source": [
    "Remove any commas from cases column"
   ]
  },
  {
   "cell_type": "code",
   "execution_count": 15,
   "metadata": {},
   "outputs": [],
   "source": [
    "df_final[\"confirmed_cases\"] = df_final.confirmed_cases.replace(\",\", \"\", regex=True)"
   ]
  },
  {
   "cell_type": "markdown",
   "metadata": {},
   "source": [
    "Dig up updated time"
   ]
  },
  {
   "cell_type": "code",
   "execution_count": 16,
   "metadata": {},
   "outputs": [],
   "source": [
    "date_sentence = info[\"worldUpdate\"][\"applicationPresModel\"][\"workbookPresModel\"][\n",
    "    \"dashboardPresModel\"\n",
    "][\"zones\"][\"5\"][\"presModelHolder\"][\"flipboard\"][\"storyPoints\"][\"1\"][\n",
    "    \"dashboardPresModel\"\n",
    "][\n",
    "    \"zones\"\n",
    "][\n",
    "    \"43\"\n",
    "][\n",
    "    \"zoneCommon\"\n",
    "][\n",
    "    \"name\"\n",
    "]"
   ]
  },
  {
   "cell_type": "code",
   "execution_count": 17,
   "metadata": {},
   "outputs": [],
   "source": [
    "date_strings = date_sentence.replace(\"Overview Last Updated on \", \"\").split(\" at \")"
   ]
  },
  {
   "cell_type": "code",
   "execution_count": 18,
   "metadata": {},
   "outputs": [],
   "source": [
    "date = date_strings[0]"
   ]
  },
  {
   "cell_type": "code",
   "execution_count": 19,
   "metadata": {},
   "outputs": [],
   "source": [
    "df_final[\"county_date\"] = pd.to_datetime(date)"
   ]
  },
  {
   "cell_type": "markdown",
   "metadata": {},
   "source": [
    "## Vet"
   ]
  },
  {
   "cell_type": "code",
   "execution_count": 20,
   "metadata": {},
   "outputs": [],
   "source": [
    "default_kings_len = 9"
   ]
  },
  {
   "cell_type": "code",
   "execution_count": 21,
   "metadata": {},
   "outputs": [],
   "source": [
    "try:\n",
    "    assert not len(df_final) > default_kings_len\n",
    "except AssertionError:\n",
    "    raise AssertionError(\"Kings County has more rows than before\")"
   ]
  },
  {
   "cell_type": "code",
   "execution_count": 22,
   "metadata": {},
   "outputs": [],
   "source": [
    "try:\n",
    "    assert not len(df_final) < default_kings_len\n",
    "except AssertionError:\n",
    "    raise AssertionError(\"Kings County has missing row(s)\")"
   ]
  },
  {
   "cell_type": "markdown",
   "metadata": {},
   "source": [
    "## Export"
   ]
  },
  {
   "cell_type": "markdown",
   "metadata": {},
   "source": [
    "Set the date"
   ]
  },
  {
   "cell_type": "code",
   "execution_count": 23,
   "metadata": {},
   "outputs": [],
   "source": [
    "tz = pytz.timezone(\"America/Los_Angeles\")"
   ]
  },
  {
   "cell_type": "code",
   "execution_count": 24,
   "metadata": {},
   "outputs": [],
   "source": [
    "today = datetime.now(tz).date()"
   ]
  },
  {
   "cell_type": "code",
   "execution_count": 25,
   "metadata": {},
   "outputs": [],
   "source": [
    "slug = \"kings\""
   ]
  },
  {
   "cell_type": "code",
   "execution_count": 30,
   "metadata": {},
   "outputs": [],
   "source": [
    "df_final.to_csv(data_dir / slug / f\"{today}.csv\", index=False)"
   ]
  },
  {
   "cell_type": "markdown",
   "metadata": {
    "tags": []
   },
   "source": [
    "## Combine"
   ]
  },
  {
   "cell_type": "code",
   "execution_count": 31,
   "metadata": {},
   "outputs": [],
   "source": [
    "csv_list = [\n",
    "    i\n",
    "    for i in glob.glob(str(data_dir / slug / \"*.csv\"))\n",
    "    if not str(i).endswith(\"timeseries.csv\")\n",
    "]"
   ]
  },
  {
   "cell_type": "code",
   "execution_count": 32,
   "metadata": {},
   "outputs": [],
   "source": [
    "df_list = []\n",
    "for csv in csv_list:\n",
    "    if \"manual\" in csv:\n",
    "        df = pd.read_csv(csv, parse_dates=[\"date\"])\n",
    "    else:\n",
    "        file_date = csv.split(\"/\")[-1].replace(\".csv\", \"\")\n",
    "        df = pd.read_csv(csv, parse_dates=[\"county_date\"])\n",
    "        df[\"date\"] = file_date\n",
    "    df_list.append(df)"
   ]
  },
  {
   "cell_type": "code",
   "execution_count": 33,
   "metadata": {},
   "outputs": [],
   "source": [
    "df = pd.concat(df_list).sort_values([\"date\", \"area\"])"
   ]
  },
  {
   "cell_type": "code",
   "execution_count": 34,
   "metadata": {},
   "outputs": [],
   "source": [
    "df.to_csv(data_dir / slug / \"timeseries.csv\", index=False)"
   ]
  }
 ],
 "metadata": {
  "kernelspec": {
   "display_name": "Python 3 (ipykernel)",
   "language": "python",
   "name": "python3"
  },
  "language_info": {
   "codemirror_mode": {
    "name": "ipython",
    "version": 3
   },
   "file_extension": ".py",
   "mimetype": "text/x-python",
   "name": "python",
   "nbconvert_exporter": "python",
   "pygments_lexer": "ipython3",
   "version": "3.8.12"
  }
 },
 "nbformat": 4,
 "nbformat_minor": 4
}
