{
 "cells": [
  {
   "cell_type": "markdown",
   "metadata": {},
   "source": [
    "## Configuration\n",
    "_Initial steps to get the notebook ready to play nice with our repository. Do not delete this section._"
   ]
  },
  {
   "cell_type": "markdown",
   "metadata": {},
   "source": [
    "Code formatting with [black](https://pypi.org/project/nb-black/)."
   ]
  },
  {
   "cell_type": "code",
   "execution_count": 1,
   "metadata": {
    "execution": {
     "iopub.execute_input": "2021-12-13T08:20:33.846126Z",
     "iopub.status.busy": "2021-12-13T08:20:33.845626Z",
     "iopub.status.idle": "2021-12-13T08:20:33.953392Z",
     "shell.execute_reply": "2021-12-13T08:20:33.952827Z"
    }
   },
   "outputs": [],
   "source": [
    "%load_ext lab_black"
   ]
  },
  {
   "cell_type": "code",
   "execution_count": 2,
   "metadata": {
    "execution": {
     "iopub.execute_input": "2021-12-13T08:20:33.957124Z",
     "iopub.status.busy": "2021-12-13T08:20:33.956069Z",
     "iopub.status.idle": "2021-12-13T08:20:33.959064Z",
     "shell.execute_reply": "2021-12-13T08:20:33.958658Z"
    }
   },
   "outputs": [],
   "source": [
    "import os\n",
    "import pathlib"
   ]
  },
  {
   "cell_type": "code",
   "execution_count": 3,
   "metadata": {
    "execution": {
     "iopub.execute_input": "2021-12-13T08:20:33.964721Z",
     "iopub.status.busy": "2021-12-13T08:20:33.963698Z",
     "iopub.status.idle": "2021-12-13T08:20:33.965241Z",
     "shell.execute_reply": "2021-12-13T08:20:33.965604Z"
    }
   },
   "outputs": [],
   "source": [
    "this_dir = pathlib.Path(os.path.abspath(\"\"))"
   ]
  },
  {
   "cell_type": "code",
   "execution_count": 4,
   "metadata": {
    "execution": {
     "iopub.execute_input": "2021-12-13T08:20:33.968787Z",
     "iopub.status.busy": "2021-12-13T08:20:33.967980Z",
     "iopub.status.idle": "2021-12-13T08:20:33.970790Z",
     "shell.execute_reply": "2021-12-13T08:20:33.970405Z"
    }
   },
   "outputs": [],
   "source": [
    "data_dir = this_dir / \"data\""
   ]
  },
  {
   "cell_type": "code",
   "execution_count": 5,
   "metadata": {
    "execution": {
     "iopub.execute_input": "2021-12-13T08:20:33.973864Z",
     "iopub.status.busy": "2021-12-13T08:20:33.973424Z",
     "iopub.status.idle": "2021-12-13T08:20:34.307515Z",
     "shell.execute_reply": "2021-12-13T08:20:34.307021Z"
    }
   },
   "outputs": [],
   "source": [
    "import requests\n",
    "from bs4 import BeautifulSoup\n",
    "\n",
    "import json\n",
    "import re\n",
    "\n",
    "import pandas as pd\n",
    "import numpy as np\n",
    "\n",
    "import pytz\n",
    "import glob\n",
    "from datetime import datetime"
   ]
  },
  {
   "cell_type": "markdown",
   "metadata": {},
   "source": [
    "## Download"
   ]
  },
  {
   "cell_type": "markdown",
   "metadata": {},
   "source": [
    "Paths to Dashboard"
   ]
  },
  {
   "cell_type": "code",
   "execution_count": 6,
   "metadata": {
    "execution": {
     "iopub.execute_input": "2021-12-13T08:20:34.311690Z",
     "iopub.status.busy": "2021-12-13T08:20:34.310462Z",
     "iopub.status.idle": "2021-12-13T08:20:34.313943Z",
     "shell.execute_reply": "2021-12-13T08:20:34.314292Z"
    }
   },
   "outputs": [],
   "source": [
    "host_url = \"https://public.tableau.com\"\n",
    "path = \"/views/TITLEDStorylinewithallinone/Storyline2\""
   ]
  },
  {
   "cell_type": "markdown",
   "metadata": {},
   "source": [
    "Retrive Dashboard data"
   ]
  },
  {
   "cell_type": "code",
   "execution_count": 7,
   "metadata": {
    "execution": {
     "iopub.execute_input": "2021-12-13T08:20:34.321937Z",
     "iopub.status.busy": "2021-12-13T08:20:34.318728Z",
     "iopub.status.idle": "2021-12-13T08:20:34.608062Z",
     "shell.execute_reply": "2021-12-13T08:20:34.607508Z"
    }
   },
   "outputs": [
    {
     "ename": "AttributeError",
     "evalue": "'NoneType' object has no attribute 'text'",
     "output_type": "error",
     "traceback": [
      "\u001b[0;31m---------------------------------------------------------------------------\u001b[0m",
      "\u001b[0;31mAttributeError\u001b[0m                            Traceback (most recent call last)",
      "\u001b[0;32m/tmp/ipykernel_3045/3283067364.py\u001b[0m in \u001b[0;36m<module>\u001b[0;34m\u001b[0m\n\u001b[1;32m      4\u001b[0m \u001b[0msoup\u001b[0m \u001b[0;34m=\u001b[0m \u001b[0mBeautifulSoup\u001b[0m\u001b[0;34m(\u001b[0m\u001b[0mr\u001b[0m\u001b[0;34m.\u001b[0m\u001b[0mtext\u001b[0m\u001b[0;34m,\u001b[0m \u001b[0;34m\"html.parser\"\u001b[0m\u001b[0;34m)\u001b[0m\u001b[0;34m\u001b[0m\u001b[0;34m\u001b[0m\u001b[0m\n\u001b[1;32m      5\u001b[0m \u001b[0;34m\u001b[0m\u001b[0m\n\u001b[0;32m----> 6\u001b[0;31m \u001b[0mtableauData\u001b[0m \u001b[0;34m=\u001b[0m \u001b[0mjson\u001b[0m\u001b[0;34m.\u001b[0m\u001b[0mloads\u001b[0m\u001b[0;34m(\u001b[0m\u001b[0msoup\u001b[0m\u001b[0;34m.\u001b[0m\u001b[0mfind\u001b[0m\u001b[0;34m(\u001b[0m\u001b[0;34m\"textarea\"\u001b[0m\u001b[0;34m,\u001b[0m \u001b[0;34m{\u001b[0m\u001b[0;34m\"id\"\u001b[0m\u001b[0;34m:\u001b[0m \u001b[0;34m\"tsConfigContainer\"\u001b[0m\u001b[0;34m}\u001b[0m\u001b[0;34m)\u001b[0m\u001b[0;34m.\u001b[0m\u001b[0mtext\u001b[0m\u001b[0;34m)\u001b[0m\u001b[0;34m\u001b[0m\u001b[0;34m\u001b[0m\u001b[0m\n\u001b[0m\u001b[1;32m      7\u001b[0m \u001b[0;34m\u001b[0m\u001b[0m\n\u001b[1;32m      8\u001b[0m \u001b[0mdataUrl\u001b[0m \u001b[0;34m=\u001b[0m \u001b[0;34mf'{host_url}{tableauData[\"vizql_root\"]}/bootstrapSession/sessions/{tableauData[\"sessionid\"]}'\u001b[0m\u001b[0;34m\u001b[0m\u001b[0;34m\u001b[0m\u001b[0m\n",
      "\u001b[0;31mAttributeError\u001b[0m: 'NoneType' object has no attribute 'text'"
     ]
    }
   ],
   "source": [
    "url = f\"{host_url}{path}\"\n",
    "\n",
    "r = requests.get(url, params={\":embed\": \"y\", \":showVizHome\": \"no\"})\n",
    "soup = BeautifulSoup(r.text, \"html.parser\")\n",
    "\n",
    "tableauData = json.loads(soup.find(\"textarea\", {\"id\": \"tsConfigContainer\"}).text)\n",
    "\n",
    "dataUrl = f'{host_url}{tableauData[\"vizql_root\"]}/bootstrapSession/sessions/{tableauData[\"sessionid\"]}'\n",
    "\n",
    "r = requests.post(\n",
    "    dataUrl,\n",
    "    data={\n",
    "        \"sheet_id\": tableauData[\"sheetId\"],\n",
    "    },\n",
    ")\n",
    "\n",
    "dataReg = re.search(\"\\d+;({.*})\\d+;({.*})\", r.text, re.MULTILINE)\n",
    "info = json.loads(dataReg.group(1))\n",
    "data = json.loads(dataReg.group(2))"
   ]
  },
  {
   "cell_type": "markdown",
   "metadata": {},
   "source": [
    "## Parse"
   ]
  },
  {
   "cell_type": "markdown",
   "metadata": {},
   "source": [
    "Filter out the cities data"
   ]
  },
  {
   "cell_type": "code",
   "execution_count": 83,
   "metadata": {},
   "outputs": [],
   "source": [
    "columnsData = info[\"worldUpdate\"][\"applicationPresModel\"][\"workbookPresModel\"][\n",
    "    \"dashboardPresModel\"\n",
    "][\"zones\"][\"5\"][\"presModelHolder\"][\"flipboard\"][\"storyPoints\"][\"1\"][\n",
    "    \"dashboardPresModel\"\n",
    "][\n",
    "    \"zones\"\n",
    "][\n",
    "    \"33\"\n",
    "][\n",
    "    \"presModelHolder\"\n",
    "][\n",
    "    \"visual\"\n",
    "][\n",
    "    \"vizData\"\n",
    "][\n",
    "    \"paneColumnsData\"\n",
    "]\n",
    "result = [\n",
    "    {\n",
    "        \"fieldCaption\": t.get(\"fieldCaption\", \"\"),\n",
    "        \"valueIndices\": columnsData[\"paneColumnsList\"][t[\"paneIndices\"][0]][\n",
    "            \"vizPaneColumns\"\n",
    "        ][t[\"columnIndices\"][0]][\"valueIndices\"],\n",
    "        \"aliasIndices\": columnsData[\"paneColumnsList\"][t[\"paneIndices\"][0]][\n",
    "            \"vizPaneColumns\"\n",
    "        ][t[\"columnIndices\"][0]][\"aliasIndices\"],\n",
    "        \"dataType\": t.get(\"dataType\"),\n",
    "        \"paneIndices\": t[\"paneIndices\"][0],\n",
    "        \"columnIndices\": t[\"columnIndices\"][0],\n",
    "    }\n",
    "    for t in columnsData[\"vizDataColumns\"]\n",
    "    if t.get(\"fieldCaption\")\n",
    "]\n",
    "dataFull = data[\"secondaryInfo\"][\"presModelMap\"][\"dataDictionary\"][\"presModelHolder\"][\n",
    "    \"genDataDictionaryPresModel\"\n",
    "][\"dataSegments\"][\"0\"][\"dataColumns\"]\n",
    "\n",
    "\n",
    "def onAlias(it, value, cstring):\n",
    "    return value[it] if (it >= 0) else cstring[\"dataValues\"][abs(it) - 1]\n",
    "\n",
    "\n",
    "frameData = {}\n",
    "cstring = [t for t in dataFull if t[\"dataType\"] == \"cstring\"][0]\n",
    "for t in dataFull:\n",
    "    for index in result:\n",
    "        if t[\"dataType\"] == index[\"dataType\"]:\n",
    "            if len(index[\"valueIndices\"]) > 0:\n",
    "                frameData[f'{index[\"fieldCaption\"]}-value'] = [\n",
    "                    t[\"dataValues\"][abs(it)] for it in index[\"valueIndices\"]\n",
    "                ]\n",
    "            if len(index[\"aliasIndices\"]) > 0:\n",
    "                filterOut = [\n",
    "                    onAlias(it, t[\"dataValues\"], cstring)\n",
    "                    for it in index[\"aliasIndices\"]\n",
    "                ]\n",
    "                try:\n",
    "                    if filterOut[0] > 1:\n",
    "                        frameData[f'{index[\"fieldCaption\"]}-alias'] = [\n",
    "                            onAlias(it, t[\"dataValues\"], cstring)\n",
    "                            for it in index[\"aliasIndices\"]\n",
    "                        ]\n",
    "                except:\n",
    "                    frameData[f'{index[\"fieldCaption\"]}-alias'] = [\n",
    "                        onAlias(it, t[\"dataValues\"], cstring)\n",
    "                        for it in index[\"aliasIndices\"]\n",
    "                    ]"
   ]
  },
  {
   "cell_type": "markdown",
   "metadata": {},
   "source": [
    "Get Correctional facilities data"
   ]
  },
  {
   "cell_type": "code",
   "execution_count": 84,
   "metadata": {},
   "outputs": [],
   "source": [
    "columnsData = info[\"worldUpdate\"][\"applicationPresModel\"][\"workbookPresModel\"][\n",
    "    \"dashboardPresModel\"\n",
    "][\"zones\"][\"5\"][\"presModelHolder\"][\"flipboard\"][\"storyPoints\"][\"1\"][\n",
    "    \"dashboardPresModel\"\n",
    "][\n",
    "    \"zones\"\n",
    "][\n",
    "    \"8\"\n",
    "][\n",
    "    \"presModelHolder\"\n",
    "][\n",
    "    \"visual\"\n",
    "][\n",
    "    \"vizData\"\n",
    "][\n",
    "    \"paneColumnsData\"\n",
    "]\n",
    "result = [\n",
    "    {\n",
    "        \"fieldCaption\": t.get(\"fieldCaption\", \"\"),\n",
    "        \"valueIndices\": columnsData[\"paneColumnsList\"][t[\"paneIndices\"][0]][\n",
    "            \"vizPaneColumns\"\n",
    "        ][t[\"columnIndices\"][0]][\"valueIndices\"],\n",
    "        \"aliasIndices\": columnsData[\"paneColumnsList\"][t[\"paneIndices\"][0]][\n",
    "            \"vizPaneColumns\"\n",
    "        ][t[\"columnIndices\"][0]][\"aliasIndices\"],\n",
    "        \"dataType\": t.get(\"dataType\"),\n",
    "        \"paneIndices\": t[\"paneIndices\"][0],\n",
    "        \"columnIndices\": t[\"columnIndices\"][0],\n",
    "    }\n",
    "    for t in columnsData[\"vizDataColumns\"]\n",
    "    if t.get(\"fieldCaption\")\n",
    "]\n",
    "dataFull = data[\"secondaryInfo\"][\"presModelMap\"][\"dataDictionary\"][\"presModelHolder\"][\n",
    "    \"genDataDictionaryPresModel\"\n",
    "][\"dataSegments\"][\"0\"][\"dataColumns\"]\n",
    "\n",
    "\n",
    "def onAlias(it, value, cstring):\n",
    "    return value[it] if (it >= 0) else cstring[\"dataValues\"][abs(it) - 1]\n",
    "\n",
    "\n",
    "frameData_2 = {}\n",
    "cstring = [t for t in dataFull if t[\"dataType\"] == \"cstring\"][0]\n",
    "for t in dataFull:\n",
    "    for index in result:\n",
    "        if t[\"dataType\"] == index[\"dataType\"]:\n",
    "            if len(index[\"valueIndices\"]) > 0:\n",
    "                frameData_2[f'{index[\"fieldCaption\"]}-value'] = [\n",
    "                    t[\"dataValues\"][abs(it)] for it in index[\"valueIndices\"]\n",
    "                ]\n",
    "            #                 print(frameData[f'{index[\"fieldCaption\"]}-value'])\n",
    "            if len(index[\"aliasIndices\"]) > 0:\n",
    "                filterOut = [\n",
    "                    onAlias(it, t[\"dataValues\"], cstring)\n",
    "                    for it in index[\"aliasIndices\"]\n",
    "                ]\n",
    "                try:\n",
    "                    if filterOut[0] > 1:\n",
    "                        frameData_2[f'{index[\"fieldCaption\"]}-alias'] = [\n",
    "                            onAlias(it, t[\"dataValues\"], cstring)\n",
    "                            for it in index[\"aliasIndices\"]\n",
    "                        ]\n",
    "                except:\n",
    "                    frameData_2[f'{index[\"fieldCaption\"]}-alias'] = [\n",
    "                        onAlias(it, t[\"dataValues\"], cstring)\n",
    "                        for it in index[\"aliasIndices\"]\n",
    "                    ]"
   ]
  },
  {
   "cell_type": "markdown",
   "metadata": {},
   "source": [
    "Turn both into DataFrames"
   ]
  },
  {
   "cell_type": "code",
   "execution_count": 85,
   "metadata": {},
   "outputs": [],
   "source": [
    "df = pd.DataFrame.from_dict(frameData, orient=\"index\").fillna(0).T\n",
    "df_2 = pd.DataFrame.from_dict(frameData_2, orient=\"index\").fillna(0).T"
   ]
  },
  {
   "cell_type": "markdown",
   "metadata": {},
   "source": [
    "Just get correctional facilities cases from second dataframe"
   ]
  },
  {
   "cell_type": "code",
   "execution_count": 86,
   "metadata": {},
   "outputs": [],
   "source": [
    "df_2 = df_2[df_2[\"Measure Names-alias\"] == \"Cases\"]"
   ]
  },
  {
   "cell_type": "code",
   "execution_count": 87,
   "metadata": {},
   "outputs": [
    {
     "data": {
      "text/html": [
       "<div>\n",
       "<style scoped>\n",
       "    .dataframe tbody tr th:only-of-type {\n",
       "        vertical-align: middle;\n",
       "    }\n",
       "\n",
       "    .dataframe tbody tr th {\n",
       "        vertical-align: top;\n",
       "    }\n",
       "\n",
       "    .dataframe thead th {\n",
       "        text-align: right;\n",
       "    }\n",
       "</style>\n",
       "<table border=\"1\" class=\"dataframe\">\n",
       "  <thead>\n",
       "    <tr style=\"text-align: right;\">\n",
       "      <th></th>\n",
       "      <th>Measure Values-alias</th>\n",
       "      <th>Kings County1-value</th>\n",
       "      <th>Kings County1-alias</th>\n",
       "      <th>Measure Names-value</th>\n",
       "      <th>Measure Names-alias</th>\n",
       "    </tr>\n",
       "  </thead>\n",
       "  <tbody>\n",
       "    <tr>\n",
       "      <th>8</th>\n",
       "      <td>50</td>\n",
       "      <td>Daily Increase</td>\n",
       "      <td>Daily Increase</td>\n",
       "      <td>[federated.0r1lg6o1tllpw911zqzhi0opa5j0].[sum:...</td>\n",
       "      <td>Cases</td>\n",
       "    </tr>\n",
       "    <tr>\n",
       "      <th>9</th>\n",
       "      <td>31,412</td>\n",
       "      <td>Total</td>\n",
       "      <td>Total</td>\n",
       "      <td>[federated.0r1lg6o1tllpw911zqzhi0opa5j0].[sum:...</td>\n",
       "      <td>Cases</td>\n",
       "    </tr>\n",
       "    <tr>\n",
       "      <th>10</th>\n",
       "      <td>7,350</td>\n",
       "      <td>State Correctional Facility (Inmate)</td>\n",
       "      <td>State Correctional Facility (Inmate)</td>\n",
       "      <td>[federated.0r1lg6o1tllpw911zqzhi0opa5j0].[sum:...</td>\n",
       "      <td>Cases</td>\n",
       "    </tr>\n",
       "    <tr>\n",
       "      <th>11</th>\n",
       "      <td>24,062</td>\n",
       "      <td>Community (Non-inmate)</td>\n",
       "      <td>Community (Non-inmate)</td>\n",
       "      <td>[federated.0r1lg6o1tllpw911zqzhi0opa5j0].[sum:...</td>\n",
       "      <td>Cases</td>\n",
       "    </tr>\n",
       "  </tbody>\n",
       "</table>\n",
       "</div>"
      ],
      "text/plain": [
       "   Measure Values-alias                   Kings County1-value  \\\n",
       "8                    50                        Daily Increase   \n",
       "9                31,412                                 Total   \n",
       "10                7,350  State Correctional Facility (Inmate)   \n",
       "11               24,062                Community (Non-inmate)   \n",
       "\n",
       "                     Kings County1-alias  \\\n",
       "8                         Daily Increase   \n",
       "9                                  Total   \n",
       "10  State Correctional Facility (Inmate)   \n",
       "11                Community (Non-inmate)   \n",
       "\n",
       "                                  Measure Names-value Measure Names-alias  \n",
       "8   [federated.0r1lg6o1tllpw911zqzhi0opa5j0].[sum:...               Cases  \n",
       "9   [federated.0r1lg6o1tllpw911zqzhi0opa5j0].[sum:...               Cases  \n",
       "10  [federated.0r1lg6o1tllpw911zqzhi0opa5j0].[sum:...               Cases  \n",
       "11  [federated.0r1lg6o1tllpw911zqzhi0opa5j0].[sum:...               Cases  "
      ]
     },
     "execution_count": 87,
     "metadata": {},
     "output_type": "execute_result"
    }
   ],
   "source": [
    "df_2"
   ]
  },
  {
   "cell_type": "code",
   "execution_count": 88,
   "metadata": {},
   "outputs": [],
   "source": [
    "df_2 = df_2[df_2[\"Kings County1-alias\"] == \"State Correctional Facility (Inmate)\"]"
   ]
  },
  {
   "cell_type": "code",
   "execution_count": 89,
   "metadata": {},
   "outputs": [],
   "source": [
    "df_2 = df_2[[\"Kings County1-alias\", \"Measure Values-alias\"]]"
   ]
  },
  {
   "cell_type": "code",
   "execution_count": 90,
   "metadata": {},
   "outputs": [],
   "source": [
    "df_2 = df_2.rename(\n",
    "    columns={\"Kings County1-alias\": \"area\", \"Measure Values-alias\": \"confirmed_cases\"}\n",
    ")"
   ]
  },
  {
   "cell_type": "markdown",
   "metadata": {},
   "source": [
    "Rename city dataframe columns"
   ]
  },
  {
   "cell_type": "code",
   "execution_count": 91,
   "metadata": {},
   "outputs": [],
   "source": [
    "df = df.rename(\n",
    "    columns={\"City-alias\": \"area\", \"SUM(Number of Cases)-alias\": \"confirmed_cases\"}\n",
    ")"
   ]
  },
  {
   "cell_type": "code",
   "execution_count": 92,
   "metadata": {},
   "outputs": [],
   "source": [
    "df = df[~df.area.isnull()]"
   ]
  },
  {
   "cell_type": "code",
   "execution_count": 93,
   "metadata": {},
   "outputs": [],
   "source": [
    "df_2.replace(\n",
    "    \"State Correctional Facility (Inmate)\", \"Correctional facilities\", inplace=True\n",
    ")"
   ]
  },
  {
   "cell_type": "markdown",
   "metadata": {},
   "source": [
    "Reorder columns, Combine and add date, Kings County, and fix text"
   ]
  },
  {
   "cell_type": "code",
   "execution_count": 94,
   "metadata": {},
   "outputs": [],
   "source": [
    "df_final = pd.concat([df, df_2])"
   ]
  },
  {
   "cell_type": "code",
   "execution_count": 95,
   "metadata": {},
   "outputs": [],
   "source": [
    "df_final[\"county\"] = \"Kings\"\n",
    "df_final = df_final[[\"county\", \"area\", \"confirmed_cases\"]]"
   ]
  },
  {
   "cell_type": "code",
   "execution_count": 96,
   "metadata": {},
   "outputs": [
    {
     "data": {
      "text/html": [
       "<div>\n",
       "<style scoped>\n",
       "    .dataframe tbody tr th:only-of-type {\n",
       "        vertical-align: middle;\n",
       "    }\n",
       "\n",
       "    .dataframe tbody tr th {\n",
       "        vertical-align: top;\n",
       "    }\n",
       "\n",
       "    .dataframe thead th {\n",
       "        text-align: right;\n",
       "    }\n",
       "</style>\n",
       "<table border=\"1\" class=\"dataframe\">\n",
       "  <thead>\n",
       "    <tr style=\"text-align: right;\">\n",
       "      <th></th>\n",
       "      <th>county</th>\n",
       "      <th>area</th>\n",
       "      <th>confirmed_cases</th>\n",
       "    </tr>\n",
       "  </thead>\n",
       "  <tbody>\n",
       "    <tr>\n",
       "      <th>0</th>\n",
       "      <td>Kings</td>\n",
       "      <td>Stratford</td>\n",
       "      <td>266</td>\n",
       "    </tr>\n",
       "    <tr>\n",
       "      <th>1</th>\n",
       "      <td>Kings</td>\n",
       "      <td>Other Area</td>\n",
       "      <td>334</td>\n",
       "    </tr>\n",
       "    <tr>\n",
       "      <th>2</th>\n",
       "      <td>Kings</td>\n",
       "      <td>Lemoore</td>\n",
       "      <td>5687</td>\n",
       "    </tr>\n",
       "    <tr>\n",
       "      <th>3</th>\n",
       "      <td>Kings</td>\n",
       "      <td>Kettleman City</td>\n",
       "      <td>231</td>\n",
       "    </tr>\n",
       "    <tr>\n",
       "      <th>4</th>\n",
       "      <td>Kings</td>\n",
       "      <td>Hanford</td>\n",
       "      <td>12246</td>\n",
       "    </tr>\n",
       "    <tr>\n",
       "      <th>5</th>\n",
       "      <td>Kings</td>\n",
       "      <td>Corcoran</td>\n",
       "      <td>2793</td>\n",
       "    </tr>\n",
       "    <tr>\n",
       "      <th>6</th>\n",
       "      <td>Kings</td>\n",
       "      <td>Avenal</td>\n",
       "      <td>1636</td>\n",
       "    </tr>\n",
       "    <tr>\n",
       "      <th>7</th>\n",
       "      <td>Kings</td>\n",
       "      <td>Armona</td>\n",
       "      <td>869</td>\n",
       "    </tr>\n",
       "    <tr>\n",
       "      <th>10</th>\n",
       "      <td>Kings</td>\n",
       "      <td>Correctional facilities</td>\n",
       "      <td>7,350</td>\n",
       "    </tr>\n",
       "  </tbody>\n",
       "</table>\n",
       "</div>"
      ],
      "text/plain": [
       "   county                     area confirmed_cases\n",
       "0   Kings                Stratford             266\n",
       "1   Kings               Other Area             334\n",
       "2   Kings                  Lemoore            5687\n",
       "3   Kings           Kettleman City             231\n",
       "4   Kings                  Hanford           12246\n",
       "5   Kings                 Corcoran            2793\n",
       "6   Kings                   Avenal            1636\n",
       "7   Kings                   Armona             869\n",
       "10  Kings  Correctional facilities           7,350"
      ]
     },
     "execution_count": 96,
     "metadata": {},
     "output_type": "execute_result"
    }
   ],
   "source": [
    "df_final"
   ]
  },
  {
   "cell_type": "markdown",
   "metadata": {},
   "source": [
    "Remove any commas from cases column"
   ]
  },
  {
   "cell_type": "code",
   "execution_count": 97,
   "metadata": {},
   "outputs": [],
   "source": [
    "df_final[\"confirmed_cases\"] = df_final.confirmed_cases.replace(\",\", \"\", regex=True)"
   ]
  },
  {
   "cell_type": "markdown",
   "metadata": {},
   "source": [
    "Dig up updated time"
   ]
  },
  {
   "cell_type": "code",
   "execution_count": 98,
   "metadata": {},
   "outputs": [],
   "source": [
    "date_sentence = info[\"worldUpdate\"][\"applicationPresModel\"][\"workbookPresModel\"][\n",
    "    \"dashboardPresModel\"\n",
    "][\"zones\"][\"5\"][\"presModelHolder\"][\"flipboard\"][\"storyPoints\"][\"1\"][\n",
    "    \"dashboardPresModel\"\n",
    "][\n",
    "    \"zones\"\n",
    "][\n",
    "    \"43\"\n",
    "][\n",
    "    \"zoneCommon\"\n",
    "][\n",
    "    \"name\"\n",
    "]"
   ]
  },
  {
   "cell_type": "code",
   "execution_count": 99,
   "metadata": {},
   "outputs": [],
   "source": [
    "date_strings = date_sentence.replace(\"Overview Last Updated on \", \"\").split(\" at \")"
   ]
  },
  {
   "cell_type": "code",
   "execution_count": 100,
   "metadata": {},
   "outputs": [],
   "source": [
    "date = date_strings[0]"
   ]
  },
  {
   "cell_type": "code",
   "execution_count": 101,
   "metadata": {},
   "outputs": [],
   "source": [
    "df_final[\"county_date\"] = pd.to_datetime(date)"
   ]
  },
  {
   "cell_type": "markdown",
   "metadata": {},
   "source": [
    "## Vet"
   ]
  },
  {
   "cell_type": "code",
   "execution_count": 102,
   "metadata": {},
   "outputs": [],
   "source": [
    "default_kings_len = 9"
   ]
  },
  {
   "cell_type": "code",
   "execution_count": 103,
   "metadata": {},
   "outputs": [],
   "source": [
    "try:\n",
    "    assert not len(df_final) > default_kings_len\n",
    "except AssertionError:\n",
    "    raise AssertionError(\"Kings County has more rows than before\")"
   ]
  },
  {
   "cell_type": "code",
   "execution_count": 104,
   "metadata": {},
   "outputs": [],
   "source": [
    "try:\n",
    "    assert not len(df_final) < default_kings_len\n",
    "except AssertionError:\n",
    "    raise AssertionError(\"Kings County has missing row(s)\")"
   ]
  },
  {
   "cell_type": "markdown",
   "metadata": {},
   "source": [
    "## Export"
   ]
  },
  {
   "cell_type": "markdown",
   "metadata": {},
   "source": [
    "Set the date"
   ]
  },
  {
   "cell_type": "code",
   "execution_count": 105,
   "metadata": {},
   "outputs": [],
   "source": [
    "tz = pytz.timezone(\"America/Los_Angeles\")"
   ]
  },
  {
   "cell_type": "code",
   "execution_count": 106,
   "metadata": {},
   "outputs": [],
   "source": [
    "today = datetime.now(tz).date()"
   ]
  },
  {
   "cell_type": "code",
   "execution_count": 107,
   "metadata": {},
   "outputs": [],
   "source": [
    "slug = \"kings\""
   ]
  },
  {
   "cell_type": "code",
   "execution_count": 108,
   "metadata": {},
   "outputs": [],
   "source": [
    "df_final.to_csv(data_dir / slug / f\"{today}.csv\", index=False)"
   ]
  },
  {
   "cell_type": "markdown",
   "metadata": {
    "tags": []
   },
   "source": [
    "## Combine"
   ]
  },
  {
   "cell_type": "code",
   "execution_count": 109,
   "metadata": {},
   "outputs": [],
   "source": [
    "csv_list = [\n",
    "    i\n",
    "    for i in glob.glob(str(data_dir / slug / \"*.csv\"))\n",
    "    if not str(i).endswith(\"timeseries.csv\")\n",
    "]"
   ]
  },
  {
   "cell_type": "code",
   "execution_count": 110,
   "metadata": {},
   "outputs": [],
   "source": [
    "df_list = []\n",
    "for csv in csv_list:\n",
    "    if \"manual\" in csv:\n",
    "        df = pd.read_csv(csv, parse_dates=[\"date\"])\n",
    "    else:\n",
    "        file_date = csv.split(\"/\")[-1].replace(\".csv\", \"\")\n",
    "        df = pd.read_csv(csv, parse_dates=[\"county_date\"])\n",
    "        df[\"date\"] = file_date\n",
    "    df_list.append(df)"
   ]
  },
  {
   "cell_type": "code",
   "execution_count": 111,
   "metadata": {},
   "outputs": [],
   "source": [
    "df = pd.concat(df_list).sort_values([\"date\", \"area\"])"
   ]
  },
  {
   "cell_type": "code",
   "execution_count": 112,
   "metadata": {},
   "outputs": [],
   "source": [
    "df.to_csv(data_dir / slug / \"timeseries.csv\", index=False)"
   ]
  }
 ],
 "metadata": {
  "kernelspec": {
   "display_name": "Python 3 (ipykernel)",
   "language": "python",
   "name": "python3"
  },
  "language_info": {
   "codemirror_mode": {
    "name": "ipython",
    "version": 3
   },
   "file_extension": ".py",
   "mimetype": "text/x-python",
   "name": "python",
   "nbconvert_exporter": "python",
   "pygments_lexer": "ipython3",
   "version": "3.8.12"
  }
 },
 "nbformat": 4,
 "nbformat_minor": 4
}
