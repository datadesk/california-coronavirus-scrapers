{
 "cells": [
  {
   "cell_type": "markdown",
   "metadata": {},
   "source": [
    "## Configuration\n",
    "_Initial steps to get the notebook ready to play nice with our repository. Do not delete this section._"
   ]
  },
  {
   "cell_type": "markdown",
   "metadata": {},
   "source": [
    "Code formatting with [black](https://pypi.org/project/nb-black/)."
   ]
  },
  {
   "cell_type": "code",
   "execution_count": 1,
   "metadata": {
    "execution": {
     "iopub.execute_input": "2022-08-07T04:20:06.800810Z",
     "iopub.status.busy": "2022-08-07T04:20:06.800338Z",
     "iopub.status.idle": "2022-08-07T04:20:06.948154Z",
     "shell.execute_reply": "2022-08-07T04:20:06.947523Z"
    }
   },
   "outputs": [],
   "source": [
    "%load_ext lab_black"
   ]
  },
  {
   "cell_type": "code",
   "execution_count": 2,
   "metadata": {
    "execution": {
     "iopub.execute_input": "2022-08-07T04:20:06.952221Z",
     "iopub.status.busy": "2022-08-07T04:20:06.951665Z",
     "iopub.status.idle": "2022-08-07T04:20:06.953891Z",
     "shell.execute_reply": "2022-08-07T04:20:06.953502Z"
    }
   },
   "outputs": [],
   "source": [
    "import os\n",
    "import pathlib"
   ]
  },
  {
   "cell_type": "code",
   "execution_count": 3,
   "metadata": {
    "execution": {
     "iopub.execute_input": "2022-08-07T04:20:06.957489Z",
     "iopub.status.busy": "2022-08-07T04:20:06.957014Z",
     "iopub.status.idle": "2022-08-07T04:20:06.961415Z",
     "shell.execute_reply": "2022-08-07T04:20:06.961015Z"
    }
   },
   "outputs": [],
   "source": [
    "this_dir = pathlib.Path(os.path.abspath(\"\"))"
   ]
  },
  {
   "cell_type": "code",
   "execution_count": 4,
   "metadata": {
    "execution": {
     "iopub.execute_input": "2022-08-07T04:20:06.965276Z",
     "iopub.status.busy": "2022-08-07T04:20:06.964457Z",
     "iopub.status.idle": "2022-08-07T04:20:06.966851Z",
     "shell.execute_reply": "2022-08-07T04:20:06.967192Z"
    }
   },
   "outputs": [],
   "source": [
    "data_dir = this_dir / \"data\""
   ]
  },
  {
   "cell_type": "code",
   "execution_count": 5,
   "metadata": {
    "execution": {
     "iopub.execute_input": "2022-08-07T04:20:06.970907Z",
     "iopub.status.busy": "2022-08-07T04:20:06.970464Z",
     "iopub.status.idle": "2022-08-07T04:20:07.381296Z",
     "shell.execute_reply": "2022-08-07T04:20:07.380394Z"
    }
   },
   "outputs": [],
   "source": [
    "import requests\n",
    "from bs4 import BeautifulSoup\n",
    "\n",
    "import json\n",
    "import re\n",
    "\n",
    "import pandas as pd\n",
    "import numpy as np\n",
    "\n",
    "import pytz\n",
    "import glob\n",
    "from datetime import datetime\n",
    "from tableauscraper import TableauScraper as TS"
   ]
  },
  {
   "cell_type": "markdown",
   "metadata": {},
   "source": [
    "## Download"
   ]
  },
  {
   "cell_type": "markdown",
   "metadata": {},
   "source": [
    "Paths to Dashboard"
   ]
  },
  {
   "cell_type": "code",
   "execution_count": 6,
   "metadata": {
    "execution": {
     "iopub.execute_input": "2022-08-07T04:20:07.387293Z",
     "iopub.status.busy": "2022-08-07T04:20:07.386771Z",
     "iopub.status.idle": "2022-08-07T04:20:07.389990Z",
     "shell.execute_reply": "2022-08-07T04:20:07.389596Z"
    }
   },
   "outputs": [],
   "source": [
    "host_url = \"https://public.tableau.com\"\n",
    "path = \"/views/COVID_Case_Dashboard_English/Overview\""
   ]
  },
  {
   "cell_type": "markdown",
   "metadata": {},
   "source": [
    "Retrive Dashboard data"
   ]
  },
  {
   "cell_type": "code",
   "execution_count": 7,
   "metadata": {
    "execution": {
     "iopub.execute_input": "2022-08-07T04:20:07.394552Z",
     "iopub.status.busy": "2022-08-07T04:20:07.392939Z",
     "iopub.status.idle": "2022-08-07T04:20:07.397074Z",
     "shell.execute_reply": "2022-08-07T04:20:07.396670Z"
    }
   },
   "outputs": [],
   "source": [
    "url = f\"{host_url}{path}\""
   ]
  },
  {
   "cell_type": "code",
   "execution_count": 8,
   "metadata": {
    "execution": {
     "iopub.execute_input": "2022-08-07T04:20:07.400704Z",
     "iopub.status.busy": "2022-08-07T04:20:07.400260Z",
     "iopub.status.idle": "2022-08-07T04:20:08.353735Z",
     "shell.execute_reply": "2022-08-07T04:20:08.353215Z"
    }
   },
   "outputs": [],
   "source": [
    "ts = TS()\n",
    "ts.loads(url)"
   ]
  },
  {
   "cell_type": "code",
   "execution_count": 9,
   "metadata": {
    "execution": {
     "iopub.execute_input": "2022-08-07T04:20:08.361531Z",
     "iopub.status.busy": "2022-08-07T04:20:08.361050Z",
     "iopub.status.idle": "2022-08-07T04:20:08.603264Z",
     "shell.execute_reply": "2022-08-07T04:20:08.602763Z"
    }
   },
   "outputs": [],
   "source": [
    "workbook = ts.getWorkbook()"
   ]
  },
  {
   "cell_type": "code",
   "execution_count": 10,
   "metadata": {
    "execution": {
     "iopub.execute_input": "2022-08-07T04:20:08.609781Z",
     "iopub.status.busy": "2022-08-07T04:20:08.608644Z",
     "iopub.status.idle": "2022-08-07T04:20:08.610366Z",
     "shell.execute_reply": "2022-08-07T04:20:08.610782Z"
    }
   },
   "outputs": [],
   "source": [
    "sheet = next(w for w in workbook.worksheets if w.name == \"City\")"
   ]
  },
  {
   "cell_type": "code",
   "execution_count": 11,
   "metadata": {
    "execution": {
     "iopub.execute_input": "2022-08-07T04:20:08.615486Z",
     "iopub.status.busy": "2022-08-07T04:20:08.614498Z",
     "iopub.status.idle": "2022-08-07T04:20:08.616013Z",
     "shell.execute_reply": "2022-08-07T04:20:08.616377Z"
    }
   },
   "outputs": [],
   "source": [
    "df = sheet.data"
   ]
  },
  {
   "cell_type": "code",
   "execution_count": 12,
   "metadata": {
    "execution": {
     "iopub.execute_input": "2022-08-07T04:20:08.622373Z",
     "iopub.status.busy": "2022-08-07T04:20:08.621919Z",
     "iopub.status.idle": "2022-08-07T04:20:08.627488Z",
     "shell.execute_reply": "2022-08-07T04:20:08.627085Z"
    }
   },
   "outputs": [],
   "source": [
    "city_df = df[df[\"Measure Names-alias\"] == \"Cases\"][\n",
    "    [\n",
    "        \"City -value\",\n",
    "        \"Measure Values-alias\",\n",
    "    ]\n",
    "].rename(columns={\"City -value\": \"area\", \"Measure Values-alias\": \"confirmed_cases\"})"
   ]
  },
  {
   "cell_type": "code",
   "execution_count": 13,
   "metadata": {
    "execution": {
     "iopub.execute_input": "2022-08-07T04:20:08.636707Z",
     "iopub.status.busy": "2022-08-07T04:20:08.634575Z",
     "iopub.status.idle": "2022-08-07T04:20:08.642936Z",
     "shell.execute_reply": "2022-08-07T04:20:08.643307Z"
    }
   },
   "outputs": [
    {
     "data": {
      "text/html": [
       "<div>\n",
       "<style scoped>\n",
       "    .dataframe tbody tr th:only-of-type {\n",
       "        vertical-align: middle;\n",
       "    }\n",
       "\n",
       "    .dataframe tbody tr th {\n",
       "        vertical-align: top;\n",
       "    }\n",
       "\n",
       "    .dataframe thead th {\n",
       "        text-align: right;\n",
       "    }\n",
       "</style>\n",
       "<table border=\"1\" class=\"dataframe\">\n",
       "  <thead>\n",
       "    <tr style=\"text-align: right;\">\n",
       "      <th></th>\n",
       "      <th>area</th>\n",
       "      <th>confirmed_cases</th>\n",
       "    </tr>\n",
       "  </thead>\n",
       "  <tbody>\n",
       "    <tr>\n",
       "      <th>9</th>\n",
       "      <td>Kettleman City</td>\n",
       "      <td>447</td>\n",
       "    </tr>\n",
       "    <tr>\n",
       "      <th>10</th>\n",
       "      <td>Other Area</td>\n",
       "      <td>481</td>\n",
       "    </tr>\n",
       "    <tr>\n",
       "      <th>11</th>\n",
       "      <td>Stratford</td>\n",
       "      <td>500</td>\n",
       "    </tr>\n",
       "    <tr>\n",
       "      <th>12</th>\n",
       "      <td>%null%</td>\n",
       "      <td>819</td>\n",
       "    </tr>\n",
       "    <tr>\n",
       "      <th>13</th>\n",
       "      <td>Armona</td>\n",
       "      <td>1,632</td>\n",
       "    </tr>\n",
       "    <tr>\n",
       "      <th>14</th>\n",
       "      <td>Avenal</td>\n",
       "      <td>7,329</td>\n",
       "    </tr>\n",
       "    <tr>\n",
       "      <th>15</th>\n",
       "      <td>Corcoran</td>\n",
       "      <td>11,013</td>\n",
       "    </tr>\n",
       "    <tr>\n",
       "      <th>16</th>\n",
       "      <td>Lemoore</td>\n",
       "      <td>11,107</td>\n",
       "    </tr>\n",
       "    <tr>\n",
       "      <th>17</th>\n",
       "      <td>Hanford</td>\n",
       "      <td>23,737</td>\n",
       "    </tr>\n",
       "  </tbody>\n",
       "</table>\n",
       "</div>"
      ],
      "text/plain": [
       "              area confirmed_cases\n",
       "9   Kettleman City             447\n",
       "10      Other Area             481\n",
       "11       Stratford             500\n",
       "12          %null%             819\n",
       "13          Armona           1,632\n",
       "14          Avenal           7,329\n",
       "15        Corcoran          11,013\n",
       "16         Lemoore          11,107\n",
       "17         Hanford          23,737"
      ]
     },
     "execution_count": 13,
     "metadata": {},
     "output_type": "execute_result"
    }
   ],
   "source": [
    "city_df"
   ]
  },
  {
   "cell_type": "code",
   "execution_count": 14,
   "metadata": {
    "execution": {
     "iopub.execute_input": "2022-08-07T04:20:08.646863Z",
     "iopub.status.busy": "2022-08-07T04:20:08.646421Z",
     "iopub.status.idle": "2022-08-07T04:20:08.649914Z",
     "shell.execute_reply": "2022-08-07T04:20:08.650258Z"
    }
   },
   "outputs": [],
   "source": [
    "df2 = next(w for w in workbook.worksheets if w.name == \"Totals Cases & Deaths\").data"
   ]
  },
  {
   "cell_type": "code",
   "execution_count": 15,
   "metadata": {
    "execution": {
     "iopub.execute_input": "2022-08-07T04:20:08.656836Z",
     "iopub.status.busy": "2022-08-07T04:20:08.656379Z",
     "iopub.status.idle": "2022-08-07T04:20:08.663795Z",
     "shell.execute_reply": "2022-08-07T04:20:08.663393Z"
    }
   },
   "outputs": [],
   "source": [
    "prison_df = (\n",
    "    df2[\n",
    "        (df2[\"Measure Names-alias\"] == \"Cases\")\n",
    "        & (df2[\"type-alias\"] == \"State Correctional Facilities\")\n",
    "    ]\n",
    "    .rename(columns={\"type-alias\": \"area\", \"Measure Values-alias\": \"confirmed_cases\"})[\n",
    "        [\"area\", \"confirmed_cases\"]\n",
    "    ]\n",
    "    .replace(\"State Correctional Facilities\", \"Correctional facilities\")\n",
    ")"
   ]
  },
  {
   "cell_type": "code",
   "execution_count": 16,
   "metadata": {
    "execution": {
     "iopub.execute_input": "2022-08-07T04:20:08.669211Z",
     "iopub.status.busy": "2022-08-07T04:20:08.665508Z",
     "iopub.status.idle": "2022-08-07T04:20:08.678079Z",
     "shell.execute_reply": "2022-08-07T04:20:08.678429Z"
    }
   },
   "outputs": [
    {
     "data": {
      "text/html": [
       "<div>\n",
       "<style scoped>\n",
       "    .dataframe tbody tr th:only-of-type {\n",
       "        vertical-align: middle;\n",
       "    }\n",
       "\n",
       "    .dataframe tbody tr th {\n",
       "        vertical-align: top;\n",
       "    }\n",
       "\n",
       "    .dataframe thead th {\n",
       "        text-align: right;\n",
       "    }\n",
       "</style>\n",
       "<table border=\"1\" class=\"dataframe\">\n",
       "  <thead>\n",
       "    <tr style=\"text-align: right;\">\n",
       "      <th></th>\n",
       "      <th>area</th>\n",
       "      <th>confirmed_cases</th>\n",
       "    </tr>\n",
       "  </thead>\n",
       "  <tbody>\n",
       "    <tr>\n",
       "      <th>4</th>\n",
       "      <td>Correctional facilities</td>\n",
       "      <td>9,997</td>\n",
       "    </tr>\n",
       "  </tbody>\n",
       "</table>\n",
       "</div>"
      ],
      "text/plain": [
       "                      area confirmed_cases\n",
       "4  Correctional facilities           9,997"
      ]
     },
     "execution_count": 16,
     "metadata": {},
     "output_type": "execute_result"
    }
   ],
   "source": [
    "prison_df"
   ]
  },
  {
   "cell_type": "markdown",
   "metadata": {},
   "source": [
    "Reorder columns, Combine and add date, Kings County, and fix text"
   ]
  },
  {
   "cell_type": "code",
   "execution_count": 17,
   "metadata": {
    "execution": {
     "iopub.execute_input": "2022-08-07T04:20:08.683940Z",
     "iopub.status.busy": "2022-08-07T04:20:08.683500Z",
     "iopub.status.idle": "2022-08-07T04:20:08.686495Z",
     "shell.execute_reply": "2022-08-07T04:20:08.686103Z"
    }
   },
   "outputs": [],
   "source": [
    "df_final = pd.concat([city_df, prison_df])"
   ]
  },
  {
   "cell_type": "code",
   "execution_count": 18,
   "metadata": {
    "execution": {
     "iopub.execute_input": "2022-08-07T04:20:08.691959Z",
     "iopub.status.busy": "2022-08-07T04:20:08.691238Z",
     "iopub.status.idle": "2022-08-07T04:20:08.696541Z",
     "shell.execute_reply": "2022-08-07T04:20:08.696153Z"
    }
   },
   "outputs": [],
   "source": [
    "df_final[\"county\"] = \"Kings\"\n",
    "df_final = df_final[[\"county\", \"area\", \"confirmed_cases\"]]"
   ]
  },
  {
   "cell_type": "code",
   "execution_count": 19,
   "metadata": {
    "execution": {
     "iopub.execute_input": "2022-08-07T04:20:08.703684Z",
     "iopub.status.busy": "2022-08-07T04:20:08.703241Z",
     "iopub.status.idle": "2022-08-07T04:20:08.707892Z",
     "shell.execute_reply": "2022-08-07T04:20:08.707499Z"
    }
   },
   "outputs": [
    {
     "data": {
      "text/html": [
       "<div>\n",
       "<style scoped>\n",
       "    .dataframe tbody tr th:only-of-type {\n",
       "        vertical-align: middle;\n",
       "    }\n",
       "\n",
       "    .dataframe tbody tr th {\n",
       "        vertical-align: top;\n",
       "    }\n",
       "\n",
       "    .dataframe thead th {\n",
       "        text-align: right;\n",
       "    }\n",
       "</style>\n",
       "<table border=\"1\" class=\"dataframe\">\n",
       "  <thead>\n",
       "    <tr style=\"text-align: right;\">\n",
       "      <th></th>\n",
       "      <th>county</th>\n",
       "      <th>area</th>\n",
       "      <th>confirmed_cases</th>\n",
       "    </tr>\n",
       "  </thead>\n",
       "  <tbody>\n",
       "    <tr>\n",
       "      <th>9</th>\n",
       "      <td>Kings</td>\n",
       "      <td>Kettleman City</td>\n",
       "      <td>447</td>\n",
       "    </tr>\n",
       "    <tr>\n",
       "      <th>10</th>\n",
       "      <td>Kings</td>\n",
       "      <td>Other Area</td>\n",
       "      <td>481</td>\n",
       "    </tr>\n",
       "    <tr>\n",
       "      <th>11</th>\n",
       "      <td>Kings</td>\n",
       "      <td>Stratford</td>\n",
       "      <td>500</td>\n",
       "    </tr>\n",
       "    <tr>\n",
       "      <th>12</th>\n",
       "      <td>Kings</td>\n",
       "      <td>%null%</td>\n",
       "      <td>819</td>\n",
       "    </tr>\n",
       "    <tr>\n",
       "      <th>13</th>\n",
       "      <td>Kings</td>\n",
       "      <td>Armona</td>\n",
       "      <td>1,632</td>\n",
       "    </tr>\n",
       "    <tr>\n",
       "      <th>14</th>\n",
       "      <td>Kings</td>\n",
       "      <td>Avenal</td>\n",
       "      <td>7,329</td>\n",
       "    </tr>\n",
       "    <tr>\n",
       "      <th>15</th>\n",
       "      <td>Kings</td>\n",
       "      <td>Corcoran</td>\n",
       "      <td>11,013</td>\n",
       "    </tr>\n",
       "    <tr>\n",
       "      <th>16</th>\n",
       "      <td>Kings</td>\n",
       "      <td>Lemoore</td>\n",
       "      <td>11,107</td>\n",
       "    </tr>\n",
       "    <tr>\n",
       "      <th>17</th>\n",
       "      <td>Kings</td>\n",
       "      <td>Hanford</td>\n",
       "      <td>23,737</td>\n",
       "    </tr>\n",
       "    <tr>\n",
       "      <th>4</th>\n",
       "      <td>Kings</td>\n",
       "      <td>Correctional facilities</td>\n",
       "      <td>9,997</td>\n",
       "    </tr>\n",
       "  </tbody>\n",
       "</table>\n",
       "</div>"
      ],
      "text/plain": [
       "   county                     area confirmed_cases\n",
       "9   Kings           Kettleman City             447\n",
       "10  Kings               Other Area             481\n",
       "11  Kings                Stratford             500\n",
       "12  Kings                   %null%             819\n",
       "13  Kings                   Armona           1,632\n",
       "14  Kings                   Avenal           7,329\n",
       "15  Kings                 Corcoran          11,013\n",
       "16  Kings                  Lemoore          11,107\n",
       "17  Kings                  Hanford          23,737\n",
       "4   Kings  Correctional facilities           9,997"
      ]
     },
     "execution_count": 19,
     "metadata": {},
     "output_type": "execute_result"
    }
   ],
   "source": [
    "df_final"
   ]
  },
  {
   "cell_type": "markdown",
   "metadata": {},
   "source": [
    "Remove any commas from cases column"
   ]
  },
  {
   "cell_type": "code",
   "execution_count": 20,
   "metadata": {
    "execution": {
     "iopub.execute_input": "2022-08-07T04:20:08.713505Z",
     "iopub.status.busy": "2022-08-07T04:20:08.709833Z",
     "iopub.status.idle": "2022-08-07T04:20:08.716251Z",
     "shell.execute_reply": "2022-08-07T04:20:08.716849Z"
    }
   },
   "outputs": [],
   "source": [
    "df_final[\"confirmed_cases\"] = df_final.confirmed_cases.replace(\",\", \"\", regex=True)"
   ]
  },
  {
   "cell_type": "markdown",
   "metadata": {},
   "source": [
    "## Vet"
   ]
  },
  {
   "cell_type": "code",
   "execution_count": 21,
   "metadata": {
    "execution": {
     "iopub.execute_input": "2022-08-07T04:20:08.720469Z",
     "iopub.status.busy": "2022-08-07T04:20:08.719649Z",
     "iopub.status.idle": "2022-08-07T04:20:08.723178Z",
     "shell.execute_reply": "2022-08-07T04:20:08.723546Z"
    }
   },
   "outputs": [],
   "source": [
    "default_kings_len = 9"
   ]
  },
  {
   "cell_type": "code",
   "execution_count": 22,
   "metadata": {
    "execution": {
     "iopub.execute_input": "2022-08-07T04:20:08.727622Z",
     "iopub.status.busy": "2022-08-07T04:20:08.726613Z",
     "iopub.status.idle": "2022-08-07T04:20:08.853336Z",
     "shell.execute_reply": "2022-08-07T04:20:08.851951Z"
    }
   },
   "outputs": [
    {
     "ename": "AssertionError",
     "evalue": "Kings County has more rows than before",
     "output_type": "error",
     "traceback": [
      "\u001b[0;31m---------------------------------------------------------------------------\u001b[0m",
      "\u001b[0;31mAssertionError\u001b[0m                            Traceback (most recent call last)",
      "\u001b[0;32m/tmp/ipykernel_2098/2395346492.py\u001b[0m in \u001b[0;36m<module>\u001b[0;34m\u001b[0m\n\u001b[1;32m      1\u001b[0m \u001b[0;32mtry\u001b[0m\u001b[0;34m:\u001b[0m\u001b[0;34m\u001b[0m\u001b[0;34m\u001b[0m\u001b[0m\n\u001b[0;32m----> 2\u001b[0;31m     \u001b[0;32massert\u001b[0m \u001b[0;32mnot\u001b[0m \u001b[0mlen\u001b[0m\u001b[0;34m(\u001b[0m\u001b[0mdf_final\u001b[0m\u001b[0;34m)\u001b[0m \u001b[0;34m>\u001b[0m \u001b[0mdefault_kings_len\u001b[0m\u001b[0;34m\u001b[0m\u001b[0;34m\u001b[0m\u001b[0m\n\u001b[0m\u001b[1;32m      3\u001b[0m \u001b[0;32mexcept\u001b[0m \u001b[0mAssertionError\u001b[0m\u001b[0;34m:\u001b[0m\u001b[0;34m\u001b[0m\u001b[0;34m\u001b[0m\u001b[0m\n",
      "\u001b[0;31mAssertionError\u001b[0m: ",
      "\nDuring handling of the above exception, another exception occurred:\n",
      "\u001b[0;31mAssertionError\u001b[0m                            Traceback (most recent call last)",
      "\u001b[0;32m/tmp/ipykernel_2098/2395346492.py\u001b[0m in \u001b[0;36m<module>\u001b[0;34m\u001b[0m\n\u001b[1;32m      2\u001b[0m     \u001b[0;32massert\u001b[0m \u001b[0;32mnot\u001b[0m \u001b[0mlen\u001b[0m\u001b[0;34m(\u001b[0m\u001b[0mdf_final\u001b[0m\u001b[0;34m)\u001b[0m \u001b[0;34m>\u001b[0m \u001b[0mdefault_kings_len\u001b[0m\u001b[0;34m\u001b[0m\u001b[0;34m\u001b[0m\u001b[0m\n\u001b[1;32m      3\u001b[0m \u001b[0;32mexcept\u001b[0m \u001b[0mAssertionError\u001b[0m\u001b[0;34m:\u001b[0m\u001b[0;34m\u001b[0m\u001b[0;34m\u001b[0m\u001b[0m\n\u001b[0;32m----> 4\u001b[0;31m     \u001b[0;32mraise\u001b[0m \u001b[0mAssertionError\u001b[0m\u001b[0;34m(\u001b[0m\u001b[0;34m\"Kings County has more rows than before\"\u001b[0m\u001b[0;34m)\u001b[0m\u001b[0;34m\u001b[0m\u001b[0;34m\u001b[0m\u001b[0m\n\u001b[0m",
      "\u001b[0;31mAssertionError\u001b[0m: Kings County has more rows than before"
     ]
    }
   ],
   "source": [
    "try:\n",
    "    assert not len(df_final) > default_kings_len\n",
    "except AssertionError:\n",
    "    raise AssertionError(\"Kings County has more rows than before\")"
   ]
  },
  {
   "cell_type": "code",
   "execution_count": 23,
   "metadata": {},
   "outputs": [],
   "source": [
    "try:\n",
    "    assert not len(df_final) < default_kings_len\n",
    "except AssertionError:\n",
    "    raise AssertionError(\"Kings County has missing row(s)\")"
   ]
  },
  {
   "cell_type": "markdown",
   "metadata": {},
   "source": [
    "## Export"
   ]
  },
  {
   "cell_type": "markdown",
   "metadata": {},
   "source": [
    "Set the date"
   ]
  },
  {
   "cell_type": "code",
   "execution_count": 24,
   "metadata": {},
   "outputs": [],
   "source": [
    "tz = pytz.timezone(\"America/Los_Angeles\")"
   ]
  },
  {
   "cell_type": "code",
   "execution_count": 25,
   "metadata": {},
   "outputs": [],
   "source": [
    "today = datetime.now(tz).date()"
   ]
  },
  {
   "cell_type": "code",
   "execution_count": 26,
   "metadata": {},
   "outputs": [],
   "source": [
    "slug = \"kings\""
   ]
  },
  {
   "cell_type": "code",
   "execution_count": 27,
   "metadata": {},
   "outputs": [],
   "source": [
    "df_final[\"county_date\"] = today"
   ]
  },
  {
   "cell_type": "code",
   "execution_count": 28,
   "metadata": {},
   "outputs": [],
   "source": [
    "df_final.to_csv(data_dir / slug / f\"{today}.csv\", index=False)"
   ]
  },
  {
   "cell_type": "markdown",
   "metadata": {
    "tags": []
   },
   "source": [
    "## Combine"
   ]
  },
  {
   "cell_type": "code",
   "execution_count": 29,
   "metadata": {},
   "outputs": [],
   "source": [
    "csv_list = [\n",
    "    i\n",
    "    for i in glob.glob(str(data_dir / slug / \"*.csv\"))\n",
    "    if not str(i).endswith(\"timeseries.csv\")\n",
    "]"
   ]
  },
  {
   "cell_type": "code",
   "execution_count": 30,
   "metadata": {},
   "outputs": [],
   "source": [
    "df_list = []\n",
    "for csv in csv_list:\n",
    "    if \"manual\" in csv:\n",
    "        df = pd.read_csv(csv, parse_dates=[\"date\"])\n",
    "    else:\n",
    "        file_date = csv.split(\"/\")[-1].replace(\".csv\", \"\")\n",
    "        df = pd.read_csv(csv, parse_dates=[\"county_date\"])\n",
    "        df[\"date\"] = file_date\n",
    "    df_list.append(df)"
   ]
  },
  {
   "cell_type": "code",
   "execution_count": 31,
   "metadata": {},
   "outputs": [],
   "source": [
    "df = pd.concat(df_list).sort_values([\"date\", \"area\"]).drop_duplicates()"
   ]
  },
  {
   "cell_type": "code",
   "execution_count": 32,
   "metadata": {},
   "outputs": [],
   "source": [
    "df.to_csv(data_dir / slug / \"timeseries.csv\", index=False)"
   ]
  }
 ],
 "metadata": {
  "kernelspec": {
   "display_name": "Python 3 (ipykernel)",
   "language": "python",
   "name": "python3"
  },
  "language_info": {
   "codemirror_mode": {
    "name": "ipython",
    "version": 3
   },
   "file_extension": ".py",
   "mimetype": "text/x-python",
   "name": "python",
   "nbconvert_exporter": "python",
   "pygments_lexer": "ipython3",
   "version": "3.8.13"
  }
 },
 "nbformat": 4,
 "nbformat_minor": 4
}
