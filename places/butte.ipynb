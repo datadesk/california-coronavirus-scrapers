{
 "cells": [
  {
   "cell_type": "markdown",
   "metadata": {},
   "source": [
    "## Configuration\n",
    "_Initial steps to get the notebook ready to play nice with our repository. Do not delete this section._"
   ]
  },
  {
   "cell_type": "markdown",
   "metadata": {},
   "source": [
    "Code formatting with [black](https://pypi.org/project/nb-black/)."
   ]
  },
  {
   "cell_type": "code",
   "execution_count": 1,
   "metadata": {
    "execution": {
     "iopub.execute_input": "2022-04-12T20:18:18.930649Z",
     "iopub.status.busy": "2022-04-12T20:18:18.930189Z",
     "iopub.status.idle": "2022-04-12T20:18:19.048181Z",
     "shell.execute_reply": "2022-04-12T20:18:19.048647Z"
    }
   },
   "outputs": [],
   "source": [
    "%load_ext lab_black"
   ]
  },
  {
   "cell_type": "markdown",
   "metadata": {},
   "source": [
    "Add our `utils` directory to the system's `$PATH` so we can import Python files from sibling directories."
   ]
  },
  {
   "cell_type": "code",
   "execution_count": 2,
   "metadata": {
    "execution": {
     "iopub.execute_input": "2022-04-12T20:18:19.054190Z",
     "iopub.status.busy": "2022-04-12T20:18:19.053148Z",
     "iopub.status.idle": "2022-04-12T20:18:19.055091Z",
     "shell.execute_reply": "2022-04-12T20:18:19.055493Z"
    }
   },
   "outputs": [],
   "source": [
    "import os\n",
    "import pathlib"
   ]
  },
  {
   "cell_type": "code",
   "execution_count": 3,
   "metadata": {
    "execution": {
     "iopub.execute_input": "2022-04-12T20:18:19.059124Z",
     "iopub.status.busy": "2022-04-12T20:18:19.058636Z",
     "iopub.status.idle": "2022-04-12T20:18:19.063213Z",
     "shell.execute_reply": "2022-04-12T20:18:19.063575Z"
    }
   },
   "outputs": [],
   "source": [
    "this_dir = pathlib.Path(os.path.abspath(\"\"))"
   ]
  },
  {
   "cell_type": "code",
   "execution_count": 4,
   "metadata": {
    "execution": {
     "iopub.execute_input": "2022-04-12T20:18:19.067625Z",
     "iopub.status.busy": "2022-04-12T20:18:19.066765Z",
     "iopub.status.idle": "2022-04-12T20:18:19.069472Z",
     "shell.execute_reply": "2022-04-12T20:18:19.069822Z"
    }
   },
   "outputs": [],
   "source": [
    "data_dir = this_dir / \"data\""
   ]
  },
  {
   "cell_type": "code",
   "execution_count": 5,
   "metadata": {
    "execution": {
     "iopub.execute_input": "2022-04-12T20:18:19.073490Z",
     "iopub.status.busy": "2022-04-12T20:18:19.073039Z",
     "iopub.status.idle": "2022-04-12T20:18:19.474077Z",
     "shell.execute_reply": "2022-04-12T20:18:19.473590Z"
    }
   },
   "outputs": [],
   "source": [
    "import re\n",
    "import json\n",
    "import pytz\n",
    "import glob\n",
    "import requests\n",
    "import pandas as pd\n",
    "from datetime import datetime\n",
    "from bs4 import BeautifulSoup"
   ]
  },
  {
   "cell_type": "markdown",
   "metadata": {},
   "source": [
    "## Download"
   ]
  },
  {
   "cell_type": "markdown",
   "metadata": {},
   "source": [
    "Retrieve the page"
   ]
  },
  {
   "cell_type": "code",
   "execution_count": 6,
   "metadata": {
    "execution": {
     "iopub.execute_input": "2022-04-12T20:18:19.478104Z",
     "iopub.status.busy": "2022-04-12T20:18:19.477610Z",
     "iopub.status.idle": "2022-04-12T20:18:19.480584Z",
     "shell.execute_reply": "2022-04-12T20:18:19.480200Z"
    }
   },
   "outputs": [],
   "source": [
    "url = \"https://infogram.com/1pe66wmyjnmvkrhm66x9362kp3al60r57ex\""
   ]
  },
  {
   "cell_type": "code",
   "execution_count": 7,
   "metadata": {
    "execution": {
     "iopub.execute_input": "2022-04-12T20:18:19.486851Z",
     "iopub.status.busy": "2022-04-12T20:18:19.483889Z",
     "iopub.status.idle": "2022-04-12T20:18:20.428677Z",
     "shell.execute_reply": "2022-04-12T20:18:20.429120Z"
    }
   },
   "outputs": [],
   "source": [
    "page = requests.get(url)"
   ]
  },
  {
   "cell_type": "markdown",
   "metadata": {},
   "source": [
    "## Parse"
   ]
  },
  {
   "cell_type": "code",
   "execution_count": 8,
   "metadata": {
    "execution": {
     "iopub.execute_input": "2022-04-12T20:18:20.442419Z",
     "iopub.status.busy": "2022-04-12T20:18:20.441918Z",
     "iopub.status.idle": "2022-04-12T20:18:20.444109Z",
     "shell.execute_reply": "2022-04-12T20:18:20.443687Z"
    }
   },
   "outputs": [],
   "source": [
    "soup = BeautifulSoup(page.content, \"html.parser\")"
   ]
  },
  {
   "cell_type": "markdown",
   "metadata": {},
   "source": [
    "Find script tag with the Infogram data"
   ]
  },
  {
   "cell_type": "code",
   "execution_count": 9,
   "metadata": {
    "execution": {
     "iopub.execute_input": "2022-04-12T20:18:20.451864Z",
     "iopub.status.busy": "2022-04-12T20:18:20.450692Z",
     "iopub.status.idle": "2022-04-12T20:18:20.452386Z",
     "shell.execute_reply": "2022-04-12T20:18:20.452762Z"
    }
   },
   "outputs": [],
   "source": [
    "for elem in soup(text=re.compile(r\"window.infographicData\")):\n",
    "    script = elem"
   ]
  },
  {
   "cell_type": "code",
   "execution_count": 10,
   "metadata": {
    "execution": {
     "iopub.execute_input": "2022-04-12T20:18:20.460107Z",
     "iopub.status.busy": "2022-04-12T20:18:20.458929Z",
     "iopub.status.idle": "2022-04-12T20:18:20.460633Z",
     "shell.execute_reply": "2022-04-12T20:18:20.461013Z"
    }
   },
   "outputs": [],
   "source": [
    "stripped_script = script.replace(\"window.infographicData=\", \"\")\n",
    "stripped_script = stripped_script.rstrip(\";\")"
   ]
  },
  {
   "cell_type": "code",
   "execution_count": 11,
   "metadata": {
    "execution": {
     "iopub.execute_input": "2022-04-12T20:18:20.471617Z",
     "iopub.status.busy": "2022-04-12T20:18:20.470784Z",
     "iopub.status.idle": "2022-04-12T20:18:20.473806Z",
     "shell.execute_reply": "2022-04-12T20:18:20.473424Z"
    }
   },
   "outputs": [],
   "source": [
    "data = json.loads(stripped_script)"
   ]
  },
  {
   "cell_type": "code",
   "execution_count": 12,
   "metadata": {
    "execution": {
     "iopub.execute_input": "2022-04-12T20:18:20.477859Z",
     "iopub.status.busy": "2022-04-12T20:18:20.477207Z",
     "iopub.status.idle": "2022-04-12T20:18:20.592226Z",
     "shell.execute_reply": "2022-04-12T20:18:20.591672Z"
    }
   },
   "outputs": [
    {
     "ename": "KeyError",
     "evalue": "'b26b9acd-b036-40bc-bbbe-68667dd338e4'",
     "output_type": "error",
     "traceback": [
      "\u001b[0;31m---------------------------------------------------------------------------\u001b[0m",
      "\u001b[0;31mKeyError\u001b[0m                                  Traceback (most recent call last)",
      "\u001b[0;32m/tmp/ipykernel_1772/755814286.py\u001b[0m in \u001b[0;36m<module>\u001b[0;34m\u001b[0m\n\u001b[0;32m----> 1\u001b[0;31m cities = data[\"elements\"][\"content\"][\"content\"][\"entities\"][\n\u001b[0m\u001b[1;32m      2\u001b[0m     \u001b[0;34m\"b26b9acd-b036-40bc-bbbe-68667dd338e4\"\u001b[0m\u001b[0;34m\u001b[0m\u001b[0;34m\u001b[0m\u001b[0m\n\u001b[1;32m      3\u001b[0m ][\"props\"][\"chartData\"][\"data\"][0]\n",
      "\u001b[0;31mKeyError\u001b[0m: 'b26b9acd-b036-40bc-bbbe-68667dd338e4'"
     ]
    }
   ],
   "source": [
    "cities = data[\"elements\"][\"content\"][\"content\"][\"entities\"][\n",
    "    \"b26b9acd-b036-40bc-bbbe-68667dd338e4\"\n",
    "][\"props\"][\"chartData\"][\"data\"][0]"
   ]
  },
  {
   "cell_type": "code",
   "execution_count": 41,
   "metadata": {},
   "outputs": [],
   "source": [
    "not_empty = [ele for ele in cities if ele != [\"\"]]"
   ]
  },
  {
   "cell_type": "markdown",
   "metadata": {},
   "source": [
    "Convert to dataframe"
   ]
  },
  {
   "cell_type": "code",
   "execution_count": 42,
   "metadata": {},
   "outputs": [],
   "source": [
    "df = pd.DataFrame(not_empty, columns=[\"area\", \"confirmed_cases\"])"
   ]
  },
  {
   "cell_type": "markdown",
   "metadata": {},
   "source": [
    "Get timestamp"
   ]
  },
  {
   "cell_type": "code",
   "execution_count": 43,
   "metadata": {},
   "outputs": [],
   "source": [
    "timestamp = data[\"updatedAt\"]"
   ]
  },
  {
   "cell_type": "code",
   "execution_count": 44,
   "metadata": {},
   "outputs": [],
   "source": [
    "latest_date = pd.to_datetime(timestamp).date()"
   ]
  },
  {
   "cell_type": "code",
   "execution_count": 45,
   "metadata": {},
   "outputs": [],
   "source": [
    "df.insert(0, \"county\", \"Butte\")"
   ]
  },
  {
   "cell_type": "code",
   "execution_count": 46,
   "metadata": {},
   "outputs": [],
   "source": [
    "df[\"county_date\"] = latest_date"
   ]
  },
  {
   "cell_type": "code",
   "execution_count": 47,
   "metadata": {},
   "outputs": [],
   "source": [
    "df = df[df.area != \"Region\"]"
   ]
  },
  {
   "cell_type": "markdown",
   "metadata": {},
   "source": [
    "## Vet"
   ]
  },
  {
   "cell_type": "code",
   "execution_count": 48,
   "metadata": {},
   "outputs": [],
   "source": [
    "try:\n",
    "    assert not len(df) > 6\n",
    "except AssertionError:\n",
    "    raise AssertionError(\"Butte County's city scraper has additional rows\")"
   ]
  },
  {
   "cell_type": "code",
   "execution_count": 49,
   "metadata": {},
   "outputs": [],
   "source": [
    "try:\n",
    "    assert not len(df) < 6\n",
    "except AssertionError:\n",
    "    raise AssertionError(\"Butte's city scraper is missing rows\")"
   ]
  },
  {
   "cell_type": "markdown",
   "metadata": {},
   "source": [
    "## Export"
   ]
  },
  {
   "cell_type": "markdown",
   "metadata": {},
   "source": [
    "Mark the current date"
   ]
  },
  {
   "cell_type": "code",
   "execution_count": 50,
   "metadata": {},
   "outputs": [],
   "source": [
    "tz = pytz.timezone(\"America/Los_Angeles\")"
   ]
  },
  {
   "cell_type": "code",
   "execution_count": 51,
   "metadata": {},
   "outputs": [],
   "source": [
    "today = datetime.now(tz).date()"
   ]
  },
  {
   "cell_type": "code",
   "execution_count": 52,
   "metadata": {},
   "outputs": [],
   "source": [
    "slug = \"butte\""
   ]
  },
  {
   "cell_type": "code",
   "execution_count": 53,
   "metadata": {},
   "outputs": [],
   "source": [
    "df.to_csv(data_dir / slug / f\"{today}.csv\", index=False)"
   ]
  },
  {
   "cell_type": "markdown",
   "metadata": {},
   "source": [
    "## Combine"
   ]
  },
  {
   "cell_type": "code",
   "execution_count": 54,
   "metadata": {},
   "outputs": [],
   "source": [
    "csv_list = [\n",
    "    i\n",
    "    for i in glob.glob(str(data_dir / slug / \"*.csv\"))\n",
    "    if not str(i).endswith(\"timeseries.csv\")\n",
    "]"
   ]
  },
  {
   "cell_type": "code",
   "execution_count": 55,
   "metadata": {},
   "outputs": [],
   "source": [
    "df_list = []\n",
    "for csv in csv_list:\n",
    "    if \"manual\" in csv:\n",
    "        df = pd.read_csv(csv, parse_dates=[\"date\"])\n",
    "    else:\n",
    "        file_date = csv.split(\"/\")[-1].replace(\".csv\", \"\")\n",
    "        df = pd.read_csv(csv, parse_dates=[\"county_date\"])\n",
    "        df[\"date\"] = file_date\n",
    "    df_list.append(df)"
   ]
  },
  {
   "cell_type": "code",
   "execution_count": 56,
   "metadata": {},
   "outputs": [],
   "source": [
    "df = pd.concat(df_list).sort_values([\"date\", \"area\"])"
   ]
  },
  {
   "cell_type": "code",
   "execution_count": 57,
   "metadata": {},
   "outputs": [],
   "source": [
    "df.to_csv(data_dir / slug / \"timeseries.csv\", index=False)"
   ]
  }
 ],
 "metadata": {
  "kernelspec": {
   "display_name": "Python 3 (ipykernel)",
   "language": "python",
   "name": "python3"
  },
  "language_info": {
   "codemirror_mode": {
    "name": "ipython",
    "version": 3
   },
   "file_extension": ".py",
   "mimetype": "text/x-python",
   "name": "python",
   "nbconvert_exporter": "python",
   "pygments_lexer": "ipython3",
   "version": "3.8.12"
  }
 },
 "nbformat": 4,
 "nbformat_minor": 4
}
