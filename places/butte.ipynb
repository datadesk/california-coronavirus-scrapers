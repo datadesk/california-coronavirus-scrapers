{
 "cells": [
  {
   "cell_type": "markdown",
   "metadata": {},
   "source": [
    "## Configuration\n",
    "_Initial steps to get the notebook ready to play nice with our repository. Do not delete this section._"
   ]
  },
  {
   "cell_type": "markdown",
   "metadata": {},
   "source": [
    "Code formatting with [black](https://pypi.org/project/nb-black/)."
   ]
  },
  {
   "cell_type": "code",
   "execution_count": 1,
   "metadata": {
    "execution": {
     "iopub.execute_input": "2022-03-16T20:20:25.230019Z",
     "iopub.status.busy": "2022-03-16T20:20:25.229548Z",
     "iopub.status.idle": "2022-03-16T20:20:25.346384Z",
     "shell.execute_reply": "2022-03-16T20:20:25.346798Z"
    }
   },
   "outputs": [],
   "source": [
    "%load_ext lab_black"
   ]
  },
  {
   "cell_type": "markdown",
   "metadata": {},
   "source": [
    "Add our `utils` directory to the system's `$PATH` so we can import Python files from sibling directories."
   ]
  },
  {
   "cell_type": "code",
   "execution_count": 2,
   "metadata": {
    "execution": {
     "iopub.execute_input": "2022-03-16T20:20:25.350964Z",
     "iopub.status.busy": "2022-03-16T20:20:25.350491Z",
     "iopub.status.idle": "2022-03-16T20:20:25.353809Z",
     "shell.execute_reply": "2022-03-16T20:20:25.353422Z"
    }
   },
   "outputs": [],
   "source": [
    "import os\n",
    "import pathlib"
   ]
  },
  {
   "cell_type": "code",
   "execution_count": 3,
   "metadata": {
    "execution": {
     "iopub.execute_input": "2022-03-16T20:20:25.359916Z",
     "iopub.status.busy": "2022-03-16T20:20:25.358901Z",
     "iopub.status.idle": "2022-03-16T20:20:25.360449Z",
     "shell.execute_reply": "2022-03-16T20:20:25.360827Z"
    }
   },
   "outputs": [],
   "source": [
    "this_dir = pathlib.Path(os.path.abspath(\"\"))"
   ]
  },
  {
   "cell_type": "code",
   "execution_count": 4,
   "metadata": {
    "execution": {
     "iopub.execute_input": "2022-03-16T20:20:25.365585Z",
     "iopub.status.busy": "2022-03-16T20:20:25.364570Z",
     "iopub.status.idle": "2022-03-16T20:20:25.366135Z",
     "shell.execute_reply": "2022-03-16T20:20:25.366519Z"
    }
   },
   "outputs": [],
   "source": [
    "data_dir = this_dir / \"data\""
   ]
  },
  {
   "cell_type": "code",
   "execution_count": 5,
   "metadata": {
    "execution": {
     "iopub.execute_input": "2022-03-16T20:20:25.370072Z",
     "iopub.status.busy": "2022-03-16T20:20:25.369578Z",
     "iopub.status.idle": "2022-03-16T20:20:25.743190Z",
     "shell.execute_reply": "2022-03-16T20:20:25.743657Z"
    }
   },
   "outputs": [],
   "source": [
    "import re\n",
    "import json\n",
    "import pytz\n",
    "import glob\n",
    "import requests\n",
    "import pandas as pd\n",
    "from datetime import datetime\n",
    "from bs4 import BeautifulSoup"
   ]
  },
  {
   "cell_type": "markdown",
   "metadata": {},
   "source": [
    "## Download"
   ]
  },
  {
   "cell_type": "markdown",
   "metadata": {},
   "source": [
    "Retrieve the page"
   ]
  },
  {
   "cell_type": "code",
   "execution_count": 6,
   "metadata": {
    "execution": {
     "iopub.execute_input": "2022-03-16T20:20:25.748764Z",
     "iopub.status.busy": "2022-03-16T20:20:25.748223Z",
     "iopub.status.idle": "2022-03-16T20:20:25.751159Z",
     "shell.execute_reply": "2022-03-16T20:20:25.751572Z"
    }
   },
   "outputs": [],
   "source": [
    "url = \"https://infogram.com/1pe66wmyjnmvkrhm66x9362kp3al60r57ex\""
   ]
  },
  {
   "cell_type": "code",
   "execution_count": 7,
   "metadata": {
    "execution": {
     "iopub.execute_input": "2022-03-16T20:20:25.755081Z",
     "iopub.status.busy": "2022-03-16T20:20:25.754622Z",
     "iopub.status.idle": "2022-03-16T20:20:26.437627Z",
     "shell.execute_reply": "2022-03-16T20:20:26.437089Z"
    }
   },
   "outputs": [],
   "source": [
    "page = requests.get(url)"
   ]
  },
  {
   "cell_type": "markdown",
   "metadata": {},
   "source": [
    "## Parse"
   ]
  },
  {
   "cell_type": "code",
   "execution_count": 8,
   "metadata": {
    "execution": {
     "iopub.execute_input": "2022-03-16T20:20:26.451064Z",
     "iopub.status.busy": "2022-03-16T20:20:26.450167Z",
     "iopub.status.idle": "2022-03-16T20:20:26.455603Z",
     "shell.execute_reply": "2022-03-16T20:20:26.455187Z"
    }
   },
   "outputs": [],
   "source": [
    "soup = BeautifulSoup(page.content, \"html.parser\")"
   ]
  },
  {
   "cell_type": "markdown",
   "metadata": {},
   "source": [
    "Find script tag with the Infogram data"
   ]
  },
  {
   "cell_type": "code",
   "execution_count": 9,
   "metadata": {
    "execution": {
     "iopub.execute_input": "2022-03-16T20:20:26.506220Z",
     "iopub.status.busy": "2022-03-16T20:20:26.505681Z",
     "iopub.status.idle": "2022-03-16T20:20:26.508935Z",
     "shell.execute_reply": "2022-03-16T20:20:26.508111Z"
    }
   },
   "outputs": [],
   "source": [
    "for elem in soup(text=re.compile(r\"window.infographicData\")):\n",
    "    script = elem"
   ]
  },
  {
   "cell_type": "code",
   "execution_count": 10,
   "metadata": {
    "execution": {
     "iopub.execute_input": "2022-03-16T20:20:26.515649Z",
     "iopub.status.busy": "2022-03-16T20:20:26.513357Z",
     "iopub.status.idle": "2022-03-16T20:20:26.518892Z",
     "shell.execute_reply": "2022-03-16T20:20:26.518076Z"
    }
   },
   "outputs": [],
   "source": [
    "stripped_script = script.replace(\"window.infographicData=\", \"\")\n",
    "stripped_script = stripped_script.rstrip(\";\")"
   ]
  },
  {
   "cell_type": "code",
   "execution_count": 11,
   "metadata": {
    "execution": {
     "iopub.execute_input": "2022-03-16T20:20:26.528786Z",
     "iopub.status.busy": "2022-03-16T20:20:26.520782Z",
     "iopub.status.idle": "2022-03-16T20:20:26.531677Z",
     "shell.execute_reply": "2022-03-16T20:20:26.531250Z"
    }
   },
   "outputs": [],
   "source": [
    "data = json.loads(stripped_script)"
   ]
  },
  {
   "cell_type": "code",
   "execution_count": 12,
   "metadata": {
    "execution": {
     "iopub.execute_input": "2022-03-16T20:20:26.535624Z",
     "iopub.status.busy": "2022-03-16T20:20:26.534854Z",
     "iopub.status.idle": "2022-03-16T20:20:26.656460Z",
     "shell.execute_reply": "2022-03-16T20:20:26.654954Z"
    }
   },
   "outputs": [
    {
     "ename": "KeyError",
     "evalue": "'b26b9acd-b036-40bc-bbbe-68667dd338e4'",
     "output_type": "error",
     "traceback": [
      "\u001b[0;31m---------------------------------------------------------------------------\u001b[0m",
      "\u001b[0;31mKeyError\u001b[0m                                  Traceback (most recent call last)",
      "\u001b[0;32m/tmp/ipykernel_2623/755814286.py\u001b[0m in \u001b[0;36m<module>\u001b[0;34m\u001b[0m\n\u001b[0;32m----> 1\u001b[0;31m cities = data[\"elements\"][\"content\"][\"content\"][\"entities\"][\n\u001b[0m\u001b[1;32m      2\u001b[0m     \u001b[0;34m\"b26b9acd-b036-40bc-bbbe-68667dd338e4\"\u001b[0m\u001b[0;34m\u001b[0m\u001b[0;34m\u001b[0m\u001b[0m\n\u001b[1;32m      3\u001b[0m ][\"props\"][\"chartData\"][\"data\"][0]\n",
      "\u001b[0;31mKeyError\u001b[0m: 'b26b9acd-b036-40bc-bbbe-68667dd338e4'"
     ]
    }
   ],
   "source": [
    "cities = data[\"elements\"][\"content\"][\"content\"][\"entities\"][\n",
    "    \"b26b9acd-b036-40bc-bbbe-68667dd338e4\"\n",
    "][\"props\"][\"chartData\"][\"data\"][0]"
   ]
  },
  {
   "cell_type": "code",
   "execution_count": 41,
   "metadata": {},
   "outputs": [],
   "source": [
    "not_empty = [ele for ele in cities if ele != [\"\"]]"
   ]
  },
  {
   "cell_type": "markdown",
   "metadata": {},
   "source": [
    "Convert to dataframe"
   ]
  },
  {
   "cell_type": "code",
   "execution_count": 42,
   "metadata": {},
   "outputs": [],
   "source": [
    "df = pd.DataFrame(not_empty, columns=[\"area\", \"confirmed_cases\"])"
   ]
  },
  {
   "cell_type": "markdown",
   "metadata": {},
   "source": [
    "Get timestamp"
   ]
  },
  {
   "cell_type": "code",
   "execution_count": 43,
   "metadata": {},
   "outputs": [],
   "source": [
    "timestamp = data[\"updatedAt\"]"
   ]
  },
  {
   "cell_type": "code",
   "execution_count": 44,
   "metadata": {},
   "outputs": [],
   "source": [
    "latest_date = pd.to_datetime(timestamp).date()"
   ]
  },
  {
   "cell_type": "code",
   "execution_count": 45,
   "metadata": {},
   "outputs": [],
   "source": [
    "df.insert(0, \"county\", \"Butte\")"
   ]
  },
  {
   "cell_type": "code",
   "execution_count": 46,
   "metadata": {},
   "outputs": [],
   "source": [
    "df[\"county_date\"] = latest_date"
   ]
  },
  {
   "cell_type": "code",
   "execution_count": 47,
   "metadata": {},
   "outputs": [],
   "source": [
    "df = df[df.area != \"Region\"]"
   ]
  },
  {
   "cell_type": "markdown",
   "metadata": {},
   "source": [
    "## Vet"
   ]
  },
  {
   "cell_type": "code",
   "execution_count": 48,
   "metadata": {},
   "outputs": [],
   "source": [
    "try:\n",
    "    assert not len(df) > 6\n",
    "except AssertionError:\n",
    "    raise AssertionError(\"Butte County's city scraper has additional rows\")"
   ]
  },
  {
   "cell_type": "code",
   "execution_count": 49,
   "metadata": {},
   "outputs": [],
   "source": [
    "try:\n",
    "    assert not len(df) < 6\n",
    "except AssertionError:\n",
    "    raise AssertionError(\"Butte's city scraper is missing rows\")"
   ]
  },
  {
   "cell_type": "markdown",
   "metadata": {},
   "source": [
    "## Export"
   ]
  },
  {
   "cell_type": "markdown",
   "metadata": {},
   "source": [
    "Mark the current date"
   ]
  },
  {
   "cell_type": "code",
   "execution_count": 50,
   "metadata": {},
   "outputs": [],
   "source": [
    "tz = pytz.timezone(\"America/Los_Angeles\")"
   ]
  },
  {
   "cell_type": "code",
   "execution_count": 51,
   "metadata": {},
   "outputs": [],
   "source": [
    "today = datetime.now(tz).date()"
   ]
  },
  {
   "cell_type": "code",
   "execution_count": 52,
   "metadata": {},
   "outputs": [],
   "source": [
    "slug = \"butte\""
   ]
  },
  {
   "cell_type": "code",
   "execution_count": 53,
   "metadata": {},
   "outputs": [],
   "source": [
    "df.to_csv(data_dir / slug / f\"{today}.csv\", index=False)"
   ]
  },
  {
   "cell_type": "markdown",
   "metadata": {},
   "source": [
    "## Combine"
   ]
  },
  {
   "cell_type": "code",
   "execution_count": 54,
   "metadata": {},
   "outputs": [],
   "source": [
    "csv_list = [\n",
    "    i\n",
    "    for i in glob.glob(str(data_dir / slug / \"*.csv\"))\n",
    "    if not str(i).endswith(\"timeseries.csv\")\n",
    "]"
   ]
  },
  {
   "cell_type": "code",
   "execution_count": 55,
   "metadata": {},
   "outputs": [],
   "source": [
    "df_list = []\n",
    "for csv in csv_list:\n",
    "    if \"manual\" in csv:\n",
    "        df = pd.read_csv(csv, parse_dates=[\"date\"])\n",
    "    else:\n",
    "        file_date = csv.split(\"/\")[-1].replace(\".csv\", \"\")\n",
    "        df = pd.read_csv(csv, parse_dates=[\"county_date\"])\n",
    "        df[\"date\"] = file_date\n",
    "    df_list.append(df)"
   ]
  },
  {
   "cell_type": "code",
   "execution_count": 56,
   "metadata": {},
   "outputs": [],
   "source": [
    "df = pd.concat(df_list).sort_values([\"date\", \"area\"])"
   ]
  },
  {
   "cell_type": "code",
   "execution_count": 57,
   "metadata": {},
   "outputs": [],
   "source": [
    "df.to_csv(data_dir / slug / \"timeseries.csv\", index=False)"
   ]
  }
 ],
 "metadata": {
  "kernelspec": {
   "display_name": "Python 3 (ipykernel)",
   "language": "python",
   "name": "python3"
  },
  "language_info": {
   "codemirror_mode": {
    "name": "ipython",
    "version": 3
   },
   "file_extension": ".py",
   "mimetype": "text/x-python",
   "name": "python",
   "nbconvert_exporter": "python",
   "pygments_lexer": "ipython3",
   "version": "3.8.12"
  }
 },
 "nbformat": 4,
 "nbformat_minor": 4
}
