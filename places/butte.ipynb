{
 "cells": [
  {
   "cell_type": "markdown",
   "metadata": {},
   "source": [
    "## Configuration\n",
    "_Initial steps to get the notebook ready to play nice with our repository. Do not delete this section._"
   ]
  },
  {
   "cell_type": "markdown",
   "metadata": {},
   "source": [
    "Code formatting with [black](https://pypi.org/project/nb-black/)."
   ]
  },
  {
   "cell_type": "code",
   "execution_count": 1,
   "metadata": {
    "execution": {
     "iopub.execute_input": "2022-03-28T04:18:40.401919Z",
     "iopub.status.busy": "2022-03-28T04:18:40.401315Z",
     "iopub.status.idle": "2022-03-28T04:18:40.547495Z",
     "shell.execute_reply": "2022-03-28T04:18:40.546854Z"
    }
   },
   "outputs": [],
   "source": [
    "%load_ext lab_black"
   ]
  },
  {
   "cell_type": "markdown",
   "metadata": {},
   "source": [
    "Add our `utils` directory to the system's `$PATH` so we can import Python files from sibling directories."
   ]
  },
  {
   "cell_type": "code",
   "execution_count": 2,
   "metadata": {
    "execution": {
     "iopub.execute_input": "2022-03-28T04:18:40.552251Z",
     "iopub.status.busy": "2022-03-28T04:18:40.551517Z",
     "iopub.status.idle": "2022-03-28T04:18:40.555432Z",
     "shell.execute_reply": "2022-03-28T04:18:40.554892Z"
    }
   },
   "outputs": [],
   "source": [
    "import os\n",
    "import pathlib"
   ]
  },
  {
   "cell_type": "code",
   "execution_count": 3,
   "metadata": {
    "execution": {
     "iopub.execute_input": "2022-03-28T04:18:40.560066Z",
     "iopub.status.busy": "2022-03-28T04:18:40.559419Z",
     "iopub.status.idle": "2022-03-28T04:18:40.564935Z",
     "shell.execute_reply": "2022-03-28T04:18:40.565447Z"
    }
   },
   "outputs": [],
   "source": [
    "this_dir = pathlib.Path(os.path.abspath(\"\"))"
   ]
  },
  {
   "cell_type": "code",
   "execution_count": 4,
   "metadata": {
    "execution": {
     "iopub.execute_input": "2022-03-28T04:18:40.570119Z",
     "iopub.status.busy": "2022-03-28T04:18:40.569491Z",
     "iopub.status.idle": "2022-03-28T04:18:40.574896Z",
     "shell.execute_reply": "2022-03-28T04:18:40.574385Z"
    }
   },
   "outputs": [],
   "source": [
    "data_dir = this_dir / \"data\""
   ]
  },
  {
   "cell_type": "code",
   "execution_count": 5,
   "metadata": {
    "execution": {
     "iopub.execute_input": "2022-03-28T04:18:40.579730Z",
     "iopub.status.busy": "2022-03-28T04:18:40.579088Z",
     "iopub.status.idle": "2022-03-28T04:18:41.050945Z",
     "shell.execute_reply": "2022-03-28T04:18:41.051444Z"
    }
   },
   "outputs": [],
   "source": [
    "import re\n",
    "import json\n",
    "import pytz\n",
    "import glob\n",
    "import requests\n",
    "import pandas as pd\n",
    "from datetime import datetime\n",
    "from bs4 import BeautifulSoup"
   ]
  },
  {
   "cell_type": "markdown",
   "metadata": {},
   "source": [
    "## Download"
   ]
  },
  {
   "cell_type": "markdown",
   "metadata": {},
   "source": [
    "Retrieve the page"
   ]
  },
  {
   "cell_type": "code",
   "execution_count": 6,
   "metadata": {
    "execution": {
     "iopub.execute_input": "2022-03-28T04:18:41.056809Z",
     "iopub.status.busy": "2022-03-28T04:18:41.056203Z",
     "iopub.status.idle": "2022-03-28T04:18:41.060792Z",
     "shell.execute_reply": "2022-03-28T04:18:41.060252Z"
    }
   },
   "outputs": [],
   "source": [
    "url = \"https://infogram.com/1pe66wmyjnmvkrhm66x9362kp3al60r57ex\""
   ]
  },
  {
   "cell_type": "code",
   "execution_count": 7,
   "metadata": {
    "execution": {
     "iopub.execute_input": "2022-03-28T04:18:41.066029Z",
     "iopub.status.busy": "2022-03-28T04:18:41.063471Z",
     "iopub.status.idle": "2022-03-28T04:18:41.856828Z",
     "shell.execute_reply": "2022-03-28T04:18:41.856290Z"
    }
   },
   "outputs": [],
   "source": [
    "page = requests.get(url)"
   ]
  },
  {
   "cell_type": "markdown",
   "metadata": {},
   "source": [
    "## Parse"
   ]
  },
  {
   "cell_type": "code",
   "execution_count": 8,
   "metadata": {
    "execution": {
     "iopub.execute_input": "2022-03-28T04:18:41.869356Z",
     "iopub.status.busy": "2022-03-28T04:18:41.868366Z",
     "iopub.status.idle": "2022-03-28T04:18:41.873736Z",
     "shell.execute_reply": "2022-03-28T04:18:41.874219Z"
    }
   },
   "outputs": [],
   "source": [
    "soup = BeautifulSoup(page.content, \"html.parser\")"
   ]
  },
  {
   "cell_type": "markdown",
   "metadata": {},
   "source": [
    "Find script tag with the Infogram data"
   ]
  },
  {
   "cell_type": "code",
   "execution_count": 9,
   "metadata": {
    "execution": {
     "iopub.execute_input": "2022-03-28T04:18:41.881513Z",
     "iopub.status.busy": "2022-03-28T04:18:41.879207Z",
     "iopub.status.idle": "2022-03-28T04:18:41.884930Z",
     "shell.execute_reply": "2022-03-28T04:18:41.884377Z"
    }
   },
   "outputs": [],
   "source": [
    "for elem in soup(text=re.compile(r\"window.infographicData\")):\n",
    "    script = elem"
   ]
  },
  {
   "cell_type": "code",
   "execution_count": 10,
   "metadata": {
    "execution": {
     "iopub.execute_input": "2022-03-28T04:18:41.890541Z",
     "iopub.status.busy": "2022-03-28T04:18:41.889496Z",
     "iopub.status.idle": "2022-03-28T04:18:41.895304Z",
     "shell.execute_reply": "2022-03-28T04:18:41.895820Z"
    }
   },
   "outputs": [],
   "source": [
    "stripped_script = script.replace(\"window.infographicData=\", \"\")\n",
    "stripped_script = stripped_script.rstrip(\";\")"
   ]
  },
  {
   "cell_type": "code",
   "execution_count": 11,
   "metadata": {
    "execution": {
     "iopub.execute_input": "2022-03-28T04:18:41.907385Z",
     "iopub.status.busy": "2022-03-28T04:18:41.905592Z",
     "iopub.status.idle": "2022-03-28T04:18:41.910817Z",
     "shell.execute_reply": "2022-03-28T04:18:41.910260Z"
    }
   },
   "outputs": [],
   "source": [
    "data = json.loads(stripped_script)"
   ]
  },
  {
   "cell_type": "code",
   "execution_count": 12,
   "metadata": {
    "execution": {
     "iopub.execute_input": "2022-03-28T04:18:41.915517Z",
     "iopub.status.busy": "2022-03-28T04:18:41.914912Z",
     "iopub.status.idle": "2022-03-28T04:18:42.049261Z",
     "shell.execute_reply": "2022-03-28T04:18:42.048611Z"
    }
   },
   "outputs": [
    {
     "ename": "KeyError",
     "evalue": "'b26b9acd-b036-40bc-bbbe-68667dd338e4'",
     "output_type": "error",
     "traceback": [
      "\u001b[0;31m---------------------------------------------------------------------------\u001b[0m",
      "\u001b[0;31mKeyError\u001b[0m                                  Traceback (most recent call last)",
      "\u001b[0;32m/tmp/ipykernel_1745/755814286.py\u001b[0m in \u001b[0;36m<module>\u001b[0;34m\u001b[0m\n\u001b[0;32m----> 1\u001b[0;31m cities = data[\"elements\"][\"content\"][\"content\"][\"entities\"][\n\u001b[0m\u001b[1;32m      2\u001b[0m     \u001b[0;34m\"b26b9acd-b036-40bc-bbbe-68667dd338e4\"\u001b[0m\u001b[0;34m\u001b[0m\u001b[0;34m\u001b[0m\u001b[0m\n\u001b[1;32m      3\u001b[0m ][\"props\"][\"chartData\"][\"data\"][0]\n",
      "\u001b[0;31mKeyError\u001b[0m: 'b26b9acd-b036-40bc-bbbe-68667dd338e4'"
     ]
    }
   ],
   "source": [
    "cities = data[\"elements\"][\"content\"][\"content\"][\"entities\"][\n",
    "    \"b26b9acd-b036-40bc-bbbe-68667dd338e4\"\n",
    "][\"props\"][\"chartData\"][\"data\"][0]"
   ]
  },
  {
   "cell_type": "code",
   "execution_count": 41,
   "metadata": {},
   "outputs": [],
   "source": [
    "not_empty = [ele for ele in cities if ele != [\"\"]]"
   ]
  },
  {
   "cell_type": "markdown",
   "metadata": {},
   "source": [
    "Convert to dataframe"
   ]
  },
  {
   "cell_type": "code",
   "execution_count": 42,
   "metadata": {},
   "outputs": [],
   "source": [
    "df = pd.DataFrame(not_empty, columns=[\"area\", \"confirmed_cases\"])"
   ]
  },
  {
   "cell_type": "markdown",
   "metadata": {},
   "source": [
    "Get timestamp"
   ]
  },
  {
   "cell_type": "code",
   "execution_count": 43,
   "metadata": {},
   "outputs": [],
   "source": [
    "timestamp = data[\"updatedAt\"]"
   ]
  },
  {
   "cell_type": "code",
   "execution_count": 44,
   "metadata": {},
   "outputs": [],
   "source": [
    "latest_date = pd.to_datetime(timestamp).date()"
   ]
  },
  {
   "cell_type": "code",
   "execution_count": 45,
   "metadata": {},
   "outputs": [],
   "source": [
    "df.insert(0, \"county\", \"Butte\")"
   ]
  },
  {
   "cell_type": "code",
   "execution_count": 46,
   "metadata": {},
   "outputs": [],
   "source": [
    "df[\"county_date\"] = latest_date"
   ]
  },
  {
   "cell_type": "code",
   "execution_count": 47,
   "metadata": {},
   "outputs": [],
   "source": [
    "df = df[df.area != \"Region\"]"
   ]
  },
  {
   "cell_type": "markdown",
   "metadata": {},
   "source": [
    "## Vet"
   ]
  },
  {
   "cell_type": "code",
   "execution_count": 48,
   "metadata": {},
   "outputs": [],
   "source": [
    "try:\n",
    "    assert not len(df) > 6\n",
    "except AssertionError:\n",
    "    raise AssertionError(\"Butte County's city scraper has additional rows\")"
   ]
  },
  {
   "cell_type": "code",
   "execution_count": 49,
   "metadata": {},
   "outputs": [],
   "source": [
    "try:\n",
    "    assert not len(df) < 6\n",
    "except AssertionError:\n",
    "    raise AssertionError(\"Butte's city scraper is missing rows\")"
   ]
  },
  {
   "cell_type": "markdown",
   "metadata": {},
   "source": [
    "## Export"
   ]
  },
  {
   "cell_type": "markdown",
   "metadata": {},
   "source": [
    "Mark the current date"
   ]
  },
  {
   "cell_type": "code",
   "execution_count": 50,
   "metadata": {},
   "outputs": [],
   "source": [
    "tz = pytz.timezone(\"America/Los_Angeles\")"
   ]
  },
  {
   "cell_type": "code",
   "execution_count": 51,
   "metadata": {},
   "outputs": [],
   "source": [
    "today = datetime.now(tz).date()"
   ]
  },
  {
   "cell_type": "code",
   "execution_count": 52,
   "metadata": {},
   "outputs": [],
   "source": [
    "slug = \"butte\""
   ]
  },
  {
   "cell_type": "code",
   "execution_count": 53,
   "metadata": {},
   "outputs": [],
   "source": [
    "df.to_csv(data_dir / slug / f\"{today}.csv\", index=False)"
   ]
  },
  {
   "cell_type": "markdown",
   "metadata": {},
   "source": [
    "## Combine"
   ]
  },
  {
   "cell_type": "code",
   "execution_count": 54,
   "metadata": {},
   "outputs": [],
   "source": [
    "csv_list = [\n",
    "    i\n",
    "    for i in glob.glob(str(data_dir / slug / \"*.csv\"))\n",
    "    if not str(i).endswith(\"timeseries.csv\")\n",
    "]"
   ]
  },
  {
   "cell_type": "code",
   "execution_count": 55,
   "metadata": {},
   "outputs": [],
   "source": [
    "df_list = []\n",
    "for csv in csv_list:\n",
    "    if \"manual\" in csv:\n",
    "        df = pd.read_csv(csv, parse_dates=[\"date\"])\n",
    "    else:\n",
    "        file_date = csv.split(\"/\")[-1].replace(\".csv\", \"\")\n",
    "        df = pd.read_csv(csv, parse_dates=[\"county_date\"])\n",
    "        df[\"date\"] = file_date\n",
    "    df_list.append(df)"
   ]
  },
  {
   "cell_type": "code",
   "execution_count": 56,
   "metadata": {},
   "outputs": [],
   "source": [
    "df = pd.concat(df_list).sort_values([\"date\", \"area\"])"
   ]
  },
  {
   "cell_type": "code",
   "execution_count": 57,
   "metadata": {},
   "outputs": [],
   "source": [
    "df.to_csv(data_dir / slug / \"timeseries.csv\", index=False)"
   ]
  }
 ],
 "metadata": {
  "kernelspec": {
   "display_name": "Python 3 (ipykernel)",
   "language": "python",
   "name": "python3"
  },
  "language_info": {
   "codemirror_mode": {
    "name": "ipython",
    "version": 3
   },
   "file_extension": ".py",
   "mimetype": "text/x-python",
   "name": "python",
   "nbconvert_exporter": "python",
   "pygments_lexer": "ipython3",
   "version": "3.8.12"
  }
 },
 "nbformat": 4,
 "nbformat_minor": 4
}
