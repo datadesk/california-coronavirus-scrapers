{
 "cells": [
  {
   "cell_type": "markdown",
   "metadata": {},
   "source": [
    "## Configuration\n",
    "_Initial steps to get the notebook ready to play nice with our repository. Do not delete this section._"
   ]
  },
  {
   "cell_type": "markdown",
   "metadata": {},
   "source": [
    "Code formatting with [black](https://pypi.org/project/nb-black/)."
   ]
  },
  {
   "cell_type": "code",
   "execution_count": 1,
   "metadata": {
    "execution": {
     "iopub.execute_input": "2022-03-29T00:31:50.054035Z",
     "iopub.status.busy": "2022-03-29T00:31:50.053461Z",
     "iopub.status.idle": "2022-03-29T00:31:50.191657Z",
     "shell.execute_reply": "2022-03-29T00:31:50.190765Z"
    },
    "tags": []
   },
   "outputs": [],
   "source": [
    "%load_ext lab_black"
   ]
  },
  {
   "cell_type": "code",
   "execution_count": 2,
   "metadata": {
    "execution": {
     "iopub.execute_input": "2022-03-29T00:31:50.197917Z",
     "iopub.status.busy": "2022-03-29T00:31:50.197314Z",
     "iopub.status.idle": "2022-03-29T00:31:50.208160Z",
     "shell.execute_reply": "2022-03-29T00:31:50.207622Z"
    },
    "tags": []
   },
   "outputs": [],
   "source": [
    "import os\n",
    "import pytz\n",
    "import glob\n",
    "import pathlib\n",
    "\n",
    "this_dir = pathlib.Path(os.path.abspath(\"\"))\n",
    "data_dir = this_dir / \"data\""
   ]
  },
  {
   "cell_type": "code",
   "execution_count": 3,
   "metadata": {
    "execution": {
     "iopub.execute_input": "2022-03-29T00:31:50.213221Z",
     "iopub.status.busy": "2022-03-29T00:31:50.212626Z",
     "iopub.status.idle": "2022-03-29T00:31:50.584061Z",
     "shell.execute_reply": "2022-03-29T00:31:50.583066Z"
    },
    "tags": []
   },
   "outputs": [],
   "source": [
    "import requests\n",
    "import pandas as pd\n",
    "from slugify import slugify\n",
    "from datetime import datetime\n",
    "import json"
   ]
  },
  {
   "cell_type": "markdown",
   "metadata": {},
   "source": [
    "## Download"
   ]
  },
  {
   "cell_type": "markdown",
   "metadata": {},
   "source": [
    "Retrieve the data"
   ]
  },
  {
   "cell_type": "code",
   "execution_count": 4,
   "metadata": {
    "execution": {
     "iopub.execute_input": "2022-03-29T00:31:50.592267Z",
     "iopub.status.busy": "2022-03-29T00:31:50.590021Z",
     "iopub.status.idle": "2022-03-29T00:31:50.595272Z",
     "shell.execute_reply": "2022-03-29T00:31:50.596140Z"
    },
    "tags": []
   },
   "outputs": [],
   "source": [
    "POWER_BI_QUERY_URL = (\n",
    "    \"https://wabi-us-gov-iowa-api.analysis.usgovcloudapi.net/public/reports/querydata\"\n",
    ")\n",
    "REQUEST_PARAMS = ((\"synchronous\", \"true\"), (\"Connection\", \"keep-alive\"))\n",
    "# REQUEST_BODY = '{\"version\":\"1.0.0\",\"queries\":[{\"Query\":{\"Commands\":[{\"SemanticQueryDataShapeCommand\":{\"Query\":{\"Version\":2,\"From\":[{\"Name\":\"t1\",\"Entity\":\"tab2_cities\",\"Type\":0}],\"Select\":[{\"Column\":{\"Expression\":{\"SourceRef\":{\"Source\":\"t1\"}},\"Property\":\"cities\"},\"Name\":\"tab2_cities.cities\"},{\"Aggregation\":{\"Expression\":{\"Column\":{\"Expression\":{\"SourceRef\":{\"Source\":\"t1\"}},\"Property\":\"# Known Cases\"}},\"Function\":0},\"Name\":\"Sum(tab2_cities.# Known Cases)\"},{\"Column\":{\"Expression\":{\"SourceRef\":{\"Source\":\"t1\"}},\"Property\":\"% Known Cases\"},\"Name\":\"Sum(tab2_cities.% Known Cases)\"},{\"Column\":{\"Expression\":{\"SourceRef\":{\"Source\":\"t1\"}},\"Property\":\"% County Population\"},\"Name\":\"tab2_cities.% County Population\"}],\"OrderBy\":[{\"Direction\":1,\"Expression\":{\"Aggregation\":{\"Expression\":{\"Column\":{\"Expression\":{\"SourceRef\":{\"Source\":\"t1\"}},\"Property\":\"# Known Cases\"}},\"Function\":0}}}]},\"Binding\":{\"Primary\":{\"Groupings\":[{\"Projections\":[0,1,2,3]}]},\"DataReduction\":{\"DataVolume\":3,\"Primary\":{\"Window\":{\"Count\":500}}},\"Version\":1},\"ExecutionMetricsKind\":1}}]},\"CacheKey\":\"{\\\\\"Commands\\\\\":[{\\\\\"SemanticQueryDataShapeCommand\\\\\":{\\\\\"Query\\\\\":{\\\\\"Version\\\\\":2,\\\\\"From\\\\\":[{\\\\\"Name\\\\\":\\\\\"t1\\\\\",\\\\\"Entity\\\\\":\\\\\"tab2_cities\\\\\",\\\\\"Type\\\\\":0}],\\\\\"Select\\\\\":[{\\\\\"Column\\\\\":{\\\\\"Expression\\\\\":{\\\\\"SourceRef\\\\\":{\\\\\"Source\\\\\":\\\\\"t1\\\\\"}},\\\\\"Property\\\\\":\\\\\"cities\\\\\"},\\\\\"Name\\\\\":\\\\\"tab2_cities.cities\\\\\"},{\\\\\"Aggregation\\\\\":{\\\\\"Expression\\\\\":{\\\\\"Column\\\\\":{\\\\\"Expression\\\\\":{\\\\\"SourceRef\\\\\":{\\\\\"Source\\\\\":\\\\\"t1\\\\\"}},\\\\\"Property\\\\\":\\\\\"# Known Cases\\\\\"}},\\\\\"Function\\\\\":0},\\\\\"Name\\\\\":\\\\\"Sum(tab2_cities.# Known Cases)\\\\\"},{\\\\\"Column\\\\\":{\\\\\"Expression\\\\\":{\\\\\"SourceRef\\\\\":{\\\\\"Source\\\\\":\\\\\"t1\\\\\"}},\\\\\"Property\\\\\":\\\\\"% Known Cases\\\\\"},\\\\\"Name\\\\\":\\\\\"Sum(tab2_cities.% Known Cases)\\\\\"},{\\\\\"Column\\\\\":{\\\\\"Expression\\\\\":{\\\\\"SourceRef\\\\\":{\\\\\"Source\\\\\":\\\\\"t1\\\\\"}},\\\\\"Property\\\\\":\\\\\"% County Population\\\\\"},\\\\\"Name\\\\\":\\\\\"tab2_cities.% County Population\\\\\"}],\\\\\"OrderBy\\\\\":[{\\\\\"Direction\\\\\":1,\\\\\"Expression\\\\\":{\\\\\"Aggregation\\\\\":{\\\\\"Expression\\\\\":{\\\\\"Column\\\\\":{\\\\\"Expression\\\\\":{\\\\\"SourceRef\\\\\":{\\\\\"Source\\\\\":\\\\\"t1\\\\\"}},\\\\\"Property\\\\\":\\\\\"# Known Cases\\\\\"}},\\\\\"Function\\\\\":0}}}]},\\\\\"Binding\\\\\":{\\\\\"Primary\\\\\":{\\\\\"Groupings\\\\\":[{\\\\\"Projections\\\\\":[0,1,2,3]}]},\\\\\"DataReduction\\\\\":{\\\\\"DataVolume\\\\\":3,\\\\\"Primary\\\\\":{\\\\\"Window\\\\\":{\\\\\"Count\\\\\":500}}},\\\\\"Version\\\\\":1},\\\\\"ExecutionMetricsKind\\\\\":1}}]}\",\"QueryId\":\"\",\"ApplicationContext\":{\"DatasetId\":\"da83725f-fd62-480a-9a33-a73b06aa6bb1\",\"Sources\":[{\"ReportId\":\"5663b2c5-89c2-4903-bb89-0086bbd23b8a\",\"VisualId\":\"4dbc0385a9d366c66bd6\"}]}}],\"cancelQueries\":[],\"modelId\":350069}'"
   ]
  },
  {
   "cell_type": "code",
   "execution_count": 5,
   "metadata": {
    "execution": {
     "iopub.execute_input": "2022-03-29T00:31:50.603179Z",
     "iopub.status.busy": "2022-03-29T00:31:50.601116Z",
     "iopub.status.idle": "2022-03-29T00:31:50.608189Z",
     "shell.execute_reply": "2022-03-29T00:31:50.607097Z"
    }
   },
   "outputs": [],
   "source": [
    "REQUEST_BODY = '{\"version\":\"1.0.0\",\"queries\":[{\"Query\":{\"Commands\":[{\"SemanticQueryDataShapeCommand\":{\"Query\":{\"Version\":2,\"From\":[{\"Name\":\"t\",\"Entity\":\"tab2_zip\",\"Type\":0}],\"Select\":[{\"Column\":{\"Expression\":{\"SourceRef\":{\"Source\":\"t\"}},\"Property\":\"zips\"},\"Name\":\"tab2_zip.zips\"},{\"Aggregation\":{\"Expression\":{\"Column\":{\"Expression\":{\"SourceRef\":{\"Source\":\"t\"}},\"Property\":\"# Known Cases\"}},\"Function\":0},\"Name\":\"Sum(tab2_zip.# Known Cases)\"},{\"Aggregation\":{\"Expression\":{\"Column\":{\"Expression\":{\"SourceRef\":{\"Source\":\"t\"}},\"Property\":\"% Known Cases\"}},\"Function\":0},\"Name\":\"Sum(tab2_zip.% Known Cases)\"},{\"Aggregation\":{\"Expression\":{\"Column\":{\"Expression\":{\"SourceRef\":{\"Source\":\"t\"}},\"Property\":\"% County Population\"}},\"Function\":0},\"Name\":\"Sum(tab2_zip.% County Population)\"}]},\"Binding\":{\"Primary\":{\"Groupings\":[{\"Projections\":[0,1,2,3]}]},\"DataReduction\":{\"DataVolume\":3,\"Primary\":{\"Top\":{\"Count\":30000}}},\"Version\":1,\"Highlights\":[{\"Version\":2,\"From\":[{\"Name\":\"t\",\"Entity\":\"tab2_zip\",\"Type\":0}],\"Where\":[{\"Condition\":{\"In\":{\"Expressions\":[{\"Column\":{\"Expression\":{\"SourceRef\":{\"Source\":\"t\"}},\"Property\":\"zips\"}}],\"Values\":[[{\"Literal\":{\"Value\":\"\\'95067\\'\"}}]]}}}]}]},\"ExecutionMetricsKind\":1}}]},\"QueryId\":\"\",\"ApplicationContext\":{\"DatasetId\":\"bd81ee59-dda3-44d6-a3a1-236bee18fe5d\",\"Sources\":[{\"ReportId\":\"f129b0d3-3db0-46fd-b627-f4b0543ed028\",\"VisualId\":\"b3260308f719b39b9973\"}]}}],\"cancelQueries\":[],\"modelId\":369251}'"
   ]
  },
  {
   "cell_type": "code",
   "execution_count": 6,
   "metadata": {
    "execution": {
     "iopub.execute_input": "2022-03-29T00:31:50.616456Z",
     "iopub.status.busy": "2022-03-29T00:31:50.614873Z",
     "iopub.status.idle": "2022-03-29T00:31:50.629021Z",
     "shell.execute_reply": "2022-03-29T00:31:50.628498Z"
    }
   },
   "outputs": [],
   "source": [
    "headers = {\n",
    "    \"Host\": \"wabi-us-gov-iowa-api.analysis.usgovcloudapi.net\",\n",
    "    \"Connection\": \"keep-alive\",\n",
    "    \"Content-Length\": \"2423\",\n",
    "    \"Pragma\": \"no-cache\",\n",
    "    \"Cache-Control\": \"no-cache\",\n",
    "    \"Accept\": \"application/json, text/plain, */*\",\n",
    "    \"RequestId\": \"292cbfb4-7c1f-02ee-0494-d3d613eede46\",  # change\n",
    "    \"DNT\": \"1\",\n",
    "    \"X-PowerBI-ResourceKey\": \"f75b3578-0ecc-401c-9e6a-b79135c32922\",  # change\n",
    "    \"Content-Type\": \"application/json;charset=UTF-8\",\n",
    "    \"User-Agent\": \"Mozilla/5.0 (Macintosh; Intel Mac OS X 10_13_6) AppleWebKit/537.36 (KHTML, like Gecko) Chrome/87.0.4280.88 Safari/537.36\",\n",
    "    \"ActivityId\": \"ae900a2e-d369-49d9-8f98-826c3af308a5\",\n",
    "    \"Origin\": \"https://app.powerbigov.us\",\n",
    "    \"Sec-Fetch-Site\": \"cross-site\",\n",
    "    \"Sec-Fetch-Mode\": \"cors\",\n",
    "    \"Sec-Fetch-Dest\": \"empty\",\n",
    "    \"Referer\": \"https://app.powerbigov.us/\",\n",
    "    \"Accept-Encoding\": \"gzip, deflate, br\",\n",
    "    \"Accept-Language\": \"en-US,en;q=0.9,da;q=0.8\",\n",
    "}\n",
    "json_data = json.loads(REQUEST_BODY)"
   ]
  },
  {
   "cell_type": "code",
   "execution_count": 7,
   "metadata": {
    "execution": {
     "iopub.execute_input": "2022-03-29T00:31:50.633983Z",
     "iopub.status.busy": "2022-03-29T00:31:50.633052Z",
     "iopub.status.idle": "2022-03-29T00:31:51.105981Z",
     "shell.execute_reply": "2022-03-29T00:31:51.106436Z"
    },
    "tags": []
   },
   "outputs": [
    {
     "name": "stderr",
     "output_type": "stream",
     "text": [
      "/home/runner/.local/share/virtualenvs/california-coronavirus-scrapers-dxuBXRsm/lib/python3.8/site-packages/urllib3/connectionpool.py:1013: InsecureRequestWarning: Unverified HTTPS request is being made to host 'wabi-us-gov-iowa-api.analysis.usgovcloudapi.net'. Adding certificate verification is strongly advised. See: https://urllib3.readthedocs.io/en/1.26.x/advanced-usage.html#ssl-warnings\n",
      "  warnings.warn(\n"
     ]
    }
   ],
   "source": [
    "response = requests.post(\n",
    "    POWER_BI_QUERY_URL,\n",
    "    params=REQUEST_PARAMS,\n",
    "    headers=headers,\n",
    "    json=json_data,\n",
    "    verify=False,\n",
    ")"
   ]
  },
  {
   "cell_type": "code",
   "execution_count": 8,
   "metadata": {
    "execution": {
     "iopub.execute_input": "2022-03-29T00:31:51.111154Z",
     "iopub.status.busy": "2022-03-29T00:31:51.108941Z",
     "iopub.status.idle": "2022-03-29T00:31:51.254640Z",
     "shell.execute_reply": "2022-03-29T00:31:51.252097Z"
    },
    "tags": []
   },
   "outputs": [
    {
     "ename": "JSONDecodeError",
     "evalue": "Expecting value: line 1 column 1 (char 0)",
     "output_type": "error",
     "traceback": [
      "\u001b[0;31m---------------------------------------------------------------------------\u001b[0m",
      "\u001b[0;31mJSONDecodeError\u001b[0m                           Traceback (most recent call last)",
      "\u001b[0;32m/tmp/ipykernel_2681/2823497748.py\u001b[0m in \u001b[0;36m<module>\u001b[0;34m\u001b[0m\n\u001b[0;32m----> 1\u001b[0;31m \u001b[0mdata\u001b[0m \u001b[0;34m=\u001b[0m \u001b[0mresponse\u001b[0m\u001b[0;34m.\u001b[0m\u001b[0mjson\u001b[0m\u001b[0;34m(\u001b[0m\u001b[0;34m)\u001b[0m\u001b[0;34m\u001b[0m\u001b[0;34m\u001b[0m\u001b[0m\n\u001b[0m",
      "\u001b[0;32m~/.local/share/virtualenvs/california-coronavirus-scrapers-dxuBXRsm/lib/python3.8/site-packages/requests/models.py\u001b[0m in \u001b[0;36mjson\u001b[0;34m(self, **kwargs)\u001b[0m\n\u001b[1;32m    908\u001b[0m                     \u001b[0;31m# used.\u001b[0m\u001b[0;34m\u001b[0m\u001b[0;34m\u001b[0m\u001b[0;34m\u001b[0m\u001b[0m\n\u001b[1;32m    909\u001b[0m                     \u001b[0;32mpass\u001b[0m\u001b[0;34m\u001b[0m\u001b[0;34m\u001b[0m\u001b[0m\n\u001b[0;32m--> 910\u001b[0;31m         \u001b[0;32mreturn\u001b[0m \u001b[0mcomplexjson\u001b[0m\u001b[0;34m.\u001b[0m\u001b[0mloads\u001b[0m\u001b[0;34m(\u001b[0m\u001b[0mself\u001b[0m\u001b[0;34m.\u001b[0m\u001b[0mtext\u001b[0m\u001b[0;34m,\u001b[0m \u001b[0;34m**\u001b[0m\u001b[0mkwargs\u001b[0m\u001b[0;34m)\u001b[0m\u001b[0;34m\u001b[0m\u001b[0;34m\u001b[0m\u001b[0m\n\u001b[0m\u001b[1;32m    911\u001b[0m \u001b[0;34m\u001b[0m\u001b[0m\n\u001b[1;32m    912\u001b[0m     \u001b[0;34m@\u001b[0m\u001b[0mproperty\u001b[0m\u001b[0;34m\u001b[0m\u001b[0;34m\u001b[0m\u001b[0m\n",
      "\u001b[0;32m/opt/hostedtoolcache/Python/3.8.12/x64/lib/python3.8/json/__init__.py\u001b[0m in \u001b[0;36mloads\u001b[0;34m(s, cls, object_hook, parse_float, parse_int, parse_constant, object_pairs_hook, **kw)\u001b[0m\n\u001b[1;32m    355\u001b[0m             \u001b[0mparse_int\u001b[0m \u001b[0;32mis\u001b[0m \u001b[0;32mNone\u001b[0m \u001b[0;32mand\u001b[0m \u001b[0mparse_float\u001b[0m \u001b[0;32mis\u001b[0m \u001b[0;32mNone\u001b[0m \u001b[0;32mand\u001b[0m\u001b[0;34m\u001b[0m\u001b[0;34m\u001b[0m\u001b[0m\n\u001b[1;32m    356\u001b[0m             parse_constant is None and object_pairs_hook is None and not kw):\n\u001b[0;32m--> 357\u001b[0;31m         \u001b[0;32mreturn\u001b[0m \u001b[0m_default_decoder\u001b[0m\u001b[0;34m.\u001b[0m\u001b[0mdecode\u001b[0m\u001b[0;34m(\u001b[0m\u001b[0ms\u001b[0m\u001b[0;34m)\u001b[0m\u001b[0;34m\u001b[0m\u001b[0;34m\u001b[0m\u001b[0m\n\u001b[0m\u001b[1;32m    358\u001b[0m     \u001b[0;32mif\u001b[0m \u001b[0mcls\u001b[0m \u001b[0;32mis\u001b[0m \u001b[0;32mNone\u001b[0m\u001b[0;34m:\u001b[0m\u001b[0;34m\u001b[0m\u001b[0;34m\u001b[0m\u001b[0m\n\u001b[1;32m    359\u001b[0m         \u001b[0mcls\u001b[0m \u001b[0;34m=\u001b[0m \u001b[0mJSONDecoder\u001b[0m\u001b[0;34m\u001b[0m\u001b[0;34m\u001b[0m\u001b[0m\n",
      "\u001b[0;32m/opt/hostedtoolcache/Python/3.8.12/x64/lib/python3.8/json/decoder.py\u001b[0m in \u001b[0;36mdecode\u001b[0;34m(self, s, _w)\u001b[0m\n\u001b[1;32m    335\u001b[0m \u001b[0;34m\u001b[0m\u001b[0m\n\u001b[1;32m    336\u001b[0m         \"\"\"\n\u001b[0;32m--> 337\u001b[0;31m         \u001b[0mobj\u001b[0m\u001b[0;34m,\u001b[0m \u001b[0mend\u001b[0m \u001b[0;34m=\u001b[0m \u001b[0mself\u001b[0m\u001b[0;34m.\u001b[0m\u001b[0mraw_decode\u001b[0m\u001b[0;34m(\u001b[0m\u001b[0ms\u001b[0m\u001b[0;34m,\u001b[0m \u001b[0midx\u001b[0m\u001b[0;34m=\u001b[0m\u001b[0m_w\u001b[0m\u001b[0;34m(\u001b[0m\u001b[0ms\u001b[0m\u001b[0;34m,\u001b[0m \u001b[0;36m0\u001b[0m\u001b[0;34m)\u001b[0m\u001b[0;34m.\u001b[0m\u001b[0mend\u001b[0m\u001b[0;34m(\u001b[0m\u001b[0;34m)\u001b[0m\u001b[0;34m)\u001b[0m\u001b[0;34m\u001b[0m\u001b[0;34m\u001b[0m\u001b[0m\n\u001b[0m\u001b[1;32m    338\u001b[0m         \u001b[0mend\u001b[0m \u001b[0;34m=\u001b[0m \u001b[0m_w\u001b[0m\u001b[0;34m(\u001b[0m\u001b[0ms\u001b[0m\u001b[0;34m,\u001b[0m \u001b[0mend\u001b[0m\u001b[0;34m)\u001b[0m\u001b[0;34m.\u001b[0m\u001b[0mend\u001b[0m\u001b[0;34m(\u001b[0m\u001b[0;34m)\u001b[0m\u001b[0;34m\u001b[0m\u001b[0;34m\u001b[0m\u001b[0m\n\u001b[1;32m    339\u001b[0m         \u001b[0;32mif\u001b[0m \u001b[0mend\u001b[0m \u001b[0;34m!=\u001b[0m \u001b[0mlen\u001b[0m\u001b[0;34m(\u001b[0m\u001b[0ms\u001b[0m\u001b[0;34m)\u001b[0m\u001b[0;34m:\u001b[0m\u001b[0;34m\u001b[0m\u001b[0;34m\u001b[0m\u001b[0m\n",
      "\u001b[0;32m/opt/hostedtoolcache/Python/3.8.12/x64/lib/python3.8/json/decoder.py\u001b[0m in \u001b[0;36mraw_decode\u001b[0;34m(self, s, idx)\u001b[0m\n\u001b[1;32m    353\u001b[0m             \u001b[0mobj\u001b[0m\u001b[0;34m,\u001b[0m \u001b[0mend\u001b[0m \u001b[0;34m=\u001b[0m \u001b[0mself\u001b[0m\u001b[0;34m.\u001b[0m\u001b[0mscan_once\u001b[0m\u001b[0;34m(\u001b[0m\u001b[0ms\u001b[0m\u001b[0;34m,\u001b[0m \u001b[0midx\u001b[0m\u001b[0;34m)\u001b[0m\u001b[0;34m\u001b[0m\u001b[0;34m\u001b[0m\u001b[0m\n\u001b[1;32m    354\u001b[0m         \u001b[0;32mexcept\u001b[0m \u001b[0mStopIteration\u001b[0m \u001b[0;32mas\u001b[0m \u001b[0merr\u001b[0m\u001b[0;34m:\u001b[0m\u001b[0;34m\u001b[0m\u001b[0;34m\u001b[0m\u001b[0m\n\u001b[0;32m--> 355\u001b[0;31m             \u001b[0;32mraise\u001b[0m \u001b[0mJSONDecodeError\u001b[0m\u001b[0;34m(\u001b[0m\u001b[0;34m\"Expecting value\"\u001b[0m\u001b[0;34m,\u001b[0m \u001b[0ms\u001b[0m\u001b[0;34m,\u001b[0m \u001b[0merr\u001b[0m\u001b[0;34m.\u001b[0m\u001b[0mvalue\u001b[0m\u001b[0;34m)\u001b[0m \u001b[0;32mfrom\u001b[0m \u001b[0;32mNone\u001b[0m\u001b[0;34m\u001b[0m\u001b[0;34m\u001b[0m\u001b[0m\n\u001b[0m\u001b[1;32m    356\u001b[0m         \u001b[0;32mreturn\u001b[0m \u001b[0mobj\u001b[0m\u001b[0;34m,\u001b[0m \u001b[0mend\u001b[0m\u001b[0;34m\u001b[0m\u001b[0;34m\u001b[0m\u001b[0m\n",
      "\u001b[0;31mJSONDecodeError\u001b[0m: Expecting value: line 1 column 1 (char 0)"
     ]
    }
   ],
   "source": [
    "data = response.json()"
   ]
  },
  {
   "cell_type": "code",
   "execution_count": 41,
   "metadata": {
    "tags": []
   },
   "outputs": [],
   "source": [
    "timestamp = response.headers[\"Date\"]"
   ]
  },
  {
   "cell_type": "code",
   "execution_count": 42,
   "metadata": {},
   "outputs": [
    {
     "data": {
      "text/plain": [
       "'Fri, 25 Feb 2022 04:00:24 GMT'"
      ]
     },
     "execution_count": 42,
     "metadata": {},
     "output_type": "execute_result"
    }
   ],
   "source": [
    "timestamp"
   ]
  },
  {
   "cell_type": "code",
   "execution_count": 43,
   "metadata": {
    "tags": []
   },
   "outputs": [],
   "source": [
    "ds = data[\"results\"][0][\"result\"][\"data\"][\"dsr\"][\"DS\"][0]"
   ]
  },
  {
   "cell_type": "code",
   "execution_count": 44,
   "metadata": {},
   "outputs": [
    {
     "data": {
      "text/plain": [
       "{'N': 'DS0',\n",
       " 'PH': [{'DM0': [{'S': [{'N': 'G0', 'T': 1},\n",
       "      {'N': 'M0', 'T': 4},\n",
       "      {'N': 'H0', 'T': 4},\n",
       "      {'N': 'M1', 'T': 3},\n",
       "      {'N': 'H1', 'T': 3},\n",
       "      {'N': 'M2', 'T': 3},\n",
       "      {'N': 'H2', 'T': 3}],\n",
       "     'C': ['95001', 122, 0.26, 0],\n",
       "     'Ø': 84},\n",
       "    {'C': ['95003', 2953, 6.41, 8.586215], 'R': 84},\n",
       "    {'C': ['95005', 696, 1.51, 2.6118322], 'R': 84},\n",
       "    {'C': ['95006', 820, 1.78, 3.2837968], 'R': 84},\n",
       "    {'C': ['95007', 100, 0.22, 0.1275062], 'R': 84},\n",
       "    {'C': ['95010', 1458, 3.16, 3.0192384], 'R': 84},\n",
       "    {'C': ['95017', 77, 0.17, 0.2321704], 'R': 84},\n",
       "    {'C': ['95018', 861, 1.87, 2.3322731], 'R': 84},\n",
       "    {'C': ['95019', 2109, 4.58, 2.5119409], 'R': 84},\n",
       "    {'C': ['95033', 343, 0.74, 3.2425448], 'R': 84},\n",
       "    {'C': ['95041', 90, 0.2, 0.1486436], 'R': 84},\n",
       "    {'C': ['95060', 6461, 14.02, 16.2965918], 'R': 84},\n",
       "    {'C': ['95062', 5596, 12.14, 12.5245893], 'R': 84},\n",
       "    {'C': ['95063', 97, 0.21, 0], 'R': 84},\n",
       "    {'C': ['95064', 619, 1.34, 3.5749474], 'R': 84},\n",
       "    {'C': ['95065', 1231, 2.67, 2.8948005], 'R': 84},\n",
       "    {'C': ['95066', 1846, 4, 5.2301419], 'R': 84},\n",
       "    {'C': ['95067', 46, 46, 0.1, 0.1, 0, 0]},\n",
       "    {'C': ['95073', 1415, 3.07, 3.7546153], 'Ø': 84},\n",
       "    {'C': ['95076', 18548, 40.24, 29.6281523], 'R': 84},\n",
       "    {'C': ['Under investigation', 606, 1.31, 0], 'R': 84}]}],\n",
       " 'IC': True,\n",
       " 'HAD': True}"
      ]
     },
     "execution_count": 44,
     "metadata": {},
     "output_type": "execute_result"
    }
   ],
   "source": [
    "ds"
   ]
  },
  {
   "cell_type": "markdown",
   "metadata": {},
   "source": [
    "## Parse"
   ]
  },
  {
   "cell_type": "code",
   "execution_count": 45,
   "metadata": {},
   "outputs": [],
   "source": [
    "rows = ds[\"PH\"][0][\"DM0\"][1:]"
   ]
  },
  {
   "cell_type": "code",
   "execution_count": 46,
   "metadata": {},
   "outputs": [
    {
     "data": {
      "text/plain": [
       "[{'C': ['95003', 2953, 6.41, 8.586215], 'R': 84},\n",
       " {'C': ['95005', 696, 1.51, 2.6118322], 'R': 84},\n",
       " {'C': ['95006', 820, 1.78, 3.2837968], 'R': 84},\n",
       " {'C': ['95007', 100, 0.22, 0.1275062], 'R': 84},\n",
       " {'C': ['95010', 1458, 3.16, 3.0192384], 'R': 84},\n",
       " {'C': ['95017', 77, 0.17, 0.2321704], 'R': 84},\n",
       " {'C': ['95018', 861, 1.87, 2.3322731], 'R': 84},\n",
       " {'C': ['95019', 2109, 4.58, 2.5119409], 'R': 84},\n",
       " {'C': ['95033', 343, 0.74, 3.2425448], 'R': 84},\n",
       " {'C': ['95041', 90, 0.2, 0.1486436], 'R': 84},\n",
       " {'C': ['95060', 6461, 14.02, 16.2965918], 'R': 84},\n",
       " {'C': ['95062', 5596, 12.14, 12.5245893], 'R': 84},\n",
       " {'C': ['95063', 97, 0.21, 0], 'R': 84},\n",
       " {'C': ['95064', 619, 1.34, 3.5749474], 'R': 84},\n",
       " {'C': ['95065', 1231, 2.67, 2.8948005], 'R': 84},\n",
       " {'C': ['95066', 1846, 4, 5.2301419], 'R': 84},\n",
       " {'C': ['95067', 46, 46, 0.1, 0.1, 0, 0]},\n",
       " {'C': ['95073', 1415, 3.07, 3.7546153], 'Ø': 84},\n",
       " {'C': ['95076', 18548, 40.24, 29.6281523], 'R': 84},\n",
       " {'C': ['Under investigation', 606, 1.31, 0], 'R': 84}]"
      ]
     },
     "execution_count": 46,
     "metadata": {},
     "output_type": "execute_result"
    }
   ],
   "source": [
    "rows"
   ]
  },
  {
   "cell_type": "code",
   "execution_count": 47,
   "metadata": {},
   "outputs": [],
   "source": [
    "confirmed_cases = []\n",
    "\n",
    "for r in rows:\n",
    "    confirmed_cases.append(r[\"C\"][0:2])"
   ]
  },
  {
   "cell_type": "code",
   "execution_count": 48,
   "metadata": {},
   "outputs": [
    {
     "data": {
      "text/plain": [
       "[['95003', 2953],\n",
       " ['95005', 696],\n",
       " ['95006', 820],\n",
       " ['95007', 100],\n",
       " ['95010', 1458],\n",
       " ['95017', 77],\n",
       " ['95018', 861],\n",
       " ['95019', 2109],\n",
       " ['95033', 343],\n",
       " ['95041', 90],\n",
       " ['95060', 6461],\n",
       " ['95062', 5596],\n",
       " ['95063', 97],\n",
       " ['95064', 619],\n",
       " ['95065', 1231],\n",
       " ['95066', 1846],\n",
       " ['95067', 46],\n",
       " ['95073', 1415],\n",
       " ['95076', 18548],\n",
       " ['Under investigation', 606]]"
      ]
     },
     "execution_count": 48,
     "metadata": {},
     "output_type": "execute_result"
    }
   ],
   "source": [
    "confirmed_cases"
   ]
  },
  {
   "cell_type": "code",
   "execution_count": 113,
   "metadata": {},
   "outputs": [],
   "source": [
    "df = pd.DataFrame(confirmed_cases, columns=[\"zip\", \"confirmed_cases\"])\n",
    "df.insert(0, \"county\", \"Santa Cruz\")"
   ]
  },
  {
   "cell_type": "markdown",
   "metadata": {},
   "source": [
    "## Combine"
   ]
  },
  {
   "cell_type": "markdown",
   "metadata": {},
   "source": [
    "Combine zips that overlap"
   ]
  },
  {
   "cell_type": "code",
   "execution_count": 114,
   "metadata": {},
   "outputs": [],
   "source": [
    "pairs = {\"95041\": \"95018\", \"95063\": \"95062\", \"95067\": \"95066\"}"
   ]
  },
  {
   "cell_type": "code",
   "execution_count": 115,
   "metadata": {},
   "outputs": [],
   "source": [
    "for k, v in pairs.items():\n",
    "    df.loc[df.zip == v, \"confirmed_cases\"] = (\n",
    "        df.loc[df.zip == v, \"confirmed_cases\"].item()\n",
    "        + df.loc[df.zip == k, \"confirmed_cases\"].item()\n",
    "    )"
   ]
  },
  {
   "cell_type": "code",
   "execution_count": 116,
   "metadata": {},
   "outputs": [
    {
     "data": {
      "text/html": [
       "<div>\n",
       "<style scoped>\n",
       "    .dataframe tbody tr th:only-of-type {\n",
       "        vertical-align: middle;\n",
       "    }\n",
       "\n",
       "    .dataframe tbody tr th {\n",
       "        vertical-align: top;\n",
       "    }\n",
       "\n",
       "    .dataframe thead th {\n",
       "        text-align: right;\n",
       "    }\n",
       "</style>\n",
       "<table border=\"1\" class=\"dataframe\">\n",
       "  <thead>\n",
       "    <tr style=\"text-align: right;\">\n",
       "      <th></th>\n",
       "      <th>county</th>\n",
       "      <th>zip</th>\n",
       "      <th>confirmed_cases</th>\n",
       "    </tr>\n",
       "  </thead>\n",
       "  <tbody>\n",
       "    <tr>\n",
       "      <th>0</th>\n",
       "      <td>Santa Cruz</td>\n",
       "      <td>95003</td>\n",
       "      <td>2953</td>\n",
       "    </tr>\n",
       "    <tr>\n",
       "      <th>1</th>\n",
       "      <td>Santa Cruz</td>\n",
       "      <td>95005</td>\n",
       "      <td>696</td>\n",
       "    </tr>\n",
       "    <tr>\n",
       "      <th>2</th>\n",
       "      <td>Santa Cruz</td>\n",
       "      <td>95006</td>\n",
       "      <td>820</td>\n",
       "    </tr>\n",
       "    <tr>\n",
       "      <th>3</th>\n",
       "      <td>Santa Cruz</td>\n",
       "      <td>95007</td>\n",
       "      <td>100</td>\n",
       "    </tr>\n",
       "    <tr>\n",
       "      <th>4</th>\n",
       "      <td>Santa Cruz</td>\n",
       "      <td>95010</td>\n",
       "      <td>1458</td>\n",
       "    </tr>\n",
       "    <tr>\n",
       "      <th>5</th>\n",
       "      <td>Santa Cruz</td>\n",
       "      <td>95017</td>\n",
       "      <td>77</td>\n",
       "    </tr>\n",
       "    <tr>\n",
       "      <th>6</th>\n",
       "      <td>Santa Cruz</td>\n",
       "      <td>95018</td>\n",
       "      <td>951</td>\n",
       "    </tr>\n",
       "    <tr>\n",
       "      <th>7</th>\n",
       "      <td>Santa Cruz</td>\n",
       "      <td>95019</td>\n",
       "      <td>2109</td>\n",
       "    </tr>\n",
       "    <tr>\n",
       "      <th>8</th>\n",
       "      <td>Santa Cruz</td>\n",
       "      <td>95033</td>\n",
       "      <td>343</td>\n",
       "    </tr>\n",
       "    <tr>\n",
       "      <th>9</th>\n",
       "      <td>Santa Cruz</td>\n",
       "      <td>95041</td>\n",
       "      <td>90</td>\n",
       "    </tr>\n",
       "    <tr>\n",
       "      <th>10</th>\n",
       "      <td>Santa Cruz</td>\n",
       "      <td>95060</td>\n",
       "      <td>6461</td>\n",
       "    </tr>\n",
       "    <tr>\n",
       "      <th>11</th>\n",
       "      <td>Santa Cruz</td>\n",
       "      <td>95062</td>\n",
       "      <td>5693</td>\n",
       "    </tr>\n",
       "    <tr>\n",
       "      <th>12</th>\n",
       "      <td>Santa Cruz</td>\n",
       "      <td>95063</td>\n",
       "      <td>97</td>\n",
       "    </tr>\n",
       "    <tr>\n",
       "      <th>13</th>\n",
       "      <td>Santa Cruz</td>\n",
       "      <td>95064</td>\n",
       "      <td>619</td>\n",
       "    </tr>\n",
       "    <tr>\n",
       "      <th>14</th>\n",
       "      <td>Santa Cruz</td>\n",
       "      <td>95065</td>\n",
       "      <td>1231</td>\n",
       "    </tr>\n",
       "    <tr>\n",
       "      <th>15</th>\n",
       "      <td>Santa Cruz</td>\n",
       "      <td>95066</td>\n",
       "      <td>1892</td>\n",
       "    </tr>\n",
       "    <tr>\n",
       "      <th>16</th>\n",
       "      <td>Santa Cruz</td>\n",
       "      <td>95067</td>\n",
       "      <td>46</td>\n",
       "    </tr>\n",
       "    <tr>\n",
       "      <th>17</th>\n",
       "      <td>Santa Cruz</td>\n",
       "      <td>95073</td>\n",
       "      <td>1415</td>\n",
       "    </tr>\n",
       "    <tr>\n",
       "      <th>18</th>\n",
       "      <td>Santa Cruz</td>\n",
       "      <td>95076</td>\n",
       "      <td>18548</td>\n",
       "    </tr>\n",
       "    <tr>\n",
       "      <th>19</th>\n",
       "      <td>Santa Cruz</td>\n",
       "      <td>Under investigation</td>\n",
       "      <td>606</td>\n",
       "    </tr>\n",
       "  </tbody>\n",
       "</table>\n",
       "</div>"
      ],
      "text/plain": [
       "        county                  zip  confirmed_cases\n",
       "0   Santa Cruz                95003             2953\n",
       "1   Santa Cruz                95005              696\n",
       "2   Santa Cruz                95006              820\n",
       "3   Santa Cruz                95007              100\n",
       "4   Santa Cruz                95010             1458\n",
       "5   Santa Cruz                95017               77\n",
       "6   Santa Cruz                95018              951\n",
       "7   Santa Cruz                95019             2109\n",
       "8   Santa Cruz                95033              343\n",
       "9   Santa Cruz                95041               90\n",
       "10  Santa Cruz                95060             6461\n",
       "11  Santa Cruz                95062             5693\n",
       "12  Santa Cruz                95063               97\n",
       "13  Santa Cruz                95064              619\n",
       "14  Santa Cruz                95065             1231\n",
       "15  Santa Cruz                95066             1892\n",
       "16  Santa Cruz                95067               46\n",
       "17  Santa Cruz                95073             1415\n",
       "18  Santa Cruz                95076            18548\n",
       "19  Santa Cruz  Under investigation              606"
      ]
     },
     "execution_count": 116,
     "metadata": {},
     "output_type": "execute_result"
    }
   ],
   "source": [
    "df"
   ]
  },
  {
   "cell_type": "code",
   "execution_count": 122,
   "metadata": {},
   "outputs": [],
   "source": [
    "df = df[~df.zip.isin(pairs.keys())].copy()"
   ]
  },
  {
   "cell_type": "code",
   "execution_count": 123,
   "metadata": {},
   "outputs": [],
   "source": [
    "df[\"county_date\"] = pd.to_datetime(timestamp)"
   ]
  },
  {
   "cell_type": "code",
   "execution_count": 124,
   "metadata": {},
   "outputs": [],
   "source": [
    "df[\"county_date\"] = df[\"county_date\"].dt.tz_convert(\"US/Pacific\")"
   ]
  },
  {
   "cell_type": "code",
   "execution_count": 125,
   "metadata": {},
   "outputs": [],
   "source": [
    "df[\"county_date\"] = df[\"county_date\"].dt.strftime(\"%Y-%m-%d\")"
   ]
  },
  {
   "cell_type": "code",
   "execution_count": 126,
   "metadata": {},
   "outputs": [],
   "source": [
    "df.rename(columns={\"zip\": \"area\"}, inplace=True)"
   ]
  },
  {
   "cell_type": "code",
   "execution_count": 127,
   "metadata": {},
   "outputs": [
    {
     "data": {
      "text/plain": [
       "dict_keys(['95041', '95063', '95067'])"
      ]
     },
     "execution_count": 127,
     "metadata": {},
     "output_type": "execute_result"
    }
   ],
   "source": [
    "pairs.keys()"
   ]
  },
  {
   "cell_type": "markdown",
   "metadata": {
    "tags": []
   },
   "source": [
    "## Vet"
   ]
  },
  {
   "cell_type": "code",
   "execution_count": 130,
   "metadata": {},
   "outputs": [],
   "source": [
    "try:\n",
    "    assert not len(df) > 17\n",
    "except AssertionError:\n",
    "    raise AssertionError(\"Santa Cruz' scraper has extra rows\")"
   ]
  },
  {
   "cell_type": "code",
   "execution_count": 131,
   "metadata": {},
   "outputs": [],
   "source": [
    "try:\n",
    "    assert not len(df) < 17\n",
    "except AssertionError:\n",
    "    raise AssertionError(\"Santa Cruz' scraper is missing rows\")"
   ]
  },
  {
   "cell_type": "markdown",
   "metadata": {},
   "source": [
    "## Export"
   ]
  },
  {
   "cell_type": "markdown",
   "metadata": {},
   "source": [
    "Set date"
   ]
  },
  {
   "cell_type": "code",
   "execution_count": 132,
   "metadata": {},
   "outputs": [],
   "source": [
    "tz = pytz.timezone(\"America/Los_Angeles\")"
   ]
  },
  {
   "cell_type": "code",
   "execution_count": 133,
   "metadata": {},
   "outputs": [],
   "source": [
    "today = datetime.now(tz).date()"
   ]
  },
  {
   "cell_type": "code",
   "execution_count": 134,
   "metadata": {},
   "outputs": [],
   "source": [
    "slug = \"santa-cruz\""
   ]
  },
  {
   "cell_type": "code",
   "execution_count": 135,
   "metadata": {},
   "outputs": [],
   "source": [
    "df.to_csv(data_dir / slug / f\"{today}.csv\", index=False)"
   ]
  },
  {
   "cell_type": "markdown",
   "metadata": {},
   "source": [
    "## Combine"
   ]
  },
  {
   "cell_type": "code",
   "execution_count": 136,
   "metadata": {},
   "outputs": [],
   "source": [
    "csv_list = [\n",
    "    i\n",
    "    for i in glob.glob(str(data_dir / slug / \"*.csv\"))\n",
    "    if not str(i).endswith(\"timeseries.csv\")\n",
    "]"
   ]
  },
  {
   "cell_type": "code",
   "execution_count": 137,
   "metadata": {},
   "outputs": [],
   "source": [
    "df_list = []\n",
    "for csv in csv_list:\n",
    "    if \"manual\" in csv:\n",
    "        df = pd.read_csv(csv, parse_dates=[\"date\"])\n",
    "    else:\n",
    "        file_date = csv.split(\"/\")[-1].replace(\".csv\", \"\")\n",
    "        df = pd.read_csv(csv, parse_dates=[\"county_date\"])\n",
    "        df[\"date\"] = file_date\n",
    "    df_list.append(df)"
   ]
  },
  {
   "cell_type": "code",
   "execution_count": 138,
   "metadata": {},
   "outputs": [],
   "source": [
    "df = pd.concat(df_list).sort_values([\"date\", \"area\"])"
   ]
  },
  {
   "cell_type": "code",
   "execution_count": 139,
   "metadata": {},
   "outputs": [],
   "source": [
    "df.to_csv(data_dir / slug / \"timeseries.csv\", index=False)"
   ]
  },
  {
   "cell_type": "code",
   "execution_count": null,
   "metadata": {},
   "outputs": [],
   "source": []
  }
 ],
 "metadata": {
  "kernelspec": {
   "display_name": "Python 3 (ipykernel)",
   "language": "python",
   "name": "python3"
  },
  "language_info": {
   "codemirror_mode": {
    "name": "ipython",
    "version": 3
   },
   "file_extension": ".py",
   "mimetype": "text/x-python",
   "name": "python",
   "nbconvert_exporter": "python",
   "pygments_lexer": "ipython3",
   "version": "3.8.12"
  }
 },
 "nbformat": 4,
 "nbformat_minor": 4
}
